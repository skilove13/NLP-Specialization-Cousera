{
  "nbformat": 4,
  "nbformat_minor": 0,
  "metadata": {
    "colab": {
      "name": "C1_W1_Assignment.ipynb",
      "provenance": [],
      "collapsed_sections": [],
      "authorship_tag": "ABX9TyMlFpp9PDhr/k63K4rLNIq3",
      "include_colab_link": true
    },
    "kernelspec": {
      "name": "python3",
      "display_name": "Python 3"
    },
    "language_info": {
      "name": "python"
    },
    "accelerator": "GPU"
  },
  "cells": [
    {
      "cell_type": "markdown",
      "metadata": {
        "id": "view-in-github",
        "colab_type": "text"
      },
      "source": [
        "<a href=\"https://colab.research.google.com/github/skilove13/NLP-Specialization-Cousera/blob/main/C1_W1_Assignment.ipynb\" target=\"_parent\"><img src=\"https://colab.research.google.com/assets/colab-badge.svg\" alt=\"Open In Colab\"/></a>"
      ]
    },
    {
      "cell_type": "markdown",
      "source": [
        "**Assignment 1: Logistic Regression**\n",
        "\n",
        "Welcome to week one of this specialization. You will learn about logistic regression. Concretely, you will be implementing logistic regression for sentiment analysis on tweets. Given a tweet, you will decide if it has a positive sentiment or a negative one. Specifically you will:\n",
        "\n",
        "Learn how to extract features for logistic regression given some text\n",
        "Implement logistic regression from scratch\n",
        "Apply logistic regression on a natural language processing task\n",
        "Test using your logistic regression\n",
        "Perform error analysis\n",
        "We will be using a data set of tweets. Hopefully you will get more than 99% accuracy.\n",
        "Run the cell below to load in the packages.\n"
      ],
      "metadata": {
        "id": "0mjyfWv-Uq4f"
      }
    },
    {
      "cell_type": "markdown",
      "source": [
        "**Import functions and data**"
      ],
      "metadata": {
        "id": "3NHzIW7UUz1f"
      }
    },
    {
      "cell_type": "code",
      "execution_count": 3,
      "metadata": {
        "id": "PsoO0C0eUm2H"
      },
      "outputs": [],
      "source": [
        "import nltk                                # Python library for NLP\n",
        "from nltk.corpus import twitter_samples    # sample Twitter dataset from NLTK\n",
        "import matplotlib.pyplot as plt            # visualization library\n",
        "import numpy as np                         # library for scientific computing and matrix operations\n",
        "import re \n",
        "import string \n",
        "from nltk.stem import PorterStemmer\n",
        "from nltk.corpus import stopwords\n",
        "from nltk.tokenize import TweetTokenizer\n",
        "\n",
        "from os import getcwd\n",
        "import pandas as pd                 # Library for Dataframes"
      ]
    },
    {
      "cell_type": "markdown",
      "source": [
        "**Imported functions**\n",
        "\n",
        "Download the data needed for this assignment. Check out the documentation for the twitter_samples dataset.\n",
        "\n",
        "twitter_samples: if you're running this notebook on your local computer, you will need to download it using:\n",
        "\n",
        "nltk.download('twitter_samples')\n",
        "stopwords: if you're running this notebook on your local computer, you will need to download it using:\n",
        "\n",
        "nltk.download('stopwords')\n",
        "Import some helper functions that we provided in the utils.py file:\n",
        "process_tweet(): cleans the text, tokenizes it into separate words, removes stopwords, and converts words to stems.\n",
        "build_freqs(): this counts how often a word in the 'corpus' (the entire set of tweets) was associated with a positive label '1' or a negative label '0', then builds the freqs dictionary, where each key is a (word,label) tuple, and the value is the count of its frequency within the corpus of tweets."
      ],
      "metadata": {
        "id": "ieQ_nbmYVQKG"
      }
    },
    {
      "cell_type": "code",
      "source": [
        "# download the stopwords for the process_tweet function\n",
        "nltk.download('stopwords')\n",
        "nltk.download('twitter_samples')\n",
        "\n",
        "!pip install utils\n",
        "import numpy as np\n",
        "\n",
        "def process_tweet(tweet):\n",
        "  stemmer = PorterStemmer()\n",
        "  stopwords_english = stopwords.words('english')\n",
        "  tweet = re.sub(r'\\$\\w*', '', tweet)\n",
        "  tweet = re.sub(r'^RT[\\s]+', '', tweet)\n",
        "  tweet = re.sub(r'https?:\\/\\/.*[\\r\\n]*', '', tweet)\n",
        "  tweet = re.sub(r'#', '', tweet)\n",
        "  tokenizer = TweetTokenizer(preserve_case=False,        strip_handles=True,reduce_len=True)\n",
        "  tweet_tokens = tokenizer.tokenize(tweet)\n",
        "  \n",
        "  tweets_clean = []\n",
        "  for word in tweet_tokens:\n",
        "    if (word not in stopwords_english and word not in string.punctuation): \n",
        "      stem_word = stemmer.stem(word)  # stemming word\n",
        "      tweets_clean.append(stem_word)\n",
        "  return tweets_clean\n",
        "\n",
        "def build_freqs(tweets, ys):\n",
        "    \"\"\"Build frequencies.\n",
        "    Input:\n",
        "        tweets: a list of tweets\n",
        "        ys: an m x 1 array with the sentiment label of each tweet (either 0 or 1)\n",
        "    Output:\n",
        "        freqs: a dictionary mapping each (word, sentiment) pair to its frequency\n",
        "    \"\"\"\n",
        "    # Convert np array to list since zip needs an iterable.\n",
        "    # The squeeze is necessary or the list ends up with one element.\n",
        "    # Also note that this is just a NOP if ys is already a list.\n",
        "    yslist = np.squeeze(ys).tolist()\n",
        "\n",
        "    # Start with an empty dictionary and populate it by looping over all tweets\n",
        "    # and over all processed words in each tweet.\n",
        "    freqs = {}\n",
        "    for y, tweet in zip(yslist, tweets):\n",
        "        for word in process_tweet(tweet):\n",
        "            pair = (word, y)\n",
        "            if pair in freqs:\n",
        "                freqs[pair] += 1\n",
        "            else:\n",
        "                freqs[pair] = 1\n",
        "\n",
        "    return freqs"
      ],
      "metadata": {
        "colab": {
          "base_uri": "https://localhost:8080/"
        },
        "id": "h6m4Ox00Vh0O",
        "outputId": "87fd6c83-2ee4-4d2e-92da-f123fe57da78"
      },
      "execution_count": 5,
      "outputs": [
        {
          "output_type": "stream",
          "name": "stdout",
          "text": [
            "[nltk_data] Downloading package stopwords to /root/nltk_data...\n",
            "[nltk_data]   Package stopwords is already up-to-date!\n",
            "[nltk_data] Downloading package twitter_samples to /root/nltk_data...\n",
            "[nltk_data]   Unzipping corpora/twitter_samples.zip.\n",
            "Requirement already satisfied: utils in /usr/local/lib/python3.7/dist-packages (1.0.1)\n"
          ]
        }
      ]
    },
    {
      "cell_type": "markdown",
      "source": [
        "**Prepare the data**\n",
        "\n",
        "The twitter_samples contains subsets of 5,000 positive tweets, 5,000 negative tweets, and the full set of 10,000 tweets.\n",
        "If you used all three datasets, we would introduce duplicates of the positive tweets and negative tweets.\n",
        "You will select just the five thousand positive tweets and five thousand negative tweets."
      ],
      "metadata": {
        "id": "z_I8MwxiWHSH"
      }
    },
    {
      "cell_type": "code",
      "source": [
        "nltk.download('twitter_samples')\n",
        "\n",
        "# select the set of positive and negative tweets\n",
        "all_positive_tweets = twitter_samples.strings('positive_tweets.json')\n",
        "all_negative_tweets = twitter_samples.strings('negative_tweets.json')"
      ],
      "metadata": {
        "colab": {
          "base_uri": "https://localhost:8080/"
        },
        "id": "2Vo2NjG_WLkm",
        "outputId": "7db83fee-c454-40d9-b56d-539003d398d8"
      },
      "execution_count": 6,
      "outputs": [
        {
          "output_type": "stream",
          "name": "stdout",
          "text": [
            "[nltk_data] Downloading package twitter_samples to /root/nltk_data...\n",
            "[nltk_data]   Package twitter_samples is already up-to-date!\n"
          ]
        }
      ]
    },
    {
      "cell_type": "markdown",
      "source": [
        "Train test split: 20% will be in the test set, and 80% in the training set."
      ],
      "metadata": {
        "id": "hT1D2Rs5Wjmv"
      }
    },
    {
      "cell_type": "code",
      "source": [
        "# split the data into two pieces, one for training and one for testing (validation set) \n",
        "test_pos = all_positive_tweets[4000:]\n",
        "train_pos = all_positive_tweets[:4000]\n",
        "test_neg = all_negative_tweets[4000:]\n",
        "train_neg = all_negative_tweets[:4000]\n",
        "\n",
        "train_x = train_pos + train_neg\n",
        "test_x = train_pos + test_neg\n",
        "\n",
        "#print(train_x)\n",
        "print(len(train_x))"
      ],
      "metadata": {
        "colab": {
          "base_uri": "https://localhost:8080/"
        },
        "id": "6Eh1aS4XWkiF",
        "outputId": "2305475c-c3d0-4677-c911-f0cf2f587456"
      },
      "execution_count": 8,
      "outputs": [
        {
          "output_type": "stream",
          "name": "stdout",
          "text": [
            "8000\n"
          ]
        }
      ]
    },
    {
      "cell_type": "markdown",
      "source": [
        "Create the numpy array of positive labels and negative labels."
      ],
      "metadata": {
        "id": "yOe8MPEyYcfG"
      }
    },
    {
      "cell_type": "code",
      "source": [
        "# combine positive and negative labels\n",
        "train_y = np.append(np.ones((len(train_pos),1)), np.zeros((len(train_neg),1)), axis=0)\n",
        "test_y = np.append(np.ones((len(test_pos),1)), np.zeros((len(test_neg),1)), axis=0)\n",
        "\n",
        "print(train_y)\n",
        "print(len(train_y))\n",
        "print(test_y)\n",
        "print(len(test_y))\n",
        "\n",
        "# Print the shape train and test sets\n",
        "print(\"train_y.shape = \" + str(train_y.shape))\n",
        "print(\"test_y.shape = \" + str(test_y.shape))"
      ],
      "metadata": {
        "colab": {
          "base_uri": "https://localhost:8080/"
        },
        "id": "5C7K_9YqYdbl",
        "outputId": "47fa774c-8d63-4c77-d505-a9f1dbaa177a"
      },
      "execution_count": 13,
      "outputs": [
        {
          "output_type": "stream",
          "name": "stdout",
          "text": [
            "[[1.]\n",
            " [1.]\n",
            " [1.]\n",
            " ...\n",
            " [0.]\n",
            " [0.]\n",
            " [0.]]\n",
            "8000\n",
            "[[1.]\n",
            " [1.]\n",
            " [1.]\n",
            " ...\n",
            " [0.]\n",
            " [0.]\n",
            " [0.]]\n",
            "2000\n",
            "train_y.shape = (8000, 1)\n",
            "test_y.shape = (2000, 1)\n"
          ]
        }
      ]
    },
    {
      "cell_type": "markdown",
      "source": [
        "Create the frequency dictionary using the imported build_freqs() function.\n",
        "\n",
        "We highly recommend that you open utils.py and read the build_freqs() function to understand what it is doing.\n",
        "To view the file directory, go to the menu and click File->Open.\n",
        "\n",
        "for y,tweet in zip(ys, tweets):\n",
        "\n",
        "        for word in process_tweet(tweet):\n",
        "            pair = (word, y)\n",
        "            if pair in freqs:\n",
        "                freqs[pair] += 1\n",
        "            else:\n",
        "                freqs[pair] = 1\n",
        "\n",
        "Notice how the outer for loop goes through each tweet, and the inner for loop steps through each word in a tweet.\n",
        "The freqs dictionary is the frequency dictionary that's being built.\n",
        "The key is the tuple (word, label), such as (\"happy\",1) or (\"happy\",0). The value stored for each key is the count of how many times the word \"happy\" was associated with a positive label, or how many times \"happy\" was associated with a negative label."
      ],
      "metadata": {
        "id": "Wagc_mOtZQTF"
      }
    },
    {
      "cell_type": "code",
      "source": [
        "# create frequency dictionary\n",
        "\n",
        "freqs = build_freqs(train_x , train_y)\n",
        "\n",
        "#check the output \n",
        "print(\"type(freqs) = \" + str(type(freqs)))\n",
        "print(\"len(freqs) = \" + str(len(freqs.keys())))"
      ],
      "metadata": {
        "colab": {
          "base_uri": "https://localhost:8080/"
        },
        "id": "HKqUyR-NZcyk",
        "outputId": "83844b6a-6be9-44f4-cf3a-1fa6e2fb6346"
      },
      "execution_count": 16,
      "outputs": [
        {
          "output_type": "stream",
          "name": "stdout",
          "text": [
            "type(freqs) = <class 'dict'>\n",
            "len(freqs) = 11346\n"
          ]
        }
      ]
    },
    {
      "cell_type": "markdown",
      "source": [
        "**Process tweet**\n",
        "\n",
        "The given function process_tweet() tokenizes the tweet into individual words, removes stop words and applies stemming."
      ],
      "metadata": {
        "id": "d1lA0k0gabvb"
      }
    },
    {
      "cell_type": "code",
      "source": [
        "print('This is an example of a positive tweet :\\n', train_x[0])\n",
        "print('\\nThis is an example of the processed version of the tweet: \\n', process_tweet(train_x[0]))"
      ],
      "metadata": {
        "colab": {
          "base_uri": "https://localhost:8080/"
        },
        "id": "rsd-O8WcahRM",
        "outputId": "5b99abf7-d98a-401f-fe46-71de74e1b6fa"
      },
      "execution_count": 17,
      "outputs": [
        {
          "output_type": "stream",
          "name": "stdout",
          "text": [
            "This is an example of a positive tweet :\n",
            " #FollowFriday @France_Inte @PKuchly57 @Milipol_Paris for being top engaged members in my community this week :)\n",
            "\n",
            "This is an example of the processed version of the tweet: \n",
            " ['followfriday', 'top', 'engag', 'member', 'commun', 'week', ':)']\n"
          ]
        }
      ]
    },
    {
      "cell_type": "markdown",
      "source": [
        "**Part 1: Logistic regression**\n",
        "\n",
        "**Part 1.1: Sigmoid**\n",
        "\n",
        "You will learn to use logistic regression for text classification.\n",
        "\n",
        "The sigmoid function is defined as:\n",
        "\n",
        "![image.png](data:image/png;base64,iVBORw0KGgoAAAANSUhEUgAAANgAAABFCAYAAAAo2ChwAAACr0lEQVR4nO3dW3KjMBAFUDI1K2EHXni2xFY8X0wRIts81HrAOT9JOQlWGV1aCEG+ns/ncwBC/KndALgyAYNAAgaBBAwCCRgEEjAIJGAQSMAgkIBBIAGDQAIGgQQMAgkYBBIwCCRg/DKO4zCOY+1mXMLf2g2gHUKVnwrGf9M0DdM01W7GpQgYBBIwCCRgEEjAIJCAQSABg0ACBoEEDAIJGARqOmBnlu5Y9rPfeg2iNYnnfZV4Nv16J21ZjjOO4+llOzm2AWcUqWDLNW46PHdSbIi4Z6iRq/JM02SIQ1VNn4NB74oGrNS5F7SieAWbZ6bOzhCmZrxSDBOpqcgdzXMHX1enI9UqtY1hMHlCm4o+MiDXxEXEdo9UOaHmk2IBa70zRrbPELWMFvtY1w+96WVC5Pv7u3YTqKRawM6GI3e4IoeIj8dj97a5hvCAbQnC3rCkfv9s4HqohPSn+oXmI+E6uw0opdoQcb4+dbRyLYMmXLSqyGr6vXJWJNWNmqoPEe/M/VbX12TAci1varV65Q7WXUK6/Nx6OTh1fR2sV6nzSD5bfm4tHjhTmg3YkUmQpZ52wl1tOcD0vg+bDdgwnPtwe98xpaUWTacCkBq+v5rZ/bQQ+8g+6u3A2eQ5GGXNnXYdnvm19eMell+XnT11p8S8zdzn1L0MrwXs5tYV4d0E06vbjlJeBe9oG+f3XH7fg6aHiPz07qj97obTHGp27pxhLU3AOvKqcx3t9MuKtPX9z96J3ltAzhIwNnf6PUPEM+9zJc7BbuxdRUy95n847ydgN7dl2LdnImT5N6/+/k6aXOx7dbknJHI9Znzdji3Xu5avL3+25TrYHQjYBbRUIYTqJ0PEC9CZ2yVgEEjAyGbLk5bvxjkYBFLBIJCAQSABg0ACBoEEDAIJGAQSMAgkYBDoH5xgYTAMaBGVAAAAAElFTkSuQmCC)\n",
        " \n",
        " \n",
        "It maps the input 'z' to a value that ranges between 0 and 1, and so it can be treated as a probability.\n",
        "\n",
        "alternate text Figure 1\n",
        "**Instructions: Implement the sigmoid function**\n",
        "You will want this function to work if z is a scalar as well as if it is an array.\n",
        "\n",
        "**Hints**\n",
        "\n",
        "numpy.exp"
      ],
      "metadata": {
        "id": "qh3Fdq0Oa8bi"
      }
    },
    {
      "cell_type": "code",
      "source": [
        "# UNQ_C1 (UNIQUE CELL IDENTIFIER, DO NOT EDIT)\n",
        "def sigmoid(z): \n",
        "    '''\n",
        "    Input:\n",
        "        z: is the input (can be a scalar or an array)\n",
        "    Output:\n",
        "        h: the sigmoid of z\n",
        "    '''\n",
        "    \n",
        "    ### START CODE HERE (REPLACE INSTANCES OF 'None' with your code) ###\n",
        "    # calculate the sigmoid of z\n",
        "    h = 1 / (1 +np.exp(-z))\n",
        "    ### END CODE HERE ###\n",
        "    \n",
        "    return h"
      ],
      "metadata": {
        "id": "T1xyU3OKbRKk"
      },
      "execution_count": 18,
      "outputs": []
    },
    {
      "cell_type": "code",
      "source": [
        "# Testing your function \n",
        "if (sigmoid(0) == 0.5):\n",
        "  print('SUCCESS!')\n",
        "else:\n",
        "  print('Failed!')\n",
        "\n",
        "if (sigmoid(4.92) == 0.9927537604041685):\n",
        "  print('CORRECT!')\n",
        "else:\n",
        "  print(\"Oops again!\")"
      ],
      "metadata": {
        "colab": {
          "base_uri": "https://localhost:8080/"
        },
        "id": "P4hZtAQ3bx3c",
        "outputId": "df4682c5-81bb-4634-9a03-4776d09b2f2b"
      },
      "execution_count": 19,
      "outputs": [
        {
          "output_type": "stream",
          "name": "stdout",
          "text": [
            "SUCCESS!\n",
            "CORRECT!\n"
          ]
        }
      ]
    },
    {
      "cell_type": "markdown",
      "source": [
        "**Logistic regression: regression and a sigmoid**\n",
        "\n",
        "Logistic regression takes a regular linear regression, and applies a sigmoid to the output of the linear regression.\n",
        "\n",
        "Regression:\n",
        "\n",
        "![image.png](data:image/png;base64,iVBORw0KGgoAAAANSUhEUgAAAV4AAAAuCAYAAABgfnFvAAAC9klEQVR4nO3ba5KeIBCFYSaVlbj/NbkV82dMWRQql+Y04Pv8motBT8u06Gd+juM4AgBA5o/3AQDA19B4AUCMxgsAYjReABCj8QKAGI0XAMRovAAgRuMFADEaLwCI0XgBQIzGCwBiNF4AEKPxAoAYjRcAxGi8ACBG4wUAMRovAIjReAFAjMabsG1b2LbN+zBcfDl7COS3Qh2f/fU+gJGcE2Xf9//fn1+v7svZQyC/FeqYhxVvZMZJYrWymDF7CN/KP8MqcoY6eqPx/vrylfnL2UMgvxXqmI/GG+ZYRfTy5ewhkN8KdSzj0njPB+/Xk+V94qyu1Klc3tneWK5SyD9ffiu9V7sr1Vb+4Vp8OxI/jJ/ZNdsXP2Qg/7fz97RabeWNN1WgnKLVXNlKTkbO+Ndt4rFTJ/9tYjyNp1RS26cspfnffqfSeu7P3896/q3kzqO7xdZdPVrmVsl+lH6O4zhc9vzL+w8vt5G8fZ87bu145zalao4x9fPSyZqTv2S8+N/kssgfr7as8j+N2XuhYalkHl1/F0LeAqZkXMv99OT6Hq93+Nl4rhrj2zyP8Tzzn/vY991sf09jjnyH0OrM0Pv5rGo/Ndwab+kEUq4AVpjctb6cPYT7/D1qsnKdc+ZRfMHpNfdU+ynh0njvbq2eiuFdqDfXW5qafLNbOX/JZxC5+WethYcV55b8dbLUynWUwp2vp9QeS+ptjfPrEfI9ac0eAvlHy5/zupXVNvG2uXlzHwW01na0Rw7SFW/qlZAQfK/+1xPS+keXes2lddyerLLfjbVi/qdHEbX5e99i996mpI41WWtqO/rFXtp4R73VsjqWeJyRMt6xPMbV85c+DrN4+6FV7mqwdZvWDD1qW7MfFf7L8AJGmEieFPlTr5h5jLniuVZlGql27u/xzsT68cgoj1typJpCyzFbj9dTj2OdKb+FOG+vD8hU+2lF4wUAMR41AIAYjRcAxGi8ACBG4wUAMRovAIjReAFAjMYLAGI0XgAQo/ECgNg/s4ugqw9C+SIAAAAASUVORK5CYII=)\n",
        "\n",
        "Note that the  values are \"weights\". If you took the Deep Learning Specialization, we referred to the weights with the w vector. In this course, we're using a different variable  to refer to the weights.\n",
        "\n",
        "**Logistic regression**\n",
        "\n",
        "![image.png](data:image/png;base64,iVBORw0KGgoAAAANSUhEUgAAAX8AAABuCAYAAADPuRPtAAAFlElEQVR4nO3dUXKbMBQFUKXTlbD/NbEV94sOpdgWIIGkd85P08QRPEEustDgn9fr9UoAhPLr6R0A4H7CHyAg4Q8QkPAHCEj4AwQk/AECEv4AAQl/gICEP0BAwh8gIOEPDZmmKU3T9PRuEMDvp3cASAKf2xn5QwPmeU7zPD+9GwQi/AECEv4AAQl/gICEP0BAwh8gIOEPEJDwBwhI+AMEJPwBAhL+7LryuAGPKjhu+0wfz/ihtp/X6/V6eieoZxsgOY8QmKbp8qMGSrQB1GPkP7j1M2OEMbAQ/gEcmT4oNWKf59m0BTRM+AMEJPyDuGuuH+iD8A9kWUFydSXP3sqUPaZ+oF0+yWtwS/huR/VnRvl7baTkRjL0SPgHUeombo12z7w7cMGBa4R/AK0HZc39M+10j9bPMf4n/Dmll5vDPewjPEH4B3Q1uEsHv2kfuJ/wH1hOSB8N8r3XX70YCHK4n6WegZ0J/qttAG0w8g9oWX9/dsS/vggIfuiTp3ryj5Ijee8KoF2mfQjJ8/KJTvjzj1KPZGh11F869KNcQNb95sI5BnP+hLJ334Lv1v3W4kWd44Q//zlzQ3hNQLQv5+LnGI5N+LPLuv377D0gby+c96bk3q3A+vbQvTPHyEV9LOb84UFLoG6Dffne9iM41/+ug3jvia1Lm6Xv4ZgyG4Pwh4dsR9Kfbra/ezT3nncXhbP7uGxz/TX9M+0DGT6Ndj99mE0JTwZvyQsJbRH+kOFd8J0N5PVIPnf7Vz+BTXizJvzhQbmBfGTa58p2iMOcPzzg0zuJve9tb/DCVcIfHpIzlXPkpvD6d979Piw82I1QSt+cLRGue09JzVnPv/7++mc56/xB+MMFLY2sBT5HmPaBCwQtvRL+AAEJfxjA9iYvfGPOHyAgI3+AgIQ/QEDCHyAg4Q8QkPAHCEj4AwQk/AECEv4AAQl/gICEP0BAwh8gIOEPEJDwBwhI+AMEJPwBAhL+AAEJf4CAhD9AQMIfICDhf7NpmsJ+wHbk2lNSfyn6sYzfT+9AFMvJOs/z3/8vX48ucu0pqb8U/ViWkf+NejxRS42weqw9pVj19zCa7qEfeyH8bxB5hBK59pTUX4p+LE/4V9bDaKqWyLWnpP5S9GMdw4X/cjNofcI8ffKUGrHs1fV0bd+UHK2pv7/6S6k96o/Yt0Pd8N2+NdzeIOrZuraIN77UH7v+mqL27VDhv3eQcg7cmSv8kRMip/31a7Zt752A307OT+3d6UjffqrlaP3ffnaXq8d++Xmvx7+U3PPo3YDvXX9cObeObKdFP6/X6/X0TtTy9B9/bph9+39uu2fbW15z1Jl93Pv+0T+YnPqPtLf9nVwl6t+OOkvV/6nN2oOdko6cR+ufpZQ3iDrSbsnttGCokf9aLwegFU+OnrdvuZ9o78n6l23M81xse5/abPmd0lVLDbXn6+/aTk1Dhv/Rk/jOkdAIf2BnRa49pff11+iTkfs55zzaXvRqnXt3baeG4cL/3dvcTwek9YO1fnt5pr7ejVz/kXtSufX32hdPGPnc+maopZ57I/hWDt6ydOzsvuytYlq+bqG+T67WnpL6W6s/ZylkqddsX5tbb+60zNW+7XX6Z5iR/95yrZSeHQWtT4qrf/h7S9CutltTqdrftTVi/Z+mhc7WX3u6o/ZrjvTjmVrP9G0PA44cw4R/q297S+3Ltp2Wanyn5D6OXv/RqckSq4Kuyh0VX33N1Rpq9O2Z7bRmqGkfyuvpZK7hjvr3ln8+0eaIx/qumnrsu6HX+fek9FRVK1NfOfaC6co+l26vphr72lP9JWzrrXXT9q7t3EX4AwRk2gcgIOEPEJDwBwhI+AMEJPwBAhL+AAEJf4CAhD9AQMIfICDhDxCQ8AcISPgDBCT8AQIS/gABCX+AgIQ/QEB/AP6e/dVWO93pAAAAAElFTkSuQmCC)\n",
        "\n",
        "We will refer to 'z' as the 'logits'."
      ],
      "metadata": {
        "id": "cQ2S11I9cN8k"
      }
    },
    {
      "cell_type": "markdown",
      "source": [
        "**Part 1.2 Cost function and Gradient**\n",
        "\n",
        "![image.png](data:image/png;base64,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)\n"
      ],
      "metadata": {
        "id": "w7PRTuNrct7z"
      }
    },
    {
      "cell_type": "markdown",
      "source": [
        "Update the weights\n",
        "\n",
        "![image.png](data:image/png;base64,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)"
      ],
      "metadata": {
        "id": "_2aSQpoFdhvh"
      }
    },
    {
      "cell_type": "markdown",
      "source": [
        "**Instructions: Implement gradient descent function**\n",
        "\n",
        "The number of iterations num_iters is the number of times that you'll use the entire training set.\n",
        "For each iteration, you'll calculate the cost function using all training examples (there are m training examples), and for all features.\n",
        "Instead of updating a single weight \n",
        " at a time, we can update all the weights in the column vector:\n",
        " \n",
        " ![image.png](data:image/png;base64,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)"
      ],
      "metadata": {
        "id": "HO4othKhdouC"
      }
    },
    {
      "cell_type": "markdown",
      "source": [
        "**Hints**\n",
        "\n",
        "use np.dot for matrix multiplication.\n",
        "To ensure that the fraction -1/m is a decimal value, cast either the numerator or denominator (or both), like `float(1)`, or write `1.` for the float version of 1."
      ],
      "metadata": {
        "id": "qU7WyNqClBX_"
      }
    },
    {
      "cell_type": "code",
      "source": [
        "# UNQ_C2 (UNIQUE CELL IDENTIFIER, DO NOT EDIT)\n",
        "def gradientDescent(x, y, theta, alpha, num_iters):\n",
        "    '''\n",
        "    Input:\n",
        "        x: matrix of features which is (m,n+1)\n",
        "        y: corresponding labels of the input matrix x, dimensions (m,1)\n",
        "        theta: weight vector of dimension (n+1,1)\n",
        "        alpha: learning rate\n",
        "        num_iters: number of iterations you want to train your model for\n",
        "    Output:\n",
        "        J: the final cost\n",
        "        theta: your final weight vector\n",
        "    Hint: you might want to print the cost to make sure that it is going down.\n",
        "    '''\n",
        "    ### START CODE HERE (REPLACE INSTANCES OF 'None' with your code) ###\n",
        "    # get 'm', the number of rows in matrix x\n",
        "    m = x.shape[0]\n",
        "    \n",
        "    for i in range(0, num_iters):\n",
        "        \n",
        "        # get z, the dot product of x and theta\n",
        "        z = np.dot(x ,theta)\n",
        "        \n",
        "        # get the sigmoid of z\n",
        "        h = sigmoid(z)\n",
        "        \n",
        "        # calculate the cost function\n",
        "        J = -1./m *(np.dot(y.transpose(),np.log(h)) + np.dot((1-y).transpose(),np.log(1-h)))\n",
        "        #J = -1./m * (np.dot(y.transpose(), np.log(h)) + np.dot((1-y).transpose(),np.log(1-h)))    \n",
        "\n",
        "        # update the weights theta\n",
        "        theta = theta - (alpha/m) * np.dot(x.transpose(),(h-y))\n",
        "        \n",
        "    ### END CODE HERE ###\n",
        "    J = float(J)\n",
        "    return J, theta\n",
        "# Check the function"
      ],
      "metadata": {
        "id": "0yGvRec-lO3P"
      },
      "execution_count": 26,
      "outputs": []
    },
    {
      "cell_type": "code",
      "source": [
        "# Check the function\n",
        "# Construct a synthetic test case using numpy PRNG functions\n",
        "\n",
        "np.random.seed(1)\n",
        "\n",
        "#X input is 10*3 with ones for the bias terms \n",
        "tmp_X = np.append(np.ones((10, 1)), np.random.rand(10, 2) * 2000, axis=1)\n",
        "print('X is = \\n' , tmp_X)\n",
        "\n",
        "# Y Labels are 10 x 1\n",
        "tmp_Y = (np.random.rand(10, 1) > 0.35).astype(float)\n",
        "print('Y is = \\n' , tmp_Y)\n",
        "\n",
        "z = np.zeros((3, 1))\n",
        "print('np.zeros is = \\n', z)\n",
        "print((z.shape))\n",
        "\n",
        "# Apply gradient descent\n",
        "tmp_J, tmp_theta = gradientDescent(tmp_X, tmp_Y, np.zeros((3, 1)), 1e-8, 700)\n",
        "print(f\"The cost after training is {tmp_J:.8f}.\")\n",
        "print(f\"The resulting vector of weights is {[round(t, 8) for t in np.squeeze(tmp_theta)]}\")"
      ],
      "metadata": {
        "colab": {
          "base_uri": "https://localhost:8080/"
        },
        "id": "hFU9a-i6nhYU",
        "outputId": "c1689ffa-5a68-4c28-f0eb-a289088ca53b"
      },
      "execution_count": 32,
      "outputs": [
        {
          "output_type": "stream",
          "name": "stdout",
          "text": [
            "X is = \n",
            " [[1.00000000e+00 8.34044009e+02 1.44064899e+03]\n",
            " [1.00000000e+00 2.28749635e-01 6.04665145e+02]\n",
            " [1.00000000e+00 2.93511782e+02 1.84677190e+02]\n",
            " [1.00000000e+00 3.72520423e+02 6.91121454e+02]\n",
            " [1.00000000e+00 7.93534948e+02 1.07763347e+03]\n",
            " [1.00000000e+00 8.38389029e+02 1.37043900e+03]\n",
            " [1.00000000e+00 4.08904499e+02 1.75623487e+03]\n",
            " [1.00000000e+00 5.47751864e+01 1.34093502e+03]\n",
            " [1.00000000e+00 8.34609605e+02 1.11737966e+03]\n",
            " [1.00000000e+00 2.80773877e+02 3.96202978e+02]]\n",
            "Y is = \n",
            " [[1.]\n",
            " [1.]\n",
            " [0.]\n",
            " [1.]\n",
            " [1.]\n",
            " [1.]\n",
            " [0.]\n",
            " [0.]\n",
            " [0.]\n",
            " [1.]]\n",
            "np.zeros is = \n",
            " [[0.]\n",
            " [0.]\n",
            " [0.]]\n",
            "(3, 1)\n",
            "The cost after training is 0.67094970.\n",
            "The resulting vector of weights is [4.1e-07, 0.00035658, 7.309e-05]\n"
          ]
        }
      ]
    },
    {
      "cell_type": "markdown",
      "source": [
        "**Part 2: Extracting the features**\n",
        "\n",
        "Given a list of tweets, extract the features and store them in a matrix. You will extract two features.\n",
        "The first feature is the number of positive words in a tweet.\n",
        "The second feature is the number of negative words in a tweet.\n",
        "Then train your logistic regression classifier on these features.\n",
        "Test the classifier on a validation set.\n",
        "\n",
        "**Instructions: Implement the extract_features function.**\n",
        "\n",
        "This function takes in a single tweet.\n",
        "Process the tweet using the imported process_tweet() function and save the list of tweet words.\n",
        "Loop through each word in the list of processed words\n",
        "For each word, check the freqs dictionary for the count when that word has a positive '1' label. (Check for the key (word, 1.0)\n",
        "Do the same for the count for when the word is associated with the negative label '0'. (Check for the key (word, 0.0).)\n",
        "\n",
        "**Hints**\n",
        "Make sure you handle cases when the (word, label) key is not found in the dictionary.\n",
        "Search the web for hints about using the `.get()` method of a Python dictionary. Here is an example"
      ],
      "metadata": {
        "id": "oSf_Oetzokcz"
      }
    },
    {
      "cell_type": "code",
      "source": [
        "# UNQ_C3 (UNIQUE CELL IDENTIFIER, DO NOT EDIT)\n",
        "def extract_features(tweet, freqs):\n",
        "    '''\n",
        "    Input: \n",
        "        tweet: a list of words for one tweet\n",
        "        freqs: a dictionary corresponding to the frequencies of each tuple (word, label)\n",
        "    Output: \n",
        "        x: a feature vector of dimension (1,3)\n",
        "    '''\n",
        "    # process_tweet tokenizes, stems, and removes stopwords\n",
        "    word_l = process_tweet(tweet)\n",
        "    \n",
        "    # 3 elements in the form of a 1 x 3 vector\n",
        "    x = np.zeros((1, 3)) \n",
        "    \n",
        "    #bias term is set to 1\n",
        "    x[0,0] = 1 \n",
        "    \n",
        "    ### START CODE HERE (REPLACE INSTANCES OF 'None' with your code) ###\n",
        "    \n",
        "    # loop through each word in the list of words\n",
        "    for word in word_l:\n",
        "        \n",
        "        # increment the word count for the positive label 1\n",
        "        x[0,1] += freqs.get((word, 1.0),0)\n",
        "        \n",
        "        # increment the word count for the negative label 0\n",
        "        x[0,2] += freqs.get((word, 0.0),0)\n",
        "        \n",
        "    ### END CODE HERE ###\n",
        "    assert(x.shape == (1, 3))\n",
        "    return x"
      ],
      "metadata": {
        "id": "6aW-ze-1os2k"
      },
      "execution_count": 33,
      "outputs": []
    },
    {
      "cell_type": "code",
      "source": [
        "# Check your function\n",
        "\n",
        "# test 1\n",
        "# test on training data\n",
        "tmp1 = extract_features(train_x[0], freqs)\n",
        "print(tmp1)"
      ],
      "metadata": {
        "colab": {
          "base_uri": "https://localhost:8080/"
        },
        "id": "gOAOfgFzqPvU",
        "outputId": "8aba3b0a-d870-47e0-fe93-30e82fef3660"
      },
      "execution_count": 34,
      "outputs": [
        {
          "output_type": "stream",
          "name": "stdout",
          "text": [
            "[[1.00e+00 3.02e+03 6.10e+01]]\n"
          ]
        }
      ]
    },
    {
      "cell_type": "code",
      "source": [
        "# test 2:\n",
        "# check for when the words are not in the freqs dictionary\n",
        "tmp2 = extract_features('blorb bleeeeb bloooob', freqs)\n",
        "print(tmp2)"
      ],
      "metadata": {
        "colab": {
          "base_uri": "https://localhost:8080/"
        },
        "id": "yl5FH9R7qWZy",
        "outputId": "1049e996-eed1-4142-f2f6-978266b4ce48"
      },
      "execution_count": 35,
      "outputs": [
        {
          "output_type": "stream",
          "name": "stdout",
          "text": [
            "[[1. 0. 0.]]\n"
          ]
        }
      ]
    },
    {
      "cell_type": "markdown",
      "source": [
        "**Part 3: Training Your Model**\n",
        "\n",
        "To train the model:\n",
        "\n",
        "Stack the features for all training examples into a matrix X.\n",
        "Call gradientDescent, which you've implemented above.\n",
        "This section is given to you. Please read it for understanding and run the cell."
      ],
      "metadata": {
        "id": "zuw2VyS1qbxa"
      }
    },
    {
      "cell_type": "code",
      "source": [
        "# collect the features 'x' and stack them into a matrix 'X'\n",
        "X = np.zeros((len(train_x), 3))\n",
        "for i in range(len(train_x)):\n",
        "    X[i, :]= extract_features(train_x[i], freqs)\n",
        "\n",
        "# training labels corresponding to X\n",
        "Y = train_y\n",
        "\n",
        "# Apply gradient descent\n",
        "J, theta = gradientDescent(X, Y, np.zeros((3, 1)), 1e-9, 1500)\n",
        "print(f\"The cost after training is {J:.8f}.\")\n",
        "print(f\"The resulting vector of weights is {[round(t, 8) for t in np.squeeze(theta)]}\")"
      ],
      "metadata": {
        "colab": {
          "base_uri": "https://localhost:8080/"
        },
        "id": "lLx1m_f6qhq7",
        "outputId": "f2ca6e4f-9156-4697-dff2-7f332957b1fd"
      },
      "execution_count": 36,
      "outputs": [
        {
          "output_type": "stream",
          "name": "stdout",
          "text": [
            "The cost after training is 0.24216529.\n",
            "The resulting vector of weights is [7e-08, 0.0005239, -0.00055517]\n"
          ]
        }
      ]
    },
    {
      "cell_type": "markdown",
      "source": [
        "**Part 4: Test your logistic regression**\n",
        "\n",
        "It is time for you to test your logistic regression function on some new input that your model has not seen before.\n",
        "\n",
        "Instructions: Write predict_tweet\n",
        "Predict whether a tweet is positive or negative.\n",
        "\n",
        "Given a tweet, process it, then extract the features.\n",
        "Apply the model's learned weights on the features to get the logits.\n",
        "Apply the sigmoid to the logits to get the prediction (a value between 0 and 1).\n",
        "\n",
        "![image.png](data:image/png;base64,iVBORw0KGgoAAAANSUhEUgAAAN4AAAAtCAYAAADBYdUAAAACy0lEQVR4nO2cW3bkIAxEyZzZSHv/a/JWnK/OYQgPIcBleu796cQPXDKULEMnX9d1XQEAbuWPWgDA/wjGAxCA8QAEYDwAARgPQADGAxCA8QAEYDwAARgPbuc4DrUEEyt1fvHNFZhJOljP8/y1P92m5q05p2uVXp54QnbJ/G8ses/z/BmoTzNYynEcP8Y6z/PW/sB4Ip6Y+WvM0PvEmFt6VhkS44l42gBssZveFuokgPHgFtQDPeYJJf7f0QYUL6ZPJu7U0j0p7bMel97X3LEtHVbdHr29/V6akGlN1IzQ05YnpibXAK/XK/tzbdsnk8Zb+712b9Ljcue9t5f21XRYdVv05jR4x0Lu3BVjqBZL7zle3E+8pz3NrBneU2Z44kyvY71f6XG1l/sZVUbp+J52rHot7cQzjSvHmLrcdBsvLUfU6zXWjlqtqZQAWvertj1mZnzeZNB7vgdP25ayWBFLDiZXJrKi41SVhfeao3pHY31SFVZjyuTKLsGGsK7UjBdi022zdfW2W5vk8XJHqdY7tlTJwsOw8XLk3m9C+Lf+zw3QUqnQmuEr7cuhfirFx8Y/jy7UWjRYrpebMfXq9ZaLcdu7JXYr042XM0Ku49IX6Piz1NnWQfEERvXMfqL0GtPT/mhbMxOR9Xrva93NsPHSG2TNpLX24nPiT28Zt5pczCVttSd7um9GjLV2cn03ojeE8CtxtrAYtndNskYtnluZujhx2ddxLOs1Pesqn7hm+Gkx7RrPCt3Ds5q5p1tvSdMzrW1pb0fU60pwL0OlZvqOFUJ9UdczEVJbF2tN2uzMJySTlNWL4itYpXfIeL0D3hNA7ZzSAvWuzHyXgWdzy1+g75blYC27jIeVOpcbjywO8Bv+5wqAAL6rCSAA4wEIwHgAAjAegACMByAA4wEIwHgAAjAegACMByAA4wEIwHgAAjAegACMByAA4wEI+AbmwpwC7Au6YgAAAABJRU5ErkJggg==)"
      ],
      "metadata": {
        "id": "vVLXtdlPqzhC"
      }
    },
    {
      "cell_type": "code",
      "source": [
        "# UNQ_C4 (UNIQUE CELL IDENTIFIER, DO NOT EDIT)\n",
        "def predict_tweet(tweet, freqs, theta):\n",
        "    '''\n",
        "    Input: \n",
        "        tweet: a string\n",
        "        freqs: a dictionary corresponding to the frequencies of each tuple (word, label)\n",
        "        theta: (3,1) vector of weights\n",
        "    Output: \n",
        "        y_pred: the probability of a tweet being positive or negative\n",
        "    '''\n",
        "    ### START CODE HERE (REPLACE INSTANCES OF 'None' with your code) ###\n",
        "    \n",
        "    # extract the features of the tweet and store it into x\n",
        "    x = extract_features(tweet, freqs)\n",
        "    \n",
        "    # make the prediction using x and theta\n",
        "    y_pred = sigmoid(np.dot(x,theta))\n",
        "    \n",
        "    ### END CODE HERE ###\n",
        "    \n",
        "    return y_pred"
      ],
      "metadata": {
        "id": "8OOne8o4rBnD"
      },
      "execution_count": 37,
      "outputs": []
    },
    {
      "cell_type": "code",
      "source": [
        "# Run this cell to test your function\n",
        "for tweet in ['I am happy', 'I am bad', 'this movie should have been great.', 'great', 'great great', 'great great great', 'great great great great']:\n",
        "    print( '%s -> %f' % (tweet, predict_tweet(tweet, freqs, theta)))\n",
        "\n",
        "#print(freqs)\n",
        "#print(theta)"
      ],
      "metadata": {
        "colab": {
          "base_uri": "https://localhost:8080/"
        },
        "id": "P-cvOnBurkIk",
        "outputId": "a7ee08af-af98-4355-c0a7-24195c0f21e6"
      },
      "execution_count": 40,
      "outputs": [
        {
          "output_type": "stream",
          "name": "stdout",
          "text": [
            "I am happy -> 0.518580\n",
            "I am bad -> 0.494339\n",
            "this movie should have been great. -> 0.515331\n",
            "great -> 0.515464\n",
            "great great -> 0.530898\n",
            "great great great -> 0.546273\n",
            "great great great great -> 0.561561\n"
          ]
        }
      ]
    },
    {
      "cell_type": "code",
      "source": [
        "my_tweet = 'I am learning :)'\n",
        "predict_tweet(my_tweet , freqs , theta)"
      ],
      "metadata": {
        "colab": {
          "base_uri": "https://localhost:8080/"
        },
        "id": "ZeVEm4jdr64a",
        "outputId": "26efe611-5408-48f1-9aa5-8aeea36b05bf"
      },
      "execution_count": 42,
      "outputs": [
        {
          "output_type": "execute_result",
          "data": {
            "text/plain": [
              "array([[0.81636424]])"
            ]
          },
          "metadata": {},
          "execution_count": 42
        }
      ]
    },
    {
      "cell_type": "markdown",
      "source": [
        "**Check performance using the test set**\n",
        "\n",
        "After training your model using the training set above, check how your model might perform on real, unseen data, by testing it against the test set.\n",
        "\n",
        "Instructions: Implement test_logistic_regression\n",
        "Given the test data and the weights of your trained model, calculate the accuracy of your logistic regression model.\n",
        "Use your predict_tweet() function to make predictions on each tweet in the test set.\n",
        "If the prediction is > 0.5, set the model's classification y_hat to 1, otherwise set the model's classification y_hat to 0.\n",
        "A prediction is accurate when y_hat equals test_y. Sum up all the instances when they are equal and divide by m.\n",
        "Hints\n",
        "Use np.asarray() to convert a list to a numpy array\n",
        "Use np.squeeze() to make an (m,1) dimensional array into an (m,) array"
      ],
      "metadata": {
        "id": "PS7x8vO1sTR8"
      }
    },
    {
      "cell_type": "code",
      "source": [
        "# UNQ_C5 (UNIQUE CELL IDENTIFIER, DO NOT EDIT)\n",
        "def test_logistic_regression(test_x, test_y, freqs, theta):\n",
        "    \"\"\"\n",
        "    Input: \n",
        "        test_x: a list of tweets\n",
        "        test_y: (m, 1) vector with the corresponding labels for the list of tweets\n",
        "        freqs: a dictionary with the frequency of each pair (or tuple)\n",
        "        theta: weight vector of dimension (3, 1)\n",
        "    Output: \n",
        "        accuracy: (# of tweets classified correctly) / (total # of tweets)\n",
        "    \"\"\"\n",
        "    \n",
        "    ### START CODE HERE (REPLACE INSTANCES OF 'None' with your code) ###\n",
        "    \n",
        "    # the list for storing predictions\n",
        "    y_hat = []\n",
        "    \n",
        "    for tweet in test_x:\n",
        "        # get the label prediction for the tweet\n",
        "        y_pred = predict_tweet(tweet, freqs, theta)\n",
        "        \n",
        "        if y_pred > 0.5:\n",
        "            # append 1.0 to the list\n",
        "            y_hat.append(1)\n",
        "        else:\n",
        "            # append 0 to the list\n",
        "            y_hat.append(0)\n",
        "\n",
        "    # With the above implementation, y_hat is a list, but test_y is (m,1) array\n",
        "    # convert both to one-dimensional arrays in order to compare them using the '==' operator\n",
        "    \n",
        "    accuracy = (y_hat==np.squeeze(test_y)).sum()/len(test_x)\n",
        "    ### END CODE HERE ###\n",
        "    \n",
        "    return accuracy"
      ],
      "metadata": {
        "id": "owRwMs3esXYB"
      },
      "execution_count": 49,
      "outputs": []
    },
    {
      "cell_type": "code",
      "source": [
        "tmp_accuracy = test_logistic_regression(test_x, test_y, freqs, theta)\n",
        "print(f\"Logistic regression model's accuracy = {tmp_accuracy:.4f}\")"
      ],
      "metadata": {
        "id": "gZnf8NU5vPbo"
      },
      "execution_count": null,
      "outputs": []
    },
    {
      "cell_type": "markdown",
      "source": [
        "**Part 5: Error Analysis**\n",
        "\n",
        "In this part you will see some tweets that your model misclassified. Why do you think the misclassifications happened? Specifically what kind of tweets does your model misclassify?"
      ],
      "metadata": {
        "id": "JZkvnnhcvSHZ"
      }
    },
    {
      "cell_type": "markdown",
      "source": [
        "Later in this specialization, we will see how we can use deep learning to improve the prediction performance."
      ],
      "metadata": {
        "id": "iuAA6Pmfve7f"
      }
    },
    {
      "cell_type": "code",
      "source": [
        "# Some error analysis done for you\n",
        "print('Label Predicted Tweet')\n",
        "for x,y in zip(test_x,test_y):\n",
        "    y_hat = predict_tweet(x, freqs, theta)\n",
        "\n",
        "    if np.abs(y - (y_hat > 0.5)) > 0:\n",
        "        print('THE TWEET IS:', x)\n",
        "        print('THE PROCESSED TWEET IS:', process_tweet(x))\n",
        "        print('%d\\t%0.8f\\t%s' % (y, y_hat, ' '.join(process_tweet(x)).encode('ascii', 'ignore')))"
      ],
      "metadata": {
        "id": "Uuq4VQFgylW_"
      },
      "execution_count": null,
      "outputs": []
    },
    {
      "cell_type": "markdown",
      "source": [
        "**Part 6: Predict with your own tweet**\n"
      ],
      "metadata": {
        "id": "YLUAeblkvhBm"
      }
    },
    {
      "cell_type": "code",
      "source": [
        "my_tweet = 'This is a ridiculously bright movie. The plot was terrible and I was sad until the ending!'\n",
        "print(process_tweet(my_tweet))\n",
        "y_hat = predict_tweet(my_tweet, freqs, theta)\n",
        "print(y_hat)\n",
        "if y_hat > 0.5:\n",
        "    print('Positive sentiment')\n",
        "else: \n",
        "    print('Negative sentiment')"
      ],
      "metadata": {
        "colab": {
          "base_uri": "https://localhost:8080/"
        },
        "id": "y3IrubkBvpAw",
        "outputId": "f5edaa30-da99-4f64-c135-3200e990cc3a"
      },
      "execution_count": 52,
      "outputs": [
        {
          "output_type": "stream",
          "name": "stdout",
          "text": [
            "['ridicul', 'bright', 'movi', 'plot', 'terribl', 'sad', 'end']\n",
            "[[0.48139087]]\n",
            "Negative sentiment\n"
          ]
        }
      ]
    }
  ]
}