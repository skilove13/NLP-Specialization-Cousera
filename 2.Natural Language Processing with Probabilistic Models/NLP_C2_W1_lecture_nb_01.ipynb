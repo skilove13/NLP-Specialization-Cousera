{
  "nbformat": 4,
  "nbformat_minor": 0,
  "metadata": {
    "colab": {
      "name": "NLP_C2_W1_lecture_nb_01.ipynb",
      "provenance": [],
      "collapsed_sections": [],
      "authorship_tag": "ABX9TyPIkcv2x2oYIfWmD7iWanL7",
      "include_colab_link": true
    },
    "kernelspec": {
      "name": "python3",
      "display_name": "Python 3"
    },
    "language_info": {
      "name": "python"
    },
    "accelerator": "GPU"
  },
  "cells": [
    {
      "cell_type": "markdown",
      "metadata": {
        "id": "view-in-github",
        "colab_type": "text"
      },
      "source": [
        "<a href=\"https://colab.research.google.com/github/skilove13/NLP-Specialization-Cousera/blob/main/NLP_C2_W1_lecture_nb_01.ipynb\" target=\"_parent\"><img src=\"https://colab.research.google.com/assets/colab-badge.svg\" alt=\"Open In Colab\"/></a>"
      ]
    },
    {
      "cell_type": "markdown",
      "source": [
        "NLP Course 2 Week 1 Lesson : Building The Model - Lecture Exercise 01\n",
        "Estimated Time: 10 minutes\n",
        "\n",
        "Vocabulary Creation\n",
        "Create a tiny vocabulary from a tiny corpus\n",
        "It's time to start small !\n",
        "\n",
        "Imports and Data"
      ],
      "metadata": {
        "id": "49P-X-d3i0An"
      }
    },
    {
      "cell_type": "markdown",
      "source": [
        "NLP Course 2 Week 1 Lesson : Building The Model - Lecture Exercise 01\n",
        "Estimated Time: 10 minutes\n",
        "\n",
        "Vocabulary Creation\n",
        "Create a tiny vocabulary from a tiny corpus\n",
        "It's time to start small !\n",
        "\n",
        "Imports and Data"
      ],
      "metadata": {
        "id": "L6aWXBwBi2Ng"
      }
    },
    {
      "cell_type": "code",
      "source": [
        "import re # regular expression library; for tokenization of words\n",
        "from collections import Counter # collections library; counter: dict subclass for counting hashable objects\n",
        "import matplotlib.pyplot as plt # for data visualization\n"
      ],
      "metadata": {
        "id": "61FFMHRKi3R3"
      },
      "execution_count": 1,
      "outputs": []
    },
    {
      "cell_type": "code",
      "source": [
        "# the tiny corpus of text ! \n",
        "text = 'red pink pink blue blue yellow ORANGE BLUE BLUE PINK' # 🌈\n",
        "print(text)\n",
        "print('string length : ',len(text))"
      ],
      "metadata": {
        "colab": {
          "base_uri": "https://localhost:8080/"
        },
        "id": "qWqS5Sc0jJiY",
        "outputId": "4a1351b1-599e-4e56-f137-908f6f533e31"
      },
      "execution_count": 2,
      "outputs": [
        {
          "output_type": "stream",
          "name": "stdout",
          "text": [
            "red pink pink blue blue yellow ORANGE BLUE BLUE PINK\n",
            "string length :  52\n"
          ]
        }
      ]
    },
    {
      "cell_type": "markdown",
      "source": [
        "Preprocessing"
      ],
      "metadata": {
        "id": "C1GD5E4HjPJ4"
      }
    },
    {
      "cell_type": "code",
      "source": [
        "# convert all letters to lower case\n",
        "text_lowcase = text.lower()\n",
        "print(text_lowcase)\n",
        "print('string length : ', len(text_lowcase))"
      ],
      "metadata": {
        "colab": {
          "base_uri": "https://localhost:8080/"
        },
        "id": "EI7w4SKujQB4",
        "outputId": "e9adea8d-5da8-452e-bd94-3811d62b0af3"
      },
      "execution_count": 4,
      "outputs": [
        {
          "output_type": "stream",
          "name": "stdout",
          "text": [
            "red pink pink blue blue yellow orange blue blue pink\n",
            "string length :  52\n"
          ]
        }
      ]
    },
    {
      "cell_type": "code",
      "source": [
        "# some regex to tokenize the string to words and return them in a list\n",
        "words = re.findall(r'\\w+', text_lowcase)\n",
        "print(words)\n",
        "print('count : ', len(words))"
      ],
      "metadata": {
        "colab": {
          "base_uri": "https://localhost:8080/"
        },
        "id": "hiVpRSWejjQB",
        "outputId": "dda299c8-7058-4f0a-f819-3f6b24066e87"
      },
      "execution_count": 6,
      "outputs": [
        {
          "output_type": "stream",
          "name": "stdout",
          "text": [
            "['red', 'pink', 'pink', 'blue', 'blue', 'yellow', 'orange', 'blue', 'blue', 'pink']\n",
            "count :  10\n"
          ]
        }
      ]
    },
    {
      "cell_type": "markdown",
      "source": [
        "**Create Vocabulary**\n",
        "\n",
        "Option 1 : A set of distinct words from the text"
      ],
      "metadata": {
        "id": "eVCV6kzykBDL"
      }
    },
    {
      "cell_type": "code",
      "source": [
        "# create vocab \n",
        "vocab = set(words)\n",
        "print(vocab)\n",
        "print('count:' , len(vocab))"
      ],
      "metadata": {
        "colab": {
          "base_uri": "https://localhost:8080/"
        },
        "id": "rCdY8bWokDPw",
        "outputId": "b41b70de-d20b-44b5-b5d1-0ade580a178a"
      },
      "execution_count": 7,
      "outputs": [
        {
          "output_type": "stream",
          "name": "stdout",
          "text": [
            "{'red', 'blue', 'pink', 'orange', 'yellow'}\n",
            "count: 5\n"
          ]
        }
      ]
    },
    {
      "cell_type": "markdown",
      "source": [
        "**Add Information with Word Counts**\n",
        "\n",
        "Option 2 : Two alternatives for including the word count as well"
      ],
      "metadata": {
        "id": "0tsqlGe4kYm5"
      }
    },
    {
      "cell_type": "code",
      "source": [
        "# create vocab including word count\n",
        "counts_a = dict()\n",
        "for w in words:\n",
        "  counts_a[w] = counts_a.get(w,0) + 1\n",
        "print(counts_a)\n",
        "print('count : ' , len(counts_a))"
      ],
      "metadata": {
        "colab": {
          "base_uri": "https://localhost:8080/"
        },
        "id": "bOoAQJJMkbeh",
        "outputId": "7ff6429e-f91d-4a6a-937c-b592033cb198"
      },
      "execution_count": 9,
      "outputs": [
        {
          "output_type": "stream",
          "name": "stdout",
          "text": [
            "{'red': 1, 'pink': 3, 'blue': 4, 'yellow': 1, 'orange': 1}\n",
            "count :  5\n"
          ]
        }
      ]
    },
    {
      "cell_type": "code",
      "source": [
        "# create vocab including word count using collections.Counter\n",
        "counts_b = dict()\n",
        "counts_b = Counter(words)\n",
        "print(counts_b)\n",
        "print('count:' , len(counts_b))"
      ],
      "metadata": {
        "colab": {
          "base_uri": "https://localhost:8080/"
        },
        "id": "S4orY-5plEHq",
        "outputId": "a25aedab-2fb2-4ab6-e509-097462968411"
      },
      "execution_count": 10,
      "outputs": [
        {
          "output_type": "stream",
          "name": "stdout",
          "text": [
            "Counter({'blue': 4, 'pink': 3, 'red': 1, 'yellow': 1, 'orange': 1})\n",
            "count: 5\n"
          ]
        }
      ]
    },
    {
      "cell_type": "code",
      "source": [
        "# barchart of sorted word counts\n",
        "d = {'blue': counts_b['blue'], 'pink': counts_b['pink'], 'red': counts_b['red'], 'yellow': counts_b['yellow'], 'orange': counts_b['orange']}\n",
        "plt.bar(range(len(d)), list(d.values()), align='center', color=d.keys())\n",
        "_ = plt.xticks(range(len(d)), list(d.keys()))"
      ],
      "metadata": {
        "colab": {
          "base_uri": "https://localhost:8080/",
          "height": 265
        },
        "id": "T1PZPm07lZOz",
        "outputId": "5a5e084e-5c01-46b0-f80d-016e97b85c4b"
      },
      "execution_count": 11,
      "outputs": [
        {
          "output_type": "display_data",
          "data": {
            "image/png": "[encoded data removed]",
            "text/plain": [
              "<Figure size 432x288 with 1 Axes>"
            ]
          },
          "metadata": {
            "needs_background": "light"
          }
        }
      ]
    },
    {
      "cell_type": "markdown",
      "source": [
        "**Ungraded Exercise**\n",
        "\n",
        "Note that counts_b, above, returned by collections.Counter is sorted by word count\n",
        "\n",
        "Can you modify the tiny corpus of text so that a new color appears between pink and red in counts_b ?\n",
        "\n",
        "Do you need to run all the cells again, or just specific ones ?"
      ],
      "metadata": {
        "id": "KAKN49p5lkyA"
      }
    },
    {
      "cell_type": "code",
      "source": [
        "print('counts_b : ', counts_b)\n",
        "print('count : ', len(counts_b))"
      ],
      "metadata": {
        "colab": {
          "base_uri": "https://localhost:8080/"
        },
        "id": "nx6V4WdKlnQx",
        "outputId": "2a4c5a2b-ce86-4b03-b031-dad245d215b8"
      },
      "execution_count": 12,
      "outputs": [
        {
          "output_type": "stream",
          "name": "stdout",
          "text": [
            "counts_b :  Counter({'blue': 4, 'pink': 3, 'red': 1, 'yellow': 1, 'orange': 1})\n",
            "count :  5\n"
          ]
        }
      ]
    },
    {
      "cell_type": "markdown",
      "source": [
        "**Summary**\n",
        "\n",
        "This is a tiny example but the methodology scales very well.\n",
        "In the assignment you will create a large vocabulary of thousands of words, from a corpus\n",
        "of tens of thousands or words! But the mechanics are exactly the same.\n",
        "\n",
        "The only extra things to pay attention to should be; run time, memory management and the vocab data structure.\n",
        "So the choice of approach used in code blocks counts_a vs counts_b, above, will be important."
      ],
      "metadata": {
        "id": "rlL6Qvewlr-Q"
      }
    }
  ]
}
