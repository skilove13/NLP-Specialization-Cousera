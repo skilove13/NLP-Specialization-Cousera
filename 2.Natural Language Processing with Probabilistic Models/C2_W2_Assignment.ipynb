{
  "cells": [
    {
      "cell_type": "markdown",
      "metadata": {
        "id": "view-in-github",
        "colab_type": "text"
      },
      "source": [
        "<a href=\"https://colab.research.google.com/github/skilove13/NLP-Specialization-Cousera/blob/main/C2_W2_Assignment.ipynb\" target=\"_parent\"><img src=\"https://colab.research.google.com/assets/colab-badge.svg\" alt=\"Open In Colab\"/></a>"
      ]
    },
    {
      "cell_type": "markdown",
      "metadata": {
        "id": "m0cCSm_74rUc"
      },
      "source": [
        "# Assignment 2: Parts-of-Speech Tagging (POS)\n",
        "\n",
        "Welcome to the second assignment of Course 2 in the Natural Language Processing specialization. This assignment will develop skills in part-of-speech (POS) tagging, the process of assigning a part-of-speech tag (Noun, Verb, Adjective...) to each word in an input text.  Tagging is difficult because some words can represent more than one part of speech at different times. They are  **Ambiguous**. Let's look at the following example: \n",
        "\n",
        "- The whole team played **well**. [adverb]\n",
        "- You are doing **well** for yourself. [adjective]\n",
        "- **Well**, this assignment took me forever to complete. [interjection]\n",
        "- The **well** is dry. [noun]\n",
        "- Tears were beginning to **well** in her eyes. [verb]\n",
        "\n",
        "Distinguishing the parts-of-speech of a word in a sentence will help you better understand the meaning of a sentence. This would be critically important in search queries. Identifying the proper noun, the organization, the stock symbol, or anything similar would greatly improve everything ranging from speech recognition to search. By completing this assignment, you will: \n",
        "\n",
        "- Learn how parts-of-speech tagging works\n",
        "- Compute the transition matrix A in a Hidden Markov Model\n",
        "- Compute the emission matrix B in a Hidden Markov Model\n",
        "- Compute the Viterbi algorithm \n",
        "- Compute the accuracy of your own model \n"
      ]
    },
    {
      "cell_type": "markdown",
      "metadata": {
        "id": "F847jE-_4rUf"
      },
      "source": [
        "## Outline\n",
        "\n",
        "- [0 Data Sources](#0)\n",
        "- [1 POS Tagging](#1)\n",
        "    - [1.1 Training](#1.1)\n",
        "        - [Exercise 01](#ex-01)\n",
        "    - [1.2 Testing](#1.2)\n",
        "        - [Exercise 02](#ex-02)\n",
        "- [2 Hidden Markov Models](#2)\n",
        "    - [2.1 Generating Matrices](#2.1)\n",
        "        - [Exercise 03](#ex-03)\n",
        "        - [Exercise 04](#ex-04)\n",
        "- [3 Viterbi Algorithm](#3)\n",
        "    - [3.1 Initialization](#3.1)\n",
        "        - [Exercise 05](#ex-05)\n",
        "    - [3.2 Viterbi Forward](#3.2)\n",
        "        - [Exercise 06](#ex-06)\n",
        "    - [3.3 Viterbi Backward](#3.3)\n",
        "        - [Exercise 07](#ex-07)\n",
        "- [4 Predicting on a data set](#4)\n",
        "    - [Exercise 08](#ex-08)"
      ]
    },
    {
      "cell_type": "code",
      "execution_count": 39,
      "metadata": {
        "id": "_txSS6Ar4rUg"
      },
      "outputs": [],
      "source": [
        "# Importing packages and loading in the data set \n",
        "#from utils_pos import get_word_tag, preprocess  \n",
        "import pandas as pd\n",
        "from collections import defaultdict\n",
        "import math\n",
        "import numpy as np\n",
        "\n",
        "#from utils_pos import get_word_tag, preprocess  \n",
        "import string\n",
        "\n",
        "# Punctuation characters\n",
        "punct = set(string.punctuation)\n",
        "\n",
        "# Morphology rules used to assign unknown word tokens\n",
        "noun_suffix = [\"action\", \"age\", \"ance\", \"cy\", \"dom\", \"ee\", \"ence\", \"er\", \"hood\", \"ion\", \"ism\", \"ist\", \"ity\", \"ling\", \"ment\", \"ness\", \"or\", \"ry\", \"scape\", \"ship\", \"ty\"]\n",
        "verb_suffix = [\"ate\", \"ify\", \"ise\", \"ize\"]\n",
        "adj_suffix = [\"able\", \"ese\", \"ful\", \"i\", \"ian\", \"ible\", \"ic\", \"ish\", \"ive\", \"less\", \"ly\", \"ous\"]\n",
        "adv_suffix = [\"ward\", \"wards\", \"wise\"]\n",
        "\n",
        "def get_word_tag(line, vocab): \n",
        "    if not line.split():\n",
        "        word = \"--n--\"\n",
        "        tag = \"--s--\"\n",
        "        return word, tag\n",
        "    else:\n",
        "        word, tag = line.split()\n",
        "        if word not in vocab: \n",
        "            # Handle unknown words\n",
        "            word = assign_unk(word)\n",
        "        return word, tag\n",
        "    return None \n",
        "\n",
        "def preprocess(vocab, data_fp):\n",
        "    \"\"\"\n",
        "    Preprocess data\n",
        "    \"\"\"\n",
        "    orig = []\n",
        "    prep = []\n",
        "\n",
        "    # Read data\n",
        "    with open(data_fp, \"r\") as data_file:\n",
        "\n",
        "        for cnt, word in enumerate(data_file):\n",
        "\n",
        "            # End of sentence\n",
        "            if not word.split():\n",
        "                orig.append(word.strip())\n",
        "                word = \"--n--\"\n",
        "                prep.append(word)\n",
        "                continue\n",
        "\n",
        "            # Handle unknown words\n",
        "            elif word.strip() not in vocab:\n",
        "                orig.append(word.strip())\n",
        "                word = assign_unk(word)\n",
        "                prep.append(word)\n",
        "                continue\n",
        "\n",
        "            else:\n",
        "                orig.append(word.strip())\n",
        "                prep.append(word.strip())\n",
        "\n",
        "    assert(len(orig) == len(open(data_fp, \"r\").readlines()))\n",
        "    assert(len(prep) == len(open(data_fp, \"r\").readlines()))\n",
        "\n",
        "    return orig, prep\n",
        "\n",
        "def assign_unk(tok):\n",
        "    \"\"\"\n",
        "    Assign unknown word tokens\n",
        "    \"\"\"\n",
        "    # Digits\n",
        "    if any(char.isdigit() for char in tok):\n",
        "        return \"--unk_digit--\"\n",
        "\n",
        "    # Punctuation\n",
        "    elif any(char in punct for char in tok):\n",
        "        return \"--unk_punct--\"\n",
        "\n",
        "    # Upper-case\n",
        "    elif any(char.isupper() for char in tok):\n",
        "        return \"--unk_upper--\"\n",
        "\n",
        "    # Nouns\n",
        "    elif any(tok.endswith(suffix) for suffix in noun_suffix):\n",
        "        return \"--unk_noun--\"\n",
        "\n",
        "    # Verbs\n",
        "    elif any(tok.endswith(suffix) for suffix in verb_suffix):\n",
        "        return \"--unk_verb--\"\n",
        "\n",
        "    # Adjectives\n",
        "    elif any(tok.endswith(suffix) for suffix in adj_suffix):\n",
        "        return \"--unk_adj--\"\n",
        "\n",
        "    # Adverbs\n",
        "    elif any(tok.endswith(suffix) for suffix in adv_suffix):\n",
        "        return \"--unk_adv--\"\n",
        "\n",
        "    return \"--unk--\"\n"
      ]
    },
    {
      "cell_type": "markdown",
      "metadata": {
        "id": "FYvLtsVL4rUg"
      },
      "source": [
        "<a name='0'></a>\n",
        "## Part 0: Data Sources\n",
        "This assignment will use two tagged data sets collected from the **Wall Street Journal (WSJ)**. \n",
        "\n",
        "[Here](http://relearn.be/2015/training-common-sense/sources/software/pattern-2.6-critical-fork/docs/html/mbsp-tags.html) is an example 'tag-set' or Part of Speech designation describing the two or three letter tag and their meaning. \n",
        "- One data set (**WSJ-2_21.pos**) will be used for **training**.\n",
        "- The other (**WSJ-24.pos**) for **testing**. \n",
        "- The tagged training data has been preprocessed to form a vocabulary (**hmm_vocab.txt**). \n",
        "- The words in the vocabulary are words from the training set that were used two or more times. \n",
        "- The vocabulary is augmented with a set of 'unknown word tokens', described below. \n",
        "\n",
        "The training set will be used to create the emission, transmission and tag counts. \n",
        "\n",
        "The test set (WSJ-24.pos) is read in to create `y`. \n",
        "- This contains both the test text and the true tag. \n",
        "- The test set has also been preprocessed to remove the tags to form **test_words.txt**. \n",
        "- This is read in and further processed to identify the end of sentences and handle words not in the vocabulary using functions provided in **utils_pos.py**. \n",
        "- This forms the list `prep`, the preprocessed text used to test our  POS taggers.\n",
        "\n",
        "A POS tagger will necessarily encounter words that are not in its datasets. \n",
        "- To improve accuracy, these words are further analyzed during preprocessing to extract available hints as to their appropriate tag. \n",
        "- For example, the suffix 'ize' is a hint that the word is a verb, as in 'final-ize' or 'character-ize'. \n",
        "- A set of unknown-tokens, such as '--unk-verb--' or '--unk-noun--' will replace the unknown words in both the training and test corpus and will appear in the emission, transmission and tag data structures.\n",
        "\n",
        "\n",
        "<img src = \"DataSources1.PNG\" />"
      ]
    },
    {
      "cell_type": "markdown",
      "metadata": {
        "id": "MJ3azwaa4rUh"
      },
      "source": [
        "Implementation note: \n",
        "\n",
        "- For python 3.6 and beyond, dictionaries retain the insertion order. \n",
        "- Furthermore, their hash-based lookup makes them suitable for rapid membership tests. \n",
        "    - If _di_ is a dictionary, `key in di` will return `True` if _di_ has a key _key_, else `False`. \n",
        "\n",
        "The dictionary `vocab` will utilize these features."
      ]
    },
    {
      "cell_type": "code",
      "execution_count": 40,
      "metadata": {
        "colab": {
          "base_uri": "https://localhost:8080/"
        },
        "id": "9U2BR9EO4rUi",
        "outputId": "bb40875d-4c21-4277-8cc9-f9234b3e4e81"
      },
      "outputs": [
        {
          "output_type": "stream",
          "name": "stdout",
          "text": [
            "A few items of the training corpus list\n",
            "['In\\tIN\\n', 'an\\tDT\\n', 'Oct.\\tNNP\\n', '19\\tCD\\n', 'review\\tNN\\n']\n",
            "['``\\t``\\n', 'The\\tDT\\n', 'Misanthrope\\tNN\\n', \"''\\t''\\n\"]\n"
          ]
        }
      ],
      "source": [
        "# load in the training corpus\n",
        "with open(\"WSJ_02-21.pos\", 'r') as f:\n",
        "    training_corpus = f.readlines()\n",
        "\n",
        "print(f\"A few items of the training corpus list\")\n",
        "print(training_corpus[0:5])\n",
        "print(training_corpus[6:10])"
      ]
    },
    {
      "cell_type": "code",
      "execution_count": 41,
      "metadata": {
        "colab": {
          "base_uri": "https://localhost:8080/"
        },
        "id": "k-MiYkQW4rUi",
        "outputId": "a861201c-9f9c-483a-d586-4589addcb3bd"
      },
      "outputs": [
        {
          "output_type": "stream",
          "name": "stdout",
          "text": [
            "A few items of the vocabulary list\n",
            "['!', '#', '$', '%', '&', \"'\", \"''\", \"'40s\", \"'60s\", \"'70s\", \"'80s\", \"'86\", \"'90s\", \"'N\", \"'S\", \"'d\", \"'em\", \"'ll\", \"'m\", \"'n'\", \"'re\", \"'s\", \"'til\", \"'ve\", '(', ')', ',', '-', '--', '--n--', '--unk--', '--unk_adj--', '--unk_adv--', '--unk_digit--', '--unk_noun--', '--unk_punct--', '--unk_upper--', '--unk_verb--', '.', '...', '0.01', '0.0108', '0.02', '0.03', '0.05', '0.1', '0.10', '0.12', '0.13', '0.15']\n",
            "\n",
            "A few items at the end of the vocabulary list\n",
            "['yards', 'yardstick', 'year', 'year-ago', 'year-before', 'year-earlier', 'year-end', 'year-on-year', 'year-round', 'year-to-date', 'year-to-year', 'yearlong', 'yearly', 'years', 'yeast', 'yelled', 'yelling', 'yellow', 'yen', 'yes', 'yesterday', 'yet', 'yield', 'yielded', 'yielding', 'yields', 'you', 'young', 'younger', 'youngest', 'youngsters', 'your', 'yourself', 'youth', 'youthful', 'yuppie', 'yuppies', 'zero', 'zero-coupon', 'zeroing', 'zeros', 'zinc', 'zip', 'zombie', 'zone', 'zones', 'zoning', '{', '}', '']\n"
          ]
        }
      ],
      "source": [
        "# read the vocabulary data, split by each line of text, and save the list\n",
        "with open(\"hmm_vocab.txt\", 'r') as f:\n",
        "    voc_l = f.read().split('\\n')\n",
        "\n",
        "print(\"A few items of the vocabulary list\")\n",
        "print(voc_l[0:50])\n",
        "print()\n",
        "print(\"A few items at the end of the vocabulary list\")\n",
        "print(voc_l[-50:])"
      ]
    },
    {
      "cell_type": "code",
      "execution_count": 42,
      "metadata": {
        "colab": {
          "base_uri": "https://localhost:8080/"
        },
        "id": "XeNSAXH74rUj",
        "outputId": "d9710cb9-38b9-4ef0-94e3-29b8a356645f"
      },
      "outputs": [
        {
          "output_type": "stream",
          "name": "stdout",
          "text": [
            "Vocabulary dictionary, key is the word, value is a unique integer\n",
            ":0\n",
            "!:1\n",
            "#:2\n",
            "$:3\n",
            "%:4\n",
            "&:5\n",
            "':6\n",
            "'':7\n",
            "'40s:8\n",
            "'60s:9\n",
            "'70s:10\n",
            "'80s:11\n",
            "'86:12\n",
            "'90s:13\n",
            "'N:14\n",
            "'S:15\n",
            "'d:16\n",
            "'em:17\n",
            "'ll:18\n",
            "'m:19\n",
            "'n':20\n"
          ]
        }
      ],
      "source": [
        "# vocab: dictionary that has the index of the corresponding words\n",
        "vocab = {} \n",
        "\n",
        "# Get the index of the corresponding words. \n",
        "for i, word in enumerate(sorted(voc_l)): \n",
        "    vocab[word] = i       \n",
        "    \n",
        "print(\"Vocabulary dictionary, key is the word, value is a unique integer\")\n",
        "cnt = 0\n",
        "for k,v in vocab.items():\n",
        "    print(f\"{k}:{v}\")\n",
        "    cnt += 1\n",
        "    if cnt > 20:\n",
        "        break"
      ]
    },
    {
      "cell_type": "code",
      "execution_count": 43,
      "metadata": {
        "colab": {
          "base_uri": "https://localhost:8080/"
        },
        "id": "5GV2geps4rUk",
        "outputId": "8a5453b8-1f41-4a1e-c5c4-00ce635a082b"
      },
      "outputs": [
        {
          "output_type": "stream",
          "name": "stdout",
          "text": [
            "A sample of the test corpus\n",
            "['The\\tDT\\n', 'economy\\tNN\\n', \"'s\\tPOS\\n\", 'temperature\\tNN\\n', 'will\\tMD\\n', 'be\\tVB\\n', 'taken\\tVBN\\n', 'from\\tIN\\n', 'several\\tJJ\\n', 'vantage\\tNN\\n']\n"
          ]
        }
      ],
      "source": [
        "# load in the test corpus\n",
        "with open(\"WSJ_24.pos\", 'r') as f:\n",
        "    y = f.readlines()\n",
        "\n",
        "print(\"A sample of the test corpus\")\n",
        "print(y[0:10])"
      ]
    },
    {
      "cell_type": "code",
      "execution_count": 44,
      "metadata": {
        "colab": {
          "base_uri": "https://localhost:8080/"
        },
        "id": "SX3qq1kg4rUl",
        "outputId": "348e23bc-c302-40c5-e7b1-b75ef9d0a752"
      },
      "outputs": [
        {
          "output_type": "stream",
          "name": "stdout",
          "text": [
            "The length of the preprocessed test corpus:  34199\n",
            "This is a sample of the test_corpus: \n",
            "['The', 'economy', \"'s\", 'temperature', 'will', 'be', 'taken', 'from', 'several', '--unk--']\n"
          ]
        }
      ],
      "source": [
        "#corpus without tags, preprocessed\n",
        "_, prep = preprocess(vocab, \"test.words\")     \n",
        "\n",
        "print('The length of the preprocessed test corpus: ', len(prep))\n",
        "print('This is a sample of the test_corpus: ')\n",
        "print(prep[0:10])"
      ]
    },
    {
      "cell_type": "markdown",
      "metadata": {
        "id": "6yga-Om34rUl"
      },
      "source": [
        "<a name='1'></a>\n",
        "# Part 1: Parts-of-speech tagging \n",
        "\n",
        "<a name='1.1'></a>\n",
        "## Part 1.1 - Training\n",
        "You will start with the simplest possible parts-of-speech tagger and we will build up to the state of the art. \n",
        "\n",
        "In this section, you will find the words that are not ambiguous. \n",
        "- For example, the word `is` is a verb and it is not ambiguous. \n",
        "- In the `WSJ` corpus, $86$% of the token are unambiguous (meaning they have only one tag) \n",
        "- About $14\\%$ are ambiguous (meaning that they have more than one tag)\n",
        "\n",
        "<img src = \"pos.png\" style=\"width:400px;height:250px;\"/>\n",
        "\n",
        "Before you start predicting the tags of each word, you will need to compute a few dictionaries that will help you to generate the tables. "
      ]
    },
    {
      "cell_type": "markdown",
      "metadata": {
        "id": "Tb8WrFEG4rUm"
      },
      "source": [
        "#### Transition counts\n",
        "- The first dictionary is the `transition_counts` dictionary which computes the number of times each tag happened next to another tag. \n",
        "\n",
        "This dictionary will be used to compute: \n",
        "$$P(t_i |t_{i-1}) \\tag{1}$$\n",
        "\n",
        "This is the probability of a tag at position $i$ given the tag at position $i-1$.\n",
        "\n",
        "In order for you to compute equation 1, you will create a `transition_counts` dictionary where \n",
        "- The keys are `(prev_tag, tag)`\n",
        "- The values are the number of times those two tags appeared in that order. "
      ]
    },
    {
      "cell_type": "markdown",
      "metadata": {
        "id": "ossJDzFa4rUm"
      },
      "source": [
        "#### Emission counts\n",
        "\n",
        "The second dictionary you will compute is the `emission_counts` dictionary. This dictionary will be used to compute:\n",
        "\n",
        "$$P(w_i|t_i)\\tag{2}$$\n",
        "\n",
        "In other words, you will use it to compute the probability of a word given its tag. \n",
        "\n",
        "In order for you to compute equation 2, you will create an `emission_counts` dictionary where \n",
        "- The keys are `(tag, word)` \n",
        "- The values are the number of times that pair showed up in your training set. "
      ]
    },
    {
      "cell_type": "markdown",
      "metadata": {
        "id": "o7AOVDCT4rUn"
      },
      "source": [
        "#### Tag counts\n",
        "\n",
        "The last dictionary you will compute is the `tag_counts` dictionary. \n",
        "- The key is the tag \n",
        "- The value is the number of times each tag appeared."
      ]
    },
    {
      "cell_type": "markdown",
      "metadata": {
        "id": "WBKq6t0q4rUn"
      },
      "source": [
        "<a name='ex-01'></a>\n",
        "### Exercise 01\n",
        "\n",
        "**Instructions:** Write a program that takes in the `training_corpus` and returns the three dictionaries mentioned above `transition_counts`, `emission_counts`, and `tag_counts`. \n",
        "- `emission_counts`: maps (tag, word) to the number of times it happened. \n",
        "- `transition_counts`: maps (prev_tag, tag) to the number of times it has appeared. \n",
        "- `tag_counts`: maps (tag) to the number of times it has occured. \n",
        "\n",
        "Implementation note: This routine utilises *defaultdict*, which is a subclass of *dict*. \n",
        "- A standard Python dictionary throws a *KeyError* if you try to access an item with a key that is not currently in the dictionary. \n",
        "- In contrast, the *defaultdict* will create an item of the type of the argument, in this case an integer with the default value of 0. \n",
        "- See [defaultdict](https://docs.python.org/3.3/library/collections.html#defaultdict-objects)."
      ]
    },
    {
      "cell_type": "code",
      "execution_count": 45,
      "metadata": {
        "id": "EmQibdKM4rUn"
      },
      "outputs": [],
      "source": [
        "# UNQ_C1 (UNIQUE CELL IDENTIFIER, DO NOT EDIT)\n",
        "# GRADED FUNCTION: create_dictionaries\n",
        "def create_dictionaries(training_corpus, vocab):\n",
        "    \"\"\"\n",
        "    Input: \n",
        "        training_corpus: a corpus where each line has a word followed by its tag.\n",
        "        vocab: a dictionary where keys are words in vocabulary and value is an index\n",
        "    Output: \n",
        "        emission_counts: a dictionary where the keys are (tag, word) and the values are the counts\n",
        "        transition_counts: a dictionary where the keys are (prev_tag, tag) and the values are the counts\n",
        "        tag_counts: a dictionary where the keys are the tags and the values are the counts\n",
        "    \"\"\"\n",
        "    \n",
        "    # initialize the dictionaries using defaultdict\n",
        "    emission_counts = defaultdict(int)\n",
        "    transition_counts = defaultdict(int)\n",
        "    tag_counts = defaultdict(int)\n",
        "    \n",
        "    # Initialize \"prev_tag\" (previous tag) with the start state, denoted by '--s--'\n",
        "    prev_tag = '--s--' \n",
        "    \n",
        "    # use 'i' to track the line number in the corpus\n",
        "    i = 0 \n",
        "    \n",
        "    # Each item in the training corpus contains a word and its POS tag\n",
        "    # Go through each word and its tag in the training corpus\n",
        "    for word_tag in training_corpus:\n",
        "        \n",
        "        # Increment the word_tag count\n",
        "        i += 1\n",
        "        \n",
        "        # Every 50,000 words, print the word count\n",
        "        if i % 50000 == 0:\n",
        "            print(f\"word count = {i}\")\n",
        "            \n",
        "        ### START CODE HERE (Replace instances of 'None' with your code) ###\n",
        "        # get the word and tag using the get_word_tag helper function (imported from utils_pos.py)\n",
        "        word, tag = get_word_tag(word_tag,vocab) \n",
        "        \n",
        "        # Increment the transition count for the previous word and tag\n",
        "        transition_counts[(prev_tag, tag)] += 1\n",
        "        \n",
        "        # Increment the emission count for the tag and word\n",
        "        emission_counts[(tag, word)] += 1\n",
        "\n",
        "        # Increment the tag count\n",
        "        tag_counts[tag] += 1\n",
        "\n",
        "        # Set the previous tag to this tag (for the next iteration of the loop)\n",
        "        prev_tag = tag\n",
        "        \n",
        "        ### END CODE HERE ###\n",
        "        \n",
        "    return emission_counts, transition_counts, tag_counts"
      ]
    },
    {
      "cell_type": "code",
      "execution_count": 46,
      "metadata": {
        "colab": {
          "base_uri": "https://localhost:8080/"
        },
        "id": "LhmLU54H4rUo",
        "outputId": "ed5a4541-d3a9-496e-e088-85b004da06c2"
      },
      "outputs": [
        {
          "output_type": "stream",
          "name": "stdout",
          "text": [
            "word count = 50000\n",
            "word count = 100000\n",
            "word count = 150000\n",
            "word count = 200000\n",
            "word count = 250000\n",
            "word count = 300000\n",
            "word count = 350000\n",
            "word count = 400000\n",
            "word count = 450000\n",
            "word count = 500000\n",
            "word count = 550000\n",
            "word count = 600000\n",
            "word count = 650000\n",
            "word count = 700000\n",
            "word count = 750000\n",
            "word count = 800000\n",
            "word count = 850000\n",
            "word count = 900000\n",
            "word count = 950000\n"
          ]
        }
      ],
      "source": [
        "emission_counts, transition_counts, tag_counts = create_dictionaries(training_corpus, vocab)"
      ]
    },
    {
      "cell_type": "code",
      "execution_count": 47,
      "metadata": {
        "colab": {
          "base_uri": "https://localhost:8080/"
        },
        "id": "CkQs-0i14rUo",
        "outputId": "57a99f20-8cb9-422c-ef9f-a6d79019d558"
      },
      "outputs": [
        {
          "output_type": "stream",
          "name": "stdout",
          "text": [
            "Number of POS tags (number of 'states'): 46\n",
            "View these POS tags (states)\n",
            "['#', '$', \"''\", '(', ')', ',', '--s--', '.', ':', 'CC', 'CD', 'DT', 'EX', 'FW', 'IN', 'JJ', 'JJR', 'JJS', 'LS', 'MD', 'NN', 'NNP', 'NNPS', 'NNS', 'PDT', 'POS', 'PRP', 'PRP$', 'RB', 'RBR', 'RBS', 'RP', 'SYM', 'TO', 'UH', 'VB', 'VBD', 'VBG', 'VBN', 'VBP', 'VBZ', 'WDT', 'WP', 'WP$', 'WRB', '``']\n"
          ]
        }
      ],
      "source": [
        "# get all the POS states\n",
        "states = sorted(tag_counts.keys())\n",
        "print(f\"Number of POS tags (number of 'states'): {len(states)}\")\n",
        "print(\"View these POS tags (states)\")\n",
        "print(states)"
      ]
    },
    {
      "cell_type": "markdown",
      "metadata": {
        "id": "aSl-N8Ts4rUq"
      },
      "source": [
        "##### Expected Output\n",
        "\n",
        "```CPP\n",
        "Number of POS tags (number of 'states'46\n",
        "View these states\n",
        "['#', '$', \"''\", '(', ')', ',', '--s--', '.', ':', 'CC', 'CD', 'DT', 'EX', 'FW', 'IN', 'JJ', 'JJR', 'JJS', 'LS', 'MD', 'NN', 'NNP', 'NNPS', 'NNS', 'PDT', 'POS', 'PRP', 'PRP$', 'RB', 'RBR', 'RBS', 'RP', 'SYM', 'TO', 'UH', 'VB', 'VBD', 'VBG', 'VBN', 'VBP', 'VBZ', 'WDT', 'WP', 'WP$', 'WRB', '``']\n",
        "```"
      ]
    },
    {
      "cell_type": "markdown",
      "metadata": {
        "id": "gCmm03CL4rUq"
      },
      "source": [
        "The 'states' are the Parts-of-speech designations found in the training data. They will also be referred to as 'tags' or POS in this assignment. \n",
        "\n",
        "- \"NN\" is noun, singular, \n",
        "- 'NNS' is noun, plural. \n",
        "- In addition, there are helpful tags like '--s--' which indicate a start of a sentence.\n",
        "- You can get a more complete description at [Penn Treebank II tag set](https://www.clips.uantwerpen.be/pages/mbsp-tags). "
      ]
    },
    {
      "cell_type": "code",
      "execution_count": 48,
      "metadata": {
        "colab": {
          "base_uri": "https://localhost:8080/"
        },
        "id": "Us0KfDTt4rUr",
        "outputId": "2efff2d0-bf41-4d26-de2e-5436dfed93ea"
      },
      "outputs": [
        {
          "output_type": "stream",
          "name": "stdout",
          "text": [
            "transition examples: \n",
            "(('--s--', 'IN'), 5050)\n",
            "(('IN', 'DT'), 32364)\n",
            "(('DT', 'NNP'), 9044)\n",
            "\n",
            "emission examples: \n",
            "(('DT', 'any'), 721)\n",
            "(('NN', 'decrease'), 7)\n",
            "(('NN', 'insider-trading'), 5)\n",
            "\n",
            "ambiguous word example: \n",
            "('RB', 'back') 304\n",
            "('VB', 'back') 20\n",
            "('RP', 'back') 84\n",
            "('JJ', 'back') 25\n",
            "('NN', 'back') 29\n",
            "('VBP', 'back') 4\n"
          ]
        }
      ],
      "source": [
        "print(\"transition examples: \")\n",
        "for ex in list(transition_counts.items())[:3]:\n",
        "    print(ex)\n",
        "print()\n",
        "\n",
        "print(\"emission examples: \")\n",
        "for ex in list(emission_counts.items())[200:203]:\n",
        "    print (ex)\n",
        "print()\n",
        "\n",
        "print(\"ambiguous word example: \")\n",
        "for tup,cnt in emission_counts.items():\n",
        "    if tup[1] == 'back': print (tup, cnt) "
      ]
    },
    {
      "cell_type": "markdown",
      "metadata": {
        "id": "ye01YmdW4rUr"
      },
      "source": [
        "##### Expected Output\n",
        "\n",
        "```CPP\n",
        "transition examples: \n",
        "(('--s--', 'IN'), 5050)\n",
        "(('IN', 'DT'), 32364)\n",
        "(('DT', 'NNP'), 9044)\n",
        "\n",
        "emission examples: \n",
        "(('DT', 'any'), 721)\n",
        "(('NN', 'decrease'), 7)\n",
        "(('NN', 'insider-trading'), 5)\n",
        "\n",
        "ambiguous word example: \n",
        "('RB', 'back') 304\n",
        "('VB', 'back') 20\n",
        "('RP', 'back') 84\n",
        "('JJ', 'back') 25\n",
        "('NN', 'back') 29\n",
        "('VBP', 'back') 4\n",
        "```"
      ]
    },
    {
      "cell_type": "markdown",
      "metadata": {
        "id": "ShBfcxZV4rUr"
      },
      "source": [
        "<a name='1.2'></a>\n",
        "### Part 1.2 - Testing\n",
        "\n",
        "Now you will test the accuracy of your parts-of-speech tagger using your `emission_counts` dictionary. \n",
        "- Given your preprocessed test corpus `prep`, you will assign a parts-of-speech tag to every word in that corpus. \n",
        "- Using the original tagged test corpus `y`, you will then compute what percent of the tags you got correct. "
      ]
    },
    {
      "cell_type": "markdown",
      "metadata": {
        "id": "wj8gacj64rUs"
      },
      "source": [
        "<a name='ex-02'></a>\n",
        "### Exercise 02\n",
        "\n",
        "**Instructions:** Implement `predict_pos` that computes the accuracy of your model. \n",
        "\n",
        "- This is a warm up exercise. \n",
        "- To assign a part of speech to a word, assign the most frequent POS for that word in the training set. \n",
        "- Then evaluate how well this approach works.  Each time you predict based on the most frequent POS for the given word, check whether the actual POS of that word is the same.  If so, the prediction was correct!\n",
        "- Calculate the accuracy as the number of correct predictions divided by the total number of words for which you predicted the POS tag."
      ]
    },
    {
      "cell_type": "code",
      "execution_count": 49,
      "metadata": {
        "id": "U2_BJp_F4rUs"
      },
      "outputs": [],
      "source": [
        "# UNQ_C2 (UNIQUE CELL IDENTIFIER, DO NOT EDIT)\n",
        "# GRADED FUNCTION: predict_pos\n",
        "\n",
        "def predict_pos(prep, y, emission_counts, vocab, states):\n",
        "    '''\n",
        "    Input: \n",
        "        prep: a preprocessed version of 'y'. A list with the 'word' component of the tuples.\n",
        "        y: a corpus composed of a list of tuples where each tuple consists of (word, POS)\n",
        "        emission_counts: a dictionary where the keys are (tag,word) tuples and the value is the count\n",
        "        vocab: a dictionary where keys are words in vocabulary and value is an index\n",
        "        states: a sorted list of all possible tags for this assignment\n",
        "    Output: \n",
        "        accuracy: Number of times you classified a word correctly\n",
        "    '''\n",
        "    \n",
        "    # Initialize the number of correct predictions to zero\n",
        "    num_correct = 0\n",
        "    \n",
        "    # Get the (tag, word) tuples, stored as a set\n",
        "    all_words = set(emission_counts.keys())\n",
        "    \n",
        "    # Get the number of (word, POS) tuples in the corpus 'y'\n",
        "    total = len(y)\n",
        "    for word, y_tup in zip(prep, y): \n",
        "\n",
        "        # Split the (word, POS) string into a list of two items\n",
        "        y_tup_l = y_tup.split()\n",
        "        \n",
        "        # Verify that y_tup contain both word and POS\n",
        "        if len(y_tup_l) == 2:\n",
        "            \n",
        "            # Set the true POS label for this word\n",
        "            true_label = y_tup_l[1]\n",
        "\n",
        "        else:\n",
        "            # If the y_tup didn't contain word and POS, go to next word\n",
        "            continue\n",
        "    \n",
        "        count_final = 0\n",
        "        pos_final = ''\n",
        "        \n",
        "        # If the word is in the vocabulary...\n",
        "        if word in vocab:\n",
        "            for pos in states:\n",
        "\n",
        "            ### START CODE HERE (Replace instances of 'None' with your code) ###\n",
        "                        \n",
        "                # define the key as the tuple containing the POS and word\n",
        "                key = (pos,word)\n",
        "\n",
        "                # check if the (pos, word) key exists in the emission_counts dictionary\n",
        "                if key in emission_counts : # complete this line\n",
        "\n",
        "                # get the emission count of the (pos,word) tuple \n",
        "                    count = emission_counts[key]\n",
        "\n",
        "                    # keep track of the POS with the largest count\n",
        "                    if count>count_final: # complete this line\n",
        "\n",
        "                        # update the final count (largest count)\n",
        "                        count_final = count\n",
        "\n",
        "                        # update the final POS\n",
        "                        pos_final = pos\n",
        "\n",
        "            # If the final POS (with the largest count) matches the true POS:\n",
        "            if pos_final == true_label: # complete this line\n",
        "                \n",
        "                # Update the number of correct predictions\n",
        "                num_correct += 1\n",
        "            \n",
        "    ### END CODE HERE ###\n",
        "    accuracy = num_correct / total\n",
        "    \n",
        "    return accuracy"
      ]
    },
    {
      "cell_type": "code",
      "execution_count": 50,
      "metadata": {
        "colab": {
          "base_uri": "https://localhost:8080/"
        },
        "id": "grPFFXZt4rUs",
        "outputId": "830752c4-b77d-4b89-9367-fab6f7e019f8"
      },
      "outputs": [
        {
          "output_type": "stream",
          "name": "stdout",
          "text": [
            "Accuracy of prediction using predict_pos is 0.8889\n"
          ]
        }
      ],
      "source": [
        "accuracy_predict_pos = predict_pos(prep, y, emission_counts, vocab, states)\n",
        "print(f\"Accuracy of prediction using predict_pos is {accuracy_predict_pos:.4f}\")"
      ]
    },
    {
      "cell_type": "markdown",
      "metadata": {
        "id": "MJKCyQUi4rUt"
      },
      "source": [
        "##### Expected Output\n",
        "```CPP\n",
        "Accuracy of prediction using predict_pos is 0.8889\n",
        "```\n",
        "\n",
        "88.9% is really good for this warm up exercise. With hidden markov models, you should be able to get **95% accuracy.**"
      ]
    },
    {
      "cell_type": "markdown",
      "metadata": {
        "id": "CZIvQYJY4rUt"
      },
      "source": [
        "<a name='2'></a>\n",
        "# Part 2: Hidden Markov Models for POS\n",
        "\n",
        "Now you will build something more context specific. Concretely, you will be implementing a Hidden Markov Model (HMM) with a Viterbi decoder\n",
        "- The HMM is one of the most commonly used algorithms in Natural Language Processing, and is a foundation to many deep learning techniques you will see in this specialization. \n",
        "- In addition to parts-of-speech tagging, HMM is used in speech recognition, speech synthesis, etc. \n",
        "- By completing this part of the assignment you will get a 95% accuracy on the same dataset you used in Part 1.\n",
        "\n",
        "The Markov Model contains a number of states and the probability of transition between those states. \n",
        "- In this case, the states are the parts-of-speech. \n",
        "- A Markov Model utilizes a transition matrix, `A`. \n",
        "- A Hidden Markov Model adds an observation or emission matrix `B` which describes the probability of a visible observation when we are in a particular state. \n",
        "- In this case, the emissions are the words in the corpus\n",
        "- The state, which is hidden, is the POS tag of that word."
      ]
    },
    {
      "cell_type": "markdown",
      "metadata": {
        "id": "n1X9KjF44rUt"
      },
      "source": [
        "<a name='2.1'></a>\n",
        "## Part 2.1 Generating Matrices\n",
        "\n",
        "### Creating the 'A' transition probabilities matrix\n",
        "Now that you have your `emission_counts`, `transition_counts`, and `tag_counts`, you will start implementing the Hidden Markov Model. \n",
        "\n",
        "This will allow you to quickly construct the \n",
        "- `A` transition probabilities matrix.\n",
        "- and the `B` emission probabilities matrix. \n",
        "\n",
        "You will also use some smoothing when computing these matrices. \n",
        "\n",
        "Here is an example of what the `A` transition matrix would look like (it is simplified to 5 tags for viewing. It is 46x46 in this assignment.):\n",
        "\n",
        "\n",
        "|**A**  |...|         RBS  |          RP  |         SYM  |      TO  |          UH|...\n",
        "| --- ||---:-------------| ------------ | ------------ | -------- | ---------- |----\n",
        "|**RBS**  |...|2.217069e-06  |2.217069e-06  |2.217069e-06  |0.008870  |2.217069e-06|...\n",
        "|**RP**   |...|3.756509e-07  |7.516775e-04  |3.756509e-07  |0.051089  |3.756509e-07|...\n",
        "|**SYM**  |...|1.722772e-05  |1.722772e-05  |1.722772e-05  |0.000017  |1.722772e-05|...\n",
        "|**TO**   |...|4.477336e-05  |4.472863e-08  |4.472863e-08  |0.000090  |4.477336e-05|...\n",
        "|**UH**  |...|1.030439e-05  |1.030439e-05  |1.030439e-05  |0.061837  |3.092348e-02|...\n",
        "| ... |...| ...          | ...          | ...          | ...      | ...        | ...\n",
        "\n",
        "Note that the matrix above was computed with smoothing. \n",
        "\n",
        "Each cell gives you the probability to go from one part of speech to another. \n",
        "- In other words, there is a 4.47e-8 chance of going from parts-of-speech `TO` to `RP`. \n",
        "- The sum of each row has to equal 1, because we assume that the next POS tag must be one of the available columns in the table.\n",
        "\n",
        "The smoothing was done as follows: \n",
        "\n",
        "$$ P(t_i | t_{i-1}) = \\frac{C(t_{i-1}, t_{i}) + \\alpha }{C(t_{i-1}) +\\alpha * N}\\tag{3}$$\n",
        "\n",
        "- $N$ is the total number of tags\n",
        "- $C(t_{i-1}, t_{i})$ is the count of the tuple (previous POS, current POS) in `transition_counts` dictionary.\n",
        "- $C(t_{i-1})$ is the count of the previous POS in the `tag_counts` dictionary.\n",
        "- $\\alpha$ is a smoothing parameter."
      ]
    },
    {
      "cell_type": "markdown",
      "metadata": {
        "id": "lDoicabZ4rUt"
      },
      "source": [
        "<a name='ex-03'></a>\n",
        "### Exercise 03\n",
        "\n",
        "**Instructions:** Implement the `create_transition_matrix` below for all tags. Your task is to output a matrix that computes equation 3 for each cell in matrix `A`. "
      ]
    },
    {
      "cell_type": "code",
      "execution_count": 51,
      "metadata": {
        "id": "ZiiSZuQc4rUt"
      },
      "outputs": [],
      "source": [
        "# UNQ_C3 (UNIQUE CELL IDENTIFIER, DO NOT EDIT)\n",
        "# GRADED FUNCTION: create_transition_matrix\n",
        "def create_transition_matrix(alpha, tag_counts, transition_counts):\n",
        "    ''' \n",
        "    Input: \n",
        "        alpha: number used for smoothing\n",
        "        tag_counts: a dictionary mapping each tag to its respective count\n",
        "        transition_counts: transition count for the previous word and tag\n",
        "    Output:\n",
        "        A: matrix of dimension (num_tags,num_tags)\n",
        "    '''\n",
        "    # Get a sorted list of unique POS tags\n",
        "    all_tags = sorted(tag_counts.keys())\n",
        "    \n",
        "    # Count the number of unique POS tags\n",
        "    num_tags = len(all_tags)\n",
        "    \n",
        "    # Initialize the transition matrix 'A'\n",
        "    A = np.zeros((num_tags,num_tags))\n",
        "    \n",
        "    # Get the unique transition tuples (previous POS, current POS)\n",
        "    trans_keys = set(transition_counts.keys())\n",
        "    \n",
        "    ### START CODE HERE (Replace instances of 'None' with your code) ### \n",
        "    \n",
        "    # Go through each row of the transition matrix A\n",
        "    for i in range(num_tags):\n",
        "        \n",
        "        # Go through each column of the transition matrix A\n",
        "        for j in range(num_tags):\n",
        "\n",
        "            # Initialize the count of the (prev POS, current POS) to zero\n",
        "            count = 0\n",
        "        \n",
        "            # Define the tuple (prev POS, current POS)\n",
        "            # Get the tag at position i and tag at position j (from the all_tags list)\n",
        "            key = (all_tags[i], all_tags[j])\n",
        "\n",
        "            # Check if the (prev POS, current POS) tuple \n",
        "            # exists in the transition counts dictionary\n",
        "            if transition_counts: #complete this line\n",
        "                \n",
        "                # Get count from the transition_counts dictionary \n",
        "                # for the (prev POS, current POS) tuple\n",
        "                count = transition_counts[key]\n",
        "                \n",
        "            # Get the count of the previous tag (index position i) from tag_counts\n",
        "            count_prev_tag = tag_counts[all_tags[i]]\n",
        "            \n",
        "            # Apply smoothing using count of the tuple, alpha, \n",
        "            # count of previous tag, alpha, and total number of tags\n",
        "            A[i,j] = (count + alpha) / (count_prev_tag + alpha*num_tags)\n",
        "\n",
        "    ### END CODE HERE ###\n",
        "    \n",
        "    return A"
      ]
    },
    {
      "cell_type": "code",
      "execution_count": 52,
      "metadata": {
        "colab": {
          "base_uri": "https://localhost:8080/"
        },
        "id": "BsVYY9Jo4rUu",
        "outputId": "3e82e3c0-e821-4e54-f240-50c234201e1c"
      },
      "outputs": [
        {
          "output_type": "stream",
          "name": "stdout",
          "text": [
            "A at row 0, col 0: 0.000007040\n",
            "A at row 3, col 1: 0.1691\n",
            "View a subset of transition matrix A\n",
            "              RBS            RP           SYM        TO            UH\n",
            "RBS  2.217069e-06  2.217069e-06  2.217069e-06  0.008870  2.217069e-06\n",
            "RP   3.756509e-07  7.516775e-04  3.756509e-07  0.051089  3.756509e-07\n",
            "SYM  1.722772e-05  1.722772e-05  1.722772e-05  0.000017  1.722772e-05\n",
            "TO   4.477336e-05  4.472863e-08  4.472863e-08  0.000090  4.477336e-05\n",
            "UH   1.030439e-05  1.030439e-05  1.030439e-05  0.061837  3.092348e-02\n",
            "tag_counts  defaultdict(<class 'int'>, {'IN': 98554, 'DT': 81842, 'NNP': 91466, 'CD': 36568, 'NN': 132935, '``': 7092, \"''\": 6919, 'POS': 8701, '(': 1366, 'VBN': 20024, 'NNS': 59856, 'VBP': 12491, ',': 48727, 'CC': 23947, ')': 1376, 'VBD': 29889, 'RB': 30970, 'TO': 22357, '.': 39478, '--s--': 39832, 'VBZ': 21672, 'NNPS': 2673, 'PRP': 17436, 'PRP$': 8407, 'VB': 26438, 'JJ': 61217, 'MD': 9803, 'VBG': 14846, 'RBR': 1768, ':': 4772, 'WP': 2363, 'WDT': 4294, 'JJR': 3238, 'PDT': 370, 'RBS': 451, 'WRB': 2143, 'JJS': 1947, '$': 7372, 'RP': 2662, 'FW': 234, 'EX': 863, 'SYM': 58, '#': 142, 'LS': 36, 'UH': 97, 'WP$': 168})\n",
            "transition_counts  defaultdict(<class 'int'>, {('--s--', 'IN'): 5050, ('IN', 'DT'): 32364, ('DT', 'NNP'): 9044, ('NNP', 'CD'): 1752, ('CD', 'NN'): 7377, ('NN', 'IN'): 32885, ('IN', '``'): 546, ('``', 'DT'): 1014, ('DT', 'NN'): 38873, ('NN', \"''\"): 686, (\"''\", 'IN'): 591, ('IN', 'NNP'): 14753, ('NNP', 'POS'): 5094, ('POS', 'NNP'): 905, ('NNP', 'NNP'): 34465, ('NNP', '('): 313, ('(', '``'): 42, ('``', 'VBN'): 75, ('VBN', 'NNS'): 759, ('NNS', 'VBP'): 5076, ('VBP', 'DT'): 1473, ('NNP', ','): 12688, (',', \"''\"): 2796, (\"''\", 'NN'): 242, ('NN', 'CC'): 5369, ('CC', 'NNS'): 1714, ('NNS', ')'): 98, (')', ','): 225, (',', 'DT'): 6487, (',', 'VBN'): 993, ('VBN', 'IN'): 7331, (',', 'VBD'): 2555, ('VBD', 'RB'): 2518, ('RB', 'VBN'): 2431, ('VBN', 'TO'): 2142, ('TO', 'NNP'): 1008, ('NNP', '.'): 4987, ('.', '--s--'): 36713, ('--s--', 'NNP'): 8036, ('NNP', 'VBZ'): 3532, ('VBZ', 'NNP'): 1301, ('NNP', 'NNPS'): 1527, ('NNPS', 'NNP'): 741, ('NNP', 'VBD'): 6013, ('VBD', 'PRP'): 1800, ('PRP', 'VBZ'): 3875, ('VBZ', 'PRP$'): 261, ('PRP$', 'NNP'): 408, ('NNP', 'NNS'): 2218, ('NNS', 'TO'): 2384, ('TO', 'VB'): 12851, ('VB', 'JJ'): 2238, ('JJ', 'IN'): 3405, ('IN', 'IN'): 2012, ('IN', 'CD'): 5847, ('CD', 'NNS'): 5737, ('NNS', 'IN'): 14057, ('CD', '.'): 2634, ('--s--', 'DT'): 8648, ('NN', 'NN'): 16241, ('NN', 'JJ'): 1168, ('JJ', 'NN'): 27550, ('NN', 'VBD'): 6310, ('VBD', 'CD'): 1979, ('NNP', '--s--'): 124, (',', 'NN'): 2404, ('CC', 'JJ'): 2643, ('NN', ','): 15248, ('VBZ', 'NN'): 753, ('NNP', 'CC'): 3787, ('CC', 'NNP'): 3823, (',', 'CC'): 4516, ('CC', 'IN'): 1227, ('IN', 'JJ'): 8886, ('JJ', 'JJ'): 4571, ('JJ', 'NNS'): 14209, ('NNS', '.'): 8098, ('VBD', 'PRP$'): 792, ('PRP$', 'NN'): 3744, ('NN', 'TO'): 5256, ('TO', 'CD'): 1782, ('NNS', 'DT'): 1014, ('NN', '.'): 14493, ('DT', 'JJ'): 17850, ('NN', 'MD'): 2347, ('MD', 'VB'): 7818, ('JJ', 'NNP'): 2276, ('NN', 'VBZ'): 5812, ('VBZ', 'RB'): 2916, ('VBN', 'VBN'): 639, ('VBN', '.'): 994, (',', 'VBZ'): 1560, ('VBZ', 'CC'): 60, ('CC', 'VBZ'): 552, ('VBZ', 'JJ'): 1629, ('JJ', ','): 1780, ('CC', 'NN'): 2856, ('NN', 'NNS'): 10342, ('--s--', 'NNS'): 1669, ('VBP', 'VBG'): 1089, ('VBG', 'TO'): 1415, ('TO', 'DT'): 2510, ('DT', 'NNPS'): 416, ('NNPS', 'CC'): 210, ('NNP', 'RB'): 849, ('RB', 'TO'): 855, ('VB', 'PRP$'): 1159, ('TO', 'NN'): 734, ('IN', 'NN'): 10734, ('NNS', 'CC'): 3589, ('NNP', 'NN'): 5335, ('VB', 'NN'): 1629, ('NNS', 'MD'): 1676, ('VB', 'DT'): 5850, (',', 'JJ'): 2029, ('VBP', '.'): 239, ('--s--', 'PRP'): 2428, ('PRP', 'VBP'): 3076, ('IN', 'NNS'): 5820, ('NNS', 'VBD'): 4328, ('VBD', 'DT'): 5056, ('IN', ','): 245, (',', 'IN'): 4193, ('NNS', ','): 7446, (',', 'MD'): 501, ('IN', 'VBG'): 3067, ('VBG', 'NNS'): 1317, ('IN', 'PRP$'): 3569, ('PRP$', 'JJ'): 2023, ('NNS', 'POS'): 547, ('POS', 'NNS'): 1128, ('DT', 'VBN'): 689, ('NNS', 'RB'): 1880, ('RB', 'MD'): 330, ('VB', 'NNS'): 1341, ('NNS', 'RBR'): 119, ('RBR', 'CC'): 39, ('CC', 'RBR'): 65, ('RBR', 'RB'): 132, ('RB', '.'): 1552, ('--s--', 'JJ'): 1671, ('DT', 'NNS'): 5988, ('VBP', 'IN'): 1141, ('VBZ', 'VBN'): 3197, ('VBN', 'RB'): 973, ('DT', 'CD'): 1876, ('NN', ':'): 1497, (':', 'CC'): 321, ('CC', 'DT'): 2691, ('RB', 'RB'): 2263, (':', 'IN'): 356, ('VB', 'RB'): 1318, ('RB', 'IN'): 3968, ('--s--', '``'): 3003, ('VBN', 'NN'): 1304, (\"''\", 'VBD'): 613, ('VBD', 'NNP'): 1642, ('NNP', 'IN'): 3709, (',', 'NNP'): 6195, ('CD', 'IN'): 3291, ('VBD', 'VBN'): 2887, ('VBN', 'NNP'): 526, ('``', 'RB'): 351, ('RB', 'DT'): 1462, ('RB', 'VB'): 3185, ('VB', 'IN'): 2953, ('.', \"''\"): 2342, (\"''\", '--s--'): 2279, ('--s--', 'RB'): 2263, ('RB', ','): 2992, ('VBP', 'NNS'): 423, (',', 'NNS'): 1294, ('PRP$', 'NNS'): 1638, ('--s--', 'CC'): 2269, (',', 'VBG'): 2187, (',', 'VBP'): 419, ('VBP', 'PRP$'): 133, ('CC', 'VB'): 771, ('NNS', '``'): 135, ('``', 'WP'): 69, ('WP', 'VBP'): 382, ('VBP', 'RB'): 2070, ('RB', 'VBG'): 926, ('VBG', 'DT'): 2780, ('POS', 'NN'): 3617, (',', 'WDT'): 1743, ('WDT', 'VBD'): 987, ('VBD', 'IN'): 3384, ('VBN', 'JJR'): 66, ('JJR', 'NN'): 903, ('IN', 'RB'): 1387, ('VBD', '.'): 1350, ('NNP', 'MD'): 1024, ('MD', 'RB'): 1665, ('NN', 'RB'): 2431, ('RB', 'JJ'): 3200, (',', 'PRP'): 2086, ('PRP', 'VBD'): 4308, ('RB', 'PDT'): 20, ('PDT', 'DT'): 343, ('DT', 'WP'): 66, ('WP', 'VBD'): 645, ('VBD', 'VBP'): 4, ('IN', 'NNPS'): 168, ('NNPS', 'IN'): 174, ('VBZ', ','): 555, ('``', 'MD'): 89, ('DT', '('): 43, ('(', 'NN'): 94, ('NN', ')'): 233, (')', 'IN'): 155, ('VBG', 'PRP'): 359, ('PRP', 'RBR'): 27, ('TO', 'JJ'): 691, ('--s--', 'WP'): 123, ('WP', 'DT'): 105, ('NNS', 'WP'): 416, ('VBP', 'TO'): 642, ('TO', 'RBS'): 1, ('RBS', 'VBZ'): 1, ('VBZ', 'DT'): 3527, ('NN', 'PRP'): 578, ('JJ', '``'): 122, ('``', 'NNS'): 259, ('NNS', \"''\"): 232, (':', 'NN'): 188, ('IN', 'JJR'): 472, ('JJR', 'IN'): 1038, ('--s--', 'VBG'): 482, ('RB', 'VBD'): 1668, ('NNS', 'VBG'): 860, ('VB', 'JJR'): 292, ('JJ', 'TO'): 1707, ('VB', 'VBN'): 2236, ('--s--', 'VBN'): 230, ('VBD', ','): 691, ('NNS', 'VBN'): 1264, ('IN', 'RBS'): 19, ('RBS', 'IN'): 19, ('RB', 'RBR'): 230, ('NN', 'WDT'): 1039, ('WDT', 'VBZ'): 1247, ('VB', 'TO'): 1147, ('VBD', 'VBG'): 680, ('NNP', 'TO'): 699, (',', 'RB'): 2624, ('VBZ', 'WP'): 41, ('WP', 'VBZ'): 536, ('VBZ', 'PRP'): 521, ('PRP', 'WRB'): 21, ('WRB', 'TO'): 59, ('VBD', 'NNS'): 705, ('DT', 'RBR'): 141, ('RBR', 'JJ'): 538, ('NN', 'POS'): 2903, ('POS', 'JJS'): 225, ('JJS', 'NN'): 696, ('VBZ', '$'): 91, ('$', 'CD'): 7309, ('CD', 'CD'): 7370, ('VBZ', 'TO'): 1081, ('VB', 'CD'): 541, ('CD', 'JJ'): 1325, ('TO', 'PRP$'): 298, ('PRP$', 'CD'): 166, ('PRP', 'MD'): 2146, ('WDT', 'MD'): 582, ('JJ', \"''\"): 278, (\"''\", 'NNS'): 116, ('VBP', 'VBN'): 2046, ('CD', ','): 3566, ('TO', 'NNPS'): 10, ('VB', 'RP'): 860, ('RP', 'IN'): 659, ('VBP', 'NN'): 377, ('VBP', 'RP'): 111, ('RP', 'NN'): 132, ('CC', 'TO'): 179, ('``', 'JJ'): 812, ('VBN', 'MD'): 23, ('NN', 'VBG'): 1012, ('VBG', 'IN'): 2106, ('NNS', 'NN'): 1246, ('--s--', 'CD'): 440, ('JJ', 'CC'): 1056, ('VBG', 'JJ'): 1083, ('JJ', 'RB'): 223, ('VB', 'CC'): 246, ('NNS', 'NNS'): 630, ('CC', ','): 184, ('VBN', ','): 654, (',', 'VB'): 185, ('RB', 'VBP'): 800, (',', 'CD'): 1023, ('NNS', 'JJ'): 1005, ('DT', 'VBG'): 628, ('VBG', 'NN'): 1843, ('IN', 'PRP'): 2975, ('NN', 'VBP'): 518, ('VBP', 'JJ'): 1078, ('JJ', '.'): 1493, ('NN', 'NNP'): 1296, ('VBN', 'DT'): 1371, (':', 'PRP'): 192, ('CC', 'RB'): 1241, ('RB', 'VBZ'): 1223, ('RB', 'CC'): 287, ('DT', 'JJR'): 465, ('JJR', ','): 129, (',', 'RBR'): 37, ('NNS', 'NNP'): 183, ('DT', 'RB'): 844, ('NNS', 'RP'): 41, ('RP', 'TO'): 136, ('POS', '``'): 102, ('``', 'NN'): 599, ('--s--', 'NN'): 1598, ('NN', '('): 212, ('(', 'IN'): 113, ('VBZ', ')'): 5, (')', 'CC'): 73, ('VBZ', 'IN'): 1942, ('PRP$', 'RB'): 46, ('CC', 'PRP'): 900, ('VB', 'NNP'): 827, ('CC', 'PRP$'): 419, ('IN', 'WP'): 228, ('WP', 'PRP'): 212, ('--s--', 'PRP$'): 320, ('VBN', '``'): 98, ('VBD', 'RBR'): 121, ('RBR', 'IN'): 410, (',', '``'): 637, ('RB', 'PRP'): 292, (\"''\", 'DT'): 253, ('IN', 'TO'): 216, (':', 'DT'): 547, ('NN', 'JJR'): 143, ('NNS', ':'): 1123, (':', 'NNP'): 443, (\"''\", 'WDT'): 60, ('NNP', 'DT'): 220, ('RP', 'PRP$'): 141, ('NN', 'RP'): 74, ('PRP', '``'): 61, (\"''\", 'CC'): 250, ('NNP', 'JJ'): 752, ('CD', 'RB'): 156, ('VBD', 'CC'): 91, ('CC', 'VBD'): 912, ('POS', 'JJ'): 1803, ('JJ', 'VBG'): 190, ('``', 'NNP'): 525, ('VBD', 'WP'): 19, ('VBD', 'TO'): 1701, ('VB', 'VBG'): 464, ('IN', ':'): 26, (',', 'WP'): 603, ('``', 'IN'): 455, ('RB', \"''\"): 50, (\"''\", ':'): 57, (',', 'TO'): 461, ('TO', 'WDT'): 17, ('WDT', 'NNP'): 92, (\"''\", 'RB'): 57, (',', 'FW'): 18, ('FW', '.'): 24, ('PRP', 'RB'): 938, ('VBN', 'RP'): 429, ('PRP', ','): 368, ('--s--', 'WDT'): 31, ('--s--', 'VBD'): 33, ('DT', 'WRB'): 1, ('WRB', 'DT'): 526, ('DT', 'IN'): 791, ('IN', 'CC'): 127, ('PRP', 'IN'): 606, ('DT', 'RBS'): 228, ('RBS', 'JJ'): 331, (\"''\", 'CD'): 16, ('NNS', 'WDT'): 734, ('WDT', 'VBP'): 606, ('PRP$', 'CC'): 5, ('--s--', '('): 144, ('(', 'NNP'): 445, ('.', ')'): 213, (')', '--s--'): 149, ('VB', 'PRP'): 984, ('PRP', ':'): 58, (\"''\", 'VBZ'): 870, ('VBZ', 'CD'): 447, ('PRP', '.'): 544, ('VBD', 'JJR'): 221, ('JJR', 'JJ'): 147, ('VBD', 'JJ'): 1708, ('--s--', 'VBZ'): 56, ('DT', 'DT'): 129, ('CC', 'MD'): 245, ('MD', 'NNS'): 4, ('CC', 'VBN'): 343, ('IN', 'WDT'): 359, ('JJ', ':'): 186, (':', 'JJ'): 168, ('NN', 'VBN'): 1426, ('VBZ', 'RBS'): 20, ('DT', 'VBZ'): 657, ('VBN', 'JJ'): 876, ('NNPS', 'TO'): 36, ('RB', 'NNP'): 214, ('VBG', 'NNP'): 592, ('VB', '.'): 640, ('IN', '.'): 186, ('NN', 'WRB'): 319, ('WRB', 'PRP$'): 53, ('IN', 'WRB'): 160, ('WRB', 'JJ'): 205, ('CC', 'WRB'): 99, ('RB', 'PRP$'): 75, ('VBP', ','): 249, ('DT', '``'): 454, ('RB', 'POS'): 6, ('NNP', '``'): 102, (\"''\", 'MD'): 31, (':', 'NNS'): 141, ('CC', '``'): 142, ('NNPS', 'RB'): 40, ('TO', 'PRP'): 111, ('--s--', 'FW'): 7, ('FW', 'MD'): 2, ('VBD', 'NN'): 958, ('VBG', 'PRP$'): 455, ('TO', '``'): 84, ('JJ', 'VBZ'): 84, ('VBZ', '``'): 198, ('``', 'VBG'): 109, ('--s--', 'NNPS'): 79, ('NNPS', 'VBP'): 147, ('NNS', 'VBZ'): 486, ('POS', 'CD'): 228, ('CD', 'VBP'): 39, ('NNPS', ','): 347, ('WDT', 'RB'): 199, ('VBG', '``'): 81, ('RB', '``'): 51, ('WP', 'JJ'): 12, ('VBG', 'RP'): 396, ('RP', 'DT'): 571, ('NN', 'DT'): 901, ('VBZ', '.'): 672, ('RB', 'JJR'): 394, ('NNP', 'VBG'): 165, ('RB', 'WRB'): 108, ('WRB', 'VBN'): 18, (':', 'WDT'): 60, ('WDT', 'IN'): 37, ('RP', 'RB'): 138, ('DT', 'MD'): 181, ('CC', 'EX'): 79, ('EX', 'VBZ'): 394, (\"''\", 'JJ'): 51, ('RB', 'NN'): 358, ('DT', 'JJS'): 762, ('VBD', 'RP'): 470, ('PRP', 'JJ'): 140, ('VBN', 'VBG'): 411, ('RP', '.'): 166, (\"''\", 'VBN'): 36, ('VBN', 'CC'): 278, ('NN', 'CD'): 795, (\"''\", 'PRP'): 549, ('VBZ', 'VBG'): 1272, ('VBN', 'VBP'): 25, ('IN', '$'): 2760, ('EX', 'VBP'): 209, ('TO', 'NNS'): 523, ('NN', '``'): 317, ('``', 'EX'): 144, ('VBG', 'RB'): 562, ('VBZ', 'RBR'): 85, ('VBZ', 'NNS'): 354, ('``', 'PRP'): 1527, ('VB', ','): 448, ('DT', 'TO'): 25, ('TO', 'RB'): 200, ('VBP', 'NNP'): 220, ('VB', ':'): 64, (':', 'RB'): 263, ('CD', 'DT'): 1055, ('VBG', 'VBN'): 390, ('JJ', '('): 40, ('(', '$'): 231, ('CD', ')'): 315, (')', 'NN'): 67, ('PRP', 'VB'): 233, ('RP', 'JJ'): 135, (',', 'JJS'): 46, ('JJS', 'NNS'): 295, ('PRP', 'DT'): 208, ('CD', 'NNP'): 479, ('NNS', '('): 257, (')', 'TO'): 28, ('TO', '$'): 1030, ('CD', 'PRP'): 25, ('MD', 'PRP'): 53, ('PRP', 'RP'): 79, ('VB', 'WP'): 100, ('VBP', 'PRP'): 455, ('RP', 'NNS'): 127, ('CC', 'VBG'): 510, ('VBP', ':'): 37, ('CC', 'VBP'): 297, (':', 'JJS'): 5, ('JJS', 'IN'): 300, ('PRP', 'JJR'): 23, (':', 'VBP'): 54, ('PRP', 'TO'): 283, ('POS', 'RBS'): 18, ('JJ', 'VBP'): 52, ('DT', 'VBP'): 145, ('NNP', 'WDT'): 89, ('RB', 'CD'): 1210, ('VBZ', 'RP'): 158, ('WP', ','): 17, ('NNPS', '.'): 198, ('RB', 'RP'): 11, ('RP', ','): 112, ('CD', 'CC'): 609, ('CC', 'CD'): 1047, ('RB', 'NNS'): 134, ('CD', 'JJR'): 82, ('NNPS', 'NN'): 102, ('VBP', 'CD'): 113, ('JJR', ':'): 12, (',', 'EX'): 123, ('JJR', '.'): 154, ('DT', ','): 191, ('NNP', 'FW'): 45, ('FW', 'NNP'): 49, ('NNP', ':'): 628, (':', 'WP'): 25, ('--s--', 'WRB'): 249, ('WRB', 'PRP'): 477, ('VBG', 'CD'): 248, ('CD', 'VBD'): 227, ('(', 'NNS'): 21, ('CC', 'JJR'): 249, ('IN', 'VBP'): 26, ('IN', 'JJS'): 463, ('JJS', 'VBP'): 28, ('NNS', 'VB'): 234, ('PRP', 'CC'): 139, ('``', 'PRP$'): 82, ('MD', 'VBN'): 5, ('RP', 'CD'): 53, ('NNS', 'PRP'): 274, ('NNPS', 'POS'): 66, ('POS', 'VBG'): 103, ('--s--', 'JJR'): 60, ('--s--', 'JJS'): 100, ('(', 'DT'): 98, ('CC', 'JJS'): 47, ('JJS', 'VB'): 4, ('EX', 'MD'): 73, ('DT', 'PRP$'): 59, ('VB', 'VB'): 130, ('RB', 'WP'): 36, ('RBR', 'VBZ'): 4, ('``', 'WRB'): 80, ('JJ', 'PRP'): 84, ('IN', 'VBZ'): 61, ('--s--', 'VB'): 115, ('VB', '``'): 150, (':', '``'): 317, ('VBP', 'WRB'): 30, ('JJR', 'NNS'): 545, ('CD', 'VBZ'): 97, ('VBP', 'VB'): 39, ('NNP', 'SYM'): 1, ('SYM', 'NNP'): 2, ('VBG', '$'): 99, ('CD', 'TO'): 1371, ('CD', '--s--'): 23, (':', 'CD'): 563, (')', 'NNP'): 49, ('CD', ':'): 257, ('JJ', 'NNPS'): 108, ('NNPS', '('): 7, ('NNP', ')'): 323, (')', ':'): 102, ('.', '('): 53, (':', 'VBN'): 61, ('(', 'VBN'): 24, ('JJ', ')'): 34, (')', 'CD'): 11, ('JJ', 'CD'): 954, (',', 'NNPS'): 56, (',', 'PRP$'): 210, ('NNPS', 'VBZ'): 71, ('POS', 'NNPS'): 33, ('VBN', \"''\"): 39, ('PRP$', 'NNPS'): 5, ('RB', '$'): 380, (',', '$'): 76, ('CD', 'VBN'): 116, (\"''\", 'NNP'): 426, ('NNP', 'VBP'): 376, ('PRP', '('): 16, (')', 'MD'): 31, ('NNP', 'VB'): 96, (':', 'TO'): 52, ('NNPS', 'VBD'): 225, (')', 'DT'): 34, ('JJ', 'DT'): 207, ('IN', '#'): 59, ('#', 'CD'): 141, ('CD', '('): 61, (')', '.'): 190, ('JJ', 'WRB'): 43, ('``', 'VBZ'): 145, ('IN', '('): 34, ('RP', 'NNP'): 67, ('EX', 'RB'): 21, ('``', 'VBD'): 86, ('``', 'VB'): 187, ('RBR', '.'): 229, ('VBN', 'WRB'): 41, ('VB', 'RBR'): 123, ('``', 'VBP'): 82, ('IN', '--s--'): 25, ('``', 'TO'): 38, ('JJS', 'JJ'): 202, ('IN', 'VBN'): 426, ('NNPS', 'NNPS'): 42, ('NNPS', 'NNS'): 30, ('VBG', '.'): 241, ('NNS', 'CD'): 97, ('NN', 'VB'): 186, ('--s--', 'LS'): 28, ('LS', ','): 8, ('JJ', 'VBD'): 80, ('PRP$', '``'): 41, ('DT', '.'): 131, ('NNP', 'VBN'): 77, ('VBD', 'VB'): 84, ('NN', 'RBR'): 348, ('--s--', 'TO'): 138, ('CD', 'VBG'): 59, ('TO', 'JJR'): 68, ('VBN', 'CD'): 232, ('DT', 'VBD'): 180, ('DT', '$'): 757, ('JJR', 'VBD'): 7, ('NNS', 'JJR'): 64, ('WRB', 'NN'): 119, ('CD', 'WRB'): 27, ('NN', 'FW'): 7, ('FW', 'NN'): 17, ('DT', 'FW'): 21, ('(', 'VB'): 20, ('VBG', ')'): 6, ('IN', 'FW'): 20, ('FW', 'FW'): 56, ('FW', 'IN'): 7, ('JJR', 'NNPS'): 2, ('.', '.'): 7, ('NNPS', 'PRP'): 4, ('VBZ', 'VBP'): 5, (')', 'VBP'): 30, ('VBD', 'PDT'): 22, ('(', 'RB'): 43, ('(', 'PRP'): 29, ('VB', 'VBP'): 10, ('JJS', 'RB'): 28, ('NN', 'WP'): 330, ('(', 'CC'): 34, ('TO', 'IN'): 81, (')', 'VBD'): 42, (',', 'WRB'): 404, ('VBP', 'JJS'): 8, ('JJS', '.'): 22, ('IN', 'VBD'): 61, ('VBG', 'WP'): 34, ('WP', 'MD'): 154, ('WDT', 'NN'): 72, (\"''\", 'VBG'): 61, ('NNPS', 'VBG'): 11, ('PRP$', 'FW'): 3, ('RP', 'WRB'): 13, ('WRB', '``'): 4, ('``', 'FW'): 22, ('FW', \"''\"): 12, ('MD', 'PRP$'): 2, ('RB', '('): 17, ('VBZ', 'VB'): 70, ('NN', 'EX'): 16, ('VBG', ':'): 30, ('RB', 'FW'): 2, ('FW', ':'): 3, (':', 'VBZ'): 87, (',', 'UH'): 19, ('UH', ','): 47, ('PRP', 'VBG'): 45, ('CC', 'WP$'): 6, ('WP$', 'NNS'): 50, ('NNPS', 'WP'): 26, ('VBG', 'PDT'): 17, ('RP', 'CC'): 28, ('PRP$', 'VBG'): 66, ('CC', 'PDT'): 14, ('VBN', 'PRP$'): 188, ('VBD', '``'): 201, ('VBZ', 'JJR'): 170, ('MD', 'TO'): 32, ('VBG', 'NNPS'): 11, ('JJR', 'NNP'): 56, ('WP', 'RB'): 106, ('IN', 'VB'): 45, ('NNPS', 'MD'): 62, ('VBG', 'JJR'): 128, ('VBP', '``'): 56, ('VBP', 'JJR'): 99, ('POS', ')'): 8, ('WP', 'IN'): 40, ('VBP', 'RBR'): 65, ('EX', 'VBD'): 143, ('CD', 'NNPS'): 38, ('JJR', 'VBN'): 7, ('VBZ', 'WRB'): 83, ('WRB', 'NNP'): 220, ('VBG', ','): 179, ('WRB', 'NNS'): 164, ('VB', 'WRB'): 141, ('POS', 'VBZ'): 38, ('IN', 'PDT'): 145, ('IN', 'RBR'): 69, ('WP', 'NNP'): 44, ('.', 'NNP'): 60, ('NNP', 'RBR'): 31, ('RBR', 'DT'): 162, ('NNPS', '--s--'): 21, ('VBN', 'PRP'): 189, ('JJ', '$'): 171, ('WDT', 'DT'): 121, ('JJ', 'MD'): 26, (',', '('): 15, (')', 'VBG'): 6, ('VBN', 'RBR'): 67, ('RBR', '``'): 5, ('VBD', 'NNPS'): 4, ('NNPS', '``'): 3, ('WDT', 'PRP'): 151, ('``', 'RBR'): 14, ('POS', 'VBD'): 55, ('VBG', 'VBG'): 67, ('VBG', 'CC'): 137, ('VBD', '$'): 475, (',', 'PDT'): 13, ('POS', '$'): 87, ('JJ', 'VBN'): 117, ('--s--', 'PDT'): 29, ('VBN', '$'): 120, ('PRP$', '$'): 60, ('RB', ':'): 134, ('JJS', ','): 50, (\"''\", '('): 47, ('TO', 'VBG'): 162, ('VBG', 'VB'): 15, (\"''\", 'WP'): 13, ('VB', 'PDT'): 40, ('PRP', 'PRP'): 28, ('TO', ','): 16, ('TO', \"''\"): 3, ('NN', 'PRP$'): 36, ('VB', '$'): 227, (')', 'VBZ'): 68, ('JJR', 'TO'): 79, ('CC', 'NNPS'): 88, ('MD', '``'): 45, ('VB', \"''\"): 63, ('VB', '('): 30, (',', 'WP$'): 103, ('WP$', 'NN'): 61, ('PRP', 'NN'): 50, ('VBP', 'WP'): 26, ('NNS', 'WRB'): 127, ('VBD', 'JJS'): 24, ('NNP', '$'): 24, ('NN', 'WP$'): 24, ('CD', 'RBS'): 9, ('NN', '--s--'): 66, (':', 'VBD'): 82, ('TO', 'CC'): 10, ('VBZ', 'PDT'): 12, ('VB', 'WP$'): 1, ('``', 'CD'): 60, (':', '.'): 90, ('RP', '$'): 24, ('VBG', 'RBR'): 71, ('PRP', 'POS'): 18, ('VBD', 'RBS'): 13, ('RBS', 'RB'): 51, ('--s--', 'RBR'): 84, ('RBR', ','): 109, ('VBG', 'VBD'): 46, ('.', 'NN'): 13, ('WDT', 'JJ'): 36, ('VBG', '('): 7, ('VB', ')'): 12, (')', 'RB'): 19, ('CC', 'WDT'): 25, ('VBD', 'MD'): 12, (':', '--s--'): 299, ('--s--', '$'): 28, ('VB', 'VBZ'): 40, ('POS', 'CC'): 60, ('(', 'JJ'): 64, ('CD', 'FW'): 2, ('FW', 'NNS'): 8, ('``', 'CC'): 130, ('MD', 'RBR'): 12, ('VBD', 'WRB'): 48, ('CD', '$'): 4, ('VBP', 'POS'): 2, ('TO', '.'): 17, ('JJ', 'RBR'): 10, ('--s--', 'MD'): 27, ('MD', 'DT'): 38, ('RB', 'JJS'): 22, ('TO', 'RBR'): 20, ('PRP$', 'JJS'): 86, ('NNP', 'WRB'): 49, ('TO', '('): 5, ('(', 'PRP$'): 7, ('PRP$', ')'): 3, ('VBP', 'EX'): 24, ('DT', '--s--'): 7, ('WDT', 'NNS'): 73, ('FW', ','): 21, ('RP', 'VBG'): 51, ('JJ', 'POS'): 12, ('NNPS', 'CD'): 3, ('.', 'NNS'): 4, ('VB', 'WDT'): 19, ('NNP', \"''\"): 217, ('NNS', '--s--'): 59, ('VBZ', 'NNPS'): 7, (':', 'VBG'): 106, (':', 'VB'): 46, ('WP$', 'JJ'): 33, ('JJS', 'NNPS'): 3, ('JJR', 'RB'): 16, ('CD', '``'): 27, ('``', 'NNPS'): 14, ('NNPS', \"''\"): 10, ('JJS', 'VBD'): 5, ('JJ', 'PRP$'): 18, ('WP', 'RBR'): 2, ('JJS', '$'): 21, ('``', '``'): 3, ('CD', 'MD'): 75, ('NN', '$'): 34, ('DT', 'CC'): 60, ('VBG', 'VBP'): 9, ('VBD', ':'): 94, ('WRB', 'VBZ'): 17, ('POS', 'VBN'): 64, ('RP', 'JJS'): 7, ('.', 'CC'): 1, ('NNP', 'WP'): 54, (\"''\", 'TO'): 111, ('VBN', ':'): 72, ('JJ', 'FW'): 8, ('FW', 'VBZ'): 7, ('PRP$', 'JJR'): 25, ('--s--', 'RBS'): 22, ('NNP', 'PRP'): 73, ('JJS', 'CD'): 144, ('RP', \"''\"): 15, ('RB', 'WDT'): 6, ('WRB', '.'): 7, ('POS', 'RB'): 48, ('VBP', '$'): 33, ('CD', \"''\"): 14, ('VBN', 'VBZ'): 34, ('.', 'NNPS'): 5, ('VBZ', 'MD'): 18, ('IN', 'EX'): 156, ('RBR', 'VBN'): 33, (',', 'JJR'): 82, ('``', 'WDT'): 13, ('PRP', 'JJS'): 2, ('FW', 'CC'): 3, ('DT', 'VB'): 21, ('PRP', 'WDT'): 5, ('WRB', 'RB'): 85, ('--s--', 'EX'): 168, ('VBG', 'VBZ'): 31, ('--s--', 'VBP'): 14, (':', 'MD'): 44, ('CC', '$'): 472, ('TO', 'VBN'): 30, ('JJR', 'CC'): 65, ('VBZ', ':'): 90, ('WP', 'NNS'): 21, ('WRB', 'VBP'): 11, (\"''\", \"''\"): 48, ('TO', 'WP'): 26, ('VBP', 'VBD'): 46, (')', 'PRP'): 9, (\"''\", '``'): 19, ('WP', 'JJS'): 2, (':', 'WRB'): 31, ('VBP', 'CC'): 55, ('POS', 'WRB'): 1, ('NNPS', ':'): 52, (':', 'PRP$'): 37, ('NNPS', 'VBN'): 7, ('CC', '('): 9, ('RP', 'RBR'): 12, ('RBR', 'TO'): 30, ('MD', 'NNP'): 7, ('PRP', \"''\"): 9, ('RB', 'RBS'): 6, ('DT', 'PRP'): 40, ('VB', 'VBD'): 34, ('MD', \"''\"): 2, ('WDT', ','): 26, ('WRB', 'CC'): 9, ('NNPS', 'JJ'): 16, ('JJ', 'JJS'): 22, ('DT', 'WDT'): 16, ('VB', 'FW'): 2, ('FW', 'TO'): 4, (':', '$'): 129, (')', 'JJ'): 19, ('``', 'JJR'): 26, ('--s--', ':'): 102, ('VBN', 'VBD'): 44, ('RB', 'EX'): 25, ('POS', '.'): 42, ('POS', 'RBR'): 3, ('``', 'JJS'): 27, ('POS', ','): 52, ('POS', 'MD'): 10, ('POS', 'IN'): 24, ('(', 'TO'): 7, (')', 'VBN'): 10, ('RBS', ':'): 2, ('$', 'JJ'): 63, ('VBG', \"''\"): 32, ('JJR', 'RP'): 5, ('VBD', \"''\"): 11, ('VBD', '--s--'): 3, ('PRP', 'WP'): 11, ('WP', 'NN'): 29, ('POS', 'VBP'): 5, ('VBP', 'MD'): 20, ('WDT', 'CC'): 2, ('PRP', ')'): 9, ('MD', 'CC'): 10, ('JJS', 'NNP'): 22, ('WRB', 'JJS'): 4, ('JJS', 'DT'): 38, ('JJ', 'JJR'): 42, ('RBR', 'VB'): 22, ('TO', '--s--'): 7, ('CD', 'JJS'): 31, ('WP', 'VB'): 11, ('VBP', 'RBS'): 11, ('JJS', 'VBN'): 9, ('RBR', 'VBG'): 9, ('WDT', 'PRP$'): 7, ('RP', '``'): 14, ('DT', \"''\"): 3, ('WRB', 'MD'): 26, ('VB', 'MD'): 13, ('RP', ':'): 8, ('CC', 'WP'): 51, ('MD', ','): 33, ('FW', 'JJ'): 7, ('TO', '#'): 30, ('RB', '#'): 11, ('EX', 'POS'): 11, ('PRP', 'VBN'): 43, ('VBD', '('): 6, (')', 'VB'): 10, ('VBD', 'VBD'): 54, ('MD', '.'): 21, ('RBR', 'NN'): 8, ('VB', 'NNPS'): 12, ('RBR', ':'): 10, ('MD', 'VBD'): 6, ('PRP$', '('): 8, ('VBZ', 'VBD'): 59, ('(', 'MD'): 1, ('MD', ')'): 2, (')', 'NNS'): 33, ('RB', 'NNPS'): 9, ('JJR', '``'): 4, ('RB', '--s--'): 14, ('WP', 'TO'): 16, (\"''\", 'WRB'): 22, ('PDT', 'PRP$'): 26, ('VBP', 'VBP'): 13, ('RB', ')'): 13, ('WP', '.'): 4, ('(', 'WRB'): 4, (\"''\", 'VB'): 9, ('VBP', 'PDT'): 8, ('JJ', 'VB'): 7, (\"''\", ')'): 35, ('WRB', 'IN'): 19, ('NN', 'JJS'): 6, ('IN', 'POS'): 2, ('POS', 'PRP$'): 2, ('NNP', 'JJR'): 9, ('VB', 'JJS'): 19, ('VBN', '#'): 1, ('JJ', '#'): 5, ('WP$', 'RB'): 1, ('DT', '#'): 13, ('MD', '('): 2, ('RP', '#'): 2, ('CC', '#'): 4, ('CD', 'RBR'): 6, ('(', 'NNPS'): 3, ('NNPS', ')'): 6, ('JJR', 'CD'): 8, ('DT', ':'): 33, ('NNS', 'EX'): 5, ('RP', 'VBN'): 6, ('JJS', 'CC'): 17, ('CC', 'RBS'): 22, ('JJS', 'PRP'): 10, ('WRB', ','): 27, ('PRP$', 'VBN'): 54, ('PRP$', 'VBD'): 3, ('VBZ', 'EX'): 16, ('JJ', 'RP'): 6, ('(', 'CD'): 43, ('NNS', 'RBS'): 7, ('VBZ', 'WDT'): 8, ('VBP', 'VBZ'): 36, ('VBZ', 'JJS'): 14, ('JJS', 'TO'): 7, ('WRB', 'JJR'): 3, ('VBN', 'RBS'): 5, ('RBS', '.'): 3, (':', 'JJR'): 14, ('--s--', 'UH'): 23, ('POS', 'JJR'): 19, ('VBZ', 'VBZ'): 20, ('VBZ', 'FW'): 1, ('NNP', 'PRP$'): 11, ('RBR', 'PRP'): 7, ('VBG', 'MD'): 9, ('WRB', 'VB'): 4, ('VB', 'POS'): 5, ('POS', 'VB'): 3, ('CC', 'RP'): 3, ('WDT', 'EX'): 7, ('VBN', ')'): 18, ('JJS', ':'): 9, ('VBG', 'JJS'): 10, ('--s--', 'SYM'): 46, ('SYM', ':'): 33, ('CD', 'POS'): 25, ('WDT', 'VB'): 6, ('JJR', 'DT'): 20, ('MD', 'VBP'): 3, ('VBP', '('): 5, ('RP', ')'): 1, ('VBD', 'VBZ'): 11, (\"''\", 'VBP'): 17, ('VBD', 'EX'): 36, ('``', '('): 2, ('POS', 'DT'): 2, ('PRP', 'CD'): 17, ('VBG', 'WRB'): 27, (':', ','): 3, ('(', 'VBP'): 1, ('VBP', ')'): 4, ('VBN', 'WDT'): 6, ('WP$', 'NNP'): 11, ('NNP', 'RBS'): 1, ('WRB', 'VBG'): 23, ('RBR', 'VBP'): 1, ('WP', 'CD'): 3, ('RP', 'WP'): 15, ('CD', 'WDT'): 26, ('NNS', 'WP$'): 26, ('JJS', 'EX'): 3, ('IN', ')'): 8, ('PRP', 'RBS'): 4, ('PRP$', 'RBS'): 17, ('JJR', \"''\"): 5, ('PRP', 'NNP'): 14, ('MD', 'IN'): 19, ('VBG', 'POS'): 1, ('DT', 'POS'): 3, ('JJ', 'WP'): 16, ('RP', 'VBD'): 3, ('TO', 'TO'): 2, ('NNS', '$'): 18, ('JJS', 'VBG'): 10, (',', 'RP'): 5, (':', 'WP$'): 1, ('VBN', 'WP'): 13, ('VBN', 'VB'): 15, ('VBG', 'EX'): 4, ('.', '``'): 18, ('``', '--s--'): 16, ('NN', 'RBS'): 11, ('RBS', 'VBN'): 25, ('JJ', 'WDT'): 9, ('--s--', \"''\"): 16, ('WRB', 'WDT'): 1, ('WDT', '``'): 2, ('RP', 'JJR'): 13, ('WDT', 'CD'): 22, ('PRP', 'NNPS'): 1, ('NNPS', 'WP$'): 1, ('VBN', 'PDT'): 15, ('NNPS', 'DT'): 8, ('EX', 'VB'): 2, ('TO', 'JJS'): 5, ('CD', 'PRP$'): 3, ('WDT', 'TO'): 4, (':', 'EX'): 7, ('MD', 'JJ'): 3, ('(', 'WP'): 6, ('WP', ')'): 3, ('NN', 'NNPS'): 12, ('(', 'WDT'): 10, ('WP$', 'VBG'): 2, ('VBG', 'WDT'): 3, ('MD', ':'): 7, ('VBN', 'JJS'): 4, ('MD', 'VBZ'): 1, ('JJR', 'PRP'): 7, ('NNS', 'PRP$'): 13, ('VBD', 'WDT'): 4, ('WP', '('): 1, ('IN', 'MD'): 11, ('NNP', 'PDT'): 1, ('VB', 'EX'): 14, ('PRP', 'NNS'): 19, ('.', 'MD'): 1, ('IN', \"''\"): 10, ('TO', 'VBD'): 3, ('JJR', '$'): 3, ('TO', 'VBP'): 1, ('WRB', 'VBD'): 13, (':', \"''\"): 6, ('TO', 'FW'): 2, (\"''\", 'PRP$'): 11, ('TO', 'PDT'): 7, (',', 'RBS'): 18, ('POS', \"''\"): 2, ('VBN', '('): 9, (':', 'UH'): 1, ('CC', ':'): 7, ('CD', 'WP'): 7, ('WP', 'PRP$'): 12, ('WDT', 'POS'): 1, ('POS', 'FW'): 2, ('VB', 'UH'): 3, ('UH', \"''\"): 6, (',', '--s--'): 6, ('.', 'VBP'): 1, ('.', 'WP'): 2, ('.', ':'): 8, ('(', 'VBG'): 9, (')', '``'): 1, ('``', 'UH'): 27, ('UH', '.'): 21, (')', 'WDT'): 6, (',', ':'): 5, ('UH', 'PRP$'): 1, ('WP$', 'CD'): 2, ('JJ', '--s--'): 4, ('.', 'UH'): 2, ('WRB', 'CD'): 14, ('UH', 'UH'): 3, ('VBZ', '('): 7, ('WRB', 'EX'): 23, ('VBN', 'EX'): 2, ('``', '$'): 1, (':', '#'): 2, (\"''\", ','): 7, ('VBD', 'UH'): 3, ('UH', 'IN'): 1, ('TO', ')'): 1, ('CC', 'CC'): 5, ('RP', 'RP'): 2, ('VBZ', \"''\"): 3, ('RBS', 'PRP'): 1, ('VBP', '--s--'): 1, ('POS', '#'): 5, ('JJ', 'EX'): 4, (':', ':'): 8, (\"''\", '.'): 16, ('(', 'FW'): 4, ('JJS', 'WRB'): 4, ('PRP$', 'VBZ'): 1, ('EX', 'PRP'): 1, ('MD', 'RBS'): 2, ('RBS', 'VB'): 2, ('DT', 'RP'): 6, ('WDT', 'JJS'): 2, ('RBS', ','): 4, (':', 'RBR'): 3, ('IN', 'UH'): 1, ('UH', 'TO'): 6, ('IN', 'WP$'): 2, (')', 'WP'): 4, ('RBS', 'NNS'): 2, ('EX', ','): 4, ('``', 'PDT'): 6, ('POS', 'PRP'): 1, ('FW', '('): 4, ('LS', ':'): 5, ('JJR', '('): 1, ('.', 'DT'): 4, ('RBS', 'TO'): 4, ('FW', '``'): 1, ('(', 'EX'): 2, ('TO', ':'): 2, ('NNPS', 'VB'): 2, ('JJ', 'RBS'): 6, ('NN', '#'): 2, ('VBN', 'NNPS'): 4, ('VB', '--s--'): 4, ('CC', 'FW'): 3, ('TO', 'WRB'): 6, ('JJR', 'VBG'): 4, ('VBP', 'NNPS'): 4, ('VBP', 'FW'): 1, ('NNP', 'EX'): 2, (')', 'JJR'): 1, (':', 'NNPS'): 5, ('WDT', 'NNPS'): 1, ('JJR', 'VBZ'): 4, ('MD', 'NN'): 6, ('JJS', 'PRP$'): 1, ('VBP', \"''\"): 5, (\"''\", 'WP$'): 2, ('JJS', \"''\"): 4, ('RBR', 'VBD'): 10, ('EX', 'WP'): 2, ('RP', 'PDT'): 3, ('POS', '('): 2, ('NN', 'PDT'): 2, ('NNPS', 'RBR'): 1, ('RP', '('): 1, ('RBR', 'MD'): 3, ('NNS', 'NNPS'): 2, ('CC', 'UH'): 2, ('VB', 'RBS'): 6, ('JJR', 'MD'): 4, ('WRB', 'WRB'): 1, ('WP', 'WDT'): 1, ('CC', ')'): 1, (')', 'PRP$'): 1, ('POS', 'TO'): 2, ('WDT', '$'): 3, ('WDT', 'VBN'): 4, ('JJR', 'PRP$'): 2, ('NNP', 'RP'): 4, ('RP', '--s--'): 1, ('CD', 'SYM'): 2, ('SYM', '--s--'): 5, ('NN', 'SYM'): 4, (':', '('): 3, (')', 'FW'): 1, ('SYM', 'VBZ'): 3, ('WRB', 'PDT'): 4, ('VBP', 'WDT'): 3, ('RBR', 'RP'): 1, ('WRB', 'NNPS'): 3, ('LS', ')'): 11, ('WRB', 'WP'): 1, ('.', 'CD'): 5, ('JJR', 'VBP'): 5, ('PRP', '$'): 5, ('PRP$', ','): 2, (':', 'LS'): 5, ('LS', '.'): 12, ('.', 'VB'): 7, ('(', 'UH'): 5, ('.', 'IN'): 3, ('.', 'WRB'): 1, ('FW', 'POS'): 2, ('.', 'VBN'): 1, ('RP', 'VBP'): 2, ('PRP', 'PDT'): 2, ('.', 'JJ'): 4, ('.', 'PRP'): 1, ('JJS', 'PDT'): 3, ('(', 'VBD'): 2, ('VBD', ')'): 3, ('MD', 'JJR'): 1, ('RBS', 'VBP'): 1, ('#', ','): 1, ('JJS', '('): 1, ('WP$', '$'): 4, ('RBS', '('): 1, ('VB', '#'): 3, ('NNPS', 'JJR'): 1, ('JJR', 'PDT'): 1, (')', '$'): 1, ('FW', ')'): 1, ('DT', ')'): 2, ('TO', 'VBZ'): 2, (':', 'RBS'): 4, (\"''\", 'JJS'): 1, ('PRP', 'PRP$'): 2, ('VBD', '#'): 3, ('VBZ', '#'): 1, (')', '('): 1, ('RBR', 'CD'): 1, ('WP$', 'JJS'): 1, ('JJR', ')'): 2, ('NNS', 'SYM'): 1, ('SYM', 'NN'): 3, ('VBD', 'FW'): 1, ('TO', 'UH'): 1, ('UH', 'NN'): 2, ('VBP', 'WP$'): 1, ('RBS', 'DT'): 1, ('PRP$', 'RBR'): 1, ('.', 'FW'): 1, ('WRB', '('): 1, ('``', ':'): 3, ('WDT', '('): 1, ('JJS', '``'): 3, ('JJ', 'UH'): 1, (\"''\", 'NNPS'): 1, ('JJS', 'VBZ'): 6, ('PRP', 'FW'): 1, ('NNPS', 'EX'): 1, ('IN', 'SYM'): 2, ('SYM', 'CD'): 4, (':', 'PDT'): 1, ('CD', 'VB'): 1, ('FW', 'DT'): 2, ('JJS', 'MD'): 2, ('(', 'JJR'): 1, ('RBR', 'RBR'): 1, ('RBR', 'NNS'): 1, ('SYM', 'RB'): 2, ('SYM', 'IN'): 2, ('VBN', '--s--'): 4, ('FW', '$'): 2, ('MD', 'CD'): 2, ('MD', 'MD'): 2, ('UH', ')'): 3, ('.', 'RB'): 3, ('UH', 'VB'): 2, ('.', 'VBZ'): 1, (':', 'FW'): 1, ('RBR', 'WRB'): 1, ('PRP', 'EX'): 2, ('WP', 'JJR'): 1, ('JJR', '--s--'): 1, ('PRP$', '.'): 1, ('WDT', 'JJR'): 2, ('VBG', 'UH'): 3, ('RP', 'MD'): 1, ('RP', 'VBZ'): 1, ('VBN', 'POS'): 3, ('WP', '``'): 2, ('SYM', 'FW'): 2, ('IN', 'LS'): 1, ('WDT', ':'): 1, ('VBG', 'RBS'): 1, ('--s--', ')'): 1, ('EX', 'DT'): 2, ('RBR', ')'): 1, ('FW', 'VBP'): 1, ('RP', 'PRP'): 2, ('VBZ', '--s--'): 1, ('DT', 'UH'): 2, ('UH', 'PRP'): 1, ('WP$', 'VBN'): 1, ('(', 'VBZ'): 1, ('NNS', 'JJS'): 2, (':', 'SYM'): 1, ('VBG', 'SYM'): 1, ('.', 'TO'): 1, (\"''\", '$'): 1, ('JJR', 'WRB'): 2, ('--s--', 'WP$'): 1, ('JJ', 'PDT'): 1, ('WP$', 'JJR'): 1, ('.', ','): 3, ('--s--', '#'): 1, ('WP', 'VBN'): 2, ('POS', ':'): 2, ('NNPS', 'PRP$'): 1, ('DT', 'PDT'): 1, ('RBS', 'NN'): 1, ('RBS', 'VBD'): 1, ('NNS', 'PDT'): 3, ('PDT', 'JJ'): 1, ('PRP$', ':'): 1, ('WRB', '$'): 1, ('WP$', '``'): 1, ('EX', 'TO'): 1, ('RBS', 'MD'): 1, ('WRB', ')'): 1, ('(', 'LS'): 2, ('RBR', 'JJR'): 1, (\"''\", 'FW'): 1, ('FW', 'VBN'): 1, ('NNPS', 'WDT'): 1, ('SYM', 'VBN'): 1, ('UH', ':'): 4, ('IN', 'RP'): 1, ('VBZ', 'UH'): 1, ('SYM', 'JJ'): 1, ('#', '#'): 0, ('#', '$'): 0, ('#', \"''\"): 0, ('#', '('): 0, ('#', ')'): 0, ('#', '--s--'): 0, ('#', '.'): 0, ('#', ':'): 0, ('#', 'CC'): 0, ('#', 'DT'): 0, ('#', 'EX'): 0, ('#', 'FW'): 0, ('#', 'IN'): 0, ('#', 'JJ'): 0, ('#', 'JJR'): 0, ('#', 'JJS'): 0, ('#', 'LS'): 0, ('#', 'MD'): 0, ('#', 'NN'): 0, ('#', 'NNP'): 0, ('#', 'NNPS'): 0, ('#', 'NNS'): 0, ('#', 'PDT'): 0, ('#', 'POS'): 0, ('#', 'PRP'): 0, ('#', 'PRP$'): 0, ('#', 'RB'): 0, ('#', 'RBR'): 0, ('#', 'RBS'): 0, ('#', 'RP'): 0, ('#', 'SYM'): 0, ('#', 'TO'): 0, ('#', 'UH'): 0, ('#', 'VB'): 0, ('#', 'VBD'): 0, ('#', 'VBG'): 0, ('#', 'VBN'): 0, ('#', 'VBP'): 0, ('#', 'VBZ'): 0, ('#', 'WDT'): 0, ('#', 'WP'): 0, ('#', 'WP$'): 0, ('#', 'WRB'): 0, ('#', '``'): 0, ('$', '#'): 0, ('$', '$'): 0, ('$', \"''\"): 0, ('$', '('): 0, ('$', ')'): 0, ('$', ','): 0, ('$', '--s--'): 0, ('$', '.'): 0, ('$', ':'): 0, ('$', 'CC'): 0, ('$', 'DT'): 0, ('$', 'EX'): 0, ('$', 'FW'): 0, ('$', 'IN'): 0, ('$', 'JJR'): 0, ('$', 'JJS'): 0, ('$', 'LS'): 0, ('$', 'MD'): 0, ('$', 'NN'): 0, ('$', 'NNP'): 0, ('$', 'NNPS'): 0, ('$', 'NNS'): 0, ('$', 'PDT'): 0, ('$', 'POS'): 0, ('$', 'PRP'): 0, ('$', 'PRP$'): 0, ('$', 'RB'): 0, ('$', 'RBR'): 0, ('$', 'RBS'): 0, ('$', 'RP'): 0, ('$', 'SYM'): 0, ('$', 'TO'): 0, ('$', 'UH'): 0, ('$', 'VB'): 0, ('$', 'VBD'): 0, ('$', 'VBG'): 0, ('$', 'VBN'): 0, ('$', 'VBP'): 0, ('$', 'VBZ'): 0, ('$', 'WDT'): 0, ('$', 'WP'): 0, ('$', 'WP$'): 0, ('$', 'WRB'): 0, ('$', '``'): 0, (\"''\", '#'): 0, (\"''\", 'EX'): 0, (\"''\", 'JJR'): 0, (\"''\", 'LS'): 0, (\"''\", 'PDT'): 0, (\"''\", 'POS'): 0, (\"''\", 'RBR'): 0, (\"''\", 'RBS'): 0, (\"''\", 'RP'): 0, (\"''\", 'SYM'): 0, (\"''\", 'UH'): 0, ('(', '#'): 0, ('(', \"''\"): 0, ('(', '('): 0, ('(', ')'): 0, ('(', ','): 0, ('(', '--s--'): 0, ('(', '.'): 0, ('(', ':'): 0, ('(', 'JJS'): 0, ('(', 'PDT'): 0, ('(', 'POS'): 0, ('(', 'RBR'): 0, ('(', 'RBS'): 0, ('(', 'RP'): 0, ('(', 'SYM'): 0, ('(', 'WP$'): 0, (')', '#'): 0, (')', \"''\"): 0, (')', ')'): 0, (')', 'EX'): 0, (')', 'JJS'): 0, (')', 'LS'): 0, (')', 'NNPS'): 0, (')', 'PDT'): 0, (')', 'POS'): 0, (')', 'RBR'): 0, (')', 'RBS'): 0, (')', 'RP'): 0, (')', 'SYM'): 0, (')', 'UH'): 0, (')', 'WP$'): 0, (')', 'WRB'): 0, (',', '#'): 0, (',', ')'): 0, (',', ','): 0, (',', '.'): 0, (',', 'LS'): 0, (',', 'POS'): 0, (',', 'SYM'): 0, ('--s--', ','): 0, ('--s--', '--s--'): 0, ('--s--', '.'): 0, ('--s--', 'POS'): 0, ('--s--', 'RP'): 0, ('.', '#'): 0, ('.', '$'): 0, ('.', 'EX'): 0, ('.', 'JJR'): 0, ('.', 'JJS'): 0, ('.', 'LS'): 0, ('.', 'PDT'): 0, ('.', 'POS'): 0, ('.', 'PRP$'): 0, ('.', 'RBR'): 0, ('.', 'RBS'): 0, ('.', 'RP'): 0, ('.', 'SYM'): 0, ('.', 'VBD'): 0, ('.', 'VBG'): 0, ('.', 'WDT'): 0, ('.', 'WP$'): 0, (':', ')'): 0, (':', 'POS'): 0, (':', 'RP'): 0, ('CC', \"''\"): 0, ('CC', '--s--'): 0, ('CC', '.'): 0, ('CC', 'LS'): 0, ('CC', 'POS'): 0, ('CC', 'SYM'): 0, ('CD', '#'): 0, ('CD', 'EX'): 0, ('CD', 'LS'): 0, ('CD', 'PDT'): 0, ('CD', 'RP'): 0, ('CD', 'UH'): 0, ('CD', 'WP$'): 0, ('DT', 'EX'): 0, ('DT', 'LS'): 0, ('DT', 'SYM'): 0, ('DT', 'WP$'): 0, ('EX', '#'): 0, ('EX', '$'): 0, ('EX', \"''\"): 0, ('EX', '('): 0, ('EX', ')'): 0, ('EX', '--s--'): 0, ('EX', '.'): 0, ('EX', ':'): 0, ('EX', 'CC'): 0, ('EX', 'CD'): 0, ('EX', 'EX'): 0, ('EX', 'FW'): 0, ('EX', 'IN'): 0, ('EX', 'JJ'): 0, ('EX', 'JJR'): 0, ('EX', 'JJS'): 0, ('EX', 'LS'): 0, ('EX', 'NN'): 0, ('EX', 'NNP'): 0, ('EX', 'NNPS'): 0, ('EX', 'NNS'): 0, ('EX', 'PDT'): 0, ('EX', 'PRP$'): 0, ('EX', 'RBR'): 0, ('EX', 'RBS'): 0, ('EX', 'RP'): 0, ('EX', 'SYM'): 0, ('EX', 'UH'): 0, ('EX', 'VBG'): 0, ('EX', 'VBN'): 0, ('EX', 'WDT'): 0, ('EX', 'WP$'): 0, ('EX', 'WRB'): 0, ('EX', '``'): 0, ('FW', '#'): 0, ('FW', '--s--'): 0, ('FW', 'CD'): 0, ('FW', 'EX'): 0, ('FW', 'JJR'): 0, ('FW', 'JJS'): 0, ('FW', 'LS'): 0, ('FW', 'NNPS'): 0, ('FW', 'PDT'): 0, ('FW', 'PRP'): 0, ('FW', 'PRP$'): 0, ('FW', 'RB'): 0, ('FW', 'RBR'): 0, ('FW', 'RBS'): 0, ('FW', 'RP'): 0, ('FW', 'SYM'): 0, ('FW', 'UH'): 0, ('FW', 'VB'): 0, ('FW', 'VBD'): 0, ('FW', 'VBG'): 0, ('FW', 'WDT'): 0, ('FW', 'WP'): 0, ('FW', 'WP$'): 0, ('FW', 'WRB'): 0, ('JJ', 'LS'): 0, ('JJ', 'SYM'): 0, ('JJ', 'WP$'): 0, ('JJR', '#'): 0, ('JJR', 'EX'): 0, ('JJR', 'FW'): 0, ('JJR', 'JJR'): 0, ('JJR', 'JJS'): 0, ('JJR', 'LS'): 0, ('JJR', 'POS'): 0, ('JJR', 'RBR'): 0, ('JJR', 'RBS'): 0, ('JJR', 'SYM'): 0, ('JJR', 'UH'): 0, ('JJR', 'VB'): 0, ('JJR', 'WDT'): 0, ('JJR', 'WP'): 0, ('JJR', 'WP$'): 0, ('JJS', '#'): 0, ('JJS', ')'): 0, ('JJS', '--s--'): 0, ('JJS', 'FW'): 0, ('JJS', 'JJR'): 0, ('JJS', 'JJS'): 0, ('JJS', 'LS'): 0, ('JJS', 'POS'): 0, ('JJS', 'RBR'): 0, ('JJS', 'RBS'): 0, ('JJS', 'RP'): 0, ('JJS', 'SYM'): 0, ('JJS', 'UH'): 0, ('JJS', 'WDT'): 0, ('JJS', 'WP'): 0, ('JJS', 'WP$'): 0, ('LS', '#'): 0, ('LS', '$'): 0, ('LS', \"''\"): 0, ('LS', '('): 0, ('LS', '--s--'): 0, ('LS', 'CC'): 0, ('LS', 'CD'): 0, ('LS', 'DT'): 0, ('LS', 'EX'): 0, ('LS', 'FW'): 0, ('LS', 'IN'): 0, ('LS', 'JJ'): 0, ('LS', 'JJR'): 0, ('LS', 'JJS'): 0, ('LS', 'LS'): 0, ('LS', 'MD'): 0, ('LS', 'NN'): 0, ('LS', 'NNP'): 0, ('LS', 'NNPS'): 0, ('LS', 'NNS'): 0, ('LS', 'PDT'): 0, ('LS', 'POS'): 0, ('LS', 'PRP'): 0, ('LS', 'PRP$'): 0, ('LS', 'RB'): 0, ('LS', 'RBR'): 0, ('LS', 'RBS'): 0, ('LS', 'RP'): 0, ('LS', 'SYM'): 0, ('LS', 'TO'): 0, ('LS', 'UH'): 0, ('LS', 'VB'): 0, ('LS', 'VBD'): 0, ('LS', 'VBG'): 0, ('LS', 'VBN'): 0, ('LS', 'VBP'): 0, ('LS', 'VBZ'): 0, ('LS', 'WDT'): 0, ('LS', 'WP'): 0, ('LS', 'WP$'): 0, ('LS', 'WRB'): 0, ('LS', '``'): 0, ('MD', '#'): 0, ('MD', '$'): 0, ('MD', '--s--'): 0, ('MD', 'EX'): 0, ('MD', 'FW'): 0, ('MD', 'JJS'): 0, ('MD', 'LS'): 0, ('MD', 'NNPS'): 0, ('MD', 'PDT'): 0, ('MD', 'POS'): 0, ('MD', 'RP'): 0, ('MD', 'SYM'): 0, ('MD', 'UH'): 0, ('MD', 'VBG'): 0, ('MD', 'WDT'): 0, ('MD', 'WP'): 0, ('MD', 'WP$'): 0, ('MD', 'WRB'): 0, ('NN', 'LS'): 0, ('NN', 'UH'): 0, ('NNP', '#'): 0, ('NNP', 'JJS'): 0, ('NNP', 'LS'): 0, ('NNP', 'UH'): 0, ('NNP', 'WP$'): 0, ('NNPS', '#'): 0, ('NNPS', '$'): 0, ('NNPS', 'FW'): 0, ('NNPS', 'JJS'): 0, ('NNPS', 'LS'): 0, ('NNPS', 'PDT'): 0, ('NNPS', 'RBS'): 0, ('NNPS', 'RP'): 0, ('NNPS', 'SYM'): 0, ('NNPS', 'UH'): 0, ('NNPS', 'WRB'): 0, ('NNS', '#'): 0, ('NNS', 'FW'): 0, ('NNS', 'LS'): 0, ('NNS', 'UH'): 0, ('PDT', '#'): 0, ('PDT', '$'): 0, ('PDT', \"''\"): 0, ('PDT', '('): 0, ('PDT', ')'): 0, ('PDT', ','): 0, ('PDT', '--s--'): 0, ('PDT', '.'): 0, ('PDT', ':'): 0, ('PDT', 'CC'): 0, ('PDT', 'CD'): 0, ('PDT', 'EX'): 0, ('PDT', 'FW'): 0, ('PDT', 'IN'): 0, ('PDT', 'JJR'): 0, ('PDT', 'JJS'): 0, ('PDT', 'LS'): 0, ('PDT', 'MD'): 0, ('PDT', 'NN'): 0, ('PDT', 'NNP'): 0, ('PDT', 'NNPS'): 0, ('PDT', 'NNS'): 0, ('PDT', 'PDT'): 0, ('PDT', 'POS'): 0, ('PDT', 'PRP'): 0, ('PDT', 'RB'): 0, ('PDT', 'RBR'): 0, ('PDT', 'RBS'): 0, ('PDT', 'RP'): 0, ('PDT', 'SYM'): 0, ('PDT', 'TO'): 0, ('PDT', 'UH'): 0, ('PDT', 'VB'): 0, ('PDT', 'VBD'): 0, ('PDT', 'VBG'): 0, ('PDT', 'VBN'): 0, ('PDT', 'VBP'): 0, ('PDT', 'VBZ'): 0, ('PDT', 'WDT'): 0, ('PDT', 'WP'): 0, ('PDT', 'WP$'): 0, ('PDT', 'WRB'): 0, ('PDT', '``'): 0, ('POS', '--s--'): 0, ('POS', 'EX'): 0, ('POS', 'LS'): 0, ('POS', 'PDT'): 0, ('POS', 'POS'): 0, ('POS', 'RP'): 0, ('POS', 'SYM'): 0, ('POS', 'UH'): 0, ('POS', 'WDT'): 0, ('POS', 'WP'): 0, ('POS', 'WP$'): 0, ('PRP', '#'): 0, ('PRP', '--s--'): 0, ('PRP', 'LS'): 0, ('PRP', 'SYM'): 0, ('PRP', 'UH'): 0, ('PRP', 'WP$'): 0, ('PRP$', '#'): 0, ('PRP$', \"''\"): 0, ('PRP$', '--s--'): 0, ('PRP$', 'DT'): 0, ('PRP$', 'EX'): 0, ('PRP$', 'IN'): 0, ('PRP$', 'LS'): 0, ('PRP$', 'MD'): 0, ('PRP$', 'PDT'): 0, ('PRP$', 'POS'): 0, ('PRP$', 'PRP'): 0, ('PRP$', 'PRP$'): 0, ('PRP$', 'RP'): 0, ('PRP$', 'SYM'): 0, ('PRP$', 'TO'): 0, ('PRP$', 'UH'): 0, ('PRP$', 'VB'): 0, ('PRP$', 'VBP'): 0, ('PRP$', 'WDT'): 0, ('PRP$', 'WP'): 0, ('PRP$', 'WP$'): 0, ('PRP$', 'WRB'): 0, ('RB', 'LS'): 0, ('RB', 'SYM'): 0, ('RB', 'UH'): 0, ('RB', 'WP$'): 0, ('RBR', '#'): 0, ('RBR', '$'): 0, ('RBR', \"''\"): 0, ('RBR', '('): 0, ('RBR', '--s--'): 0, ('RBR', 'EX'): 0, ('RBR', 'FW'): 0, ('RBR', 'JJS'): 0, ('RBR', 'LS'): 0, ('RBR', 'NNP'): 0, ('RBR', 'NNPS'): 0, ('RBR', 'PDT'): 0, ('RBR', 'POS'): 0, ('RBR', 'PRP$'): 0, ('RBR', 'RBS'): 0, ('RBR', 'SYM'): 0, ('RBR', 'UH'): 0, ('RBR', 'WDT'): 0, ('RBR', 'WP'): 0, ('RBR', 'WP$'): 0, ('RBS', '#'): 0, ('RBS', '$'): 0, ('RBS', \"''\"): 0, ('RBS', ')'): 0, ('RBS', '--s--'): 0, ('RBS', 'CC'): 0, ('RBS', 'CD'): 0, ('RBS', 'EX'): 0, ('RBS', 'FW'): 0, ('RBS', 'JJR'): 0, ('RBS', 'JJS'): 0, ('RBS', 'LS'): 0, ('RBS', 'NNP'): 0, ('RBS', 'NNPS'): 0, ('RBS', 'PDT'): 0, ('RBS', 'POS'): 0, ('RBS', 'PRP$'): 0, ('RBS', 'RBR'): 0, ('RBS', 'RBS'): 0, ('RBS', 'RP'): 0, ('RBS', 'SYM'): 0, ('RBS', 'UH'): 0, ('RBS', 'VBG'): 0, ('RBS', 'WDT'): 0, ('RBS', 'WP'): 0, ('RBS', 'WP$'): 0, ('RBS', 'WRB'): 0, ('RBS', '``'): 0, ('RP', 'EX'): 0, ('RP', 'FW'): 0, ('RP', 'LS'): 0, ('RP', 'NNPS'): 0, ('RP', 'POS'): 0, ('RP', 'RBS'): 0, ('RP', 'SYM'): 0, ('RP', 'UH'): 0, ('RP', 'VB'): 0, ('RP', 'WDT'): 0, ('RP', 'WP$'): 0, ('SYM', '#'): 0, ('SYM', '$'): 0, ('SYM', \"''\"): 0, ('SYM', '('): 0, ('SYM', ')'): 0, ('SYM', ','): 0, ('SYM', '.'): 0, ('SYM', 'CC'): 0, ('SYM', 'DT'): 0, ('SYM', 'EX'): 0, ('SYM', 'JJR'): 0, ('SYM', 'JJS'): 0, ('SYM', 'LS'): 0, ('SYM', 'MD'): 0, ('SYM', 'NNPS'): 0, ('SYM', 'NNS'): 0, ('SYM', 'PDT'): 0, ('SYM', 'POS'): 0, ('SYM', 'PRP'): 0, ('SYM', 'PRP$'): 0, ('SYM', 'RBR'): 0, ('SYM', 'RBS'): 0, ('SYM', 'RP'): 0, ('SYM', 'SYM'): 0, ('SYM', 'TO'): 0, ('SYM', 'UH'): 0, ('SYM', 'VB'): 0, ('SYM', 'VBD'): 0, ('SYM', 'VBG'): 0, ('SYM', 'VBP'): 0, ('SYM', 'WDT'): 0, ('SYM', 'WP'): 0, ('SYM', 'WP$'): 0, ('SYM', 'WRB'): 0, ('SYM', '``'): 0, ('TO', 'EX'): 0, ('TO', 'LS'): 0, ('TO', 'MD'): 0, ('TO', 'POS'): 0, ('TO', 'RP'): 0, ('TO', 'SYM'): 0, ('TO', 'WP$'): 0, ('UH', '#'): 0, ('UH', '$'): 0, ('UH', '('): 0, ('UH', '--s--'): 0, ('UH', 'CC'): 0, ('UH', 'CD'): 0, ('UH', 'DT'): 0, ('UH', 'EX'): 0, ('UH', 'FW'): 0, ('UH', 'JJ'): 0, ('UH', 'JJR'): 0, ('UH', 'JJS'): 0, ('UH', 'LS'): 0, ('UH', 'MD'): 0, ('UH', 'NNP'): 0, ('UH', 'NNPS'): 0, ('UH', 'NNS'): 0, ('UH', 'PDT'): 0, ('UH', 'POS'): 0, ('UH', 'RB'): 0, ('UH', 'RBR'): 0, ('UH', 'RBS'): 0, ('UH', 'RP'): 0, ('UH', 'SYM'): 0, ('UH', 'VBD'): 0, ('UH', 'VBG'): 0, ('UH', 'VBN'): 0, ('UH', 'VBP'): 0, ('UH', 'VBZ'): 0, ('UH', 'WDT'): 0, ('UH', 'WP'): 0, ('UH', 'WP$'): 0, ('UH', 'WRB'): 0, ('UH', '``'): 0, ('VB', 'LS'): 0, ('VB', 'SYM'): 0, ('VBD', 'LS'): 0, ('VBD', 'POS'): 0, ('VBD', 'SYM'): 0, ('VBD', 'WP$'): 0, ('VBG', '#'): 0, ('VBG', '--s--'): 0, ('VBG', 'FW'): 0, ('VBG', 'LS'): 0, ('VBG', 'WP$'): 0, ('VBN', 'FW'): 0, ('VBN', 'LS'): 0, ('VBN', 'SYM'): 0, ('VBN', 'UH'): 0, ('VBN', 'WP$'): 0, ('VBP', '#'): 0, ('VBP', 'LS'): 0, ('VBP', 'SYM'): 0, ('VBP', 'UH'): 0, ('VBZ', 'LS'): 0, ('VBZ', 'POS'): 0, ('VBZ', 'SYM'): 0, ('VBZ', 'WP$'): 0, ('WDT', '#'): 0, ('WDT', \"''\"): 0, ('WDT', ')'): 0, ('WDT', '--s--'): 0, ('WDT', '.'): 0, ('WDT', 'FW'): 0, ('WDT', 'LS'): 0, ('WDT', 'PDT'): 0, ('WDT', 'RBR'): 0, ('WDT', 'RBS'): 0, ('WDT', 'RP'): 0, ('WDT', 'SYM'): 0, ('WDT', 'UH'): 0, ('WDT', 'VBG'): 0, ('WDT', 'WDT'): 0, ('WDT', 'WP'): 0, ('WDT', 'WP$'): 0, ('WDT', 'WRB'): 0, ('WP', '#'): 0, ('WP', '$'): 0, ('WP', \"''\"): 0, ('WP', '--s--'): 0, ('WP', ':'): 0, ('WP', 'CC'): 0, ('WP', 'EX'): 0, ('WP', 'FW'): 0, ('WP', 'LS'): 0, ('WP', 'NNPS'): 0, ('WP', 'PDT'): 0, ('WP', 'POS'): 0, ('WP', 'RBS'): 0, ('WP', 'RP'): 0, ('WP', 'SYM'): 0, ('WP', 'UH'): 0, ('WP', 'VBG'): 0, ('WP', 'WP'): 0, ('WP', 'WP$'): 0, ('WP', 'WRB'): 0, ('WP$', '#'): 0, ('WP$', \"''\"): 0, ('WP$', '('): 0, ('WP$', ')'): 0, ('WP$', ','): 0, ('WP$', '--s--'): 0, ('WP$', '.'): 0, ('WP$', ':'): 0, ('WP$', 'CC'): 0, ('WP$', 'DT'): 0, ('WP$', 'EX'): 0, ('WP$', 'FW'): 0, ('WP$', 'IN'): 0, ('WP$', 'LS'): 0, ('WP$', 'MD'): 0, ('WP$', 'NNPS'): 0, ('WP$', 'PDT'): 0, ('WP$', 'POS'): 0, ('WP$', 'PRP'): 0, ('WP$', 'PRP$'): 0, ('WP$', 'RBR'): 0, ('WP$', 'RBS'): 0, ('WP$', 'RP'): 0, ('WP$', 'SYM'): 0, ('WP$', 'TO'): 0, ('WP$', 'UH'): 0, ('WP$', 'VB'): 0, ('WP$', 'VBD'): 0, ('WP$', 'VBP'): 0, ('WP$', 'VBZ'): 0, ('WP$', 'WDT'): 0, ('WP$', 'WP'): 0, ('WP$', 'WP$'): 0, ('WP$', 'WRB'): 0, ('WRB', '#'): 0, ('WRB', \"''\"): 0, ('WRB', '--s--'): 0, ('WRB', ':'): 0, ('WRB', 'FW'): 0, ('WRB', 'LS'): 0, ('WRB', 'POS'): 0, ('WRB', 'RBR'): 0, ('WRB', 'RBS'): 0, ('WRB', 'RP'): 0, ('WRB', 'SYM'): 0, ('WRB', 'UH'): 0, ('WRB', 'WP$'): 0, ('``', '#'): 0, ('``', \"''\"): 0, ('``', ')'): 0, ('``', ','): 0, ('``', '.'): 0, ('``', 'LS'): 0, ('``', 'POS'): 0, ('``', 'RBS'): 0, ('``', 'RP'): 0, ('``', 'SYM'): 0, ('``', 'WP$'): 0})\n"
          ]
        }
      ],
      "source": [
        "alpha = 0.001\n",
        "A = create_transition_matrix(alpha, tag_counts, transition_counts)\n",
        "# Testing your function\n",
        "print(f\"A at row 0, col 0: {A[0,0]:.9f}\")\n",
        "print(f\"A at row 3, col 1: {A[3,1]:.4f}\")\n",
        "\n",
        "print(\"View a subset of transition matrix A\")\n",
        "A_sub = pd.DataFrame(A[30:35,30:35], index=states[30:35], columns = states[30:35] )\n",
        "print(A_sub)\n",
        "\n",
        "print('tag_counts ', tag_counts)\n",
        "print('transition_counts ', transition_counts)"
      ]
    },
    {
      "cell_type": "markdown",
      "metadata": {
        "id": "iDTNZHrN4rUu"
      },
      "source": [
        "##### Expected Output\n",
        "```CPP\n",
        "A at row 0, col 0: 0.000007040\n",
        "A at row 3, col 1: 0.1691\n",
        "View a subset of transition matrix A\n",
        "              RBS            RP           SYM        TO            UH\n",
        "RBS  2.217069e-06  2.217069e-06  2.217069e-06  0.008870  2.217069e-06\n",
        "RP   3.756509e-07  7.516775e-04  3.756509e-07  0.051089  3.756509e-07\n",
        "SYM  1.722772e-05  1.722772e-05  1.722772e-05  0.000017  1.722772e-05\n",
        "TO   4.477336e-05  4.472863e-08  4.472863e-08  0.000090  4.477336e-05\n",
        "UH   1.030439e-05  1.030439e-05  1.030439e-05  0.061837  3.092348e-02\n",
        "```"
      ]
    },
    {
      "cell_type": "markdown",
      "metadata": {
        "id": "7cHl4yM54rUu"
      },
      "source": [
        "### Create the 'B' emission probabilities matrix\n",
        "\n",
        "Now you will create the `B` transition matrix which computes the emission probability. \n",
        "\n",
        "You will use smoothing as defined below: \n",
        "\n",
        "$$P(w_i | t_i) = \\frac{C(t_i, word_i)+ \\alpha}{C(t_{i}) +\\alpha * N}\\tag{4}$$\n",
        "\n",
        "- $C(t_i, word_i)$ is the number of times $word_i$ was associated with $tag_i$ in the training data (stored in `emission_counts` dictionary).\n",
        "- $C(t_i)$ is the number of times $tag_i$ was in the training data (stored in `tag_counts` dictionary).\n",
        "- $N$ is the number of words in the vocabulary\n",
        "- $\\alpha$ is a smoothing parameter. \n",
        "\n",
        "The matrix `B` is of dimension (num_tags, N), where num_tags is the number of possible parts-of-speech tags. \n",
        "\n",
        "Here is an example of the matrix, only a subset of tags and words are shown: \n",
        "<p style='text-align: center;'> <b>B Emissions Probability Matrix (subset)</b>  </p>\n",
        "\n",
        "|**B**| ...|          725 |     adroitly |    engineers |     promoted |      synergy| ...|\n",
        "|----|----|--------------|--------------|--------------|--------------|-------------|----|\n",
        "|**CD**  | ...| **8.201296e-05** | 2.732854e-08 | 2.732854e-08 | 2.732854e-08 | 2.732854e-08| ...|\n",
        "|**NN**  | ...| 7.521128e-09 | 7.521128e-09 | 7.521128e-09 | 7.521128e-09 | **2.257091e-05**| ...|\n",
        "|**NNS** | ...| 1.670013e-08 | 1.670013e-08 |**4.676203e-04** | 1.670013e-08 | 1.670013e-08| ...|\n",
        "|**VB**  | ...| 3.779036e-08 | 3.779036e-08 | 3.779036e-08 | 3.779036e-08 | 3.779036e-08| ...|\n",
        "|**RB**  | ...| 3.226454e-08 | **6.456135e-05** | 3.226454e-08 | 3.226454e-08 | 3.226454e-08| ...|\n",
        "|**RP**  | ...| 3.723317e-07 | 3.723317e-07 | 3.723317e-07 | **3.723317e-07** | 3.723317e-07| ...|\n",
        "| ...    | ...|     ...      |     ...      |     ...      |     ...      |     ...      | ...|\n",
        "\n"
      ]
    },
    {
      "cell_type": "markdown",
      "metadata": {
        "id": "fP5_C87Z4rUu"
      },
      "source": [
        "<a name='ex-04'></a>\n",
        "### Exercise 04\n",
        "**Instructions:** Implement the `create_emission_matrix` below that computes the `B` emission probabilities matrix. Your function takes in $\\alpha$, the smoothing parameter, `tag_counts`, which is a dictionary mapping each tag to its respective count, the `emission_counts` dictionary where the keys are (tag, word) and the values are the counts. Your task is to output a matrix that computes equation 4 for each cell in matrix `B`. "
      ]
    },
    {
      "cell_type": "code",
      "execution_count": 53,
      "metadata": {
        "id": "NqnKFgzi4rUu"
      },
      "outputs": [],
      "source": [
        "# UNQ_C4 (UNIQUE CELL IDENTIFIER, DO NOT EDIT)\n",
        "# GRADED FUNCTION: create_emission_matrix\n",
        "\n",
        "def create_emission_matrix(alpha, tag_counts, emission_counts, vocab):\n",
        "    '''\n",
        "    Input: \n",
        "        alpha: tuning parameter used in smoothing \n",
        "        tag_counts: a dictionary mapping each tag to its respective count\n",
        "        emission_counts: a dictionary where the keys are (tag, word) and the values are the counts\n",
        "        vocab: a dictionary where keys are words in vocabulary and value is an index.\n",
        "               within the function it'll be treated as a list\n",
        "    Output:\n",
        "        B: a matrix of dimension (num_tags, len(vocab))\n",
        "    '''\n",
        "    \n",
        "    # get the number of POS tag\n",
        "    num_tags = len(tag_counts)\n",
        "    \n",
        "    # Get a list of all POS tags\n",
        "    all_tags = sorted(tag_counts.keys())\n",
        "    \n",
        "    # Get the total number of unique words in the vocabulary\n",
        "    num_words = len(vocab)\n",
        "    \n",
        "    # Initialize the emission matrix B with places for\n",
        "    # tags in the rows and words in the columns\n",
        "    B = np.zeros((num_tags, num_words))\n",
        "    \n",
        "    # Get a set of all (POS, word) tuples \n",
        "    # from the keys of the emission_counts dictionary\n",
        "    emis_keys = set(list(emission_counts.keys()))\n",
        "    \n",
        "    ### START CODE HERE (Replace instances of 'None' with your code) ###\n",
        "    \n",
        "    # Go through each row (POS tags)\n",
        "    for i in range(num_tags): # complete this line\n",
        "        \n",
        "        # Go through each column (words)\n",
        "        for j in range(num_words): # complete this line\n",
        "\n",
        "            # Initialize the emission count for the (POS tag, word) to zero\n",
        "            count = 0\n",
        "                    \n",
        "            # Define the (POS tag, word) tuple for this row and column\n",
        "            key =  (all_tags[i], vocab[j])\n",
        "\n",
        "            # check if the (POS tag, word) tuple exists as a key in emission counts\n",
        "            if key in emission_counts.keys(): # complete this line\n",
        "        \n",
        "                # Get the count of (POS tag, word) from the emission_counts d\n",
        "                count = emission_counts[key]\n",
        "                \n",
        "            # Get the count of the POS tag\n",
        "            count_tag = tag_counts[all_tags[i]]\n",
        "                \n",
        "            # Apply smoothing and store the smoothed value \n",
        "            # into the emission matrix B for this row and column\n",
        "            B[i,j] = (count + alpha) / (count_tag + alpha*num_words)\n",
        "\n",
        "    ### END CODE HERE ###\n",
        "    return B"
      ]
    },
    {
      "cell_type": "code",
      "execution_count": 54,
      "metadata": {
        "colab": {
          "base_uri": "https://localhost:8080/"
        },
        "id": "JHlFcvO04rUv",
        "outputId": "6556dfd1-3a6c-45a6-93c3-3adcdc80ee95"
      },
      "outputs": [
        {
          "output_type": "stream",
          "name": "stdout",
          "text": [
            "View Matrix position at row 0, column 0: 0.000006032\n",
            "View Matrix position at row 3, column 1: 0.000000720\n",
            "              725      adroitly     engineers      promoted       synergy\n",
            "CD   8.201296e-05  2.732854e-08  2.732854e-08  2.732854e-08  2.732854e-08\n",
            "NN   7.521128e-09  7.521128e-09  7.521128e-09  7.521128e-09  2.257091e-05\n",
            "NNS  1.670013e-08  1.670013e-08  4.676203e-04  1.670013e-08  1.670013e-08\n",
            "VB   3.779036e-08  3.779036e-08  3.779036e-08  3.779036e-08  3.779036e-08\n",
            "RB   3.226454e-08  6.456135e-05  3.226454e-08  3.226454e-08  3.226454e-08\n",
            "RP   3.723317e-07  3.723317e-07  3.723317e-07  3.723317e-07  3.723317e-07\n"
          ]
        }
      ],
      "source": [
        "# creating your emission probability matrix. this takes a few minutes to run. \n",
        "B = create_emission_matrix(alpha, tag_counts, emission_counts, list(vocab))\n",
        "\n",
        "print(f\"View Matrix position at row 0, column 0: {B[0,0]:.9f}\")\n",
        "print(f\"View Matrix position at row 3, column 1: {B[3,1]:.9f}\")\n",
        "\n",
        "# Try viewing emissions for a few words in a sample dataframe\n",
        "cidx  = ['725','adroitly','engineers', 'promoted', 'synergy']\n",
        "\n",
        "# Get the integer ID for each word\n",
        "cols = [vocab[a] for a in cidx]\n",
        "\n",
        "# Choose POS tags to show in a sample dataframe\n",
        "rvals =['CD','NN','NNS', 'VB','RB','RP']\n",
        "\n",
        "# For each POS tag, get the row number from the 'states' list\n",
        "rows = [states.index(a) for a in rvals]\n",
        "\n",
        "# Get the emissions for the sample of words, and the sample of POS tags\n",
        "B_sub = pd.DataFrame(B[np.ix_(rows,cols)], index=rvals, columns = cidx )\n",
        "print(B_sub)"
      ]
    },
    {
      "cell_type": "markdown",
      "metadata": {
        "id": "tP2FYLJ94rUv"
      },
      "source": [
        "##### Expected Output\n",
        "\n",
        "```CPP\n",
        "View Matrix position at row 0, column 0: 0.000006032\n",
        "View Matrix position at row 3, column 1: 0.000000720\n",
        "              725      adroitly     engineers      promoted       synergy\n",
        "CD   8.201296e-05  2.732854e-08  2.732854e-08  2.732854e-08  2.732854e-08\n",
        "NN   7.521128e-09  7.521128e-09  7.521128e-09  7.521128e-09  2.257091e-05\n",
        "NNS  1.670013e-08  1.670013e-08  4.676203e-04  1.670013e-08  1.670013e-08\n",
        "VB   3.779036e-08  3.779036e-08  3.779036e-08  3.779036e-08  3.779036e-08\n",
        "RB   3.226454e-08  6.456135e-05  3.226454e-08  3.226454e-08  3.226454e-08\n",
        "RP   3.723317e-07  3.723317e-07  3.723317e-07  3.723317e-07  3.723317e-07\n",
        "```"
      ]
    },
    {
      "cell_type": "markdown",
      "metadata": {
        "id": "oqhj6KqO4rUv"
      },
      "source": [
        "<a name='3'></a>\n",
        "# Part 3: Viterbi Algorithm and Dynamic Programming\n",
        "\n",
        "In this part of the assignment you will implement the Viterbi algorithm which makes use of dynamic programming. Specifically, you will use your two matrices, `A` and `B` to compute the Viterbi algorithm. We have decomposed this process into three main steps for you. \n",
        "\n",
        "* **Initialization** - In this part you initialize the `best_paths` and `best_probabilities` matrices that you will be populating in `feed_forward`.\n",
        "* **Feed forward** - At each step, you calculate the probability of each path happening and the best paths up to that point. \n",
        "* **Feed backward**: This allows you to find the best path with the highest probabilities. \n",
        "\n",
        "<a name='3.1'></a>\n",
        "## Part 3.1:  Initialization \n",
        "\n",
        "You will start by initializing two matrices of the same dimension. \n",
        "\n",
        "- best_probs: Each cell contains the probability of going from one POS tag to a word in the corpus.\n",
        "\n",
        "- best_paths: A matrix that helps you trace through the best possible path in the corpus. "
      ]
    },
    {
      "cell_type": "markdown",
      "metadata": {
        "id": "VJTymaEs4rUv"
      },
      "source": [
        "<a name='ex-05'></a>\n",
        "### Exercise 05\n",
        "**Instructions**: \n",
        "Write a program below that initializes the `best_probs` and the `best_paths` matrix. \n",
        "\n",
        "Both matrices will be initialized to zero except for column zero of `best_probs`.  \n",
        "- Column zero of `best_probs` is initialized with the assumption that the first word of the corpus was preceded by a start token (\"--s--\"). \n",
        "- This allows you to reference the **A** matrix for the transition probability\n",
        "\n",
        "Here is how to initialize column 0 of `best_probs`:\n",
        "- The probability of the best path going from the start index to a given POS tag indexed by integer $i$ is denoted by $\\textrm{best_probs}[s_{idx}, i]$.\n",
        "- This is estimated as the probability that the start tag transitions to the POS denoted by index $i$: $\\mathbf{A}[s_{idx}, i]$ AND that the POS tag denoted by $i$ emits the first word of the given corpus, which is $\\mathbf{B}[i, vocab[corpus[0]]]$.\n",
        "- Note that vocab[corpus[0]] refers to the first word of the corpus (the word at position 0 of the corpus). \n",
        "- **vocab** is a dictionary that returns the unique integer that refers to that particular word.\n",
        "\n",
        "Conceptually, it looks like this:\n",
        "$\\textrm{best_probs}[s_{idx}, i] = \\mathbf{A}[s_{idx}, i] \\times \\mathbf{B}[i, corpus[0] ]$\n",
        "\n",
        "\n",
        "In order to avoid multiplying and storing small values on the computer, we'll take the log of the product, which becomes the sum of two logs:\n",
        "\n",
        "$best\\_probs[i,0] = log(A[s_{idx}, i]) + log(B[i, vocab[corpus[0]]$\n",
        "\n",
        "Also, to avoid taking the log of 0 (which is defined as negative infinity), the code itself will just set $best\\_probs[i,0] = float('-inf')$ when $A[s_{idx}, i] == 0$\n",
        "\n",
        "\n",
        "So the implementation to initialize $best\\_probs$ looks like this:\n",
        "\n",
        "$ if A[s_{idx}, i] <> 0 : best\\_probs[i,0] = log(A[s_{idx}, i]) + log(B[i, vocab[corpus[0]]])$\n",
        "\n",
        "$ if A[s_{idx}, i] == 0 : best\\_probs[i,0] = float('-inf')$\n",
        "\n",
        "Please use [math.log](https://docs.python.org/3/library/math.html) to compute the natural logarithm."
      ]
    },
    {
      "cell_type": "markdown",
      "metadata": {
        "id": "7QwPCc_W4rUv"
      },
      "source": [
        "The example below shows the initialization assuming the corpus starts with the phrase \"Loss tracks upward\".\n",
        "\n",
        "<img src = \"Initialize4.PNG\"/>"
      ]
    },
    {
      "cell_type": "markdown",
      "metadata": {
        "id": "fQmN6U554rUw"
      },
      "source": [
        "Represent infinity and negative infinity like this:\n",
        "\n",
        "```CPP\n",
        "float('inf')\n",
        "float('-inf')\n",
        "```"
      ]
    },
    {
      "cell_type": "code",
      "execution_count": 55,
      "metadata": {
        "id": "5kkKp5Bi4rUw"
      },
      "outputs": [],
      "source": [
        "# UNQ_C5 (UNIQUE CELL IDENTIFIER, DO NOT EDIT)\n",
        "# GRADED FUNCTION: initialize\n",
        "def initialize(states, tag_counts, A, B, corpus, vocab):\n",
        "    '''\n",
        "    Input: \n",
        "        states: a list of all possible parts-of-speech\n",
        "        tag_counts: a dictionary mapping each tag to its respective count\n",
        "        A: Transition Matrix of dimension (num_tags, num_tags)\n",
        "        B: Emission Matrix of dimension (num_tags, len(vocab))\n",
        "        corpus: a sequence of words whose POS is to be identified in a list \n",
        "        vocab: a dictionary where keys are words in vocabulary and value is an index\n",
        "    Output:\n",
        "        best_probs: matrix of dimension (num_tags, len(corpus)) of floats\n",
        "        best_paths: matrix of dimension (num_tags, len(corpus)) of integers\n",
        "    '''\n",
        "    # Get the total number of unique POS tags\n",
        "    num_tags = len(tag_counts)\n",
        "    \n",
        "    # Initialize best_probs matrix \n",
        "    # POS tags in the rows, number of words in the corpus as the columns\n",
        "    best_probs = np.zeros((num_tags, len(corpus)))\n",
        "    \n",
        "    # Initialize best_paths matrix\n",
        "    # POS tags in the rows, number of words in the corpus as columns\n",
        "    best_paths = np.zeros((num_tags, len(corpus)), dtype=int)\n",
        "    \n",
        "    # Define the start token\n",
        "    s_idx = states.index(\"--s--\")\n",
        "    ### START CODE HERE (Replace instances of 'None' with your code) ###\n",
        "    \n",
        "    # Go through each of the POS tags\n",
        "    for i in range(num_tags): # complete this line\n",
        "        \n",
        "        # Handle the special case when the transition from start token to POS tag i is zero\n",
        "        if A[s_idx,i]: # complete this line\n",
        "            \n",
        "            # Initialize best_probs at POS tag 'i', column 0, to negative infinity\n",
        "            best_probs[i,0] = float('-inf')\n",
        "        \n",
        "        # For all other cases when transition from start token to POS tag i is non-zero:\n",
        "        else:\n",
        "            \n",
        "            # Initialize best_probs at POS tag 'i', column 0\n",
        "            # Check the formula in the instructions above\n",
        "            best_probs[i,0] = math.log(A[s_idx,i]) + math.log(B[i,vocab[corpus[0]]] )\n",
        "                        \n",
        "    ### END CODE HERE ### \n",
        "    return best_probs, best_paths"
      ]
    },
    {
      "cell_type": "code",
      "execution_count": 56,
      "metadata": {
        "id": "VF-BTeBw4rUw"
      },
      "outputs": [],
      "source": [
        "best_probs, best_paths = initialize(states, tag_counts, A, B, prep, vocab)"
      ]
    },
    {
      "cell_type": "code",
      "execution_count": 57,
      "metadata": {
        "colab": {
          "base_uri": "https://localhost:8080/"
        },
        "id": "YdGr6lRH4rUw",
        "outputId": "20c3cbfc-17ef-4b20-f2e1-77012d86401b"
      },
      "outputs": [
        {
          "output_type": "stream",
          "name": "stdout",
          "text": [
            "best_probs[0,0]: -inf\n",
            "best_paths[2,3]: 0.0000\n"
          ]
        }
      ],
      "source": [
        "# Test the function\n",
        "print(f\"best_probs[0,0]: {best_probs[0,0]:.4f}\") \n",
        "print(f\"best_paths[2,3]: {best_paths[2,3]:.4f}\")"
      ]
    },
    {
      "cell_type": "markdown",
      "metadata": {
        "id": "Z4wOfEfb4rUw"
      },
      "source": [
        "##### Expected Output\n",
        "\n",
        "```CPP\n",
        "best_probs[0,0]: -22.6098\n",
        "best_paths[2,3]: 0.0000\n",
        "```\n"
      ]
    },
    {
      "cell_type": "markdown",
      "metadata": {
        "id": "5yk-ItoG4rUx"
      },
      "source": [
        "<a name='3.2'></a>\n",
        "## Part 3.2 Viterbi Forward\n",
        "\n",
        "In this part of the assignment, you will implement the `viterbi_forward` segment. In other words, you will populate your `best_probs` and `best_paths` matrices.\n",
        "- Walk forward through the corpus.\n",
        "- For each word, compute a probability for each possible tag. \n",
        "- Unlike the previous algorithm `predict_pos` (the 'warm-up' exercise), this will include the path up to that (word,tag) combination. \n",
        "\n",
        "Here is an example with a three-word corpus \"Loss tracks upward\":\n",
        "- Note, in this example, only a subset of states (POS tags) are shown in the diagram below, for easier reading. \n",
        "- In the diagram below, the first word \"Loss\" is already initialized. \n",
        "- The algorithm will compute a probability for each of the potential tags in the second and future words. \n",
        "\n",
        "Compute the probability that the tag of the second work ('tracks') is a verb, 3rd person singular present (VBZ).  \n",
        "- In the `best_probs` matrix, go to the column of the second word ('tracks'), and row 40 (VBZ), this cell is highlighted in light orange in the diagram below.\n",
        "- Examine each of the paths from the tags of the first word ('Loss') and choose the most likely path.  \n",
        "- An example of the calculation for **one** of those paths is the path from ('Loss', NN) to ('tracks', VBZ).\n",
        "- The log of the probability of the path up to and including the first word 'Loss' having POS tag NN is $-14.32$.  The `best_probs` matrix contains this value -14.32 in the column for 'Loss' and row for 'NN'.\n",
        "- Find the probability that NN transitions to VBZ.  To find this probability, go to the `A` transition matrix, and go to the row for 'NN' and the column for 'VBZ'.  The value is $4.37e-02$, which is circled in the diagram, so add $-14.32 + log(4.37e-02)$. \n",
        "- Find the log of the probability that the tag VBS would 'emit' the word 'tracks'.  To find this, look at the 'B' emission matrix in row 'VBZ' and the column for the word 'tracks'.  The value $4.61e-04$ is circled in the diagram below.  So add $-14.32 + log(4.37e-02) + log(4.61e-04)$.\n",
        "- The sum of $-14.32 + log(4.37e-02) + log(4.61e-04)$ is $-25.13$. Store $-25.13$ in the `best_probs` matrix at row 'VBZ' and column 'tracks' (as seen in the cell that is highlighted in light orange in the diagram).\n",
        "- All other paths in best_probs are calculated.  Notice that $-25.13$ is greater than all of the other values in column 'tracks' of matrix `best_probs`, and so the most likely path to 'VBZ' is from 'NN'.  'NN' is in row 20 of the `best_probs` matrix, so $20$ is the most likely path.\n",
        "- Store the most likely path $20$ in the `best_paths` table.  This is highlighted in light orange in the diagram below."
      ]
    },
    {
      "cell_type": "markdown",
      "metadata": {
        "id": "-LufX7de4rUx"
      },
      "source": [
        "The formula to compute the probability and path for the $i^{th}$ word in the $corpus$, the prior word $i-1$ in the corpus, current POS tag $j$, and previous POS tag $k$ is:\n",
        "\n",
        "$\\mathrm{prob} = \\mathbf{best\\_prob}_{k, i-1} + \\mathrm{log}(\\mathbf{A}_{k, j}) + \\mathrm{log}(\\mathbf{B}_{j, vocab(corpus_{i})})$\n",
        "\n",
        "where $corpus_{i}$ is the word in the corpus at index $i$, and $vocab$ is the dictionary that gets the unique integer that represents a given word.\n",
        "\n",
        "$\\mathrm{path} = k$\n",
        "\n",
        "where $k$ is the integer representing the previous POS tag.\n"
      ]
    },
    {
      "cell_type": "markdown",
      "metadata": {
        "id": "_wBVs-A24rUx"
      },
      "source": [
        "<a name='ex-06'></a>\n",
        "\n",
        "### Exercise 06\n",
        "\n",
        "Instructions: Implement the `viterbi_forward` algorithm and store the best_path and best_prob for every possible tag for each word in the matrices `best_probs` and `best_tags` using the pseudo code below.\n",
        "\n",
        "`for each word in the corpus\n",
        "\n",
        "    for each POS tag type that this word may be\n",
        "    \n",
        "        for POS tag type that the previous word could be\n",
        "        \n",
        "            compute the probability that the previous word had a given POS tag, that the current word has a given POS tag, and that the POS tag would emit this current word.\n",
        "            \n",
        "            retain the highest probability computed for the current word\n",
        "            \n",
        "            set best_probs to this highest probability\n",
        "            \n",
        "            set best_paths to the index 'k', representing the POS tag of the previous word which produced the highest probability `\n",
        "\n",
        "Please use [math.log](https://docs.python.org/3/library/math.html) to compute the natural logarithm."
      ]
    },
    {
      "cell_type": "markdown",
      "metadata": {
        "id": "AZQDmMZl4rUx"
      },
      "source": [
        "<img src = \"Forward4.PNG\"/>"
      ]
    },
    {
      "cell_type": "markdown",
      "metadata": {
        "id": "3cSqS8Ax4rUx"
      },
      "source": [
        "<details>    \n",
        "<summary>\n",
        "    <font size=\"3\" color=\"darkgreen\"><b>Hints</b></font>\n",
        "</summary>\n",
        "<p>\n",
        "<ul>\n",
        "    <li>Remember that when accessing emission matrix B, the column index is the unique integer ID associated with the word.  It can be accessed by using the 'vocab' dictionary, where the key is the word, and the value is the unique integer ID for that word.</li>\n",
        "</ul>\n",
        "</p>\n"
      ]
    },
    {
      "cell_type": "code",
      "execution_count": 58,
      "metadata": {
        "id": "4Bdp4XBN4rUx"
      },
      "outputs": [],
      "source": [
        "# UNQ_C6 (UNIQUE CELL IDENTIFIER, DO NOT EDIT)\n",
        "# GRADED FUNCTION: viterbi_forward\n",
        "def viterbi_forward(A, B, test_corpus, best_probs, best_paths, vocab):\n",
        "    '''\n",
        "    Input: \n",
        "        A, B: The transiton and emission matrices respectively\n",
        "        test_corpus: a list containing a preprocessed corpus\n",
        "        best_probs: an initilized matrix of dimension (num_tags, len(corpus))\n",
        "        best_paths: an initilized matrix of dimension (num_tags, len(corpus))\n",
        "        vocab: a dictionary where keys are words in vocabulary and value is an index \n",
        "    Output: \n",
        "        best_probs: a completed matrix of dimension (num_tags, len(corpus))\n",
        "        best_paths: a completed matrix of dimension (num_tags, len(corpus))\n",
        "    '''\n",
        "    # Get the number of unique POS tags (which is the num of rows in best_probs)\n",
        "    num_tags = best_probs.shape[0]\n",
        "    \n",
        "    # Go through every word in the corpus starting from word 1\n",
        "    # Recall that word 0 was initialized in `initialize()`\n",
        "    for i in range(1, len(test_corpus)): \n",
        "        \n",
        "        # Print number of words processed, every 5000 words\n",
        "        if i % 5000 == 0:\n",
        "            print(\"Words processed: {:>8}\".format(i))\n",
        "            \n",
        "        ### START CODE HERE (Replace instances of 'None' with your code EXCEPT the first 'best_path_i = None') ###\n",
        "        # For each unique POS tag that the current word can be\n",
        "        for j in range(num_tags): # complete this line\n",
        "            \n",
        "            # Initialize best_prob for word i to negative infinity\n",
        "            best_prob_i = float(\"-inf\")\n",
        "            \n",
        "            # Initialize best_path for current word i to None\n",
        "            best_path_i = None\n",
        "\n",
        "            # For each POS tag that the previous word can be:\n",
        "            for k in range(num_tags): # complete this line\n",
        "            \n",
        "                # Calculate the probability = \n",
        "                # best probs of POS tag k, previous word i-1 + \n",
        "                # log(prob of transition from POS k to POS j) + \n",
        "                # log(prob that emission of POS j is word i)\n",
        "                prob = best_probs[k,i-1]+math.log(A[k,j]) +math.log(B[j,vocab[test_corpus[i]]])\n",
        "\n",
        "                # check if this path's probability is greater than\n",
        "                # the best probability up to and before this point\n",
        "                if prob > best_prob_i: # complete this line\n",
        "                    \n",
        "                    # Keep track of the best probability\n",
        "                    best_prob_i = prob\n",
        "                    \n",
        "                    # keep track of the POS tag of the previous word\n",
        "                    # that is part of the best path.  \n",
        "                    # Save the index (integer) associated with \n",
        "                    # that previous word's POS tag\n",
        "                    best_path_i = k\n",
        "\n",
        "            # Save the best probability for the \n",
        "            # given current word's POS tag\n",
        "            # and the position of the current word inside the corpus\n",
        "            best_probs[j,i] = best_prob_i\n",
        "            \n",
        "            # Save the unique integer ID of the previous POS tag\n",
        "            # into best_paths matrix, for the POS tag of the current word\n",
        "            # and the position of the current word inside the corpus.\n",
        "            best_paths[j,i] = best_path_i\n",
        "\n",
        "        ### END CODE HERE ###\n",
        "    return best_probs, best_paths"
      ]
    },
    {
      "cell_type": "markdown",
      "metadata": {
        "id": "UAErsvi04rUy"
      },
      "source": [
        "Run the `viterbi_forward` function to fill in the `best_probs` and `best_paths` matrices.\n",
        "\n",
        "**Note** that this will take a few minutes to run.  There are about 30,000 words to process."
      ]
    },
    {
      "cell_type": "code",
      "source": [
        "# this will take a few minutes to run => processes ~ 30,000 words\n",
        "best_probs, best_paths = viterbi_forward(A, B, prep, best_probs, best_paths, vocab)"
      ],
      "metadata": {
        "id": "UfQra0xIQYW8"
      },
      "execution_count": null,
      "outputs": []
    },
    {
      "cell_type": "code",
      "execution_count": 60,
      "metadata": {
        "scrolled": true,
        "colab": {
          "base_uri": "https://localhost:8080/"
        },
        "id": "JD8PfQq64rUy",
        "outputId": "d79c4d51-3f38-4eb4-91b9-541ca2779331"
      },
      "outputs": [
        {
          "output_type": "stream",
          "name": "stdout",
          "text": [
            "best_probs[0,1]: -inf\n",
            "best_probs[0,4]: 0.0000\n"
          ]
        }
      ],
      "source": [
        "# Test this function \n",
        "print(f\"best_probs[0,1]: {best_probs[0,1]:.4f}\") \n",
        "print(f\"best_probs[0,4]: {best_probs[0,4]:.4f}\") "
      ]
    },
    {
      "cell_type": "markdown",
      "metadata": {
        "id": "r_uzg1fU4rUy"
      },
      "source": [
        "##### Expected Output\n",
        "\n",
        "```CPP\n",
        "best_probs[0,1]: -24.7822\n",
        "best_probs[0,4]: -49.5601\n",
        "```"
      ]
    },
    {
      "cell_type": "markdown",
      "metadata": {
        "id": "BI7SsMdH4rUy"
      },
      "source": [
        "<a name='3.3'></a>\n",
        "## Part 3.3 Viterbi backward\n",
        "\n",
        "Now you will implement the Viterbi backward algorithm.\n",
        "- The Viterbi backward algorithm gets the predictions of the POS tags for each word in the corpus using the `best_paths` and the `best_probs` matrices.\n",
        "\n",
        "The example below shows how to walk backwards through the best_paths matrix to get the POS tags of each word in the corpus. Recall that this example corpus has three words: \"Loss tracks upward\".\n",
        "\n",
        "POS tag for 'upward' is `RB`\n",
        "- Select the the most likely POS tag for the last word in the corpus, 'upward' in the `best_prob` table.\n",
        "- Look for the row in the column for 'upward' that has the largest probability.\n",
        "- Notice that in row 28 of `best_probs`, the estimated probability is -34.99, which is larger than the other values in the column.  So the most likely POS tag for 'upward' is `RB` an adverb, at row 28 of `best_prob`. \n",
        "- The variable `z` is an array that stores the unique integer ID of the predicted POS tags for each word in the corpus.  In array z, at position 2, store the value 28 to indicate that the word 'upward' (at index 2 in the corpus), most likely has the POS tag associated with unique ID 28 (which is `RB`).\n",
        "- The variable `pred` contains the POS tags in string form.  So `pred` at index 2 stores the string `RB`.\n",
        "\n",
        "\n",
        "POS tag for 'tracks' is `VBZ`\n",
        "- The next step is to go backward one word in the corpus ('tracks').  Since the most likely POS tag for 'upward' is `RB`, which is uniquely identified by integer ID 28, go to the `best_paths` matrix in column 2, row 28.  The value stored in `best_paths`, column 2, row 28 indicates the unique ID of the POS tag of the previous word.  In this case, the value stored here is 40, which is the unique ID for POS tag `VBZ` (verb, 3rd person singular present).\n",
        "- So the previous word at index 1 of the corpus ('tracks'), most likely has the POS tag with unique ID 40, which is `VBZ`.\n",
        "- In array `z`, store the value 40 at position 1, and for array `pred`, store the string `VBZ` to indicate that the word 'tracks' most likely has POS tag `VBZ`.\n",
        "\n",
        "POS tag for 'Loss' is `NN`\n",
        "- In `best_paths` at column 1, the unique ID stored at row 40 is 20.  20 is the unique ID for POS tag `NN`.\n",
        "- In array `z` at position 0, store 20.  In array `pred` at position 0, store `NN`."
      ]
    },
    {
      "cell_type": "markdown",
      "metadata": {
        "id": "daxrNvxT4rUz"
      },
      "source": [
        "<img src = \"Backwards5.PNG\"/>"
      ]
    },
    {
      "cell_type": "markdown",
      "metadata": {
        "id": "_1TIHPbS4rUz"
      },
      "source": [
        "<a name='ex-07'></a>\n",
        "### Exercise 07\n",
        "Implement the `viterbi_backward` algorithm, which returns a list of predicted POS tags for each word in the corpus.\n",
        "\n",
        "- Note that the numbering of the index positions starts at 0 and not 1. \n",
        "- `m` is the number of words in the corpus.  \n",
        "    - So the indexing into the corpus goes from `0` to `m - 1`.\n",
        "    - Also, the columns in `best_probs` and `best_paths` are indexed from `0` to `m - 1`\n",
        "\n",
        "\n",
        "**In Step 1:**       \n",
        "Loop through all the rows (POS tags) in the last entry of `best_probs` and find the row (POS tag) with the maximum value.\n",
        "Convert the unique integer ID to a tag (a string representation) using the list `states`.  \n",
        "\n",
        "Referring to the three-word corpus described above:\n",
        "- `z[2] = 28`: For the word 'upward' at position 2 in the corpus, the POS tag ID is 28.  Store 28 in `z` at position 2.\n",
        "- `states[28]` is 'RB': The POS tag ID 28 refers to the POS tag 'RB'.\n",
        "- `pred[2] = 'RB'`: In array `pred`, store the POS tag for the word 'upward'.\n",
        "\n",
        "**In Step 2:**  \n",
        "- Starting at the last column of best_paths, use `best_probs` to find the most likely POS tag for the last word in the corpus.\n",
        "- Then use `best_paths` to find the most likely POS tag for the previous word. \n",
        "- Update the POS tag for each word in `z` and in `preds`.\n",
        "\n",
        "Referring to the three-word example from above, read best_paths at column 2 and fill in z at position 1.  \n",
        "`z[1] = best_paths[z[2],2]`  \n",
        "\n",
        "The small test following the routine prints the last few words of the corpus and their states to aid in debug."
      ]
    },
    {
      "cell_type": "code",
      "execution_count": 62,
      "metadata": {
        "id": "756h5h5E4rUz"
      },
      "outputs": [],
      "source": [
        "# UNQ_C7 (UNIQUE CELL IDENTIFIER, DO NOT EDIT)\n",
        "# GRADED FUNCTION: viterbi_backward\n",
        "def viterbi_backward(best_probs, best_paths, corpus, states):\n",
        "    '''\n",
        "    This function returns the best path.\n",
        "    \n",
        "    '''\n",
        "    # Get the number of words in the corpus\n",
        "    # which is also the number of columns in best_probs, best_paths\n",
        "    m = best_paths.shape[1] \n",
        "    \n",
        "    # Initialize array z, same length as the corpus\n",
        "    z = [None] * m\n",
        "    \n",
        "    # Get the number of unique POS tags\n",
        "    num_tags = best_probs.shape[0]\n",
        "    \n",
        "    # Initialize the best probability for the last word\n",
        "    best_prob_for_last_word = float('-inf')\n",
        "    \n",
        "    # Initialize pred array, same length as corpus\n",
        "    pred = [None] * m\n",
        "    \n",
        "    ### START CODE HERE (Replace instances of 'None' with your code) ###\n",
        "    ## Step 1 ##\n",
        "    \n",
        "    # Go through each POS tag for the last word (last column of best_probs)\n",
        "    # in order to find the row (POS tag integer ID) \n",
        "    # with highest probability for the last word\n",
        "    for k in range(num_tags): # complete this line\n",
        "\n",
        "        # If the probability of POS tag at row k \n",
        "        # is better than the previously best probability for the last word:\n",
        "        if best_probs[k,-1]>best_prob_for_last_word: # complete this line\n",
        "            \n",
        "            # Store the new best probability for the lsat word\n",
        "            best_prob_for_last_word = best_probs[k,-1]\n",
        "    \n",
        "            # Store the unique integer ID of the POS tag\n",
        "            # which is also the row number in best_probs\n",
        "            z[m - 1] = k\n",
        "            \n",
        "    # Convert the last word's predicted POS tag\n",
        "    # from its unique integer ID into the string representation\n",
        "    # using the 'states' dictionary\n",
        "    # store this in the 'pred' array for the last word\n",
        "    pred[m - 1] = states[k]\n",
        "    \n",
        "    ## Step 2 ##\n",
        "    # Find the best POS tags by walking backward through the best_paths\n",
        "    # From the last word in the corpus to the 0th word in the corpus\n",
        "    for i in range(len(corpus)-1, -1, -1): # complete this line\n",
        "        \n",
        "        # Retrieve the unique integer ID of\n",
        "        # the POS tag for the word at position 'i' in the corpus\n",
        "        pos_tag_for_word_i = best_paths[np.argmax(best_probs[:,i]),i]\n",
        "        \n",
        "        # In best_paths, go to the row representing the POS tag of word i\n",
        "        # and the column representing the word's position in the corpus\n",
        "        # to retrieve the predicted POS for the word at position i-1 in the corpus\n",
        "        z[i - 1] = best_paths[pos_tag_for_word_i,i]\n",
        "        \n",
        "        # Get the previous word's POS tag in string form\n",
        "        # Use the 'states' dictionary, \n",
        "        # where the key is the unique integer ID of the POS tag,\n",
        "        # and the value is the string representation of that POS tag\n",
        "        pred[i - 1] = states[pos_tag_for_word_i]\n",
        "        \n",
        "     ### END CODE HERE ###\n",
        "    return pred"
      ]
    },
    {
      "cell_type": "code",
      "execution_count": 63,
      "metadata": {
        "colab": {
          "base_uri": "https://localhost:8080/"
        },
        "id": "6MMShhkQ4rUz",
        "outputId": "e23d9a1c-fad1-41d3-999f-72f7f68e244a"
      },
      "outputs": [
        {
          "output_type": "stream",
          "name": "stdout",
          "text": [
            "The prediction for pred[-7:m-1] is: \n",
            " ['see', 'them', 'here', 'with', 'us', '.'] \n",
            " ['#', '#', '#', '#', '#', '#'] \n",
            "\n",
            "The prediction for pred[0:8] is: \n",
            " ['#', '#', '#', '#', '#', '#', '#'] \n",
            " ['The', 'economy', \"'s\", 'temperature', 'will', 'be', 'taken']\n"
          ]
        }
      ],
      "source": [
        "# Run and test your function\n",
        "pred = viterbi_backward(best_probs, best_paths, prep, states)\n",
        "m=len(pred)\n",
        "print('The prediction for pred[-7:m-1] is: \\n', prep[-7:m-1], \"\\n\", pred[-7:m-1], \"\\n\")\n",
        "print('The prediction for pred[0:8] is: \\n', pred[0:7], \"\\n\", prep[0:7])"
      ]
    },
    {
      "cell_type": "markdown",
      "metadata": {
        "id": "5vOlGh8r4rUz"
      },
      "source": [
        "**Expected Output:**   \n",
        "\n",
        "```CPP\n",
        "The prediction for pred[-7:m-1] is:  \n",
        " ['see', 'them', 'here', 'with', 'us', '.']  \n",
        " ['VB', 'PRP', 'RB', 'IN', 'PRP', '.']   \n",
        "The prediction for pred[0:8] is:    \n",
        " ['DT', 'NN', 'POS', 'NN', 'MD', 'VB', 'VBN']   \n",
        " ['The', 'economy', \"'s\", 'temperature', 'will', 'be', 'taken'] \n",
        "```\n",
        "\n",
        "Now you just have to compare the predicted labels to the true labels to evaluate your model on the accuracy metric!"
      ]
    },
    {
      "cell_type": "markdown",
      "metadata": {
        "id": "ZLysmYBu4rU0"
      },
      "source": [
        "<a name='4'></a>\n",
        "# Part 4: Predicting on a data set\n",
        "\n",
        "Compute the accuracy of your prediction by comparing it with the true `y` labels. \n",
        "- `pred` is a list of predicted POS tags corresponding to the words of the `test_corpus`. "
      ]
    },
    {
      "cell_type": "code",
      "execution_count": 64,
      "metadata": {
        "colab": {
          "base_uri": "https://localhost:8080/"
        },
        "id": "rV7pUMNC4rU0",
        "outputId": "0353390f-3614-46fd-f726-3d18e479e33a"
      },
      "outputs": [
        {
          "output_type": "stream",
          "name": "stdout",
          "text": [
            "The third word is: temperature\n",
            "Your prediction is: #\n",
            "Your corresponding label y is:  temperature\tNN\n",
            "\n"
          ]
        }
      ],
      "source": [
        "print('The third word is:', prep[3])\n",
        "print('Your prediction is:', pred[3])\n",
        "print('Your corresponding label y is: ', y[3])"
      ]
    },
    {
      "cell_type": "markdown",
      "metadata": {
        "id": "BWabkQ3n4rU0"
      },
      "source": [
        "<a name='ex-08'></a>\n",
        "### Exercise 08\n",
        "\n",
        "Implement a function to compute the accuracy of the viterbi algorithm's POS tag predictions.\n",
        "- To split y into the word and its tag you can use `y.split()`. "
      ]
    },
    {
      "cell_type": "code",
      "execution_count": 65,
      "metadata": {
        "id": "AlPGm5PV4rU1"
      },
      "outputs": [],
      "source": [
        "# UNQ_C8 (UNIQUE CELL IDENTIFIER, DO NOT EDIT)\n",
        "# GRADED FUNCTION: compute_accuracy\n",
        "def compute_accuracy(pred, y):\n",
        "    '''\n",
        "    Input: \n",
        "        pred: a list of the predicted parts-of-speech \n",
        "        y: a list of lines where each word is separated by a '\\t' (i.e. word \\t tag)\n",
        "    Output: \n",
        "        \n",
        "    '''\n",
        "    num_correct = 0\n",
        "    total = 0\n",
        "    \n",
        "    # Zip together the prediction and the labels\n",
        "    for prediction, y in zip(pred, y):\n",
        "        ### START CODE HERE (Replace instances of 'None' with your code) ###\n",
        "        # Split the label into the word and the POS tag\n",
        "        word_tag_tuple = y.split()\n",
        "        \n",
        "        # Check that there is actually a word and a tag\n",
        "        # no more and no less than 2 items\n",
        "        if len(word_tag_tuple)!=2: # complete this line\n",
        "            continue \n",
        "\n",
        "        # store the word and tag separately\n",
        "        word, tag = word_tag_tuple\n",
        "        \n",
        "        # Check if the POS tag label matches the prediction\n",
        "        if  prediction == tag: # complete this line\n",
        "            \n",
        "            # count the number of times that the prediction\n",
        "            # and label match\n",
        "            num_correct += 1\n",
        "            \n",
        "        # keep track of the total number of examples (that have valid labels)\n",
        "        total += 1\n",
        "        \n",
        "        ### END CODE HERE ###\n",
        "    return num_correct/total"
      ]
    },
    {
      "cell_type": "code",
      "execution_count": 66,
      "metadata": {
        "colab": {
          "base_uri": "https://localhost:8080/"
        },
        "id": "VFQil9DQ4rU1",
        "outputId": "f49930ff-c965-4e08-f549-c87d66351b9d"
      },
      "outputs": [
        {
          "output_type": "stream",
          "name": "stdout",
          "text": [
            "Accuracy of the Viterbi algorithm is 0.0001\n"
          ]
        }
      ],
      "source": [
        "print(f\"Accuracy of the Viterbi algorithm is {compute_accuracy(pred, y):.4f}\")"
      ]
    },
    {
      "cell_type": "markdown",
      "metadata": {
        "id": "-Nv4r4No4rU1"
      },
      "source": [
        "##### Expected Output\n",
        "\n",
        "```CPP\n",
        "Accuracy of the Viterbi algorithm is 0.9531\n",
        "```\n",
        "\n",
        "Congratulations you were able to classify the parts-of-speech with 95% accuracy. "
      ]
    },
    {
      "cell_type": "markdown",
      "metadata": {
        "id": "Slim9YG44rU2"
      },
      "source": [
        "### Key Points and overview\n",
        "\n",
        "In this assignment you learned about parts-of-speech tagging. \n",
        "- In this assignment, you predicted POS tags by walking forward through a corpus and knowing the previous word.\n",
        "- There are other implementations that use bidirectional POS tagging.\n",
        "- Bidirectional POS tagging requires knowing the previous word and the next word in the corpus when predicting the current word's POS tag.\n",
        "- Bidirectional POS tagging would tell you more about the POS instead of just knowing the previous word. \n",
        "- Since you have learned to implement the unidirectional approach, you have the foundation to implement other POS taggers used in industry."
      ]
    },
    {
      "cell_type": "markdown",
      "metadata": {
        "id": "dlyU2QlT4rU2"
      },
      "source": [
        "### References\n",
        "\n",
        "- [\"Speech and Language Processing\", Dan Jurafsky and James H. Martin](https://web.stanford.edu/~jurafsky/slp3/)\n",
        "- We would like to thank Melanie Tosik for her help and inspiration"
      ]
    }
  ],
  "metadata": {
    "coursera": {
      "schema_names": [
        "NLPC2-2"
      ]
    },
    "kernelspec": {
      "display_name": "Python 3",
      "language": "python",
      "name": "python3"
    },
    "language_info": {
      "codemirror_mode": {
        "name": "ipython",
        "version": 3
      },
      "file_extension": ".py",
      "mimetype": "text/x-python",
      "name": "python",
      "nbconvert_exporter": "python",
      "pygments_lexer": "ipython3",
      "version": "3.7.1"
    },
    "colab": {
      "name": "C2_W2_Assignment.ipynb",
      "provenance": [],
      "collapsed_sections": [
        "ShBfcxZV4rUr",
        "7cHl4yM54rUu",
        "Slim9YG44rU2",
        "dlyU2QlT4rU2"
      ],
      "include_colab_link": true
    }
  },
  "nbformat": 4,
  "nbformat_minor": 0
}
