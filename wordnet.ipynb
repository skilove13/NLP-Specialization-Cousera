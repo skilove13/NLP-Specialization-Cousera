{
  "nbformat": 4,
  "nbformat_minor": 0,
  "metadata": {
    "colab": {
      "name": "wordnet.ipynb",
      "provenance": [],
      "collapsed_sections": [],
      "authorship_tag": "ABX9TyNNpZcfSwQZyqv5QMTpA6WL",
      "include_colab_link": true
    },
    "kernelspec": {
      "name": "python3",
      "display_name": "Python 3"
    },
    "language_info": {
      "name": "python"
    },
    "accelerator": "GPU"
  },
  "cells": [
    {
      "cell_type": "markdown",
      "metadata": {
        "id": "view-in-github",
        "colab_type": "text"
      },
      "source": [
        "<a href=\"https://colab.research.google.com/github/skilove13/NLP-Specialization-Cousera/blob/main/wordnet.ipynb\" target=\"_parent\"><img src=\"https://colab.research.google.com/assets/colab-badge.svg\" alt=\"Open In Colab\"/></a>"
      ]
    },
    {
      "cell_type": "code",
      "execution_count": 3,
      "metadata": {
        "colab": {
          "base_uri": "https://localhost:8080/"
        },
        "id": "51Ds53L0oyS-",
        "outputId": "d3047c2e-e226-4db1-e6a8-796b1d9b9d94"
      },
      "outputs": [
        {
          "output_type": "stream",
          "name": "stdout",
          "text": [
            "Requirement already satisfied: nltk==3.2.5 in /usr/local/lib/python3.7/dist-packages (3.2.5)\n",
            "Requirement already satisfied: six in /usr/local/lib/python3.7/dist-packages (from nltk==3.2.5) (1.15.0)\n"
          ]
        }
      ],
      "source": [
        "!pip install nltk==3.2.5"
      ]
    },
    {
      "cell_type": "code",
      "source": [
        "import nltk\n",
        "nltk.download('wordnet')\n",
        "from nltk.corpus import wordnet as wn "
      ],
      "metadata": {
        "colab": {
          "base_uri": "https://localhost:8080/"
        },
        "id": "TA4ufg1Bo-Rg",
        "outputId": "937779bb-636f-4a8e-9ba3-536b875b6e28"
      },
      "execution_count": 4,
      "outputs": [
        {
          "output_type": "stream",
          "name": "stdout",
          "text": [
            "[nltk_data] Downloading package wordnet to /root/nltk_data...\n",
            "[nltk_data]   Unzipping corpora/wordnet.zip.\n"
          ]
        }
      ]
    },
    {
      "cell_type": "code",
      "source": [
        "wn.synsets('people') #synsets 동의어의 집합 "
      ],
      "metadata": {
        "colab": {
          "base_uri": "https://localhost:8080/"
        },
        "id": "tInJ4RTfpFo-",
        "outputId": "a3b733d1-86bd-49bc-b5fa-bef3949b9b11"
      },
      "execution_count": 5,
      "outputs": [
        {
          "output_type": "execute_result",
          "data": {
            "text/plain": [
              "[Synset('people.n.01'),\n",
              " Synset('citizenry.n.01'),\n",
              " Synset('people.n.03'),\n",
              " Synset('multitude.n.03'),\n",
              " Synset('people.v.01'),\n",
              " Synset('people.v.02')]"
            ]
          },
          "metadata": {},
          "execution_count": 5
        }
      ]
    },
    {
      "cell_type": "code",
      "source": [
        "wn.synsets('people')[0].hypernyms() #상의어를 확인 "
      ],
      "metadata": {
        "colab": {
          "base_uri": "https://localhost:8080/"
        },
        "id": "8QwHILhTpNDv",
        "outputId": "6157671e-4e97-4fe8-ab06-437072067f53"
      },
      "execution_count": 6,
      "outputs": [
        {
          "output_type": "execute_result",
          "data": {
            "text/plain": [
              "[Synset('group.n.01')]"
            ]
          },
          "metadata": {},
          "execution_count": 6
        }
      ]
    },
    {
      "cell_type": "code",
      "source": [
        "def hypernyms(word):\n",
        "  current_node = wn.synsets(word)[0]  # 자기자신의 current node\n",
        "  yield current_node \n",
        "\n",
        "  while True: \n",
        "    try:\n",
        "      current_node = current_node.hypernyms()[0]\n",
        "      yield current_node\n",
        "    except IndexError:\n",
        "      break\n",
        "\n",
        "for h in hypernyms('policeman'):\n",
        "  print(h)"
      ],
      "metadata": {
        "colab": {
          "base_uri": "https://localhost:8080/"
        },
        "id": "CG8ydaV3pTnf",
        "outputId": "7422c06b-ea5b-4a19-fc62-66dbb2a60da4"
      },
      "execution_count": 7,
      "outputs": [
        {
          "output_type": "stream",
          "name": "stdout",
          "text": [
            "Synset('policeman.n.01')\n",
            "Synset('lawman.n.01')\n",
            "Synset('defender.n.01')\n",
            "Synset('preserver.n.03')\n",
            "Synset('person.n.01')\n",
            "Synset('causal_agent.n.01')\n",
            "Synset('physical_entity.n.01')\n",
            "Synset('entity.n.01')\n"
          ]
        }
      ]
    },
    {
      "cell_type": "code",
      "source": [
        "[h for h in hypernyms('firefighter')]"
      ],
      "metadata": {
        "colab": {
          "base_uri": "https://localhost:8080/"
        },
        "id": "wP3hM55xqBuB",
        "outputId": "f77286e2-aa8c-4840-8df2-64bae75fb8fe"
      },
      "execution_count": 8,
      "outputs": [
        {
          "output_type": "execute_result",
          "data": {
            "text/plain": [
              "[Synset('fireman.n.04'),\n",
              " Synset('defender.n.01'),\n",
              " Synset('preserver.n.03'),\n",
              " Synset('person.n.01'),\n",
              " Synset('causal_agent.n.01'),\n",
              " Synset('physical_entity.n.01'),\n",
              " Synset('entity.n.01')]"
            ]
          },
          "metadata": {},
          "execution_count": 8
        }
      ]
    },
    {
      "cell_type": "code",
      "source": [
        "[h for h in hypernyms('sheriff')]"
      ],
      "metadata": {
        "colab": {
          "base_uri": "https://localhost:8080/"
        },
        "id": "92J7Y9RsrGAw",
        "outputId": "067b7d47-3e05-4754-a083-778d7a619337"
      },
      "execution_count": 9,
      "outputs": [
        {
          "output_type": "execute_result",
          "data": {
            "text/plain": [
              "[Synset('sheriff.n.01'),\n",
              " Synset('lawman.n.01'),\n",
              " Synset('defender.n.01'),\n",
              " Synset('preserver.n.03'),\n",
              " Synset('person.n.01'),\n",
              " Synset('causal_agent.n.01'),\n",
              " Synset('physical_entity.n.01'),\n",
              " Synset('entity.n.01')]"
            ]
          },
          "metadata": {},
          "execution_count": 9
        }
      ]
    },
    {
      "cell_type": "code",
      "source": [
        "[h for h in hypernyms('mailman')]"
      ],
      "metadata": {
        "colab": {
          "base_uri": "https://localhost:8080/"
        },
        "id": "gizgIDCzrJVU",
        "outputId": "3b5364d3-f07d-47dd-cda2-6f207694a553"
      },
      "execution_count": 10,
      "outputs": [
        {
          "output_type": "execute_result",
          "data": {
            "text/plain": [
              "[Synset('mailman.n.01'),\n",
              " Synset('deliveryman.n.01'),\n",
              " Synset('employee.n.01'),\n",
              " Synset('worker.n.01'),\n",
              " Synset('person.n.01'),\n",
              " Synset('causal_agent.n.01'),\n",
              " Synset('physical_entity.n.01'),\n",
              " Synset('entity.n.01')]"
            ]
          },
          "metadata": {},
          "execution_count": 10
        }
      ]
    },
    {
      "cell_type": "code",
      "source": [
        "def distance(word1 , word2):\n",
        "  word1_hypernyms = [h for h in hypernyms(word1)]\n",
        "\n",
        "  for i , word2_hypernym in enumerate(hypernyms(word2)):\n",
        "    try:\n",
        "      return i + word1_hypernyms.index(word2_hypernym)\n",
        "    except ValueError:\n",
        "      continue\n",
        "\n",
        "distance('sheriff', 'student')"
      ],
      "metadata": {
        "colab": {
          "base_uri": "https://localhost:8080/"
        },
        "id": "4QJaR5YGrMnP",
        "outputId": "17906eb9-c9d6-42f3-e5f9-6ed2cd47a3f4"
      },
      "execution_count": 11,
      "outputs": [
        {
          "output_type": "execute_result",
          "data": {
            "text/plain": [
              "6"
            ]
          },
          "metadata": {},
          "execution_count": 11
        }
      ]
    },
    {
      "cell_type": "code",
      "source": [
        "import numpy as np\n",
        "\n",
        "def similarity(word1, word2):\n",
        "  return -np.log(distance(word1,word2))\n",
        "\n",
        "print(similarity('sheriff', 'student'))\n",
        "print(similarity('sheriff', 'policeman'))"
      ],
      "metadata": {
        "colab": {
          "base_uri": "https://localhost:8080/"
        },
        "id": "d5rQAaUnUqn0",
        "outputId": "049cdd79-c36a-474e-87b6-0ea111f0e696"
      },
      "execution_count": 12,
      "outputs": [
        {
          "output_type": "stream",
          "name": "stdout",
          "text": [
            "-1.791759469228055\n",
            "-0.6931471805599453\n"
          ]
        }
      ]
    }
  ]
}