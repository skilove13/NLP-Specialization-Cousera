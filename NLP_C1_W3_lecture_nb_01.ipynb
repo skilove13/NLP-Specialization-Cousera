{
  "nbformat": 4,
  "nbformat_minor": 0,
  "metadata": {
    "colab": {
      "name": "NLP_C1_W3_lecture_nb_01.ipynb",
      "provenance": [],
      "authorship_tag": "ABX9TyNTZEAg8Vu2TQDbcrCnucR7",
      "include_colab_link": true
    },
    "kernelspec": {
      "name": "python3",
      "display_name": "Python 3"
    },
    "language_info": {
      "name": "python"
    },
    "accelerator": "GPU"
  },
  "cells": [
    {
      "cell_type": "markdown",
      "metadata": {
        "id": "view-in-github",
        "colab_type": "text"
      },
      "source": [
        "<a href=\"https://colab.research.google.com/github/skilove13/NLP-Specialization-Cousera/blob/main/NLP_C1_W3_lecture_nb_01.ipynb\" target=\"_parent\"><img src=\"https://colab.research.google.com/assets/colab-badge.svg\" alt=\"Open In Colab\"/></a>"
      ]
    },
    {
      "cell_type": "markdown",
      "source": [
        "**Linear algebra in Python with NumPy**\n",
        "\n",
        "In this lab, you will have the opportunity to remember some basic concepts about linear algebra and how to use them in Python.\n",
        "\n",
        "Numpy is one of the most used libraries in Python for arrays manipulation. It adds to Python a set of functions that allows us to operate on large multidimensional arrays with just a few lines. So forget about writing nested loops for adding matrices! With NumPy, this is as simple as adding numbers.\n",
        "\n",
        "Let us import the numpy library and assign the alias np for it. We will follow this convention in almost every notebook in this course, and you'll see this in many resources outside this course as well.\n"
      ],
      "metadata": {
        "id": "oeW-R8XX9mBt"
      }
    },
    {
      "cell_type": "code",
      "execution_count": 1,
      "metadata": {
        "id": "ly8Q0Iok9i5u"
      },
      "outputs": [],
      "source": [
        "import numpy as np  # The swiss knife of the data scientist."
      ]
    },
    {
      "cell_type": "markdown",
      "source": [
        "**Defining lists and numpy arrays**"
      ],
      "metadata": {
        "id": "gxHdeU-O9wwc"
      }
    },
    {
      "cell_type": "code",
      "source": [
        "alist = { 1 , 2 , 3 ,4 ,5 }\n",
        "narray = np.array([1,2,3,4]) \n",
        "\n",
        "print(alist)\n",
        "print(narray)\n",
        "\n",
        "print(type(alist))\n",
        "print(type(narray))"
      ],
      "metadata": {
        "colab": {
          "base_uri": "https://localhost:8080/"
        },
        "id": "tEh4WWDO9yVE",
        "outputId": "b710696c-733c-40c3-d3ef-75400205f432"
      },
      "execution_count": 2,
      "outputs": [
        {
          "output_type": "stream",
          "name": "stdout",
          "text": [
            "{1, 2, 3, 4, 5}\n",
            "[1 2 3 4]\n",
            "<class 'set'>\n",
            "<class 'numpy.ndarray'>\n"
          ]
        }
      ]
    },
    {
      "cell_type": "markdown",
      "source": [
        "**Algebraic operators on NumPy arrays vs. Python lists**\n",
        "\n",
        "One of the common beginner mistakes is to mix up the concepts of NumPy arrays and Python lists. Just observe the next example, where we add two objects of the two mentioned types. Note that the '+' operator on NumPy arrays perform an element-wise addition, while the same operation on Python lists results in a list concatenation. Be careful while coding. Knowing this can save many headaches."
      ],
      "metadata": {
        "id": "VSugYQuz-J0O"
      }
    },
    {
      "cell_type": "code",
      "source": [
        "print(narray + narray)\n",
        "#print(alist + alist)"
      ],
      "metadata": {
        "colab": {
          "base_uri": "https://localhost:8080/"
        },
        "id": "xijNNnps-Qdc",
        "outputId": "7b01f9de-0ce6-4d58-c9d9-e49e84c47bad"
      },
      "execution_count": 4,
      "outputs": [
        {
          "output_type": "stream",
          "name": "stdout",
          "text": [
            "[2 4 6 8]\n"
          ]
        }
      ]
    },
    {
      "cell_type": "markdown",
      "source": [
        "**Matrix or Array of Arrays**\n",
        "\n",
        "In linear algebra, a matrix is a structure composed of n rows by m columns. That means each row must have the same number of columns. With NumPy, we have two ways to create a matrix:\n",
        "\n",
        "Creating an array of arrays using np.array (recommended).\n",
        "Creating a matrix using np.matrix (still available but might be removed soon).\n",
        "NumPy arrays or lists can be used to initialize a matrix, but the resulting matrix will be composed of NumPy arrays only."
      ],
      "metadata": {
        "id": "kRIq-o0R-jPk"
      }
    },
    {
      "cell_type": "code",
      "source": [
        "npmatrix1 = np.array([narray, narray, narray]) # Matrix initialized with NumPy arrays\n",
        "npmatrix2 = np.array([alist, alist, alist]) # Matrix initialized with lists\n",
        "npmatrix3 = np.array([narray, [1, 1, 1, 1], narray]) # Matrix initialized with both types\n",
        "\n",
        "print(npmatrix1)\n",
        "print(npmatrix2)\n",
        "print(npmatrix3)"
      ],
      "metadata": {
        "colab": {
          "base_uri": "https://localhost:8080/"
        },
        "id": "Xozl20yU-nfl",
        "outputId": "640698bd-790e-4154-853d-c891cafc82d2"
      },
      "execution_count": 5,
      "outputs": [
        {
          "output_type": "stream",
          "name": "stdout",
          "text": [
            "[[1 2 3 4]\n",
            " [1 2 3 4]\n",
            " [1 2 3 4]]\n",
            "[{1, 2, 3, 4, 5} {1, 2, 3, 4, 5} {1, 2, 3, 4, 5}]\n",
            "[[1 2 3 4]\n",
            " [1 1 1 1]\n",
            " [1 2 3 4]]\n"
          ]
        }
      ]
    },
    {
      "cell_type": "markdown",
      "source": [
        "However, when defining a matrix, be sure that all the rows contain the same number of elements. Otherwise, the linear algebra operations could lead to unexpected results.\n",
        "\n",
        "Analyze the following two examples:"
      ],
      "metadata": {
        "id": "uYdnNVIN-2Qc"
      }
    },
    {
      "cell_type": "code",
      "source": [
        "# Example 1:\n",
        "\n",
        "okmatrix = np.array([[1, 2], [3, 4]]) # Define a 2x2 matrix\n",
        "print(okmatrix) # Print okmatrix\n",
        "print(okmatrix * 2) # Print a scaled version of okmatrix"
      ],
      "metadata": {
        "colab": {
          "base_uri": "https://localhost:8080/"
        },
        "id": "CxM3HMkt-3rt",
        "outputId": "c3680b38-2da9-46d8-823e-0ccbf578c333"
      },
      "execution_count": 6,
      "outputs": [
        {
          "output_type": "stream",
          "name": "stdout",
          "text": [
            "[[1 2]\n",
            " [3 4]]\n",
            "[[2 4]\n",
            " [6 8]]\n"
          ]
        }
      ]
    },
    {
      "cell_type": "markdown",
      "source": [
        "**Scaling and translating matrices**\n",
        "\n",
        "Now that you know how to build correct NumPy arrays and matrices, let us see how easy it is to operate with them in Python using the regular algebraic operators like + and -.\n",
        "\n",
        "Operations can be performed between arrays and arrays or between arrays and scalars."
      ],
      "metadata": {
        "id": "Y05OzUiy_IMG"
      }
    },
    {
      "cell_type": "code",
      "source": [
        "# Scale by 2 and translate 1 unit the matrix\n",
        "result = okmatrix * 2 + 1 # For each element in the matrix, multiply by 2 and add 1\n",
        "print(result)\n",
        "\n",
        "# Subtract two sum compatible matrices. This is called the difference vector\n",
        "result2 = okmatrix - okmatrix\n",
        "print(result2)\n"
      ],
      "metadata": {
        "colab": {
          "base_uri": "https://localhost:8080/"
        },
        "id": "jtVJU67M_L_s",
        "outputId": "a6c3566d-a090-4337-a944-3cec948b45b8"
      },
      "execution_count": 7,
      "outputs": [
        {
          "output_type": "stream",
          "name": "stdout",
          "text": [
            "[[3 5]\n",
            " [7 9]]\n",
            "[[0 0]\n",
            " [0 0]]\n"
          ]
        }
      ]
    },
    {
      "cell_type": "markdown",
      "source": [
        "**Transpose a matrix**\n",
        "\n",
        "In linear algebra, the transpose of a matrix is an operator that flips a matrix over its diagonal, i.e., the transpose operator switches the row and column indices of the matrix producing another matrix. If the original matrix dimension is n by m, the resulting transposed matrix will be m by n.\n",
        "\n",
        "T denotes the transpose operations with NumPy matrices."
      ],
      "metadata": {
        "id": "fWlD7JOLAkUH"
      }
    },
    {
      "cell_type": "code",
      "source": [
        "matrix3x2 = np.array([[1,2], [3,4] ,[5,6]])\n",
        "print('Original matrix 3x2')\n",
        "print(matrix3x2)\n",
        "print('Transposed matrix 2 x 3')\n",
        "print(matrix3x2.T)"
      ],
      "metadata": {
        "colab": {
          "base_uri": "https://localhost:8080/"
        },
        "id": "Yk_l9kKkApdu",
        "outputId": "979bb7c3-75b5-428c-9ae3-b4177d51ad66"
      },
      "execution_count": 8,
      "outputs": [
        {
          "output_type": "stream",
          "name": "stdout",
          "text": [
            "Original matrix 3x2\n",
            "[[1 2]\n",
            " [3 4]\n",
            " [5 6]]\n",
            "Transposed matrix 2 x 3\n",
            "[[1 3 5]\n",
            " [2 4 6]]\n"
          ]
        }
      ]
    },
    {
      "cell_type": "markdown",
      "source": [
        "However, note that the transpose operation does not affect 1D arrays."
      ],
      "metadata": {
        "id": "8_6FQEGDBQ5u"
      }
    },
    {
      "cell_type": "code",
      "source": [
        "nparray = np.array([1,2,3,4]) # Define an array \n",
        "print('Original array')\n",
        "print(nparray)\n",
        "print('Transposed array')\n",
        "print(nparray.T)"
      ],
      "metadata": {
        "colab": {
          "base_uri": "https://localhost:8080/"
        },
        "id": "8qaTZYWVBSAl",
        "outputId": "d3ad58b3-1426-42dc-cc32-39a6f317f69e"
      },
      "execution_count": 9,
      "outputs": [
        {
          "output_type": "stream",
          "name": "stdout",
          "text": [
            "Original array\n",
            "[1 2 3 4]\n",
            "Transposed array\n",
            "[1 2 3 4]\n"
          ]
        }
      ]
    },
    {
      "cell_type": "markdown",
      "source": [
        "perhaps in this case you wanted to do:"
      ],
      "metadata": {
        "id": "M-G0Nlz-BoGQ"
      }
    },
    {
      "cell_type": "code",
      "source": [
        "nparray = np.array([[1,2,3,4]])\n",
        "print('Original array')\n",
        "print(nparray)\n",
        "print(type(nparray))\n",
        "print('Transposed array')\n",
        "print(nparray.T)"
      ],
      "metadata": {
        "colab": {
          "base_uri": "https://localhost:8080/"
        },
        "id": "hykjsVYYBpYN",
        "outputId": "86cc5ef6-8da4-4e2a-8092-b85df15367a7"
      },
      "execution_count": 10,
      "outputs": [
        {
          "output_type": "stream",
          "name": "stdout",
          "text": [
            "Original array\n",
            "[[1 2 3 4]]\n",
            "<class 'numpy.ndarray'>\n",
            "Transposed array\n",
            "[[1]\n",
            " [2]\n",
            " [3]\n",
            " [4]]\n"
          ]
        }
      ]
    },
    {
      "cell_type": "markdown",
      "source": [
        "**Get the norm of a nparray or matrix**\n",
        "\n",
        "In linear algebra, the norm of an n-dimensional vector \n",
        " is defined as:\n",
        "\n",
        "![image.png](data:image/png;base64,iVBORw0KGgoAAAANSUhEUgAAAVYAAABpCAYAAABh9AtPAAAFdklEQVR4nO3dXXKjOBQGUGdqttEvXlWv3i9ZiOelPeUmCPNzJV3BOVWpShwHiIQ/hBDi6/l8Pm8AhPmn9wYAnI1gBQgmWAGCCVaAYIIVIJhgBQgmWAGCCVaAYIIVIJhgBQgmWAGCCVaAYIIVIJhgBQgmWAGC/dt7A4Dj7vf77fv7u/j7X79+NdyafB6PR9P1CVY4id+/f/feBP748gQBGN/9fm/eKqNMHytAMMEKEEywAgQTrADBBCtAMMEKEEywAgQTrADBBCtAMMEKEEywAgQTrADBBCsMrvYELPf7/a/vX1+UmTYQKHqF9itI3wPcjFplWqzArGlwCtH1BCswaylItVaXCVaAYIIVWDRtnb7/7CLWPMEK7KI7oEywApu8RgkI1TLBCiyaC1ChukywAgQTrADBBCtAMMEKEMxcAXARvcacXvFCl2CFi3ifTOX9tUhz4X3FoVm6AuBCpgEX3Yp9PB7/f13Z1/P5fPbeCGC/PS3C2i3XuXW1mjO29rrW0BUAVDXXBRFp7sDSu/tBV0BDW3eu0vtHm/hiaXv3/C97lzdaudVUu0tgbn21wzUTwdrIniNoaWesvZNmd/X/P8pZwrX0ueq5j+gKaKAUqmsrfu7vzzwRxpFyYZtp2NUu01rLzjafgWDtaE3FXzE8lAuj0xVQ2d4AeD0Jc+lvr3hKvKZc2KZ1l0BtGfYPwZqUsYDzlEsdZwnXDKF6uwlW4I8MgXTE3CNkehGsFWU5esIeI7Vas33Wml68Kg3kfVlbMJ/+pnSnx9zrn967djlRtpbHmUcHvNuzn7Bd61ECn2yp90x3XzUL1lcFTZ/wWHr6Y2kZt9tyML6v5/370nvmXptbx9JyIiz9b9PXr0S5tJchXLfUe8aWdZNgLfV9lFqbW17/dGV87lG9SwOKt/4uYqdbc/U/UsSO2OKD1rpc5tZ/lODfbmu9ZyzjLuNYt35Yjuzg78srhfCacCz9PiJUW8u4I05laIWMUE4v0a3KXq3WDPUeocnFq2mL8cgySuZao5/uxshyOtGzVZaZclmn1d1MrT4jZ6j3NKMCeneSAz99aqgwL02wlqw9Sh6t9F59q/ykXPIZpRsgy77TvI91TUi9/7zm4tQRURUR3eKebleNEQhH9Gq91CyXT+vaY/RWXpYzyTX1nmVbb7eEk7DsnV7v6DKO2Lu+TweNVn1n2fQql17rKekdFK3Xf7Tee9fXu6bjWNe8Z+0peeQg/SPLqN1SrbGOEV2tXM78v20xar03bbEuDVlaKqy5UQW9x1GuueNpy3vef35f//S1Lds4sqPlcgY967bXuvfWe7Z9olmwRjTj1xbalsI9MrQjqhJrjZEdnXLpo/fBemu9T++MzCD9qAC4miu2VPfKur2CtbKaR9KsOxX7la4l9Fj3CLJur2AFhr9lNdtBQbA2UKPVmm1H4rhpnbaq35ahOsLEOREEayOR4SpUz2np4kwtrYLoavvs1/P5fPbeCGDe2mFEe4Kr1RClluvJEt5arJBY7aA406l5llC93RLe0gr8VOMOv5ZzLGQKvRYEK1zMK/iyXOg5I10BkFzkrGaeWNGGFisM4ujp+xUDrhctVoBgghUGoLU5FsEKA3HBaQyCFagS2Fc+CLh4BYOoNVNatuepnYEWKwwmOrwi+28fj4f+4JtgBQgnWGEg0a3BXjcNnJ0+VhhQRL9o6VlRW4PWqf9PghUuaM1TkdlPVwAMJiL4hGddghUGFdE3mmly6DPRFQD8FbD6WI8TrDCgmo9VF5TH6QqAgR0N11dA15rz9arDubRY4eKi77xCixWGJcTyEqwwuCueamcnWAGCCVYYmO6AnAQrQDDBChBMsMLgdAfkI1gBgglWgGD/AXW7iJyJwGwgAAAAAElFTkSuQmCC)\n",
        "\n",
        "\n",
        "Calculating the norm of vector or even of a matrix is a general operation when dealing with data. Numpy has a set of functions for linear algebra in the subpackage linalg, including the norm function. Let us see how to get the norm a given array or matrix:"
      ],
      "metadata": {
        "id": "iliv3BTKCBg-"
      }
    },
    {
      "cell_type": "code",
      "source": [
        "nparray1 = np.array([1,2,3,4]) # Define an array \n",
        "norm1 = np.linalg.norm(nparray1)\n",
        "\n",
        "nparray2 = np.array([[1,2], [3,4]]) # Define a 2 x 2 matrix. Note the 2 level of square brackets\n",
        "norm2 = np.linalg.norm(nparray2)\n",
        "\n",
        "print(norm1)\n",
        "print(norm2)\n",
        "print(type(norm1))\n",
        "print(type(norm2))"
      ],
      "metadata": {
        "colab": {
          "base_uri": "https://localhost:8080/"
        },
        "id": "cZ7PrFLICJRg",
        "outputId": "2aed59f6-26d1-49f3-912f-e77bcbd165be"
      },
      "execution_count": 11,
      "outputs": [
        {
          "output_type": "stream",
          "name": "stdout",
          "text": [
            "5.477225575051661\n",
            "5.477225575051661\n",
            "<class 'numpy.float64'>\n",
            "<class 'numpy.float64'>\n"
          ]
        }
      ]
    },
    {
      "cell_type": "markdown",
      "source": [
        "Note that without any other parameter, the norm function treats the matrix as being just an array of numbers. However, it is possible to get the norm by rows or by columns. The axis parameter controls the form of the operation:\n",
        "\n",
        "axis=0 means get the norm of each column\n",
        "\n",
        "axis=1 means get the norm of each row."
      ],
      "metadata": {
        "id": "URikShdkDiiX"
      }
    },
    {
      "cell_type": "code",
      "source": [
        "nparray2 = np.array([[1, 1], [2, 2], [3, 3]]) # Define a 3 x 2 matrix. \n",
        "\n",
        "normByCols = np.linalg.norm(nparray2, axis=0) # Get the norm for each column. Returns 2 elements\n",
        "normByRows = np.linalg.norm(nparray2, axis=1) # get the norm for each row. Returns 3 elements\n",
        "\n",
        "print(normByCols)\n",
        "print(normByRows)"
      ],
      "metadata": {
        "colab": {
          "base_uri": "https://localhost:8080/"
        },
        "id": "K87vq_gCD33n",
        "outputId": "0c913428-4d51-410f-d4d0-6a19eb21e2ce"
      },
      "execution_count": 12,
      "outputs": [
        {
          "output_type": "stream",
          "name": "stdout",
          "text": [
            "[3.74165739 3.74165739]\n",
            "[1.41421356 2.82842712 4.24264069]\n"
          ]
        }
      ]
    },
    {
      "cell_type": "markdown",
      "source": [
        "However, there are more ways to get the norm of a matrix in Python. For that, let us see all the different ways of defining the dot product between 2 arrays.\n",
        "\n",
        "**The dot product between arrays: All the flavors**\n",
        "\n",
        "The dot product or scalar product or inner product between two vectors \n",
        " and \n",
        " of the same size is defined as:\n",
        "\n",
        " ![image.png](data:image/png;base64,iVBORw0KGgoAAAANSUhEUgAAAQoAAABYCAYAAAAN+rmBAAADkUlEQVR4nO3dYY6bMBAG0GzVk3D/M3GV7S9WKUsyEIzx2O9JlVq1Slhsf9hjCl/f39/fD4A3/tx9AED7BAUQEhRASFAAIUEBhAQFEBIUQEhQACFBAYQEBRASFEBIUAAhQQGEBAUQEhRASFDwY5qm/36//IK/dx8AbZim6THP808wzPP86+8YlxkFv4JAKLAmKHgbDGYTPB6CAthBUPBjPXt4/rOi5tgEBSHLDwQFLy27IEKCL+/1ACJmFEBIUAAhQVGAHQF6p0ZRSGtFv7vCq6VzQDmCYocjg66lgbI+7tLH9uq8tHQOKENQFNLajGJxdVhsfU+L54FzBMVJW//bsjW1wuL5u1o+HxynmHnSPM8GxRPnok+CYgDrwXt1ofP5uRb0oaulx5V1gq2On+3qWXMJsnxfzXPUQxu1qqugeDyu75zZ1+C1w+IO2duoRakehbd3OtvqDgRkZUbR2OfX0Pusooc2ak03xczlidE6SKx2cZP8ugkK25THOFcc0U1QcI5ZBe+kr1HUvHV46xmS2a/MLdUrSrRlj23UgrRB8epFNYsrOsfW5/fQGe8Oi5Jt2Wsb3S3V9ugiKlpe2SHWn33kLsQS0/veOvsVbXmmjdiWLihKNnjtXZJWB/l6INU6L2fbstRx2i2LpSxmlrgCLZ20VPBkv2LdtWX6aVt+Mri3fiYhsU/KoChh6RxHguWu5U4tmd4/unV8n7RR6z9nK1IFRemrnE6yLcOyg7rS1SheWXe8muvso8udM0a4PT1qy6O7GK9+Lrsh+6UKiqh63XqDt3x8dxR2P2nL5ThLFULNbPZJFRRbahWo1q/XczUqL2rLPTWIPW3Uyswpk3RBsb4KnJmSfqLHgLhr4Bxty6NLvFf/vqe2qyXtnZmUkfHq6v6J+lLtelBW9oHiHph6BMWgsocEdVl6DKjFreO7Pltg7iMoBtNDSFCfpcdAaq3FhUR/BMUgam3rKgz2SVAMREjwqXQ3XHGcN6hxlqDoXOnnbjAmQdGpu4LBbKJPtkeBkGImEBIUQEhQACFBMZgripx2VPpn12MgJe+nEA5jsevBKT0+8YvfLD2AkKAYxDRNlgt8TI1iAK8eTX80OCwvxiUoOveugGngs5elR+eEASUIikF46hRnWHoMZutNWnsJmnEJioEZ+OzlhquB1LgzU/j0SVAAIcVMICQogJCgAEKCAggJCiAkKICQoABCggII/QPKTjKXYqKobQAAAABJRU5ErkJggg==)\n",
        "\n",
        "The dot product takes two vectors and returns a single number."
      ],
      "metadata": {
        "id": "CG25MRmiEBUM"
      }
    },
    {
      "cell_type": "code",
      "source": [
        "nparray1 = np.array([0,1,2,3]) # Define an array \n",
        "nparray2 = np.array([4,5,6,7]) # Define an array \n",
        "\n",
        "flavor1 = np.dot(nparray1 , nparray2) # Recommend way \n",
        "print(flavor1)\n",
        "\n",
        "flavor2 = np.sum(nparray1 * nparray2) # Ok way \n",
        "print(flavor2)\n",
        "\n",
        "flavor3 = nparray1 @ nparray2  # Geeks way\n",
        "print(flavor3)\n",
        "\n",
        "# As you never should do:             # Noobs way\n",
        "flavor4 = 0 \n",
        "for a ,b in zip(nparray1 , nparray2) : \n",
        "  flavor4 += a*b\n",
        "\n",
        "print(flavor4)"
      ],
      "metadata": {
        "colab": {
          "base_uri": "https://localhost:8080/"
        },
        "id": "IO2I3RALEDK9",
        "outputId": "f3fa4827-51a0-4c9b-bee4-cf1def226999"
      },
      "execution_count": 13,
      "outputs": [
        {
          "output_type": "stream",
          "name": "stdout",
          "text": [
            "38\n",
            "38\n",
            "38\n",
            "38\n"
          ]
        }
      ]
    },
    {
      "cell_type": "markdown",
      "source": [
        "We strongly recommend using np.dot, since it is the only method that accepts arrays and lists without problems"
      ],
      "metadata": {
        "id": "rcoylbdcnzRQ"
      }
    },
    {
      "cell_type": "code",
      "source": [
        "norm1 = np.dot(np.array([1,2]), np.array([3,4]))\n",
        "norm2 = np.dot([1,2], [3,4])\n",
        "\n",
        "print(norm1, '=', norm2)"
      ],
      "metadata": {
        "colab": {
          "base_uri": "https://localhost:8080/"
        },
        "id": "E9FrRVicn0Rm",
        "outputId": "cc049cde-9efc-4de4-eb35-1ab0f51feffa"
      },
      "execution_count": 15,
      "outputs": [
        {
          "output_type": "stream",
          "name": "stdout",
          "text": [
            "11 = 11\n"
          ]
        }
      ]
    },
    {
      "cell_type": "markdown",
      "source": [
        "Finally, note that the norm is the square root of the dot product of the vector with itself. That gives many options to write that function:\n",
        "\n",
        "![image.png](data:image/png;base64,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)"
      ],
      "metadata": {
        "id": "lolvW8mJodeg"
      }
    },
    {
      "cell_type": "markdown",
      "source": [
        "**Sums by rows or columns**\n",
        "\n",
        "Another general operation performed on matrices is the sum by rows or columns. Just as we did for the function norm, the axis parameter controls the form of the operation:\n",
        "\n",
        "axis=0 means to sum the elements of each column together.\n",
        "\n",
        "axis=1 means to sum the elements of each row together."
      ],
      "metadata": {
        "id": "R4Y_BmICoh7f"
      }
    },
    {
      "cell_type": "code",
      "source": [
        "nparray2 = np.array([[1, -1], [2, -2], [3, -3]]) # Define a 3 x 2 matrix. \n",
        "print(nparray2)\n",
        "\n",
        "sumByCols = np.sum(nparray2, axis=0) # Get the sum for each column. Returns 2 elements\n",
        "print(sumByCols)\n",
        "sumByRows = np.sum(nparray2, axis=1) # get the sum for each row. Returns 3 elements\n",
        "print(sumByRows)"
      ],
      "metadata": {
        "colab": {
          "base_uri": "https://localhost:8080/"
        },
        "id": "C1Poa7Lio-Je",
        "outputId": "1cff5c0e-b2f0-4aa6-bf5c-7bfa49a739f4"
      },
      "execution_count": 17,
      "outputs": [
        {
          "output_type": "stream",
          "name": "stdout",
          "text": [
            "[[ 1 -1]\n",
            " [ 2 -2]\n",
            " [ 3 -3]]\n",
            "[ 6 -6]\n",
            "[0 0 0]\n"
          ]
        }
      ]
    },
    {
      "cell_type": "markdown",
      "source": [
        "**Get the mean by rows or columns**\n",
        "\n",
        "As with the sums, one can get the mean by rows or columns using the axis parameter. Just remember that the mean is the sum of the elements divided by the length of the vector\n",
        "\n",
        "![image.png](data:image/png;base64,iVBORw0KGgoAAAANSUhEUgAAAQcAAABPCAYAAADm1wASAAAD+0lEQVR4nO3dW47bMAyFYU/RlWR9ecqCvZX0oTXG41IXxqRESf8HDIpmPIpy0Qlty8rX+/1+bwBw8at3BwDERDgAEBEOAESEAwAR4QBARDgAEBEOAESEAwAR4QBARDgAEBEOAESEAwAR4QBA9Lt3BzC/x+Ph0u6+78n7O353vu/U9pARDnC377vJIK0JmSMYjm3P93UODZSxW4EmLAblvu/Zdq6DnyC4h3BAM1Kp/2k712rk3L6EqkGPcEAXXschYIdwQFOWn95S9bBt/1cJqQOUyCMc0JzlQNWEDbsWOoQDumj5SX5UGASDDqcyMR0pBCIEw2hzLr5Ymh49SfMRZpOac3GI+tjZrUBXsx8oPHZnUgEQNRi2jXBAILMFxN3H0/v5IBzQXarcnkGuMog+aYtwQAjHQOg9IKKI8DwQDgghwielpRkqIMIB07IeoFbtXduR/h8hXAgHdOdRNVi1eQxU7WAt3XfNWhS9MQkKXXkNBqs2LU+1lq4DiRQM20Y4oKNog8FabpEbaWJUtOeCcEAXlmX/tZ1Isy4/mfwUJTQJB0eeA2Bk3sEgXcptfcyghd6vO+Hg5NMXVvo7riqsk3uOeO70OFvh4M5ATi1gkrp9NJ5VwywBEOXDgMqhsdoBHuHNYc3iMWlWoB5ZhP4TDsZKb8yaFz3VRpRPFK3zgG5Z/dxZHm6059gD4RBIpKPsliI8ngh9GA3hEAhvYBuWFVbqrMcKrxXhYGjEkn9W1jMkV+QSDql0zS2N9Ukia5ba0m6r6fsd2nZHPe6A8ZiHgzRXPPe9hdff1bzxNd+DqF2/79yvVJ8sj7qPtq4g1uG+W5EbSLkBbXHVmvbMgRQC0nbaftzt112tvx8Cc3ALh5rBo53NpgkT7wFxJxhaY2DjE+bhYF1+n9s6/5u6z5rbU79rtRJyy6qhhxlmckbV8v0x3NmK3oOHg4Flr9erdxdgwDUcLI81aET95IraL2vP57N3F2DA9VSmRTveB+dyU5VL/fHYbWrR9ieoltYTdrfiOjhKVyWety9t22uNhRb9atku5uYWDnfekJpTmbWTp0rr9+W20/RPq7ZfQGsuX6R7Z56CZhLUtpWX25K2uzN/wbP/NUFHcKAVvmXbmPfgJRzQCitBARARDsY8l3OjakBLhAMAEeHgwKN6oGpAa4SDE8uAIBjQA2crAIioHLCU1KSz4wffCAcs47r62Pm244eA+EY4YAnStPvS0oKrC3vhFeBp9gV3LFA5YAmtVvmaCeEA/MMp458IBwAiwgHLqV3la3WEA3DB7sVfhAOW0XqVr9ERDlhK7jtOCIafuLYCgIjKAYCIcAAgIhwAiAgHACLCAYCIcAAgIhwAiP4AiCrBpYfbgu4AAAAASUVORK5CYII=)"
      ],
      "metadata": {
        "id": "Fi9f9k_IqZFv"
      }
    },
    {
      "cell_type": "code",
      "source": [
        "nparray2 = np.array([[1, -1], [2, -2], [3, -3]]) # Define a 3 x 2 matrix. Chosen to be a matrix with 0 mean\n",
        "\n",
        "print(nparray2)\n",
        "\n",
        "mean = np.mean(nparray2) # Get the mean for the whole matrix\n",
        "meanByCols = np.mean(nparray2, axis=0) # Get the mean for each column. Returns 2 elements\n",
        "meanByRows = np.mean(nparray2, axis=1) # get the mean for each row. Returns 3 elements\n",
        "\n",
        "print(mean)\n",
        "print(meanByCols)\n",
        "print(meanByRows)"
      ],
      "metadata": {
        "colab": {
          "base_uri": "https://localhost:8080/"
        },
        "id": "LzH1u7hWqlYX",
        "outputId": "6aa5704a-1fd7-4a5d-c057-0036ed739733"
      },
      "execution_count": 20,
      "outputs": [
        {
          "output_type": "stream",
          "name": "stdout",
          "text": [
            "[[ 1 -1]\n",
            " [ 2 -2]\n",
            " [ 3 -3]]\n",
            "0.0\n",
            "[ 2. -2.]\n",
            "[0. 0. 0.]\n"
          ]
        }
      ]
    },
    {
      "cell_type": "markdown",
      "source": [
        "**Center the columns of a matrix**\n",
        "\n",
        "Centering the attributes of a data matrix is another essential preprocessing step. Centering a matrix means to remove the column mean to each element inside the column. The sum by columns of a centered matrix is always 0.\n",
        "\n",
        "With NumPy, this process is as simple as this:"
      ],
      "metadata": {
        "id": "12yhNS6wq-Ju"
      }
    },
    {
      "cell_type": "code",
      "source": [
        "nparray2 = np.array([[1, 1], [2, 2], [3, 3]]) # Define a 3 x 2 matrix. \n",
        "\n",
        "nparrayCentered = nparray2 - np.mean(nparray2 , axis=0) # Remove the mean for each column\n",
        "\n",
        "print('Original matrix')\n",
        "print(nparray2)\n",
        "print('Centered by columns matrix')\n",
        "print(nparrayCentered)\n",
        "\n",
        "print('New mean by column')\n",
        "print(nparrayCentered.mean(axis=0))"
      ],
      "metadata": {
        "colab": {
          "base_uri": "https://localhost:8080/"
        },
        "id": "uyddxwlQrA3-",
        "outputId": "9f78e990-bf5a-4f50-ee8d-da052aa7af56"
      },
      "execution_count": 21,
      "outputs": [
        {
          "output_type": "stream",
          "name": "stdout",
          "text": [
            "Original matrix\n",
            "[[1 1]\n",
            " [2 2]\n",
            " [3 3]]\n",
            "Centered by columns matrix\n",
            "[[-1. -1.]\n",
            " [ 0.  0.]\n",
            " [ 1.  1.]]\n",
            "New mean by column\n",
            "[0. 0.]\n"
          ]
        }
      ]
    },
    {
      "cell_type": "markdown",
      "source": [
        "Warning: This process does not apply for row centering. In such cases, consider transposing the matrix, centering by columns, and then transpose back the result.\n",
        "\n",
        "See the example below:"
      ],
      "metadata": {
        "id": "F2y4N_Oqrap_"
      }
    },
    {
      "cell_type": "code",
      "source": [
        "nparray2 = np.array([[1, 3], [2, 4], [3, 5]]) # Define a 3 x 2 matrix. \n",
        "\n",
        "nparrayCentered = nparray2.T - np.mean(nparray2, axis=1) # Remove the mean for each row\n",
        "nparrayCentered = nparrayCentered.T # Transpose back the result\n",
        "\n",
        "print('Original matrix')\n",
        "print(nparray2)\n",
        "print('Centered by columns matrix')\n",
        "print(nparrayCentered)\n",
        "\n",
        "print('New mean by rows')\n",
        "print(nparrayCentered.mean(axis=1))"
      ],
      "metadata": {
        "colab": {
          "base_uri": "https://localhost:8080/"
        },
        "id": "msVgeKsorjOW",
        "outputId": "6af2ee03-3190-41a1-90f2-76cc10201f2d"
      },
      "execution_count": 22,
      "outputs": [
        {
          "output_type": "stream",
          "name": "stdout",
          "text": [
            "Original matrix\n",
            "[[1 3]\n",
            " [2 4]\n",
            " [3 5]]\n",
            "Centered by columns matrix\n",
            "[[-1.  1.]\n",
            " [-1.  1.]\n",
            " [-1.  1.]]\n",
            "New mean by rows\n",
            "[0. 0. 0.]\n"
          ]
        }
      ]
    },
    {
      "cell_type": "markdown",
      "source": [
        "Note that some operations can be performed using static functions like np.sum() or np.mean(), or by using the inner functions of the array"
      ],
      "metadata": {
        "id": "W4FVthH_ry-X"
      }
    },
    {
      "cell_type": "code",
      "source": [
        "nparray2 = np.array([[1, 3], [2, 4], [3, 5]]) # Define a 3 x 2 matrix. \n",
        "\n",
        "mean1 = np.mean(nparray2) # Static way\n",
        "mean2 = nparray2.mean()   # Dinamic way\n",
        "\n",
        "print(mean1, ' == ', mean2)"
      ],
      "metadata": {
        "colab": {
          "base_uri": "https://localhost:8080/"
        },
        "id": "vfF14GKmrzuU",
        "outputId": "21918793-457b-489c-ecf0-4a2861dd3536"
      },
      "execution_count": 23,
      "outputs": [
        {
          "output_type": "stream",
          "name": "stdout",
          "text": [
            "3.0  ==  3.0\n"
          ]
        }
      ]
    }
  ]
}