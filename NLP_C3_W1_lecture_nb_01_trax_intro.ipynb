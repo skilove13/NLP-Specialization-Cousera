{
  "cells": [
    {
      "cell_type": "markdown",
      "metadata": {
        "id": "view-in-github",
        "colab_type": "text"
      },
      "source": [
        "<a href=\"https://colab.research.google.com/github/skilove13/NLP-Specialization-Cousera/blob/main/NLP_C3_W1_lecture_nb_01_trax_intro.ipynb\" target=\"_parent\"><img src=\"https://colab.research.google.com/assets/colab-badge.svg\" alt=\"Open In Colab\"/></a>"
      ]
    },
    {
      "cell_type": "markdown",
      "metadata": {
        "id": "6ScMtT6sLKwl"
      },
      "source": [
        "# Trax : Ungraded Lecture Notebook\n",
        "\n",
        "In this notebook you'll get to know about the Trax framework and learn about some of its basic building blocks.\n",
        "\n"
      ]
    },
    {
      "cell_type": "markdown",
      "metadata": {
        "id": "Fsdu34u7LKwt"
      },
      "source": [
        "## Background\n",
        "\n",
        "### Why Trax and not TensorFlow or PyTorch?\n",
        "\n",
        "TensorFlow and PyTorch are both extensive frameworks that can do almost anything in deep learning. They offer a lot of flexibility, but that often means verbosity of syntax and extra time to code.\n",
        "\n",
        "Trax is much more concise. It runs on a TensorFlow backend but allows you to train models with 1 line commands. Trax also runs end to end, allowing you to get data, model and train all with a single terse statements. This means you can focus on learning, instead of spending hours on the idiosyncrasies of big framework implementation.\n",
        "\n",
        "### Why not Keras then?\n",
        "\n",
        "Keras is now part of Tensorflow itself from 2.0 onwards. Also, trax is good for implementing new state of the art algorithms like Transformers, Reformers, BERT because it is actively maintained by Google Brain Team for advanced deep learning tasks. It runs smoothly on CPUs,GPUs and TPUs as well with comparatively lesser modifications in code.\n",
        "\n",
        "### How to Code in Trax\n",
        "Building models in Trax relies on 2 key concepts:- **layers** and **combinators**.\n",
        "Trax layers are simple objects that process data and perform computations. They can be chained together into composite layers using Trax combinators, allowing you to build layers and models of any complexity.\n",
        "\n",
        "### Trax, JAX, TensorFlow and Tensor2Tensor\n",
        "\n",
        "You already know that Trax uses Tensorflow as a backend, but it also uses the JAX library to speed up computation too. You can view JAX as an enhanced and optimized version of numpy. \n",
        "\n",
        "**Watch out for assignments which import `import trax.fastmath.numpy as np`. If you see this line, remember that when calling `np` you are really calling Trax’s version of numpy that is compatible with JAX.**\n",
        "\n",
        "As a result of this, where you used to encounter the type `numpy.ndarray` now you will find the type `jax.interpreters.xla.DeviceArray`.\n",
        "\n",
        "Tensor2Tensor is another name you might have heard. It started as an end to end solution much like how Trax is designed, but it grew unwieldy and complicated. So you can view Trax as the new improved version that operates much faster and simpler.\n",
        "\n",
        "### Resources\n",
        "\n",
        "- Trax source code can be found on Github: [Trax](https://github.com/google/trax)\n",
        "- JAX library: [JAX](https://jax.readthedocs.io/en/latest/index.html)\n"
      ]
    },
    {
      "cell_type": "markdown",
      "metadata": {
        "id": "i4YuynKrLKwu"
      },
      "source": [
        "## Installing Trax\n",
        "\n",
        "Trax has dependencies on JAX and some libraries like JAX which are yet to be supported in [Windows](https://github.com/google/jax/blob/1bc5896ee4eab5d7bb4ec6f161d8b2abb30557be/README.md#installation) but work well in Ubuntu and MacOS. We would suggest that if you are working on Windows, try to install Trax on WSL2. \n",
        "\n",
        "Official maintained documentation - [trax-ml](https://trax-ml.readthedocs.io/en/latest/) not to be confused with this [TraX](https://trax.readthedocs.io/en/latest/index.html)"
      ]
    },
    {
      "cell_type": "code",
      "execution_count": 1,
      "metadata": {
        "colab": {
          "base_uri": "https://localhost:8080/"
        },
        "id": "ghZVFTm1LKwv",
        "outputId": "c76507d1-1c23-4c95-9519-a6604015627b"
      },
      "outputs": [
        {
          "output_type": "stream",
          "name": "stdout",
          "text": [
            "Collecting trax\n",
            "  Downloading trax-1.4.1-py2.py3-none-any.whl (637 kB)\n",
            "\u001b[K     |████████████████████████████████| 637 kB 5.3 MB/s \n",
            "\u001b[?25hRequirement already satisfied: jax in /usr/local/lib/python3.7/dist-packages (from trax) (0.3.1)\n",
            "Requirement already satisfied: scipy in /usr/local/lib/python3.7/dist-packages (from trax) (1.4.1)\n",
            "Requirement already satisfied: numpy in /usr/local/lib/python3.7/dist-packages (from trax) (1.21.5)\n",
            "Requirement already satisfied: psutil in /usr/local/lib/python3.7/dist-packages (from trax) (5.4.8)\n",
            "Requirement already satisfied: tensorflow-datasets in /usr/local/lib/python3.7/dist-packages (from trax) (4.0.1)\n",
            "Requirement already satisfied: six in /usr/local/lib/python3.7/dist-packages (from trax) (1.15.0)\n",
            "Collecting tensorflow-text\n",
            "  Downloading tensorflow_text-2.8.1-cp37-cp37m-manylinux_2_12_x86_64.manylinux2010_x86_64.whl (4.9 MB)\n",
            "\u001b[K     |████████████████████████████████| 4.9 MB 32.6 MB/s \n",
            "\u001b[?25hRequirement already satisfied: gin-config in /usr/local/lib/python3.7/dist-packages (from trax) (0.5.0)\n",
            "Requirement already satisfied: matplotlib in /usr/local/lib/python3.7/dist-packages (from trax) (3.2.2)\n",
            "Collecting funcsigs\n",
            "  Downloading funcsigs-1.0.2-py2.py3-none-any.whl (17 kB)\n",
            "Requirement already satisfied: gym in /usr/local/lib/python3.7/dist-packages (from trax) (0.17.3)\n",
            "Requirement already satisfied: jaxlib in /usr/local/lib/python3.7/dist-packages (from trax) (0.3.0+cuda11.cudnn805)\n",
            "Requirement already satisfied: absl-py in /usr/local/lib/python3.7/dist-packages (from trax) (1.0.0)\n",
            "Requirement already satisfied: cloudpickle<1.7.0,>=1.2.0 in /usr/local/lib/python3.7/dist-packages (from gym->trax) (1.3.0)\n",
            "Requirement already satisfied: pyglet<=1.5.0,>=1.4.0 in /usr/local/lib/python3.7/dist-packages (from gym->trax) (1.5.0)\n",
            "Requirement already satisfied: future in /usr/local/lib/python3.7/dist-packages (from pyglet<=1.5.0,>=1.4.0->gym->trax) (0.16.0)\n",
            "Requirement already satisfied: typing-extensions in /usr/local/lib/python3.7/dist-packages (from jax->trax) (3.10.0.2)\n",
            "Requirement already satisfied: opt-einsum in /usr/local/lib/python3.7/dist-packages (from jax->trax) (3.3.0)\n",
            "Requirement already satisfied: flatbuffers<3.0,>=1.12 in /usr/local/lib/python3.7/dist-packages (from jaxlib->trax) (2.0)\n",
            "Requirement already satisfied: pyparsing!=2.0.4,!=2.1.2,!=2.1.6,>=2.0.1 in /usr/local/lib/python3.7/dist-packages (from matplotlib->trax) (3.0.7)\n",
            "Requirement already satisfied: python-dateutil>=2.1 in /usr/local/lib/python3.7/dist-packages (from matplotlib->trax) (2.8.2)\n",
            "Requirement already satisfied: cycler>=0.10 in /usr/local/lib/python3.7/dist-packages (from matplotlib->trax) (0.11.0)\n",
            "Requirement already satisfied: kiwisolver>=1.0.1 in /usr/local/lib/python3.7/dist-packages (from matplotlib->trax) (1.3.2)\n",
            "Requirement already satisfied: attrs>=18.1.0 in /usr/local/lib/python3.7/dist-packages (from tensorflow-datasets->trax) (21.4.0)\n",
            "Requirement already satisfied: termcolor in /usr/local/lib/python3.7/dist-packages (from tensorflow-datasets->trax) (1.1.0)\n",
            "Requirement already satisfied: requests>=2.19.0 in /usr/local/lib/python3.7/dist-packages (from tensorflow-datasets->trax) (2.23.0)\n",
            "Requirement already satisfied: tqdm in /usr/local/lib/python3.7/dist-packages (from tensorflow-datasets->trax) (4.63.0)\n",
            "Requirement already satisfied: protobuf>=3.6.1 in /usr/local/lib/python3.7/dist-packages (from tensorflow-datasets->trax) (3.17.3)\n",
            "Requirement already satisfied: promise in /usr/local/lib/python3.7/dist-packages (from tensorflow-datasets->trax) (2.3)\n",
            "Requirement already satisfied: importlib-resources in /usr/local/lib/python3.7/dist-packages (from tensorflow-datasets->trax) (5.4.0)\n",
            "Requirement already satisfied: dm-tree in /usr/local/lib/python3.7/dist-packages (from tensorflow-datasets->trax) (0.1.6)\n",
            "Requirement already satisfied: dill in /usr/local/lib/python3.7/dist-packages (from tensorflow-datasets->trax) (0.3.4)\n",
            "Requirement already satisfied: tensorflow-metadata in /usr/local/lib/python3.7/dist-packages (from tensorflow-datasets->trax) (1.7.0)\n",
            "Requirement already satisfied: chardet<4,>=3.0.2 in /usr/local/lib/python3.7/dist-packages (from requests>=2.19.0->tensorflow-datasets->trax) (3.0.4)\n",
            "Requirement already satisfied: idna<3,>=2.5 in /usr/local/lib/python3.7/dist-packages (from requests>=2.19.0->tensorflow-datasets->trax) (2.10)\n",
            "Requirement already satisfied: certifi>=2017.4.17 in /usr/local/lib/python3.7/dist-packages (from requests>=2.19.0->tensorflow-datasets->trax) (2021.10.8)\n",
            "Requirement already satisfied: urllib3!=1.25.0,!=1.25.1,<1.26,>=1.21.1 in /usr/local/lib/python3.7/dist-packages (from requests>=2.19.0->tensorflow-datasets->trax) (1.24.3)\n",
            "Requirement already satisfied: zipp>=3.1.0 in /usr/local/lib/python3.7/dist-packages (from importlib-resources->tensorflow-datasets->trax) (3.7.0)\n",
            "Requirement already satisfied: googleapis-common-protos<2,>=1.52.0 in /usr/local/lib/python3.7/dist-packages (from tensorflow-metadata->tensorflow-datasets->trax) (1.55.0)\n",
            "Requirement already satisfied: tensorflow<2.9,>=2.8.0 in /usr/local/lib/python3.7/dist-packages (from tensorflow-text->trax) (2.8.0)\n",
            "Requirement already satisfied: tensorflow-hub>=0.8.0 in /usr/local/lib/python3.7/dist-packages (from tensorflow-text->trax) (0.12.0)\n",
            "Requirement already satisfied: keras<2.9,>=2.8.0rc0 in /usr/local/lib/python3.7/dist-packages (from tensorflow<2.9,>=2.8.0->tensorflow-text->trax) (2.8.0)\n",
            "Requirement already satisfied: keras-preprocessing>=1.1.1 in /usr/local/lib/python3.7/dist-packages (from tensorflow<2.9,>=2.8.0->tensorflow-text->trax) (1.1.2)\n",
            "Requirement already satisfied: libclang>=9.0.1 in /usr/local/lib/python3.7/dist-packages (from tensorflow<2.9,>=2.8.0->tensorflow-text->trax) (13.0.0)\n",
            "Requirement already satisfied: tensorflow-io-gcs-filesystem>=0.23.1 in /usr/local/lib/python3.7/dist-packages (from tensorflow<2.9,>=2.8.0->tensorflow-text->trax) (0.24.0)\n",
            "Requirement already satisfied: wrapt>=1.11.0 in /usr/local/lib/python3.7/dist-packages (from tensorflow<2.9,>=2.8.0->tensorflow-text->trax) (1.13.3)\n",
            "Requirement already satisfied: tensorboard<2.9,>=2.8 in /usr/local/lib/python3.7/dist-packages (from tensorflow<2.9,>=2.8.0->tensorflow-text->trax) (2.8.0)\n",
            "Requirement already satisfied: google-pasta>=0.1.1 in /usr/local/lib/python3.7/dist-packages (from tensorflow<2.9,>=2.8.0->tensorflow-text->trax) (0.2.0)\n",
            "Requirement already satisfied: gast>=0.2.1 in /usr/local/lib/python3.7/dist-packages (from tensorflow<2.9,>=2.8.0->tensorflow-text->trax) (0.5.3)\n",
            "Requirement already satisfied: grpcio<2.0,>=1.24.3 in /usr/local/lib/python3.7/dist-packages (from tensorflow<2.9,>=2.8.0->tensorflow-text->trax) (1.44.0)\n",
            "Requirement already satisfied: setuptools in /usr/local/lib/python3.7/dist-packages (from tensorflow<2.9,>=2.8.0->tensorflow-text->trax) (57.4.0)\n",
            "Requirement already satisfied: astunparse>=1.6.0 in /usr/local/lib/python3.7/dist-packages (from tensorflow<2.9,>=2.8.0->tensorflow-text->trax) (1.6.3)\n",
            "Requirement already satisfied: h5py>=2.9.0 in /usr/local/lib/python3.7/dist-packages (from tensorflow<2.9,>=2.8.0->tensorflow-text->trax) (3.1.0)\n",
            "Collecting tf-estimator-nightly==2.8.0.dev2021122109\n",
            "  Downloading tf_estimator_nightly-2.8.0.dev2021122109-py2.py3-none-any.whl (462 kB)\n",
            "\u001b[K     |████████████████████████████████| 462 kB 38.4 MB/s \n",
            "\u001b[?25hRequirement already satisfied: wheel<1.0,>=0.23.0 in /usr/local/lib/python3.7/dist-packages (from astunparse>=1.6.0->tensorflow<2.9,>=2.8.0->tensorflow-text->trax) (0.37.1)\n",
            "Requirement already satisfied: cached-property in /usr/local/lib/python3.7/dist-packages (from h5py>=2.9.0->tensorflow<2.9,>=2.8.0->tensorflow-text->trax) (1.5.2)\n",
            "Requirement already satisfied: tensorboard-data-server<0.7.0,>=0.6.0 in /usr/local/lib/python3.7/dist-packages (from tensorboard<2.9,>=2.8->tensorflow<2.9,>=2.8.0->tensorflow-text->trax) (0.6.1)\n",
            "Requirement already satisfied: werkzeug>=0.11.15 in /usr/local/lib/python3.7/dist-packages (from tensorboard<2.9,>=2.8->tensorflow<2.9,>=2.8.0->tensorflow-text->trax) (1.0.1)\n",
            "Requirement already satisfied: tensorboard-plugin-wit>=1.6.0 in /usr/local/lib/python3.7/dist-packages (from tensorboard<2.9,>=2.8->tensorflow<2.9,>=2.8.0->tensorflow-text->trax) (1.8.1)\n",
            "Requirement already satisfied: google-auth<3,>=1.6.3 in /usr/local/lib/python3.7/dist-packages (from tensorboard<2.9,>=2.8->tensorflow<2.9,>=2.8.0->tensorflow-text->trax) (1.35.0)\n",
            "Requirement already satisfied: google-auth-oauthlib<0.5,>=0.4.1 in /usr/local/lib/python3.7/dist-packages (from tensorboard<2.9,>=2.8->tensorflow<2.9,>=2.8.0->tensorflow-text->trax) (0.4.6)\n",
            "Requirement already satisfied: markdown>=2.6.8 in /usr/local/lib/python3.7/dist-packages (from tensorboard<2.9,>=2.8->tensorflow<2.9,>=2.8.0->tensorflow-text->trax) (3.3.6)\n",
            "Requirement already satisfied: rsa<5,>=3.1.4 in /usr/local/lib/python3.7/dist-packages (from google-auth<3,>=1.6.3->tensorboard<2.9,>=2.8->tensorflow<2.9,>=2.8.0->tensorflow-text->trax) (4.8)\n",
            "Requirement already satisfied: pyasn1-modules>=0.2.1 in /usr/local/lib/python3.7/dist-packages (from google-auth<3,>=1.6.3->tensorboard<2.9,>=2.8->tensorflow<2.9,>=2.8.0->tensorflow-text->trax) (0.2.8)\n",
            "Requirement already satisfied: cachetools<5.0,>=2.0.0 in /usr/local/lib/python3.7/dist-packages (from google-auth<3,>=1.6.3->tensorboard<2.9,>=2.8->tensorflow<2.9,>=2.8.0->tensorflow-text->trax) (4.2.4)\n",
            "Requirement already satisfied: requests-oauthlib>=0.7.0 in /usr/local/lib/python3.7/dist-packages (from google-auth-oauthlib<0.5,>=0.4.1->tensorboard<2.9,>=2.8->tensorflow<2.9,>=2.8.0->tensorflow-text->trax) (1.3.1)\n",
            "Requirement already satisfied: importlib-metadata>=4.4 in /usr/local/lib/python3.7/dist-packages (from markdown>=2.6.8->tensorboard<2.9,>=2.8->tensorflow<2.9,>=2.8.0->tensorflow-text->trax) (4.11.2)\n",
            "Requirement already satisfied: pyasn1<0.5.0,>=0.4.6 in /usr/local/lib/python3.7/dist-packages (from pyasn1-modules>=0.2.1->google-auth<3,>=1.6.3->tensorboard<2.9,>=2.8->tensorflow<2.9,>=2.8.0->tensorflow-text->trax) (0.4.8)\n",
            "Requirement already satisfied: oauthlib>=3.0.0 in /usr/local/lib/python3.7/dist-packages (from requests-oauthlib>=0.7.0->google-auth-oauthlib<0.5,>=0.4.1->tensorboard<2.9,>=2.8->tensorflow<2.9,>=2.8.0->tensorflow-text->trax) (3.2.0)\n",
            "Installing collected packages: tf-estimator-nightly, tensorflow-text, funcsigs, trax\n",
            "Successfully installed funcsigs-1.0.2 tensorflow-text-2.8.1 tf-estimator-nightly-2.8.0.dev2021122109 trax-1.4.1\n"
          ]
        }
      ],
      "source": [
        "#!pip install trax==1.3.1 Use this version for this notebook \n",
        "!pip install trax"
      ]
    },
    {
      "cell_type": "markdown",
      "metadata": {
        "id": "kEixnLNaLKww"
      },
      "source": [
        "\n",
        "## Imports"
      ]
    },
    {
      "cell_type": "code",
      "execution_count": 2,
      "metadata": {
        "tags": [],
        "id": "QfhMpZE7LKww"
      },
      "outputs": [],
      "source": [
        "import numpy as np  # regular ol' numpy\n",
        "\n",
        "from trax import layers as tl  # core building block\n",
        "from trax import shapes  # data signatures: dimensionality and type\n",
        "from trax import fastmath  # uses jax, offers numpy on steroids"
      ]
    },
    {
      "cell_type": "code",
      "execution_count": 3,
      "metadata": {
        "tags": [],
        "colab": {
          "base_uri": "https://localhost:8080/"
        },
        "id": "XYSAymEfLKwx",
        "outputId": "621e9242-aee3-45e1-ed1c-86270f760eeb"
      },
      "outputs": [
        {
          "output_type": "stream",
          "name": "stdout",
          "text": [
            "trax                          1.4.1\n"
          ]
        }
      ],
      "source": [
        "# Trax version 1.3.1 or better \n",
        "!pip list | grep trax"
      ]
    },
    {
      "cell_type": "markdown",
      "metadata": {
        "id": "DhNZXXLqLKwx"
      },
      "source": [
        "## Layers\n",
        "Layers are the core building blocks in Trax or as mentioned in the lectures, they are the base classes.\n",
        "\n",
        "They take inputs, compute functions/custom calculations and return outputs.\n",
        "\n",
        "You can also inspect layer properties. Let me show you some examples.\n"
      ]
    },
    {
      "cell_type": "markdown",
      "metadata": {
        "id": "m-ollzmiLKwx"
      },
      "source": [
        "### Relu Layer\n",
        "First I'll show you how to build a relu activation function as a layer. A layer like this is one of the simplest types. Notice there is no object initialization so it works just like a math function.\n",
        "\n",
        "**Note: Activation functions are also layers in Trax, which might look odd if you have been using other frameworks for a longer time.**"
      ]
    },
    {
      "cell_type": "code",
      "execution_count": 4,
      "metadata": {
        "tags": [],
        "colab": {
          "base_uri": "https://localhost:8080/"
        },
        "id": "s6BYOZSKLKwy",
        "outputId": "9e778618-23bb-4b28-83b5-4480afc8f8da"
      },
      "outputs": [
        {
          "output_type": "stream",
          "name": "stdout",
          "text": [
            "-- Properties --\n",
            "name : Serial\n",
            "expected inputs : 1\n",
            "promised outputs : 1 \n",
            "\n",
            "-- Inputs --\n",
            "x : [-2 -1  0  1  2] \n",
            "\n",
            "-- Outputs --\n",
            "y : [0 0 0 1 2]\n"
          ]
        }
      ],
      "source": [
        "# Layers\n",
        "# Create a relu trax layer\n",
        "relu = tl.Relu()\n",
        "\n",
        "# Inspect properties\n",
        "print(\"-- Properties --\")\n",
        "print(\"name :\", relu.name)\n",
        "print(\"expected inputs :\", relu.n_in)\n",
        "print(\"promised outputs :\", relu.n_out, \"\\n\")\n",
        "\n",
        "# Inputs\n",
        "x = np.array([-2, -1, 0, 1, 2])\n",
        "print(\"-- Inputs --\")\n",
        "print(\"x :\", x, \"\\n\")\n",
        "\n",
        "# Outputs\n",
        "y = relu(x)\n",
        "print(\"-- Outputs --\")\n",
        "print(\"y :\", y)"
      ]
    },
    {
      "cell_type": "markdown",
      "metadata": {
        "id": "ObzP-1EKLKwy"
      },
      "source": [
        "### Concatenate Layer\n",
        "Now I'll show you how to build a layer that takes 2 inputs. Notice the change in the expected inputs property from 1 to 2."
      ]
    },
    {
      "cell_type": "code",
      "execution_count": 6,
      "metadata": {
        "tags": [],
        "colab": {
          "base_uri": "https://localhost:8080/"
        },
        "id": "fERhY9m-LKwy",
        "outputId": "726df101-554d-4508-b653-9544363b3f70"
      },
      "outputs": [
        {
          "output_type": "stream",
          "name": "stdout",
          "text": [
            "-- Properties --\n",
            "name : Concatenate\n",
            "expected inputs : 2\n",
            "promised outputs : 1 \n",
            "\n",
            "-- Inputs --\n",
            "x1 : [-10 -20 -30]\n",
            "x2 : [1. 2. 3.] \n",
            "\n",
            "-- Outputs --\n",
            "y : [-10. -20. -30.   1.   2.   3.]\n"
          ]
        }
      ],
      "source": [
        "# Create a concatenate trax layer\n",
        "concat = tl.Concatenate()\n",
        "print(\"-- Properties --\")\n",
        "print(\"name :\", concat.name)\n",
        "print(\"expected inputs :\", concat.n_in)\n",
        "print(\"promised outputs :\", concat.n_out, \"\\n\")\n",
        "\n",
        "# Inputs\n",
        "x1 = np.array([-10, -20, -30])\n",
        "x2 = x1 / -10\n",
        "print(\"-- Inputs --\")\n",
        "print(\"x1 :\", x1)\n",
        "print(\"x2 :\", x2, \"\\n\")\n",
        "\n",
        "# Outputs\n",
        "y = concat([x1, x2])\n",
        "print(\"-- Outputs --\")\n",
        "print(\"y :\", y)"
      ]
    },
    {
      "cell_type": "markdown",
      "metadata": {
        "id": "BgnpxzkDLKwz"
      },
      "source": [
        "## Layers are Configurable\n",
        "You can change the default settings of layers. For example, you can change the expected inputs for a concatenate layer from 2 to 3 using the optional parameter `n_items`."
      ]
    },
    {
      "cell_type": "code",
      "execution_count": 7,
      "metadata": {
        "tags": [],
        "colab": {
          "base_uri": "https://localhost:8080/"
        },
        "id": "HLzj9NKQLKwz",
        "outputId": "1d78e856-6f29-4242-9786-00d952749e87"
      },
      "outputs": [
        {
          "output_type": "stream",
          "name": "stdout",
          "text": [
            "-- Properties --\n",
            "name : Concatenate\n",
            "expected inputs : 3\n",
            "promised outputs : 1 \n",
            "\n",
            "-- Inputs --\n",
            "x1 : [-10 -20 -30]\n",
            "x2 : [1. 2. 3.]\n",
            "x3 : [0.99 1.98 2.97] \n",
            "\n",
            "-- Outputs --\n",
            "y : [-10.   -20.   -30.     1.     2.     3.     0.99   1.98   2.97]\n"
          ]
        }
      ],
      "source": [
        "# Configure a concatenate layer\n",
        "concat_3 = tl.Concatenate(n_items=3)  # configure the layer's expected inputs\n",
        "print(\"-- Properties --\")\n",
        "print(\"name :\", concat_3.name)\n",
        "print(\"expected inputs :\", concat_3.n_in)\n",
        "print(\"promised outputs :\", concat_3.n_out, \"\\n\")\n",
        "\n",
        "# Inputs\n",
        "x1 = np.array([-10, -20, -30])\n",
        "x2 = x1 / -10\n",
        "x3 = x2 * 0.99\n",
        "print(\"-- Inputs --\")\n",
        "print(\"x1 :\", x1)\n",
        "print(\"x2 :\", x2)\n",
        "print(\"x3 :\", x3, \"\\n\")\n",
        "\n",
        "# Outputs\n",
        "y = concat_3([x1, x2, x3])\n",
        "print(\"-- Outputs --\")\n",
        "print(\"y :\", y)"
      ]
    },
    {
      "cell_type": "markdown",
      "metadata": {
        "id": "4vlQGA7eLKwz"
      },
      "source": [
        "**Note: At any point,if you want to refer the function help/ look up the [documentation](https://trax-ml.readthedocs.io/en/latest/) or use help function.**"
      ]
    },
    {
      "cell_type": "code",
      "execution_count": null,
      "metadata": {
        "id": "pwNjlVg1LKwz"
      },
      "outputs": [],
      "source": [
        "#help(tl.Concatenate) #Uncomment this to see the function docstring with explaination"
      ]
    },
    {
      "cell_type": "markdown",
      "metadata": {
        "id": "Ql3OLorzLKw0"
      },
      "source": [
        "## Layers can have Weights\n",
        "Some layer types include mutable weights and biases that are used in computation and training. Layers of this type require initialization before use.\n",
        "\n",
        "For example the `LayerNorm` layer calculates normalized data, that is also scaled by weights and biases. During initialization you pass the data shape and data type of the inputs, so the layer can initialize compatible arrays of weights and biases."
      ]
    },
    {
      "cell_type": "code",
      "execution_count": null,
      "metadata": {
        "id": "-zY7m9r1LKw0"
      },
      "outputs": [],
      "source": [
        "# Uncomment any of them to see information regarding the function\n",
        "# help(tl.LayerNorm)\n",
        "# help(shapes.signature)\n"
      ]
    },
    {
      "cell_type": "code",
      "execution_count": null,
      "metadata": {
        "tags": [],
        "id": "1IouaIrDLKw0",
        "outputId": "5d88aeb2-0bd7-44f3-eb7b-9b664d4eef86"
      },
      "outputs": [
        {
          "name": "stdout",
          "output_type": "stream",
          "text": [
            "Normal shape: (4,) Data Type: <class 'tuple'>\n",
            "Shapes Trax: ShapeDtype{shape:(4,), dtype:float64} Data Type: <class 'trax.shapes.ShapeDtype'>\n",
            "-- Properties --\n",
            "name : LayerNorm\n",
            "expected inputs : 1\n",
            "promised outputs : 1\n",
            "weights : [1. 1. 1. 1.]\n",
            "biases : [0. 0. 0. 0.] \n",
            "\n",
            "-- Inputs --\n",
            "x : [0. 1. 2. 3.]\n",
            "-- Outputs --\n",
            "y : [-1.3416404  -0.44721344  0.44721344  1.3416404 ]\n"
          ]
        }
      ],
      "source": [
        "# Layer initialization\n",
        "norm = tl.LayerNorm()\n",
        "# You first must know what the input data will look like\n",
        "x = np.array([0, 1, 2, 3], dtype=\"float\")\n",
        "\n",
        "# Use the input data signature to get shape and type for initializing weights and biases\n",
        "norm.init(shapes.signature(x)) # We need to convert the input datatype from usual tuple to trax ShapeDtype\n",
        "\n",
        "print(\"Normal shape:\",x.shape, \"Data Type:\",type(x.shape))\n",
        "print(\"Shapes Trax:\",shapes.signature(x),\"Data Type:\",type(shapes.signature(x)))\n",
        "\n",
        "# Inspect properties\n",
        "print(\"-- Properties --\")\n",
        "print(\"name :\", norm.name)\n",
        "print(\"expected inputs :\", norm.n_in)\n",
        "print(\"promised outputs :\", norm.n_out)\n",
        "# Weights and biases\n",
        "print(\"weights :\", norm.weights[0])\n",
        "print(\"biases :\", norm.weights[1], \"\\n\")\n",
        "\n",
        "# Inputs\n",
        "print(\"-- Inputs --\")\n",
        "print(\"x :\", x)\n",
        "\n",
        "# Outputs\n",
        "y = norm(x)\n",
        "print(\"-- Outputs --\")\n",
        "print(\"y :\", y)"
      ]
    },
    {
      "cell_type": "markdown",
      "metadata": {
        "id": "vriL7tkULKw0"
      },
      "source": [
        "## Custom Layers\n",
        "This is where things start getting more interesting!\n",
        "You can create your own custom layers too and define custom functions for computations by using `tl.Fn`. Let me show you how."
      ]
    },
    {
      "cell_type": "code",
      "execution_count": 8,
      "metadata": {
        "colab": {
          "base_uri": "https://localhost:8080/"
        },
        "id": "358q9LXQLKw1",
        "outputId": "df93c3ab-828a-4ca0-fe57-eed65c1ef31c"
      },
      "outputs": [
        {
          "output_type": "stream",
          "name": "stdout",
          "text": [
            "Help on function Fn in module trax.layers.base:\n",
            "\n",
            "Fn(name, f, n_out=1)\n",
            "    Returns a layer with no weights that applies the function `f`.\n",
            "    \n",
            "    `f` can take and return any number of arguments, and takes only positional\n",
            "    arguments -- no default or keyword arguments. It often uses JAX-numpy (`jnp`).\n",
            "    The following, for example, would create a layer that takes two inputs and\n",
            "    returns two outputs -- element-wise sums and maxima:\n",
            "    \n",
            "        `Fn('SumAndMax', lambda x0, x1: (x0 + x1, jnp.maximum(x0, x1)), n_out=2)`\n",
            "    \n",
            "    The layer's number of inputs (`n_in`) is automatically set to number of\n",
            "    positional arguments in `f`, but you must explicitly set the number of\n",
            "    outputs (`n_out`) whenever it's not the default value 1.\n",
            "    \n",
            "    Args:\n",
            "      name: Class-like name for the resulting layer; for use in debugging.\n",
            "      f: Pure function from input tensors to output tensors, where each input\n",
            "          tensor is a separate positional arg, e.g., `f(x0, x1) --> x0 + x1`.\n",
            "          Output tensors must be packaged as specified in the `Layer` class\n",
            "          docstring.\n",
            "      n_out: Number of outputs promised by the layer; default value 1.\n",
            "    \n",
            "    Returns:\n",
            "      Layer executing the function `f`.\n",
            "\n"
          ]
        }
      ],
      "source": [
        "help(tl.Fn)"
      ]
    },
    {
      "cell_type": "code",
      "execution_count": 9,
      "metadata": {
        "tags": [],
        "colab": {
          "base_uri": "https://localhost:8080/"
        },
        "id": "UaK90LhcLKw1",
        "outputId": "c4634c33-62d6-4c90-b5c2-9c94f5efe011"
      },
      "outputs": [
        {
          "output_type": "stream",
          "name": "stdout",
          "text": [
            "-- Properties --\n",
            "name : TimesTwo\n",
            "expected inputs : 1\n",
            "promised outputs : 1 \n",
            "\n",
            "-- Inputs --\n",
            "x : [1 2 3] \n",
            "\n",
            "-- Outputs --\n",
            "y : [2 4 6]\n"
          ]
        }
      ],
      "source": [
        "# Define a custom layer\n",
        "# In this example you will create a layer to calculate the input times 2\n",
        "\n",
        "def TimesTwo():\n",
        "    layer_name = \"TimesTwo\" #don't forget to give your custom layer a name to identify\n",
        "\n",
        "    # Custom function for the custom layer\n",
        "    def func(x):\n",
        "        return x * 2\n",
        "\n",
        "    return tl.Fn(layer_name, func)\n",
        "\n",
        "\n",
        "# Test it\n",
        "times_two = TimesTwo()\n",
        "\n",
        "# Inspect properties\n",
        "print(\"-- Properties --\")\n",
        "print(\"name :\", times_two.name)\n",
        "print(\"expected inputs :\", times_two.n_in)\n",
        "print(\"promised outputs :\", times_two.n_out, \"\\n\")\n",
        "\n",
        "# Inputs\n",
        "x = np.array([1, 2, 3])\n",
        "print(\"-- Inputs --\")\n",
        "print(\"x :\", x, \"\\n\")\n",
        "\n",
        "# Outputs\n",
        "y = times_two(x)\n",
        "print(\"-- Outputs --\")\n",
        "print(\"y :\", y)"
      ]
    },
    {
      "cell_type": "markdown",
      "metadata": {
        "id": "XSL2O9msLKw1"
      },
      "source": [
        "## Combinators\n",
        "You can combine layers to build more complex layers. Trax provides a set of objects named combinator layers to make this happen. Combinators are themselves layers, so behavior commutes.\n",
        "\n"
      ]
    },
    {
      "cell_type": "markdown",
      "metadata": {
        "id": "CRqZZ7LKLKw2"
      },
      "source": [
        "### Serial Combinator\n",
        "This is the most common and easiest to use. For example could build a simple neural network by combining layers into a single layer using the `Serial` combinator. This new layer then acts just like a single layer, so you can inspect intputs, outputs and weights. Or even combine it into another layer! Combinators can then be used as trainable models. _Try adding more layers_\n",
        "\n",
        "**Note:As you must have guessed, if there is serial combinator, there must be a parallel combinator as well. Do try to explore about combinators and other layers from the trax documentation and look at the repo to understand how these layers are written.**\n"
      ]
    },
    {
      "cell_type": "code",
      "execution_count": 10,
      "metadata": {
        "id": "hrPNBGUHLKw2"
      },
      "outputs": [],
      "source": [
        "# help(tl.Serial)\n",
        "# help(tl.Parallel)"
      ]
    },
    {
      "cell_type": "code",
      "execution_count": 11,
      "metadata": {
        "tags": [],
        "colab": {
          "base_uri": "https://localhost:8080/"
        },
        "id": "H80i2I9gLKw3",
        "outputId": "7f3e9ad2-32c8-4c78-8ae5-dccd3ce48d00"
      },
      "outputs": [
        {
          "output_type": "stream",
          "name": "stderr",
          "text": [
            "/usr/local/lib/python3.7/dist-packages/jax/_src/numpy/lax_numpy.py:3750: UserWarning: Explicitly requested dtype int64 requested in ones is not available, and will be truncated to dtype int32. To enable more dtypes, set the jax_enable_x64 configuration option or the JAX_ENABLE_X64 shell environment variable. See https://github.com/google/jax#current-gotchas for more.\n",
            "  lax._check_user_dtype_supported(dtype, \"ones\")\n",
            "/usr/local/lib/python3.7/dist-packages/jax/_src/numpy/lax_numpy.py:3742: UserWarning: Explicitly requested dtype int64 requested in zeros is not available, and will be truncated to dtype int32. To enable more dtypes, set the jax_enable_x64 configuration option or the JAX_ENABLE_X64 shell environment variable. See https://github.com/google/jax#current-gotchas for more.\n",
            "  lax._check_user_dtype_supported(dtype, \"zeros\")\n"
          ]
        },
        {
          "output_type": "stream",
          "name": "stdout",
          "text": [
            "-- Serial Model --\n",
            "Serial[\n",
            "  LayerNorm\n",
            "  Serial[\n",
            "    Relu\n",
            "  ]\n",
            "  TimesTwo\n",
            "] \n",
            "\n",
            "-- Properties --\n",
            "name : Serial\n",
            "sublayers : [LayerNorm, Serial[\n",
            "  Relu\n",
            "], TimesTwo]\n",
            "expected inputs : 1\n",
            "promised outputs : 1\n",
            "weights & biases: ((DeviceArray([1, 1, 1, 1, 1], dtype=int32), DeviceArray([0, 0, 0, 0, 0], dtype=int32)), ((), (), ()), ()) \n",
            "\n",
            "-- Inputs --\n",
            "x : [-2 -1  0  1  2] \n",
            "\n",
            "-- Outputs --\n",
            "y : [0.        0.        0.        1.4142131 2.8284261]\n"
          ]
        }
      ],
      "source": [
        "# Serial combinator\n",
        "serial = tl.Serial(\n",
        "    tl.LayerNorm(),         # normalize input\n",
        "    tl.Relu(),              # convert negative values to zero\n",
        "    times_two,              # the custom layer you created above, multiplies the input recieved from above by 2\n",
        "    \n",
        "    ### START CODE HERE\n",
        "#     tl.Dense(n_units=2),  # try adding more layers. eg uncomment these lines\n",
        "#     tl.Dense(n_units=1),  # Binary classification, maybe? uncomment at your own peril\n",
        "#     tl.LogSoftmax()       # Yes, LogSoftmax is also a layer\n",
        "    ### END CODE HERE\n",
        ")\n",
        "\n",
        "# Initialization\n",
        "x = np.array([-2, -1, 0, 1, 2]) #input\n",
        "serial.init(shapes.signature(x)) #initialising serial instance\n",
        "\n",
        "print(\"-- Serial Model --\")\n",
        "print(serial,\"\\n\")\n",
        "print(\"-- Properties --\")\n",
        "print(\"name :\", serial.name)\n",
        "print(\"sublayers :\", serial.sublayers)\n",
        "print(\"expected inputs :\", serial.n_in)\n",
        "print(\"promised outputs :\", serial.n_out)\n",
        "print(\"weights & biases:\", serial.weights, \"\\n\")\n",
        "\n",
        "# Inputs\n",
        "print(\"-- Inputs --\")\n",
        "print(\"x :\", x, \"\\n\")\n",
        "\n",
        "# Outputs\n",
        "y = serial(x)\n",
        "print(\"-- Outputs --\")\n",
        "print(\"y :\", y)"
      ]
    },
    {
      "cell_type": "markdown",
      "metadata": {
        "id": "qIXYWvBiLKw3"
      },
      "source": [
        "## JAX\n",
        "Just remember to lookout for which numpy you are using, the regular ol' numpy or Trax's JAX compatible numpy. Both tend to use the alias np so watch those import blocks.\n",
        "\n",
        "**Note:There are certain things which are still not possible in fastmath.numpy which can be done in numpy so you will see in assignments we will switch between them to get our work done.**"
      ]
    },
    {
      "cell_type": "code",
      "execution_count": 12,
      "metadata": {
        "tags": [],
        "colab": {
          "base_uri": "https://localhost:8080/"
        },
        "id": "EOP_TA2MLKw3",
        "outputId": "bee0255c-fe73-41df-ef26-5ee6a9354f94"
      },
      "outputs": [
        {
          "output_type": "stream",
          "name": "stdout",
          "text": [
            "good old numpy :  <class 'numpy.ndarray'> \n",
            "\n",
            "jax trax numpy :  <class 'jaxlib.xla_extension.DeviceArray'>\n"
          ]
        }
      ],
      "source": [
        "# Numpy vs fastmath.numpy have different data types\n",
        "# Regular ol' numpy\n",
        "x_numpy = np.array([1, 2, 3])\n",
        "print(\"good old numpy : \", type(x_numpy), \"\\n\")\n",
        "\n",
        "# Fastmath and jax numpy\n",
        "x_jax = fastmath.numpy.array([1, 2, 3])\n",
        "print(\"jax trax numpy : \", type(x_jax))"
      ]
    },
    {
      "cell_type": "markdown",
      "metadata": {
        "id": "avztOvp0LKw4"
      },
      "source": [
        "## Summary\n",
        "Trax is a concise framework, built on TensorFlow, for end to end machine learning. The key building blocks are layers and combinators. This notebook is just a taste, but sets you up with some key inuitions to take forward into the rest of the course and assignments where you will build end to end models."
      ]
    }
  ],
  "metadata": {
    "jupytext": {
      "encoding": "# -*- coding: utf-8 -*-",
      "formats": "ipynb,py:percent",
      "main_language": "python"
    },
    "kernelspec": {
      "display_name": "Python 3",
      "language": "python",
      "name": "python3"
    },
    "language_info": {
      "codemirror_mode": {
        "name": "ipython",
        "version": 3
      },
      "file_extension": ".py",
      "mimetype": "text/x-python",
      "name": "python",
      "nbconvert_exporter": "python",
      "pygments_lexer": "ipython3",
      "version": "3.7.1"
    },
    "colab": {
      "name": "NLP_C3_W1_lecture_nb_01_trax_intro.ipynb",
      "provenance": [],
      "include_colab_link": true
    },
    "accelerator": "GPU"
  },
  "nbformat": 4,
  "nbformat_minor": 0
}