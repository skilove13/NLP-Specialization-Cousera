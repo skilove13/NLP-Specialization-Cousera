{
  "nbformat": 4,
  "nbformat_minor": 0,
  "metadata": {
    "colab": {
      "name": "NLP_C1_W4_lecture_nb_02.ipynb",
      "provenance": [],
      "authorship_tag": "ABX9TyMQI55g2N//Dpm0/ge3MT+C",
      "include_colab_link": true
    },
    "kernelspec": {
      "name": "python3",
      "display_name": "Python 3"
    },
    "language_info": {
      "name": "python"
    },
    "accelerator": "GPU"
  },
  "cells": [
    {
      "cell_type": "markdown",
      "metadata": {
        "id": "view-in-github",
        "colab_type": "text"
      },
      "source": [
        "<a href=\"https://colab.research.google.com/github/skilove13/NLP-Specialization-Cousera/blob/main/NLP_C1_W4_lecture_nb_02.ipynb\" target=\"_parent\"><img src=\"https://colab.research.google.com/assets/colab-badge.svg\" alt=\"Open In Colab\"/></a>"
      ]
    },
    {
      "cell_type": "markdown",
      "source": [
        "**Hash functions and multiplanes**\n",
        "\n",
        "In this lab, we are going to practice the most important concepts related to the hash functions explained in the videos. You will be using these in this week's assignment.\n",
        "\n",
        "A key point for the lookup using hash functions is the calculation of the hash key or bucket id that we assign for a given entry. In this notebook, we will cover:\n",
        "\n",
        "Basic hash tables\n",
        "\n",
        "Multiplanes\n",
        "\n",
        "Random planes"
      ],
      "metadata": {
        "id": "Ivsmvr6_fu6S"
      }
    },
    {
      "cell_type": "markdown",
      "source": [
        "**Basic Hash tables**\n",
        "\n",
        "Hash tables are data structures that allow indexing data to make lookup tasks more efficient. In this part, you will see the implementation of the simplest hash function."
      ],
      "metadata": {
        "id": "6abihTRqf7bT"
      }
    },
    {
      "cell_type": "code",
      "execution_count": 1,
      "metadata": {
        "id": "YkCV3VEqfqwf"
      },
      "outputs": [],
      "source": [
        "import numpy as np                # library for array and matrix manipulation\n",
        "import pprint                     # utilities for console printing \n",
        "import matplotlib.pyplot as plt   # visualization library\n",
        "\n",
        "#from utils_nb import plot_vectors # helper function to plot vectors\n",
        "# Procedure to plot and arrows that represents vectors with pyplot\n",
        "def plot_vectors(vectors, colors=['k', 'b', 'r', 'm', 'c'], axes=None, fname='image.svg', ax=None):\n",
        "    scale = 1\n",
        "    scale_units = 'x'\n",
        "    x_dir = []\n",
        "    y_dir = []\n",
        "    \n",
        "    for i, vec in enumerate(vectors):\n",
        "        x_dir.append(vec[0][0])\n",
        "        y_dir.append(vec[0][1])\n",
        "    \n",
        "    if ax == None:\n",
        "        fig, ax2 = plt.subplots()\n",
        "    else:\n",
        "        ax2 = ax\n",
        "      \n",
        "    if axes == None:\n",
        "        x_axis = 2 + np.max(np.abs(x_dir))\n",
        "        y_axis = 2 + np.max(np.abs(y_dir))\n",
        "    else:\n",
        "        x_axis = axes[0]\n",
        "        y_axis = axes[1]\n",
        "        \n",
        "    ax2.axis([-x_axis, x_axis, -y_axis, y_axis])\n",
        "        \n",
        "    for i, vec in enumerate(vectors):\n",
        "        ax2.arrow(0, 0, vec[0][0], vec[0][1], head_width=0.05 * x_axis, head_length=0.05 * y_axis, fc=colors[i], ec=colors[i])\n",
        "    \n",
        "    if ax == None:\n",
        "        plt.show()\n",
        "        fig.savefig(fname)\n",
        "\n",
        "pp = pprint.PrettyPrinter(indent=4) # Instantiate a pretty printer"
      ]
    },
    {
      "cell_type": "markdown",
      "source": [
        "In the next cell, we will define a straightforward hash function for integer numbers. The function will receive a list of integer numbers and the desired amount of buckets. The function will produce a hash table stored as a dictionary, where keys contain the hash keys, and the values will provide the hashed elements of the input list.\n",
        "\n",
        "The hash function is just the remainder of the integer division between each element and the desired number of buckets."
      ],
      "metadata": {
        "id": "NVLHtpoLg6B7"
      }
    },
    {
      "cell_type": "code",
      "source": [
        "def basic_hash_table(value_l, n_buckets):\n",
        "    \n",
        "    def hash_function(value, n_buckets):\n",
        "        return int(value) % n_buckets\n",
        "    \n",
        "    hash_table = {i:[] for i in range(n_buckets)} # Initialize all the buckets in the hash table as empty lists\n",
        "\n",
        "    for value in value_l:\n",
        "        hash_value = hash_function(value,n_buckets) # Get the hash key for the given value\n",
        "        hash_table[hash_value].append(value) # Add the element to the corresponding bucket\n",
        "    \n",
        "    return hash_table"
      ],
      "metadata": {
        "id": "htmPcRvzg9oe"
      },
      "execution_count": 2,
      "outputs": []
    },
    {
      "cell_type": "markdown",
      "source": [
        "Now let's see the hash table function in action. The pretty print function (pprint()) will produce a visually appealing output."
      ],
      "metadata": {
        "id": "iYpURVF_hMrh"
      }
    },
    {
      "cell_type": "code",
      "source": [
        "value_l = [100, 10, 14, 17, 97] # Set of values to hash\n",
        "hash_table_example = basic_hash_table(value_l, n_buckets=10)\n",
        "pp.pprint(hash_table_example)"
      ],
      "metadata": {
        "colab": {
          "base_uri": "https://localhost:8080/"
        },
        "id": "LskLLJJFhPO7",
        "outputId": "97c355df-b440-4374-db5f-70efa5614fcd"
      },
      "execution_count": 3,
      "outputs": [
        {
          "output_type": "stream",
          "name": "stdout",
          "text": [
            "{   0: [100, 10],\n",
            "    1: [],\n",
            "    2: [],\n",
            "    3: [],\n",
            "    4: [14],\n",
            "    5: [],\n",
            "    6: [],\n",
            "    7: [17, 97],\n",
            "    8: [],\n",
            "    9: []}\n"
          ]
        }
      ]
    },
    {
      "cell_type": "markdown",
      "source": [
        "In this case, the bucket key must be the rightmost digit of each number."
      ],
      "metadata": {
        "id": "3JOONSk5hcCK"
      }
    },
    {
      "cell_type": "markdown",
      "source": [
        "**Planes**\n",
        "\n",
        "Multiplanes hash functions are other types of hash functions. Multiplanes hash functions are based on the idea of numbering every single region that is formed by the intersection of n planes. In the following code, we show the most basic forms of the multiplanes principle. First, with a single plane:"
      ],
      "metadata": {
        "id": "7D72asOzhhHy"
      }
    },
    {
      "cell_type": "code",
      "source": [
        "P = np.array([[1,1]]) #Define a single plane\n",
        "fig, ax1 = plt.subplots(figsize =(8,8)) # Create a plot\n",
        "\n",
        "plot_vectors([P], axes=[2,2], ax=ax1) # Plot the plane P as a vector\n",
        "\n",
        "for i in range(0,10):\n",
        "  v1 = np.array(np.random.uniform(-2,2,2)) # Get a pair of random numbers between -4 and 4 \n",
        "  side_of_plane = np.sign(np.dot(P, v1.T))\n",
        "\n",
        "  # Color the points depending on the sign of the result of np.dot(P, point.T)\n",
        "  if side_of_plane ==1:\n",
        "    ax1.plot([v1[0]], [v1[1]], 'bo') # Plot blue points\n",
        "  else:\n",
        "    ax1.plot([v1[0]], [v1[1]], 'ro') # Plot red points\n",
        "\n",
        "plt.show()"
      ],
      "metadata": {
        "colab": {
          "base_uri": "https://localhost:8080/",
          "height": 487
        },
        "id": "uffuGMv8hnMS",
        "outputId": "21df8830-e359-49d7-a367-7ce2fc9f6d04"
      },
      "execution_count": 8,
      "outputs": [
        {
          "output_type": "display_data",
          "data": {
            "image/png": "[encoded data removed]",
            "text/plain": [
              "<Figure size 576x576 with 1 Axes>"
            ]
          },
          "metadata": {
            "needs_background": "light"
          }
        }
      ]
    },
    {
      "cell_type": "markdown",
      "source": [
        "The first thing to note is that the vector that defines the plane does not mark the boundary between the two sides of the plane. It marks the direction in which you find the 'positive' side of the plane. Not intuitive at all!\n",
        "\n",
        "If we want to plot the separation plane, we need to plot a line that is perpendicular to our vector P. We can get such a line using a  rotation matrix.\n",
        "\n",
        "Feel free to change the direction of the plane P."
      ],
      "metadata": {
        "id": "RgWC8e58io8L"
      }
    },
    {
      "cell_type": "code",
      "source": [
        "P = np.array([[1, 2]])  # Define a single plane. You may change the direction\n",
        "\n",
        "# Get a new plane perpendicular to P. We use a rotation matrix\n",
        "PT = np.dot([[0, 1], [-1, 0]], P.T).T  \n",
        "\n",
        "fig, ax1 = plt.subplots(figsize=(8, 8)) # Create a plot with custom size\n",
        "\n",
        "plot_vectors([P], colors=['b'], axes=[2, 2], ax=ax1) # Plot the plane P as a vector\n",
        "\n",
        "# Plot the plane P as a 2 vectors. \n",
        "# We scale by 2 just to get the arrows outside the current box\n",
        "plot_vectors([PT * 4, PT * -4], colors=['k', 'k'], axes=[4, 4], ax=ax1)\n",
        "\n",
        "print([PT * 4, PT * -4])\n",
        "\n",
        "# Plot 20 random points. \n",
        "for i in range(0, 20):\n",
        "        v1 = np.array(np.random.uniform(-4, 4, 2)) # Get a pair of random numbers between -4 and 4 \n",
        "        side_of_plane = np.sign(np.dot(P, v1.T)) # Get the sign of the dot product with P\n",
        "        # Color the points depending on the sign of the result of np.dot(P, point.T)\n",
        "        if side_of_plane == 1:\n",
        "            ax1.plot([v1[0]], [v1[1]], 'bo') # Plot a blue point\n",
        "        else:\n",
        "            ax1.plot([v1[0]], [v1[1]], 'ro') # Plot a red point\n",
        "\n",
        "plt.show()"
      ],
      "metadata": {
        "colab": {
          "base_uri": "https://localhost:8080/",
          "height": 505
        },
        "id": "AJdvuNTsiqci",
        "outputId": "84a2050b-2b9a-4a76-fc51-da58542e4aff"
      },
      "execution_count": 17,
      "outputs": [
        {
          "output_type": "stream",
          "name": "stdout",
          "text": [
            "[array([[ 8, -4]]), array([[-8,  4]])]\n"
          ]
        },
        {
          "output_type": "display_data",
          "data": {
            "image/png": "[encoded data removed]",
            "text/plain": [
              "<Figure size 576x576 with 1 Axes>"
            ]
          },
          "metadata": {
            "needs_background": "light"
          }
        }
      ]
    },
    {
      "cell_type": "markdown",
      "source": [
        "Now, let us see what is inside the code that color the points."
      ],
      "metadata": {
        "id": "rLbXt3t2jnYM"
      }
    },
    {
      "cell_type": "code",
      "source": [
        "P = np.array([[1, 1]])      # Single plane\n",
        "v1 = np.array([[1, 2]])     # Sample point 1\n",
        "v2 = np.array([[-1, 1]])    # Sample point 2\n",
        "v3 = np.array([[-2, -1]])   # Sample point 3"
      ],
      "metadata": {
        "id": "Rb0zFkGajn8R"
      },
      "execution_count": 18,
      "outputs": []
    },
    {
      "cell_type": "code",
      "source": [
        "np.dot(P, v1.T)"
      ],
      "metadata": {
        "colab": {
          "base_uri": "https://localhost:8080/"
        },
        "id": "0_0lMwSJjrtS",
        "outputId": "40d76594-9324-48e4-9000-e0f3dc19653c"
      },
      "execution_count": 19,
      "outputs": [
        {
          "output_type": "execute_result",
          "data": {
            "text/plain": [
              "array([[3]])"
            ]
          },
          "metadata": {},
          "execution_count": 19
        }
      ]
    },
    {
      "cell_type": "code",
      "source": [
        "np.dot(P, v2.T)"
      ],
      "metadata": {
        "colab": {
          "base_uri": "https://localhost:8080/"
        },
        "id": "GC0kvF7Zo69D",
        "outputId": "01f12384-da7a-4696-aeab-ded3dc3f28d3"
      },
      "execution_count": 20,
      "outputs": [
        {
          "output_type": "execute_result",
          "data": {
            "text/plain": [
              "array([[0]])"
            ]
          },
          "metadata": {},
          "execution_count": 20
        }
      ]
    },
    {
      "cell_type": "code",
      "source": [
        "np.dot(P, v3.T)"
      ],
      "metadata": {
        "colab": {
          "base_uri": "https://localhost:8080/"
        },
        "id": "gQgsZlkBo-z6",
        "outputId": "ad113804-a38f-4840-a60c-c7edab712561"
      },
      "execution_count": 21,
      "outputs": [
        {
          "output_type": "execute_result",
          "data": {
            "text/plain": [
              "array([[-3]])"
            ]
          },
          "metadata": {},
          "execution_count": 21
        }
      ]
    },
    {
      "cell_type": "markdown",
      "source": [
        "The function below checks in which side of the plane P is located the vector v"
      ],
      "metadata": {
        "id": "x10LtuKRpDGJ"
      }
    },
    {
      "cell_type": "code",
      "source": [
        "def side_of_plane(P, v):\n",
        "    dotproduct = np.dot(P, v.T) # Get the dot product P * v'\n",
        "    sign_of_dot_product = np.sign(dotproduct) # The sign of the elements of the dotproduct matrix \n",
        "    sign_of_dot_product_scalar = sign_of_dot_product.item() # The value of the first item\n",
        "    return sign_of_dot_product_scalar"
      ],
      "metadata": {
        "id": "GzYf3U5opFIT"
      },
      "execution_count": 22,
      "outputs": []
    },
    {
      "cell_type": "code",
      "source": [
        "side_of_plane(P, v1) # In which side is [1, 2]"
      ],
      "metadata": {
        "colab": {
          "base_uri": "https://localhost:8080/"
        },
        "id": "YM7ND7pYpK0q",
        "outputId": "018fc4f7-0aaa-4e0c-f119-dd1af6d6a1d3"
      },
      "execution_count": 23,
      "outputs": [
        {
          "output_type": "execute_result",
          "data": {
            "text/plain": [
              "1"
            ]
          },
          "metadata": {},
          "execution_count": 23
        }
      ]
    },
    {
      "cell_type": "code",
      "source": [
        "side_of_plane(P, v2) # In which side is [-1, 1]"
      ],
      "metadata": {
        "colab": {
          "base_uri": "https://localhost:8080/"
        },
        "id": "nCgABwKOpXQp",
        "outputId": "7d54117e-7642-4202-b0b8-0176e686f01b"
      },
      "execution_count": 24,
      "outputs": [
        {
          "output_type": "execute_result",
          "data": {
            "text/plain": [
              "0"
            ]
          },
          "metadata": {},
          "execution_count": 24
        }
      ]
    },
    {
      "cell_type": "code",
      "source": [
        "side_of_plane(P, v3) # In which side is [-2, -1]"
      ],
      "metadata": {
        "colab": {
          "base_uri": "https://localhost:8080/"
        },
        "id": "EUwEMOquppJp",
        "outputId": "4c5f13f8-0ac4-4ba2-a387-2b3082522cd3"
      },
      "execution_count": 25,
      "outputs": [
        {
          "output_type": "execute_result",
          "data": {
            "text/plain": [
              "-1"
            ]
          },
          "metadata": {},
          "execution_count": 25
        }
      ]
    },
    {
      "cell_type": "markdown",
      "source": [
        "**Hash Function with multiple planes**\n",
        "\n",
        "In the following section, we are going to define a hash function with a list of three custom planes in 2D."
      ],
      "metadata": {
        "id": "O1FZuOaspuuk"
      }
    },
    {
      "cell_type": "code",
      "source": [
        "P1 = np.array([[1, 1]])   # First plane 2D\n",
        "P2 = np.array([[-1, 1]])  # Second plane 2D\n",
        "P3 = np.array([[-1, -1]]) # Third plane 2D\n",
        "P_l = [P1, P2, P3]  # List of arrays. It is the multi plane\n",
        "\n",
        "# Vector to search\n",
        "v = np.array([[2, 2]])"
      ],
      "metadata": {
        "id": "3yQEamxrp03a"
      },
      "execution_count": 26,
      "outputs": []
    },
    {
      "cell_type": "markdown",
      "source": [
        "The next function creates a hash value based on a set of planes. The output value is a combination of the side of the plane where the vector is localized with respect to the collection of planes.\n",
        "\n",
        "We can think of this list of planes as a set of basic hash functions, each of which can produce only 1 or 0 as output."
      ],
      "metadata": {
        "id": "QhrEik2sp4Oy"
      }
    },
    {
      "cell_type": "code",
      "source": [
        "def hash_multi_plane(P_l, v):\n",
        "    hash_value = 0\n",
        "    for i, P in enumerate(P_l):\n",
        "        sign = side_of_plane(P,v)\n",
        "        hash_i = 1 if sign >=0 else 0\n",
        "        hash_value += 2**i * hash_i\n",
        "    return hash_value"
      ],
      "metadata": {
        "id": "2o-LWteIp8Dp"
      },
      "execution_count": 27,
      "outputs": []
    },
    {
      "cell_type": "code",
      "source": [
        "hash_multi_plane(P_l, v) # Find the number of the plane that containes this value"
      ],
      "metadata": {
        "colab": {
          "base_uri": "https://localhost:8080/"
        },
        "id": "5DjMIMRBqBbK",
        "outputId": "20818715-8386-45b2-e9de-4e7b5d78a031"
      },
      "execution_count": 28,
      "outputs": [
        {
          "output_type": "execute_result",
          "data": {
            "text/plain": [
              "3"
            ]
          },
          "metadata": {},
          "execution_count": 28
        }
      ]
    },
    {
      "cell_type": "markdown",
      "source": [
        "**Random Planes**\n",
        "\n",
        "In the cell below, we create a set of three random planes"
      ],
      "metadata": {
        "id": "407NEnk5qsZk"
      }
    },
    {
      "cell_type": "code",
      "source": [
        "np.random.seed(0)\n",
        "num_dimensions = 2 # is 300 in assignment\n",
        "num_planes = 3 # is 10 in assignment\n",
        "random_planes_matrix = np.random.normal(\n",
        "                       size=(num_planes,\n",
        "                             num_dimensions))\n",
        "print(random_planes_matrix)"
      ],
      "metadata": {
        "colab": {
          "base_uri": "https://localhost:8080/"
        },
        "id": "xFyB-51oqzz5",
        "outputId": "97fb7124-b58c-4f13-fb11-c9ca60192b2e"
      },
      "execution_count": 29,
      "outputs": [
        {
          "output_type": "stream",
          "name": "stdout",
          "text": [
            "[[ 1.76405235  0.40015721]\n",
            " [ 0.97873798  2.2408932 ]\n",
            " [ 1.86755799 -0.97727788]]\n"
          ]
        }
      ]
    },
    {
      "cell_type": "code",
      "source": [
        "v = np.array([[2, 2]])"
      ],
      "metadata": {
        "id": "KuloYBYgsVM8"
      },
      "execution_count": 30,
      "outputs": []
    },
    {
      "cell_type": "markdown",
      "source": [
        "The next function is similar to the side_of_plane() function, but it evaluates more than a plane each time. The result is an array with the side of the plane of v, for the set of planes P"
      ],
      "metadata": {
        "id": "IGpvdrVtsc8T"
      }
    },
    {
      "cell_type": "code",
      "source": [
        "# Side of the plane function. The result is a matrix\n",
        "def side_of_plane_matrix(P, v):\n",
        "    dotproduct = np.dot(P, v.T)\n",
        "    sign_of_dot_product = np.sign(dotproduct) # Get a boolean value telling if the value in the cell is positive or negative\n",
        "    return sign_of_dot_product"
      ],
      "metadata": {
        "id": "pVb36zmKsfaa"
      },
      "execution_count": 31,
      "outputs": []
    },
    {
      "cell_type": "markdown",
      "source": [
        "Get the side of the plane of the vector [2, 2] for the set of random planes."
      ],
      "metadata": {
        "id": "YvrltYwbsiY7"
      }
    },
    {
      "cell_type": "code",
      "source": [
        "sides_l = side_of_plane_matrix(\n",
        "            random_planes_matrix, v)\n",
        "sides_l"
      ],
      "metadata": {
        "colab": {
          "base_uri": "https://localhost:8080/"
        },
        "id": "Ahay-VY3sk27",
        "outputId": "1b462d38-7efd-422b-c705-349b237563e6"
      },
      "execution_count": 32,
      "outputs": [
        {
          "output_type": "execute_result",
          "data": {
            "text/plain": [
              "array([[1.],\n",
              "       [1.],\n",
              "       [1.]])"
            ]
          },
          "metadata": {},
          "execution_count": 32
        }
      ]
    },
    {
      "cell_type": "markdown",
      "source": [
        "Now, let us use the former function to define our multiplane hash function"
      ],
      "metadata": {
        "id": "cP4zia4MsoR8"
      }
    },
    {
      "cell_type": "code",
      "source": [
        "def hash_multi_plane_matrix(P, v, num_planes):\n",
        "    sides_matrix = side_of_plane_matrix(P, v) # Get the side of planes for P and v\n",
        "    hash_value = 0\n",
        "    for i in range(num_planes):\n",
        "        sign = sides_matrix[i].item() # Get the value inside the matrix cell\n",
        "        hash_i = 1 if sign >=0 else 0\n",
        "        hash_value += 2**i * hash_i # sum 2^i * hash_i\n",
        "        \n",
        "    return hash_value"
      ],
      "metadata": {
        "id": "OrFfW-ybsqVc"
      },
      "execution_count": 34,
      "outputs": []
    },
    {
      "cell_type": "markdown",
      "source": [
        "Print the bucket hash for the vector v = [2, 2]."
      ],
      "metadata": {
        "id": "vVKENaGDszwq"
      }
    },
    {
      "cell_type": "code",
      "source": [
        "hash_multi_plane_matrix(random_planes_matrix, v, num_planes)"
      ],
      "metadata": {
        "colab": {
          "base_uri": "https://localhost:8080/"
        },
        "id": "XcmMIqMhs12h",
        "outputId": "485f007d-21f9-477b-e9ab-a5910ef7e6c8"
      },
      "execution_count": 35,
      "outputs": [
        {
          "output_type": "execute_result",
          "data": {
            "text/plain": [
              "7"
            ]
          },
          "metadata": {},
          "execution_count": 35
        }
      ]
    },
    {
      "cell_type": "markdown",
      "source": [
        "**Note**\n",
        "\n",
        "This showed you how to make one set of random planes. You will make multiple sets of random planes in order to make the approximate nearest neighbors more accurate."
      ],
      "metadata": {
        "id": "DpoAXpQvs52Z"
      }
    },
    {
      "cell_type": "markdown",
      "source": [
        "**Document vectors**\n",
        "\n",
        "Before we finish this lab, remember that you can represent a document as a vector by adding up the word vectors for the words inside the document. In this example, our embedding contains only three words, each represented by a 3D array."
      ],
      "metadata": {
        "id": "ABdMzSlLs-rK"
      }
    },
    {
      "cell_type": "code",
      "source": [
        "word_embedding = {\"I\": np.array([1,0,1]),\n",
        "                   \"love\": np.array([-1,0,1]),\n",
        "                   \"learning\": np.array([1,0,1])\n",
        "                  }\n",
        "words_in_document = ['I', 'love', 'learning', 'not_a_word']\n",
        "document_embedding = np.array([0,0,0])\n",
        "for word in words_in_document:\n",
        "    document_embedding += word_embedding.get(word,0)\n",
        "    \n",
        "print(document_embedding)"
      ],
      "metadata": {
        "colab": {
          "base_uri": "https://localhost:8080/"
        },
        "id": "-xR9ek-RtB_p",
        "outputId": "ff4d1f3b-4bca-417a-f0b9-5f2cbacaeab8"
      },
      "execution_count": 37,
      "outputs": [
        {
          "output_type": "stream",
          "name": "stdout",
          "text": [
            "[1 0 3]\n"
          ]
        }
      ]
    },
    {
      "cell_type": "markdown",
      "source": [
        "**Congratulations! You've now completed this lab on hash functions and multiplanes!**"
      ],
      "metadata": {
        "id": "FaT_tWpOtGbJ"
      }
    }
  ]
}