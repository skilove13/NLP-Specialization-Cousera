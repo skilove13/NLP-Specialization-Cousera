{
  "nbformat": 4,
  "nbformat_minor": 0,
  "metadata": {
    "colab": {
      "name": "C1_W4_Assignment.ipynb",
      "provenance": [],
      "collapsed_sections": [],
      "authorship_tag": "ABX9TyMkbATaT8pHLLYmcRUJrPFi",
      "include_colab_link": true
    },
    "kernelspec": {
      "name": "python3",
      "display_name": "Python 3"
    },
    "language_info": {
      "name": "python"
    },
    "accelerator": "GPU"
  },
  "cells": [
    {
      "cell_type": "markdown",
      "metadata": {
        "id": "view-in-github",
        "colab_type": "text"
      },
      "source": [
        "<a href=\"https://colab.research.google.com/github/skilove13/NLP-Specialization-Cousera/blob/main/C1_W4_Assignment.ipynb\" target=\"_parent\"><img src=\"https://colab.research.google.com/assets/colab-badge.svg\" alt=\"Open In Colab\"/></a>"
      ]
    },
    {
      "cell_type": "markdown",
      "source": [
        "**Assignment 4 - Naive Machine Translation and LSH**\n",
        "\n",
        "You will now implement your first machine translation system and then you will see how locality sensitive hashing works. Let's get started by importing the required functions!\n",
        "\n",
        "If you are running this notebook in your local computer, don't forget to download the twitter samples and stopwords from nltk.\n",
        "\n",
        "nltk.download('stopwords')\n",
        "nltk.download('twitter_samples')\n",
        "NOTE: The Exercise xx numbers in this assignment are inconsistent with the UNQ_Cx numbers."
      ],
      "metadata": {
        "id": "mXHN0Zj6u5_p"
      }
    },
    {
      "cell_type": "markdown",
      "source": [
        "This assignment covers the folowing topics:\n",
        "1. The word embeddings data for English and French words\n",
        "1.1 Generate embedding and transform matrices\n",
        "Exercise 1\n",
        "2. Translations\n",
        "2.1 Translation as linear transformation of embeddings\n",
        "Exercise 2\n",
        "Exercise 3\n",
        "Exercise 4\n",
        "2.2 Testing the translation\n",
        "Exercise 5\n",
        "Exercise 6\n",
        "3. LSH and document search\n",
        "3.1 Getting the document embeddings\n",
        "Exercise 7\n",
        "Exercise 8\n",
        "3.2 Looking up the tweets\n",
        "3.3 Finding the most similar tweets with LSH\n",
        "3.4 Getting the hash number for a vector\n",
        "Exercise 9\n",
        "3.5 Creating a hash table\n",
        "Exercise 10\n",
        "3.6 Creating all hash tables\n",
        "Exercise 11"
      ],
      "metadata": {
        "id": "NWi3ALVQvOXJ"
      }
    },
    {
      "cell_type": "code",
      "execution_count": null,
      "metadata": {
        "id": "dHqkeDWju06H",
        "colab": {
          "base_uri": "https://localhost:8080/"
        },
        "outputId": "31b58b31-c7bf-40ad-e935-b766da11c46f"
      },
      "outputs": [
        {
          "output_type": "stream",
          "name": "stdout",
          "text": [
            "[nltk_data] Downloading package stopwords to /root/nltk_data...\n",
            "[nltk_data]   Package stopwords is already up-to-date!\n"
          ]
        }
      ],
      "source": [
        "import pdb\n",
        "import pickle\n",
        "import string\n",
        "\n",
        "import time\n",
        "\n",
        "import gensim\n",
        "import matplotlib.pyplot as plt\n",
        "import nltk\n",
        "import numpy as np\n",
        "import scipy\n",
        "import sklearn\n",
        "from gensim.models import KeyedVectors\n",
        "from nltk.corpus import stopwords, twitter_samples\n",
        "from nltk.tokenize import TweetTokenizer\n",
        "from nltk.stem import PorterStemmer\n",
        "import re\n",
        "\n",
        "nltk.download('stopwords')\n",
        "\n",
        "import pandas as pd\n",
        "\n",
        "\n",
        "#from utils import (cosine_similarity, get_dict,process_tweet)\n",
        "\n",
        "def cosine_similarity(A, B):\n",
        "    '''\n",
        "    Input:\n",
        "        A: a numpy array which corresponds to a word vector\n",
        "        B: A numpy array which corresponds to a word vector\n",
        "    Output:\n",
        "        cos: numerical number representing the cosine similarity between A and B.\n",
        "    '''\n",
        "    # you have to set this variable to the true label.\n",
        "    cos = -10\n",
        "    dot = np.dot(A, B)\n",
        "    norma = np.linalg.norm(A)\n",
        "    normb = np.linalg.norm(B)\n",
        "    cos = dot / (norma * normb)\n",
        "\n",
        "    return cos\n",
        "\n",
        "def get_dict(file_name):\n",
        "    \"\"\"\n",
        "    This function returns the english to french dictionary given a file where the each column corresponds to a word.\n",
        "    Check out the files this function takes in your workspace.\n",
        "    \"\"\"\n",
        "    my_file = pd.read_csv(file_name, delimiter=' ')\n",
        "    etof = {}  # the english to french dictionary to be returned\n",
        "    for i in range(len(my_file)):\n",
        "        # indexing into the rows.\n",
        "        en = my_file.loc[i][0]\n",
        "        fr = my_file.loc[i][1]\n",
        "        etof[en] = fr\n",
        "\n",
        "    return etof\n",
        "\n",
        "def process_tweet(tweet):\n",
        "    '''\n",
        "    Input:\n",
        "        tweet: a string containing a tweet\n",
        "    Output:\n",
        "        tweets_clean: a list of words containing the processed tweet\n",
        "\n",
        "    '''\n",
        "    stemmer = PorterStemmer()\n",
        "    stopwords_english = stopwords.words('english')\n",
        "    # remove stock market tickers like $GE\n",
        "    tweet = re.sub(r'\\$\\w*', '', tweet)\n",
        "    # remove old style retweet text \"RT\"\n",
        "    tweet = re.sub(r'^RT[\\s]+', '', tweet)\n",
        "    # remove hyperlinks\n",
        "    tweet = re.sub(r'https?:\\/\\/.*[\\r\\n]*', '', tweet)\n",
        "    # remove hashtags\n",
        "    # only removing the hash # sign from the word\n",
        "    tweet = re.sub(r'#', '', tweet)\n",
        "    # tokenize tweets\n",
        "    tokenizer = TweetTokenizer(preserve_case=False, strip_handles=True,\n",
        "                               reduce_len=True)\n",
        "    tweet_tokens = tokenizer.tokenize(tweet)\n",
        "\n",
        "    tweets_clean = []\n",
        "    for word in tweet_tokens:\n",
        "        if (word not in stopwords_english and  # remove stopwords\n",
        "            word not in string.punctuation):  # remove punctuation\n",
        "            # tweets_clean.append(word)\n",
        "            stem_word = stemmer.stem(word)  # stemming word\n",
        "            tweets_clean.append(stem_word)\n",
        "\n",
        "    return tweets_clean\n",
        "\n",
        "\n",
        "from os import getcwd"
      ]
    },
    {
      "cell_type": "code",
      "source": [
        "# add folder, tmp2, from our local workspace containing pre-downloaded corpora files to nltk's data path\n",
        "!pwd\n",
        "filePath = f\"{getcwd()}/../tmp2/\"\n",
        "nltk.data.path.append('/content')"
      ],
      "metadata": {
        "colab": {
          "base_uri": "https://localhost:8080/"
        },
        "id": "1Ws6MqFoV5sX",
        "outputId": "6ecbb2b5-5364-49da-836b-fced9ffacff1"
      },
      "execution_count": null,
      "outputs": [
        {
          "output_type": "stream",
          "name": "stdout",
          "text": [
            "/content\n"
          ]
        }
      ]
    },
    {
      "cell_type": "markdown",
      "source": [
        "**1. The word embeddings data for English and French words**\n",
        "\n",
        "Write a program that translates English to French.\n",
        "\n",
        "**The data**\n",
        "The full dataset for English embeddings is about 3.64 gigabytes, and the French embeddings are about 629 megabytes. To prevent the Coursera workspace from crashing, we've extracted a subset of the embeddings for the words that you'll use in this assignment.\n",
        "\n",
        "If you want to run this on your local computer and use the full dataset, you can download the\n",
        "\n",
        "English embeddings from Google code archive word2vec look for GoogleNews-vectors-negative300.bin.gz\n",
        "You'll need to unzip the file first.\n",
        "and the French embeddings from cross_lingual_text_classification.\n",
        "in the terminal, type (in one line) curl -o ./wiki.multi.fr.vec https://dl.fbaipublicfiles.com/arrival/vectors/wiki.multi.fr.vec\n",
        "Then copy-paste the code below and run it.\n",
        "\n",
        "# Use this code to download and process the full dataset on your local computer\n",
        "\n",
        "from gensim.models import KeyedVectors\n",
        "\n",
        "en_embeddings = KeyedVectors.load_word2vec_format('./GoogleNews-vectors-negative300.bin', binary = True)\n",
        "fr_embeddings = KeyedVectors.load_word2vec_format('./wiki.multi.fr.vec')\n",
        "\n",
        "\n",
        "# loading the english to french dictionaries\n",
        "en_fr_train = get_dict('en-fr.train.txt')\n",
        "print('The length of the english to french training dictionary is', len(en_fr_train))\n",
        "en_fr_test = get_dict('en-fr.test.txt')\n",
        "print('The length of the english to french test dictionary is', len(en_fr_train))\n",
        "\n",
        "english_set = set(en_embeddings.vocab)\n",
        "french_set = set(fr_embeddings.vocab)\n",
        "en_embeddings_subset = {}\n",
        "fr_embeddings_subset = {}\n",
        "french_words = set(en_fr_train.values())\n",
        "\n",
        "for en_word in en_fr_train.keys():\n",
        "    fr_word = en_fr_train[en_word]\n",
        "    if fr_word in french_set and en_word in english_set:\n",
        "        en_embeddings_subset[en_word] = en_embeddings[en_word]\n",
        "        fr_embeddings_subset[fr_word] = fr_embeddings[fr_word]\n",
        "\n",
        "\n",
        "for en_word in en_fr_test.keys():\n",
        "    fr_word = en_fr_test[en_word]\n",
        "    if fr_word in french_set and en_word in english_set:\n",
        "        en_embeddings_subset[en_word] = en_embeddings[en_word]\n",
        "        fr_embeddings_subset[fr_word] = fr_embeddings[fr_word]\n",
        "\n",
        "\n",
        "pickle.dump( en_embeddings_subset, open( \"en_embeddings.p\", \"wb\" ) )\n",
        "pickle.dump( fr_embeddings_subset, open( \"fr_embeddings.p\", \"wb\" ) )\n",
        "\n",
        "**The subset of data**\n",
        "\n",
        "To do the assignment on the Coursera workspace, we'll use the subset of word embeddings."
      ],
      "metadata": {
        "id": "ZUVbNpDnXamf"
      }
    },
    {
      "cell_type": "code",
      "source": [
        "en_embeddings_subset = pickle.load(open(\"en_embeddings.p\", \"rb\"))\n",
        "fr_embeddings_subset = pickle.load(open(\"fr_embeddings.p\", \"rb\"))"
      ],
      "metadata": {
        "id": "mU8bGgLQYPoH"
      },
      "execution_count": null,
      "outputs": []
    },
    {
      "cell_type": "markdown",
      "source": [
        "**Look at the data**\n",
        "\n",
        "en_embeddings_subset: the key is an English word, and the vaule is a 300 dimensional array, which is the embedding for that word.\n",
        "\n",
        "'the': array([ 0.08007812,  0.10498047,  0.04980469,  0.0534668 , -0.06738281, ....\n",
        "fr_embeddings_subset: the key is an French word, and the vaule is a 300 dimensional array, which is the embedding for that word.\n",
        "\n",
        "'la': array([-6.18250e-03, -9.43867e-04, -8.82648e-03,  3.24623e-02,...\n",
        "\n",
        "Load two dictionaries mapping the English to French words\n",
        "A training dictionary\n",
        "and a testing dictionary.\n"
      ],
      "metadata": {
        "id": "CAkltBvTY1zn"
      }
    },
    {
      "cell_type": "code",
      "source": [
        "!pwd\n",
        "en_fr_train = get_dict('en-fr.train.txt')\n",
        "print('The length of the Englist to French training dictionary is', len(en_fr_train))\n",
        "en_fr_test = get_dict('en-fr.test.txt')\n",
        "print('The length of the English to French test dictionary is', len(en_fr_train))"
      ],
      "metadata": {
        "colab": {
          "base_uri": "https://localhost:8080/"
        },
        "id": "UG7ZPJ5zY8zf",
        "outputId": "6aa544df-b048-4c23-b6e0-49e4e55d2af8"
      },
      "execution_count": null,
      "outputs": [
        {
          "output_type": "stream",
          "name": "stdout",
          "text": [
            "/content\n",
            "The length of the Englist to French training dictionary is 5000\n",
            "The length of the English to French test dictionary is 5000\n"
          ]
        }
      ]
    },
    {
      "cell_type": "markdown",
      "source": [
        "Looking at the English French dictionary\n",
        "en_fr_train is a dictionary where the key is the English word and the value is the French translation of that English word.\n",
        "\n",
        "{'the': 'la',\n",
        "'and': 'et',\n",
        "'was': 'était',\n",
        "'for': 'pour',\n",
        "en_fr_test is similar to en_fr_train, but is a test set. We won't look at it until we get to testing."
      ],
      "metadata": {
        "id": "b9PuaPJbbZ6B"
      }
    },
    {
      "cell_type": "markdown",
      "source": [
        "**1.1 Generate embedding and transform matrices**\n",
        "\n",
        "Exercise 01: Translating English dictionary to French by using embeddings\n",
        "You will now implement a function get_matrices, which takes the loaded data and returns matrices X and Y.\n",
        "\n",
        "Inputs:\n",
        "\n",
        "en_fr : English to French dictionary\n",
        "\n",
        "en_embeddings : English to embeddings dictionary\n",
        "\n",
        "fr_embeddings : French to embeddings dictionary\n",
        "\n",
        "Returns:\n",
        "\n",
        "Matrix X and matrix Y, where each row in X is the word embedding for an english word, and the same row in Y is the word embedding for the French version of that English word.\n",
        "\n",
        "![image.png](data:image/png;base64,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)\n",
        "\n",
        "Figure 2\n",
        "Use the en_fr dictionary to ensure that the ith row in the X matrix corresponds to the ith row in the Y matrix.\n",
        "\n",
        "Instructions: Complete the function get_matrices():\n",
        "\n",
        "Iterate over English words in en_fr dictionary.\n",
        "Check if the word have both English and French embedding.\n",
        "\n",
        "**Hints**\n",
        "\n",
        "Sets are useful data structures that can be used to check if an item is a member of a group.\n",
        "\n",
        "You can get words which are embedded into the language by using keys method.\n",
        "\n",
        "Keep vectors in `X` and `Y` sorted in list. You can use np.vstack() to merge them into the numpy matrix.\n",
        "\n",
        "numpy.vstack stacks the items in a list as rows in a matrix."
      ],
      "metadata": {
        "id": "3zTw3p0Xbfuu"
      }
    },
    {
      "cell_type": "code",
      "source": [
        "# UNQ_C1 (UNIQUE CELL IDENTIFIER, DO NOT EDIT)\n",
        "def get_matrices(en_fr, french_vecs, english_vecs):\n",
        "    \"\"\"\n",
        "    Input:\n",
        "        en_fr: English to French dictionary\n",
        "        french_vecs: French words to their corresponding word embeddings.\n",
        "        english_vecs: English words to their corresponding word embeddings.\n",
        "    Output: \n",
        "        X: a matrix where the columns are the English embeddings.\n",
        "        Y: a matrix where the columns correspong to the French embeddings.\n",
        "        R: the projection matrix that minimizes the F norm ||X R -Y||^2.\n",
        "    \"\"\"\n",
        "\n",
        "    ### START CODE HERE (REPLACE INSTANCES OF 'None' with your code) ###\n",
        "\n",
        "    # X_l and Y_l are lists of the english and french word embeddings\n",
        "    X_l = list()\n",
        "    Y_l = list()\n",
        "\n",
        "    # get the english words (the keys in the dictionary) and store in a set()\n",
        "    english_set = english_vecs.keys()\n",
        "\n",
        "    # get the french words (keys in the dictionary) and store in a set()\n",
        "    french_set = french_vecs.keys()\n",
        "\n",
        "    # store the french words that are part of the english-french dictionary (these are the values of the dictionary)\n",
        "    french_words = set(en_fr.values())\n",
        "\n",
        "    # loop through all english, french word pairs in the english french dictionary\n",
        "    for en_word, fr_word in en_fr.items():\n",
        "\n",
        "        # check that the french word has an embedding and that the english word has an embedding\n",
        "        if fr_word in french_set and en_word in english_set:\n",
        "\n",
        "            # get the english embedding\n",
        "            en_vec = english_vecs[en_word]\n",
        "\n",
        "            # get the french embedding\n",
        "            fr_vec = french_vecs[fr_word]\n",
        "\n",
        "            # add the english embedding to the list\n",
        "            X_l.append(en_vec)\n",
        "\n",
        "            # add the french embedding to the list\n",
        "            Y_l.append(fr_vec)\n",
        "\n",
        "    # stack the vectors of X_l into a matrix X\n",
        "    X = np.vstack(X_l)\n",
        "\n",
        "    # stack the vectors of Y_l into a matrix Y\n",
        "    Y = np.vstack(Y_l)\n",
        "    ### END CODE HERE ###\n",
        "\n",
        "    return X, Y"
      ],
      "metadata": {
        "id": "G-m6hfRNb5Fx"
      },
      "execution_count": null,
      "outputs": []
    },
    {
      "cell_type": "markdown",
      "source": [
        "Now we will use function get_matrices() to obtain sets X_train and Y_train of English and French word embeddings into the corresponding vector space models."
      ],
      "metadata": {
        "id": "AqIAwhfbcEgu"
      }
    },
    {
      "cell_type": "code",
      "source": [
        "# UNQ_C2 (UNIQUE CELL IDENTIFIER, DO NOT EDIT)\n",
        "# You do not have to input any code in this cell, but it is relevant to grading, so please do not change anything\n",
        "\n",
        "# getting the training set:\n",
        "X_train, Y_train = get_matrices(\n",
        "    en_fr_train, fr_embeddings_subset, en_embeddings_subset)"
      ],
      "metadata": {
        "id": "ogsf61pZcHMP"
      },
      "execution_count": null,
      "outputs": []
    },
    {
      "cell_type": "markdown",
      "source": [
        "**2. Translations**\n",
        "\n",
        "![image.png](data:image/png;base64,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)\n",
        "\n",
        "\n",
        "**2.1 Translation as linear transformation of embeddings**\n",
        "\n",
        "Given dictionaries of English and French word embeddings you will create a transformation matrix R\n",
        "\n",
        "Given an English word embedding, , you can multiply  to get a new word embedding .\n",
        "Both  and  are row vectors.\n",
        "You can then compute the nearest neighbors to f in the french embeddings and recommend the word that is most similar to the transformed word embedding.\n",
        "\n",
        "**Describing translation as the minimization problem**\n",
        "\n",
        "Find a matrix R that minimizes the following equation.\n",
        "\n",
        "![image.png](data:image/png;base64,iVBORw0KGgoAAAANSUhEUgAAANAAAAAzCAYAAADmdIZYAAAChElEQVR4nO3dWW6EMBBFUXeUlbD/NbEV8mXJcnsqVwHl+B4pUkQzmOF5ADr5XNd1BQBTft4uALAyAgQoECBAgQABCgQIUCBAgAIBAhQIEKBAgAAFAgQoECBAgQABCgQIUCBAgAIBAhQI0M2O4yj+DhtvH9/fx7eIL60Tf55nc57e57X539IrZ1q+3j57QIAS8YQ9fYJqF006/TzPcBxHtWylIJXmfWsfo5F9zae19vttdOESXk/SfzXS2ngOTwgE6MvbJ6t2UVlfSIzHbBAgh/IQea+FNVqt0Ar7bToGkvS/W33xfD29fntt/nyZVvlq25CWZRWeyp+fsxDWCE8IRi1QWkvGn1IXoTQorB24dD2tdabrrS3fml5ax8i67+4C3XHxrNBtW6GMKZMWqHZB1WqROE16kYzMX2vRJNNH1/1kLTmzrVYl5k2psrM0EsyZbZp14aTPI0pWvRPjVSnwVkGUbNeD1i1xzfVlFqB8bDATpF7Xbyelbq5VRaJteVd1R0VsNgYKQX+g4w7GmnLXliff75HnJZCzOJaPvImwa42HNWiuN5MWqHXrFzK9Gy9xnhkjjwH+O+vezcfyvzPUxkG1cVHvGVBv3t4yo1q3tUvTR2+Bx+V773SN3p6XlL9VPkn5nyApe2nZkXfm8s9cBkhLcgBWMXqCMWc2QFZ4lQdQcBUg6QNZoCeOd/Lfrbj7PpB0jCGl6W9jPXefU3cBCuHenW69EEpLBylXNxGe0nvzmhBhlKsxELAaApSh9YGEyzHQU7w9UMR6tm6B0i/YhbDXKy2wsXWAAC0CVEFrhBHb3cbu/a2GfBrQsl2AAEt04QAFAgQoECBAgQABCgQIUCBAgMIfYIbbPr3qjG4AAAAASUVORK5CYII=)\n",
        "\n",
        "![image.png](data:image/png;base64,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)\n"
      ],
      "metadata": {
        "id": "YDcvBK5IcfcL"
      }
    },
    {
      "cell_type": "markdown",
      "source": [
        "![image.png](data:image/png;base64,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)"
      ],
      "metadata": {
        "id": "PBby5ZgFdY2C"
      }
    },
    {
      "cell_type": "markdown",
      "source": [
        "**[Optional] Detailed explanation why we use norm squared instead of the norm:**\n",
        "\n",
        "Click for optional details\n",
        "\n",
        "The norm is always nonnegative (we're summing up absolute values), and so is the square.\n",
        "\n",
        "When we take the square of all non-negative (positive or zero) numbers, the order of the data is preserved.\n",
        "\n",
        "For example, if 3 > 2, 3^2 > 2^2\n",
        "\n",
        "Using the norm or squared norm in gradient descent results in the same location of the minimum.\n",
        "\n",
        "Squaring cancels the square root in the Frobenius norm formula. Because of the chain rule, we would have to do more calculations if we had a square root in our expression for summation.\n",
        "\n",
        "Dividing the function value by the positive number doesn't change the optimum of the function, for the same reason as described above.\n",
        "\n",
        "We're interested in transforming English embedding into the French. Thus, it is more important to measure average loss per embedding than the loss for the entire dictionary (which increases as the number of words in the dictionary increases)."
      ],
      "metadata": {
        "id": "1nUNQ5J_dlLo"
      }
    },
    {
      "cell_type": "markdown",
      "source": [
        "Exercise 02: Implementing translation mechanism described in this section.\n",
        "Step 1: Computing the loss\n",
        "The loss function will be squared Frobenoius norm of the difference between matrix and its approximation, divided by the number of training examples .\n",
        "Its formula is:\n",
        "\n",
        "![image.png](data:image/png;base64,iVBORw0KGgoAAAANSUhEUgAAATAAAABNCAYAAAAhMDhYAAAE20lEQVR4nO3dbW7kKhCFYWc0K+n9r8lbyfxyRBjbfJjiVOH3ka6UZG4MTdunMQby9f39/b0BQEB/1BUAgF4EGICwCDAAYRFgAMIiwACERYABCIsAAxAWAQYgLAIMQFgEGICwCDAAYRFgAMIiwACERYBhWZ/P59fXd98r64J+f9UVACx8Pp9t3/efoNj3/efn+ffH14q6WJe9OnpgWFIaDHlIzA6Nu7rgGQIMU828fSr1cGb2gPKy6H2NQYBhCg/jPlehoayXuk2iI8Awxb7v7nocx7iUol7KslfyxZ74mCkfyAaeoAcGICwCDEBYBBiAsJjICsBU+qR19NgnAYawrKcglC42dfkRpE9aLdqLp5CYavRTyNGf7vlF1hJiivK9s14+xRgYQstnt484XssFpi4/AsvXQ4BhKaNuU44gaT2eunxvrMPYdYBFf/MsRWsby+1s1D0Wdfmp2eeF+jw0HwO7eoE1Ywulhbh3xz3799oTrfZ3R41XlE6Cq+OyFOU3q6ddte3soXzF+aCs37RB/NbKt540VwHzpMFqBpxHvimlxcb5vxFg/7N8ZO+9fM8BZlU3l7eQLS9W2TsZHV5XrspYYYzEkrptZu/4qvowK52HZ1sJjTIlwGa8kfn4yog308teUmmZuKfukarL9+Y4Z48xz7DTKFrGn1pfoPVGcXlwWIVX6ZhcHHWsPu29lu95KOF4mpr+N5LLW8he0W4bW8q8wm1kmbp91OWnrDaWVJ2HSwWYBfU2wOyf1UfdXuryc+nt2xE2noK1l/layBUaadtswysdJ8iNfhzfytuF2CLtFSg+fNTln9Xn7vuIpizmth4MT/9slYcTpceMvdot28Xqg+ppndUhoi6/t9yz3/F4bYXfjSJtVMv7cNUb5/GkOROhjqh39n56fI+lATZioqnHRvXqbbeQh+ODTT1PSj2xdkWmAWbZeHcnRKRgm3mCRWmT0dTng4fwvKrP2STTs1vH41jeyJ5CPnlT7363ZklDS2j0BExrGU/WaOLem8PrzN2E73wsOf2Z1+k6w9dCPr1wSz2ru2Ncld3ziVJ7rNLvtwzOl/7fFXqcM6nbZVb5tWsRt61uY8G7NbneVqe43JF1lQmpq5QRkbpdZpc/el1uT+dC0d5MZAXwo7f3peIywKzvt1fpGXk9qdRGt0vruagof9Q10zNLX3kehp8H1opgWZtFeLQcT13+CJHOXZc9sG2z64XNeHO8DNy+jbpN1OWPvmZqVhCoX7PLQXzEd/aIftuunxqPWk42SuvcJ3X5VtQBVfK6W0jYS+cTHfLH9zUTKFvLG6F33p+yfEuew2vbCDAYs36ild7mKKjLfzu3Y2CIqxROUXortZNDVeWDHhgCU1/g6vJBDwxGWm4TvQ8Uwy8CDNO0rNkDahBgcMNDT8xDgHqoQxQEGORGbvjXe/G3Lp/xXoe3YCIrkPDSC1TXIQp6YADCIsCwBA+3XtwCzsc8MISXL11Kly2VWGwCmH89qw5vRIAhvDQArr6eWYean2MMAgzL8tD78VCHlRFgWMLZkzvV32FU9QLfiGkUWMaTPbRKf/Gq5ThPtgUaUYc3IcCAgZjDNRfTKICHarZehg16YMAAhJcGAQYgLG4hAYRFgAEIiwADEBYBBiAsAgxAWAQYgLAIMABh/QMCSZehrb42pAAAAABJRU5ErkJggg==)\n",
        "\n",
        "where \n",
        " is value in th row and th column of the matrix . XR-Y\n",
        "\n",
        "Instructions: complete the **compute_loss()** function\n",
        "\n",
        "Compute the approximation of **Y** by matrix multiplying **X and R**\n",
        "Compute difference **XR - Y**\n",
        "Compute the squared Frobenius norm of the difference and divide it by .\n",
        "\n",
        "**Hints**\n",
        "\n",
        "Useful functions: Numpy dot , Numpy sum, Numpy square, Numpy norm\n",
        "Be careful about which operation is elementwise and which operation is a matrix multiplication.\n",
        "Try to use matrix operations instead of the numpy norm function. If you choose to use norm function, take care of extra arguments and that it's returning loss squared, and not the loss itself."
      ],
      "metadata": {
        "id": "DBjIuKlReTzg"
      }
    },
    {
      "cell_type": "code",
      "source": [
        "# UNQ_C3 (UNIQUE CELL IDENTIFIER, DO NOT EDIT)\n",
        "def compute_loss(X, Y, R):\n",
        "    '''\n",
        "    Inputs: \n",
        "        X: a matrix of dimension (m,n) where the columns are the English embeddings.\n",
        "        Y: a matrix of dimension (m,n) where the columns correspong to the French embeddings.\n",
        "        R: a matrix of dimension (n,n) - transformation matrix from English to French vector space embeddings.\n",
        "    Outputs:\n",
        "        L: a matrix of dimension (m,n) - the value of the loss function for given X, Y and R.\n",
        "    '''\n",
        "    ### START CODE HERE (REPLACE INSTANCES OF 'None' with your code) ###\n",
        "    # m is the number of rows in X\n",
        "    m = X.shape[0]\n",
        "    \n",
        "    # diff is XR - Y\n",
        "    diff = np.dot(X,R)-Y\n",
        "\n",
        "    # diff_squared is the element-wise square of the difference\n",
        "    diff_squared = diff**2\n",
        "\n",
        "    # sum_diff_squared is the sum of the squared elements\n",
        "    sum_diff_squared = np.sum(diff_squared)\n",
        "\n",
        "    # loss i the sum_diff_squared divided by the number of examples (m)\n",
        "    loss = sum_diff_squared/m\n",
        "    ### END CODE HERE ###\n",
        "    return loss"
      ],
      "metadata": {
        "id": "-eJzorOee1Uq"
      },
      "execution_count": null,
      "outputs": []
    },
    {
      "cell_type": "markdown",
      "source": [
        "**Exercise 03**\n",
        "\n",
        "Step 2: \n",
        "Computing the gradient of loss in respect to transform matrix R \n",
        "\n",
        "Calculate the gradient of the loss with respect to transform matrix R.\n",
        "\n",
        "The gradient is a matrix that encodes how much a small change in R affect the change in the loss function.\n",
        "\n",
        "The gradient gives us the direction in which we should decrease R to minimize the loss.\n",
        " is the number of training examples (number of rows in ).\n",
        "The formula for the gradient of the loss function  is:\n",
        " \n",
        " ![image.png](data:image/png;base64,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)\n",
        " \n",
        " \n",
        "Instructions: Complete the compute_gradient function below.\n",
        "\n",
        "**Hints**\n",
        "Transposing in numpy\n",
        "\n",
        "Finding out the dimensions of matrices in numpy\n",
        "\n",
        "Remember to use numpy.dot for matrix multiplication"
      ],
      "metadata": {
        "id": "HQMK_KF3fY3A"
      }
    },
    {
      "cell_type": "code",
      "source": [
        "# UNQ_C4 (UNIQUE CELL IDENTIFIER, DO NOT EDIT)\n",
        "def compute_gradient(X,Y,R):\n",
        "    '''\n",
        "    Inputs: \n",
        "        X: a matrix of dimension (m,n) where the columns are the English embeddings.\n",
        "        Y: a matrix of dimension (m,n) where the columns correspong to the French embeddings.\n",
        "        R: a matrix of dimension (n,n) - transformation matrix from English to French vector space embeddings.\n",
        "    Outputs:\n",
        "        g: a matrix of dimension (n,n) - gradient of the loss function L for given X, Y and R.\n",
        "    '''\n",
        "     ### START CODE HERE (REPLACE INSTANCES OF 'None' with your code) ###\n",
        "     # m is the number of rows in X\n",
        "    m = X.shape[0]\n",
        "\n",
        "     # gradient is X^T(XR - Y) * 2/m\n",
        "    gradient = np.dot(X.transpose(),np.dot(X,R)-Y)*(2/m)\n",
        "     ### END CODE HERE ###\n",
        "    return gradient"
      ],
      "metadata": {
        "id": "Pp0zXLojHTiM"
      },
      "execution_count": null,
      "outputs": []
    },
    {
      "cell_type": "markdown",
      "source": [
        "**Step 3: Finding the optimal R with gradient descent algorithm**\n",
        "\n",
        "**Gradient descent**\n",
        "\n",
        "Gradient descent is an iterative algorithm which is used in searching for the optimum of the function.\n",
        "\n",
        "Earlier, we've mentioned that the gradient of the loss with respect to the matrix encodes how much a tiny change in some coordinate of that matrix affect the change of loss function.\n",
        "Gradient descent uses that information to iteratively change matrix R until we reach a point where the loss is minimized.\n",
        "\n",
        "**Training with a fixed number of iterations**\n",
        "\n",
        "Most of the time we iterate for a fixed number of training steps rather than iterating until the loss falls below a threshold.\n",
        "\n",
        "**OPTIONAL: explanation for fixed number of iterations**\n",
        "\n",
        "**click here for detailed discussion**\n",
        "You cannot rely on training loss getting low -- what you really want is the validation loss to go down, or validation accuracy to go up. And indeed - in some cases people train until validation accuracy reaches a threshold, or -- commonly known as \"early stopping\" -- until the validation accuracy starts to go down, which is a sign of over-fitting.\n",
        "Why not always do \"early stopping\"? Well, mostly because well-regularized models on larger data-sets never stop improving. Especially in NLP, you can often continue training for months and the model will continue getting slightly and slightly better. This is also the reason why it's hard to just stop at a threshold -- unless there's an external customer setting the threshold, why stop, where do you put the threshold?\n",
        "Stopping after a certain number of steps has the advantage that you know how long your training will take - so you can keep some sanity and not train for months. You can then try to get the best performance within this time budget. Another advantage is that you can fix your learning rate schedule -- e.g., lower the learning rate at 10% before finish, and then again more at 1% before finishing. Such learning rate schedules help a lot, but are harder to do if you don't know how long you're training.\n",
        "\n",
        "Pseudocode:\n",
        "\n",
        "Calculate gradient  of the loss with respect to the matrix .\n",
        "Update  with the formula:\n",
        "                        ![image.png](data:image/png;base64,iVBORw0KGgoAAAANSUhEUgAAALcAAAAnCAYAAABNCNncAAAB8ElEQVR4nO2aW5KDIBBFzdSshP2via2YL6soA43N2+acr5iA4OXS0MTPeZ7nAWCQv9kdAOgF5gazYG4wC+YGs2BuMAvmBrNgbjAL5gazYG4wC+YGs/zX3sA5J/7uva9t4nWgyRp8Wr1b4pyLDto10DsOKJrMpcm2RIpUuw4gmsxn2J47t1TvCJr0pZm5c9Fox2iFJnOpTihzEJ1+sapJ+FxPJ27P/KOruUmcfrGqyT15Dq+lxDoscxxtdWl2FBiLRqsOYEnk1DxLD02kwZ89YVLm1dTx3jdf0ZpEbknwFRlhgtaaSIOvMYa2DzmtJGOnJl3JZCih+7Zk1eg9i9marDoePXTpnlDGCGd07o+Oq1zsu/t97uVz7WsYYQptQjZ7dXzSfixqj6LK3KUdvcx4GVtKRsLrWPLxZKLE2u9FqSY5DZ6UH03JPrnH3jpF9Tm39sinpK7mnitQo8nbCYNW+F2ufA/UkfvekVTSEEbn2O/adp6Un3laELturcmKSFvC1GpauuJqUZtb04maDkt1pf32DEZpsiq5sdLWacUr3ueWjsBin2FdRgaiZq+8apBOPVJldkB65tzpUareamgT5xqmmBv25T4he05GzA1mecWeG6AEzA1mwdxgFswNZsHcYBbMDWbB3GAWzA1mwdxgli9nu07zBbe5sAAAAABJRU5ErkJggg==)\n",
        "\n",
        "Where  is the learning rate, which is a scalar.\n",
        "\n",
        "Learning rate\n",
        "The learning rate or \"step size\"  is a coefficient which decides how much we want to change  in each step.\n",
        "\n",
        "If we change  too much, we could skip the optimum by taking too large of a step.\n",
        "\n",
        "If we make only small changes to , we will need many steps to reach the optimum.\n",
        "\n",
        "Learning rate  is used to control those changes.\n",
        "\n",
        "Values of  are chosen depending on the problem, and we'll use learning_rate as the default value for our algorithm.\n",
        "\n",
        "**Exercise 04**\n",
        "\n",
        "Instructions: Implement align_embeddings()\n",
        "\n",
        "**Hints**\n",
        "\n",
        "Use the 'compute_gradient()' function to get the gradient in each step"
      ],
      "metadata": {
        "id": "PWal7I0MIFnV"
      }
    },
    {
      "cell_type": "code",
      "source": [
        "# UNQ_C5 (UNIQUE CELL IDENTIFIER, DO NOT EDIT)\n",
        "def align_embeddings(X, Y, train_steps=100, learning_rate=0.0003):\n",
        "    '''\n",
        "    Inputs:\n",
        "        X: a matrix of dimension (m,n) where the columns are the English embeddings.\n",
        "        Y: a matrix of dimension (m,n) where the columns correspong to the French embeddings.\n",
        "        train_steps: positive int - describes how many steps will gradient descent algorithm do.\n",
        "        learning_rate: positive float - describes how big steps will  gradient descent algorithm do.\n",
        "    Outputs:\n",
        "        R: a matrix of dimension (n,n) - the projection matrix that minimizes the F norm ||X R -Y||^2\n",
        "    '''\n",
        "    np.random.seed(129)\n",
        "\n",
        "    # the number of columns in X is the number of dimensions for a word vector (e.g. 300)\n",
        "    # R is a square matrix with length equal to the number of dimensions in th  word embedding\n",
        "    R = np.random.rand(X.shape[1], X.shape[1])\n",
        "\n",
        "    for i in range(train_steps):\n",
        "        if i % 25 == 0:\n",
        "            print(f\"loss at iteration {i} is: {compute_loss(X, Y, R):.4f}\")\n",
        "        ### START CODE HERE (REPLACE INSTANCES OF 'None' with your code) ###\n",
        "        # use the function that you defined to compute the gradient\n",
        "        gradient = compute_gradient(X,Y,R)\n",
        "\n",
        "        # update R by subtracting the learning rate times gradient\n",
        "        R -= learning_rate * gradient\n",
        "        ### END CODE HERE ###\n",
        "    return R"
      ],
      "metadata": {
        "id": "cfZpSzHrI2rr"
      },
      "execution_count": null,
      "outputs": []
    },
    {
      "cell_type": "code",
      "source": [
        "# UNQ_C6 (UNIQUE CELL IDENTIFIER, DO NOT EDIT)\n",
        "# You do not have to input any code in this cell, but it is relevant to grading, so please do not change anything\n",
        "\n",
        "# Testing your implementation.\n",
        "np.random.seed(129)\n",
        "m = 10\n",
        "n = 5\n",
        "X = np.random.rand(m, n)\n",
        "Y = np.random.rand(m, n) * .1\n",
        "R = align_embeddings(X, Y)"
      ],
      "metadata": {
        "colab": {
          "base_uri": "https://localhost:8080/"
        },
        "id": "e__L_EiKI-kU",
        "outputId": "16b167b5-3e18-445b-c56b-332637b047aa"
      },
      "execution_count": null,
      "outputs": [
        {
          "output_type": "stream",
          "name": "stdout",
          "text": [
            "loss at iteration 0 is: 3.7242\n",
            "loss at iteration 25 is: 3.6283\n",
            "loss at iteration 50 is: 3.5350\n",
            "loss at iteration 75 is: 3.4442\n"
          ]
        }
      ]
    },
    {
      "cell_type": "markdown",
      "source": [
        "**Calculate transformation matrix R**\n",
        "\n",
        "Using those the training set, find the transformation matrix  by calling the function align_embeddings().\n",
        "\n",
        "NOTE: The code cell below will take a few minutes to fully execute (~3 mins)"
      ],
      "metadata": {
        "id": "BcffKpO9Ji5v"
      }
    },
    {
      "cell_type": "code",
      "source": [
        "# UNQ_C7 (UNIQUE CELL IDENTIFIER, DO NOT EDIT)\n",
        "# You do not have to input any code in this cell, but it is relevant to grading, so please do not change anything\n",
        "R_train = align_embeddings(X_train, Y_train, train_steps=400, learning_rate=0.8)"
      ],
      "metadata": {
        "colab": {
          "base_uri": "https://localhost:8080/"
        },
        "id": "gS5hEY9HJlT9",
        "outputId": "f1953b8c-0618-4ac9-8afd-1b1248bd6654"
      },
      "execution_count": null,
      "outputs": [
        {
          "output_type": "stream",
          "name": "stdout",
          "text": [
            "loss at iteration 0 is: 963.0146\n",
            "loss at iteration 25 is: 97.8292\n",
            "loss at iteration 50 is: 26.8329\n",
            "loss at iteration 75 is: 9.7893\n",
            "loss at iteration 100 is: 4.3776\n",
            "loss at iteration 125 is: 2.3281\n",
            "loss at iteration 150 is: 1.4480\n",
            "loss at iteration 175 is: 1.0338\n",
            "loss at iteration 200 is: 0.8251\n",
            "loss at iteration 225 is: 0.7145\n",
            "loss at iteration 250 is: 0.6534\n",
            "loss at iteration 275 is: 0.6185\n",
            "loss at iteration 300 is: 0.5981\n",
            "loss at iteration 325 is: 0.5858\n",
            "loss at iteration 350 is: 0.5782\n",
            "loss at iteration 375 is: 0.5735\n"
          ]
        }
      ]
    },
    {
      "cell_type": "markdown",
      "source": [
        "**2.2 Testing the translation**\n",
        "\n",
        "**k-Nearest neighbors algorithm **\n",
        "\n",
        "k-Nearest neighbors algorithm\n",
        "\n",
        "k-NN is a method which takes a vector as input and finds the other vectors in the dataset that are closest to it.\n",
        "The 'k' is the number of \"nearest neighbors\" to find (e.g. k=2 finds the closest two neighbors).\n",
        "\n",
        "**Searching for the translation embedding**\n",
        "\n",
        "Since we're approximating the translation function from English to French embeddings by a linear transformation matrix R, most of the time we won't get the exact embedding of a French word when we transform embedding  of some particular English word into the French embedding space.\n",
        "\n",
        "This is where -NN becomes really useful! By using 1-NN with eR  as input, we can search for an embedding f(as a row) in the matrix Y which is the closest to the transformed vector eR\n",
        "\n",
        "**Cosine similarity**\n",
        "\n",
        "Cosine similarity between vectors  w and v calculated as the cosine of the angle between them. The formula is\n",
        "\n",
        "![image.png](data:image/png;base64,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)\n",
        "\n",
        "**Note: Distance and similarity are pretty much opposite things.**\n",
        "\n",
        "We can obtain distance metric from cosine similarity, but the cosine similarity can't be used directly as the distance metric.\n",
        "\n",
        "When the cosine similarity increases (towards ), the \"distance\" between the two vectors decreases (towards ).\n",
        "\n",
        "We can define the cosine distance between  and  as\n",
        "\n",
        "![image.png](data:image/png;base64,iVBORw0KGgoAAAANSUhEUgAAAPAAAAAsCAYAAABbqTXGAAACjElEQVR4nO3bS3LCMBBFUZLKRvD+1+StOIOUUkKl/wf3Q/fMwEZuJD0sY/i6rut6AJD0fXcBAPoRYEAYAQaEEWBAGAEGhBFgQBgBBoQRYEAYAQaEEWBAGAEGhBFgQBgBBoQRYEAYAQaEyQb4OI67S3hhrZ7dWRuPVfV8zfhDf1jceZ6jTRaPt/oYPazWtRur47Ciriln4PM8/wuz2HG7Oo7D3JkIc8ktoa1+uj4efx9eFgKzc3B3mx9yAUaZvyLCZ5MKsOVPV9xvx/kxFGB/qWah81JLx9FlS/j6XHtWltHWuLHJ9U3tdn/O9dQQe37EnfOjK8CuI9xSzcKEXVWPa7dlkPDKHxv3OLdPLGj+9p4x/tT58dP7Qv9se3eIc2f/kbpS7c54vz2vv3uF0yPWh+HjcJ+a/m0ZA8X5Uas5wBaWyiG/npoJ09ruivdsrQ+d1onX+j5GxsLV1nrLUnF+1Oo+A/sshhp9Zo5jzYdB6Zo3Vk8Y5J01BbhnWRAbBL+d3LbY9tZjjUrVP3qcHZbQs5eSo+OgND9qNQW4ZkD84v0L/NRyo7RthP96a6sES7W8mz8WuTlVWvrOqGNl++8w7TaSexwLY+unpDPSoaVlVu+vlVQH+i61Z+FwHpX2GfUp86P5Gjj2ZYJ/W2lEeAuh5wuSWG2xtvxj5Y4TTkCF8KZuadxVe6kPS2NV205LHR8zP65Fns9n1fOp/VLbcvv3sN4e2lgfz9ntveWnlLXLEX4cAbSZ8n/glNTyJLXkqP0GetZ1xuzrFa6Pbdhpfky5D5ySu5ZpeX4FwoYclfmx9Ay8krUOtlbP7qyNx6p6ZAMMQOz/wABeEWBAGAEGhBFgQBgBBoQRYEAYAQaE/QJAFn79I09RJwAAAABJRU5ErkJggg==)\n",
        "\n",
        "**Exercise 05: Complete the function nearest_neighbor()**\n",
        "\n",
        "**Inputs:**\n",
        "\n",
        "Vector v,\n",
        "A set of possible nearest neighbors candidates\n",
        "k nearest neighbors to find.\n",
        "The distance metric should be based on cosine similarity.\n",
        "cosine_similarity function is already implemented and imported for you. It's arguments are two vectors and it returns the cosine of the angle between them.\n",
        "Iterate over rows in candidates, and save the result of similarities between current row and vector v in a python list. Take care that similarities are in the same order as row vectors of candidates.\n",
        "Now you can use numpy argsort to sort the indices for the rows of candidates.\n",
        "\n",
        "**Hints**\n",
        "numpy.argsort sorts values from most negative to most positive (smallest to largest)\n",
        "The candidates that are nearest to 'v' should have the highest cosine similarity\n",
        "To get the last element of a list 'tmp', the notation is tmp[-1:]"
      ],
      "metadata": {
        "id": "BIptPMbLJvv2"
      }
    },
    {
      "cell_type": "code",
      "source": [
        "# UNQ_C8 (UNIQUE CELL IDENTIFIER, DO NOT EDIT)\n",
        "def nearest_neighbor(v, candidates, k=1):\n",
        "    \"\"\"\n",
        "    Input:\n",
        "      - v, the vector you are going find the nearest neighbor for\n",
        "      - candidates: a set of vectors where we will find the neighbors\n",
        "      - k: top k nearest neighbors to find\n",
        "    Output:\n",
        "      - k_idx: the indices of the top k closest vectors in sorted form\n",
        "    \"\"\"\n",
        "    ### START CODE HERE (REPLACE INSTANCES OF 'None' with your code) ###\n",
        "    similarity_l = []\n",
        "\n",
        "    # for each candidate vector...\n",
        "    for row in candidates:\n",
        "        # get the cosine similarity\n",
        "        cos_similarity = cosine_similarity(v,row)\n",
        "\n",
        "        # append the similarity to the list\n",
        "        similarity_l.append(cos_similarity)\n",
        "        \n",
        "    # sort the similarity list and get the indices of the sorted list\n",
        "    sorted_ids = np.argsort(similarity_l)\n",
        "\n",
        "    # get the indices of the k most similar candidate vectors\n",
        "    k_idx = sorted_ids[-k:]\n",
        "    ### END CODE HERE ###\n",
        "    return k_idx"
      ],
      "metadata": {
        "id": "xAOCjuPrPyCQ"
      },
      "execution_count": null,
      "outputs": []
    },
    {
      "cell_type": "code",
      "source": [
        "# UNQ_C9 (UNIQUE CELL IDENTIFIER, DO NOT EDIT)\n",
        "# You do not have to input any code in this cell, but it is relevant to grading, so please do not change anything\n",
        "\n",
        "# Test your implementation:\n",
        "v = np.array([1, 0, 1])\n",
        "candidates = np.array([[1, 0, 5], [-2, 5, 3], [2, 0, 1], [6, -9, 5], [9, 9, 9]])\n",
        "print(candidates[nearest_neighbor(v, candidates, 3)])"
      ],
      "metadata": {
        "colab": {
          "base_uri": "https://localhost:8080/"
        },
        "id": "HfDJcGEiP233",
        "outputId": "678548b2-e26b-4bb7-e3ab-dec6f31b1664"
      },
      "execution_count": null,
      "outputs": [
        {
          "output_type": "stream",
          "name": "stdout",
          "text": [
            "[[9 9 9]\n",
            " [1 0 5]\n",
            " [2 0 1]]\n"
          ]
        }
      ]
    },
    {
      "cell_type": "markdown",
      "source": [
        "**Test your translation and compute its accuracy**\n",
        "\n",
        "**Exercise 06:** Complete the function test_vocabulary which takes in English embedding matrix , French embedding matrix  and the  matrix and returns the accuracy of translations from  to  by .\n",
        "\n",
        "Iterate over transformed English word embeddings and check if the closest French word vector belongs to French word that is the actual translation.\n",
        "Obtain an index of the closest French embedding by using nearest_neighbor (with argument k=1), and compare it to the index of the English embedding you have just transformed.\n",
        "Keep track of the number of times you get the correct translation.\n",
        "Calculate accuracy as\n",
        "\n",
        "![image.png](data:image/png;base64,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)\n"
      ],
      "metadata": {
        "id": "ckdawT9-QMlk"
      }
    },
    {
      "cell_type": "code",
      "source": [
        "# UNQ_C10 (UNIQUE CELL IDENTIFIER, DO NOT EDIT)\n",
        "def test_vocabulary(X, Y, R):\n",
        "    '''\n",
        "    Input:\n",
        "        X: a matrix where the columns are the English embeddings.\n",
        "        Y: a matrix where the columns correspong to the French embeddings.\n",
        "        R: the transform matrix which translates word embeddings from\n",
        "        English to French word vector space.\n",
        "    Output:\n",
        "        accuracy: for the English to French capitals\n",
        "    '''\n",
        "\n",
        "    ### START CODE HERE (REPLACE INSTANCES OF 'None' with your code) ###\n",
        "    # The prediction is X times R\n",
        "    pred = np.dot(X,R)\n",
        "\n",
        "    # initialize the number correct to zero\n",
        "    num_correct = 0\n",
        "\n",
        "    # loop through each row in pred (each transformed embedding)\n",
        "    for i in range(len(pred)):\n",
        "        # get the index of the nearest neighbor of pred at row 'i'; also pass in the candidates in Y\n",
        "        pred_idx = nearest_neighbor(pred[i],Y)\n",
        "\n",
        "        # if the index of the nearest neighbor equals the row of i... \\\n",
        "        if pred_idx == i:\n",
        "            # increment the number correct by 1.\n",
        "            num_correct += 1\n",
        "\n",
        "    # accuracy is the number correct divided by the number of rows in 'pred' (also number of rows in X)\n",
        "    accuracy = num_correct / len(pred)\n",
        "\n",
        "    ### END CODE HERE ###\n",
        "\n",
        "    return accuracy"
      ],
      "metadata": {
        "id": "qcfLQUUbQWN1"
      },
      "execution_count": null,
      "outputs": []
    },
    {
      "cell_type": "markdown",
      "source": [
        "Let's see how is your translation mechanism working on the unseen data:"
      ],
      "metadata": {
        "id": "7m0ZgLzyQa18"
      }
    },
    {
      "cell_type": "code",
      "source": [
        "X_val, Y_val = get_matrices(en_fr_test, fr_embeddings_subset, en_embeddings_subset)"
      ],
      "metadata": {
        "id": "ihqoyLasQdic"
      },
      "execution_count": null,
      "outputs": []
    },
    {
      "cell_type": "code",
      "source": [
        "# UNQ_C11 (UNIQUE CELL IDENTIFIER, DO NOT EDIT)\n",
        "# You do not have to input any code in this cell, but it is relevant to grading, so please do not change anything\n",
        "\n",
        "acc = test_vocabulary(X_val, Y_val, R_train)  # this might take a minute or two\n",
        "print(f\"accuracy on test set is {acc:.3f}\")"
      ],
      "metadata": {
        "colab": {
          "base_uri": "https://localhost:8080/"
        },
        "id": "wxJPPFUsQhzD",
        "outputId": "dbec131a-456c-446f-bb15-2137346d226e"
      },
      "execution_count": null,
      "outputs": [
        {
          "output_type": "stream",
          "name": "stdout",
          "text": [
            "accuracy on test set is 0.557\n"
          ]
        }
      ]
    },
    {
      "cell_type": "markdown",
      "source": [
        "You managed to translate words from one language to another language without ever seing them with almost 56% accuracy by using some basic linear algebra and learning a mapping of words from one language to another!"
      ],
      "metadata": {
        "id": "L-4vLe0PQr48"
      }
    },
    {
      "cell_type": "markdown",
      "source": [
        "**3. LSH and document search**\n",
        "\n",
        "In this part of the assignment, you will implement a more efficient version of k-nearest neighbors using locality sensitive hashing. You will then apply this to document search.\n",
        "\n",
        "Process the tweets and represent each tweet as a vector (represent a document with a vector embedding).\n",
        "Use locality sensitive hashing and k nearest neighbors to find tweets that are similar to a given tweet."
      ],
      "metadata": {
        "id": "lFvaceFLQwxm"
      }
    },
    {
      "cell_type": "code",
      "source": [
        "import nltk\n",
        "nltk.download('twitter_samples')\n",
        "\n",
        "# get the positive and negative tweets\n",
        "all_positive_tweets = twitter_samples.strings('positive_tweets.json')\n",
        "all_negative_tweets = twitter_samples.strings('negative_tweets.json')\n",
        "all_tweets = all_positive_tweets + all_negative_tweets"
      ],
      "metadata": {
        "colab": {
          "base_uri": "https://localhost:8080/"
        },
        "id": "xFatnPXIQ0gs",
        "outputId": "26f34519-d05b-48e5-8728-9c652fb7b0c5"
      },
      "execution_count": null,
      "outputs": [
        {
          "output_type": "stream",
          "name": "stdout",
          "text": [
            "[nltk_data] Downloading package twitter_samples to /root/nltk_data...\n",
            "[nltk_data]   Unzipping corpora/twitter_samples.zip.\n"
          ]
        }
      ]
    },
    {
      "cell_type": "markdown",
      "source": [
        "**3.1 Getting the document embeddings**\n",
        "\n",
        "**Bag-of-words (BOW) document models**\n",
        "\n",
        "Text documents are sequences of words.\n",
        "\n",
        "The ordering of words makes a difference. For example, sentences \"Apple pie is better than pepperoni pizza.\" and \"Pepperoni pizza is better than apple pie\" have opposite meanings due to the word ordering.\n",
        "\n",
        "However, for some applications, ignoring the order of words can allow us to train an efficient and still effective model.\n",
        "\n",
        "This approach is called Bag-of-words document model."
      ],
      "metadata": {
        "id": "3uz_TKcnRDpV"
      }
    },
    {
      "cell_type": "markdown",
      "source": [
        "**Document embeddings**\n",
        "\n",
        "Document embedding is created by summing up the embeddings of all words in the document.\n",
        "\n",
        "If we don't know the embedding of some word, we can ignore that word."
      ],
      "metadata": {
        "id": "l5xI1ebhRNd0"
      }
    },
    {
      "cell_type": "markdown",
      "source": [
        "Exercise 07: Complete the get_document_embedding() function.\n",
        "\n",
        "The function **get_document_embedding**() encodes entire document as a \"document\" embedding.\n",
        "\n",
        "It takes in a docoument (as a string) and a dictionary, **en_embeddings**\n",
        "\n",
        "It processes the document, and looks up the corresponding embedding of each word.\n",
        "\n",
        "It then sums them up and returns the sum of all word vectors of that processed tweet."
      ],
      "metadata": {
        "id": "CGzQZ9ayRTHs"
      }
    },
    {
      "cell_type": "markdown",
      "source": [
        "**Hints**\n",
        "\n",
        "You can handle missing words easier by using the `get()` method of the python dictionary instead of the bracket notation (i.e. \"[ ]\"). See more about it here\n",
        "\n",
        "The default value for missing word should be the zero vector. Numpy will broadcast simple 0 scalar into a vector of zeros during the summation.\n",
        "\n",
        "Alternatively, skip the addition if a word is not in the dictonary.\n",
        "\n",
        "You can use your `process_tweet()` function which allows you to process the tweet. The function just takes in a tweet and returns a list of words."
      ],
      "metadata": {
        "id": "8EXfpK73RalU"
      }
    },
    {
      "cell_type": "code",
      "source": [
        "# UNQ_C12 (UNIQUE CELL IDENTIFIER, DO NOT EDIT)\n",
        "def get_document_embedding(tweet, en_embeddings): \n",
        "    '''\n",
        "    Input:\n",
        "        - tweet: a string\n",
        "        - en_embeddings: a dictionary of word embeddings\n",
        "    Output:\n",
        "        - doc_embedding: sum of all word embeddings in the tweet\n",
        "    '''\n",
        "    doc_embedding = np.zeros(300)\n",
        "\n",
        "    ### START CODE HERE (REPLACE INSTANCES OF 'None' with your code) ###\n",
        "    # process the document into a list of words (process the tweet)\n",
        "    processed_doc = process_tweet(tweet)\n",
        "    for word in processed_doc:\n",
        "        # add the word embedding to the running total for the document embedding\n",
        "        doc_embedding += en_embeddings.get(word,0)\n",
        "    ### END CODE HERE ###\n",
        "    return doc_embedding"
      ],
      "metadata": {
        "id": "UZgGuQulRnSY"
      },
      "execution_count": null,
      "outputs": []
    },
    {
      "cell_type": "code",
      "source": [
        "# UNQ_C13 (UNIQUE CELL IDENTIFIER, DO NOT EDIT)\n",
        "# You do not have to input any code in this cell, but it is relevant to grading, so please do not change anything\n",
        "\n",
        "# testing your function\n",
        "custom_tweet = \"RT @Twitter @chapagain Hello There! Have a great day. :) #good #morning http://chapagain.com.np\"\n",
        "tweet_embedding = get_document_embedding(custom_tweet, en_embeddings_subset)\n",
        "tweet_embedding[-5:]"
      ],
      "metadata": {
        "colab": {
          "base_uri": "https://localhost:8080/"
        },
        "id": "pYbiVd3gRrmU",
        "outputId": "71717f7e-38b3-41d3-a340-80e345053839"
      },
      "execution_count": null,
      "outputs": [
        {
          "output_type": "execute_result",
          "data": {
            "text/plain": [
              "array([-0.00268555, -0.15378189, -0.55761719, -0.07216644, -0.32263184])"
            ]
          },
          "metadata": {},
          "execution_count": 57
        }
      ]
    },
    {
      "cell_type": "markdown",
      "source": [
        "**Exercise 08**\n",
        "\n",
        "**Store all document vectors into a dictionary**\n",
        "\n",
        "Now, let's store all the tweet embeddings into a dictionary. Implement get_document_vecs()"
      ],
      "metadata": {
        "id": "6AFk41rYSOTt"
      }
    },
    {
      "cell_type": "code",
      "source": [
        "# UNQ_C14 (UNIQUE CELL IDENTIFIER, DO NOT EDIT)\n",
        "def get_document_vecs(all_docs, en_embeddings):\n",
        "    '''\n",
        "    Input:\n",
        "        - all_docs: list of strings - all tweets in our dataset.\n",
        "        - en_embeddings: dictionary with words as the keys and their embeddings as the values.\n",
        "    Output:\n",
        "        - document_vec_matrix: matrix of tweet embeddings.\n",
        "        - ind2Doc_dict: dictionary with indices of tweets in vecs as keys and their embeddings as the values.\n",
        "    '''\n",
        "\n",
        "    # the dictionary's key is an index (integer) that identifies a specific tweet\n",
        "    # the value is the document embedding for that document\n",
        "    ind2Doc_dict = {}\n",
        "\n",
        "    # this is list that will store the document vectors\n",
        "    document_vec_l = []\n",
        "\n",
        "    for i, doc in enumerate(all_docs):\n",
        "\n",
        "        ### START CODE HERE (REPLACE INSTANCES OF 'None' with your code) ###\n",
        "        # get the document embedding of the tweet\n",
        "        doc_embedding = get_document_embedding(doc,en_embeddings)\n",
        "\n",
        "        # save the document embedding into the ind2Tweet dictionary at index i\n",
        "        ind2Doc_dict[i] = doc_embedding\n",
        "\n",
        "        # append the document embedding to the list of document vectors\n",
        "        document_vec_l.append(doc_embedding)\n",
        "\n",
        "        ### END CODE HERE ###\n",
        "\n",
        "    # convert the list of document vectors into a 2D array (each row is a document vector)\n",
        "    document_vec_matrix = np.vstack(document_vec_l)\n",
        "\n",
        "    return document_vec_matrix, ind2Doc_dict"
      ],
      "metadata": {
        "id": "ADLr9Vm2SU4H"
      },
      "execution_count": null,
      "outputs": []
    },
    {
      "cell_type": "code",
      "source": [
        "document_vecs, ind2Tweet = get_document_vecs(all_tweets, en_embeddings_subset)"
      ],
      "metadata": {
        "id": "ib5_au-rSaKt"
      },
      "execution_count": null,
      "outputs": []
    },
    {
      "cell_type": "code",
      "source": [
        "# UNQ_C15 (UNIQUE CELL IDENTIFIER, DO NOT EDIT)\n",
        "# You do not have to input any code in this cell, but it is relevant to grading, so please do not change anything\n",
        "\n",
        "print(f\"length of dictionary {len(ind2Tweet)}\")\n",
        "print(f\"shape of document_vecs {document_vecs.shape}\")"
      ],
      "metadata": {
        "colab": {
          "base_uri": "https://localhost:8080/"
        },
        "id": "ufdMyHtZSeQE",
        "outputId": "31375ba1-dc8e-4341-e4b0-846c7ca9c565"
      },
      "execution_count": null,
      "outputs": [
        {
          "output_type": "stream",
          "name": "stdout",
          "text": [
            "length of dictionary 10000\n",
            "shape of document_vecs (10000, 300)\n"
          ]
        }
      ]
    },
    {
      "cell_type": "markdown",
      "source": [
        "**3.2 Looking up the tweets**\n",
        "\n",
        "Now you have a vector of dimension (m,d) where m is the number of tweets (10,000) and d is the dimension of the embeddings (300). Now you will input a tweet, and use cosine similarity to see which tweet in our corpus is similar to your tweet."
      ],
      "metadata": {
        "id": "CjFKV-ssSgyk"
      }
    },
    {
      "cell_type": "code",
      "source": [
        "my_tweet = 'i am sad'\n",
        "process_tweet(my_tweet)\n",
        "tweet_embedding = get_document_embedding(my_tweet, en_embeddings_subset)"
      ],
      "metadata": {
        "id": "Gdf6lqJBSoe9"
      },
      "execution_count": null,
      "outputs": []
    },
    {
      "cell_type": "code",
      "source": [
        "# UNQ_C16 (UNIQUE CELL IDENTIFIER, DO NOT EDIT)\n",
        "# You do not have to input any code in this cell, but it is relevant to grading, so please do not change anything\n",
        "\n",
        "# this gives you a similar tweet as your input.\n",
        "# this implementation is vectorized...\n",
        "idx = np.argmax(cosine_similarity(document_vecs, tweet_embedding))\n",
        "print(all_tweets[idx])"
      ],
      "metadata": {
        "colab": {
          "base_uri": "https://localhost:8080/"
        },
        "id": "qoK4nH3fSr89",
        "outputId": "3c5c748d-7a02-4d7a-8424-1a8a9db7dd83"
      },
      "execution_count": null,
      "outputs": [
        {
          "output_type": "stream",
          "name": "stdout",
          "text": [
            "@zoeeylim sad sad sad kid :( it's ok I help you watch the match HAHAHAHAHA\n"
          ]
        }
      ]
    },
    {
      "cell_type": "markdown",
      "source": [
        "**3.3 Finding the most similar tweets with LSH**\n",
        "\n",
        "You will now implement locality sensitive hashing (LSH) to identify the most similar tweet.\n",
        "\n",
        "Instead of looking at all 10,000 vectors, you can just search a subset to find its nearest neighbors.\n",
        "Let's say your data points are plotted like this:"
      ],
      "metadata": {
        "id": "c1HCCX6UTskH"
      }
    },
    {
      "cell_type": "code",
      "source": [
        "N_VECS = len(all_tweets)       # This many vectors.\n",
        "N_DIMS = len(ind2Tweet[1])     # Vector dimensionality.\n",
        "print(f\"Number of vectors is {N_VECS} and each has {N_DIMS} dimensions.\")"
      ],
      "metadata": {
        "colab": {
          "base_uri": "https://localhost:8080/"
        },
        "id": "2DFH57SATws1",
        "outputId": "657945f9-f332-4d7e-ed66-699f5599f558"
      },
      "execution_count": 63,
      "outputs": [
        {
          "output_type": "stream",
          "name": "stdout",
          "text": [
            "Number of vectors is 10000 and each has 300 dimensions.\n"
          ]
        }
      ]
    },
    {
      "cell_type": "markdown",
      "source": [
        "Choosing the number of planes\n",
        "\n",
        "![image.png](data:image/png;base64,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)"
      ],
      "metadata": {
        "id": "SfLdHtYqT2tE"
      }
    },
    {
      "cell_type": "code",
      "source": [
        "# The number of planes. We use log2(625) to have ~16 vectors/bucket.\n",
        "N_PLANES = 10\n",
        "# Number of times to repeat the hashing to improve the search.\n",
        "N_UNIVERSES = 25"
      ],
      "metadata": {
        "id": "D7m4mIxhT_Nk"
      },
      "execution_count": 64,
      "outputs": []
    },
    {
      "cell_type": "markdown",
      "source": [
        "**3.4 Getting the hash number for a vector**\n",
        "\n",
        "For each vector, we need to get a unique number associated to that vector in order to assign it to a \"hash bucket\".\n",
        "\n",
        "**Hyperlanes in vector spaces**\n",
        "In -dimensional vector space, the hyperplane is a regular plane. In  2 dimensional vector space, the hyperplane is a line.\n",
        "Generally, the hyperplane is subspace which has dimension 1 lower than the original vector space has.\n",
        "A hyperplane is uniquely defined by its normal vector.\n",
        "Normal vector n of the plane pie  is the vector to which all vectors in the plane pie are orthogonal (perpendicular in 3 dimensional case)."
      ],
      "metadata": {
        "id": "uEfWC-a1UEsU"
      }
    },
    {
      "cell_type": "markdown",
      "source": [
        "**Using Hyperplanes to split the vector space**\n",
        "\n",
        "We can use a hyperplane to split the vector space into  parts.\n",
        "\n",
        "All vectors whose dot product with a plane's normal vector is positive are on one side of the plane.\n",
        "All vectors whose dot product with the plane's normal vector is negative are on the other side of the plane."
      ],
      "metadata": {
        "id": "ng9FVuyUUdPJ"
      }
    },
    {
      "cell_type": "markdown",
      "source": [
        "**Encoding hash buckets**\n",
        "\n",
        "For a vector, we can take its dot product with all the planes, then encode this information to assign the vector to a single hash bucket.\n",
        "When the vector is pointing to the opposite side of the hyperplane than normal, encode it by 0.\n",
        "Otherwise, if the vector is on the same side as the normal vector, encode it by 1.\n",
        "If you calculate the dot product with each plane in the same order for every vector, you've encoded each vector's unique hash ID as a binary number, like [0, 1, 1, ... 0]."
      ],
      "metadata": {
        "id": "CVFadx7-UhzG"
      }
    },
    {
      "cell_type": "markdown",
      "source": [
        "**Exercise 09: Implementing hash buckets**\n",
        "\n",
        "We've initialized hash table **hashes** for you. It is list of **N_UNIVERSES** matrices, each describes its own hash table. Each matrix has **N_DIMS** rows and **N_PLANES** columns. Every column of that matrix is a N_DIMS-dimensional normal vector for each of N_PLANES hyperplanes which are used for creating buckets of the particular hash table.\n",
        "\n",
        "Exercise: Your task is to complete the function **hash_value_of_vector** which places vector **v** in the correct hash bucket.\n",
        "\n",
        "First multiply your vector v, with a corresponding plane. This will give you a vector of dimension .(1,N_planes)\n",
        "You will then convert every element in that vector to 0 or 1.\n",
        "You create a hash vector by doing the following: if the element is negative, it becomes a 0, otherwise you change it to a 1.\n",
        "You then compute the unique number for the vector by iterating over N_PLANES\n",
        "Then you multiply \n",
        " times the corresponding bit (0 or 1).\n",
        "You will then store that sum in the variable hash_value.\n",
        "\n",
        "Intructions: Create a hash for the vector in the function below. Use this formula:\n",
        "\n",
        "![image.png](data:image/png;base64,iVBORw0KGgoAAAANSUhEUgAAAOQAAABQCAYAAAAJDNnuAAAD0UlEQVR4nO3cUZacIBCFYScnG9H9r8mtdJ48MUQEpKq42P/3kpkeA4peQVr9+Xw+nwWAhF+jVwDAXwQSEEIgASEEEhBCIAEhBBIQQiABIQQSEEIgASEEEhBCIAEhBNLZtm3Ltm3Zz6/+1lo+3oNAOtv3fVmW/4NzfH7828oizNBDIJ1t2/Y4dHf2fXcpF2MRyCD7vv/To3kFFXMjkIAQAhko7SWB1O/RK/BmrcPSmrAyzH03AjlALqiEDQxZgxE63KGHdBAxm5rWsSyE/Q1+eOscoIMhKyCEQAJCCCQghEACQphldeR9Vw6zqu/DLKuzcygtApR7jGsEbpC3RyADWIfyXGZPed/6/aXydnMNGcxqGHs8D9lbnuJB6U15mwlkAMUDoGe4+YYnVlSfvOkeso6+phldfwuPoetRbutTJT1hPB/MI9rbcp+rXQebXUOO3rDR9dfyCmXrOuTqrl0/hfa2WAeF7TgzGbKO7vpH1//UiPUuhfG4Nj16QdW2tbwWV9pGriGDKZ2Nz64OylJwYc8skKN30Oj6W5zXVeXsXBqepsu29J41yz1ph5n2eS3TO3Var49qJwZarmta6leh0uPk1qH37QZHgD163Fn3eY7pLGt65i9NHKQvEb5aPi3n6vfW+lVEH0xPZkYt2/GqrCflW+9zpRsFzHrI1o1Jl2/pUS3qrynTuq6rco76FU8g1uuU9pS95au1lwWTQHqfcUs9ycw7VTWUnm9ct+iRnhxDKm17R36WdYZGfJtZDt4Ws2yPy+NXuR3aOjw8fy9WKrum/tyyrax3bmnSI5LVdV5N+d7Xp1P6dFjXtfh5uszd73f/z3oZJVHruK7rbV017dlbf2/Zrfu8pvxSu0RyfUC5dNZqfV1i5D2bUSLXseauFK/vRe9eDu3dA9dcs6ocJy6BvGvkqwa6Wvbq4KltNKUh4B2ldfSYwT6XXQqDxYxrWkbuZ2U8oDzIqDAqnQSi1IzUVNpEfpYV6KEUthoEcgDrg6Tluk/t6QZvpftu1QLLW+eCeYRR6YBSNFP70EMGUgnPt/WSOSr744xJnSBew9SeMhUPyCiq204PGcD6ezbL3u0be0rlbaaHdOa98xXP8niOHtIRYUQrekhACD0kIIRAAkK4MWAib3uhE/5HDxns6UTP1UuM8T4EMhg9G+4QSEAIgQzCEBM1mNQJkHuVRE1IGeJ+FwIZYPbXSiAOgRyIHhIpAhkk9yIv4Ix7WQP1PsPIjQHvRyABIXztAQghkIAQAgkIIZCAEAIJCCGQgBACCQghkIAQAgkIIZCAEAIJCPkDatzQN4u9Ol4AAAAASUVORK5CYII=)\n",
        "\n",
        "**Create the sets of planes**\n",
        "\n",
        "Create multiple (25) sets of planes (the planes that divide up the region).\n",
        "You can think of these as 25 separate ways of dividing up the vector space with a different set of planes.\n",
        "Each element of this list contains a matrix with 300 rows (the word vector have 300 dimensions), and 10 columns (there are 10 planes in each \"universe\")."
      ],
      "metadata": {
        "id": "6eG5QQEUUnNF"
      }
    },
    {
      "cell_type": "code",
      "source": [
        "np.random.seed(0)\n",
        "planes_l = [np.random.normal(size=(N_DIMS, N_PLANES))\n",
        "            for _ in range(N_UNIVERSES)]"
      ],
      "metadata": {
        "id": "R0rGnLhGVLMV"
      },
      "execution_count": 65,
      "outputs": []
    },
    {
      "cell_type": "markdown",
      "source": [
        "**Hints**\n",
        "\n",
        "numpy.squeeze() removes unused dimensions from an array; for instance, it converts a (10,1) 2D array into a (10,) 1D array"
      ],
      "metadata": {
        "id": "gwssgXLxVPSM"
      }
    },
    {
      "cell_type": "code",
      "source": [
        "# UNQ_C17 (UNIQUE CELL IDENTIFIER, DO NOT EDIT)\n",
        "def hash_value_of_vector(v, planes):\n",
        "    \"\"\"Create a hash for a vector; hash_id says which random hash to use.\n",
        "    Input:\n",
        "        - v:  vector of tweet. It's dimension is (1, N_DIMS)\n",
        "        - planes: matrix of dimension (N_DIMS, N_PLANES) - the set of planes that divide up the region\n",
        "    Output:\n",
        "        - res: a number which is used as a hash for your vector\n",
        "\n",
        "    \"\"\"\n",
        "    ### START CODE HERE (REPLACE INSTANCES OF 'None' with your code) ###\n",
        "    # for the set of planes,\n",
        "    # calculate the dot product between the vector and the matrix containing the planes\n",
        "    # remember that planes has shape (300, 10)\n",
        "    # The dot product will have the shape (1,10)\n",
        "    dot_product = np.dot(v,planes)\n",
        "\n",
        "    # get the sign of the dot product (1,10) shaped vector\n",
        "    sign_of_dot_product = np.sign(dot_product)\n",
        "\n",
        "    # set h to be false (eqivalent to 0 when used in operations) if the sign is negative,\n",
        "    # and true (equivalent to 1) if the sign is positive (1,10) shaped vector\n",
        "    h = sign_of_dot_product>=0\n",
        "\n",
        "    # remove extra un-used dimensions (convert this from a 2D to a 1D array)\n",
        "    h = np.squeeze(h)\n",
        "\n",
        "    # initialize the hash value to 0\n",
        "    hash_value = 0\n",
        "\n",
        "    n_planes = planes.shape[1]\n",
        "    for i in range(n_planes):\n",
        "        # increment the hash value by 2^i * h_i\n",
        "        hash_value += np.power(2,i)*h[i]\n",
        "    ### END CODE HERE ###\n",
        "\n",
        "    # cast hash_value as an integer\n",
        "    hash_value = int(hash_value)\n",
        "\n",
        "    return hash_value"
      ],
      "metadata": {
        "id": "baXrK2V_VYx0"
      },
      "execution_count": 66,
      "outputs": []
    },
    {
      "cell_type": "code",
      "source": [
        "# UNQ_C18 (UNIQUE CELL IDENTIFIER, DO NOT EDIT)\n",
        "# You do not have to input any code in this cell, but it is relevant to grading, so please do not change anything\n",
        "\n",
        "np.random.seed(0)\n",
        "idx = 0\n",
        "planes = planes_l[idx]  # get one 'universe' of planes to test the function\n",
        "vec = np.random.rand(1, 300)\n",
        "print(f\" The hash value for this vector,\",\n",
        "      f\"and the set of planes at index {idx},\",\n",
        "      f\"is {hash_value_of_vector(vec, planes)}\")"
      ],
      "metadata": {
        "colab": {
          "base_uri": "https://localhost:8080/"
        },
        "id": "LPx0XNfgVft1",
        "outputId": "52e37d89-2825-4174-c42d-1762c046d7a1"
      },
      "execution_count": 67,
      "outputs": [
        {
          "output_type": "stream",
          "name": "stdout",
          "text": [
            " The hash value for this vector, and the set of planes at index 0, is 768\n"
          ]
        }
      ]
    },
    {
      "cell_type": "markdown",
      "source": [
        "**3.5 Creating a hash table**\n",
        "\n",
        "Exercise 10\n",
        "Given that you have a unique number for each vector (or tweet), You now want to create a hash table. You need a hash table, so that given a hash_id, you can quickly look up the corresponding vectors. This allows you to reduce your search by a significant amount of time."
      ],
      "metadata": {
        "id": "xGDCVVOaWNCv"
      }
    },
    {
      "cell_type": "markdown",
      "source": [
        "We have given you the make_hash_table function, which maps the tweet vectors to a bucket and stores the vector there. It returns the hash_table and the id_table. The id_table allows you know which vector in a certain bucket corresponds to what tweet.\n",
        "\n",
        "Hints\n",
        "a dictionary comprehension, similar to a list comprehension, looks like this: `{i:0 for i in range(10)}`, where the key is 'i' and the value is zero for all key-value pairs."
      ],
      "metadata": {
        "id": "IsfdByciWQvg"
      }
    },
    {
      "cell_type": "code",
      "source": [
        "# UNQ_C19 (UNIQUE CELL IDENTIFIER, DO NOT EDIT)\n",
        "# This is the code used to create a hash table: feel free to read over it\n",
        "def make_hash_table(vecs, planes):\n",
        "    \"\"\"\n",
        "    Input:\n",
        "        - vecs: list of vectors to be hashed.\n",
        "        - planes: the matrix of planes in a single \"universe\", with shape (embedding dimensions, number of planes).\n",
        "    Output:\n",
        "        - hash_table: dictionary - keys are hashes, values are lists of vectors (hash buckets)\n",
        "        - id_table: dictionary - keys are hashes, values are list of vectors id's\n",
        "                            (it's used to know which tweet corresponds to the hashed vector)\n",
        "    \"\"\"\n",
        "    ### START CODE HERE (REPLACE INSTANCES OF 'None' with your code) ###\n",
        "\n",
        "    # number of planes is the number of columns in the planes matrix\n",
        "    num_of_planes = planes.shape[1]\n",
        "\n",
        "    # number of buckets is 2^(number of planes)\n",
        "    num_buckets = 2**num_of_planes\n",
        "\n",
        "    # create the hash table as a dictionary.\n",
        "    # Keys are integers (0,1,2.. number of buckets)\n",
        "    # Values are empty lists\n",
        "    hash_table = {i:[] for i in range(num_buckets)}\n",
        "\n",
        "    # create the id table as a dictionary.\n",
        "    # Keys are integers (0,1,2... number of buckets)\n",
        "    # Values are empty lists\n",
        "    id_table = {i:[] for i in range(num_buckets)}\n",
        "\n",
        "    # for each vector in 'vecs'\n",
        "    for i, v in enumerate(vecs):\n",
        "        # calculate the hash value for the vector\n",
        "        h = hash_value_of_vector(v,planes)\n",
        "\n",
        "        # store the vector into hash_table at key h,\n",
        "        # by appending the vector v to the list at key h\n",
        "        hash_table[h].append(v)\n",
        "\n",
        "        # store the vector's index 'i' (each document is given a unique integer 0,1,2...)\n",
        "        # the key is the h, and the 'i' is appended to the list at key h\n",
        "        id_table[h].append(i)\n",
        "\n",
        "    ### END CODE HERE ###\n",
        "\n",
        "    return hash_table, id_table\n"
      ],
      "metadata": {
        "id": "-YZnObXsWVGm"
      },
      "execution_count": 68,
      "outputs": []
    },
    {
      "cell_type": "code",
      "source": [
        "# UNQ_C20 (UNIQUE CELL IDENTIFIER, DO NOT EDIT)\n",
        "# You do not have to input any code in this cell, but it is relevant to grading, so please do not change anything\n",
        "\n",
        "np.random.seed(0)\n",
        "planes = planes_l[0]  # get one 'universe' of planes to test the function\n",
        "vec = np.random.rand(1, 300)\n",
        "tmp_hash_table, tmp_id_table = make_hash_table(document_vecs, planes)\n",
        "\n",
        "print(f\"The hash table at key 0 has {len(tmp_hash_table[0])} document vectors\")\n",
        "print(f\"The id table at key 0 has {len(tmp_id_table[0])}\")\n",
        "print(f\"The first 5 document indices stored at key 0 of are {tmp_id_table[0][0:5]}\")"
      ],
      "metadata": {
        "colab": {
          "base_uri": "https://localhost:8080/"
        },
        "id": "Ww84K5dmWbam",
        "outputId": "2820a78b-67e7-4a7f-9c07-fc8c45885b88"
      },
      "execution_count": 69,
      "outputs": [
        {
          "output_type": "stream",
          "name": "stdout",
          "text": [
            "The hash table at key 0 has 3 document vectors\n",
            "The id table at key 0 has 3\n",
            "The first 5 document indices stored at key 0 of are [3276, 3281, 3282]\n"
          ]
        }
      ]
    },
    {
      "cell_type": "markdown",
      "source": [
        "**3.6 Creating all hash tables**\n",
        "\n",
        "You can now hash your vectors and store them in a hash table that would allow you to quickly look up and search for similar vectors. Run the cell below to create the hashes. By doing so, you end up having several tables which have all the vectors. Given a vector, you then identify the buckets in all the tables. You can then iterate over the buckets and consider much fewer vectors. The more buckets you use, the more accurate your lookup will be, but also the longer it will take."
      ],
      "metadata": {
        "id": "PiU2fERFWh2w"
      }
    },
    {
      "cell_type": "code",
      "source": [
        "# Creating the hashtables\n",
        "hash_tables = []\n",
        "id_tables = []\n",
        "for universe_id in range(N_UNIVERSES):  # there are 25 hashes\n",
        "    print('working on hash universe #:', universe_id)\n",
        "    planes = planes_l[universe_id]\n",
        "    hash_table, id_table = make_hash_table(document_vecs, planes)\n",
        "    hash_tables.append(hash_table)\n",
        "    id_tables.append(id_table)"
      ],
      "metadata": {
        "colab": {
          "base_uri": "https://localhost:8080/"
        },
        "id": "Em6i0JrGWmCX",
        "outputId": "0128b4e8-a2bd-4e2d-8b82-f164e81c08d7"
      },
      "execution_count": 70,
      "outputs": [
        {
          "output_type": "stream",
          "name": "stdout",
          "text": [
            "working on hash universe #: 0\n",
            "working on hash universe #: 1\n",
            "working on hash universe #: 2\n",
            "working on hash universe #: 3\n",
            "working on hash universe #: 4\n",
            "working on hash universe #: 5\n",
            "working on hash universe #: 6\n",
            "working on hash universe #: 7\n",
            "working on hash universe #: 8\n",
            "working on hash universe #: 9\n",
            "working on hash universe #: 10\n",
            "working on hash universe #: 11\n",
            "working on hash universe #: 12\n",
            "working on hash universe #: 13\n",
            "working on hash universe #: 14\n",
            "working on hash universe #: 15\n",
            "working on hash universe #: 16\n",
            "working on hash universe #: 17\n",
            "working on hash universe #: 18\n",
            "working on hash universe #: 19\n",
            "working on hash universe #: 20\n",
            "working on hash universe #: 21\n",
            "working on hash universe #: 22\n",
            "working on hash universe #: 23\n",
            "working on hash universe #: 24\n"
          ]
        }
      ]
    },
    {
      "cell_type": "markdown",
      "source": [
        "**Exercise 11**\n",
        "\n",
        "Implement approximate K nearest neighbors using locality sensitive hashing, to search for documents that are similar to a given document at the index doc_id.\n",
        "\n",
        "Inputs\n",
        "doc_id is the index into the document list all_tweets.\n",
        "\n",
        "v is the document vector for the tweet in all_tweets at index doc_id.\n",
        "\n",
        "planes_l is the list of planes (the global variable created earlier).\n",
        "\n",
        "k is the number of nearest neighbors to search for.\n",
        "\n",
        "num_universes_to_use: to save time, we can use fewer than the total number of available universes. By default, it's set to N_UNIVERSES, which is  for this assignment.\n",
        "\n",
        "The approximate_knn function finds a subset of candidate vectors that are in the same \"hash bucket\" as the input vector 'v'. Then it performs the usual k-nearest neighbors search on this subset (instead of searching through all 10,000 tweets).\n",
        "\n",
        "**Hints**\n",
        "\n",
        "There are many dictionaries used in this function. Try to print out planes_l, hash_tables, id_tables to understand how they are structured, what the keys represent, and what the values contain.\n",
        "To remove an item from a list, use `.remove()`\n",
        "To append to a list, use `.append()`\n",
        "To add to a set, use `.add()`"
      ],
      "metadata": {
        "id": "kKbW1zScWr51"
      }
    },
    {
      "cell_type": "code",
      "source": [
        "# UNQ_C21 (UNIQUE CELL IDENTIFIER, DO NOT EDIT)\n",
        "# This is the code used to do the fast nearest neighbor search. Feel free to go over it\n",
        "def approximate_knn(doc_id, v, planes_l, k=1, num_universes_to_use=N_UNIVERSES):\n",
        "    \"\"\"Search for k-NN using hashes.\"\"\"\n",
        "    assert num_universes_to_use <= N_UNIVERSES\n",
        "\n",
        "    # Vectors that will be checked as possible nearest neighbor\n",
        "    vecs_to_consider_l = list()\n",
        "\n",
        "    # list of document IDs\n",
        "    ids_to_consider_l = list()\n",
        "\n",
        "    # create a set for ids to consider, for faster checking if a document ID already exists in the set\n",
        "    ids_to_consider_set = set()\n",
        "\n",
        "    # loop through the universes of planes\n",
        "    for universe_id in range(num_universes_to_use):\n",
        "\n",
        "        # get the set of planes from the planes_l list, for this particular universe_id\n",
        "        planes = planes_l[universe_id]\n",
        "\n",
        "        # get the hash value of the vector for this set of planes\n",
        "        hash_value = hash_value_of_vector(v, planes)\n",
        "\n",
        "        # get the hash table for this particular universe_id\n",
        "        hash_table = hash_tables[universe_id]\n",
        "\n",
        "        # get the list of document vectors for this hash table, where the key is the hash_value\n",
        "        document_vectors_l = hash_table[hash_value]\n",
        "\n",
        "        # get the id_table for this particular universe_id\n",
        "        id_table = id_tables[universe_id]\n",
        "\n",
        "        # get the subset of documents to consider as nearest neighbors from this id_table dictionary\n",
        "        new_ids_to_consider = id_table[hash_value]\n",
        "\n",
        "        \n",
        "        ### START CODE HERE (REPLACE INSTANCES OF 'None' with your code) ###\n",
        "\n",
        "        # remove the id of the document that we're searching\n",
        "        if doc_id in new_ids_to_consider:\n",
        "            new_ids_to_consider.remove(doc_id)\n",
        "            print(f\"removed doc_id {doc_id} of input vector from new_ids_to_search\")\n",
        "\n",
        "        # loop through the subset of document vectors to consider\n",
        "        for i, new_id in enumerate(new_ids_to_consider):\n",
        "\n",
        "            # if the document ID is not yet in the set ids_to_consider...\n",
        "            if new_id not in ids_to_consider_set:\n",
        "                # access document_vectors_l list at index i to get the embedding\n",
        "                # then append it to the list of vectors to consider as possible nearest neighbors\n",
        "                document_vector_at_i = document_vectors_l[i]\n",
        "\n",
        "                # append the new_id (the index for the document) to the list of ids to consider\n",
        "                vecs_to_consider_l.append(document_vector_at_i)\n",
        "                ids_to_consider_l.append(new_id)\n",
        "\n",
        "                # also add the new_id to the set of ids to consider\n",
        "                # (use this to check if new_id is not already in the IDs to consider)\n",
        "                ids_to_consider_set.add(new_id)\n",
        "\n",
        "        ### END CODE HERE ###\n",
        "\n",
        "    # Now run k-NN on the smaller set of vecs-to-consider.\n",
        "    print(\"Fast considering %d vecs\" % len(vecs_to_consider_l))\n",
        "\n",
        "    # convert the vecs to consider set to a list, then to a numpy array\n",
        "    vecs_to_consider_arr = np.array(vecs_to_consider_l)\n",
        "\n",
        "    # call nearest neighbors on the reduced list of candidate vectors\n",
        "    nearest_neighbor_idx_l = nearest_neighbor(v, vecs_to_consider_arr, k=k)\n",
        "\n",
        "        # Use the nearest neighbor index list as indices into the ids to consider\n",
        "    # create a list of nearest neighbors by the document ids\n",
        "    nearest_neighbor_ids = [ids_to_consider_l[idx]\n",
        "                            for idx in nearest_neighbor_idx_l]\n",
        "\n",
        "    return nearest_neighbor_ids\n"
      ],
      "metadata": {
        "id": "jIYcGyODYMjC"
      },
      "execution_count": 71,
      "outputs": []
    },
    {
      "cell_type": "code",
      "source": [
        "#document_vecs, ind2Tweet\n",
        "doc_id = 0\n",
        "doc_to_search = all_tweets[doc_id]\n",
        "vec_to_search = document_vecs[doc_id]"
      ],
      "metadata": {
        "id": "mp3w995ZYU78"
      },
      "execution_count": 72,
      "outputs": []
    },
    {
      "cell_type": "code",
      "source": [
        "# UNQ_C22 (UNIQUE CELL IDENTIFIER, DO NOT EDIT)\n",
        "# You do not have to input any code in this cell, but it is relevant to grading, so please do not change anything\n",
        "\n",
        "# Sample\n",
        "nearest_neighbor_ids = approximate_knn(\n",
        "    doc_id, vec_to_search, planes_l, k=3, num_universes_to_use=5)"
      ],
      "metadata": {
        "colab": {
          "base_uri": "https://localhost:8080/"
        },
        "id": "BJRWAq0GYXMV",
        "outputId": "cf219e51-21aa-48f7-ae19-9efe1a6fee64"
      },
      "execution_count": 73,
      "outputs": [
        {
          "output_type": "stream",
          "name": "stdout",
          "text": [
            "removed doc_id 0 of input vector from new_ids_to_search\n",
            "removed doc_id 0 of input vector from new_ids_to_search\n",
            "removed doc_id 0 of input vector from new_ids_to_search\n",
            "removed doc_id 0 of input vector from new_ids_to_search\n",
            "removed doc_id 0 of input vector from new_ids_to_search\n",
            "Fast considering 77 vecs\n"
          ]
        }
      ]
    },
    {
      "cell_type": "code",
      "source": [
        "print(f\"Nearest neighbors for document {doc_id}\")\n",
        "print(f\"Document contents: {doc_to_search}\")\n",
        "print(\"\")\n",
        "\n",
        "for neighbor_id in nearest_neighbor_ids:\n",
        "    print(f\"Nearest neighbor at document id {neighbor_id}\")\n",
        "    print(f\"document contents: {all_tweets[neighbor_id]}\")"
      ],
      "metadata": {
        "colab": {
          "base_uri": "https://localhost:8080/"
        },
        "id": "9RyLGhpUYaC9",
        "outputId": "98ede462-3d1a-4edf-b293-ce8f9a0b00c6"
      },
      "execution_count": 74,
      "outputs": [
        {
          "output_type": "stream",
          "name": "stdout",
          "text": [
            "Nearest neighbors for document 0\n",
            "Document contents: #FollowFriday @France_Inte @PKuchly57 @Milipol_Paris for being top engaged members in my community this week :)\n",
            "\n",
            "Nearest neighbor at document id 2140\n",
            "document contents: @PopsRamjet come one, every now and then is not so bad :)\n",
            "Nearest neighbor at document id 701\n",
            "document contents: With the top cutie of Bohol :) https://t.co/Jh7F6U46UB\n",
            "Nearest neighbor at document id 51\n",
            "document contents: #FollowFriday @France_Espana @reglisse_menthe @CCI_inter for being top engaged members in my community this week :)\n"
          ]
        }
      ]
    },
    {
      "cell_type": "markdown",
      "source": [
        "**4 Conclusion**\n",
        "\n",
        "Congratulations - Now you can look up vectors that are similar to the encoding of your tweet using LSH!"
      ],
      "metadata": {
        "id": "nmM_lyGUYdb9"
      }
    }
  ]
}
