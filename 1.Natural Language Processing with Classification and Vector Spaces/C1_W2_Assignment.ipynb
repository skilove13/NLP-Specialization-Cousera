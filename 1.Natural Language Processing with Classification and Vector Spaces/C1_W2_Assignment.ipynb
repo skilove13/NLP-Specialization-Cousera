{
  "nbformat": 4,
  "nbformat_minor": 0,
  "metadata": {
    "colab": {
      "name": "C1_W2_Assignment.ipynb",
      "provenance": [],
      "collapsed_sections": [],
      "authorship_tag": "ABX9TyPRG4VhYJ+CXx0OWjpS792F",
      "include_colab_link": true
    },
    "kernelspec": {
      "name": "python3",
      "display_name": "Python 3"
    },
    "language_info": {
      "name": "python"
    }
  },
  "cells": [
    {
      "cell_type": "markdown",
      "metadata": {
        "id": "view-in-github",
        "colab_type": "text"
      },
      "source": [
        "<a href=\"https://colab.research.google.com/github/skilove13/NLP-Specialization-Cousera/blob/main/C1_W2_Assignment.ipynb\" target=\"_parent\"><img src=\"https://colab.research.google.com/assets/colab-badge.svg\" alt=\"Open In Colab\"/></a>"
      ]
    },
    {
      "cell_type": "markdown",
      "source": [
        "**Assignment 2: Naive Bayes**\n",
        "\n",
        "Welcome to week two of this specialization. You will learn about Naive Bayes. Concretely, you will be using Naive Bayes for sentiment analysis on tweets. Given a tweet, you will decide if it has a positive sentiment or a negative one. Specifically you will:\n",
        "\n",
        "-Train a naive bayes model on a sentiment analysis task\n",
        "\n",
        "-Test using your model\n",
        "\n",
        "-Compute ratios of positive words to negative words\n",
        "\n",
        "-Do some error analysis\n",
        "\n",
        "-Predict on your own tweet\n",
        "\n",
        "You may already be familiar with Naive Bayes and its justification in terms of conditional probabilities and independence.\n",
        "\n",
        "In this week's lectures and assignments we used the ratio of probabilities between positive and negative sentiments.\n",
        "This approach gives us simpler formulas for these 2-way classification tasks.\n",
        "Load the cell below to import some packages. You may want to browse the documentation of unfamiliar libraries and functions."
      ],
      "metadata": {
        "id": "wtlbiGza_Fgs"
      }
    },
    {
      "cell_type": "code",
      "source": [
        "#from utils \n",
        "import re\n",
        "import string\n",
        "\n",
        "from nltk.corpus import stopwords\n",
        "from nltk.stem import PorterStemmer\n",
        "from nltk.tokenize import TweetTokenizer\n",
        "\n",
        "from matplotlib.patches import Ellipse\n",
        "import matplotlib.transforms as transforms\n",
        "\n",
        "import numpy as np # Library for linear algebra and math utils\n",
        "\n",
        "\n",
        "def process_tweet(tweet):\n",
        "    '''\n",
        "    Input:\n",
        "        tweet: a string containing a tweet\n",
        "    Output:\n",
        "        tweets_clean: a list of words containing the processed tweet\n",
        "\n",
        "    '''\n",
        "    stemmer = PorterStemmer()\n",
        "    stopwords_english = stopwords.words('english')\n",
        "    # remove stock market tickers like $GE\n",
        "    tweet = re.sub(r'\\$\\w*', '', tweet)\n",
        "    # remove old style retweet text \"RT\"\n",
        "    tweet = re.sub(r'^RT[\\s]+', '', tweet)\n",
        "    # remove hyperlinks\n",
        "    tweet = re.sub(r'https?:\\/\\/.*[\\r\\n]*', '', tweet)\n",
        "    # remove hashtags\n",
        "    # only removing the hash # sign from the word\n",
        "    tweet = re.sub(r'#', '', tweet)\n",
        "    # tokenize tweets\n",
        "    tokenizer = TweetTokenizer(preserve_case=False, strip_handles=True,\n",
        "                               reduce_len=True)\n",
        "    tweet_tokens = tokenizer.tokenize(tweet)\n",
        "\n",
        "    tweets_clean = []\n",
        "    for word in tweet_tokens:\n",
        "        if (word not in stopwords_english and  # remove stopwords\n",
        "            word not in string.punctuation):  # remove punctuation\n",
        "            # tweets_clean.append(word)\n",
        "            stem_word = stemmer.stem(word)  # stemming word\n",
        "            tweets_clean.append(stem_word)\n",
        "\n",
        "    return tweets_clean\n",
        "\n",
        "\n",
        "def test_lookup(func):\n",
        "    freqs = {('sad', 0): 4,\n",
        "             ('happy', 1): 12,\n",
        "             ('oppressed', 0): 7}\n",
        "    word = 'happy'\n",
        "    label = 1\n",
        "    if func(freqs, word, label) == 12:\n",
        "        return 'SUCCESS!!'\n",
        "    return 'Failed Sanity Check!'"
      ],
      "metadata": {
        "id": "uoNJTBSM_W_k"
      },
      "execution_count": 1,
      "outputs": []
    },
    {
      "cell_type": "code",
      "source": [
        "import pdb\n",
        "from nltk.corpus import stopwords, twitter_samples\n",
        "import numpy as np \n",
        "import pandas as pd\n",
        "import nltk\n",
        "import string\n",
        "from nltk.tokenize import TweetTokenizer\n",
        "from os import getcwd \n",
        "\n",
        "#If you are running this notebook in your local computer, don't forget to download the twitter samples and stopwords from nltk.\n",
        "nltk.download('stopwords')\n",
        "nltk.download('twitter_samples')"
      ],
      "metadata": {
        "colab": {
          "base_uri": "https://localhost:8080/"
        },
        "id": "QfEd3CjwAJg1",
        "outputId": "8697afce-8aa4-4406-9eaf-9acae39cd90c"
      },
      "execution_count": 4,
      "outputs": [
        {
          "output_type": "stream",
          "name": "stdout",
          "text": [
            "[nltk_data] Downloading package stopwords to /root/nltk_data...\n",
            "[nltk_data]   Package stopwords is already up-to-date!\n",
            "[nltk_data] Downloading package twitter_samples to /root/nltk_data...\n",
            "[nltk_data]   Package twitter_samples is already up-to-date!\n"
          ]
        },
        {
          "output_type": "execute_result",
          "data": {
            "text/plain": [
              "True"
            ]
          },
          "metadata": {},
          "execution_count": 4
        }
      ]
    },
    {
      "cell_type": "code",
      "source": [
        "!pwd\n",
        "\n",
        "# get the sets of positive and negative tweets\n",
        "all_positive_tweets = twitter_samples.strings('positive_tweets.json')\n",
        "all_negative_tweets = twitter_samples.strings('negative_tweets.json')\n",
        "\n",
        "#split the data into two pieces, one for training and one for testing (validation set)\n",
        "test_pos = all_positive_tweets[4000:]\n",
        "train_pos = all_positive_tweets[:4000]\n",
        "test_neg = all_negative_tweets[4000:]\n",
        "train_neg = all_negative_tweets[:4000]\n",
        "\n",
        "train_x = train_pos + train_neg \n",
        "test_x = test_pos + test_neg \n",
        "\n",
        "# avoid assumptions about the length of all_positive_tweets\n",
        "train_y = np.append(np.ones(len(train_pos)), np.zeros(len(train_neg)))\n",
        "test_y = np.append(np.ones(len(test_pos)), np.zeros(len(test_neg)))\n"
      ],
      "metadata": {
        "colab": {
          "base_uri": "https://localhost:8080/"
        },
        "id": "1J0uAQRqAp_t",
        "outputId": "69ad25cd-3e8a-4131-a5ff-d1e44e93d6c6"
      },
      "execution_count": 9,
      "outputs": [
        {
          "output_type": "stream",
          "name": "stdout",
          "text": [
            "/content\n"
          ]
        }
      ]
    },
    {
      "cell_type": "markdown",
      "source": [
        "**Part 1: Process the Data**\n",
        "\n",
        "For any machine learning project, once you've gathered the data, the first step is to process it to make useful inputs to your model.\n",
        "\n",
        "Remove noise: You will first want to remove noise from your data -- that is, remove words that don't tell you much about the content. These include all common words like 'I, you, are, is, etc...' that would not give us enough information on the sentiment.\n",
        "We'll also remove stock market tickers, retweet symbols, hyperlinks, and hashtags because they can not tell you a lot of information on the sentiment.\n",
        "You also want to remove all the punctuation from a tweet. The reason for doing this is because we want to treat words with or without the punctuation as the same word, instead of treating \"happy\", \"happy?\", \"happy!\", \"happy,\" and \"happy.\" as different words.\n",
        "Finally you want to use stemming to only keep track of one variation of each word. In other words, we'll treat \"motivation\", \"motivated\", and \"motivate\" similarly by grouping them within the same stem of \"motiv-\".\n",
        "We have given you the function process_tweet() that does this for you."
      ],
      "metadata": {
        "id": "Xbv2FXeQCCSF"
      }
    },
    {
      "cell_type": "code",
      "source": [
        "custom_tweet = \"RT @Twitter @chapagain Hello There! Have a great day. :) #good #morning http://chapagain.com.np\"\n",
        "\n",
        "#print cleaned tweet \n",
        "print(process_tweet(custom_tweet))"
      ],
      "metadata": {
        "colab": {
          "base_uri": "https://localhost:8080/"
        },
        "id": "SL2-ohaKCIyM",
        "outputId": "6dfec086-2a7c-4344-b347-73fc602ae227"
      },
      "execution_count": 10,
      "outputs": [
        {
          "output_type": "stream",
          "name": "stdout",
          "text": [
            "['hello', 'great', 'day', ':)', 'good', 'morn']\n"
          ]
        }
      ]
    },
    {
      "cell_type": "markdown",
      "source": [
        "**Part 1.1 Implementing your helper functions**\n",
        "\n",
        "To help train your naive bayes model, you will need to build a dictionary where the keys are a (word, label) tuple and the values are the corresponding frequency. Note that the labels we'll use here are 1 for positive and 0 for negative.\n",
        "\n",
        "You will also implement a lookup() helper function that takes in the freqs dictionary, a word, and a label (1 or 0) and returns the number of times that word and label tuple appears in the collection of tweets.\n",
        "\n",
        "For example: given a list of tweets [\"i am rather excited\", \"you are rather happy\"] and the label 1, the function will return a dictionary that contains the following key-value pairs:\n",
        "\n",
        "{ (\"rather\", 1): 2 (\"happi\", 1) : 1 (\"excit\", 1) : 1 }\n",
        "\n",
        "Notice how for each word in the given string, the same label 1 is assigned to each word.\n",
        "Notice how the words \"i\" and \"am\" are not saved, since it was removed by process_tweet because it is a stopword.\n",
        "Notice how the word \"rather\" appears twice in the list of tweets, and so its count value is 2.\n",
        "\n",
        "Instructions\n",
        "Create a function count_tweets() that takes a list of tweets as input, cleans all of them, and returns a dictionary.\n",
        "\n",
        "-The key in the dictionary is a tuple containing the stemmed word and its class label, e.g. (\"happi\",1).\n",
        "\n",
        "-The value the number of times this word appears in the given collection of tweets (an integer).\n",
        "\n",
        "**Hints**\n",
        "\n",
        "-Please use the `process_tweet` function that was imported above, and then store the words in their respective dictionaries and sets.\n",
        "\n",
        "-You may find it useful to use the `zip` function to match each element in `tweets` with each element in `ys`.\n",
        "\n",
        "-Remember to check if the key in the dictionary exists before adding that key to the dictionary, or incrementing its value.\n",
        "\n",
        "-Assume that the `result` dictionary that is input will contain clean key-value pairs (you can assume that the values will be integers that can be incremented). It is good practice to check the datatype before incrementing the value, but it's not required here."
      ],
      "metadata": {
        "id": "wOAE-1W-C_XE"
      }
    },
    {
      "cell_type": "code",
      "source": [
        "# UNQ_C1 (UNIQUE CELL IDENTIFIER, DO NOT EDIT)\n",
        "\n",
        "def count_tweets(result, tweets, ys) : \n",
        "    '''\n",
        "    Input:\n",
        "        result: a dictionary that will be used to map each pair to its frequency\n",
        "        tweets: a list of tweets\n",
        "        ys: a list corresponding to the sentiment of each tweet (either 0 or 1)\n",
        "    Output:\n",
        "        result: a dictionary mapping each pair to its frequency\n",
        "    '''\n",
        "     ### START CODE HERE (REPLACE INSTANCES OF 'None' with your code) ###\n",
        "    for y, tweet in zip(ys, tweets):\n",
        "        for word in process_tweet(tweet):\n",
        "            # define the key, which is the word and label tuple\n",
        "            pair = (word,y)\n",
        "\n",
        "            # if the key exists in the dictionary, increment the count\n",
        "            if pair in result:\n",
        "                result[pair] += 1\n",
        "\n",
        "            # else, if the key is new, add it to the dictionary and set the count to 1\n",
        "            else:\n",
        "                result[pair] = 1\n",
        "    ### END CODE HERE ###\n",
        "\n",
        "    return result"
      ],
      "metadata": {
        "id": "WYHgRRBBDjC0"
      },
      "execution_count": 11,
      "outputs": []
    },
    {
      "cell_type": "code",
      "source": [
        "# Testing your function \n",
        "\n",
        "result = {}\n",
        "tweets = ['i am happy', 'i am tricked', 'i am sad', 'i am tired', 'i am tired']\n",
        "ys = [1, 0, 0, 0, 0]\n",
        "count_tweets(result, tweets, ys)"
      ],
      "metadata": {
        "colab": {
          "base_uri": "https://localhost:8080/"
        },
        "id": "zrbz_gEAFVJM",
        "outputId": "6adc3ef4-bcbc-4334-cd84-e79c83bb1b69"
      },
      "execution_count": 12,
      "outputs": [
        {
          "output_type": "execute_result",
          "data": {
            "text/plain": [
              "{('happi', 1): 1, ('sad', 0): 1, ('tire', 0): 2, ('trick', 0): 1}"
            ]
          },
          "metadata": {},
          "execution_count": 12
        }
      ]
    },
    {
      "cell_type": "markdown",
      "source": [
        "**Part 2: Train your model using Naive Bayes**\n",
        "\n",
        "Naive bayes is an algorithm that could be used for sentiment analysis. It takes a short time to train and also has a short prediction time.\n",
        "\n",
        "**So how do you train a Naive Bayes classifier?**\n",
        "\n",
        "The first part of training a naive bayes classifier is to identify the number of classes that you have.\n",
        "You will create a probability for each class. \n",
        "\n",
        "-P(Dpos)is the probability that the document is positive. \n",
        "\n",
        "-P(Dneg)is the probability that the document is negative. \n",
        "\n",
        "Use the formulas as follows and store the values in a dictionary:\n",
        "\n",
        "![image.png](data:image/png;base64,iVBORw0KGgoAAAANSUhEUgAAAOAAAAB6CAYAAACm0F/EAAAEzklEQVR4nO3dYY6jOBRFYdLqlWT/a8pW6F9IbmRjA7bve8/nk0bqGWq6ksCJTcBVn33f9w2AxB/1AwBWRoCAEAECQgQICBEgIESAgBABAkJ/1Q8Aa/l+v9Wv+f1+Ex6JDR8uxEPh+/0WQ7vaFg1TUJjz+/2aRsoICBBmrRAhAWK6FcJqRYCQWOUcr4YAASEChFkrjJIEiKlazv9WOkckQEy3wsjWigBh0iqRcisaTKndIbNt/1+oP39tOn29s02FADHN1bldKajUsS2NtPTn2jYrCBDDncPLhdgaRymkWmBXo6YSARZYfce8YvUxW3lMFkfDsAG+WfZS20FWl9Qc7/JWDq7RWldUWH5NwgbY8uI/3TEj/26UHa9pbip5XkHRuk0tbICtrk7c31CNRiuMgqXn1vIBjjVcBxxspbs6cF/oAO+eq90ZOQhrruP1jva6Lz8FfcPqtCbiNDTSc0mFD7B0zai0DZgpfIBvLvr2YDnyJ9M5y8/Ho7ABjhzloiypISa9sAGOxsF7zcMbUEq1P0MHqI5E/f1rRk5BrT93K0IHqOJlSQ2R6IUMcOT0hyU16ClUgKVlLz0OWpbUYIRQAfaYkpUisHLAr3YjuNWVJ72ECtCjCEtqRor+hsNvR8oYuUOvltQc2w9PPoDxfDBeaVmj6fF5MwKKRFpSY4XHCEOvhnjK66/H8ngAtvC4L1oRYMHIW9hGHVAR4ztEfW5MQSeKehDhOUZAhOHxDY4AYVqUlSclBAjzPI5srQgQIXiNlADhmvdLL3wKCrPerjzxgFvRYE70G7BTBAgIcQ4ICBEgIESAgBABAkIECAgRICBEgIAQAQJCBAgIESAgRICAEAECQgQICBEgIESAgBABAkIECAgRICBEgIAQAQJC/FhCTLXSTzxrwU9Fg0TUXzl9F1NQmOP1F6Q+QYAwa4UICRDTrRBWKwKExCrneDUECAgRIMxaYZQkQEwV/VdO30WAmG6Fka0VAcKkVSIlQJhSu0Mm/XNpqtq6zcJUl3tBMc2bXzl9hHn+unOw6b/f2aZCgBjuHF4uxFoM6fbaCJmL2UpwZwSYYXVn1Vh93L0e09WI1vt7zRIywDdLXmoHseXlNMcUzdtB+FbpOd/97wohA2yZ5z/dCSP/btxzfsM5r6I4T1stfOhytvSnoLlzkx7hKHe21QOth9y+yU1Bj39yX2vtjXHpAEeLGoI358sXliIMOQXdtvvnand2DGH5krt8YQUj4EPWdmQq8jT0KYvTz20LPAJuWz4Sq++EWFPoAJ9c8O3JeuRPRknrz8mbkAGOHOUiLacZGZOX1yCleHMJGeBojAJ1vEZtwgaoPgDU378FU1C9sAGqtN4hczVNbt329poWMemFC3DkuQfLadBbmABLS156HKQsp8EoYQJ8e3BeTem8LaeJFKvl1Sc9hAnQM8/LaUaLvvqEABOz19ONWE7j+WB8yvM6SAKcqHU5Te3/93iRewaPEXIz9onFG5lbl9N4PABbWNsfPTECZlg7iFuX01h73D1FfW4E6ETUA3B1TEERhsc3KQKEaZFWn+QQIMzzOLK1IkCE4DVSAoRr3i+98CkozHqz+sSLz77vu/pBAKnoN2CnCBAQ4hwQECJAQIgAASECBIQIEBAiQEDoH5XSVpgOBJi1AAAAAElFTkSuQmCC)\n",
        "\n",
        "Where  is the total number of documents, or tweets in this case, \n",
        " Dpos is the total number of positive tweets and \n",
        " Dneg is the total number of negative tweets."
      ],
      "metadata": {
        "id": "DVEMFEEBFuQc"
      }
    },
    {
      "cell_type": "markdown",
      "source": [
        "**Prior and Logprior**\n",
        "\n",
        "The prior probability represents the underlying probability in the target population that a tweet is positive versus negative. In other words, if we had no specific information and blindly picked a tweet out of the population set, what is the probability that it will be positive versus that it will be negative? That is the \"prior\".\n",
        "\n",
        "![image.png](data:image/png;base64,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)"
      ],
      "metadata": {
        "id": "kJkrgQLEGUfj"
      }
    },
    {
      "cell_type": "markdown",
      "source": [
        "**Positive and Negative Probability of a Word**\n",
        "\n",
        "![image.png](data:image/png;base64,iVBORw0KGgoAAAANSUhEUgAABXcAAAGUCAYAAAB+yRFQAAAgAElEQVR4nO3d3dHjtpogYPmUk5i5a1XfbhjdKTiAzmGnHMIG4QA6hQ5j5rZLl5vGtxdnZdM0AeKXBMjnqXK5P4kCQPwRekVBv3x8fHw8AAAAAACYyr/OLgAAAAAAAPkEdwEAAAAAJiS4CwAAAAAwIcFdAAAAAIAJCe4CAAAAAExIcBcAAAAAYEKCuwAAAAAAExLcBQAAAACYkOAuAAAAAMCEBHcBAAAAACYkuAsAAAAAMCHBXQAAAACACQnuAgAAAABMSHAXAAAAAGBCgrsX93w+zy4CnbRu25r0rtrP1AmpjMd/5/v+j3J3qcdRzm+UchypxznfsR7f1uc+c10cVfaaee5K9Q0ArRQHd5cX5dB/0Etq/9IP+9irV/XOFv2ijxHG4zuP1+v1eL1e3fO7gq122arHO4+bO58749Iv68x+vTjzA1QACCkO7r4vyMsL89ZjhI10p9cV3P38R3fl9rnyuZVSJ2Pr0T6u+22ox37MS/CXM8eDeW5+5lOAsdiWgSmlLgotHvvYq1f1zhb9og/jcU6uY/vufO7AmM6al8yHAMQI7gIAAAAATOjX3hlsfWUj55PHvdenpP98Ph+v1+sfx4b2s8t9/daxsceX6Sz3nVofH8sndGxKerE0c/J9H59aN6GyhI6PHZdan1vHxfIK9a3WdbF1bG6/Dh17xHGhfr71fKh9ctsjt5y5fTOnD2+9ZvSxl5L+VlpbbR3L03i813jcSm99bOl1umb8p75u+dra61lqG76P3WuXreNSz2XruNA43mqr1u1X017rdHLbaJ3/kXN1zTyXU471sUfML3vzTkr6ofaMlSX0XOqxJf1+nUaLOyhz6jV1DKaW7+zxEHtdzhjYs5dWaR+pnZdS11pbryvJt2Q9FHt8r/+kXGcB6OCjkU+fPm0+Fno8Nc31scu/U9MPpRN7vPQ8QudWc2xOfW09Vno+KfnmtnFN3uu2T8kz9Zz2jmtdF6Fjc9IpqftW6ZXUV+14KSlD7TnONvZaja+e6e0dk3Kc8ZifVkk6e4+nvram/lLzKy1jyZoipwyhcZpSntJ0U46NpVFSJ3tjKLVMJfnMMFenPF47Z63brWVeW0rmmdbzZkxtv8/Jt3e/yD1m5PEQO640n5w5JnV+i9VBzbx0xnzYY7yXPpYzhgHI021bhtin66FP6VNen3LXV8qnk++/Uz+NLz2PXFufaNbmk3KONfmm1k1tn2j1SW+oXMu/e9dF6Njafp2bX8oxPfr50l57hJScT85dCi3629FjrzT93DpoedeF8Rg203iMpVVTfyGt+mDKGApdz1LGVWoeOXLTzb3rstU6K5ZPTR30uIuy91ydMs+F8i3pV6PML6XleDzq56Kaft96Hd7a1t2b6+dHft+wpfY9QklapX0k5bnR5sMz1hNbebtrF6Cfrtsy1E7ge693gZhPTpvd9as7Pc95pDcnLVztfGZyl7o3HuuMVn9HX1d65VWSbsm53/EafJbWH26MMr+cXY4rrCWvcA4pWp6j9xvnUZ8A5+i+5y75zloIn70AX3p/mpyzl1dOuluPL41UF61s7dV1tpq7Gkc8n1K9y977Gwal6RuPY/XfmvF4tJL6a31dGaHNWgjtx8g/ldTRGeNqlPmltBxH1Fms3480FlLmLe8b+jA35uv1/g2AfYK7AzrrIjjaxXf9hqDlJ8F7C7bR6qLW6J+i5y6gRz+fXL3Ppccb4paMx7GM/oa2pv5aXldGbsO1ZXsuz3ndzjOd0xlqPww4YlyNMr+0KEdtnZX2+xHqb2lv3vK+oZy5sb2e798ACOu25y601POrWhYc59Ie96b9x3Kn9rjyuTGWO42rVtTZNvXATPRXgON0C+5ufS3jLeUTvL2vStWmnysnn5ofgdg676M2uy/NN7VuctrszDvGjqiLvbxT0ynNL3Q+R42n1mr6y9lfy+w95lPSr6mD3vVkPOanN4qjrtM1/SHlmNj1LPbaXnNLj/Ea+gp8bfudPb+21HOuzqnr3DptMb+0OO8ebV479mP9viSfXCn57OU94/uGWHotrhclaeWOnxJnzodHjfe9Y2ec+wFm0f0H1bYurrlvrHuln2OrLFv5hPYa2ltApizcc8pYUgct8l0+Fjs25fjcds09/9hi8Yi62Esjp7/lHpfSJ0vLHxJrn/dzpXND7VddQ+edmuZZY69l+ql1UNKXjMf4cbOPx5R8Wp5HzfjfK0fJ9SynrK2UpBtq11h7t2i/2vm1pbPn6pR5rnSuCT1XO7/krGtLypGSRov5oqTf95RTryXzVk4ZttLMfX0LLa8XJeOp57VwnebeY60d+T72iPflAPzTLx8fHx9nF2J0rS/sV6Ju/qIuytW8uaCvWfv1rOUewV3Hoz4DY4nNRcYrV9KzPxsrAPdgz10AAAAAgAkJ7gKnuutdgqPJ2Y+N6zIegRHszUXmKGZkrQVAL1333AUIWe/nxfnsk3ZfxiMwAnMRV2etBUAP9twFAAAAAJiQbRkAAAAAACYkuAsAAAAAMCHBXQAAAACACQnuAgAAAABMSHAXAAAAAGBCgrsAAAAAABMS3AUAAAAAmJDgLgAAAADAhAR3AQAAAAAmJLgLAAAAADAhwV0AAAAAgAkJ7gIAAAAATEhwFwAAAABgQoK7AAAAAAATEtwFAAAAAJiQ4C4AAAAAwIQEdwEAAAAAJiS4CwAAAAAwIcFdAAAAAIAJCe4CAAAAAExIcBcAAAAAYEKCuwAAAAAAExLcBQAAAACYkOAuAAAAAMCEBHcBAAAAACYkuAsAAAAAMKFbBHefz+fj+XyeXYxLqa1PbXKuo+r+3c7aemw17aRt4+4yBkY5v1HKAWcxBtKpq78cWRfq/Xh3WYuM5m71fvZ5np3/0WY737uNhzNcPrj7fD4fr9fr8Xq9dKRBaJN7eLftu63vbtS+rp3a2GrfrbodtR8c4c7nXiu17tTxOdR7GvXElY06T1vnnUO9b3MduCfj4RiXD+6+vQOKjEObHOPMi6j2nUNqOx3Rl6626DMG+rlaX8l19/M/i3qfk3Y7x93rfZTztxY5h3rvZ5SxRTrjob/bBHd1pvFoE+5Ef7+21Pa9cz+487nX0r/Gpt4B8zTs0/+hn9OCu9+/f398/fr18Xw+H1+/fn18//69eR4+0RmPNgEAAACANn49I9Pv378/fv/99z///vnz559///bbb1Vp7+17GHps65itNPc+bdpK9+hPqNZ1sM7/Xaa941LTyy3P8rGtsi0fb9EuI7TJuixvKW2z1W+3XhvLa6++99Kszff9uhbnt1XmdZuG2jj2eCjf2vESKmNK3rH09uy9LtZOsbRq+lLsmJQ89tJbvia33dbp1bRvyhjIOZet4/bmzr3HYvnkjNNQObeExmluemfNbaVlzm3breP2+lfsuNR+lFsXKeVeHhPrU3vH7h2fc8z7uK2xWDpHjVrvoWNL5qDSa1FM6RywTiNWrqPmi9Q+PtMcXtPm5unz5wvr8fANRTljMyXd0vV1KM3UMswwj2yVfW8uiKU3w9yS2u/30ivt66XvdXLWaqG8168pGQ9U+DjBly9fPj59+vSP/758+dI0n0+fPkUfX+Ydes3e38vH1+mEju0t5RxSHtt6bezYkrJtPdeqXUZqk2UZ9v7e67ehv1PzDOWT2gda55uTT8655JRp7++cugqlV5r33mu25I7nVEf0pdr+lVuG3LLVtG9JuinHxtIoqZOccbp3fG4+OfP0GXNbSb9qMRZK+1dpf89pg9o+lZJm6zmlR3p7x6QcV1tHpeVr1f/29JgDesy9rdYKuWUeaQ7v1eax/MzTece1vlbm5FPTj1LTrJkvcufI2OOp+ZWkFzp277WzzCMpry2tu1Hmlpp+H0uvtv+n5p+SXkiv8UC5U7Zl+PnzZ9bjvW19kvr+uySd9b+PlpL3+picT1WPOrcW7TJKm+SUIbUttj7pqynLWfmm5tOjP6aeX2pdpR6bk/da6af5qemXSD3n3mMwpRxbdZDa/1LzyJGbbs5cvTw+t18cdU1oXZ+padbMbTn9Kuf4lHxKhMq1/LukLlr0qZBWbZjbZ1vOUUfXe6zsJee195pWdVU6B7S61rWcL1qu8dbHjzCHtxwf5um/6zVfxNx5Pb5X36EyhvLs0Ra5x88yj6Tova5sObfUnncovZr3BaXvdWL5rJ3xfpN9pwR3P3/+nPV4idSvYoT+vfVY7ldLzvR8Pv/8bxQ5C6TadhmxTd5GbBva6NHnSvrJqH3/8Wjb/48eQ73qtSTdq/WLq8qp8xmvCVfsUzNco0vnjNh5pQaVRzJz/5thDh+xzXu4+jx9RyOt11KVXHtmmEdSGFdzGrEv3d0pe+5++/btb3vuLh9vqfYTxOX/c9M7M7hYewdyT7V1UtMuIwR8a9rmrHY8Kt+rn19J3u9PPkvnodG0nJta181I82SNdx1f5Xx6GqmOeo31UF/Y+kB0Rq3L3WqOGq3e985rr/9d7VpU4ui2OntMjtLmZ9fD0l3m6auvx1Pr+0it37uPMo+kOGuumaFuWrvjOd/NKcHd94+m/fHHH4+fP38+Pn/+/Pj27Vv1j6n1sDe5jDZIRghgHiF2jqO1yVtt25zVrkfle/XzK817vdibdYz3KHfLupmpTpcL9uU5rxfyM53TGUarn55jfe+N3mh1kapluXvMUSPUe+p57fW/q1yLSrX+yvEMc/gIbX52HazdYZ6+y3p8lABoaR+aZR5JccZcM0O9tHbHc76bU7ZleDz+HeD98ePH4/V6PX78+HF4YHdv0gg9t3W3Q0pey8k39pW40PMzfE2whRbtknMn7/Lfsbrda5d1etCDi3KYuuFKWgeSeqVN2Mz1vlfWmc6FNrT5P5mn56W+x6UtoNxpwd0ZpXyKtBUEfL1ef36Ktvz3Vtpbz6+fyy1zqdCnmaMFMffaZatNlp/WxtpleWysXUo+Ycypx1Cf6e2ofFPyye2PKeVueX655UvJu6QsW19vWqY3yqKpxVfOSo7ZqoMe/S9VTbqpfX+ZT02/mOWakKJm7Of2q5Tjz6zD0ro4e67pPW57t0ltva/V9t/c15Tk3dKR/a/XWmjkOXzmMRI67o7zdI98rrYez02395yTW86R55EUZ14/epbjqPftLd/r5Dh7Dci2U7Zl6K3V4En9WsPyuFCgL9bJ9wbAOv3cMrcYuHuP7Wk5oaW0y16bhP699k5jXf8lk1Zt25S2ZU7/aZlvj3xS++PWBSeUfsvz69GmW+eWmm7Ja1PSLUkrtf/n5LF3fqG+kVK+0mNKlKQbutbEPmxq0S9aXRNaOGtuK+lXKcfntkvu+ceuW7V10Xquyc0/95iUx1rMUY9H33ovOTb1jfnWOjb2/Bly+t9oa6EZ5vAWbW6ePn++yHWX9XhsrO29puV8WPP+cIZ5JEXNe53U42Ovby2n37fKa/1Y6rEt8h5xfXBXv3x8fHycXYjWzv60ICW4u/w7Jxh89rmVOrvcuW0Seyz1tRxH/bOmT9CDfnUd2hLKjTx+Ri7b1c1U9zWBQYARXWpbhjPuHCqxd+FbB35nNmP5Y2UO3dlgYQAAAADA0S6zLcM7wDZioG1Ztsdj/6vDy+djz41u5DbZslXWUP2f9TVkACBdzrdygDTGDzNz1y5wRZcJ7p4dRFwH+kL734SUPjey0dsktA9RymPLxwV5AWBc9oMDYNYbpgBSXHLP3dG4Q+Ra9vZLBgAAAIAjCO525hPCa/J1HgAAAADOJrgLAAAAADChf51dAAAAAAAA8gnuAgAAAABMSHAXAAAAAGBCgrsAAAAAABMS3AUAAAAAmJDgLgAAAADAhAR3AQAAAAAmJLg7uOfzeXYRDnfHcz7K2XXbI//e51SSfusy9TrH5/P5538AAADAfC4f3BW0uCbtOhbtMZ93m71er8fr9cp+HQAAAHC+SwV3Zw86zF5+2pq9P8x4l+7d5AR1Hw/1DwAAAKP59ewC9JYbvGAO2nUs2uPaBHUBAABgTJe6cxeAPnK3bwAAAAD6u8Sdu8u7ypb7SL7/XgYk3n+v70RbHr/1eCzPrWO27nRLSWtd/lB6peXaOjaU17reQo/FyrVV37E0UoNH63ZNLU8ordjrcs5zr5x7/W+dX0p/SOkLseO2XpPbJ5bn2bI/bx1/5BhJKU9qXnv5tSjXVp7r9Lbqci9PQV0AAAAY0yWCu6FAbshWwC0UvAoFEbcCdqG/34+Vlj9U3txytRQLsJUGPpfplpSnJK29oHXOeZaWdd2eJf0htR2O0Ko/90iz5RgpbYPSNk2R0l9z50sAAABgXLfclmEd0FgHPULHPR7bAZGtOzH38szRq1yp6ayPDwWQQnnm5NMy2FR653LpeZaWK+ecU9q5pm5L+0SOmvOvSbN07Kbkl3rMVn6tytWrvwIAAADjumVw9wgzBVJ6BbeO1uM8RjzPI8zUf8/yvjt4pLq6a38FAACAu7rEtgxHS7lLdx30OSLo0jrIFNofdkRn1fkZzmyPmfrEllbl3tpGoTY9AAAAgFyCuwVyv5KdsqdoC6VfkX8Hltb7cs4WKD2jzs9wRD+6Sp9Ya1HmHv1qxroEAAAAzmdbhgMI3BxPnQMAAABwdYK7mUI/iBT7+wgp5YoJHbv1+NYWCMvjU+9sDr2+ROl+u7Ey5J7nEf0gpZ1b1W1On5hB7RgJyamn1B9Pq+nPNeOyxqz9AgAAAGZ2qW0ZlkGSnoGMlD1HtwJuOenWbrFQ8rpQ0GmrLKFAUk65t8pbs59rbZ3Hnt9LO7Tnb03AK9QfUtKtrduSPpFa/hpnjZFYGqE0Q23Qq1zLdGrGJQAAADCPXz4+Pj7OLgQAAAAAAHlsywAAAAAAMCHBXQAAAACACQnuAgAAAABMSHAXAAAAAGBCgrsAAAAAABMS3AUAAAAAmJDgLgAAAADAhAR3AQAAAAAmJLgLAAAAADAhwV0AAAAAgAkJ7gIAAAAATEhwFwAAAABgQoK7AAAAAAAT+vXsAvTwfD7/9vfr9do9JnTc7J7PZ9Z5qbt8uXU8mxnPb7YyL8fUTOW+utn6EWlatutIY3d9XrXnqf+f48p9CvboYwBQ5pJ37r5er92FwfKYlOPvQt3Bsd5v5EcdS1sf5tQcx/m0VRujj13msByP+tQ4zJNx6gcAxnLJ4O7j8fdPfkMLEJ8Ob1N3YWctZlvkayE+rtnGkr40D23V12xjlzqtx9PWWuoKfWrEeSe3TK/Xa8jzOIN6AIDxXTa4+3aFRfJZ1B2QOg+YL+ahreB8d/2QfCYCvGH6LgCM5bTg7vfv3x9fv359PJ/Px9evXx/fv3/vmp/FWTl1BwAAAADjOeUH1b5///74/fff//z758+ff/7922+/nVGkU+z9eNn7ro6UHzlLSe9qSupv/cMgodfG8lruiZdTnqPyXR+zl0aLfpPaV0N3KoV+tCWUXo8xEWuXvb6Ukvf6NVvtEks3dz5IKUPKcaFtWtZ9aeu4WF6lYzFU5rPmz5p8csqyNXZieY7QVntz1la6sbkplFbqPB8rc84PhaaM3RZl3ytjy2t8j3klduyZ14KSuSL3OhoryzLPWPoleZzdp0L11HIuyG3j2raL9deQ2vVnyjW51fomlufW80deR3LTBYBb+zjBly9fPj59+vSP/758+dIk/U+fPu0+tnXM0fbK9K6Xvce2Xhs7NqdMKeU8S0n9pb42Nc9QPqntVJNvTj57adSWMbUOcsoQeqz1OAnln5JeSIt2qUkz5/i9Y0rPo2d/S03niPmz9fjPKUtNenvHpBy3Vz+xcu/VWc45p5Y/lnfKa1OPaVH2lPx6jaVY2WrH0Pvvo64FoTRT89hLK+exlOev2qdq54K9MrSaC3Mei8mZl0quyblrgZT0Y8cdeR0pTRcA7u6UbRl+/vyZ9Xgro20vkPJpc8oPbYTuKOh5V88ISurv8Qj/gEnNOZa2U02+sbsWctJt1U9S6qBFeqn5pNZLarvk3lFa2y5bcs6ppgyt+kSoXMu/S8fESPNnq/GfW5aec3yLtsqp7+Xxuf23R7uW1m2LsrcuU0xOPeWcW+jYknOouRaUzu+tr181ZutTqfmkzgUl82bNtbbXmujxKC9rSv8sXd+0HKu9rvl76QIAJ23L8Pnz581A7ufPn7vlWRtU6WXEMq2NWnePxxz111OvIBx1RviaYMlXSGej385RByX96+j+2HIM9Cz72e09YuBwBL3n0Kv0qRGvNcp0r7EKAFd1SnD327dvf9tzd/l4byMt4mJ7ro1opLp7POrq76y6HrGNZ+uHPdzxnN/eH96k7oGXm+7W40s1d67P1m9bl7FVHfRuq5DQ3pFH6zUGWpuxz4+gdz3N0n+2jNKnYnNBSplq574j2y7lLt2WZTqqTXtdR1LTBYC7OyW4+/7RtD/++OPx8+fPx+fPnx/fvn1r8mNqKQHIEYKUI5RhbZa6a1GOs85hhLpbGqU9z3b3Oli/uW/ZL/YCeKVf/ZyxzVp/Vbt1HfRoq2V6yzKv8zm7PXuOgRZGK89Mjqi30fvPljPuDi2ZC1LK2Go9eETb5Z5PbZnO+hZEy+tISroAcHen7Ln7ePw7wPvjx4/H6/V6/Pjxo0lgd09K4HK58AzdQVDy3OxS6m7571AdpD53xTqEGbR8I9h6H0v60VZ/ufO5U0//mdeIbTdimUJ6XUdcnwBg32nB3TPFfsDh/anw8t9vy8f3nstVE8ys+SpbSV5b+Sy/RrZVP8vjUp7LrcOccw3l31vrfLe+urdM9+h+WJpHrzxT62WGdomVK3ZOKcef+UFKq7qfYf5MOdczvpacqratYh/qhfKqGUM5ddmy7nqO/3VaLeTUU865paR7xLXgiOv9UWNvlj5Vmk+sz8WOq2nj0nMufV1KWUvn+9L1zdHvIXqMRzeEAMBJ2zL0sPWGoeXXffcW0MsFS8kbz9qvGm29PjXN2rpbv6GL5bGVfsmbk9r6K63v3HbunW/oTd9W2bbSaN0P92yVt1eeoTGRemyLvFPzz003Jc2cMuSWM3ccxMZ4Sd2PNH/W5lNaltQ6OLutlq8LBR5i81XNGMpp15Zjtcf47zlX59RT6TUnJZ0jrwUt0op9SJY6h6b2iZn71NaapWQuSM0vt0x7ddoygL4uR8hemVqvb/aOGfk6AgD82y8fHx8fZxdiJOuFw/vvrQVFaSD4ikL1Fvo757WAcXF32h+uxZiew2hr1LPzP0vNjRUAcAe33JYhVWpA0teBwkJ1E3vcwg0AuLLe35ShnjUpADCLy2zL0MLyLt3HY/urZMu/U567q/Xdzjn1B3BXOd8SAebmq+bjim0TwbHctQsA+2zLsGCBfT5tANuMjXsI7XMKAHdaC7hxBgDSCe4u3GnBNIr19hbqHwAAAADSCO7+fz4dPo+vWwEAAABAPsFdAAAAAIAJ/evsAgAAAAAAkE9wFwAAAABgQoK7AAAAAAATEtwFAAAAAJiQ4C4AAAAAwIQEdwEAAAAAJiS4CwAAAAAwIcFdAAAAAIAJXSa4+3w+N//bO+4MZ+V7ltnO9+z+wb5Z2maWchJXOyfoB8cbaR5fl6FFmUY4r5EcUR/qHACAUV0muPt6vR6v1yv49/Lx2PNvFvH39G73vf7RK1+Oo87T3L2ezpoTKKfNoF7q3H/3a8RZ1DsAsHSZ4G6q5/MpaEeUYAAlrjDWZz6HnmU3J7TXu69pM2rMPBf2pF7Ood4BgD23C+6m8saQI+lvx1PnadQTwP2kzv2uEedQ7wDA0mnB3e/fvz++fv36eD6fj69fvz6+f//ePc+j79oFAAAAAOjl1zMy/f79++P333//8++fP3/++fdvv/12RpH+YSsQvPW1qFCweHnscv+/WHopaaUEp99l30s/FOxeP76XXsl5xI5bHxsqd0697LXdVnvF0m1VdynprV8XyiOnjKFyhI4N9d2tOgzVayjPvfYs7V+xY5f5xsqxl8Y636PHesrrUs4rdg4p9RRKK/UcUvtJbtlr8sydE0Lp5u7tntu/z5zHW/e1rXLEyhIrW+p8spV+7jUmd87IUdNHUq4p6+NqxmJOGiGtrzm5/fio+Tynj5Vcm1LbIHbccg5JvUbE5uC99iq95oVe37OOU9Ncp5Xy3qLk2nxUvQMAA/s4wZcvXz4+ffr0j/++fPlSnfY7ra3Hc9PZe31KmqHXbaWfkkdqninph9JKfW1OPjn1t1fOUHohOfmnptui7krKUtOOofLFxOpu77xy+nTuObQYnzV9t7asrcZ6yutqx2RNe9XMkbnpnj0nxF6f+3jKse+/j5rHQ2mm5rGXVs5je2J1UtvHU/Ir6b+hdHPavXbctEiz59iMtVPrubb3fJ57bcmp11bnXXONCJWr5HVb6bQex2f1n9r09o5JOa5kjgUAxnPKtgw/f/7MejxHzh2MPfIqfW1qubfuLChNP0covdR8th7fOpfUc669CyiUbg8lbRHqszXtWNKfcsdTyl0kqe1ZWwclddV63KSmWTrWS8dL6/kgpyy56bdM953eOo9W6ab215wyhI5t2b9b9tEj+lqJFnNSSI/1RUm7t+gTsedLx2JtXaZcc7Ze22Oe6jlWcvINpVk7v7Ueb7G/S69572PXWtdxadvmrl1azh+96h0AGN8pwd3Pnz9nPV6ix0LF4mdOvnJWrzZAdwTjc15Ht90Ic8LZwcNR9ewLPevx+Xz++V8rJeXdK0dq8KzGKGncVU6/mbGerzgf9pg/AIB7OWXP3W/fvv1tz93l4621umv3/cn20ftU3XGhd8dzPkrrug3tU3e0s8ZnS7V3oo6g9EOAvbYb6RzvrHc7zDqO1+uMs/rrXjn26rfFWOzdhi2uOUe0zwxzVq+2CrXPVeb1Xuuo2vSvXu8AQNwpwd33j6b98ccfj58/fz4+f/78+Pbt2zA/phayXnz12u4hlOdd3PGcj1L6td33m4Fln1+/kTi73c4Yny2VlnWkc2xxDlttN9I53tkR7TDbOPpVHasAABw/SURBVB6lfKnlyBlrpWOxtg17X3OO7scj6zne9gLxs9TRWo8PK1q6ar0DAHGnbMvwePw7wPvjx4/H6/V6/Pjxo0tgt+ebLosjGJfxOS9tx5u+0FfOfru98mAcLdsqZ69o2lHvAHBfpwV3j9DzRwqOEPuxjFZ6px9LN/WHHWrKtPW1w1j+OXrWXeiui9R9FENfzaspc84eji3qPacOZv+aYWnbHDFHpCotS+rXvHPT3Uuv9ZyQ019zypCS7hF94IzrUekxW3peC9ZptZB7DUg5bu+1LcZiyzbMueakOqIf98gjdw2VcvyZ183aa17vcbyX/zrfvWO2jtvSu01ajWEAYDynbMtwhB4LvK0FXEo53q+r/Up8a6H91o4KDITqo3UZQm8GavrIEXUXqrPQYyllKS3j+3WhN5Jbddmi3lPr4PEoG58tnTXWW/a7s85hr+1S0s0pe485IVTOvbGYUoa9r9ieOY+3SCsWcGp9N2Gva0Ho7xo5aaWWY+/cW4zFFvVbcs3JTTv1mBHWbiVrqJTjc9sqt15ibVV7zTvrmp/bf3IeS1m7nVXvAMDYfvn4+Pg4uxBAuiPuTgEYjblvftownzq7Dm0JAPRy6W0ZAAAAAACuSnAXABieO97mpw25g7P2BAYA7uuye+4CAAAc7ezfAQAA7sWeuwAAAAAAE7ItAwAAAADAhAR3AQAAAAAmJLgLAAAAADAhwV0AAAAAgAkJ7gIAAAAATEhwFwAAAABgQoK7AAAAAAATEtwFAAAAAJiQ4C4AAAAAwIQEdwEAAAAAJiS4CwAAAAAwIcFdAAAAAIAJCe4CAAAAAExIcBcAAAAAYEKCuwAAAAAAExLcBQAAAACYkOAuAAAAAMCEBHcBAAAAACYkuAsAAAAAMCHBXQAAAACACQnuAgAAAABMSHAXAAAAAGBCgrsAAAAAABMS3AUAAAAAmJDgLgAAAADAhAR3AQAAAAAmNF1w9/l8Rv+eycxlZwz60PVo0/m0brOa9M7qP8/n88//KHeXerz6+cWcce4z96sZywwAcLTi4O7eInHvudTFmkUd3I/54Xq0VR979XpEvb/zeL1ej9fr1T2/K9hql616NG7qzVqHrcptfAIAXF+XO3ffC8lZF9Q9zFwXM5f9TCPdzXcFdz//mWirsfVoH0GjNtTjtYwyF+pXAADXVhzcrV0oWmgCIanzg3lkHtqqj716Ve9jMscdZ9Y6nLXcAAAcr/rO3dBdCaFF6Sh3MQAAAAAAzOzX3hk8n8/duw+WAd/1sS3uXAiVYevxreBz7Jicc1vuexbLMyUwHjqftaPLnpJuzutTz+n1egXrca9+916/dWzs8dx6G6kPbR2fWjehsoSOjx2XWp9bx8XyCvWt1D7bsi+lpBcrR2k+OWVJmSNDdXpmW5WM6VAeOXNc63avmZO2ng+1T257bJWvpv722iCW796xsdctX1s71+V8oL0eW7F6jF1zQueydVxoHG+1Vev2q53nUh5PvZ6EyhsrV+rcGHpN6XW7dI0aK8P6+Jr2bbX22ip3zrooJ20AgMv6qPTp06d//P1+bPnv2PGxv1Pyyy1jTlq15d1LO1Z/teXoWfacssbSjZUppy5Cj+Ucm3IeqX0p59hR+lAoz9xzK8173fYpeaaeU6+x0KN/lbZLq7rvmd7eMSnHte63sTqvmYNiZS3pR6H0Wlwbcsqac0xt/aXmV1rGkutNThli17iadtm7du4dG0uj1TU4t/yprw3lHzvmrHk65/UpbZrTP1OOaTG/hY4tOb9Y/rnH5MwnAABX0OQH1UKfoKd88r51p+5IWzds3e2xfr6mvCl3Kpfm27Pssbu5UtINvT7lzr6UO25CfTDUJ0vPI9dsfSiU3tZra/tEq7tsQuVa/t2yLvaOybkzKacOWrV7blla3g11dFuFXpt7x2rqXX85+aUc0/v6uNceJWnV1F9Iqz6YMoZCc13KuErNI0duurl3Rra6BsfyOeKOyr08jpqna/IvSSdVq/FZu/Yqldu+AABX131bhqWRgrYhM3+V6+iy1+ZlcX49OW0261ibYR7r7S510LN/3qEOR6u/2a6RLdMtOfeZ5udZrye5Wp7n7PV1hzkUACBVdXB3+Ql/aKEVW4yOtDh7n0tsH72zypty1+OoZefvRu1DR0rprzXpbj2+VHPH+vqO+NH1vvu8NP3ebTWyEftRzV3GRyupv9Zzzght1kJo39SZ9LqejOYu55lixDkUAOBM3e/cXb9p6P1VrVrrxeJ6AXlWeXO/xjtS2fm7kfvQkfb6a429gMVRd76NoPU2Cq3roEdbjWz0fjR6sK+m/lrOOSO34dr6Q/jlV+evEijseT0ZyV3OM+aO5wwAsKfJnruPR3z/rlnNfC4zl537adlfR/8Aib9oq7HcqT2ufG53d5e2vct5AgCwr1lwd0/o654tf8AlJ/+tfFK3Psh5TQsp+R5d9q2vBy7TTdlPN9YGtennysmnph5H7kMhqXWT02Zn3hXYqg1ajJ+Waabms/VDOaVl6d2OR/TbvbxT0ynNL7adUUl6ozhqDq/pDynHxOa62Gt7jfEe4zW2PqtpvxZ10GLtVuqoeTpVy3yPXmOF9LoWj/rNAwCAXppsy5D6Fc6txeIRX/8M7VOWsiBMeVOXU4atNHNfH3J02UNvDnKDJ3vPl6afY6sssf6a0pf26q2mjL36UOrrQvnntFluu+aef+wNakldbH2FuXWAt8d8mJJmallS6+Dstgq9Lnfc5PTn3Dkk9rpW5Q+Jtc/7uRZ59ZjDa8ZhyTWypl/2Wt/UzF857d2i/WrmuZZrt1K183TtdXutx1g6Yo2Vmn/JuDrifQQAwOh++fj4+Di7EHCmme6GO5q6ubdZ23/Wco+gZSBqJvoMOfQXAABGcti2DAAAAAAAtCO4C3BzZ++7yBjuetcuhJgbAQCYQZM9dwGY21n7LnK+9f6VwF/MjQAAjM6euwAAAAAAE7ItAwAAAADAhAR3AQAAAAAmJLgLAAAAADAhwV0AAAAAgAkJ7gIAAAAATEhwFwAAAABgQoK7AAAAAAATEtwFAAAAAJiQ4C4AAAAAwIQEdwEAAAAAJiS4CwAAAAAwIcFdAAAAAIAJCe4CAAAAAExIcBcAAAAAYEKCuwAAAAAAExLcBQAAAACYkOAuAAAAAMCEBHcBAAAAACYkuAsAAAAAMCHBXQAAAACACQnuAgAAAABMSHAXAAAAAGBCgrsAAAAAABMS3AUA4HKez+fj+XyeXQwAAOhKcBcAgEt5Pp+P1+v1eL1eAryVBMkBAMYmuAsAwCW9g7x3VROUFdQFAJiD4C4AAJd058BurfedzwAAjE1wFwCAy3C3KQAAd/Lr2QUAAIAaWwHd92PLu0/Xj20ds5Xm3h2sW+m66xUAgCMI7gIAMLV1ADcUrH3/wNpeMHbv7+Xj63TW5QEAgJ5sywAAwO3EArsl6az/DQAAR3DnLgAAlxALzIaCsFsB2Zw7gUcQO+/Qc6OUHQCAOoK7AABcRk3Q8h0Izdlvd/36M4KmoTxHCkADANCH4C4AACyk/oAaAACczZ67AADcwt6drLE7YFOO23rd8m7graDw+/Hc5wAA4PFw5y4AAASlbG2wt6/tMo3Qv/eeAwCALYK7AABMr9Xdra/XK2nP3eVx73/n/PBayl3Ey/SPtq7PM8sCAECY4C4AwAFmvRNzpnLvlTP1PFofV+rMu3hnaXMAgLXatdNM69/HQ3AXAGBXyl2hsQXg1tfvQ2mkfMU/J+9asbtSRzBy2dZiZe2xJcMs9QIA0ErOOip07Ojr3zXBXQCAHSlBt5wF4DpQu3xd7LnUstzFuw5GrYtl+R6Pf7ZzaPuH1K0hAAAoc6UfrBXcBQBoZCvI2CPweHQwc9QA6tnl2tqXNnT3x5a9PXcBAEjXcl149jozh+AuAADTOnPBPcNiHwCAv7vSXbuPx+Pxr7MLAAAwg5J9d0s/7Y/lNcsdBHf3bsOrvXkAABhR6hr5imtpwV0AgIGMuuCM/dgb//R6vf78DwCA+cyy/rUtAwBAoq1AXeiHz3oYNfALAACju+paWnAXACDR1if3LReIsQXnTIvRkjscZjk3AADmM9NaOpfgLgDAjiPvzr2CnvU0w1fj7sa4AAA4j+AuAMAA1ncTLPf4uvKdBrnUAwAAOa6+lhbcBQBI0Ptu1CstOG3LAADASELr0yt8Q09wFwBgYCmB3+WiNLZAXS5q18/Hnss18+IYAIBrOftHkXsT3AUAiDhij9fYojJlwfk+ZhkIXgeFY39f7c5hAAC4C8FdAIAN66Bur0/3W6UXC9DuBW/37vgFAIArOGqNfyTBXQCADS0WeO+gaSitvTyOXGTu3cU7+92964X83rYVseNmEbrrPLYlx9bzAACj21t3L49LNcv6V3AXAOBi9haid9ySYXm+KcdcoU7W5xz7kOEq5wwAcDe/fHx8fJxdCACAK+sdOHun3+vH1K4S+Eutp9HOtbZMe8HdEc8ZAKBEq3XNTOsjd+4CAFxE6Q+zzbJwbWUZ4AUAgJn96+wCAABc3czBxJnuWsg1a5u0dOX2BQDup8W6e7b1keAuAMABei0Q34vXXoHKmRa2AABQu36dbf1rWwYAgInNtvg8y/oOjK27Oma7S6PW3c4XAOCK3LkLAMBt3WFrhll+OA4AgHzu3AUA4JZG2ws5VpbQczkBWgFdAIDrEdwFAODWRgl6hsrQunyjnC8AAPVsywAAwKWlBDMFPAEAmJE7dwEAuK29rRnezy2PC+1hu0wz9bmjCWIDAFyL4C4AALcXCni+H18GRdcB0tjfowVTRyoLAAD1BHcBALik5R2zsbtuU9Ip3Q93747fI52dPwAA7QnuAgBwSanBzN5BzxHu4hXYBQC4Jj+oBgAAifYCtOstGVoQmAUAIOSXj4+Pj7MLAQAAI3oHa6/wY2oAAFyP4C4AAASM9oNoAACwZFsGAAAAAIAJCe4CAMCG95YKrfbOBQCA1mzLAAAAAAAwIXfuAgAAAABMSHAXAAAAAGBCgrsAAAAAABMS3AUAAAAAmJDgLgAAAADAhAR3AQAAAAAmJLgLAAAAADAhwV0AAAAAgAkJ7gIAAAAATEhwFwAAAABgQoK7AAAAAAATEtwFAAAAAJiQ4C4AAAAAwIQEdwEAAAAAJiS4CwAAAAAwIcFdAAAAAIAJCe4CAAAAAExIcBcAAAAAYEKCuwAAAAAAExLcBQDgcp7P5+P5fJ5dDAAA6EpwFwCAS3k+n4/X6/V4vV4CvI0IlgMAjElwFwCAS3oHee+sNiArqAsAMDbBXQAALunugd0W3ndAAwAwJsFdAAAuw12mAADcya9nFwAAAGpsBXTfjy3vOl0/tnXMVpp7d65upetuVwAAjiC4CwDA1NYB3FCw9v0Da3vB2L2/l4+v01mXBwAAerItAwAAtxML7Jaks/43AAAcwZ27AABcQiwwGwrCbgVkc+4EHkXs3EPPjVR+AADKCO4CAHAZNQHLdxA0Z7/d9evPCpiG8h0tCA0AQFuCuwAAsJD6A2oAAHA2e+4CAHALe3exxu5+TTku9rrlD7ltHZfynKAyAABr7twFAICAlG0NtoKu79e9n4v9gFvJcwAA8HgI7gIAcAGt7mpdBmTff+8d9/53zo+2PR7/3OM35Yfcjrau162yAgBwHsFdAAAuYS/gmBqQbHVc7E7c3LzOMnr5AADuzp67AAAdzb5P6ujlH718W2L764YeLw2yCs4CAHdTuz6cbX3pzl0AgIiUxV3sa/fr50LprbcD2Ep/6/newbutLQdGsdzXdsTyra3LGtsCItYfAADYFloXhtblW8fOtL58PB6PXz4+Pj7OLgQAwOhiC7ycReTyucdjOzi7t6/p0YvNkRe3Z5btqGD7yPUPADCS2Lp8Lba+mmn9ZVsGAIAGtn546iqBvpHvIj1z0f16vf7xXwvLup7pjQUAwJly1k0pv9Uw6vp3zbYMAAAwkOWbCYFdAIA2rrquEtwFANiRu+9uzd2WsbzcxXkf2hkAIN2d18m2ZQAAGMTIi9KZvpoGAABbns9n8pp2lvWvO3cBABKU/PBZSyMHfgEAYHTL9fSVtsAS3AUASJD7C7sl6YfSmy2wW3KHw0znBwDAfJbrzVnuyk0huAsAEHGlT/WP0rOurrIIvxrjAwAY2ZXXKoK7AAAnW9+Zu7yTYLa7dntTFwAAtHKFtbbgLgDAjt53os6+oFyzLQMAAKO44np7SXAXAGBQKQvRnB+GCD2/fLzF4vfKi2cAAOYTWuNeYd0quAsAEHDE/q6xBWVqYHcdtN1avK6DwHv/BgCAK9j68bQr/Y6D4C4AwEpo8dc68NnyDtlYWsv9e5fHCuYCAHAH6wDvldbAv3x8fHycXQgAgKs5KnC6zmfvrt3c16Y8N4N1wD5UH2szn/Nb6M6U0PYcoecBAEbWer06y/r3X2cXAACA9mJfNdt6bpbFa6nX67V7fstjUo6fxfpcQud2xXMHALg6wV0AgA629vY6Mt91MO/5fP753zKI934s5iqB360fn4sdM5Ij+tKo5w4AkKLl+numdZE9dwEAJpb6q7+hxelesPOKzgq8AwBAa+7cBQDoZOQg4rJcV95rN2bUtjnDldsZALiPFuvv2dZF7twFAOho1IXhcuEbK+Oo5QcAgC2169fZ1r/u3AUAuKk7/XDW1j7Ee8fcxV3PGwDgCgR3AQC4rTttzSCgDQBwPbZlAADglkbcEzlWntBzucFZAV0AgOsQ3AUA4NZGCnYe+cN2I503AABlbMsAAMClpQQxBToBAJiR4C4AALeVEvRd/ntv24TQ88vnRtgKQjAbAOAabMsAAMDtxX5s7B2MfR+zFRhdPrZ+PvbcWUYoAwAA9QR3AQC4pPVdt49HXlBzeWzsdes7ckOB3VGMVh4AAMoJ7gIAcEmpQcy9wG1KsHaWgOks5QQAII09dwEAINPe3ruhx0uDq4KyAABscecuAAAkeu/Bu96yYRnQjT0HAAAt/fLx8fFxdiEAAODqRtx/FwCAudmWAQAAOlj/oJvALgAArblzFwAAOnkHeAV2AQDoQXAXAAAAAGBCtmUAAAAAAJiQ4C4AAAAAwIQEdwEAAAAAJiS4CwAAAAAwIcFdAAAAAIAJCe4CAAAAAExIcBcAAAAAYEKCuwAAAAAAExLcBQAAAACYkOAuAAAAAMCEBHcBAAAAACYkuAsAAAAAMCHBXQAAAACACQnuAgAAAABMSHAXAAAAAGBCgrsAAAAAABMS3AUAAAAAmJDgLgAAAADAhAR3AQAAAAAmJLgLAAAAADAhwV0AAAAAgAkJ7gIAAAAATEhwFwAAAABgQoK7AAAAAAATEtwFAAAAAJiQ4C4AAAAAwIQEdws8n8+zizC8nDqqqU9tcQz1fA3P5/PP/0Z21PxBmSvW+Wzn9J//9T9nF6GZWc9ltj5zNXeqf9fEsalzAEZQHdzdCxT0uOC5iHKUZV9r3e9C6eXmaTyQ4t1PXq/X4/V6nVyaflLHg3HT3wh1vPxAI/RfbnpnKAmAnhU0nTVYe4QRxgT34po4DnUMQE/D37l79oXwiPzPPsdZXKmeRj6Xkct2JWfU85WDujH6dLnZ6+79YcbyQ42txygjkMudzTo/zlruEag7AEbVLLh75MXOmzFm1eMr8cYD/CV1PBg3/V2xjs86p//7f/7XIa9p4ax8Z3DFMcHYXBPHoY4B6KlJcPd9sfJpJneXMgbcLQYAAABAC7+2Suj1elVv+L8MeG3tO7oMIm8Fx3LS3AuuxfIP5ZdSptRzDKUTKsNWuqXnnlL2kuNyj916TU1brI9LyXt5TIuAbI881+Ph/XduXZ9Zz6lljo39nDpocR5beaSkX1LPufmH0god2zK/UJpHzR/LvpB6HYnNv73m062ytOyvtce2mA9q56at40JzQCslc1BOvb+3MVjf3br1+PKx//yv/9m9I3adRsprlq972yrbuww1+W69Pla+5fE5dwPvzXOxdVTp9XMr71BepWMip5+lpN1yXtm7Poy6Bt06PmWdkbN+zy2na6Jr4kjXRAAm8lHp06dPf/v38u/187HjYsemPhbLO6VcW3LySilr6vmk5JlallbnXtMWucemlCf0+pq2qJWTZqv8U85/9HpOTT+UVk4dtDqPWJ3WjPuc8rTob0fld9T8UXodKW3L1P4de6xVf+1VxymvT2mLmvEXOzZHzjhIPafUPD4+Pj7+43//98d//O//Tnp8+djWcymvT1GSdiyPnPNLTSP1XHL74N7foXRSH2s1JnL72V7areeV2uthyety2irn+NTziB2b8nrXxPBjronHXRMBuI6mP6iWcxfm1rG5d//upRm707c0r3Xaob/3Hq/N7/EI312wPL7m3FPuQgi1Y82xuVLaokcfGFlq/2ydZsv+VlvmUHotz6P1uM+dH2vrqGd+s8wf63z2/m41j+z1w9z+GnpuXb5W1+DS8Vo6/nLyKNVqDoq9LnRHa+jO1Jw7b0v3uk15Xc0+uqHyhdLcqo/YncNvKeMzpV/VjI2SPtNqLOWk3XpeiaXRaw2aU7Ye7z1yuSbGuSaGX3fWNRGAuTTblmFp7ysiPS5GI1/gWi4aj/76zVWDn61s1U/rABxzKh07R/eXnvmZP/7Se+5uGXgnT0nbpm6ZkJLO41H/I2Z7gdNao/3IWs+5qVfaZ3z9+uy5omVdnn0uj4dr4pJrIgC01Ty4+/6Uc7Q9gM5aUG3tr9Qzn5RgY26atemMokf51318tH5/htn7yVvNeVxt7JSYrQ5C8+fWGC9Nu2RfQsbWum339rddH/t4tAnsbu31e6bSMqTeEZq6T2pJ/j3mvZnnEGvQf5vtfFwTAWAuXe7cPeorTjnOWDS0DvQt63WZ9t7XDkvKcMUg5dXOZ1RXqefS87ji2Mk1cx3EPih7PNp8VX/ED0Apl9u2y+DtMrC6DuruBW3fx9fcBdzqDuLWSsuUMqbWX8luNQ6PvBNxpjnEGnTu83FNBIA5NN1zd220AC8AhLTaczU3H67j6LZ9B0FHuNt2Jq/Xa+pxOHPZmYdrIgDMo1twN3Sh3voqzlvpp7Z72xHEflzhSK3yDKUT+vpUi3NPTbvFsT2M0geu7oh6PqIdW55Hzut6zI8j5Df7/BErR0oZepczpx2P7mMlctr77Hm8Jv9QQDY3UNsywNsjSBzaZiKU19bxKeVKGZ8pfajV2GjZN8/o5y3mip5r0NDjW2XLPZej1zHLMrY+tifXxGPMdE0E4DxdtmXYE7qQhn4JdBmk3Uuz9PmU1+Ve4Le2S9hbpO3l8T42tHDdq8OeZW957F6ZWn4I0NIIi8BaI9dzaJ+2owK8Ja/LHfc582MLPfIbbf7I7dOxN3Sl/aJ3e5ZcV1teg1urvV4cqaRt3wHM9fYDocdT08t97dZWEDkB3uXxsXxr0s0R6yN78+378VDfy827dX896pqwzqP2+nDGGjSW5t7xOeuM0vcoromuiblmuiYCcI5fPj4+Ps4uBADAnlHupOKa9C9gJuYsAN667rkLAAAAAEAfgrsAwFBG3v8QAI7kmgjAnlP23AUAiDljj1EAGJFrIgAx9twFAAAAAJiQbRkAAAAAACYkuAsAAAAAMCHBXQAAAACACQnuAgAAAABMSHAXAAAAAGBCgrsAAAAAABMS3AUAAAAAmND/A2TFS09LbG/sAAAAAElFTkSuQmCC)"
      ],
      "metadata": {
        "id": "l3nlPX7WGnHz"
      }
    },
    {
      "cell_type": "markdown",
      "source": [
        "**Log likelihood**\n",
        "\n",
        "To compute the loglikelihood of that very same word, we can implement the following equations:\n",
        "\n",
        "![image.png](data:image/png;base64,iVBORw0KGgoAAAANSUhEUgAAAT8AAABLCAYAAAAGYoDIAAAFB0lEQVR4nO3cXZacIBCGYSYnK+kdzMJnS70Vc5H0OR4jPwVFUVjvczWJjtAOfo2CfB3HcSQACObX6goAwAqEH4CQCD8AIRF+AEIi/ACERPgBCInwAxAS4Qc48Hq9Vleh2651/2KSM/C/1+uV3u+3aP+a3PHuysod7/1+F7flflfyWXpIzpf03M5C+AEXIxdn6Xdz22q/k9J9eJW21Y6rrefLYnUActsLnMy+KK+9slnlWYdLqUeqsf8MhB/wj4feSCSrA5DwA5JO8Emf+43eXpe27RLiKwOQ8AM24zXcVvfkpAg/hKcZJrmBCavA8hqMJatC87d5icCDzZ5m0jOajHuEH0LTCozatBOUfXp/lueP215gE9dw0Bo8iYrwQ1jagTF7fmCEcLN89sdtL7C5lmA835bnbtHPwSPZpsV64IPwAwZZXLClwGkJo/N7v7Wfa9uegvADOt29qpaSfs9I63g97xZ/yn/igA7hh5A0emujQdAywlkrwyqMWnqBmiPnFp9LdcDjM5lzNkk52nXqKdvTrHcPdVpd/seTejFSrSFm/XfadqqL9bfQ1d1FZXULYlG2Bg918lAHL6we8n8C7e5tk/P/S7bdHX8nj7rtXflu4W7vNSKmXECNDqjs6HHz/Fb+oZ7aSDDX7l+cO/b6Unpg+AE7slhAdVbA7hh8KRnf9rYMl18nU7YOsUv3O5cxcryesq33k+7rgUVbiWKXv/mZRW/SLPzuRpDuZpH3TrRsvXVomV4gneDZUnbrMVvOk3S/87YdLvzZbQVIySj8ciNIErMneua2a602Ubt4S2W31rGlbOm57wnLkXPlqa3g2dyM9uYauOa3OD0COY/ny6KtSMpFmcc2lJJB+JUazLmx5r7hNYPvWmZpH2ut56l1v9q+HnlpKzk/Pz9Tjw9brnp+10at2Zglz7y8flOtYH3b22J2W8n5/v6eXgbsTA+/0jObuwY7uxGXnuG1PmObWa/cNul+tX0l9bLira3g2czm+Z0btYfbsdJFtvq917ufe/eT7uvBbvXFnr6O4zi0Dla7DanNw2r91r8rJzd/LzcXrHT8XBkjZefK7zlP0v2u+1rfLubqUipfq62U6kDP0Serv41q+I1onfsGaLQVT23KU116aNff6ny4GfAAdjUyiJab75k7Rq3Hu2IUXGsurDU34Zc7gTueVMzlra1I39yRHO/879q21rrgLzfhl1L7MzFgx7ZSeiVvZjkWduz9uQq/lPw3YPgx2lZ2u1gjsBzdZ0krhKQdetLnfiPBK3nLZ0dW9Sf8gI14DrfVc2Sl3N32ArsambOpwXMwekT4ISzth/Szp5k8fS6s9Wcg/IBBlr076OGZH7CBu0Vec9vQhvBDaFoP6Wcvovr0cFvxGQk/YGMtoXFdJac2VSa3rNvKxX5n4JkfwhsZ+LAIglK9WoLv3Lstvf52XTG89rOWVT1bwg/ocA29WYMeo8fLPSe8uvbqIrwjTPgBSd770wilWnm1MnrXLiytZD6iJyhXhivP/IB/dntDYVTrSuHn/9tx3b4cN4uZAl5YXpQWZbUu/yVZvbylDGmdrHHbC1zsuDxTSestbu7zlhZK7eHl3NLzAxbzEgZXraO8XutfQ/gByHryq3uEH4CQGO0FEBLhByAkwg9ASIQfgJAIPwAhEX4AQiL8AIRE+AEIifADEBLhByAkwg9ASIQfgJAIPwAhEX4AQiL8AIT0B3F3LnbEVJHcAAAAAElFTkSuQmCC)"
      ],
      "metadata": {
        "id": "jhv3wIi_GzLT"
      }
    },
    {
      "cell_type": "markdown",
      "source": [
        "**Create freqs dictionary**\n",
        "\n",
        "Given your count_tweets() function, you can compute a dictionary called freqs that contains all the frequencies.\n",
        "In this freqs dictionary, the key is the tuple (word, label)\n",
        "The value is the number of times it has appeared.\n",
        "We will use this dictionary in several parts of this assignment."
      ],
      "metadata": {
        "id": "wV4j4rw9G8hq"
      }
    },
    {
      "cell_type": "code",
      "source": [
        "# Build the freqs dictionary for later uses\n",
        "\n",
        "freqs = count_tweets({}, train_x, train_y)\n",
        "\n",
        "#print(freqs)"
      ],
      "metadata": {
        "id": "_9hj7OuVHBzj"
      },
      "execution_count": 21,
      "outputs": []
    },
    {
      "cell_type": "markdown",
      "source": [
        "![image.png](data:image/png;base64,iVBORw0KGgoAAAANSUhEUgAABXsAAANgCAYAAAB9abv4AAAgAElEQVR4nOzd7bHbtrYAUOZOGnAJT3MaSBE3LaQAV5FiXIBbcBNu4IxacAnn/cjIoXkJEp8kCK41k4mPRIGbAAhSWxD028fHx8cEAAAAAMCl/efsAAAAAAAAKCfZCwAAAAAwAMleAAAAAIABSPYCAAAAAAxAshcAAAAAYACSvQAAAAAAA5DsBQAAAAAYgGQvAAAAAMAAJHsBAAAAAAYg2QsAAAAAMADJXgAAAACAAUj2AgAAAAAMQLIXAAAAAGAAkr0AAAAAAAOQ7AUAAAAAGIBkLwAAAADAACR7AQAAAAAG8PvZAdzZ4/H4+e/n83liJAAAAADA1TWf2ft4PH5JagIAAAAAUN9Qyzj0mljuNS4AAAAAYByWcTiRpRsAAAAAgFqGmtkLAAAAAHBXp83sfS1r8JrdGvNjZculENZeu1XWfJ/LbZbxbMW6F9faPkJx5Za9tW2NOgUAAAAAruX0ZRzWkpmPx2M1Sdtynz2UFVt2ToK4dZ0CAAAAAOc6Pdk7Teuzb5fJydB288f3kqChsnLFzCBOjWuv7OVzIaV1CgAAAABcy+lr9m4lH1NeV7LPHFvJ2NLy95ZfCC1fURqPJRwAAAAA4LpOT/ameDwe3c0+bZkgPSL52mOdAgAAAADpLpHsXVvGQIKyjDoFAAAAgLFcItk7Tf8kJ3PWriVMnQIAAADAOC6T7H1ZS1BSRp0CAAAAwPVdItl75GzT5b72fgRt7fnSeOdlb5VfkqA1gxcAAAAAxvL72QHEWktOhpKd821jE6LP5/Pn61ITobHb58QVKr/GTNxW5QIAAAAAx7vEzN41a0nJ0kRlapmh5Q+Wj+XEtbW0QquErEQvAAAAAFzXbx8fHx9nBwEAAAAAQJnLzuwFAAAAAOBfkr0AAAAAAAOQ7AUAAAAAGIBkLwAAAADAACR7AQAAAAAGINkLAAAAADAAyV4AAAAAgAFI9gIAAAAADECyFwAAAABgAJK9AAAAAAADkOwFAAAAABiAZC8AAAAAwAAkewEAAAAABiDZCwAAAAAwAMleAAAAAIABSPYCAAAAAAxAshcAAAAAYACSvQAAAAAAA5DsBQAAAAAYgGQvAAAAAMAAJHsBAAAAAAYg2QsAAAAAMIDfzw4ARvfjx4+zQxjCp0+fzg4BmjBG1GOcAAAA7s7MXgAAAACAAUj2AgAAAAAMQLK3scfj8fO/K7t6/BCj934+ynhyVeqdaeq/H8SMEznHUPu4a5Y32tg4ynGMSNuM605t29OxjjZ+A/TisGTvfCAPDeqjDfKv43k+n9Pz+Tw5mrpqtdVobX5Ff/zxx8//rq7nZESpkceTNT3VPcaJI8srcbdxYpruecwjKDlvejrnaEtbj2OtLdfGb20OUMchyd7lQH6nG/K7HGcMF++wUZIoZ3o8Hl2cby37eezx9Xiupcb0fD67PI4zGSfKGSfGdMdj3tLj2LmMyRh/HvVOT4zfAG383noHW2+slo8b7K+jVltp8/N9//797BCKtUrg6J/neiUDtMP5jBNh+ifkyR3jnXP3oa3HEduW2hygDmv2AgAAAAAMoOnM3tRP6+fbz5d+WNtu+dz8K0nL17zKXfsKWWxcKa+bb7+May2W2OPYimetrte+phVzzDHHG2rbva+GLdsupZySdt3bJlTWXnmlnz4vv5K9/Hs+m+713Pfv3ze3WyundJuYfcaYlxfzeIzYPpTTVinn1dp5n3O+LV+3NZ5slTWPIRTP1lhaMi7txR96fu31sTO/cs/xlHE2Vo2+N3e3ceJV5tprQ4/vMU7sa3FupMaSct8Sc8y59xIp401Jv0pp19S4rnINyJndu9x+b3yvfX0IxZRbfk5/yTmGnPEnp05a3J/vxZzbb0Px78W9t13tWGu9p9t6XU57Lbfben6tLZf/3hoPUvu/GcLA3TVfxiFXKPE2f/4ldNM3t7ZNys3lXvlr225drGIejzmO12Mx+9hLxJa8br5d6Bhi63vrTUlJu9aq27Xycr2SFinJzmWy47WO57ysteTP8vG1bXL3GeuVDFrGu4ynlpTzNsZWH0nt52uvXdtPSrk5McTEmDO+xsRfMt6sqXUdqBFXzb53t3Fiq7wW7jZObMm9Tube08SUvRfrXmKg5Bhi4iy551jbbms/pfefOVpeA2oK1dc8hvnjNftFyfuQ3PhyrnG5bZEzRta8P59vV/O9YUzcMTGtbVcz1pL3dGv72lISR0qcOe8Nc65PAHd2+DIOr4v9/CZnb/u9v5cD+9oFdm2bWLUvHDFvil7b7V1EU+Lb266k/NCbqtS6C5Xzeiy3XWPiCG2z1wePtpc4WT5fI4laMxG7VlbrRG9LuftJ7eslYsec5fa541JJ/Ln1mXOOp9TLmdeMHFcfJ45inPi1vJxt1uKoNS4cVW+5id7c8mLumUrvp/Ze2+s1IFeovkruE2OOo/R9SO51qfZ7nZBa1+SS+/OlWu8NY+MJvTbl/VHtWGuMMall5rymRh+sNe4C3M3hM3tTPl3syZVifTn6E85a+2oV8xXbMMYVEyzT1G6W3lyLNq95Xh19Y9rjrIfaM9B60VMs03S9cWJtSYjX47UZJ/51dr+9ar2tKU3WtNDjNYD+tR4Xzh53ShwVe865WyORnhqHMQagH90u4zBN8Z+kHnETckSSuvYMneXs6TtffHPbsOTT/LMckUQtNU/ktEpCtThvRz2vXnW1Vkc538CIVbM+jxqnrxZLyBXGiWn6dymHVvEaJ/5Vuy5yZvFeod5ix8Tex4C5s64Bozji+M+q49Z9ObX8Xt4bvvaxFXutWI8aG2OPJxRHyzjvPsYA5Gie7K3xCd/WTeg0tX0zcOQnlLX3s7xg3/XT1iP6YC/2fgCtF/N4Stb0DGnZ1696Xs377zzmZb/O+Rpora8X59ZnT23QUywhVxknlowT7bSIr/Qrwb3WW8zXp3uLeZr6vQaM4IjjH3EmeEn5Z743nO8/ZduSWFuPjbHl7cXRKs67jzEAOZqu2dticDfY51Fv+Y7og8sfYLqD79+/X+6r5UvOq7rU57a7jRNXHx9e9Os86g1Yc6X3hi1i7eV49+LoJU6Au2r+A22tZ0Ould9yf63KjjmOlK/Y5cRZ8hW+kteulRMqq8aNQ4s27HnGb2+JobV4WsdYq31aL7Uy30+rm+TQMYS+apgzLsXWU6vzpqTcWmNZjViO1Ns4MXdUbMaJX8uOfXwtjpxx4Qr1Vuu4ao8zKXq6BqTG2FJuXznifcjR73VCWu+zVvm170ti+kFu7DGxHv2eLrTdkWP4XI/3mQBXcMiavbFrFm3ZutC2TCivfb3tyItZzDaxF/TYr+fElh/z2tDzW7GE3qTVenOW04av17T8lPq1LuU8sZE6sy1URmyCtfU6umvlz2PO2e9a27Q8b/f6ZWw/n29bq6/vxRDqx1v9O3dcio1p79hz3myXtnfNcbD2NeMO48Sa0n0ZJ7bF1kXo3IgpM0bNYzxifI15PqUua7naNaCHGYApfTvmtbXV3Efq/XiLGGqU3+K9YWw/SIl97z1ETKy13tPFbpv73rLVdeqIcwxgNL99fHx8nB0E5Xq5WR7V1k3xXt3/+PGjWVx38unTp+Bz+v+47tC2xoiw1MSycQKuZXlennGeGhtoKfaDPQCoqfkyDgCt+cR/TN6AU5NxAvpijAcAaEOyF3bsfSLvjUofJHLGIglAi+UijBPQh61lI2AUZvUCcJZD1uyFK1quXcW62B9POmJ9T+00Dm05lpRxomQ94hj6FpzPecjIvIcA4GzW7IXGrMdZx9ZanHBlxoh6jBMAAMDdSfYCAAAAAAzAmr0AAAAAAAOQ7AUAAAAAGIBkLwAAAADAACR7AQAAAAAGINkLAAAAADAAyV4AAAAAgAFI9gIAAAAADECyFwAAAABgAJK9AAAAAAADkOwFAAAAABiAZC8AAAAAwAAkewEAAAAABiDZCwAAAAAwAMleAAAAAIABSPYCAAAAAAxAshcAAAAAYACSvQAAAAAAA5DsBQAAAAAYgGQvAAAAAMAAJHsBAAAAAAYg2QsAAAAAMADJXgAAAACAAUj2AgAAAAAMQLIXAAAAAGAAv58dQIrH4zFN0zQ9n89Llp/qFc/SMr7ldr3EDwAAAAAc59Bk71ryUmIy7FU3e0no5/M5PR4PdQkAAAAAN3ZIsjc0Q3UkZ84KlugFAAAAAJone+eJ3r3lBwAAAAAAyHPYD7StzTw1G7WcWb0AAAAAwDQ1ntmbs7RB7o+NhdYDDsWQGttWXPPn9va39noAAAAAgFKHzeyNsZawjVnqofVyELlx1Xr9VrmSxgAAAADANB30A20pQjNmQ0JrAtdOAG+VnTOD+PF4RCdr5+XPXy/RCwAAAAC8dJXsXUtqprx26+8SJXG9mMkLAAAAALTU/TIOPegtLklfAAAAAGDpkJm9McnJteUOekiy1opLchYAAAAAaKnpzN69BGnNZO7amrahv89IIu/Fl1KOxDEAAAAAsNR8Zu98vdvUH1yrXX5Jkjf2tcuZwKnHv0eiFwAAAABYc8iavaEE5fzxkh9Y29p27bmSsmOOpXYMJa8BAAAAAO7ht4+Pj4+zgwAAAAAAoMwhM3sBAAAAAGhLshcAAAAAYACSvQAAAAAAA5DsBQAAAAAYgGQvAAAAAMAAJHsBAAAAAAYg2QsAAAAAMADJXgAAAACAAUj2AgAAAAAMQLIXAAAAAGAAkr0AAAAAAAOQ7AUAAAAAGIBkLwAAAADAACR7AQAAAAAGINkLAAAAADAAyV4AAAAAgAFI9gIAAAAADECyFwAAAABgAJK9AAAAAAADkOwFAAAAABiAZC8AAAAAwAAkewEAAAAABvD72QEAAPCrHz9+nB3CKT59+nR2CACXdZVrh7EeoC0zewEAAAAABiDZCwAAAAAwAMlepmmapsfjcXYIVHS39rza8T4ej5//0aeWbaPdx6Et+6AduIL5tX/rPmDvea5Pu+5zDgCUuUWyN+ZC4UICHOE11jyfz+n5fB6+X7iLO/X5P/7445f/7q5W29+pD9He8rofug94PZZ6n6C/Moqz7pVjtD7PnMdALbdI9u5dJB6PR3cXkpZcRM5Vu/615/Xcaby5uyPOT2PAMXqt51dy9/v37z//I12v7dvKVY73KnHWlPO+5G7vZa7kDn24xQeNPfTnM9ru+Xzeos8A7d0i2fsS+qpUDxcTgJaMc9yNPn9ftdpeH+IKvJeB4xxxrkn4AjV0m+z9+vXr9Oeff06Px2P6888/p69fvxaV5yYIAADolcQtAFDD72cHsObr16/T33///fPv9/f3n3//9ddfRWXPb6LWbqjWPkVb22btRizlBm1rP8vnQvvf225rn/O1kLbiCpU5365WfFtxLF+f0k6hOGrWc0yfSK3/XtoztH1M3cSeK6VttXYcW9stt41p+5T2WHvNWnttlVur7mLKW74utI+UGENxhLYN9d21OqwxFmyVEdu/YrctOT+3tonZR0p5r+dTx71a511ufLHnUO/Xzlbmyzwsv2a7XPJh7/nQdqXlpSi9JseUvXWfGCqn9FzKKWuvvL19xfbnUFkhMdeVtW1zx7eY4829bqyVtzeuHL0e/951cuu5kd/3bMVY8h4wdv89Xztyx/q9Mb50zN+6V659X7y2n63nj74ubB0zQIwuk71fvnwJPl6S7J0PrmsD8taFuOZAG3OztZdoWbuw7cUZc5GKKTMmEZQT33zbebzzx0LPp8axVn7M60OPxcip/17ac01JG6eUN0312yqnD+/FvoxzWcZee5XIbYvYNzulsbS6US0ZC/a2zd3updb5OS9r+brcPpXT91Prr2SMq3luxsTQ+1i7Zi3ZOk/qhl4zf+61xuLrseXrl89v7Sc2nrXyUpSMWaHrSep5VOMepFa/jxmDQo/vJSxyz7uUOLfOiZR2WUueLJ9fxtJyXMlVo5yz62LNWe97UmPc67dXu08PiR2bY64JoetHrlr3yil1O9/v8rVnXxcASnS5jMP7+3vS47libnhej5UmQPb2M/87ZrDfen2umDLXLkZr9ZMb3179pLZTqJzY+Fr3h5fYek1Rsz1zy09xVFvl9uGQo8aOLTltEZNwSJXTn2L75XL70rFgaz+xdVBSVyX9ukTO9eX12Fo7nnHeHVHvtcusPcav/Rjb3o+zbT239kZ9+SY+tF1q3LlKzteYe6/YGEKvK7kXKun3a+dartLrWUobtbjv2auLVtfr1H6Uet3LcVZdhOLo8X1Pyj6veJ+eIuZDvbVrQq9i6zZ22y2trgsApbqc2fv29raa2H17eysu+zXo1k5ypMaw54gEUa/26sdFkd7ok+Vy3ugeXe9nzbxo8eFSz3qPbxQ1llSIUTqbt5Za526rMaCXfj/69ayn4zt7Np/3Pf8bQ0/9o7VexuYz9X5dACjRZbL38+fPv6zZO3/8Dta+3tGT3uIZxVn1esf2vOMxH6XVrPez2+wVwzyOI27ua18Pzry+xOyr9+tfiSscS80ZW/M1gufl3j25sCa336fMuO9RzXPiynVRO8l4tbroYdyPucaPcp+eMjZfYRYvAOu6TPa+1uX98uXL9P7+Pr29vU2fP38u/nG2K7jCp8q9x3dVZ9XrHdvzjsd8lJy6nb8xnY+ByzesZ7fb8s1o6/G6xdd6e55FdnZ8rV3h2GonYtfW9TWb7Fc1+n0vH4qlanFOXLUuWrhCXfQ07u9d40e6T48dm43VANfV5Zq90/RPwvfbt2/T8/mcvn37dotELwDX0MubU7gKSYM2rP/4ryvWRatk5xXroid3qq8aY/OV1vMFuItuk71HW/v6zkvolzS3/t7bz9o+1vT2afxa/Ed8DW+++H1KO5VK2U9JvbSu1zP3e9RxxbZV7WNu2SfPPNdyYimt25RxsEa9p9RBD2PxUWv3lox7oW1z+kYPdV7LWWN8rNg36ls/2rZU+01/6phV67Vr5bS8BzmzX5QeX0o9n3FOHHWvnxrTGe70vicm9r39jnSfHjM295q8bXH/vreP2HJavzft6Z4BuIYul3E4S2iwDr1pXX69uPTGZ+25Fl+/mpdZ+pXrFvbKj22nVrGs7SelT4TqP7dee27P0nMlZ1/Lx2K3rbHvmn3yiLoL1VnosdT+nRNLaLyNPe9ej6fud++xafrfG+3UhHJqf4i9HsTuI6e8+WMxZaZumxPfWXoea2t4reO49uZ+ay3H+fqPa+XFlBUr5XyNeW3o+ZjzqNZ4X6Pfb42TMftduxfJPb6UNoo51tTzbq8ujrrXj1HjvjXmGnl2XZz5vicl9th6yI1hrczU19cQOzanXhPWtq/5jY4W52Sv14Vp6muJE+Cafvv4+Pg4OwjokYssd6Xv31dK2+snbf348ePsEKLNE7+lPn36VFzG3ZQkko5y1HhxhbqoLVS3d6wLrnPtMNZvc48FlLKMAwAAwAX1/q0BII1EL1CDZC8AAFxQb7M3W69bGbPvXuriSMuE753rAq5MoheoxZq9AABwIct1K3tyxG8qhPbXW10caW39W+BanLdALdbsBQDozFXWXazNOo4A+a5y7TDWA7Ql2QsAAAAAMABr9gIAAAAADECyFwAAAABgAJK9AAAAAAADkOwFAAAAABiAZC8AAAAAwAAkewEAAAAABiDZCwAAAAAwAMleAAAAAIABSPYCAAAAAAxAshcAAAAAYACSvQAAAAAAA5DsBQAAAAAYgGQvAAAAAMAAJHsBAAAAAAYg2QsAAAAAMADJXgAAAACAAUj2AgAAAAAMQLIXAAAAAGAAkr0AAAAAAAOQ7AUAAAAAGIBkLwAAAADAACR7AQAAAAAGINkLAAAAADAAyV4AAAAAgAFcKtn7eDymx+Nx2fJrulKsV1Jar9oFAAAAgLP8fuTO1pJgz+fzyBCG8Hg8ftbb/N+cS7sAAAAAcKZDkr13mOn4OsYjE3wSin3SLgAAAACcoXmyd57oXSbA7pAEbklCsU/aBQAAAIAzHLZm71oCTFIsnQR5n7QLAAAAAGdrOrM3Z2mDZdIs9rWh9YBDMaTGthXX/Lm9/a29PnXfof0sH9s6xq0Z13v7OmuZgpg2WB772rYx5eXEsxbHVmyh/cW2TS/tAgAAAEAfDv2Btj2h5FlsMrKV3LhqvX6ZOAwlLl/J7b0k4N7fy7hjk5QtxdZhqC+sHXPMPrbUbpdQnHsfVJzZLgAAAAD0o6tk7zSFZ8yGhGZB1k4Ab5WdM4P4lfxrlaDbSvTmlPP695nLFcQeR0pSt2WfWbOX6E0t5/Vvy0gAAAAA0FWytyRptUyc1Uyi1kim1UjGxSY4Q/9ee2xvRmovYttgrR+EXpey7ZZa7bJ8PGbmLwAAAAC8dJXs7XV2Yk9xlST6XseRsl7v8vVnJRp7aoM1pfVS0jYSwAAAAABM00HJ3pR1d4/+Wv2eWnH1lIw7ew3kVL32jRZifpANAAAAANb8p2XhtX8Qa8uyrK2/z0ia7cVXax9bycLQc2trEMfsaz4bNdS+Oc8d5Yg2eZW7V6cxbZPzg4BbdRz7nCQzAAAAwDU0n9k7Xwc19QfXapdfkrSKfe1yFmrq8R8tZdb13NoPjYX+vfdcSqw19N4mL3v1FEqir/1gYEp71GgrAAAAAI7XdGbvS8yPUZX8wFrqbNaSsmOOpXYM01Q/0fn6b+t4ltvE/lhYzAzjlFm9LX58r0abTFPdZHFM2+y1S8yPwC1nZMf8YB8AAAAA/fvt4+Pj4+wg2Hd2Em5t/6FEYcy2e49fxdnxp7TL1mtytgUAAACgL4fM7CVfz8sMzMUmEK9yPHuueBxb6/OGHpfoBQAAALiO5mv2km9rpuzZQmvDvv4d+mGxreeuoud2WbOMNaV9AAAAALgOyzh07syEYuwPs91Rr+1Sez93bmMAAACAq5HsJYtE4HiWy21oXwAAAIBrkewl2dWXYSBsbVkOAAAAAK5BshcAAAAAYAD/OTsAAAAAAADKSfYCAAAAAAxAshcAAAAAYACSvQAAAAAAA5DsBQAAAAAYgGQvAAAAAMAAJHsBAAAAAAYg2QsAAAAAMADJXgAAAACAAUj2AgAAAAAMQLIXAAAAAGAAkr0AAAAAAAOQ7AUAAAAAGIBkLwAAAADAACR7AQAAAAAGINkLAAAAADAAyV4AAAAAgAFI9gIAAAAADECyFwAAAABgAJK9AAAAAAADkOwFAAAAABiAZC8AAAAAwAB+PzsAxvLjx4+zQzjFp0+fzg4BAAAAgJszsxcAAAAAYACSvQAAAAAAA5DshZM8Ho+zQwBmnJPj0ab1PB6Pn/9xnJ7qvYcYaio9nl7aZTTaBQDK3SrZu3XhT70pcBNR7o8//vjlv7ur1af0TWAudkwwdlzH0W312t/z+Zyez+eh+74z9d6vx+Pxs12Mnf3QLgDwj1sle+nHK7n7/fv3n/+Rzo0sd1G7r9/93Ln78V9JL20l2XgO9d63V3KRvmgXAO5OsjeTGwhqq9Wn9E1gLnZMMHZch7aCPjgX+6RdALi7bpO9X79+nf7888/p8XhMf/755/T169ezQwIAAG6sl9n2/Eq7AMC/fj87gDVfv36d/v77759/v7+///z7r7/+OiyOtZuG1yfFy68Hvf5evib0yfLadntfOZqv3Rbz3Fb8y7jXyts7vpafms+XeViu57tc8mHv+dB2peWliOkXW20RU3aob26VE+oPsfHmlLVXXky/OvNciIlrbT+59ZVynu0dZ40+UPM4Yup8Xk6o3VPGpdTytspMHQ9z2jj1/FnbLrY+17bLOcdyz5fScyL33CnZT+k1fmufPbTVWgzL4wmVV6ueUsfmrf2W9qm918Rex1LG6tz2yrlu58SXEleo/6+VXePaVRJz6BjWHtuKf69PxLZv7L1ea72M26HXzx/LbZertQkArOky2fvly5fg40cle2PelO295vF4BMtJLXuaptWbp+Xzy/JiE1oxSm9i1pKt86Ru6DXz514/5vZ6bPn65fNb+4mNZ628FLntPd8u9MY3tk1S+kNsP96Ka++xkNj+dfa5sCbmDWpqfW3Vfer+a/SBtfJT2j2nvvf6emxiqKS82DpKSfjuPfZ6fB5zyr5D50fs2JF6juXUxV45obJrXldL91N73Ju/toe2Sj1fUvZT2mZrcva71dbTtF5/JdexmPM6J3kU27axY8fWtST3OpWj5Nq1t22KmLqd94+YRGDKWB6bPD5CL+N2TCzzx2Pa5aptAgBLXS7j8P7+nvT4UfYu4svnU94YpdwgLG+EQn+H9pP7Zqr0Jmbtx9j2fpxt67m1xOwyCRzaLjXuXCXtHWrH1HZI7Q+x+4uJI7TNXh+Odda5EIpjq+5y6ivlTf7W62v1gZK+UbO+X9bOr9L95I7jsfuNrZvSvlvrTWfMOVazLva2aXVdrdXuqbHUTA60bKuQo+opRuzxxbb13rY517FW16TcY4+Nb+talnsvsJUgrnXt2trPEYm5vURvajnLf5+hp3E711aiN7WM5b8BoBddzux9e3tbTey+vb0dGkfLmQqtXTXuPTWWVIhROpu3llrt2Ko/1E7etXDUuZCSwD9j/6OOCSNL/RDwim18hTGkNXXQp1bn09nn6VEfFIX2nVr+2fW1FDurOyYZGDODtLfjn6Y+x6xa7XLVNgGApS6TvZ8/f/5lzd7540d5zRiY3zz0cHEPzfzoIbazhNbizTFfI3hebg+J397kzoio1Yevdi6UzCAh7Kx67Kn9Wl2vYs+xWrMRe6rTkNaz00u+edOyrVKNfl72eP2JnVnc4zk3/5r9FZS28+s4c8bss5ONvfahaSr/ZsD8/ynlnd0mALCmy2Tva13eL1++TO/v79Pb29v0+fPnQ3+cbZr+99Pdni7mV7sxbql2InZtXd9eZvr2osa5UKsPX+Fc6GnsGM1Z9dpbe7a8Xu2dYzn7ueo5UXvZhdp10KKtctzlvOzp+hOzRMOZ59y8nuaxLOvviuNCrq1j7aFPLUZFyWEAACAASURBVJ3dh45wtTYBgJAu1+ydpn8Svt++fZuez+f07du3wxO9Sz3d3OSsl0YeCd42avVh5wL8r5rngXPsOrTVsdQ3a2ISoqHnc2eVzpPoawnJ1+Opz41kr11qt8n831t1u9cuy/IAIFa3yd4WQrMvSn84oVYMtfeRe6xXualY+zG22O1Cr6m5JMQ0lbV3rb6S2h9ytOgzNco86lxIbava9bW3/yP6wNp+Y/ZTMv6sHfcR41fJfmPrJqXNzhyza7VByTEccV0N7Wf5d0ksrdvxqPOlRT3FxF3z+Fr1qVZjcc6xx9ZhTFkpUq6LNerrqPGh1N7xhOrh+Xz+PMb5v5flxjyXE3OuK7RLTpvMZ/uH2mS57Va79HS9B+BaulzGoaW1C27Mp7lb29WKISfJEYopdIMck1Do5SuJMV5r7K4laddm5b62m6/Nu1ZeTFmxStp7b7v583szFmL6Q6y1r13mJqFLz6tezoW9r063Psdi+0qrcW0vlrX9pNR5qK/n1mXsuRPz+tLXlfbdaUq/XqUef8w5lqL2OVHjupq7n9xYYuvg7LbK0aKeUuuqVMoxpIwhrcbilPuFre1b9pFQfW3VY436qjU+1KyXtfbY2marjlIfD5WfE3MP43arcz6nTUL/XnqVsaz/GvfFADBN0/Tbx8fHx9lB8I+UC3xJkqKlHz9+nB1CtHnit9SnT5+Ky7ibrT48wrlwV96ohKmbe9P+ca5UT64/93J234xN6s5nly63z00M9+zM2GPquKQdrtwuAJzrVss4AAAAxLrKt92maTs5OH/uSscUcrVj2Ip37TmJXgBK3G4Zhx6kfMIbev00mUnCde31YecCcFWl13iuwfXnHrZmyfZgHt80bS9zFPvcFfTeLnOh5R7W6v+opXYAGJ9k70ly1h678k0ZTFO9PuxcAHp2xNrYnMP1517OTigux5KttY3X7K3Ze1Vntstem8S2z16bSfoCUMKavVR1pTV7a7JmLwAAR7rCzFbiLJfZ0K4AlJDsBQAAuBCzzMdjeRgAapHsBQAAAAAYwH/ODgAAAAAAgHKSvQAAAAAAA5DsBQAAAAAYgGQvAAAAAMAAJHsBAAAAAAYg2QsAAAAAMADJXgAAAACAAUj2AgAAAAAMQLIXAAAAAGAAkr0AAAAAAAOQ7AUAAAAAGIBkLwAAAADAACR7AQAAAAAGINkLAAAAADAAyV4AAAAAgAFI9gIAAAAADECyFwAAAABgAJK9AAAAAAADkOwFAAAAABiAZC8AAAAAwAAkewEAAAAABiDZCwAAAAAwAMleAAAAAIAB/H52ACkej8c0TdP0fD4vWX6JV2wvazEutwltN4LUtlJ/AAAAAIzu0GSvZFq+Vz2t1eHaNur1V+oPAAAAgNEdsozD4/HYTLKN4IhjnCchQ/uSqAxTfwAAAACMrHmyd55Uez6fv/xHHnVXRv0BAAAAMKLDfqBtLcEm6VZm9NnSrak/AAAAAEbSdM3enB88i/khrZjXvV4biqHmD3zNn9vb39rrRxNTV6HlFGJ+OG3kugMAAACAXIfN7I2xlrCNmX15xFq5Jfssff1r+3mSM5QUPTsRGnusoTWOl4/VqLvXa65QfwAAAACQq+nM3hyhGbMhyzWBU15bK66cGcSvZGdpcrHHBGVsO+xtd0Tb9lh/AAAAAJCjq2TvPGma89qtv0uUxPXSYvZxjbhqi41prb1Cr0vZNkWP9QcAAAAAubpfxqEHvcb10lN8PcUS64oxAwAAAMDSITN7Y74qv7bcQQ9JuFpxlcw0jq2/s5cj6LkNr1B/AAAAAFCi6czelDVZS+39sNf87zMSkDE/PJYjJon52tfWj6LlPHeUVnU3TXH1N/93aN+xz/WQ/AYAAABgTM1n9s7XRU39wbXa5Zck2mJfu5zdmnr8uUJJy9fj85mroX/vPRerZiL7qCTp2nG+jn/Zpil1VqM+AQAAACDGIWv27iUi17ZJSYptbbv2XEnZMcdSK4aYWbkxQknGveTjK9EZu98WP5JX0n6l9bfVP+f7mJcfSvQCAAAAQGu/fXx8fJwdBG2FkpBrycjcxPCo9hK4W/Ui+QsAAADAkQ6Z2Us/YpOT1pbdtrU+b+hxiV4AAAAAWjKzd3ChdWfnz7+kPHcXMbOf1SEAAAAAPZDsHZwZpX3QDgAAAAC0ZhkHaGA+o1eiFwAAAIAjmNk7MEsInCu0dAYAAAAAtCDZCwAAAAAwAMs4AAAAAAAMQLIXAAAAAGAAkr0AAAAAAAOQ7AUAAAAAGIBkLwAAAADAACR7AQAAAAAGINkLAAAAADAAyV4AAAAAgAFI9gIAAAAADECyFwAAAABgAJK9AAAAAAADkOwFAAAAABiAZC8AAAAAwAAkewEAAAAABiDZCwAAAAAwAMleAAAAAIABSPYCAAAAAAxAshcAAAAAYACSvQAAAAAAA5DsBQAAAAAYgGQvAAAAAMAAfj87AOL9+PHj7BBO8enTp7NDAAAAAIDumdkLAAAAADAAyV4AAAAAgAFI9gIAAAAADMCavYP6448/fvn7+/fvJ0VyjsfjMT2fz7PD4Cb0t2savd2ueHxXi/nxePz895Xi5l9X6nNXiPUKMS5dLWbjzphq98N5P5mm9b6y3Ca03dWl1q26A0Zwq5m9a4NyzHM1tj/SK9H7/fv3n//dXa326rndATjO63rwfD67fIMXe71yXYPr6H3cKWEsqiumj8y3GbFP5VJ3wAhuleyFFG464Ty1z7+zzuca+zUW9etqb+70pXsw7oztauPOGv3rGPMZraE6v9rM9qOoO+DqJHszGdivpVZ7aXcAriD2euW6BvTAWNSOus2n7oCr6nbN3q9fv05fvnyZ3t/fp7e3t+nz58/TX3/9dXZYQ5gv87C3tm/s2r/L7UrLAwAAoA4zUfOpO+Bqukz2fv36dfr7779//v3+/v7z7yMTvlsLry8H/NffMQu6r5X9em3uRWQt2TpP6oZeM3/ujz/++OWx5euXz2/tJzaetfJSxS6iH7u4/trzoXbfKme5XUof2dsmVNZeeTH9a2vbtedSjn2tvNg+v3c+xuw/9vzc23dKPe7FtbdNyT5q9MuadRvTD+blhPpiyo/TpJa3VWbr/S632Ssjtz8vY4hpv9hzuLQ/zcuJ2W65bUz/TGm7tdestctWuTnjT+rYvrZd7Hm1tl3O+B9br6HzYK3cGuNZzjmTMzbXvg6VXneMO8ad3P5W+t5la5/GovUyao5FV9PD2Akwoi6TvV++fAk+flSyN+bmZe81j8cjWE5q2XvWEq17SdSt59fKeM0E3koIl8Sdo6QuQzdwe4ndmHK2YovpI1tx7T0WEnuzE0oih+JaKzu27mKlvuEsrfs1e+Vv7Wst3tK626uTGv1yrfyUvpjTB/bOv9Cb/JrlxdZR6X7n262VGzMWpcQUUnpuxJa3Fm9pf4ppl5RjqdUue3FuvT723E25BsTGnDr+1+h/MUrGs71tc7dbU+s6lBuDcce4sxdn7vWt5J4z5ziMReXvF5evX6vTlnWV4uyxc+lKdQcQ0uWave/v70mPH2VvQF8+H3uBjyn7CN+/fz9kWYXQkg+pSuoydLOW2g6hcl6PLW8MYvcXE0dom1BSMdVeOanHniumrXLqK6Wta5yfy5vUULkxdbdXJ7X6ZUl/rdkHXtbO+dL95I7bJfutde7Uum6UjoOx5dXuT7HtUppwCZWbIuWYSmKo1Sdixv/UcyLlnmi+fel4trWf2PoquSZvbXPkfaJxZ3s/dxh3cq9vqX2y5nsaY1Hedltq35uV6n3sXO4D4Cq6nNn79va2mth9e3s7NA6f2NVLzE7Tr2sEz8s9a93eVm9YarnCDcVR50dKAr+V1PJjZq2USP3wib60SspRpofzJiWGK96n5MR89DGWzFbtmXGnT1c7h2NcoY+MPBaFtPggvoYeY1rqte4AQrpM9n7+/PmXNXvnjx/lNaDPB/URb8b21E7Eri03UWPd3tGsfV0pRuhGJOdmtkY5R8mtr1blGz/aOetGu8cb/Nb9/grueMwvrcaZ2PG/1Th7dpvm1utdzse7HOeW0Y757HumEGNRu3vJnj4ovNqY0lPdAWzpMtn7Wpf3y5cv0/v7+/T29jZ9/vz50B9nm6b//dq1wb2u+Uxf/lWjn9W6Ue3lhndL6/Myt3zjRxtn1WFvbac//ePuddBynNkb/3PHxVd581iX+zm7XVPr9S7n412Oc89odVD7a+6168dY9I+UMT5mux7O5x5iWLpK3QHs6XLN3mn6J+H77du36fl8Tt++fTs80bt0twF9+QNsKduFXiOxe4zY9emOKgd1B7RX+6u+rcq+mjsfO5zNWPSvo5afm88mXs4sXm6T+tzVxdTd/N9bdbBXf8vyAFJ1m+xtIfSp8Nqnc60G160YejNP5C7/W/N6LrQkw2sm77Kc3CUcSuqyVjusfcVqXlavP6RQo8zUY19uV7o0Rej1rc+lmPJzlnmYvzZmPd6tOjmiX67tN2Y/uf1gmrZ/0Kql2vtt0T5H1MNRdR9bL1dol624to4pZvsz7xtK6z5l/K7RLinXkRr1WqMf1ixzXq5xJ24/r8euPO6k7H+5371t1rZb07qPGIvyheJ9Pp8/45z/ex7X6/G951L1OHaG9rW2n3kfWauf5bZb9dfTNR+4pi6XcWhpbdANXYxit6sVQ61BfC95mpJcjdm2dnkpSupyb7v581ttH7r5K5lROy8rp2+s3SSUxLJ1Qxhz7GvbpRzX3tf3SusrZd+x5efUydp2sXGFnm81ju3FsraflH4QOv9y2zf2fI55fY39prTPWhmt+30ohiP2mXKdbnW+1z5vco4pZvvUOFPPg5jxP1XourJ1vanRLin3CyX1ulVui1j3Xm/cSdvX8rHYbWvs+4jr9db+U7eJeSz1Gh9iLIrbzzJxmBrb/LVbCc2Q1HbtaewsrbvlWLu3n+U+arxvA5j77ePj4+PsIPjH3iD/48ePA6MpUzprd+7Tp0/FZdzN1k1Kys1EyY0i9+DmFLY5R4BRGd/GtDarNJQEz00MjyhUb1vbpLwWIMWtlnEAAAAA9m0lHefPtZzlf3VbdROa0S3RC5S63TIOPUj5lA9S7c3GNasXAIBY3rvcx3wW7zRtL6UV+9xdrc2GDtVT62VxgPuxjMMJQmtX7bnSMg41WcYhTq0bLDdqpPBmD7Y5R4Cry33vwvW4Zp1PGwA1SPZeiGQvAAAALUg0Hm+5HIb6B2qQ7AUAAIAb8+2+81g+D6hNshcAAAAAYAD/OTsAAAAAAADKSfYCAAAAAAxAshcAAAAAYACSvQAAAAAAA5DsBQAAAAAYgGQvAAAAAMAAJHsBAAAAAAYg2QsAAAAAMADJXgAAAACAAUj2AgAAAAAMQLIXAAAAAGAAkr0AAAAAAAOQ7AUAAAAAGIBkLwAAAADAACR7AQAAAAAGINkLAAAAADAAyV4AAAAAgAFI9gIAAAAADECyFwAAAABgAJK9AAAAAAADkOwFAAAAABiAZC8AAAAAwAAkewEAAAAABvD72QGkeDwe0zRN0/P5vGT5JV6xbakR91H7aeXq8QMAAABArkOTvWuJOIm3OK96ejwewTrbeq63/bRy9fgBAAAAINchyzg8Ho+oGZdX1sMxPp/PQ2I4aj+tXD1+AAAAAFjTPNk7T6o9n89f/qONoxKZV0+YXj1+AAAAAJg77Afa1pK7Er5pJHHjXD1+AAAAAMjRdM3enB88WybqYl8bWg84FENqbFtxzZ/b29/a61MclSC/eiL+6vEDAAAAQKrDZvbGWEvYxszSbD2TMzeuWq8HAAAAANjTdGZvjtCM2ZDlmsApr60VV84M4tcPurWYgWr2b5yrxw8AAAAAc10le+dJ05zXbv1doiSulyNeXyPB3cNM6hJXjx8AAAAAcnW/jEMPeonLjN04V48fAAAAAHIcMrM3ZrmCteUOekiy1oprtETt1ROqV48fAAAAAJaazuzdS5DWTOYuy9r6+4wk8l58Nco/IoEZ2s9rDeLlv9e2SX2upq34l7FslRF6flkPAAAAAHCU5jN75+vdtlhPNaX8kuRb7GuXM4FTjz9136EfgIt9vtZ+Xo/Pk6mhf+89d3T8r/0vt1mLq8YxAQAAAEALhyzjEPqBs3kybLlNyo+ibW279lxJ2VvHkhrDnpjZwDHlxC6hUbqfrVmzW69fS7Sm7Ls0/mU/3NtPaGkPyV0AAAAAzvTbx8fHx9lB0EbKrNha+1tLgO7NkA09fmT8W7N0tx5LeT0AAAAAtNR0zV7uKzYx2vu6tjFLQ6w9LtELAAAAwNHM7KWK0Lq38+dfUp47SuxM3t6PAwAAAID7kuylCrNZ/6UuAAAAADiDZRyg0HxGr0QvAAAAAGcxs5dili84/sfwAAAAAGBJshcAAAAAYACWcQAAAAAAGIBkLwAAAADAACR7AQAAAAAGINkLAAAAADAAyV4AAAAAgAFI9gIAAAAADECyFwAAAABgAJK9AAAAAAADkOwFAAAAABiAZC8AAAAAwAAkewEAAAAABiDZCwAAAAAwAMleAAAAAIABSPYCAAAAAAxAshcAAAAAYACSvQAAAAAAA5DsBQAAAAAYgGQvAAAAAMAAJHsBAAAAAAYg2QsAAAAAMADJXgAAAACAAfx+dgD078ePH2eHMIRPnz6dHQIAAAAAAzOzFwAAAABgAJK9AAAAAAADkOwFAAAAABiANXsH8Xg8pufzeXYYp/jjjz9+/vv79+8nRnIvvfe5x+Px89+hOHOOofZx91qPreLq9Xinqe/YWrja8cac03uvv9Lxcm3z/hpyl/64PPd6PBd7jKmlqx1v6fjPv67W9lyba+G/rnjuXS1m14pf3SrZu9VZUzvy1Tp+a6+Eq2RrulH6Uk/H8Rroe4kHKOOcvo6ergU15B7P6zU17z3hjnof/2PPY+f7vYzW3q6F9K73a8UZLONwQTGfkN3J9+/ff/5HuSP7V8t9GejHUruvGEevxzldX4vzajmDszepMT2fz2bH0bJswtT59Vxt/NfHrsW1cJ9rIVdwtWtFa5K9mXQkahmlL41yHACkG3lmTus3ot7kwnXFjnujjo/8yrUwn2sh1NXtMg5fv36dvnz5Mr2/v09vb2/T58+fp7/++uvssFiYr5e79vd8tu18qYet7dbKKd0mZp+x/vjjj9XXhh4HAO7HG1cA7s61EM7RZbL369ev099///3z7/f3959/H5nwXRuYQuvOvP5evmZrbZrldnufBM5fE1qTJGf/JZ8+vpKbKWv2LpOif/zxxy+PrT2/9vjaNrn7TBWKMUduX0rpc6G+NX88pn+lHMeyzHl8ufvaOieXz+f28ZJzOKbMGscZa28Myyl/q01T+t5WmXttutXPUvZ19Diaem6HXh9b3tF9eS2e1LZfvib3nM49pr3tS/t/izbLuTbsnQepY9DWV1bn5e+dc2tlhMpNrZvSY465T1vTaoZX7LU/Np4j2iZVq2Oc/9v4P874n/peLCaGmO1i76XXttvaV43zy7XQtXDrtSNcC2uJHZtbjK05+3GtqPv+f1RdJnu/fPkSfPyoZO/aCbTW0bZe83g8guWklj1N+wuc5+4/Z8AusZdgXT6/Niu39j57U9qXctpzr3+l2urnOfvaujF6PVbrGPbOj5R6Tz3fcseHtXKmafsGLnUciL0pzBGKJWfc2zqOs8fR2PJjhcqbpv+t0yP6cg/ndMo5FBPD1ra552bNNovdJrZea4xBta8na2Wl1k3rYz7DVn0ceUwt7ytrHqPx/77jf+iY9mLYKnNNbMxryZe1cmLjWeNa6Fq49veI18JaSvvT3mtjuVb8uu0yzmUZLc6zUXS5Zu/7+3vS40fZ6zzL52NOgNiyY+Tuf++Go7Wr/bhaKNaaxxDTlqHHz27PLSUXqdDrax9vTIyxcdQ631LrLVRf879blJmr1s3Lq6yS/tB6HK1df6Hyao8hscdcevMWKjdWyjU2JYaa/b+kzXLboXY/q1nO1s351g38WhvVHA+OfMNQox+VvqZl2+Q6ql5CrzX+/+Mq439KmaUx1Ezc7f2d099cC7f3kcu1sK0zE3U57/9a5XpcK/4tL2X//K8uZ/a+vb2tJnbf3t4OjcOnA+concV7lNdSDleJ9ww1z6Ejz8WzLx416i3m9a2TzinOrnOO18P1teTme2St7396vL+qHVPMmFY67uUmfGq/pqUWx8j5emizlBhG72euhetcC+uUV2ObI/QSB//q7fy4mi6TvZ8/f/5lzd7540d5fVowP+lH6Ww9D2ShtX97T6heaWbyUa56Dq19/aS0vBRH1Vvt4zwrlrPi7nkcbeWOx9yj1u1w5tj9GgvWjrHlG8ZWx3xkkmBt5kzNYyptm5J9hvZzVl+941h4x2N+aTk+rNXrsuw71/0W18Lt1+e44rWwlp7eF12ZeutLl8ne17q8X758md7f36e3t7fp8+fPh/442zRN/3PC9/jpW44Wx/Ca4Vryo2dXYkZvnKudQy3iK/1qW4t666kdSmM56zh6qb8j3fGYe3REO7Qcg+ZvYOflLt/Y5nyNsdZYcuT1KmcfsbGlHlPLtknV6hhruONYeMdjnmvZz7YSe8t98y/Xwu2yS+J66f1aWEtP74uuTj32pcs1e6fpn4Tvt2/fpufzOX379u3wRO+SjnuenpOqPcfWG+dQHvUGnOmOY9BRs0OPrNs7tOMdjpHz1exnR3xwQh13bJuzr4XzWcbLGcfLbVKfgzvoNtnbwtbXIY76yszRX4GL2X+tfb9m9L5m+OYkQtfKCM0UXttP7n5LnDmTObY/r23bus/VLH/ta0Xz/bS6GQkdQ2wcOedbja9npY4zMfuMKbNGH0t5Tcvx7Oz9HnVcLfvyllbndErfT4nhqP6/54y+10rKeBRz3CV1c2QdxsyUSo2n9n1l7bap4cx75znjf3lMLe/pUo8pZvszE0W5de9aWM61sFzptfD5fP48nvm/52W8Ht97rlbce47M9bhW3O8DmFRdLuPQ0lon3Po0KWa7WjHEngzzbXNiStlXqq3EZ2xSdG272MditxllqYnY/rw2WIb6QWn/mtuLLWVfoQG/9gyL1DraiyPnfKtxjHtfCYw5zpwyU8vNqfOYNx57eh5Hc+uyZF/Lx2K3rbHv2ud0yjU2JYYW/T9HzXJD50Fqm8zfjMWUv7d9av3nbpNyzDFvLGLe5NS4ZsWOmznnVqu2SXXEMcZuvxdbTWePJaOO/6Ux5I6JMdu+yq9d966FeWW5FvZ1LQztLyZRnPoeM/R3qpRzr3QfrhVs+e3j4+Pj7CD4R6+fUPz48ePsELoU+jG5kE+fPlXdf6/9hba0O9Cj0cemo45v9HqEVpw79GD0fnj08S339/p7LY7cxDCM6lbLOEAtqYleABhZy9mOZ/NGEYAYroXn7H/+3Kj1D6nM7D1ByidRPRh9Zm/sGr/fv3//ZdvURK+ZvQCMbrRr02jHA6NyrtKT0frjGcczn8U7TetLSrykPAd3Idl7glZruLUyerL3KJK9AABQn/tiGItzGsrc7gfaemDQogb9CAAA3BcDwJyZvQAAAACczjIMUE6yFwAAAABgAP85OwAAAAAAAMpJ9gIAAAAADECyFwAAAABgAJK9AAAAAAADkOwFAAAAABiAZC8AAAAAwAAkewEAAAAABvD72QHQv8fjMT2fz7PD4CYej8fuNvojAAAAwP+S7O2YJOu9jNbeucfzes3W60erKwAAAIAaLOPQiZjZjPSjdnstk5c99ofUmJ7PZ7PjaFk2AAAAwFVJ9nbMzMV7GHmWauukrIQvAAAAwL8ke4HuSOICAAAApLvNmr2v2ZPLJNLWmqAp27y2W5ulubXP+XOvf6+tWbp8bq38ULkps0Zj62dt263tQ9uGZrWuLWuw1X412jWmj2y111ocW7HM97lXfqj9t2JI7Q+hbUqPeaudt4w62xkAAACgldske6dpPbEWSs6uJRq3tnk9FhIqL+bHqF7b5ZQfU/bWdqF9biUfUxKSKULtt1Z2rXZdlrXVXql9Yk1sf0iRe9xHHTMAAAAAddxqGYdlUipmRulru+XsxrXXhpJzNWcoLhNpa3/vxR8qN/aYtmYZr9XV2rY5dRIqo1a71oqz5uu3ytlKCG8laGP6c8lau0fOyDX7FwAAAOBft0r2nuk1Q3SUWY8pSbY7JeRat2+P/ad2TDHl9VgPAAAAAGe71TIOsVokr0qXMJim8GxLX6OP07peXu2Tu15yidB6w6/nYl6fo9Ux3+kDAgAAAIBaJHtX1F52oXbiaiuxN00SZSFH1EvM2sElZb/afLmm7layNWb/JTG2PObY/QIAAABgGYfLqb2mLO3csW2OOOZQMnm5DvHWbOWt5+fPmSUPAAAAXIlk78LajNm1H/E6+uvysWLij31d6LVrX92fbz9PxMWUmxNvqtx6SXFUYnArSbmU259jj+XIOtyaNTyf7f7691bfCz2/fG7+Q3cAAAAAvbOMw4qtJRK2tol5bGvd3dfjMbMjt74qHxN/7Ov24l3bPiWe0JqvRyV8a5S1tR7zXlsuk4p75e9tn1r/udukHHPMsg4xyeatMpZ1tLef0HHccTY2AAAAMI7fPj4+Ps4OYiQSRqQavc8cdXxrP4SYkniOeT0AAABAzyzjACdrNZO5Bz0kTPeWhgg9fnbcAAAAAKnM7M2UOmsQ9ozWf44+nthzcrlkSOxzAAAAAL2T7M2UuqYocB2jJd4BAACAe5DsBW5vntyV6AUAAACuSrIXYPp3tr5ELwAAAHBVkr0AAAAAAAP4z9kBAAAAAABQTrIXAAAAAGAAkr0AAAAAAAOQ7AUAAAAAGIBkLwAAAADAACR7AQAAAAAGINkLAHTl8XicHUKSq8ULAFdy1evsVeMGru+3j4+Pj7ODuKLH4zE9n8/LlFtDz7HlqH08JeX1Ure9xFHDSMcCVxPz5iZ0fu6duyVlLJr9ogAAIABJREFUt3SFMWeE61Qt7gH6jaOGkY4FRnDH+4IX4xFwht/PDuAsaxcFgzBHiblp0R/pwdX6Ykq8Vzu2udjYzzrG1z639p8bW8uy4QjuAbiKq/XFu9wDlHBfAHAPt1vG4fF4/Bzs5/9dXe2viPjKSX+u2Mb6UV9S22N5Y9xjey5jej6fXcZ5hCse9zLmWm/GzugHI/W9UY5jJO4BKOUe4H6uWBcj3Rf0sG/gvm6V7J0neZdGSPhyHXv9TX/kbFeeARF7U33V45um+NivfIw1eHNFj9wD0Dv3AOO663G/uC8A7qLbZO/Xr1+nP//8c3o8HtOff/45ff369eyQAIBIqW+2U79+CwBch/sCgON0uWbv169fp7///vvn3+/v7z///uuvv7LKTP2Eeu1rQTmve702tP+YuLZimT/3+veyvPk2KfuKKW+rzJT9vrZf+zR+q95C+0hZkznneEq3S1mvL9QmofZZbrcVX0kbl/bLlPL2pLy2pG+8to09n/f6dI1zKea8SW2Pra9uxvTBtce3HtuKJ+YcXyt7q53mr9vr+1uxzcto0Qe3tosZI0LbxY4ZqWP40XqNKXdG3F4fSu1rOWOqewD3ACnHENrGPcCvf7sHcA+wVn7KGBITa2z9uC84R8n9AUCWjw7997///fi///u///nvv//9b3aZ//d//1e0/d7fr8dC24X2H1tu6jYpr4153euxtfJyY44pPyWWnJhq1mVq/Cl/pzy29XhMeTXbOOW8a91X9x6P2TbnfA49VqueS8oKKTm+2Jhaj317z9Uo//V86rlZ41hrjTWx26VeQ/f2VXu8SNlPa7n7bH2up9SHe4D1cmuV5x5gPx73AOEyY/exV1aIe4C0MlqfMy3K29smZjv3BenO3DdwP10u4/D+/p70eAupn7qFPhmt8eldbhlrnx6uffpcEkvsjJXY/a6VF3pt6myW2E/eU/YXs01pne9Zll26r9g+XPuT6dyZcKE6X9s29NyyjWqez6Eyap5LLcadGKkz1tZmlcyfW7ZB7fErR83zPnV8yoklxt6YUbPuH4/H//z3fB73w6hXmkGT09dSzsEW9yPuAfa3cQ+Qt98Y7gG299Gae4D1bXLbMnXsrtnO7gsAxtPlMg5vb2+rid23t7dD40i9gLW8eBx9c3Nl2uE4teujdf2m9A03g/FG+lpa62NJKfvK9Rr71e2Ssku36dFV4+6Je4DjuAdgmq59rVq62rFcaUxyXwBwrC6TvZ8/f/5lzd7540fZWq/qaCWxnBX3iBfUnvrES8kMpFK166PH+u3BleshtJbd67mY1x/pFWsPa9K1iiV2zOi9313pzXiskcbAK8ce0mP7uAcY35XrwT3Ar1p8OFLjnHFfADCmLpO9rx9h+/Lly/T+/j69vb1Nnz9/zv5xtpfYT2t7+lS3NJYzExUj6alPrNm6oW65v17LG0nv9TLvd/N2XPbHnK+ZnnHsyzdOZ/bNlrHsjRktvvJ/tLP3n2K0MXCkY5mm/tvHPcC4eq8X9wB5ZZdqcc64LwAYS5dr9k7TPwnfb9++Tc/nc/r27VtxotfgzqjOWqsNRtfTuVQzltHHjNCb4PmMreXsrbXtQrPRtl4LRxv9fIaz3OlcGn0c2UqOL9dN3rs32HvO/QHQi26TvS1sfVq5NTDHDNoxX1NaPp9zMUh5zVpMR1yASvYbqsPYm461r2BtlZO7v5R+dIcZK2et25fy9cCUvnHU+bznrHM4R8o5EXNcZxx7bvmx531KHzyznUvrvmXse9fqrfH29QMwr21Cx/l6bvn88rlacdfYfq7ka9M1uAdIL+/q3AO4B7jzPUCM3GOOjat13Yx6XzCfzRx7b7D33OjjPXAdXS7j0FLM19zWvnpUkvCdP5dabmws88djblj3hMrLeX3p61L3H7qhXysndn857ZAbf8hWm+TcYJS0cWm/zC0v5rUx8eT2ja1ycvv8nprlprZHqJ8tX7+3fWr95m6zTJbmnHs552/KeZ/SB1NjST2n9xKjpQnKkmtIbNlzpce812dKr4tbSsbAmPJSy3QPsL2dewD3AO4B3AOkyj3mmMdKz8GXu90XLPvx1n5q9jOAI/z28fHxcXYQME0umCVaJSC4r6ufj0fFf/V66k3r+lyWP/97bd+heFIe10fiqKd87gGo7ern49XjXxrteFKceV+wt/+SbQFau9UyDgDEaTVL6QhuqImx10+WiWCAu3APwN2F+v/W4/od0BMze+mGi2QeM3po6Wrn5dHxXq1+rqBVnb7K3Rozl1+LjX1uXj551F8e9wC0dLXz8mrxLvl2yLqWdRBT5yX3BqF9ALR2uzV7YRQxNxdQ6mp962rxcry9tSpznoOjuQfgCFfrW1eLd03LdYP5X6E1pfe2WT531ZnwwLjM7AUAutJiFszRM4MAgDp6u87urfm/th3AkSR7AYChmQUJANRkGR2gZ5K9AAAAAAAD+M/ZAQAAAAAAUE6yFwAAAABgAJK9AAAAAAADkOwFAAAAABiAZC8AAAAAwAAkewEAAAAABiDZCwAAAAAwAMleAAAAAIABSPYCAAAAAAxAshcAAAAAYACSvQAAAAAAA5DsBQAAAAAYgGQvAAAAAMAAJHsBAAAAAAYg2QsAAAAAMADJXgAAAACAAUj2AgAAAAAMQLIXAAAAAGAAkr0AAAAAAAOQ7AUAAAAAGIBkLwAAAADAACR7AQAAAAAGINkLAAAAADCASyV7H4/H9Hg8Llt+TUfEeqX6AAAAAIC7+/3Ina0lDp/P55EhMLhXH9OvAAAAALibQ5K9d5gd2irJKHkJAAAAAMRonuydJ3qXCcs7JIE5lqQ4AAAAAHd12Jq9a0k4iTkAAAAAgDqazuzNWYJgOds39rWh9YBDMaTGthXX/Ln/b+8Ojx211QYAs3fSQCrIXM9pIEVkW0gBW0WK2QJOC9tEGjjjEm5K8PcjHxvCIiEhAUI8z8yZObZBEhLI8mtZrOW3tH9KnrHypqS9tV5TyraW5lLe8+OZPl4ra2jbWHunljmWNgAAAAC07LCZvSmWgnEpSz3svRzE1nLV2r807dr5h/ZNzSeWd872pW1QK20AAAAAaMEhN2jLEZoxGxKafVk7WBdLe8sM4sfjMTwej+iM0bWZqvOyxQKlW/Jfslbf0zS3ts1auqFta5Q5N20AAAAAaEVTwd6ln/Dn7Bt7XKKkXKO9ZopOjzNWzj2D32t5H7Xtmj3TBgAAAICzNb+MQwtaLRcAAAAAwOiQmb0pywUsLTfQQpC1VrnOnil6dv4AAAAAwL52ndm7FiCtGcxduynZ9PEZQeSUm6ZdKf+c9PbaNtfZbQAAAAAAe9p9Zu90XdTcG67VTr8kuJe673wmcO7xp6abqlb+qemF1hDOyXst3Vw5ZQYAAACAqzpkzd5QMG0eGEzZJyf90GslaaccS80y1AhEltZB6r6p+ezZXjnp1kobAAAAAFrw6fV6vc4uBPczn6m8deYyAAAAAPC3Q2b2cl97r9UMAAAAAPxt9zV7IRTcNYsXAAAAAOoxs5dTCPQCAAAAQF3W7AUAAAAA6ICZvQAAAAAAHRDsBQAAAADogGAvAAAAAEAHBHsBAAAAADog2AsAAAAA0AHBXgAAAACADgj2AgAAAAB0QLAXAAAAAKADgr0AAAAAAB0Q7AUAAAAA6IBgLwAAAABABwR7AQAAAAA6INgLAAAAANABwV4AAAAAgA4I9gIAAAAAdECwFwAAAACgA4K9AAAAAAAdEOwFAAAAAOiAYC8AAAAAQAcEewEAAAAAOiDYC4kej8fZRch2xTKXuuIxX7HMAAAAQHs+vV6v19mFONPj8Riez+dl07+zaYBs7zpea8eUYN1Z58GZ5+CRbTTmp50AAACAu/rp7ALQjqOCTbXyeT6fzcyIHI8ndmx3DOa11EbDoJ0AAACAvt1qGYeWgk7Uc/as3lRnBT5bCLj6EqHdfAEAAIB+3CrYS9xRsxnvPmtSQO8atBMAAABwNc0Ge9/f34fPnz8Pj8dj+Pz58/D+/n52kbihnNmigoPn0U4AAAAAja7Z+/7+Pvzxxx/fH398fHx//Pvvv2enNw3ujP/PA0PzAFBsPc+1bXLLlJPnuN08uDU+TjmOpW2X0swpayjN0PGs1X9s/9g+sW1SbtxVOuu41VnLsfbdU4ttVCuNPZzVTgAAAEAfmgz2fv36Nfj8lmDv2k2ZlgKnoYDkUoA1VyzgnPpcKN2U/XPKXlrWFDnHOLcWHExpr+nzNQOK/E0bAQAAAByjyWUcPj4+sp4vNQ8apQZHt9xQKRaomqcXCnyFglwpaa6lsbWsqWmmKk0rJ5g93e6IAKIg5d9abqMj8wEAAACopcmZvW9vb4uB3be3txNKU9+VgkhHlbXmT9djac1niNbMs8Y2Z8st49b6O6ONxvRqbAMAAADQoiaDvV++fPnXmr3T588kCLSPcZZwrfWQ1/KKKQkuXimIH9LCMezZRinpAwAAAFxVk8HecV3er1+/Dh8fH8Pb29vw5cuXTev11iRItJ+UNZOncm4mF9r/DHc6h67aRsNwr3YCAAAA+tHkmr3D8HfA99u3b8Pz+Ry+fft2eqCX4+QG2lJmBJ+17mso//lr4zHMZzjPt8l9rRVXaKOlMkyfn/4fq+vY6/O2BgAAAKipyZm9LRqXGpjPQM0NSE1vbDbfdynYtZRHLJC0luZeZS1Re13WLemXBN7WAn/DEA9cLq1PG1u3ds81bc+ydxut7R9rp7Fs823Wrrc7tBsAAADQllsFe2PBy9z9a5RjntZSmZbyDJUjtO1RZS2Rm36sLef1EEprnkZuAG5e5lCbpKYVCzSGlJ7Te2qhjYahvJ1SZxvPZ+yWfjEEAAAAkOvT6/V6nV0I8tWYZcy/bQ247pH3dDZp6qzqtaUiejg/zjrGlOstp2xnnmsAAABAv5pdsxf21PJ6qalBw5aPoYYrHF/K0hBLzwvoAgAAAHu41TIOV1R7HV6Wxep06/IBuXkv/fw/ttxB6lIIvZwvqUtaHHGsS3nltNWSXtoJAAAAOI9g7wXsvV7uXaUESo8UCzbn7tOLVtootJ52ynPz164wYxkAAAC4Jmv2QqK9Zl4eudbsHbR2zPOlN6zVCwAAAOxFsBdO1MrMVfa1tEQHAAAAQG2CvQAAAAAAHfjP2QUAAAAAAKCcYC8AAAAAQAcEewEAAAAAOiDYCwAAAADQAcFeAAAAAIAOCPYCAAAAAHRAsBcAAAAAoAOCvQAAAAAAHRDsBQAAAADogGAvAAAAAEAHBHsBAAAAADog2AsAAAAA0AHBXgAAAACADgj2AgAAAAB0QLAXAAAAAKADgr0AAAAAAB0Q7AUAAAAA6IBgLwAAAABABwR7AQAAAAA6INgLAAAAANABwV4AAAAAgA4I9gIAAAAAdECwFwAAAACgA5cK9j4ej+HxeFw2/Vxnlyc1/5rlPCPP2louGwAAAAD9+unIzJYCYM/n88giUGhswyPb7Yw8AQAAAOBqDgn23mGWo4AkAAAAAHCm3YO900DvPBB6hyBwb84IZgugAwAAAMC6w9bsXQrYCeIBAAAAANSx68zeLUsbzGf7pu4bWg84VIbcssXKNX1tLb+l/bfIWf94Ke+ty07k7Le07ZZ6WMszJc2S+irNGwAAAACOcNjM3hRLQbaUpR72Xg5ia7lq7Z+6b2o+RyyfkRLorVGWlDRL6ytnW0uTAAAAAHCWQ27QlmMtODgXWhO4dtBtbXZq7gzix+MxPB6PzTNrQ2WapnlU3YTKuJRnrXqYWjreeb6h8uTUVwt1CwAAAAAhTQV7p0HTLfvGHpcoKddoz+Dz+DiUR862pXKXXCg1zadWHbRatwAAAAAQ0/wyDi1otVyt2boOMAAAAABQ7pCZvSk/009d4/Votcp1hwDoOKs11t53qAcAAAAAOMOuM3v3vjlXLK3Y4zOCyKk3Ddsjvdp5x8TWzz26LFvzbbVuAQAAACBm95m90zVMc2+4Vjv9kkBc6r7zmcC5x79mLb3QGrZHBiGXZvieXZZQvjn11ULdAgAAAEDIIWv2pvykv+QGa7Ftl14rSXvL8gSlZUjdNzWfI5ZSWJrhe3ZZUp6/Qt0CAAAAwJJPr9frdXYhOJ6bqQEAAABAXw6Z2ct59l4rGQAAAABow+5r9nK+UHDXrF4AAAAA6IeZvTcl0AsAAAAAfbFmLwAAAABAB8zsBQAAAADogGAvAAAAAEAHBHsBAAAAADog2AsAAAAA0AHBXgAAAACADgj2AgAAAAB0QLAXAAAAAKADgr0AAAAAAB0Q7AUAAAAA6IBgLwAAAABABwR7AQAAAAA6INgLAAAAANABwV4AAAAAgA4I9gIAAAAAdECwFwAAAACgA4K9AAAAAAAdEOwFAAAAAOiAYC8AAAAAQAd+OrsAAABn++uvv84uQtN+/vnns4sAAAAkMLMXAAAAAKADgr0AAAAAAB0Q7D3I4/GIPgby9HYNtXI8rZTjSHsc8x3rkXt7PB7f/7gXbX4811vbtM0xSupY+7RBX9Y2bXNtt1qzN3SiPp/P76+P/3N92pPeOKfhPL/++usPz/3555+H5XtEXluN46sW+yf9JlulnjtHn2MtX29naO0an5antbJBjL7sXK31F/qy67vdzN7n8/nDH/dx1jdTvhGjRc5LSPfnn39+/+NHLYynWuvTWitPSE45r3JMe2nl+Fu43ogTHGlHK9dtS1qpE9dI+/Rl13W7YG+Mk7gv2pPeOKcB8ug32Sr13HGOnavV+m+1XBDinD1Xq/XfarlY12yw9/39ffj8+fPweDyGz58/D+/v72cXCQAAAH7QymxJgBL6sj40uWbv+/v78Mcff3x//PHx8f3x77//vlu+8ynq4+P5yb707UbKNrF819JNXTMsJ52li3i+b2jafs50/lg+a/WW0waxMk73D9XTdJuUcqQcQ2m+MWvtV3I+5Bx/SvlKrpnU48wtV6gd1uow57oJ1cHW/qKkj5qnM/8/dl7G0txyTtTso1K23Xqu5fR9KX3i1v4uVpbQa6H8U8ueep7Hypda1r3fn7b0X6VS1/fdug7wdL8///wzuK7v/Pnp43neW5anWOpLhmH4Xt9b22dMYy3P2Otr68xt7ctjZVtKO7WPTUk3tv9anS/lkVLOnG33eN8Yt89th9x+dGm71HHk0nY1xl6xsoaut5S2znkPDF2vS/vmnHvTfUrHg1vyjqWXaymdlDFlzjWXcq6v9XlHq/0Zb+tnwfn/rfZbta7R0HZLr+nL9GVr6ZT2ZVfvxy7v1aDffvvt9d///veHv99++60o3f/+979Zr4/5rj0X2rfkcWqZU7evdRy55QrVYWp+OW2QUsac+knNM6XOSvYN7Vez/UqOf0v6OduEttt6bsTqbi29nHrPuXa2ntMl10dOWUrPt5RttuYZK3NqOXPzWlLjnM8pR+z5kL3LXjP/2v1bSvn+97//Jf/98ssvr19++SX5tZrPjY+XnlsrS86+87+Y0msl5xzIudZjz23ty0v72Jz8c9ItuW5K3t9Dedd+38g9x2rUxdb3hVpjr5DcccTWc2DtestNc69rv9Z7Vu576pK1+hmPI/c8S6mTnL7pCLXbf+m52tfM3v1W7X56j/TWtknZTl+mL0t5PE0n9JgyTS7j8PHxkfV8jsfj8cNfzPwbhdA3DDW+eZiXZa1sW9OJffsSmlVWUo5YHabUW2obbLX0zVHOt3Nby5Oa79J+oXyX9k95XHL8S+Wrkd6W82fL+RQq83z73HrPyafknN7j+khJc+v5O+6b8jilrvfqZ5byKrW1HMNQ7/1hq7XZEGe0fY6jZgeEZtjOZ9ambhdKf2nfHNN91/I8Qmqfk7ptTGlfXnoulZ7jOe8jJddqrr3fN3LHPFvrt1ZfUWvslWNrne8xNtk6Fqxx7W+t2yNnkcVmr+WcA7ljnSPV+oy3x/lZmv/Wfuuoa7TmuaAv05el5LU0czo3jfn/lGtyGYe3t7fFwO7b21tx2nueQEd/+C5x1IWUks+V6i3kzMDLlZ35ZrXl5yG91PsV5NT1lfqZVsqx5syfT7nOltUK9F5ZrXPj7HPs7Px7l1O/fip6DXu0Ue22j72/h4IZKcG6UED4CuftVcY8PVL3bbpTX9ZLP3ZlTQZ7v3z58q81e6fPt6rk24xhCH9LsyUYVWvdliOU1lvNcpTsu/UY9j7e1POhdjlSZ/i10PZzY7laKU/LttTRGX1UK+fa1nIcXWdjftM8a/QZV3t/atVdA71s09p7WUvlSenrStJden7qqLq44th677z3bPsSY3m2lKu1wEkrY68a9i77Hp/DatS9vuzcfFPybrEv66kfu7omg73jTdi+fv06fHx8DG9vb8OXL192vTlbiZonZa1A0xUCVi1dzFvLUXoMRx3/2vlQuxxr6Z3d9tO6mJZlXketnJ+tqvGzqCMG0C20Y41yHNmvzz8kzMt/hbbvzXhTtV9//VXAl2Qt9H9TLZdnqa8rcfTYK+SOv9JIyXvPti8VK8cV3jtbqssa9j6W2rMya5dXX6Yv2+Lq/VgPmlyzdxj+Dvh++/ZteD6fw7dv35oN9Na0tCbLmenQB+cDrXFO5juzzmrmpe3LtLC+LvRKX3dfR7RPSgAm9LqJCJxFX3YtLfRl+rF2NBvsvbI9v6mokfbSdP9p+ms/zSj96XFo/7O+4Vkq59ay5Oy3Nd/c9turHDXTC/1EKOf82SLnXKxR70cc01FqnzdLaafUda1+Jqddaxz3Hm2ekmZK2VN/Mpabd4qj3p/2EgrGzm/IlrpdTh5zqQHhlDy32vu9ZUuatd9Dc5Xmn1MPe16rW5SUJ7W+cur3qnVRO5/S99G9z73c8qXkveX98ixr/ULsfB+fX9tmy2s5Wuj7a+ZfM+89rtHcbUroy9LduS8r6cfWtklJY9oXhtLvUZPLOFzN0k+/SzuB0g8ba+mEBsMpg+ac41v7yUeteks1zSMlYJSTXiydvfJda7+plPOhlrX0ttRbbaFrJHbtbKn3UBprzx0hdF5u2X+LGn3UWjlKzrXUcyClHmr0d6XvDzllT31vKCnH2e9PuZaCp0uB0ulyC1PzYGrqdkvmSzospTU+l3IsewR692ifnPeWtVknpX15irX3/q3557yP5PZPOcHmI983Uvvo6bYp2+e2Qe7xHzn2CtnyHrX23NFjuNy0Uravef3vOYZeG/fExrNj2db+X3utxjHU7vu3fh49Y7xbI/3ca3QtbX2Zviwlra1q9GPj4/l5unQupvRzpf3aFX16vV6vswvBP2Kdbs4JWvKGBkB7ar0/nK3V96e//vrr7CLsrmQW788//1y7OFR2pX4gR6/HdQV3rfvc4z67nkL5x4InsWDJ+HgYfnyvPvtY+Tftkeau9XSlviy3H5s+nkr5QiuWX08s4wAAAAAZjpjNeJbn83nYjE3gXK1e56kB2rG/6j14m0uwtyFrs53M6gW4p1rvD2fz/gTlQkuvuK6gjpyftV/l2ouVc/5T55grHGuP9Pts0WNfNgzxfir1WrnKsZawZm8D1tYzOTodANrQS7/ey3FAK/ZebxiIOzs4Mu8DUte7HP8PvS+nrLXJOfT77OHMvmytH5tbKmuoz/LLBGv2AgDcYs3eEtbsBbiOK83SA9jTXftDyzgAAAAAAJc2ndF710DvMJjZCwAAAF2wDANwd+4TItgLAAAAANAFyzgAAAAAAHRAsBcAAAAAoAOCvQAAAAAAHRDsBQAAAADogGAvAAAAAEAHBHsBAAAAADog2AsAAAAA0IHbBXsfj8f3v7PyJ+zs9jlK78cHAAAAwPFuFewdA2zP53N4Pp8nl+beloKdS+0jKAoAAAAAaW4V7B2G4dAg7xGByt6CoYLwAAAAALDN7YK9tCE1qCv4CwAAAABpBHsBAAAAADrw09kFOMJ0qYPp/9NZo0vLIcxnlT4ej+H5fAbTiOW3lFYsr7VtUvJYS2+6z9KxraW5Vg+xPMf85tvM05xul3osS9uF6n+pTmufFzl1CgAAAABb3SLYOw9ozsUCginPbclvHgwMbTvfbny8lsdanuNzKdukHkNOQHVqy7GkpFuqxnmRUu8AAAAAUMPtl3GIzYrNnemaap5GKM29Z4CmlGOpDpYCmPPtQvVaeky56aYGYOfb1zgvUgL4AAAAAFDL7YO9w9B28G2c9VtjNujRM0r3qtct6W459pbPCwAAAACYu8UyDle1tFTCVuNs1JR1dlPL1oPQWsUAAAAAcDWCvY1KXb82R+o6wblptW4azJ2ve1wr+A0AAAAAZ7OMw00JbAIAAABAX24f7F1a3mC0x+zarUqXGUjZP7UOQjdtW9smtRwxJemGtll6vsZ5kVNWy0gAAAAAUMoyDkM4sFca6J0G+3LTWlpiIBaUTMlj7fiW8gilmbLO7V5r4W5Jd9wndMxLx1njvAjVqeAuAAAAALV9er1er7MLwflamsUMAAAAAOS7/TIOAAAAAAA9EOwFAAAAAOiAYC8AAAAAQAes2QsAAAAA0AEzewEAAAAAOiDYCwAAAADQAcFeAAAAAIAOCPYCAAAAAHRAsBcAAAAAoAOCvQAAAAAAHRDsBQAAAADogGAvAAAAAEAHBHsB4P89Ho+zi7DZlcsOMLp6X3b18gMA1/fp9Xq9zi4E1/R4PIbn83l2MdhB7bYtSe8K59n0g93ZZb1CfeXIPZ6UD9mh9JbyCqX3fD6jr4X23bttemv/O9MP59EP70c/nK+3cwAAuJafzi7AWc4a/NG+1AG6gfw+1uq1tXof+5KWynRn0w/4OcGElPSmj9deSy0LZdTtPvTDlNAPn+MOx1jLleqq9MuWLce59iUKAO273TIOj8fj+5vm9K83tX9CdvefpN39+Ft3dvv02If0bn7O7PXB7+gPlLGZblfX63H14uz20Q9fT6/98DD03RdfzZXbIbfs0y89YrPbU8w/K+tjAa7lVsHeaZB3zhsc/EV5AAASiklEQVQYo9yZJtS1Vq/qHRjpD/ahH4brcV2m67mulma+A3A/zQZ739/fh8+fPw+Px2P4/Pnz8P7+fnaRALiA3PUiS9cyjb3mgxZwR/phKLPXjOQrz3QGIF2Ta/a+v78Pf/zxx/fHHx8f3x///vvvm9LcMthLWdd3TDe0PtLauklr+y9tG3t+mk5o/bKcm5jkphdLM/fmKTl1EypLaPvYdqn1ubRdLK/5h5qU45lun3uehPLIWa96S9uWbpezVmSofXLbI6Ws832W8s5NN+XcTK3LWPlyyhW6vpfSzj2vcs/N1j+gh67Ls41l2vKel9Pnppz3S2ml3IBp7VrTD++7nX5YP5xa5rO12g8PQ3pfnDK+nz63lM/S9iV9ek75l/YvyaOkPra8d8TSWzqW3PeCtfRitpzb8/659WsYgH00Gez9+vVr8Pmtwd5csQH32nOPxyM4CE/ZP/RcipRBTM5Mii3ppdZRzofrtefG56dlzsk7NJBKHSytDcZi+e9VFyV1lJvfPM29z/N5nvN0ctpjSUo9bRlIp7Z96vka+1CTcl3WUnpexbbdqiTAVMNVP2DV7NNz2zSUnn5YPzx/Xj/8I/3wj67aD4dsaZ+tfXpK2mv51M4jpPS9Y16Wks9+Wz9vLJVl6+fA0OfQXCnBbADa1eQyDh8fH1nP1xZ7g1z68DLfbj7ICG0Xe37tQ9IWSwOH0nxSjrEk39S6yW2zlHy2CJVr+njvughtW3pe5+aXss0e5/nUWnvE9qld3tS23xoAmQdZctIMbZMSVKpxXqUEW3KNH3amf89nvRuMxOrmygGGWn16bpvWrC/9cJh+WD+cm49+uG1rx7i1T09JO7Z/6XtCqtrj99LPfmtygs5bzI9ja1rjdTr92/N9AoD6mpzZ+/b2thjYfXt7O6wMdxgg9ianze7yIWBuz2PuaRB49rlx1JcTobxz0z+7vqaOnDVGXT31ITH64TRnX8P64e30w/u56/g1pla/t0e95rZXybUz33ca8F36P9cY8HX+AVxDk8HeL1++/GvN3unzlDnrg2BLH0DHwcq0TDUGLqmzrVqqi1qWfrp2tpLZb3tJndHWWl0Owz/laqU8Z5q30bRe7vJBaO9fnpTMRtIP//P4bPrhuvTD/7hjP7zX+LWGMz9ftHitDkN+e9X4kiQ2M7mVcwWAYzQZ7B3X5f369evw8fExvL29DV++fCler9cb3XmDwtbqfT4wrHlurH0Ya60uSrV+XbX04Tjlp8Fn1mXow/K8/lpu72Fob8Zdj2rWwR51qh9ui344nX543dltdKY9x68lzihDK8ces6W9lvrJGoHgK9QXAPU0Gewdhr8DvjVvxtbKhwzaU/PcuNqHsd5pD46U8yFuem7GZp3mvMbfXPdt0R4cKbUfnq9purRP6mtnBdF8trmWtfYKnUOCtABs0eQN2vYSe5OdfxCZ/+xmut0eM5BS85lvmzPIWzr+IwaJJfmm1k1Om505MD6iLtbyTk1na34p11hOekfb6/rf0vahnz/HZn3UkNOGNeqr1jEd1Z9teW26zTQ4MD/26fNrr+Xa60utpbRL2nTvdtQP56d3NP2wfjimpB+ezjIP9cPT7VJeq3H9pJyXe9Vtadvv8Z6wpY8uqZ89+pyjP2+s1XHOlwMl71EAtKHZmb17SX2jC73p7/GBaKlMS/kslSl0PKFZY1tnAcRmoeXuX7pfKP+cNstt19zjjw0Mj6iLtTRyzrfc7VLOya3lD4m1z5YPY3td/ymzOrbWZS2h+orVY436Cp0fWz7glfRVMbXSC9Xj2nla2g/XlNI2qW265bzXD8e30w+nlTPldf1wX/3wfEy8ZCz70jHs8eVIzvj+iOt3rQyp+2/NI7U+ar937NHnHPE5cp5+LM+lOgs5uuwA1PXp9Xq9zi7Ene0xaOyFuvmHutiuleAYbTvyGpvnNT4OzZrJDQznpHOGlsqS46rlboF+mBRHXWOhPjilHCXbXtERx9BDPQFAa261jAMAtCQ1UOCnkgD7CvWzsecFKQGAFt1uGQfgPswmI9WWn5lvMZ3FO+Y7L8P0ccprS+nPnXENtD7DmGPoh0l1VD+8lm9OXxxytb5Ofw0AfRHsBbqTuh4ZnCW2lmzuPi2z5t996YdpVcoXYil9cW+/uNBfA0A/rNkLAP9v75lMe6ZvFhbQg1b7svnSOj2v1QsAXJtgLwAcwExHgGuzLAkAcAWCvQAAAAAAHfjP2QUAAAAAAKCcYC8AAAAAQAcEewEAAAAAOiDYCwAAAADQAcFeAAAAAIAOCPYCAAAAAHRAsBcAAAAAoAOCvQAAAAAAHRDsBQAAAADogGAvAAAAAEAHBHsBAAAAADog2AsAAAAA0AHBXgAAAACADgj2AgAAAAB0QLAXAAAAAKADgr0AAAAAAB0Q7AUAAAAA6IBgLwAAAABABwR7AQAAAAA6INgLAAAAANABwV4AAAAAgA4I9gIAcDuPx2N4PB5nFwMAAKoS7AUA4FYej8fwfD6H5/Mp4FtI0BwAoC2CvQAA3NIY9L2rkiCtIC8AQJsEewEAuKU7B3pLjTOjAQBoi2AvAAC3YTYqAAA9++nsAgAAwJ6WArzjc9PZqfPnlrZZSnNthutSumbFAgCwB8FeAAC6Ng/ohoK34w3b1oKza4+nz8/TmZcHAABqsowDAADMxAK9W9KZ/w8AAHswsxcAgFuIBWpDQdmlAG3OTOEWxI479ForZQcAII9gLwAAt1ESxBwDoznr9c73PyOIGsqzpYA0AAB1CPYCAECG1BuyAQDA0azZCwAAw/pM19gM2ZTtlvabzhZeChKPz+e+BgDAPZnZCwAAG6UshbC2Lu40jdD/a68BAMAwCPYCAHADtWa/Pp/PpDV7p9uN/+fcyC1llvE0/aPN6/PMsgAA8A/BXgCABlx1puaVyr1WztTjqL3dVmfO8r1KmwMAzJWOnVof/wr2AgAUSpk1GhsQLv1cP5RGypIAOXmXis1abUHLZZuLlXWPJRyuUi8AALXkjKNC27Y+/hXsBQAolBKEyxkQzgO30/1ir6WW5S7GOmi1LqblG4Yf2zm0XETqUhIAAGxz5RvgCvYCABxkKei4RyDy6OBmqwHVs8u1tK5taHbIkrU1ewEASFdzXHj2ODNGsBcAgG6dOQBvcfAPAEDclWf1DsMw/OfsAgAA9GDLur1bZwPE8mp1hgH/Nrbh1T9MAABcQeoYuYextGAvAMCFtDoAjd08jh89n8/vfwAAXE+r41/LOAAAVLIUuAvdSG0PrQaCAQCgdb2MpQV7AQAqWfpmv+aAMTYAvdLgdMsMiKscGwAA13OlsfQawV4AgEJHzt7twZ711OJP6e7OdQEAcBzBXgCAC5jPNpiuEdbTTIRS6gEAgBy9jaUFewEAKth7tmpPA1DLOAAA0JLQ+PSKv+AT7AUAuLCUQPB0kBobsE4HufPXY6/lutJgGQCAvp19k+XaBHsBAAocsUZsbJCZMgAdt5kGhudB4tjj3mYWAwBArwR7AQA2mAd59/r2v1Z6sYDtWjB3bUYwAAD04Kgx/p4EewEANqgx4BuDqKG01vI4ctC5Nsv36rN/5wP7tWUuYttdRWhWemwJj6XXAQBatzbunm6XqtXxr2AvAMDNrA1M77iEw/R4U7bpoU7mxxz70qGXYwYA6N2n1+v1OrsQAAB3tncgbUx/r5uz9RIITK2n1o61tExrwd4WjxkAYIta45qWx0dm9gIA3MTWG721OpDdyzTgCwAAV/KfswsAAHB3Vw4utjyrodRV26SmntsXALifGuPu1sdHgr0AAA3Ya8A4Dmb3Cly2PNAFAIC50vFr6+NfyzgAAHSs9cFoK+YzNJZmfbQ+i6O2ux0vAEAPzOwFAICAOyzlcJUb0QEAsM7MXgAAWNDaWsqxsoReywnYCvACAFyfYC8AAES0EgQNlaF2+Vo5XgAA8lnGAQCAW0sJbgqAAgBwBWb2AgBAwNpSDuNr0+1Ca+BO00x97WiC2gAA1ybYCwAAK0IB0PH5aZB0HjCNPW4tuNpSWQAAyCfYCwDALU1n1MZm5aaks3U93bUZwUc6O38AAMoJ9gIAcEupwc29g6AtzPIV6AUA6IMbtAEAQCVrAdv5Eg41CNQCADD69Hq9XmcXAgAArmgM3vZwczYAAK5PsBcAADZq7QZrAADcm2UcAAAAAAA6INgLAAAbjEsw1Fp7FwAASlnGAQAAAACgA2b2AgAAAAB0QLAXAAAAAKADgr0AAAAAAB0Q7AUAAAAA6IBgLwAAAABABwR7AQAAAAA6INgLAAAAANABwV4AAAAAgA4I9gIAAAAAdECwFwAAAACgA4K9AAAAAAAdEOwFAAAAAOiAYC8AAAAAQAcEewEAAAAAOiDYCwAAAADQAcFeAAAAAIAOCPYCAAAAAHRAsBcAAAAAoAOCvQAAAAAAHRDsBQDgdh6Px/B4PM4uBgAAVCXYCwDArTwej+H5fA7P51PAtxLBcwCANgj2AgBwS2PQ985KA7SCvAAAbRHsBQDglu4e6K1hnCENAEAbBHsBALgNs1ABAOjZT2cXAAAA9rQU4B2fm85KnT+3tM1SmmszW5fSNRsWAIA9CPYCANC1eUA3FLwdb9i2Fpxdezx9fp7OvDwAAFCTZRwAAGAmFujdks78fwAA2IOZvQAA3EIsUBsKyi4FaHNmCrciduyh11oqPwAAaQR7AQC4jZIA5hgUzVmvd77/WQHUUL6tBaUBACgj2AsAABlSb8gGAABHs2YvAAAM67NcY7NjU7aL7Te9MdzSdimvCTIDAGBmLwAAbJSyDMJSEHbcb3wtdkO4La8BAHBPgr0AAHSv1qzXaYB2fLy23fh/zk3ghuHHNYJTbgx3tHm9LpUVAIDjCPYCAHALawHI1ABlre1iM3Vz8zpL6+UDALgba/YCAJzo6uustl7+1su3JLY+b+j5rUFXwVoA4G5Kx4etjy/N7AUAKJAy2Iv9TH/+Wii9+fIBS+kvvb53MG9piYJWTNfFbbF8c/OyxpaMiJ0PAAAsC40LQ+PypW1bH19+er1er7MLAQBwdbEBX86gcvraMCwHa9fWRT168NnyYPfMsh0VfG+5/gEAWhIbl8/Fxlctj78s4wAAcIClG1n1EvhreZbpmYPw5/P5w18N07pu+YMGAEBLcsZNKfd6aHX8axkHAAC4kOmHC4FeAIA6ehlXCfYCABTKXbe3ZDZmLC+zPO9DOwMApLvTONkyDgAAF9HyILXln7IBAECKx+ORPKZtdfxrZi8AQAVbbqRWU8uBYAAAaN10PH3lJbMEewEAKsi9g++W9EPpXS3Qu2UGxJWODwCA65mON1udtZtCsBcAoMCVv/U/y551ddVBee9cHwBAy3oaqwj2AgA0bj5zdzrT4GqzevemLgAAqOWKY23BXgCAQnvPVL3aAHONZRwAAGhFb+NtwV4AgItKGZjm3Ggi9Pr0+RqD4Z4G0wAAXF9ojHvFcatgLwDARkesDxsbYKYGeudB3KXB7DwovPY/AAD0YOlmbFe+D4RgLwBAptBgsHYgtOYM2lha0/V/p9sK7gIAcAfzgO+Vx8CfXq/X6+xCAADczVGB1Hk+a7N6c/dNee0K5gH8UH3MXfmYR6GZK6HlPEKvAwC0rPZ4tdXx73/OLgAAAMeL/TRt6bVWB7O1PJ/P1eObbpOy/VXMjyV0bD0eOwBAbwR7AQBOsLQ22JH5zoN7j8fj+980qDc+F9NLIHjpZnaxbVpyxLnU6rEDAKSoOf5ueVxkzV4AgI6l3lU4NFhdC3726KxAPAAAlDKzFwDgJC0HFafl6nmt3phW2+YMPbczAHAfNcbfrY+LzOwFADhRqwPF6UA4VsZWyw8AAEtKx6+tj3/N7AUAYNGdbsS1tI7x2jZ3cdfjBgC4IsFeAAAIuNNSDgLcAADXZxkHAABY0OKayrHyhF7LDdYK8AIAXJdgLwAARLQU/DzyRnktHTcAAGks4wAAwK2lBDUFPgEAuALBXgAACEgJAk//X1tmIfT69LUWlo4Q3AYAuCbLOAAAwIrYzcvG4Oy4zVKgdPrc/PXYa2dpoQwAAOQT7AUA4Jbms3KHIS/IOd02tt98xm4o0NuK1soDAEA6wV4AAG4pNai5FshNCd5eJYB6lXICALDMmr0AAFDZ2tq9oee3BlsFaQEAGAYzewEAoJpxDd/5Eg/TAG/sNQAAKPHp9Xq9zi4EAADcXYvr9wIAcC2WcQAAgBPMbxAn0AsAQCkzewEA4CRjwFegFwCAGgR7AQAAAAA6YBkHAAAAAIAOCPYCAAAAAHRAsBcAAAAAoAOCvQAAAAAAHRDsBQAAAADogGAvAAAAAEAHBHsBAAAAADrwf1kPcLPLosBmAAAAAElFTkSuQmCC)"
      ],
      "metadata": {
        "id": "eg54x1YhHpmS"
      }
    },
    {
      "cell_type": "markdown",
      "source": [
        "![image.png](data:image/png;base64,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)"
      ],
      "metadata": {
        "id": "y6AV_IlZHr1e"
      }
    },
    {
      "cell_type": "code",
      "source": [
        "# UNQ_C2 (UNIQUE CELL IDENTIFIER, DO NOT EDIT)"
      ],
      "metadata": {
        "id": "drvN4nzdHzWT"
      },
      "execution_count": null,
      "outputs": []
    }
  ]
}
