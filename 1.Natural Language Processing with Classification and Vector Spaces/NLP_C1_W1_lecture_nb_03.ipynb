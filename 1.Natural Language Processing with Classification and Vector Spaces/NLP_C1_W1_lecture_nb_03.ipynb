{
  "nbformat": 4,
  "nbformat_minor": 0,
  "metadata": {
    "colab": {
      "name": "NLP_C1_W1_lecture_nb_03.ipynb",
      "provenance": [],
      "collapsed_sections": [],
      "authorship_tag": "ABX9TyNhOzNuXxrIn2aRDHyhhEhK",
      "include_colab_link": true
    },
    "kernelspec": {
      "name": "python3",
      "display_name": "Python 3"
    },
    "language_info": {
      "name": "python"
    }
  },
  "cells": [
    {
      "cell_type": "markdown",
      "metadata": {
        "id": "view-in-github",
        "colab_type": "text"
      },
      "source": [
        "<a href=\"https://colab.research.google.com/github/skilove13/NLP-Specialization-Cousera/blob/main/NLP_C1_W1_lecture_nb_03.ipynb\" target=\"_parent\"><img src=\"https://colab.research.google.com/assets/colab-badge.svg\" alt=\"Open In Colab\"/></a>"
      ]
    },
    {
      "cell_type": "markdown",
      "source": [
        "**Visualizing tweets and the Logistic Regression model**\n",
        "\n",
        "Objectives: Visualize and interpret the logistic regression model\n",
        "\n",
        "Steps:\n",
        "\n",
        "Plot tweets in a scatter plot using their positive and negative sums.\n",
        "Plot the output of the logistic regression model in the same plot as a solid line\n",
        "Import the required libraries\n",
        "We will be using NLTK, an opensource NLP library, for collecting, handling, and processing Twitter data. In this lab, we will use the example dataset that comes alongside with NLTK. This dataset has been manually annotated and serves to establish baselines for models quickly.\n",
        "\n",
        "So, to start, let's import the required libraries."
      ],
      "metadata": {
        "id": "aDlpLLuExl4v"
      }
    },
    {
      "cell_type": "code",
      "execution_count": 8,
      "metadata": {
        "id": "-Xnmv8iExd9R"
      },
      "outputs": [],
      "source": [
        "import nltk                                # Python library for NLP\n",
        "from nltk.corpus import twitter_samples    # sample Twitter dataset from NLTK\n",
        "import matplotlib.pyplot as plt            # visualization library\n",
        "import numpy as np                         # library for scientific computing and matrix operations\n",
        "import re \n",
        "import string \n",
        "from nltk.stem import PorterStemmer\n",
        "from nltk.corpus import stopwords\n",
        "from nltk.tokenize import TweetTokenizer\n",
        "\n",
        "from os import getcwd\n",
        "import pandas as pd                 # Library for Dataframes "
      ]
    },
    {
      "cell_type": "code",
      "source": [
        "# download the stopwords for the process_tweet function\n",
        "nltk.download('stopwords')\n",
        "\n",
        "!pip install utils\n",
        "import numpy as np\n",
        "\n",
        "def process_tweet(tweet):\n",
        "  stemmer = PorterStemmer()\n",
        "  stopwords_english = stopwords.words('english')\n",
        "  tweet = re.sub(r'\\$\\w*', '', tweet)\n",
        "  tweet = re.sub(r'^RT[\\s]+', '', tweet)\n",
        "  tweet = re.sub(r'https?:\\/\\/.*[\\r\\n]*', '', tweet)\n",
        "  tweet = re.sub(r'#', '', tweet)\n",
        "  tokenizer = TweetTokenizer(preserve_case=False,        strip_handles=True,reduce_len=True)\n",
        "  tweet_tokens = tokenizer.tokenize(tweet)\n",
        "  \n",
        "  tweets_clean = []\n",
        "  for word in tweet_tokens:\n",
        "    if (word not in stopwords_english and word not in string.punctuation): \n",
        "      stem_word = stemmer.stem(word)  # stemming word\n",
        "      tweets_clean.append(stem_word)\n",
        "  return tweets_clean\n",
        "\n",
        "def build_freqs(tweets, ys):\n",
        "    \"\"\"Build frequencies.\n",
        "    Input:\n",
        "        tweets: a list of tweets\n",
        "        ys: an m x 1 array with the sentiment label of each tweet (either 0 or 1)\n",
        "    Output:\n",
        "        freqs: a dictionary mapping each (word, sentiment) pair to its frequency\n",
        "    \"\"\"\n",
        "    # Convert np array to list since zip needs an iterable.\n",
        "    # The squeeze is necessary or the list ends up with one element.\n",
        "    # Also note that this is just a NOP if ys is already a list.\n",
        "    yslist = np.squeeze(ys).tolist()\n",
        "\n",
        "    # Start with an empty dictionary and populate it by looping over all tweets\n",
        "    # and over all processed words in each tweet.\n",
        "    freqs = {}\n",
        "    for y, tweet in zip(yslist, tweets):\n",
        "        for word in process_tweet(tweet):\n",
        "            pair = (word, y)\n",
        "            if pair in freqs:\n",
        "                freqs[pair] += 1\n",
        "            else:\n",
        "                freqs[pair] = 1\n",
        "\n",
        "    return freqs"
      ],
      "metadata": {
        "colab": {
          "base_uri": "https://localhost:8080/"
        },
        "id": "sSULjCs6x9NB",
        "outputId": "5ab7a0ee-7486-49fb-86a5-5625811122a5"
      },
      "execution_count": 2,
      "outputs": [
        {
          "output_type": "stream",
          "name": "stdout",
          "text": [
            "[nltk_data] Downloading package stopwords to /root/nltk_data...\n",
            "[nltk_data]   Unzipping corpora/stopwords.zip.\n",
            "Collecting utils\n",
            "  Downloading utils-1.0.1-py2.py3-none-any.whl (21 kB)\n",
            "Installing collected packages: utils\n",
            "Successfully installed utils-1.0.1\n"
          ]
        }
      ]
    },
    {
      "cell_type": "markdown",
      "source": [
        "# **Load the NLTK sample dataset**\n",
        "\n",
        "To complete this lab, you need the sample dataset of the previous lab. Here, we assume the files are already available, and we only need to load into Python lists."
      ],
      "metadata": {
        "id": "ysa259O_yXkK"
      }
    },
    {
      "cell_type": "code",
      "source": [
        "nltk.download('twitter_samples')\n",
        "\n",
        "# select the lists of positive and negative tweets\n",
        "all_positive_tweets = twitter_samples.strings('positive_tweets.json')\n",
        "all_negative_tweets = twitter_samples.strings('negative_tweets.json')\n",
        "\n",
        "# concatenate the lists, 1st part is the positive tweets followed by the negative\n",
        "tweets = all_positive_tweets + all_negative_tweets\n",
        "labels = np.append(np.ones((len(all_positive_tweets),1)), np.zeros((len(all_negative_tweets),1)), axis = 0)\n",
        "\n",
        "# split the data into two pieces, one for training and one for testing (validation set) \n",
        "train_pos = all_positive_tweets[:4000]\n",
        "train_neg = all_negative_tweets[:4000]\n",
        "\n",
        "train_x = train_pos + train_neg\n",
        "\n",
        "print('Number of tweets:', len(train_x))"
      ],
      "metadata": {
        "colab": {
          "base_uri": "https://localhost:8080/"
        },
        "id": "lS4zZDY7ydfy",
        "outputId": "52bd7c58-90ae-4b8e-b61e-5760ae58c4d3"
      },
      "execution_count": 6,
      "outputs": [
        {
          "output_type": "stream",
          "name": "stdout",
          "text": [
            "[nltk_data] Downloading package twitter_samples to /root/nltk_data...\n",
            "[nltk_data]   Package twitter_samples is already up-to-date!\n",
            "Number of tweets: 8000\n"
          ]
        }
      ]
    },
    {
      "cell_type": "markdown",
      "source": [
        "**Load the extracted features**\n",
        "\n",
        "Part of this week's assignment is the creation of the numerical features needed for the Logistic regression model. In order not to interfere with it, we have previously calculated and stored these features in a CSV file for the entire training set.\n",
        "\n",
        "So, please load these features created for the tweets sample.\n"
      ],
      "metadata": {
        "id": "RWMP5bny0GT5"
      }
    },
    {
      "cell_type": "code",
      "source": [
        "!pwd\n",
        "data = pd.read_csv('logistic_features.csv'); # Load a 3 columns csv file using pandas function\n",
        "data.head(10) # Print the first 10 data entries"
      ],
      "metadata": {
        "colab": {
          "base_uri": "https://localhost:8080/",
          "height": 381
        },
        "id": "cZAg12Hm0KRw",
        "outputId": "31a3273c-8246-4631-be8b-f71c2287ffbd"
      },
      "execution_count": 11,
      "outputs": [
        {
          "output_type": "stream",
          "name": "stdout",
          "text": [
            "/content\n"
          ]
        },
        {
          "output_type": "execute_result",
          "data": {
            "text/html": [
              "\n",
              "  <div id=\"df-711760e2-cb86-461a-96e1-7d24a8784519\">\n",
              "    <div class=\"colab-df-container\">\n",
              "      <div>\n",
              "<style scoped>\n",
              "    .dataframe tbody tr th:only-of-type {\n",
              "        vertical-align: middle;\n",
              "    }\n",
              "\n",
              "    .dataframe tbody tr th {\n",
              "        vertical-align: top;\n",
              "    }\n",
              "\n",
              "    .dataframe thead th {\n",
              "        text-align: right;\n",
              "    }\n",
              "</style>\n",
              "<table border=\"1\" class=\"dataframe\">\n",
              "  <thead>\n",
              "    <tr style=\"text-align: right;\">\n",
              "      <th></th>\n",
              "      <th>bias</th>\n",
              "      <th>positive</th>\n",
              "      <th>negative</th>\n",
              "      <th>sentiment</th>\n",
              "    </tr>\n",
              "  </thead>\n",
              "  <tbody>\n",
              "    <tr>\n",
              "      <th>0</th>\n",
              "      <td>1.0</td>\n",
              "      <td>3020.0</td>\n",
              "      <td>61.0</td>\n",
              "      <td>1.0</td>\n",
              "    </tr>\n",
              "    <tr>\n",
              "      <th>1</th>\n",
              "      <td>1.0</td>\n",
              "      <td>3573.0</td>\n",
              "      <td>444.0</td>\n",
              "      <td>1.0</td>\n",
              "    </tr>\n",
              "    <tr>\n",
              "      <th>2</th>\n",
              "      <td>1.0</td>\n",
              "      <td>3005.0</td>\n",
              "      <td>115.0</td>\n",
              "      <td>1.0</td>\n",
              "    </tr>\n",
              "    <tr>\n",
              "      <th>3</th>\n",
              "      <td>1.0</td>\n",
              "      <td>2862.0</td>\n",
              "      <td>4.0</td>\n",
              "      <td>1.0</td>\n",
              "    </tr>\n",
              "    <tr>\n",
              "      <th>4</th>\n",
              "      <td>1.0</td>\n",
              "      <td>3119.0</td>\n",
              "      <td>225.0</td>\n",
              "      <td>1.0</td>\n",
              "    </tr>\n",
              "    <tr>\n",
              "      <th>5</th>\n",
              "      <td>1.0</td>\n",
              "      <td>2955.0</td>\n",
              "      <td>119.0</td>\n",
              "      <td>1.0</td>\n",
              "    </tr>\n",
              "    <tr>\n",
              "      <th>6</th>\n",
              "      <td>1.0</td>\n",
              "      <td>3934.0</td>\n",
              "      <td>538.0</td>\n",
              "      <td>1.0</td>\n",
              "    </tr>\n",
              "    <tr>\n",
              "      <th>7</th>\n",
              "      <td>1.0</td>\n",
              "      <td>3162.0</td>\n",
              "      <td>276.0</td>\n",
              "      <td>1.0</td>\n",
              "    </tr>\n",
              "    <tr>\n",
              "      <th>8</th>\n",
              "      <td>1.0</td>\n",
              "      <td>628.0</td>\n",
              "      <td>189.0</td>\n",
              "      <td>1.0</td>\n",
              "    </tr>\n",
              "    <tr>\n",
              "      <th>9</th>\n",
              "      <td>1.0</td>\n",
              "      <td>264.0</td>\n",
              "      <td>112.0</td>\n",
              "      <td>1.0</td>\n",
              "    </tr>\n",
              "  </tbody>\n",
              "</table>\n",
              "</div>\n",
              "      <button class=\"colab-df-convert\" onclick=\"convertToInteractive('df-711760e2-cb86-461a-96e1-7d24a8784519')\"\n",
              "              title=\"Convert this dataframe to an interactive table.\"\n",
              "              style=\"display:none;\">\n",
              "        \n",
              "  <svg xmlns=\"http://www.w3.org/2000/svg\" height=\"24px\"viewBox=\"0 0 24 24\"\n",
              "       width=\"24px\">\n",
              "    <path d=\"M0 0h24v24H0V0z\" fill=\"none\"/>\n",
              "    <path d=\"M18.56 5.44l.94 2.06.94-2.06 2.06-.94-2.06-.94-.94-2.06-.94 2.06-2.06.94zm-11 1L8.5 8.5l.94-2.06 2.06-.94-2.06-.94L8.5 2.5l-.94 2.06-2.06.94zm10 10l.94 2.06.94-2.06 2.06-.94-2.06-.94-.94-2.06-.94 2.06-2.06.94z\"/><path d=\"M17.41 7.96l-1.37-1.37c-.4-.4-.92-.59-1.43-.59-.52 0-1.04.2-1.43.59L10.3 9.45l-7.72 7.72c-.78.78-.78 2.05 0 2.83L4 21.41c.39.39.9.59 1.41.59.51 0 1.02-.2 1.41-.59l7.78-7.78 2.81-2.81c.8-.78.8-2.07 0-2.86zM5.41 20L4 18.59l7.72-7.72 1.47 1.35L5.41 20z\"/>\n",
              "  </svg>\n",
              "      </button>\n",
              "      \n",
              "  <style>\n",
              "    .colab-df-container {\n",
              "      display:flex;\n",
              "      flex-wrap:wrap;\n",
              "      gap: 12px;\n",
              "    }\n",
              "\n",
              "    .colab-df-convert {\n",
              "      background-color: #E8F0FE;\n",
              "      border: none;\n",
              "      border-radius: 50%;\n",
              "      cursor: pointer;\n",
              "      display: none;\n",
              "      fill: #1967D2;\n",
              "      height: 32px;\n",
              "      padding: 0 0 0 0;\n",
              "      width: 32px;\n",
              "    }\n",
              "\n",
              "    .colab-df-convert:hover {\n",
              "      background-color: #E2EBFA;\n",
              "      box-shadow: 0px 1px 2px rgba(60, 64, 67, 0.3), 0px 1px 3px 1px rgba(60, 64, 67, 0.15);\n",
              "      fill: #174EA6;\n",
              "    }\n",
              "\n",
              "    [theme=dark] .colab-df-convert {\n",
              "      background-color: #3B4455;\n",
              "      fill: #D2E3FC;\n",
              "    }\n",
              "\n",
              "    [theme=dark] .colab-df-convert:hover {\n",
              "      background-color: #434B5C;\n",
              "      box-shadow: 0px 1px 3px 1px rgba(0, 0, 0, 0.15);\n",
              "      filter: drop-shadow(0px 1px 2px rgba(0, 0, 0, 0.3));\n",
              "      fill: #FFFFFF;\n",
              "    }\n",
              "  </style>\n",
              "\n",
              "      <script>\n",
              "        const buttonEl =\n",
              "          document.querySelector('#df-711760e2-cb86-461a-96e1-7d24a8784519 button.colab-df-convert');\n",
              "        buttonEl.style.display =\n",
              "          google.colab.kernel.accessAllowed ? 'block' : 'none';\n",
              "\n",
              "        async function convertToInteractive(key) {\n",
              "          const element = document.querySelector('#df-711760e2-cb86-461a-96e1-7d24a8784519');\n",
              "          const dataTable =\n",
              "            await google.colab.kernel.invokeFunction('convertToInteractive',\n",
              "                                                     [key], {});\n",
              "          if (!dataTable) return;\n",
              "\n",
              "          const docLinkHtml = 'Like what you see? Visit the ' +\n",
              "            '<a target=\"_blank\" href=https://colab.research.google.com/notebooks/data_table.ipynb>data table notebook</a>'\n",
              "            + ' to learn more about interactive tables.';\n",
              "          element.innerHTML = '';\n",
              "          dataTable['output_type'] = 'display_data';\n",
              "          await google.colab.output.renderOutput(dataTable, element);\n",
              "          const docLink = document.createElement('div');\n",
              "          docLink.innerHTML = docLinkHtml;\n",
              "          element.appendChild(docLink);\n",
              "        }\n",
              "      </script>\n",
              "    </div>\n",
              "  </div>\n",
              "  "
            ],
            "text/plain": [
              "   bias  positive  negative  sentiment\n",
              "0   1.0    3020.0      61.0        1.0\n",
              "1   1.0    3573.0     444.0        1.0\n",
              "2   1.0    3005.0     115.0        1.0\n",
              "3   1.0    2862.0       4.0        1.0\n",
              "4   1.0    3119.0     225.0        1.0\n",
              "5   1.0    2955.0     119.0        1.0\n",
              "6   1.0    3934.0     538.0        1.0\n",
              "7   1.0    3162.0     276.0        1.0\n",
              "8   1.0     628.0     189.0        1.0\n",
              "9   1.0     264.0     112.0        1.0"
            ]
          },
          "metadata": {},
          "execution_count": 11
        }
      ]
    },
    {
      "cell_type": "markdown",
      "source": [
        "Now let us get rid of the data frame to keep only Numpy arrays."
      ],
      "metadata": {
        "id": "039eITko0_g5"
      }
    },
    {
      "cell_type": "code",
      "source": [
        "X = data[['bias','positive','negative']].values # Get only the numerical values of the dataframe\n",
        "Y = data['sentiment'].values  # Put in Y the corresponding lables or sentiments\n",
        "\n",
        "print(X.shape) # Print the shape of the X part\n",
        "print(X)  # Print some rows of X"
      ],
      "metadata": {
        "colab": {
          "base_uri": "https://localhost:8080/"
        },
        "id": "K3TU1N_v1CNI",
        "outputId": "4459c26b-459c-4045-c714-8eb515bc969d"
      },
      "execution_count": 14,
      "outputs": [
        {
          "output_type": "stream",
          "name": "stdout",
          "text": [
            "(8000, 3)\n",
            "[[1.000e+00 3.020e+03 6.100e+01]\n",
            " [1.000e+00 3.573e+03 4.440e+02]\n",
            " [1.000e+00 3.005e+03 1.150e+02]\n",
            " ...\n",
            " [1.000e+00 1.440e+02 7.830e+02]\n",
            " [1.000e+00 2.050e+02 3.890e+03]\n",
            " [1.000e+00 1.890e+02 3.974e+03]]\n"
          ]
        }
      ]
    },
    {
      "cell_type": "markdown",
      "source": [
        "# **Load a pretrained Logistic Regression model**\n",
        "\n",
        "In the same way, as part of this week's assignment, a Logistic regression model must be trained. The next cell contains the resulting model from such training. Notice that a list of 3 numeric values represents the whole model, that we have called theta ."
      ],
      "metadata": {
        "id": "DMY9egBu3Bu4"
      }
    },
    {
      "cell_type": "code",
      "source": [
        "theta = [7e-08, 0.0005239, -0.00055517]"
      ],
      "metadata": {
        "id": "-WKKQstl3EfH"
      },
      "execution_count": 32,
      "outputs": []
    },
    {
      "cell_type": "markdown",
      "source": [
        "**Plot the samples in a scatter plot**\n",
        "\n",
        "The vector theta represents a plane that split our feature space into two parts. Samples located over that plane are considered positive, and samples located under that plane are considered negative. Remember that we have a 3D feature space, i.e., each tweet is represented as a vector comprised of three values: [bias, positive_sum, negative_sum], always having bias = 1.\n",
        "\n",
        "If we ignore the bias term, we can plot each tweet in a cartesian plane, using positive_sum and negative_sum. In the cell below, we do precisely this. Additionally, we color each tweet, depending on its class. Positive tweets will be green and negative tweets will be red."
      ],
      "metadata": {
        "id": "ktdW6M1d3QBq"
      }
    },
    {
      "cell_type": "code",
      "source": [
        "# Plot the samples using columns 1 and 2 of the matrix\n",
        "\n",
        "fig , ax = plt.subplots(figsize = (8,8))\n",
        "\n",
        "colors = ['red', 'green']\n",
        "# Color based on the sentiment Y\n",
        "ax.scatter(X[:,1], X[:,2], c=[colors[int(k)] for k in Y], s = 0.1)  # Plot a dot for each pair of words\n",
        "plt.xlabel(\"Positive\")\n",
        "plt.ylabel(\"Negative\")\n"
      ],
      "metadata": {
        "colab": {
          "base_uri": "https://localhost:8080/",
          "height": 516
        },
        "id": "yCwG8BBs3SrQ",
        "outputId": "c7297a5e-854b-4b43-b024-32c39b61d3a9"
      },
      "execution_count": 16,
      "outputs": [
        {
          "output_type": "execute_result",
          "data": {
            "text/plain": [
              "Text(0, 0.5, 'Negative')"
            ]
          },
          "metadata": {},
          "execution_count": 16
        },
        {
          "output_type": "display_data",
          "data": {
            "image/png": "[encoded data removed]",
            "text/plain": [
              "<Figure size 576x576 with 1 Axes>"
            ]
          },
          "metadata": {
            "needs_background": "light"
          }
        }
      ]
    },
    {
      "cell_type": "markdown",
      "source": [
        "From the plot, it is evident that the features that we have chosen to represent tweets as numerical vectors allow an almost perfect separation between positive and negative tweets. So you can expect a very high accuracy for this model!"
      ],
      "metadata": {
        "id": "fFhulBhO4KjB"
      }
    },
    {
      "cell_type": "markdown",
      "source": [
        "# **Plot the model alongside the data**\n",
        "![image.png](data:image/png;base64,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)"
      ],
      "metadata": {
        "id": "rOy_T-0M4MoJ"
      }
    },
    {
      "cell_type": "code",
      "source": [
        "# Equation for the separation plane\n",
        "# It give a value in the negative axe as a function of a positive value\n",
        "# f(pos, neg, W) = w0 + w1 * pos + w2 * neg = 0\n",
        "# s(pos, W) = (w0 - w1 * pos) / w2\n",
        "\n",
        "#neg = (-theta[0] - theta[1]*pos/theta[2])\n",
        "def neg(theta, pos):\n",
        "  return [-theta[0] - pos*theta[1]/theta[2]]\n",
        "\n",
        "#df(pos, W) = pos * w2 / w1 \n",
        "def direction(theta, pos):\n",
        "    return    pos * theta[2] / theta[1]\n"
      ],
      "metadata": {
        "id": "ErevQyCI4uNi"
      },
      "execution_count": 30,
      "outputs": []
    },
    {
      "cell_type": "markdown",
      "source": [
        "The green line in the chart points in the direction where z > 0 and the red line points in the direction where z < 0. The direction of these lines are given by the weights theta[1] and theta[2] "
      ],
      "metadata": {
        "id": "rnGG2Wwc5ovQ"
      }
    },
    {
      "cell_type": "code",
      "source": [
        "fig , ax = plt.subplots(figsize = (8,8))\n",
        "\n",
        "colors = ['red', 'green']\n",
        "\n",
        "# Color based on the sentiment Y\n",
        "ax.scatter(X[:,1], X[:,2], c=[colors[int(k)] for k in Y], s = 0.1)  # Plot a dot for each pair of words\n",
        "plt.xlabel(\"Positive\")\n",
        "plt.ylabel(\"Negative\")\n",
        "\n",
        "# Now lets represent the logistic regression model in this chart. \n",
        "maxpos = np.max(X[:,1])\n",
        "\n",
        "print(maxpos)\n",
        "\n",
        "offset = 5000 # The pos value for the direction vectors origin\n",
        "\n",
        "# Plot a gray line that divides the 2 areas.\n",
        "ax.plot([0, maxpos], [neg(theta,0), neg(theta, maxpos)], color = 'gray')\n",
        "\n",
        "\n",
        "# Plot a green line pointing to the positive direction\n",
        "ax.arrow(offset, neg(theta, offset), offset, direction(theta, offset), head_width=500, head_length=500, fc='g', ec='g')\n",
        "# Plot a red line pointing to the negative direction\n",
        "ax.arrow(offset, neg(theta, offset), -offset, -direction(theta, offset), head_width=500, head_length=500, fc='r', ec='r')\n",
        "\n",
        "plt.show()\n"
      ],
      "metadata": {
        "colab": {
          "base_uri": "https://localhost:8080/",
          "height": 894
        },
        "id": "BFlEm3oG5u7-",
        "outputId": "5612bd95-5c8f-44c0-93f2-55bf901efb77"
      },
      "execution_count": 33,
      "outputs": [
        {
          "output_type": "stream",
          "name": "stdout",
          "text": [
            "22847.0\n"
          ]
        },
        {
          "output_type": "error",
          "ename": "TypeError",
          "evalue": "ignored",
          "traceback": [
            "\u001b[0;31m---------------------------------------------------------------------------\u001b[0m",
            "\u001b[0;31mTypeError\u001b[0m                                 Traceback (most recent call last)",
            "\u001b[0;32m<ipython-input-33-cdd0bbc99bd6>\u001b[0m in \u001b[0;36m<module>\u001b[0;34m()\u001b[0m\n\u001b[1;32m     20\u001b[0m \u001b[0;34m\u001b[0m\u001b[0m\n\u001b[1;32m     21\u001b[0m \u001b[0;31m# Plot a green line pointing to the positive direction\u001b[0m\u001b[0;34m\u001b[0m\u001b[0;34m\u001b[0m\u001b[0;34m\u001b[0m\u001b[0m\n\u001b[0;32m---> 22\u001b[0;31m \u001b[0max\u001b[0m\u001b[0;34m.\u001b[0m\u001b[0marrow\u001b[0m\u001b[0;34m(\u001b[0m\u001b[0moffset\u001b[0m\u001b[0;34m,\u001b[0m \u001b[0mneg\u001b[0m\u001b[0;34m(\u001b[0m\u001b[0mtheta\u001b[0m\u001b[0;34m,\u001b[0m \u001b[0moffset\u001b[0m\u001b[0;34m)\u001b[0m\u001b[0;34m,\u001b[0m \u001b[0moffset\u001b[0m\u001b[0;34m,\u001b[0m \u001b[0mdirection\u001b[0m\u001b[0;34m(\u001b[0m\u001b[0mtheta\u001b[0m\u001b[0;34m,\u001b[0m \u001b[0moffset\u001b[0m\u001b[0;34m)\u001b[0m\u001b[0;34m,\u001b[0m \u001b[0mhead_width\u001b[0m\u001b[0;34m=\u001b[0m\u001b[0;36m500\u001b[0m\u001b[0;34m,\u001b[0m \u001b[0mhead_length\u001b[0m\u001b[0;34m=\u001b[0m\u001b[0;36m500\u001b[0m\u001b[0;34m,\u001b[0m \u001b[0mfc\u001b[0m\u001b[0;34m=\u001b[0m\u001b[0;34m'g'\u001b[0m\u001b[0;34m,\u001b[0m \u001b[0mec\u001b[0m\u001b[0;34m=\u001b[0m\u001b[0;34m'g'\u001b[0m\u001b[0;34m)\u001b[0m\u001b[0;34m\u001b[0m\u001b[0;34m\u001b[0m\u001b[0m\n\u001b[0m\u001b[1;32m     23\u001b[0m \u001b[0;31m# Plot a red line pointing to the negative direction\u001b[0m\u001b[0;34m\u001b[0m\u001b[0;34m\u001b[0m\u001b[0;34m\u001b[0m\u001b[0m\n\u001b[1;32m     24\u001b[0m \u001b[0max\u001b[0m\u001b[0;34m.\u001b[0m\u001b[0marrow\u001b[0m\u001b[0;34m(\u001b[0m\u001b[0moffset\u001b[0m\u001b[0;34m,\u001b[0m \u001b[0mneg\u001b[0m\u001b[0;34m(\u001b[0m\u001b[0mtheta\u001b[0m\u001b[0;34m,\u001b[0m \u001b[0moffset\u001b[0m\u001b[0;34m)\u001b[0m\u001b[0;34m,\u001b[0m \u001b[0;34m-\u001b[0m\u001b[0moffset\u001b[0m\u001b[0;34m,\u001b[0m \u001b[0;34m-\u001b[0m\u001b[0mdirection\u001b[0m\u001b[0;34m(\u001b[0m\u001b[0mtheta\u001b[0m\u001b[0;34m,\u001b[0m \u001b[0moffset\u001b[0m\u001b[0;34m)\u001b[0m\u001b[0;34m,\u001b[0m \u001b[0mhead_width\u001b[0m\u001b[0;34m=\u001b[0m\u001b[0;36m500\u001b[0m\u001b[0;34m,\u001b[0m \u001b[0mhead_length\u001b[0m\u001b[0;34m=\u001b[0m\u001b[0;36m500\u001b[0m\u001b[0;34m,\u001b[0m \u001b[0mfc\u001b[0m\u001b[0;34m=\u001b[0m\u001b[0;34m'r'\u001b[0m\u001b[0;34m,\u001b[0m \u001b[0mec\u001b[0m\u001b[0;34m=\u001b[0m\u001b[0;34m'r'\u001b[0m\u001b[0;34m)\u001b[0m\u001b[0;34m\u001b[0m\u001b[0;34m\u001b[0m\u001b[0m\n",
            "\u001b[0;32m/usr/local/lib/python3.7/dist-packages/matplotlib/axes/_axes.py\u001b[0m in \u001b[0;36marrow\u001b[0;34m(self, x, y, dx, dy, **kwargs)\u001b[0m\n\u001b[1;32m   4950\u001b[0m         \u001b[0mdy\u001b[0m \u001b[0;34m=\u001b[0m \u001b[0mself\u001b[0m\u001b[0;34m.\u001b[0m\u001b[0mconvert_yunits\u001b[0m\u001b[0;34m(\u001b[0m\u001b[0mdy\u001b[0m\u001b[0;34m)\u001b[0m\u001b[0;34m\u001b[0m\u001b[0;34m\u001b[0m\u001b[0m\n\u001b[1;32m   4951\u001b[0m \u001b[0;34m\u001b[0m\u001b[0m\n\u001b[0;32m-> 4952\u001b[0;31m         \u001b[0ma\u001b[0m \u001b[0;34m=\u001b[0m \u001b[0mmpatches\u001b[0m\u001b[0;34m.\u001b[0m\u001b[0mFancyArrow\u001b[0m\u001b[0;34m(\u001b[0m\u001b[0mx\u001b[0m\u001b[0;34m,\u001b[0m \u001b[0my\u001b[0m\u001b[0;34m,\u001b[0m \u001b[0mdx\u001b[0m\u001b[0;34m,\u001b[0m \u001b[0mdy\u001b[0m\u001b[0;34m,\u001b[0m \u001b[0;34m**\u001b[0m\u001b[0mkwargs\u001b[0m\u001b[0;34m)\u001b[0m\u001b[0;34m\u001b[0m\u001b[0;34m\u001b[0m\u001b[0m\n\u001b[0m\u001b[1;32m   4953\u001b[0m         \u001b[0mself\u001b[0m\u001b[0;34m.\u001b[0m\u001b[0madd_artist\u001b[0m\u001b[0;34m(\u001b[0m\u001b[0ma\u001b[0m\u001b[0;34m)\u001b[0m\u001b[0;34m\u001b[0m\u001b[0;34m\u001b[0m\u001b[0m\n\u001b[1;32m   4954\u001b[0m         \u001b[0;32mreturn\u001b[0m \u001b[0ma\u001b[0m\u001b[0;34m\u001b[0m\u001b[0;34m\u001b[0m\u001b[0m\n",
            "\u001b[0;32m/usr/local/lib/python3.7/dist-packages/matplotlib/patches.py\u001b[0m in \u001b[0;36m__init__\u001b[0;34m(self, x, y, dx, dy, width, length_includes_head, head_width, head_length, shape, overhang, head_starts_at_zero, **kwargs)\u001b[0m\n\u001b[1;32m   1325\u001b[0m                 \u001b[0mcx\u001b[0m\u001b[0;34m,\u001b[0m \u001b[0msx\u001b[0m \u001b[0;34m=\u001b[0m \u001b[0;36m0\u001b[0m\u001b[0;34m,\u001b[0m \u001b[0;36m1\u001b[0m\u001b[0;34m\u001b[0m\u001b[0;34m\u001b[0m\u001b[0m\n\u001b[1;32m   1326\u001b[0m             \u001b[0mM\u001b[0m \u001b[0;34m=\u001b[0m \u001b[0;34m[\u001b[0m\u001b[0;34m[\u001b[0m\u001b[0mcx\u001b[0m\u001b[0;34m,\u001b[0m \u001b[0msx\u001b[0m\u001b[0;34m]\u001b[0m\u001b[0;34m,\u001b[0m \u001b[0;34m[\u001b[0m\u001b[0;34m-\u001b[0m\u001b[0msx\u001b[0m\u001b[0;34m,\u001b[0m \u001b[0mcx\u001b[0m\u001b[0;34m]\u001b[0m\u001b[0;34m]\u001b[0m\u001b[0;34m\u001b[0m\u001b[0;34m\u001b[0m\u001b[0m\n\u001b[0;32m-> 1327\u001b[0;31m             \u001b[0mverts\u001b[0m \u001b[0;34m=\u001b[0m \u001b[0mnp\u001b[0m\u001b[0;34m.\u001b[0m\u001b[0mdot\u001b[0m\u001b[0;34m(\u001b[0m\u001b[0mcoords\u001b[0m\u001b[0;34m,\u001b[0m \u001b[0mM\u001b[0m\u001b[0;34m)\u001b[0m \u001b[0;34m+\u001b[0m \u001b[0;34m(\u001b[0m\u001b[0mx\u001b[0m \u001b[0;34m+\u001b[0m \u001b[0mdx\u001b[0m\u001b[0;34m,\u001b[0m \u001b[0my\u001b[0m \u001b[0;34m+\u001b[0m \u001b[0mdy\u001b[0m\u001b[0;34m)\u001b[0m\u001b[0;34m\u001b[0m\u001b[0;34m\u001b[0m\u001b[0m\n\u001b[0m\u001b[1;32m   1328\u001b[0m \u001b[0;34m\u001b[0m\u001b[0m\n\u001b[1;32m   1329\u001b[0m         \u001b[0msuper\u001b[0m\u001b[0;34m(\u001b[0m\u001b[0;34m)\u001b[0m\u001b[0;34m.\u001b[0m\u001b[0m__init__\u001b[0m\u001b[0;34m(\u001b[0m\u001b[0mverts\u001b[0m\u001b[0;34m,\u001b[0m \u001b[0mclosed\u001b[0m\u001b[0;34m=\u001b[0m\u001b[0;32mTrue\u001b[0m\u001b[0;34m,\u001b[0m \u001b[0;34m**\u001b[0m\u001b[0mkwargs\u001b[0m\u001b[0;34m)\u001b[0m\u001b[0;34m\u001b[0m\u001b[0;34m\u001b[0m\u001b[0m\n",
            "\u001b[0;31mTypeError\u001b[0m: can only concatenate list (not \"float\") to list"
          ]
        },
        {
          "output_type": "display_data",
          "data": {
            "image/png": "[encoded data removed]",
            "text/plain": [
              "<Figure size 576x576 with 1 Axes>"
            ]
          },
          "metadata": {
            "needs_background": "light"
          }
        }
      ]
    }
  ]
}
