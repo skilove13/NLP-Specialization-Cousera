{
  "nbformat": 4,
  "nbformat_minor": 0,
  "metadata": {
    "colab": {
      "name": "NLP_C1_W4_lecture_nb_01.ipynb",
      "provenance": [],
      "collapsed_sections": [],
      "authorship_tag": "ABX9TyN5PNLI+EOQ8ehs5z1z3NPi",
      "include_colab_link": true
    },
    "kernelspec": {
      "name": "python3",
      "display_name": "Python 3"
    },
    "language_info": {
      "name": "python"
    },
    "accelerator": "GPU"
  },
  "cells": [
    {
      "cell_type": "markdown",
      "metadata": {
        "id": "view-in-github",
        "colab_type": "text"
      },
      "source": [
        "<a href=\"https://colab.research.google.com/github/skilove13/NLP-Specialization-Cousera/blob/main/NLP_C1_W4_lecture_nb_01.ipynb\" target=\"_parent\"><img src=\"https://colab.research.google.com/assets/colab-badge.svg\" alt=\"Open In Colab\"/></a>"
      ]
    },
    {
      "cell_type": "markdown",
      "source": [
        "**Vector manipulation in Python**\n",
        "\n",
        "In this lab, you will have the opportunity to practice once again with the NumPy library. This time, we will explore some advanced operations with arrays and matrices.\n",
        "\n",
        "At the end of the previous module, we used PCA to transform a set of many variables into a set of only two uncorrelated variables. This process was made through a transformation of the data called rotation.\n",
        "\n",
        "In this week's assignment, you will need to find a transformation matrix from English to French vector space embeddings. Such a transformation matrix is nothing else but a matrix that rotates and scales vector spaces.\n",
        "\n",
        "In this notebook, we will explain in detail the rotation transformation.\n",
        "\n",
        "**Transforming vectors**\n",
        "\n",
        "There are three main vector transformations:\n",
        "\n",
        "Scaling\n",
        "Translation\n",
        "Rotation\n",
        "In previous notebooks, we have applied the first two kinds of transformations. Now, let us learn how to use a fundamental transformation on vectors called rotation.\n",
        "\n",
        "The rotation operation changes the direction of a vector, letting unaffected its dimensionality and its norm. Let us explain with some examples.\n",
        "\n",
        "In the following cells, we will define a NumPy matrix and a NumPy array. Soon we will explain how this is related to matrix rotation."
      ],
      "metadata": {
        "id": "AvWd_XzISR6q"
      }
    },
    {
      "cell_type": "code",
      "execution_count": 4,
      "metadata": {
        "id": "2fZrdyKlSOVN"
      },
      "outputs": [],
      "source": [
        "import numpy as np                     # Import numpy for array manipulation\n",
        "import matplotlib.pyplot as plt        # Import matplotlib for charts\n",
        "#from utils_nb import plot_vectors      # Function to plot vectors (arrows)\n",
        "\n",
        "# Procedure to plot and arrows that represents vectors with pyplot\n",
        "def plot_vectors(vectors, colors=['k', 'b', 'r', 'm', 'c'], axes=None, fname='image.svg', ax=None):\n",
        "    scale = 1\n",
        "    scale_units = 'x'\n",
        "    x_dir = []\n",
        "    y_dir = []\n",
        "    \n",
        "    for i, vec in enumerate(vectors):\n",
        "        x_dir.append(vec[0][0])\n",
        "        y_dir.append(vec[0][1])\n",
        "    \n",
        "    if ax == None:\n",
        "        fig, ax2 = plt.subplots()\n",
        "    else:\n",
        "        ax2 = ax\n",
        "      \n",
        "    if axes == None:\n",
        "        x_axis = 2 + np.max(np.abs(x_dir))\n",
        "        y_axis = 2 + np.max(np.abs(y_dir))\n",
        "    else:\n",
        "        x_axis = axes[0]\n",
        "        y_axis = axes[1]\n",
        "        \n",
        "    ax2.axis([-x_axis, x_axis, -y_axis, y_axis])\n",
        "        \n",
        "    for i, vec in enumerate(vectors):\n",
        "        ax2.arrow(0, 0, vec[0][0], vec[0][1], head_width=0.05 * x_axis, head_length=0.05 * y_axis, fc=colors[i], ec=colors[i])\n",
        "    \n",
        "    if ax == None:\n",
        "        plt.show()\n",
        "        fig.savefig(fname)"
      ]
    },
    {
      "cell_type": "markdown",
      "source": [
        "**Example 1**"
      ],
      "metadata": {
        "id": "Jlz8FUUuUsnC"
      }
    },
    {
      "cell_type": "code",
      "source": [
        "# Create a 2 x 2 matrix\n",
        "R = np.array([[2,0], [0,-2]])\n",
        "\n",
        "print(R)"
      ],
      "metadata": {
        "colab": {
          "base_uri": "https://localhost:8080/"
        },
        "id": "67c05C9kU5GC",
        "outputId": "777bbce6-ad61-4265-ac93-8a62ef8527b8"
      },
      "execution_count": 6,
      "outputs": [
        {
          "output_type": "stream",
          "name": "stdout",
          "text": [
            "[[ 2  0]\n",
            " [ 0 -2]]\n"
          ]
        }
      ]
    },
    {
      "cell_type": "code",
      "source": [
        "x = np.array([[1,1]])  # Create a 1 x 2 matrix"
      ],
      "metadata": {
        "id": "U2ew5fyJVG-R"
      },
      "execution_count": 7,
      "outputs": []
    },
    {
      "cell_type": "markdown",
      "source": [
        "The dot product between a vector and a square matrix produces a rotation and a scaling of the original vector.\n",
        "\n",
        "Remember that our recommended way to get the dot product in Python is np.dot(a, b):"
      ],
      "metadata": {
        "id": "ZIzfIk5jVPGy"
      }
    },
    {
      "cell_type": "code",
      "source": [
        "y = np.dot(x,R)\n",
        "y"
      ],
      "metadata": {
        "colab": {
          "base_uri": "https://localhost:8080/"
        },
        "id": "1MDYJMykVR6J",
        "outputId": "38c554fe-f089-42ec-9fc5-678d0033b54b"
      },
      "execution_count": 8,
      "outputs": [
        {
          "output_type": "execute_result",
          "data": {
            "text/plain": [
              "array([[ 2, -2]])"
            ]
          },
          "metadata": {},
          "execution_count": 8
        }
      ]
    },
    {
      "cell_type": "markdown",
      "source": [
        "We are going to use Pyplot to inspect the effect of the rotation on 2D vectors visually. For that, we have created a function plot_vectors() that takes care of all the intricate parts of the visual formatting. The code for this function is inside the utils_nb.py file.\n",
        "\n",
        "Now we can plot the vector x = [1,1]\n",
        " in a cartesian plane. The cartesian plane will be centered at [0,0] and its x and y limits will be between [-4, +4]"
      ],
      "metadata": {
        "id": "fx7sx9rYVZSC"
      }
    },
    {
      "cell_type": "code",
      "source": [
        "plot_vectors([x] , axes=[4,4] , fname='transform_x.svg')"
      ],
      "metadata": {
        "colab": {
          "base_uri": "https://localhost:8080/",
          "height": 269
        },
        "id": "7y6HFRQyVhGB",
        "outputId": "9c38c878-53a2-42d3-8058-488fc2b5a59e"
      },
      "execution_count": 9,
      "outputs": [
        {
          "output_type": "display_data",
          "data": {
            "image/png": "[encoded data removed]",
            "text/plain": [
              "<Figure size 432x288 with 1 Axes>"
            ]
          },
          "metadata": {
            "needs_background": "light"
          }
        }
      ]
    },
    {
      "cell_type": "markdown",
      "source": [
        "![image.png](data:image/png;base64,iVBORw0KGgoAAAANSUhEUgAAAyoAAACXCAYAAAD6da/xAAALiUlEQVR4nO3dYbKjLBoG0NtTvZEv+19TtpL5MZX5bFsQBOVFz6nqqr6JUUSjPCLm1+fz+fwAAAAE8p/RBQAAAFgTVAAAgHAEFQAAIBxBBQAACEdQAQAAwhFUAACAcAQVAAAgHEEFAAAIR1ABAADCEVQAAIBwfo8uAADjvF6vn/f7PXT5X6PKEaEMAPztkT0qy5PSbGYu+9qd1gUie71eyX8RvN/voQFh9PK3RNk2WyKX7Sx3X+cz1u/udcY1moPK3snu7jvqXdfvrusFT/RtiK//fd+LqmeYihTMernb+tCffeRa6ru/R/aoHHWHHXDUOtyh7u7IdhlDvecJKMfNsK4zlPFKV9eH3pM6d163GXQLKjbkvUS+ygr0EfV73vNWrIi3dfVy1/WiH/vItdR3f12CynfDCCsAAEAP3Z769X6/q4LK1rTLJPp9f51Ot15PTVsr9eSX5evrZW0tc2/dtqbfqr+a9Smtz+X/S8rUWsaS5ZbO88iTeWrqJVW23HqPKHtu+63f25vH1mdKytyrXraUfH9ST6oq2W9L6m3vvZLtuXc8LP0+pKYpWa/c8nodN5+o9bhRO79cOba+c3v7bM1yasp21nmopAx734ma9a9ZXs3rOXv1cbRNVLOPbJUz8jm+x3koN01u3VL721Z9l2wzMj6N/vnnnz/+v/x7/X5uupJ55ZaxNW1JmVOvlUxzdN5b75d+7mh9lpYlNV1rvbduy5LtU7rM2r9Tr40se2oee9OUluWKekktt3e5W/bRkmXX7Nslyypd/6PHvPVna+Zzhtzya9dzbzklx+LSee39ffT4UFrW3GePvtZStrPOQz3q7IxzbOnxouTzpdviyHm0dR2jn+OvOD+37O9bx9vRx9zZdB1MX3N1ZmvakqvFqWW0JNOt+db2EOWUlG2vPlJK67OHrTq6Yp49t8+RdUh9ZnTZ1/MomWfNVar15/auTtXUS2q5qelb9uWW3pytv/fqJrUetT0euWWUzG+vzKn3UvOo/XdnLceNpVT9X3GltWR/LC3bmeehmnm2lu2M7XH0eFBSht5tohnP8a3noZZ1bGnbUe6UH3zcO/nVNhxm26hXl3m2+rlSybaI2qjqsR/N9v2Zqaw5R9fjjPXvcSy+y3bpKepxI+XsY0HkfWR02Xouf7Zj+gyu+C7PdryIpHtQ+abgs79MqXsTW+bXw3L9l6/R5mgPxN62WO+nZxxMzih7yRXFln3xiQfV0qu0T6wb/nTFcaMn56X7690mutqocl/xXd67W4i8U3pUen1ZlvNZ7kzr+Z/RPdlrXleEtifocYV6vS2u2i5nlH35eu77dnRffPL+WlOnT9HjVsW7mPV47rw0vyvbRFcbUearvgMltxeSdkpQ+Zo12fc08xWOu5l5W6TGKNScnGZe/6vc4YS/trySlwu7OXeoB/7lWADXWl4gpc5pv0yfG7iUGmyZOmGmNmzt6ylbB+2jO1PPz5U2IGrrczZHt0/ttji7y7dmOT3KcnQePb8PR5Zbui+PLGNuualG4F75zvwup25tmPkYkaqrEeU46ui+Uqvl9tOSeZ2577bOs6Zstduj5Bh0xjbu1faJYtQ5Z+2qW79n3U6jnNqjkpI6cKSejrB1UEq93lqm0mlyyy1Zr5Lltx6Ic/VZM/8eWpd79Apgrk62rp5fFVZKtHw/SueR2i6jrriW7supe+57lTlXp7XHir3398YVraeptbWsEceAGqlGS6quao7Hreve+7hR0lt6dH6pgLp+r0fZzjoPtZwbW8tW8lrJvnD0eJCbtqVNdEY7YNQ5vkXpd/nourUct/jXr8/n8xldiJ5m3PgzlpkYojc4YU+PK+699n/H4lhsD+C0W78AAACOul1QcfWFp9CbwtO54g5wb0PGqADHre+phScSUgDu73ZjVACYR4TgHaEMAPxNUAEAAMK53RgVAABgfoIKAAAQjqACAACEI6gAAADhCCoAAEA4ggoAABCOoAIAAIQjqAAAAOEIKgAAQDiCCgAAEI6gAgAAhCOoAAAA4QgqAABAOIIKAAAQjqACAACEI6gAAADhCCoAAEA4ggoAABCOoAIAAIQjqAAAAOEIKgAAQDiCCgAAEM7v0QUAAICv1+v112vv93tASa735HXfIqgAABDKUxvn6/XeCi5PIqgAADCVZQM+Yqj5li9i2WYiqAAAMI3X6/VHAIgWCpblW5eVOgbTAwAwhehjONbB5P1+P/72rRaCCgAAU8iFEoHgfgQVAACmkQoro3tWckFJiDpGUAEAAMIRVAAAmJYB6/clqAAAMCUh5d4EFQAApiOk3J+gAgDAVLZCyugB67nQJFAdI6gAADANPSnP4ZfpAQCYyujek5TvDzz6Zfo+BBUAAKaQCyhRAsHy1+ijlGlWggoAwKT2ehbu1lCeZX1mKWd0ggoAwKT2bjFyZZ+ZGUwPADCxGW6HgiMEFQCAm4s6+BxyBBUAgMnt9ZzoWWFGxqgAANzUXk/K8n1hhmgEFQCAG9obSL8egO83P4hGUAEAmNQ3jGz1nORCx9FQcmSsi/DDUYIKAMDEco8l3pILKXsBRujgSgbTAwDckN4PZqdHBQDgIVofUyz8cCVBBQBgQkdDw9bnSsesCB1cya1fAACTKg0OR8eswEh6VAAAJrEOHKlHEH97TrbeX/eqCClEJagAAEyiJlR4ehezE1QAAJjO3g9aRqQnq46gAgDAVJbjamYZY7Mu54xB62oG0wMAMI11gz/1JLNItsonoOwTVAAA4ES5UBI9ZI0kqAAAMIW9xyxHlgorelbSBBUAACAcQQUAAC42y0MARvLULwAAKFB7e1kqiAgpZQQVAAAo0CNcCCnl3PoFAMAUcg38GRr/WyEl+kMARhJUAADgZHpS6rn1CwCAaXx/4HG2X6b/+dF7UktQAQBgKstfo58hpOQCygzlH0VQAQBgOjM18GcqayTGqAAAAOEIKgAAQDiCCgAAEI4xKgAAhLIefP6UMR6eCvanX5/P5zO6EAAAAEtu/QIAAMIRVAAAgHAEFQAAIBxBBQAACEdQAQAAwhFUAACAcAQVAAAgHEEFAAAIR1ABAADCEVQAAIBwBBUAACAcQQUAAAhHUAEAAMIRVAAAgHAEFQAAIBxBBQAACEdQAQAAwhFUAACAcAQVAAAgHEEFAAAI5/foAgAAQDSv1+v//3+/37uvz2RrHSKul6ACAEA3ywbvliiN4BKpss60Dlty4WRv+11JUAEAoJtlg3erQf9tCM/e2O+td49GxB6SWoIKAABd5a7Kv9/vUFftI1iHutYw13t+oxhMDwDA5YSV/9mqh5ZA0Xt+IwkqAAB0t9c4nrXx3FuuHo6Eud7zG0lQAQDo4PV6JRuCIxuI63LlynlVefbeH13Gq/UetH+XhwAYowIA0Gg5JiA1iHyEdbl+fvYHu59dnmUZtt5fj62IUpdcT1ABAGjQozHd+xaf7zzX01wRUr7rUjtW4miZzqi70Xpvn1kDn6ACANBgrwegpJF4RiMyN8+a5R15YlTuscSpZZT2spQs62q1YemMwHbV/K4kqAAAkNWroXuk0TxDI3tk/Vw5v6sJKgAAHbQ0CiPfvnT2cloHzUeuuxpHe+Oumt8IggoAwElKG9FnNB6Xt2xd1Wg9Ghq2Pldavpka3il6UrYJKgAAJ4jwa+Cp8TNnNmRL59syLuWOSh7b/PNTV7+zE1QAADpY9wykegpGlCf1iOIe1uuYWsa3PFvvb9XdU+T2ka062gtxpfObgaACANDJugdjtNTjic9cxtFpZ2tE91Jbf3v71Z3q0S/TAwB0UPu7IUCeHhUAgEa5X4CHXp42dkdQAQBotDUeBHp6Wkj5+RFUAAC6eFoj8glS4XNEKD3zAQip10b79fl8PqMLAQAAsGQwPQAAEI6gAgAAhCOoAAAA4QgqAABAOIIKAAAQjqACAACEI6gAAADh/BcVuV4tUXNkWAAAAABJRU5ErkJggg==)"
      ],
      "metadata": {
        "id": "OoSBrYSlV6o8"
      }
    },
    {
      "cell_type": "code",
      "source": [
        "plot_vectors([x, y], axes=[4, 4], fname='transformx_and_y.svg')"
      ],
      "metadata": {
        "colab": {
          "base_uri": "https://localhost:8080/",
          "height": 269
        },
        "id": "TH0fpyBYV7fp",
        "outputId": "ced5022e-f4b4-4a06-b6c6-bc3de41e0aec"
      },
      "execution_count": 10,
      "outputs": [
        {
          "output_type": "display_data",
          "data": {
            "image/png": "[encoded data removed]",
            "text/plain": [
              "<Figure size 432x288 with 1 Axes>"
            ]
          },
          "metadata": {
            "needs_background": "light"
          }
        }
      ]
    },
    {
      "cell_type": "markdown",
      "source": [
        "Note that the output vector y (blue) is transformed in another vector."
      ],
      "metadata": {
        "id": "kWsjBKn8WFma"
      }
    },
    {
      "cell_type": "markdown",
      "source": [
        "Example 2\n",
        "We are going to use Pyplot to inspect the effect of the rotation on 2D vectors visually. For that, we have created a function that takes care of all the intricate parts of the visual formatting. The following procedure plots an arrow within a Pyplot canvas.\n",
        "\n",
        "![image.png](data:image/png;base64,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)"
      ],
      "metadata": {
        "id": "P8gZN-BpWJgp"
      }
    },
    {
      "cell_type": "code",
      "source": [
        "angle = 100 * (np.pi / 180) #convert degrees to radians\n",
        "\n",
        "print(\"angle = \" , angle)\n",
        "\n",
        "Ro = np.array([[np.cos(angle), -np.sin(angle)],\n",
        "               [np.sin(angle), np.cos(angle)]])\n",
        "\n",
        "x2 = np.array([2,2]).reshape(1,-1) # make it a row vector\n",
        "y2 = np.dot(x2, Ro)\n",
        "\n",
        "print('Rotation matrix')\n",
        "print(Ro)\n",
        "print('\\nRotated vector')\n",
        "print(y2)\n",
        "\n",
        "print('\\n x2 norm', np.linalg.norm(x2))\n",
        "print('\\n y2 norm', np.linalg.norm(y2))\n",
        "print('\\n Rotation matrix norm', np.linalg.norm(Ro))"
      ],
      "metadata": {
        "colab": {
          "base_uri": "https://localhost:8080/"
        },
        "id": "_PHCKjFAWO6r",
        "outputId": "7d3cc92b-dff6-4d77-caa5-f2e1450e679a"
      },
      "execution_count": 13,
      "outputs": [
        {
          "output_type": "stream",
          "name": "stdout",
          "text": [
            "angle =  1.7453292519943295\n",
            "Rotation matrix\n",
            "[[-0.17364818 -0.98480775]\n",
            " [ 0.98480775 -0.17364818]]\n",
            "\n",
            "Rotated vector\n",
            "[[ 1.62231915 -2.31691186]]\n",
            "\n",
            " x2 norm 2.8284271247461903\n",
            "\n",
            " y2 norm 2.82842712474619\n",
            "\n",
            " Rotation matrix norm 1.414213562373095\n"
          ]
        }
      ]
    },
    {
      "cell_type": "code",
      "source": [
        "plot_vectors([x2, y2], fname='transform_02.svg')"
      ],
      "metadata": {
        "colab": {
          "base_uri": "https://localhost:8080/",
          "height": 265
        },
        "id": "0pXLwiSpXH4L",
        "outputId": "439ffc79-f225-4d4c-ffab-364494a2a96e"
      },
      "execution_count": 14,
      "outputs": [
        {
          "output_type": "display_data",
          "data": {
            "image/png": "[encoded data removed]",
            "text/plain": [
              "<Figure size 432x288 with 1 Axes>"
            ]
          },
          "metadata": {
            "needs_background": "light"
          }
        }
      ]
    },
    {
      "cell_type": "markdown",
      "source": [
        "![image.png](data:image/png;base64,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)"
      ],
      "metadata": {
        "id": "5QIYLRWfXNK4"
      }
    },
    {
      "cell_type": "code",
      "source": [
        "A = np.array([[2, 2],\n",
        "              [2, 2]])"
      ],
      "metadata": {
        "id": "zjJfaBGvXOla"
      },
      "execution_count": 15,
      "outputs": []
    },
    {
      "cell_type": "markdown",
      "source": [
        "np.square() is a way to square each element of a matrix. It must be equivalent to use the * operator in Numpy arrays."
      ],
      "metadata": {
        "id": "ffjIs3xzXSvK"
      }
    },
    {
      "cell_type": "code",
      "source": [
        "A_squared = np.square(A)\n",
        "A_squared"
      ],
      "metadata": {
        "colab": {
          "base_uri": "https://localhost:8080/"
        },
        "id": "JrB86YwwXVy5",
        "outputId": "4c797447-9db5-4fe9-8e68-c968771482e5"
      },
      "execution_count": 16,
      "outputs": [
        {
          "output_type": "execute_result",
          "data": {
            "text/plain": [
              "array([[4, 4],\n",
              "       [4, 4]])"
            ]
          },
          "metadata": {},
          "execution_count": 16
        }
      ]
    },
    {
      "cell_type": "markdown",
      "source": [
        "Now you can sum over the elements of the resulting array, and then get the square root of the sum."
      ],
      "metadata": {
        "id": "peznAI2eXbpp"
      }
    },
    {
      "cell_type": "code",
      "source": [
        "A_Frobenius = np.sqrt(np.sum(A_squared))\n",
        "A_Frobenius"
      ],
      "metadata": {
        "colab": {
          "base_uri": "https://localhost:8080/"
        },
        "id": "7lNksJSrXcqB",
        "outputId": "a4ba658b-8423-47f6-a9de-1db71bdf738e"
      },
      "execution_count": 17,
      "outputs": [
        {
          "output_type": "execute_result",
          "data": {
            "text/plain": [
              "4.0"
            ]
          },
          "metadata": {},
          "execution_count": 17
        }
      ]
    },
    {
      "cell_type": "markdown",
      "source": [
        "That was the extended version of the np.linalg.norm() function. You can check that it yields the same result."
      ],
      "metadata": {
        "id": "o62ApFkXXgPy"
      }
    },
    {
      "cell_type": "code",
      "source": [
        "print('Frobenius norm of the Rotation matrix')\n",
        "print(np.sqrt(np.sum(Ro * Ro)), '== ', np.linalg.norm(Ro))"
      ],
      "metadata": {
        "colab": {
          "base_uri": "https://localhost:8080/"
        },
        "id": "xS2LK2__XhW5",
        "outputId": "15c4577a-bf8b-40d1-bc63-469c03368ae8"
      },
      "execution_count": 18,
      "outputs": [
        {
          "output_type": "stream",
          "name": "stdout",
          "text": [
            "Frobenius norm of the Rotation matrix\n",
            "1.414213562373095 ==  1.414213562373095\n"
          ]
        }
      ]
    }
  ]
}