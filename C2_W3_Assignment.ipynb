{
  "cells": [
    {
      "cell_type": "markdown",
      "metadata": {
        "id": "view-in-github",
        "colab_type": "text"
      },
      "source": [
        "<a href=\"https://colab.research.google.com/github/skilove13/NLP-Specialization-Cousera/blob/main/C2_W3_Assignment.ipynb\" target=\"_parent\"><img src=\"https://colab.research.google.com/assets/colab-badge.svg\" alt=\"Open In Colab\"/></a>"
      ]
    },
    {
      "cell_type": "markdown",
      "metadata": {
        "id": "3bbPmCGEJPA1"
      },
      "source": [
        "# Language Models: Auto-Complete\n",
        "\n",
        "In this assignment, you will build an auto-complete system.  Auto-complete system is something you may see every day\n",
        "- When you google something, you often have suggestions to help you complete your search. \n",
        "- When you are writing an email, you get suggestions telling you possible endings to your sentence.  \n",
        "\n",
        "By the end of this assignment, you will develop a prototype of such a system.\n",
        "\n",
        "<img src = \"stanford.png\" style=\"width:700px;height:300px;\"/>"
      ]
    },
    {
      "cell_type": "markdown",
      "metadata": {
        "id": "e_H2XtNKJPA4"
      },
      "source": [
        "## Outline\n",
        "- [1 Load and Preprocess Data](#1)\n",
        "- [1.1: Load the data](#1.1)\n",
        "- [1.2 Pre-process the data](#1.2)\n",
        "    - [Exercise 01](#ex-01)\n",
        "    - [Exercise 02](#ex-02)\n",
        "    - [Exercise 03](#ex-03)\n",
        "    - [Exercise 04](#ex-04)\n",
        "    - [Exercise 05](#ex-05)\n",
        "    - [Exercise 06](#ex-06)\n",
        "    - [Exercise 07](#ex-07)\n",
        "- [2 Develop n-gram based language models](#2)\n",
        "    - [Exercise 08](#ex-08)\n",
        "    - [Exercise 09](#ex-09)    \n",
        "- [3 Perplexity](#3)\n",
        "    - [Exercise 10](#ex-10)\n",
        "- [4 Build an auto-complete system](#4)\n",
        "    - [Exercise 11](#ex-11)"
      ]
    },
    {
      "cell_type": "markdown",
      "metadata": {
        "id": "vMJwmd-vJPA5"
      },
      "source": [
        "A key building block for an auto-complete system is a language model.\n",
        "A language model assigns the probability to a sequence of words, in a way that more \"likely\" sequences receive higher scores.  For example, \n",
        ">\"I have a pen\" \n",
        "is expected to have a higher probability than \n",
        ">\"I am a pen\"\n",
        "since the first one seems to be a more natural sentence in the real world.\n",
        "\n",
        "You can take advantage of this probability calculation to develop an auto-complete system.  \n",
        "Suppose the user typed \n",
        ">\"I eat scrambled\"\n",
        "Then you can find a word `x`  such that \"I eat scrambled x\" receives the highest probability.  If x = \"eggs\", the sentence would be\n",
        ">\"I eat scrambled eggs\"\n",
        "\n",
        "While a variety of language models have been developed, this assignment uses **N-grams**, a simple but powerful method for language modeling.\n",
        "- N-grams are also used in machine translation and speech recognition. \n",
        "\n",
        "\n",
        "Here are the steps of this assignment:\n",
        "\n",
        "1. Load and preprocess data\n",
        "    - Load and tokenize data.\n",
        "    - Split the sentences into train and test sets.\n",
        "    - Replace words with a low frequency by an unknown marker `<unk>`.\n",
        "1. Develop N-gram based language models\n",
        "    - Compute the count of n-grams from a given data set.\n",
        "    - Estimate the conditional probability of a next word with k-smoothing.\n",
        "1. Evaluate the N-gram models by computing the perplexity score.\n",
        "1. Use your own model to suggest an upcoming word given your sentence. "
      ]
    },
    {
      "cell_type": "code",
      "execution_count": 11,
      "metadata": {
        "colab": {
          "base_uri": "https://localhost:8080/"
        },
        "id": "-eyPW6XMJPA6",
        "outputId": "e47e9d91-e2c3-4c00-a3e9-855915a4b489"
      },
      "outputs": [
        {
          "output_type": "stream",
          "name": "stdout",
          "text": [
            "[nltk_data] Downloading package punkt to /root/nltk_data...\n",
            "[nltk_data]   Unzipping tokenizers/punkt.zip.\n"
          ]
        },
        {
          "output_type": "execute_result",
          "data": {
            "text/plain": [
              "True"
            ]
          },
          "metadata": {},
          "execution_count": 11
        }
      ],
      "source": [
        "import math\n",
        "import random\n",
        "import numpy as np\n",
        "import pandas as pd\n",
        "import nltk\n",
        "nltk.data.path.append('.')\n",
        "nltk.download('punkt')"
      ]
    },
    {
      "cell_type": "markdown",
      "metadata": {
        "id": "1sxSVmQcJPA7"
      },
      "source": [
        "<a name='1'></a>\n",
        "## Part 1: Load and Preprocess Data\n",
        "\n",
        "<a name='1.1'></a>\n",
        "### Part 1.1: Load the data\n",
        "You will use twitter data.\n",
        "Load the data and view the first few sentences by running the next cell.\n",
        "\n",
        "Notice that data is a long string that contains many many tweets.\n",
        "Observe that there is a line break \"\\n\" between tweets."
      ]
    },
    {
      "cell_type": "code",
      "execution_count": 4,
      "metadata": {
        "colab": {
          "base_uri": "https://localhost:8080/",
          "height": 236
        },
        "id": "vtj1JuXSJPA7",
        "outputId": "704b7c72-5c42-4375-bbc1-25386e991189"
      },
      "outputs": [
        {
          "output_type": "stream",
          "name": "stdout",
          "text": [
            "Data type: <class 'str'>\n",
            "Number of letters: 3335477\n",
            "First 300 letters of the data\n",
            "-------\n"
          ]
        },
        {
          "output_type": "display_data",
          "data": {
            "application/vnd.google.colaboratory.intrinsic+json": {
              "type": "string"
            },
            "text/plain": [
              "\"How are you? Btw thanks for the RT. You gonna be in DC anytime soon? Love to see you. Been way, way too long.\\nWhen you meet someone special... you'll know. Your heart will beat more rapidly and you'll smile for no reason.\\nthey've decided its more fun if I don't.\\nSo Tired D; Played Lazer Tag & Ran A \""
            ]
          },
          "metadata": {}
        },
        {
          "output_type": "stream",
          "name": "stdout",
          "text": [
            "-------\n",
            "Last 300 letters of the data\n",
            "-------\n"
          ]
        },
        {
          "output_type": "display_data",
          "data": {
            "application/vnd.google.colaboratory.intrinsic+json": {
              "type": "string"
            },
            "text/plain": [
              "\"ust had one a few weeks back....hopefully we will be back soon! wish you the best yo\\nColombia is with an 'o'...“: We now ship to 4 countries in South America (fist pump). Please welcome Columbia to the Stunner Family”\\n#GutsiestMovesYouCanMake Giving a cat a bath.\\nCoffee after 5 was a TERRIBLE idea.\\n\""
            ]
          },
          "metadata": {}
        },
        {
          "output_type": "stream",
          "name": "stdout",
          "text": [
            "-------\n"
          ]
        }
      ],
      "source": [
        "with open(\"en_US.twitter.txt\", \"r\") as f:\n",
        "    data = f.read()\n",
        "print(\"Data type:\", type(data))\n",
        "print(\"Number of letters:\", len(data))\n",
        "print(\"First 300 letters of the data\")\n",
        "print(\"-------\")\n",
        "display(data[0:300])\n",
        "print(\"-------\")\n",
        "\n",
        "print(\"Last 300 letters of the data\")\n",
        "print(\"-------\")\n",
        "display(data[-300:])\n",
        "print(\"-------\")"
      ]
    },
    {
      "cell_type": "markdown",
      "metadata": {
        "id": "OnpkyVRmJPA8"
      },
      "source": [
        "<a name='1.2'></a>\n",
        "### Part 1.2 Pre-process the data\n",
        "\n",
        "Preprocess this data with the following steps:\n",
        "\n",
        "1. Split data into sentences using \"\\n\" as the delimiter.\n",
        "1. Split each sentence into tokens. Note that in this assignment we use \"token\" and \"words\" interchangeably.\n",
        "1. Assign sentences into train or test sets.\n",
        "1. Find tokens that appear at least N times in the training data.\n",
        "1. Replace tokens that appear less than N times by `<unk>`\n",
        "\n",
        "\n",
        "Note: we omit validation data in this exercise.\n",
        "- In real applications, we should hold a part of data as a validation set and use it to tune our training.\n",
        "- We skip this process for simplicity."
      ]
    },
    {
      "cell_type": "markdown",
      "metadata": {
        "id": "BGuRcBlSJPA9"
      },
      "source": [
        "<a name='ex-01'></a>\n",
        "### Exercise 01\n",
        "\n",
        "Split data into sentences."
      ]
    },
    {
      "cell_type": "markdown",
      "metadata": {
        "id": "kyWnVEosJPA9"
      },
      "source": [
        "<details>    \n",
        "<summary>\n",
        "    <font size=\"3\" color=\"darkgreen\"><b>Hints</b></font>\n",
        "</summary>\n",
        "<p>\n",
        "<ul>\n",
        "    <li> Use <a href=\"https://docs.python.org/3/library/stdtypes.html?highlight=split#str.split\" >str.split</a> </li>\n",
        "</ul>\n",
        "</p>"
      ]
    },
    {
      "cell_type": "code",
      "execution_count": 5,
      "metadata": {
        "id": "nI6JYUiwJPA-"
      },
      "outputs": [],
      "source": [
        "# UNQ_C1 (UNIQUE CELL IDENTIFIER, DO NOT EDIT)\n",
        "### GRADED_FUNCTION: split_to_sentences ###\n",
        "def split_to_sentences(data):\n",
        "    \"\"\"\n",
        "    Split data by linebreak \"\\n\"\n",
        "    \n",
        "    Args:\n",
        "        data: str\n",
        "    \n",
        "    Returns:\n",
        "        A list of sentences\n",
        "    \"\"\"\n",
        "    ### START CODE HERE (Replace instances of 'None' with your code) ###\n",
        "    sentences = data.split('\\n')\n",
        "    ### END CODE HERE ###\n",
        "    \n",
        "    # Additional clearning (This part is already implemented)\n",
        "    # - Remove leading and trailing spaces from each sentence\n",
        "    # - Drop sentences if they are empty strings.\n",
        "    sentences = [s.strip() for s in sentences]\n",
        "    sentences = [s for s in sentences if len(s) > 0]\n",
        "    \n",
        "    return sentences    "
      ]
    },
    {
      "cell_type": "code",
      "execution_count": 6,
      "metadata": {
        "colab": {
          "base_uri": "https://localhost:8080/"
        },
        "id": "u4swTgSwJPA_",
        "outputId": "0659e67d-e497-430e-f2a7-0b2587262d99"
      },
      "outputs": [
        {
          "output_type": "stream",
          "name": "stdout",
          "text": [
            "\n",
            "I have a pen.\n",
            "I have an apple. \n",
            "Ah\n",
            "Apple pen.\n",
            "\n",
            "\n"
          ]
        },
        {
          "output_type": "execute_result",
          "data": {
            "text/plain": [
              "['I have a pen.', 'I have an apple.', 'Ah', 'Apple pen.']"
            ]
          },
          "metadata": {},
          "execution_count": 6
        }
      ],
      "source": [
        "# test your code\n",
        "x = \"\"\"\n",
        "I have a pen.\\nI have an apple. \\nAh\\nApple pen.\\n\n",
        "\"\"\"\n",
        "print(x)\n",
        "\n",
        "split_to_sentences(x)"
      ]
    },
    {
      "cell_type": "markdown",
      "metadata": {
        "id": "l-gnRxmqJPA_"
      },
      "source": [
        "Expected answer: \n",
        "```CPP\n",
        "['I have a pen.', 'I have an apple.', 'Ah', 'Apple pen.']\n",
        "```"
      ]
    },
    {
      "cell_type": "markdown",
      "metadata": {
        "id": "Q1za3iV7JPBA"
      },
      "source": [
        "<a name='ex-02'></a>\n",
        "### Exercise 02\n",
        "The next step is to tokenize sentences (split a sentence into a list of words). \n",
        "- Convert all tokens into lower case so that words which are capitalized (for example, at the start of a sentence) in the original text are treated the same as the lowercase versions of the words.\n",
        "- Append each tokenized list of words into a list of tokenized sentences."
      ]
    },
    {
      "cell_type": "markdown",
      "metadata": {
        "id": "tBvROI_yJPBA"
      },
      "source": [
        "<details>    \n",
        "<summary>\n",
        "    <font size=\"3\" color=\"darkgreen\"><b>Hints</b></font>\n",
        "</summary>\n",
        "<p>\n",
        "<ul>\n",
        "    <li>Use <a href=\"https://docs.python.org/3/library/stdtypes.html?highlight=split#str.lower\" >str.lower</a> to convert strings to lowercase. </li>\n",
        "    <li>Please use <a href=\"https://www.nltk.org/api/nltk.tokenize.html#nltk.tokenize.punkt.PunktLanguageVars.word_tokenize\" >nltk.word_tokenize</a> to split sentences into tokens.</li>\n",
        "    <li>If you used str.split insteaad of nltk.word_tokenize, there are additional edge cases to handle, such as the punctuation (comma, period) that follows a word.</li>\n",
        "</ul>\n",
        "</p>\n"
      ]
    },
    {
      "cell_type": "code",
      "execution_count": 17,
      "metadata": {
        "id": "dYZY5IrGJPBA"
      },
      "outputs": [],
      "source": [
        "# UNQ_C2 (UNIQUE CELL IDENTIFIER, DO NOT EDIT)\n",
        "### GRADED_FUNCTION: tokenize_sentences ###\n",
        "def tokenize_sentences(sentences):\n",
        "    \"\"\"\n",
        "    Tokenize sentences into tokens (words)\n",
        "    \n",
        "    Args:\n",
        "        sentences: List of strings\n",
        "    \n",
        "    Returns:\n",
        "        List of lists of tokens\n",
        "    \"\"\"\n",
        "    \n",
        "    # Initialize the list of lists of tokenized sentences\n",
        "    tokenized_sentences = []\n",
        "    ### START CODE HERE (Replace instances of 'None' with your code) ###\n",
        "    \n",
        "    # Go through each sentence\n",
        "    for sentence in sentences:\n",
        "        \n",
        "        # Convert to lowercase letters\n",
        "        sentence = sentence.lower()\n",
        "        \n",
        "        # Convert into a list of words\n",
        "        tokenized = nltk.word_tokenize(sentence)\n",
        "        \n",
        "        # append the list of words to the list of lists\n",
        "        tokenized_sentences.append(tokenized)\n",
        "    \n",
        "    ### END CODE HERE ###\n",
        "    \n",
        "    return tokenized_sentences"
      ]
    },
    {
      "cell_type": "code",
      "execution_count": 19,
      "metadata": {
        "colab": {
          "base_uri": "https://localhost:8080/"
        },
        "id": "9wZFBo18JPBB",
        "outputId": "5c161340-bfba-4a83-aef4-c89176a71c89"
      },
      "outputs": [
        {
          "output_type": "execute_result",
          "data": {
            "text/plain": [
              "[['sky', 'is', 'blue', '.'],\n",
              " ['leaves', 'are', 'green', '.'],\n",
              " ['roses', 'are', 'red', '.']]"
            ]
          },
          "metadata": {},
          "execution_count": 19
        }
      ],
      "source": [
        "# test your code\n",
        "sentences = [\"Sky is blue.\", \"Leaves are green.\", \"Roses are red.\"]\n",
        "tokenize_sentences(sentences)"
      ]
    },
    {
      "cell_type": "markdown",
      "metadata": {
        "id": "p0mzbl1HJPBB"
      },
      "source": [
        "### Expected output\n",
        "\n",
        "```CPP\n",
        "[['sky', 'is', 'blue', '.'],\n",
        " ['leaves', 'are', 'green', '.'],\n",
        " ['roses', 'are', 'red', '.']]\n",
        "```"
      ]
    },
    {
      "cell_type": "markdown",
      "metadata": {
        "id": "S9RGTjdPJPBB"
      },
      "source": [
        "<a name='ex-03'></a>\n",
        "### Exercise 03\n",
        "\n",
        "\n",
        "Use the two functions that you have just implemented to get the tokenized data.\n",
        "- split the data into sentences\n",
        "- tokenize those sentences"
      ]
    },
    {
      "cell_type": "code",
      "execution_count": 25,
      "metadata": {
        "id": "JiH5m1goJPBC"
      },
      "outputs": [],
      "source": [
        "# UNQ_C3 (UNIQUE CELL IDENTIFIER, DO NOT EDIT)\n",
        "### GRADED_FUNCTION: get_tokenized_data ###\n",
        "def get_tokenized_data(data):\n",
        "    \"\"\"\n",
        "    Make a list of tokenized sentences\n",
        "    \n",
        "    Args:\n",
        "        data: String\n",
        "    \n",
        "    Returns:\n",
        "        List of lists of tokens\n",
        "    \"\"\"\n",
        "    ### START CODE HERE (Replace instances of 'None' with your code) ###\n",
        "    \n",
        "    # Get the sentences by splitting up the data\n",
        "    sentences = split_to_sentences(data)\n",
        "    \n",
        "    # Get the list of lists of tokens by tokenizing the sentences\n",
        "    tokenized_sentences = tokenize_sentences(sentences)\n",
        "    \n",
        "    ### END CODE HERE ###\n",
        "    \n",
        "    return tokenized_sentences"
      ]
    },
    {
      "cell_type": "code",
      "execution_count": 26,
      "metadata": {
        "colab": {
          "base_uri": "https://localhost:8080/"
        },
        "id": "0mrWde18JPBC",
        "outputId": "d57c24f6-88c2-44fb-fdc6-ca9de2e7a3f0"
      },
      "outputs": [
        {
          "output_type": "execute_result",
          "data": {
            "text/plain": [
              "[['sky', 'is', 'blue', '.'],\n",
              " ['leaves', 'are', 'green'],\n",
              " ['roses', 'are', 'red', '.']]"
            ]
          },
          "metadata": {},
          "execution_count": 26
        }
      ],
      "source": [
        "# test your function\n",
        "x = \"Sky is blue.\\nLeaves are green\\nRoses are red.\"\n",
        "get_tokenized_data(x)"
      ]
    },
    {
      "cell_type": "markdown",
      "metadata": {
        "id": "-ZKAKCLhJPBC"
      },
      "source": [
        "##### Expected outcome\n",
        "\n",
        "```CPP\n",
        "[['sky', 'is', 'blue', '.'],\n",
        " ['leaves', 'are', 'green'],\n",
        " ['roses', 'are', 'red', '.']]\n",
        "```"
      ]
    },
    {
      "cell_type": "markdown",
      "metadata": {
        "id": "sbSYUDKBJPBC"
      },
      "source": [
        "### Split into train and test sets\n",
        "\n",
        "Now run the cell below to split data into training and test sets."
      ]
    },
    {
      "cell_type": "code",
      "execution_count": 27,
      "metadata": {
        "id": "LxLZkBOyJPBD"
      },
      "outputs": [],
      "source": [
        "tokenized_data = get_tokenized_data(data)\n",
        "random.seed(87)\n",
        "random.shuffle(tokenized_data)\n",
        "\n",
        "train_size = int(len(tokenized_data) * 0.8)\n",
        "train_data = tokenized_data[0:train_size]\n",
        "test_data = tokenized_data[train_size:]"
      ]
    },
    {
      "cell_type": "code",
      "execution_count": 28,
      "metadata": {
        "colab": {
          "base_uri": "https://localhost:8080/"
        },
        "id": "FMITVkBAJPBD",
        "outputId": "4e3cb1f7-f88a-4ffc-8281-f7b92b1a9a12"
      },
      "outputs": [
        {
          "output_type": "stream",
          "name": "stdout",
          "text": [
            "47961 data are split into 38368 train and 9593 test set\n",
            "First training sample:\n",
            "['i', 'personally', 'would', 'like', 'as', 'our', 'official', 'glove', 'of', 'the', 'team', 'local', 'company', 'and', 'quality', 'production']\n",
            "First test sample\n",
            "['that', 'picture', 'i', 'just', 'seen', 'whoa', 'dere', '!', '!', '>', '>', '>', '>', '>', '>', '>']\n"
          ]
        }
      ],
      "source": [
        "print(\"{} data are split into {} train and {} test set\".format(\n",
        "    len(tokenized_data), len(train_data), len(test_data)))\n",
        "\n",
        "print(\"First training sample:\")\n",
        "print(train_data[0])\n",
        "      \n",
        "print(\"First test sample\")\n",
        "print(test_data[0])"
      ]
    },
    {
      "cell_type": "markdown",
      "metadata": {
        "id": "hcwNMboSJPBD"
      },
      "source": [
        "##### Expected output\n",
        "\n",
        "```CPP\n",
        "47961 data are split into 38368 train and 9593 test set\n",
        "First training sample:\n",
        "['i', 'personally', 'would', 'like', 'as', 'our', 'official', 'glove', 'of', 'the', 'team', 'local', 'company', 'and', 'quality', 'production']\n",
        "First test sample\n",
        "['that', 'picture', 'i', 'just', 'seen', 'whoa', 'dere', '!', '!', '>', '>', '>', '>', '>', '>', '>']\n",
        "```"
      ]
    },
    {
      "cell_type": "markdown",
      "metadata": {
        "id": "G99vryOmJPBD"
      },
      "source": [
        "<a name='ex-04'></a>\n",
        "### Exercise 04\n",
        "\n",
        "You won't use all the tokens (words) appearing in the data for training.  Instead, you will use the more frequently used words.  \n",
        "- You will focus on the words that appear at least N times in the data.\n",
        "- First count how many times each word appears in the data.\n",
        "\n",
        "You will need a double for-loop, one for sentences and the other for tokens within a sentence.\n"
      ]
    },
    {
      "cell_type": "markdown",
      "metadata": {
        "id": "-P6afDmUJPBD"
      },
      "source": [
        "<details>    \n",
        "<summary>\n",
        "    <font size=\"3\" color=\"darkgreen\"><b>Hints</b></font>\n",
        "</summary>\n",
        "<p>\n",
        "<ul>\n",
        "    <li>If you decide to import and use defaultdict, remember to cast the dictionary back to a regular 'dict' before returning it. </li>\n",
        "</ul>\n",
        "</p>\n"
      ]
    },
    {
      "cell_type": "code",
      "execution_count": 31,
      "metadata": {
        "id": "yF4nAt82JPBE"
      },
      "outputs": [],
      "source": [
        "# UNQ_C4 (UNIQUE CELL IDENTIFIER, DO NOT EDIT)\n",
        "### GRADED_FUNCTION: count_words ###\n",
        "def count_words(tokenized_sentences):\n",
        "    \"\"\"\n",
        "    Count the number of word appearence in the tokenized sentences\n",
        "    \n",
        "    Args:\n",
        "        tokenized_sentences: List of lists of strings\n",
        "    \n",
        "    Returns:\n",
        "        dict that maps word (str) to the frequency (int)\n",
        "    \"\"\"\n",
        "        \n",
        "    word_counts = {}\n",
        "    ### START CODE HERE (Replace instances of 'None' with your code) ###\n",
        "    \n",
        "    # Loop through each sentence\n",
        "    for sentence in tokenized_sentences: # complete this line\n",
        "        \n",
        "        # Go through each token in the sentence\n",
        "        for token in sentence: # complete this line\n",
        "\n",
        "            # If the token is not in the dictionary yet, set the count to 1\n",
        "            if token not in word_counts.keys(): # complete this line\n",
        "                word_counts[token] = 1\n",
        "            \n",
        "            # If the token is already in the dictionary, increment the count by 1\n",
        "            else:\n",
        "                word_counts[token] += 1\n",
        "\n",
        "    ### END CODE HERE ###\n",
        "    \n",
        "    return word_counts"
      ]
    },
    {
      "cell_type": "code",
      "execution_count": 32,
      "metadata": {
        "colab": {
          "base_uri": "https://localhost:8080/"
        },
        "id": "KJ9h-zioJPBE",
        "outputId": "42d409ab-ff87-410c-beb9-b3041f3ee990"
      },
      "outputs": [
        {
          "output_type": "execute_result",
          "data": {
            "text/plain": [
              "{'.': 3,\n",
              " 'are': 2,\n",
              " 'blue': 1,\n",
              " 'green': 1,\n",
              " 'is': 1,\n",
              " 'leaves': 1,\n",
              " 'red': 1,\n",
              " 'roses': 1,\n",
              " 'sky': 1}"
            ]
          },
          "metadata": {},
          "execution_count": 32
        }
      ],
      "source": [
        "# test your code\n",
        "tokenized_sentences = [['sky', 'is', 'blue', '.'],\n",
        "                       ['leaves', 'are', 'green', '.'],\n",
        "                       ['roses', 'are', 'red', '.']]\n",
        "count_words(tokenized_sentences)"
      ]
    },
    {
      "cell_type": "markdown",
      "metadata": {
        "id": "neenVrwrJPBE"
      },
      "source": [
        "##### Expected output\n",
        "\n",
        "Note that the order may differ.\n",
        "\n",
        "```CPP\n",
        "{'sky': 1,\n",
        " 'is': 1,\n",
        " 'blue': 1,\n",
        " '.': 3,\n",
        " 'leaves': 1,\n",
        " 'are': 2,\n",
        " 'green': 1,\n",
        " 'roses': 1,\n",
        " 'red': 1}\n",
        "```"
      ]
    },
    {
      "cell_type": "markdown",
      "metadata": {
        "id": "3NcnBa9yJPBE"
      },
      "source": [
        "### Handling 'Out of Vocabulary' words\n",
        "\n",
        "If your model is performing autocomplete, but encounters a word that it never saw during training, it won't have an input word to help it determine the next word to suggest. The model will not be able to predict the next word because there are no counts for the current word. \n",
        "- This 'new' word is called an 'unknown word', or <b>out of vocabulary (OOV)</b> words.\n",
        "- The percentage of unknown words in the test set is called the <b> OOV </b> rate. \n",
        "\n",
        "To handle unknown words during prediction, use a special token to represent all unknown words 'unk'. \n",
        "- Modify the training data so that it has some 'unknown' words to train on.\n",
        "- Words to convert into \"unknown\" words are those that do not occur very frequently in the training set.\n",
        "- Create a list of the most frequent words in the training set, called the <b> closed vocabulary </b>. \n",
        "- Convert all the other words that are not part of the closed vocabulary to the token 'unk'. "
      ]
    },
    {
      "cell_type": "markdown",
      "metadata": {
        "id": "iK-HTtPWJPBF"
      },
      "source": [
        "<a name='ex-05'></a>\n",
        "### Exercise 05\n",
        "\n",
        "You will now create a function that takes in a text document and a threshold `count_threshold`.\n",
        "- Any word whose count is greater than or equal to the threshold `count_threshold` is kept in the closed vocabulary.\n",
        "- Returns the word closed vocabulary list.  "
      ]
    },
    {
      "cell_type": "code",
      "execution_count": 35,
      "metadata": {
        "id": "vFUcLJsVJPBF"
      },
      "outputs": [],
      "source": [
        "# UNQ_C5 (UNIQUE CELL IDENTIFIER, DO NOT EDIT)\n",
        "### GRADED_FUNCTION: get_words_with_nplus_frequency ###\n",
        "def get_words_with_nplus_frequency(tokenized_sentences, count_threshold):\n",
        "    \"\"\"\n",
        "    Find the words that appear N times or more\n",
        "    \n",
        "    Args:\n",
        "        tokenized_sentences: List of lists of sentences\n",
        "        count_threshold: minimum number of occurrences for a word to be in the closed vocabulary.\n",
        "    \n",
        "    Returns:\n",
        "        List of words that appear N times or more\n",
        "    \"\"\"\n",
        "    # Initialize an empty list to contain the words that\n",
        "    # appear at least 'minimum_freq' times.\n",
        "    closed_vocab = []\n",
        "    \n",
        "    # Get the word couts of the tokenized sentences\n",
        "    # Use the function that you defined earlier to count the words\n",
        "    word_counts = count_words(tokenized_sentences)\n",
        "    print(word_counts)\n",
        "    \n",
        "    ### START CODE HERE (Replace instances of 'None' with your code) ###\n",
        "\n",
        "    # for each word and its count\n",
        "    for word, cnt in word_counts.items(): # complete this line\n",
        "        \n",
        "        # check that the word's count\n",
        "        # is at least as great as the minimum count\n",
        "        if cnt >= count_threshold :\n",
        "            \n",
        "            # append the word to the list\n",
        "            closed_vocab.append(word)\n",
        "    ### END CODE HERE ###\n",
        "    \n",
        "    return closed_vocab"
      ]
    },
    {
      "cell_type": "code",
      "execution_count": 38,
      "metadata": {
        "colab": {
          "base_uri": "https://localhost:8080/"
        },
        "id": "HrTo8N_dJPBF",
        "outputId": "32841f03-d922-4b0c-93b3-d1fc5392b03c"
      },
      "outputs": [
        {
          "output_type": "stream",
          "name": "stdout",
          "text": [
            "{'sky': 1, 'is': 1, 'blue': 1, '.': 3, 'leaves': 1, 'are': 2, 'green': 1, 'roses': 1, 'red': 1}\n",
            "Closed vocabulary:\n",
            "['.', 'are']\n"
          ]
        }
      ],
      "source": [
        "# test your code\n",
        "tokenized_sentences = [['sky', 'is', 'blue', '.'],\n",
        "                       ['leaves', 'are', 'green', '.'],\n",
        "                       ['roses', 'are', 'red', '.']]\n",
        "tmp_closed_vocab = get_words_with_nplus_frequency(tokenized_sentences, count_threshold=2)\n",
        "print(f\"Closed vocabulary:\")\n",
        "print(tmp_closed_vocab)"
      ]
    },
    {
      "cell_type": "markdown",
      "metadata": {
        "id": "wtrK03NlJPBF"
      },
      "source": [
        "##### Expected output\n",
        "\n",
        "```CPP\n",
        "Closed vocabulary:\n",
        "['.', 'are']\n",
        "```"
      ]
    },
    {
      "cell_type": "markdown",
      "metadata": {
        "id": "47hK3IaCJPBG"
      },
      "source": [
        "<a name='ex-06'></a>\n",
        "### Exercise 06\n",
        "\n",
        "The words that appear `count_threshold` times or more are in the closed vocabulary. \n",
        "- All other words are regarded as `unknown`.\n",
        "- Replace words not in the closed vocabulary with the token `<unk>`."
      ]
    },
    {
      "cell_type": "code",
      "execution_count": 39,
      "metadata": {
        "id": "tpNMWZHzJPBG"
      },
      "outputs": [],
      "source": [
        "# UNQ_C6 (UNIQUE CELL IDENTIFIER, DO NOT EDIT)\n",
        "### GRADED_FUNCTION: replace_oov_words_by_unk ###\n",
        "def replace_oov_words_by_unk(tokenized_sentences, vocabulary, unknown_token=\"<unk>\"):\n",
        "    \"\"\"\n",
        "    Replace words not in the given vocabulary with '<unk>' token.\n",
        "    \n",
        "    Args:\n",
        "        tokenized_sentences: List of lists of strings\n",
        "        vocabulary: List of strings that we will use\n",
        "        unknown_token: A string representing unknown (out-of-vocabulary) words\n",
        "    \n",
        "    Returns:\n",
        "        List of lists of strings, with words not in the vocabulary replaced\n",
        "    \"\"\"\n",
        "    \n",
        "    # Place vocabulary into a set for faster search\n",
        "    vocabulary = set(vocabulary)\n",
        "    \n",
        "    # Initialize a list that will hold the sentences\n",
        "    # after less frequent words are replaced by the unknown token\n",
        "    replaced_tokenized_sentences = []\n",
        "    \n",
        "    # Go through each sentence\n",
        "    for sentence in tokenized_sentences:\n",
        "        \n",
        "        # Initialize the list that will contain\n",
        "        # a single sentence with \"unknown_token\" replacements\n",
        "        replaced_sentence = []\n",
        "        ### START CODE HERE (Replace instances of 'None' with your code) ###\n",
        "\n",
        "        # for each token in the sentence\n",
        "        for token in sentence: # complete this line\n",
        "            \n",
        "            # Check if the token is in the closed vocabulary\n",
        "            if token in vocabulary: # complete this line\n",
        "                # If so, append the word to the replaced_sentence\n",
        "                replaced_sentence.append(token)\n",
        "            else:\n",
        "                # otherwise, append the unknown token instead\n",
        "                replaced_sentence.append(unknown_token)\n",
        "        ### END CODE HERE ###\n",
        "        \n",
        "        # Append the list of tokens to the list of lists\n",
        "        replaced_tokenized_sentences.append(replaced_sentence)\n",
        "        \n",
        "    return replaced_tokenized_sentences"
      ]
    },
    {
      "cell_type": "code",
      "execution_count": 40,
      "metadata": {
        "colab": {
          "base_uri": "https://localhost:8080/"
        },
        "id": "GzJ4A9s8JPBG",
        "outputId": "6a2bbe6a-5976-4bc8-bf34-ac14df86e232"
      },
      "outputs": [
        {
          "output_type": "stream",
          "name": "stdout",
          "text": [
            "Original sentence:\n",
            "[['dogs', 'run'], ['cats', 'sleep']]\n",
            "tokenized_sentences with less frequent words converted to '<unk>':\n",
            "[['dogs', '<unk>'], ['<unk>', 'sleep']]\n"
          ]
        }
      ],
      "source": [
        "tokenized_sentences = [[\"dogs\", \"run\"], [\"cats\", \"sleep\"]]\n",
        "vocabulary = [\"dogs\", \"sleep\"]\n",
        "tmp_replaced_tokenized_sentences = replace_oov_words_by_unk(tokenized_sentences, vocabulary)\n",
        "print(f\"Original sentence:\")\n",
        "print(tokenized_sentences)\n",
        "print(f\"tokenized_sentences with less frequent words converted to '<unk>':\")\n",
        "print(tmp_replaced_tokenized_sentences)"
      ]
    },
    {
      "cell_type": "markdown",
      "metadata": {
        "id": "R3Lb1GsKJPBG"
      },
      "source": [
        "### Expected answer\n",
        "\n",
        "```CPP\n",
        "Original sentence:\n",
        "[['dogs', 'run'], ['cats', 'sleep']]\n",
        "tokenized_sentences with less frequent words converted to '<unk>':\n",
        "[['dogs', '<unk>'], ['<unk>', 'sleep']]\n",
        "```"
      ]
    },
    {
      "cell_type": "markdown",
      "metadata": {
        "id": "W1aBv11zJPBH"
      },
      "source": [
        "<a name='ex-07'></a>\n",
        "### Exercise 07\n",
        "\n",
        "Now we are ready to process our data by combining the functions that you just implemented.\n",
        "\n",
        "1. Find tokens that appear at least count_threshold times in the training data.\n",
        "1. Replace tokens that appear less than count_threshold times by \"<unk\\>\" both for training and test data."
      ]
    },
    {
      "cell_type": "code",
      "execution_count": 41,
      "metadata": {
        "id": "NlWns2k_JPBH"
      },
      "outputs": [],
      "source": [
        "# UNQ_C7 (UNIQUE CELL IDENTIFIER, DO NOT EDIT)\n",
        "### GRADED_FUNCTION: preprocess_data ###\n",
        "def preprocess_data(train_data, test_data, count_threshold):\n",
        "    \"\"\"\n",
        "    Preprocess data, i.e.,\n",
        "        - Find tokens that appear at least N times in the training data.\n",
        "        - Replace tokens that appear less than N times by \"<unk>\" both for training and test data.        \n",
        "    Args:\n",
        "        train_data, test_data: List of lists of strings.\n",
        "        count_threshold: Words whose count is less than this are \n",
        "                      treated as unknown.\n",
        "    \n",
        "    Returns:\n",
        "        Tuple of\n",
        "        - training data with low frequent words replaced by \"<unk>\"\n",
        "        - test data with low frequent words replaced by \"<unk>\"\n",
        "        - vocabulary of words that appear n times or more in the training data\n",
        "    \"\"\"\n",
        "    ### START CODE HERE (Replace instances of 'None' with your code) ###\n",
        "\n",
        "    # Get the closed vocabulary using the train data\n",
        "    vocabulary = get_words_with_nplus_frequency(train_data, count_threshold)\n",
        "    \n",
        "    # For the train data, replace less common words with \"<unk>\"\n",
        "    train_data_replaced = replace_oov_words_by_unk(train_data, vocabulary)\n",
        "    \n",
        "    # For the test data, replace less common words with \"<unk>\"\n",
        "    test_data_replaced = replace_oov_words_by_unk(test_data, vocabulary)\n",
        "    \n",
        "    ### END CODE HERE ###\n",
        "    return train_data_replaced, test_data_replaced, vocabulary"
      ]
    },
    {
      "cell_type": "code",
      "execution_count": 42,
      "metadata": {
        "colab": {
          "base_uri": "https://localhost:8080/"
        },
        "id": "wDMr4udIJPBH",
        "outputId": "0831020d-ceb6-4a3c-ab14-25f59c449a15"
      },
      "outputs": [
        {
          "output_type": "stream",
          "name": "stdout",
          "text": [
            "{'sky': 1, 'is': 1, 'blue': 1, '.': 1, 'leaves': 1, 'are': 1, 'green': 1}\n",
            "tmp_train_repl\n",
            "[['sky', 'is', 'blue', '.'], ['leaves', 'are', 'green']]\n",
            "\n",
            "tmp_test_repl\n",
            "[['<unk>', 'are', '<unk>', '.']]\n",
            "\n",
            "tmp_vocab\n",
            "['sky', 'is', 'blue', '.', 'leaves', 'are', 'green']\n"
          ]
        }
      ],
      "source": [
        "# test your code\n",
        "tmp_train = [['sky', 'is', 'blue', '.'],\n",
        "     ['leaves', 'are', 'green']]\n",
        "tmp_test = [['roses', 'are', 'red', '.']]\n",
        "\n",
        "tmp_train_repl, tmp_test_repl, tmp_vocab = preprocess_data(tmp_train, \n",
        "                                                           tmp_test, \n",
        "                                                           count_threshold = 1)\n",
        "\n",
        "print(\"tmp_train_repl\")\n",
        "print(tmp_train_repl)\n",
        "print()\n",
        "print(\"tmp_test_repl\")\n",
        "print(tmp_test_repl)\n",
        "print()\n",
        "print(\"tmp_vocab\")\n",
        "print(tmp_vocab)"
      ]
    },
    {
      "cell_type": "markdown",
      "metadata": {
        "id": "vG2A8rWrJPBH"
      },
      "source": [
        "##### Expected outcome\n",
        "\n",
        "```CPP\n",
        "tmp_train_repl\n",
        "[['sky', 'is', 'blue', '.'], ['leaves', 'are', 'green']]\n",
        "\n",
        "tmp_test_repl\n",
        "[['<unk>', 'are', '<unk>', '.']]\n",
        "\n",
        "tmp_vocab\n",
        "['sky', 'is', 'blue', '.', 'leaves', 'are', 'green']\n",
        "```"
      ]
    },
    {
      "cell_type": "markdown",
      "metadata": {
        "id": "MYmh2agMJPBH"
      },
      "source": [
        "### Preprocess the train and test data\n",
        "Run the cell below to complete the preprocessing both for training and test sets."
      ]
    },
    {
      "cell_type": "code",
      "execution_count": 43,
      "metadata": {
        "colab": {
          "base_uri": "https://localhost:8080/"
        },
        "id": "H7lxPqjuJPBI",
        "outputId": "55c6cfb1-733e-4f59-ab8f-9bb3875039f5"
      },
      "outputs": [
        {
          "output_type": "stream",
          "name": "stdout",
          "text": [
            "{'i': 14762, 'personally': 12, 'would': 921, 'like': 2046, 'as': 1098, 'our': 991, 'official': 32, 'glove': 3, 'of': 5828, 'the': 15251, 'team': 237, 'local': 67, 'company': 63, 'and': 7042, 'quality': 40, 'production': 28, 'welcome': 232, 'home': 400, '...': 4281, 'happy': 784, 'birthday': 268, 'president': 53, 'obama': 69, '!': 20796, 'wish': 314, 'dvd': 17, 'manufacturers': 3, 'always': 449, 'use': 266, 'same': 298, 'cases': 11, ',': 12200, 'so': 2662, 'we': 2658, \"n't\": 3406, 'have': 2859, 'to': 12680, 'a': 9886, 'dozen': 4, 'kinds': 16, 'security': 25, 'measures': 4, '.': 23963, 'where': 458, 'begin': 40, \"'ve\": 549, 'been': 758, 'lucky': 66, 'privileged': 1, 'really': 706, 'be': 3097, 'schooled': 1, 'by': 976, 'many': 324, 'wonderful': 89, 'teachers': 39, 'thats': 101, 'no': 1254, 'fun': 334, 'baby': 204, 'j': 24, '&': 1743, 'at': 3100, 'jordan': 23, 'ford': 16, '13010': 1, 'ih-35': 1, 'n': 146, 'w/the': 8, 'swap': 5, 'your': 2747, 'ride': 66, 'offer': 54, 'get': 1785, 'cash': 17, 'rebates': 1, 'super': 124, 'low': 43, 'financing': 3, 'affordable': 7, 'monthly': 9, 'payments': 6, 'party': 221, 'bus': 67, 'just': 2380, 'came': 102, 'available': 71, 'for': 6262, 'this': 2665, 'friday': 218, 'night': 647, 'do': 2880, 'miss': 315, 'out': 1887, 'on': 4482, 'drastically': 1, 'cut': 76, 'pricing': 4, 'last': 572, '405-447-2446': 1, 'who': 975, 'you': 9764, 'rather': 48, 'skinnydip': 1, 'with': 2774, '?': 6854, 'chaz': 2, 'bono': 2, 'or': 1175, 'hammerhead': 1, 'shark': 6, 'thanks': 1505, 'guys': 367, 'ca': 795, 'wait': 455, 'see': 1074, 'either': 93, 'its': 568, 'gon': 351, 'na': 579, 'hopefully': 70, 'starring': 4, ':': 6148, 'pros': 4, 'cons': 4, 'fantasy': 14, 'football': 75, 'movie': 168, 'had': 633, 'very': 382, 'successful': 35, 'rocktober': 1, 'hope': 572, 'did': 902, 'too': 932, 'halloween': 25, '#': 4267, 'howlongzimmermangonelastinjail': 1, 'some': 951, 'these': 230, 'are': 2716, 'hysterical': 2, '``': 2207, 'about': 1475, 'long': 298, 'favres': 2, 'first': 534, 'retirement': 5, \"''\": 2207, 'lmao': 126, '9': 69, 'my': 4664, 'eyes': 103, 'taking': 136, 'break': 135, 'took': 93, 'mommy': 15, 't.g.i': 1, 'fridays': 7, 'lastnight': 3, 'talking': 172, 'grandma': 30, 'amazing': 315, 'samuel': 10, '<': 785, '3': 753, 'working/traveling': 1, 'nyc': 81, 'shall': 34, 'how': 1249, 'goes': 108, 'hours': 154, 'sleep': 193, 'running': 95, 'errands': 4, 'is': 6187, 'expensive': 10, 'aspect': 6, 'being': 353, 'an': 1136, 'adult': 17, 'sucks': 68, 'yankees': 17, 'activate': 1, 'eric': 21, 'chavez': 4, ';': 899, 'send': 168, 'eduardo': 1, 'nunez': 2, 'triple-a': 2, '(': 1641, 'carig': 1, ')': 3268, 'dedication': 7, 'son': 78, 'hello': 91, 'beloved': 4, 'missed': 113, 'dad': 82, 'agreed': 48, 're': 61, 'thur-sat': 1, 'sought': 5, '+': 79, 'incorporated': 2, 'community': 61, 'feedback': 24, 'in': 6084, 'planning': 48, 'process': 36, 'should': 687, 'sleeping': 40, 'but': 1995, 'now': 1413, \"'m\": 2112, 'hungry': 53, 'confidence': 7, 'blood': 33, 'pressure': 18, 'oops': 23, 'thinking': 157, 'it': 6296, \"'s\": 4866, 'time': 1221, 'nap': 57, 'much': 646, 'uglier': 1, 'than': 522, 'hanie': 1, 'incompetent': 4, '“': 457, 'oomf': 14, 'gorgeous': 38, '”': 427, 'those': 357, 'popsicles': 2, 'good': 1625, 'what': 2020, 'was': 2004, 'ur': 251, 'experience': 76, 'w/': 203, 'zotero': 2, 'u': 1238, 'recommend': 23, 'other': 306, 'app': 93, 'database': 5, 'refs': 13, 'damn': 199, 'there': 1131, 'again': 365, 'thank': 627, 'support': 186, 'hate': 299, 'badmouth': 2, 'anyone': 309, 'never': 556, 'met': 71, 'find': 275, 'impossible': 18, 'respect': 43, 'lars': 1, 'von': 2, 'trier': 1, 'filmmaker': 2, 'person': 197, '-jo': 2, 'checked': 34, 'tumblr': 19, 'go': 1186, 'read': 182, 'brideshead': 1, 'also': 282, 'memory': 20, 'college': 88, 'hijinks': 1, 'architecture': 6, 'ocean': 10, 'liners': 1, 'rt': 1430, 'look': 423, \"'topes\": 1, 'red-hot': 2, '4-3': 4, 'win': 264, 'tonight': 785, 'over': 518, 'iowa': 9, 'isotopes': 1, 'won': 74, 'three': 85, 'row': 25, 'peter': 14, 'crouch': 1, 'already': 212, 'sent': 89, 'off': 607, 'sorry': 248, 'tottenham': 2, 'going': 899, 'end': 187, 'well': 641, 'rock': 105, 'love': 1698, 'memphis': 20, 'weekend': 340, 'special': 125, 'guests': 13, 'boot': 12, 'rts': 15, 'follows': 29, 'mentions': 19, 'buddhist': 1, 'tradition': 8, 'sandalwood': 1, 'scent': 5, 'believed': 8, 'transform': 2, 'one': 1329, 'desires': 3, 'maintain': 7, 'alertness': 1, 'while': 215, 'meditation': 5, \"'re\": 981, 'right': 759, 'accidentally': 12, 'that': 4455, 'everyone': 413, 'apologies': 6, 'facebook': 157, 'michelle': 8, 'russo': 1, 'when': 1319, 'architects': 2, 'write': 71, 'user': 23, 'stories': 35, 'addressing': 2, 'tech': 42, 'debt': 16, 'they': 1295, 'using': 95, 'terminology': 1, 'understands': 3, 'oohhh': 1, 'best': 584, 'course': 103, 'wasnt': 9, 'scary': 34, 'favorite': 217, 'dip': 6, 'shitt': 2, 'said': 311, 'pretty': 255, 'nice': 333, 'breath': 17, '7-0-0': 1, 'sportingkc': 4, 'let': 613, 'saturday': 136, 'cars': 28, 'sale': 50, 'exercise': 13, 'workout': 29, 'lose': 75, 'weight': 32, 'black': 140, 'thanksgiving': 31, 'followback': 7, 'bomb': 20, '[': 64, 'piano': 15, 'bar': 100, 'music': 308, ']': 91, 'gh': 4, 'know': 1275, 'desire': 13, 'working': 245, 'gey': 1, 'having': 249, 'issues': 36, 'twitter': 529, 'wo': 132, 'me': 3413, 'mysti': 1, 'roberts': 6, 'verne': 3, 'way': 583, 'his': 578, 'calls': 44, 'tonite': 20, 'im': 511, 'lost': 122, 'elimination': 3, 'not': 2087, 'oh': 523, 'phony': 2, 'bf': 12, 'hot': 151, 'yoga': 32, 'soon': 314, '--': 356, 'real': 264, 'ass-kicking': 1, 'totally': 104, 'worth': 86, 'more': 1059, 'men': 116, 'must': 190, 'all': 1981, 'costs': 12, 'welbeck': 1, 'start': 297, 'adds': 8, 'tremendous': 11, 'energy': 52, 'great': 1249, 'form': 30, 'late': 150, 'tweeting': 81, 'day': 1457, 'bc': 48, 'dont': 216, 'sht': 1, 'else': 167, '^_^': 9, 'da': 72, 'lawd': 5, 'half': 93, 'yai': 1, 'saw': 224, 'awesome': 391, 'yourself': 137, 'better': 468, 'skip': 21, 'actual': 24, 'graduation': 34, 'wan': 237, 'own': 197, 'bed': 147, '.smfh': 1, '’': 192, 's': 160, 'prix': 3, 'fixe': 1, 'tuesday': 68, 'enjoy': 178, '3-course': 1, 'dinner': 124, '$': 457, '18.95': 1, 'per': 34, 'guest': 27, 'can': 1651, 'pass': 75, 'up': 1815, 'chris': 69, 'brown': 39, 'car': 130, 'summer': 170, 'tour': 73, 'then': 513, \"'ll\": 870, 'take': 421, 'braces': 8, 'back': 983, 'regret': 22, 'every': 298, 'single': 86, 'thing': 348, 'portraying': 2, 'role': 29, 'effie': 2, 'white': 102, 'extremely': 16, 'exciting': 49, 'headed': 46, 'south': 48, 'carolina': 14, 'introduce': 6, 'shena': 1, 'renee': 1, 'kind': 141, 'mother': 106, 'decides': 9, 'colonoscopy': 1, 'after': 358, 's/o': 61, 'joining': 20, 'pata': 1, 'sucia': 1, 'club': 74, 'landed': 11, 'completely': 53, 'chance': 107, 'could': 468, 'kebab': 2, 'joint': 11, 'western': 7, 'hemisphere': 2, 'place': 171, 'here': 648, 'listening': 126, 'track': 49, 'feeling': 151, 'goosebumps': 3, 'butterflies': 4, 'smile': 73, 'coming': 262, 'morning': 401, 'twitters': 10, '2,100': 1, 'tweets': 149, '.so': 5, 'romney': 41, 'supporter': 8, \"'if\": 2, 'athlete': 6, 'athletic': 5, \"'\": 517, 'making': 226, 'into': 376, 'doc': 18, 'design': 54, 'class': 173, 'spring': 81, 'icon': 16, 'from': 1353, 'photoshoot': 3, 'didnt': 38, 'her': 608, 'prince': 18, 'harry': 25, 'made': 269, 'people': 822, 'life': 564, 'hell': 140, 'left': 156, 'earlier': 48, 'artclix': 1, 'gold': 35, 'mobile': 54, 'apps': 24, 'category': 6, '-': 1499, 'will': 1597, 'panel': 33, 'tomorrow': 472, '2': 563, 'pm': 63, 'interpretation': 4, 'social': 136, 'matter': 78, 'days': 304, 'states': 25, 'nevada': 5, 'new': 1130, 'jersey': 43, 'ramped': 1, 'their': 477, 'efforts': 7, 'legislation': 2, 'online': 102, 'poker': 12, 'reverb': 5, '=': 143, 'modesty..auto': 1, 'tune': 29, '=dishonesty..please': 1, 'stop': 293, 'lying': 21, 'through': 216, 'microphone': 2, 'bri': 3, 'glad': 238, 'enjoyed': 58, 'probably': 141, 'retrieve': 2, 'coffee': 121, 'shop': 50, 'decide': 37, 'leave': 105, 'save': 71, 'rainy': 18, 'walk': 92, 'jerk': 11, 'ones': 71, 'daughters': 9, 'observation': 5, 'talk': 265, 'follow': 836, 'dm': 93, 'airplanes': 2, 'loud': 38, 'tho': 77, 'if': 1745, 'pirates': 5, 'phillies': 3, 'officially': 52, 'ok': 216, 'excited': 234, 'watch': 296, 'tape': 14, 'doubters': 3, 'story': 113, 'inspiration': 36, 'youth': 29, 'years': 216, 'lived': 26, 'ireland': 11, 'before': 307, 'moved': 34, 'nm': 9, 'were': 411, 'born': 43, 'abq': 7, 'metals': 1, 'mesh': 1, 'migration': 1, 'holes': 5, 'earth': 41, 'open': 187, 'onto': 21, 'several': 23, 'directions': 5, 'baseball': 66, '82': 3, 'games': 132, 'puts': 24, 'level': 33, 'star': 69, 'trek': 7, 'fans': 120, 'fuck': 183, 'lehigh': 2, 'come': 631, 'recall': 12, 'alinsky': 1, 'jewish': 8, 'worked': 43, 'chicago': 94, 'gingrich': 6, 'code': 44, 'blacks': 5, 'jews': 5, 'destroying': 4, 'america': 59, 'part': 158, '1': 258, 'big': 367, 'interview': 59, 'lance': 6, 'higdon': 1, '1:30': 3, 'something': 381, 'mind': 142, 'rain': 86, 'billboard': 9, 'connection': 19, 'perfectly': 12, 'perfect': 146, 'colorado': 9, 'weather': 109, 'need': 827, 'especially': 56, 'revival': 3, '3.': 10, 'faithful': 4, 'believer': 4, 'pressing': 2, 'problem': 99, 'matthew': 12, '17:14-20': 1, 'dr.': 30, 'booth': 29, 'seau': 13, 'btw': 57, 'eighth': 4, 'member': 28, \"'94\": 1, 'chargers': 7, 'bowl': 43, 'died': 51, 'them': 609, 'dead': 78, 'young': 88, 'age': 54, 'early': 166, 'nature': 22, 'only': 695, 'visible': 6, 'eye': 55, '—': 15, 'includes': 13, 'inner': 9, 'pictures': 42, 'soul': 40, 'allergic': 3, 'reaction': 12, 'perfume': 10, 'mistletoe': 1, 'excuse': 31, 'sexual': 14, 'assault': 3, 'high': 172, 'note': 43, 'gby': 1, 'say': 525, 'money': 165, 'nut': 5, 'happiness': 32, \"'d\": 295, 'cry': 48, 'ferrari': 2, 'bicycle': 4, 'd': 356, 'taught': 18, 'make': 745, 'shit': 268, 'motivate': 6, 'words': 141, 'loll': 6, 'whose': 21, 'ooh': 13, 'tell': 323, 'haha': 417, 'jus': 34, 'remembered': 8, 'drunk': 46, 'guy': 208, 'work': 700, 'yesterday': 110, 'give': 309, 'him': 404, 'five': 33, '✋': 3, 'tom': 35, 'felton': 2, 'malibu': 3, 'stalking': 6, 'fighting': 20, 'hobos': 1, 'street': 79, 'think': 832, 'medeco': 2, 'today': 1219, 'during': 102, 'certification': 2, 'questions': 62, 'asked': 78, 'reply': 42, 'lol': 1073, 'l': 19, 'noticed': 23, 'wonder': 107, 'actually': 193, 'thinks': 32, 'trending': 28, 'topics': 12, 'shirtless': 4, 'niall': 10, 'replace1dsongswithlouisass': 1, 'seriously': 111, 'caffeinated': 3, 'quiz': 8, 'answer': 76, 'question': 104, 'motor': 5, 'indicates': 1, 'x': 95, '%': 207, 'vehicle': 9, 'recyclable': 1, 'dru': 1, 'feel': 419, 'candidate': 13, 'says': 173, 'hallmark': 2, 'together': 132, 'willing': 20, 'louie': 3, 'agency': 20, 'doing': 336, 'hh': 4, '4.': 5, 'am': 641, 'crush': 14, 'any': 449, 'dreams': 65, 'follower': 19, 'friend': 210, 'eat': 162, 'pie': 24, 'cookie': 14, 'homework': 37, 'tv': 117, 'suppose': 21, 'taken': 35, 'minute': 58, 'beez': 1, 'trap': 4, 'wear': 62, 'ware': 2, 'beautiful': 216, 'ask': 157, 'finish': 63, 'exam': 16, 'true': 201, 'gubernatorial': 1, 'race': 47, 'interesting': 112, 'ministry': 3, 'raised': 21, 'funds': 7, 'netbooks': 1, 'underprivileged': 1, 'gave': 85, 'away': 200, 'san': 85, 'diego': 46, 'christmas': 81, 'celebration': 10, 'careful': 16, 'because': 360, 'might': 200, 'whinds': 1, 'want': 788, 'art': 100, 'kinda': 57, 'teenagers': 4, 'fixing': 5, 'meal': 16, 'done': 287, 'clean': 41, 'kitchen': 27, 'omg': 169, 'awful': 16, 'managing': 4, 'ninth': 4, 'ron': 26, 'calling': 55, 'sacrifice': 3, 'worst': 72, 'bunter': 1, 'call': 290, 'horrible': 45, 'hi': 162, 'cutie': 5, 'thought-take': 1, 'hire': 19, 'section': 16, 'nimmer': 2, 'copyright': 6, 'does': 498, 'cite': 2, 'record': 52, 'song': 208, '10th': 9, 'anniversary': 27, '9/11': 5, 'tragedy': 11, 'blessed': 40, 'honored': 15, 'woo': 41, 'congrats': 178, 'skrillex': 4, 'tours': 3, 'archives': 14, 'old': 272, 'space': 43, 'basement': 7, 'makes': 251, '3rd': 45, 'floor': 37, 'digs': 2, 'dramatic': 6, 'incaseyoudidntknow': 2, 'smile..': 1, '*': 36, 'plant': 12, 'vegetables': 7, 'garden': 33, 'dry': 23, 'little': 332, 'validating': 1, 'oral-systemic': 1, 'health': 47, 'ridgewood': 2, 'country': 79, 'fantastic': 51, 'clippers': 11, 'next': 507, 'war': 34, 'figure': 44, 'enemy': 11, 'though': 240, 'fair': 45, '_that_': 2, 'beating': 11, 'us': 805, 'unlucky': 3, 'dc': 65, 'chv': 1, '58.24': 1, '400m': 1, 'dash': 4, 'bad': 343, '34': 5, 'year': 471, 'sub': 16, '2:00': 1, '800': 5, '2012': 95, 'possible': 52, 'famous': 37, 'temporarily': 5, 'unaware': 3, 'current': 25, 'location': 29, 'indorse': 1, 'brother': 75, 'live': 353, \"b'cast\": 2, '12-2': 2, 'swing': 17, 'nearby': 6, 'cause': 153, 'stupid': 92, 'yes': 443, 'following': 208, 'merry': 22, 'ms.': 7, 'curry': 3, 'communications': 4, 'xd': 61, 'man': 412, 'sctv': 1, 'era': 7, 'fliers': 2, 'rad': 11, 'ya': 209, 'myself': 146, 'subway': 14, 'breakfast': 53, 'appreciate': 104, 'concern': 4, 'regarding': 15, 'allergies': 9, 'sister': 70, 'dog': 102, 'he': 1187, 'warned': 4, 'medicate': 1, 'ahead': 35, 'barbie': 4, 'buzz': 14, 'eating': 76, 'tacos': 17, 'gym': 58, 'smallville': 2, 'bones': 12, 'monday': 142, 'november': 22, '22': 19, 'posting': 20, 'bout': 109, 'ready': 266, 'photo': 58, 'grid': 7, 'trend/format': 1, 'direction': 35, 'billion': 10, 'potential': 19, 'suit': 16, 'buy': 168, 'longest': 15, 'fucking': 119, 'ever': 407, 'earned': 7, 'name': 175, 'collection': 20, 'tunes': 14, 'message': 63, 'account': 84, 't.co/ulk1mg3': 1, 'got': 1051, 'book': 211, 'hands': 46, 'killing': 36, 'def': 44, 'cold': 98, 'ariana': 10, 'sweet': 174, 'attend': 23, 'tight': 20, 'schedule': 32, 'ari': 5, 'fame': 14, 'she': 621, 'loves♥': 1, 'boehner': 2, 'stay': 209, 'strong': 58, 'spam': 27, 'added': 30, 'personal': 53, 'trying': 203, 'klout': 10, 'which': 208, 'interprets': 2, 'influence': 7, 'howard': 10, '😉': 7, 'air-conditioning': 1, 'refrigeration': 1, 'system': 50, 'ups': 16, '617-792-3350': 1, 'boston': 59, 'starting': 110, 'beginnig': 1, 'catch': 67, 'couple': 67, 'months': 63, 'listen': 112, 'one/two': 1, 'wmyb': 3, 'station': 37, 'iss': 1, 'another': 292, 'fracking': 1, 'porn': 15, 'latest': 28, 'oil': 22, 'gas': 33, 'engineering': 4, 'term': 26, 'blush': 2, 'hole': 22, 'swell': 4, 'packer': 13, 'traveling': 13, 'holidays': 30, 'remember': 172, 'kroger': 2, 'gift': 76, 'card': 60, 'shopping': 56, 'shell': 6, 'nothing': 256, 'worry': 52, '😏😏😏': 1, 'gearing': 8, 'b-12': 1, 'mania': 3, 'traffic': 44, 'moving': 66, 'mess': 44, 'dude': 126, 'fucked': 31, 'beyond': 34, 'poster': 11, 'paper': 63, 'submitted': 9, '35mins': 1, 'yeah': 377, 'assignment': 8, 'semester': 29, 'spirit': 23, 'accomplish': 5, 'truly': 42, 'defines': 1, 'journey': 17, 'around': 229, 'you~': 1, '5th': 23, 'hanks': 2, 'hey': 376, '.i': 24, 'heard': 131, 'wild': 40, 'ass': 218, 'pride': 12, 'bibby': 1, 'contribute': 4, 'heat': 75, \"'winning\": 1, 'mentality': 5, 'learn': 99, 'bodybuilding': 1, 'elite': 10, 'trainer': 9, 'max': 13, 'body': 69, 'hollywood': 17, 'awkward': 43, 'moment': 94, 'even': 411, 'major': 34, 'consumer': 10, 'brands': 13, 'companies': 22, 'experiencing': 5, 'synapse': 1, 'considering': 20, 'voice': 79, 'employee': 8, 'ta': 174, 'run': 184, 'miranda': 2, 'kidding': 36, 'nephew': 14, 'ran': 38, 'scare': 8, 'locked': 10, 'himself': 24, 'house': 224, 'saying': 129, 'heading': 63, 'shade': 5, '45': 19, 'connect': 35, 'occupy': 10, 'sirius': 2, 'reminder': 26, 'me/': 1, 'things': 297, 'sxsw': 20, 'cool': 262, \"y'all\": 74, 'rule': 23, 'exactly': 65, 'sustained': 1, 'injuries': 8, 'someone': 356, 'inflicted': 1, 'thereafter': 3, 'crosstown': 1, 'classic': 30, 'starts': 91, 'enough': 155, 'followers': 172, '😊❤': 1, 'generous': 5, 'ai': 78, 'change': 183, '30-40': 2, 'minutes': 109, 'cni': 1, 'closing': 16, '2:15': 1, 'bernard': 6, 'frischer': 1, 'illustration': 2, 'dimensions': 2, '3d': 19, 'modeling': 6, 'cultural': 9, 'heritage': 7, 'sites': 13, 'monuments': 1, 'miley': 7, 'naturally': 5, 'add': 83, 'gruner': 2, 'veltliner': 2, 'cures': 3, 'cancer': 29, '===': 3, '>': 388, 'alcohol': 10, 'kills': 18, 'virus': 9, 'bacteria': 5, 'hint': 11, 'looking': 422, 'yesses': 1, 'betta': 5, 'dropp': 1, 'kick': 45, '..': 194, 'longer': 49, 'flatter': 1, 'far': 169, 'care': 157, 'perfection': 10, 'time-': 1, 'repeat-': 1, 'show': 521, \"'the\": 13, 'la': 122, 'complex': 12, 'tip': 62, 'movies': 69, 'tub': 3, 'popcorn': 11, 'has': 812, '1200': 3, 'cal': 6, '60g': 1, 'fat': 58, 'without': 159, 'butter': 13, 'ui': 5, 'svg': 2, 'icons': 3, 'animation': 4, 'smooth': 9, 'small': 74, 'lag': 3, 'hit': 172, 'play': 255, 'picking': 23, 'photos': 48, 'counting': 11, 'box': 53, 'securing': 1, 'headphones': 16, 'storage': 11, 'unit': 5, 'yo': 109, 'serious': 50, '10.': 3, 'porno': 1, 'bro..': 4, 'besides': 15, 'able': 98, 'o': 129, 'narly': 1, 'via': 96, 'agree': 103, 'pinkie': 1, 'rings': 6, 'boy': 116, 'maxwell': 1, 'free': 319, 'daily': 34, 'coaching': 11, 'www.johnmaxwellteam.com': 1, 'sign': 77, 'inspirational': 9, 'tiip4p': 1, 'gen.': 3, 'rick': 19, 'lynch': 4, 'army': 10, 'vision': 20, 'w/o': 22, 'resources': 14, 'hallucination': 1, 'weird': 78, 'phaser': 1, 'effect': 10, 'hi-hats': 1, 'throw': 45, \"'get\": 1, 'choppa': 1, 'sample': 9, 'predator': 5, 'cover': 64, 'handsets': 1, 'basketball': 42, 'teamfollowback': 10, 'orange': 22, 'why': 607, 'cursing': 4, 'asians': 4, 'often': 61, 'mistaken': 3, 'teenager': 6, 'boo': 43, 'kiara': 1, 'lolol': 19, 'fwp': 1, 'holding': 27, 'wolf': 12, 'meetings': 24, 'throughout': 19, 'state': 104, 'wolves': 4, 'expected': 10, 'aw': 50, 'train': 34, 'bove': 1, 'tiff': 3, 'weak': 20, 'fearless': 4, 'afraid': 24, 'wise': 25, 'foolish': 6, '5/14': 1, 'vibe': 8, 'lounge': 22, 'rockville': 1, 'center': 64, 'w': 83, 'faylene': 1, 'sky': 24, 'sirens': 7, 'sailors': 1, 'safe': 81, 'travels': 12, 'csi': 1, 'miami': 41, 'korn': 1, 'ball': 43, 'awesomness': 1, 'finally': 170, 'motto': 7, 'ive': 33, 'wantin': 1, 'guess': 195, 'doin': 23, 'solo': 22, 'quick': 52, 'un-suspend': 1, 'acct': 8, 'ticket': 60, 'thnx': 9, 'weeding': 4, 'bfs': 1, 'dusty': 1, 'stuff': 165, 'austerity': 1, 'rich': 34, 'government': 28, 'stimulus': 2, 'economy': 18, 'fixed': 21, 'ink': 10, 'nuns': 2, 'pot': 23, 'giraffe': 6, 'may': 283, 'pool': 37, 'lake': 27, 'almost': 126, '70f': 1, 'comes': 105, 'algae': 2, 'growth': 13, 'leaving': 50, '13th': 15, 'las': 19, 'vegas': 56, 'argument..': 1, 'yea': 93, 'argued': 3, 'broken': 29, 'clue': 21, 'm': 68, 'rejoice—because': 1, 'rely': 7, 'god': 269, 'augusta': 2, 'afternoon': 55, 'psychic': 2, 'wishing': 27, 'lead': 53, 'singer': 9, 'david': 45, 'klapatch': 1, 'towards': 22, 'featured': 11, 'case': 53, 'study': 46, 'public': 66, 'relations': 10, 'urgent': 6, 'bo': 11, 'theater': 26, 'capes': 2, 'gloves': 5, 'nytnyt': 1, 'buddy': 51, 'caroline~': 1, 'fab': 10, 'day~': 1, 'dear': 90, 'extra': 64, 'pour': 9, 'second': 93, 'session': 66, 'bro': 131, 'excellent': 34, 'quote': 35, 'try': 226, 'kill': 65, 'middle-school': 1, 'girls': 133, 'oregon': 5, 'game': 477, 'project': 72, 'challenge': 35, 'sponsored': 4, 'heart': 170, 'favoring': 1, 'chelsea': 10, 'arsenal': 2, 'liverpool': 2, 'friends': 285, 'neutrality': 2, 'worse': 45, 'sunday': 148, 'adrienne': 3, 'thought': 255, 'knew': 80, 'once': 143, 'used': 132, 'pinterest.com': 1, 'looks': 209, 'building': 49, 'sharing': 58, 'collections': 4, 'needed': 58, 'mow': 3, 'lawn': 13, 'happen': 108, 'groomed': 2, 'yard': 23, 'policy': 17, 'cautious': 1, 'greatest': 36, 'risk': 15, 'ate': 31, '20': 99, 'wings': 24, '15': 74, 'jacket': 11, 'backers': 3, 'discount': 14, 'graceland': 1, 'austin': 115, 'nah': 33, 'stuck': 48, 'head': 161, 'shirt': 43, 'wrong': 121, '0_0': 2, 'philadelphia': 17, 'flyers': 10, 'flag': 11, 'sit': 53, 'flagpole': 1, 'glory': 10, 'abs': 6, '10': 157, 'fire': 79, '60': 30, \"can'twaittillmorning\": 1, 'uaggghhhhsdfjsklf': 1, 'shouts': 3, 'listeners': 4, 'spain': 8, 'hungary': 3, 'thailand': 2, 'romania': 1, 'update': 48, 'getting': 396, 'tire': 5, 'wal-mart': 1, 'aj': 3, 'rickle': 1, 'dunkin': 6, 'wanting': 15, 'donut': 7, 'mom': 185, 'bumps': 3, 'leash': 6, 'grabs': 2, 'junior': 20, 'hear': 219, 'bell': 18, 'flying': 31, 'cuz': 90, '2004-2007.': 1, 'brings': 34, 'memories': 25, 'piece': 49, 'umbro': 2, 'find/awesome': 1, 'video': 172, 'freakn': 3, 'anatomy': 3, 'lab': 14, 'lots': 97, 'concurrent': 1, 'processing': 7, 'large': 35, 'speed': 29, 'fpga': 1, 'processor': 2, 'feet': 30, 'sore': 13, 'rub': 7, 'down': 446, 'breathed': 1, 'business': 154, 'venture': 9, 'indy': 25, 'storm': 24, 'nov': 14, '2011': 43, 'launch': 20, 'date': 82, 'missionimpossible': 1, 'harbour': 1, 'east': 45, 'circumstances': 4, 'prisoner': 3, 'mic': 12, 'ppl': 84, 'playing': 170, 'hard': 240, 'fall': 90, 'asleep': 43, 'raining': 27, 'sarcasm': 9, 'barbara': 8, 'staiffer': 1, 'job': 213, 'representing': 9, 'nmnh': 1, 'muse': 5, 'awards': 29, 'tweet': 344, 'citp': 1, 'partners': 18, 'innovation': 15, 'network': 51, 'suggestions': 38, 'mindbender': 1, 'correct': 31, 'noplans': 1, 'still': 607, 'twat..': 1, 'meant': 41, 'firm': 9, 'plans': 52, 'sat': 39, 'sun': 56, 'bikini': 7, 'carwashes': 1, 'stopped': 35, 'salmon': 2, 'sitting': 63, 'apparently': 50, 'seizure': 2, '99': 12, 'sure': 361, 'saw/heard': 1, 'mopedder': 1, 'singing': 36, 'rack': 5, 'city': 171, 'week': 502, 'everything': 200, 'sgr': 1, 'gets': 127, 'drama': 29, '*hugs*': 3, 'writers': 12, 'creating': 15, 'characters': 22, 'pull': 35, 'parts': 12, 'lebron': 25, 'player': 42, 'somethin': 13, \"'cause\": 7, 'driving': 47, 'crazy': 172, 'mine': 86, 'woman': 81, 'both': 156, 'yours': 61, 'please': 469, 'watching': 338, 'couch': 26, 'louis': 17, 'c.k': 1, 'funniest': 17, 'doesnt': 31, 'soccer': 36, 'chill': 35, 'bitch': 121, 'lie': 53, 'peacock': 1, 'dress': 40, 'soo': 36, 'gif': 1, 'boom': 19, 'forget': 129, 'visit': 96, 'web': 40, 'www.vancouverwahotel.com': 2, 'geniefair2012': 1, 'guha': 1, 'shankar': 1, 'american': 76, 'folklife': 1, 'methods': 4, 'means': 100, 'practices': 13, 'oral': 8, 'history': 85, 'projects': 34, 'vas': 2, 'happening': 42, 'heeyy': 2, 'amazayn': 1, 'dealing': 13, 'dns': 4, 'feels': 69, 'slow': 42, 'motion': 8, '24': 31, 'propagation': 1, 'linode': 1, 'refresh': 2, 'grr': 2, 'women': 113, 'fake': 39, 'orgasms': 2, 'whole': 133, 'relationship': 42, 'noice': 2, 'lot': 211, 'lately': 41, 'distracted': 7, 'peyton': 12, 'manning': 13, 'jackie': 4, 'moon': 37, 'indianapolis': 8, 'colts': 9, 'owner': 14, 'coach': 49, 'parents': 71, 'annoy': 2, '24/7': 7, 'belly2': 1, 'loving': 76, 'profile': 38, 'pic': 68, 'plastic': 10, 'ago': 102, '♥': 59, 'pacers': 15, 'padres': 4, 'series': 79, 'instead': 92, 'nationals': 5, 'relative': 5, 'pads': 2, 'rep': 18, 'put': 226, 'hold': 69, 'hung': 9, 'transferred': 3, 'manager': 22, 'worries': 20, 'ordered': 19, 'recipe': 17, 'replace': 13, 'sour': 9, 'cream': 53, 'cheese': 54, 'coconut': 4, 'product': 36, 'items': 16, 'including': 26, 'savings': 13, 'cards': 31, 'gifts': 23, 'henry': 14, 'winkler': 1, 'fonz': 1, 'cheyenne': 1, 'jackson': 29, 'comedy': 27, 'industry': 30, 'broadway': 15, 'ira2012': 1, 'attendees-if': 1, 'concerned': 10, 'keeping': 35, 'kids': 171, 'teaching': 34, 'meet': 171, 'zillydilly': 1, 'creator': 9, 'packing': 21, '81th': 1, 'conference': 77, 'columbia': 3, 'sc': 2, 'books': 80, 'known': 38, 'prescription': 1, 'drug': 23, 'pregnancy': 8, 'experts': 13, 'scrub': 2, 'makeup': 17, 'washcloth': 1, '4got': 1, 'remover': 1, 'face': 139, 'hurts': 31, 'extend': 5, 'mothers': 62, 'world': 375, 'nld': 2, 'mom/cancer': 1, 'survivor': 3, 'nosotros': 1, '@': 226, 'salsa': 14, 'under': 65, 'stars': 38, 'dancemomsmiami': 1, 'byyeee': 1, '-p': 10, 'liked': 49, 'maybe': 217, 'perform': 22, 'apartment': 23, 'sophia': 4, 'beat': 92, 'lls': 3, 'john': 72, 'brenkus': 1, 'espn': 22, 'sport': 19, 'science': 25, 'grounds': 6, 'dec.': 2, 'invited': 17, '4:00': 1, 'room': 142, '204': 3, 'physics': 3, 'fabulous': 25, 'facilitating': 1, 'learning': 77, 'fina': 3, 'ok.': 19, 'brandon': 15, 'fainting': 3, 'sometimes': 155, 'brain': 40, 'musical': 13, 'west': 49, 'side': 96, 'restart': 3, 'wing': 4, 'such': 176, 'performance/talk': 1, 'deafness': 1, 'laugh': 58, 'bottle': 28, 'champagne': 7, '25': 43, 'oprah': 12, 'pulling': 9, 'jay': 12, 'leno': 3, 'keeps': 39, 'ctfu': 3, 'tat': 2, 'idea': 157, 'ears': 21, 'pierced': 2, 'british': 16, 'accent': 7, '21': 23, 'balling': 2, 'started': 116, 'erase': 3, 'names': 22, 'board': 45, 'crash': 21, 'reader': 11, 'key': 41, 'constant': 8, 'reassurance': 1, 'dreadful': 1, 'quickly': 21, 'changing': 26, 'channels': 8, '.ca': 1, 'ego': 7, 'aww': 44, 'patty': 12, 'mills': 8, 'points': 43, 'james': 41, 'anderson': 6, '16': 38, 'dejuan': 1, 'blair': 5, '12.': 2, 'spurs': 19, 'warriors': 4, '73-65': 1, '5:54': 1, 'third': 23, 'qt': 4, 'audition': 21, 'suburgatory': 1, 'tim': 19, 'payne': 1, 'post': 151, '7': 91, '..idk': 1, 'since': 172, 'church': 54, 'shale': 1, 'internet': 51, 'developed': 8, 'investment': 10, 'research': 36, 'potus': 11, 'focused': 18, 'future': 97, 'absoloutely': 1, 'united': 22, 'socialist': 5, '4am': 3, 'shamrock': 5, 'shake': 22, 'laptop': 27, 'faith': 31, 'odds': 9, 'possum': 4, 'trey': 7, 'memo': 5, 'flannels': 1, 'mahomies': 13, 'consider': 34, 'easy-going': 1, 'chew': 3, 'mouth': 37, 'systematically': 1, 'close': 106, 'putting': 60, 'until': 208, 'caffeine': 7, 'consumed': 4, 'kicks': 14, 'waking': 22, 'claiming': 4, 'success': 100, 'poor': 37, 'manny': 7, 'pacquaio': 1, 'alleged': 2, 'happened': 59, 'original': 32, 'article': 45, 'publication': 4, 'national': 67, 'conservative': 10, 'examiner': 2, 'exist': 22, 'unless': 44, 'site': 97, 'migrate': 2, 'manually': 5, 'remote': 7, 'trip': 91, 'ripest': 1, 'peach': 6, 'highest': 13, 'tree': 31, 'whitcomb': 1, 'riley': 8, 'cats': 39, 'pajamas': 5, 'bliss': 4, 'choose': 33, 'grew': 12, 'raman': 1, 'noodles': 6, 'retweet': 67, 'step': 59, 'dj': 36, 'supersoaker': 1, 'pussy': 18, 'pop': 34, 'cola': 2, 'coka': 1, 'plus': 56, 'tighter': 2, 'choker': 2, 'smiling': 17, 'joker': 1, 'bootsy': 1, 'forgiveness': 5, 'giving': 102, 'different': 108, 'estimated': 3, 'ivan': 4, 'canyon': 4, 'winds': 4, 'ours': 12, 'insurgentes': 1, 'ave.': 5, 'peace': 52, 'windwhisper': 1, 'rooting': 9, 'capitals': 2, '70s': 4, 'maryland': 8, 'gal': 6, 'washington': 31, 'launching': 9, 'program': 66, 'astd2012': 2, 'fail': 26, 'succeed': 11, 'michael': 40, 'reference': 17, 'language': 35, 'yep': 61, 'too..ha': 1, 'drwho': 1, 'netflix': 20, 'clapping': 4, 'along': 71, 'adams': 8, 'beatin': 1, 'drum': 6, 'indians': 8, 'browns': 13, 'acting': 28, 'wake': 68, 'heck': 18, 'barack': 4, 'hilarious': 45, 'nba': 36, 'unathletic': 1, 'zero': 16, 'hand-eye': 1, 'coordination': 1, 'ozzie': 6, 'suspended': 6, 'multiple': 18, 'players': 44, 'duis': 1, 'former': 27, 'bill': 45, 'sysak': 1, 'speaking': 43, 'beer-con': 1, 'register': 19, 'headshot': 2, 'specials': 17, 'may-june': 1, 'los': 26, 'angeles': 24, 'contact': 59, 'st.': 50, 'become': 77, 'fan': 103, 'hrl': 1, 'fb': 70, 'tues': 6, 'march': 62, '23rd': 6, 'tumble': 2, 'inn': 6, '☺': 4, 'email': 142, 'address': 36, 'changed': 43, 'shipped': 1, 'coat': 12, 'pocket': 12, 'nope': 32, 'moron': 7, 'retweeted': 9, 'reading': 123, 'ty': 22, 'isaac': 4, 'usc': 10, 'whatever': 45, 'deveon': 1, 'smith': 21, 'hoke': 1, 'cooled': 1, 'somedays': 3, 'cowboy': 7, 'luck': 148, '100k': 5, 'chips': 15, 'treat': 32, 'mention': 62, \"''omg\": 1, 'sad': 117, \"boy'z\": 1, 'lyk': 2, 'tymes': 2, 'muh': 2, 'mum': 9, 'leting': 1, 'meh': 8, 'um': 60, 'stfu': 6, 'calm': 22, 'tits': 7, '-___-': 12, 'holy': 44, 'speakers': 16, 'volunteers': 14, 'incredibly': 15, 'event': 150, 'embassyofbrazil': 1, 'wearing': 83, 'wedding': 49, 'ring': 25, 'hand': 77, 'yet': 216, '018': 1, 'virt': 1, 'emcca': 2, '918': 1, 'itaas': 1, 'emccae': 1, 'hints': 2, 'wanted': 103, 'pay': 75, 'attention': 53, 'niggaz': 7, 'keep': 385, 'dem': 13, 'bitches': 29, 'claim': 11, 'threw': 22, 'finished': 75, '2.50': 2, 'mi': 18, 'nike+': 4, 'gps': 11, 'sold': 42, 'act': 72, 'adults': 14, 'jobs': 42, 'visited': 6, 'stock': 21, 'exchange': 11, '1986': 1, 'cameron': 7, 'sloan': 1, 'dow': 3, '2000.': 1, 'jasmine~': 1, 'morning~': 2, 'friend~': 1, 'denny': 3, 'hoping': 60, 'food': 205, 'motherfuckers': 2, 'truth': 63, 'believes': 10, 'remain': 11, 'bible': 14, 'reason': 86, 'len': 3, 'top': 124, '5': 208, 'followable': 1, 'turn': 99, 'archer': 2, 'quotes': 14, 'attending-': 1, 'conversation': 50, 'weekley-founder': 1, 'weekley': 1, 'homes': 10, 'thomas': 26, 'houston-7:00pm': 1, 'seattle': 64, 'host': 27, 'french': 25, 'feb.': 3, 'rough': 18, 'draft': 39, 'shower': 34, 'receive': 28, 'offers': 15, 'text': 113, 'bj': 2, 'number': 87, '86677': 1, 'eatin': 2, 'goodness': 19, 'bates': 1, 'outside': 90, 'conventional': 1, 'ironman': 2, 'yurbuds': 1, 'wifi': 23, 'spots': 15, 'convention': 9, 'preconference': 2, 'marriott': 4, 'lobby': 11, 'hunger': 27, 'tiago': 1, 'splitter': 1, 'court': 33, 'sloppy': 8, 'af': 20, 'cute': 104, 'gabby': 3, 'approval': 5, 'following-': 1, 'gents': 3, 'brief': 5, 'passing': 17, 'certainly': 14, 'nowhere': 13, 'felt': 48, 'beauties': 2, 'stands': 16, 'eternal': 8, 'brilliant': 30, 'clothes': 26, '-carl': 1, 'friedrich': 4, 'gauss': 2, 'believe': 165, 'seeing': 126, 'kid': 87, 'reporter': 10, 'touch': 45, 'screen': 29, 'segments': 1, 'coolness': 2, 'worn': 7, 'substance': 6, 'graphics': 4, 'forward': 197, 'flea': 1, 'knows': 70, 'value': 33, 'cares': 17, 'draw': 22, 'others': 94, 'intense': 11, 'efficient': 6, 'workouts': 4, 'shortly': 12, 'cakes': 9, 'cookies': 31, 'pastries': 1, 'eve': 24, 'firehook': 4, 'bakery': 7, 'helping': 32, 'patsy': 2, 'stone': 16, 'marni': 1, 'dying': 29, 'join': 132, 'www.knowledgesafari.com': 2, 'non': 13, 'factor': 11, 'ray': 15, 'lewis': 10, 'panthers': 3, 'london': 26, 'fletcher': 3, 'tackle': 6, 'machine': 21, 'cody': 19, 'huge': 81, 'freaking': 35, 'c202': 1, 'implemented': 2, 'drupal': 7, 'school': 333, 'important': 73, 'sounds': 168, '☼': 2, 'dependent': 3, 'upon': 26, 'glands': 2, 'sweat': 17, 'zig': 3, 'ziglar': 3, 'sir': 52, 'ah': 87, 'shush': 2, 'quit': 27, 'complaining': 12, '\\ue05a': 1, 'always..': 2, 'least': 132, 'full': 103, 'gray': 14, 'stressed': 8, 'ha': 170, 'telling': 60, 'yall': 30, 'z': 13, 'panera': 3, 'mac': 23, 'works': 83, 'fremulon': 1, 'sarah': 14, 'phillips': 11, 'entertainment': 14, '720': 1, 'tells': 30, 'reread': 1, 'few': 185, 'times': 166, 'pickup': 7, 'clues': 4, 'destroyed': 11, 'thoughts': 68, 'boyfriend': 48, 'ill': 96, 'winning': 53, 'lottery': 10, 'weeks': 86, 'cadorin': 1, 'arena': 10, 'hiroki': 1, 'kuroda': 1, 'except': 40, 'exhibit': 12, 'hall': 37, 'hotels': 4, 'point': 122, 'roll': 58, 'tomb': 1, 'rolled': 7, 'irene': 7, 'recovery': 7, 'map': 20, 'ordinary': 10, 'irenerecoverymap.com': 1, 'cleanup': 3, 'robinson': 5, 'haircut': 10, 'katie': 6, 'gemini': 5, 'hates': 15, 'dull': 7, 'lovers': 8, 'bet': 58, 'tried': 79, 'nervous': 22, 'automatic': 5, 'studio': 71, 'niggas': 34, 'workin': 11, 'recs2': 1, 'st.nachos': 1, 'series-z.a.maxfield': 1, 'emperor': 2, 'wolf-j.c.owens': 1, 'circe': 1, 'recruits': 1, 'dawn': 6, 'endeavor': 2, 'series-marie': 1, 'harte': 1, 'achievements': 4, 'require': 10, '–': 42, 'maya': 2, 'angelou': 3, 'ky': 8, 'w/us': 1, 'commented': 5, 'chat': 47, 'easier': 38, 'shut': 57, 'dumbass': 8, 'nobody': 63, 'incredible': 25, 'group': 75, 'growthtrack': 1, 'leaders': 21, 'gangster': 6, 'dmv': 5, 'atlanta': 32, 'djs': 6, 'square': 15, 'agent': 17, 'existing': 6, 'bloggers': 11, 'recruiting': 11, 'blogger': 3, 'pipeline': 3, 'prsawebinar': 1, 'season': 186, 'hhaha': 1, 'alright': 46, 'crew': 42, 'carlos': 11, 'hombre': 2, 'goldenglobe': 1, 'stage': 51, '13': 34, 'thelasttimeichecked': 1, 'jesus': 71, 'religion': 11, 'godlybrotips': 2, 'matt': 25, '23:15': 1, '/': 185, 'touring': 5, '2013': 12, '2014.': 1, 'btr': 5, 'google': 71, 'jules': 2, 'logo': 17, 'deserves': 11, 'tt': 9, 'ux': 4, 'responsiveness': 1, 'underwater': 2, 'pleasing': 2, 'asap': 39, 'line..': 2, 'pan': 10, 'de': 53, 'sal': 2, 'breaking': 36, 'boys': 103, 'vincent': 4, 'seo': 5, 'travel': 38, 'domain': 6, 'word': 125, 'press': 48, 'optimized': 3, 'customers': 18, 'u.s': 7, 'concert': 63, 'mayer': 3, 'canceled': 9, 'purchasers': 1, 'refer': 5, 'purchase': 26, 'refund': 2, 'details': 65, 'lmfao': 40, 'kyree': 1, 'phone': 192, 'coast': 23, 'peeps': 29, 'ruining': 2, 'toni': 1, 'singers': 8, '90s': 8, 'b/c': 26, 'diverse': 6, 'freeze': 9, 'friggin': 2, 'chicken': 61, 'ff': 87, 'lily': 4, 'affirm': 1, 'everyday': 49, 'eyebrows': 5, 'threaded': 1, 'lady': 78, 'hair': 130, 'thick': 6, 'curly': 4, 'tammy': 5, 'dentist': 6, 'drill': 4, 'lame': 26, '550': 3, 'jack': 32, 'fact': 75, 'afford': 11, 'kk': 7, 'bye': 41, 'paid': 38, 'crime': 7, 'pays': 14, 'et': 16, 'cetera': 1, 'rest': 92, 'abbreviated': 1, 'etc': 52, 'c': 86, 'carefully': 2, 'bloused': 1, 't-shirt': 17, 'help': 339, 'schuyler': 1, 'selected': 8, 'poems': 5, 'cuddling': 4, '*sigh': 1, 'lmfao..': 1, '😂😂': 2, 'requested': 6, '75': 13, 'likes': 47, 'thiis': 1, 'nd': 32, 'traxxs': 1, 'possibly': 26, 'layiin': 1, 'dwn': 4, 'w.o.r.d': 1, 'sadly': 22, '😔😞😖😭': 1, 'kmsl': 3, '😳': 7, 'regard': 2, '~': 73, 'descartes': 1, 'updating': 8, 'syncing': 3, 'plan': 74, 'ipad': 48, 'strep': 2, 'tough': 40, 'groupons': 1, 'med-spas': 1, 'month': 111, 'attack': 20, 'quite': 58, 'ham': 15, 'biscuit': 2, 'buttery': 1, 'grits': 4, 'wade': 14, 'buss': 3, 'dat': 34, 'nose': 14, 'unconditional': 2, 'girl': 287, 'merlot': 1, 'slut': 12, 'vineyard': 5, 'pj': 2, 'brave': 9, 'otherwise': 12, 'loved': 120, 'parry': 1, 'feed': 22, 'exploding': 3, 'egypt': 5, 'messiness': 1, 'rounds': 7, 'hotel': 48, 'figured': 19, 'playground': 5, 'hbs': 1, 'another..': 1, 'roscoe': 1, 'waffles': 11, '1st': 119, 'yum': 29, '9a': 1, 'tory': 2, 'thompson': 4, 'dino': 2, 'scofield': 1, 'rehearsal': 14, 'sittin': 6, 'hour': 134, '3days': 1, 'till': 84, 'naked': 14, 'teeth': 15, 'wont': 44, 'brace': 4, 'faces': 11, 'yeeeeuhhh': 1, 'bosh': 6, 'legit': 16, 'who-opens-the-door-for-who': 1, 'encounter': 4, '4th': 47, 'credit': 28, 'turned': 50, 'rackett': 1, 'degree': 15, 'blow': 30, 'thirty': 5, 'comments': 29, 'sahm': 1, 'rapid': 1, 'acquisition': 1, 'skills': 21, 'apprenticeships': 1, 'boettcher': 1, 'kingdom': 6, 'within': 37, 'luke': 4, '17:21': 1, 'fallen': 10, 'die': 56, 'lust': 4, 'buyers': 8, 'sales': 37, 'look-': 1, 'predicted': 1, 'futures': 2, 'invented': 5, 'counter': 8, 'brewer': 8, '..focus': 1, 'education': 42, 'distance': 17, 'career': 34, 'development': 16, 'himss': 1, 'appreciated': 24, 'xoxo': 33, 'ba': 2, 'deleting': 6, 'texts': 19, 'evidence': 17, 'kobe': 27, 'dreaming': 13, 'santa': 20, 'fe': 6, 'inspired': 28, 'pork': 10, 'potato': 18, 'stew': 2, 'corn': 12, 'rightly': 1, 'caps': 19, 'jailblazers': 1, 'honest': 20, 'percent': 12, 'dance': 86, 'qot': 1, 'upper': 6, 'bck': 5, 'ina': 2, '40': 48, 'cant': 141, 'tats': 2, 'smh': 65, 'buggy': 2, 'bud': 10, 'legend': 14, 'human': 37, 'beings': 3, 'audience': 35, 'sympathize': 2, 'mad': 95, 'practice': 45, 'etta': 2, 'james..': 1, 'jazz': 34, 'blues': 21, 'classics': 2, 'leukemia': 1, 'nigga': 74, 'prison': 10, 'housebroken': 1, 'liesje': 1, 'ahah': 1, 'werent': 1, 'mean': 207, 'truthful': 2, 'breathe': 10, 'deep': 42, 'laughing': 34, 'built': 13, 'wall': 44, 'block': 39, 'loves': 58, 'climb': 5, '8-4': 1, 'badgers': 10, 'b1g': 1, 'ten.': 1, 'loss': 31, 'haunt': 2, 'bucky': 5, 'poetry': 12, 'bionic': 2, 'losing': 38, 'signal.have': 1, 'toggle': 1, 'airplane': 4, 'mode': 12, '3g': 2, '4g': 3, '2nd': 64, 'artists': 23, 'performing': 23, 'vintage': 8, 'reggae': 3, 'winter': 40, 'fest': 14, 'legally': 6, 'alive': 35, '1+': 1, 'master': 17, 'differences': 2, 'among': 25, 'tags': 7, 'elements': 5, 'attributes': 2, '..they': 1, 'motivated': 10, 'thingsblackpeoplelove': 1, 'told': 105, 'father': 37, 'maury': 1, 'ac': 9, 'compete': 6, 'against': 77, 'dancin': 2, 'queens': 3, 'nick': 21, 'hahahahaha': 3, 'delt': 2, 'turtle': 5, 'roger': 10, 'waters': 7, 'vip': 13, 'package': 14, 'prior': 4, 'exclusive': 13, 'packages': 4, 'old-school': 2, 'off-the-eyebrows': 1, 'hook': 21, 'helmets': 3, 'musicnews': 1, 'sony-led': 1, 'wins': 43, 'eu': 6, 'emi': 2, 'publishing': 9, 'holler': 2, 'resolving': 2, 'additional': 11, 'congratulations': 58, 'news': 159, 'writing': 87, 'novel': 22, 'cuatro': 1, 'mayo': 26, 'sticking': 12, 'hood': 20, 'quietly': 3, 'slips': 3, 'convo': 19, 'p': 139, 'klein': 2, 'rhee': 1, 'duncan': 4, 'kissing': 6, 'essential': 7, 'claire': 3, 'bonnie': 1, 'murders': 2, 'suicides': 1, 'detroit': 24, 'none': 28, 'wayne': 17, 'county': 32, 'cuts': 14, 'town': 69, 'wtf': 63, 'vandy': 4, 'shot': 75, \"3's..\": 1, 'defense': 29, '.foodtrucks': 1, 'morningstar': 1, '124': 3, '72': 5, 'smells': 9, 'reallllllyyy': 1, 'fly': 37, 'fast': 80, 'forever': 78, 'stomach': 20, 'hurting': 12, 'shawty': 6, 'cum': 4, 'deficiency': 1, 'found': 119, 'nemo': 3, 'motivation': 10, 'beauty': 28, 'balanced': 5, 'journaling': 1, 'perspective': 12, 'share': 100, 'ronnie': 3, 'elevator..': 1, 'researchers': 5, 'mod': 1, 'computer': 52, 'copy': 32, 'cat': 64, 'motions': 1, 'brothers': 22, 'b-day': 12, 'tommorow': 6, 'wat': 34, 'red': 116, 'bull': 17, 'paris': 10, 'fav': 32, 'eventhough': 1, 'blind': 14, 'mines..': 1, 'deals': 37, 'less': 122, 'prepare': 15, 'compare': 11, 'myspace': 15, 'sort': 26, 'secretly': 4, 'fond': 3, 'gc': 1, 'sid': 1, 'unfortunely': 1, 'surprised': 28, 'certain': 32, 'folks': 60, 'nowadays': 9, 'scientists': 5, 'engineers': 3, 'colleagues': 9, 'conversations..u': 1, 'r': 162, 'mamma': 2, 'went': 153, 'diving': 3, 'covered': 21, \"at'cha\": 1, 'contributed': 3, 'misinformation': 4, 'aca': 1, 'media': 109, 'math': 22, 'julie': 5, 'af-.-': 1, '39': 35, 'consumers': 11, 'networks': 8, 'buying': 29, 'brand': 50, 'theme': 17, 'font': 5, 'template': 2, 'pages': 29, 'flashing': 6, 'rotator': 1, 'dell': 4, 'power': 105, 'sell': 57, 'lemons': 4, 'gig': 11, 'co-workers': 2, 'littler': 1, 'taller': 5, 'staff': 33, 'gosh': 26, 'definitely': 122, 'family': 194, 'obsessed': 22, 'rolling': 25, 'bob': 20, 'band': 105, 'rocks': 22, 'oskar': 1, 'lyons': 3, 'van': 21, 'morrison/band': 1, 'tribute': 23, '7:30': 10, 'prob': 22, 'songs': 69, 'abt': 23, '9:30': 5, 'timeline': 14, 'french..': 1, 'saying..but': 1, '😊': 12, 'angry': 23, 'nowaday': 1, 'reps': 6, 'bec': 2, 'sec': 10, 'deans': 1, 'check': 344, 'bag': 34, 'uh': 45, 'thus': 8, 'commute': 4, 'faster': 19, 'lets': 94, 'moves': 23, 'champ': 10, 'seasons': 13, 'hah': 13, 'seen': 139, 'bit': 115, 'episodes': 8, 'correction': 6, 'hardly': 8, 'hahaha': 111, 'info': 97, 'opportunities': 27, 'theyd': 2, 'entire': 48, 'topgear': 2, 'followed': 81, '67': 5, 'degrees': 22, 'ecstatic': 1, 'printing': 12, 'spend': 74, 'print': 16, 'talked': 26, 'interested': 74, 'iphone': 75, 'endings': 3, 'decent-ish': 1, 's+j': 1, '3am': 4, 'mastercard': 1, '*z*': 1, 'drstevenzeitels': 1, 'saving': 15, 'progress': 20, 'most': 301, 'riven': 1, 'lin': 5, 'assuming': 9, 'diy': 6, 'fireworks': 5, 'rev': 9, 'stewart': 5, 'immigration': 6, 'nation': 17, 'generation': 15, 'beth': 4, 'blown': 11, 'road': 55, 'lakers': 30, 'ew': 12, 'computr': 1, '-_-': 42, 'burning': 11, 'compliments': 4, 'squeezing': 1, 'episode': 42, 'sex': 68, 'professional': 19, 'terrible': 38, 'msg': 13, 'decc': 1, 'farr': 1, 'civilization': 4, 'area': 71, 'belle': 3, 'brighten': 2, 'sorrryyy': 1, 'opp': 2, 'thon12': 1, 'position': 26, 'groove': 5, 'jams': 4, 'jam': 24, 'grooves': 2, 'everybody': 77, 'shout': 83, 'ourselves': 15, 'tweeted': 39, 'wonders': 6, 'ala': 6, 'planner': 4, 'searched': 4, 'dl': 10, 'toots': 1, 'anytime': 38, 'toast': 13, 'leg': 18, 'ending': 27, 'xx': 21, 'tour-': 1, 'mighty': 10, 'vote': 69, 'vawa': 1, 'allowing': 10, 'cap': 17, 'soapbox': 1, 'derby': 20, 'gone': 95, 'lacks': 2, 'birth': 12, 'certificate': 6, 'north': 44, 'residents': 10, 'valencia': 2, 'thru': 48, 'pile': 5, 'paperwork': 7, 'washing..': 1, '..goodnight': 1, 'deserve': 35, 'nyjets': 1, 'nygiants': 1, 'clarita': 1, 'en': 5, 'route': 14, 'maneuvered': 1, 'coworker': 7, 'sinful': 1, 'idolatrous': 1, 'hearts': 17, 'ashame': 1, 'goodnight': 47, 'besitos': 1, '😉😚❤': 1, 'shed': 4, 'tear': 9, 'youre': 23, 'somehow': 21, 'adventure': 11, 'move': 89, 'ideas': 67, 'hahahahhahah': 1, 'aims': 1, 'achieve': 12, 'complete': 44, 'self-forgetfulness': 1, 'developing': 12, 'mindfulness': 1, 'character': 24, 'ccm': 2, 'percussion': 1, 'rocking': 17, 'andriessen': 1, 'worker': 3, 'union': 15, '8pm': 18, 'corbett': 1, 'auditorium': 1, 'thursday': 92, 'pete': 5, 'cheer': 26, 'st.louis': 1, 'cardinals': 7, 'confused': 20, 'gloomy': 2, 'indiana': 16, 'mindfreak': 1, 'marathon': 35, 'ortiz': 3, 'middle': 46, 'marching': 6, 'baand-houston': 1, 'directed': 6, 'roderick': 1, 'kennedy': 7, 'named': 31, 'honor': 22, '2010': 26, 'mlk': 4, 'parade-houston': 1, 'symphony': 7, 'joy': 34, 'mob': 5, 'irish': 15, 'madonna': 10, 'wonna': 1, 'fitness': 15, 'meeting': 133, 'newsroom': 2, 'changes': 31, 'coverage': 21, '2da': 1, '6+octave': 1, 'e1-g7': 1, 'range.theory': 1, 'training': 55, 'able2sing': 1, 'hitting': 25, 'notes': 21, 'ts': 3, 'dsst': 1, 'test': 67, 'finance': 3, 'thankfully': 3, 'weapon': 5, 'stayed': 14, 'ejected': 2, 'realized': 35, 'obsession': 8, 'zac': 2, 'efron': 1, 'obsessing': 3, 'messed': 9, 'stepped': 6, 'sunglasses': 6, 'broke': 42, 'copped': 3, 'pair': 23, 'falling': 23, 'style': 46, 'faiiure': 1, 'failure': 17, 'beginning': 36, 'chokeholds': 1, 'okay': 131, 'accepted': 8, 'exceeds': 4, 'expectations': 7, 'february': 24, '8th': 18, 'unemployed': 6, 'blessing': 9, '«': 16, 'cherry': 7, 'berry': 8, 'chiller': 1, '»': 20, 'jermaine': 1, 'dye': 10, 'cocky': 2, 'shine': 12, 'bright': 29, 'raddest': 1, 'dudes': 18, 'aesthetically': 1, 'yr': 30, 'm..': 1, 'sandwich': 20, 'glass': 28, 'tampico': 1, 'walking': 41, 'versus': 6, 'crying': 40, 'whining': 8, 'zombies': 10, 'action': 44, 'forgot': 73, 'ranch': 3, 'pops': 8, 'bring': 140, 'nwss': 1, 'rodeo': 5, 'git': 2, 'equals': 6, 'female': 21, 'twirlers': 1, 'directv': 3, 'ceo': 14, 'mike': 45, 'nfl': 38, 'leader': 18, 'order': 72, 'retain': 3, 'now-that': 1, 'wierd': 1, 'lololololol': 2, 'swag': 23, 'yolo': 14, 'depth': 5, 'clarity': 3, 'syed': 1, 'hacked': 22, '😢': 2, 'ronr': 1, 'ideology': 2, 'irritating': 6, 'btches': 1, 'banks': 10, 'student': 40, 'loans': 6, 'screw': 17, 'citigroup': 2, 'wondering': 46, 'franklyn': 1, 'german': 7, 'fish': 35, '06.i': 1, 'fishes': 1, 'bullpen': 6, 'woes': 1, 'warszawa': 1, 'monica': 5, 'fives': 1, 'polish': 7, 'beers': 19, 'dark': 43, 'chocolate': 53, 'mo': 10, 'bacon': 36, 'uses': 22, '62': 3, 'milk': 15, 'stick': 34, 'instincts': 1, 'equation': 2, 'productive': 26, 'drinks': 39, 'smug': 4, 'pretentious': 3, '100': 68, 'effing': 3, 'funny': 162, 'propaganda': 3, 'rr': 3, 'e': 25, 'adrianas': 1, 'casa': 4, 'bff': 5, 'eva': 7, 'xo': 28, 'stpattysday': 1, 'countdown': 12, '35350': 1, 'prizes': 10, 'legs': 22, 'dia-beating': 1, 'trully': 1, 'sweating': 5, 'vancouver': 9, 'curryous': 1, 'messy': 5, 'poisoning': 2, 'froyo': 1, 'password': 12, 'ineverread': 1, 'lord': 59, 'flies': 5, 'sea': 19, 'classes': 31, 'finals': 20, 'flood': 4, 'control': 48, 'sandless': 1, 'sandbags': 1, 'life.never': 1, 'build': 43, 'sandbag': 1, 'dayy': 2, 'dis': 22, 'entertain': 6, 'darwinism': 1, 'losangleles': 1, 'fresno': 2, 'sandiego': 7, 'lasvegas': 2, 'areas': 8, 'shared': 14, 'hubbard': 3, 'talks': 20, 'rumors': 14, 'hardcore': 9, 'petland': 1, 'anti-clarinet': 1, '-alto': 1, 'bias': 8, 'mt': 60, 'sidney': 3, 'bechet': 1, 'widely': 3, 'b': 114, 'everywhere': 27, 'n9ne': 1, 'eminem': 8, 'immortal': 2, 'techniuqe': 1, 'royce': 2, \"5'9\": 1, 'cole': 13, 'alphamale': 1, 'surper': 1, 'freaken': 2, 'ohc': 1, '=d': 8, 'yooo': 2, 'busy': 88, 'earn': 12, 'rinse': 1, 'repeat': 18, 'lyrics': 17, 'triumph': 3, 'reminded': 11, 'u2': 2, 'joshua': 6, 'playoff': 25, 'create': 43, 'minor': 12, 'league': 37, '18-20': 1, 'battle': 27, 'spot': 50, 'solidified': 1, 'battling': 6, 'chicks': 5, '0': 13, 'carrots': 4, 'peanut': 10, 'salt': 14, 'vinegar': 3, 'handsome': 12, 'holiday': 63, '420': 5, 'thanx': 12, 'delta': 8, 'airlines': 5, 'outrageous': 5, 'heads': 18, 'consumers..': 1, 'whereisthecustomerservice': 1, '96': 4, 'easter': 38, 'rising': 3, 'yeats': 1, 'death./was': 1, 'needless': 1, 'death': 54, '1916': 2, 'boxing': 10, 'ignorant': 6, 'average': 11, 'bear': 17, 'tickets': 62, 'caught': 25, 'blah': 18, '1/2': 30, 'price': 41, 'appetizers': 4, 'resist': 5, 'ugh': 88, 'jealous': 54, 'amber': 7, '💙❤💙': 1, 'timing': 11, 'nbc': 13, 'accidently': 2, 'mute': 4, 'pierre': 3, 'updates': 44, 'commenting': 6, 'lane': 12, 'blocking': 4, 'switch': 12, 'lanes': 5, 'past': 89, 'continue': 37, 'overprotective': 1, 'looked': 51, 'window': 27, 'climbing': 3, 'neighbor': 14, 'ladder': 4, 'furry': 4, 'ace': 5, 'poshparty': 1, 'taxes': 11, 'mcle': 1, 'sherman': 3, 'saint': 5, 'written': 22, 'fine': 82, 'dissertation': 5, 'presidential': 10, 'protection': 8, 'happens': 53, 'miramar': 1, 'fl': 14, 'elton': 2, 'pepsi': 6, 'commercial': 38, 'mkg': 2, 'paycheck': 4, 'spoil': 3, 'wants': 102, 'flavor': 14, 'popped': 5, 'truck': 30, 'lola': 1, 'diet': 14, 'international': 27, 'celebrate': 59, 'accomplishments': 3, 'ladies': 53, 'pissed': 14, 'total': 37, 'duh': 19, 'mornin': 9, 'twitta-rama': 1, 'grade': 32, 'subject': 12, 'teach': 34, 'mrs': 3, 'anybody': 32, 'request': 20, 'skyping': 3, 'hurry': 20, 'thieves': 4, 'temple': 7, 'kicking': 17, 'tearing': 6, 'snap': 13, 'backs': 3, 'tattoos': 10, 'lbi': 2, 'ignore': 23, 'economic': 13, 'situation': 30, 'run-up': 1, 'repressed': 1, 'racist': 6, 'undertones': 1, 'negative': 19, 'behaviour': 1, 'til': 42, '*drops': 1, 'siri': 6, 'irobot': 2, '\\ue32c\\ue32a\\ue32c': 1, 'york': 32, 'jon': 13, 'carl': 7, 'beane': 2, 'fenway': 5, 'listened': 17, 'richard': 10, 'neer': 1, 'span': 3, 'weekends': 7, \"'80\": 1, 'blue': 63, 'apart': 21, 'problum': 1, 'spending': 31, 'blast': 33, 'www.blpdx.com': 1, 'special~': 1, '1713': 1, 'ne': 5, '15th': 10, 'crofoot': 1, 'calmly': 2, 'anymore': 71, '.they': 4, 'blunt': 2, 'force': 27, 'wool': 1, 'each': 98, 'is.': 1, 'scott': 31, 'cook': 24, 'π': 1, 'coronada': 1, '12noon': 1, 'potatoe': 1, '1996': 2, 'gaymarriage': 1, 'il': 14, 'drink': 94, 'awww': 28, 'agenda': 3, 'budget': 17, 'lines/grand': 1, 'inc.': 9, 'short': 62, '911': 2, 'gr8': 8, 'nite': 19, 'harborview': 1, 'marina': 5, 'va-bh': 1, 'market': 58, 'simulation': 1, 'fortune': 8, 'charity': 17, 'trash': 16, 'expect': 39, 'que': 6, 'pasa': 1, 'amiga': 1, 'sick': 109, 'shocked': 16, 'denver': 34, 'backing': 5, 'gritty': 2, 'frustrating': 11, 'painful': 12, 'living': 75, '6': 100, 'correlated': 1, 'pantent': 1, 'creation': 7, 'tuna': 7, 'salad': 29, 'croissant': 2, 'lettuce': 4, 'tomato': 8, 'provolone': 1, 'cup': 51, 'soup..': 2, '6.95': 2, '*chili': 1, 'chowder': 4, '50': 56, 'cents': 10, 'hardcover': 1, '15.91': 1, '14.99': 1, 'amazon': 22, 'takes': 54, 'paying': 21, 'eco-friendly': 3, 'dick': 34, 'clark': 13, 'visiting': 25, 'asu': 2, 'libraries': 19, 'archival': 1, 'catalog': 4, 'six': 25, 'bilingual': 4, 'mexican-american': 1, 'southwest': 7, 'deceptive': 1, 'obvious': 6, 'espn3': 1, 'front': 69, 'desk': 27, 'lon': 2, 'morris': 4, 'library': 58, 'protein': 4, 'supplements': 2, 'holodecks': 1, 'developers': 7, 'hang': 59, 'bug': 15, 'wherein': 1, '9,000+': 1, 'mysterious': 7, 'ajax': 1, 'requests': 11, 'fired': 10, 'apparent': 1, 'purpose': 18, '30': 67, 'seconds': 17, 'probability': 1, 'isnt': 17, 'accurate': 7, 'specially': 6, 'chances': 14, 'favor': 17, 'granderson': 1, 'bunt': 3, 'insurance': 16, 'khaled': 2, 'unfollow': 15, '167k': 1, 'ouch': 17, 'babysit': 6, 'precious': 17, 'dreamy': 2, 'stunning': 7, 'quiet': 28, 'extraordinary': 5, 'pedersen': 1, 'photography': 18, 'mikiep.com': 1, 'e5': 1, 'fiancé': 3, 'bruise': 1, 'bp': 3, 'camden': 2, 'yards': 8, 'bid': 8, 'side-stage': 1, 'gavin': 2, 'degraw': 1, 'august': 18, '12th': 12, 'jones': 30, 'beach': 61, 'senior': 26, 'dave': 24, 'rodgers': 9, 'toured': 2, 'grocery': 11, 'stores': 16, 'positive': 46, 'prospects': 4, 'secret': 40, 'diwali': 1, 'kno': 22, 'bin': 8, 'sayin': 17, 'gona': 3, 'hurt': 67, 'feelins': 1, 'gop': 24, 'senate': 14, 'majority': 8, 'galt': 2, 'creative': 29, 'playcallin': 1, 'wisc': 2, 'staffs': 1, 'stones': 7, 'brett': 9, 'loads': 7, 'baking': 5, 'brownies': 6, 'cupcake': 12, 'recipes': 14, 'punts': 1, 'blocked': 21, 'deliberately': 2, 'obtuse': 1, 'lunch': 112, 'stan': 4, 'ryno': 2, 'dallas': 40, 'youtube': 56, 'usernames': 1, 'xxxmalice': 1, 'organization': 14, 'supporting': 18, 'wifey': 7, 'nancy': 3, 'duarte': 1, 'tired': 125, 'sexy': 59, 'wealthy': 5, 'bills': 20, 'across': 56, '1-646-397-9817': 2, 'pixie': 1, 'dust': 7, 'hoo': 6, 'fad': 2, 'worried': 19, 'dumb': 40, 'child': 62, 'advocacy': 5, 'wreg': 1, 'lunchtime': 5, 'prevent': 7, 'abuse': 10, 'mamsummit': 2, 'g': 23, 'hiding': 12, 'paterson': 3, 'field': 50, 'tigers': 12, 'mid-cities': 1, 'greenville': 1, 'rivers': 6, 'steel': 8, '10:00': 3, 'complimentary': 4, 'calamari': 1, 'appetizer': 1, 'loudmouth': 1, 'kentucky': 23, 'ideally': 2, 'suited': 1, 'handheld': 1, 'gaming': 6, 'imo': 13, 'localization': 1, 'handled': 4, 'vic': 4, 'designs': 9, 'florida': 41, 'bought': 38, 'followme': 1, 'bungee': 1, 'jump': 32, 'dental': 6, 'floss..': 1, 'otpcrew': 1, 'list': 89, 'tastingthetown': 1, 'houston': 35, 'sponsors': 12, 'vendors': 5, 'attendees': 5, 'devil': 10, 'outta': 23, 'finale': 17, 'piercing': 3, 'near': 54, 'eye-': 1, 'heal': 3, 'beef': 17, 'broccoli': 6, 'spongebob': 9, 'smiles': 10, 'liking': 18, 'instant': 14, '90210.': 1, 'cmb': 1, 'bon': 13, 'jovi': 2, 'gurus': 1, '|': 45, 'chunky': 2, 'idk': 39, 'criticized': 1, 'choking': 3, 'criticize': 5, 'whoever': 9, 'perish': 2, '3:16': 1, 'april': 71, '29th': 3, 'slept': 8, 'curled': 3, 'comma': 5, 'pale': 2, 'elegant': 2, 'phrase.': 1, 'a.': 13, 's.': 5, 'byatt': 1, 'groupon': 9, 'normally': 6, 'cheaper': 6, 'turning': 20, 'example': 16, 'watched': 51, 'penguins': 6, 'debate': 24, 'stanley': 5, 'final': 68, 'game..': 2, 'pizza': 60, 'tastes': 9, 'fewer': 2, 'calories': 13, 'dogs': 34, 'ach': 1, 'global': 10, 'context': 12, 'regional': 5, 'dh': 7, 'association': 15, '1514': 1, 'amy': 15, 'mahomieshelpmahomies': 1, 'firstfriday': 1, 'friat5': 1, 'festivities': 6, 'ellie': 2, 'andy/bobby': 1, '8-9am': 1, 'machete': 1, 'greg': 14, '5/11': 1, 'pls': 21, 'shows': 67, 'amarylliswriter': 1, 'gmail': 14, 'rg3': 3, 'passed': 31, 'appreciative': 2, '105': 5, 'riv': 1, '4': 305, 'accounts': 9, 'screening': 11, 'lineup': 10, 'waiting': 105, 'line': 112, 'confirmed': 8, 'panelists': 3, 'presentation': 39, 'proposal': 7, 'amia': 1, 'kuzz': 1, 'trust': 62, 'bitches..': 1, 'scanning': 4, 'return': 28, 'lightness': 1, 'warren': 8, 'buffett': 1, 'sing': 35, 'china': 19, 'festival': 21, 'owl': 4, 'seems': 91, 'nest': 6, 'porch': 3, 'pretzel': 3, 'tca': 1, 'cliff': 4, 'hagagn': 1, 'commonwealth': 3, 'blue/white': 1, 'store': 69, 'uk': 40, 'stopkony': 1, 'coached': 4, 'actress': 8, 'film': 79, 'monster': 18, 'shame': 22, 'referral': 7, 'doll': 10, 'southern': 16, 'tier': 1, 'wny': 1, 'neighborhood': 12, 'attending': 21, 'venice': 4, 'needs': 158, 'housesitter': 1, 'patience': 19, '48': 4, 'miles': 31, 'sat/sun': 1, '1m': 1, '250': 8, 'burpees': 1, 'mon/tues': 1, 'semitruck': 1, 'hr': 21, 'feb': 19, '1931': 2, 'alka': 1, 'seltzer': 1, 'introduced': 7, 'mardi': 5, 'gras': 5, 'hmm': 25, 'upcoming': 26, 'ischool': 1, 'events': 34, 'bmore': 4, 'mayor': 22, 'george': 38, 'william': 14, 'council': 17, 'police': 36, 'commissioner': 1, 'francis': 5, 'grandson': 3, 'detained': 2, 'dope': 27, 'rhymecal': 1, 'mixtape': 18, 'reg': 7, 'hosting': 22, 'knowledgable': 2, 'cart': 7, 'gd': 4, 'wana': 3, 'puta': 1, 'stripper': 7, 'pole': 3, 'museum': 30, 'publishes': 1, 'content': 48, 'fundmt': 1, 'undermining': 2, 'mission': 25, 'digital': 35, 'culture': 21, 'places': 26, 'eastcoast': 1, '4-ish': 1, 'ducking': 1, 'kivcc': 1, 'phoenix': 8, 'chain': 13, '//bad': 1, 'imagine': 48, 'nhl': 12, 'contract': 21, 'partner': 14, '5pm': 20, 'darlin..': 1, 'spprt': 1, 'view': 22, 'upload': 9, 'makeover': 4, 'borrowed': 2, 'recommending': 3, 'weseed': 1, 'janet': 2, 'simons': 1, 'agha': 1, 'shahid': 1, 'ali': 16, 'clear': 45, 'distinction': 4, 'factual/textual': 1, 'interpretive': 1, 'materials': 11, 'element': 2, 'amazed': 10, 'heats': 3, 'rage..': 1, 'unavailable': 2, 'unreachable': 1, 'wrote': 19, 'peoples': 8, 'hated': 15, 'y': 45, 'cheats': 1, 'beyonce': 5, 'album': 79, 'freecomicbookday': 1, 'comic': 9, 'cano': 5, 'doubles': 4, 'jeter': 3, 'catchin': 2, 'feelings': 36, 'goin': 46, 'steady': 7, 'bite': 17, 'chant': 9, 'bigger': 34, 'somewhereinthehood': 2, 'theres': 25, 'crackhead': 1, 'tryna': 34, 'cheeseburger': 2, 'spare': 10, 'bestfriend': 10, 'messes': 2, 'wih': 1, 'realtor': 5, 'marketing': 41, 'behind': 68, 'simple': 35, 'www.zesmo.com': 2, 'whatgetsmemad': 1, 'push': 20, 'intentions': 1, 'though..': 4, 'fill': 26, 'resonates': 1, 'episode93': 1, 'drop': 38, 'wanterful': 1, 'talesofwant': 1, 'espresso': 3, 'ihaveanidea': 2, 'useful': 17, 'easy': 67, '3112': 1, 'hamster': 3, 'strasburg': 1, 'chin': 2, 'toyota': 2, 'commercials': 18, 'gross': 17, 'wvrst': 1, 'bison': 1, 'sausage': 12, 'duck': 16, 'fries': 14, 'tasty': 15, 'tummy': 7, '*rubs': 1, 'belly': 14, 'manner': 4, 'tracy': 4, 'jordan*': 1, 'depression': 8, 'hoover': 2, 'dam': 15, 'helped': 26, 'fuel': 11, 'decades': 4, 'darmen': 1, 'barista': 2, 'sense': 51, 'apr': 4, 'fools': 8, 'gag': 6, 'yellows': 1, 'usually': 38, 'plenty': 18, 'santonio': 1, 'qb': 18, 'controversy': 2, 'insists': 2, 'sanchez': 4, 'starter': 9, 'initial': 6, 'surveys': 2, 'post-doc': 1, 'seminar': 7, 'dreamweaver': 2, 'higher': 21, 'greater': 17, 'ability': 16, 'customize': 1, 'welp': 4, 'u..no': 1, 'readers': 10, 'buffalo': 9, 'radio': 87, 'personalities': 5, 'unreal': 5, '8': 81, 'straight': 61, 'website': 91, 'designers': 7, 'color': 46, 'lil': 72, 'shelly': 2, 'horoscope': 1, 'bringsz': 1, '167': 1, 'kanye': 5, 'lmaooooo': 1, 'craziest': 2, 'hide': 10, 'boners': 1, 'touche': 3, 'parade': 17, 'sbk': 1, 'pick': 106, 'lifestyle': 6, 'surf': 7, 'sand': 6, 'locations': 8, 'batting': 5, '.065': 1, 'leadoff': 1, 'cis': 1, 'translate': 3, 'outcomes': 5, 'socialfluency': 1, 'mr': 16, 'cuddle': 8, 'award': 26, 'chair': 12, 'excitement': 10, 'holster': 1, 'excuses': 12, 'dammit': 5, 'hayao': 1, 'miyazaki': 1, 'director': 23, 'ghibli': 1, 'films': 17, 'indoor': 8, 'strength': 20, 'however': 17, 'argue': 6, 'irrelavent': 1, 'prolly': 9, 'hella': 19, 'bent': 4, 'pointless': 7, 'nun': 4, 'vegan': 16, 'bonus': 10, 'families': 14, 'dare': 18, 'picture': 76, 'meat': 11, 'er': 8, 'microsoft': 13, 'products': 31, 'stalling': 2, 'alternatives': 2, 'no..': 2, 'frightened': 1, 'unpopular': 1, 'opinions': 8, 'roombas': 1, 'fooled': 2, 'click': 27, 'link': 70, 'alarm': 15, 'taxis': 2, 'sono': 1, 'qui': 1, 'italian': 20, 'min': 49, 'table': 32, 'sleepytime': 1, 'anywhere': 21, 'tights': 2, 'minnie': 2, 'mouse': 11, 'haha..does': 1, 'rested': 2, 'drank': 11, 'oj': 7, 'mexico': 24, 'necessity': 3, 'despite': 17, 'tamron': 1, 'smacks': 1, 'rw': 2, 'idiot': 21, 'sanghiljukahamnida': 1, 'enjoying': 61, 'brewing': 5, 'cheers': 33, 'horizontal': 2, 'cousin': 31, '2day': 14, 'aye': 15, 'two': 229, 'thrissy': 1, 'np': 17, 'crystal': 10, '6:30': 12, 'emailing': 3, 'client': 24, 'isreal': 1, 'satisfaction': 4, 'clients': 25, 'stubby': 1, 'tryed': 2, 'jim': 16, 'terrified.lmao': 1, 'mainly': 7, 'patio': 7, 'currently': 40, 'homie': 28, 'isupportmycityv4': 1, 'geneva': 3, 'wi': 17, 'chillin': 16, 'chilean': 3, 'carmenere': 1, 'fave': 15, 'w/fam': 1, 'doors': 25, '-evelyn': 1, 'k.': 5, 'lemar': 1, 'rude.rude.rude': 1, 'spiritual': 4, 'disgusting': 6, 'praise': 11, 'youth-proud': 1, 'pdx': 11, 'benefits': 17, 'murder': 8, 'equally': 5, 'bleak': 2, 'richer': 2, 'compelling': 2, 'luigi': 2, 'korean': 4, 'nabbed': 1, '-.-': 39, 'me.why': 1, 'tribe': 9, 'cups': 7, 'pam': 5, 'yeahs': 1, 'proud': 96, 'loyal': 11, 'founding': 2, 'harrington': 1, 'alumni': 11, '4pm': 12, 'begins': 28, 'mental': 14, 'model': 29, 'develop': 12, 'understanding': 17, 'rofl': 2, 'hahahah': 14, 'passion': 31, 'strongly.': 1, 'prayers': 24, 'abraham': 4, 'prayed': 1, 'behave': 5, 'release': 58, '1040': 2, 'dream': 95, 'tmt': 1, 'republicans': 10, 'gotten': 24, 'anything': 188, 'democrats': 7, 'pet': 24, 'abroad': 9, 'embassy': 3, 'requirements': 5, 'brought': 30, 'austins': 2, 'gunna': 12, 'reservation': 1, 'og': 5, 'heated': 4, 'asshole': 14, 'mrs.wills': 1, 'thrown': 10, 'produced': 5, 'vivid': 1, 'cheeses': 3, 'produce': 6, 'types': 15, 'thx': 74, 'tchochskies': 1, 'spelling': 7, 'barely': 15, 'mall..this': 1, 'packed': 14, 'correspond': 1, 'report': 42, 'mature': 5, 'pretend': 13, 'notice': 34, 'tweetin': 4, 'walkin': 3, 'soundtrack': 9, 'answers': 23, 'babyboy': 1, 'caseyanthoney': 1, \"it'sastateofemergency\": 1, 'jw': 3, 'captain': 8, 'andy': 9, 'hillstrand': 1, 'bandit': 1, 'deadliest': 1, 'joins': 4, 'boutz': 1, 'fight': 70, 'skool..this': 1, 'runnin': 3, 'noah': 7, 'you♥': 1, 'beautifully': 6, 'demo': 9, 'pit': 5, 'winner': 31, 'announced': 16, 'crowd': 22, 'liz': 8, 'steal': 13, 'honey': 31, 'offline': 3, 'transmission': 2, 'listed': 4, 'rating': 7, 'homie.you': 1, 'flyer': 2, 'nowplaying': 18, 'potluck': 1, 'fullest': 3, 'serve': 17, 'dorothyheight': 1, 'received': 29, 'presidents': 5, 'bound': 17, 'answered': 8, '🙏': 2, 'lock': 19, 'button': 21, 'ipod': 19, 'functional': 5, 'screebshots': 1, 'magical': 8, 'amazingness': 2, 'thelonious': 1, 'monk': 2, 'corners': 5, 'unique': 15, 'gotribe': 4, 'ima': 34, 'assholeness': 1, 'nmsplc': 1, 'expert': 15, 'balance': 15, 'craig': 10, 'barrett': 4, 'reminding': 5, 'i.d.entity': 1, 'facebook.com/amfadband': 1, 'set': 111, 'ct': 4, 'frontieer': 1, 'knowledge': 20, 'happiest': 4, 'saddest': 2, 'remind': 18, 'mystery': 4, 'yahoo': 15, 'lovey': 3, 'yew': 3, 'changeofplans': 1, 'franklin': 9, 'verrryy': 1, 'mario': 8, 'bloodstream': 2, 'shit..what': 1, 'buys': 8, 'hat': 24, 'bolts': 2, 'unattended': 1, 'remotes': 1, 'grammys': 7, 'drake': 16, 'tux': 3, 'opportunity': 51, 'evening': 54, 'ended': 23, 'freelance': 1, 'spokesman': 2, 'catching': 35, 'coulda': 4, 'spent': 47, 'hanging': 42, 'chatting': 17, 'tests': 13, 'un-grand': 1, 'presenting': 19, 'cue': 8, 'melt': 4, 'referees': 3, 'fleetwood': 1, 'merch': 5, 'stranded': 2, 'snow': 44, 'freezing': 6, 'holds': 10, 'viewings': 1, 'spread': 32, 'wide': 17, '2233': 1, 'park': 92, 'infragistics': 1, 'registered': 2, 'investors': 8, 'approve': 8, 'scandal-hit': 1, 'olympus': 1, 'airport': 37, 'o___o': 2, 'ova': 6, 'kicked': 16, 'misunderstand': 1, 'asking': 48, 'possibility': 4, 'cops': 13, 'pressurized': 1, 'taco': 15, 'flatulence': 2, 'awwee': 1, 'shouldve': 1, 'soup': 32, 'rting': 4, 'pastor': 9, 'ncsu': 1, 'grad': 21, 'nineveh': 1, 'unc': 5, 'cloud': 20, 'office': 107, 'collaboration': 14, 'productivity': 4, 'applications': 8, 'shares': 5, 'strategies': 6, 'forecasts': 1, 'worldwide': 6, 'commiting': 1, 'grandmother': 3, 'dirty': 30, 'joke': 52, 'tix': 24, 'judas': 1, 'priest': 1, '222-6000': 1, 'comfirming': 1, 'baba': 2, 'four': 45, 'weeks..': 1, 'essence': 3, 'bouts': 4, 'gator': 2, 'hd': 7, 'nightcore': 1, 'segment': 8, 'steve': 45, 'dolinksy': 1, 'a.k.a': 2, 'hound': 4, 'airs': 6, 'abc-7': 1, '11': 48, 'a.m.': 14, 'gems': 3, 'tucked': 2, 'pants': 56, 'seem': 51, 'extent': 4, 'defend': 7, 'creep': 11, 'species': 2, 'cullen': 1, 'played': 61, 'goodwin': 1, 'stanhope': 1, 'emerson': 8, 'killed': 37, 'hurts..it': 1, 'designer': 11, 'lovely': 53, 'havent': 17, 'betr': 1, 'remembering': 10, 'vanish': 1, 'teh': 2, 'neighbors': 15, 'barking': 4, 'backyard': 4, 'neglect': 2, 'surprising': 8, 'senator': 2, 'inhofe': 1, 'instrumntal': 1, 'planned': 21, \"'racist\": 1, 'ad': 32, 'agnst': 1, 'pres': 5, 'debutante': 1, 'cotillion': 1, 'cheapter': 1, 'spalding': 1, 'champion.': 1, 'located': 9, 'louisville': 14, 'caring': 14, 'brake': 1, 'specialists': 4, '512': 1, '795-4066': 1, 'logged': 4, 'poof': 2, 'dang': 21, 'meaning': 16, 'awhile': 19, 'crooked': 2, 'you.': 9, 'device': 5, 'participate': 9, 'gsmc': 1, 'global.social.media.chat': 1, 'floating': 1, 'stephanie': 5, 'auditions': 10, 'misty': 5, 'wives': 3, '*fingers': 1, 'crossed*': 1, 'itsawkwardwhen': 1, 'upset': 28, 'mistake': 14, 'preparing': 15, 'liver': 2, 'forcing': 2, 'tips': 31, 'advice': 53, 'autocorrect': 5, 'substituted': 1, 'ballet': 10, 'baller': 4, 'un-baller': 1, 'staying': 35, 'privacy': 7, 'displays': 3, 'coincidence': 7, 'opinion': 27, 'biggest': 34, 'corporate': 13, 'producers': 7, 'educational': 7, 'khan': 2, 'admitted': 2, 'limitations': 6, 'videos': 44, 'loviee': 1, 'posted': 45, 'later': 124, 'recovering': 6, 'consists': 7, 'wifi..': 1, 'freak': 10, 'bennett': 3, 'uconn': 3, 'transfer': 6, 'oriakhi': 1, 'overall': 14, 'mmkay': 1, 'proofread': 3, 'bands': 13, 'storms': 9, 'unlimited': 4, 'mini-golf': 2, 'womhouse.com': 1, 'resume': 15, 'tx': 15, 'applies': 3, '-jason': 1, 'stranger': 16, 'underwear': 9, 'empty': 16, 'dryer': 3, 'damnyou': 1, 'makemefeelawkward': 1, 'fyl': 1, 'airborne': 1, 'particles': 1, 'flushing': 1, 'toilet': 8, 'toothbrush': 7, 'turkey': 24, 'hot..': 1, 'phase': 7, 'hcg': 1, 'loaded': 5, 'explode': 4, 'injections': 1, 'nor': 12, 'overly': 5, 'nine': 10, 'realize': 49, 'craiglist': 1, 'mississippi': 3, 'cost': 20, 'livin': 8, 'cheap': 29, 'sagawards': 1, 'outstanding': 9, 'actor': 13, 'betty': 12, 'malya': 1, 'difficult': 17, 'rural': 2, 'streetpizza': 1, 'itself': 15, 'offering': 19, 'slice': 12, 'tortorella': 1, 'toasty': 3, 'aircraft': 2, 'steverudinabc7': 1, 'returned': 10, 'dp': 3, 'mutiny': 2, 'pujols': 5, 'traded': 3, 'sheet': 12, '.go': 1, 'chapter': 22, 'judge': 29, 'cramps': 5, 'classroom/teaching': 1, 'shooting': 34, '`s': 1, 'views/comments': 1, 'that`d': 1, 'jeebus': 1, 'magnet': 2, 'sebastian': 4, 'packers': 29, 'poop': 14, 'hangover': 15, 'a5': 3, 'derrick': 6, 'rose': 27, 'tore': 3, 'acl': 6, 'bubble': 5, 'tea': 35, 'maker': 2, '11:11': 4, '❤': 21, 'preciate': 4, 'wisdom..no': 1, 'palm': 5, 'powerful': 25, 'boyzareback': 1, 'idgof': 1, 'boyz': 19, 'slellc': 1, 'mtviggy': 1, 'bringing': 28, 'oaks': 1, '1.5': 4, '1.5.': 1, 'understand': 102, 'audio': 11, 'asimplewhitename': 1, 'o.j': 2, 'tattoo': 21, 'opening': 73, 'manfred': 2, 'mann': 6, 'charles': 15, 'quartet': 2, 'adding': 31, 'studs': 2, 'spikes': 3, 'gear': 16, 'fetish': 2, 'central': 24, 'yummyness': 1, 'reception': 15, 'rapping': 6, 'ichat': 2, '-____-': 11, 'ucd': 2, 'children': 56, 'hospital': 30, '855-880-6555': 1, 'donate': 18, 'careathon': 1, 'tgif': 9, 'pins': 9, 'thankful': 43, 'hug': 20, 'unsuccessful': 3, 'do.': 1, '―': 8, 'paul': 45, 'dejoria': 1, '3wordsforyou': 6, 'marlies': 1, 'del': 7, 'zotto': 1, 'laws': 12, 'robotics': 1, 'appear': 9, 'contradict': 1, 'smoking': 23, 'ohh': 26, 'tweak': 2, 'giallo': 1, 'horrendous': 3, 'adrien': 1, 'brody': 3, 'killer': 16, 'cabaret': 2, 'october': 20, 'emotional': 11, 'dealshow': 1, 'www.dealshow.com': 1, 'rangers': 22, 'ballpark': 2, 'arlington': 2, 'ward5': 1, 'advisory': 6, 'toothpicks': 1, 'poke': 3, 'boredom': 7, 'stand': 68, 'alone': 68, 'teammate': 2, 'blame': 36, 'failures': 9, 'posts': 20, 'cotelco': 1, 'associates': 4, 'graduating': 15, 'extrememly': 1, 'pinching': 2, 'mane': 5, 'darlene': 1, 'cavalier': 1, 'engaging': 6, 'citizens': 4, 'society': 23, 'outreach': 3, 'sciencecheerleader.com': 1, 'bummed': 6, 'spanish': 24, 'picked': 36, 'nate': 11, 'tice': 1, 'quarterback': 1, 'tournament': 23, 'ross': 9, 'hitter': 5, 'sox': 26, 'wow': 231, '2007': 5, 'micky': 1, 'squeak': 1, 'xena': 2, 'headgear': 1, 'kept': 22, 'corner': 40, 'squares': 1, 'sashes': 1, 'sewn': 2, 'huff': 1, 'strap': 3, 'rally': 15, 'thong': 2, 'charging': 5, 'tmi': 2, 'shutup': 1, 't-minus': 4, '12': 66, 'prayer': 13, 'bless': 25, 'skype': 24, 'carlos.bello507': 1, 'strive': 3, 'cp3': 4, 'tony': 18, 'allen': 14, 'biz': 30, 'finding': 35, 'strange': 21, 'errors': 4, 'kindle': 25, 'paperback': 1, 'knees': 5, 'rhobh': 1, 'seeger': 1, 'wringing': 2, 'alignment': 1, 'wed.': 8, '7-10': 1, 'fresco': 2, 'fay': 1, 'sound': 86, '.debut': 1, 'yummy': 22, 'cannabis': 3, 'patients': 9, 'disagree': 14, 'sca2012': 1, 'sca': 1, 'curation': 2, 'heather': 7, 'yager': 1, 'selecting': 2, 'open-source': 1, 'software': 20, 'called': 131, 'mushroom': 7, 'gus': 2, 'frank': 8, 'treatment': 11, 'emails': 18, 'how2makeablackpersonmad': 2, 'purse': 6, 'satchel': 1, 'wears': 6, 'no-one': 1, 'closed': 42, 'moose': 4, 'publixs': 1, 'nearly': 18, 'adversity': 4, 'lincoln': 12, '1809-1865': 1, 'priceless': 11, 'scoop': 11, 'em': 50, 'knicks': 15, 'bt': 6, 'melo': 6, 'thang': 6, 'stupidest': 2, 'android': 25, 'leading': 16, 'country-western': 1, 'benefit': 18, 'gala': 10, '2nite': 15, 'toys': 10, 'canned': 3, 'goods': 7, 'ton': 20, 'scholarships': 3, 'leyla': 1, 'problems': 54, 'faced': 3, 'wisconsin': 32, 'level-': 1, 'fitzgerald': 5, 'epic': 21, 'wisdom': 16, '2yo': 1, 'begs': 2, 'aquarium': 2, 'turns': 23, 'ramps': 2, 'escalators': 1, 'cliche': 4, 'silicon': 2, 'greek': 8, 'columns': 2, 'sweetheart': 6, 'worshipped': 1, 'kiss': 30, 'gettin': 34, 'authors': 7, 'writer': 19, 'almanac': 1, 'jen': 6, 'vernon': 3, 'ketchikan': 1, 'wrestling': 7, 'writersalmanac.publicradio.org/': 1, 'susan': 7, 'hutchison': 1, 'fundamentalist': 2, 'anti-evolution': 1, 'conservakook': 1, 'explains': 3, 'explain': 32, 'reach': 28, 'santorum': 18, 'programs': 23, 'definition': 13, 'conservatism': 2, \"g'morning\": 2, 'tweetsters': 1, 'equality': 7, 'wwe': 5, 'informer': 1, 'boss': 41, 'advanced': 8, 'wassup': 6, 'assistance': 5, 'homemade': 7, 'brownie': 5, 'scratch': 10, 'simone': 2, 'emma': 7, 'ex': 21, 'recent': 19, 'romocalls': 1, 'copabanana': 1, 'between': 85, '6-10.': 1, 'bartending': 3, 'gun': 20, 'nail': 21, 'nailed': 2, 'smoke': 33, 'edge': 15, 'crediting': 2, 'teams': 47, 'decision': 17, 'oakland': 15, 'riot': 6, 'flowers': 17, 'placed': 4, 'protests': 2, 'chemical': 5, 'agents': 8, \"c'mon\": 21, 'oxygen4energy': 2, 'nichole': 1, 'wangsgard': 1, 'presbyterian': 1, 'invitational': 2, 'crit': 1, 'nc': 12, 'pics': 53, 'clarence': 1, 'burgled': 1, 'amuses': 1, 'mccain': 5, 'usa': 30, 'boarded': 1, 'plane': 24, 'strangely': 3, 'filming': 12, 'handouts': 1, 'competition': 29, 'guidelines': 5, 'adv3340': 1, 'campaign': 36, 'fairy': 6, 'tales': 3, 'ferguson': 1, 'douche-bags': 1, 'axing': 2, 'goodbye': 17, 'bride': 6, 'iver': 3, 'skate': 5, 'neither': 21, 'somethingg': 1, 'curbside': 1, 'inside': 53, 'rates': 15, 'forest': 7, 'cake': 46, 'drenched': 2, 'kirch': 1, 'hits': 18, 'belltown': 1, 'arentyoutiredof': 1, 'cab': 12, 'rebecca': 7, 'seat': 19, 'katt': 1, 'willi': 1, 'habitat': 2, 'accepts': 1, 'political': 24, 'affiliation': 1, 'orientation': 3, 'background': 18, 'valentine': 18, 'starbucks': 32, 'momentum': 6, 'comeback': 12, 'victory': 17, 'palesoxs': 1, 'cbsnjdebate': 1, 'numbersusa': 1, 'insightful': 3, 'silent': 20, 'sophialoren': 1, 'spaghetti': 4, 'manly': 3, 'slide': 14, '.and': 6, 'highbloodpressure': 1, 'ways': 46, 'combat': 6, 'mindless': 4, 'sup': 4, 'pittsburgh': 22, 'wonderland': 3, 'hawk': 6, 'hacksaw': 1, 'duggan': 1, 'faucet': 2, '💦😏': 1, 'beats': 38, 'weiner': 3, 'pulls': 3, 'headline': 4, 'bipartisan': 3, 'newscorp': 1, 'typo': 7, 'spicy': 6, '18': 30, 'someday': 20, 'neversaynever': 5, 'count': 48, 'somewhere': 30, 'thrilled': 14, 'subs': 1, 'seated': 1, 'arrived': 18, 'tables': 8, 'dunk': 8, 'title': 37, 'acceptance': 5, 'speech': 29, 'thanked': 2, 'cowboys': 16, 'cheerleaders': 2, 'lovin': 12, 'wi-fi': 2, 'burbank': 3, 'marry': 24, '\\ue327': 1, 'undead': 1, 'nightmare': 5, '360': 9, 'mw3': 5, 'duty': 14, 'doug': 7, 'portfolio': 5, '..for': 1, 'drawings': 3, 'held': 13, 'sugar': 17, 'un': 7, 'fortunate': 5, 'status': 36, 'discovered': 17, 'wave': 19, 'babies': 13, 'tennis': 6, 'pasco': 1, 'clip': 10, 'tempranillo': 1, 'cholera': 1, 'cupid': 2, 'laura': 7, 'bl': 1, 'perhaps': 24, 'visions': 1, 'drive': 96, 'benefiting': 3, 'bank': 24, 'putitdown': 1, 'textin': 2, 'hoe': 28, 'jagger': 4, 'throne': 3, 'giant': 17, 'cardboard': 2, 'propped': 1, \"'tron\": 1, 'and.i': 1, 'deranged': 2, '17th': 6, 'inning': 13, 'closer': 26, 'adopting': 1, 'vibes': 7, '2tone': 1, 'released': 13, 'dlfforum': 1, 'dmp': 1, 'tool': 17, 'surfaces': 1, 'anecdotal': 1, 'nsf': 1, 'rejects': 3, 'proposals': 4, 'data': 49, 'management': 19, 'nickelback': 2, 'appearance': 12, 'riffs': 1, '88': 4, 'cheering': 9, 'include': 29, 'freezepops': 1, 'soakers': 1, 'arroyo': 1, 'pitching': 10, 'balls': 19, 'due': 53, 'strikes': 6, 'darn': 16, 'unacceptable': 3, 'texas': 33, 'freelancers': 2, 'woken': 3, 'clay': 5, 'bradford': 2, '33': 18, 'if11': 1, 'sustainability': 2, 'ex-fiance': 1, 'arm': 10, 'milwaukee': 44, 'dire': 1, 'harder': 28, 'downtown': 41, 'd-wade': 3, 'chalmers': 1, 'involved': 27, 'kansas': 19, 'coughing': 1, 'uncontrollably': 1, '6:20': 1, 'flight': 47, 'onwards': 2, 'below': 11, 'focus': 49, 'solutions': 9, 'istv': 1, 'discussing': 11, 'finer': 2, 'aspects': 2, 'journalism': 7, '107th': 1, 'p0pin': 1, 'gwar': 1, 'showing': 30, 'hog': 3, 'greet': 10, 'faculty': 7, 'vs': 63, 'ms': 12, 'sang': 11, '94': 6, 'turntoyou': 2, 'began': 9, '1994': 2, 'birthyear': 1, '😭💜': 1, 'cracks': 5, 'door': 58, '*snort*': 2, 'snoogers': 1, 'jerks': 4, 'disappoint': 4, 'envy': 3, 'murdering': 2, 'exists': 5, 'mostly': 26, 'i.e': 9, 'cain': 6, 'abel': 3, 'avoid': 18, ',i': 1, 'brag': 11, 'luvin': 1, 'johnlegend': 1, 'whether': 36, 'general': 32, 'ps3': 5, 'fml': 12, '\\ue416\\ue113': 1, 'x♥♥♥♥♥♥♥': 1, 'empire': 10, 'expanding': 8, 'unconditionally': 2, 'superpower': 1, 'mindset': 5, 'tbd': 3, 'mexican': 17, 'leftovers': 2, 'regular': 21, 'drawing': 20, 'entry': 9, '20th': 12, 'tornados': 3, 'gnarly': 2, 'earthquakes': 2, 'whore': 11, 'producer': 13, 'genius': 26, 'godspell': 2, 'page': 101, 'nytimes': 6, 'nonprofit': 7, 'enewsletter': 1, 'mark': 40, 'calendars': 3, 'cow': 5, 'squeeze': 6, 'dangly': 1, 'ss': 4, 'lilgay': 1, 'jouer': 1, 'lipgloss': 1, 'glisten': 1, 'mia': 5, 'helpful': 15, 'studying': 21, 'resource': 5, 'lrnchat': 2, 'f2f': 1, 'networking': 18, 'humid': 3, 'fricken': 3, 'idol': 24, 'vacation': 34, 'facing': 7, 'consequences': 5, 'vera': 4, 'cn': 2, '4good': 1, 'evil': 19, 'judging/manipulating': 1, 'mindful': 2, 'conscience': 4, 'guide': 12, 'swimming': 10, 'work-y': 1, 'pushed': 8, 'div': 3, 'id': 31, 'padding': 1, '150px': 1, 'wishes': 19, 'interviewing': 9, '80s': 11, 'sexroom': 1, '😍😘😉': 1, 'rooms': 9, 'chief': 8, 'rockin': 11, 'nights': 37, 'smarter': 11, 'charlie': 15, 'kite': 1, 'burn': 30, 'pumpkin': 11, 'seeds': 7, 'flip': 15, 'finger': 20, 'index': 3, 'chucking': 1, 'deuces': 2, 'surpassed': 1, 'grizzgala': 1, 'fundraising': 3, 'auction': 14, 'goal': 55, 'ouaa': 1, 'scholarship': 7, 'endowment': 1, 'donations': 11, '15.00': 1, 'booster': 3, '2:00pm': 2, 'fnm': 1, 'massachusetts': 3, 'ambassadors': 2, 'fourth': 14, 'annual': 27, 'samee': 1, 'baee': 1, 'cafe': 12, 'cobb': 1, 'persian': 2, 'could..': 1, 'trophy': 7, 'pelkey': 1, 'twos..': 1, 'mix': 34, 'todays': 11, 'hackathon': 2, 'triple': 15, 'ot': 15, 'no-hitter': 3, 'sports': 58, 'swagg': 6, 'belieber': 5, 'spell': 14, '1800': 2, 'congress': 15, 'approved': 3, 'establishing': 1, 'delish': 6, \"jo'burg/jozi/egoli\": 1, 'chaotic': 1, 'simply': 21, 'massive': 12, 'hatchback': 2, 'mitch': 6, 'mcconnell': 2, 'confirm': 6, 'protect': 19, \"'no\": 3, 'yessir': 9, 'corp': 5, 'librarian': 12, 'mls': 4, 'services': 26, 'exp': 5, 'skyrim': 4, 'glitches': 1, 'promising': 5, 'historical': 7, 'pub': 15, 'cornwell': 1, 'fort': 3, 'revolution': 13, 'linda': 3, 'hating': 13, 'instagram': 34, 'fingers': 29, 'crossed': 15, 'pr': 21, 'pst': 4, 'prmobile': 1, \"m'dear\": 1, 'shades': 6, 'breakdown': 3, 'sponsorship': 3, 'palmbeach': 1, 'autism': 11, 'bit.ly/sponsorshipopportunities': 1, 'matty': 4, 'ice=mr.softee': 1, 'organic': 7, 'polos': 1, 'steelers': 8, 'passes': 15, 'martin': 33, 'luther': 9, 'king': 53, 'engaged': 5, 'movement': 20, 'ancestors': 2, 'dixiecrats': 1, 'vigilantes': 1, 'invent': 3, 'whom': 11, '9-5': 2, 'tad': 4, 'dan': 15, 'cosugi12': 1, 'baker': 9, 'taylor': 28, 'accountability': 2, 'harpercollins': 2, '26': 14, 'fix': 38, 'impact': 21, 'c.': 11, 'k': 31, 'prahalad': 1, 'co-creation': 1, 'demand': 9, 'chef': 20, 'joes': 2, 'pollestra': 1, 'handle': 30, 'shawfacts': 1, 'andrew': 17, 'shaw': 6, 'innocent': 7, 'bday': 36, 'minifig': 1, 'shoulda': 4, 'suns': 8, 'napa': 2, '1get1': 1, 'sucker': 6, 'internpro': 1, 'lively': 1, 'coochy': 1, 'coo': 7, 'vetting': 1, 'charro': 1, 'v.p': 1, 'raf': 1, 'pilots': 3, 'buzzing': 3, 'sunbathers': 1, 'cleared': 5, 'happen..make': 1, 'comment': 31, 'deputy': 4, 'attorney': 6, 'asks': 12, 'furloughed': 2, 'criminals': 1, 'provide': 23, 'related': 14, 'self': 55, 'administered': 1, 'tools': 19, 'grouplove-colours': 1, 'onenote': 2, 'organize': 8, 'letters': 8, 'documents': 6, 'naughty': 5, 'comedian': 4, 'mulling': 1, 'marriage': 39, 'dancing': 34, 'absolute': 9, 'http': 7, '//massiverocketradio.com': 1, 'predictions': 5, '2009': 12, 'specific': 16, 'tweeps': 25, '..hilarious': 1, 'ricky': 11, 'smiley': 2, 'mornings': 11, 'fer': 3, 'taggy': 1, 'supe': 1, 'phil': 15, 'stover': 1, 'closures': 1, 'barrera': 2, 'somebody': 68, 'prove': 16, 'doubt': 34, 'delayed': 6, 'denied': 2, 'zones': 3, 'lana': 3, 'handbags': 2, 'nandos': 1, 'dd': 10, 'remove': 8, 'breezy': 5, 'light': 75, 'luminous': 2, 'asleeeeppp': 1, 'discriminate': 2, 'masterbate': 1, 'indeed': 49, 'i.': 9, 'sink': 4, 'fell': 30, 'bollinger': 1, 'glen': 4, 'greenwald': 1, 'yuck': 2, 'maddow': 1, 'assholes': 5, 'gap': 8, 'creates': 12, 'gaps': 2, 'waist': 6, 'newsletter': 5, 'throughs': 1, 'niece': 6, 'auntie': 4, 'grown': 17, \"ma'am\": 6, 'muthafuckin': 1, 'reposts': 1, 'curating': 1, 'cxcw': 1, 'bbking': 1, 'bluesville': 1, 'guessing': 10, 'hmu': 4, 'lending': 1, 'ties': 7, 'anger': 10, '~czech': 1, 'proverb': 15, 'muppet': 2, 'solution': 23, 'kony': 4, 'invading': 1, 'uganda': 1, 'setting': 21, 'puppet': 6, 'govt': 6, 'urban': 10, 'noise': 9, 'dazed': 2, 'knock': 26, '\\ue056': 3, 'aaron.tv': 1, 'dover': 1, 'publications': 3, 'ditch': 4, 'decent': 9, 'relax': 20, 'reasonable': 4, 'hearing': 39, 'furman': 1, 'leventis': 1, 'discuss': 19, 'agile': 2, 'programming': 6, 'techniques': 6, '-will': 1, 'keepin': 3, 'rate': 11, 'philly': 28, 'soar': 1, 'a9': 1, 'mahogany': 1, 'minds': 11, 'bbq': 18, 'txt': 18, 'grub': 5, 'layout': 4, 'churros': 1, 'weekend-': 2, 'hashtag': 15, 'gorogue': 1, 'pubmedia': 2, 'innovators': 4, 'athletics': 4, 'period': 31, 'illegal': 2, 'scopes': 1, 'goo': 5, 'missouri': 8, 'kent': 1, 'decade': 6, 'urd': 1, 'blissful': 2, 'ignorance': 8, 'preferable': 2, 'server': 14, 'vpn-co34': 1, 'openvpn': 1, 'ssl': 1, 'oppose': 4, 'reasons': 21, 'natural': 23, 'rhythm': 7, 'cycles': 2, 'aim': 9, 'integrate': 5, 'independent': 16, 'leyland': 1, 'inge/raburn': 1, 'struggling': 13, 'espejoa': 1, 'mini-dress': 1, 'adore': 5, 'flirty': 1, 'shape': 19, 'trinity': 4, 'baptist': 3, 'warm': 48, 'inspiring': 26, 'sermon': 5, 'jumped': 8, 'readin': 1, 'gay': 46, 'stance': 3, 'flip-flopped': 1, 'overslept': 1, '6am': 5, 'potsdam': 1, 'educators': 3, 'supposed': 38, 'salaries': 4, 'slashed': 1, 'clover': 1, 'brewed': 4, 'willow': 3, 'mahone': 14, 'whatsoever': 4, 'paintball': 3, 'shoot': 61, 'bike': 43, 'riding': 13, 'idiots': 11, 'stripe': 2, 'refreshing': 6, 'arent': 4, 'avengers': 30, 'derek': 10, 'lowe': 4, 'cleveland': 19, 'kfc': 4, 'candy': 27, 'challenging': 8, 'certified': 8, 'excel': 3, 'hundred': 10, 'enroll': 2, 'grizzly': 2, 'turbulance': 1, 'seein': 2, 'disposition': 2, '87': 3, 'stl': 4, 'sweltering': 1, 'panting': 1, '4/2': 1, 'tempted': 10, 'react': 6, 'pioneerof': 1, '~deepakchopra': 1, 'geez': 9, 'parties': 17, 'suppressors': 1, 'silencer': 1, 'airsoft': 2, 'shannon': 5, 'kathy': 1, 'troccoli': 1, 'babe': 32, 'ruth': 4, 'doubleheader': 1, 'logos': 3, 'created': 29, 'proved': 4, 'daughter': 45, 'combo': 13, 'agt': 4, 'deal': 85, 'date..': 2, 'wallet': 3, 'debit/credit': 1, 'plug': 14, 'talented': 22, 'res': 1, 'omw': 4, 'bumping': 5, 'generators': 1, 'lateral': 1, 'associative': 1, 'blends': 2, 'di': 4, 'grace': 11, 'actively': 3, 'monitors': 2, 'tablet': 4, 'smartphones': 2, 'normal': 26, 'jimmy': 17, 'allowed': 21, 'goals': 31, 'shots': 24, 'percentage': 2, 'bottom': 26, 'flippedoff': 1, 'investing': 7, 'estate': 19, 'crean': 1, 'touché': 3, 'coma': 3, 'portland': 36, 'locking': 4, 'burnin': 2, 'fuse': 2, 'bunch': 38, 'howdy': 2, 'visualization': 2, 'technique': 6, 'imagining': 1, 'violet': 2, 'healing': 3, 'lightning': 10, 'bgs': 1, 'sneak': 13, 'aty': 1, 'radeon': 1, 'x1600': 1, 'beta': 11, 'drivers': 9, 'madison': 23, 'chamber': 5, 'commerce': 8, 'expo': 21, 'hospitality': 3, 'yay': 82, 'servings': 1, 'jug': 1, 'bristal': 1, 'westbury': 2, 'essay': 9, 'hermione': 2, 'attacked': 8, 'troll': 3, 'mile': 16, 'funding': 8, 'sandusky': 2, 'refusing': 2, 'internal': 3, 'records': 12, 'victims': 2, \"'bad\": 1, 'continues': 16, 'races': 9, 'lack': 24, 'lackluster': 1, 'candidates': 10, 'fresh': 49, 'sam': 14, 'openings': 4, 'rita': 1, 'salon': 13, 'ramsey': 1, 'e-mails': 2, 'further': 10, 'tend': 12, 'slighted': 1, 'n.': 4, 'taleb': 1, 'bay': 27, 'option': 18, 'blacklist': 1, 'application': 17, 'modern': 16, 'eurydice': 1, 'previews': 1, 'catcher': 3, 'fastest': 7, 'path': 14, 'bigs': 4, 'tyrion': 2, 'drinking': 43, 'driveing': 1, 'geting': 1, 'january': 17, 'shock': 7, 'regardless': 7, 'nyr': 7, 'nyy': 2, 'webby': 2, 'humor': 15, 'letter': 17, 'blog': 84, 'gainesville': 1, 'promote': 17, '6-8pm': 4, '352-372-3700': 1, 'bingo': 4, '{': 14, 'chuckles': 2, '}': 13, 'nato': 4, 'protestors': 2, 'asses': 8, 'up..lol': 1, 'supervisors': 5, 'popular': 25, 'p.s': 10, 'lmaoooo': 3, 'rice': 16, 'crispy': 4, 'treats': 9, 'vanilla': 9, 'creeps': 3, 'spider': 9, 'honestly': 30, 'ice': 76, 'aquarius': 2, 'values': 11, 'independence.': 1, 'alex': 22, 'smell': 30, 'smelling': 6, 'jasmine': 8, 'roses': 10, 'lilacs': 1, 'cone': 5, 'tierney': 1, 'fairchild': 1, 'turnaround': 2, 'poverty': 13, 'edleaders': 1, 'sreb': 1, 'leadership': 20, 'forum': 19, 'weather..': 1, 'sharks': 5, 'speedo': 2, 'too..': 4, 'playlist': 9, 'curse': 12, 'mandeville': 1, 'freshest': 2, 'air': 56, 'ppc': 1, 'aunt': 16, 'silly': 21, 'somehing': 1, 'sunset': 8, 'tweeters': 8, 'time-stopping': 1, 'half-alien': 1, 'masterpiece': 4, 'musicalstop.com': 1, 'indie': 16, 'anti-endorsemnt': 1, 'harley': 7, '7am': 9, 'core': 11, 'strengthening': 1, 'ease': 4, 'backpain': 1, 'stabilizes': 1, 'spine': 3, 'chilln': 2, 'tonight..': 8, '4-6pm': 3, 'sushi': 22, 'wine': 72, 'beer': 85, 'cocktails': 8, '11/1': 1, '8:30-9:30am': 1, '11am': 15, '1pm': 8, 'handed': 5, 'muahahahaha': 1, 'cruces': 1, 'kevin': 19, 'awaits': 4, 'ramen': 9, 'interest': 33, 'crap': 44, 'letting': 29, '2dem': 1, 'embarrassed': 3, 'mentioned': 18, 'popularity': 4, 'mattering': 1, 'consumes': 1, 'anerexic': 1, 'starve': 3, 'themselves': 31, 'metabolism': 3, 'ratchets': 2, 'soft': 6, 'shoe': 15, 'yrs': 21, 'eight': 7, 'bostonian': 2, 'loudest': 3, 'twitterverse': 6, 'emp': 1, '66828': 1, 'present': 24, 'accounted': 1, 'pacbradley': 1, 'faceoff': 2, 'tivo': 1, 'trouble': 26, 'eddie': 7, 'southport': 1, 'liars': 5, 'wound': 2, 'uncle': 16, 'virginia': 15, 'arizona': 16, 'cutting': 20, 'prints': 2, 'water': 80, 'ages': 17, 'caused': 8, 'y1k': 1, 'independently': 2, 'hair..': 1, 'bulletproof': 3, 'mesmerized': 2, 'asian': 14, 'emotionless': 1, 'unimpressed': 1, 'dats': 7, '1luv': 1, 'wit': 60, 'bcuz': 6, 'expense': 3, 'disrespecting': 1, 'unfortunately': 23, 'condolences': 4, 'busboys': 1, 'maple': 5, 'syrup': 11, 'eggs': 20, 'pineapple': 6, 'strawberry': 13, 'berries': 2, 'brunch': 21, 'aaron': 19, 'pennant': 1, 'clinching': 1, '1957': 1, 'w/voice': 1, 'earl': 6, 'gillespie': 1, 'double': 32, 'iced': 2, 'magic': 31, 'chose': 13, 'ent-326': 1, 'rummage': 2, 'sale-': 1, '2436': 1, 'ave': 13, 'mpls': 2, 'arty': 1, 'grumble': 2, 'disaster': 8, 'focuses': 4, 'mitigation': 1, 'overlooks': 1, 'preparedness': 1, 'walked': 26, 'obama2012': 1, 'devils': 9, 'hockey': 30, 'fist-pumped': 1, 'elias': 2, 'zubrus': 1, 'absolutely': 63, 'two.at': 1, '4ppl': 1, 'supplement': 2, 'tailgate': 2, 'provocateur': 1, 'postcards': 1, 'obviously': 33, 'hiss.': 1, '/3': 17, 'banquet': 2, 'eggos': 1, 'mirror': 12, 'atasteoffashion': 2, 'beforehand': 1, 'adhd': 1, 'sing-alongs': 1, 'don': 44, 't': 113, 'll': 14, 'librarians': 10, 'whant': 1, 'emergency': 8, 'diva': 7, 'now..': 6, 'hatched': 1, 'bld': 1, '2000': 7, 'nw': 16, 'ed': 24, '1970': 1, 'iu': 8, 'obama2012slogans': 1, 'wasn': 2, 'fault': 20, 'highlights': 5, 'broadcasting': 4, 'lawlz': 1, 'will.': 1, 'amen': 30, 'sentence': 12, 'zing': 4, 'onyx': 2, 'response': 29, 'checking': 30, 'credentials': 1, 'failed': 18, 'keith': 5, 'haring': 1, 'brooklyn': 9, 'pfizer': 1, 'compounds': 1, 'shelves': 4, 'freezer': 3, 'limited': 23, 'edition': 17, 'lithograph': 1, 'smart': 44, 'thoughtful': 4, 'promo': 16, 'premise': 2, 'function': 13, 'ralph': 11, 'nader': 2, 'snook': 1, 'that1friend': 1, 'suffer': 4, 'girlnextdooritis': 1, '~taylor': 1, 'swift': 6, 'madama': 1, 'butterfly': 10, 'voted': 23, 'twice': 31, 'sag-aftra': 1, 'merger': 6, 'mos': 4, 'danced': 3, 'itsaniconiacthing': 1, 'brazil': 8, 'lunch/site': 1, 'spring/summer': 1, 'lmi': 1, 'institute': 12, 'spreading': 17, 'friends/family': 2, '915': 1, 'alas': 6, 'tuesdays': 9, 'service': 90, 'fee': 8, '29': 8, 'haupt': 1, 'tomorrows': 4, 'ampoules': 1, 'vital': 4, 'skin': 19, 'anthony': 17, 'schools': 17, 'ruined': 11, 'ditto': 7, 'ward': 13, 'fox': 26, '*we': 1, 'onnat*': 1, 'membership': 9, 'graphic': 16, 'rom': 1, '4:5': 1, 'believing': 6, 'justifying': 1, 'ungodly': 1, 'counted': 5, 'righteousness': 1, 'grateful': 14, 'knocked': 7, 'socks': 7, 'phenomenal': 9, 'bigg': 1, 'accidental': 2, 'subconsciously': 1, 'logging': 1, 'labor': 8, 'hometown': 6, 'ijs': 2, 'hai': 2, 'luv': 26, 'superbowl': 15, 'leopard': 1, 'bbw': 2, 'rarrrrr': 1, 'movementbut': 1, 'mpiya': 1, 'review': 24, 'fashion': 30, 'transcribe': 1, 'seciont': 1, 'noticing': 8, 'mondays': 16, 'decor': 3, 'editing': 9, 'deck': 16, 'tedtalk': 1, 'accounting': 2, 'clooney': 4, 'wh': 5, 'lobbying': 4, 'sudan': 3, 'graduate': 20, 'december': 19, 'candice': 3, 'dinners': 3, 'wednesday': 59, 'butt': 24, 'apples': 7, 'effecient': 1, '.le': 1, 'peep': 1, 'outfit': 8, 'submit': 18, 'cnn': 5, 'arnold': 6, 'maria': 6, 'splitting': 4, 'giveobamacreditfor': 1, 'hookers': 3, 'latin': 14, 'criticism': 6, 'commentary': 4, 'valid': 5, 'incites': 1, 'interveiws': 1, 'shoutout': 39, 'follow..': 2, 'post-beane': 1, 'edwin': 3, 'sponges': 2, 'tarpon': 1, 'springs': 7, 'olive': 9, 'goat': 4, 'froze': 2, 'blowed': 1, 'omfg': 15, 'nobel': 1, 'laureate': 1, 'summit': 12, 'cps': 1, 'students': 104, 'madness': 17, 'imagined': 1, 'fajitas': 1, 'negra': 1, 'modelo': 1, 'www.flawlessmoneygang.com': 1, 'ringtones': 1, 'gu': 1, 'd.c.': 7, 'toy': 9, 'silver': 11, 'reservoir': 2, 'that..yet': 1, 'ignored': 4, 'time..': 7, 'figures': 6, 'eventually': 7, 'pii2012': 2, 'ftc': 3, 'representative': 2, 'deangelis': 2, 'donuts': 14, 'wheelz': 1, 'e-dragster': 1, 'nat': 4, 'lee': 18, 'miller': 24, 'oldest': 4, 'suffered': 2, 'dual': 4, 'aneurysm': 2, 'immediate': 4, 'surgery': 9, 'rant': 8, 'mill': 4, 'owned': 3, 'life.': 2, 'barker': 1, 'sandwiches': 5, 'bean': 14, 'doz': 1, 'impulse': 1, 'costco': 4, 'boost': 4, 'enterprise': 3, 'hive': 1, '6700': 1, 'podcast': 11, 'itunes': 30, 'generally': 7, 'underlying': 2, 'vulnerability': 1, 'causes': 5, 'mortality': 4, 'hopes': 11, 'okay-': 1, 'wait-': 1, 'justin': 75, 'courage': 11, 'alan': 7, 'hirsch': 1, 'leap': 10, 'clubbin': 1, 'fuckin': 31, 'kasia': 1, 'classroom': 15, 'exercise/food/health': 1, 'blogs': 19, 'parading': 1, 'constantly': 5, 'dollar': 14, 'sigh': 17, 'memorable': 4, '-vivi': 1, 'fa': 11, 'stressede': 1, 'boa': 3, 'q4': 4, 'smallbiz': 2, '3-digit': 1, 'korea': 6, 'dumbest': 2, 'accts': 1, 'tacoma': 1, 'angel': 14, 'committee': 16, 'stripes': 2, 'collect': 7, 'petition': 4, 'signatures': 3, 'rally4sanity': 1, 'dota': 1, 'unassisted': 1, 'burma': 2, 'tenuous': 1, 'operation': 8, 'wires': 2, 'ello': 1, 'betsey': 1, 'ma': 17, '\\ue050': 1, 'parisistweeting': 1, 'pweace': 1, '\\ue011': 1, 'itshardto': 1, 'injury': 10, 'representation/litigation': 1, 'slg': 1, 'corporations': 7, 'raise': 22, 'pumped': 16, 'applicable': 2, 'a-mazing': 1, 'aha': 7, 'mcdonalds': 7, 'maui': 3, 'chinese': 19, '28': 9, 'p.m.': 19, 'crafts': 4, 'lion': 14, 'batavia': 1, 'destiny': 5, 'individual': 11, 'rule.-albert': 1, 'einstein': 4, 'judging': 7, 'excerpts': 1, 'humdrum': 1, 'liberty': 7, 'commencement': 6, '4/23': 1, 'farmer': 3, 'necessarily': 7, 'mins': 19, 'issap': 1, 'f': 18, 'pulled': 19, 'freaked': 2, 'relaxed': 3, 'flo': 3, 'x6kool': 1, 'wind': 31, 'can`t': 2, 'you`re': 1, 'touched': 10, 'falls': 20, 'sabado': 1, 'tilted': 1, 'kilt': 1, 'wheelhouse': 1, 'apply': 13, 'reservations': 6, 'uno': 1, 'off-site': 1, 'ballgame': 3, 'pleased': 9, 'gdc': 3, 'tucking': 1, 'oversized': 2, 'fitted': 2, 'febreze': 1, 'homless': 1, 'axe': 4, 'homeless': 21, 'features': 9, 'fossils': 1, 'wimpy': 4, 'dork': 5, 'diaries': 4, 'minnesota': 12, 'golden': 20, 'gophers': 4, '‘': 3, 'gopher': 1, 'pendant': 1, 'plated': 1, 'jewelry': 8, 'costume': 10, 'federal': 11, 'gov': 6, 'rails': 4, 'receiving': 3, 'unconstitutional': 3, 'onee': 1, 'kaylee': 1, 'ballin': 3, 'gravity': 3, 'higher-than-normal': 1, 'immobilized': 1, 'evening/afternoon/whatever': 1, 'boutta': 8, 'canadian': 10, 'pals': 4, 'plate': 17, 'pasta': 15, 'salad..': 1, 'skillet': 3, 'fast.': 1, 'atheist': 3, '.rt': 2, 'justified': 1, 'nonsense': 10, 'socialism': 3, 'nicole': 6, 'random': 52, 'throws': 12, 'loop': 9, 'iranelection': 1, 'south-korea': 1, 'green': 52, 'match': 25, 'iran': 8, 'excellence': 14, 'attained': 4, 'reproduced': 1, 'concerning': 3, 'memorial': 12, 'originating': 2, 'manimal': 1, 'beast': 12, 'intercintinental': 1, 'romantic': 4, 'getaway': 6, 'ryan': 45, 'conservancy': 2, 'pungle.me': 4, 'sits': 3, 'steering': 1, 'wheel': 6, 'chilly': 4, 'ft': 10, 'overwhelming': 7, 'aint': 45, 'punch': 29, 'tawk': 1, 'marvin': 4, 'gospel': 5, 'rookie': 10, 'mechanical': 3, 'juneau': 2, 'tyler': 20, 'herrick': 1, '21st': 18, 'helps': 26, 'mood': 39, 'go..': 2, 'reminders': 1, 'vid': 7, 'therapy': 10, 'upsets': 3, 'automated': 3, 'customer': 29, \"'09\": 3, 'nevy': 1, 'dodgeball': 1, 'ακψ': 1, 'iota': 2, '6pm': 15, 'uv': 1, 'sweethome': 1, 'pickups': 3, '5:45pm': 2, 'su': 3, 'mrsdiggles': 1, 'bitchtech': 1, 'dianely': 1, 'dabble': 1, 'cruised': 1, 'ipaths': 1, 'satisfied': 6, 'stoked': 22, 'romance': 13, 'celebrating': 24, 'zine': 3, 'konz': 1, 'nfldraft': 2, 'pedestrians': 3, 'monroe': 3, 'st': 39, 'croce': 2, 'accomplished': 8, 'stirrer': 1, 'relayed': 1, 'survival': 3, 'carry': 16, 'weapons': 5, 'refused': 4, 'babysitters': 1, 'cont': 11, 'nyt': 4, 'seller': 3, 'author': 24, 'gayle': 1, 'forman': 1, 'audience.702-521-9715': 1, 'www.watchnhllive.com': 3, 'awh': 5, 'katja': 1, '^^': 3, 'hun': 10, '♥♥': 2, 'cakephp': 2, 'launhin': 1, 'tuned': 49, 'bugging': 3, 'facts': 12, 'el': 16, 'golf': 32, 'wang': 2, 'transition': 8, 'although': 27, 'joann': 1, 'july': 46, 'tombout': 1, 'adaptive': 1, 'preapproved': 1, 'chained': 1, 'paypal': 3, 'aip': 1, 'reminds': 22, 'iconic': 8, 'momz': 3, 'flows': 1, 'shrm12': 1, 'gathers': 1, 'seventeen': 2, 'aren': 1, \"'t\": 2, 'josh': 20, 'alain': 1, 'touraine': 1, 'plea': 2, 'youknow': 1, 'dies': 14, '*clicks': 1, 'series*': 1, 'jury': 9, 'unemployment': 2, 'roles': 3, 'justice4mj': 1, 'michael..': 1, 'fishin': 1, 'mikey': 8, 'dump': 6, 'ils': 2, 'rare': 11, 'hasnt': 4, 'pandora': 16, 'billy': 16, 'tries': 7, 'rise': 11, 'grind': 12, 'naturist': 1, '399': 1, 'sequencefileloader': 1, 'internally': 1, 'sequencefile.reader': 1, 'honors': 4, 'compression': 2, 'flags': 9, 'seqfile': 1, 'header': 3, '/cc': 6, 'kim': 14, 'talent': 27, 'kandi': 2, 'pond': 4, 'scrolls': 1, 'robert': 19, 'eisneman': 1, 'newvantage': 1, 'announces': 10, 'thought-leadership': 1, 'marketwatch': 3, 'kelly': 14, 'false': 11, 'prophet': 1, 'anti-christ': 1, 'startup': 10, 'folk': 11, 'mailing': 8, 'hahah': 34, 'dessert': 15, 'yelp': 3, 'foursquare': 6, 're-assembled': 1, 'trigon': 2, 'trifecta': 3, 'heroes': 8, 'preach': 5, 'condemn': 1, 'mounted': 1, 'burger': 22, 'shack': 4, 'dctng': 1, 'sensational': 1, 'comparison': 4, 'kayak': 1, 'handy': 3, 'purchased': 5, 'injector': 2, 'syringe': 1, 'alcohol-related': 1, 'possibilities': 5, 'frozen': 15, 'vodka': 7, 'kool-aid': 2, 'jammers': 1, 'ucla': 9, 'bazz': 1, 'reassured': 1, 'drifting': 2, 'closest': 5, 'with..': 1, 'buster': 3, 'journal': 12, 'clinical': 3, 'experimental': 1, 'cardiology': 2, 'trends': 10, 'incidence': 1, 'pra…': 1, 'humility': 3, 'lulsistah': 1, 'oldfrewd': 1, '.tragic': 1, 'triviamonday': 1, 'stretchy': 2, 'halfway': 5, 'aboard': 4, 'choo-choo': 1, 'rush': 15, 'penis': 5, '9.': 6, 'punctual': 1, 'comprehending': 1, 'this..': 7, '=p': 2, 'mudmelt': 2, 'berrie': 1, 'delight': 4, 'investigations': 1, 'curious': 24, 'fleishman': 1, 'fellas': 7, 'demanded': 1, 'hers': 5, 'hoes': 21, '17': 27, 'roc': 6, 'entrepreneurs': 3, 'graduated': 6, 'newest': 17, 'accept': 12, 'compelled': 1, 'consolation': 3, 'wandering': 3, 'madeinny': 1, 'craft': 14, 'showcase': 12, 'bath': 9, 'messing': 6, '*sigh*': 6, 'horror': 8, 'cla': 1, '16m': 1, 'layoffs': 2, 'explore': 11, 'jungle': 3, 'thedy': 1, 'tiverton': 1, 'land': 35, 'pollution': 3, 'reflects': 2, 'vise': 1, 'versa': 1, 'freckles': 1, '-kc': 1, 'summersummersummertime': 1, 'tosa': 2, 'meanwhile': 2, 'silos': 2, 'echo': 3, 'ewr': 1, 'bloomberg': 1, 'democrat': 4, 'pern': 2, 'bushel': 1, 'crabs': 4, 'patent': 6, 'tampon/maxi': 1, 'perfecting': 1, 'anchor': 4, 'speak': 52, 'astounded': 2, 'humbled': 2, 'mercy': 10, 'sinners': 1, 'christ': 16, 'huh': 31, 'filling': 13, 'fafsa': 1, 'technology': 29, 'flexible': 5, 'basic': 12, 'concept': 14, 'foods/products': 1, 'produced/made': 1, 'possibl…': 1, 'breather': 2, 'improvement': 6, 'measure': 7, 'umpiring': 1, 'bd': 3, 'mongolian': 1, 'grill': 19, 'wallflower': 2, 'flattered': 3, 'multiple.i': 1, 'pencil': 3, 'locating': 1, 'pix': 4, 'franchise': 6, 'tornadowarnings': 1, 'warning': 12, 'advance': 10, 'potentially': 5, 'deadly': 2, 'liquor': 10, 'plain': 6, 'uumm': 2, 'uhra': 1, 'typewriter': 2, 'english': 27, 'keyboard': 6, 'cinco': 22, 'malone': 1, 'britta': 1, 'build-a-bear': 1, 'eighteen': 1, 'teisofndhhdhdjfdjdj': 1, 'earthday': 3, 'fellow': 19, 'members': 32, 'planetary': 1, 'ecosystem': 3, 'stash': 5, '6,000': 2, 'polka': 3, '61.87': 1, 'c+': 1, 'heey': 1, 'madd': 2, '21.': 1, 'grab': 19, 'hahahahahahahahah': 1, 'mushrooms': 4, 'grow': 46, 'damp': 1, 'umbrellas': 1, 'q1': 4, 'department': 8, 'managers': 5, 'directing': 5, 'dept': 10, 'portals': 2, 'bio': 21, 'misleads': 1, 'matchup': 5, 'gw': 1, 'fare': 6, 'tha': 20, '👯': 1, 'articles': 17, 'innertube': 1, 'metta': 5, 'elbowing': 1, 'oklahoma': 9, 'harden': 5, 'relaxation': 3, 'brb': 4, 'bleeding': 5, 'laying': 19, 'day☀': 1, 'midway': 2, 'bmorebookfest': 1, 'score': 33, 'gee': 6, 'hubie': 1, 'encouragement': 6, 'repealing': 1, 'cost-control': 1, 'reform': 6, 'law': 51, 'heating': 4, 'upton': 3, 'vs.': 29, 'waxman': 1, 'round': 44, 'federation': 3, 'nfb': 2, 'gotcha': 3, 'td': 13, 'shipley': 1, 'gilbert': 3, 'reflected': 1, 'standards': 8, 'gim': 9, 'bb': 8, 'fellows': 1, 'booked': 16, 'rehearsals': 2, 'failing': 5, 'ecupid': 1, 'porter': 7, 'pouring': 10, 'fatso': 1, 'tons': 13, 'govalpo': 1, 'motorola': 1, 'razor': 3, 'unfollowing': 4, 'people.': 1, 'fashionstar': 1, 'dkny': 1, 'girl®': 1, 'jimmyjohns': 1, 'crowns': 1, 'bev': 1, 'hopped': 3, 'firemountain': 1, 'thousand': 12, 'temptation': 2, 'image': 16, 'selections': 2, 'retouching': 1, 'manifest': 3, 'unapproved': 1, 'formal': 5, 'go-ahead': 1, 'shorts': 16, 'workplace': 3, 'frizzing': 1, 'hise': 1, 'humidity..': 1, 'wa-wa': 1, 'dollars': 15, '206-714-1140': 1, 'superhero': 8, 'ridiculous': 26, 'boy..': 2, 'intelligent': 12, '😂': 5, 'tweetcaster': 3, 'crashing': 7, 'twinkle': 2, 'phones': 14, 'lisa': 10, 'jess': 7, 'solar': 9, 'residential': 1, 'off-grid': 1, 'pumping': 4, 'gate': 9, 'operating': 4, 'co': 17, 'communication': 14, 'dawkblitz': 1, 'douche': 11, 'bottles': 20, 'backround': 1, 'experimenting': 2, 'cig': 1, 'cd': 28, 'sleater-kinney': 1, 'joe': 48, 'benanati': 1, 'awe': 14, 'ned': 1, 'atomjack': 1, 'listserv': 2, 'gis': 4, 'directory': 3, 'extensions': 4, '3:30-4:30.': 1, 'walks': 17, 'pets': 10, 'wilted': 2, 'spinach': 3, 'diced': 1, 'avocado': 1, 'radish': 1, 'kimchi': 1, 'pungency': 1, 'tamed': 1, 'creaminess': 1, 'nevermind': 5, 'bu': 2, 'beanpot': 1, 'tablas': 1, 'creek': 7, 'vermentino': 1, 'delightfully': 2, 'type': 59, 'tart': 1, 'crisp': 7, 'spritzy': 1, 'apple': 37, 'pear': 1, 'citrus': 4, '89': 2, 'pts': 4, 'f**k': 4, 'chasing': 9, 'gallons': 1, 'basis': 3, '1970s': 2, 'castle': 9, 'shaking': 6, '^.^': 6, 'yell': 14, 'severino': 1, 'mail': 38, 'slot': 5, 'sevy': 2, 'intrigued': 2, 'ili': 1, 'evaluations': 3, 'cranky': 2, 'nt': 2, 'gne': 1, 'hve': 3, 'suggest': 10, 'cincinnati': 6, 'complicated': 12, 'layers': 3, 'shiloh': 1, 'missionary': 2, 'marchers': 1, 'variety': 8, 'maintenance': 5, 'fame..congrats': 1, 'tacking': 1, 'pounders': 1, '.now': 4, 'enlightening': 1, 'intoxication': 1, 'commence': 3, 'tests..': 1, 'throes': 1, 'maritime': 1, 'ghost': 16, 'one-of-a-kind': 1, 'persons': 6, 'cease': 6, 'early..': 1, 'workshop': 22, 'shaves': 1, 'dif': 1, 'btween': 1, 'asia': 7, 'hawaii': 6, 'friendly': 8, 'jeez': 9, 'remodeling': 5, 'upstairs': 4, 'nurieza': 1, 'araceli': 1, 'booksicals': 1, 'healthy': 34, 'sowwy': 1, 'missing': 63, 'infamous': 5, 'pinata': 1, 'filled': 18, 'booze': 6, 'tank': 7, 'playoffs': 36, 'oregonlive': 1, 'trail': 11, 'blazers': 5, 'happy..': 2, 'happier': 15, 'trade': 33, 'cam': 7, '27': 10, 'carimi': 1, 'heyward': 2, 'versatile': 5, 'woke': 29, 'seinfeldderbynames': 1, 'phantom': 6, 'spitter': 1, 'custard': 3, 'chang': 2, 'latex': 2, 'salesman': 1, 'ribbon': 2, 'theaters': 2, 'casting': 9, 'midwest': 9, '4:30pm': 2, 'chipolte': 1, 'rite': 15, 'slamfiction': 1, 'june': 53, '9th': 13, '2x': 1, 'stocks': 7, 'purses': 3, 'gum': 6, 'hotdogs': 2, 'constituents': 1, 'reject': 3, 'sopa': 5, 'pipa': 3, 'married': 39, 'smash': 11, 'pudding': 4, 'opposite': 10, 'gender': 8, 'bathroom': 25, 'own..': 1, 'monitor': 6, 'heartless': 3, 'godblessamerica': 2, 'bak': 4, 'interactive': 10, '2,000': 2, 'qaddafi': 1, 'border': 8, 'welfare': 2, 'heathcare': 1, 'legacy': 5, 'rumpus': 3, 'joyce': 2, 'maurice': 4, 'sendak': 2, 'smfh': 5, 'spends': 2, 'gossiping': 1, 'blackberry': 10, 'worthless': 7, 'blackflix': 1, 'netberry': 1, 'kreeft': 1, 'chess': 2, 'specify': 3, 'supreme': 4, 'sanity': 5, 'prevailing': 1, 'ie': 6, 'obamacare': 4, 'phd': 3, 'male': 11, 'survivors': 1, 'medium': 9, 'advertising': 21, 'promoting': 8, 'recieve': 1, 'fear': 43, 'lives': 39, 'tactics': 2, 'ques': 1, 'winners': 18, 'losers': 8, 'kirk': 2, 'cousins': 9, \"'losers\": 1, 'relaunching': 1, 'winery': 3, 'edog': 1, 'dealt': 2, 'yafew': 1, '5kevent': 1, 'realnice': 1, 'classy': 19, 'kewl': 4, 'meetya': 1, 'shells': 2, 'flyin': 2, 'pleasure': 32, 'allan': 2, 'greetings': 5, 'tuscaloosa': 1, 'al': 31, 'twin': 13, 'anchors': 2, 'reunion': 11, 'webservius': 1, 'api': 3, 'infrastruct': 1, 'religious': 5, 'scam': 2, 'tuning': 5, 'in-': 1, 'sometime': 30, 'tmrw': 10, 'erika': 2, '9am': 6, 'needing': 8, 'phillie': 1, 'wheaton': 2, 'doctor': 26, 'camp': 32, 'breakout': 2, 'founder': 9, 'northwest': 4, 'keiretsu': 1, 'todd': 6, '49': 8, 'views': 16, '8k': 1, 'bucks': 24, 'craigslist': 7, 'connections': 8, 'roommate': 4, 'temporary': 12, 'jinx': 5, 'crashed': 2, 'dane': 5, 're-open': 3, 'write-up': 2, 'grand': 22, '..ok': 1, '.*walks': 1, 'room*': 1, 'stream': 17, 'links': 23, 'marshall': 8, 'mathers': 1, 'pen': 11, 'marked': 4, 'bush': 11, 'michigan': 13, 'camera': 25, 'private': 18, 'property': 6, 'defacing': 1, '3.84': 1, 'drillheredrillnow': 1, 'promised': 5, 'balloon': 8, 'fiesta': 3, '9am-3pm': 1, 'explorium': 1, 'hands-on': 2, 'seseme': 1, 'medicine': 11, 'occurs': 4, 'taste': 36, 'prevention': 3, 'spinning': 12, 'energizing': 1, 'drix': 1, 'thingsiwantthemost': 1, 'iwish': 2, '.ego': 1, '.even': 1, 'coaches': 13, 'asleep..': 1, 'youmightbestupidif': 1, 'es': 4, 'socialmedia': 7, 'socialize': 1, 'face2face': 1, 'flapanthers': 1, 'kudos': 11, 'impressed': 26, '.match': 1, 'caitlin': 2, 'heheh': 4, 'woop': 4, 'omaha': 4, 'benson': 4, 'canyonroad': 1, 'debuting': 3, 'trailer': 17, 'sunburned': 1, 'friking': 1, 'seafood': 3, 'tweetup': 3, 'choke': 6, 'haslem': 1, 'btw..': 1, 'thebrotherssize': 1, 'declared': 5, 'jew': 4, 'completed': 11, 'christians': 5, 'ann': 14, 'clémence': 2, 'poésy': 2, 'g-star': 1, 'raw': 21, 'potter': 12, 'becoming': 17, 'nam': 1, 'outage': 5, 'heaven': 29, 'pary': 1, 'rules': 28, 'chachimomma': 1, 'chachi': 2, 'bieber': 32, 'mousse': 1, 'schmultz': 2, 'sepia': 1, '.outstanding.': 1, 'carmelized': 1, 'fati': 1, 'delicious': 40, 'suffice': 2, 'girlfriend': 28, 'whatyaknow': 1, 'reconnect': 2, 'geno': 1, 'clicking': 3, 'brithday': 1, 'super-secret': 1, 'igotta': 1, 'eintracht': 1, 'frankfurt': 1, 'promotion': 5, 'bundesliga': 1, 'eagles': 13, 'surrounded': 7, 'k-love': 1, 'tent': 8, 'saddle': 2, 'ast': 2, 'impl': 1, 'gdb': 1, 'stacktraces': 1, 'lies': 25, 'hatred': 2, 'disrespect': 4, 'fanatic': 2, 'hid': 2, 'considered': 13, 'brightest': 3, 'comfortable': 11, 'rip': 49, 'teena': 1, 'marie': 6, 'usnatarchives': 1, 'awesomeness': 10, 'puppy': 10, 'kisses': 12, 'brang': 1, 'geetar': 1, 'mattress': 4, 'temps': 7, 'dropped': 21, '67°': 1, '60°': 1, '80°': 1, '2night': 2, '5:30': 9, '7:30pm': 6, 'megan': 9, 'larmer': 1, 'co-pres': 1, 'serving': 17, 'w/a': 2, 'misssantamonica': 1, 'folgers': 2, 'clarisonic': 1, 'vogue': 1, 'exfoliation': 1, 'shirts': 23, 'sheep': 7, 'lightpink': 1, 'slaves': 2, 'studies': 15, 'university': 30, 'johnson': 25, 'advantages': 1, 'wellness': 5, '•': 7, '1,100': 1, '…': 11, 'jackety': 1, 'jacked': 6, 'backed': 2, 'doubled': 2, 'cowboyz': 1, 'merged': 1, 'launched': 6, '51': 5, 'combing': 1, 'gently': 3, 'ends': 29, 'tangles': 1, 'base': 10, 'mimosas': 5, 'painting': 14, 'q2': 3, 'w/in': 2, 'multi-channel': 1, 'holistic': 4, 'trans': 1, 'non-mobile': 1, 'shanebatteir': 1, 'beastmode': 1, 'charges': 8, 'mp': 3, '25.': 4, 'covers..': 1, 'soundcloud': 4, 'search': 43, 'up..': 5, 'download': 21, 'foot': 14, 'poultry': 1, 'actors': 16, 'filmmakers': 3, 'recite': 2, 'conveniently': 1, 'amount': 14, \"you'\\\\re\": 1, 'sd': 19, 'mischievous': 1, '*this': 1, 'ravens': 18, 'stink': 4, 'doss': 1, 'dreed': 1, 'jharper': 1, 'marcus': 7, 'demtrus': 1, 'williams': 18, 'mclayton': 1, 'waste': 26, 'feliz': 1, 'chrysler': 1, 'believable': 2, 'impression': 4, 'wished': 11, 'christopher': 7, 'plumber': 1, 'grandpa': 3, 'relevant': 10, '~~': 4, 'dugout': 2, 'mets': 6, 'fan..sorry': 1, 'admit': 22, 'suzie': 1, 'sampled': 1, 'candy..i': 1, 'wired..i': 1, 'eaten': 11, 'patch': 7, 'jelly': 7, 'beans': 15, 'pgh': 2, 'w/2': 1, 'alphaout': 1, 'alpha': 3, 'asay-p.': 1, 'replies': 7, 'rnwk': 1, '7.5': 3, 'departure': 3, 'slightly': 12, 'influenced': 2, 'earnings': 1, 'fuzzed': 2, 'mindz': 1, 'kindz': 1, 'pekovic': 1, 'returns': 3, 'colleges': 5, 'california': 31, 'signing': 27, 'pats': 6, 'determination': 2, 'leads': 17, 'moluccan': 1, 'husband': 29, 'noble': 6, 'middie/striker': 1, 'transitioned': 2, 'dmid': 1, 'bench': 10, 'hokey': 1, 'fights': 7, '14': 20, 'impress': 1, 'mila': 3, 'makers': 1, '800-457-kids': 1, 'cary': 1, 'grant': 14, 'minneapolis': 10, 'downloading': 1, 'perseverance': 2, 'servers': 5, 'movers': 3, 'befor': 1, 'heat+big3=not': 1, 'say..': 1, 'me..': 14, 'gots': 2, 'summah': 1, \"o'neill\": 1, 'dates': 18, 'tracks': 23, 'therefore': 10, 'dylan': 4, 'lay': 25, 'anne': 10, 'twitterer': 1, 'topic': 19, 'information': 43, 'shlep': 2, 'insanity': 9, '☔': 2, 'zayne': 1, 'marian': 1, 'disagree..crispin': 1, 'glover': 1, 'sharp': 8, 'angles': 4, 'cultivated': 3, 'stronger': 17, 'mastery': 4, 'walkman': 2, 'whats': 53, 'directioner': 4, 'doo': 4, 'hahh': 1, 'sometimes..': 4, 'fucks': 4, 'seaweed': 1, '*high': 2, 'five*': 2, 'lasting': 3, 'conformist': 1, 'jean': 8, 'getty': 3, 'romans': 2, 'notorious': 1, 'animals': 20, 'wore': 8, 'wreaths': 1, 'celery': 2, 'stalk': 5, 'hangovers': 3, 'sticks': 12, 'bloody': 21, 'marys': 3, 'chgo': 2, 'complaints': 5, 'segmented': 1, 'hose': 3, 'insect': 1, 'saturdaylibrarian': 1, 'acquired': 4, 'portable': 2, 'numark': 1, 'turntable': 1, 'akil': 1, 'vinyl': 13, 'yayurr': 1, 'monsters': 6, 'templeton': 1, 'faux': 2, 'cooperstown': 1, 'herald': 3, 'fiu': 2, 'learned': 43, 'titanic': 10, 'ship': 13, 'invested': 1, 'lifeboats': 1, 'treadmill': 8, '-abby': 1, 'hangman': 2, 'twins': 14, 'mauer': 2, 'well-written/educated': 1, 'literature': 8, '19': 20, 'hbo': 4, 'pilot': 9, 'worship': 11, 'vertebra': 1, 'activity': 10, 'patricks': 3, 'mara': 1, 'hunny': 2, 'dnt': 13, 'bee-u-ti-ful': 1, 'kay': 11, 'vin': 3, 'surprise': 19, 'carnivore': 1, 'danny': 12, 'gokey': 1, 'lookin': 26, 'results': 31, 'louder': 4, 'haters': 19, 'drown': 3, 'shaped': 5, 'pancakes': 10, 'grossed-outnness': 1, 'mentionto': 1, '845': 1, 'ticketmaster': 2, 'allows': 11, 'anti-bullying': 1, 'fight.we': 1, 'compassionate': 3, 'doe': 14, 'williamsburg': 3, 'charter': 5, 'ads': 19, 'rewards': 5, 'interrupts': 1, 'mel': 4, '7pm': 23, 'bueno': 2, 'z-bo': 1, 'iknewitwasoverwhen': 1, 'acted': 2, 'fucktard': 2, 'washing': 7, 'awake': 27, '😱': 2, 'fairly': 6, 'russel': 3, 'kardashian': 5, 'ugly': 35, 'sirus': 1, 'rental': 9, '31': 9, 'shambles': 1, 'holla': 9, 'cha': 3, 'ps': 7, 'emily': 7, 'branch': 9, 'amazingly': 10, 'soon♥♥': 1, 'sosososo': 1, 'always♥': 1, 'wdae': 1, 'skyway': 1, 'finna': 12, 'a/c': 2, 'arctic': 2, 'engage': 10, 'meredith': 3, 'keisha': 2, 'greenie': 1, 'isiah': 1, 'kissed': 2, 'championship': 13, 'ridiculous..': 1, 'v-day': 1, 'target': 19, 'promise': 49, 'chick': 24, 'purple': 19, 'automatically': 5, 'mcdonald': 9, 'grimace': 1, 'drove': 10, 'margarita': 4, 'sooner': 10, 'critical': 15, 'chillaxin': 1, 'hurray': 2, 'persevering': 1, 'zilla': 1, 'yup': 44, 'chopper': 1, 'sweetest': 9, 'defeat': 8, 'republican': 10, 'seis': 1, 'tanked': 1, 'jose': 12, 'cuervo': 1, 'inventory': 3, 'bundles': 2, 'bells': 4, 'joly': 1, 'ferociously': 2, 'banging': 4, 'obnoxious': 1, 'cast': 24, 'pee': 12, 'groce': 1, 'cooper': 6, 'ohio': 20, 'evan': 3, 'turner': 6, '.certainly': 1, 'pounds': 11, 'lover': 16, 'neverforget': 1, 'momma': 17, 'procrastinate': 4, 'digress': 2, 'casimir': 1, 'pulaski': 2, 'illinois': 7, 'sunshine': 22, 'third-generation': 1, 'distraction': 2, 'simon': 4, 'buried': 3, 'supose': 1, '1,000': 8, 'cus': 11, 'globe': 8, 'printed': 4, '~to': 1, 'mica': 2, 'veteran': 3, 'shelf': 7, 'strains': 1, '35': 12, 'rhino': 1, 'alaskan': 1, 'thunder': 29, 'diesel': 5, 'lemon': 12, 'island': 26, 'skunk': 3, 'increase': 13, 'singing..': 1, 'counts': 7, 'muchthis': 1, 'allow': 21, 'oter': 1, \"'goooosies\": 1, 'aware': 11, 'duet': 1, 'greece': 2, 'sincewebeinghonest': 1, 'guyzzzz': 1, 'killin': 12, 'waitin': 6, 'rockstars': 4, 'contribution': 4, 'f.': 6, '..which': 1, 'overpaid': 3, 'accident': 20, 'w.': 15, 'shouting': 4, 'leonardo': 4, 'vinci': 3, 'goalie': 5, 'megamans': 1, '❑': 2, '✔mentally': 1, 'dating': 20, 'santoromentum': 1, 'emotionally': 4, 'significant': 12, 'flu': 8, 'inflamed': 1, 'tonsil': 1, 'yikes': 10, 'recover': 6, 'theshow12': 1, 'danielle': 5, '-elmore': 1, 'leonard': 5, 'compared': 14, 'gabbert': 1, 'shaub': 1, 'sake': 6, 'gopackgo': 1, 'twits': 1, 'java': 3, 'clojure': 2, 'scala': 1, 'like..': 1, 'foodallergy': 2, 'epinephrine': 1, 'medication': 1, 'epi-pens': 1, 'username': 4, 'cheaters': 1, 'jagermeister': 1, 'chip': 8, 'icm': 1, 'equity': 4, 'cl': 1, 'declined': 3, 'consulting': 4, 'deeb': 1, 'anyways': 20, '115k': 1, 'gg': 3, 'gn': 2, 'poll': 11, 'mortgage': 8, 'settlement': 2, 'homeowners': 1, 'freedom': 17, 'choices': 20, 'magazine': 28, 'daddy': 38, 'batteries': 6, 'haigh': 1, 'cuntessa': 1, 'aubergine': 1, 'aka': 7, 'beaches': 3, 'ulta': 1, 'adorable': 21, 'watts': 1, 'sail': 4, 'boats': 3, 'merits': 2, '-6': 2, 'wks': 5, 'tops': 8, 'biased': 7, 'oo': 6, 'tension': 4, 'swear': 40, 'jacob': 5, 'bearchum': 1, 'wna': 1, 'shaggy': 1, 'now-ish': 1, 'capitalize': 1, 'akward': 2, 'zoo': 13, 'alike': 4, 'coupons': 7, 'downtonabbey': 1, 'hype': 12, 'backstreet': 3, 'boys/nkotb': 1, 'performance': 33, 'amanda': 3, 'poem': 8, 'density': 1, 'nightmares': 4, 'measured': 1, 'teaspoons': 2, 'molded': 1, 'sockets': 1, 'skulls': 2, 'channeling': 2, 'amendment': 7, 'intermission': 4, 'alice': 6, 'queen': 20, 'pink': 26, 'diamonds': 3, 'scarymovierulestoliveby': 2, 'acts': 14, 'pack': 27, 'assume': 16, 'charlotte': 8, \"'nati\": 1, 'birds': 20, 'laundry': 14, 'puzzle': 4, 'describing': 4, 'voicemail': 4, 'styled': 1, 'tnwic': 1, 'computing': 2, 'tenneessee': 1, 'obamabooktitles': 1, 'wee-wee': 1, 'joel': 4, 'cashier': 3, 'penny': 3, 'saver': 3, 'wasting': 7, 'trees': 10, 'mailbox': 3, 'titus': 1, 'maccius': 1, 'plautus~': 1, 'glimpse': 1, 'days..': 3, 'celina': 1, '2003': 2, '2004': 5, 'literacy': 3, 'sunstweetup': 1, '7.': 8, '7/23': 1, 'freshman': 4, 'sitnik': 1, 'theatre': 16, 'lackland': 1, 'arts': 32, 'hacketstown': 1, 'nj': 8, '.catching': 1, 'ringer': 4, 'opened': 17, 'literally': 36, 'massage': 17, 'favorites': 13, 'carrell': 1, 'emmy': 1, 'carrie': 3, 'hammer': 7, '-she': 1, 'delhi/kolkata': 1, 'squishy': 1, 'nothingness': 1, 'endorsing': 3, 'backward': 4, 'causation': 1, 'remedial': 1, 'victor': 4, 'divination': 1, 'symbols': 2, 'hahaa': 4, 'smaller': 9, 'anna': 6, 'overreacting': 1, 'seeking': 13, 'sf': 20, 'woo-hoo': 2, 'frameline': 1, 'sensitive': 5, 'undergoing': 2, 'user-friendly': 1, 'lucy': 8, 'talkin': 17, 'tranny': 2, 'hooker': 1, 'vine': 3, 'hmm..apparently': 1, 'j-lo': 2, 'edith': 1, 'africa': 14, 'plz': 38, 'nahh': 5, 'shes': 11, 'monicals': 3, 'ine': 1, '.time': 2, 'clitoris': 1, 'varsity': 6, 'relieved': 7, 'cheercamp': 1, \"can'twait\": 1, 'upholstery': 1, 'custom': 16, 'upholstered': 1, 'hahahaha': 11, 'aisle': 2, '1100': 2, 'appreciation': 10, 'au': 5, '2k': 2, '4/30': 1, 'goodies': 3, 'swerve': 3, 'github': 3, '404': 2, 'resend': 3, 'wealth': 9, 'options': 19, 'evernote': 3, 'instapaper': 1, 'liberating': 2, 'sandy': 1, 'thankyou': 8, 'zone': 18, 'celebrityrehab': 1, 'celebrityrehab.vh1.com': 1, 'barriers': 1, 'metal': 3, 'lighted': 1, 'appeared': 2, 'paved': 2, 'roads': 10, 'sacajawea': 1, 'bachelor': 4, 'retweets': 11, 'quoted': 5, 'hydrated': 3, 'partially': 4, 'dehydrated': 3, '15/month': 1, 'yu': 20, 'fam': 28, '💙💙': 1, 'sis': 23, 'praying': 19, 'w/glue': 1, 'dislike': 12, 'scrubs': 2, 'affected': 4, 'arirang': 1, 'ridge': 8, 'greekconfessions': 1, 'loser': 9, 'speechless': 6, 'vikings': 6, 'becky': 4, 'nathan': 13, 'mashes/remixes': 1, 'inbox': 12, 'showed': 27, '43': 8, 'gurl': 10, 'stinks': 3, \"'snakebit\": 1, 'seguin': 1, 'splits': 2, 'shanks': 3, 'bruins': 14, 'pro': 27, 'ihop': 6, 'whenever': 31, 'mocha': 2, 'crumble': 2, 'frappuccino': 1, 'lovelovelove💗💋': 1, 'scaring': 1, 'iug2012': 1, 'reports': 17, 'define': 7, 'agrees': 5, 'shore': 14, '1,000,000,000,00,000': 1, '8am': 8, 'www.pdxsucks.com': 1, '101': 10, 'halen': 3, 'issue': 55, 'adam': 19, 'onstage': 3, 'mild': 4, 'acupuncture': 1, 'www.ineversaynever.com': 1, 'decided': 37, 'friday😊': 1, 'spoiled': 5, 'nationwide': 3, 'ue': 1, 'notch': 8, 'inappropriate': 3, 'programmers': 1, 'unhackable': 1, 'based': 37, 'election': 14, 'l.': 3, 'seemed': 5, 'terribly': 5, 'boring': 35, 'raises': 6, '4x': 1, 'goliath': 1, '200': 17, '400': 10, 'kissin': 1, 'manage': 19, 'streamline': 1, 'identity': 8, 'banana': 7, 'bread': 19, 'difficulties': 10, '~victor': 1, 'fiorelli': 1, 'cable': 17, 'vendor': 6, 'homebrew': 1, 'supply': 6, 'sponsor': 6, 'brew': 10, 'times..you': 1, 'buses': 1, 'nzdusd': 2, '+40': 1, 'pips': 1, 'profit': 11, 'volume': 12, 'trading': 10, 'sentiment': 2, '64': 2, 'advocate': 4, 'musicmine': 1, 'france': 8, 'kickin': 1, 'pedi': 2, '💁💅': 1, 'japanese': 10, 'vibrator': 1, '47': 3, 'visits': 7, 'fairview': 1, 'dayton': 1, 'easily': 23, 'abortion': 5, 'co-operates': 1, 'showers': 10, 'taper': 1, 'noon': 19, 'friday..should': 1, 'invite': 24, 'spontaneously': 3, 'combusting': 1, 'mla': 4, 'impressive': 8, 'awe-inspiring': 2, 'seven': 15, 'sonnet': 1, 'scheduled': 9, '05': 1, '.yes': 2, 'painfully': 1, 'reschedule': 2, 'samsbeauty': 1, 'selling': 26, 'pushing': 13, 'understood': 8, 'ikr': 6, 'primzin': 1, 'guessed': 3, 'charbonneau-': 1, 'disappointed': 21, 'alternative': 11, 'scream': 16, '20thingsaboutme': 8, 'adopted': 5, 'sisters': 15, 'cosmetologist': 1, 'nevertheless': 1, 'bravo': 6, 'havin': 4, 'allholiness': 1, 'alexie': 1, 'dullest': 1, 'exterior': 1, 'uhh': 5, 'giants': 29, 'cockers': 1, 'daisy': 2, 'infection': 7, 'goop': 2, 'hazy': 2, 'dot': 13, 'pupil': 2, 'loweshatesmuslims': 1, 'chiropractor': 1, 'sympotic': 1, \"'elite\": 1, 'zach': 5, 'bored': 67, 'lololol': 6, 'cofee': 1, 'easyer': 1, 'rocked': 10, 'shelter': 9, 'wussup': 2, 'tutor': 4, 'algebra': 2, 'pill': 7, 'sad..': 1, 'bignews': 1, 'alert': 16, 'financial': 10, 'providers': 2, 'banking': 2, 'people-work': 1, 'ifiruledtheworld': 1, 'enslave': 1, '1s': 2, 'darts': 2, 'likely': 28, 'rusty': 6, 'bfhistorylesson': 1, '1306': 1, 'bruce': 13, 'crowned': 3, 'self-conscious': 1, 'anxiety-producing': 1, 'scientism': 1, 'unites': 1, 'marx': 1, 'lacan': 2, 'produces': 2, 'tensions': 1, '27:2.': 1, 'lips': 21, 'gm': 16, 'oscars': 17, 'carpet': 6, 'amiright': 2, 'braves': 4, 'nl': 3, 'drives': 9, 'yogurt': 11, 'lester': 1, 'bagley': 1, 'stadium': 14, 'wcco': 1, '55': 9, 'ratings': 3, 'reviews': 11, 'priority': 1, '2010.': 3, 'shop.org': 1, 'joseph': 5, 'vanderpool': 1, 'sneaky': 3, 'snowboarder': 1, 'realm': 4, 'infiniteskills': 2, 'python': 4, 'tutorial': 7, 'harnesses': 1, 'object': 9, 'oriented': 3, 'calibration': 1, 'calibrate': 1, 'printers': 2, 'okc': 16, 'thevoice': 7, 'xtina': 2, 'curler': 1, 'sicurites': 1, 'dildo': 2, '.__': 2, 'bucket': 9, 'puck': 6, 'fremont': 1, 'offices': 10, 'meetup': 8, 'tue': 2, '05/15/12': 1, 'roast': 4, 'choice': 27, 'american/swiss': 1, 'lettuce/tomato/pickle/onion': 1, '6.09': 2, 'sum': 23, 'surprisingly': 3, 'nude': 5, 'avengers..': 2, 'sculpture': 3, 'aerodynamically': 1, 'bumblebee': 2, 'anyway': 38, 'mary': 25, 'ash': 3, 'likin': 1, 'logic': 7, 'composing': 2, 'x3': 4, 'tenn.': 2, 'fla.': 2, \"'lunch\": 1, 'nathalie': 2, 'roman': 4, 'leslie': 2, 'nielsen': 2, 'fridaylistens': 3, 're-read': 3, 'lands': 3, 'durham': 5, 'acacia': 1, 'trilogy': 1, 'grammar': 7, 'drugs': 13, 'streets': 15, 'watches': 9, '30,000': 2, 'investigation': 6, 'gf': 7, 'weeks-although': 1, 'extraordinarily': 1, 'reaffirming': 1, 'belief': 6, 'wetheparty': 1, 'thks': 1, 'answering': 6, 'screenwriting': 1, 'q': 33, 'russians': 1, 'sig': 5, 'naval': 1, 'bases': 6, 'syria': 3, 'med': 6, 'twist': 5, 'russias': 1, 'turks': 1, 'toggle_visibility': 1, 'visibile': 1, 'safari/chrome': 1, 'default': 6, 'vis': 2, 'sounding': 6, 'cheesy': 3, 'scope': 2, 'misty-eyed': 2, '😍': 5, 'monkeys': 3, 'exotic': 4, 'belong': 9, 'real-time': 6, 'operational': 1, 'intelligence': 9, '.about': 1, 'latinexplore': 1, 'costa': 5, 'rica': 3, 'touristy': 1, 'poland': 3, 'shuttle': 7, 'disable': 1, 'notifications': 5, 'settings': 1, 'effects': 4, 'leverage': 2, 'evilly': 1, 'rec': 11, 'biodegradable': 2, 'corn-based': 1, 'forks': 1, 'mtg': 8, 'booking': 9, 'boosie': 4, 'barbershop': 1, 'unity': 4, 'saturdays': 2, '*gadget*': 1, 'lawmakers': 2, 'dissapointed': 2, 'ny': 44, 'soda': 9, 'tax': 22, 'cent': 13, 'teacher': 49, 'deserved': 14, 'batch': 6, 'unmotivated': 1, 'apologize': 7, 'steven': 9, 'theo': 3, 'epstein': 2, 'legal': 11, 'exceptions': 2, 'bankruptcy': 4, 'criminal': 9, 'proceedings': 3, 'divorce': 8, 'evacuated': 2, 'mountain': 14, 'lap': 5, 'dressed': 7, 'woops': 2, 'simmer': 3, 'used.': 1, 'madeline': 1, 'forester': 1, '1180am': 1, '742am': 1, 'boulder': 3, 'brooks': 4, 'landing': 5, 'regulate': 2, 'gadkari': 1, 'sombrero': 3, 'welker': 2, 'fills': 5, 'void': 1, 'claimed': 2, 'grapevine': 2, '..even': 1, 'swept': 1, 'fancy': 14, 'steps': 18, 'influential': 4, 'profs': 4, 'back-up': 2, 'brisk': 1, 'rza': 1, 'leakey': 1, \"d'eve\": 1, 'sectora': 1, 'distributor': 4, '45-55': 1, 'respondents': 1, 're-engage': 1, 'ruin': 6, '567': 1, 'woohoo': 7, 'scii': 1, 'beta-invite': 1, 'elevator': 5, 'pitch': 29, 'saved': 16, 'faith-and': 1, 'yourselves': 6, '-eph': 1, '2:8': 1, 'a-m': 1, 'victim': 5, 'newspaper': 9, 'fence': 5, 'capital': 10, 'improvements': 5, 'sdcc': 2, 'qualify': 4, 'thnk': 2, 'cereal': 10, 'lia': 3, 'earplane': 1, 'brazilian': 2, '8:00pm': 1, 'kienle': 1, 'guitar': 21, 'sax': 1, 'neil': 4, 'heidler': 1, 'bass': 9, 'lawrence': 4, 'drums': 13, 'kerry': 4, 'i`m': 2, 'annoying': 37, 'ab': 12, 'phenom': 2, 'egg': 20, 'samueldzimmerman': 1, 'hiatus': 5, 'fuller': 2, 'pacman': 2, 'freda': 1, \"it'sfriday\": 1, 'tel': 2, 'coworkers': 3, 'orders': 14, 'suggestion': 17, 'butler': 12, 'notess': 1, 'farthest': 1, 'dare.the': 1, 'sure-thing': 1, 'boat': 14, 'shore.~dale': 1, 'bensimon': 2, \"organizat'l\": 1, 'distress': 1, 'gallagher': 2, 'gaga': 5, '.are': 2, 'deductions': 2, 'cabbies': 1, 'politics': 12, 'dangerous': 14, 'intersections': 1, 'viewing': 5, 'rondo': 10, 'hawks': 18, 'minimal': 3, 'threat': 8, 'someoneiwanttomeet': 1, 'submission': 6, 'contest': 38, 'yoooo': 1, 'haa': 4, 'adclub': 1, 'cmo': 1, 'sending': 31, 'subliminal': 3, 'messages': 25, 'wife': 58, 'petersen': 1, 'given': 26, 'motive': 2, 'access': 26, 'grcey': 1, 'backstage': 4, 'lah': 1, 'slippers': 2, 'librarything': 1, 'smdh': 1, 'zines': 1, 'overheard': 10, 'delaware': 3, 'murray': 6, 'trapped': 2, 'trend': 26, 'upwards': 1, 'attensity': 1, 'hotspotting': 1, 'analyze': 5, 'v6.0': 1, 'trucks': 11, 'pikesville': 1, 'wand': 1, 'eradicate': 2, 'suffering': 9, 'aids': 6, 'famine': 2, 'meathead': 1, 'station/': 1, 'corny': 6, 'suck': 58, 'basically': 25, 'anti-robin': 1, 'hoods': 3, 'connecs': 1, '130+': 1, 'fister': 1, 'cy': 4, 'contender': 4, '7-1': 1, '1.79': 1, 'handful': 3, 'walker': 15, 'supporters': 6, 'brkfld': 1, 'sq': 6, 'converts': 3, 'catholicism': 1, 'catholic': 6, 'allin': 2, 'itriage': 1, 'ih3': 1, 'nerds': 4, 'ole': 5, 'opperman': 1, 'vick': 8, 'houst': 1, 'weighed': 3, 'lbs': 7, 'farewell': 1, 'softball': 11, 'cair': 1, 'astrologilcal': 1, 'signs': 18, 'astronomers': 2, 'fry': 7, 'constitution': 3, 'nearest': 3, 'flops': 5, 'diets..': 1, '.such': 1, 'euphoric': 2, 'shelburne': 1, 'reopen': 5, 'coping': 2, '1-2': 4, 'silence': 8, 'hardest': 9, 'arguments': 4, 'refute': 1, 'focusing': 7, 'shyt': 6, 'wateva': 1, '😡': 3, '11a.m': 1, 'chapelrock.org': 1, 'vday': 4, 'chili': 21, 'fruit': 17, 'individuals': 5, 'prostitute': 3, 'sleepy': 25, 'millionaire': 2, 'groundwork': 1, 'wiltjer': 1, '917-980-6720': 1, 'damagedgoods': 1, 'perks': 3, 'discounts': 11, 'oysters': 6, 'florida-ing': 1, 'inland': 6, 'participated': 2, 'tagathon': 1, 'flickr': 6, 'laptop-challenged': 1, '\\ue058': 1, 'ante': 1, 'r.': 8, 'lynd': 1, '34,000': 1, 'holloween': 1, 'promiscuous': 1, 'wiredwaffle': 1, 'unhealthy': 3, '…global': 1, '100+': 2, 'halo': 3, 'wha': 2, 'vit': 2, 'boi': 8, 'ahoy': 1, 'snuggie': 3, 'apt': 6, '-_____-t': 1, 'dtst': 1, 'spit': 9, 'bama': 5, 'trafficking': 1, 'difference': 38, 'saltlick': 1, 'survived': 8, 'floss': 3, '42': 6, 'philanthropyweek': 1, 'opens': 12, 'propels': 1, 'gain': 13, 'catchphrases': 1, '™': 1, 'yer': 7, 'filthy': 5, 'mouth™': 1, 'matters': 13, '-henry': 3, 'thoreau': 2, 'yess': 5, 'toeontheline': 1, 'extensive': 3, 'imdb': 3, 'sean': 10, 'connery': 1, 'gandolf': 1, 'lotr': 1, 'dodged': 1, 'bullet': 8, 'chimpanzees': 1, 'monkey': 9, 'budlight': 1, 'hill': 29, 'tv/radio': 1, 'cooking': 23, 'shift': 15, 'radio_pirate': 1, 'nancye': 1, 'fiat': 3, 'cinquecento': 1, 'heyy': 8, 'iloveyou': 2, 'plansforthesummer': 2, 'tokyo': 5, 'hehe': 23, 'medicating': 1, 'masala': 2, 'chai': 3, 'dre': 5, 'peterson': 2, 'mcl': 2, 'sprints': 1, 'teammates': 5, 'frazier': 5, 'optimistic': 7, 'blt': 3, 'sacramento': 4, 'disclosure': 1, 'thin': 8, 'limp': 3, 'daayy': 1, 'exhausted': 21, 'shave': 11, 'bangladesh': 3, 'lmmfao': 2, 'panic': 3, 'aussie': 5, 'adaptor': 1, 'straightener': 1, 'relieve': 3, 'stress': 27, 'paddy': 2, 'cocktail': 10, 'baileys': 2, 'jameson': 1, 'charms': 1, 'lucie': 2, \"'rena\": 1, 'semi': 2, 'backslide': 1, 'furniture': 9, 'centennial': 1, 'priorities': 6, 'stealing': 8, 'skipping': 4, 'threatening': 3, 'krisimas': 1, 'tampa': 10, 'deloris': 1, 'blogged': 2, 'greed': 4, 'avarice': 1, 'covetousness': 1, 'cupidity': 1, 'encountered': 2, '2am': 2, 'obnoxiously': 1, 'deezynation': 1, 'wtnt': 1, 'lines': 20, 'washed': 6, 'dishes': 8, 'stolen': 7, 'plies': 1, 'tripping': 2, 'ludacris': 1, 'freakin': 19, 'fascinated': 4, 'florence': 6, '-ck': 1, 'lighten': 2, 'solid': 18, 'colors': 17, 'accentuate': 2, 'rider': 2, 'tweaked': 1, 'elbow': 5, 'hulk': 7, 'heavy': 13, 'dove': 4, 'soap': 6, 'informs': 1, 'legislature': 3, '10,000': 7, 'cords': 3, 'wood': 13, 'hay': 7, 'ccd': 1, 'revere': 3, '😖lmao': 1, '😚💤': 1, 'sabrina': 2, 'luggage': 2, 'partial': 2, 'extension': 8, 'hoeing': 1, 'pant': 1, 'ky1911': 1, 'anniehall': 1, 'akin': 2, 'tumbrel': 1, 'guillotine': 1, 'earlier..': 1, 'night..': 1, 'seders': 1, 'overdo': 1, 'matzo': 1, '-/': 12, 'tomorro': 2, 'cleaning': 28, 'closet': 10, 'unpack': 2, 'enchancer': 2, '\\ue32c\\ue32d\\ue32a': 1, 'roofstatus': 1, 'brewers': 33, 'shaq': 2, 'ut-san': 1, 'antonio': 10, 'haive': 1, '7:00': 4, 'jennison': 1, 'divine': 8, 'stomp': 2, 'screwed': 9, 'vivian': 3, 'ptsd': 2, 'twosday': 1, 'piercings': 1, 'included': 9, '206-329-8274': 1, 'clifton': 2, 'frees': 2, 'chunk': 1, '5.7': 1, 'mil': 6, 'requires': 11, 't7': 1, 'growler': 2, 'hahahahah': 3, 'joke..': 1, 'eliminated': 6, 'brodeur': 1, 'crudest': 1, 'targeted': 2, 'abcfamily': 1, 'fried': 20, '\\ue409': 1, 'full-throttle': 1, 'marchmadness': 2, 'mubb': 1, 'v.': 6, 'g-town': 1, 'center-less': 1, 'mu': 4, 'writes': 7, 'uglies': 2, 'sucked': 7, 'whitney': 17, 'warner': 6, 'chan': 3, '36': 5, 'interviewed': 3, 'mumbo': 1, 'jumbo': 2, 'wwii': 3, 'growing': 26, 'r.c': 2, 'cincy': 3, 'valued': 3, 'december/early': 1, 'bodymedia': 1, 'users': 25, '½': 1, 'relay': 2, 'managed': 3, 'backpack': 1, 'edges': 2, 'che': 1, 'populate': 1, 'artfact': 1, 'artist': 52, 'portrait': 5, 'elizabeth': 6, 'ii': 9, 'britain': 3, 'stitching': 1, 'bags': 18, 'finishing': 16, 'touches': 5, 'back-to-school': 1, 'bash': 8, 'tied': 20, 'wrecked': 3, 'when/if': 1, 'premier': 10, 'glee': 15, 'restaurant': 42, 'reimburse': 2, 'split': 12, 'profits': 5, 'ctr': 2, 'finals..': 1, 'no-': 1, 'validated': 2, 'hunter': 8, 'post-posting': 1, 'jeans': 17, 'sneakers': 4, 'sweater': 4, 'baggy': 1, 'hrs': 19, 'rnc': 3, 'informed': 7, 'lacey': 1, 'busted': 11, 'tourists': 3, 'locals': 4, 'cupcakes': 14, 've': 6, 'super-ruby-nerd': 1, 'hangout': 6, 'begun': 6, 'ap': 17, 'functions': 5, 'otgtips': 1, 'checks': 9, 'above': 17, 'expansion': 3, 'ground': 19, 'a.m': 5, 'madhuri': 1, 'hedge': 1, 'acmgmtg': 1, 'overview': 1, 'dna': 2, 'sequencing': 1, 'ngs': 2, 'breathtaking': 3, '-__-': 17, 'tomcrean': 1, 'changinthesubject': 1, 'ranked': 4, 'ohwait': 1, 'md': 10, 'conservation': 2, 'recycling': 4, 'prog': 2, 'expecting': 17, 'womencantresist': 1, 'lan': 1, 'parking': 17, 'dtw': 2, 'reiterate': 1, 'imho': 1, 'erbody': 1, 'l-z': 1, 'baltimore': 31, 'headlining': 3, 'xxl': 1, 'h': 16, 'acoustic': 3, '19th': 13, '1.': 8, 'celebrity': 12, 'mgr': 4, 'columbus': 15, 'w/at': 1, 'mgmt': 1, 'klu': 1, 'klux': 1, 'v': 24, 'girll': 4, 'activites': 1, 'institutional': 3, 'preservation': 7, 'hunters': 3, 'retweeters': 1, 'newbies': 2, 'recap': 3, 'restored': 2, 'effective': 11, 'amsterdam': 2, '5:30..': 1, 'clocks': 2, 'pimp': 2, 'butthurt': 1, 'takin': 2, 'argument': 13, 'rage': 11, 'hm': 41, '.if': 2, 'orlando': 22, 'dwight': 8, 'bron': 6, 'dwade': 1, 'rb': 4, 'rotary': 3, 'rotarians': 1, 'sipping': 5, 'mediachat': 2, 'loyalty': 8, '10pm': 9, 'est': 11, 'stein': 2, 'technologically': 1, 'notices': 1, 'duplicative': 1, 'devices': 9, 'thingsireallycantstand': 2, 'hobby': 2, 'gah': 4, 'lori': 3, 'compass': 2, 'i94': 1, 'laden': 2, 'biden': 6, 'queda': 1, 'weakness': 8, 'crimson': 2, 'undefeated': 5, 'streak': 5, 'damn..': 2, 'marking': 1, 'playboy': 2, 'grossest': 1, \"'hoarder\": 1, 'elf': 4, 'thrones': 3, '1977-': 1, 'woodyallen': 1, 'diane': 2, 'keaton': 1, 'starred': 2, 'annie': 5, 'ellenrtme': 1, '159': 1, '160': 1, '2-for-1': 1, 'tan': 14, 'cds': 7, 'realize..': 1, 'fate': 2, 'attitude': 22, 'valuable': 7, 'switching': 5, 'twilightzone': 1, \"newyear'seve\": 1, 'loex': 3, 'relate': 12, 'finite': 1, 'disappointment': 4, 'infinite': 5, 'lavished': 1, '3:1': 1, 'covert': 1, 'ops': 8, 'technological': 2, 'trivia': 15, 'opfeed': 1, 'potatoes': 10, 'onions': 3, 'niocee~': 1, 'rains:3': 1, 'aroma': 1, 'tasting': 12, 'fragrance': 2, 'smoothness': 1, 'pu-er': 1, 'nerves': 9, 'uhm': 7, 'jesse': 6, 'meditating': 2, 'seriouslol': 1, 'lollipops': 1, 'hardy': 3, 'professionals': 9, 'avenue': 8, '41': 7, '♥ha': 1, 'universe': 16, 'arrange': 3, 'begin..': 1, 'philharmonic': 2, 'savvy': 3, 'reviewed': 6, 'attacks': 8, 'consistent': 3, 'jtaormino': 1, 'berklee': 1, 'edu': 3, 'sundays': 7, 'ally': 7, 'cssmania': 1, 'whack': 2, 'sleep..': 2, '^__^': 5, 'categories': 3, 'csu': 1, 'rd': 4, 'congratscsurams': 1, 'inconvenience': 5, 'stakes': 1, 'blake': 13, 'clutch': 11, 'grp': 1, 'charge': 21, 'prepping': 5, 'preview': 9, 'straightedge': 2, 'pussies': 2, 'knockin': 2, 'vuitton-ed': 1, 'reebok-in': 1, 'nameless': 1, 'recording': 21, 'elena': 6, 'kiam': 1, 'gem-tastic': 1, 'chatted': 3, 'emergent': 1, 'creators': 2, 'combination': 6, 'plunked': 1, 'bryce': 4, 'harper': 6, 'princess': 6, 'chatter': 4, 'embarrassing': 8, 'whale': 4, 'lynn': 7, 'bil': 2, 'faves': 4, 'thank-you': 4, 'pursue': 4, 'styling': 2, 'celebrities': 6, 'panda': 10, 'rosy': 1, 'ronn': 1, 'makin': 11, 'sixers': 5, 'fags': 1, 'ipass': 1, 'acheived': 1, 'cataloging': 2, 'wedge': 2, 'divide': 5, 'corral': 1, 'papercut': 1, 'siloutte': 1, 'booty': 8, 'woww': 1, 'pleasetellmewhy': 1, 'rebuild': 2, 'necessary': 14, 'esp': 10, 'zg': 1, '8:10am': 1, 'casper': 1, 'concrete': 5, 'blonde': 10, 'neptune': 1, 'bryant': 5, 'mah': 6, 'australia': 9, 'many-a-plot': 1, 'hahahahahaha': 4, 'whosgonnalose': 1, 'jacksonville': 7, 'england': 14, 'cx': 2, 'actions': 15, 'sober': 7, 'thoughts.': 1, 'grenades': 3, 'virgins': 1, 'tweetdom': 1, 'mount': 7, 'universal': 10, 'holder': 5, 'baguettes': 1, '1.00': 4, 'hillsboro': 1, 'village': 10, 'rooney': 2, 'exercising': 2, 'condoms': 3, 'retrieving': 1, 'deleted': 7, 'sdcard': 1, 'stored': 2, 'outtie': 2, 'gloss': 2, 'freddy': 1, 'couples': 11, 'agusta': 1, 'zimbabwe': 1, 'daaammn': 1, 'skins': 3, 'dish': 9, 'tailgater': 1, 'dish-in-a-bubble': 1, 'you..': 8, '\\ue023': 1, 'lp': 2, 'recognized': 7, 'alm': 1, 'magnificent': 4, 'mktg': 4, 'dev': 12, 'postal': 2, 'bulk': 4, 'cos': 5, 'fishing': 9, 'cuban': 5, 'galapagos': 2, 'islands': 3, 'doty': 2, 'library-zoo': 1, 'lifted': 4, 'witness': 3, 'wht': 4, 'shh': 4, 'becomes': 22, 'racing': 15, 'rendezvous': 1, 'encore': 4, 'pleasantly': 2, 'robbery': 2, 'shenzhen': 1, 'oct': 10, 'conact': 2, 'emerg': 1, 'veggie': 8, 'proceeds': 2, 'planet': 20, 'foundation': 17, 'canada': 21, 'tcu': 4, 'ie9': 1, 'wilfred': 1, 'waffle': 5, 'barrier': 1, 'accessing': 2, 'armstrong': 5, 'reverend': 1, 'deacon': 1, 'bishop': 4, 'gibson': 2, 'drafted': 9, 'kristen': 3, 'hersh': 1, 'ect*': 1, 'physical': 14, 'copies': 5, 'pre': 8, 'nootz': 2, 'resolution': 6, 'slick': 3, 'headbuttthathoe': 1, 'imply': 3, 'campbell': 5, 'mascualtion': 1, 'hunt': 18, 'winnie': 2, 'pooh': 2, 'henderson': 4, 'procrastinating..must': 1, 'beer-thirty': 1, 'tick..tock': 1, 'positively': 2, 'knowing': 39, 'whydopeopledothis': 1, 'formed': 2, 'dissimilar': 1, '~percy': 1, 'bysshe': 1, 'shelley': 3, 'implementing': 2, 'repository': 1, 'native': 9, 'squash': 10, 'plzz': 2, 'wuv': 1, 'consert': 1, 'tourney': 13, 'g-d': 1, 'patrick': 18, 'hiccups': 3, 'inches': 4, 'sweaty': 3, 'crotch': 3, 'yanks': 4, 'wwi': 1, 'drummers': 4, 'debbie': 3, 'imani': 1, 'plotting': 2, 'rival': 3, 'comp': 7, 'bird': 22, 'whos': 11, 'beacon': 1, 'terrified': 10, 'trips': 11, 'poppin': 7, 'chipsandskitrips': 1, 'espinoza': 1, 'backwheniwaslittle': 1, 'strings': 5, 'chorus': 6, 'campus': 32, 'connecticut': 1, 'burquedesign': 1, 'hilltop': 1, '67f': 2, 'clouds': 15, 'bake': 6, 'million': 33, 'frosting': 9, 'georgetown': 5, 'pistol': 1, '💗': 2, 'scrolling': 4, 'treasure': 5, 'devote': 3, 'dazzled': 1, 'daylight': 8, 'darkness': 7, 'nod': 1, 'w.m': 1, 're-count': 1, 'donated': 7, 'unfinished': 4, 'kit': 8, 'snare': 1, 'technical': 12, 'meowning': 1, 'meowting': 1, 'meowsconduct': 1, 'trapeze': 1, 'safety': 15, 'net': 5, 'thumbs': 10, 'recommends': 5, 'convincing': 4, 'testing': 18, 'explosive': 4, 'traces': 3, 'tsa': 3, 'collab': 2, 'nomming': 1, 'macaroni': 1, 'authentic': 4, '*crickets*': 1, 'wouldnt': 5, 'else.': 1, 'climax': 1, 'massages': 2, 'csa': 2, 'sony': 6, 'in-store': 4, 'appears': 13, 'concentration': 1, 'napoleon': 4, 'lights': 23, 'spin-off': 2, 'yaoi': 1, 'sekai': 1, 'ichi': 1, 'hatsukoi': 1, 'swoon': 3, 'anime': 2, '3-0': 2, 'nike': 8, '80-69': 1, 'georgia': 11, 'duane': 3, 'wilson': 13, 'jamaar': 1, 'mckay': 1, '300': 15, 'additions': 1, 'gabriel': 6, 'gilad': 1, '3.5': 8, 'curate': 3, 'boom-chica-wow': 1, 'subscribe': 8, 'sauce': 18, 'drippin': 1, 'swagu': 1, 'unh': 1, 'everywherw': 1, 'kindness': 11, 'pronounced': 2, 'tex': 4, 'madden': 5, 'it..': 6, 'galaxy': 7, 'nexus': 3, 'runs': 22, 'ics': 1, 'reboots': 1, 'os': 9, 'upgrade': 9, 'o__o': 1, 'sister-in-law': 3, 'body~': 1, 'muah': 3, 'besos': 3, '69': 7, 'slices': 3, 'velvet': 2, '1.50': 2, 'lasts': 7, 'okaay': 1, 'looool': 1, 'reached': 11, 'commits': 2, 'swiss': 4, 'vault': 1, 'returning': 11, 'safely': 9, 'healthier': 4, 'rose/deng': 1, 'were..': 1, 'aliciad23': 1, 'venue': 9, 'nsvfsummit': 1, 'keynote': 8, 'innovative': 8, 'approaches': 2, 'hinting': 1, 'retina': 8, 'bac': 3, 'paranoid': 3, 'speaker': 8, 'lauraevans': 1, 'obligation': 2, 'aprouch': 1, 'friendship': 6, 'ettina': 1, 'erryyone': 1, 'dirtywork': 1, 'various': 9, 'designed': 6, 'peek': 3, 'anticipated': 4, 'www.nickywooten.com': 1, 'vote..': 1, 'flooded': 2, 'w/your': 3, 'indiscretions': 1, 'hayride': 1, 'afriedman': 1, 'blacked': 2, 'transport': 5, 'oh..': 4, 'dimitriou': 1, 'alley': 9, 'arturo': 1, 'sansoval': 1, 'offensive': 13, 'isrc': 1, 'codes': 8, 'bds': 2, 'morning..': 1, 'mall': 27, 'nails/eyebrows': 1, '333': 13, 'adoption': 4, 'sharepoint': 1, 'arcs': 1, 'dystopian': 1, 'anthology': 3, 'energies': 1, 'obsessions': 2, 'poledancer': 1, 'strippers': 4, '4525': 1, 'glenwood': 1, 'decatur': 1, 'ga': 12, 'ithankgod': 1, 'dekalb': 3, 'languages': 2, 'hispanic': 2, 'cc': 35, 'mislead': 1, 'courts': 3, 'lawyers': 5, 'bully': 5, 'autistic': 2, 'injure': 1, 'wmnldrs': 1, 'shoulders': 5, 'muhammad': 6, 'float': 2, 'sting': 1, 'bee': 7, 'fifty': 3, 'ilaughalotwhen': 1, 'pointers': 4, 'blocks': 3, 'am/mass': 1, 'multiplied': 1, '/gravity': 1, 'inertia': 1, 'w=mg': 1, 'amreading': 1, 'chapbook': 1, 'fiend': 1, 'thnks': 2, 'ithasbeenannounced': 1, 'suter': 1, 'ponies': 2, 'hooking': 6, 'mailchimp': 1, 'craftsman': 2, 'colicchio': 1, 'beowulf': 2, 'brit': 4, 'lit': 13, 'fool': 28, 'searching': 17, 'atm': 4, 'withdrawal': 2, 'amounts': 2, 'fairhaven': 1, 'twain': 8, 'exhibition': 5, 'coe': 1, '110': 2, '120': 4, 'motherfucking': 2, 'palpable': 1, 'dig': 23, 'stringbooks': 1, 'slip': 6, 'eservices': 1, 'holland': 4, 'mass': 15, 'leak': 2, '..or': 1, 'stressful': 5, '40.': 1, 'venables': 1, 'hoarse': 1, 'cramp': 3, 'danm': 2, 'feild': 1, 'jared': 3, 'lcd': 1, 'led': 8, 'together..': 2, 'undue': 2, 'boller': 1, 'raven': 5, 'first-rounder': 1, '80': 23, 'y/o': 4, '8:35pm': 1, 'cell': 21, 'headlights': 2, 'runners': 6, 'routes': 6, 'encourage': 9, 'collaborate': 3, 'collaborative': 4, 'niu': 1, 'crappy': 10, 'grandmoms': 1, 'lashes': 2, 'clancy': 2, 'retreat': 4, 'delivery': 18, '10am': 9, 'huhu': 1, 'c.l.a.p': 1, 'giveaway': 8, 'fathers': 8, 'two-time': 1, 'governor': 4, 'think—i': 1, 'banjo': 3, 'electric': 8, 'hartford': 3, 'scruugs': 1, 'inception': 3, 'ray/': 1, '2morrow': 13, 'gradebook': 1, 'updated': 20, 'teamiphone': 1, 'teamandroid': 1, 'bberry': 2, 'lasted': 6, 'scores': 9, 'recorded': 9, '3eacz': 1, 'cooler': 6, 'spilled': 3, 'almond': 1, 'hoodie': 4, 'crumbling': 1, 'blink': 5, 'cubs': 20, '2pm': 9, 'wgn': 1, 'briefcases': 1, 'envelopes': 1, 'mariam': 1, 'mines': 7, 'cop': 14, 'youu': 10, 'ull': 2, 'taze': 1, 'fucc': 1, '13-4': 1, 'payday': 4, 'platform': 15, '9¾': 1, 'pedo': 2, 'yuengling': 2, 'cure': 19, 'throats': 2, 'shitty': 11, 'olds': 4, 'trials': 2, 'learnings': 1, 'fouls': 3, 'nets': 7, 'tip-off': 1, '8:30': 7, 'standing': 22, 'ovation': 4, 'painless': 2, 'count-em': 1, 'cheddar': 5, 'farm-way': 1, 'well-being': 2, 'cholesterol': 2, 'pineapples': 1, \"t'f\": 1, 'warcraft': 3, 'nerd': 13, 'greys': 2, 'u.s.': 21, 'japan': 7, 'alien': 6, 'invaders': 2, 'lionfish': 1, 'singles': 5, 'incubators': 1, 'fbi': 2, 'alot': 35, '12,798,676': 1, '70,000': 1, 'bby': 5, 'mother..': 1, '👇hahaha': 1, 'colour': 4, 'anti-settlerism': 1, 'alienate': 1, 'indigenous': 2, 'jaws': 1, 'reds': 10, 'feature': 29, 'mlbisback': 1, 'ahh': 18, 'inch/second': 1, 'streamed/filmed/photographed': 1, 'transparency': 1, 'seldom': 2, 'nokidhungry': 1, 'seriously..': 1, 'anxiety': 7, 'homeworkcomplete': 1, 'yoda': 1, 'werd': 1, 'administrator': 1, 'a/b': 2, 'possible..': 2, '5703': 1, 'cline': 2, 'surge': 5, 'solve': 6, 'accelerator': 1, 'accepting': 13, 'hous': 1, 'spencer': 3, 'hes': 20, 'physically': 4, 'mentally': 9, 'plush': 1, 'th': 9, 'march22': 1, 'day-when': 1, 'financials': 1, 'greatly': 5, 'diligence': 3, 'i-85': 1, 'macon': 1, 'copying': 2, 'hazed': 1, 'infused': 1, 'packs': 6, 'hop': 21, 'smack': 10, 'cobwebs': 1, 'smalls': 2, 'guac': 2, 'w/habaneros': 1, 'dill': 1, 'droz': 1, 'swearing': 1, 'relieves': 1, 'folllowback': 1, 'thankyouu': 1, 'askaubrey': 1, 'alamogordo': 1, 'sunny': 27, 'pt': 6, 'americinn': 1, 'suites': 1, '9780': 1, 'northeast': 2, 'blvd': 5, 'fishers': 1, 'spammed': 2, 'ric': 2, 'flair': 1, 'moments': 23, 'reactions': 2, 'fish-oil': 1, 'samples': 4, 'geico': 1, 'car-accident': 1, 'full-body': 1, 'morals': 5, 'decisions': 19, 'hump': 10, 'lookout': 5, 'mr.': 33, '305': 3, 'jt': 2, 'duets': 1, 'sham': 1, 'musik': 2, 'imherenowthealbum': 1, '182': 2, 'thou': 3, 'makest': 1, 'dwell': 3, 'safety.': 1, '~psalm': 1, 'expects': 4, '1000': 12, 'mmhm': 1, 'timmy': 4, 'time\\ue42b': 1, 'purchases': 2, 'charlottebruse': 1, 'iwanna': 2, 'vow': 2, 'paille': 1, 'gooooaaaallll': 1, 'tie': 18, '2-2.': 2, 'roseangel': 1, 'gordon': 4, 'described': 7, 'upscale': 2, 'casual': 5, 'taqueria': 1, 'hubby': 16, 'regularly': 7, 'quite-nice': 1, 'glitchy': 1, 'september': 8, 'ebay': 6, 'common': 25, 'household': 6, 'scenes': 6, 'manila': 2, 'dvd/cd': 1, 'helen': 5, 'sounded': 10, 'remarkable': 6, 'chancellor': 2, 'katehi': 1, 'lexis': 1, 'radar': 7, 'bit..': 1, 'tweeter': 4, 'tease': 3, 'back😥': 1, 'couldnt': 10, 'im.worried': 1, 'fyi': 17, 'gathering': 6, 'mcsorley': 1, '7th': 18, '10003.': 1, 'snatched': 3, 'right-quick': 1, 'recapping': 1, 'thousands': 11, 'troops': 5, 'afghanistan': 3, '19newsnightcast': 1, 'chops': 5, 'mash': 4, 'stuffed': 6, 'hold.to': 1, '.way': 1, '-romeo': 1, 'santos': 2, 'ft.': 5, 'usher': 3, 'coldplay': 2, 'nascar': 4, 'pure': 15, 'hi-larity': 1, 'mcvaney': 1, \"'do\": 3, '20-25': 2, 'merchandise': 5, 'abc': 14, 'gcb': 3, 'river': 20, 'upfronts': 1, 'bloodshed': 1, 'cuts4acause': 1, '9-3': 1, '414.988.4165': 1, '123': 1, 'versaspa': 1, 'spray': 2, 'bother': 13, 'leather': 3, 'feather': 3, '6/5': 1, '6/7': 1, '500': 18, 'help..': 1, 'shoutoutwith': 1, 'shoutouts': 2, 'considerate': 2, 'unm': 5, 'ctia': 2, 'extending': 1, 'deadline': 15, 'older': 19, 'either..': 1, 'optional': 1, 'wisely': 4, 'cotto': 4, 'cotton..': 1, 'lib': 4, 'exquisite': 3, 'mitigate': 1, 'risks': 7, 'alt': 4, 'sources': 5, 'mainstage': 1, 'theory': 10, 'texan': 3, 'spook': 1, 'drew': 17, 'forte': 1, 'deb': 2, 'hu': 3, 'jintao': 1, 'fanfare': 1, 'waving': 4, 'protesting': 5, 'top25cartoonseriesofalltime': 2, 'jem': 1, 'nonprofits': 2, 'advocates': 4, 'maximize': 4, 'effort': 21, 'mid': 5, '1785': 1, '11:30am': 5, 'allison': 6, 'hatter': 1, 'presley': 1, 'mma': 5, 'knockout': 4, 'batista': 1, 'offered': 10, 'chronicles': 2, 'riddick': 2, 'const.was': 1, 'const': 1, '2b': 5, 'thug': 2, 'n***a': 1, 'tourist': 3, 'amiss': 1, 'glance': 2, 'kayuhbicycles': 1, 'waves': 7, 'stpatricksday': 2, '16th': 4, 'bling': 1, 'blong': 1, 'brenda': 1, 'shuld': 2, 'dumped': 3, 'judy': 5, 'collins': 5, 'suite': 3, 'fiction': 12, 'lie.': 1, 'stephen': 7, 'undertaker': 3, 'taker': 2, 'reboot': 4, 'monitoring': 4, '90': 20, 'pandemia': 1, 'jfk': 7, 't5': 1, 'tissue': 3, 'epicenter': 1, 'sidewalk': 6, 'selection': 12, 'napkins': 1, 'bergs': 1, 'rebound': 2, 'angiogram': 1, 'stent': 1, 'quiet..': 1, 'mask': 6, 'unmask': 1, 'pvk': 1, '400im': 1, 'headbangs': 1, 'flips': 2, 'chesapeake': 1, 'saysomethin': 7, 'asdfghj': 1, '‧phill': 1, 'yelling': 8, '‧lil': 1, 'umm': 11, 'phill': 2, 'mommy…': 1, 'treating': 10, 'gasoline': 2, 'ranger': 4, 'theatresports': 1, 'meets': 13, 'chairs': 3, 'veterans': 10, 'shenandoah': 1, 'valley': 11, 'medal': 5, 'pandas': 1, 'kungfu': 1, 'websites': 16, 'infiorm': 1, 'similar': 12, 'sphere': 1, 'rolls': 9, 'cube': 4, 'willingham': 1, 'lind': 1, 'youkilis': 1, 'encarnacion': 1, 'leveling': 1, 'tommy': 6, 'cacs': 1, '270,000': 1, 'suspected': 1, 'sexually': 1, 'abused': 4, 'savecacs': 1, 'tiger': 13, 'clearing': 1, 'shen': 1, 'yun': 1, 'successfully': 5, '2011/2012': 2, 'dispatched': 1, 'strips': 3, 'ib': 2, 'trent': 4, 'tbs': 4, 'announcers': 2, 'tba': 2, 'bookings': 1, 'hollins': 3, 'rapper': 12, 'chi.grind': 1, 'crazy.s/o': 1, 'rmvd': 2, 'e.': 11, 'thos': 2, 'jefferson': 6, 'fails': 5, 'jk': 15, 'leaves': 15, 'randomly': 10, 'stray': 4, 's.o.s': 1, 'minus': 10, '63': 4, 'sparty': 1, 'carb': 3, 'loading': 3, 'nicer': 3, 'bailey': 2, 'formally': 1, 'europe': 13, 'european': 7, 'trillion': 4, 'marley': 3, 'sloth': 1, 'bowling': 9, '21million': 1, 'experiences': 9, 'trauma': 3, 'derailment': 1, 'mind/body/food': 1, 'diaper': 3, '*looks': 2, 'ways*': 1, 'deeper': 6, 'laughs': 8, '154-minute': 1, 'effin': 2, 'teamportland': 1, 'russia': 2, 'jamrock': 1, \"y'alls\": 2, 'sprinkle': 5, 'greatness': 11, 'deliriouss': 1, 'nicki': 7, 'minaj': 5, 'itsawesomewhen': 1, 'environment': 16, 'stopsdgepowerlink': 1, \"'they\": 2, \"'look\": 1, 'juwan': 1, 'borders': 4, 'glaad': 1, 'hastag': 1, 'followmydreams': 1, 'energize': 1, 'mechanisms': 1, 'satisfying': 2, 'even-handed': 1, 'atrocities': 1, 'committed': 9, 'serb': 1, 'imma': 19, 'peak': 3, 'mistakes': 16, 'reality': 27, 'ideal': 7, 'chandra': 2, 'terrific': 11, 'dosequis': 1, '4:00am': 1, 'appointmentlink': 1, 'r.e.m': 1, 'collapse': 1, 'silverstein': 1, 'rescue': 11, 'smashing': 2, 'pumpkins': 4, 'mellon': 2, 'collie': 1, 'sadness': 2, 'guard': 15, 'notebook': 6, 'mikes': 2, 'birchbox': 4, 'lions': 10, 'bauble': 1, 'fit': 31, '*2012*': 1, 'prague': 2, 'srry': 3, 'tht': 23, 'loons': 1, 'occasionally': 3, 'gramps': 1, '😊😘': 2, 'editor': 6, 'explaining': 5, 'accurately': 1, 'briefly': 4, 'underrated': 5, 'waddup': 2, 'man..': 3, '^kg': 1, '*the': 2, 'announce': 12, 'deuce': 2, 'lickin': 1, 'o_o': 13, 'ivy': 4, 'swim/dive': 1, '2012-13': 4, 'captains': 1, 'debacle': 2, 'tequila': 8, 'shear2011': 1, 'plenary': 2, '5:15': 1, 'removed': 5, 'resemblance': 1, 'visual': 11, 'nashville/tn': 1, 'texting': 23, 'gac': 1, '501501': 1, 'fundraiser': 13, 'driver': 24, 'license': 17, 'renewed': 3, 'anything..': 1, 'trusted': 2, 'olivia': 6, 'rap': 25, '9933': 1, 'greendield': 1, 'supports': 7, 'evapro': 1, 'benjamin': 9, 'disraeli': 2, '1860s-70s': 1, 'republican-controlled': 1, 'legislatures': 1, 'bans': 2, 'b4': 17, \"incl'g\": 1, 'ala.': 1, 'wash.': 2, 'terr': 1, 'to-do': 3, 'item': 7, 'sharpen': 1, 'unfair': 5, '.the': 5, 'norm..got': 1, 'mee': 9, 'provoked': 2, 'lower': 11, 'badge': 7, 'analysis': 7, 'writng': 1, 'sentace': 1, 'dancers': 15, '~author': 4, 'unkown~': 1, 'premiere': 13, 'dessner': 1, 'carolyn': 2, 'kerouac': 1, 'sur': 2, \"y'know\": 3, '*evil': 1, 'smile*': 1, 'kool': 3, 'sees': 10, 'skoolwork': 1, 'arranging': 2, 'orchestral': 1, 'vocal': 3, 'scenarios': 3, 'served': 16, 'durning': 1, 'log-ins': 1, 'gratitude': 8, 'appreciating': 1, 'billing': 1, 'login': 4, 'https': 1, 'mobility': 2, 'dm/email': 1, 'weekly': 14, 'luncheon': 7, 'providence': 3, 'skc': 4, 'draws': 2, 'bashh': 2, '..one': 1, 'assets..choose': 1, 'empower': 3, '.live': 2, 'partying': 6, 'puño': 1, 'flirting': 3, 'highly': 15, 'disrespectful': 3, 'harmless': 1, 'hurtful': 2, 'ughhjj': 1, 'jeremy': 6, 'ien': 1, 'brush': 7, 'ces': 2, 'hotest': 1, 'size': 24, 'in_____': 1, 'jahahahahaha': 1, 'numb': 2, 'grande': 2, 'skinny': 20, 'latte': 8, 'edwards': 7, 'welcoming': 3, 'joakimlindroos': 1, 'brenindavs': 1, 'mitochondria4': 1, 'that.matters': 1, 'remakes': 2, 'channing': 2, '*swoon*': 1, 'mistake..': 1, 'sharkbite': 1, 'studios': 7, '*like*': 1, 'spooky': 2, 'flavors': 8, 'boo-nana': 1, 'festive': 2, 'newlyweds': 1, 'garcia': 3, 'sleeve': 6, 'parallax': 1, 'coctail': 1, 'busters': 1, 'timely': 4, 'epub': 1, 'sunburn': 3, 'myths': 1, 'stripped': 3, 'bare': 3, 'darker': 6, 'sunscreen': 2, 'advantage': 14, 'exerciseinfutility': 1, 'freida': 1, 'howl': 1, 'timeshare': 1, 'owners': 11, 'doh': 6, 'trite': 2, 'devloprs': 1, '5t': 1, 'documentary': 14, 'specifics': 1, 'damnit': 5, 'laser': 6, 'pain': 46, 'swelling': 3, 'quicker': 6, 'crow': 3, 'squirrel': 4, 'cartoon': 4, 'disney': 15, 'stroke': 2, 'midnight': 18, 'millennium': 2, \"cn'g\": 1, 'shwng': 1, 'mitt': 18, 'w/women': 1, 'informative': 6, 'recommendations': 10, 'bayview': 1, 'centraal': 1, 'jeff': 16, 'teague': 3, 'yoked': 1, 'sporting': 8, 'buck': 6, 'aikman': 1, 'mnf': 1, 'fallon': 2, 'jamming': 4, 'matthews': 3, 'goodtimes': 1, 'pro-choice': 1, 'tellthewhitehouse': 1, 'angels': 16, 'approaching': 3, 'document': 6, 'pssst': 1, 'mimosa': 1, 'mamas': 2, 'pizzas': 3, 'sabotage': 4, 'talents': 9, 'milkshakes': 2, 'smoother..': 1, 'tl': 14, 'nye': 6, 'lapel': 1, '~maya': 1, 'earrings': 5, '12/6': 1, 'centre': 4, 'tower': 8, '7:30am-2:30pm': 1, 'jaguars': 4, '.*sighs*': 1, 'analytics': 9, 'enhance': 1, 'theirs': 3, '1000000000000000th': 1, 'scared': 27, 'becaise': 1, 'movements': 3, 'one-at-a-time': 1, 'hygene': 1, 'apologetics': 1, 'tract': 1, 'tale': 3, 'cycle': 8, 'mals': 1, '😒': 14, 'conception': 1, 'psalm': 4, '139:13': 1, 'jeremiah': 2, '1:5': 1, 'soy': 3, 'lecithin': 1, 'sourced': 1, 'soy-free': 1, 'brat': 2, 'incentives': 1, 'kick-start': 1, 'bellingham': 2, 'bbj': 2, 'gaa': 2, 'them..lol': 1, 'convenient': 4, 'earns': 1, 'wash': 19, 'bros': 5, 'craving': 12, 'reptiles': 2, 'blerg': 1, 'filtering': 1, 'african': 15, 'hugo': 3, 'assumed': 2, 'intern': 8, '10-hour': 1, 'carrier': 2, 'prep': 12, '6-mo': 1, 'deployment': 2, 'uss': 1, 'nimitz': 1, 'adopt': 6, 'hellhound': 1, 'yah': 4, 'whatcha': 4, 'unexpected': 5, 'sight': 10, 'aggressive': 7, 'prius': 1, 'tweet-worthy': 1, 're-complain': 1, 'throwback': 2, 'poloroids': 1, 'steal.i': 1, 'collecting': 5, 'sunday=': 1, 'racists': 1, 'tec': 1, 'baptism': 1, 'harding': 1, 'fountain': 7, 'amass': 2, 'medlibs': 1, 'sends': 4, 'idfangirlifjustin': 1, 'caked': 1, 'generated': 4, 'demi': 4, 'goingto': 1, 'loose': 6, '1d': 8, 'kelsey': 2, 'kylie': 1, 'ncaa': 15, 'addiction': 7, 'speeches': 3, 'rhe101': 1, 'miser': 1, 'w-th-f-sa': 1, 'prank': 6, '4:30': 8, 'carolers': 1, 'grades': 13, 'k-6': 1, 'serenade': 2, 'numbers': 17, 'titles': 7, 'surnames': 1, 'crews': 3, 'computers': 3, 'recreate': 3, 'liscenses': 1, 'threewordstoliveby': 1, 'literary': 6, 'existential': 3, 'crisis': 13, 'screaming': 14, 'safeway': 1, 'select': 8, 'timberlake': 3, 'instantly': 4, 'endearing': 1, 'grillmaster': 1, 'cheesesteak': 2, 'rveryone': 1, 'parked': 5, 'elcortez': 1, 'cheesesteakd': 1, 'script': 18, 'accents': 2, 'attractive': 11, 'uverse': 1, 'directly': 13, 'punk': 13, 'audrey': 2, 'hepburn': 3, 'connected': 9, 'viited': 1, 'germany..': 1, 'valerie': 4, 'simpson': 7, 'legendary': 6, 'songwriter': 1, 'ashford': 1, 'enter': 30, 'correctly': 8, 'packrads': 1, 'spammer': 1, 'kuwait': 2, 'hiring': 15, 'slight': 3, 'nanowrimo': 2, 'nanowordsprint': 1, 'justcantgetenough': 1, 'ipads': 3, 'ipods': 3, 'infants': 2, 'toddlers': 1, 'interacting': 1, 'w/them.there': 1, 'circle': 10, 'active': 16, 'noun': 2, 'struggle': 10, 'trayvon': 10, 'zimmerman': 10, 'baron': 2, 'davis': 17, 'pau': 4, 'gasol': 6, 'linchpin': 1, 'retiring': 4, 'lists': 10, 'carts': 3, 'discover': 6, 'lincolnpark': 1, 'printer': 3, 'fighter': 4, 'blew': 7, 'dfw': 5, 'railroad': 1, 'commission': 10, 'h-town': 1, '1hr': 1, 'ohmygosh': 2, 'perverted': 2, 'shalyn..': 1, 'icheckedhimout': 1, 'commonness': 1, 'lhsaa': 1, 'participating': 9, 'pin': 6, 'purchasing': 2, 'pantera': 1, 'coupon': 10, 'p.': 5, 'accompanying': 3, 'g.': 5, 'claiborne': 1, 'camino': 1, 'arms': 18, 'tascada': 1, 'band-aids': 1, 'hip': 25, 'punched': 5, 'brent': 5, 'nickname': 5, 'badger': 5, 'direct': 31, 'deposit': 5, 'payout': 1, 'venues': 5, 'huzzah': 3, 'financially': 3, 'professionally': 4, 'standstill': 1, 'bothers': 1, 'snob': 1, 'selective': 2, 'narrative': 2, 'frontline': 2, 'swayed': 1, 'geithner': 1, 'ltr': 1, 'rahm': 1, 'toughen': 1, 'responsible': 10, 'comforting': 3, 'thumb': 3, 'breaks': 12, 'juices': 3, 'snacks': 3, 'congested': 2, '90210': 4, 'means..': 1, 'cyclechic': 1, 'isseymiyake': 1, 'jumpsuit': 1, 'paired': 1, 'rosherun': 1, 'jokes': 18, 'asante': 1, 'load': 13, 'ppplllleeeeaaaaasssseeeee': 1, 'musepub2012': 1, 'outlines': 2, 'downloads': 3, 'fascinating': 6, 'longevity': 3, 'humanities': 6, 'stabbed': 3, 'plays': 27, 'freudian': 1, 'pucks': 2, 'boner': 5, 'iaas12': 1, 'w/wide': 1, 'range': 9, 'two..let': 1, 'you..i': 1, 'u♥': 1, 'nicoise': 1, 'basil': 4, 'seared': 2, 'truffled': 1, 'asparagus': 3, 'fingerling': 1, 'mixed': 8, 'greens': 6, 'unpossible': 1, 'simpsons': 2, 'pdfs': 2, 'usb': 3, 'zoom': 4, 'functionality': 4, 'shrewd': 1, 'ip': 4, 'vlc': 1, 'zc': 1, 'camper': 3, 'animal': 13, 'cages': 2, 'a8': 1, 'smear': 2, '//': 16, 'shootin': 1, 'resolve': 3, 'evolve': 1, 'zed': 1, 'purposes': 2, 'sagaftra': 1, 'ballot': 5, 'toll': 3, '855.724.2387': 1, 'horse': 23, 'gone.well': 1, 'that.just': 1, '90th': 1, 'springtraining': 1, 'roy': 10, 'halladays': 1, \"'hand\": 1, 'hash': 5, 'compadres': 1, 'objects': 5, 'slippery': 1, 'slope': 1, 'watchmen': 1, '=/': 5, '.oh': 2, '.let': 3, '.show': 1, '4.09': 1, 'gallon': 4, 'query': 1, 'weed': 19, 'gummy': 2, 'vitamins': 3, 'potomac': 1, 'metrorail': 1, 'implementation': 2, 'alexandriava': 1, 'nce11': 1, 'conn.': 1, 'supt': 2, 'reframed': 1, 'walmart': 6, 'shovels': 1, 'mobileindiana': 1, 'noon-4': 1, 'southridge': 1, 'restrictions': 2, 'corley': 1, '15+': 2, 'scholars': 3, 'scholarly': 6, 'multimedia': 2, 'scalar': 1, 'hypercities': 1, 'signal': 4, 'wondered': 9, 'israel': 9, 'performer/teacher': 1, 'pov': 2, 'credit..next': 1, \"'those\": 1, 'bs': 14, 'scene': 26, 'garage': 8, 'subscription': 8, 'smackdown': 1, 'scanner': 4, 'upskirt': 1, 'laid': 9, 'graders': 6, '2016': 5, 'wack': 4, 'supermom': 1, 'wedding..': 1, 'feelin': 7, 'swapping': 1, 'martini': 4, 'lime': 3, 'dipped': 3, 'pathetic': 8, 'romneybain': 1, 'crushed': 4, 'pension': 2, 'walkoff': 2, '5-12': 1, 'engine': 6, 'survive': 7, 'teeheee': 1, 'lint': 2, 'roller': 4, 'vaccume': 1, 'mariah': 2, 'procrastination': 6, '2-part': 1, 'progressparty': 1, 'hosts': 7, 'inc': 6, '+neil': 1, 'douglas': 4, 'vowell': 1, 'reads': 13, 'delightful': 3, 'narrator': 3, 'chains': 3, 'woods': 13, 'w/consistency': 1, 'tees': 9, 'indigestion': 1, 'allah': 4, 'reward': 8, 'remains': 6, '-dr': 2, 'abdul': 2, 'hayy': 1, 'nintendo': 2, 'surgeons': 1, 'granted': 4, 'cbb': 1, 'sunday..': 1, 'clemson': 1, '+7': 1, 'stanford': 4, '+1': 5, 'vox': 1, 'mini': 12, 'bembe': 1, 'disc': 5, '*big': 2, 'hugs*': 2, 'blessings': 13, 'pig': 7, 'inspires': 7, 'engagement': 9, 'conversationalists': 1, '58': 1, 'gna': 2, 'twitterless': 2, 'chuck': 11, 'carmel': 1, 'avocados': 1, 'allerton': 1, 'uncommon': 1, 'command': 3, 'carver': 1, 'idleness': 1, '—proverbs': 1, '31:27': 1, 'emilyy.': 1, 'hum': 5, 'exaggeration': 2, 'undegraduate': 1, 'tuition': 1, '2:30': 4, 'dvr': 13, 'hendersonalvarez': 1, '22.': 3, 'bootcamp': 6, 'detected': 1, 'objective': 4, 'caribbean': 3, '💙': 4, '💚': 5, '💜': 8, 'pray': 22, 'inviting': 1, 'stated': 4, 'morgana': 1, 'scary-sharp': 1, 'cheekbones': 1, 'sacrifices': 3, 'morgause': 1, 'bodyfat': 1, 'bestlovemovie': 1, 'yellow': 13, 'stat': 10, 'daytona500': 1, 'smelly': 8, 'playin': 6, 'happily': 8, 'epitaph': 1, 'nanosecond': 1, 'candle': 9, 'blowtorch': 1, 'hart': 8, 'cofounder': 1, 'gutenberg': 1, 'nasty': 26, 'wet': 25, 'jaw': 4, 'primary': 13, 'eent': 1, 'specialist': 6, 'draining': 2, 'abcnews': 1, 'wallace': 4, 'copyblogger': 1, 'gang': 10, 'goo.gl/l9f1l': 1, 'vote2012': 1, 'raleigh': 2, 'quarter': 18, 'drive-thru': 2, 'yelled': 5, 'pho': 3, 'oosh': 1, 'proof': 14, 'sunsets': 1, 'silhouette': 2, 'finishes': 7, 'sentences': 4, \"'eh\": 1, \"'chai-pod\": 1, 'extreme': 12, 'followfriday': 4, 'freaks': 4, 'shoes..': 1, 'pattern': 5, 'oilersqa': 1, 'dq': 2, 'attacking': 4, 'quitter': 1, 'misogynist': 1, 'sams': 3, 'world-wide': 1, 'critical-thinking': 1, 'creativity': 11, 'andaluz': 1, '9pm': 10, 'pawn': 3, 'chased': 2, 'day..good': 1, 'arizonans': 1, 'facial': 6, 'mustache': 12, 'entourage': 3, 'clutter': 2, 'canons': 1, 'firing': 1, '5-8pm': 3, 'harlem': 4, 'bitchin': 2, '.everyone': 1, 'version': 33, 'blackalicious': 1, 'rookies': 1, 'likeminds': 1, 'starwars': 1, '3er': 1, 'oddly': 7, 'bret': 3, 'bielema': 1, 'barry': 4, 'alvarez': 3, 'discharge': 2, 'tagless': 1, 'neck': 16, 'proverbial': 1, 'denial': 2, 'sexuality': 2, 'circumstances..': 1, 'foe': 2, 'wars': 15, 'www.eccoffee.com/events': 1, '4-5': 3, '7-830': 1, 'indian': 9, 'pg': 6, 'atx': 2, 'challenges': 9, 'insights': 8, 'epicurean': 1, 'dining': 10, 'brad': 15, 'segall': 1, 'relevance': 3, 'angle': 2, 'dominate': 5, 'mexicans': 4, 'lawyer': 6, 'askin': 2, 'iz': 4, 'a-z': 1, 'supportlocalmusic': 3, 'gashouse': 1, 'jist': 2, 'lousy': 4, 'wrapping': 13, 'bow': 4, '..especially': 1, 'cruz': 3, 'district': 16, 'champs': 7, 'jennifer': 6, 'hudson': 4, 'chills': 5, 'givs': 1, '4:13': 1, 'panini': 2, 'bitenyc': 1, 'off-broadway': 1, '4thstreettheatre': 1, 'lulassweetapothecary': 1, 'karen': 6, 'beard': 12, 'teenchoiceawards': 1, 'streaming': 9, 'cottage': 3, '=_=': 1, 'tourism': 5, 'ae': 5, 'vp': 6, 'executi…': 1, 'montessori': 2, 'pinterest': 16, 'juxtapost': 1, 'slurpee': 2, '711': 1, '1967': 1, 'dbl': 1, 'psych': 4, 'attached': 12, 'another…': 1, 'chipmunks': 2, '-david': 1, 'likewise': 8, 'fiiiiiiiinnnneeeeeeeeeeeeee': 1, 'wits': 2, 'yupperz': 1, 'wisewords': 1, 'suicide': 11, 'permanent': 7, 'o.o': 12, 'balcony': 3, 'peers': 4, 'railings': 1, 'ava': 3, '5-': 1, 'replied': 2, 'palin': 7, 'alek': 1, 'u.': 6, 'harbor': 3, 'sailing': 3, 'bogut': 1, 'what-sanders': 1, 'dropping': 13, 'collabs': 1, 'chs': 1, 'experienced': 10, 'centers': 5, 'vcu': 2, 'clinched': 1, 'drexel': 1, 'tournaments': 1, 'pi': 3, 'nerdy': 6, 'biggie': 5, 'shld': 2, 'bella': 7, 'coin': 4, 'gleaming': 1, 'hovering': 2, '-huge-': 1, 'horizon': 5, 'dustinhengst': 1, 'damone': 1, 'bleu': 1, 'fears': 5, '~rudyard': 1, 'kipling': 1, 'woah': 6, 'kooky': 2, 'lend': 3, 'comb': 1, 'handling': 5, 'mainline': 1, 'addicted': 12, 'bullshit': 18, 'tatzoo': 1, 'campaigns': 2, 'locally': 5, 'endangered': 2, 'wildlife': 5, 'whoah': 1, 'odd': 15, 'spelled': 3, '0.0': 1, 'pageant': 3, 'planets': 1, 'richardson': 5, 'wiley': 1, 'dbualum': 1, 'family~': 1, 'marc': 5, 'express': 19, 'downside': 2, 'pretzel-wrapped': 1, 'sausages': 1, 'mathematics': 3, 'formulas': 1, 'proofs': 1, 'imagination': 3, 'mathematicians': 1, 'screenings': 2, 'foreign': 11, 'releases': 2, 'burnham': 2, '11/11/11': 2, 'clock': 11, 'fund': 11, 'raiser': 1, '3k': 1, 'int': 1, 'preorder': 1, 'stacking': 3, 'pennies': 4, 'radiohead': 2, 'thekingoflimbs': 1, 'thestrokes': 1, 'irenehaseffectedyourmind': 1, 'hornets': 1, 'shinn': 1, 'clowns': 3, 'armed': 3, 'whipped': 6, 'pies': 2, 'symbol': 2, 'octothorpe': 1, '*giggles*': 1, 'comin': 8, 'compliment': 14, 'derbs': 1, 'confirmation': 4, 'gives': 33, 'see.the': 1, 'wtf.lol': 1, 'germans': 1, 'coca-cola': 1, 'fanta': 2, 'nova': 5, 'mud': 8, 'heartbeat': 4, 'backdoor': 1, '9yo': 1, 'lad': 1, 'mischlers': 1, 'florist': 1, 'perennial': 1, 'flower': 2, 'bummer': 13, 'shidd': 1, 'blowout': 2, '11s': 1, 'tmz': 1, 'davy': 2, 'monkees': 3, 'away.is': 1, 'gigs': 2, 'farther': 2, 'regardless..': 1, 'weirdest': 4, 'christian': 14, 'ye': 5, 'chewing': 3, 'britt': 2, 'syracuse': 5, 'gym…going': 1, 'pace': 10, 'patience.': 1, '~ralph': 1, 'waldo': 9, '-john': 4, 'mason': 4, 'ciz': 1, 'trough': 2, 'horde': 2, 'entertaining': 6, 'embracing': 1, 'outlook': 3, 'tcsfhq': 1, 'operator': 1, 'sade': 3, 'infidelity': 1, 'leego': 1, 'tesol': 1, 'hardens': 1, 'tires': 5, 'injures': 1, 'leeds': 1, 'away..': 3, '-adam': 2, 'sandler': 1, 'ayy': 3, 'sportscenter': 2, 'whoa': 23, 'claims': 4, 'ikipedia': 1, 'witter': 1, 'acebook': 1, 'grads': 7, 'ag': 5, 'solemnly': 1, 'half-way': 1, 'ibooks': 1, 'cruelest': 1, 'sti…': 1, 'dead..': 2, 'tn': 7, 'milfs': 1, 'plucking': 1, 'shoes': 32, 'melodies': 1, 'sings': 7, 'mulieribus': 1, 'stephens': 2, 'sherry': 3, 'edged': 2, 'weapons/tools': 1, 'hatchets': 2, 'swords': 1, 'knives': 2, 'pissing': 3, '___': 1, 'steeler': 2, '3a': 2, '3b': 1, '15l': 1, '10+': 5, '3y': 1, 'avatar': 10, 'greatestalbumsofalltime': 1, 'metallica': 2, 'nirvana': 1, 'pearl': 4, 'ten': 28, 'edutweet': 1, 'blondetourage': 1, 'blonder': 1, \"'one\": 1, 'sung': 3, 'amish': 2, 'referring': 8, 'overreaction': 2, 'doomsday': 1, 'acus': 1, 'ruddy': 1, '225,000': 1, 'week..': 3, 'bum': 10, 'qr': 3, 'guilty': 15, 'groups': 16, 'thrs': 1, '6-9': 2, 'atrium': 1, 'sketching': 3, 'galleries': 4, 'lagocki': 1, 'rimm': 1, 'goog': 2, 'com': 4, 'nay': 6, 'violence': 9, 'subtleties': 1, '10thingsthatannoyme': 1, 'jay-z': 6, 'violets': 2, 'day..long': 1, ',and': 1, 'parenting': 4, 'zayn': 10, 'autographed': 2, 'lanyard': 2, 'puzzled': 3, 'puzzler': 1, 'grinch': 1, 'hadn': 1, 'guarantee': 6, 'trig': 2, 'randy': 3, 'watson': 7, 'gentlemen': 6, 'nevertrustaguywho': 1, 'blackhawks': 5, 'overtime': 1, 'examples': 5, '.instead': 1, 'work/life': 1, 'lifetime': 14, '4-letter': 1, 'undergo': 1, 'procreate': 2, 'swagga': 1, '..i': 8, 'undoubtedly': 1, 'humans': 6, 'capacity': 5, 'goose': 8, 'isitfootballseasonyet': 1, 'coachingfail': 1, 'bahahahaha': 3, 'lofts': 2, 'setup': 8, 'instruments': 4, 'keys': 13, 'goddess': 3, \"'em\": 22, 'snowpack': 1, 'northern': 9, 'flow..': 1, 'loved/hated': 1, 'fanfiction': 1, 'addict': 2, 'fanficiton': 1, 'recommendation': 8, 'bamon': 1, 'everlark': 1, 'zutara': 1, 'ect': 1, 'augie': 1, 'garrido': 1, 'horns': 6, 'baylor': 5, 'op': 6, 'paths': 3, 'pac': 5, 'orleans': 14, 'fetch': 1, 'bacon-wrapped': 1, 'pita': 1, 'nacho': 2, 'jan': 16, 'tracked': 2, 'norse': 1, 'rebirth': 2, 'suuupppppeeeerrr': 1, 'kacie': 1, 'fuuuuuccck': 1, 'mothafucking': 1, 'beaner': 1, 'guys..': 1, 'bleared': 1, 'cutest': 13, 'dominated': 5, 'sept': 9, 'patriots': 10, '.yeah': 2, '20topfavouritesongsever': 1, 'fiona': 1, 'stickam': 1, 'win/lose': 1, '/bcspeech.ca': 1, 'polls': 6, 'a-changin': 1, 'malik': 2, 'superb': 3, 'absurd': 4, 'bruegger': 1, 'worthwhile': 6, 'consumption': 2, 'songwriters': 1, 'symposium': 6, 'chronicle': 3, 'crosby': 4, 'sweepstakes': 4, 'jagr': 1, 'strait': 4, 'tranquilizing': 1, 'gradualism': 1, '-mlk': 1, 'osu': 7, 'w/peter': 1, 'erskine': 1, 'mar': 3, 'w/him': 1, 'ksr': 1, 'claude': 2, 'm.': 4, 'bristol': 4, 'wrk': 3, 'bahaha': 4, 'glide': 2, 'holders': 3, '.an': 1, 'advised': 1, 'jacoby': 1, 'witch': 5, 'with=d': 1, 'blogging': 4, 'fringebinge': 1, '-rs': 1, '4x11': 1, 'www.blogtalkradio.com/lawlessra': 1, 'according': 20, 'graffiti': 1, 'sheena': 1, 'easton': 2, 'stacey': 3, 'melancholia': 3, 'tristan': 1, 'chord': 3, 'skies': 10, 'fade': 4, 'darkness..': 1, 'seas': 5, 'him..and': 1, 'crayon': 3, 'turkeys': 2, 'debella': 1, 'wmgk': 1, 'gather': 6, 'ironfork': 1, 'brisket': 1, 'beardsquared': 1, 'sweetie': 12, 'coyotes': 4, 'dyha': 1, 'oceanside': 1, '10/22': 1, 'zayan': 1, 'lakes': 1, 'peer': 5, 'mart': 2, 'ban': 6, 'midget': 3, 'wicked': 9, 'keepupthegoodworkinfl': 1, 'bostonontherun': 2, 'cher': 3, 'gosting': 1, 'ninja': 11, '2brokegirls': 1, 'spree': 2, 'skirts': 3, 'cub': 2, 'gin': 6, 'juice': 23, 'fitting': 5, 'petsmart': 1, 'australian': 4, 'mates': 1, 'rehearsing': 4, 'vaughn': 2, 'evensong': 1, 'cathedral': 1, '330pm': 1, 'f4f': 4, 'beijing': 2, 'wordswithfriends': 2, 'smacked': 2, 'models': 19, 'sets': 15, 'levels': 15, 'conical': 2, 'choral': 2, 'chor': 1, 'wikipedia': 5, 'snark': 1, 'critique': 3, 'hoards': 1, 'landrieu': 1, 'sth': 2, 'celtics': 9, 'dwts': 6, 'habby': 1, 'explodes': 1, 'hngjdhs': 1, 'spotlight': 5, 'faded': 8, 'lyin': 3, 'woopwoop': 1, 'hilary': 1, 'waster': 1, 'shane': 6, 'gut': 5, 'plugging': 1, 'ubuntu': 3, 'lucid': 1, 'installed': 8, 'php': 6, 'module': 4, 'kimbra': 1, 'gotye': 1, 'solidisco': 1, 'remix': 7, 'nicest': 6, 'abit': 1, 'devvo': 2, 'snake': 3, 'bites': 5, 'egyptian': 1, 'pinch': 1, 'rudely': 1, 'awakened': 3, 'disgusts': 1, 'tryout': 1, 'trumpety': 1, 'whaaa': 2, 'whaa': 2, 'whaaaaaa': 1, 'fitworks': 2, 'ahs': 1, 'athletes': 7, 'gimmicks': 2, 'peeve': 4, 'stats': 12, 'ehm': 1, 'degraded': 1, 'heckeled': 1, 'pens': 16, 'travis': 7, 'bowdren': 1, 'swinging': 4, 'hokies': 2, '4-2': 1, 'dalek': 1, 'partier': 1, 'az': 12, 'thesis': 2, 'statement': 14, 'fax': 1, 'poms': 1, 'husky': 2, 'diplomatic': 1, 'afterwards': 5, 'justify': 2, '1b': 2, 'bios': 2, 'acy': 1, 'frease': 1, 'busiest': 4, 'breathing': 6, 'saves': 9, 'exact': 16, 'cali': 18, 'keeper': 3, 'fitzees': 1, 'pizzapasta': 1, 'wheat': 4, 'penne': 1, 'mozzarella': 2, 'spices': 3, 'inclusion': 2, 'no.101': 1, 'expressing': 4, 'inexpressible': 1, 'aldous': 1, 'huxley': 1, 'auto': 14, 'goodsir': 1, 'danger': 8, 'military': 13, 'kcbbq.net/events/': 1, 'flat': 15, 'munchie': 1, 'mommas': 3, 'neogeography': 1, 'friess': 1, 'jlo': 2, 'achieved': 6, 'enthusiasm': 6, 'swagginn': 1, 'poutine': 1, 'mercury': 3, 'bertrand': 1, 'russell': 9, 'authority': 5, 'inject': 2, 'wlkn': 1, 'longhorn': 1, 'offended': 4, 'reported': 8, 'tpb': 1, 'ufo': 2, 'rochester': 4, '..and': 3, 'boisjoly': 1, 'nasa': 5, 'contractor': 4, 'repeatedly': 6, 'voiced': 1, 'concerns': 7, 'challenger': 1, 'exploded': 2, '73': 2, 'rob': 10, 'stopping': 17, '8-11': 1, 'wfmu.org': 1, 'gladly': 2, 'drawer': 1, 'ashton': 4, 'kutcher': 1, 'mhmm': 2, 'flawless': 6, 'prom': 24, 'appointments': 1, 'matches': 9, 'bronze': 2, 'geometric': 1, 'acceptable': 6, 'joined': 18, 'two-piano': 1, 'pieces': 13, 'soundcloud.com/hand2ear': 1, 'revising': 2, 'scoring': 7, 'windows': 22, 'blank': 7, 'srsly': 6, 'top-secret': 1, '150': 8, 'ensure': 3, 'burberry': 2, 'hireup': 1, 'facial/massage': 1, 'beachside': 2, 'café': 1, 'tradeshow': 1, '1110-4': 1, 'wristband': 3, 'freebies': 1, 'dyk': 1, 'alexa': 1, 'canady': 1, 'm.d.': 1, 'became': 11, 'neurosurgeon': 1, 'dst': 1, 'stilettos': 1, 'emphamous': 1, 'goodie': 2, 'www.thehomeandgardenmarket.com': 1, 'dolphins': 6, '10thingsifindattractive': 1, '-gays': 1, 'bisexuals': 1, 'lesbians': 1, 'frowned': 2, 'hoop': 5, 'appreciates': 3, 'swagger': 4, 'jacking': 1, 'shuff-a-lin': 1, 'thunk': 2, 'retro': 4, 'neon': 7, 'short-': 1, 'temp': 2, 'aspa2012': 1, 'beautifull': 2, 'q28': 1, 'nicknames': 1, 'kids-': 1, 'ladybug': 1, 'tbdetermined': 1, 'lykke': 1, 'li': 1, '-zs': 1, 'lakings': 2, 'dere': 2, 'warsaw': 1, 'mid-day': 1, 'musuem': 1, '93': 3, 'wewillalwayssupportyouaustin': 1, 'seniors': 8, 'bruh': 10, 'wahoo': 2, 'vc': 1, 'btwn': 3, 'scandal': 3, 'complement': 2, 'conversationkiller': 1, 'insured': 1, 'www.cslb.com': 1, 'smokin': 4, 'off..': 1, 'hyped': 4, 'division': 10, 'subtweeting': 2, 'clicked': 5, 'appropriate': 8, 'masters': 16, 'rootin': 1, 'particular': 8, 'bolognese': 2, 'format': 7, 'idud': 1, '999': 1, 'macbook': 8, 'ellen': 2, 'jcpenny': 2, 'alamw12': 2, 'permission': 5, 'org': 8, 'about..': 2, 'dilla': 1, 't.': 6, 'stevie': 3, 'herself': 5, 'jags': 1, 'kidd': 1, 'chrome': 6, 'sucky': 1, 'isp': 2, 'terms': 17, 'handwriting': 4, 'grader': 4, 'speaks': 12, 'perrie': 1, 'js': 3, 'departed': 1, 'aging': 5, 'angelo': 1, 'standard': 8, '£7.99/': 1, '12.67': 1, 'mug': 6, '50/50': 5, 'sox-rockies': 1, 'fridayreads': 4, 'indridason': 1, 'shadow': 9, 'ake': 1, 'edwardson': 1, 'scandinavian': 1, 'thrillers': 1, '-sheila': 1, 'terrill': 1, 'eli': 4, 'thingsinmylifethatarepriceless': 1, 'announcing': 8, 'postcard': 5, 'clearly': 18, 'experiment': 9, 'during-reading': 1, 'scholar': 3, 'check-ins': 3, 'puttin': 6, 'lusted': 1, 'after..': 1, 'albums': 6, 'e-book': 4, 'exhibitors': 1, 'ocd': 2, 'periods': 1, 'northfeild': 1, 'thurminator': 1, 'jimbo': 1, 'diss': 2, 'ratchet': 4, 'desperately': 4, 'hoot': 6, 'kitschy': 2, 'kitchsy': 1, 'fridge': 5, '22nd': 3, 'prize': 19, 'largest': 10, 'user-gen': 1, 'source': 19, 'forrester': 2, 'cited': 2, 'loni': 2, 'stark': 3, 'preso': 1, 'tk': 1, 'exams': 10, 'mnclassics': 1, 'lonely': 14, 'lesson': 26, '\\ue404': 1, 'chore': 2, 'pbs': 7, 'antique': 1, 'spectacle': 2, 'offbeat': 1, 'tryin': 13, 'somethang': 1, 'interviews': 6, '*lights': 1, 'candles': 5, 'incense*': 1, 'snowstorm': 2, 'finalizing': 3, '944': 2, 'nov.': 5, 'pitches': 5, 'umbc': 2, 'urcad12': 1, 'presentations': 9, 'sub-saharan': 1, 'arab': 4, 'chaos': 3, 'shepherds': 1, 'nazi': 1, 'germany': 5, 'belichick': 1, 'carol': 2, 'belt': 11, 'mama': 22, 'drippy': 1, 'jugs': 1, 'nipple': 3, '4.79': 1, 'chi': 16, 'nerve': 4, 'pump': 9, '5.10': 1, 'dim': 2, 'mak': 2, 'hawaiian': 3, 'anon': 2, 'protected': 3, 'pains': 4, 'listens': 5, 'sotu': 2, 'rumor': 6, 'sweetfrogs': 1, 'callmemaybe': 1, 'yesterday.': 1, 'shrubs': 1, 'flowerbeds': 1, 'cricket': 1, 'muve': 2, \"'stranger\": 1, \"'im\": 2, '._': 4, 'animating': 1, 'feelrich': 1, 'initiative': 6, 'nutrition': 1, 'hannah': 3, '82.': 1, 'seacrest': 1, 'homies': 3, 'guyz': 2, 'realy': 1, 'mabe': 1, 'tomorow': 1, 'dr.angelou': 1, 'him2': 1, \"'beef\": 1, 'stole': 13, 'checkout': 6, 'zimbabwean': 1, 'golfing': 4, 'yale': 4, 'seed': 13, 'montana': 4, 'grizzlies': 2, 'albuquerque': 4, 'skipped': 4, 'open-bar': 1, 'edit': 8, 'filmmakersarentallowedsociallives': 1, 'overusing': 2, 'rida': 1, 'anthem': 4, \"'build\": 1, 'instrument': 4, 'obvi': 1, 'fabric': 7, 'increases': 1, 'childbirth': 1, 'acknowledge': 4, '**raises': 1, 'solidarity': 4, 'fist': 6, 'air**': 1, 'twelve': 6, 'conversations': 9, 'consistently': 6, 'minimum': 5, 'davenport': 1, 'hrabowski': 1, 'l.a.': 6, 'dorsey': 2, 'delayd': 1, '215': 2, '230': 2, 'scrappin': 1, 'typical': 7, 'gods': 6, 'gamel': 4, 'woodson': 1, 'bullets': 3, 'ingredients': 4, 'earning': 3, 'yearning': 1, 'martinizing': 1, 'cleaners': 1, 'www.crowdclick.com': 1, 'salts': 1, 'corning': 1, \"'-\": 4, 'clone': 4, 'vast': 4, 'strategically': 1, 'deployed': 2, '3more': 1, 'byron': 3, '100th': 5, 'camporee': 1, 'dellwood': 1, 'it.': 4, 'www.call-justinbieber.com': 1, 'qualities': 3, 'ppt': 1, 'slides': 5, 'whatsnextdc': 2, 'millions': 15, 'torta': 1, '85': 2, 'majorityish': 1, 'wee': 4, 'honored2work': 1, 'atl': 15, 'rainbow': 14, '.without': 1, 'reel..good': 1, 'diff': 10, 'reel': 7, 'yauch': 2, 'beastie': 7, 'imperial': 4, 'woodpecker': 1, 'nyc-': 1, 'nutzho': 1, '32k': 1, '800/1600': 1, 'multivitamin': 1, 'fillers': 1, 'equivalent': 4, 'peanuts': 1, 'rat': 6, 'finks': 1, 'chad': 2, 'hott': 6, 'jst': 2, 'mr.c': 1, 'uw': 3, 'robe': 2, 'icsf': 1, 'dually': 1, 'noted': 4, 'farting': 1, 'injecting': 1, 'semen': 1, 'commandment': 3, 'highlight': 9, 'skull': 3, 'best-': 1, 'interactions': 3, 'lillies': 2, 'woodleypark': 1, 'sandwich/salad': 1, 'dcfoodies': 1, 'jenga': 1, 'moe': 2, 'enemies': 9, 'marines': 2, 'perpetuated': 1, 'quotations': 2, 'in-house': 2, 'counsel': 3, 'c-suites': 1, 'expenses': 5, 'predictable': 2, '====': 1, 'unusual': 7, 'decaprio': 1, 'slacking': 7, 'mourinho': 1, 'rihannas': 1, 'nails': 11, '.eeeeeewwwww': 1, '👍': 3, 'pleasure..so': 1, 'gfts': 1, 'knockdown': 1, 'mediocre': 1, '.rookies': 1, 'supper': 2, 'pindar': 1, 'withstand': 1, 'hypnosis': 1, 'anesthesia': 1, 'sei': 2, 'choir': 8, 'main': 30, 'obligatory': 1, 'semi-annual': 1, 'kendall': 5, 'aga': 1, 'stylist': 3, 'mayleen': 1, 'cheek': 5, 'preds': 2, 'ambition': 1, 'bestie..': 1, 'folk-who': 1, 'fryer': 1, 'w/pilot': 1, 'flint': 2, 'struggles': 4, 'jumps': 3, '2full': 1, 'throttle': 1, 'mujer': 1, '8:30pm': 2, 'screened': 1, 'directors': 6, 'blackened': 2, 'po': 1, 'vegetarian': 4, 'jambalaya': 1, 'ypweek': 2, 'swollen': 2, 'knt': 1, 'berkeley': 1, 'gaby': 1, 'charged': 10, 'hesitated': 1, 'ruff': 1, 'interference': 4, 'restore': 2, 'overcharged': 1, '*twice*': 1, 'mommies': 3, 'endless': 5, 'announcement': 12, 'facebook.com/actionitem': 1, 'downstairs': 2, 'sans': 2, 'takeaway': 1, '😏': 4, '.bbbrrrr': 1, 'ceiling': 8, 'scraped': 1, 'bits': 5, 'liber2011': 1, 'europeana': 1, 'strategic': 3, '2011-2015': 1, 'cultivate': 2, 'slaughtered': 1, 'dictators': 1, 'slaughter': 4, 'trial': 10, 'teabaggers': 1, 'kendrick': 5, 'dogtooth': 1, 'heath': 3, 'xmas': 5, 'uugh': 1, 'papers': 10, 'phrases': 3, 'nickis': 1, 'chen': 1, 'escape': 7, 'broadcast': 7, 'schtuff': 1, 'atlantadogspa': 1, 'doggie': 2, 'webcams': 1, 'medpac': 1, 'abounds': 2, 'subtweetin': 1, 'n/p': 1, 'sizable': 1, 'bachelors': 1, 'justice': 13, 'sociology..': 1, 'pitchers': 4, 'catchers': 3, 'ceases': 2, 'amaze': 2, 'bnf': 2, 'approach': 10, 'v.hall': 1, 'wsj': 1, 'enwright': 1, 'rapids': 2, 'resident': 7, 'trickle': 3, 'saab': 2, 'scientist': 5, 'fits': 3, 'absolutley': 1, 'meds': 6, 'consult': 1, 'noy': 1, 'gulf': 2, 'alabama': 10, 'hollandude': 1, 'availability': 3, 'orangegrovesvilla.com': 1, 'mandy': 2, 'blergh': 2, 'outlets': 6, 'satirical': 1, 'spiced': 1, 'mundane': 3, 'task': 7, '1998': 4, 'wells': 3, 'yankee': 6, '14th': 13, 'ml': 2, 'ltbroadcasts': 1, 'fortifications': 1, 'boundaries': 2, '5/1931': 1, 'cranking': 3, '3,400': 1, 'sharyland': 1, 'legislators': 1, 'naw': 8, 'heels': 7, 'memoir': 1, 'w/t': 2, 'monastery': 1, 'hildegard': 1, 'habit': 12, 'challenged': 3, 'accused': 4, 'crimes': 2, 'cbs': 13, 'btw-the': 1, 'weller': 2, 'self-willed': 1, 'aeschylus': 1, 'ep': 15, \"d'oh\": 1, 'devastated': 4, 'confident': 2, 'thairport': 1, 'generic': 1, 'sumthin': 3, 'lsu': 9, 'homee': 4, 'denis': 2, 'smallbeerpress': 1, 'wasted': 19, 'botox': 1, 'lift': 5, 'photoshop': 3, 'flow': 16, 'abundance': 2, 'br0': 1, 'channel': 26, 'thebackstreetfan13': 1, 'ineffable': 1, 'forgiving': 2, 'forgiven': 3, 'forms': 7, 'ecstasy': 2, 'arouse': 1, 'buckwild': 1, 'jynx': 1, 'fever': 11, 'oriolesmagic': 1, 'moms': 30, 'thingsisayduringschool': 1, 'nothin': 5, 'fatherhood': 2, 'suppresses': 1, 'testosterone.': 1, 'cray': 7, 'prices': 15, 'hub': 3, 'offense': 11, 'woud': 2, 'kennywood': 2, 'rogers': 7, 'canucks': 2, 'discussion': 22, 'grasshopper': 2, 'providing': 9, 'coit': 1, 'mate': 11, 'lagers': 1, 'strongbows': 1, 'scrumptious': 3, 'thanksgivings': 2, 'oaa': 1, 'policies': 5, 'jessica': 8, 'azked': 1, 'rid': 14, 'surprized': 1, 'wen': 10, 'lozt': 1, 'waz': 2, 'leo': 6, 'ritz': 2, \"sale'ing\": 1, 'hunting': 10, 'houses': 4, 'ask♥': 1, 'vocalist': 1, 'soil': 2, 'drowning': 1, 'osm': 1, '.eric': 1, 'cracking': 9, 'spank': 3, 'helperton': 1, 'separate': 3, 'joyful': 5, 'hans': 1, 'bos': 3, 'work..': 2, 'scratch-off': 1, 'entrepreneurial': 1, 'spirits': 3, 'endure': 4, 'entered': 10, 'exited': 2, 'phx': 5, 'leashes': 1, 'wordsyouwillneverhearmesay': 1, 'kittens': 7, 'scrapbook': 3, 'liar': 9, 'ish😒': 1, 'reddit': 2, 'subreddit': 1, 'robbed': 3, '7:30p': 2, 'haymarket': 2, 'bessel': 1, 'der': 2, 'kolk': 1, 'riveting': 3, 'ktuphoria': 1, 'americanpie': 1, 'familiar': 9, 'routine': 4, 'winjig': 1, '88.9': 2, 'refuse': 10, 'larkin': 1, 'performs': 2, 'skimpy': 1, 'outfits': 3, 'stahl': 1, 'questioned': 2, 'gators': 4, 'easiest': 5, 'lynbrook': 1, 'embroidered': 2, 'munched': 1, 'cucumber': 3, 'dragonlaunch': 1, 'spacex': 1, 'exploration': 2, 'subjects': 4, 'hotter': 5, 'skewl': 2, '2:04': 1, 'dea': 1, 'shooter': 3, 'cross': 23, 'rim': 2, 'timed': 2, 'weds': 4, '6-9pm': 2, '703': 1, 'fl-': 2, 'giggles': 1, '914': 1, '751-1048': 1, 'no-no': 1, 'images': 16, 'meaningful': 3, 'microcopy': 1, 'skating': 7, 'loopholes': 1, 'generate': 4, 'revenue': 3, 'raising': 9, '*sobs*': 1, 'resiliance': 1, '311': 1, 'outdoor': 8, 'chic': 5, 'banctec': 1, 'intercontinental': 1, 'texpo': 1, 'ibpo': 1, 'latetotheparty': 1, 'jumpingonthebandwagon': 1, 'stations': 8, 'damnitstrue': 1, 'wknd': 10, 'insert': 6, 'clever': 8, 'bust': 14, 'r.i.p': 8, 'manuel': 3, 'flavahz': 1, 'though-': 1, 'fuggin': 3, 'pucker': 1, 'bombs': 6, '125': 3, 'infomation': 1, 'senile': 1, 'furby': 1, 'fulfilled': 2, 'sports..': 1, 'cta': 2, 'signage': 1, 'clark/lake': 1, '*k': 1, 'not..': 2, 'quelf': 1, 'non-stop': 2, 'combined': 3, 'individual.': 1, '-vince': 1, 'lombardi': 4, 'buildings': 4, 'hills': 11, 'forrealz': 1, 'alexis': 3, 'foi': 2, 'foda': 1, 'raffle': 5, 'coleman': 1, 'grayson': 1, '*mutes': 1, 'halftime': 9, 'show*': 2, 'stevekingisms': 1, 'voters': 7, 'laughed': 7, 'intro': 11, 'inept': 2, '.sealing': 1, 'proves': 3, '2001/early': 1, '2002-obviously': 1, 'upheaval': 1, 'states-was': 1, 'bridges': 7, 'pending': 2, 'malcolm': 2, 'prompt': 3, 'bankofamerica': 1, 'allocating': 1, '3gny': 1, 'webiste': 1, 'www.3gnewyork.org': 1, 'resultz': 1, 'goodluck': 5, 'unwanted': 2, 'crack': 15, 'winder': 2, 'bled': 1, '30th': 14, 'milwaukeeartmuseum': 1, 'props': 9, 'bedd': 2, 'mentioning': 6, 'earthquake': 14, 'sh*t': 7, 'sorrows': 1, 'burdens': 1, 'unnoticed': 1, '-peter': 1, 'beagle': 1, 'carnage': 2, 'f/b': 2, 'get..when': 1, 'play..better': 1, '-mcm': 1, 'biscuuuuuuuuuuuuiiiiiit': 1, 'lb': 4, 'devon': 3, 'bookert': 1, 'lisp': 2, 'flexibility': 2, 'ug': 5, 'corps': 4, 'mascot': 2, 'techcrunch': 2, 'teamfuckyourself': 1, '-parachute♥': 1, '.cuz': 1, 'www.youtube.com': 1, 'karissa': 1, 'preferred': 4, 'tarantulas': 1, 'favors': 2, 'spouse': 1, '.everyday': 1, 'greenlantern': 1, 'qualified': 1, 'saints': 8, 'niners': 3, 'wire': 6, 'waits': 5, 'sobbing': 1, 'dogg': 4, 'nyquil': 2, 'amazing.': 2, 'them.': 2, 'rigged': 1, 'hahhaaha-': 1, 'grabbed': 2, 'helmet': 6, 'discoqueen': 1, 'donnasummer': 2, 'unproductive': 2, 'portmanteaus': 1, 'finnegans': 1, 'typos': 4, 'urself': 2, 'you..if': 1, 'stuff..': 1, 'dally': 1, 'twitttterrrr': 1, 'vids': 3, 'www.youtube.com/mistakesweremadevids': 1, 'reproductive': 2, 'organ': 6, 'zizzzzzzo': 1, 'bring1dtoseattle': 4, 'prolong': 1, 'internalize': 1, 'externally': 1, 'infinitum': 2, 're-elected': 1, 'valentines': 14, 'menu': 20, 'avail': 5, 'mon': 8, '11:00-3:00': 1, 'man-city': 1, '254-716-4646': 2, 'voices': 7, '150+': 2, 'erin': 4, 'scooped': 1, 'devendra': 1, 'innovate': 2, 'nodanfogelberg': 1, 'ghostwriting': 1, 'lens': 3, 'follow-': 1, 'vicious': 3, 'relic': 2, 'frontwoman': 1, 'springer': 3, 'work…': 1, 'networked': 2, 'nasne': 1, 'featuring': 14, '500g': 1, 'throu…': 1, '373': 1, '112': 2, 'broom': 2, 'jingle': 3, 'tracking': 6, 'delivered': 8, '4/11': 1, 'micael': 1, 'doer': 1, 'postseason': 2, 'wax': 1, 'lem': 6, 'mainland': 2, 'aaaay': 1, 'twizzler': 1, 'rabies': 1, '10000': 2, 'sucking': 3, '.it': 4, 'mutual': 5, 'egan': 2, 'wheresrickie': 1, 'promotional': 7, 'out-of-body': 1, 'wowzapalooza': 1, 'nerve-wracking': 1, 'nuggets': 5, 'bangger': 1, '==thanks': 1, 'boldly': 1, 'gracious': 6, 'heb': 1, '4:16': 2, 'warrrrmmmm': 1, 'ajc': 1, '2012.': 11, 'donation': 10, 'slavery': 5, 'bry': 1, 'views/listens': 1, 'moscow': 2, 'knight': 8, 'rises': 3, 'bikers': 2, 'biker': 1, 'thingsnottosayonthefirstdate': 1, 'clown': 2, 'newsfeed': 1, 'falter': 1, '27million': 1, 'kenya': 1, 'grape': 3, 'sweetness': 1, 'exsist': 1, 'cameras': 4, 'sticker': 3, 'www.facebook.com/c2goridewlance': 1, 'latimes/shanghai': 1, 'protesters': 8, 'arrested': 13, 'denouncing': 1, 'mmmyyes': 1, 'concur': 3, 'arrooooooo': 1, 'wiggles': 2, 'brows': 2, 'tweety': 1, 'brees': 4, 'him💜': 1, 'davidson': 2, 'nos': 2, 'chic-a-chee': 1, 'notification': 4, 'depressing': 7, 'unbelieveable': 2, 'grammy': 8, 'mingo': 1, 'elected': 6, 'clerk': 1, 'diamond': 10, 'allegations': 3, 'samsung': 5, 'icloud': 1, 'competitor': 3, 'debut': 9, 'alongside': 3, 'gizmodo': 1, 'fully': 5, 'ncisla': 1, 'boyleheights': 1, 'enact': 1, 'attn': 4, 'region': 6, 'you-': 2, 'laughter': 9, 'irony': 7, 'joey': 8, 'fatone': 1, 'replenishment': 1, 'revivication': 1, 'liberal': 8, 'democracy': 1, 'gov20': 1, 'stays': 10, 'rivalry': 3, 'theavengers': 5, 'assembly': 6, 'grrrr': 3, 'burnt': 2, 'rasta': 1, 'separation': 3, 'today..': 7, '52': 3, 'retention': 2, 'highered': 2, 'institutions': 3, 'photograph': 1, 'teens': 6, 'torture': 4, 'nyjer': 2, '-so': 1, 'artmasterpiece': 1, 'keepa': 1, 'niqqa': 1, 'frankly': 3, 'w.rodriguez': 1, 'noidata': 2, 'viz1': 1, 'conditional': 1, 'formatting': 2, 'graph': 2, 'scatterplot': 1, 'continuous': 1, 'chart': 2, 'stacked': 3, 'bars': 16, 'seatbelt': 1, '4:20': 1, 'seth': 5, 'sarasota': 1, 'spoke': 3, 'rodeph': 1, 'shalom': 2, 'iloveyoujustinn': 1, 'engines': 2, 'bray': 1, 'people..gosh': 1, 'trae': 1, 'nola': 9, 'hot-mail': 1, 'sometimesiwonder': 1, 'thenirealize': 1, 'bezzant': 1, 'rudy': 5, 'ginuwine': 2, 'nutter..': 1, 'mlb': 12, 'top100lies': 3, 'nebraska': 7, '7:42': 1, '.final': 1, 'wallingford': 1, '8/3': 1, '276': 2, '10/11': 1, \"'unidentifiable\": 1, 'thedictator': 1, 'opposition': 4, 'lilja': 1, 'isles': 1, 'pp': 4, 'particulary': 1, 'breitfart': 1, 'commemorating': 1, 'troll/bot': 1, 'insults': 4, 'streams': 4, 'woowowowowo': 1, 'virtue': 3, 'thread': 3, 'xml': 2, 'annotation': 1, 'suggested': 6, 'nlm': 1, 'tei': 1, 'jedi': 4, '*get': 2, 'rest*': 1, 'cared': 7, 'rejecting': 1, 'curls': 3, 'unlike': 5, 'realities': 2, 'dreamers': 1, 'roald': 1, 'dahl': 1, 'motorhome': 1, 'roadworthy': 1, 'starved': 1, 'eh': 13, 'flores': 1, 'vocational': 1, 'admiration': 1, 'nurses': 4, 'thinkin': 6, 'woodinville': 1, 'investor': 4, 'elle': 4, 'newmark': 1, 'limericks': 1, 'pan-fried': 1, 'walleye': 1, 'awfully': 4, 'why..': 1, 'rains': 5, 'lately.☀': 1, 'dynamite': 4, 'wuss': 2, 'flare': 1, 'wocket': 1, 'bing': 3, 'celerity': 2, 'rehab': 3, 'in-laws': 2, 'wur': 1, 'grammer': 1, 'throwing': 19, 'stupidasso': 1, '140': 7, 'dbags': 1, 'isn': 2, 'floyd': 8, 'mayweather': 9, 'grandparents': 4, 'whopper': 3, 'redline': 1, 'testimonials': 2, 'parents/pta': 1, 'beasts': 3, 'erik': 2, 'larson': 2, 'edge-of-seat': 1, 'pesto': 1, 'cranberry': 1, 'rosemary': 2, 'foccacia': 1, 'sammy': 2, 'pdf-notes': 1, '.you': 4, 'smartphone': 8, 'determine': 6, 'flights': 10, 'flown': 2, 'conflict': 1, 'wass': 1, 'bombb': 2, 'vma': 3, 'wa': 5, 'dayss': 1, '1-4-3♥': 1, 'solisten': 1, 'uruguayan': 1, '🔫': 1, 'melted': 3, 'microwave': 1, 'casey': 5, 'wrestlemania28': 1, 'galore': 4, 'ironic': 8, 'oxygen': 1, 'inhaling': 2, 'cyclon': 1, 'coupland': 2, 'dancehall': 2, 'wolfe': 1, 'pull-ups': 1, 'back.focus': 1, 'past❤': 1, 'gem': 6, 'flowing..': 1, 'thins': 1, 'cornfields': 1, 'arguing': 2, 'frbr': 1, '-jin': 1, 'somewhat': 10, 'azithromycin': 1, 'a.b': 1, 'robusto': 1, 'sizing': 1, 'chisel': 1, 'suddenly': 6, 'consciousness': 7, 'w-a-t-e-r': 1, 'flowing': 5, 'immersion': 1, 'cooperation': 3, 'synchronicity': 1, 'established': 4, 'expression': 6, 'maxine': 2, 'g-ma': 1, 'where/how': 2, 'dob': 2, 'obese': 2, 'hugs': 22, 'describe': 17, 'transferring': 3, 'shotgun': 2, '115lb': 1, 'ginger': 4, 'barefoot': 2, 'pajama': 2, 'mch': 3, 'cinematic': 2, 'obliged': 2, 'connie': 1, 'jars': 1, 'altered': 1, 'miraculous': 3, 'cristiano': 1, 'ronaldo': 4, 'madrid': 5, '-1': 1, 'cska': 1, 'humble': 9, 'entrepreneurship': 4, 'crowdsourcing': 3, 'britons': 1, 'ozzies': 1, 'kiwis': 2, 'presidente': 1, 'uploading': 6, 'lmfaoo': 2, 'translation': 2, '-thomas': 2, 'keating': 1, 'mongering': 2, 'cretin': 1, 'losses': 5, 'hamilton': 7, '5:20.': 1, 'dr': 16, 'j.': 5, 'larry': 10, 'ridiculously': 9, 'sickly': 1, 'cardiac': 2, 'arrest': 5, 'display': 10, 'immune': 3, 'glorious': 8, 'schadenfreude': 1, 'taurus': 2, 'stylish': 3, 'well-groomed': 1, 'socially': 1, 'grip': 5, 'barcito': 1, 'embarked': 1, 'doorman': 1, 'fraizer': 1, 'feruzza': 1, 'granite': 1, 'brewery': 4, 'rooted': 2, 'smodcast': 2, 'covering': 11, 'b-ball': 1, 'opponent': 5, 'crop': 3, 'dusting': 1, 'attendant': 4, 'mullen': 3, 'internships': 3, 'beehive': 1, 'mohan': 1, '650': 1, 'dearborn': 1, 'diarrhea': 1, 'karaoke': 8, 'happens.we': 1, 'communities': 5, 'akilah': 1, 'wireless': 5, 'registry': 2, 'dock': 1, 'babykendall': 1, 'castro': 1, 'yea..i': 1, 'sailor': 6, 'kptv': 1, '10:58p': 1, 'rained': 2, 'walk..': 1, '😡😁': 1, 'arroz': 1, 'con': 7, 'pollo': 1, 'guacamole': 2, 'lentil': 2, 'overhead': 4, 'compartment': 2, 'unavailing': 1, 'mlacommons': 1, 'straddle': 1, '😳😷': 1, 'sinner': 1, '3wordsofadvice': 1, 'live.laugh': 1, 'neoliberal': 1, 'tendencies': 2, 'wanna-be': 1, 'mogul': 1, 'semweb': 1, 'opendata': 1, 'affairs': 8, 'employ': 1, 'rdf': 1, 'kik': 1, 'geologist': 1, 'dooper': 1, 'uuuper': 1, 'besh': 1, 'so*': 1, 'natalie': 3, 'gorge': 2, 'edward': 6, 'moore': 10, 'bahaa': 1, 'see..': 2, 'cheryl': 2, 'kravitz': 2, 'rtmedia': 1, 'boulevard': 2, 'pacific': 10, 'highway': 3, 'cya': 3, 'chi-town': 1, 'rosenberg': 1, 'tufts': 1, 'tinnitus': 1, 'springfield': 2, 'ijever': 2, 'are..': 1, 'bullying': 7, 'by-standers..students': 1, 'manchester': 7, '2013/2014': 1, 'blossoms': 1, 'celeb': 2, 'chins': 1, 'phonebook': 1, 'shitkbsays': 1, 'sweet16': 2, '🎉🎁🎈': 1, 'apstylebook': 1, 'slave': 5, 'sin': 3, 'agtg': 1, 'crushing': 1, '125/15': 1, '1:40': 1, 'childishly': 1, 'pedantic': 1, 'newt': 8, 'hater': 9, 'competence': 2, 'result': 6, '-brian': 1, 'hypocrite': 3, 'doesn': 9, 'devise': 2, 'ella': 1, 'tricksters': 1, 'donned': 1, 'relationshipsendbecause': 1, 'refusal': 1, 'compromise': 6, 'clarice': 1, 'byu': 3, 'knw': 5, 'veryimportantpeople': 1, 'stevejobs': 1, 'casino': 11, 'wonderfull': 1, 'julia': 11, 'havnt': 3, 'piss': 9, 'futon': 1, 'tommyswag': 1, 'sell-out': 1, 'wk': 6, 'principle': 5, 'adaptation': 4, 'imposed': 3, 'demands': 6, 'camelback': 1, 'stroll': 4, 'tempo': 2, 'mentor': 7, 'pfister': 1, '414': 2, '905-0117': 1, 'stealth': 2, 'presented': 8, 'wrld': 1, '😔😞': 1, 'suburban': 1, 'mavericks': 3, 'mundelein': 1, 'paisley': 4, 'scurvy': 1, 'marketers': 5, 'carter': 10, 'ultimate': 8, 'viking': 1, 'aliens': 6, 'wants/is': 1, 'uprising': 1, 'lathtr': 1, 'dtla': 1, 'vitals': 1, '*shrugs..': 1, 'kate': 7, 'solomo': 1, 'mercedes': 3, 'viano': 1, 'blossom': 2, 'brokenness': 1, 'isaiah': 2, '41:10': 1, 'kalona': 1, 'deported': 1, '400,000': 1, 'illegals': 1, 'newly': 1, 'hired': 8, 'ameri…': 1, 'avoids': 3, 'nascarracedayon': 1, 'down..': 5, 'it..haha..': 1, 'celebratory': 1, 'packaging': 1, 'drunktank': 1, 'affirms': 1, 'pound': 13, 'avi': 11, 'allis': 2, 'deaa': 1, 'condos': 3, 'bellow': 1, 'hallandale': 2, 'www.nationaldanceweek.org': 1, 'drinkers': 1, 'whiskey': 9, 'emotions': 8, 'ewen': 1, 'selenator': 1, 'selena': 12, 'roots': 9, 'beach-': 1, 'powered': 1, 'resistence': 2, 'pedophile': 1, 'demote': 2, 'salanter': 1, 'ply': 1, 'tylershamy': 1, 'bounce': 8, 'fingernails': 1, 'fuuuk': 1, 'peaked': 2, 'creatively': 2, 'um-commissioned': 1, 'currency': 4, 'grimaldi': 1, 'embarrasses': 1, 'eloped': 1, 'a3': 2, 'standardize': 1, 'outbound': 1, 'comm': 4, 'processes': 2, 'employees': 12, 'messaging': 5, 'specs': 2, 'metro': 13, 'frames': 3, 'choc': 2, 'tasted': 2, 'fudge': 6, 'platforms': 5, 'rematch': 4, 'relief': 10, '875': 1, 'southside': 3, 'affair': 8, 'italians': 1, 'fruity': 2, 'bold': 10, 'doughnuts': 2, 'google+': 13, 'submits': 1, 'rebus': 1, 'aubrey': 2, 'holocaust': 5, 'enslavement': 1, 'evoke': 1, 'unpleasant': 1, 'cory': 4, 'alvin': 1, 'ripped': 8, 'it.talked': 1, 'dana': 3, 'hawkins': 2, 'gig.dude': 1, 'encyclopedia': 1, 'linkedin': 6, 'smcatl': 1, 'fmc': 1, 'repetition': 1, 'radegast': 1, 'crossword': 2, 'desirable': 1, 'casually': 2, 'mplp': 1, 'aba': 3, 'inability': 4, 'infinitely': 3, 'forgetfulness': 2, 'resturant': 3, 'ikea': 3, 'donor': 2, 'awareness': 16, 'riseling': 1, 'testify': 2, '130th': 1, 'wrigley': 7, 'jerseys': 4, 'porsche': 2, '996': 1, 'hampton': 2, 'richmond': 9, 'junk': 5, 'fucked-up': 1, 'glue': 3, 'chao': 2, 'self-test': 1, 'readiness': 1, 'minimalist': 3, 'whew': 5, 'belonged': 1, 'howlin': 1, 'circus': 7, 'dehydration': 1, 'thevoicefinale': 1, 'lucca': 1, 'buut': 2, 'waay': 2, 'life=people': 1, 'estimable': 1, 'tmi3rd': 1, 'tmi4th': 1, 'non-sense': 1, 'irritated': 4, 'maki': 1, 'vegetable': 3, 'copied': 2, \"'cuz\": 1, 'flesh': 4, '19th-century': 1, 'deaf': 7, 'nyu': 3, 'agencies': 2, 'goldfinger': 1, '.run': 1, 'chest': 12, 'illest': 1, 'fuckas': 1, 'piggy': 2, 'viola': 2, 'gasp': 1, 'admire': 4, 'xboxlive': 2, 'ire': 1, 'peachy': 2, 'metrocrest': 1, 'messaged': 3, '2011.': 6, 'guns': 9, 'loadedquestions': 1, 'bitched': 2, 'fuckyes': 1, 'mcn': 1, '-now': 1, 'bae': 4, 'elves': 1, 'insist': 3, 'papyrus': 3, 'evaluating': 3, 'circles': 4, 'sufi': 2, 'monks': 2, 'century': 15, 'hampden': 1, 'jhmi': 1, 'eachother': 4, 'fireside': 1, 'haley': 4, 'reinhart': 1, 'downplaying': 1, 'feud': 1, 'scumbag': 2, 'steves': 1, 'cement': 2, '-another': 2, 'know-it-all': 1, 'pep': 4, 'gwyneth': 1, 'paltrow': 1, '.amazing': 2, 'devised': 1, 'traditional': 7, 'storytelling': 3, 'jet': 13, 'lagged': 2, 'denim': 4, 'fonts': 2, 'folloow': 1, 'rapist': 2, 'chefs': 3, 'whites': 4, 'kitchenpetpeeves': 1, 'attended': 9, 'konstanz': 1, 'sessions': 22, 'rockpaper': 1, 'flappers': 1, 'treated': 5, 'snooze': 1, 'vagina': 7, 'prof': 10, 'schools.': 1, 'matinee': 3, 'amused': 5, 'ambient': 1, 'environments': 3, 'wiper': 2, 'blades': 1, 'plot': 5, 'sells': 2, 'sign-up': 2, 'recurring': 1, 'debit': 4, 'irs': 6, 'installment': 1, 'agreement': 4, 'payment': 5, 'www.payusatax.com': 1, 'enabling': 1, \"o'neal\": 2, 'predilection': 1, 'famewhoring': 1, 'accom': 2, 'rail': 2, 'truemahomie': 1, 'mw': 2, 'arriving': 5, 'intolerable': 1, 'connecting': 6, 'discovering': 2, 'hidden': 8, 'fees': 9, 'inquiry': 7, 'so..': 3, 'cheat': 8, 'lazy': 24, 'articulation': 1, 'rent': 12, 'dakota': 3, 'sussex': 1, 'sophomore': 2, 'brady': 12, 'ellingson': 1, 'fk': 1, 'oatmeal': 3, 'raisin': 2, 'pas': 2, '6:4': 1, 'encouraged': 6, 'catechin': 1, 'bitter': 6, 'shown': 10, 'poison': 2, 'minimize': 2, 'toxin': 1, 'bugs': 5, 'watchin': 12, 'watchn': 1, 'rovan': 1, 'connects': 1, 'newsies': 2, 'trope': 1, 'thetransformationdare': 1, 'tchr': 1, 'observing': 2, 'w/unsurprised': 1, 'bemusement': 1, 'institution': 2, 'depts': 3, 'gate-keep': 1, 'turf-protect': 1, 'irrelevance': 1, 'previous': 7, 'copenhagen': 1, 'disappear': 1, '..this': 3, 'disagrees': 2, 'johnston': 1, 'sobs': 2, 'pauly': 2, '31.': 1, '32': 12, 'why+how': 1, 'stallis': 2, 'ftw': 10, 'boomers': 1, 'usual': 18, 'gloria': 2, 'steinem': 1, 'endorsed': 2, 're-elect': 2, 'followmeaustinmahone': 1, 'whenever/wherever': 1, 'sherri': 3, 'mvt': 1, 'commissioned': 2, 'pipe': 5, 'shaping': 3, 'nicely': 12, 'www.tinygreens.org': 1, 'wg': 1, 'arlene': 2, '11:30pm': 1, \"'real\": 1, \"'fake\": 1, 'wah': 8, '165218522333': 1, 'daughter.-b': 1, 'glean': 1, 'elsewhere': 2, '9keep': 1, 'torah': 2, '34/99': 1, 'sporadic': 1, 'soothing': 1, 'settling': 4, 'bizness': 1, 'rachelzpetz.wordspress.com': 1, 'dogz': 1, 'djdj': 1, 'absentee': 2, 'ballots': 1, 'daryl': 2, 'apocalypse': 7, 'chilling': 11, '-a': 2, 'dreary': 3, 'offset': 2, 'underground': 4, 'lms': 3, 'ceos': 2, 'fog': 7, 'corrie': 1, 'habits': 2, 'awhh': 2, '😭😭😭': 1, 'seek': 10, 'dago': 1, 'lafayette': 2, 'frowny': 1, 'locate': 2, 'jive': 1, 'hbd': 2, 'langston': 2, 'hughes': 3, 'uptown': 3, 'mc': 5, 'hoops': 4, 'wildly': 3, 'inconsistent': 3, 'understatement': 4, 'washes': 2, 'mahomiememories': 1, 'nsd': 1, 'wednesdays..': 1, 'upz': 1, 'psycho': 3, \"'trekkie\": 1, 'teriyaki': 2, '10.00': 2, 'corydon': 1, 'xoxox': 3, 'paradise': 7, 'prettier': 3, 'dfs': 1, 'waikiki': 1, 'volleyball': 8, 'jasika': 1, 'inhumane': 1, '579': 1, 'droid': 5, 'arrival': 3, 'chosen': 8, 'calendar': 10, '6-3': 2, 'hola': 3, 'perkins': 2, 'locker': 4, 'to.take': 1, 'shit.': 2, 'delivering': 7, 'ashes': 3, 'tote': 1, 'f.h': 1, 'jp': 4, 'morgan': 10, '1.9': 2, 'loses': 10, 'regulation': 3, 'self-serving': 1, 'despicable': 2, 'judgemental': 1, 'exclamation': 3, 'francisco': 16, 'whales': 2, 'unfollowed': 12, 'canseco': 2, 'surely': 11, 'devs': 2, '70': 22, 'delete': 8, 'coastal': 4, 'www.thetreasurebox.org': 1, 'heals': 2, 'wounds': 2, 'nixx': 1, 'seahawks': 3, 'thankyoudear': 1, '1440': 1, 'minutes86,400': 1, 'ugghhh': 1, 'elementary': 12, '😔': 10, 'tagging': 1, 'sheesh': 9, 'beary': 1, '109th': 1, 'teddy': 6, 'hugged': 2, 'resched': 1, 'dca': 1, 'hs': 10, 'kick-flip': 1, 'theworldneeds': 1, '++-~|': 1, 'g1': 3, 'tshirt': 5, '-214': 3, '609': 3, '3316': 3, 'clinique': 1, 'make-up': 2, 'pharmacy-brand': 1, 'lipstick': 4, 'twenty': 6, '6th': 22, '447.2446': 1, 'www.okcpartybus.com': 2, 'mid-penn': 2, 'all-hands': 1, 'ripple': 3, 'uu': 3, 'anit': 1, 'shitting': 3, 'tornado': 10, 'sightings': 1, 'ily': 4, 'grassroots': 2, 'organizing': 7, 'breast': 5, 'coalition': 4, 'smell-': 1, 'ghosts': 4, 'wheneverimbored': 1, '1813': 1, 'lorenzo': 1, 'delmonico': 1, 'founded': 2, 'restaurants': 8, 'th5': 1, 'cried': 9, 'americanidol': 3, 'cried/still': 1, '51days': 1, 'eyelids': 1, 'justdunno': 1, 'ol': 10, 'chopsticks': 1, 'it-worth': 1, 'tdy': 1, 'imax': 5, 'choser': 1, 'eyelash': 1, 'fathoming': 1, 'lastthursday': 1, '😞': 4, 'suspect': 13, '4-year-old': 1, \"'bite\": 1, 'fanny': 2, ':3': 12, 'dipping': 2, 'frosty': 2, '\\ue00e': 3, 'hw': 10, 'molester': 1, 'molestation': 1, 'browser': 9, 'sync': 5, 'emiertmw12': 1, 'anniv': 2, 'anaheim': 8, 'q.': 5, 'bury': 4, 'alberta': 1, 'broo': 1, 'hulk-ing': 1, 'cheerful': 1, 'mailman': 1, 'slated': 1, 'shoveled': 1, 'drive..': 2, 'convoluted': 1, 'quotation': 1, '-gandhi': 1, 'tina': 3, 'snuggle': 4, 'takers': 5, 'midterm': 4, 'profession': 3, 'city-wide': 1, 'gwu': 2, 'lithuanian': 1, 'v-16': 1, 'record/play': 1, 'undershirt': 1, 'uncomfortable': 5, 'ahh..very': 1, 'convenience': 2, 'parks': 7, 'grating': 1, 'douglasville': 1, 'theharbor': 1, 'freight': 1, 'today/tomorrow': 1, '-9pm': 1, '30+': 3, 'ado': 2, 'kgoradio.com/beer': 1, 'cherl': 1, 'galveston': 3, 'eyewall': 1, 'cocaine': 4, 'americans': 17, 'detect': 1, 'grasp': 2, 'aarc': 1, 'roundtable': 3, 'civil': 10, 'spring-': 1, 'tuscan': 1, 'ervin': 1, 'santana': 3, 'scorelss': 1, 'crown': 6, 'pintrest': 2, 'siting': 1, 'job-creating': 1, 'tech-friendly': 1, 'airline': 6, 'pcworld': 1, 'recharging': 1, 'in-flight': 1, 'rulers': 1, 'cantor': 1, 'injustice': 4, 'critic': 2, 'robeson': 2, 'irritates': 1, 'rescheduled': 2, 'www.huellaslatinasconcertseries.com': 1, 'true/false/both': 1, 'outside..': 1, 'sonic': 11, 'gallatin': 1, 'cokes': 1, 'buckland': 1, 'musicans': 1, 'capefarewell.com': 1, 'minecraft': 3, 'dirt': 4, 'lickity': 1, 'brindle': 1, 'originated': 1, 'dirtiest': 1, 'upcomng': 1, 'overwhelmingly': 1, 'bit.ly/mptaaa': 1, 'strategy': 17, 'dads': 7, 'playa': 4, 'bindi': 1, 'verdict': 4, 'a+': 4, 'joss': 4, 'whedon': 2, 'credits': 6, 'melissa': 5, 'honohan': 1, 'attempt': 11, '-no': 1, 'prob..it': 1, 'marquette': 5, 'you—only': 1, 'mende': 1, 'conny': 1, 'lilly': 1, 'plethora': 1, 'ranging': 2, 'physicians': 1, 'paisans': 1, 'brocach': 2, 'swaggarite': 1, 'clockwork': 1, 'personality.': 1, 'perry': 17, 'hoola': 1, 'skirt': 3, 'accomplishment': 3, 'betting': 5, 'anxious': 7, 'tag': 16, 'activities': 7, 'prop': 4, 'overturned': 2, 'burgers': 4, 'showstopper': 1, 'corndogs': 1, 'wheres': 4, 'continuously': 2, 'pursued': 1, 'emailed': 8, 'w/one': 1, 'witty': 6, '26th': 3, 'misses': 11, '181,606': 1, 'dislikes': 2, 'veronica': 3, 'jackass': 3, 'proving': 3, 'suitable': 1, 'soon-to-be': 1, 'dolphin': 2, 'mccord': 1, 'womens': 3, 'lax': 11, 'siena': 1, 'opener': 6, 'paternity': 2, 'spiegelman': 1, 'friend.': 1, 'sweeney': 2, 'www3.isrl.illinois.edu/unsworth': 1, 'tabby': 1, 'dougie': 2, 'dallas..have': 1, 'medical': 17, '1.6': 1, 'lakeland': 1, 'warming': 4, 'horrified': 1, 'waiters': 1, 'shopkeepers': 1, 'hyphy': 1, 'shipping': 14, 'kits': 2, 'stitched': 1, 'mayday': 2, 'vampire': 5, \"mom'sday\": 1, 'mlm': 2, 'adaptogenix': 1, 'listing': 5, 'daniels': 4, 'c3po': 1, 'graduates': 4, 'fts': 2, 'assistant': 8, 'rams': 5, 'bobby': 12, 'everywherre': 1, 'candyswipe': 4, 'verneshia': 1, 'tents': 1, 'camping': 6, 'youdaone': 1, 'xavierlt.com': 1, 'think..i': 1, 'shud': 3, 'libary': 1, 'agen': 1, 'drinkin': 3, 'dumpling': 1, 'broc': 1, 'roasted': 10, 'pepper': 8, 'onion': 10, 'creighton': 1, 'runway': 3, 'bedside': 2, 'steak': 20, 'chase': 20, 'deliver': 8, 'younger': 11, 'biopic': 1, 'maxim': 1, 'that..': 3, 'snack': 8, 'shrimp': 9, 'fritters': 1, 'garlic': 7, 'aioli': 1, 'griffin': 7, 'randolph': 4, 'whisper': 4, 'fetal': 1, 'xox': 3, '1963': 2, 'downton': 5, 'abbey': 8, '930': 3, 'night..hm': 1, 'omer': 1, 'asik': 2, 'bulls': 21, 'jawaan': 1, 'oldham': 1, 'improve': 5, 'speculation': 1, 'to..long..i': 1, 'thang..it': 1, '~stacey': 1, 'chatman~': 1, 'andrews': 3, 'leaned': 2, 'lieutenant': 2, 'cries': 1, 'infant': 3, 'reporting': 9, 'pushups': 3, 'tiered': 1, 'awake…': 1, 'muzik': 1, 'windy': 9, 'almighty': 3, '.we': 4, 'cataclysmic': 1, 'roomie': 1, 'summers': 6, 'blinding': 1, 'beside': 4, 'frank.': 1, 'msn': 1, 'soldiers': 5, 'heh': 3, 'inspector': 2, 'tay': 2, 'unfocused': 1, 'admits': 2, '-josephus': 1, 'dreaning': 1, 'immediately': 9, 'two-second': 1, 'lowering': 3, 'inhale': 1, '♫': 1, 'kasabian': 1, 'bf3': 2, 'bears': 16, 'delusional': 2, 'shoppers': 1, 'www.mauimall.com': 1, 'knocks': 2, 'w/u': 3, 'composure': 1, 'accuse': 3, 'steroids': 3, 'penske': 1, 'showchoir': 1, 'borin': 1, 'sleeping♥': 1, 'surprises': 5, 'trinket': 1, 'frida': 1, 'gluten-free': 2, 'offerings': 2, 'remix/': 1, 'reimagined': 2, 'cosmetics': 1, 'boppin': 1, 'handstand': 3, 'cato': 1, 'lecture': 6, 'afterglow': 1, 'night-': 1, 'relapse': 1, 'victoria': 9, 'swim': 8, 'bunny': 8, 'bathing': 2, 'peops': 1, '1612': 1, 'boycotting': 1, 'theatres': 1, 'napkin': 2, 'freedoms': 2, 'clinton': 9, 'seating': 1, 'dixie': 1, 'vet': 8, 'itchy': 2, 'amwriting': 3, 'drip': 1, 'wps': 1, 'thorns': 1, 'parker': 6, 'rappers': 8, 'mainstream': 7, 'underground/hipster/indie': 1, 'iphones': 4, 'transformers': 3, 'livng': 1, 'grass': 12, 'canes': 4, 'onside': 1, 'uva': 2, '4:39': 1, '.smmfh': 1, 'donald': 5, 'trump': 3, 'bankrupt': 4, 'smelled': 4, 'things.': 1, 'minicoop': 1, 'spear': 1, 'paleo': 3, 'kyl': 1, 'pearce': 1, 'doinst': 1, 'aruba': 1, 'aspen': 2, 'elopement': 1, 'raain': 1, '..hey': 1, 'grief': 3, 'half-life': 1, 'undiminished': 1, 'expediency': 1, 'releasing': 9, 'forthcoming': 1, 'thatawkwardmomentwhen': 1, 'bra': 6, 'hashwagon': 1, 'whoop': 7, 'expressed': 2, 'bridge': 8, 'servicing': 2, 'attenuation': 1, 'age-related': 1, 'neuromuscular': 1, 'synapses': 1, 'caloric': 1, 'restriction': 1, 'georgeclooney': 1, 'soirée': 1, 'burbank-hollywood': 1, 'proper': 5, 'oxox': 2, 'tubing': 2, 'marsparty': 1, 'threats': 4, 'noogie': 1, 'jinglemingle': 1, 'simmons': 4, '.500': 1, 'squad': 4, 'reup': 1, 'rights': 20, 'place/space': 1, '4:17pm': 1, 'pint': 6, 'summerfest': 1, 'chews': 1, 'capitalism': 4, 'freemarkets': 1, 'unhappy': 5, 'cuba': 2, 'palpitations': 3, 'easing': 1, '*cough': 1, 'cough*': 1, 'ppls': 1, 'placerville': 1, 'homeade': 1, 'jusy': 2, 'adventures': 8, 'refinery29': 1, 'burbs': 2, 'taxi': 7, 'sticky': 7, 'monsoons': 1, 'theplayers': 1, 'instrumentals': 1, 'acapellas': 1, 'craves': 1, 'seneca': 2, 'proceeded': 2, 'snyder': 2, 'neh-funded': 1, 'aston': 1, 'inspire': 11, 'persistence': 1, 'uwebc': 1, '3/24': 2, 'debt=money': 1, 'secrets': 11, '5x7social': 1, 'shoutoutto': 2, 'lodt': 1, 'meanie': 2, 'heckling': 1, 'loan': 7, '2500': 1, 'goodoldtimes': 1, 'cooties': 1, 'swapped': 1, 'dumpster': 1, 'heights': 7, 'pallet': 1, 'haul': 3, 'brittmore': 1, 'industrial': 4, 'pregnancy.if': 1, 'larger': 6, 'harm': 6, 'retarted': 1, 'editors': 3, 'lightbulb': 1, 'bronconation': 1, 'housing': 6, 'kurzweil': 1, 'worst-case': 1, 'scenario': 1, 'hoped': 5, 'outplayed': 1, 'immensely': 2, 'smx': 1, 'twitts': 1, 'neuro': 1, 'webcast': 1, 'dee/dee': 1, 'cbox': 1, 'oaf': 1, 'fag': 1, 'contraception': 2, 'healthcare': 10, 'employer': 4, 'yakima': 1, 'coronado': 2, 'tapped': 4, 'session..': 1, 'chiefs': 6, 'ethan': 1, 'dontari': 1, 'poe': 5, 'pleasant': 6, 'footwork': 1, 'woodcarving': 1, 'anarchist': 1, '38': 6, 'jumping': 4, 'fences': 1, 'growingoldgracefully': 1, 'lonley': 1, 'protecting': 2, 'swarm': 1, 'dumbf**k': 1, 'lohan': 2, 'runoffs': 1, 'grumbling': 2, 'threshold': 1, 'futs': 1, 'intrustion': 1, 'bachelorette': 3, '76ers/celtics': 1, 'effected': 1, 'footnotes': 2, 'twitterstorians': 1, 'enjoys': 5, 'tkc': 2, 'anonymous': 6, 'thembisa': 1, 'makinn': 1, 'happythursday': 1, 'bats': 5, 'no-calls': 1, 'sane': 5, 'fought': 6, 'rabbi': 2, 'tebow': 12, 'jocks': 2, 'witnessed': 5, '*how': 1, 'forget*': 1, '*instantly': 1, 'crusade*': 1, 'dododo': 1, 'singerprobz': 1, '\\ue03c': 1, 'snooki': 2, 'sum1': 2, 'juss': 2, 'rated': 4, 'r..': 1, 'penn': 6, 'fixture': 1, 'gerard': 1, '3-6': 3, 'neha': 1, 'donating': 2, 'dsa': 3, 'exta': 1, 'stompin': 1, 'chipotle': 7, 'burrito': 9, 'wagon': 5, 'wishfulthinking': 1, 'readingg': 1, 'delegates': 2, 'canon': 4, '5d': 1, 'composer': 3, 'optics': 1, 'bunches': 3, 'tractors': 1, 'sides': 3, 'remembers': 4, 'forgets': 4, 'petty': 8, 'cancer.some': 1, 'car.a': 1, 'phone.to': 1, 'weight.but': 1, '•••alone•••': 1, '150,000.00': 1, 'uhsb': 2, '5-1': 2, 'sjsu': 2, 'wac': 2, 'whenev': 1, 'co-op': 5, 'fields': 8, 'openscience': 1, 'altmetrics': 1, 'arxiv': 1, 'dosages': 1, 'sexiness': 1, 'www.whoistrillogy.com': 1, 'babymothers.when': 1, 'spite.smh': 1, 'spacious': 1, 'olympic': 9, 'dairy': 6, '120k': 1, 'eff': 4, 'ecosheet': 1, 'techscout': 1, 'plastics': 3, 'plywood': 1, 'separately': 1, 'quot': 6, 'wyd': 1, 'marker': 1, 'holt': 1, 'pfeiler': 1, 'associate': 2, 'vice': 2, 'decalove': 1, 'prelim': 1, 'crawford': 3, 'mira': 1, 'mesa': 3, 'wbu': 4, 'trainers': 1, 'nations': 3, 'approves': 1, 'sanctions': 1, 'halt': 3, 'shrek': 1, 'domaintools.com': 1, 'coolin': 1, 'announcements': 5, '________________': 1, \"'c\": 3, '300+': 1, 'entirely': 4, 'nano': 1, 'ide': 1, 'intimidate': 1, 'barkley': 3, 'phenomenon': 2, 'tattooist': 1, 'mvc': 3, 'legggooo': 1, 'songza': 1, 'bag/folders/shelving': 1, 'textbooks': 3, 'blatant': 2, 'shoulder-to-head': 1, 'giroux': 1, 'shanahan': 1, 'promises': 7, 'jane': 6, 'powerpoint': 6, 'appeals': 1, 'exceptional': 5, 'doubtful': 3, 'fearful': 2, 'determined': 7, 'defeated': 4, 'discovers': 1, '8pm..let': 1, 'demonstrate': 1, 'voting': 17, 'politically': 3, 'ripe': 1, 'disruption': 2, 'protocol': 2, 'jj': 6, 'abrams': 2, 'holloway': 1, 'gadgets': 1, 'continuity': 1, 'cameos': 3, '13u': 1, 'ged': 1, 'happyplace': 1, 'albert': 6, 'solitude': 4, 'murderous': 1, 'din': 4, 'materialism.': 1, 'merton': 2, 'holmes': 3, 'detective': 1, 'undersea': 1, 'reenactment': 1, 'hahhaha': 2, 'talker-headed': 1, 'designated': 3, 'sophisticated': 2, 'styles': 2, 'charmeuse': 1, 'bridesmaid': 1, 'dresses-': 1, 'layered': 1, 'innovations': 1, 'www.shopshop.com': 1, 'show.went': 1, 'stood': 9, 'adrian': 4, 'cartoons': 1, 'stll': 1, 'midwestern': 1, 'ambitions': 5, 'wrapped': 10, 'kat': 2, 'foil': 2, 'platters': 2, 'increased': 4, '1974': 1, 'inflation': 2, 'balboa': 2, '10k': 5, 'mcn2011': 1, 'neat': 6, 'instruction': 7, 'mildly': 2, 'weep': 3, 'hashtags': 3, 'consuming': 3, 'retard': 3, 'queries': 2, 'ndsa': 1, 'y.': 1, 'stickler': 1, 'history/proof': 1, 'unrealistic': 1, \"li'l\": 2, 'absorb': 2, 'rainforest': 1, 'destroy': 6, 'climate': 2, 'ancient': 4, 'thriving': 1, 'mahomie': 4, 'nfw': 1, 'macho': 1, 'cooked': 10, 'sing-along': 1, 'attic': 4, 'jm': 1, 'celtic': 3, 'crib': 3, 'rope': 4, 'knot': 3, 'd.': 8, 'roosevelt': 6, '1882-1945': 1, 'clips': 6, 'lesssgoooo': 1, 'twilight': 4, '145th': 1, 'high-energy': 1, '6:15pm': 1, 'pavilion': 3, 'doses': 1, 'judgments': 2, 'ashell': 1, 'tube': 7, 'thugs': 2, 'ignoring': 6, 'rendition': 3, 'swipes': 3, 'feisty': 4, 'on-air': 1, 'technologies': 3, '81': 2, 'hips': 3, 'drips': 1, 'frame': 4, 'mypastrelationships': 2, 'suggests': 7, '~jda': 1, 'ttot': 1, 'winterson': 1, 'nineties': 2, 'kickboxing': 2, '🏃': 1, 'ku': 5, 'bracket': 8, 'warehouse': 2, 'macapp': 1, 'shy': 4, 'sprint': 6, 'burned': 13, '86er': 1, 'hots': 1, 'enclosed': 1, 'dwf': 1, '11/23': 1, '11/25': 1, 'achilles': 1, 'heel': 2, 'revivial': 1, 'stuy': 1, 'alum': 3, 'ken': 9, 'marion': 4, \"'66\": 1, 'dear-enjoy': 1, 'calvin': 4, 'publix': 1, 'cutler': 3, '168': 1, 'begging': 3, 'bargaining': 2, 'famu': 1, 'internship': 10, 'ping': 5, 'warmer': 4, '*my*': 2, 'definitive': 1, 'team-builders': 1, 'entrepreneur': 4, 'greaterthanmoment': 1, 'firefox': 5, 'add-on': 1, 'invest': 4, 'thai': 7, 'foo': 5, 'fighters': 4, 'composting': 1, 'eco-driving': 1, 'rememer': 1, 'primitive': 1, 'wardrobe': 4, 'screenplay': 1, 'stewart/jane': 1, 'ashby': 1, 'amp': 5, 'deved': 2, 'concussion': 2, 'suntrust': 1, 'distinguished': 2, 'merit': 2, 'congr…': 1, 'maynaise': 1, 'worm': 4, 'liesivetoldmyparents': 1, 'outs': 8, 'akron': 2, 'writting': 2, 'yott': 1, 'musically': 2, 'plano': 3, '*first': 1, 'dale': 5, 'louisiana': 1, '**0844': 1, '880': 2, '2010**': 1, 'globalnet': 2, 'telecom': 1, 'recruitment': 2, 'behaved': 3, 'mtv': 2, 'dhtrial': 1, 'nic': 1, 'rejected': 3, 'retrial': 1, 'powering': 1, 'blahh': 2, 'spilled..': 1, 'devoted': 3, 'likee': 3, 'overdue': 4, 'bang': 11, 'niggah': 1, 'flash': 9, 'animations': 1, 'loko': 1, '-aka-': 1, \"'audio\": 1, 'vol': 1, 'movin': 3, 'carleton': 1, 'northfield': 1, 'mn': 10, 'jackwagon': 1, 'aloha': 5, 'ifitwasntfortwitter': 1, 'winding': 2, 'interpreting': 4, 'mccarter': 1, 'brim': 2, 'developer': 6, 'wrs': 1, 'arkansas': 3, 'lifeguarding': 1, 'pre-algebra': 1, 'labbit': 1, 'ashy': 1, 'nopo': 1, 'saggy': 1, 'booming': 1, 'decline': 4, 'johns': 3, 'jail': 12, 'levon': 3, 'helm': 1, 'drummer/singer': 1, '71': 5, 'spoils': 2, 'booboo': 2, 'foodtruck': 2, 'superfan': 1, 'overlake': 1, 'tiny': 14, 'lowdown': 1, 'motorcycle': 4, 'rides': 5, 'prefer': 12, 'bedrooms': 2, 'dumpoff': 1, 'buyback': 1, 'hff12': 1, 'fwd': 8, 'inadmissible': 1, 'caulk': 1, '🚀': 1, 'shootusdown': 1, 'q3': 3, 'dew': 1, 'olay': 1, 'day..and': 1, 'piccolo': 2, 'soon-kaesmoove': 1, 'depend': 5, 'goggles': 3, 'gre': 2, 'doctoral': 1, 'admissions': 5, 'energy/emphasis': 1, 'verbal/quant': 1, 'miobi': 3, 'precibus': 1, 'change..': 1, 'mean..': 1, 'gpa': 2, 'asb': 1, 'premiering': 2, 'you❤🆔': 1, 'ames': 3, 'beiaard': 1, '106.3': 1, 'fm': 7, 'norwegian': 2, 'as-of-yet': 1, 'unscheduled': 1, \"'round\": 4, 'finley': 3, 'signed': 28, 'jermichaelfinley': 1, 'messin': 4, 'shid': 1, 'tf': 10, 'wwl': 1, 'phew': 3, 'marvel': 2, 'dvl': 1, 'holiday..': 1, 'clear2go': 1, 'filters': 3, 'www.clear2o.com': 1, 'apartments': 4, 'jello': 2, 'cough': 10, 'otha': 3, 'wrng': 1, 'bananas': 3, 'onision': 1, 'prosperous': 2, 'farmers': 6, '11am-4pm': 1, 'interconnects': 1, 'warms': 3, 'hpcwire': 1, 'mahatma': 5, 'gandhi': 9, '61st': 2, 'assassinated': 1, 'chemistry': 4, 'tears': 16, 'render': 1, 'unto': 2, 'caesar': 5, 'caesars': 2, 'yeaah': 1, 'cloth': 3, 'go-to': 3, 'euchre': 2, 'victorwayne': 1, 'url': 8, '.night': 1, 'pansy': 1, 'rachel': 11, '-some': 1, 'fuk': 2, 'unsubscribe': 5, 'bleh': 5, 'daleearnhardtjrjr': 1, 'conan': 4, 'off-season': 2, 'medals': 1, 'saucers': 1, 'choreography': 1, 'frankie': 1, 'stepmom': 1, 'ontime': 1, 'ashanti': 1, 'cantankerous': 1, 'frustrated': 8, 'covers': 11, 'dubstep': 3, 'volstad': 1, 'bdubs': 2, 'shoulkd': 1, 'kidnapped': 3, '260': 2, 'cracker': 3, '🐶': 1, 'irishlove2012': 1, '😡😡': 1, 'dobbs': 1, 'interscopes': 1, 'hottest': 11, '2-3': 5, 'rock/pop': 1, 'elfman': 1, 'user-centered': 1, 'participant': 2, 'meting': 1, 'must-read': 1, 'endorsement': 6, '2/3': 3, 'repurpose': 2, 'webslam': 1, 'gb.tc': 1, 'itouch': 2, 'southbeach': 2, 'leggo': 3, 'sponsoring': 5, 'rivera': 5, 'miracles': 5, 'evocative': 1, 'purrp': 1, 'mavs': 10, 'preaching': 5, 'texted': 12, 'communicators': 2, 'gripe': 1, 'fda': 2, 'jason': 19, 'sadler': 2, 'foia': 1, 'breeze': 5, 'homestead': 1, 'applied': 6, 'surtax': 1, 'calculated': 2, 'dammnnnnn': 1, 'eos': 3, 'contains': 3, 'material': 9, 'hats': 6, 'fernando': 2, 'torres': 2, 'bestfriends': 3, 'alternatepurposesforthe223project': 1, '*public': 1, 'machine*': 1, 'munchies': 1, 'punkassbitch': 1, 'blunted': 1, 'finales': 2, 'same..': 1, 'mick': 2, 'satan': 9, 'dispute': 1, 'replaced': 3, 'aves': 1, 'oscar': 8, 'horsey': 1, 'bedroom': 9, 'headbands': 1, 'bows': 1, 'transended': 1, 'staple': 2, 'woulda': 4, 't-line': 1, 'pow': 1, 'hittin': 5, 'jibba': 1, 'handin': 1, 'shwag': 1, 'glasses': 20, 'headaches': 2, 'furcal': 1, 'rave': 4, 'astonishes': 1, 'pad': 4, '2011.10.13': 1, 'axford': 2, 'exhale': 3, '*raises': 1, 'hand*': 1, 'delpo': 1, 'ferru': 1, 'dubs': 1, 'hoa': 1, 'philo': 2, 'destination': 6, 'beong': 1, 'shittin': 2, 'mouths': 5, 'brits': 3, 'vitamin': 4, 'nyet': 1, 'russian': 7, 'ronpaul': 1, 'male-appreciating': 1, 'persuasion': 2, 'atheism': 1, 'fiveguys': 1, 'insane': 17, 'boiling': 4, 'veins': 3, 'mocca': 1, 'distro': 1, 'mayorship': 1, 'eliza': 1, '⚽': 1, 'roadshow': 1, 'surly': 3, 'abrasive': 1, 'suckin': 1, 'pickle': 4, 'labatt': 1, 'conditioning': 6, '115': 4, 'astdtk12': 1, 'goinnn': 1, 'senate-amended': 1, 'co-headlining': 1, 'dogtown': 1, 'slowly': 11, 'soon..kinda': 1, 'yeaa': 3, 'bruised': 1, 'collar': 1, 'bone': 5, 'bluest': 1, 'ounce': 6, 'affect': 7, 'eventual': 2, 'outcome': 2, 'crunchover': 1, 'futureoftv': 1, 'changer': 2, '500m': 1, 'tvs': 1, '2015': 2, 'blurring': 1, 'whodouthinkur': 1, 'wistful': 1, 'recruiter': 3, 'blowing': 15, '3-1': 4, 'panties': 3, 'noel': 3, 'tressa': 1, 'standpoint': 1, 'prediction-the': 1, 'proportional': 3, 'vitriol': 1, 'super8': 1, '88th': 2, 'check-in': 3, '45,347': 1, 'visuals': 1, 'ritual': 3, '~juli': 1, 'inkster': 1, 'troy': 9, 'reeves': 1, 'uw-madison': 1, 'cahsee': 1, 'midst': 4, 'involve': 4, 'situations': 6, '😝': 2, 'motorcade': 1, 'rethink': 5, '.hopefully': 1, 'fg': 1, 'cletidus': 1, '2001': 4, 'ahaha': 8, 'inherently': 1, 'there..': 4, 'harvey': 7, 'show..big': 1, 'err': 3, 'shonda': 1, 'rhimes': 1, 'fiorentino': 1, 'awol': 1, 'actsophia': 1, 'lik': 4, 'ebush': 1, 'eyed': 3, 'peas': 5, 'overwhelmed': 4, 'turnout': 3, '8bitseattle': 1, 'mhm': 2, 'dirk': 3, 'shawn': 5, 'bradley': 3, 'realist': 2, 'deeply': 4, 'iacona': 1, 'brenna': 2, 'boyce': 2, 'wham': 1, '1180': 1, 'bowman': 2, 'fyeahfarewellfighter.tumblr.com': 1, 'thefirstsongiheardby': 2, 'stretch': 11, 'run..': 1, 'nba.com': 1, 'deron': 2, 'prominent': 2, 'suitcases': 2, 'the-': 1, 'shout-out': 6, 'poet': 5, 'warrior': 7, 'start-up': 2, 'provides': 9, 'aspergers': 1, 'norfolk': 3, 'bridal': 2, 'postponed': 3, 'dgd': 1, 'allstars': 1, 'marlon': 1, 'byrd': 4, 'at-bats': 1, 'at-bat': 1, 'runnerproblems': 1, 'exposed': 4, 'expectation': 2, 'miracle': 9, 'tanned': 1, 'tanning': 3, 'capture': 3, 'garfield': 4, 'darkest': 2, 'wut': 8, 'triggerstreet': 1, 'usms': 1, 'synopsis': 2, 'noone': 3, '15peopleilove': 1, 'nebu': 1, '😷': 2, 'casebooks': 1, 'highlighters': 1, 'unleashing': 2, 'communtiy': 1, 'schmoozing': 1, 'bouncing': 4, '-dr.': 1, 'gentleman': 7, 'suspicious': 2, 'sears': 2, 'stickers': 10, 'weets': 1, 'disgrace': 1, 'faggs': 1, 'lesbo': 1, '..your': 1, '.sad': 2, 'needy': 1, 'karate': 2, 'rocktheink': 1, 'lili': 1, 'www.rocktheink.net': 1, 'henrik': 2, 'gatsby': 2, 'log': 16, 'webinar': 5, 'contributions': 2, 'trianon': 1, 'bollywood': 4, 'convinced': 6, 'terrance': 1, 'cost-friendly': 1, 'npo': 1, 'codemma': 1, 'palmer': 2, 'today.': 1, 'interestinq': 1, '40°': 1, 'eager': 4, 'horticulturist': 1, 'rejoice': 3, 'jr': 9, 'bounces': 3, 'pos': 2, 'tugs': 2, 'finds': 12, 'muir': 1, 'yogis': 2, 'weight-loss': 1, 'reveal': 2, 'distribution': 7, 'out-do': 1, 'mashable': 1, 'collective': 3, 'productively': 1, 'plunge': 1, '-smiles': 1, 'sweetly': 1, 'dimples-': 1, 'archery': 1, 'nowfollowing': 1, 'screenshot': 1, 'skinner': 1, 'confusion': 7, 'backwards': 4, 'heavenly': 4, 'pokemon': 1, 'champion': 5, 'pooped': 5, '*phone': 1, 'buzzes*': 1, 'invisible': 7, 'ninjas': 2, 'stem': 3, 'perspiration': 2, 'drysol': 1, 'excessive': 2, 'moisture/odor': 1, 'amazingrace': 1, 'toxic': 2, 'depends': 17, 'solely': 4, 'wyatt': 1, 'jonnymugwump': 1, 'me-': 4, 'repairable': 1, 'accidents': 2, 'roars': 1, 'mgm': 2, 'volney': 1, 'osmagic': 1, 'carries': 3, 'charm': 2, 'nurse': 4, 'intent': 2, 'published': 5, 'bcs': 2, 'plus-one': 1, 'delany': 1, '*eyes': 1, 'glaze': 1, 'over*': 1, 'photographer': 5, 'duluth': 1, 'cool.': 1, 'charger': 5, 'hibernate': 1, 'croak': 1, 'tinkerbell': 1, 'bahahagahaha': 1, '😄': 3, 'putter': 1, 'b-lo': 1, 'toronto': 3, 'haze': 2, 'x-rays': 1, 'linked': 3, 'tumor': 1, 'reuters/lucy': 1, 'nicholson': 1, 'atari': 2, 'trained': 8, 'stupidity': 6, 'handicap': 2, 'bonaparte': 2, 'dedicate': 2, 'slowing': 2, '0.five': 1, 'rsvp': 5, 'gane': 1, 'thyme': 3, '6.99': 1, 'reno': 2, 'presume': 1, 'cabdriving': 1, 'book-signing': 1, \"t'storms\": 1, 'newmexico': 1, 'kob': 1, 'conditions': 8, 'kris': 2, 'basketballpoem': 1, 'hrithik': 1, 'factors': 3, 'sprawl': 2, 'patterns': 5, 'degrassi': 2, 'edgerank': 1, 'aaawww': 2, 'racquetball': 3, 'hamstring': 1, 'campaigned': 1, 'predecessors': 1, 'unbelievable': 6, 'demonstrators': 1, 'h2p': 1, 'yoy': 1, 'furnishings': 2, 'finely': 1, 'appointed': 2, 'decorated': 2, 'glynallyn': 1, 'head-explode-y': 1, 'civilian': 1, '\\ue32d': 1, 'bracing': 1, 'clearance': 1, 'bloomingdale': 1, 'sanfrantoday': 1, 'childrens': 3, 'health.': 1, 'secretary': 3, 'kathleen': 2, 'sebelius': 1, 'forgive': 5, 'jalapeno': 2, 'arksd': 1, 'menus': 1, 'uploaded': 6, 'www.sandiegorestaurantweek.com': 1, 'accompanied': 2, 'drawbacks': 1, 'discomforts': 1, 'contradicts': 1, 'buddahmom..son': 1, 'on..': 4, 'prevails': 1, 'enes': 2, 'kanter': 1, 'scan': 4, '46': 4, 'curiosity': 4, 'obtain': 1, 'room.': 1, 'pat': 8, 'belton': 2, 'gallo': 1, 'ontologies': 1, 'participants': 3, 'iding': 1, 'sincere': 6, 'disneyland': 7, 'lanyards': 1, 'electron': 1, 'valence': 1, 'venus': 3, 'traps': 2, 'aqua': 2, 'teen': 19, 'verse': 4, 'panther': 1, 'flakes': 1, 'sheets': 4, 'annd': 1, 'pillow': 9, 'detergent': 2, 'atmosphere': 9, 'dignity': 4, 'fulfill': 4, '~doris': 1, 'humphrey': 1, 'bounced': 2, 'eats': 5, 'actuality': 1, 'soe': 1, 'downloaded': 9, 'fcpx': 2, 'interesting.': 1, 'bothered': 3, 'vandercross': 1, 'josephine': 1, 'amie': 1, 'hafy': 1, 'self-chosen': 1, 'amphitheater': 1, 'shabazz': 1, 'picks': 15, 'tattooed': 1, '☟': 1, 'technically': 4, 'guys…': 1, 'hambino': 1, 'birthweek': 1, 'spa': 8, 'chanell': 1, 'llaod': 1, 'crossing': 5, 'volunteering': 4, 'bosu': 1, 'destinations': 2, 'unconferenve': 1, 'amor': 1, 'frequently': 4, 'shudup': 1, 'grain': 4, 'carbs': 2, 'ce': 2, 'soir': 1, 'dieu': 1, 'opensocial': 1, 'bleed': 5, '-brandon': 1, 'jennings': 5, 'inquiring': 2, 'licks': 1, 'tootsie': 1, 'mullet': 1, 'speachless': 1, 'tutorials': 3, 'nada': 3, 'tonights': 8, 'cornel': 1, 'nighty': 2, 'reiff': 1, 'tasti': 1, 'terreculas': 1, '705': 1, 'gentleness': 2, 'gentle': 5, '-frances': 1, 'ginny': 1, 'redish': 1, 'daniel': 7, 'tosh': 2, 'allergy': 6, 'sorta': 2, 'vamp': 2, 'brainer': 1, 'fwm': 2, 'spectacular': 5, 'agony': 1, 'rethinking': 1, 'noisy': 3, 'bastille': 2, 'nuts': 15, \"'canes\": 1, 'defensive': 5, 'montreal': 2, 'commentator': 1, '4-0.': 1, 'irc': 1, 'veritable': 2, 'foods': 10, '4yr': 1, 'mp3': 1, 'non-ipod': 1, 'thingy': 7, 'transfers': 1, 'files': 13, 'loweredexpectations': 1, 'www.machorhino.com': 1, 'roise': 1, 'cancel': 9, 'vac': 1, '1865': 1, 'e-mail': 12, 'browsers': 2, 'dyin': 1, 'quest': 7, 'dlist': 1, 'millen': 1, 'analyst': 3, 'sj': 1, 'camilla': 1, 'karma': 9, 'bgc': 2, 'some1': 3, 'smartest': 3, 'noles': 2, 'e-blast': 1, 'roboto': 1, 'temperature': 4, 'royal': 8, 'realizing': 13, '.~': 1, 'proverbs': 5, '27:6proverbs': 1, '27:6': 1, 'deceitful': 1, 'strokes': 1, 'motivating': 3, 'morning.hope': 1, 'magnets': 1, 'mintex12': 1, 'danorush02': 1, '18th': 11, 'savage': 4, 'dido': 1, 'back-to-back': 2, 'gi': 1, 'sharon': 3, 'cows': 2, '🐮': 1, 'appointment': 6, 'qrazy': 1, 'electronic': 2, 'nightlife': 1, 'fiercely': 2, 'libertarian': 2, 'communists': 1, 'documentaries': 2, 'bergeron': 1, 'disappoints': 1, 'opossum': 1, 'hitching': 1, 'murmured': 1, 'peacefully': 2, 'zuma': 1, 'ireallywant': 2, 'scorpio': 3, 'criticial': 1, 'i.e.': 2, 'crucial': 3, 'researcher': 3, '~benjamin': 1, 'passionate': 3, 'ramona': 2, 'understan': 1, 'oklahomacity': 1, 'bombing': 3, 'sunflowers': 1, 'ngood': 1, 'musburger': 1, \"'jiro\": 1, 'depths': 2, 'regis': 1, 'sweaters': 1, 'solved': 8, 'huskers': 1, 'ketv': 1, '.until': 1, 'steals': 2, 'nigletssssssssss': 1, 'officer': 6, 'ysidro': 1, 'port': 4, 'northbound': 2, 'ped': 1, 'batters': 1, '317-736-0950': 1, 'clap': 3, 'atleast': 5, 'avoided': 2, 'spoilers': 6, 'marrying': 2, 'thanksgiving-': 1, 'revert': 3, 'hq': 6, 'docs': 4, 'epl': 2, 'bolton': 2, 'qpr': 1, 'ream': 1, 'assist': 10, 'methcat': 1, 'straits': 1, 'pumpn': 1, 'brah': 3, 'euro': 3, '5mm': 1, 'neoprene': 1, 'healthiest': 1, 'deepak': 2, 'chopra': 2, 'hotspacho': 1, 'euphemism': 2, 'ejaculation': 1, 'hydrocarbon': 1, 'fundamental': 2, 'religions': 3, 'atheists': 1, 'frenchman': 1, \"'fortune\": 1, 'injection': 1, 'mid-major': 1, 'phrase': 4, 'uofl': 4, 'complacency': 1, 'followfollowfollow': 1, 'wth': 4, 'smog': 3, 'baltimore-washington': 2, 'aquatic': 1, 'creations': 2, 'vet-that': 1, 'ruben': 1, 'ocbound': 1, 'cabin': 6, 'salient': 1, 'synonomous': 1, 'flask': 1, 'kory': 1, 'energizer': 1, 'battery': 11, 'crazyzbill': 1, 'urethra': 1, 'functioning': 3, 'cs': 4, 'seocnd': 1, 'fangs': 1, 'pong': 3, 'withdrawl': 1, 'addictedprobs': 1, 'chorizo': 3, 'troubles': 2, 'retired': 3, 'retire': 5, '4375': 1, 'coverings': 1, 'tile': 3, 'bruises': 2, 'fractures': 1, 'ambassador': 4, 'cape': 3, 'verde': 1, 'countries': 9, 'residuals': 1, 'probly': 3, 'practicing': 10, 'not-tamya': 1, 'marquee': 1, 'erectors': 1, 'required': 4, '01636': 1, '701702': 1, 'vanessa': 1, 'carlton': 1, 'douchebag': 5, 'blameless': 1, 'hotmail': 1, 'icry': 1, 'cities': 13, 'professor': 8, 'admin': 11, 'dictates': 1, 'eloping': 1, 'execution': 2, 'debatable': 1, 'aahahahahahahahahaha': 1, 'hustlers': 1, 'discovery': 4, 'hiya': 1, 'pal': 2, '4k': 1, 'cosmic': 2, 'spout': 1, 'partisan': 3, 'pablum': 1, 'uber': 1, 'nec': 2, 'reagan': 2, 'myth': 5, 'speeking': 1, 'freely': 3, 'coincide': 2, 'norris': 2, 'frakkin': 1, 'archive': 7, 'launchpad.net/citability': 1, 'rnb': 2, 'lebo': 1, 'learned..lol': 1, 'champions': 9, 'momentarily': 3, 'wordoftheday': 2, 'bedizen': 1, 'adorn': 2, 'showy': 1, 'gaudy': 1, 'tasteless': 1, '///': 2, '6:50am': 1, '91.3fm': 1, 'lol..': 2, 'artest': 9, 'brawl': 2, 'nils': 1, 'likeu': 1, 'aloy': 1, 'winky': 2, 'gutting': 2, 'limits': 9, 'welovemadison': 1, 'mobile/web': 1, 'design/creative': 1, 'thanks~': 1, 'kindergarten': 3, 'mango': 5, 'schnapps': 2, 'boobson': 1, 'swine': 2, 'r8': 1, 'wantanr8': 1, '*love*': 3, 'molly': 6, 'restoring': 1, 'psn': 1, 'firmware': 1, 'reset': 2, 'passwords': 2, 'tutee': 2, 'werz': 1, 'reloaded': 2, '6abc.com': 1, 'bit.ly/qh68sk': 1, 'runaround': 1, 'wow..': 1, 'voiceover': 2, 'eek': 4, 'pinning': 3, 'predict': 5, 'parlays': 1, '6-5': 1, 'tebow-mania': 2, 'bandwagon': 3, 'planners': 2, 'wristbands': 4, '123.': 1, 'flaws': 2, 'qual': 1, 'everfi': 2, 'whatayear': 1, 'sneeze': 3, '3hour': 1, 'mediafire': 1, 'dosent': 2, 'demos': 5, 'bandpage': 1, 'tab': 8, '~terri': 2, 'guillemets': 2, 'is..rt': 1, 'oz': 8, '240': 1, 'menace': 2, 'screens': 5, 'screenfreeweek': 1, 'mixup': 1, 'differently': 5, 'outdoors': 3, 'pierogie': 1, 'length': 4, 'frying': 1, 'lorax': 3, 'espically': 1, 'middlesex': 1, 'refiilllllllllllllllll': 1, 'buddha': 6, 'thxs': 2, 'tartine': 1, 'travelers': 2, 'unite': 3, 'sag': 4, 'aftra': 2, 'stud': 5, 'nicu': 1, 'lipid-soluble': 1, 'gk': 1, 'efroymson': 1, 'mfa': 1, 'chapped': 2, 'lip': 8, 'legoland': 2, 'pirate': 6, 'reef': 2, 'pirate-themed': 1, 'expand': 4, 'miniland': 1, 'majors': 4, \"m.f'n\": 1, 'mking': 1, 'responsibility': 7, 'fucker': 7, 'ghetto': 5, '400lbs': 1, 'tmro': 1, 'horny': 8, '.for': 1, 'beuno': 1, 'bowlsby': 1, 'b12': 1, 'commish': 1, 'nationalchampionsby': 1, 'anti-gay': 1, 'triangle': 3, 'attract': 6, 'thehungergames': 2, 'bobcats': 2, 'harassing': 2, 'ehlee': 1, 'protestor': 1, '-or-': 1, 'moons': 1, 'hammy': 2, 'hero': 15, 'fo': 2, 'istretch..': 1, 'tipsy': 1, 'keg': 4, '🍻': 2, 'aweso': 1, 'memorize': 1, 'harp': 2, 'quintet': 1, 'hoffmann': 1, 'ica': 1, 'marguerite': 1, 'principal': 5, 'harpist': 1, 'lyric': 4, 'opera': 9, 'askalexconstancio': 2, 'titty': 1, 'aisha': 1, 'portlanders': 1, '7916': 1, 'se': 9, 'foster': 11, '11-7': 1, 'weds-sat': 1, '11-5': 2, 'devil…': 1, 'me.': 1, 'hungry..': 1, 'cheatn': 1, 'boosters': 1, 'prepaid': 2, 'mobprocconf': 1, 'collateral': 2, 'surveillance': 1, 'asymmetry': 1, 'referencing': 4, 'licoppe': 1, 'reducible': 1, 'cyrus': 1, 'hardingdescended': 1, 'lantern': 4, 'gossip': 5, 'electorate': 1, 'charitable': 1, 'fall/winter': 1, 'sanfordflorida': 1, 'billlee': 1, 'resign': 1, 'indoors': 2, 'orale': 1, 'si': 5, 'invites': 7, 'colored': 3, 'driven': 6, 'replayin': 1, 'endures': 1, 'fargo': 1, 'registration': 12, '248': 1, '581-3942': 1, 'wed': 12, 'repriced': 1, 'retail': 8, 'repricing': 1, 'actually-': 1, 'varietals': 1, 'viewer': 1, '7/month': 1, 'rape-tag': 1, 'thrusts': 1, 'respond': 14, 't-money': 1, 'kipcamp': 1, 'overdrive': 1, 'rolex': 2, 'camaro': 2, 'invoice': 3, 'dedicated': 9, 'ceramic': 1, 'waahh': 1, 'snokie': 1, '\\ue056\\ue41d\\ue328': 1, 'poured': 3, 'benadryl': 1, 'mg': 2, 'cnnnye': 1, 'appy': 1, 'syd': 1, 'lieberman': 4, 'forehead': 6, 'unfortunate': 5, 'upgraded': 6, 'exit': 4, 'tall': 14, '809': 1, 'ownership': 2, 'markets': 3, 'appealing': 3, 'e.g': 4, 'mumbai': 1, 'fan..can': 1, '10,533': 1, 'fines': 1, 'pima': 1, 'colombian': 2, 'r.e.i.g.n': 1, 'stewed': 1, 'zombie': 11, 'housewives': 11, 'wordcamp': 2, '~joe': 1, 'jonas': 4, 'conservatives': 4, 'gays': 6, 'kiwiland': 1, 'libchat': 2, 'monique': 2, 'academic': 9, '1871': 1, 'lasalle': 1, 'stateside': 1, 'youtown': 1, 'edmonton': 2, 'gulfport': 1, 'maricopa': 1, 'bcbg': 2, 'set-up': 2, 'allof': 1, 'twiiter': 1, '.what': 3, 'zumba': 3, 'beto': 1, 'showboat': 1, 'w/joel': 1, 'calcula': 1, 'enables': 1, 'mp3s': 4, 'shits': 7, 'www.allegrodancecompany.net': 2, 'puppies': 3, 'relates': 1, 'preventative': 1, 'thirsty': 11, 'eegees': 1, 'seats': 5, 'diffrent': 2, 'dropbox': 5, '18g': 1, 'www.lynda.com': 1, 'contractors': 2, 'ghostly': 1, 'gagues': 1, 'buddies': 2, 'pre-season': 1, 'athletes/celebrities': 1, '.99': 2, 'foundations/charities': 1, 'tos': 1, 'guru': 4, 'rios': 1, 'bit.ly/he7mk3': 1, '1973': 1, 'steinbrenner': 2, 'atta': 1, 'mascara': 1, 'eyeliner': 1, 'bronzer': 1, 'zachary': 1, 'zst': 1, 'rest.in.peace.': 1, '318': 1, '53rd': 1, 'owww': 1, '..hum': 1, 'rotted': 1, 'hindsight': 1, 'snapbacksandtattoos': 1, 'driicky': 1, 'adele': 12, 'artistoftheyear': 1, 'brian': 23, 'mcknight': 1, 'kushcampers': 1, 'darned': 2, 'broad': 3, 'struck': 4, 'constructive': 3, 'cleans': 1, 'tampabay': 1, 'attractions': 1, 'www.youtube.com/kaebelltunes': 1, 'e.fdj': 1, 'para-para-paradise': 1, 'said.until': 1, 'penalty': 5, 'leicester': 1, 'lyon': 2, 'phelps': 1, 'robbins': 5, 'frog': 2, 'sinus': 1, 'antibiotics': 1, 'embedded': 1, 'rm': 4, 'sesh': 4, 'nbcusummer': 1, 'cock-a-hoop': 1, 'indecent': 1, 'dentist.': 1, 'pre-register': 1, '282-4630': 1, 'tres': 1, 'leches': 1, 'reduce': 9, 'vinegar/water/sugar': 1, 'measurements': 1, 'wager': 1, '*enough': 1, 'feast': 4, 'avoiding': 6, 'harsh': 6, 're-post': 1, 'costperounce': 1, 'non-name': 1, 'wrinkles': 1, 'satellite': 2, 'diana': 2, '\\ue32a': 1, 'throat': 10, 'muffaletta': 1, 'moday': 1, 'psshhaaww': 1, 'cats..mostly': 1, 'sparring': 1, 'saga': 1, 'arrive': 9, 'joints': 3, '8779': 1, 'wurzbach': 1, 'beverage': 5, 'blueshirts': 2, 'backinthedaywheniwasakid': 1, 'snoop': 2, 'wiz': 11, 'rants': 2, 'terry': 3, 'gilliam': 1, 'loosa': 1, 'extended': 8, 'jets': 11, 'nokettle': 1, 'malaria': 3, 'yalls': 2, 'simplicity': 3, 'siuc': 1, 'domecoming': 1, 'gay.': 1, 'kinky': 2, 'brigit': 1, 'bruno': 3, 'mars': 6, 'colony': 2, 'remarks': 5, 'fuck.': 1, 'imgettingold': 1, 'nx': 2, 'inquiries': 3, 'internetexplorer': 1, 'dodgers': 7, 'coffin': 3, 'bastards': 3, 'sherlocks': 1, '1.what': 1, 'dudley': 2, '2.': 10, 'copper': 5, 'karthik': 1, 'bambaid': 1, 'stitches': 2, 'ceremony': 7, 'nsn3dsaturday': 1, 'drose': 3, '107.9': 1, 'eyepad': 1, 'boog': 1, '77': 1, 'www.createmoneyweb.com': 1, '4/6': 1, 'generates': 1, 'typically': 4, 'encouraging': 7, 'bagel': 5, 'nutella': 6, 'lilac': 3, 'prospect': 2, 'wes': 4, 'provider': 3, 'tundratailgatezone': 1, 'lambeau': 3, 'warnings': 2, 'kaufman': 1, 'rockwall': 1, 'counties': 1, 'dissipating': 1, 'navigate': 2, 'taquitos': 1, 'rivals': 1, 'incident..': 1, 'whommmmmp': 1, 'hardass': 1, '3-year': 1, 'kitty': 8, 'chloe': 2, 'tbh': 7, 'facter': 1, 'mazdas': 1, 'proloquo2go': 1, 'accessible': 4, 'gav': 1, '🐛': 1, 'x100': 1, 'tnt': 2, 'brutally': 1, 'beaten': 1, 'tater': 1, 'tots': 2, 'cafateria': 1, 'rainer': 1, 'rilke': 1, 'teller': 1, 'vt': 2, 'chicago-the': 1, 'rents': 1, 'mutha': 2, 'fucka': 1, 'fallin': 2, 'stairs': 11, '50yb': 1, 'flacco': 2, 'tramp': 2, 'stamp': 7, 'lxtv': 1, 'sara_gore': 1, 'multi': 3, 'depending': 4, 'leviathan': 1, 'heist': 1, 'kiki': 2, 'swinson': 1, 'teachersearch': 1, 'height': 6, 'galoshes': 1, 'bundle': 4, 'mr.gay': 1, 'badass': 5, 'refrain': 1, 'decision..': 1, 'tillich': 1, 'glarus': 1, 'wisconsinite': 1, 'thee': 6, 'cuzz': 1, 'plants': 7, 'bowls': 5, 'talkn': 2, 'givethanks': 1, 'donors': 4, 'sealed': 4, '2014': 3, 'tpg': 1, 'rumored': 3, 'lvmh': 1, 'choo': 2, 'w/her': 1, 'grin-ectomy': 1, '1231': 1, 'bat-tub': 1, 'jittery': 1, 'wink': 1, 'bargains': 1, 'elaborate': 6, 'ruse': 1, 'mustang': 4, 'pa': 11, 'djohnson': 1, 'comingsoon': 1, 'celts': 2, 'whooped': 1, 'punching': 3, 'boogie': 1, 'easy2setup': 1, 'bulletin-board': 1, 'civic': 3, 'one-time': 1, 'campana': 1, 'rum': 1, 'buckets': 3, 'lemonade': 6, 'gumbo': 1, 'margaritas': 2, 'mojitos': 1, 'idc': 6, 'ayone': 1, 'apes': 2, 'signings': 3, 'refereeing': 1, 'fukkn': 1, 'go2yo': 1, 'krib': 1, 'mid-life': 1, '15-minutes': 1, 'webisode': 2, 'vie': 2, 'shoots': 5, 'semesters': 2, '1992': 2, 'thunderstorm': 5, 'wizard': 6, 'tester': 2, 'jquery': 3, 'html5': 2, 'edgelink': 1, 'michaels': 2, 'pd': 3, 'kdmx/dallas': 1, 'leaf': 6, 'who-ville': 1, 'tyme': 1, 'lxxx': 1, 'consuul': 1, 'revolt': 2, 'pier': 2, 'kappaalphapsi': 1, 'awwwkwwwwward': 1, 'scales': 3, 'shirley': 2, 'viewed': 5, 'tenor': 1, 'gene': 3, 'yang': 1, 'laugh-out-loud': 1, 'inventive': 1, 'stereotypes': 2, 'multiculturalism': 1, 'eku': 1, 'conflicts': 1, 'lcc': 1, 'suppliers': 1, 'resolved': 6, 'greeting': 2, 'giddy': 3, 'sinuses': 1, 'waved': 1, 'mad.i': 1, 'y-they': 1, 'gbs': 1, 'arodg': 1, 'machine-gun': 1, 'visitors': 7, 'firepower': 1, 'hoodrat': 2, 'escuela': 1, '._.t': 1, 'bologna': 2, 'ashamed': 9, 'blatche': 1, 'jo': 2, 'uncooked': 1, 'repost': 3, 'acknowledgment': 1, '15x15': 1, 'elated': 1, 'colin': 9, 'powell~': 1, 'preparation': 3, 'r4': 1, 'phlegmatic': 1, 'penitence': 1, 'r5': 2, 'verisimilitude': 1, 'tap': 11, 'cava': 1, 'liqueur': 1, 'cheese/cracker/olive': 1, 'tray': 1, 'archaeology': 3, 'consent': 2, 'tone': 8, 'verizon': 2, 'daliens': 1, 'ace-quality': 1, 'thrift': 3, 'stores/donations': 1, 'ndpl': 1, \"'access\": 1, 'omqqq': 1, 'repubs-to': 1, 'dems-to': 1, 'office/studio': 1, 'kalamath': 1, 'bidding': 2, 'copley': 1, 'gamechanger': 1, 'chattanooga': 2, 'photographing': 1, 'walnut': 1, 'loch': 1, 'ness': 2, 'jordans': 2, 'jumpman': 1, 'females': 12, 'ballers': 2, 'consume': 5, 'decorations': 2, 'grey': 11, 'persist': 2, 'tobias': 1, 'wolff': 1, 'shops': 3, 'mhblogday': 1, 'teleprompter': 1, 'lie♥.♥': 1, 'chile': 3, 'cornbread': 3, '1,500': 1, 'watery': 1, 'grave': 4, 'derrida': 3, 'repetitive': 1, 'dysfunction': 2, 'corrected': 5, 'diminishes': 1, 'prosecution': 4, 'hardin': 1, 'macnamee': 1, 'cabeth': 1, 'museums': 8, 'koobface': 1, 'operates': 1, 'pregnant': 23, 'jammed': 1, 'foreveralone': 2, 'foreveralonebuddies': 1, '~~~~~~~~~~wrong': 1, 'mgk': 1, 'glamorous': 4, 'soakn': 1, 'smokn': 1, 'argh': 4, '________': 2, 'canter': 2, 'matter-of-fact': 1, 'gretzky': 2, \"'i\": 6, 'dozens': 3, 'crazygirl': 1, 'ringwald': 1, 'binto': 1, 'lizzie': 3, 'mcguire': 2, 'treading': 1, 'austin-': 1, 'heres': 3, \"d'=\": 1, 'caf': 1, 'broadripple': 1, '=question=': 1, 'contests': 3, 'bestsellers': 1, 'pessoa': 1, 'christas': 1, 'tis': 4, 'thangs': 1, 'rang': 1, 'uggh': 3, 'strangers': 5, \"ma'fucka\": 1, 'drain': 4, 'xmpp': 1, 'auth': 1, 'binding': 1, 'serves': 3, 'authenticated': 1, 'genealogist': 1, '//www.myfreegenealogy.com': 1, 'behalf': 5, 'collectors': 4, 'likemind': 1, 'brunettes': 3, 'zuzu': 1, 'evening.very': 1, 'lied': 6, 'jonathan': 6, 'lethem': 1, 'shoelaces': 1, 'krulwich': 1, 'radiolab': 1, 'moderator': 3, 'eligible': 2, 'assessor': 2, '312-443-7550': 1, 'commuters': 1, '10x': 1, 'mentors': 3, 'scented': 1, 'moisturizing': 3, 'distracting': 2, 'asw': 1, 'santoro': 1, 'pounding': 1, 'scandalizing': 1, 'geniuses': 3, 'coco': 4, 'crunk': 1, 'sa': 4, 'hurricane': 4, 'citi': 2, 'buzzer': 1, 'beater': 1, 'introduse': 1, 'j/k': 3, 'barbecue': 2, 'junior..': 1, 'family..': 1, 'brotha': 8, 'oan': 1, 'settle': 15, 'mirrored': 1, '~rumi': 1, 'delusions': 1, 'grandeur': 1, 'combines': 2, 'worldview': 1, 'upside-down': 1, 'radical': 4, 'environmentalists': 1, '*mumble': 1, 'ramble': 1, 'nicholas': 1, 'giver': 1, \"f'n\": 2, 'importance': 5, '-thanks': 2, 'jesusspotting': 1, 'crescent': 1, \"'lab\": 1, 'wildgoosechase': 1, 'fotcl': 1, 'evaluation': 3, 'condition': 4, 'cambridge': 3, 'capsicum': 1, 'framework': 3, 'unix/chromeos': 1, 'commun': 1, 'auditon': 1, 'abdc': 6, 'crust': 2, 'limit': 21, 'artpace': 1, 'mexic-arte': 1, 'wtaf': 1, 'lebanese': 1, '..point': 1, 'cheetah': 2, 'utterly': 3, 'smitten': 1, 'kasi': 1, 'daandre': 1, '104': 1, 'iron': 14, 'steakhouse': 3, 'improved': 4, 'rockets': 2, 'robin': 1, '-4': 1, 'tee': 7, 'www.steveknerem.com': 1, 'yippee': 3, 'showin': 2, 'hennessy': 2, 'tightier': 1, 'quickest': 2, '30s': 1, 'mid-late': 1, '20s': 2, 'film/tv': 1, 'pmh': 1, 'schedules': 6, 'fading': 1, 'justsayin': 3, 'yoya': 1, '8pm|': 1, 'wadded': 1, 'cubicle': 1, 'honesty': 5, 'e3': 3, 'kinect': 2, 'impresses': 2, 'leagues': 3, 'tiffs': 1, 'aldus': 2, 'pagemaker': 1, 'desktop': 4, 'adobe': 5, 'jonus': 1, 'violinist': 1, 'padilla': 1, 'www.duanepadilla.com': 1, 'sights': 1, 'tech-pop': 1, 'sleeps': 1, '8-12': 1, 'eyecare': 1, 'douchbag': 1, 'boisesoc': 1, 'bieter': 1, 'portion': 2, 'xdd': 1, '49.': 1, 'jerry': 11, 'musicmonday': 1, 'www.liverockyell.com': 1, 'www.thefive10.com': 1, 'www.isomediainc.com': 1, 'www.musicbusinessfordummies.com': 1, 'www.bobbaker.com': 1, 'remediated': 1, 'relation': 3, 'forecast': 6, 'lows': 3, 'clueless': 4, 'fumes': 1, 'nausious': 1, \"'caught\": 1, 'fashionably': 1, 'alesha': 1, 'eriiiika': 1, 'kayyne': 1, 'helicopters': 1, 'aides': 1, 'photographed': 1, 'painted': 8, 'boxes': 13, 'metalcore': 1, 'weve': 1, 'temper': 1, 'supervisor': 3, 'zoey': 1, 'monkeyface': 1, 'encounters': 3, 'speculative': 2, 'imaginative': 2, '6:30pm': 8, 'www.afpls.org/aarl': 1, 'amps': 1, 'threatened': 3, 'libel': 1, 'assassins': 5, 'creed': 2, 'revelations': 1, 'assassin': 1, '-shoulder': 1, 'addicting': 5, 'scout': 8, '6-7:30': 1, 'puyol': 1, 'disagreement': 1, 'snapped': 2, 'sinna': 1, 'pesa': 1, 'tango': 3, 'tangerine': 5, 'glp': 1, 'oclc': 1, 'presence': 8, 'fretwell-downing': 1, 'levi': 1, 'leer': 1, 'pearlbistro': 1, 'gawd': 2, 'il08': 1, '‹33': 1, 'corsette': 1, 'alcoholic': 2, '719-520-3232': 1, 'flippin': 3, 'kardashians': 5, 'violent': 4, 'spearheaded': 1, 'm14hoops.com': 1, 'notable': 1, 'm14': 1, 'tomaselli': 1, 'retraction': 2, 'viral': 6, 'legooo': 1, 'wrestle': 1, 'cena': 5, 'rock..i': 1, 'arnoldpalmerinvitational': 1, 'news4': 2, 'stellar': 2, 'pebble': 2, 'stryve': 1, 'executive': 9, 'busting': 2, 'uniform': 6, 'stereotype': 1, 'bit.ly/ql1qym': 1, 'seminars': 1, '1:00': 1, 'gallery': 15, 'heavily': 1, 'proceed': 1, 'ze': 1, 'guiness': 2, 'gift.medea': 1, 'carson': 3, 'hussy': 1, 'overpowers': 1, 'smoldering': 1, 'cloves': 2, 'hillbilly': 2, 'groovy': 3, 'iim': 2, 'enjoyable': 7, 'byslma': 1, 'berzerk': 1, 'torts/lavy': 1, 'dennis': 8, 'ritchie': 1, 'mailers': 1, 'pittsburg': 1, 'strongland': 1, 'reunite': 3, 'markelle': 1, 'catches': 2, 'helmut': 1, 'dunn': 3, 'desert': 4, 'climates': 1, 'there.aveeno': 1, 'lotion': 1, 'absorbing': 1, 'citizenship': 2, 'yet..': 3, 'christmasshopping': 1, 'curriculum': 2, 'voo': 2, 'hashbrowns': 1, 'delicous': 1, 'integrity': 1, 'nobodys': 2, 'winfrey': 4, 'canibehonestwithyou': 2, 'balt': 1, 'transgender': 2, 'term-limits': 1, 'bill.lots': 1, 'arnd': 1, 'sufficiently': 2, 'mdlbphyc': 1, 'student/under': 1, 'lovable': 2, 'rude': 15, 'tellers': 1, 'action.without': 1, 'applying': 2, 'aries': 1, 'mb': 4, 'prodigy': 2, 'stain': 1, 'paraphrase': 1, 'freud': 2, 'wp_osc': 1, 'plugin': 3, 'wordpress': 10, 'thumbnail': 1, 'self-immolation': 1, '_visit_': 1, 'theories': 2, 'principles': 5, 'adapt': 2, 'paint': 17, 'lick': 5, 'marv': 1, 'banged': 2, 'frustration': 2, 'statscube': 1, '.com': 3, 'hoosiers': 3, 'framed': 1, 'tmr': 1, 'pawl': 1, 'noplaygamesrule': 1, 'frm': 5, 'sleepless': 1, 'inspirations': 3, 'cinema': 2, 'entity': 1, 'curators': 2, 'critics': 3, 'aeropostale': 1, 'scottsdale': 2, 'continuation': 1, 'fuzzy': 5, 'night😱': 1, 'sage': 4, '-said': 1, '7027506103': 1, 'peaceful': 7, 'mandates': 1, 'oppression': 3, 'and/or': 12, 'entertainment/creative': 1, 'workspaces': 1, 'feeds': 4, 'stunned': 1, 'aammmaaaazzzaannggg': 1, '👉👉👉👉': 1, 'creepy': 17, 'chap': 3, 'wsum': 2, 'ladytickler': 1, 'cattle': 1, 'automagik': 1, 'listen/fuck': 1, 'sumone': 1, 'tyte': 1, 'bookmark': 2, 'people/': 1, 'contracting': 1, 'superstars': 2, 'burton': 5, 'princes': 1, 'reema': 1, 'adrenaline': 1, 'chateaustemichelle': 1, 'riesling': 2, 'gyros': 2, 'parthenon': 1, '24th': 4, 'bit.ly/zx2dr2': 1, 'pushin': 1, 'ballesteros': 1, 'seve': 1, 'awsome': 5, 'execs': 2, 'labs': 1, 'alarming': 2, 'heroin': 4, 'dying.': 1, 'megatron': 1, 'thingsthatiwanttohappen': 1, 'earphones': 1, 'babygirl': 2, 'griswalds': 1, 'chrismas': 1, 'blu-ray': 3, 'collector': 1, 'wedgie..': 1, 'wedgies': 1, '954-608-9103': 1, 'crisps': 2, 'blimpy': 1, 'mandate': 1, 'motorcycles': 2, 'facebook.com/orangegroves': 1, 'alemily': 1, 'tsc': 1, 'chantrel': 1, 'bisque': 2, 'vitue': 1, 'limping': 2, 'musicians': 9, 'l.a': 4, 'whistler': 1, '-chris': 2, 'helluvalot': 1, 'shooters': 1, 'advocator': 1, 'finalist': 1, 'thx…your': 1, 'birthed': 2, 'brianna': 3, '11years': 1, 'mam': 2, 'gamma': 1, 'rho': 1, 'collegian': 1, 'panhellenic': 1, 'gaustaud': 1, 'honestly-yall': 1, 'music-period': 1, 'genres': 2, 'labels': 4, '-there': 1, 'flakey': 1, 'hooked': 6, 'wiff': 2, 'foolishness': 2, '..finding': 1, 'modesto': 2, 'baged': 1, 'groceries': 4, 'hugging': 8, 'thingsthatineed': 2, 'okey': 2, 'hihi': 2, 'out-betty-ed': 1, 'bizarre': 5, 'hearings': 1, 'technology-related': 1, 'ethics': 3, 'demanding': 1, 'lmaooo': 4, 'whatsobamahiding': 1, 'arse': 4, 'sum1continues2': 1, 'reason2': 1, 'upset.if': 1, 'emoji': 1, 'toward': 13, 'sustainable': 6, 'verification': 1, 'prussia': 1, 'skyline': 3, 'relationships': 14, 'laurie': 2, '32nd': 2, 'nbmbaa': 1, 'sept.': 6, '21-25': 1, 'www.nbmbaa.org': 1, 'vanessie': 1, 'madbeast/ghost': 1, 'worthen': 1, 'powerfull': 1, 'attracts': 1, 'quoting': 3, 'askscandal': 2, 'politician': 4, 'hence': 3, '-psalm': 2, '103:2': 1, 'mehhh': 1, 'bottomlesscup': 1, 'whiteness': 2, '2000thtweet': 1, '..be': 1, 'devin': 4, 'cheered': 1, 'cells': 2, 'thoughtsduingschool': 1, 'derogatory': 1, 'women-': 1, 'boobs': 3, 'scorpion': 2, 'shortys': 1, '11th': 6, 'sumbody': 2, 'enfold': 1, 'kcmo': 1, 'sly': 1, 'kansascity': 1, 'monarch': 1, 'flew': 6, 'buzzed': 2, 'irks': 3, 'a6': 3, 'virtual': 10, 'optimism': 2, 'roof': 6, 'distinguish': 1, 'remake': 5, 'patron': 5, 'milk..': 1, '*hangs': 1, 'head*': 1, 'ypy': 1, 'disagreements': 1, 'ay': 3, 'slowest': 2, 'pasadena': 3, 'playhouse': 2, \"'sleepless\": 1, 'wearin': 1, 'speakin': 1, 'gentle-man': 1, 'merrychristmas': 1, 'headdress': 1, 'underestimate': 3, 'yadda': 2, 'last.fm': 1, 'feelsgreat': 1, 'envious': 1, 'spin': 11, '787': 1, 'fedex': 2, 'brokerage': 3, '2349': 1, 'aviation': 1, 'indianapolis.11-1:30': 1, 'overcoming': 2, 'apartheid': 1, 'man-made': 1, 'rinaldo': 1, 'darvish': 2, '91-95': 1, 'mph': 5, 'slider': 1, 'curveballs': 1, 'goeth': 1, 'sez': 1, 'multifamily': 1, 'brokers': 2, 'referrals': 2, 'presenter': 1, 'practiced': 2, '🍝': 1, 'luvd': 1, 'income': 5, 'toad': 2, 'croaked': 1, 'soccer-cheering': 1, 'sweep': 5, '04/09/12': 1, \"'townwayne\": 1, 'whitewater': 2, 'teamturnup': 1, 'edlines': 1, 'rework': 1, 'accommodate': 3, 'revenge': 7, 'thingsthatpissgirlsoff': 1, '20+': 5, 'miler': 2, \"'berna\": 1, 'fide': 1, \"'turn\": 1, \"'feel\": 1, 'bern': 1, 'stu': 5, 'kipen': 1, 'libros': 2, 'schmibros': 1, 'boyle': 4, 'plak': 1, 'smacker': 1, 'jeffrey': 3, 'tienes': 1, 'tu': 5, 'intrigue': 1, 'corsair': 1, 'accusation': 1, 'responding': 5, 'misery': 3, 'ultra': 6, 'flashblock': 1, 'autoplay': 1, 're-dye': 1, 'sefl-praise': 1, 'losers.be': 1, 'winner.stand': 1, 'dror': 1, 'eydar': 1, \"'twittering\": 1, 'crackin': 3, 'kmgh': 1, 'recordings': 3, 'harlingen': 1, 'operations': 3, 'dun': 4, 'rudegul': 1, 'inbound': 1, 'hikes': 1, 'opportunties': 1, 'zipcars': 1, '1/4': 1, \"fill'er\": 1, 'zipster': 1, 'right..': 1, 'ghetto..': 1, 'ecoclean': 1, 'cutoff': 1, 'prepared': 16, '1am': 2, 'naps': 5, 'anemic': 1, 'rex': 2, 'nites': 1, 'tubemogul': 1, 'shaft': 1, 'fannie': 1, 'freddie': 4, '//www.mojosworld.net': 1, 'appointeeship': 1, 'deputyship': 1, 'vulnerable': 4, 'autorepair': 1, 'wonâ': 1, '€': 1, '™t': 1, 'charmin': 1, 'do-over': 2, 'likelihood': 1, 'ihatewhenskinnybitches': 1, 'seagulls': 1, 'jenna': 3, 'metaphors': 2, 'cacao': 1, 'nibs': 1, 'sunflower': 1, 'raisins': 2, 'walnuts': 3, 'pine': 2, 'pondered': 1, 'ails': 1, 'controversial': 4, \"'buy\": 1, 'fi': 2, 'allowance': 1, '\\\\users\\\\cathy\\\\documents\\\\cornerstone\\\\website\\\\doc1.mht': 1, 'rey': 3, '6:45pm': 2, 'foodstuffs': 1, 'powers': 9, 'revel': 1, 'moma': 2, 'mine.': 1, 'mikhail': 1, 'tal': 2, 'trails': 1, 'jg': 2, 'bst': 3, '3,500': 3, 'hightlights': 1, '19news': 1, 'nightcast': 1, 'dreambigread': 1, 'lalala': 1, 'ramon': 2, 'omelet': 2, 'reals': 3, 'schooling': 1, 'rollin': 3, 'sit-ups': 1, 'bizkit': 2, 'nookie': 1, 'headway': 1, 'raging': 2, 'ration': 1, 'albee': 1, 'yft': 1, 'woodland': 1, 'businesses': 8, 'books-a-million': 1, 'drained': 3, 'mesmerizing': 1, 'robot': 3, 'tonites': 1, 'tsac': 1, 'stops': 10, 'rockefeller': 3, 'jes': 1, 'tumbled': 2, 'marble': 2, 'batcave': 1, 'nipsey': 1, 'jpryme': 1, 'ohdee': 1, 'afl-cio': 1, 'alec': 3, 'optimimum': 1, 'zia': 1, 'slamming': 2, 'shovel': 2, 'therapeutic': 1, 'tomatoes': 7, 'circut': 1, 'ringringring': 2, 'ttyl': 2, 'responded': 3, '718': 1, '232nd': 1, 'bronx': 3, '10466': 1, 'tilled': 1, 'juiced': 4, 'simmered': 1, 'flaking': 1, 'fork': 1, 'yayy': 1, 'occassionally': 1, 'snippets': 3, 'javascript': 3, 'cardnation': 1, 'welsh': 2, 'teamsoaringhigh': 1, 'announcer': 1, 'braun': 9, 'inflect': 1, 'sic': 2, 'maximum': 2, 'anyone…': 1, 'plow': 2, 'pose': 2, 'pilates': 4, 'pre-work': 1, 'golfer': 5, 'reed': 7, 'quail': 2, 'hollow': 3, 'wjbf': 1, 'needle': 1, 'clothing': 17, 'percy': 1, 'threatens': 2, 'nuclear': 3, 'explosion': 1, 'nikita': 1, '8/7c': 1, 'poised': 3, 'videographers': 1, 'hollar': 1, 'optomistic': 1, 'hookah': 4, 'lonesome': 1, 'busier': 2, 'hows': 4, 'fans/soldiers': 1, 'kaltman': 1, 'remembrance': 1, 'privilege': 4, '.net': 3, 'karly': 1, 'alliance': 3, 'icma': 1, 'you.the': 1, 'sgd11': 1, 'chelios': 1, 'strongly': 4, 'almish': 1, 'knights': 2, 'congratulates': 1, 'honoree': 2, 'inequality': 1, 'sudoku': 1, 'whilst': 1, 'touchscreen': 2, 'kssynapse': 2, 'zoghbi': 1, 'knocking': 6, 'mecp2': 1, 'gabaergic': 1, 'neurons': 1, 'recapitulates': 1, 'rett': 1, 'phenotypes': 2, 'woostock': 1, 'crutches': 1, '.come': 1, 'mcfaddens': 1, 'aspirin': 1, 'them..': 2, 'unfortunally': 1, 'geotagging': 1, 'sensor': 2, 'arduino': 1, 'glenn': 4, '888-717-8851': 1, 'letsgetobstinate': 1, 'drought': 1, 'wadown': 1, 'demeco': 1, 'ryans': 1, 'nfc': 3, '6pack': 1, 'sampler': 1, 'asnwer': 1, 'tol': 1, 'everytime': 16, 're-inventing': 1, 'thurs': 8, '3/1': 1, 'anywas': 1, 'paczki': 1, '4-8th': 1, 'travolta': 2, 'ceaser': 1, 'millaaaan': 1, 'asha': 2, 'www.ruthlesscultureclothing.com': 1, 'songss': 1, 'quarters': 5, 'eww': 3, '-you': 3, 'donovan': 2, 'mcnabb': 1, '78': 6, '3x': 3, 'yarbrough': 1, 'm.o.b': 1, 'trueblood': 1, 'alma': 7, 'unrelated': 1, 'elephant': 4, 'irrelephant': 1, 'rohrbach': 1, 'highland': 2, 'lager': 4, 'scotch': 3, 'ale': 7, 'freedom..': 1, 'greets': 1, 'ralphs': 2, 'booyah': 3, 'beersoup': 1, 'thingstwitterdoesntcareabout': 2, '.but': 5, 'graham': 6, 'lindsay': 3, 'huber': 1, 'elliot': 3, 'whitmore': 1, 'nig': 1, 'lasertron': 1, 'norm': 2, '8ish': 1, 'childhood': 4, 'carla': 2, 'prospers': 1, 'trazzler': 1, 'borrow': 4, 'linkin': 2, 'evening..': 1, 'trait': 1, 'katy': 8, 'acsessories': 1, 'lida': 1, 'sergio': 2, \"na'breona\": 1, \"ya'll.jk\": 1, 'dough': 4, 'rye': 1, 'pickles': 3, 'pretzels': 2, 'crackers': 5, 'vacating': 1, 'meaningless': 3, 'punishments': 3, 'displaying': 4, 'fairfax': 1, 'fairfaxchoralsociety.org': 1, 'slo': 2, 'burgeoning': 1, 'herzlinger': 1, 'harvard': 8, 'mostoverratedmusicartists': 1, 'arnt': 1, 'girls..': 1, 'double-cupped': 1, '585': 1, 'shortest': 3, 'time.richard': 1, 'cech': 1, 'rocky': 5, 'pomona': 1, 'tic': 3, 'glasshouse': 1, 'you-dub': 1, 'phdchat': 1, 'kemp': 5, 'natitude': 1, 'restaruant': 1, 'hustle': 5, 'cheesecake': 5, 'bistro': 5, '2gether': 3, 'they..': 1, 'desperate': 13, 'init': 1, 'infrastructure': 5, 'collaboratively': 1, 'anvil': 2, '92.3': 1, 'foxx': 1, '.tune': 1, 'chitown': 1, 'blare': 2, 'wow.will': 1, 'throwster': 1, 'swanky': 2, 'renate': 1, 'striking': 3, 'glowing': 1, 'curved': 1, 'hulls': 1, 'nature-deficit': 1, 'disorder': 3, 'front-end': 2, 'occasional': 1, 'midterms': 2, 'ellis': 2, 'swoops': 1, 'chandelier': 1, 'cream😡🔥': 1, 'wewouldntworkoutif': 1, 'despise': 2, 'lj/slj': 1, 'ebooks': 3, 'ebksmt': 2, 'acad': 1, 'doughnut': 1, '3.19/year': 1, '3.19': 1, 'tak': 1, 'hinged': 1, 'reattachment': 1, 'enclosures': 1, 'paste': 1, 'mandolin': 1, 'dispenser': 2, 'sanctity': 2, 'people..it': 1, 'tweetingduringsex': 1, 'hooligan': 3, 'bitchess': 1, 'niggahs': 1, '*smh': 1, 'valiant': 1, 'torts': 1, 'novelty': 1, 'cxo': 1, '*winks': 1, 'back*': 2, '15min': 1, 'qualifying': 1, 'licensed': 3, 'attorneys': 2, 'www.freereferral.com': 1, 'franco': 4, 'attractive-ish': 1, '-ironman': 1, 'followyou': 1, 'swedes': 1, 'fckk': 1, 'nutrients': 2, 'slows': 1, 'rene': 3, 'brently': 1, 'forgetting': 6, 'compressor': 2, 'petitions': 2, 'gusta': 1, 'handkerchief': 1, 'thelma': 1, 'louise': 3, 'jas': 1, 'smokers': 1, '.ready': 1, 'pearls': 4, 'cady': 1, 'groves': 1, 'pick-and-roll': 1, '3-4': 3, '2600': 1, 'likey': 3, 'madmen': 6, 'removal': 1, 'b.c': 5, 'vocabsushi': 1, 'vocab': 3, 'novels': 2, 'flashcards': 2, 'out/jane': 1, 'austen': 4, 'ms.janet': 1, 'post-cannes': 1, 'man..some': 1, 'offs': 2, 'sh-t': 1, 'cheerleading': 1, 'lampoon': 1, 'vh1': 4, 'goodtalkson': 1, 'thisiscrazy': 1, 'undone': 1, 'ribs': 7, 'numerous': 3, 'succession': 2, 'courtside-': 1, 'footloose': 1, 'intl': 2, 'conf': 5, 'testimonies': 1, 'galilee': 1, 'tks': 1, 'partnership': 4, 'importantfactsaboutme': 1, 'singoff': 1, 'sara': 4, 'bareilles': 1, 'savethesingoff': 1, 'lucas': 5, 'h.r': 1, 'puffenstuff': 1, 'world..': 1, 'parent': 11, '86': 1, 'recession': 1, 'morons': 2, 'yomommasofat': 1, 'skittles': 3, 'rihanna': 5, 'tracey': 1, 'crappit': 1, 'laptops': 2, 'karmin': 2, 'cheerio': 2, 'ruins': 1, 'wreck-': 1, 'penguins/flyers': 1, 'fashioned': 4, '~paul': 1, 'harris': 6, 'references': 4, 'princeton-': 1, 'uminn': 1, 'buckyballs': 2, 'giggling': 3, 'applauding': 2, 'citizen': 4, 'activism': 1, 'nomore': 1, 'baptized': 3, 'abstain': 1, 'properly': 6, 'focussed': 1, 'refresh-dc': 1, 'intend': 3, 'mean-spirited': 1, 'flakiness': 1, 'mv': 1, '7-yo': 1, 'jazzday': 1, 'serum…or': 1, 'is…': 1, 'unoticed': 1, 'idle': 4, 'diligent': 2, 'patdown': 1, 'beckhams': 1, 'bianca..': 1, 'existed': 5, 'self-discipline': 1, 'outing': 3, 'www.facebook.com/event.php': 1, 'eid=120833574598625': 1, 'www.philsfriends.org': 1, 'coincidentally': 2, 't.co': 1, 'ow.ly': 1, 'roadblock': 1, 'bender': 1, 'pills': 3, 'owe': 10, 'parlor': 1, 'stillloveyou': 1, 'octfc': 1, 'celeb/brand': 1, 'incollege': 1, 'petro': 1, 'stm': 1, '..bitch': 1, 'congressmen': 2, '19.95': 1, 'statute': 1, 'hank': 2, 'takeover': 6, 'strategy..what': 1, 'titans': 4, 'mastered': 2, 'autobiography': 2, 'entitle': 1, 'troub': 1, 'blowin': 4, 'haha-': 1, 'sawyer': 2, 'enchantingviews.com': 1, 'spanking': 2, 'corpse': 4, 'water-testing': 1, 'unstoppable': 1, '9-18': 1, 'yr.': 5, 'interned': 1, 'delay': 8, '–simba': 1, 'extravaganza': 3, 'b.': 15, 'jacobs': 3, 'ufc145': 1, 'mummies': 1, 'rapstress': 1, '14-date': 1, 'whatsapp': 1, 'looool😜😁': 1, 'honk': 1, 'vickie': 1, '~william': 1, 'makepeace': 1, 'thackeray': 1, 'saturated': 3, 'bat': 10, 'r43': 1, 'slugger': 1, 'blanket': 9, \"'till\": 2, 'screams': 3, '1/4/12': 1, 'geek': 12, 'fernandez': 1, 'deshawn': 2, 'stevenson': 1, 'chunks': 2, 'greece/nigeria': 1, 'france/mexico': 1, 'argentina/south': 1, 'cord': 3, 'unlawful': 1, 'similarity': 1, 'flav': 1, 'bracelet': 7, 'wrist': 3, 'canal': 5, 'newark': 3, \"'til\": 2, 'appt': 5, 'optical': 1, '315.331.5721.': 1, 'arbor': 4, 'construction': 6, 'negroes': 1, 'variables': 3, 'conv': 1, 'workaholics': 2, 'skiing': 5, 'chairlift': 1, '4/20': 5, 'kingsleyy': 1, 'bloke': 1, 'unfollows': 1, 'arrivedeci': 1, 'wazaa': 1, 'pixies': 1, 'rosie': 2, 'komen': 6, 'oct.': 4, 'getta': 2, 'huurr': 1, 'slap': 8, 'everest': 2, 'argento': 1, 'bodom': 1, '\\\\m/': 2, 'insider': 4, 'tehehehe': 1, 'ridin': 6, 'swishersweets': 1, 'uncasheville': 1, 'univ': 1, 'courses': 6, '-even': 1, '💓': 1, 'w/eyes': 1, 'yuni': 1, 'overthrow': 2, 'larussa': 2, 'flockin': 1, 'usps': 2, 'wichinsky': 1, 'dgrw': 1, 'fica': 1, 'cancun-themed': 1, 'pollock~': 1, 'disorganised': 2, 'embarrassment': 1, 'ilk': 2, 'downright': 2, 'tenderness': 2, 'screamed': 3, 'iget': 3, 'injured': 4, 'subleasing': 1, 'midtown': 5, 'manhattan': 7, 'coolest': 6, 'here..it': 1, 'lv': 4, 'casher': 1, 'locks': 7, 'pm..': 1, 'landfill': 3, '5-year-old': 2, 'strand': 1, 'hydrate': 1, 'readyornot': 1, 'meeks': 1, 'garbage': 9, 'stumph': 1, 'www.meetup.com/lunch-in-lodo': 1, 'samba': 1, 'room-': 1, 'jovita': 1, 'tomblin': 1, 'vbb': 1, 'pamafrica': 1, 'forthwith': 1, 'christan': 1, 'lovee': 3, 'figuring': 4, '9.50am': 1, 'ibanez': 1, 'btb': 1, 'string': 3, 'more+more': 1, 'factory': 6, 'volt': 2, 'preamp': 1, 'non-boutique': 1, 'jn': 1, '8:12': 1, 'manu': 1, 'outkast': 1, 'exposure': 5, 'davison': 1, '2409': 1, 'specifically': 5, 'worstbreakupexcuses': 1, 'sleeper': 1, 'activated': 1, 'frriendship': 1, 'undersized': 1, \"6'11\": 1, 'layin': 1, 'whatsup': 2, 'javent': 1, 'inna': 2, 'preventd': 1, 'politicians': 8, 'selfish': 6, 'short-term': 5, 'bettering': 1, '�': 2, 'dyer': 1, 'smartpundit2012': 1, 'nominate': 3, 'enhanced': 2, 'courtroom': 4, 'cty': 1, 'sheriff': 6, 'deputies': 2, 'guarding': 2, 'prosecutors/defense': 1, 'accessibility': 1, 'sustaining': 1, 'prosperity': 2, 'marlins': 4, '12hrs': 1, 'slack': 2, 'fray': 1, 'propeller': 1, 'geology': 2, 'davie': 1, 'afl': 2, 'dictionary': 4, 'feel..': 1, 'sumtimes': 3, 'johnny': 12, 'bump': 8, 'arod': 1, 'decision-making': 1, 'muscles': 6, 'prostitution': 1, 'aerial': 1, 'fitzerald': 1, 'grl.': 1, 'feathered': 1, 'squawk': 1, 'wandered': 1, 'kuchar': 1, 'singh': 2, 'barclays': 1, 'tougher': 2, 'eliminations': 1, 'pedicure': 3, 'jeanette': 1, 'iervolino': 1, 'dateline': 1, 'instruct': 1, 'griteria': 1, '😲😲😲': 1, 'have..but': 1, 'busy..': 1, 'dieing': 3, 'braggin': 1, 'rational': 1, 'w/poets': 1, 'sourcebook': 1, 'feat.': 1, 'othrs': 1, 'dreamer': 1, 'mold': 3, 'listings': 6, 'sun-times': 1, 'sunrust': 1, 'rode': 5, 'triumphs': 1, 'tragedies': 1, 'teamgiveup': 1, 'ualways': 1, 'lezz': 1, 'lgturbowash': 1, 'cedar': 6, 'equal': 16, 'nutjob': 1, 'conspiracy': 1, 'theorist': 1, 'pragmatic': 1, 'skeptic': 1, 'cv': 1, 'morrow': 3, 'jen..': 1, 'slumber': 1, '82m': 1, 'grossed': 3, '19m': 1, 'diary': 3, '21m': 1, '23.8m': 1, 'acms': 2, 'paninis': 2, '11a': 1, '-3p': 1, '~anna': 1, 'quindlen': 1, 'sightseeing': 1, 'fart': 5, 'dried': 2, 'apricots': 1, 'lessonlearned': 1, 'q9': 1, 'foodiechats': 1, 'sweettooth': 1, 'marinated': 1, 'tofu': 3, 'shaoshing': 1, 'mirin': 1, 'tamari': 1, 'peel': 1, 'anise': 1, 'smoked': 3, 'tung': 1, 'ting': 1, 'oolong': 1, 'ah😜😊❤': 1, 'boomshakalaka': 1, '1.4': 1, 'linking': 2, 'of..': 2, 'parkway': 3, 'wintergreen': 1, 'shatter': 1, 'wrap': 20, 'bernardo': 1, 'fallas': 1, 'burnicus': 1, 'engrossed': 1, 'quizzed': 1, 'hvac': 1, 'alerts': 4, 'acls': 2, 'conclusions': 3, 'weighing': 2, 'twitter/social': 1, 'headache': 12, 'pina': 3, 'recognize': 6, 'ever..': 2, 'techbowl': 1, 'achieving': 3, 'workbestie': 1, 'milestone': 2, 'technician': 1, 'compulsively': 1, 'cajun': 3, 'tavern': 3, 'brunswick': 1, 'animal/yeti': 1, 'hendersons': 1, '*hugs': 3, 'crawl': 5, 'ttyl~': 1, '5k': 8, 'run/walk': 1, 'www.kickitforkenya.com': 1, '781': 1, 'fool..': 1, 'kiddin': 4, 'robyn': 1, '5/6': 1, 'sticker-shock': 1, 'indignation': 1, 'shucks': 3, 'vest': 3, 'boots': 11, 'ipa': 1, 'dse2012': 1, 'captivating': 1, 'nana': 1, 'becca': 1, 'bodybuilders': 1, 'trays': 1, 'joe/erick': 1, '126': 1, 'aegerion': 1, 'pharmaceuticals': 1, 'rep.': 3, 're-election': 2, '\\u200e2': 1, 'observations': 1, 'incomparable': 3, \"'stache\": 1, 'smhrt': 1, 'rugged': 1, 'ruggedmamiac.com': 1, 'clive-': 1, 'paper..': 1, 'apd': 1, 'afd': 1, 'i40': 1, 'westbound': 2, 'mateo': 3, 'eaglecrest': 1, 'root': 6, '💘': 4, 'ua': 2, 'bookstore': 2, 'eco-style': 1, 'didyoureallyjust': 1, 'flirt': 5, 'tagsgf': 1, 'wii': 3, 'marketplaces': 1, 'gatekeepers': 1, '.6.95': 1, 'piccata': 1, '8.95': 1, '10.95': 1, 'barley': 1, 'canzano': 1, 'rferal': 1, 'pronounciate': 1, 'bwahahahahahahahaha': 1, 'goon': 3, 'qa': 2, 'algorythmic': 1, 'aesthetic': 2, 'dataviz': 2, 'subjective': 1, 'predicated': 1, 'statistics': 4, 'vmware': 2, 'vm': 2, 'sluggish': 1, 'nominations': 5, 'magno': 1, 'rubio': 3, 'survey': 13, '59': 3, 'post-leone': 1, 'eastwood': 2, 'mle': 1, 'shear': 1, 'showclix': 2, 'bmi': 1, 'facets': 1, 'w.e.b': 1, 'dubois': 1, 'votes': 7, 'mittromneyfilms': 1, 'vengeance': 2, 'apathy': 1, 'd.a': 1, 'affects': 6, \"'pretty\": 1, 'ipad2': 1, '5,000': 2, 'w..': 1, 'durant': 5, 'spectator': 1, 'mlg': 1, 'leaking': 1, 'utilizing': 2, 'slant': 1, 'polamalu': 1, 'nog': 3, 'full-on': 2, 'crowded': 4, 'boho': 1, 'generosity': 1, 'careless': 3, 'watershipdown': 1, 'plaguedogs': 1, 'offically': 1, 'burst': 2, 'moombahswag': 1, 'cursive': 1, 'moombahton': 1, 'clack': 1, 'moo': 4, 'chick-fil-a': 4, 'raymond': 2, 'lill': 1, 'rooster': 3, 'jed': 1, '~love': 1, 'afraid.~': 1, 'manuscript': 3, 'fusion': 3, 'bk': 8, 'flick': 3, 'movie-the': 1, 'godfather': 3, 'premiered': 2, '1972': 1, 'slurry': 2, 'planes': 2, 'lasik': 1, 'disappointing': 3, 'surfers': 1, 'nosebleeds': 1, 'moody': 3, 'drive-by': 1, 'superficially': 1, 'afar': 1, 'vouchers': 1, 'luckily': 4, 'non-work': 1, '56': 8, 'overcome': 8, 'nurtured': 1, 's***': 1, 'tropical': 5, 'tropical..': 1, 'howie': 1, 'dorm': 4, 'requisite': 1, 'qualification': 1, 'vary': 1, 'outpost': 1, 'innocents': 1, 'strip': 9, 'excitement/craziness': 1, 'recently': 13, 'showandmail': 1, 'lala': 1, 'beliefs': 6, 'kitkat': 1, 'sellers': 2, 'unload': 2, 'winehouse': 3, '4a.m': 1, 'remeber': 3, '2p.m': 1, 'hookup': 3, 'happiest.~sri': 1, 'chinmoy': 1, 'maxi': 2, 'for-profit': 2, 'universities': 5, 'whiskeytango': 1, 'inflammation': 2, 'ahsfx': 1, 'vomit': 4, '-steve': 3, 'stanton': 1, 'imminent': 1, 'strike': 7, 'piccc': 1, 'latly': 1, 'booker': 1, 'rejectedluckycharmsmarshmallowshapes': 1, 'phallus': 1, 'meatloaf': 1, 'chopped': 4, 'yells': 2, 'two-hour': 1, 'forrrrreal': 1, 'ripmca': 1, 'rory': 2, 'cred': 1, 'wp': 5, 'conversations-will': 1, 'becuz': 2, 'earthfair': 1, '2/2': 4, 'docters': 1, 'torn': 5, 'oclock': 1, 'chea': 2, '..hm': 2, 'beltway': 2, 'gaffes': 2, 'diehard': 2, 'honorsworldhistory': 1, 'honorsbiology': 1, 'honorsenglish9': 1, 'fold': 3, 'monument': 2, 'noon-8:00pm': 1, 'mcilroy': 3, 'fredrik': 1, 'jacobson': 1, 'toews': 1, 'controlled.': 1, 'uninspired': 2, 'gazing': 1, 'nojoke': 1, 'only..': 1, 'tilton': 1, 'bestmemoryof2011': 1, 'bulling': 1, 'tadich': 1, 'philippines': 5, 'damon': 5, 'boomerang': 1, 'jogging': 1, 'barked': 1, 'harold': 2, 'kumar': 1, 't-plush': 2, 'gonzo': 1, 'replay': 6, 'closely': 2, 'forced': 10, 'detail': 4, 'hnds': 1, 'ak': 3, 'aa': 4, 'plyrs': 1, 'earlier-guy': 1, 'minimum..': 1, 'distract': 1, 'almont': 1, 'lindsey': 1, 'drag': 13, 'link..': 1, 'passsssghetttttttti': 1, 'victimless': 1, 'whitneyhouston': 2, 'autopsy': 1, 'revealed': 5, 'damaged': 3, 'verry': 1, 'danni': 1, 'corner..': 1, 'redi': 1, 'calorie': 2, 'giggle': 1, '🌷': 1, 'oermann': 1, '8/3/11': 1, \"don'want\": 1, '4x100': 1, 'recommended': 7, '512-453-5858': 1, 'przybilla': 1, 'jeezy': 3, 'tifty': 1, 'slurping': 1, 'takashi': 3, 'yagihashi': 1, 'bucktown': 1, 'sry': 4, 'vanya': 1, 'production/cast': 1, 'fukin': 1, 'supprt': 1, 'wuts': 3, 'tsunami': 4, 'ankle': 3, 'softener': 1, 'smmfh': 1, 'lmfaoooooo': 1, '100grand': 1, 'jetski': 2, 'therr': 1, 'sole': 2, 'texas-cal': 1, 'mack': 1, \"'04\": 1, '❔': 1, 'indigo': 1, 'wgbiz': 1, 'rockstar': 5, 'interior': 3, 'elegance': 3, 'deco': 1, '1920': 1, '1930': 1, 'ik': 9, 'stealer': 2, 'toes': 12, 'ants': 3, 'cookie-eating': 1, 'chuckled': 2, 'passage': 3, 'stab': 2, 'monring': 2, 'tweet-hearts': 1, 'acupuncturist': 1, 'endomondo': 1, 'laze': 1, 'accuracy': 3, 'expertise': 1, 'fund/run': 1, 'filner': 1, 'ben': 19, 'bachelor=ho-hum': 1, 'seconds=boring': 1, 'miggy': 1, 'unpredictable': 2, 'patient': 10, 'mla12': 1, 'salvation': 1, 'beavers': 3, 'ubakpsi': 1, 'maynard': 1, 'takoma': 2, 'st.columba': 1, 'me.but': 1, 'selves': 2, 'masked': 1, 'mamba': 5, 'one..': 3, 'peer-review': 1, 'virals': 1, 'bikram': 4, 'godess': 1, 'chiefin': 1, 'vibin': 1, 'cruise': 9, '\\ue420\\ue420\\ue427\\ue427': 1, 'wildcardwednesday': 1, 'darrell': 2, 'waltrip': 1, 'irvan': 1, 'earnhardt': 1, 'beavisandbutthead': 1, 'curb': 2, 'appetite': 2, 'all-star': 3, 'kane': 5, 'superkane': 1, 'dominating': 1, 'breakaway': 1, 'nuttin': 1, 'emoticons': 1, 'funky': 2, 'jorts': 1, 'sullinger': 1, 'spaulding': 1, 'blam': 2, '44.': 1, 'bulldog': 3, 'mueller': 1, 'explorer': 3, 'textual': 1, 'perforce': 1, 'bottlewasher': 1, 'rusko': 1, 'beetroots': 1, 'morman': 1, 'aethiest': 1, 'idiotic': 4, 'traveled': 3, 'not..im': 1, 'honest..its': 1, 'you46567879': 1, 'disputing': 1, 'cobra': 3, 'aaiight': 1, 'mess=lakers': 1, 'reporting.what': 1, 'dlr': 1, 'sighting': 4, 'womans': 2, 'textplus': 1, 'data-related': 1, 'developments': 1, 'lobster': 8, 'crab': 8, 'meatballs': 3, 'arian': 2, '//vanderbiltrepublic.com/': 1, 'expiration': 1, 'fur': 1, 'vests': 2, 'unwinding': 1, 'introducing': 2, 'equis': 2, '18+': 2, 'clubx': 2, 'shocka': 1, 'weirdness': 1, 'blurt': 1, 'animals..': 1, 'haila': 1, '-pt': 1, 'webequeing': 1, 'mondrian': 1, 'overnight': 4, 'skim': 2, 'shocking': 4, 'tyga': 4, 'amare': 3, 'stoudamire': 1, 'knicks..series': 1, 'feat': 5, 'diddy-dirty': 1, 'skylar': 3, 'kaskade': 3, 'mash-up': 2, 'stayawayfrommeif': 3, 'lumps': 1, 'bodyguard': 1, 'pepa': 1, 'doris': 1, 'pb': 3, 'apollo': 2, '18.': 1, 'rogue': 3, 'cunningham': 1, 'guilt': 3, 'hallelujah': 3, 'wig': 4, 'happyeaster': 1, 'jarvis': 1, 'taxpayers': 2, 'revisions': 2, 'restoration': 3, 'payroll': 3, 'oddball': 1, 'robots': 4, '*fireworks': 1, 'pawnstars': 1, '1/3': 2, 'rupp': 2, '20k': 3, '-evan': 1, '🎶': 1, 'tokenism': 1, 'mvp': 10, 'clevelander': 2, 'boarding': 4, 'ofeveryone': 1, 'handwritten': 2, 'boop': 1, 'guys..what': 1, '😊😊😊😊': 1, 'analytic': 1, 'mingling': 1, '101gh': 1, 'exteriors': 1, 'oneself': 2, '~da': 1, 'tobacco': 2, 'fetching': 1, 'luhan': 1, 'codices': 1, 'expanded': 1, 'flor': 1, 'codex': 1, 'lockhart': 1, 'upbringing': 2, 'katella': 2, 'do..': 2, 'theraflu': 1, 'bea': 1, 'rhymes': 6, 'jodi': 2, 'kari': 2, 'dyeing': 1, 'different~': 1, 'batman': 3, 'rubber': 1, 'fuentes': 2, 'corroborate': 1, 'backfired': 1, 'xxoo': 1, 'teevee': 2, 'determining': 2, 'alternating': 1, 'esotrope': 1, 'exotrope': 1, 'suckish': 1, 'lenses': 2, 'omg-': 1, 'ignite': 5, 'lmk': 3, 'w/out': 6, 'bounty': 4, 'alaska': 4, 'unleashed': 1, 'lauryn': 3, 'illustrate': 2, 'home-ice': 2, '10:00pm': 1, 'masha': 1, 'gracias': 2, 'gabe': 2, 'wnt': 2, 'afp': 1, 'ironically': 3, 'sundance': 3, 'rocktalk': 1, 'breakthrough': 3, 'corner.': 1, '-joyce': 1, 'meyer': 5, 'yayyy': 4, 'money..': 1, 'twitter/fb': 1, '1980s': 2, 'norv': 1, 'afc': 3, 'kramer': 2, 'prime': 6, 'educated': 3, 'insolence': 1, '-aristotle': 2, 'roxy': 2, 'shouldnt': 7, 'koriente': 1, 'aftn': 1, 'sware': 1, 'wehate': 1, 'apeshit': 1, 'usda': 2, 'deregulates': 1, 'genetically': 1, 'engineered': 1, 'alfalfa-wtf': 1, 'individualism': 2, 'tolerance': 2, 'scarying': 1, 'myself..i': 1, 'hunni': 1, 'ponder': 1, 'granted.do': 1, 'actinginla': 1, 'dolma': 1, 'marilyn': 5, 'accessories': 3, '405-c': 1, 'vann': 1, '38305': 1, 'trust//': 1, 'toffee': 2, 'coating': 1, 'expertvisibilitytip': 3, 'placement': 5, 'pr/media': 1, 'unpaid': 1, 'lbj': 3, 'crucified': 1, 'landri': 1, 'aberration': 1, 'pff': 1, 'dt': 5, 'wonderstruck': 1, 'amour': 1, 'bah': 3, 'thirties': 1, 'on-demans': 1, 'manufacture': 2, 'souvenirs': 2, '3/25/1784-': 1, 'craik': 1, 'posterity': 1, '27th': 3, 'evenings': 1, '7-10pm': 1, 'intensive': 2, 'www.actorsintensive.com': 1, 'remodel': 1, '91354': 1, 'aversion': 1, 'step-mom': 1, '.lol': 2, 'comprehensive': 1, 'sixth': 4, '1853': 1, 'woot': 19, 'lei': 1, 'coldest': 1, 'moods': 2, 'wreck': 9, 'wolfgang': 1, 'giselle': 2, 'headlamps': 1, 'celica': 1, 'keen': 2, 'sandals': 4, 'youmaybealingeriemodelif': 1, 'eyelashes': 1, 'silicone': 1, 'cove': 2, 'sofie': 1, 'matilda': 1, 'slizzard': 1, 'villian': 1, 'hgtv': 3, 'stayin': 2, 'whaddup': 1, 'tongiht': 1, 'lockdown': 1, 'wozzeck': 1, 'griselda': 1, 'part-time': 2, 'therapists': 2, 'estheticians': 1, '169': 1, 'atxsushi': 1, 'happyhour': 3, '5-7': 1, 'unintentional': 3, 'smh..an': 1, 'messd': 1, 'meade': 1, 'pulse': 2, 'twitter..': 3, ':contemplates': 1, 'mister': 4, 'school-wide': 1, 'k-8': 1, 'regionals': 1, '4x4': 1, 'wilbon': 1, 'pause': 9, 'believers': 2, \"5'10\": 1, 'teamed': 1, '3/15': 2, 'logon': 1, 'comee': 2, 'forbidden': 3, 'whips': 1, 'excite': 2, 'twovsuns': 1, 'krabby': 2, 'realistic': 6, 'signsshegetfoodstamps': 1, 'cle': 2, 'macallan': 1, 'kelso': 1, 'thepitch': 1, 'in.': 1, '^rl': 1, 'concludes': 1, 'xlv': 1, 'carey': 4, 'sanjay': 1, 'gupta': 1, 'weirdos': 3, 'imaginations': 1, 'antonyflorida': 1, '😘': 4, 'diggy': 1, 'aspiring': 2, 'mabey': 1, 'taxonomist': 2, 'invitations': 2, 'hermes': 1, 'buckle': 1, 'hilfiger': 1, 'evar': 1, 'correlation': 2, 'twitterers': 1, 'workshops': 4, 'hhi': 1, 'preakness': 3, 'hat-preview': 1, 'gouda': 3, 'textbook': 2, 'interrupted': 2, 'vinny': 3, '4year': 1, '6year': 1, 'this.still': 1, 'okk': 3, 'persistent': 3, \"'what\": 2, 'one-year': 3, 'free-agent': 1, 'receiver': 1, 'donte': 1, 'stallworth.': 1, '-muhammad': 1, 'mega': 11, 'jackpot': 3, 'is.vince': 1, 'orchid': 1, 'highs': 4, 'gcyale': 1, 'forming': 1, 'sunrise': 2, '.possibilities': 1, 'tornadoes': 4, 'celebotastic': 1, 'audacious': 1, 'samuels': 1, 'occupyburque': 1, 'permit': 3, 'grove': 3, 'whip': 12, 'non-dairy': 2, 'yogen': 1, 'fruz': 1, 'sorbet': 2, '.not': 1, 'pic.twitter': 1, 'natively': 1, 'sign-in': 1, 'westfield': 1, '3gs': 1, 'scoping': 1, 'unforgettable': 2, 'kol': 1, 'haot': 1, 'pgm': 1, 'jerusalem': 2, 'efficency': 1, 'voter': 2, 'ferrell': 4, 'shag': 1, 'rug': 2, 'toupee': 1, 'snl': 3, 'trumped': 1, 'babysitting': 2, 'line-up': 1, 'brews': 2, 'eabf': 1, 'winterized': 1, 'flop': 2, '789': 1, 'ins..6': 1, 'variations': 1, 'www.millionaireminds.org': 1, 'unparalleled': 1, 'shoved': 2, '-5': 2, 'prankster': 2, '7013173585': 1, 'critiquing': 1, 'high-5': 1, 'rocket': 8, 'abandoning': 3, 'house..': 2, 'badly': 10, 'fadonsha': 1, 'stressin': 2, 'formely': 1, 'outback': 2, 'lodge': 3, 'blank-': 1, 'drooled': 1, '2011remindedme': 1, 'cfs': 1, 'starz': 2, 'stillwater': 1, 'keiton': 1, 'performances': 7, 'raffles': 1, 'www.turkeyandfriends.org': 1, 'prettylittleliars': 1, 'begrudge': 1, 'buffet': 3, 'orlando..so': 1, 'adventurous': 2, 'feeding': 6, '.a': 5, 'tunnel': 6, 'bayless': 3, 'heya': 1, 'shatner': 1, 'nimoy': 1, 'shat': 1, 'obligatory..': 1, 'hoopdedoodle': 1, 'steinbeck': 1, 'walls': 10, 'awkae': 1, 'accordion': 2, 'brightened': 2, 'linebacker': 1, 'kellogg': 1, 'trapper': 1, 'folder': 3, 'snes': 1, 'enzo': 1, '40th': 1, 'footphobia': 1, '❌👟': 1, 'mr.magoo': 1, 'puking': 3, 'levy': 2, '..let': 1, 'house.': 1, 'trick': 13, 'colby': 1, 'robertson': 1, 'derrio': 1, 'yeah..': 4, 'jayhawks': 1, 'marginally': 1, 'terrifying': 2, 'newton': 3, 'yd': 2, 'period.': 1, 'truth-': 1, 'azusa': 1, 'ministries': 2, '23': 9, 'kindergartners': 1, 'intolerance': 1, 'overspending': 1, 'foodie': 2, 'healthyeating': 1, 'savor': 1, 'mixing': 4, 'chop': 7, 'presh': 1, '\\ue056\\ue329': 1, 'studio-i': 1, \"dj'n\": 1, 'silverado': 1, '40,000': 2, '1000+': 1, 'error': 9, 're-sent': 1, 'once-': 1, 'reverbnation': 4, 'belated': 5, 'do..keep': 1, 'oven': 7, '*correction*': 1, 'co-sponsors': 1, 'dunbar': 1, 'refreshments': 1, 'person..all': 1, 'conte': 1, 'flames': 1, '🔥': 2, 'first-': 1, 'branding': 5, 'terrace': 3, '390': 1, 'trynna': 5, 'bitchy': 2, 'crim': 3, 'plesac': 1, 'combine': 5, '10-8': 1, 'kimball': 2, 'mid-may': 1, 'runchat': 2, 'weights': 4, 'biking': 4, '12-2p': 1, 'picnic': 6, 'movie-making': 2, 'squids': 1, 'badges': 2, 'campopoly.com': 1, '30yrs': 1, 'taped': 1, 'directtv': 3, 'airing': 4, 'harlo': 1, 'saa11': 1, 'summaries': 1, 'at/archon': 1, 'hha': 1, 'gameday': 2, 'farted': 3, 'chief..': 1, 'beignets': 1, 'moi': 2, 'snarky': 2, 'hvn': 1, 'snakes': 4, 'limiting': 2, 'misperceptions': 1, 'sistaa': 1, 'sissy': 4, 'knoooowwww': 1, 'sauv': 1, 'washingtonwine': 1, '^aef': 1, 'mariano': 2, 'mri': 1, 'over..': 2, 'rocco': 1, 'clause': 1, 'obfuscation': 2, 'mosquitoes': 1, 'ramey': 1, 'chardonnay': 1, 'glazed': 2, 'shelby': 4, 'addy': 2, 'goddam': 1, 'revolutionary': 2, 'tortured': 3, 'bicentennial': 1, \"'76\": 1, 'wounded': 3, 'dred': 1, 'nesn': 2, 'grilling': 5, 'brietbart': 1, 'stooge': 1, 'diversity': 4, 'nonstory': 1, 'fatty': 3, 'scientology': 2, 'liscence': 1, 'presents': 10, 'ninety': 1, 'lolwut': 1, 'chasers': 2, 'legggo': 1, 'it..u': 1, 'cook..': 1, 'lauren': 7, 'nowm': 1, 'sleeves': 5, 'meals': 4, 'hosted': 9, 'rok': 1, 'hillary': 1, 'after-hours': 1, 'outlast': 1, 'ight': 4, 'hustle+': 1, 'mustle': 1, '.fab': 1, 'purdue': 3, 'ebonics': 1, 'rotten': 3, 'nitle': 1, 'insight': 4, 'provided': 7, 'lf': 1, 'bwahahaha': 1, '*queues': 1, 'music*': 1, 'im~~': 1, '💗💚': 1, 'skeewee': 1, 'skee': 1, 'elmer': 1, 'i..': 2, 'e-peer': 1, 'msim': 1, 'speeds': 4, 'rays': 7, 'dthr': 1, 'tipton': 1, 'ex-colleague': 1, 'circling': 2, 'sparked': 1, '8minutes': 1, 'close-minded': 1, 'upper-middle': 1, 'presumption': 1, 'node.js': 1, 'phone..': 2, 'edcamp': 1, 'edcampss': 1, 'chandler': 3, 'krav': 1, 'maga': 1, 'friend/neighbor': 1, 'assoc': 2, 'gameplay': 3, 'verses': 4, 'tweedy': 1, '4today': 1, '23.6': 1, 'runnerds': 1, 'achievement': 5, 'is..': 4, '*-*': 1, 'jimthecop': 1, 'lungs': 3, 'a4': 4, 'urgh': 1, 'dms': 6, '~~~~rich': 1, 'tardiness': 1, 'panoramas': 1, 'investments': 2, 'spite': 3, 'waxing': 2, 'philosophic': 1, 'socal': 1, 'moynihan': 1, 'glitter': 4, 'waring': 1, 'gnomebaby': 1, 'tonight/': 1, 'gma': 3, 'weirdfactaboutme': 1, 'fisherman': 1, '✔': 4, 'capitol': 5, 'elise': 1, 'schaffer': 1, 'btdubbbs': 1, 'yearbook': 2, 'spelunking': 1, 'verify': 3, 'credibility': 6, '451': 2, '350': 3, 'talladega': 1, 'appearances': 1, 'faghag': 1, 'kareoke': 1, 'withey': 1, 'mememememememe': 1, 'dissing': 1, 'wmp': 1, 'escorted': 2, 'fri': 6, 'loira': 1, 'limbal': 1, 'credited': 1, 'mable': 1, 'haddock': 1, 'stepdad': 2, '😃': 3, 'paybacks': 1, 'corner😄': 1, 'surrender': 5, 'd3': 2, 'scrumsish': 1, 'selby': 1, 'vesely': 1, 'marriages': 2, 'ard': 1, 'invasive': 1, 'tnks': 2, 'hahahahaa': 1, 'neoliberalism': 1, 'hegemonic': 1, 'population': 3, '900': 4, 'banning': 1, 'mobiles': 1, 'decried': 1, 'reagan-bush': 1, 'ringing': 2, 'multnomah': 1, 'compose': 2, 'sonia': 1, 'timey': 1, 'warmth': 4, 'tweet..': 1, 'lebrob': 1, 'hahagaga': 1, 'yougetmajorpointsif': 1, 'redsox': 3, 'orioles': 8, '7-0': 1, 'fifth': 5, 'beerandchicken': 1, '3:30': 1, 'they*': 1, '*cable': 1, 'grandmas': 4, 'nosebleed': 2, 'wakeup': 2, 'magazines': 3, 'unicorns': 6, 'surgical': 1, 'wearers': 1, 'imbued': 1, 'intention': 4, 'self-actualize': 1, 'classified': 3, 'bad-dressed': 1, 'somethings': 3, 'dawns': 1, 'squats': 3, 'headlines': 3, 'bir': 1, 'spjr9': 1, 'blasting': 9, 'villagers': 1, 'preseason': 2, '😄✈': 1, 'shiny': 3, 'litho': 1, \"nat'l\": 4, 'dealer': 4, '.welcome': 1, 'twitterville': 2, 'web-app': 1, 'metric': 3, 'fuck-tons': 1, 'measurement': 1, '90percent': 1, 'ssgmusic': 1, 'all-day': 1, 'lois': 2, 'brandchat': 1, 'babe-': 1, 'www.theredcanarychicago.com': 1, '11:30': 2, 'bathing-': 1, 'mop': 2, 'lpc': 1, 'food..': 1, 'bubba': 5, '3:15': 1, 'replica': 2, 'numbered': 1, 'undetermined': 1, 'tickle': 3, 'dalai': 2, 'lama': 2, 'implants': 1, '7:30.': 2, 'pea': 2, 'again..': 3, 'rutgers': 1, 'downs': 4, 'mid-field': 1, 'homophobic': 2, 'anoihsf': 1, '*d': 1, 'brunrfc': 1, 'kristina': 1, 'enabled': 2, 'pyramids': 1, 'stargate': 1, 'naperville': 1, 'growin': 1, 'oranges': 5, 'thatcamp': 6, '9.95': 1, '10am-': 1, 'flagler': 1, 'kenan': 2, 'plaza': 4, 'team.': 1, '160-180': 1, 'bpm': 1, '😘😘😘': 1, 'standup': 3, 'slipped': 1, 'thatcampva': 1, 'lunching': 1, 'honore': 1, 'balzac': 1, 'abigail': 1, 'tappers': 1, 'rapidly': 2, 'real-world': 2, 'mothersday': 7, 'machines': 2, 'dvds': 3, 'fascist': 1, 'tinged': 2, 'builders': 4, 'robust': 2, 'motorbike': 2, 'labeled': 4, 'mullady': 1, 'matsanoff': 1, 'fischer': 3, 'greiner': 1, 'pelok': 1, 'interian': 1, 'nethums': 1, 'fullness': 2, 'glossary': 1, 'awnd': 1, 'imy': 2, 'comfort': 5, 'sonics': 1, 'bofriend': 1, 'tb': 2, 'chem': 1, 'there☺': 1, 'hwi': 1, 'vibrating': 1, '😚': 3, 'aweseome': 1, 'whelmed': 1, 'steroid': 1, 'springin': 1, 'blige': 1, '5000': 3, 'redesigned': 1, 'tongue': 7, 'tomm': 1, ':0': 6, 'screened-in-porch': 1, 'io': 1, 'greenbay': 2, 'omega': 1, 'zeta': 2, 'theta': 2, '1975.': 1, 'founders': 2, 'youmakenosense': 1, 'everymanshouldknowhowto': 1, 'unsatisfied': 1, 'mock': 2, 'tge': 1, 'martinez': 2, 'princessciera': 1, 'yonkers': 1, '.hope': 1, 'coney': 1, 'receipt': 1, 'bawling': 1, 'alyssa': 1, 'tech9': 1, 'chihuahua': 1, 'private/locked': 1, 'hooters': 3, 'sexier': 2, 'insidious': 1, 'flatt': 1, 'medicare': 2, 'actuary': 1, 'projections': 1, 'friendshipbraceletes': 1, 'chis': 1, 'complain': 13, 'umbilical': 1, 'euthanize': 2, 'tea-partiers': 1, 'libretarians': 1, 'gluten': 3, 'signature': 4, 'dolin': 1, 'vermouth': 1, 'tanner': 3, 'bananer': 1, 'greyson': 3, '76w': 1, 'noho': 2, 'payitforward': 1, 'casteel': 3, 'wvu': 2, 'quiero': 2, 'lo': 3, 'micah': 1, 'goff': 1, 'plixi.com/p/52122990': 1, 'lrners': 1, 'maps': 6, 'org.': 1, 'thoughts/like': 1, 'omfgg': 1, '333333': 2, 'forsure': 1, 'protools': 1, 'slo-clap': 1, 'regan': 2, 'jds': 1, 'rats': 3, 'ferrets': 1, 'jedgar': 1, 'testifying': 1, 'hb': 1, '1075': 2, 'reinstating': 1, 'appropriations': 1, 'mandatory': 2, 'supplier': 2, 'hume': 1, 'impersonation': 1, 'monologues': 1, 'calve': 1, 'grilled': 7, 'fancier': 1, 'toastabags': 1, 'sammies': 1, 'watsup': 2, 'qkid': 1, 't.g.i.f': 1, 'priced': 4, 'beverages': 2, 'instns': 1, 'econ': 2, 'coord': 1, 'carousel': 2, 'pimple': 3, 'shaving': 5, 'scabs': 1, 'mediterranean': 2, 'hummus': 3, 'b.o': 2, 'sure..': 1, 'andi': 2, 'dmed': 2, '5x': 1, 'plzzzzzzzzz': 1, 'amongst': 2, 'belongs': 4, 'proletary': 1, 'barcs': 1, 'kaka': 1, 'cleat': 2, 'gatorade': 2, 'hogging': 2, '0400': 1, 'anytakers': 1, 'coplain': 1, 'ewww': 1, 'wipfairies': 1, 'watercolor': 2, 'brushwork': 1, 'smbmad': 3, 'kgs': 1, 'nonresponsive': 1, 'club.': 1, 'wojcik': 1, 'attests': 1, 'playwright': 1, 'jays': 3, 'scoreless': 2, 'repair': 8, 'instructor': 3, 'cindy': 5, 'developer-': 1, 'spinoff': 1, 'co.': 5, 'platform/software': 1, 'wiifm': 1, 'regrets': 3, 'flossatlantatees': 1, 'motivational': 1, 'sizes': 3, '✊': 1, 'buyer': 2, 'hvd': 1, 'newbury': 2, 'comics': 6, 'posey': 1, 'kendra.you': 1, 'para': 2, 'future.that': 1, 'tooth': 6, 'extraction': 1, 'pocketts': 1, 'painfull': 1, 'screwing': 3, 'namely': 1, 'cushions': 1, 'unscorn': 1, 'rollercoaster': 1, 'patisserie': 1, 'explora': 1, '📱has': 1, '°': 1, 'pity': 5, 'known..': 1, 'dinner..': 1, 'morn': 6, 'psychopath': 1, 'dos': 2, 'hl': 2, 'message-board-level': 1, 'administration': 2, 'socialshopper': 1, 'oxford': 6, 'molinaro': 1, 'feared': 4, 'linebackers': 1, 'niche': 4, 'premieres': 1, 'loin': 1, 'tinychat': 3, 'bestfriendfddd': 1, 'placing': 2, 'sschat': 2, 'megachurch': 1, 'pastors': 2, 'messenger': 4, 'attribution': 2, 'couve': 1, 'not..just': 1, 'bernys': 1, 'evangelicals': 3, 'echoes': 2, 'painkillers': 1, 'datpiff': 1, 'thn': 2, 'a=1': 1, 'b=.5': 1, 'dreamers.-orison': 1, 'swett': 1, 'marden': 1, 'sista': 2, 'autocomplete': 1, 'bait': 2, 'palace': 4, 'ski': 5, 'flavah': 1, 'replacing': 3, 'alphabetizing': 1, 'schoolmemories': 4, 'pledge': 5, 'allegiance': 2, 'intercom': 1, 'eugenides': 1, 'marymary': 1, 'xul-runner': 1, 'musicals': 1, '*started*': 1, \"'39\": 1, 'latent': 1, 'lyoto': 1, 'machida': 1, 'chokeout': 1, 'very..have': 1, 'sluts': 2, 'genuinely': 3, 'kohl': 1, 'potawatomi': 2, 'nml': 1, 'destroyer': 2, 'asecs': 1, 'campfire': 1, 'krausse': 1, 'royals': 3, 'scored': 7, 'snoring': 4, 'mistakenly': 2, 'campuslive': 1, 'belgium': 5, 'celebrated': 2, 'va': 14, 'mckayla': 1, 'necklace': 3, 'rig': 4, 'boiled': 2, 'deli': 1, 'carrot': 1, 'rockies': 1, 'mojo': 3, 'tommorrow': 2, 'insanely': 5, 'frontiers': 1, 'passive': 3, 'bnsf': 1, 'countless': 3, 'finduw': 1, 'reluctantly': 1, '+d': 1, 'charming': 6, 'corolla': 1, 'podcasts': 6, 'topo': 1, 'recreation': 2, 'mapping': 4, 'awarded': 2, 'sanders': 4, 'carmelo': 4, 'sellout..come': 1, 'bahahahahahahahahaha': 1, 'grammatical': 1, 'a-whole-nother': 1, 'nother': 3, 'altogether': 2, 'assumption': 1, 'barclay': 1, 'epic..': 1, 'mehh': 1, 'wernt': 1, 'comming': 3, '57': 2, 'facebookwall': 1, 'okcupid': 3, 'ducks': 9, 'mumble': 1, '20th..': 1, 'to..': 1, 'arcade': 1, 'obsessive': 1, 'posters': 4, 'spoken': 5, 'beats-': 1, 'debating': 4, 'hou': 2, 'maid': 2, 'greeley': 2, 'estates': 1, 'paso': 3, 'cope': 1, 'haan': 3, 'catchy': 2, 'r2d2': 1, 'particularly': 5, 'horseradish': 2, 'diminish': 2, 'diablo': 5, 'carpal': 1, 'bawdy': 1, 'trio': 6, 'fed': 10, 'pinkberry': 1, 'swirly': 1, 'catering': 4, 'goddard': 1, '08.': 1, 'giovanni': 2, 'ges': 1, 'bearded': 3, 'bard': 2, '\\u200e': 2, 'marrythegaga': 1, 'paw': 1, 'multitasking': 1, 'mural': 3, 'heart-how': 1, '-too': 1, 'eoalchemy': 1, 'gavish': 2, 'realestate': 1, 'convince': 5, 'mfs': 2, 'www.chesapeaketech.org': 1, 'cool.i': 1, 'nashville': 18, 'nominated': 3, 'salute': 10, 'chauncy': 2, 'updates.': 1, 'thc': 2, 'hippie': 2, 'useless': 10, '949': 1, 'mayoral': 2, 'frisbee': 1, 'denise': 1, 'belieberboy': 2, 'sb45': 1, 'one-handed': 1, 'presenters': 2, 'handouts/materials': 1, 'w/an': 1, 'attachment': 1, 'empanada': 1, '💊': 1, 'esquivel': 1, 'je': 2, 'pleas': 1, 'progressive': 2, 'thankss': 1, 'britney': 5, '1848': 1, 'infirmary': 1, 'kenyans': 1, 'uhuru': 1, 'kenyatta': 1, 'haque': 1, '07': 3, 'sunlight': 4, 'sensation': 2, 'whosgotsunscreen': 1, 'vets': 2, 'seely': 1, 'intvw': 1, 'jamal': 1, '206-467-4374': 1, 'goddamn': 3, 'jar': 4, 'pretended': 1, 'discerning': 1, 'dehont': 1, 'freelancing': 2, 'redacted': 1, 'problematic': 1, '_-_': 1, 'americaine': 1, 'francaise': 1, 'existe': 1, '54': 3, 'shetler': 1, 'othe': 1, 'my-self': 1, 'hgh': 2, 'schl': 1, 'xlvi': 1, 'favs': 5, 'skeeball': 1, 'chorost': 1, 'cyborg': 1, 'co-sponsered': 1, 'cct': 1, 'crafting': 3, 'ya..sry': 1, 'lightening': 3, 'hail': 10, 'werelemurs': 1, 'nutty': 3, 'hurley': 1, 'hydrotherapy': 1, 'zipsters': 1, 'bmw': 2, 'shining': 3, '.great': 1, 'smoothie': 2, 'colada': 2, 'crawling': 3, 'direction…': 1, 'receipts': 1, 'hurrr': 1, 'indecisive': 1, 'soulless': 1, 'personality': 6, '997th': 1, 'i´m': 2, 'garmin': 2, 'nüviphone': 1, 'turn-by-turn': 1, 'kwestch': 1, 'comptroller': 1, 'audit': 2, 'flex': 3, 'mermaids': 2, 'trailers': 1, 'youtube..': 1, 'sankey': 2, 'insights12': 1, 'epicor': 1, 'hickey': 2, 'cfa': 1, 'zell': 1, 'reflection': 4, '600': 4, 'comedians': 3, 'mogotti': 1, 'c-town': 1, 'ablaye': 1, 'cissoko': 1, 'sira': 1, 'transcendent': 1, 'flank': 1, 'lid': 1, 'sap': 4, 'mid-afternoon': 1, 'doldrums': 1, 'novellas': 1, 'ambushing': 1, 'biebssssssssssss': 1, 'niga': 1, 'cvs': 5, 'pharmacy': 2, 'wouldve': 1, 'camp/college': 1, 'lyndon': 1, 'gerald': 2, 'boutique': 5, 'finest': 5, 'depressed': 2, 'changemakers': 1, 'forecasters': 1, 'rushing': 2, 'admo': 1, 'brainstorm': 3, '10:30': 5, 'shakes': 5, '5.': 5, 'setback': 1, 'decisive': 2, 'continued': 4, 'ds': 3, 'steppin': 1, 'insomnia': 4, 'xbox': 11, 'heat/knicksgame': 1, 'salazar': 3, 'permits': 1, 'falsehoods': 2, '.three': 1, 'booths': 1, 'shootme': 1, '😒🔫': 1, 'foever': 1, 'officailly': 1, 'popcicle': 1, 'spotingkc': 1, 'unplug': 2, 'replug': 1, 'modem': 3, 'comical': 1, 'poets': 2, 'playland': 2, 'everbody': 1, 'ms.bunting': 1, 'final..': 1, 'layer': 5, 'manipulate': 3, 'remotely': 3, 'elation': 1, '.yum': 1, 'rousing': 1, 'w/accompanying': 1, 'axum': 1, 'beliebers': 6, 'tudymunteanu': 1, 'xaviersagel': 1, '.phew': 1, 'hmm…': 1, 'leuer': 1, 'monta': 4, 'alternative/easier': 1, 'dresser': 1, 'preppy': 1, 'pastry': 3, 'msu': 5, '.u': 3, 'all-natural': 1, 'granddad': 2, 'globes': 3, 'consecutive': 3, 's/cvs': 1, 'axis': 3, 's…': 1, 'coke': 4, 'category-focussed': 1, 'kodashii': 1, 'tadashii': 1, 'assured': 2, 'unknown': 7, 'rodeohouston': 1, 'blows': 6, 'hitters': 1, 'arby': 1, 'very..': 2, '.is': 1, 'satisfies': 1, 'dragon': 4, 'isupportgayrights': 1, 'huffpo': 2, 'pelosi': 1, 'imagery': 2, 'concepts': 2, 'bball': 7, 'ccw': 2, 'concealed': 1, 'somee': 1, 'predictability': 1, 'consistency': 3, 'non-harmful': 1, 'strangr': 1, 'bettr': 1, 'eta': 1, 'dmd': 2, 'tamara': 3, 'hard-working': 1, 'terriblemixcd': 1, 'elses': 3, '*i*': 1, 'determinants': 1, 'memorialunion': 1, '6:00': 2, 'forge': 1, 'glassbox': 1, 'f^_^': 1, 'splendid': 4, 'edibles': 2, 'minty-o': 1, 'cheesecakes': 1, 'carmels': 1, 'savory': 2, 'bord': 2, 'faron': 1, 'braid': 1, 'bflz': 1, '18-30': 1, 'cotton': 7, '1932': 2, 'undies': 1, 'uniquely': 1, 'transit': 2, 'iad': 1, 'paterno': 2, 'scratched': 2, '/le': 1, '/now': 1, 'le': 7, 'trashy': 2, \"jack'o'lantern\": 1, 'missin': 2, '3-3': 1, 'stack': 8, 'amazon.com': 3, 'arizonawildcats': 2, 'co-presenting': 2, '1-day': 1, 'twsig': 2, 'flee': 2, 'tick': 3, '.tick': 1, '..tick': 1, 'furthur': 1, 'phish': 1, 'boyfriendreview': 1, 'capturing': 2, 'slow/fast': 1, 'distinct': 1, 'characteristics': 1, 'jaywalking': 1, 'referenced': 1, 'randall': 2, 'stephenson': 1, 'gradnation': 1, 'recognizing': 1, 'ballou': 1, 'googled': 1, 'nostalgic': 4, '4-hand': 1, '1lb.': 1, '5lb.': 1, '10lb.': 1, '20lb': 1, 'seattle.catalogchoice.org': 1, 'seattleindieads.com': 1, 'hyperlocal': 1, 'reflect': 4, 'wintry': 1, 'slicker': 1, 'otter': 3, 'snot': 2, 'tortoise': 1, 'goodyear': 1, 'paddocktalk': 1, 'orignial': 1, 'premeditated': 1, 'disregarded': 1, 'lives.': 1, 'vince': 4, 'loren': 2, 'musci': 1, 'coedz': 1, 'supported': 10, 'savannah': 3, 'bestie': 7, 'tao': 1, '2a': 1, 'togayoga': 1, 'popeyes': 2, 'st.nicholas': 1, 'fulltime': 2, 'poppins': 1, 'relentless': 1, '3year': 1, 'pre-santarchy': 1, 'shmuck': 1, 'barf': 1, 'elwayed': 1, 'backup/wildcat': 1, 'cheating': 5, 'sonofabitch': 1, 'wavy': 2, 'topeka': 2, 'kc': 8, 'bulldogs': 2, '0.': 2, 'hampshire': 1, '-d': 11, 'fartlek': 1, 'overlook.william': 1, 'inaugural': 2, 'reston': 1, 'dokey': 1, 'incubus': 1, 'layover': 2, 'twerking': 1, 'cherokee': 1, 'construct': 2, 'pave': 1, 'friendsfalyfee': 1, 'tj': 2, \"i'ts\": 2, 'crayola': 1, '8-pack': 1, 'garishness': 1, 'breckenridge': 1, 'slopes': 1, 'corner-it': 1, '198': 1, '2/17': 1, 'madai': 1, 'snapper': 1, 'subtle': 2, 'inescapable': 1, \"'sacred\": 1, 'inmost': 1, '1-enrollment': 1, '2-developmental': 1, '3-progress': 1, '4-transfer': 1, 'completion': 4, '5-workforce': 1, 'employment': 3, 'dikes': 1, 'flashlights': 1, 'chels': 1, 'obscurity': 1, 'holiday/family': 1, 'imbruglia': 1, 'shuffle': 4, 'bogus': 1, 'drops': 8, 'quinn': 2, 'waite': 1, 'goldwyn': 1, 'spittin': 1, '**sips': 1, 'chocolate**': 1, 'hahha': 2, 'ridic': 1, 'productions': 2, 'living.': 1, '~robert': 1, 'henri': 1, 'uica': 1, 'aside': 7, 'separating': 2, 'sumi': 2, 'circuit': 2, 'minute..': 1, 'dublin': 4, 'fortunately': 1, 'uzbekistan': 1, 'cancelled': 6, 'immaculatize.com': 1, 'plaid': 1, 'bowed': 1, 'bengals': 5, 'season..': 2, 'day-want': 1, 'commit': 6, 'lesbian': 6, 'cock': 4, 'beaver': 3, 'mckenry': 1, 'linde': 1, 'dummy': 3, 'windsor': 3, 'tsn': 1, 'bml': 1, 'ifiwasdatingharrystyles': 1, 'cinderella': 1, 'conner': 2, 'strasburg-': 1, '97mph': 1, '2-seamer': 1, 'w/run': 1, 'sleepover': 3, 'tapjoy': 1, 'erased': 1, 'rondon': 1, 'dames': 1, 'digging': 6, 'doods': 1, 'flabbergasted': 2, 'samplers': 2, 'asheville': 1, 'ent': 4, 'str8': 2, 'settled': 6, 'reggio-emilia': 1, 'plainly': 1, 'fflv': 1, 'downlownlv': 1, 'guartantee': 1, 'twisters': 1, 'arlo': 1, 'guthrie': 3, '1913': 1, 'massacre': 5, 'saddening': 1, 'heavens': 1, 'shall…': 1, 'adjust': 2, 'adjustment': 2, 'tue-sat': 1, '-1/2': 1, 'wishlist': 2, 'msg4more': 1, 'hyper': 3, 'buzzin': 1, 'jamss': 1, 'hova': 1, 'cst': 4, 'cardinal': 3, 'loll..': 1, 'dtrix': 1, 'abdc6': 1, 'kayla': 4, 'no.23': 1, 'saturating': 1, 'preperation': 1, 'autismspeaks': 1, 'prosecutor': 3, 'questionned': 1, 'concerts': 6, 'reeling': 1, 'poppa': 2, 'motorcorss': 1, 'renewal': 2, '74..': 1, 'griswold': 1, 'lotta': 6, 'weaken': 1, 'hardware': 4, 'hammered': 1, 'nhlplayoffs': 1, 'nikon': 1, '1.3': 1, 'versions': 1, 'automagic': 1, 'boobear': 1, 'sourwood': 1, 'wildflower': 3, 'briefing': 1, 'iap': 1, '1day': 1, 'trippin': 4, 'laker': 3, 'half-minute': 1, 'comaroff': 1, 'two-ah': 1, 'olympics': 4, '-confused': 1, 'negativity': 3, 'this..i': 1, 'mofo': 2, 'du': 5, 'indicator': 3, 'breer': 1, 'tlk': 3, 'amazin': 3, 'iam': 2, 'muhahahaha': 1, 'occupypdx': 1, 'unitarian': 1, 'occupiers': 1, '231': 1, 'pt/2': 1, 'surprize': 1, 'coins': 3, '1.99': 1, 'layaway': 2, 'alway': 2, 'looses': 1, 'creepiest': 1, 'thepalms': 1, 'issues..': 1, 'cigar': 5, 'cool..superheros': 1, 'die..lol..naw': 1, 'exam..': 1, 'yee': 4, 'opportunity+setbacks+perseverance=success': 1, 'itchycoo': 1, 'psychedelic': 1, 'nafc': 1, 'milw': 1, 'cage': 3, 'aug': 4, 'pfr': 1, 'fashionfriday': 1, 'affecting': 2, 'tweetpossible': 1, 'follow-up': 1, '702': 1, '588-8456': 1, 're-writing': 1, 'depp': 3, 'coalescing': 1, 'dude/dudette': 1, 'smashes': 1, 'com/source/yoursite.com': 1, 'thier': 3, 'latifah': 1, 'bni': 2, 'mountains': 3, 'shakers': 1, '12/21': 1, 'ashley': 4, 'statistic': 2, 'didactic': 1, 'thom': 1, 'pxp': 1, 'lobos': 1, 'dnad': 1, 'attribute': 2, 'shareholder': 1, 'brotha..': 1, 'edgefest': 1, 'cyca': 1, 'thinning': 1, '.0019s': 1, 'bad..': 1, 'celsius': 1, 'fareinheught': 1, 'reinstall': 1, 'westbrook': 3, 'radiating': 1, 'wacky': 3, 'weasel': 1, 'hahahahahhahahaha': 1, 'breakdance': 1, 'right.': 1, 'funk': 3, 'micro': 5, 'beds': 5, 'productionvault': 2, 'straw': 3, 'berry..the': 1, 'this.selectmenuitem': 1, 'refers': 1, 'unooooo': 1, 'gotchs': 1, 'wesley': 1, 'stokes': 1, 'islander-style': 1, '😣': 1, '☇': 1, 'poncho': 2, 'duper': 1, 'booorrrrreeeddd': 1, 'hard..': 2, 'fairest': 1, '~henry': 2, 'beecher': 3, '700+': 1, 'superior': 5, 'ruskin': 1, 'perceiving': 1, 'rio': 4, 'klusoz': 1, 'systems': 5, 'imbeciles': 1, 'underway': 6, 'westerkamps': 1, 'guarantees': 2, 'lean': 5, 'nina': 2, 'spleen': 1, 'oxen': 1, 'bouillon': 1, 'cubes': 2, 'lecarre': 1, 'rnr': 1, 'bummin': 1, 'pjs': 2, 'input': 7, 'brands/places': 1, 'qualifications': 2, 'recruiters': 2, 'soldier': 3, 'spamming': 2, 'prideful': 1, 'collegiettes™': 1, 'hc': 1, 'homecoming': 4, 'nominees': 3, 'nelson': 10, 'lie-ee-i-ee-i': 1, '97x': 1, 'bam': 3, 'elinor': 1, 'deliverance': 1, 'toiling': 1, 'aluminum': 1, 'gals': 3, 'balzer': 1, 'keynotes': 1, 'heyo': 2, 'volcano': 1, 'preventing': 2, 'carmageddon': 1, 'reimbursed': 1, 'workers': 7, 'males': 7, 'beams': 1, 'wholesale': 4, 'rarely': 8, 'slam': 4, 'marty': 4, 'newey/paul': 1, 'astd': 2, 'wonderfully': 2, 'contrary': 3, 'bethany': 1, 'super-party': 1, 'berlin': 1, 'divatweet': 1, 'albany': 1, '15¢': 1, 'drafts': 4, 'afroman': 1, 'ferriero': 1, 'enormous': 2, 'digitally': 1, '█▬█': 1, '█': 1, '▀█▀': 1, 'w/some': 2, 'whoops': 2, 'willingly': 1, 'unwillingly': 1, 'dressing': 5, 'marquez': 2, 'tacotuesday': 1, 'meatless': 1, '2008': 9, 'concession': 2, 'funnel': 1, 'jumpin': 2, 'octopus': 2, 'toot': 2, 'horn': 2, 'to💗': 1, 'sanitizer': 3, 'utsa': 2, '*million': 1, 'whitechapel': 1, 'flame': 1, '1215': 1, 'magma': 1, 'carta': 1, '1588': 1, 'armada': 1, 'varies': 2, 'caution': 4, 'x-ing': 1, 'natick/framingham': 1, '💋': 2, 'travelocity': 1, 'vacations': 5, \"mother'sday\": 1, 'too..i': 1, 'dealwit': 1, 'nudist': 1, 'provost': 1, 'council-service': 1, 'acceptability': 1, 'forced/retarded/creepy..': 1, 'jake': 10, 'silently': 2, '.by': 1, 'hewitt': 1, 'siblings': 4, 'sned': 1, 'thnkz': 1, 'jayber': 1, 'vibrated': 2, 'hae': 1, 'bailing': 1, 'graphs': 1, 'punches': 3, 'lessons': 5, 'lacrosse': 2, 'od': 3, 'talkative': 1, 'alaya': 1, 'kalil': 1, 'burried': 1, 'badd': 2, 'umpires': 2, 'stipend': 1, 'breaker': 1, 'thunderstorms': 2, 'camppsss': 1, 'shoulder': 9, 'marijuana': 5, 'gifted': 2, 'existence': 4, 'systane': 1, 'ocular': 1, 'd980': 1, '3:45-5:30pm': 1, 'trademark': 2, 'ios': 8, 'fluid': 3, '*person': 1, 'background*': 1, 'yabbadabbabitch': 1, 'funny..': 1, 'argumentative/sensual': 1, 'vilma': 1, 'lofton': 1, 'kose': 1, 'sekkisei': 1, 'annoyed': 7, 'cheesiness': 1, 'partisanship': 1, 'thingsishouldsaynoto': 1, 'h2o': 1, 'whybaby': 1, 'observe': 2, '1924': 1, 'tardis': 1, 'flattery.': 1, '-fyodor': 1, 'dostoyevsky': 1, 'mid-70': 1, '630': 3, 'zeppelin': 1, 'www.wimp.com/michaelwinslow/': 1, '●': 1, 'touching': 4, 'fleeting': 1, 'everlasting': 1, 'ticked': 4, 'cuties': 3, 'i\\ue32au': 1, 'bles': 1, '402': 2, 'fathersonspirit': 1, 'similarly': 3, 'newsweek': 1, 'canceling': 1, '724': 1, 'sturgeon': 1, '54235': 1, 'strategist': 1, 'detailed': 2, 'lyfe': 1, 'watcha': 1, '97': 3, 'iv': 6, 'griff': 1, 'carson..': 1, 'accessories-': 1, 'dming': 1, 'watertime': 1, 'causative': 1, 'symptoms': 3, 'assessing': 1, 'csoe': 1, 'oracle': 3, 'pleez': 1, 'omgomgomgomg': 1, 'sadder': 3, 'queue': 3, 'wishcometrue': 1, 'stern': 5, 'uurrgg': 1, 'wong': 1, 'shepard': 1, 'unconscious': 1, 'wiser': 3, 'conscious': 5, 'yester': 1, 'fierce': 4, 'day..i': 1, 'back..count': 1, 'it..t/f/s..': 1, 'wbn': 1, 'sanctuary': 2, 'confidential': 1, 'libraryh3lp': 1, 'ebsco': 1, 'kiddies': 1, '3/4': 3, 'dating..': 1, 'me…': 1, 'distance…': 1, 'fucken': 3, 'pimped': 1, 'stencils': 1, '3pm': 10, 'sterling': 3, '+points': 1, 'tieing': 2, 'nfais12': 1, 'metrics': 4, 'parachute': 2, 'todayy': 2, 'def.gettin': 1, 'cumz': 1, 'out..': 5, 'itz': 2, 'heat..': 1, 'milkshake': 3, 'straws': 1, 'dumbfuck': 1, '😥': 1, 'mpse': 1, 'lung': 3, 'k.i.d': 1, 'freaky': 3, 'twittermarriage': 1, 'family-': 1, 'p.g': 1, 'swordoftruth': 1, 'bf/gf': 1, 'sexy/hot': 1, 'guy/girl': 1, 'he/she': 1, 'openingday': 1, 'addresses': 4, 'customized': 1, 'm16a3': 1, 'ak-74m': 1, 'chicken+veg': 1, 'tortilla': 2, 'chicken=happy': 1, 'unambiguous': 1, 'hardships': 2, 'identify': 3, 'ncec': 1, 'ids': 1, 'demographics': 1, 'polling': 2, 'concentrations': 1, 'low-performing': 1, 'accelerate': 2, 'laziest': 2, 'thankyoujesus': 1, '667': 1, '/via': 4, 'misaddressed': 1, 'same-sex': 4, 'logical': 3, 'fln': 1, 'mosaichub': 1, '11pm': 8, 'wagner': 1, 'shit..': 1, 'iggy': 1, 'easy-to-use': 1, 'touts': 1, 'artsed': 1, 'scooping': 1, 'poo': 5, 'unattractive': 2, 'sometimes，it': 1, 'matters，it': 1, \"don't．\": 1, 'grest': 1, 'pits': 1, 'sip': 4, 'burp': 2, 'minors': 1, 'circuitous': 1, 'visitor': 2, 'awwh': 1, 'pockets': 5, 'accomodate': 1, 'tablets': 1, 'monopoly': 1, 'public-private': 1, 'partnerships': 1, 'curricula': 1, 'kings': 11, 'jocelyn': 1, 'desa': 1, 'illini': 2, 'drumline': 1, 'condiments': 2, 'awd': 1, 'joking': 3, 'punto': 2, 'middlebrook': 2, 'indicate': 5, 'geographic-/inside': 1, 'outlaw': 1, '-hell': 1, 'chik': 1, 'envied': 1, 'whatz': 1, 'hateration': 1, 'interplanetary': 1, 'spacebook': 1, 'suckage': 1, 'daydreams': 2, 'info.ayoinmotion': 1, 'implications': 2, 'commons': 6, 'tgod..': 1, 'lunar': 2, 'streetfood': 1, 'quang': 1, 'minh': 1, 'buddist': 1, 'runtex': 2, 'american-statesman': 1, 'american-states': 1, 'depart': 1, 'ü': 1, 'appeal': 3, '8-close': 1, 'yayayaay': 1, 'snorting': 1, 'bicep': 1, 'rockford': 2, 'salty': 7, 'snowing': 4, 'mccann': 2, 'birmingham': 2, 'twitition': 1, 'modest': 1, 'dito': 1, 'girlie=': 1, 'anyword': 1, 'lloyd': 2, 'zona': 1, 'latina': 2, 'psychotherapy': 1, 'wrinkle': 1, 'emails/calls': 1, 'farm': 12, 'unpacked': 2, 'bf..so': 1, 'classical': 2, 'storify': 1, 'skidmore': 1, 'kaitlyn': 1, 'a1': 3, 'hides': 2, 'boyzhitabdcagain': 1, 'deff': 4, 'youll': 4, 'hundered': 1, 'arrives': 2, 'dcdrinkup': 2, 'collected': 3, 'manson': 1, 'isthattrue': 1, '-maureen': 1, 'dowd': 1, 'redandblack': 1, 'canterbury': 1, 'need..': 2, 'intranet': 1, 'intuitive': 2, 'bosa': 1, 'beautful': 1, 'jetplane': 1, 'confirms': 2, 'helicopter': 2, 'collision': 1, 'yuma': 1, 'ariz': 1, 'coffees': 1, 'non-fiction': 3, 'alerted': 1, 'busses': 1, 'soundcheck': 1, 'thurday': 1, 'expose': 2, 'deepest': 5, 'shrinks': 1, 'vanishes': 1, 'rejectedpromthemes': 1, 'anew': 1, 'ncmp': 1, 'hometowns': 1, 'twister': 2, 'foretold': 1, 'severe': 4, 'divisions': 3, 'gomez': 8, 'dok': 1, 'chez': 1, 'ravine': 1, 'dodger': 1, 'nee': 1, '~0300': 1, 'cildc': 2, 'bulletin': 2, 'divorce/child': 1, 'virtuoso': 1, 'dolly': 1, 'featureless': 1, 'generality': 1, 'www.wedrawthelines.ca.gov': 2, 'foul': 11, 'gojazz': 1, 'apology': 3, 'k-state': 1, 'coloring': 3, 'stonestreet': 1, 'controller': 2, 'acres': 2, 'contained': 1, 'coworkers/bosses/teachers': 1, 'juan': 5, 'puerto': 6, 'rico': 5, 'serial': 5, 'anchoring': 1, 'derwin': 1, '35.2': 1, 'residences': 2, 'smallest': 2, '1962': 1, 'relaxing': 7, 'dockta': 1, 'replacement': 3, 'supplies': 5, 'fasten': 1, '*is': 1, 'bipolar': 5, 'foulforprofit': 1, '1600+': 1, 'taichi': 1, 'frowning': 1, 'omgwire': 1, 'luci': 1, 'there-': 3, 'file': 5, 'pc': 8, 'linux': 2, 'gaffer': 1, '3/13/1789-': 1, 'hopkinson': 1, '—and': 1, 'kyle': 9, 'motherfucker': 4, 'collage': 2, 'arts/crafts': 1, 'calvano': 1, 'dawt': 1, 'cawm': 1, 'xddddd': 1, 'spurs/clippers': 1, 'lamé': 1, 'handstands': 1, 'gopdebate': 1, 'iraq': 3, 'birthright': 1, 'swredmond': 1, 'traber': 1, 'mazzio': 1, 'advertisements': 1, 'dilasso': 1, 'conservatory': 2, 'visalia': 2, '💑': 1, 'wurst': 1, 'germ': 1, 'spiritually': 1, 'phychic': 1, 'phychics': 1, 'gotv': 1, 'menstrual': 1, 'thinklikeaman': 1, 'ike': 1, 'lol.what': 1, 'wld': 2, 'everyonehasthat1friend': 3, 'aop': 1, '|++_||': 1, 'matrix': 2, '972': 1, '839': 1, '4921.': 1, 'www.g1party.com': 2, 'nflrookie': 1, \"lucille's..\": 1, 'mcmillian': 1, 'gentry': 3, 'matchups': 2, 'edtech': 1, 'stunk': 1, 'somthing': 2, '*tears': 1, 'now*': 1, 'plss': 1, 'telecon': 1, 'cj': 3, 'shiv': 2, 'warmup': 2, 'tanks': 1, 'revver': 2, 'msl': 1, 'hike': 6, 'grebes': 1, 'whimbrel': 1, 'mergansers': 1, 'brpe': 1, 'porpoises': 1, 'scoters': 1, 'raft': 1, 'nihilist': 1, 'intrinsic': 3, 'how-to': 2, 'lani': 1, 'wandy': 2, 'innings': 3, 'astros': 2, 'sniffen': 1, 'destracted': 1, 'propose': 3, 'submarine': 2, 'taling': 1, 'annoys': 4, 'mostinappropriatethingssaid2me': 1, 'a-gon': 2, 'ontario': 2, 'bodily': 1, 'u.s.-based': 1, 'wagering': 1, 'regulated': 1, 'verified': 1, 'embrace': 10, 'mccallum': 1, 'rabbits': 4, 'fibonacci': 1, 'rabbit': 4, 'xavier': 2, 'reachfortop': 1, 'brighter': 1, 'prozac': 1, 'sched': 1, 'chula': 3, 'civilwar': 1, 'fotd': 1, '1864': 1, 'kilpatrick': 1, 'raid': 3, 'confederates': 1, 'fortify': 1, 'defenses': 2, 'incentive': 2, 'saulbass': 1, 'c/o': 1, 'ah-mazing': 2, '24k': 1, '6k': 1, 'hurdle': 2, 'progs': 2, 'favoriting': 1, 'agreeing': 1, 'non-endorsingly': 1, 'amplifying': 1, 'unofficial': 2, 'braised': 1, 'lamb': 6, 'carmalized': 1, 'polenta': 1, 'cabbage': 2, 'yuummmmy': 1, 'alls': 1, 'followerss..': 1, 'dorkier': 1, 'mun': 1, 'dawson': 2, 'novice': 1, 'real-life': 2, 'diversion': 2, \"iv'e\": 1, 'crowley': 1, 'thts': 5, 'dodge': 3, 'frenzied': 1, 'energetic': 2, 'adidas': 1, 'fanfic': 2, 'florio': 1, 'exhib': 1, 'portraits': 1, 'didn': 3, 'aguing': 1, 'buehler': 1, 'sources/activities': 1, 'swish': 2, 'hereby': 2, 'annointed': 1, 'honorary': 1, 'mermen': 1, 'moral': 5, 'wr': 4, 'naa': 1, 'averted': 1, '🎀': 1, 'dsum12': 1, 'marks': 3, 'delgado': 1, 'trustee': 1, '-bill': 1, 'cosby': 2, 'seester': 1, 'utmost': 2, 'ificouldiwould': 1, 'rakim': 1, 'kreayshawn': 1, 'offenders': 2, 'interviewer': 1, 'puppeteer': 1, 'yogi': 3, 'lifts': 1, 'burr': 1, 'maiden': 1, 'snow-white': 1, 'deemed': 2, 'there—but': 1, '1850': 3, '\\ue417': 2, 'corgan': 1, 'owns': 3, 'cruel': 1, '_': 9, 'ismile': 1, 'becuss': 1, 'milan': 1, 'nxt': 2, 'member.ly': 1, 'pickled': 1, 'mango-blueberry': 1, 'informing': 1, 'bastard': 3, '6-7': 2, 'chatham': 1, 'clubhouse': 1, 'npr': 3, 'junkie': 4, 'subwayfan': 1, 'narwhals': 1, 'fishy': 2, 'incumbent': 3, 'terrorism': 3, 'cynic': 1, 'vegas..': 2, 'rainman': 1, 'midsummer': 1, '🎉🎈🎉': 1, 'shook': 2, 'crockpot': 1, 'christie': 1, 'cottrell': 1, 'quick😔': 1, 'fells': 1, 'ews': 1, 'dwayne': 2, 'sleep..working': 1, 'paintings..and': 1, 'years..lolololol': 1, 'slandering': 1, 'langley': 1, 'distressing': 1, 'ucan': 1, 'dissolve': 1, 'finances': 3, '\\\\3': 1, 'nonetheless': 1, 'curve': 4, '~anonymous': 1, 'calmed': 4, 'fn': 1, 'backslash': 1, 'gogurt': 1, 'cockroach': 2, 'worlds': 3, 'strongest': 1, 'pla2012': 1, 'organized': 6, 'overbooked': 1, 'buttermilk': 2, 'proximate': 1, 'objectives': 2, \"love'em\": 1, 'opaque': 1, 'boomer': 2, 'academics': 2, 'onethingyoushouldntdo': 1, \"mom's.now\": 1, 'tapes': 2, 'funday': 2, '11-min': 1, 'wondercon': 1, 'xfactor': 5, '👏': 2, '4evr': 1, 'friendkiss': 1, 'sighing': 1, 'moss': 2, 'favre': 6, 'darth': 3, 'prosser': 1, 'disturbing': 8, '11503': 1, 'referred': 4, 'tweetings': 1, 'comparable': 1, 'creatures': 3, 'agc': 1, 'timeless': 5, 'fraps': 1, 'waaah': 1, 'hahahahahahaha': 2, 'mulder': 1, 'basket': 6, 'wintertime': 1, 'opted': 1, 'ling': 1, 'habe': 1, 'helper': 2, '30:10': 1, 'kegel': 1, 'gesser': 1, 'studded': 2, 'cougar': 3, 'legends': 3, 'empress': 1, 'over..it': 1, 'mantle': 2, 'twinkies': 2, 'tastykake': 1, 'buttons': 3, 'cleavage': 2, 'thays': 1, 'zion': 2, 'shutting': 2, 'cm': 3, 'tossing': 1, 'omgg': 2, 'dicover': 1, 'stewing': 1, 'unquenchable': 1, 'alter': 1, 'him..': 3, '1111': 3, 'darlings': 1, 'paper=10': 1, 'victoria=0': 1, 'conclusion': 2, 'storming': 2, 'aipac': 1, 'spotify': 5, 'whores': 2, 'hottie': 2, 'cook-off': 2, 'preservationists': 1, 'exercises': 2, 'plank-6': 1, 'quadruped': 1, 'crunch': 5, 'abdominal': 2, 'fatigue': 1, 'glendale': 4, 'departures': 1, '4/27': 1, 'astronaut': 1, 'mullane': 1, 'tennessee': 5, 'bonamour': 1, 'pre-launch': 1, 'oxidative': 1, 'phosphorylation': 1, 'tempting': 1, 'panamerican': 1, 'rebuttal': 1, 'towels': 2, 'someones': 2, '~~thanks': 1, 'themself': 1, 'precocious': 1, 'vonnegut': 2, 'indexes': 4, 'cradle': 3, 'doral': 2, 'fangirl': 2, 'pawlenty': 2, 'bachman': 1, 'www.bruzzesiforpres.com': 1, 'discussed': 5, 'newfangled': 1, 'rib': 3, 'whataburger': 3, 'ayye': 1, '9754': 1, '.ohmysweetchocolatelord': 1, 'chicagobears': 1, 'felicia': 2, 'walkers': 2, 'dog=instant': 1, 'rumdiarieshouseparty': 1, 'whiny': 1, 'horoscopes': 1, 'kykoku': 1, '50cent': 2, 'dondria': 1, 'thatisall': 2, 'blushing': 2, 'treadworn': 1, 'organizations': 4, 'spca': 1, 'condo': 3, 'www.nevadaspca.org': 1, 'eyeroll': 2, 'te': 4, 'cannoli': 1, 'reid': 1, 'dwarfing': 1, '10randomthingsaboutme': 1, 'mlbnetwork': 1, 'spaceballs': 2, 'scaling': 1, 'nsmutablearray': 1, 'insertobject': 1, 'invoking': 2, \"'retain\": 1, 'maine': 3, 'cms': 3, 'non-profit': 6, 'parting': 2, 'hell.~': 1, 'dickinson': 2, 'inline': 1, 'finshed': 2, 'die-cutting': 1, 'gluing': 1, 'folding': 2, 'fannight': 1, 'webber': 1, 'dc13': 1, 'zombielibrarian': 1, 'snuff': 2, 'knee': 18, 'slappin': 1, '1982': 1, 'instructions': 5, 'scarves': 2, 'ngo': 2, 'concentrate': 3, 'nods': 1, \"dq'ed\": 1, 'nuggs': 1, 't.j.': 1, 'birthdays': 4, 'waited': 4, 'unreleased': 1, 'radiate': 1, 'smilers': 2, 'home\\\\movies\\\\camtasia': 1, '66:5': 1, 'deeds': 1, 'mankind': 3, 'senor': 1, 'muy': 2, 'bien': 2, 'tolerence': 1, 'one-price': 1, 'calipari': 1, 'one-and-dones': 1, 'hatch': 1, 'chickpea': 1, 'chickpeas': 1, '-hey': 1, 'imu': 1, 'rss': 1, 'roadtrip': 1, 'optimisian': 1, 'bladder': 2, 'provocative': 1, 'explored': 1, 'hebmoms': 1, 'greenandyellow': 1, 'prediction': 6, 'lose-lose': 1, 'pre-jazz': 1, 'beg': 4, 'clogged': 1, 'paula': 3, 'dean': 3, 'arteries': 1, 'lowes': 2, 'livenation.com': 1, 'lone': 3, 'clinging': 1, 'fervor': 1, 'parma': 1, 'wisconsin/': 1, 'sigma': 5, 'sounders': 2, 'hosking': 1, 'linesman': 1, 'suits': 5, 'burps': 1, 'loneliness': 2, 'palestine/israel': 1, 'towns': 1, '11pm..': 1, 'captures': 1, 'skydiver': 1, 'paralyzed': 1, 'thrill': 1, 'seekers': 2, 'caa': 2, 'geocities': 3, 'x-files': 2, 'gangs': 1, 'rebranding-what': 1, 'college.she': 1, 'docs.they': 1, 'pod': 3, 'afro': 1, 'www.alkkemikelmuzik.podomatic.com': 1, 'reusing': 1, 'parkrose': 2, 'patrons': 6, 'ifyouknowmewell': 1, '-tc': 1, 'exudes': 1, '.including': 1, 'margaret': 4, 'artwork': 1, 'submissions': 4, 'asylum': 3, 'koch': 1, 'crave': 1, 'noodle': 2, 'jupiter': 1, 'nobility': 1, 'bartender': 2, '..loved': 1, 'descendants': 1, 'legas': 1, 'anymore..': 1, 'cravings': 3, 'gimlet': 1, 'wooooh': 1, 'liam': 6, 'nkeys': 1, 'completing': 1, '..see': 1, 'downer': 2, 'tw': 1, 'bookhookin': 1, 'parenthood': 2, 'decidedly': 1, 'incubator': 3, 'narratives': 2, 'sketchbook': 1, '*fantastic': 1, 'petrino': 2, 'raske': 1, 'discharges': 1, 'supportive': 1, 'admission': 7, '5:00': 3, 'thesyncmag': 1, 'covers/photos': 1, 'turtles': 4, 'www.whalersmusic.bandcamp.com': 1, '60+': 1, 'gb': 1, 'singer/actor': 1, 'cavellini': 1, '2/25': 1, 'martuni': 1, 'knife': 7, 'comebackcats': 1, 'contestant': 1, 'aupeeps': 1, 'e-news': 1, 'beware': 6, 'puddles': 1, 'corona': 1, 'youknowyourebroke': 2, 'ebt': 1, 'digits': 3, '830': 1, 'unpacking': 2, '10confessions': 1, 'listener': 2, 'kayakingxd': 1, 'gregory': 4, 'corso': 2, 'elegiac': 1, 'aghhh': 1, 'portlandboattours.com': 1, 'funded': 4, 'kickstarter': 2, 'pre-ordering': 1, 'correspondent': 3, 'flay': 1, 'americain': 1, 'thekilling': 1, 'nursejackie': 1, 'thebigc': 1, 'nassau': 1, 'genesis': 3, 'lesbianism': 1, 'remy': 3, 'pug': 2, 'jamie': 8, 'alimorad': 1, 'cornerstone': 2, 'mag': 1, '308': 1, 'oirish~': 1, '😊☺😁': 1, 'investigating': 7, '4s': 4, 'nextel': 1, 'nyse': 1, 'nasdaq': 1, 'aap': 1, 'flipboard': 1, 'barnes': 3, '1939': 1, '30260': 1, 'comevisit': 1, 't/th': 1, '11-4': 1, 'southpoint': 1, 'chopping': 1, 'nightly': 2, 'hundy': 1, 'moses': 2, 'apostles': 1, 'tibetan': 2, 'thatawkwardmoment': 2, 'goldfish': 5, 'bsb': 2, 'mexi': 1, 'greatdaysa': 1, 'continents': 1, 'madame': 2, 'illuminated': 2, 'aol': 2, 'patents': 4, 'intellectual': 3, 'employers': 2, 'info.': 1, 'nsa': 1, 'foreman': 3, 'rope-a-dope': 1, 'hither': 2, 'dread': 1, 'originally': 2, 'spellchecker': 1, 'peephole': 2, 'reelworld': 1, '206-448-1518.': 1, 'kaeley': 1, 'acta': 1, 'pestano': 1, 'hagadone': 1, 'destruction': 3, 'labellabooms': 1, 'rarrrrrrrrrrrr': 1, 'bdw': 1, '5.99': 1, '138th': 1, '10:30.': 1, 'dues': 3, '7.5k': 1, 'corpus': 2, 'you�fre': 1, 're-enable': 1, 'deposited': 2, 'mayock': 1, '-v': 1, 'hollie': 4, 'philip': 6, 'allegedly': 1, 'valet': 1, '7news': 1, 'thunders': 1, 'mayne': 1, 'filibuster': 1, 'tunchi': 1, 'nudity': 1, 'cuter💜😊': 1, 'miami..': 2, 'lol..lucky': 1, 'ass..': 1, 'waveforms': 1, 'niketown': 1, 'courthouse': 1, 'apparel': 6, 'fires': 2, 'rioting': 1, 'mattered': 1, 'a-t-il': 1, 'lien': 1, 'mwa5': 1, 'pontiac': 1, '14/d': 1, 'backseat': 3, 'someone/getting': 1, 'corse': 1, 'turnpike': 2, 'bumper': 5, 'hipster': 4, 'bonding': 3, 'oasis': 1, 'dueling': 2, 'oliver': 1, 'wendell': 1, 'weho': 1, 'worrying': 2, 'succeeding': 2, 'rhode': 2, 'ian': 4, 'darke': 1, 'chelsea-arsenal': 1, 'real-barca': 1, 'clothesline': 2, 'electra': 2, 'qualcomm/snapdragon': 1, 'snooky': 1, 'aloe': 1, 'goblue': 1, 'rushmore': 2, 'lotsa': 1, 'snaps': 1, 'yalllllllllll': 1, 'pensions': 1, 'unions': 1, 'boards': 4, 'www.safemoms.org': 1, '16.3': 1, 'huskies': 1, 'theodore': 1, 'hesburgh': 1, '4:30.': 1, \"i'm.praying\": 1, 'skwirls': 1, 'inform': 5, 'personel': 1, 'oovoo': 3, 'forgotten': 7, 'ppv': 2, 'ecw': 1, 'duly': 1, 'incomplete': 3, '_________': 1, '1995': 4, \"'seinfeld\": 1, 'sculpting': 2, 'rainning': 1, 'belmont': 2, 'taunts': 1, 'spec': 4, 'taunt': 1, 'resistance': 6, 'musician': 5, 'poisedcreation.com': 1, '..stupid': 1, \"'hadoop\": 1, \"'algorithm\": 1, 'checker': 1, 'constructivist': 1, 'constructionist': 1, 'bandana': 3, 'ac..': 1, 'beatles': 8, 'fdmf': 1, 'hp': 4, 'internets': 2, 'scariest': 2, 'thingsbetterthansopa': 1, 'f***': 3, 'censorship': 2, 'whaddya': 1, 'superstitious': 1, 'equipment': 8, 'evans': 4, 'gobrewers': 1, 'rosettafr19': 1, 'mcflurry': 1, 'carrying': 4, 'mat': 5, '90s+somedegree': 1, '*sips': 1, 'unprepared': 3, 'o..': 2, 'negotiations': 1, 'presidentialdebate': 1, 'quadri': 1, 'polititians': 1, 'iml': 1, '8:35': 1, 'e-reader': 2, 'petting': 2, 'dynamic': 3, 'e-book/e-reader': 1, 'bruss': 1, 'bethpage': 1, 'mall-going': 1, 'misters': 3, 'awkwardly': 2, 'sails': 1, 'tomorrowww': 1, 'think..': 1, 'pinnacle': 1, 'yeungling': 1, 'gamecast': 1, 'marketng': 1, 'reaches': 2, 'lads': 1, 'mami': 2, 'galea': 1, 'ktla': 1, '25th': 4, 'he-man': 1, 'speeding': 2, '161': 1, '30mph': 1, 'imbecile': 2, 'pigs': 3, 'meeting-': 2, 'hard.but': 1, '4hrs': 1, 'pleasee': 2, '-me': 1, 'mssge': 1, 'goodmorning': 10, 'peeing': 2, 'wiki': 5, 'tomboy': 1, 'synch': 2, 'w/one.ubuntu.com': 1, '/win': 1, 'accordingly': 1, 'serbia': 1, 'acknowledged': 2, 'knudson': 1, 'catheter': 1, 'diagnosis': 2, 'shocker': 2, 'coral': 1, 'fates': 1, 'tupac': 4, 'bend': 3, 'pointer': 1, 'sincerely': 4, 'sprained': 3, 'anastasios': 1, 'tampikas': 1, 'lotto': 2, 'architect': 3, 'rkg': 1, 'shutthefrontdoor': 1, 'forces': 5, 'stk': 1, 'rulings': 2, 'legitimate': 2, 'hedgehogs': 1, 'expertly': 1, 'executed': 3, 'sansome': 1, '11:30-2pm': 1, 'my.mother': 1, 'sentiments': 1, 'cyndi': 1, 'lauper': 1, 'goonies': 2, \"'r\": 1, 'philosophical': 2, 'gangsters': 1, 'shines': 1, 'webcam': 3, 'veterns': 1, 'hazeltine': 1, 'tyranny': 1, 'pursuit': 4, 'buckeyes': 1, 'bearcats': 2, 'retarded': 3, 'bi': 2, 'polar': 2, 'triton': 1, 'clemente': 1, 'ikno': 1, 'awesome-ness': 1, 'contagious': 1, 'twitter-blocked': 1, 'wssmiami': 2, '~ray': 1, 'bradbury': 1, 'humbling': 1, 'every1': 5, 'jdg': 1, 'schumaker': 1, 'stlcards': 1, 'greene': 2, 'descalso': 1, 'icy': 3, 'incapacitates': 1, 'wlw': 1, 'p.o.c': 1, 'ecological': 1, 'w/language': 1, 'ergo': 1, 'neal': 3, 'summertime': 2, 'learnin': 1, 'hehehehe': 2, 'jenner': 2, 'energydrink': 1, 'issackson': 1, 'butthole': 2, 'melinda': 1, 'smallbizlady': 1, 'la-she': 1, 'p…': 1, '338': 1, 'skateboard': 2, 'ankles': 3, 'altitude': 3, 'stumped': 2, 'convert': 6, 'mono': 2, 'stereo': 2, 'lolx2': 1, 'zellmar': 1, 'sonny': 4, 'workflow': 1, 'welcomed': 3, 'slender': 1, 'eurocentric': 1, 'buget': 1, 'leff': 1, 'rationality': 1, 'iss..': 1, 'follower/number': 1, 'ratios': 2, 'perk': 2, '9:30am': 1, 'catalano': 1, 'menomonee': 2, 'homo': 2, 'dickholes': 1, 'hiphopawards': 1, 'opposed': 3, 'fined': 1, 'suckers': 1, 'spoonful': 1, 'bridget': 1, '*seems*': 1, '20factsaboutme': 2, '2mmarrow': 1, 'rancid': 1, 'quack': 6, 'd-bag': 1, 'preferably': 2, 'mashed': 2, 'chicharones': 1, 'else..': 2, 'ttp': 2, '//t.co/e6nzhw5g': 1, 'truert': 1, 'frizzle': 2, 'wirh': 1, 'speculators': 1, 'adjustments': 2, 'wehear': 1, 'baldwin': 2, 'sheen': 2, 'undernutrition': 1, 'womb': 1, 'disease': 8, 'diabetes': 4, 'uttered': 2, 'conviction': 2, \"'yes\": 1, 'merely': 4, 't…': 1, 'resizing': 2, 'rapists': 1, 'commuter': 2, 'x30': 1, 'sserca': 1, '5107': 1, 'humanity': 8, 'uc': 3, '316.': 1, 'raspberyy': 1, 'ketones': 1, 'saying..lol': 1, 'blokus': 1, 'ascot': 1, 'caulfield': 1, 'mensland': 1, 'tails': 1, 'in-stores': 1, 'agee': 1, 'camus': 1, 'sag/aftra': 1, 'betcha': 2, 'enuf': 2, '😃💰': 1, '712-432-3066': 1, '970467': 1, 'jai': 1, 'vatuk': 1, 'avid': 3, 'paperboy': 1, 'nes': 1, 'sfgiants': 2, 'trailing': 1, 'mandela': 4, 'cruelty-free': 1, 'lvsk8': 1, \"pep'e\": 1, 'elmo': 1, 'driveway': 1, 'gmat': 1, 'startingbloc': 1, 'anal': 1, 'acuyuye': 1, 'alguienayudame': 1, 'selfishly': 1, 'boise': 2, 'skeptical': 1, 'pbj-latte': 1, '3yr': 1, 'spectacles': 2, 'sufficed': 1, 'nietzsche': 2, 'going/went': 1, 'not-so-surprise': 1, 'wens': 1, 'unconventional': 1, 'favourite': 3, 'indies': 1, 'gugger': 1, 'vindictive': 1, 'courageous': 2, '97.9': 1, 'annoucements': 1, 'vanderbilt': 1, 'authored': 1, 'self-employment': 2, 'renner': 1, 'thr': 3, 'hv': 7, 'wats': 5, 'processed': 4, 'lolz': 1, 'lmaoo': 4, 'iremember': 1, 'disconnection': 1, 'prioritize': 1, 'digitize': 1, 'audiences': 4, 'natives': 2, 'gigged': 1, 'laughlin': 1, \"'86\": 1, \"'97\": 1, 'drinko': 1, 'outline': 1, 'tara': 1, '69factsaboutme': 1, '32.': 1, 'feildtrip': 1, 'tidepooling': 1, 'beeahs': 1, 'bala': 1, 'morbid': 1, 'rubicons': 1, 'colbert': 1, 'popping': 5, 'intended': 4, 'time..i': 1, '1991': 2, 'gary': 10, '2002': 1, '2005': 3, 'proctoring': 1, 'wrtg': 1, 'sol': 2, 'garettheller.com': 1, 'chessing': 1, 'competitions': 1, 'virginiatech': 1, 'vtkw': 1, 'quantity': 2, 'abreast': 1, 'talha': 1, '503-595-2573.': 1, 'bail': 4, '150,000': 1, 'hitch': 2, 'imis': 1, 'twitter-versary': 1, 'tin': 3, 'illicit': 1, 'bedtime-w-the-iphone': 1, 'tremendously': 2, 'belleville/menilmt': 1, 'recs': 2, 'secind': 1, 'bros.': 3, 'mr.monster': 1, 'longing': 2, 'do..you': 1, 'crackheaddd': 1, 'harrypotternerd': 1, 'ploop': 1, 'weighted': 2, 'comparing': 5, 'raspberries': 1, 'lt': 1, 'pony': 1, 'peruvian': 3, 'fats': 2, 'trans-fats': 1, 'radiated': 1, '678th': 1, 'n2': 1, 'tsmradio': 1, 'http//tsm-1.com/': 1, '2ish': 1, 'meems': 1, 'talkers': 1, 'cracked': 6, 'cultures': 4, 'palettes': 1, 'palates': 1, 'hues': 1, 'aptly': 1, '.how': 1, 'dunno': 9, 'nole': 1, 'pico': 1, 'doodoo': 1, 'respectful': 2, 'signals': 3, 'tho..': 1, 'goons': 1, 're-eeding': 1, 'reeding': 1, 'findings': 2, 'pennsylvania': 2, 'spuds': 1, 'whoe': 1, '.need': 1, 'jenn': 3, 'jeggings': 1, 'marinara': 2, 'bubbles': 2, 'stove': 3, 'lamar': 5, 'cozy': 1, 'dive-y': 1, 'urge': 8, 'cripple': 1, 'lego': 3, 'r2-d2': 1, 'null': 1, '*falls': 1, 'contacts': 6, 'on*': 1, '*wakes': 1, 'up*': 1, '*goes': 1, 'off*': 1, '*it': 1, 'peeling': 3, 'eye*': 1, 'sidenote': 1, 'fsu': 3, 'e-meet': 1, 'adoptees': 1, 'officials': 7, 'atcha': 1, 'farts': 2, 'muggy': 1, 'twitching': 7, 'cosplay': 1, 'harvest': 5, 'torronte': 1, 'kunis': 2, 'twerkin': 1, 'bali': 2, 'mecurio': 1, 'retrievers': 1, 'imprint': 1, 'innit': 2, 'love-your': 1, 'championships': 5, 'trojan': 1, 'onemoreyear': 1, 'bashir': 1, 'daytime': 1, 'wsp': 2, 'fishwater': 1, 'traditions': 1, 'beachboys': 1, 'des': 3, 'mccarthy': 3, 'nomination': 7, 'citizensmedal': 1, 'a-flat': 1, 'markers': 2, 'linen': 1, 'toms': 3, 'sping': 1, 'matched': 2, 'braden': 2, 'holtby': 2, 'vienna': 3, 'ifttt': 1, 'identifiable': 1, '45mins': 2, '2k12': 2, 'squala': 1, 'backgrounds': 2, 'redeemable': 1, 'cleaning..': 1, 'sqft.i': 1, 'range.does': 1, '14tax': 1, 'banner': 5, 'tangradi': 1, 'staggered': 1, 'suspense': 4, 'multisite': 1, 'tiddlywinks': 1, 'senses': 3, 'donna': 9, 'murphy': 4, 'reportedly': 2, 'delacorte': 1, 'weakest': 2, '66-61': 1, 'qtr..': 1, 'elbows': 2, 'hardship': 2, 'slowdown': 1, 'riots': 2, 'contestants': 2, 'foer': 2, 'ted': 16, 'reader/listener/nerdfighter/etc': 1, '4gs': 1, 'inchworms': 1, 'gauntlets': 1, 'ark': 1, 'spotted': 7, 'i-5': 3, 'highlights..': 1, 'brightwood': 1, 'tautology': 1, 'bop': 1, 'benjamins': 1, 'humbly': 2, 'gratefully': 1, 'w/much': 1, 'adoration': 1, 'death…it': 1, 'blindness': 1, 'betrayals.anais': 1, 'nin': 1, 'reinvents': 1, '039': 1, 'troubling': 1, 'voice*': 2, 'egnew': 1, '64,000': 2, 'castleton': 2, 'hep': 1, 'quitters': 1, 'touchsmart': 1, '9100': 1, 'rationalize': 2, 'rambunctious': 1, 'bundlers': 1, 'handlers': 1, 'cgi': 1, 'madisonn': 1, 'shafer': 1, 'button-up': 1, 'tsm': 1, 'cave': 1, 'jovial': 1, '0/10': 1, 'a.j': 2, 'boatta': 1, 'pierce': 6, 'eyebrow': 3, 'witticisms': 1, 'memorized': 2, 'sagan': 1, 'sector': 4, 'journalistic': 2, 'deborah': 1, 'blum': 1, 'fagin': 1, 'republic': 2, 'transactional': 2, 'dumber': 1, 'hackings': 1, 'honestynight': 1, 'cringe': 4, 'bambi': 1, 'nommm': 1, 'potatos': 1, 'xfering': 1, 'reupload': 1, 'rejoicing': 1, 'stricker': 1, 'bogey': 1, 'no.10': 1, '+6': 1, 'durazo': 1, 'civ': 1, 'establishment': 1, 'laborers': 1, 'proportioned': 1, 'eternity': 1, 'tempt': 1, 'lizard': 2, 'orthodontist': 2, 'interrupting': 2, 'yourself…': 1, 'paradox': 2, 'blaise': 1, '\\ue413': 1, 'hopeful': 2, 'o.': 2, 'obrian': 1, 'justrosystylin': 1, 'barber': 3, 'fruition': 1, 'opposites': 1, 'pagan': 1, 'saveourclinics': 1, 'logansquare': 1, 'duct': 2, 'sniping': 1, 'reverse': 2, 'auctions': 3, 'dealers': 3, '4u': 1, 'edteach': 1, 'edchat': 3, 'unwilling': 1, 'vested': 1, '2100': 1, 'hargrove': 1, 'st/penn': 1, 'subtlest': 1, 'misjudge': 1, 'quintanilla': 1, 'willem': 1, '18th/19th': 1, 'www.sloanmusic.com/music': 1, 'j-fat': 1, 'dominion': 1, 'captioning': 3, 'expressions': 3, 'jerel': 1, 'worthy': 5, 'meetthepress': 1, 'rosemarie': 1, 'poking': 2, 'pussied': 1, 'yeah..it': 1, 'pup': 4, 'dingo': 1, 'menagerie': 1, 'browsing': 1, '*uie': 1, 'roasting': 1, 'transforms': 2, 'poitier': 1, 'dowe': 1, 'pre-order': 3, 'b2b': 1, 'reelly': 1, 'lawlz..healthy': 1, 'teamunhealthy': 1, 'london/uk': 1, 'stoppin': 1, 'jazztet': 1, 'wkend': 2, 'forbins': 1, 'sb': 8, 'ix': 1, 'graphire2': 1, 'charming.he': 1, 'oxymoron': 2, 'wholly': 1, 'smokes': 4, 'bearcatnation': 1, 'bav': 1, 'cb': 1, 's6': 1, 'inhabited': 1, 'gaulle': 1, 'uo': 2, 'gen': 4, 'collectively': 1, 'yawned': 1, 'wufoo': 1, 'wally-world': 1, 'sheila': 1, 'drumming': 1, 'sondra': 1, 'castello': 1, 'imprinted': 1, 'sunglass': 1, '12-month': 1, 'ymca': 4, 'metropolitan': 1, '71037': 1, 'sx': 2, 'supercross': 1, 'gghh': 1, 'homers': 2, 'tying': 2, \"'up\": 1, 'yangtze': 1, 'attendence': 1, 'nicaragua': 1, 'pups': 2, 'creativemitigation.com': 1, '.textile': 1, 'filename': 1, 'maddie..talking': 1, 'loraine': 1, 'meech': 2, 'whitened': 1, 'engravings': 1, 'pecan': 1, 'northwoods': 1, 'plains': 1, 'farms': 1, 'magnolia': 1, 'thunderpussy': 1, 'marquis': 3, 'kotchman': 1, 'rbi': 2, '1-0': 1, 'golfers': 2, 'chevy': 5, 'wheeling': 1, 'mtvs': 1, 'bkprtip': 1, 'grt': 2, 'slapped': 6, \"d'anna\": 1, 'ish': 8, 'underneth': 1, 'bartab': 2, 'directly..': 1, 'rescues': 1, 'hbds': 1, 'replying': 5, 'vm/email': 1, \"'best\": 1, 'rites': 1, 'farina': 1, 'steppenwolf': 1, 'barcode': 1, 'cicadaattack': 1, 'eerie': 1, 'boneless': 1, '3.99': 1, 'www.wausautogo.com': 1, 'prone': 2, 'coolmorning': 1, 'yeee': 2, 'bolt': 2, 'dapper': 1, 'borel': 1, 'iftheworldendsonsaturday': 1, 'rapture': 1, 'survivers': 1, 'smoothly': 3, 'pkwy': 1, 'father-in-law': 1, 'widow': 4, 'add/like': 1, 'tricks': 4, 'jillian': 2, 'gdla': 1, 'dorothy': 3, 'lucey': 1, 'idgaf': 4, 'rewriting': 1, '.gave': 1, '85.00': 1, \"'trouble\": 1, 'gangsta': 6, 'blastoff': 3, 'singles..': 1, 'deer': 1, 'ruby': 2, 'lenz': 1, 'callandresponse': 1, 'thu-sat': 1, '1-5': 1, 'platypus': 2, '*lol*': 1, 'scramble': 2, 'suppppperrrr': 1, 'duppperrrr': 1, 'vocabulary': 2, 'wheeww': 1, 'classes..': 1, 'fixin': 2, 'bein': 3, 'twink': 1, 'beloit': 1, 'snappers': 1, 'happythankyoumoreplease': 1, 'shoebox': 1, 'fbook': 2, '1000memories.com': 1, 'swea': 1, 'dee': 1, 'nausea': 1, 'shipment': 4, 'playdough': 1, 'oblivious': 1, 'mariners': 6, 'housewife': 1, 'weave': 1, 'leveraged': 1, \"'we\": 1, '12..': 1, 'turnovers': 1, 'missamerica': 1, 'swan': 2, \"'rita\": 1, 'sarcastic': 3, 'nixons/': 1, 'knee-depth': 1, 'shopsmall': 1, 'shoplocal': 1, 'edgy': 1, '.kisses': 1, 'hth2012': 1, 'noting': 1, 'professionalism': 1, '17.1': 1, \"'work\": 1, 'n/a': 1, 'avg': 2, 'fisher': 5, 'columnists': 1, 'welovegreyson': 1, '~~~': 1, 'yanno': 2, 'summeritis': 1, 'waaaaah': 1, 'confusing': 5, 'gained': 2, 'rink': 5, 'freestyle': 2, 'redo': 1, 'ardor': 3, 'mains': 1, 'squerril': 1, 'wale': 2, 'teamfitness.': 1, 'proudmahomie': 1, 'coasters': 1, 'racket': 1, 'paddle': 1, 'pardon': 4, '*continues': 1, 'naked*': 1, 'heartbreaking': 3, 'improvisation': 1, '92': 3, 'rests': 2, 'enshrined': 2, 'hof': 1, 'lydia': 4, 'knos': 1, 'slipping': 2, 'detox': 3, 'shindig': 3, 'unwrap': 1, '700th': 1, 'bloodybrunch': 2, 'desirea': 1, 'tonight.happy': 1, 'prty': 1, 'grange': 1, 'ellum': 1, 'nanaimo': 1, 'brownie-like': 1, 'variation': 2, 'stewardesses': 1, 'typed': 3, 'blackbird': 1, 'nevermidnd': 1, 'txting': 1, 'txted': 1, 'backlash': 2, \"gov't\": 3, 'renew': 1, 'no-longer-living': 1, 'aunts': 2, '*contemplative*': 1, 'gardner': 2, 'noo': 4, 'lexii': 1, 'taxidermy': 1, 'gowatch': 1, 'ttps': 1, '//www.youtube.com/watch': 1, 'v=3dyqrpnysyg': 1, 'feature=youtube_gdata_player': 1, 'reveals': 3, 'leaning': 3, 'rei': 1, 'geopolitics': 1, 'savior': 3, 'philanthropy': 3, 'teachable': 1, 'haribol': 1, 'prabhu': 1, \"'tirtha\": 1, 'paton': 1, 'gett': 1, 'gonnagocrazzzy': 1, '👌': 5, 'belimic': 1, 'spectrumpi.com': 1, 'coferinvestmentgrp.com': 1, 'douglasvilleb2b.com': 1, 'diebomb': 1, '17-21': 1, 'orchestra': 5, 'launches': 4, 'urbanlobstershackonwheels': 1, 'integration': 4, 'cincinn': 1, 'christina': 5, 'women..': 1, 'knitter': 1, 'integrated': 4, 'marijuana..': 1, 'neglected': 3, 'sneaking': 2, 'atleastitsjustified': 1, 'breakfastorlunch': 1, 'handler': 3, 'brianana': 1, 'belittle': 2, '~mark': 2, 'sbvillage': 1, 'staffed': 1, 'mulligan': 1, 'codebase': 1, 'prototype': 1, 'hochuli': 1, 'follwed': 1, 'craziness': 2, 'younow..': 1, 'supposedly': 4, 'pregame': 2, '.acceptable': 1, 'replaceamovietitlewithpenis': 1, 'toofunny': 1, 'vidal': 2, 'sasooning': 1, 'bryan': 7, 'tjs': 1, 'ventured': 1, 'non-kosher': 1, '3000': 4, 'chrondropro': 1, 'biosciences': 1, 'pubarch': 1, 'lethbridge': 1, 'repeal': 2, '1933': 2, 'tsk': 4, 'maroon': 2, 'twitches': 1, 'jumper': 2, 'senatorial': 1, 'wyoming': 1, '25000': 1, 'folowers': 1, 'unplugging': 1, 'assistant..nothing': 1, 'corporation': 1, 'toddler': 2, 'flinstone': 1, 'dial': 2, 'grizz-clips': 1, '6.': 4, 'mem-lac': 1, 'tens': 2, 'layoff': 2, 'mettaworldpeace': 1, 'globalization': 1, 'friedman': 1, 'thur': 2, 'intimate': 3, 'later..': 1, 'dispatch': 1, 'clarifications': 1, 'cbj': 1, 'evicted': 2, 'boreeeeddd': 1, 'skoo': 1, 'media/perfume': 1, 'co-own': 1, 'speedway': 1, 'goodwill': 1, 'www.giftoflights.com': 1, 'devante': 1, 'designz': 1, 'luby': 1, 'bragg': 1, 'stressing': 3, 'ganna': 2, 'nightynight': 1, 'plunging': 1, 'just-cooked': 1, 'ice-cold': 1, 'theorpheumtn': 1, 'addams': 2, 'mpt': 1, '3:30pm': 2, 'iconiacz': 1, 'granderz': 1, 'replacesongswithmindless': 1, 'impassioned': 1, 'schafly': 1, 'herbert': 1, 'prompter': 1, 'hubert': 1, 'chincoteague': 1, 'hack': 2, 'sampling': 2, 'emissions': 2, 'rewarded': 1, 'elem': 2, 'sizzlin': 1, 'erica': 3, 'krystal': 1, 'ck': 3, 'intellectually': 1, 'horse_': 1, 'zagat': 2, 'techno': 1, 'capita': 1, 'designstar': 1, 'well…': 1, 'cara': 1, 'secured': 2, '310': 1, 'okay..': 1, 'toledo': 4, 'headliners': 1, '12pm': 1, 'hyperlearning': 1, 'wheeler': 2, 'etextbook': 1, 'publishers': 2, 'opt': 1, 'tyt': 1, 'vending': 2, '640': 2, 'fingerprint': 1, '16365849108': 1, 'colombia': 2, 'madam': 2, 'putty': 1, 'mortar': 1, 'portland-cement': 1, 'mortars': 1, 'howell': 1, 'nb': 2, '7:35': 1, 'yayy.': 1, 'tv..im': 1, 'cabo': 2, 'singular': 1, 'nongendered': 1, 'pronoun': 1, 'grilld': 1, '5:00pm': 1, '9:00am': 1, 'goaltender': 1, 'daydreaming': 1, 'colonel': 1, 'foley': 1, 'whitey': 1, 'bulger': 1, 'gnna': 1, 'bragging..': 1, 'drilling': 2, 'businessweek': 1, 'acorn': 2, 'raspberry': 4, 'walk-in': 2, 'spaceship': 1, 'hybrid': 4, 'stella': 1, 'shrinking': 2, 'ambiance': 1, 'wines': 7, 'degustation': 1, 'galette': 1, 'seasoned': 1, 'overdone': 1, 'slab': 2, 'creamery®': 1, 'maggiemoo': 1, 'treatery®': 1, 'yo-bate': 1, 'sweeten': 1, 'balding': 1, 'zucchini': 2, 'lightly': 2, 'virgin': 3, 'stressfull': 1, 'shitface': 1, '2bygd': 1, \"'friend\": 3, 'muncie': 2, '-while': 1, 'prociam': 1, '🗽✈❤': 1, 'phiphioshitty': 1, 'todaii': 1, 'ault': 1, 'astonishing': 1, 'neh': 1, 'queensborough': 1, '500k': 1, 'kupferberg': 1, 'herbal': 1, 'mynsp.con/cleanstart': 1, 'alisonbechdel': 1, 'stunningly': 1, 'heartbreakingly': 1, 'poetic': 1, 'elegantly': 1, 'psychoanalytic': 1, 'brads': 1, 'r5.4': 1, 'impediment': 1, 'strict': 2, 'clickable': 1, 'echofon': 1, 'yikes..': 1, '37': 4, 'boggle': 1, 'blackberrys': 1, 'nyti.ms/tkk5hz': 1, 'b/4': 1, 'djing': 1, 'beatthestreak': 1, '-lance': 1, '6:40': 1, 'riders': 2, '2-0': 2, '200k': 2, 'soja': 1, 'shake.': 1, 'occupation': 2, 'towsondiner': 1, 'rumbling': 2, 'line/warren': 1, 'pero': 1, 'cnt': 2, 'slogan': 5, 'giveaways': 3, 'pop-ular': 1, 'veterinarian.having': 1, 'eastern': 4, '1-3pm': 2, 'anime/manga': 1, 'thy': 4, 'shakespeare': 1, 'viggle': 2, 'bobb': 1, 'lethal': 1, 'congratulate': 2, 'undergrad': 2, 'wfu': 1, 'on.fb.me/w496q2': 1, 'silvers': 1, 'kaman': 1, 'redneck': 2, 'assaulted': 1, '60s': 3, \"'tude\": 1, 'causers': 1, 'chick-flick': 1, 'heroine': 1, 'arbitration': 3, 'teresa': 2, 'dancer': 8, 'pretending': 6, 'posers': 1, 'inhabitants': 1, 'clime': 1, '481': 1, '..sent': 1, '2.0': 5, '\\\\': 6, 'interact': 2, 'dook': 1, 'turban': 2, 'cynthia': 1, 'see.': 1, '/lets': 1, 'marlo': 1, 'sweeping': 2, 'deploy': 2, 'askk': 1, 'bitchh': 2, 'blend': 7, 'rejection': 2, 'ales': 2, 'plur': 3, 'label': 9, 'conceived': 1, 'lilman': 1, 'actaully': 1, 'workn': 1, 'ciel': 1, 'person-i': 1, 'stabbing': 1, 'fred': 7, '3m': 1, '3.3m': 1, 'sums': 1, 'gota': 2, 'societal': 2, '.no': 7, 'fuckers': 2, 'weird-ass': 1, 'whine': 4, 'tylenol': 1, 'drift': 2, 'teeny': 3, 'dinan': 1, 'jamesgangskc': 1, 'hellyes': 1, 'teamyes': 1, 'visd': 1, 'dance/drill': 1, 'bids': 1, 'sugarland': 3, 'sue': 5, 'whynot': 1, 'nih': 1, '180': 2, 'mamamahone': 4, 'estival': 1, 'hibernal': 1, 'nmrealestate': 1, 'lopez': 2, 'needa': 6, 'walrus': 1, 'paralegal': 1, 'wakes': 1, 'alamos': 1, 'conchas': 1, '92,7000': 1, \"'aggressively\": 1, 'northward': 1, 'clara': 1, 'pueblo': 1, 'pronto': 2, 'attendants': 1, 'intimidating': 2, 'delays': 5, 'frig': 2, '1016': 1, 'announcment': 1, 'cnet': 3, 'dfeojm': 1, 'lastnignt': 1, 'webcamwindow': 1, 'soxs': 1, 'cheerleader': 1, '-holly': 1, 'lisle': 1, 'shelterislandmarina': 1, 'pacificvoyagers': 1, \"america'scup\": 1, 'did-': 1, 'friends/coworkers': 1, 'furious': 4, 'sandpaper': 1, 'twany': 1, 'armpit': 1, 'tilting': 1, '2:45': 1, '.happy': 1, 'chambers': 1, 'exboyfriend': 1, \"o'brady\": 1, 'mke': 8, 'maritsek': 1, 'messgaed': 1, 'wsfa-tv': 1, 'ch.12': 1, 'ranking': 4, '.its': 2, 'volunteer': 15, 'sorts': 2, 'mentoring': 5, 'dumb-ass': 1, 'claddagh': 1, 'wednesdays': 4, 'crackalackin': 1, 'kimbros': 1, 'm.c.a': 1, 'dusted': 1, 'bash/expect': 1, 'cut-pasting': 1, 'shabby': 1, 'things…i': 1, 'gerrymandering': 1, 'undemocratic': 1, 'notions': 1, 'snazzy': 2, 'jing': 2, 'raquel': 1, '1937': 2, 'vi': 1, 'westminster': 2, 'done……lol': 1, 'janssen': 1, 'bothering': 5, 'swayze': 2, 'aggravation': 1, \"'n\": 4, '.my': 2, 'overcooked': 1, 'harbaugh': 1, 'spoilleralert': 1, 'underemployed': 1, 'handing': 4, 'att': 3, 'dbhh': 1, 'americanalienep': 1, 'wifes': 1, 'girlfriends': 3, 'stryke': 1, 'q7': 1, 'descriptions': 1, 'positions': 8, 'work/study/volunteer': 1, 'shutout': 2, 'f*cking': 1, 'bitching': 4, 'cancels': 3, 'vmworld': 1, 'imperfections': 2, 'folds': 1, 'oopsy': 1, 'undergraduates': 1, 'millenniumm..with': 1, 'tones': 2, 'haskell': 1, 'truenorth': 1, 'predetermined': 1, 'unfunny': 1, 'apologizes': 1, 'creepin': 1, 'awkward..': 1, 'phones/devices': 1, 'gravitating': 1, 'bhoops': 1, 'pipster': 1, '2way': 1, 'dialogue': 3, 'mid-week': 1, 'reprieve': 1, 'facepalmed': 1, \"'drinking\": 1, 'perch': 1, 'slime': 2, 'disguised': 3, 'sophistication': 2, 'biology': 5, 'terrell': 1, 'suggs': 2, 'goodell': 6, 'offseason': 2, 'pattys': 1, 'day-stop': 1, 'cupcakes-come': 1, 'party..': 2, 'tdameritrade': 1, 'towne': 1, 'muffin': 1, 'unfucking': 1, 'hectic': 3, 'www.tncnews.com': 1, 'mizzou': 2, 'reckoned': 2, 'angelacorey': 1, 'reasonabledoubt': 1, 'solenoid': 1, 'vdc': 1, 'electronics': 2, 'burrs': 1, 'evaluated': 1, 'overload': 2, 'sebi': 1, 'hierarchy': 1, 'isolated': 2, 'skin.': 1, 'elyse': 1, 'draper': 3, 'freewill': 2, 'blowjob': 2, \"'called\": 1, 'trannys': 1, 'paradigm': 1, 'gardens': 3, 'regretted': 2, 'halas': 1, 'mraz': 1, 'sql': 4, 'one…': 1, 'completly': 2, 'wre': 1, 'xcel': 1, 'outages': 2, '33,000': 1, '1,600': 1, '💯': 1, 'outlet': 3, 'misunderstanding': 1, 'enlightenment': 1, 'ffs': 1, 'rowdy': 1, 'teenage': 2, 'loudly': 4, 'taija': 1, 'nelly': 1, 'nfais': 1, 'philosophy': 3, 'demons': 2, 'tomtom': 1, 'cold..but': 1, 'be..microwaving': 1, 'twisted': 3, 'sinatra': 1, 'theyre': 3, 'ponytail': 1, 'updo': 1, 'ifitellyou': 1, 'htn': 1, 'snafus': 1, 'robustness': 1, 'delhi': 2, 'ualbany': 1, 'verge': 2, 'fidi': 1, 'gore': 2, 'www.ted.com': 1, 'fouled': 2, '14.4': 1, 'budapest': 1, 'yw': 1, 'fluttering': 1, 'pootin': 1, '6oclock': 1, 'evolution': 3, 'thegameplayshouldbemorerealistic': 1, 'mubarak': 1, 'arrow': 3, 'thingys': 1, 'methhead': 1, 'socialcam': 1, 'alzheimer': 1, 'defenderfest': 1, 'pulsing': 1, 'synthesizer': 1, 'drumbeat': 1, 'p-orridge': 1, 'declaim': 1, 'surrounding': 2, 'discipline': 4, 't-shirts': 3, 'dubose': 1, 'jansen': 1, '3.75': 1, 'jager': 1, 'lonestar': 3, 'refill': 5, 'varner': 1, 'writtings': 1, 'tomsmithguitarist.com': 1, 'mw2012': 3, 'musesocial': 2, 'overeating': 1, 'norman': 4, 'peale': 2, 'levelup': 1, 'tenacity': 1, 'finicky': 1, 'tshirtstoprint': 1, 'cdstomake': 1, 'goodproblem': 1, 'cd/dvd': 1, 'mangoes': 1, 'zooming': 1, 'overused': 1, 'tastefully': 1, 'settlers': 1, 'catan': 1, 'hopin': 2, 'forgettin': 1, 'tabulate': 1, '^': 3, \"'gamechanger\": 1, 'disqualified': 1, 'babes': 2, 'swims': 3, 'wpt': 2, 'latb': 1, 'wfh': 1, 'sketchers': 1, 'georgebush': 1, '-briana': 1, '😁': 6, 'www.just-plug-in.com': 1, 'hartnell': 1, 'cardiologist': 1, '2my': 1, 'bestiieee': 1, 'rightnow': 1, 'cz': 1, 'idont': 1, 'labtop': 1, 'xplain': 1, 'l8r': 2, '11,000': 1, \"'actor\": 1, \"'check\": 1, 'lml': 4, '03/21/12': 1, 'lg': 2, 'meatball': 1, 'nathanfletcher': 1, 'st.he': 1, 'diego.vote': 1, \"tw'eeps\": 1, 'should/could/would': 1, 'eep': 1, 'noms.shout': 1, 'harmonyjon': 1, 'traxxx': 1, 'conrad': 3, 'mez': 1, 'grave.you': 1, 'heart-broken': 1, 'clayton': 1, 'kershaw': 2, '6:00am': 1, 'prophetic': 1, 'judice': 1, 'hoya': 1, 'saxa': 1, 'ha..': 1, 'wcf': 1, \"'10\": 1, 'petcemetery2': 1, 'unclear': 2, 'ducts': 1, 'loveseats': 1, 'menudo': 1, 'yam': 1, 'nordstrom': 1, 'cheerios': 2, 'juxx': 1, 'slapping': 2, 'cont…': 1, 'waitt': 1, '08': 2, 'foh': 3, 'werner': 1, 'robbie': 3, 'beaterville': 1, 'scaryy': 1, 'jenkins-based': 1, 'automation': 1, 'loling': 1, 'hottip': 1, 'pud': 1, 'mai': 1, 'mercadito': 1, 'genealogists': 2, 'shirmp': 1, 'ceviche': 1, '💔😭': 1, 'indonesia': 2, 'chimney': 2, \"'perry\": 1, 'como': 2, 'inspection': 1, 'heaters': 1, 'raftering': 1, 'frothy': 1, 'mixture': 1, 'appropriately': 2, 'jr.': 3, 'mario-gherita': 1, 'ripened': 1, 'rhetorical': 1, 'skcnation': 1, 'darlo': 1, 'frontman': 1, 'isabel': 1, 'burlap': 1, 'flats': 1, '5.5': 2, 'pisses': 5, 'wisn12': 1, 'afternoon.twitter': 1, 'i.got': 1, 'some.much': 1, 'ra': 2, '1944': 4, 'sussman': 1, 'simcox': 1, 'councilmember': 1, '79th': 1, 'jacuzzi': 1, 'poopy': 2, 'terminal': 2, 'coping..': 1, 'sorry..': 1, 'gahhh': 1, 'soaked': 2, 'bark': 2, 'humane': 2, 'h.i.t': 1, 'interval': 2, 'done4': 1, 'pimpin': 1, 'gel': 3, 'mobileapp': 1, 'vaginal': 1, 'prolapse': 1, 'topofthe4thpage': 1, '300k': 2, 'shadows': 3, 'undeniably': 1, 'val': 2, 'seedling': 1, 'postpone': 3, 'ecofriendly': 1, 'weak..': 1, 'mallory': 1, 'scotus': 2, 'justices': 1, 'health-care': 1, 'ruling': 1, 'evolving': 2, 'flipflopping': 1, '4197': 1, '44144.': 1, 'fulton/f.prkway': 1, 'pitchoff': 1, 'kirk/spock': 1, 'amok': 1, 'tpa-dtw-ind': 1, 'renegade': 2, '1stclassband': 1, 'plume': 1, 'plugged': 2, 'blinking': 2, '.guess': 1, 'www.stepupfns.com': 1, '.to': 1, 'vehicles': 3, '20,000': 1, 'nissan': 2, 'leafs': 1, 'diegans': 1, 'jaden': 3, 'metropark': 1, 'primetime': 2, 'tok': 1, 'shampooing': 2, 'steam': 2, '412': 1, 'choosing': 6, 'emitted': 1, 'lamps': 1, 'weirdo': 1, 'ypo': 1, 'vent': 3, 'masterfile': 1, '1897': 1, 'lippincott': 1, 'illwilled': 1, 'punny': 1, 'thepeche': 1, 'st.patricks': 1, 'lost..': 1, \"lmao'n\": 1, 'doze': 1, '86132': 1, 'tutors/students': 1, 'amptoptrend': 1, 'whaat': 2, 'futureactress': 1, 'prostitutes': 2, 'lmfaooooooooooo': 1, 'pfleger': 1, 'ez': 1, 'www.video-tv-email.com': 1, 'strategy.rsvp2come': 1, '814pm': 1, 'live-web-demo': 1, 'paradizzle': 1, 'pitcher': 6, 'haren': 1, 'pitched': 2, 'helluva': 4, '1500': 1, 'dragonsong': 1, 'joycevalenza': 1, 'nook': 2, 'note-to-self': 1, 'metropcs': 2, 'throttling': 1, 'lorenzi': 1, 't9': 1, 'cellphone': 2, 'shunned': 1, 'outcast': 1, 'crans': 1, 'storyline': 1, 'articulate': 3, 'testers': 1, 'basicquestion': 1, 'behavioral': 2, 'collinearity': 1, 'regress': 1, 'components': 2, 'devotion': 2, 'eddy': 1, 'posehn': 1, 'boon': 1, 'shaka-laka': 1, 'cahuenga': 3, 'morels': 1, 'otherside': 1, 'anecdote': 1, 'fri/sat': 2, 'crowds': 4, 'unused': 2, 'bunnies': 2, 'complicate': 2, 'insulted': 2, 'teamjolene': 1, 'co-hosting': 2, 'becuase': 2, 'coference': 1, 'everbank': 1, 'ipo': 3, 'closes': 6, 'matusz': 2, 'anita': 1, 'predictive': 1, 'invention': 2, 'p.t': 1, 'vining': 1, 'traumatic': 2, 'interventions': 1, 'loosing': 3, 'fucksless..': 1, 'suitcase': 2, 'rubicon': 2, 'on-demand': 1, 'whatchu': 1, '8/23/2010': 1, 'businessblogs': 1, 'iirc': 1, 'warmest': 2, 'viewpoint': 1, 'psyched': 4, 'all-time': 5, 'greats': 4, 'joehammond': 1, 'jumpshot': 1, 'bombed': 2, 'questions/responses': 1, 'aggressively': 1, 'depended': 1, 'horribly': 1, 'heed': 1, '~georgia': 1, 'knots': 1, 'dawning': 1, 'entering': 4, 'falcons': 3, 'roddy': 1, 'mfukas': 1, 'owls': 2, 'hoy': 1, 'the90': 1, 'rollins': 1, 'television': 10, 'scale': 9, '1-10': 2, 'battles': 3, '3/14': 1, 'tabbed': 1, 'castillo': 1, 'coordinator': 2, 'axl': 2, 'claus': 2, 'santacon': 2, 'hundreds': 1, '10-block': 1, 'radius': 2, 'wdytya': 1, 'mamaisa': 1, 'cancun': 1, 'mothah': 1, 'fuckaaahsss': 1, 'letterman': 1, 'punished': 2, 'disciplined': 1, 'cuisine': 2, 'sensei': 2, 'contagion': 1, 'twitpic.com/4g2t8k': 1, 'mayb': 1, 'stlwx': 1, 'infrequent': 1, 'lambert': 3, \"int'l\": 2, 'm/o': 1, 'washer': 2, 'ornery': 1, 'nightfrost': 1, 'henrietta': 1, 'rash': 1, 'hours..': 1, 'writingsprint': 1, '30min': 1, 'deadpan': 1, 'jarmusch': 1, 'solitary': 1, 'stalks': 3, 'sons': 4, 'listenin': 3, 'g.q': 1, 'disco': 3, 'rock-nights': 1, 'jacksons': 2, '*live': 1, 'dancepartyinmymind': 1, '*everything': 1, 'stuip': 1, 'matress': 1, 'stor': 1, 'slep': 1, 'xocai': 1, 'gains': 1, '128': 1, 'mlmrankings': 1, 'w.myxocai.com/71376': 1, 'so..are': 1, 'my..i': 1, 'stanlee': 1, 'gatti': 1, 'irl': 2, 'hacking': 2, 'mcgraw': 1, '😖😡👎': 1, 'rudeness..': 1, 'middleclass': 1, '75/month': 1, 'curator': 1, 'furiosity': 1, 'summer/fall': 1, 'kimmel': 3, 'tired-______-time': 1, 'meemees': 1, 'strollers': 1, 'sitars': 1, 'pianos': 1, 'nonstop': 2, 'clucking': 1, 'hens': 2, 'keepinupwiththekardashians': 1, 'tought': 1, 'networkers': 1, 'rennee': 1, 'skinnier': 1, 'clasico': 1, 'barcelona': 3, 'goltv': 1, 'elejah': 1, 'doomed': 3, 'pairings': 3, 'performed': 2, 'undergrads': 2, '-barbara': 1, 'angelis': 1, 'hookas': 1, 'ncte': 1, 'soak': 1, 'movember': 1, 'roommates': 1, 'calculators': 1, 'miners': 2, 'stages': 2, 'federalist': 1, '2013.': 2, 'sacked': 1, 'pompey': 2, 'tevez': 1, 'jerzzzzz': 1, 'jeopardy': 1, 'helpless': 1, 'unborn': 2, 'backdrop': 1, 'increasing': 4, 'dvds..': 1, 'gobstoppers': 1, 'morag': 1, 'jajaja': 1, '👍👌in': 1, 'sauna/steam': 1, 'errands/car': 1, 'runkeeper': 1, 'www.runkeeper.com': 1, 'valuables': 1, 'roenick': 1, 'refil/reuse': 1, 'cartridge': 1, '2.00': 1, '/yard': 1, 'www.genxvapor.com': 1, 'bowery': 1, 'e-party': 1, 'dominic': 1, 'fotos': 1, 'continuing': 6, 'tingling': 3, 'manno': 1, 'sspu': 1, '_begley': 1, '8.': 2, 'dancemoms': 2, 'prof.': 2, '😝📖': 1, 'charities': 1, '5p': 1, 'ibm': 3, 'demonstrating': 2, 'earth..': 1, 'dese': 1, '__': 1, 'brownswood': 1, 'crate': 4, 'diggers': 1, 'yoooorrk': 1, 'directioners': 2, 'omegle': 2, 'terrential': 1, 'rainfall': 1, 'dtv': 2, 'citations..': 1, 'celebrations': 2, '*course*': 1, 'outdo': 1, 'demographic': 1, 'splash': 1, 'beantown': 2, 'lookalike': 1, 'establish': 1, 'stiff': 4, 'redbirds': 1, 'a-ok': 1, 'hebron': 2, 'attackers': 1, 'zetter/wired': 1, 'barn': 4, 'swear..': 1, 'track..': 1, 'hayleigh': 1, 'convos': 2, 'paczkowski/allthingsd': 1, 'stating': 2, 'birthers': 1, 'moonstruck': 1, 'rg3overluck': 1, 'bledsoe': 2, 'instinct': 1, 'availabl': 1, 'samoa': 1, 'four-post': 1, 'honoring': 4, 'www.woundedwarriorproject.org': 1, 'holdengraber': 1, 'cognitive': 2, '*read*': 1, 'afterward': 1, 'guys💗': 1, 'hrderby': 1, 'exhilarating': 1, 'revving': 1, 'out…': 1, 'lesser': 3, 'obesity': 4, 'avant': 1, 'f3': 1, 'overlooked': 2, 'larghoawerhitgpawrbe': 1, 'rotunda': 1, 'shoeless': 1, 'elze': 1, 'dat-': 1, 'sayz': 1, 'haz': 2, 'labelz': 1, 'fud': 2, 'rememberz': 1, 'marketing/pr': 1, 'deciding': 5, 'modify': 1, 'playback': 1, 're-encode': 1, '100x': 2, 'ticketed': 1, 'performin': 1, 'nugent': 4, 'promoter': 1, 'questionably': 2, 'treasonous': 1, 'doctrine': 2, 'tami': 2, 'inch': 1, 'okra': 1, 'slaw': 1, 'hondaclassic': 1, 'westwood': 1, 'schwartzel': 1, 'mcdowell': 1, 'fowler': 1, 'toe': 6, 'bailbondsman': 1, 'broward': 2, '786-445-2171': 1, 'hubachi': 1, 'els': 1, 'pre-amp': 1, 'reckon': 1, 'gronkowski': 1, 'pouting': 1, 'vipe': 1, 'roaches': 1, '😒👎': 1, 'vaca': 3, 'maarten': 1, 'uncertainty': 2, 'manageable': 1, 'thnkin': 1, 'rippin': 2, 'dripping': 2, 'choosy': 1, 'carved': 1, 'knoo': 1, 'espnradio.com': 1, 'wud': 3, 'cincodemayweather': 1, 'vino': 1, 'drills': 1, '5-11': 1, '-jared': 1, '3your': 1, 'amazing..': 1, 'planted': 3, '..here': 2, 'wwhl': 1, 'footer': 1, 'duke': 6, 'oauth': 2, 'clearer': 2, 'devexp': 1, 'ancho': 1, 'hamburger': 3, 'lehrer': 1, 'amnesty': 1, 'balances': 2, 'customers..': 1, 'comcast': 9, 'lmfaaoo': 1, '.-': 2, 'ows': 3, 'otherwise..': 1, 'ialwayswonderif': 2, 'notify': 1, 'inaction': 1, 'fear~': 1, 'agels': 1, 'lanes-': 1, 'disregard': 2, 'fuuuccckkk': 1, 'dentistry': 1, 'happenings': 3, 'f-35': 1, 'escort': 1, '69822': 1, '222-9800': 1, 'migraine': 2, 'owners/managers': 1, 'entrance': 4, '..are': 1, 'raining..i': 1, 'geeks': 3, 'anywayz': 1, 'shhh': 1, 'school.it': 1, 'proofing': 1, 'realtors': 1, 'manmade': 1, 'structures': 1, '140cuse': 1, 'mid-december': 1, 'whitegirl': 1, 'rhyme': 5, '123rd': 1, 'selects': 1, 'rashad': 1, '32768': 1, 'icalendar': 1, 'tris': 1, 'd-league': 1, 'wm': 1, 'swswi': 1, 'rizvi': 1, 'day/week..': 1, 'zanna': 1, '20th-29th': 1, 'amtrak': 3, 'tomarro': 1, 'surfing': 2, 'snorkeling': 1, 'hiking': 3, 'advancing': 3, 'stanleycup': 1, 'sens': 1, 'biebet': 1, 'bratwurst': 1, 'herbivores': 1, 'mulholland': 1, 'indecipherable': 1, 'sontag-esque': 1, 'burlesque': 1, 'corset': 1, 'petticoat': 1, 'photoaddict': 1, 'plouffe': 1, 'remaining': 6, 'embers': 2, 'foxwell': 1, 'adamsrite': 1, 'makita': 1, 'cordless': 1, 'powerdrive': 1, '978': 1, '1023': 1, 'measuring': 1, 'gauge': 1, '-hard': 1, 'froggy': 1, '104.9': 1, 'frankfort': 1, 'hilton-style': 1, 'cabana': 1, 'plates': 6, '4/1': 1, 'addys': 1, 'eug': 1, 'raider': 1, 'signsyoulostafight': 2, 'positive..': 1, 'emmys': 1, 'treme': 1, '1945': 2, 'heartbreak': 1, '2321': 1, 'dolph': 1, 'lundgren': 1, 'stashhouse': 1, 'icantlivewithout': 1, 'monde': 1, 'duderstadt': 1, 'winestorm': 1, 'oooe': 1, 'dice': 3, 'carbon': 2, '26,000': 1, 'bombers': 1, 'friend/mentors': 1, '2024': 1, 'beaners': 1, 'answer..': 1, 'unlocks': 1, 'mayfield': 1, 'zulegar': 1, 'cool..so': 1, 'softly': 4, 'atonement': 1, 'sleep-in': 1, 'sacrament': 1, 'clubbing': 1, 'cigarettes': 3, 'scratchers': 1, 'danish': 1, 'shifted': 1, 'tweetbot': 2, 'horrendous..': 1, '750gb': 1, 'imovie': 2, 'patiently': 2, 'tram': 1, 'punks': 1, 'osu/duke': 1, 'kirby': 1, 'genetics': 1, 'malnourished': 1, 'terrellowens': 1, 'steph': 2, 'defenseless': 2, '**www.myspace.com/bekabronkmusic': 1, '**': 2, 'hating/being': 1, 'occasion': 1, 'cuddly': 1, 'braxton': 2, '777': 1, 'haas': 1, 'metering': 1, 'adapters': 1, 'utilities': 2, 'basemen': 1, 'shipping..': 1, 'baggage': 3, 'caron': 2, 'bracelets': 3, 'twitcam': 3, 'drem': 1, 'comfy': 2, 'barfield': 1, 'deadass': 1, 'negotiating': 3, 'easy..2': 1, 'today..fun': 1, 'isisclassifieds.com': 1, 'reaching': 7, 'abridged': 1, 'evanescence': 1, 'post-patch': 1, 'conquest': 1, 'afternoon/evening': 1, '253': 2, '243k': 1, 'mrs.wilcox': 1, 'cloudy': 7, 'valleys': 1, 'bringin': 1, 'boothe': 3, 'avenger': 2, 'wilkes': 1, 'loveletter': 1, 'mcve': 1, 'greedy': 3, 'sunday~': 1, 'sw3': 1, 'storagewarsseason3': 1, 'kerryman': 1, 'solos': 1, 'merriest': 1, 'christmases': 1, 'diddy': 3, 'tracker': 1, 'reliability': 2, 'hbos': 1, 'confound': 1, 'rimmed': 1, 'treehorn': 1, 'non-existent': 1, 'tolerate': 1, 'eliminating': 2, 'distractions': 3, 'retreat-sat': 1, '8/27': 1, '8:30am-4': 1, 'crowneplazahotel': 1, '-o': 2, \"'issue\": 1, 'theriot': 1, 'imac': 2, 'warranty': 1, '.say': 1, 'them..bahahaha': 1, 'd-rose': 1, 'rotl': 1, 'understand..': 2, 'regulator': 1, 'vacuum': 4, 'exxon': 1, 'messge': 2, 'xs': 1, 'avicii': 1, 'colorful': 3, 'foliage': 1, 'scenery': 1, 'questioning': 2, 'reminiscent': 1, 'langford': 1, 'pashaa': 1, 'trendy': 2, 'funn': 1, 'best~': 1, 'yur': 7, 'othersifly': 2, 'blinked': 2, 'like30': 1, 'fleece': 2, 'oard': 1, 'fareal': 1, 'damn..i': 1, 'kelowna': 1, 'repute': 1, 'year-round': 1, 'dcgop': 1, 'desperation': 3, 'deerfield': 3, 'princeton/green': 1, 'co-oping': 1, 'alc': 2, 'unnecessaryhashtaggery': 1, 'shortening': 1, '20.': 2, 'verbs': 1, '1000ad': 1, 'interstate': 1, 'hatchet': 1, 'homelessdogmusic': 1, 'grime': 2, 'macfixit': 1, 'prankingdelilah': 1, 'screeners': 1, 'marqueal': 1, 'kiva': 1, 'slater': 2, 'clifbar': 1, 'arsenic': 1, 'nicar': 1, 'wil': 3, 'patriotic': 1, 'sob': 2, 'mur-ca': 1, 'redwhite': 1, '***hating': 1, 'energy***': 1, 'twilightquiz': 1, 'edition..for': 1, 'blade': 1, 'va.': 2, 'senseless': 2, 'imaginary': 5, 'show..': 1, '3.1': 2, 'sack': 3, 'cg': 2, 'reshape': 1, 'self-image': 1, 'renting': 1, 'dez': 1, 'inclusives': 1, 'stunting': 1, \"'turnaround\": 1, \"'deckchair\": 1, 'orange-': 1, \"'fanning\": 1, 'oldetownstadium': 1, 'nico': 2, 'domestic': 1, 'olstad': 1, 'biitch': 1, 'damage': 6, 'gmen': 1, '44': 3, '//omg': 1, 'meg': 2, 'g+': 4, 'luckserious': 1, 'bethroom': 1, 'lining': 2, 'hoapital': 1, 'littel': 1, 'hubspot': 2, 'resulted': 1, 'staaaaarrrrvvviiinnnggg': 1, 'isolationism': 1, 'projected': 4, 'diplomacy': 2, 'fundamentals': 1, '7:1': 1, 'cherrypick': 1, 'daly': 2, 'vcr': 1, 'therapist': 4, 'not..still': 1, 'tomo': 1, 'responsive': 1, 'physiology': 1, 'skaters': 1, 'unprecedented': 1, 'etiquette': 4, 'hyperventilating': 1, '4yrs': 1, 'webinno': 1, 'antioxidants': 3, 'neutralize': 1, 'radicals': 2, 'iprov': 1, '9:30pm': 1, 'hip-hop': 4, 'padre': 1, 'mika': 1, 'miyazato': 1, '3:15pm': 1, \"ihopechristinadoesn'tshowup\": 1, 'wantabe': 1, 'genital': 1, 'herpes': 2, 'techniques-use': 1, 'reachable': 1, 'strategize': 1, \"neophyte'ness\": 1, 'brzezinski': 1, 'demonize': 1, 'problms': 1, 'advise': 1, 'mediate': 1, 'zen': 1, 'cooks': 3, 'pretzel-like': 1, '¡hoy': 1, 'noche': 1, 'carne': 1, 'tremula': 1, 'supermodel': 1, 'killcullen': 1, 'eras': 1, 'clu-in': 1, 'gt': 4, 'fedbizopps': 1, 'yourfavoritemartian': 1, 'scab': 1, 'hauntingly': 2, 'ineedtoknow': 1, 'accountant': 1, 'ifyouknowmeyouknow': 1, 'reggy': 1, 'big-': 1, '28th': 5, '9–11am': 1, 'de-stress': 1, 'smirnoff': 1, 'cincodemayo': 4, 'berets': 1, 'swigging': 1, 'viva': 6, \"bc'ers\": 1, 'nyg': 1, '1862': 1, 'longstreet': 1, 'mcclellan': 2, 'ozarks': 1, 'attracted': 6, 'starks': 1, 'ush': 1, 'spontaneous': 4, 'majored': 1, 'elderly': 3, 'fucked..': 1, 'blob': 1, 'particle': 1, 'mezz': 1, 'k-117': 1, 'any1': 4, 'seasonal': 2, 'week-long': 1, 'ordeal': 4, 'benlysta': 1, 'kenzdoll': 1, 'collin': 1, 'loose.': 1, 'well.promise': 1, 'gime': 1, 'commitment': 3, 'putt': 5, 'reidy': 1, '61': 1, 'reentered': 1, 'befall': 1, '1832': 2, 'itsinsanehow': 2, 'you..and': 2, '3hunna': 1, 'two-a-days': 1, 'crazy-legs': 1, 'wright': 5, 'blatter': 1, 'icantstandpeople': 1, 'jelena': 2, 'ltdarmy': 1, 'unrest': 1, 'stoner': 2, 'precalc': 1, 'fearlessly': 1, 'feminine': 1, 'ruiz': 1, 'virginians': 1, 'detention': 1, 'deportation': 1, 'kort': 1, 'katniss': 1, 'thurston': 1, 'arrows': 1, '2/7': 1, 'voxer': 2, 'thugh': 1, 'sheriffs': 1, 'plai': 1, 'revamped': 1, 'union-tribune': 1, 'p4kfest': 1, 'daft': 1, 'lollapalooza': 1, 'esplode': 1, 'zum': 1, 'klo': 1, 'tweetyour16yearoldself': 1, 'morale': 2, 'arouses': 1, 'price.': 1, 'colman': 1, 'cox': 1, 'back..': 3, 'mm': 4, 'mules': 1, 'beatty': 1, 'gymnastics': 2, 'occupysd': 2, 'top-read': 1, 'avs': 2, 'goalie/': 1, 'cba': 1, 'a-ville': 1, 'adriatic': 1, 'masking': 1, 'sequence': 1, 'viewpoints': 1, 'ax': 1, 'hives': 1, 'neeson': 1, 'yohan': 1, 'cabaye': 1, 'hatem': 1, 'arfa': 1, 'catt/ally': 1, 'branded': 1, 'www.artisansgonegreen': 1, 'psu': 3, 'hittu': 1, 'evahhhhh': 1, 'improbably': 1, 'exciting..': 1, 'w/couple': 1, 'ant': 4, 'tellin': 1, 'obedience': 3, 'wedded': 1, 'loft': 5, 'gaslamp': 1, 'jockstrap': 1, 'sc2': 2, 'cod': 3, 'penpal': 1, 'directionator..': 1, 'a2': 4, 'mitchell': 3, 'depot': 3, 'defiance': 2, '3.63': 1, 'edemocracy': 1, 'grows': 5, 'half-vegetarian': 1, 'streeter': 2, 'albas': 1, 'warmers': 2, 'fragrances': 1, 'nair': 1, 'shampoo': 2, 'ocho': 1, 'bamboo': 1, '2chainz': 1, \"i'n\": 1, '-give': 1, 'kayne': 1, 'bdo2012': 1, 'hourglass': 1, 'glued': 4, 'ethnic': 3, 'pageants': 1, 'parsley': 1, 'munch': 1, 'minuet': 1, 'nigel': 1, 'pigeon': 1, 'casserole': 1, 'trifle': 3, 'abuses': 1, 'orlando-fl': 1, 'dever': 1, 'w/that': 2, 'yayayaya': 1, 'fah': 1, 'woodie': 1, 'den': 6, 'lolololol': 1, 'mhmmm': 1, 'www.aaron.tv': 1, 'osbourne': 1, 'morphed': 1, 'extentions': 1, 'jurors': 1, 'behavior.i': 1, 'rewatch': 1, 'frazier-ali': 1, 'performance..': 1, 'freezin': 1, 'exhaustion': 3, 'volatile': 1, 'brushes': 1, 'disservice': 1, 'suzanne': 1, 'ewwwww': 2, 'weaver': 2, 'plead': 2, 'animators': 1, 'a-ok..': 1, 'arcadia': 2, 'crowdbooster': 1, 'gram': 1, 'criticizing': 2, 'spo': 2, 'wins..': 1, 't-pain': 1, 'resort': 3, 'buckeye': 2, 'haha..': 2, 'quitting': 1, 'passionately': 2, 'palpably': 1, 'mencken': 1, 'rooftops': 1, 'jv': 2, 'highschool': 2, 'keifer': 1, 'shawna': 2, 'mickey': 6, 'mcilwain': 1, 'eggrolls': 1, 'stockton': 2, 'les': 8, 'decipher': 1, 'cannon': 2, 'caucus': 1, 'chernobyl': 1, 'imsickof': 1, 'glorifying': 1, 'reap': 1, 'hacky': 1, 'idk.u': 1, 'outskies': 1, 'dispel': 1, 'skool': 3, 'michaelcrichton': 1, '2008.': 1, 'noir': 2, 'chely': 1, 'u.k': 1, \"'texting\": 1, 'seal': 2, 'measly': 1, 'lcchoir': 1, 'howard-less': 1, 'comfort.lol': 1, 'w/passer': 1, 'cavanagh': 1, 'prez': 4, 'endorses': 2, 'premium': 4, 'gifs': 1, 'everyones': 2, 'f*ck': 1, 'bullsh*t': 1, 'fx': 1, 'crazzy..': 1, 'non-italian': 1, '..mi': 1, 'dispiace': 1, 'nympho': 2, 'coercive': 1, 'pixelated': 1, 'perrier': 1, 'delinquent-ly': 1, 'twittering': 3, 'estas': 1, 'mo-fo': 1, 'lovebirds': 1, 'wowp': 1, 'gottino': 1, 'spartan': 1, 'hoppy': 1, '2-7': 1, 'swabbed': 1, 'liang': 1, \"'free\": 1, \"'yeh\": 1, 'sex..': 1, 'dlc': 3, 'zolman': 1, 'luis': 4, 'chalas': 1, 'etech': 2, 'bomb-throwing': 1, 'anarchists': 1, 'jc': 7, 'penney': 2, 'quit/dropped': 1, 'photogs': 1, 'compress': 1, 'eles': 1, 'hm^': 1, 'worthit': 1, 'mtb': 1, 'rhubarb': 1, 'intriguing': 6, 'sdg': 2, 'ligh': 1, 'desolate': 1, 'spectrum12': 1, 'heartfelt': 2, 'redbox': 2, 'tuesday..': 1, 'fiasco': 1, 'worksheet': 1, 'cooling': 2, 'vdec': 1, 'seco': 1, 'shhhhhhhhhhh': 1, 'blackmon': 1, '0-updated': 1, 'prelims': 1, 'farwell': 1, 'line..but': 1, 'whovian': 1, 'n00b': 1, 'tuscan-vegetable-clean-out-the-fridge': 1, 'luscious': 2, 'preserve': 1, 'shtick': 1, 'wicker': 1, 'aggravated': 1, 'wonky': 1, 'honor..ca': 1, 'sm': 10, 'help-': 1, 'indiv': 2, 'titanium': 1, 'durability': 1, 'corrosion': 1, 'ruined..': 1, 'adaptations': 1, 'tulsa': 4, 'uni': 5, 'guernica': 1, '11/11': 2, '256': 2, 'honorarium': 1, 'illustrated': 3, 'cuny': 1, 'practically': 5, 'salivating': 1, 'mid-morning': 1, 'throwdown': 1, 'hootenanny': 1, 'inactive': 1, '1990s': 1, 'glamour': 4, 'crissy': 1, 'tobe': 1, 'barak': 1, 'spoiler': 2, '6-10a': 1, '101.5': 1, 'instructional': 2, 'tumblr..': 1, 'finch': 2, 'awwe': 1, 'sbux': 1, 'packets': 2, 'peppermint': 3, 'creamers': 1, 'teas': 2, 'paranormal': 2, 'ophthalmologist': 1, 'legggoooo': 1, 'budding': 1, 'darling': 8, 'tiles': 1, 'producing': 5, 'tutus*': 1, 'limitation': 1, 'actnow': 1, 'everybody..': 1, 'installing': 1, 'qupe': 2, 'nacido': 1, 'syrah': 3, 'reputation': 6, 'pre-employment': 1, 'independence': 4, 'salasny': 1, 'aggregated': 2, 'congressional': 4, 'ning': 1, 'networks-': 1, 'nings': 1, 'seesmic': 1, 'fieri': 1, 'maschine': 1, 'reigning': 1, 'victorious': 4, 'jackets': 1, 'clinch': 2, 'treehouse': 2, 'tele-town': 1, '877-229-8493': 1, '19380.': 1, 'idiot.♥': 1, 'matt_riggs': 1, 'pyromaniacs': 1, 'match.com': 1, 'ballard': 1, 'stadium-want': 1, 'verona': 1, 'argall': 1, 'luskin': 2, 'leenalu': 1, 'sassy': 1, 'unk': 1, 'hee': 2, 'correcting': 2, '*blushes*': 2, 'reimagine': 1, 'tzedakah': 1, 'obsessively': 1, 'keynoting': 1, 'authorspeak': 1, 'shyam': 1, 'das': 2, 'unbelievably': 2, 'ruled': 2, 'newyorkunderground': 1, '35k': 2, 'monetize': 1, 'encino': 1, 'skydrive': 1, 'imposes': 1, 'cross-platform': 1, 'planing': 1, '12stone': 1, 'meter': 1, 'charts': 4, 'builder': 4, 'escondido': 1, 'lured': 1, 'molesting': 1, 'hooray': 4, 'hybridity': 1, 'alt-ac': 2, 'protoss': 1, 'zerg': 1, 'terran': 1, 'bb13': 1, 'daniele': 1, 'brainstormer': 1, 'psst': 2, 'wrex': 1, 'halls': 2, 'baddjnames': 1, 'sniff': 2, 'birthdate': 1, '8.50': 1, '8:55.': 1, 'cardigan': 2, 'mentions/rts/ffs': 1, 'kiddos': 1, 'medicaid': 2, 'happier/healthier': 1, 'heatplayoffs': 1, 'strain': 3, 'that-i': 1, 'falut': 1, 'capi': 1, 'ariana100questions': 1, 'elections': 3, 'long-term': 1, 'kenny': 3, 'kapone': 1, '404-919-6705': 1, '-anna': 2, '7-year-old': 1, '😂😭': 1, 'cgeinfo': 1, \"'/..\": 1, 'runitlikeaboss': 1, 'sacks': 2, 'matchbox': 1, '12/25': 1, 'adv': 1, 'alone..': 1, 'u..i': 1, 'true..': 3, 'nothing..': 1, 'skimming/skipping': 1, 'assign': 1, 'moderation': 2, 'gl': 2, 'buyingintobmorewest': 1, 'diners': 2, 'drive-ins': 1, 'dives': 1, 'örhead': 1, 'teasing': 2, 'umc': 2, 'giffords': 1, '**please': 1, 'rt**': 1, 'reggie': 3, 'spaceships': 2, 'spaceships🚀🚀🚀🚀🚀🚀🚀': 1, 'glbtrt': 1, 'moyer': 3, 'papa': 3, 'smurf': 1, 'traits': 1, 'inherent': 1, 'cult': 2, 'dara': 1, 'norms': 1, 'shutz': 1, 'oa': 3, 'voom': 1, '3:35': 1, 'girls/boys': 1, '❤💛💚': 1, 'hepatitis': 1, '65': 5, 'infected': 1, 'tested': 4, 'firefly': 2, '937': 1, '729/9/7/': 1, 'blingin': 1, \"i'mfiverightnow\": 1, 'ww': 2, 'homey': 2, 'utah': 1, 'vices': 1, 'childress': 2, 'peed': 3, 'doan': 2, 'angus': 2, 'filet': 1, 'mignon': 2, 'harmony': 4, 'puma': 1, 'angelina': 2, 'gameofthrones': 2, 'preciado': 1, 'swtwtr': 1, 'trader': 6, 'wholefoods': 1, '25+': 1, 'loadin': 1, 'nastya/f': 1, \"od'n\": 1, 'touche`': 1, \"'08\": 1, 'reax': 1, 'electricity': 1, 'mirkopastatoco': 1, '678-704-2700': 1, 'q5': 2, 'ufc': 4, 'territory': 2, 'concord': 3, 'gunfire': 1, 'kickback': 1, 'vintage-prohibition-speakeasy-jazz': 1, 'club-': 1, 'themed': 2, 'purim': 1, 'www.savetodaycentral.com': 1, 'one-stop': 1, 'pickupline': 3, 'marroccan': 1, 'casablanca': 1, '62nd': 1, 'xcept': 1, 'civilians': 1, 'patriot': 2, 'openness': 2, 'hyper-transparency': 1, '8-12am': 1, 'welding': 1, 'milly': 1, 'pbr': 2, 'cans': 3, 'sidebar': 1, 'why/how': 1, '90,000+': 1, 'bale': 1, 'hails': 1, 'wales': 2, 'chars-plz': 1, 'homee❤': 1, 'historic': 5, 'jenolo': 2, 'stempel': 1, \"'showtime\": 1, 'enthusiasts': 1, 'cakewalk': 1, 'chlorophorm': 1, 'survives': 1, 'him/her': 1, 'totaled': 2, 'massivly..': 1, 'ho': 4, 'infatuation': 1, 'facebook/twitter': 1, 'kombucha': 3, 'delirium': 1, '9:30.': 1, 'ogden': 1, 'mustard': 3, 'skj': 1, 'fairness': 3, 'cram': 1, '31:30': 1, 'kickoff': 5, 'delaney': 1, '1.you': 1, '2.sing': 1, '3.you': 1, 'triple-threat': 1, 'disembodied': 1, 'thestantonsocial': 1, '-rachel': 1, 'terrorist': 2, 'manifesto': 2, 'no1': 1, 'arterial': 2, 'passable': 1, 'absolutly': 1, 'julius': 1, 'ides': 3, 'cookout': 1, 'bonfire': 3, 'supa': 1, 'itzalleyway2broadway': 1, 'datz': 2, 'bakk': 1, 'fifa': 2, 'edo': 1, 'defender': 1, 'defeater': 1, 'lords': 1, 'lastly': 1, 'dizzy': 1, 'swaying': 1, 'artistic': 2, 'discoveries': 2, 'a.peña': 1, 'hands-on/inquiry': 1, 'deny': 4, 'bgsd': 1, 'interns': 3, 'mysinatra': 1, 'homos': 1, 'tenant': 1, 'roster': 2, 'homegrown': 1, 'hoosier': 1, 'yinz': 1, 'exec': 4, 'farrell': 1, 'bistreaux': 1, 'fq': 1, 'willis': 3, 'programmed': 1, 'depaul': 3, 'secondlife': 1, 'sim': 2, 'improv': 7, 'grenadine': 1, 'fencing': 3, 'sabres': 2, 'yelper': 1, 'personalize': 2, 'oxymorons': 1, 'bumpin': 1, 'beasties': 2, 'whittier': 1, 'kev': 1, 'brandywine': 1, 'waukesha': 4, '—jersey': 1, 'walcott': 1, 'rotating': 1, 'dhs': 2, 'pitcher/salary': 1, 'asdfghjkl': 1, 'advertisers': 3, 'media-an': 1, 'newspapers': 1, 'teamtexans': 1, 'sharpe': 1, 'beangals': 1, 'rhonda': 1, 'richly': 1, 'iona': 1, 'play-in': 1, 'believeitornot': 1, 'quaker': 1, 'lube': 2, 'anti-injunction': 1, 'birbiglia': 1, 'faint': 1, 'paper-writing': 1, 'workwednesdays': 1, 'thief': 1, 'willfollow': 1, '*should*': 2, 'show-': 1, '15,7': 1, 'party-line': 1, 'behavior': 5, 'judged': 3, 'ks': 4, 'bbs': 2, '*that*': 1, 'ourself': 2, 'mofones': 2, 'greendale': 1, 'awaiting': 3, 'reanimation': 1, 'pattinson': 1, 'overstreet': 1, 'israeli': 2, 'demolition': 2, 'ulpana': 1, 'beit': 1, 'withh': 1, 'partyy': 1, 'usable': 1, 'montero': 2, 'scams': 1, 'interview..': 2, 'simpler': 4, 'quickbooks': 1, 'soups': 3, 'cheezy': 1, 'cauliflower': 2, 'disabled': 4, 'daiquiris': 2, '🍓': 1, 'superstore': 1, 'nicholasville': 1, 'out-bh': 1, 'vulture': 3, 'dolls': 1, 'hostess': 1, 'bookbinders': 1, 'upgrades': 2, 'sorryhuskies': 1, 'mii': 1, '.smh': 2, 'rhetoric': 3, 'studied': 1, 'software/sites': 1, '12hours': 1, 'floods': 3, 'twatching': 1, '🐒': 2, 'assert': 1, 'gerardo': 1, 'relatively': 1, 'done..followed': 1, 'justinherman': 1, 'all-irish': 1, 'rugby': 2, 'twickenham': 2, 'leinster': 2, 'idaho': 4, \"'esto\": 1, 'perpetua': 1, 'basque': 1, 'bit.ly/raed3p': 1, 'duval': 1, 'hfc': 1, 'ulaanbaatar': 1, 'on…': 1, 'juicy': 2, 'delectable': 2, 'opentil8': 1, 'experience/credibility': 1, 'dub': 1, 'orly': 1, 'sheppard': 1, 'michel': 2, 'benita': 1, 'spacewalk': 1, 'sci': 1, '383838': 1, 'publisher': 2, 'didn�t': 1, 'you�re': 1, 'neutral': 3, 'mysteriously': 1, 'tv-': 1, 'shurna': 1, '3-point': 1, 'shootout': 1, 'picksleague': 1, 'ia': 1, 'cunt': 5, 'vt.': 1, 'realest': 1, 'confined': 1, 'overdramatic': 1, 'unreasonable': 2, 'exaggerating': 1, 'unsensable': 1, 'girly': 3, 'fcat': 3, 'didnteven': 1, 'youknowwhatsannoying': 2, 'dialog': 1, 'rbc': 1, 'on.fb.me/rm9afd': 1, 'vigilant': 3, 'usi': 1, 'accord': 1, 'law.-': 1, 'bachys': 1, 'sunbelt': 1, 'oats': 3, 'granola': 3, 'restrooms': 2, 'phobias': 1, 'benny': 1, '5.8': 1, 'million+': 1, 'perpetual': 2, 'beachland': 1, 'ballroom': 4, 'agirldeserves': 2, 'also.—carl': 1, 'jung': 1, 'plata': 1, 'notified': 2, 'vics': 1, 'stacy': 1, 'phases': 2, '5/20': 1, 'cools': 2, 'haggaaaaaa': 1, 'blaylock': 1, '3..2..1': 1, '..ignition': 1, 'fiel': 1, 'elusiveness': 1, 'bees': 4, 'wynn': 4, 'controls': 1, 'jerome': 1, 'bronson': 1, 'instrumental': 2, 'quarantined': 1, 'seshh': 1, 'racinos': 1, 'deleo': 1, 'urgency': 1, 'vij': 2, 'vikram': 1, 'meeru': 1, 'dhalwala': 1, 'restaurant/chefs': 1, 'lj': 2, 'unseen': 2, 'perpetuating': 1, 'losangeles': 3, 'loitering': 1, 'ex-boyfriend': 1, 'royale': 1, 'century-': 1, 'contrast': 4, 'itinerant': 1, 'preacher': 1, 'mind.let': 1, 'bonet': 1, 'ta…': 1, 'addition': 11, 'boil': 1, 'whatimissmost': 2, '♡rt': 1, '4wordsbeforesex': 1, 'comparisons': 1, 'considers': 1, 'namesake': 1, 'argon': 1, 'radon': 1, 'gator/broncos': 1, 'spreadsheets': 1, 'iight': 2, 'kem': 2, 'kemistry': 1, 'handeled': 1, 'eleanor': 3, 'stout': 1, 'besse': 1, 'packet': 2, 'transmutate': 1, 'muddle': 1, '\\ue022': 1, 'innovator': 2, 'inventor': 1, 'juniper': 1, 'mmc': 1, 'larga': 1, '10-5': 2, 'arrests': 1, 'suspects': 1, 'shady': 3, 'dinosaur': 1, 'herbivore': 2, 'suegra': 1, 'blastin': 1, 'skippin': 1, \"o'hare\": 2, 'oy': 4, 'pauli': 1, 'voluntarily': 1, 'eroma': 1, 'erotic+romantic': 1, '4.99': 2, 'space..': 1, '*link': 1, 'here*': 2, 'fball': 1, 'thad': 1, 'matta': 1, 'lod': 1, 'nodes': 2, 'predicate': 1, 'jonvoss': 1, 'nypl': 2, 'self-confidence': 1, 'slickness': 1, 'itani': 1, 'far..': 2, 's.casper': 1, 'splinters': 1, 'knowingly': 1, 'smgdh': 1, 'buete': 1, 'ferdinand': 2, 'burns': 6, 'sagu': 1, 'deasel': 1, 'fisc': 1, 'journeys': 1, 'traveler': 3, 'unaware.': 1, 'buber': 1, 'philosopher': 2, 'trachsel': 1, 'strangest': 1, 'whenimbord': 1, 'huge/aspirational': 1, 'dan..': 1, '5-10': 2, 'nf': 2, 'horseshoe': 1, 'horrid': 2, 'crossings': 1, 'historian': 3, 'vertigo': 2, 'surreal': 2, 'hitchcock': 1, 'buñuel': 1, 'surrealism': 2, 'ironies': 1, 'bony': 2, 'kindest': 1, 'artsyest': 1, 'alwaysinarush': 1, 'eastbound': 1, 'dling': 1, 'eoc': 1, 'hilton': 2, 'wedges': 4, 'genealogy': 1, 'brick': 5, 'midas': 1, 'nekoosa/lancaster': 1, 'coachella2012': 1, 'free-ticket-fairy': 1, 'mmmmmmmmmmmmmhhhmmmm': 1, 'waken': 1, 'tryon': 1, 'aera2012': 2, '8:00.': 1, \"i'mma\": 1, 'usf': 1, 'well…compared': 1, 'moths': 2, 'grasshoppers…uh…bees/wasps…flies…': 1, 'intertwined': 1, 'twitterbots': 1, 'expat': 1, 'singapore': 1, 'yeeessss': 1, 'bit*hes': 1, 'strictly': 1, '70-something': 1, 'lima': 1, 'co-operation': 1, 'utilize': 4, '3c': 1, 'bart': 1, '106': 3, 'ciroc': 2, 'skill': 2, 'nexts': 1, 'xtra': 1, 'pinesol': 1, 'homeschooled': 2, 'immature': 3, 'april13': 1, 'nightshades': 1, 'l-deezy': 1, 'shaun': 1, 'holly': 4, 'frisco': 2, 'defective': 1, 'www.legallyspeaking.ca': 1, 'tomlin': 1, 'estacada': 1, 'compartments': 1, 'skateboarding': 1, 'jong': 3, '.300': 1, '5am': 3, 'sla2010': 1, 'kamikaze': 1, 'lafitte': 1, 'par': 4, 'moorea': 1, '11-7pm': 1, 'shabbat': 1, 'accolics': 1, 'communicate': 2, 'communicating': 2, 'wring': 2, 'epic…just': 1, 'airports': 2, '60th': 2, 'nyr+la': 1, 'lowest': 1, '7+6': 1, 'someting': 2, 'happeniing': 1, 'craftacular': 1, 'may27th': 1, 'ayvacenter': 1, 'twerk': 5, 'events/parties': 1, 'jude': 2, 'florida/georgia': 1, 'regretting': 1, 'rosebush': 1, 'kitten': 3, '15k..': 1, 'david..': 1, 'hammersly': 1, 'flavored': 3, 'cumin': 1, 'cinnamon': 5, 'earring': 2, 'rascalflatts': 1, 'strudel': 1, 'xoxoxo': 3, 'mints': 1, 'cryin': 1, 'payin': 1, 'grrrl': 2, 'kuching': 1, 'malaysia': 2, 'cp': 1, 'clunker': 1, 'burma/myanmar': 1, 'gypos': 1, 'irrelevant': 3, 'teenwolfseason2': 1, 'trending.': 1, '3,100': 1, 'pearly': 1, 'gates': 2, '.lord': 1, 'dominionism': 1, 'theocracy': 1, 'mose': 1, 'lames': 1, 'admiral': 1, 'garnett': 3, 'substitute': 3, 'non-starchy': 1, 'backcourt': 1, 'bets': 3, 'us.thanks': 1, 'childish': 3, 'spencers': 1, 'recked': 1, 'defect': 1, 'keystone': 1, 'hosed': 1, 'creeper': 1, 'martha': 2, 'gograblunch.com': 1, 'sawmill': 1, 'sherwood': 1, '😠': 1, 'empl': 1, 'streetprospect': 1, 'sueanne': 1, 'naivete': 1, 'idealism': 2, 'latter': 3, 'bosnian': 1, 'hesitates': 1, 'bamboos': 1, '+3': 1, 'enviously': 1, 'puberty': 1, '*breaking': 1, 'news*': 1, '-tune': 1, '94.9': 1, '7:05am': 1, 'hazardous': 1, 'brains': 2, 'creeeppy': 1, 'pitt': 2, 'scapegoat': 1, 'rickroll': 1, \"she'la\": 1, 'om': 2, 'www.austinhormonedoctor.com': 1, 'timetable': 1, 'aam2012': 2, 'wide-eyed': 1, 'staples': 2, 'unsigned': 1, '347': 1, '249': 2, '9441': 1, 'iffy': 1, 'canton': 1, 'describes': 3, 'relating': 2, 'web-scale': 1, '10,947': 1, 'decorate': 2, 'homelss': 1, '12-17.': 1, 'mind..': 2, '99th': 2, 'salina': 1, 'tapatio': 1, 'jelissa': 1, '•_•': 1, '.then': 1, 'absurdly': 1, 'snoozing': 1, 'sofa': 4, \"'millions\": 1, 'gage': 1, 'cesars': 1, 'davinci': 2, 'lawnmower': 1, 'suckss..': 1, 'protest/': 1, 'duress': 1, 'flyest': 1, 'manningham': 2, 'laury.': 1, 'checkered': 1, 'event-your': 1, 'newtwitter': 1, 'tweetdeck': 5, 'mammal': 1, 'gland': 1, 'mammalian': 1, 'attraction': 2, 'causey': 1, 'highschool..': 1, 'program-': 1, 'disciples': 2, 'him-': 1, 'on-': 1, 'tirelessly': 1, 'hell..': 1, 'stevens': 3, 'linkinparkscavengerhunt': 1, 'whoosh': 1, 'forty': 3, '10or': 1, 'mote': 1, 'midgets': 1, 'angela': 7, 'universal..': 1, 'caint': 2, 'guides': 3, 'kefi': 1, 'vans': 2, 'warped': 6, 'iky': 1, 'mayonaise..': 1, 'may-naze': 1, 'broader': 1, '2006.': 1, 'idea-': 1, 'seconded': 1, 'h20': 1, 'balloons': 3, 'grants': 4, 'mtsu': 1, '//bit.ly/wo0mjwhttp': 1, 'dey': 4, 'squarez': 1, 'outcha': 1, 'committing': 1, '..what': 1, 'icanadmit': 1, 'build-out': 1, 'dailyhookahtip': 2, '138': 2, 'vase': 2, 'hobo': 3, 'miike': 1, '1935': 1, 'distrust': 1, 'hitler': 5, 'snows': 1, 'pre-interview': 1, 'manicure': 1, 'deel': 1, 'd-': 1, 'fleshing': 1, 'whiter': 1, 'replacesongnamewithderuler': 1, 'deruler': 1, 'occurred': 2, 'osteopathy': 1, 'stalked': 1, 'girlz': 2, 'rtl': 1, 'screws': 1, 'synchronization': 1, 'swaggy': 1, 'daya': 1, 'inlove': 1, 'mining': 2, 'treaty': 1, '500th': 1, 'voucher': 1, 'bab': 3, '1000th': 1, 'heller': 2, 'alexander': 1, 'ballz': 1, '366': 3, 'cherishing': 1, 'woofstock': 1, 'suwanee': 1, 'libbie': 1, 'ttt11': 1, 'ala11': 2, 'e.g.': 1, 'fridg': 1, 'scratching': 2, 'bls': 1, '.on': 3, 'pechanga': 1, 'dayum': 1, 'dwellers': 1, 'wayport': 1, 'arch': 2, 'freedemradioparty': 1, \"it'scalledgrowingup\": 1, 'pissedtweet': 1, 'longhashtagday': 1, 'wookies': 1, 'werewolves': 1, 'misdiagnosed': 1, 'chewbaccas': 1, 'hath': 2, 'fury': 3, 'scorned': 1, 'pissed-off': 1, 'numerical': 2, 'significance': 1, 'not-that-long': 1, 'abounding': 1, 'day-lewis': 1, 'zod': 1, 'lennon': 1, 'game7': 1, 'whiney': 1, \"'this\": 1, 'openid': 1, 'appengine': 1, 'biblefax': 1, 'exile': 1, '586-36bce': 1, 'israelites': 1, 'monotheists': 1, 'yahweh': 1, 'crops': 1, 'toiletries': 2, 'thanks-': 1, '\\ue40a': 1, '\\ue04agoodnight': 1, '\\ue04c': 1, ':0.': 1, 'editions': 2, 'husby': 1, 'babysitter': 2, 'yeehaaw': 1, 'simba': 1, 'flanel': 1, 'countryroots': 1, 'wrangler': 1, 'hahahhaha': 1, 'healer': 2, 'adoring': 2, 'uncles': 2, 'sandra': 5, 'laboratory': 2, 'weeping': 1, 'drowned': 1, 'obama/biden': 1, 'webfaction': 1, 'reb': 1, 'killit': 1, 'omm': 1, 'tickling': 1, 'past-plunge': 1, 'sublime': 2, 'dive': 3, 'deep..so': 1, 'self-respect': 1, '~emerson': 1, 'yeaahhhhh': 1, 'emerging': 2, \"'50s\": 1, 'dome': 4, 'charleston': 3, 'fmk': 1, 'skeeter': 1, 'thatdepressingmoment': 1, 'carnika': 1, 'foward': 2, 'surpass': 1, 'twitting': 1, 'tv..': 1, 'melancholy': 2, 'possess': 2, 'ravishment': 1, 'stirreth': 1, 'philosophers': 1, 'prophets': 1, '1621': 1, 'beliebinmahone': 1, 'veg': 1, 'soexcited': 3, 'warn': 4, 'incorrect': 3, 'otto': 1, 'haphazardly': 1, 'yobitv': 4, 'pbj': 1, '540': 1, 'megamillions': 1, 'theology': 1, 'courting': 1, 'fukk': 1, 'w.h': 1, '..a': 1, 'aid': 5, 'reflecting': 5, \"keep'n\": 2, 'no..the': 1, '😓': 2, 'distortion': 1, 'postcard/fliers': 1, 'paces': 1, 'afterlife': 1, 'puff': 3, 'haunts': 2, 'unreconciled': 1, 'democratic': 3, 'juelz': 1, 'twin-c': 1, 'spilla': 1, 'papoose': 1, 'coast2coast': 1, 'mixtapes': 2, 'muldoon': 1, 'bartlett': 1, 'boundary': 1, 'kwanzaa': 1, 'kuumba': 1, 'sallyadams-': 1, 'ypabq': 1, 'biotches': 1, 'bangers': 2, 'omelette': 1, 'mulligatawny': 1, 'mid-googling': 1, 'autofill': 1, 'valor': 1, 'prevor': 1, 'perishable': 1, 'pundit': 1, 'whol': 1, 'use_tz=false': 1, 'timezones': 1, 'mohegansun': 1, 'somewomencantstand': 1, 'airplay': 1, 'laguna': 1, 'slidin': 1, 'micro-measure': 1, 'mkting': 1, 'less-trackable': 1, 'i.want.chronicle.powers': 1, 'beginners': 1, 'reindeer': 1, 'm.a': 1, 'hob': 3, '101/ticket': 1, 'detours': 1, 'interruptions': 1, 'ams': 1, 'pittenger': 1, 'zephyr': 1, 'melrose': 2, 'work*': 1, 'pillows': 1, 'bernanke': 1, 'methodologies': 1, '4.0': 1, 'devcon1': 1, 'bit.ly/fizjxo': 1, 'leaked': 4, 'diet-friendly': 1, 'me♡♡': 1, 'skillz': 2, 'praises': 1, 'docu-poem': 1, 'choppers': 1, 'ghettotranslations': 1, '😭😭😭😭😭😭': 1, 'tailor': 2, 'maintence': 1, 'legalize': 1, 'till.i.start': 1, 'officiated': 2, 'djpaulx': 1, 'foothill': 1, 'ltgovkleefisch': 1, 'pigsly': 1, 'motherhood': 2, 'miserable': 2, 'satisfy': 2, '1890s': 1, 'andre': 5, 'yea-': 1, 'databases': 1, 'day..': 2, 'sissie': 1, 'daya~': 1, 'sis~': 1, 'zentastic': 1, 'youmg': 1, 'die..': 1, 'sydney': 2, 'canvas': 1, '5-9…see': 1, 'appointee': 1, 'leaflet.js': 1, 'css': 4, 'popups': 1, 'wms': 1, '-sf': 1, 'lm': 1, 'bjork': 1, 'mana': 1, 'carcuzzi': 1, 'brunchin': 1, 'filing': 2, 'cabinet': 2, 'inordinately': 1, 'quits': 1, 'edging': 1, 'ifiwasghetto': 1, 'wait..': 3, 'lectures': 2, 'bham': 1, 'fckin': 1, 'coors': 1, 'schmitt': 1, 'rbj': 1, 'increasingly': 2, 'nomadic': 1, 'learners': 5, 'hairline': 1, 'picnics': 1, 'fishn': 1, '1990': 1, 'chapel': 3, '1950': 2, '10-1': 1, 'princeton': 5, 'cropper': 1, 'fantasyleague': 1, 'saa10': 1, 'reaffirms': 1, 'australians': 1, 'reclaimed': 1, 'dallas/ft': 1, 'tolerated': 1, 'profiles': 1, 'fluff-slinging': 1, 'abilities': 1, 'nickinewalbum': 1, 'moustache': 1, 'micros': 1, 'chapmansharp': 1, '12x6': 1, '5.00': 2, 'buybobnow.com': 1, 'calgary': 1, 'frantically': 1, 'researching': 4, 'segway': 2, 'moped': 1, 'rentals': 3, '*hint': 1, 'hint*': 1, 'honkin': 1, 'oreo': 2, 'keept': 1, 'bottled': 2, 'algorithms': 1, 'entitled': 1, 'services/spaces': 1, 'shiznitpickles': 1, 'rollercoasters': 2, 'whistle': 4, 'intending': 1, 'embraced': 1, 'e-journal': 1, 'e-books': 1, \"'e\": 1, 'mimba.tv': 1, 'feels/sounds': 1, 'talker': 1, 'intelligentsia': 1, 'stripling': 1, 'residency': 1, 'cookbook': 2, 'nort': 1, '**lives': 1, 'slinger**': 1, 'baguette': 3, 'thongs': 1, 'gamechange': 1, 'usgenweb': 1, 'pinnick': 1, 'defensive-minded': 1, 'prevailing..': 1, 'takeittothehead': 1, 'carly': 4, 'lsvt': 1, 'neurological': 1, 'parkinson': 2, \"6'3\": 1, 'water..': 2, 'tulo': 1, 'spill': 5, 'mellencamp': 1, 'shoo-in': 1, 'compute': 1, 'homeruns': 1, 'gogo': 1, '162': 1, '16.': 3, '.recovering': 1, 'burke': 1, 'co-promoting': 1, 'upstate': 1, 'bryanna': 1, 'poisonous': 2, 'faze': 1, 'pointing': 6, 'brussel': 2, 'sprouts': 3, 'yessirrt': 1, 'd.read': 1, 'concluded': 2, 'whileinarelationship': 1, 'sequels': 1, 'staring': 9, '11:45.': 1, 'shpongle': 1, 'eoto': 1, 'bit.ly/specl_needs': 1, 'workinnnn': 1, 'naw..': 1, 'curious..': 1, 'lifes': 2, '3-putt': 1, 'lurk': 2, 'keeley': 1, 'nestlé': 1, 'classico': 1, 'w/milk': 1, 'cocoa': 2, 'palos': 1, 'churches': 3, 'cious': 1, 'thingsilovetosee': 1, 'hatters': 1, 'sfjazz': 1, 'pukka': 1, 'tea..rose': 1, 'chamomile': 1, 'lavender.yum': 1, 'oh-oh': 1, 'bday/spring': 1, 'training/beerfest': 1, 'lady-like': 1, 'apush': 1, 'alittle': 1, 'waaaayyyyy': 1, 'outexecuted': 1, 'inbounds': 1, 'angriest': 1, 'timeouts': 1, 'unholy': 1, '18-month': 1, 'bureau': 2, 'gambling': 1, 'iwillpark': 1, 'candlestick': 1, 'hotdog': 1, 'hypno-therapy': 1, 'butynes…': 1, 'doctorates': 1, 'mendeley': 2, 'apologize-meghan': 1, 'culprit': 1, 'lirr': 1, 'njt': 1, 'porq': 1, 'vy': 1, 'animar': 1, 'waystobeginsex': 1, 'greer': 1, '15km': 1, 'peppers': 4, 'idratherhave': 1, 'and1': 1, 'ha…': 1, '1.75': 1, '21+': 7, 'dresscode': 1, 'gme': 1, 'mullets': 1, 'yep..': 1, 'then..': 3, 'snowflake': 3, 'btc': 1, 'backer': 1, 'ruffy': 1, 'portfolios': 2, 'rottweiler': 1, 'earthlink': 1, 'crn': 2, 'errrrrywhere': 1, 'happn': 2, 'capn': 1, 'premonitions': 1, 'startin': 2, '30rock': 1, \"loved'em\": 1, 'bandmates': 1, 'week-': 1, 'bumpy': 2, 'velashape': 1, 'slimmer': 1, 'intervention': 3, 'months*': 1, '1551': 1, 'essex': 2, '21221': 1, 'steamed': 1, 'ryankennedy': 1, 'hin': 1, 'hbu': 2, 'ugliest': 2, 'ceelo': 1, 'stroking': 2, 'rwrunstreak': 1, 'gromley': 1, 'videography': 1, 'desired': 4, 'voicing': 2, 'dry-hopped': 1, 'deviant': 1, 'dales': 1, 'cask': 1, 'stirosu': 1, '9526083': 1, 'itinerary': 3, 'matteus': 1, 'fp': 1, 'santangelo': 1, 'ya..': 1, 'blowingg': 1, 'maccin': 1, 'wrd': 2, 'web-scraping': 1, 'perez': 5, '*look': 1, 'shame*': 1, 'muhfugg': 1, 'owning': 2, 'erotic': 3, 'rememberhow': 1, 'rationale': 1, 'panola': 1, 'sofunny': 1, 'jazzfest': 1, 'adapter': 1, 'saris': 1, 'windchill': 1, 'mild/fair': 1, 'rayovacbattery.net': 1, 'usadeaf.com': 1, 'oranage': 1, 'fuckkkkkkkkkkk': 1, 'tomarrow': 2, 'fawk': 1, 'backup': 4, 'ben.prime.we': 1, 'undercover': 2, '46/46marathon': 1, 'rl': 2, 'broncos': 10, 'suprising': 1, 'mobile-optimized': 1, 'dudamobile': 1, '-prep': 1, 'museum/exhibition': 1, 'out-of-box': 1, 'just-for-show': 1, 'brenton': 1, 'guy..just': 1, 'herky': 1, '174': 1, 'tomoro': 1, 'boyd': 1, 'expired': 1, 'atkins': 1, 'breed': 2, 'gradually': 1, 'lately..': 1, \"'voices\": 1, 'perspectives': 3, '12-1pm': 1, 'biomed': 1, 'gnr': 1, 'bourbon': 3, 'finially': 1, '2nd.': 1, 'screenplays': 2, 'mint': 6, 'julep': 1, 'waiter': 2, 'azul': 2, 'bel': 1, 'dessed': 1, 'resplendent': 1, 're-send': 1, 'toomuchdoubt': 1, 'stormwarning': 1, 'staircase': 1, 'gypsy': 2, 'trendin': 1, 'reuinited': 1, 'exhqusted': 1, 'ripley': 1, 'whil': 1, 'mortal': 1, 'kombat': 1, 'guida': 1, 'hopkins': 1, 'benicio': 1, 'toro': 1, 'hairy': 2, 'dutch': 2, 'thursdays': 4, '..thanks': 1, 'song/guitar': 1, '410-338-4036': 1, 'compares': 1, 'mecca': 1, 'tarnish': 1, 'corrects': 2, 'rented': 1, 'tinker': 1, 'spy': 2, 'coated': 1, 'uwwreslife': 1, 'uww': 1, 'fye': 1, 'whalen': 1, 'blazin': 1, 'idkanythingelse': 1, 'salidolopez': 1, 'uppercut': 1, 'well..': 1, \"don't..\": 1, 'cheese/tapas': 1, '430': 1, '630-': 1, '27-year-old': 1, 'blowhard': 1, 'sunburt': 1, 'finn': 2, 'tnw2012': 1, 'blocker': 1, 'jimbrown': 1, 'fritzpollard': 1, 'chairman': 2, 'wooden': 2, 'overrated': 4, 'barraza': 1, 'endorsements': 3, 'stonewall': 2, 'patrol': 1, 'tejano': 1, 'unexpectedly': 3, 'lto': 1, 'brioche': 1, 'bun': 3, 'butternut': 1, 'lightyear': 1, 'tapin': 1, '-\\\\': 3, 'humorous': 1, 'iwas': 2, 'honeydew': 1, 'melons': 1, 'slice.': 1, '~barbra': 1, 'streisand': 2, 'cupholders': 1, 'trippen': 1, 'mystique': 1, 'masquerade': 2, 'w/chicago': 1, 'publiced': 1, 'lizards': 1, 'amplifiedarts.us': 1, 'meggie': 1, 'slovenia': 2, 'effectively': 2, '-gary': 1, 'mangiofico': 1, 'footage': 3, 'pics..great': 1, 'shay': 1, 'answers..': 1, 'ransom': 2, 'ch': 2, 'reynolds': 2, 'achieves': 1, 'cisco': 1, 'rushprint': 1, 'www.rushflyerprinting.com': 1, 'blue..but': 1, 'requisition': 1, 'macy': 3, 'monteggia': 1, 'low-dose': 1, 'ketamine': 1, 'rescued': 2, 'depression-like': 1, 'rodents': 1, 'wolfman': 1, 'teala': 1, 'sith': 1, 'honnold': 1, 'beastdenali': 1, 'www.getrichradio.com': 1, 'dwan': 1, 'bent-twyford': 1, '..at': 1, 'manners': 2, '.mf': 1, 'ethical': 2, 'vaute': 1, 'couture': 3, 'matching': 7, 'elsik': 1, 'smartitude': 1, 'osx': 2, 'sw': 3, 'religulous': 1, 'thereisagod': 1, 'maher/silver': 1, '600kmahomies': 1, 'sweets': 1, 'heisman': 1, 'emotobook': 1, 'flipping': 5, 'abstract': 2, 'echelon3000': 1, '3333': 3, 'wrench': 1, 'caterer': 1, 'svc': 2, 'offsite': 1, 'vanity': 1, 'constructed': 2, 'jetpack': 1, 'sanchez-tebow': 1, 'expire': 1, 'use—from': 1, 'trolls': 1, 'yesplease': 1, 'nom': 8, 'p.l.u.r.': 2, 'generating': 3, \"what'syourflavah\": 1, 'taquito': 1, 'fllow': 1, 'walkthru': 1, 'unsent': 1, '2.1.1': 1, 'leaded': 1, '11k': 1, 'sugarloaf': 1, 'wharf': 1, '10:30pm': 1, 'baffling': 1, 'b/w': 1, 'gusa': 1, 'yet.lol': 1, 'upp': 2, 'paragraph': 1, 'scramblewithfriends': 1, 'hangingwithfriends': 1, 'drawsomething': 3, 'bahahaha': 1, 'kixxxx': 1, 'buenos': 3, 'dias': 1, 'sneakpeak': 1, 'just4': 1, 'have2': 2, '4the': 1, '11:17': 1, 'teamblackhouse': 1, 'gingich': 1, 'sideline': 2, 'blargh': 1, 'huddling': 1, 'thon': 1, 'sperm': 2, '76': 2, 'alli': 1, 'w/lifelong': 1, 'expectancy': 1, 't.o': 2, 'stigma': 2, 'engaging/challenging': 1, 'irons': 2, 'swung': 1, 'clubs': 8, 'nats': 2, 'greenbaun': 1, 'harriet': 4, 'curtis': 1, 'ancestral': 1, 'praxis': 1, 'communal': 1, 'preliminary': 1, 'hypocrites': 1, 'chanting': 3, 'silverton': 1, '9:20-12:30': 1, 'chickenhawks': 1, 'cult.your': 1, 'advancement': 3, 'doodle': 4, 'rouuughh': 1, 'asdghjkl': 1, 'oppressions': 1, 'telly': 1, 'horses': 4, 'laundromat': 1, '/sarc': 1, 'thay': 2, 'squat': 2, '.in': 1, 'shweeeet': 1, 'remodeled': 1, 'clinic': 9, 'eases': 1, 'chemotherapy': 1, '268': 1, 'victories': 1, 'feller': 1, 'hubbell': 1, 'marichal': 1, 'genuine': 3, 'sooie': 1, 'fully-inked': 1, 'giftedness': 1, 'schizophrenic': 3, 'locusts': 1, 'brimstone': 1, 'fan-film': 1, '.asp': 1, 'pop-pop': 1, 'explained': 2, 'grail': 2, 'spacecraft': 1, 'dumplings': 6, 'burghorlandoami': 1, 'rva': 2, 'pollen': 2, 'nokia': 4, 'housee': 1, 'sumthing': 1, 'kerr': 2, 'jolla': 1, 'twitterlessmac': 1, 'ref': 3, 'compromised': 1, 'insecurity': 3, 'news.cnet.com/8301-27080_3-2…': 1, 'puhhhlease': 1, 'headdesk': 1, 'finders': 1, 'keepers': 1, 'bck.': 1, 'violations': 1, 'uncovered': 1, 'www.stardesignsa.com': 1, 'you.guys': 1, '1wish': 1, 'o.0': 1, 'sprinkling': 1, 'restroom': 3, 'brooklynites': 1, 'dicks': 3, 'ripping': 1, 'bruar': 1, 'suffumigations': 1, 'oppressed': 1, 'head-ac': 1, 'btrs': 1, 'testimony': 2, 'kangaroo': 1, 'dishwasher': 2, 'tlc': 1, 'waterfalls': 2, 'curtain': 3, 'fixes': 1, 'funerals': 2, '..lesson': 1, 'granit': 1, 'fw': 1, 'sportin': 1, 'tum': 1, '1030pm': 1, '*might*': 1, 'today…a': 1, 'flops..god': 1, 'tase': 1, 'robbing': 1, 'craddle': 1, 'www.blackfridayhaul.com': 1, 'sorby/emc': 1, 'likens': 1, 'dinosaurs': 2, 'mamals': 2, 'adaptability': 1, 'vawine': 1, 'acquaintances': 3, 'probkem': 1, 'lemonaide': 1, 'blended..': 1, '21-inch': 1, 'runaway': 3, '..love': 1, 'suge': 1, 'compton': 1, 'leon': 2, '4p': 1, 'carlsbad': 1, 'edited': 1, 'primarily': 1, 'method': 2, 'low-score': 1, 'ws': 2, 'ls': 1, 'ideablob': 1, 'days-www.ideablob.com/ideas/4284': 1, 'posse': 2, '~harriet': 1, 'tubman': 1, 'trunk': 2, 'chloroform': 2, 'boii': 1, 'hula-hoop': 1, 'chanel': 1, 'aways': 1, 'tucson': 5, '520-290-0595': 1, 'indication': 2, 'victorian': 1, 'nommin': 1, 'diminished': 2, 'fanfara': 1, 'iconoclast': 1, 'gamely': 1, '.just': 1, 'fran': 4, 'kitties': 2, 'dwyte': 1, 'pawel': 1, 'day1b': 1, 'humanitarian': 1, 'talking/thy': 1, 'like/i': 1, 'everythings': 2, 'alright/no': 1, 'middle-aged': 1, 'swiss-instant': 1, 'whitening': 1, 'rp': 1, '375.000': 1, 'foreverr': 1, 'fulbright': 3, 'array': 1, 'esl': 1, 'hard-of-hearing': 1, 'beezus': 1, 'everr': 1, 'kabob': 1, 'ithink': 1, 'anyday..and': 1, 'libertyuniversity': 1, 'maalox': 1, '.lordy': 1, 'minority': 3, 'devastating': 1, 'screwdriver': 1, 'roofies': 1, 'moose=': 1, 'craft/micro/import': 1, 'sliders': 2, '5-7pm': 1, 'popchips': 1, 'amazeballs': 1, 'nodding': 1, '10-0': 2, 'tmc': 1, 'chessey': 1, 'geometry': 3, 'concede': 2, '12/3': 1, '706': 1, '12:30p': 1, 'gimmick': 2, 'bolted': 1, 'angelos': 1, 'perty': 1, 'skerrryy': 1, '0530': 1, 'frff': 1, 'berkshires': 1, 'congrads': 1, 'poorly': 4, 'okc/mavs': 1, 'put..': 1, 'i-need-to-do-my-homework': 1, 'jessie': 2, 'iloveyouandyoudontrealise': 1, 'masks': 2, 'bluefield': 1, '63f': 1, 'kind-hearted': 1, 'denizens': 1, 'judgement': 2, \"'fat\": 1, 'not..let': 1, 'luckiest': 1, 'difficulty': 2, 'accepts.-edward': 1, 'murrow': 2, 'atop': 1, 'fuji': 1, 'wastes': 1, '~g': 1, 'downgrade': 1, '..but': 1, 'yeasterday': 1, '😭': 1, 'rebel': 5, 'outgrow': 1, '-ralph': 2, 'exceeded': 1, '30-year': 1, 'fixed-rate': 1, 'mortgages': 1, 'pasting': 1, 'phased': 1, 'levity': 1, 'sorrowful': 1, 'paintings': 2, 'hippies': 2, 'sunburnt': 1, 'letsgo': 1, 'mountaineers': 2, 'jaleel': 1, '19k': 1, 'highshit': 1, 'slower': 3, 'thacw': 1, 'w/e': 2, 'how/why': 1, 'ammunition': 1, 'khakis': 3, 'quess.': 1, 'tiller': 1, 'outrage': 4, 'ratchetgirls': 1, 'boyfriends': 3, 'predicting': 2, 'dbridge': 1, 'instru': 1, 'nu': 1, 'bfteachingtip': 1, 'flashcard': 1, 'jawar': 1, 'ltns': 1, 'villain': 4, '1/31/1606': 1, 'fawkes': 1, 'noose': 1, 'parliment': 1, 'gunpowder': 1, 'us-19w': 1, 'i-181': 1, 'i-81': 1, 'hwy': 4, 'muay': 2, 'gyms': 1, 'leffe': 1, 'marques': 1, 'riscal': 1, 'rioja': 1, 'requesting': 3, 'sporti': 1, 'ugg': 1, 'sundown': 1, 'auspicious': 1, 'delinquent': 1, 'transposing': 1, 'chautauqua': 1, 'findlay': 2, 'sittg': 1, 'welcme': 1, 'self-defense': 1, 'suave': 1, 'homz': 1, '365': 5, 'year..': 1, 'roth': 1, 'cirque': 2, 'soleil': 2, 'totem': 1, '*deep': 1, 'sigh*': 1, 'puke': 3, 'wope': 1, '0the': 1, 'readying': 1, 'speakers-': 1, '96°': 1, 'dittos': 1, 'kurt': 3, 'occur': 4, 'disbelief': 1, '-mahatma': 2, 'arthur': 3, 'pbr_detroit': 1, 'officiating': 5, 'kovy': 1, 'incensed': 1, 'ahole': 1, 'magnetite': 1, 'everett': 1, 'gerber': 1, 'eagle': 3, 'fisheye': 1, '1-': 1, 'conquered': 1, 'proposal/outline': 1, 'lausd': 1, 'hermeneutical': 1, 'billboards': 1, 'dulles': 1, 'mongo': 1, 'cranked': 1, '450': 3, 'sirrop': 1, 'mcclelland': 1, 'diserio': 1, 'mims': 1, \"'rest\": 1, 'necessitated': 1, 'violate': 2, 'tastefuly': 1, 'xeroxdrupa': 1, 'bacardi': 1, 'mucho': 1, '💗💗': 1, 'www.rocketrobinson.com': 1, 'thirteenth': 1, 'actin': 2, 'tiki': 1, 'craze': 1, 'amer': 3, 'mansion': 1, '6331': 1, 'showtime': 2, 'k.l.e.o': 1, 'scientific': 3, 'impossibility': 1, 'overstate': 1, 'aasl11': 1, 'gasper': 1, 'marturano': 1, 'forewarned': 1, 'nbcc': 1, 'newbery': 1, 'caldecott': 1, 'temecula': 1, 'smile.': 1, '10-14': 1, 'times..': 1, 'hadnt': 1, '102': 4, 'remedies': 3, '.holding': 1, 'solves': 1, 'pinks': 1, 'weddings': 2, 'inconsistencies': 1, 'incarcerated': 1, 'womanhole': 1, 'dece': 1, 'doom': 2, 'lacing': 1, 'blindfold': 1, 'ahold': 1, 'colleague…': 1, 'mosquitos': 1, 'suiciding': 1, 'cookoff': 1, 'me/cape': 1, 'breton/prince': 1, 'island/acadia': 1, 'sobbed': 1, 'unwired': 1, 'limo': 1, 'hehehe': 1, '145': 2, 'expendable': 2, 'makerspace': 1, '120+': 1, '..like': 1, 'pandemonium': 1, '*kicks': 1, 'gambled': 1, 'whelp': 1, 'roberts-': 1, 'underachieving': 1, 'ramirez': 1, 'technology-': 1, 'sweethearts': 1, 'dictatorship': 1, 'nolan': 1, 'slinging': 1, 'ganesha': 1, 'tillman': 1, 'fumble': 1, 'suprise': 1, 'hackers': 2, 'necks': 1, 'flu-like': 1, 'competitors': 4, 'prepped': 1, 'lovejoy': 1, 'faithfulness': 2, 'gentelness': 1, 'thingsthat': 1, 'cookin': 1, 'multispectral': 1, 'imaging': 3, 'livingstone': 1, 's5': 1, 'respectability': 1, '3-2': 2, 'maholm': 1, '99999999999': 1, 'walton': 1, 'feminist': 5, 'dominique': 2, 'menil': 1, 'dfacs': 1, 'saxy': 1, 'emoticon': 1, 'controlled': 4, 'perused': 1, 'wkd': 1, 'azure': 1, 'signout': 1, 'suggesting': 4, 'imitate': 1, 'agot': 1, '220': 1, 'saunders': 1, 'mantra': 2, 'craps': 1, 'ashleigh': 1, 'kaleigh': 1, 'mommaa': 1, 'you*': 1, 'battlefield': 1, 'assisting': 1, 'carmen': 2, 'waka': 1, 'signups': 1, 'buttaface': 1, \"'ugly\": 1, '🚭': 1, 'deen': 1, '*virtual': 1, 'rply': 1, 'fiber': 1, 'outperform': 2, 'unimpaired': 1, 'lighting': 5, 'beech': 1, 'torafugu': 1, 'fugu': 1, 'licensing': 2, 'peaceride': 1, 'vista': 3, 'fac': 1, 'edible': 1, 'hostage': 1, 'noxious': 2, 'cohen': 2, 'citational': 1, 'structure': 4, 'monstrous': 1, 'reproduction': 1, 'repulsive': 1, 'painter': 3, '~gertrude': 1, 'marla': 1, 'ch1': 1, 'begining': 1, 'learner/alumni': 1, 'reserve': 2, '317-578-1200': 1, 'indomitable': 1, 'bespoke': 2, '£20': 1, '0208': 1, '940': 1, '5577': 1, 'bums': 1, 'applaud': 1, 'heidi': 1, 'klum': 1, 'resonate': 1, 'charging..': 1, 'contacting': 3, 'noe': 1, 'agassiz': 1, 'adapting': 3, 'focal': 1, 'educate': 2, 'kick-off': 3, 'billingsley': 1, 'willihnganz': 1, 'rhodes': 1, 'triceps': 1, 'shifts': 2, 'tm': 3, 'teamjaytate': 1, 'mac-mommy': 1, 'stare': 6, 'ifidontgetbelievetickets': 1, 'grrm': 1, 'meta': 1, 'crazy..': 3, 'arguement': 1, '*ohyea*': 1, 'sandstorm': 2, 'recognizes': 2, '9.3': 1, 'sys-con': 1, 'heavyweight': 1, 'fabrics': 1, 'aite': 1, 'xp': 4, 'liquer': 1, 'thatfeelingyougetwhen': 1, 'high-five': 3, 'actorfest': 1, 'visist': 1, 'academy': 8, 'adimssion': 1, 'comlpiments': 1, 'luka': 1, 'joaquin': 1, 'notation': 1, 'sequencer': 1, 'notion3': 1, 'environmental': 3, 'media/': 1, 'smartypants': 1, 'abound': 2, 'finnallly': 1, 'baffert': 1, 'liaison': 1, 'bodemeister': 2, 'wiggle': 3, '4.20': 1, 'aerobics': 1, 'nnvc': 1, 'realty': 2, 'knighted': 1, 'msc2011': 1, 'represented': 2, 'haven': 4, 'mkae': 1, 'notinterested': 1, 'aiint': 1, 'thiing': 1, '411': 2, 'lookiin': 1, 'btob': 1, 'wheels': 8, 'metro-north': 1, \"'sold\": 1, 'abyod': 1, 'coed': 1, 'ddc': 1, 'madden13': 1, 'rgiii': 2, 'undrafted': 1, 'litter': 1, 'steely': 1, 'danzig': 1, 'printchat': 1, 'pre-press': 1, 'operators': 1, 'off-color': 1, 'orpheum': 1, 'shiznit': 1, 'proposed': 3, 'mosque': 2, 'brookfield': 1, 'kubrick': 1, 'touchpad': 1, 'product.': 2, 'michaelscott': 1, 'theoffice': 1, 'lajolla': 1, 'detector': 2, 'alarms': 2, 'tragus': 1, 'grenade': 1, 'dbu': 1, 'pilgrim': 1, 'chorale': 1, 'kaushal': 1, 'daawwgg': 1, 'gertrude': 1, 'song❤😍': 1, 'gutsiestmovesyoucanmake': 1, 'armor': 3, 'readie': 1, 'bim': 1, 'repition': 1, 'rxp': 1, 'weezer': 1, '815': 1, 'tour/play': 1, 'double-team': 1, 'chev': 1, 'hmd': 1, 'trac': 1, \"'even\": 1, 'bloom': 2, '13.': 2, '\\ue328': 3, 'woaah': 1, 'deprivation': 1, 'concerto': 1, 'conductor': 2, 'baccarat': 1, 'sherlock': 3, 'out.': 2, '11/15': 1, 'edweek': 1, 'incorrectly': 1, '6-12': 1, 'westcoast': 1, 'retailers': 2, '22th': 1, 'wbwednesday': 1, 'absence': 6, 'keller': 4, 'whyilovefamu': 1, '98': 2, 'ok..all': 1, 'rsac': 1, 'while..': 2, '\\ue312\\ue310\\ue112\\ue34b': 1, 'whenifirstjoinedtwitter': 1, 'injected': 1, 'tree/grass/weed': 1, 'mutant': 2, 'day🌇💙': 1, 'licensines': 1, 'digi': 1, 'tasks': 4, 'aspiration': 1, 'esar': 1, 'thatonepersonwho': 1, 'wholee': 1, 'makemoneymoneymoney': 1, '·': 1, 'pairs': 4, 'actorsplayhouse': 1, 'haunted': 1, 'telecom..': 1, '0844': 1, 'tatted': 2, 'mandino': 2, 'well..but': 1, 'fb/twitter': 1, 'urls': 2, 'refinancing': 1, '858': 1, '376-1299': 1, 'stubbornness': 1, 'reliving': 2, 'unresolved': 1, 'truebieberfans': 1, 'pilar': 1, 'archived': 1, 'aloft': 2, 'tempe': 2, 'ahahaha': 3, 'werid': 1, 'twisting': 3, 'rubin': 1, 'assisted': 1, 'saugus': 1, 'mourn': 2, 'comforted': 2, '-matthew': 1, '5:4': 1, 'delicate': 1, 'imagines': 4, '^*': 1, 'posterized': 1, 'gravitate': 1, 'sdaff': 1, 'celebs': 2, 'protester': 1, 'journos': 1, 'paspahegh': 1, '1610': 1, 'wowinchapuncke': 1, 'emerald': 3, 'justrememberthat': 1, 'hrm': 1, 'inaccurate': 1, 'proms': 1, 'julietanunpopular': 1, 'isagenix': 2, 'long-time-lost': 1, 'gloom': 2, 'lamill': 1, 'mid-march': 2, 'slacker': 1, 'top-of-the-week': 1, 'mystyle': 1, 'staffers': 1, 'espinosa': 2, 'gio..': 1, 'vols': 1, 'judges': 3, 'deliberation': 1, 'wineweb': 1, 'marinate': 1, 'w/cornbread': 1, 'batter': 2, '26-27': 1, 'install': 6, 'tryst': 1, 'bazaar': 1, 'krispy': 1, 'kreme': 1, 'commuting': 2, 'life-saver': 1, 'kevorkian': 1, 'woodchipper': 1, 'worldshare': 1, 'apis': 1, 'ericson': 1, 'willingness': 1, 'women`s': 1, 'neice': 1, 'cassandra': 2, '8pounds': 1, '14ounces': 1, 'chunker': 1, \"'3\": 1, 'thingsifear': 1, 'incidentally': 2, 'transfixiated': 1, 'pompous': 2, '†': 1, 'bazinga': 1, 'vocabularian-someone': 1, 'finalized': 1, 'sl': 1, 'equated': 1, 'livestock': 2, 'exlibris': 1, 'mid-atlantic': 1, 'ema': 1, 'omni': 1, 'dctweetup': 1, 'impersonate': 1, 'mua': 1, 'bodypainters': 1, 'photographers': 4, 'sweethomealabama': 1, 'regards': 3, 'goggle': 2, 'spf': 1, 'sunhat': 1, 'halfday': 1, 'cheh': 1, 'kinks': 1, 'rude..must': 1, 'petals': 1, 'ocr': 2, '45in': 1, 'eps': 1, 'import': 1, 'acrobat': 2, 'kilogram': 1, 'find/buy': 1, 'browse': 2, 'keyword': 2, 'som': 1, 'mba': 2, 'dwill': 1, 'semifinals': 1, 'federer': 1, 'nadal': 1, 'hm..': 2, 'wary': 1, 'inventing': 3, 'translators': 1, 'bodes': 1, 'organizer': 1, 'manages': 2, '2-1': 2, 'cybermonday': 1, 'hourly': 1, 'co-host': 2, 'assistantopinionretreat': 1, '15,000': 2, 'nys': 2, 'willyou': 1, 'passters': 1, 'lez..only': 1, 'midnight..': 1, 'shot👊': 1, 'v.i.p': 1, 'b.i.g': 2, 'leif': 1, 'garrett': 2, 'surfin': 1, 'bandstand': 1, '1977.': 1, 'ub': 1, 'dbx': 1, 'spiking': 2, 'mercedes-benz': 1, 'dbs': 4, '..tuin': 1, 'mins..asap': 1, 'merchants': 1, 'heartland': 2, 'becus': 1, 'kiddy': 1, '20-inch': 1, 'bmx': 1, 'freestyle/jump': 1, 'mongoose': 1, 'babybashbling': 1, 'outsiders': 1, 'shop4vasculitis': 1, 'brickcity': 1, 'greatestfilms': 1, 'memento': 1, 'mockingbird': 2, 'odyssey': 3, 'flowchart': 1, 'hiv': 3, 'completes': 1, 'jeske': 1, 'lenten': 1, 'nows': 2, 'strung': 1, 'tarp': 1, 'rhinestones': 1, 'bedazzler': 1, 'washi': 1, 'conflictparty': 1, 'holycrap': 1, '.haha': 2, 'victuals': 1, 'ventures': 1, 'foundersync': 1, 'thatswhatiwant': 1, 'restorative': 1, 'shorthand': 1, 'emotion': 1, '-leo': 1, 'tolstoy': 1, 'marat': 1, 'flaunting': 1, 'laibach': 1, 'austrian': 1, 'anti-fascists': 1, 'july..': 1, 'squeaks': 1, 'hot*': 1, '*pot': 1, 'somelol': 1, 'softee': 1, 'sike': 1, 'maths': 1, 'sympathetic': 1, 'geminipride': 1, 'smg': 1, 'preggers': 1, 'shalynn': 1, 'rewarading': 1, 'yesterday..': 1, 'ehh': 1, 'totalled': 1, 'car..': 2, 'colgate': 1, 'sweatshirt': 2, 'colgateday': 1, 'flaming': 2, 'superman': 1, 'articulating': 1, 'antenna': 1, 'gutmann': 1, 'hmph': 2, 'mustachepirations': 1, \"cc'ing\": 1, 'portmanteau': 1, 'medias': 1, 'enlighten': 1, 'visually': 1, 'amino': 1, 'acids': 1, 'poached': 2, 'confession17': 1, 'babys': 1, 'trace': 1, 'commands': 1, '..with': 1, '.froze': 1, 'zipped': 1, 'bootcampbarre': 1, 'lurb': 1, 'blending': 1, 'naca': 2, 'rockthe': 1, 'evidently': 3, 'garry': 3, 'shandling': 1, 'ancestry': 1, 'hotbox': 1, 'drat…': 1, 'completely…': 1, 'penguin': 2, 'materialism': 1, 'stirring': 1, 'wants-but': 1, '-robert': 1, 'beginner': 1, 'glovers': 1, 'um-that': 1, 'bodemaster': 1, 'fractional': 1, 'kyderby': 1, 'geared': 1, 'cu': 2, 'outweighs': 1, 'entitlement': 1, '.maybe': 1, 'lightweight': 1, 'reaallyy': 1, 'shxt': 3, 'debauchery': 2, 'apologizing': 1, 'meme': 4, 'tumblrs': 1, 'badpr': 1, 'reuters': 1, '1620': 1, 'sonoda': 1, 'lodo': 1, '✰': 1, 'onlinebusiness': 1, 'ongoing': 2, 'rounded': 1, 'wilkins': 1, 'leander': 1, 'ago..just': 1, 'peeked..it': 1, 'down..electricity': 1, 'yougettinpunchedif': 1, 'swears': 2, 'duncahhan': 1, 'hannahan': 1, 'vice-esque': 1, 'duo': 1, 'convey': 2, 'chewier': 1, 'marbling': 1, 'sister..i': 1, 'voyage': 3, 'help/suggestions': 1, 'commitments': 1, 'offspring': 2, 'kat-': 1, 'payless': 1, 'gone..': 1, 'breakup': 2, 'thebreakupsongbyamericanhifi': 1, 'webster': 1, 'selfless': 2, 'allways': 1, 'chit': 1, 'violin': 2, 'hahahahahahahahahahahahahahahahahahahahahahahahahahaha': 1, 'helms': 1, 'attica': 1, 'camex': 1, '2521': 1, '.five': 1, 'annelisa': 1, 'shadybrooke': 1, '4th..the': 1, 'rest.': 1, '9:00': 2, 'mead': 1, 'nv': 4, '89108': 1, 'no-nonsense': 1, 'mc.griddle': 1, 'algorithm': 2, 'ohmygod': 1, 'invert': 1, 'snore': 1, 'partied': 3, 'rawk': 1, 'decided..': 1, 'enough..': 1, 'sexist': 2, '4real': 1, '9-close': 1, 'hellofadeal': 1, 'smitty': 3, 'garnish': 1, 'queso': 1, 'mellow': 4, 'rascal': 5, 'prem': 1, 'pilsner': 2, 'herding': 1, 'joked': 1, 'khalifa': 2, '..hell': 1, 'very*': 1, 'dark..': 1, 'plots': 1, \"o'brien\": 2, 'qotd': 2, 'thornton': 1, 'crazybill': 1, 'stepping': 3, 'toadstool': 1, 'oooooweeee': 1, 'walter': 2, 'wisch': 1, 'awww..you': 1, 'coz': 3, 'clarification': 1, 'avos': 2, 'manual': 2, 'lingual': 1, 'stimulation': 2, 'coochie': 1, 'class-': 1, 'fun-filled': 1, '8.6': 1, 'richter': 1, 'x_x': 1, 'itsokaythough': 1, 'richie': 2, 'yaaayyy': 1, 'refurb/academic': 1, 'discount/5': 1, 'allegro': 1, 'clairsville': 1, 'jada': 1, 'pinkett': 1, 'belie': 1, 'rank': 2, 'fdr': 2, 'scheduling': 1, 'thatcamposu': 2, 'martin~': 1, 'manpower': 1, 'crime-fighting': 1, 'capability': 1, 'armchair': 2, 'ir': 2, 'silverlake': 1, 'wal-marts': 1, 'e-ton': 1, 'bonnies': 1, 'voa': 1, 'mccaffrey': 1, 'sobering': 2, 'guaranteed': 4, 'uhmm': 2, 'mind.💙🎶': 1, 'barrel': 4, 'etsy': 3, 'smashed': 3, 'austria': 1, 'scalability': 1, 'was/is': 1, 'viennateng': 1, 'alexwong': 1, 'redskins': 3, 're-signing': 1, 'waived': 1, 'myers': 3, 'idempotent': 1, 'multiply': 2, 'ushering': 1, '3.0': 2, 'trad/conv': 1, 'clasrm': 1, 'surround': 3, 'whitespace': 1, 'solidify': 1, 'ngen': 1, 'non-superfan': 1, 'admired': 4, 'morimoto': 1, 'soba': 1, 'noexcuses': 1, 'payback': 2, '68': 3, 'arthritis': 1, '341': 2, 'mermaid': 2, 'nalee2010.com': 1, 'nalee': 1, 'cheez': 1, 'whiz': 2, 'waverley': 1, 'betoorourke': 1, 'elpaso': 1, 'amt': 2, 'whatta': 1, 'dissapointment': 1, 'brillion': 1, 'ledt': 1, 'sleep…': 1, 'irishman': 1, 'farmingdale': 1, 'hootenany': 1, 'michy': 1, 'bx': 2, 'brunette': 1, 'galadarling': 1, 'beckham': 3, '.shit': 1, 'treaters': 1, 'funest': 1, 'rubens': 1, '✈': 1, 'platos': 1, 'bucked': 1, 'bunts': 2, 'limbaugh': 1, 'nazimingle': 1, 'gwinnett': 1, 'adwords': 1, 'spotting': 1, 'dl1961': 1, 'bowen': 2, 'fittings': 1, 'rda': 1, 'compare/contrast': 1, 'aacr2': 1, 'metadata': 2, 'marshmallow': 4, 'bish': 1, 'towel': 2, 'workday': 1, 'wick': 1, 'school…crossing': 1, 'tweed': 1, '85th': 1, 'steer': 2, 'springfest': 1, 'hefner': 1, '6p.m': 1, 'sheads': 1, 'hyattabq': 1, 'apts': 1, 'imports': 1, '8-10.': 1, '750': 2, 'kalamazoo': 3, 'wp.me/p17cte-7z': 1, 'bge': 1, 'inadvertent': 1, 'anticipation': 4, 'triche': 1, 'summary': 3, 'tidings': 1, 'hanukkah': 1, '-sunshine': 1, 'missy': 4, 'higgins': 1, 'huntsman': 1, 'at:858.490.3930': 1, 'inserting': 1, 'friend♥': 1, 'hellomynameischristianbeadles': 1, 'isleib': 1, 'gnu': 1, 'gnc': 1, 'firefighters': 3, 'containment': 1, 'arrogance': 1, 'brainstorming': 3, 'inversely': 1, '7pg': 1, 'opposing': 2, 'experimentation': 1, 'craft-commerce': 1, 'justn': 1, '7:55pm': 1, 'sprinkles': 5, 'fdl': 1, 'sheb': 1, 'kasey': 1, 'obvs': 1, '\\ue415': 1, 'roughy': 1, 'juveniles': 1, 'mariana': 1, 'rmd': 1, 'cleanest': 1, 'gosling': 3, 'cavs': 2, 'logs': 1, '-c': 1, '\\ue00e\\ue32b': 1, 'hungrier': 1, '8-8': 1, 'probs': 2, 'transits': 1, 'astrology': 1, 'exhausting': 2, 'puss': 1, 'nugget': 3, 'tedxsd11': 1, \"atleasti'mactuallypassing\": 1, 'uwm': 2, 'campus-wide': 1, 'furlough': 1, 'hooves': 1, 'beak': 1, 'shameful': 2, 'jb': 6, 'mazing': 1, 'tumbleweed': 1, 'despair': 2, 'tgifs': 1, 'belvedere': 2, 'presspauseplay': 1, 'skimming': 1, 'winewednesday': 1, 'zinfandel': 1, 'www.facebook.com/fifeflowers': 1, 't-2': 1, 'dictator': 2, 'roofs': 1, 'www.notmessenger.com': 1, 'sahara': 1, 'entranced': 1, 'b**ch': 1, 'jammin': 2, 'thisibelieve': 1, 'teetalk': 1, \"'big\": 2, 'osky': 1, 'pos1': 1, 'fridayfail': 1, 'buns': 1, 'redemption': 1, 'maydayparadejake': 1, 'ox': 1, 'iris': 2, 'babybabayy': 1, 'letsgoheat': 1, 'fauja': 1, 'hootsuite': 3, '-happy': 1, 'ewwwwwwww': 1, 'meandering': 1, 'estuaries': 1, 'uncharted': 1, 'continent': 4, 'savages': 1, 'oozing': 2, 'u..': 1, 'bellevue': 2, 'bravern': 1, 'belding': 1, 'chirping': 3, 'blames': 1, 'moolah': 1, 'diapers': 1, 'pimpc': 1, 'whole*': 1, 'hahaha😂😂😂': 1, '18this': 1, 'begot': 3, 'hezron': 1, '19hezron': 1, 'ram': 2, '97/99': 1, 'bachmann': 2, 'clintondale': 1, 'thethingis': 1, 'non-existence': 1, 'spawn': 1, 'resurrection': 3, 'suspiciously': 1, 'boxers': 2, 'wifebeater': 1, 'rocroyal': 1, 'www.thepropertylover.com': 1, 'design-software.eu': 1, 'unified': 1, 'tuesday💗': 1, 'jonathan/sebastian': 1, 'world😱': 1, 'cute..': 1, 'startling': 2, 'bandoftheday': 1, 'pushes': 2, 'rome': 5, 'chalkboard': 2, 'physco': 1, 'atery': 1, 'thoooo': 1, 'laketravisins': 1, 'lyla': 2, 'tika': 1, 'navy': 4, 'insult': 3, 'muster': 1, 'one-man': 1, 'pairing': 3, 'bulls-eye': 1, 'rng': 1, 'preformence': 1, 'marveled': 2, 'w/people': 1, 'freshmanyeartaughtme': 1, 'headliner': 2, 'telo': 1, 'pego': 1, 'drakey': 1, 'epsilen': 1, 'mrs.': 9, 'wausau': 2, 'bsubroncos': 1, 'esu10': 1, '5-3': 1, 'steamrolling': 1, 'divided': 2, 'inward': 2, 'outward': 2, 'upward': 1, 'onward': 1, 'harass': 1, 'violation': 2, 'fdcpa': 1, 'vz': 1, 'refuses': 1, 'wr399': 1, '44287': 1, 'closeups': 1, 'banned': 3, 'fixit': 1, 'aquagirl/sweetheat': 1, 'ppv.got': 1, 'menchaca': 1, 'coleita': 1, 'menchacalita': 1, '.50': 1, 'diner': 4, 'jill': 2, 'anti': 5, 'elseways': 1, 't-thing': 1, 'joplin': 2, 'self-deploy': 1, 'set-': 1, 'elixir': 1, 'glam': 4, 'marginalization': 1, 'impt': 2, 'askjosh': 1, 'nsn': 3, 'onetime': 3, 'jesus-burger': 1, 'spokesperson': 2, 'dated': 3, 'ido': 1, 'fd': 1, 'wienerschnitzel': 1, 'centerpieces': 1, 'everywhre': 1, 'insecurities': 2, 'eme': 1, 'nigggga': 1, 'zuckerberg': 2, '👎': 2, 'owes': 2, '2009/2010': 1, 'vail': 1, 'www.vaildevo.com': 1, 'blinded': 1, 'so-called': 1, 'evils': 5, 'alrighty': 1, 'chillis': 1, 'fridayo': 1, 'clearomizers': 1, '-not': 2, 'peking': 3, 'pippi': 1, 'longstocking': 1, 'hotspot': 1, 'solis': 1, 'notn': 1, 'mythbusters': 1, 'transformation': 2, 'unlocked': 3, 'newborn': 2, '\\ue40e': 1, 'followmecody': 2, 'meier': 1, 'aztec': 2, 'pyramid': 1, 'skyscraper': 1, 'bit.ly/wzeloq': 1, 'suger': 1, 'danvers': 1, 'deliciously': 1, 'nursing': 5, 'coordinated': 1, 'sneezin': 1, 'need2': 1, 'staf': 1, 'narciso': 1, 'rodriguez': 2, 'motha': 4, 'f*': 1, 'socialbashorl': 1, 'somethingimscaredof': 1, 'spills': 3, 'extract': 2, 'scrape': 1, 'excess': 4, '314.845.0363': 1, 'crusty': 1, 'decoration': 2, 'impracticaljokers': 1, 'mystomachhurts': 1, 'rvd': 1, 'crassus': 1, 'sketch': 2, 'wizards': 1, 'holed': 1, 'nutrasweet': 1, 'splenda': 1, '👍😃': 1, 'paola': 1, 'defends': 2, 'statements': 1, 'ictc': 2, 'preps': 1, 'lubbock': 2, 'psychology': 2, 'science/math': 1, 'agendas': 1, 'enrolling': 1, 'livestreaming': 1, 'dcuo': 1, 'forums': 2, '\\ue107': 1, 'asleep.': 1, 'kettle': 2, 'centuries': 1, 'lifting': 2, '800lbs': 1, 'planetgreen': 1, 'wcc': 1, 'mwc': 1, 'imf': 1, 'g8': 1, 'milliseconds': 1, '100bil': 1, 'annually': 2, 'looting': 1, 'songicanrelateto': 1, 'ibooks2': 1, 'pundits': 1, 'likable': 1, 'charismatic': 1, 'patricia': 2, 't-mobile': 2, 'o2': 1, 'slayed': 1, 'admin.': 1, 'asst.': 1, 'soulja': 1, 'rudi': 1, '-diane': 1, 'reiss': 1, 'academe': 1, 'swole': 1, 'markup': 1, 'maintainable': 1, 'instance': 1, 'johncusack': 1, 'impersonator': 1, 'refworks': 1, 'odom': 3, ':30': 1, 'titletownfanatics': 1, 'lest': 3, 'plugs': 1, \"'where\": 1, 'spark': 3, 'lazily': 1, 'sfcat': 1, '–sf': 1, 'traditions-': 1, 'marin': 1, 'latino': 2, 'carnaval': 1, 'qué': 1, 'tradición': 1, 'place.hope': 1, 'kboe': 1, 'bald': 2, 'keybored': 1, 'small..': 1, 'rolo': 1, 'legitly': 1, \"''can\": 1, 'trick-': 1, '-into-becoming-a-plus-size-model': 1, 'wipe': 2, 'collided': 1, 'manchin': 1, 'ngga': 1, 'exactlly': 1, \"bid'ah\": 1, 'huquq': 1, \"al-'ibad\": 1, 'spirituality': 1, 'piety': 1, '-ml': 1, 'shah': 2, 'wasiullah': 1, 'attendent': 1, 'designing': 5, 'rollin..the': 1, 'over..not': 1, 'birthday..see': 1, '..now': 1, 'b*tch': 1, 'bus/limos': 1, 'followjerry': 1, 'antioxidant': 1, 'mykonos': 1, 'guys/girls': 1, 'yoo': 2, 'somerville': 2, 'password..': 1, 'lauderdale': 2, 'writerly': 1, 'tumbledown': 1, '*3': 1, 'later*': 2, '*1': 1, 'crrraaappppp': 1, 'greenway': 1, '50/h': 1, 'disassembly': 1, 'reassembly': 1, 'phonee': 1, 'doee': 1, 'xoxo♥': 2, 'shaquon': 1, \"'special\": 1, 'hdc': 1, 'beanies': 1, 'punt': 4, 'wck': 1, 'flatout': 1, 'a.d.s': 1, 'a-1': 1, 'g.m.s': 1, 'vries': 1, 'lolrt': 1, 'hulkmaniac': 1, 'sparkpluggies': 1, 'ridgely': 1, 'local/live': 1, 'sheffield': 1, 'liquid': 4, 'leggings': 1, 'intervene': 1, \"'homework\": 1, 'intentional': 2, 'soon..': 2, 'sancocho': 1, 'clit': 1, '4yo': 2, 'jenny': 1, 'hansson': 1, 'vithayathil': 1, 'us-': 1, 'ottawa': 1, 'colston': 1, 'creepers': 2, 'galley': 1, 'lászló': 1, 'krasznahorkai': 1, 'satantango': 1, 'jeal': 1, 'carpe': 1, 'diem': 1, 'roseanne': 1, 'barr': 1, 'boyfriendvideo': 1, 'swarming': 1, 'occupypotbellys': 1, 'stigmas': 1, 'sectors': 1, 'pref': 1, 'grabbing': 3, 'center..aka': 1, 'deliciousness': 1, 'sprite': 3, 'pabon': 1, '~marcus': 1, 'aurelius~': 1, 'nurture': 2, 'foryou': 1, 'liriano': 2, '4.3': 1, 'theoretically': 1, 'unnaturally': 1, 'whitneycnn': 1, 'profound': 5, 'warriors-thunder': 1, 'first-ever': 1, 'tyson': 2, 'talentless': 1, 'manipulative': 1, 'looming': 1, 'jacqueline': 1, 'me..can': 1, 'eatting': 1, 'pdf': 2, 'tabletpc': 1, 'amplifies': 1, 'vey': 1, '1:44': 1, '2-2': 1, 'aggregate': 1, 'barca': 2, \"n'est\": 1, 'preceded': 1, 'chaos.': 1, 'motherwell': 1, 'b.1915': 1, 'cematary': 1, 'pga': 3, 'dumass': 1, '*if': 1, 'illiterate': 1, 'dani': 1, 'gsfc': 1, 'tweetups': 2, 'celine': 1, 'dion': 1, '1997': 1, 'waa': 1, 'untill': 2, 'haymitch': 1, 'wisco': 1, 'expressiaann.com': 1, 'shameless': 3, 'svu': 1, 'w/this': 1, 'obgyn': 1, 'comapping': 1, 'prezi': 1, 'spice': 9, 'theentertainmentbucket.com': 1, 'girl..': 1, 'guesses': 2, 'prague…if': 1, 'boying': 1, 'antispec.com': 1, 'project-': 1, 'iite': 1, 'annoyin': 1, 'over-under': 1, 'casino-related': 1, 'mokka': 1, 'grooves..': 1, 'bars12': 1, 'assurant': 1, 'salem': 2, 'lunch/dinner': 1, 'monda': 1, 'murals': 2, 'whathurtsthemost': 1, '109': 2, 'bonnaroo2012': 1, 'abromovic': 1, \"'silence\": 1, 'fredonia': 1, 'bluedevils': 1, 'exgirl': 1, 'bobblehead': 3, 'statue': 2, 'shittiest': 1, 'attempting': 3, '1830s': 1, 'microcosm': 1, 'www.facebook.com/zakdowntown': 1, 'lunch-date': 1, 'playwright/screenwriter': 1, 'janine': 1, 'salinas': 1, 'dulce': 1, 'inconsistency': 1, 'inexplicable': 1, 'dart': 2, 'awakening': 2, 'kcrlive.com': 1, 'breakups': 1, 'getblunted': 1, 'howevs': 1, 'skinniness': 1, 'contexts': 1, 'oversee': 1, 'xsquad': 1, 'paulrudd': 1, 'homage': 1, 'x-factor': 2, 'lbyrpreview': 1, 'windshield': 2, 'askbarbara': 1, 'romanzolanski_': 1, 'deandre': 1, '3ft': 1, 'absent': 1, 'guiding': 1, 'cleaned': 6, 'kush': 4, 'revolutionized': 1, 'lsd': 2, 'slagging': 1, 'idea-erating': 1, 'canoe': 1, 'safer': 4, 'flamboyant': 1, 'trevor': 1, 'crowe': 1, 'krugman': 1, 'centrist': 2, 'starin': 1, 'sippin': 2, 'dominoes': 1, 'herman': 2, 'margin': 1, 'assistants': 1, 'witth': 1, 'klouting': 1, 'rebuke': 1, 'openly': 1, 'payton': 4, 'rewrites': 1, 'legitimately': 3, 'soulful': 1, 'menchies': 1, 'talmbout': 1, '5/7': 1, 'ambitious': 3, '10s': 2, 'represent': 3, '-roger': 1, 'staubach': 1, 'clovers': 1, 'lined': 1, 'wieters': 1, 'twinsies': 1, 'amas': 2, 'budans': 1, 'pathways/oi': 1, '9:00-11:00': 1, 'wage': 4, 'tfos': 1, 'bttf': 1, 'd3po': 1, '202-534-8151': 1, 'barks': 2, 'interviewtip': 1, 'dge': 1, '2006': 4, 'cadillacs': 1, 'geezers': 1, 'dynamics': 2, 'crm': 2, 'teachers/studio': 1, 'o-linemen': 1, 'viciously': 1, 'fringe': 1, 'unguarded': 1, 'highways': 1, 'columbo': 1, 'jakes': 1, '5k1.1': 1, 'sentencing': 1, 'guildelines': 1, 'downward': 1, 'typcl': 1, 'portlandia': 1, 'spokane': 1, 'nky': 1, '\\ue403': 3, 'arisen': 1, 'backtothegrind': 1, 'plague..going': 1, 'favorited': 3, 'cutters': 2, 'grays': 2, 'mabl': 1, '10-5.': 1, '鬼も十八番茶も出花': 1, 'quakecon': 1, 'reliever..': 1, '*winning*': 1, 'teamtigerblood': 1, 'firehouse': 3, 'dowager': 1, 'countess': 1, 'appalled': 1, 'balinese': 1, 'murdoch': 2, 'piers': 2, 'seawall': 1, 'flagship': 1, '91st': 1, 'qqin': 1, 'slp': 2, 'vacays': 1, 'wendy': 5, 'pooch': 1, 'tia': 2, 'serenity': 1, 'incl': 4, 'pivotal': 1, 'wherecanihear': 1, 'kingsizemaybe': 1, 'ustinov~': 1, 'keyhole': 1, 'playwrights': 2, 'storyofourlife': 1, 'i-795': 1, 'owings': 1, 'procure': 1, 'pinhead': 2, 'shaken': 1, 'syndrome': 3, 'lighter': 3, '10thingsihate': 1, 'brainfreeze': 1, 'queefs': 1, 'celibacy': 1, 'finalize': 1, 'dexter..': 1, 'dailybooth': 1, 'angelsandgentlemen': 1, 'yesturday': 1, 'ganache': 2, 'creamy': 2, 'disheartening': 1, 'topanga': 1, 'mtv2': 1, 'centralfl': 1, '~nielsen': 1, 'back.with': 1, 'lamborghini': 1, '10min': 1, 'tar': 1, 'turntables': 1, 'tandem': 2, 'pdd2012': 1, 'london2012': 1, 'presses': 1, 'teeing': 1, 'pro-am': 1, 'fluent': 3, 'yiddish': 1, '300.': 1, 'capable': 2, 'again.': 1, 'trustees': 3, 'oust': 1, 'spanier': 1, 'droids': 1, 'bboy': 1, 'j-deezy': 1, 'newjerz': 1, 'psd': 1, 'lmfaoooo': 2, 'owside': 1, 'spontaneity': 1, 'next-best': 1, 'cerulean': 1, 'headphone': 3, 'kenneth': 1, 'hahn': 1, 'www.nourishedfamilys.com': 1, 'corenbby': 1, 'occupied': 2, '25-35': 2, '50-60': 1, '100-level': 1, 'realz': 1, 'executing': 1, 'counselor': 2, 'troi': 1, 'approximates': 1, 'tense': 1, \"'legacy\": 1, 'duffy': 1, '4.1': 1, 'sdcouncil': 1, 'karl': 4, 'strauss': 2, 'counterproductive': 1, 'adjectives': 1, 'slash': 3, 'pell': 1, 'casilla': 1, 'cuddy': 1, '23m': 1, 'cat/dog': 1, 'cpr': 1, 'dine': 3, 'nuevo': 1, 'dolmn': 1, '183rd': 1, 'www.refresheverything.com/operationsoundoff': 1, 'muses': 2, 'containers': 1, 'modular': 1, 'blanchette': 1, 'modularrules': 1, 'amiadas2011': 1, 'twitpic.com/6pgdu8': 1, 'her.': 1, 'preform': 1, 'countin': 1, 'hoddies': 1, 'javelle': 1, 'intnatl': 1, 'mobb': 1, 'interaction': 2, 'peaks': 3, 'summits': 1, 'ranges': 1, 'mightier': 1, 'sword': 3, 'swittels': 1, 'too0o': 1, 'dia': 4, 'jgun': 1, 'lionel': 1, 'hahahart': 1, 'hotincleveland': 1, 'hollin': 1, '523': 1, 'gump': 1, 'goblin': 1, '-charles': 1, 'k9': 1, 'texans': 2, 'baton': 2, 'rouge': 2, 'fetid': 1, 'ambience': 2, 'swamps': 1, 'quarantine': 1, 'evvaa': 1, 'babay': 1, 'fakest': 1, 'definatly': 2, 'timessqaure': 1, 'dujardin': 1, 'nookcolor': 1, 'clousers': 1, 'trumansburg': 1, 'competitive': 2, '313.298.9630': 1, 'courtney': 3, '.hate': 1, 'prouder': 1, 'unmanlyconfession': 1, 'sina': 1, '63.25.': 1, 'sin…': 1, 'nourish': 1, 'invoices': 1, 'pun-filled': 1, 'beekeeping': 1, 'dicaprio': 1, 'representations': 1, 'cabrones': 1, 'purdon': 1, 'erotics': 1, 'spender': 1, 'pylons': 1, '-s': 1, 'pek': 1, 'j.j.': 1, 'flashly': 1, '▔\\\\▁': 1, 'ヅ': 1, '▁/▔': 1, 'withered': 1, 'dancefloor': 1, 'u.aa': 1, 'duhigg': 1, 'contacta': 1, 'super-antioxidant': 1, 'sulforaphane': 1, '*on': 2, 'facebook*': 2, '*93': 1, 'comments*': 1, '*mom': 1, 'this*': 1, 'yaaay': 1, 'troilus': 1, 'cressida': 1, 'realt-plush': 1, 'fangirls': 1, 'ratio': 3, 'faber': 1, 'peanuts-': 1, 'embargoed': 1, 'cables': 1, 'legs..': 1, 'yk..': 1, 'recruit': 1, '.idk': 1, 'mya': 1, 'hatchette': 1, 'winderweedle': 1, 'haines': 1, 'woodman': 1, 'filed': 3, '2abuse': 1, 'acela': 1, 'trains': 1, 'squeezy': 1, 'hug*': 1, 'tomb.this': 1, 'draft-spawned': 1, 'tarot': 2, 'laissez': 2, 'rouler': 2, 'spun': 1, 'brutal': 4, 'sraight': 1, \"'insider\": 1, '1b1s1b': 1, 'munching': 1, 'iep': 1, 'ama': 1, 'stunt': 1, 'interface': 1, 'stalker': 3, 'espiecally': 1, 'iloveyouuu': 1, 'panelist': 2, 'revisiting': 1, 'orphan': 2, 'metaphor': 4, 'abandoned': 3, 'misused': 1, 'thorough': 2, 'troublemakers': 1, 'know..': 2, 'capitol-': 1, 'toxins': 2, 'publish': 5, 'reminiscing': 2, 'savan': 1, 'donkey': 4, 'ubtech': 1, 'rayce': 1, 'forever.': 1, 'pans': 1, 'visionary': 3, 'mca': 5, 'n.h.': 1, 'freeroll': 2, '2minutes': 1, 'balmy': 3, '-n.t': 1, 'follows..hey': 1, 'follow4follow': 1, 'montpellier': 1, 'nunchuks': 1, 'folk/singers': 1, '60-84': 1, 'age-bias': 1, '17-26': 1, 'check-out': 1, 'importantly': 5, 'bfi': 1, 'situated': 1, 'beasted': 1, 'heifer': 1, 'utopias': 1, 'jamaican': 4, 'inshaallah': 1, 'ewwww': 1, 'americanmasters': 1, 'mptv': 1, 'webseries': 3, 'superintendent': 2, 'trickett': 1, 'farmville': 2, 'hydrating': 1, 'formerly': 2, 'altos': 1, 'kimoslobee': 1, 'piper': 1, 'offensively': 1, 'groundout': 1, 'leatherface': 2, 'horrorflick': 1, 'farmhand': 1, 'rockland': 1, 'boulders': 1, 'conferences': 2, 'autograph': 2, 'respected': 1, 'relocation': 2, 'bullied': 2, 'surgeon': 1, 'dividing': 1, 'conquer': 2, 'jax': 2, 'fas2012': 1, 'teenwolf': 1, 'houdini': 1, 'dolyle': 1, 'fued': 1, 'bootiful': 1, 'dimsum': 1, '5404': 1, 'p3': 1, 'p4': 1, 'hhr': 2, 'sausalito': 1, 'chessman': 1, 'pepperidge': 2, 'farm®': 1, 'ncoe': 1, 'spottheshuttle': 1, 'wands': 1, 'trucker': 1, 'customshirtprints.com': 1, 'longhairdontcare': 1, 'cartwright': 1, 'tfpg': 1, 'epcot': 1, 'silk': 5, 'chocomint': 1, 'armadillo': 1, 'stockyards': 1, 'sveum': 2, 'thuggs': 1, 'twit': 3, 'gucci': 2, 'bur': 1, 'nostrils': 1, 'cheeks': 3, 'abdomen': 1, '.keloidsurvey.com': 1, 'ana': 2, 'up.man': 1, 'sugary': 1, 'crumbly': 1, 'chewy': 1, 'theredrider': 1, 'punishment': 2, 'mixes': 2, '~pk': 1, 'conway': 1, 'earth-': 1, 'mushy': 1, 'tiny.cc/moire72': 1, 'student-led': 1, 'transformed': 1, 'warfare': 5, 'intersect': 1, 'foshay': 1, 'gingerbread': 4, 'sushirrito': 1, 'storyofmylife': 1, 'stares': 1, 'orally': 1, 'anally': 1, 'oden': 1, 'area-': 1, 'us-let': 1, 'frickin': 1, 'salons': 1, 'proven': 2, 'ventripoint': 1, 'pulmonary': 2, 'hypertension': 2, 'pah': 1, 'centres': 1, 'naomi': 2, 'septum': 1, 'piercing..': 1, 'clenched': 1, '585-455-2443': 1, '4/14': 3, '1-3:00': 1, 'nanini': 1, 'assigned': 2, 'prowl': 1, 'bma': 1, '-channel': 1, 'mnarketers': 1, 'motorola-subaru-': 1, 'tutelage': 1, 'pweeese': 1, 'firstedition': 1, 'rootwad': 1, 'chalonga': 1, 'dvring': 1, 'himym': 1, 'octavia': 2, 'racial': 2, 'pew': 1, 'vertical': 1, '08-11.': 1, 'tatt': 2, '3..': 1, 'marine': 3, 'youwannaimpressme': 1, 'evo': 2, 'twitterland': 3, '.im': 1, 'hair/makeup//lifetstyle': 1, 'flowin': 2, 'barney': 2, 'clipper': 1, 'jinxing': 1, 'bumming': 1, 'enhancements': 2, 'acquia': 1, 'shaw-like': 1, 'dt2': 1, 'green-tagged': 1, 'huddles': 1, 'fontana': 1, 'eldridge': 1, 'brownricefamily': 1, 'nester': 1, 'blac': 1, 'husbands': 2, 'thecn': 1, 'oink': 2, 'flap': 2, 'javel': 1, 'mcgee': 2, 'pols': 1, 'goober': 2, 'proposition': 1, 'logan': 2, 'baked': 6, 'rowe': 2, '3.0.': 1, 'ren': 1, '💝💝💜💛': 1, 'renewable': 1, 'thomasxdgk': 1, 'gal/lover': 1, 'floored': 1, 'greatfood': 1, 'appleton': 1, 'shazamed': 1, 'hangs': 1, 'lottes': 1, 'stacks': 1, 'vile': 1, 'tmzlive': 1, 'bangin': 1, 'rosetta': 1, 'lenoire': 1, 'coy': 1, 'edtechnyc': 1, 'gorilla': 3, 'penetrate': 2, 'k12': 1, 'watering': 3, 'dealt..': 1, 'ueah': 1, 'pope': 2, 'etc.': 1, 'courtneyjancocolous': 1, 'food:3': 1, 'mingle': 1, 'keone': 1, '21cradio': 2, 'dawg': 3, 'personable': 2, 'saracen': 1, 'quiting': 1, 'headquarters': 2, 'brussels': 1, 'powerfuln': 1, 'vinny**': 1, 'mistaking': 1, 'half-time': 2, 'sickening': 1, 'geraldo': 1, 'wither': 1, 'mockery': 1, 'pricey': 1, 'library..': 1, 'allentown': 1, 'pulitzer': 2, 'inquirer': 1, 'fillmore313': 1, 'sire': 1, 'cpope': 1, 'hemorrhoids': 1, 'prestigious': 1, 'personalization': 1, 'teacup': 2, 'hej': 1, 'anja': 1, '1,005th': 1, 'keene': 1, 'nh': 1, 'antioch': 1, 'professors': 3, 'afterschool': 1, 'dellani': 1, 'oakes': 1, 'haynes': 2, \"doesn't..\": 1, 'shehechat': 1, 'amcchicago': 1, 'pantherspulse': 1, 'grunge': 1, 'stresses': 1, 'fiscal': 1, 'assesments': 1, 'score.': 1, 'copeland': 1, 'whoooaaa': 1, 'traditionally': 1, 'lamott': 1, 'greenpeace': 1, 'shames': 1, 'natt': 1, 'spil': 1, 'maduro': 1, 'patioseating': 1, 'york..': 1, 'portery': 1, 'rickey': 1, 'progressively': 1, 'undermine': 1, 'scrabble': 2, 'brouhaha': 1, 'bit.ly/wqcgkr': 1, 'hopeless': 1, 'teamclean': 1, 'richton': 1, 'fu': 1, 'kel..from': 1, 'kel': 1, 'néw': 1, 'anything.6': 1, 'entertained': 4, 'sinclair': 1, '1878': 1, '1968': 1, ':deer': 1, ':twenty': 1, 'thinker': 1, 'crackpot': 1, 'conformity': 1, '28,1796': 1, \"'american\": 2, 'cookery': 1, 'amelia': 1, \"'local\": 1, 'ev-e-ry-thing': 1, 'aallfs': 1, 'masa': 1, 'jlin': 1, 'asian-american': 1, 'forbes': 2, 'rft': 1, 'muahahaha': 1, 'furthest': 1, 'paaaaaaarrrrtttyyyy': 1, 'frenzy': 1, 'paul-johnson': 1, 'durango': 1, '75.': 1, 'scrappy': 1, 'equipped': 1, 'hny': 1, 'vicki': 1, 'kountry': 1, 'kraft': 1, 'aos': 1, 'reviewing': 2, '130019': 1, 'romo': 3, 'www.trgcs.com/joinus.html': 1, 'bamboozle': 2, '18:2': 1, 'keuka': 1, 'jarrod': 1, 'fannypak': 1, 'happend': 3, 'bravery': 1, 'nwfa': 1, '736': 1, 'coughed': 1, 'harrison': 1, 'ford~': 1, 'shocks': 1, '.very': 3, '-follow10': 1, 'captitalism': 1, 'reflex': 2, 'wherever': 3, 'recognizable': 1, 'shortcode': 1, 'pondering': 2, '11.04': 1, '771,480.': 1, \"'its\": 1, 'sms-style': 1, 'psh': 2, '-great': 1, 'weirdo..': 1, 'avon': 3, 'ciao': 5, 'magnetic': 1, 'motivates': 1, 'ri': 4, 'beautiful-': 1, 'sorted': 1, 'leprechaun': 2, 'amg': 1, 'wondervisions': 1, '6-4-3': 1, 'thrifty': 1, '+14': 1, 'saddened': 2, 'nutgrabber69': 1, 'insomniac': 1, 'thot': 1, 'gwcc': 1, 'tackles': 2, 'maryvale': 1, '..lookin': 1, 'oneofmyfavoritemovies': 1, 'sphero': 1, 'ernest': 3, 'hemingway': 4, 'aromatic': 1, 'sweepings': 1, 'mulch': 1, 'tulips': 1, 'tuck-into-bed': 1, 'transparent': 2, 'beach💙': 1, 'shortcake': 1, 'vanilla-cinnamon': 1, 'scottsville': 2, '12:30': 2, 'pm.find': 1, 'fleet': 2, 'filament': 1, 'stripper.my': 1, 'goodeness': 1, 'toc': 2, 'arabtech': 1, '3-pointers': 1, '101-95': 1, '5:05': 1, 'brahmin': 1, 'maam': 1, 'garages': 1, 'loverly': 1, 'hashed': 2, 'murdered': 2, 'broski': 1, 'facers': 1, 'warm-under-the-covers': 1, 'dimes': 2, 'porcello': 2, 'cufon': 2, 'fouc': 1, \"d'y'all\": 1, 'apihackathon': 1, 'nearing': 1, 'dtc': 1, 'committees': 1, 'sdk': 1, 'accelerent': 1, 'conduct': 1, 'precise': 4, 'assess': 2, 'goshen': 1, 'hitchhikers': 1, 'cache': 3, 'well-deserved': 1, 'amazes': 2, 'superpowered': 1, 'menacing': 1, 'thomson': 1, 'asalh': 1, 'frederick': 1, 'douglass': 2, 'wrestlemania': 2, 'fiesta-': 1, 'discusses': 1, 'xactly': 1, 'incent': 1, 'footprint': 1, '2,500': 2, 'candies': 1, 'resisting': 1, 'cosmos': 2, 'alternate': 2, 'l-j': 1, 'pretest': 1, 'wouldv': 1, 'mastering': 4, '48hr': 1, 'boojum': 1, 'gilbert-and-sullivan-meet-david-lynch': 1, 'gapers': 1, 'facebook.com/event.php': 1, 'eid=161187553917177': 1, '\\ue413\\ue421': 1, 'orphanz™': 1, 'lajtoaiewh': 1, 'yhur': 1, '2maro..': 1, 'non-acidic': 1, 'gahh': 1, 'knoow': 1, 'destinies': 1, 'self-awareness': 1, '_changeg': 1, '_+-|_|': 1, 'yaa': 1, 'semis': 2, 'these..with': 1, 'nameyourfavoriterapper': 1, 'sosodef': 1, 'mimicking': 1, 'kleenex': 2, 'residence': 1, '*there': 1, 'theskiptebowlebronmovie': 1, 'over/under': 1, 'achievers': 1, \"'hoods\": 1, 'bartenders': 2, 'zealous': 1, 'dfa': 1, 'eveland': 1, 'ticks': 1, \"'it\": 1, 'proposing': 1, '86th': 1, 'rugs': 1, 'quilt': 1, 'mats': 1, 'carpenter': 2, '405': 3, 'browser-based': 1, 'app—it': 1, 'tricky': 1, 'fragmentation': 1, 'lac': 1, 'biche': 1, 'cbc.ca': 1, '656': 1, 'repeating': 2, 'toodrunk': 1, 'needtosleep': 1, 'askobama': 2, 'orbit': 1, 'cede': 1, 'merge': 2, 'twacebook': 1, 'wabbit': 2, 'trasnformed': 1, 'please..': 2, \"'clear\": 1, 'butterfinger': 1, 'minis': 1, 'offends': 1, 'boston-busy': 1, 'mops': 1, 'vict': 1, 'gotti': 1, 'performers': 3, 'singit': 1, 'bringit': 1, 'schwingit': 1, 'line.': 1, 'thankfulness': 1, 'seanletwat': 1, 'tunnels': 1, 'underneath': 2, 'slu': 1, 'shity': 1, 'rubs': 1, 'twitter..im': 1, 'shows..peace': 1, 'chamblins': 1, 'dink': 1, 'troegenator': 1, 'bobble': 1, 'plasma': 1, 'seized': 3, 'tilt': 4, 'processors': 1, 'wcha': 1, 'minn': 1, 'outright': 2, 'angelique': 1, 'munro': 1, 'mj': 3, 'acount': 2, 'chatrm..sounds': 1, 'shirt..that': 1, 'ilikecheese': 1, 'milky': 1, 'foxes': 1, 'heat-seeking': 1, 'missiles': 1, 'baracudas': 1, 'cfaleadercast': 1, 'idiosyncratic': 1, 'formulaic': 1, 'buckingham': 1, 'clinking': 1, 'it�s': 4, 'quitacting': 1, 'jeesh': 1, '130': 1, 'roadrunners': 1, 'rochelle': 1, 'p.is': 1, 'phi': 2, '1yr': 1, '2live-cancer': 1, 'her-gave': 1, 're-runs': 1, 'zbo': 1, 'conley': 1, 'oreto': 1, 'rs1': 1, 'resurfacing': 1, 'treason': 1, 'bashing': 1, 'unpublished': 1, 'bolog': 1, 'idella': 1, 'out-of-shape': 1, 'puddle': 4, \"t'aime\": 1, 'cousine': 1, 'shield': 1, 'guards': 2, 'wishin': 1, 'weedropweerock': 1, 'ikeda': 1, 'tahoe': 1, 'summitt': 1, 'beefin': 1, 'thurgood': 1, 'u.k.': 1, 'reem': 1, 'domino': 1, 'clark..now': 1, '2013..this': 1, \"'idol\": 1, 'j.lo': 1, '6000': 1, '\\ue231': 1, 'warehousing': 1, 'parallel': 2, 'a.l': 1, 'competing': 1, 'mio': 2, 'babbino': 1, 'caro': 1, 'youmakeme': 1, 'superstar': 7, 'madonnas': 1, '-nobody': 1, 'nearer': 1, 'cameroon': 1, 'americaslargestwaterpark': 1, 'noahsark': 1, 'lewi': 1, 'longmire': 1, 'kgw': 1, 'wiunion': 3, \"gr'dad\": 1, 'handyman': 2, 'clinic/coach': 1, 'mailed': 2, 'uptempo': 1, '5am=': 1, 'awk': 2, 'requring': 1, 'accnts': 2, 'pw': 1, '5/16': 1, 'festers': 1, 'southerner': 1, 'verb': 1, 'adverb': 1, 'keltec': 1, 'pf-9': 1, 'particulars': 1, 'rut': 1, 'roh': 2, '4/17-4/25': 1, 'hubs': 1, 'pokeejoes': 1, 'barbq': 1, 'chuckie': 1, 'under-used': 1, 'shouted': 2, 'laughin': 1, 'prosper': 2, 'dungeon': 2, 'secsoftball': 1, 'sourdough': 1, 'signer': 1, 'roi': 1, 'groundhog': 2, 'immediatelly': 1, 'wlk': 1, 'gtfo': 2, 'play-offs': 1, 'overblown': 1, 'fucydhvufjf': 1, 'liesgirlstellforattention': 1, 'sincerity': 1, 'weezy': 2, 'twenty-five': 1, 'meet-n-greet': 1, 'austintodc': 1, 'inge': 3, '8figures': 1, 'blueford': 1, 'dole': 1, 'noises': 1, 'invincible': 1, 'zooey': 2, 'deschanel': 1, 'nip': 1, '1929.': 1, '681': 1, 'somone': 2, 'jacketman09': 1, 'www.varsityjackets09.com': 1, 'www.varsityjacketspittsburgh.com': 1, 'refferal': 1, 'elways': 1, '\\ue336\\ue337': 1, '\\ue057': 2, 'usmc': 1, 'cpt': 1, 'giesen': 1, 'krv': 1, 'yourself..': 1, 'destined': 3, 'mediocrity': 1, 'thingsmymothersays': 1, 'tomahawk': 1, 'low-cholesterol': 1, '4.62': 1, 'aficionado': 1, 'yumm': 2, 'fockers': 1, 'aged': 3, 'preservenyc': 1, 'truths': 1, 'somebodies': 1, '1/8': 1, 'nylon': 1, 'underscore': 1, 'wgbh': 1, 'krauss': 1, 'ballerina': 1, 'yeahh': 3, 'weekday': 1, '7.95': 1, '0r': 1, 'parmesan': 1, 'givemeback': 1, 'oldtwitter': 1, 'sharted': 1, 'aea': 1, 'hat/scarf': 1, 'synagogues': 1, 'this.': 2, 'sculpted': 1, 'figurines': 1, 'alberto': 2, 'paintin': 1, 'hatin': 3, 'goodday': 1, 'agga': 1, 'uzoh': 1, 'contempt': 1, 'suree': 1, 'hesitant': 1, '11:00pm': 1, 'dots..': 1, 'qfc': 1, 'pools': 1, 'longhorns': 1, 'nja': 1, 'anthropology': 2, 'lent': 1, 'nectar': 1, '💋💙☺🎉🎈🎈🎁': 1, 'siren': 2, 'drudge': 1, 'resisted': 1, 'while…': 1, 'spammers': 2, 'chester': 2, 'nuff': 1, 'whooping': 2, 'wrath': 4, 'kindled': 1, 'flame.-theodore': 1, 'open-hand': 1, 'amassing': 1, 'bobbi': 1, '..miss': 1, 'distribute': 2, 'unselfishness': 1, 'likeability': 1, 'chalk': 1, '207': 3, 'unsung': 1, 'targeting': 3, 'victors': 1, 'thrive': 2, 'truelove': 1, 'biter': 1, 'roomers': 1, 'helm-': 1, 'auctioning': 1, 'ott': 1, \"'37\": 1, 'chiozza': 1, 'bartell': 1, 'kimberly': 2, 'sasha': 1, 'creeped': 1, 'handmade': 2, 'mhmkay': 1, 'homework-_-': 1, 'drabek': 1, 'personnel': 5, 'crustache': 1, 'thenewyorker': 1, 'twitpic.com/69my01': 1, '36.30': 1, 'heads-up': 1, 'standwithwalker': 1, 'slang': 3, 'sitch': 1, 'deets': 1, 'reo': 1, 'speedwagon': 1, 'styx': 1, '..zoo': 1, 'optr': 1, 'tide': 3, 'shifting': 2, 'icon..have': 1, 'received.well': 1, '3hr': 1, '.dont': 1, 'advices': 1, 'jamburrito': 1, 'tardy': 1, '6:15': 1, 'loveyoubabe': 1, '😂😉😘': 1, 'mom*': 1, 'everytime..': 1, 'talk..': 2, 'rendón': 1, 'linguistics': 3, 'narrating': 1, 'quintessence': 1, 'pain..': 1, 'handles': 1, '*secrets*': 1, 'tea-bag': 1, 'tit': 2, 'belting': 1, 'pitino': 2, 'errbooddy': 1, 'lebrons': 2, 'deion': 1, 'hackett': 2, 'champlain': 1, 'bartholemew': 1, 'auditioned': 1, 'nescafe': 1, 'myspecialpoweris': 1, 'altering': 2, 'dimples': 2, \"'how\": 1, 'db': 5, 'regularizing': 1, '4-car': 1, 'cigarette': 3, 'juvaderm': 1, 'filler': 1, 'eleven': 1, '68°': 1, '58°': 1, 'lakeside': 1, 'more.-': 1, 'griffith': 1, 'joyner': 1, 'hex': 1, 'sportsnet+': 1, '285': 1, 'mind.flv': 1, 'legen': 1, 'reinforcer': 1, 'artic': 1, 'preschooler': 1, 'hahahha': 4, 'middleman': 1, 'regaining': 1, 'faculties': 1, 'www.stateauthentics.com': 1, 'pair/flush': 1, 'buddy..': 1, 'quadruple': 1, 'fledged': 1, 'gumshoe': 1, 'watermark': 1, 'adventuretime': 1, 'morcelle': 1, 'hav': 6, 'framing': 1, 'pre-settler': 1, 'aaaaahhhhhhhhhhhh': 1, 'makey..': 1, 'fat..': 1, 'pack..what': 1, '~richie': 1, 'mink': 1, 'extremes': 1, 'equanimity': 1, 'seton': 1, 'persepolis': 1, 'disability': 3, 'accommodation': 1, 'flummoxed': 1, 'sat.': 2, '10am-3pm': 1, 'internationally': 1, 'dubai': 4, 'davincivirtual': 1, 'blech': 1, 'khalifah': 1, 'abacela': 1, 'spike': 1, 'antwan': 1, 'patton': 1, 'mullins': 1, 'indiaarlie': 1, '8/11': 1, 'greatestwomanonearth': 1, '😝💗👍': 1, 'resentment': 2, 'caterpillar': 2, 'sparkly': 3, 'actresses': 1, 'racialprofiling': 1, 'lessens': 1, '\\ue405': 2, 'jkjk': 1, 'pratt': 2, 'mmj': 2, 'tokedtees': 1, 'mist': 1, '183': 2, '1115': 2, 'bastrop': 1, '78702': 1, 'aaaephx': 1, 'bootlegs': 1, 'maccabi': 1, 'aviv': 1, 'panathinaikos': 1, 'masturbate': 1, 'masturbating': 2, 'womensbasketball': 1, '5/8': 1, 'foronenightonly': 1, 'fancyshmancy': 1, 'lovz': 8, '4:54': 1, 'originals': 2, '\\ue411': 1, 'vw': 2, 'vader': 1, 'multi-tasking': 1, 'grinding': 3, 'ncl': 1, 'sailings': 1, 'reduces': 4, 'onboard': 1, '877-416-9722': 1, 'ext': 1, '4413': 1, 'ooolala': 1, 'antelope': 1, 'topped': 1, 'pancetta': 2, 'discourage': 1, 'brutus': 1, 'to-morrow': 1, 'evangelical': 1, 'cedars': 1, 'venturing': 1, 'ethical/societal': 1, 'respirators': 1, 'vaginas': 1, 'warts': 1, 'bschool': 1, 'redistricting': 1, 'districts': 1, 'fuckinnn': 1, 'city-united': 1, 'cedric': 1, 'cronies': 1, 'spades': 1, '1/29/2012': 1, 'reporters': 3, 'cartels-': 1, 'withhold': 1, 'bylines': 1, 'bodyguards': 1, 'limone': 1, 'pop-up': 1, '49er': 1, 'neworleansbowl': 1, 'restless': 1, 'here-_-some': 1, 'thesilktie.com': 2, 'nope..': 1, 'holdin': 1, 'hangin': 4, 'bowl-': 1, 'dwelling': 1, '~rt': 1, 'starvation': 2, 'tsunamis': 1, 'diameter': 1, 'prevail': 1, 'smith..': 1, 'fistpump': 1, 'handbook': 1, 'makingmoney': 1, 'andpizza': 1, '70+': 1, 'grindsmygears': 1, 'lekousis': 1, 'whales..': 1, 'loins': 1, 'healin': 1, 'tricked': 2, 'bradfield': 1, 'lombard': 1, 'genome': 1, 'coli': 1, 'americanreunion': 1, 'rape': 3, 'father.': 2, 'babyee': 1, 'plays..': 1, 'sway': 1, 'roomba': 2, 'buteau': 1, 'bca': 1, 'anyway…..': 1, 'headshots': 1, 'haiti': 5, '2200': 1, 'rufus': 1, 'wainright': 1, 'helena': 1, 'bonham': 1, 'eesh': 1, 'riddles': 1, 'mans': 2, 'voterng': 1, 'ltv': 1, 'tronny': 1, 'grace—the': 1, 'worthiness': 1, '-marilynne': 1, 'gilead': 2, 're-used': 1, 'circumvent': 1, 'fickle': 1, 'mosquito': 1, 'humanist': 2, 'excels': 1, 'appriciate': 1, '80barz': 1, 'lawless': 1, 'bodie': 1, 'up..silence': 1, 'lambs': 1, 'affiliate': 1, 'mah..god': 1, 'supercommittee': 1, 'superfails': 1, 'stefan': 2, 'hamill': 1, 'flopped': 2, 'grafton': 1, 'one..haha': 1, '70th': 1, 'barbra': 1, 'serra': 1, 'wag': 1, 'louvin': 1, '1.29': 1, 'ain': 1, 'rules2live': 1, 'by~be': 1, 'slow2condemn': 1, 'quick2forgive': 1, 'take♥': 1, 'nemanja': 1, 'owchu': 1, 'cheladas': 1, 'sugars': 1, 'varying': 1, 'reality\\ue32d': 1, 'tullius': 1, 'cicero': 1, '11/27': 1, 'stauth': 1, 'cameo': 1, 'columnist': 1, 'kahn': 1, 'brother-in-law': 1, 'grease': 3, '79': 1, '-salvador': 1, 'dali': 3, 'friendships': 1, 'cheekies': 1, 'daria': 1, 'troubled': 1, '.linkup': 1, 'hickson': 1, 'waivers': 1, 'maloof': 2, 'color..': 1, 'bienvenue': 1, '23:4': 1, 'templates': 1, 'wishful': 2, '1776': 1, 'supportin': 1, 'giivng': 1, 'reshare': 1, 'muscular': 2, 'thatmoment': 1, 'twitpic': 1, 'haircuts': 1, 'yous': 1, \"cream'wich\": 1, 'atchya': 1, 'free..': 1, 'distlist': 1, '9:27pm': 1, '9:50': 1, '83': 3, 'misspelled': 1, 'lithium': 1, 'realized/remembered': 1, 'puffy': 1, 'codo': 1, \"o'clock\": 3, '**important**': 1, 'sntck': 1, 'specialneeds': 2, 'writings': 1, 'pullittogether': 1, 'towers': 2, 'eggnog': 3, 'udc': 1, 'incessant': 1, 'makena': 1, \"'less\": 1, '1080': 1, 'boating': 2, 'crises': 1, 'green/sustainable': 1, '99.9': 1, 'carnival': 2, 'whitepeoplehobbies': 1, 'cops..': 1, 'blackpeoplehobbies': 1, 'running..': 1, '2011asa': 1, 'dec': 1, 'arbitrary': 1, 'dictatorial': 1, 'domineering': 1, 'imperious': 1, 'units': 1, 'numbering': 1, 'rehabilitation': 1, 'm.c': 1, 'juggalos': 1, 'misuse': 1, 'goaallll': 1, 'ilovethepens': 1, 'martins': 2, 'alena': 1, '++': 2, 'upsetting': 1, '~dana': 1, 'happymonday': 1, 'sparkle': 2, 'gravy': 2, 'titties': 4, 'denver_broncos': 1, 'devine': 1, 'teal': 2, 'noccbreakthesilence': 1, 'ovariancancer': 1, 'tiring': 1, 'mot': 1, 'cheney': 2, 'boar': 1, 'satanic': 1, 'mybabyis': 1, 'ohmygaw': 1, 'armendariz': 1, 'bcaz': 1, 'aliviane': 1, 'pwi': 1, '¡orale': 1, 'timepiece': 1, 'beach..i': 1, 'causeway': 1, 'street..i': 1, 'starofhope': 1, 'shirts..': 1, '16oz': 1, 'yings': 1, 'unwashed': 1, 'veggies': 3, 'smooth-talking': 1, 'devises': 1, 'ex-girlfriend': 1, 'abby': 1, 'gripping': 1, 'thriller': 2, \"'fair\": 1, 'aldean': 2, 'disks': 2, 'out-': 1, 'african-american': 1, 'planter': 2, '1834': 1, '1836': 1, 'suny-buffalo': 1, 'brittain': 1, 'postdoctoral': 1, 'wtg': 1, 'trippy': 3, 'stange': 1, 'texing': 1, 'domaine': 1, 'haegi': 1, 'bumbershoot': 1, 'metacurrencies': 1, 'consultant': 1, 'hommie': 1, '80degree': 1, 'bvb': 1, 'parody': 2, 'affirmative': 1, 'durning/costas': 1, 'madolar/eric': 1, 'ettabari/blanche': 1, 'colder': 2, 'hardwick': 1, 'helium': 2, 'rewrite': 1, 'osby': 1, '12-month-a-year': 1, '*gets': 1, 'ass*': 1, 'subtweet': 1, 'stefon': 1, '11-1': 1, 'goes2the': 1, 'yaaaaaaayyyyyyy': 1, 'pronounce': 2, '-pablo': 1, 'picasso': 1, 'scalabrine': 2, 'out..u': 1, 'to..yea': 1, 'u..but': 1, 'exceptionally': 2, 'dinnertime': 1, 'garowenet': 1, 'radiates': 1, 'blonds': 1, 'unruly': 1, 'old+being': 1, 'late=ugly': 1, 'distinguishes': 1, 'follower.': 1, 'enriching': 1, 'misplacing': 1, 'self-talk': 1, 'adultlearners': 1, 'tender': 1, 'arrivals': 1, 'resolutions': 2, 'tweets..': 3, 'hows..everyone': 1, 'doing..': 1, 'presto': 1, \"'cool\": 1, 'artie': 2, 'militant': 1, 'threaten': 1, 'boycott': 2, 'ofsted': 1, 'inspections': 1, 'mew': 1, 'poofed': 1, 'bceagles': 1, \"i'm..angered\": 1, \"'posing\": 1, \"baby'..we\": 1, 'being..let': 1, '-the': 2, 'weetabix': 1, 'filmset': 1, 'funnyquotes': 1, 'sleepy-tea': 1, 'berryline': 1, 'raspberry-lime': 1, 'salted': 1, 'caramel': 3, 'rag': 2, 'linsanity': 1, 'givens': 1, 'k-high': 1, 'theft': 1, 'upside': 2, 'knighthawks': 1, 'jamieson': 1, 'rupert': 1, \"'not\": 1, 'company-': 1, 'impulses': 1, 'moment-by-moment': 1, 'lang': 1, 'form..': 1, 'tinaturner': 1, 'execute': 1, 'rhcp': 1, 'present-': 1, 'italy': 8, '💩': 1, 'unblurred': 1, 'doorknob': 1, '♥♥♥♥': 1, 'serratore': 1, 'vanwettering': 1, 'thebcrowd': 1, 'rachet': 1, 'hipsters': 4, 'outlining': 1, 'yeuss': 1, 'wadup': 1, 'edwardsville': 1, 'adamantium': 1, 'audie': 1, 'penitentiaries': 1, 'prose': 1, '-abigail': 1, 'resolvee': 1, 'charted': 1, 'decrease': 3, 'comprehension': 2, 'jamieoliver': 1, 'valentinesday': 1, 'punjab': 2, 'bre': 1, 'binaural': 1, 'noise-free': 1, 'bose': 1, 'semi-trance': 1, 'writing/editing': 1, 'lynchburg': 2, 'runyon': 1, 'ache': 3, 'ok-then': 1, 'summertimefine': 1, 'athens': 1, 'dumbasses': 1, 'strangefactsaboutme': 1, 'pics/articles': 1, 'ebony': 3, 'whitest': 1, 'ré': 1, 'ebiznow': 2, 'sizzling': 1, 'purity': 1, 'bienvenid': 1, 'w/other': 1, 'hayes': 1, 'wp.me/ps3ns-ry': 1, 'bacc': 1, 'wayz': 1, 'ahmad': 2, 'shyting': 1, 'mani': 1, 'okayy': 2, 'starving\\ue057': 1, 'melon': 1, 'bksq': 1, 'iwannameet': 1, 'empowerment': 1, 'magnificence': 1, 'asd': 1, 'digitalgovu': 1, 'glutes': 1, 'ouchie': 2, 'rocker': 2, 'keatons': 1, 'hungover': 3, 'lupia': 1, 'beatrice': 1, 'gerrish': 1, 'year..love': 1, 'razorblades': 1, '4/16': 1, 'self-defecating': 1, 'future-service': 1, 'monolithic': 1, 'student-run': 1, 'yey': 1, 'im5': 1, 'stylists': 1, 'entranceway': 1, 'sayn': 2, 'poish': 1, 'nantucket': 1, 'nectars': 1, 'dexter': 1, 'sanpedro': 2, \"'12\": 2, 'commited': 1, '*yournames*': 1, 'tebowing': 2, 'astroturf': 1, 'collegiate': 1, 'stite': 1, 'pistachio': 2, 'neapolitan': 1, 'ducks/missouri': 1, 'mismatch': 1, 'inevitable': 4, 'bipod': 1, '.12': 1, 'shitguyssay': 1, 'tezting': 1, '^o^': 1, 'air..turn': 1, 'please😏': 1, 'decarts': 1, 'repro': 1, 'inlaid': 1, 'scrums': 1, 'whistles': 1, '*updating': 1, '*cancel*': 1, 'tss': 1, 'sarai': 1, 'lanett': 1, 'trades': 3, 'tweeton': 1, 'surrendered': 1, 'defeats': 1, 'preserving': 2, '1860': 2, 'ingalls': 2, 'wilder': 1, 'tamagotchi': 1, 'starving': 3, 'crpt': 1, 'manatee': 2, 'hist': 1, 'facility': 4, 'bradenton': 1, 'cem': 1, 'corey': 3, 'perlman': 1, 'b114': 1, 'doak': 1, 'rebelkins': 1, 'huggz': 1, 'inshallah': 1, 'buster..': 1, 'commonly': 1, 'geese': 1, 'globally': 1, 'unintended': 2, 'maternity': 1, 'blasted': 2, '3day_weekends': 1, 'shrink': 1, 'sealer': 1, 'poly': 1, 'crimper': 1, '11/10': 1, 'karaoke/spoken': 1, '7p-10p': 1, 'feathers': 4, 'zollo': 1, 'edumooc': 1, 'mooc': 1, 'coneys': 1, 'ahahhahaha': 1, 'westberg': 1, 'sabbath': 2, 'frozenyogurt': 1, 'wilsonville': 3, 'flipout': 2, 'reckless': 1, '14th-century': 1, '*hollers': 1, 'antonela*': 1, 'enduring': 1, 'willard': 1, '12am': 1, 'www.amessageofhopecf.org': 1, 'orchard': 1, 'wmg': 1, 'mvr': 1, 'optimization': 1, 'alabamy': 1, 'sammy-': 1, 'i-25': 2, 'colorado-': 1, 'cdot': 1, 'becareful': 1, 'dplease': 1, 'fr': 6, 'explicit': 1, 'theluckyone': 1, 'bfpg': 1, 'practical': 3, 'mccartney': 1, 'mor': 1, 'disgusted': 1, 'cuse': 4, 'grefine': 1, '*just*': 1, 'socstardom': 1, 'alfaro': 1, \"'research\": 1, 'aapa2012': 1, '2-3:30.': 1, 'botched': 1, 'insolent': 1, 'w.colonialsphotosbyjen.shutterfly.com': 1, 'superchunk': 1, 'reissues': 1, '*think*': 1, 'rewatched': 1, 'garcetti': 1, '3/31': 1, 'taix': 1, '1911': 1, '4any': 1, 'good2': 1, 'searchengine': 1, 'ycmiu': 1, 'bbyrt': 1, 'ovaries': 1, 'auditioning': 2, 'champagnethursday': 1, 'preordered': 1, 'accnt': 1, 'investigate': 1, 'knackered': 1, 'sprung': 2, 'wraps': 3, 'av': 1, 'truss': 1, 'illustrating': 1, '\\ue106': 1, 'votto': 1, 'strasberg': 1, 'crumbles': 1, 'outer': 1, 'ampersandbox': 1, 'apolitical': 2, 'bookshop': 1, '04/25/12': 1, 'cigar-in-hand': 1, 'lmsunsig': 1, 'followings': 2, 'dares': 1, 'by~': 1, 'huneker': 1, 'omgshhhhhh': 1, 'miama': 1, 'j12': 1, 'fuels': 2, 'moneys': 1, '530': 2, '299.99': 1, '6.21.09': 1, 'helm.i': 1, 'mouch': 1, 'senegal': 1, 'reba': 1, 'plight': 1, '250gb': 1, 'somestuff': 1, 'flutter': 1, 'cmon': 1, 'ofcourse': 1, 'howard=heat': 1, 'godaddy': 1, 'recognition': 3, 'fraudino': 1, 'biblical': 1, 'annette': 1, 'hugh': 1, 'prather': 1, 'pistons': 1, 'delegate': 1, 'mcmahon': 1, 'phobia': 1, 'hippopotomonstrosesquippedaliophobia': 1, 'ugh..': 1, 'narv-dog': 1, 'uhp': 1, 'wangs': 2, 'doop': 1, 'kdwb': 1, '101.3': 1, 'commodification': 1, 'deserving': 3, 'bubbly': 2, '1¢': 1, 'prago': 1, '2thingsiappreciate': 1, 'simpsom': 1, 'temperatures': 3, 'dmin': 1, 'class-sort': 1, 'school-thank': 1, 'cider': 2, 'unfiltered': 1, 'barnbaum': 1, 'thoughtfulness': 1, 'human…': 1, 'continues.hope': 1, 'sabri': 1, 'nihari': 1, 'pakistani': 1, 'moroccan': 1, 'andalous': 1, 'somali': 1, 'muslim': 1, '-for': 1, '11:00-12:00pm': 1, '10:55': 2, 'rejections': 2, 'media-istas': 1, '95': 5, 'afghan': 1, 'pathans': 1, 'north-west': 1, 'frontier': 2, 'kashmir': 1, 'sind': 1, 'baluchistan': 1, 'brightly.': 1, 'eskimo': 1, 'puddy': 1, 'wacko': 1, 'bad-style': 1, 'loove': 2, 'loufa': 1, 'witcher': 1, 'faq': 1, 'basball': 1, 'rerouted': 1, 'i43': 1, 'overpass': 1, 'cultofmacrules': 1, 'inherited': 1, 'noblesse': 1, 'oblige': 1, 'adjusting': 2, 'everytwittertimeline': 1, 'wonk': 2, 'denzel': 2, 'bbq..': 1, 'yuuuummmyyy..': 1, 'stapler': 2, 'pahaha': 2, 'foundations': 1, 'assignment..': 1, '105.1': 1, 'interv': 1, 'nws': 1, 'issued': 1, 'clarke': 1, 'conecuh': 1, 'covington': 1, 'crenshaw': 1, 'escambia': 1, 'pop-tarts': 1, 'audibly': 1, 'cornflake': 1, 'thuglife': 2, 'zack': 1, 'nephew..': 1, 'timezone': 1, 'searches': 4, \"'iranians\": 1, '+4000': 1, 'museos': 1, 'trainer/kill-buyer': 1, 'combinations': 1, 'racetracks': 1, '~jo': 1, 'normile': 1, 'lear': 1, 'ulcer': 2, 'dragons': 1, 'ncm': 2, 'rj': 1, '21-year-old': 1, 'overwhelm': 1, 'wishbone': 1, 'collapsed': 2, 'facetime': 1, '^sm': 1, '.end': 1, 'sayin..big': 1, 'tomorrow..': 2, 'wheaties': 1, 'aggs': 1, 'janoskians': 1, 'vcdx': 1, 'vmwarepex': 1, 'guys.': 1, 'ebook': 1, '2.99': 1, 'overhauled': 1, 'kendra': 1, 'fabulously': 2, 'energyefficient': 1, 'reflectivity': 1, 'crrc®': 1, '.someday': 1, 'phyllis': 2, 'mozart': 1, '12ish': 1, \"'think\": 1, 'regina': 1, 'feasting': 1, 'eraser': 2, '.png': 2, 'squatch': 1, 'watchers': 1, 'seattle—a': 1, 'haahaa': 1, '4/22': 1, 'mobbin': 2, '🙌': 1, 'cho': 1, 'grafitti': 1, 'steele': 1, '7:00pm': 1, '-george': 1, 'trooper': 1, 'yesterday-': 1, 'incident': 2, 'graced': 1, 'casinos': 2, '*excited*': 1, 'fresh-cracked': 1, 'donny': 1, 'kpdx': 1, 'fox12': 1, 'alaric': 1, 'resistant': 1, 'dickman': 3, 'benaroya': 1, 'landfills': 1, 'waaaack': 1, '11:15': 1, 'albioni': 1, 'latley': 1, 'out-douching': 1, 'condescending': 1, 'educause': 1, 'marc12': 1, 'adaptable': 1, 'doping': 1, 'ar-truf': 1, 'damiani': 1, 'micelis': 1, '3655': 1, 'ding': 3, 'fezfriday': 1, 'hiphop': 2, '.whatever': 1, \"got'em\": 1, '.wish': 1, 'kud': 1, 'wid': 1, 'granny': 2, 'buticant': 1, 'everything-': 1, \"'drops\": 1, 'businesses..': 1, 'reco': 1, 'prado..': 1, 'rampant': 1, 'pcb': 1, 'nibbling': 1, 'lifeguard': 1, 'differentiates': 1, 'one-eyed': 1, 'germano': 1, 'nachbaur': 1, '.looking': 2, '5+': 1, \"'friendly\": 1, \"'making\": 1, 'excitemnet': 1, 'edmundson': 1, 'distant': 2, 'people..': 3, 'hibernating': 1, 'whitneyhuoston': 1, 'atlantic': 3, 'stationn': 1, 'group-i': 1, '2mro': 1, 'w/barely': 1, 'fascination': 2, 'bloated': 1, 'treatise': 1, 'genre': 2, 'reviewer': 3, 'bumped': 2, 'microsecond': 1, 'brea': 1, 'mifflin': 1, 'northwood': 1, 'whatwillgagawear': 1, 'obv': 1, 'landiego': 1, 'thet': 1, 'sequins': 1, 'manliest': 1, 'aflowin': 1, 'dangit': 1, 'tft': 1, '2mo': 1, 'www.bubbabrain.com': 1, 'smartboard': 1, 'warranties': 1, 'disclaimers': 1, 'clauses': 1, 'googledegook': 1, 'folksy': 1, 'non-legalese': 1, '12/4': 1, 'pubcampmia': 1, 'expansive': 1, 'absorbent': 1, 'tonight..skating': 1, 'bestfriends🎶😜': 1, 'montages': 1, 'unremitting': 1, 'henna': 1, 'tuesday-thursday': 1, 'congressman': 1, 'paso..': 1, 'coffeshop': 1, 'india': 3, 'slather': 2, 'notfair': 1, 'askedbif': 1, \"'reesee\": 1, 'romeo': 1, 'dogme': 1, 'csunity': 1, 'freeman': 1, 'eloquent': 1, 'cecil': 1, 'demille': 1, 'goldenglobes': 1, 'dreamier': 1, 'curmudgeons': 1, 'ramming': 1, 'bischoff': 1, 'chyna': 1, 'folsom': 1, 'gruden': 1, 'ins': 1, 'unchecked': 1, '76ers': 1, 'turners': 1, 'snatch': 1, 'snatches': 1, 'peppy': 1, 'bestcomplimentever': 1, 'blazed': 1, '😜👯': 1, 'dreena': 1, 'gina': 1, 'margs': 1, 'hyflex': 1, 'via-': 4, 'erick': 1, \"beat'em\": 1, '*i': 2, 'nouns': 1, 'som1': 1, 'mite': 2, 'givin': 2, 'americaa': 1, 'world2.0': 1, 'accumulated': 2, 'inventions': 2, 'voltaire': 1, 'chickiewhawha': 1, '8-10p': 1, 'bridging': 1, \"drown'n\": 1, 'upmost': 1, \"fuck'n\": 1, 'holcomb': 1, 'henson': 1, 'russ': 4, 'nauseous': 1, 'whts': 1, 'ar': 1, 'zambian': 1, 'scheming': 1, 'thanking': 3, 'wad': 2, 'asa': 1, 'shareholders': 1, 'dimon': 1, 'yahoonews': 2, '3yrs': 2, 'imperfectly': 1, 'gdconline': 1, 'borden': 2, 'ncsoft': 1, 'ashbrook': 1, 'lukewarm': 3, 'classiest': 1, 'skoal': 1, 'little-known': 1, 'vinnie': 1, 'chulk': 1, 'clean-shaven': 1, 'presidence': 1, '20mil': 1, 'kohut': 1, 'disillusioned': 1, 'bfast': 1, 'archivist': 2, 'quo': 1, 'katz': 1, 'jellyfish': 1, 'scars': 1, 'yuh': 2, 'ps-you': 1, 'congruent': 2, 'jarobi': 1, 'tcq': 1, 'hahhah': 1, 'sleppy': 1, 'chapters': 2, 'mormon': 1, 'polygamy': 1, '💐': 1, 'senators': 2, 'lugar': 3, '4,440': 1, 'uicdae': 1, 'mutimedia': 1, 'uiuc': 1, 'summerville': 1, 'exposes': 1, 'corruption': 2, 'soimpressed': 1, 'rewind': 2, 'esley': 1, 'life..': 2, 'videoed': 1, 'longsands': 1, 'spiderman': 2, 'hard-hat': 1, 'followmeariana': 1, 'ctlc2012': 1, 'hdnet': 1, 'artwalk': 4, 'haha..i': 1, 'myself..enjoy': 1, 'perm': 1, 'zone..': 1, 'ficarellifriday': 1, 'redpantsfriday': 1, 'j-peezy': 1, 'colton': 1, 'batman.': 1, 'battleground': 1, 'parallels': 1, 'hansen': 1, 'bonmac': 1, 'dripper': 1, 'v60': 1, 'brazil/': 1, 'ethiopian': 3, 'jokers': 1, 'por': 2, 'comunidad': 1, 'maori': 1, 'flurries': 1, 'respectfully': 1, 'whiskeys': 1, 'ear': 4, '\\ue41b': 1, 'steelseries': 1, 'qck': 1, 'validity': 2, 'hermanas': 1, 'lovingg': 1, '*my': 1, 'part*': 1, 'whut': 1, 'pusha': 2, 'ict': 1, 'marxian': 1, 'www.myspace.com/rachelmargaretmusic': 1, \"'comedy\": 1, 'fewest': 1, 'cheapen': 1, 'reign': 2, 'cyber': 2, 'opencape': 1, 'kreider': 2, \"check'n\": 1, 'putas': 1, 'muertas': 1, 'donee': 1, 'platformize': 1, 'waters/many': 1, 'altuve': 1, 'lowrie': 1, 'starfukcer': 1, 'hemmingway': 1, 'coures': 1, 'house..come': 1, 'w/you': 1, 'tweople': 1, 'admins': 1, 'flipped': 1, 'fashion-ignorant': 1, 'callers': 3, 'hematology': 1, 'efficiency': 3, 'sacrificing': 1, '00': 1, 'fit2go': 1, 'time😘': 1, 'kenzo': 1, 'numba': 1, 'nightclub': 1, 'justthewayitis': 1, 'dempster': 1, 'valverde': 1, 'verlander': 2, 'binge': 1, 'revamping': 1, 'fusebox': 1, 'mentionyourcrush': 1, 'inverse': 1, 'kinematics': 1, 'sr.': 1, 'gamertag': 1, 'pweeaasees': 1, 'prestige': 2, 'indiegogo': 1, 'airyell': 1, 'a+++++++': 1, 'legalization': 1, '858-486-4070': 1, 'funner': 1, 'ctg': 1, 'tweet-meet': 1, 'bette': 1, 'portuguese': 2, 'argentina': 2, 'portugal': 1, 'publicly': 2, 'ritche': 1, '1959': 1, 'underwears': 1, 'cypress': 2, 'rant-': 1, 'conseco': 1, 'amc': 2, 'delighted': 1, 'spreadthepeace': 1, 'arman': 1, '4ward': 1, 'man-up': 1, '.give': 1, 'ciesta': 1, '4.5': 1, 'cfc': 1, 'infuriating': 1, 'iranian': 2, 'diaspora': 1, '13-14': 1, 'narges': 1, 'bajoghli': 1, 'continually': 1, 'brilliantly': 1, 'insoluble': 1, 'rump': 1, 'human..': 1, 'shlager': 1, 'schnopps': 1, 'owwwwww': 1, '.as': 1, '8-8pm': 1, 'appointment*': 1, 'serious.': 1, 'ecclesia2012': 1, '200oz': 1, 'blueberry': 1, 'kaiser': 3, 'mine:3': 1, 'costner': 1, 'ode': 1, 'imitation': 1, 'sincerest': 1, 'flattery': 1, 'bside': 1, 'brownstone': 1, 'fyii': 1, 'muahahha': 1, 'visua': 1, 'vodafone': 1, 'wallpapers': 1, 'peru': 2, 'johsnon': 1, 'calvinjohnson': 1, 'liner': 3, 'grounding': 2, 'vasectomies': 1, 'environ': 1, 'yds': 1, 'yesterdays': 1, 'conservatively': 1, '.friday': 1, 'anywayyss': 1, 'birthdayy': 1, 'grawn': 1, 'refugee': 2, 'culinary': 3, 'msmq': 1, 'farrago': 1, 'ratigan': 1, 'wevegottimetohelp': 1, 'abyss': 3, 'zim': 1, 'pacificbeach': 1, '3-5': 2, '1-3': 2, 'wojey': 1, 'filmed': 6, 'tumblertour': 1, 'sludged': 1, 'whatisthenameofthatsong': 1, 'patches': 2, 'chuckle': 1, 'mitterand': 1, 'audited': 1, 'carissa': 1, 'allie': 1, 'somewheresafer': 1, 'alotta': 2, 'psychologist': 1, '14.54': 1, 'abyzov': 1, 'dep': 1, 'opengov': 1, '11am-1pm': 1, 'w/y': 1, 'djnateski': 1, 'tidy': 1, 'allegory': 1, 'katherine': 3, 'engineer': 2, '45th': 1, 'str': 1, 'balm': 1, 'wt': 1, 'wheninrva': 1, 'attracting': 3, 'foodsleep': 1, 'confiesoque': 1, 'mater': 4, 'whens': 1, 'wine/blunt': 1, 'nightt': 1, 'twenties': 1, 'causing': 3, 'h.s': 1, 'w/me': 2, 'confession': 2, 'esteem': 2, 'snubs': 1, 'html': 3, 'wri…': 1, 'k-rec': 1, 'kronum': 1, 'august-september': 1, 'nanas': 1, 'coldplayonidol': 1, 'banner/chris': 1, 'starr': 1, 'edamame': 1, 'corrective': 1, 'prevents': 2, 'cranks.~henri': 1, 'bergson': 1, 'wired': 2, 'drseuss': 1, 'sotellmewhy': 1, 'chihuahuas': 1, 'u.s.a.': 1, 'leifoveandsnes': 1, 'carnegiehall': 1, 'poorchoices': 1, '😜': 3, 'squinting': 1, 'spells': 1, 'c-r-a-z-y': 1, 'smh..': 1, 'bafriday': 1, 'kitesurfing': 1, 'butterbear': 1, 'wsb-tv': 1, 'emory': 2, 'mummy': 2, '10/23': 1, 'p.m': 5, 'baohaus': 1, '72-day': 1, '20-years': 1, 'intestinal': 1, 'discomfort-including': 1, 'bloating': 1, 'davos': 1, 'journalist': 2, 'switzerland': 1, 'bottomless': 1, 'bfmusicfactoid': 1, '1987': 1, 'rooftop': 1, \"'getting\": 1, 'ib8': 1, 'sadie': 1, 'verbal': 1, 'titled': 1, 'pi-search': 1, 'stormm': 1, '¡': 1, 'cycling': 2, 'guidance': 3, 'supershuttle': 1, 'bigtennetwork': 1, '36k': 1, '1600': 3, 'me..yolo': 1, '2:40': 1, 'occupyjax': 1, 'relocate': 3, 'kiddo': 2, 'uploads': 2, 'kforce': 1, 'enable': 2, 'rename': 3, 'mere': 1, 'renamed': 1, 'reentry': 3, 'turkeyfest': 1, 'brosky': 1, 'rich..': 1, 'follett': 1, 'springsteenlyrics': 1, 'yeow': 1, 'kalish': 1, 'reddick': 1, '4.00': 2, 'clevershit': 1, 'southland': 1, 'portray': 1, 'perp': 1, 'aight': 3, '9/17/': 1, 'hulls2': 1, 'villains': 1, 'wgvu': 1, '88.5': 1, 'allendale': 1, 'kittie': 1, 'cam..': 1, 'unattributed': 1, 'phillip': 5, '👌👍': 1, 'long-range': 1, 'ginsberg': 1, 'scalia': 2, 'wellesley': 2, \"'90\": 2, 'northeastern': 1, 'happenin': 2, '*specific*': 1, 'preference': 2, 'dc/northern': 1, 'wicket': 1, 'blaming': 2, '100episodes': 1, 'llol': 1, 'cooperative': 2, '23365': 1, 'workaround': 1, 'oneday': 1, 'oneday..': 1, 'adequate': 2, 'edmonds': 1, 'entreprneur': 1, 'blowers': 1, 'gulliver': 1, 'fahrenheit': 1, 'capper': 1, 'karla': 1, 'sneezes': 2, 'dga': 1, 'rowers': 1, 'zeus': 1, 'ihub': 1, 'olivee': 1, 'inthesummer': 1, 'ships': 1, 'abandons': 1, 'osonoi-san': 1, 'trollin': 1, 'guava': 1, 'courtesy': 1, 'zip': 2, 'motherboy': 1, 'judd': 1, 'scissorhands': 1, \"s'pose\": 1, 'visy-goth': 1, '~the': 1, \"c'sm\": 1, 'laketime': 1, 'crusader': 1, 'workshop/audition': 1, '4000': 1, 'latinos': 2, 'baltic': 1, 'richards': 1, 'dishwalla': 1, 'vpearl6': 1, 'acne': 1, 'clears': 1, 'boyfran': 1, 'lovez': 1, 'grandfather': 3, 'butchers': 1, 'pnw': 2, 'bitbull': 1, 'towing': 2, 'maegan': 1, '👉😲🔫': 1, 'prosecuted': 1, 'urs': 1, '12yo': 1, 'effectiveness': 1, 'mu…': 1, 'barcamp': 1, 'headin': 2, 'blackjack': 2, 'kezar': 1, 'politicking': 1, 'timo': 1, 'diseases': 1, 'doctors': 3, 'philanthropists': 1, 'occupyatlanta': 1, 'ragoons': 1, 'followup': 1, 'pulpit': 1, 'perception': 3, 'severely': 2, 'disturbed': 1, 'grandmothers': 1, 'preparations': 1, 'mitigating': 1, 'ddos': 1, 'thing-your': 1, 'stature': 1, 'sealers': 1, 'sonn': 1, 'peoplestring': 1, 'community-building': 1, 'cinnabon': 1, 'dearest': 1, 'drita': 1, 'hausa': 1, 'jonathanvilma': 1, 'sues': 1, 'rogergoodell': 1, 'mkt': 1, 'say,1993': 1, 'margins': 1, 'eroding': 1, 'w00t': 2, 'kesem': 1, 'prettyprogressive': 1, 'all..its': 1, '8hrs': 1, 'significantly': 1, 'sumn': 2, 'frustrates': 2, 'women-only': 1, 'excluded': 2, 'transportation': 2, 'accounts-': 1, 'scooter': 1, 'sized': 2, 'offerng': 1, 'twitterlites': 1, 'he-': 1, 'offenses': 1, 'quarterfinal': 1, 'most..': 1, '916-319-2056': 1, 'circulate': 1, 'goo.gl/wsbsh': 1, 'niqqqa': 1, 'bitxh': 1, 'dissers': 1, 'concords': 1, 'pelecanos': 1, 'ah=gain': 1, 'lbvs': 1, 'rumours': 1, 'gym-going': 1, 'drink.eat.dance': 1, 'onasile': 1, 'bigman': 1, 'freebigman': 1, 'kd': 1, 'bowa': 1, 'bunting': 3, 'crossroads': 1, 'www.crossroads33.blogspot.com': 1, 'yeea': 1, 'leapyear': 1, 'freakout': 1, 'photo-op': 1, 'mejor': 1, 'laurderdale': 1, 'palladium': 1, 'hel': 1, 'guidette': 1, 'staten': 1, 'heehee': 1, 'cartlandia': 1, '82nd': 2, 'beer/wine': 1, 'volkswagens': 1, '+video': 1, 'foreclosure': 1, '972-249-7219': 1, 'concertsonthecurve': 1, '.\\ue40d\\ue404\\ue30a': 1, 'startrek': 1, 'voyager': 1, '~susie': 1, 'home-cooking': 1, 'apron': 1, 'fashionable': 2, 'arodge': 1, 'bookwhore': 1, '~oprah': 1, 'hockeyhipster': 1, 'rear': 2, \"'smallows\": 1, 'creme': 2, 'shavings': 1, 'crumbled': 1, 'vines': 1, 'nsboston': 1, 'honda': 4, 'overstock': 1, 'filene': 1, 'dint': 1, 'brong': 1, 'photocopier': 1, 'billions': 1, 'mediacom': 1, 'otherworld': 1, 'fairies': 2, 'isastc': 1, 'childofgod169': 1, 'raiders': 1, 'slush': 1, 'first-class': 1, 'endodontics': 1, '3-d': 1, 'ummyeawatupdoe': 1, 'gameboy': 1, 'sega': 1, 'function.': 1, 'kuroder': 1, 'winnah': 1, '8,800': 1, 'illness': 2, 'housingmatterssd.org': 1, 'tefl': 1, 'description': 3, 'misplaced': 2, 'sga': 1, 'cuban-style': 1, 'co-': 1, 'nashvegas': 1, 'helix-la': 1, 'reliable': 4, 'lx': 1, '169/mo': 1, '210': 1, 'contributors': 1, '-choirbunny': 1, 'siooh': 1, 'sahota': 1, 'isabella': 1, 'predawn': 1, 'yes..': 3, 'installs': 1, 'clams': 1, 'rigorous': 1, 'cruella': 1, 'ville': 1, 'cackaaa': 1, 'kiffin': 1, 'tenn': 2, '5.27': 1, 'laser-timed': 1, 'say-i': 1, 'pnr': 1, 'crs': 1, 'enforcement': 3, 'prot': 1, 'ista': 1, 'cyberbullying': 1, 'pamela': 1, 'booksellers': 1, 'twitcon': 1, 'utica': 1, '03/22': 1, 'taiko': 1, 'hourish': 1, 'bahahahaa': 1, 'buttholes': 1, 'swac': 1, 'love/hate': 1, 'broke..': 1, 'panama': 1, 'seatac': 1, 'park-n-ride': 1, 'rudolph': 2, 'avalanche': 1, 'accommodations': 1, '1.30': 1, 'honcho': 1, 'afficial': 1, 'drunk-driving': 1, 'thingswomenwant': 1, 'knooooo': 1, 'bebe': 3, 'dawling': 1, 'loaner': 1, 'bookshare': 1, 'arrangement': 2, 'snippet': 1, 'disrespecter': 1, 'spaces': 5, \"'white\": 1, 'miniseries': 1, '830am': 1, '2901': 1, 'fannin': 1, 'sins': 1, 'cinthia': 1, 'bailed': 2, 'good-morning': 1, '••': 1, 'smash.should': 1, 'customers/users': 1, 'assad': 1, 'shelling': 1, 'homs': 1, 'neighborhoods': 2, 'rubble': 1, 'ithought': 1, '2.2': 1, 'exports': 1, 'anchorman': 1, 'co-edited': 1, 'ethridge': 1, 'rockabout': 1, 'hrhpickme': 1, 'on.': 1, 'parrots': 1, 'zygodactylous': 1, 'zygodactyl': 1, 'disorders': 1, 'vessels': 1, 'ambulance': 2, 'sped': 1, 'slammed': 1, 'brakes': 2, 'patching': 1, 'ath9k': 1, 'krystel': 1, 'betnadette': 1, 'bltmore': 1, 'text-fitch': 1, 'regulatory': 2, 'yyou': 1, 'herrera': 1, 'mesquite': 1, 'acc': 1, 'imagineaustin': 1, '*kiss*': 1, 'brot': 1, 'sometines': 1, 'coa': 1, 'tribune': 3, 'angst': 1, 'gonzaga': 1, 'geeked': 1, 'tattedtuesday': 1, '💙💙💚': 1, 'muthaaaaaa': 1, 'lorelai': 1, 'soconfused': 1, 'saks': 1, 'escaping': 1, 'palo': 1, 'alto': 1, 'pepperoni': 3, 'geoffrey': 1, 'gamble': 1, 'esq': 1, 'icc': 2, 'mustaches': 1, 'pedophiles': 1, 'over-analyse': 1, 'unspoken': 3, 'distributed': 1, 'kailey': 1, 'faccccck': 1, 'toughest': 3, 'predicaments': 1, 'rallies': 1, 'aide': 2, 'arrangements': 1, 'midlands': 1, 'commencing': 3, \"coolness'o'meter\": 1, 'tallied': 1, 'registers': 1, '2.02': 1, '14:50': 1, 'fee-for-art': 1, 'requirement': 1, 'statues': 1, 'stalkerish': 1, 'today.great': 1, 'flaun': 1, 'marital': 1, 'boozy-mocha-a-go': 1, 'fondle': 1, 'gelato': 1, 'door.': 1, 'milton': 1, 'berle': 1, 'lucian': 1, '156': 1, 'bermuda': 1, 'visor': 1, 'fedora': 1, '8:01': 1, 'lefty': 1, 'straighten': 1, 'curl': 2, 'suvs': 1, 'futbol': 2, 'one-lane': 1, 'roads—they': 1, 'tenzing': 1, 'norbu': 1, 'ish..now': 1, 'him..smh': 1, 'teamphiphi': 1, 'jakarta': 1, '15.': 1, '1997.': 1, 'unprofessional': 1, 'wuvvvv': 1, 'necro': 1, 'butcher': 3, '+10g': 2, \"'o\": 1, 'stunner': 1, 'brodus': 1, 'busts': 1, 'pre-tests': 1, 'snapshot': 1, 'uplifting': 1, 'pokerstars': 1, 'blinds': 3, 'tanking': 1, 'scarlet': 1, 'asktheboyz': 1, 'waveform': 1, 'musberger': 1, 'mauling': 2, '5210': 1, 'tedxnashville': 1, 'decorating': 1, 'sophomoreyeartaughtme': 1, '❤✌💤🌙': 1, 'holograms': 2, 'candlelight': 1, 'loss/gain': 1, 'contemporary': 3, 'kaelyn': 1, 'jeep': 1, 'imthatpersonwho': 1, 'cavities': 1, 'unchained': 1, 'disappearin': 1, 'acton': 1, 'ayyyyee': 1, '\\ue05a\\ue00e': 1, 'sojuca': 1, '→': 1, 'illustrators': 1, 'all-emoji': 1, 'grow-from-the-ground': 1, 'chickens': 2, 'cesar': 1, 'izturis': 1, 'lucroy': 2, 'grrr': 2, 'tuyo': 1, '*1d': 1, 'a*': 1, '1971': 1, 'thegloss': 1, 'kuikui': 1, 'omfggg': 1, \"a'f\": 2, 'choi': 1, 'dora': 3, 'squarepants': 1, 'sifi': 1, 'pick-up': 1, 'largely': 1, 'soprano': 2, 'yaheyra': 1, '^-^': 3, '1059thebrew.com': 1, 'msc': 1, 'ecylinder': 1, 'wantz': 1, 'smithsonite': 1, 'hyatt': 2, 'regency': 2, '4t': 1, 'w/machines': 1, 'upstream2012': 1, 'implement': 1, 'gatherings': 1, 'slams': 2, 'nutrient-rich': 1, 'emo': 2, 'sudden': 4, 'bwahaha': 1, 'passengers': 2, 'buf': 1, 'kuechly': 1, '49ers': 3, '***': 1, 'improvementt': 1, '*teachers': 1, 'agree.go': 1, 'casted': 1, 'chiptole': 2, 'uuh': 1, 'ahm': 1, 'bier': 1, 'garde': 1, 'schwartzbier': 1, 'bubbling': 2, 'disconnect': 1, 'submitting': 3, 'www.iheartonenote': 1, 'cantaloop': 1, 'pro-kooooopez': 1, 'reserant': 1, '10-4': 1, '416': 1, 'broaden': 1, 'cand': 1, 'anxieties': 1, 'hundo': 1, 'brunches': 1, 'antidote': 2, 'disown': 1, 'sprinting': 1, 'tommorows': 1, 'onsies': 1, 'hush': 6, 'wooten': 1, 'rockhurst': 1, 'beleive': 1, 'skeptictank': 1, 'simeone': 1, 'prout': 1, 'classify': 1, 'proteins': 1, '.feel': 1, 'dx': 1, 'feelsgood': 1, 'tucker': 1, 'joyous': 1, 'elisabeth': 1, '73rd': 1, 'kristallnacht': 1, 'docent': 1, 'sommers': 1, 'hamburg': 1, 'hollen': 1, 'fife': 1, 'mutts': 1, 'prequel': 1, 'nlh': 1, 'yeesssssssss': 1, 'unwatchable': 1, '45-44': 1, 'lic': 1, 'immenur': 1, \"'international\": 1, 'vampire-proof': 1, '23ppl': 1, 'sahs': 1, 'gassy': 2, 'lolollololol': 1, 'thomaskeller': 1, 'yet-to-be-released': 1, 'fessparker': 1, 'whitewine': 1, 'mdc': 1, 'dons': 1, 'dorito': 1, 'artsy': 2, 'inbuilt': 1, 'schools/teachers/kids': 1, 'loo': 1, 'rosh': 1, 'hoshanah': 1, 'alechaim': 1, 'yehi': 1, 'ratson': 1, 'contributing': 3, 'day..come': 1, 'fios': 1, '11738': 1, 'irresistible': 1, 'irresistibly': 1, 'frost': 2, 'gametime': 1, 'carnegie': 2, 'moodle': 3, '2.2.': 1, 'read/view': 1, 'wita': 1, 'gtta': 1, 'oooooooonnnnnn': 1, 'analog': 1, 'dustry': 1, 'capitalized': 3, 'ht': 2, 'opps': 2, 'crazymary': 1, 'cityglamevents.com': 1, 'demonicderek': 1, 'humber': 2, 'humbest': 1, 'whoopss': 1, 'lata': 1, '109-90': 1, 'something..': 2, 'dailyquote': 1, 'monona': 1, 'swamp': 2, 'self-promo': 1, '01/18': 1, 'elisha': 1, 'potatoes..': 1, 'staright.': 1, 'engage/watch': 1, 'nighter': 1, 'colt': 2, 'analysts': 1, 'granular': 2, 'tonality': 1, 'coulter': 1, 'takemeback': 1, 'prime-time': 1, 'teamfitness': 1, 'supplying': 1, 'ketchup': 3, 'oh..how': 1, 'earls': 1, 'bergamot': 1, 'ncu': 1, 'boobylicious': 1, 'www.komendenver.com': 1, 'synonym': 1, 'inferior': 2, 'infested': 1, 'lice': 1, 'protest': 1, 'owusu': 1, 'subsequent': 1, 'concussions': 1, 'recess': 1, 'alexi': 1, 'bffs': 1, 'better~': 1, 'cigs': 1, 'compromises': 1, 'imitates': 1, 'unnecessary': 1, 'bsu': 1, 'antengo': 1, 'location-based': 1, 'classifieds': 1, 'thingsih8doing': 1, 'snoclothing': 1, 'yours..www.snoclothing.com': 1, 'demolished': 1, 'tbell': 1, \"'dance\": 2, 'publicist': 1, 'envision': 1, 'redrock': 1, 'saloon': 1, \"'national\": 1, '^w^': 1, 'udhoops': 1, 'soph': 1, 'all-scac': 1, 'honorable': 1, 'braclets': 3, 'digitizing': 1, 'newsletters': 2, 'all-': 1, 'hungarian': 1, 'sloan/harris/gee/jamison/samuels': 1, 'kramme': 1, 'goethe': 1, 'vinnyswagg': 1, 'iconicidiot': 1, 'rampage': 1, 'smoothies': 2, 'blatantly': 1, 'nob': 2, 'arrrgghhh': 1, 'myheartmap': 1, 'also/a': 1, 'afloat': 1, 'blackwell': 1, 'junious': 1, 'lashawn': 1, 'chatmon': 1, 'spelt': 1, 'twitter/facebook': 1, 'localwiki': 1, 'sentance': 1, 'apollyon': 1, 'segura': 1, 'consensus': 2, 'issac': 1, '7-eleven': 1, 'juke': 1, 'soupy': 1, 'caption': 1, 'opal': 1, 'simple-': 1, 'bonus-': 1, 'flatscreens': 1, 'hoarding': 3, 'hallway': 3, 'weaknesses': 4, 'httq': 1, '1682': 1, 'complained': 1, 'oranje': 1, 'dubious': 2, 'habit-': 1, 'aristotle': 1, 'healthyliving': 1, 'ods': 1, 'aoa': 2, 'pix/meetings': 1, 'aoahill': 1, 'vollmann': 1, 'callenbach': 1, 'ectopia': 1, 'salas': 1, '25¢': 1, 'relativity': 1, 'heii': 1, 'dilemas': 1, 'sí': 2, 'brava': 1, 'influencer': 1, '.forever': 1, 'waterways': 1, 'joan': 2, 'malling': 1, 'glasser': 1, 'consequence': 2, 'tethered': 1, 'isolation': 2, 'autonomy': 1, 'perverse': 1, 'caramels': 1, 'tedx': 1, 'cosi': 1, 'quarterly': 2, 'stallings': 1, 'grady': 1, 'sanford': 1, 'illusion': 2, 'albeit': 1, 'tako': 1, 'truk': 1, 'marination': 1, 'tamale': 2, 'dbms': 1, 'incorporates': 1, 'interweb': 1, 'kong': 2, 'clam': 2, 'ephesians': 2, '5:20': 2, 'brathaus': 1, 'catch22': 1, 'reputable': 1, 'hotsting': 1, 'compant': 1, 'moderate': 2, 'wltya': 1, 'melloy': 1, 'kbb': 1, 'consolidate': 2, 'coupons.physical': 1, 'omfgggg': 1, 'wildcatsinmotion': 1, 'phone.': 1, 'taxation': 1, 'representation': 3, 'joffrey': 1, 'progressing': 2, 'm.i.j': 1, 'hyponatremia': 1, 'deals-in-progress': 1, 'first-hand': 1, 'renovate': 1, 'v-neck': 1, 'actofest': 1, 'sweatpants': 1, 'ideation12': 1, '////': 1, 'woof': 1, '==': 2, 'getugly': 1, 'forreal..': 1, 'spam..putting': 1, 'fireproof': 1, 'rows': 1, 'asexual': 1, 'chocolates': 2, '-r.c': 1, 'sproul': 1, 'madz': 1, 'milwaukee..': 2, 'walk/run': 1, 'landslide': 1, 'whole30': 1, 'lifesize': 1, '8wks': 1, 'rest351': 1, 'tot': 1, 'reactionary': 1, 'insincere': 1, 'documenting': 1, 'dominance': 2, 'usurped': 1, 'jenkins': 4, 'methadone': 1, 'helwell': 1, 'hurricanes': 1, 'envhist': 2, 'sep': 1, 'bryz': 1, 'connectivity': 3, 'malfunctions': 1, 'dealership': 2, 'rhe': 1, '7:25am': 1, '7-8': 1, '10:30am': 1, 'cancelations': 1, 'wecome': 1, 'armyworms': 1, 'frass': 1, 'now.': 1, 'unconference': 1, 'sledding': 1, 'elver': 1, 'www.cityofmadison.com/winter': 1, 'lenny': 2, 'gresham': 1, 'qtr': 1, 'magistrate': 1, 'seminole': 1, 'bffl': 1, 'assemble': 2, 'schock': 1, 'snoclothing™': 2, 'www.snoclothing.com': 1, 'botch': 1, 're-living': 1, 'defly': 2, 'ms.miller': 1, 'know.your': 1, 'sacrificed': 1, 'sac': 4, 'communications-centric': 1, 'translating': 1, 'followanytime': 1, 'youh': 1, 'ripdonna': 1, 'day~bamm': 1, 'dat..': 1, 'theyreal': 1, 'goodnigggghttttt': 1, 'refactor': 1, 'recieved': 1, 'doren': 1, 'icann': 1, '1-sided': 1, 'half-truths': 1, 'grand-standing': 1, 'stumbled': 2, 'bounds': 1, 'pre-thanksgiving': 1, 'narrowed': 1, 'freshener': 1, 'recycled': 3, 'monsieur': 1, 'bho': 1, 'kidnap': 2, 'www.souncloud.com/djdmannyc': 1, '.ok': 1, 'clamps': 1, 's.i.n': 1, 'geeking': 1, 'pottermore': 1, 'ravenclaw': 1, 'acid': 2, 'quandary': 1, '6-10am': 1, 'buddyy': 1, 'parentheses': 1, 'sourcing': 2, 'www.androiddevla.com': 1, 'www.iphonedevla.com': 1, 'respectively': 1, 'online_gamer': 1, 'web-serie': 1, '15-miles': 1, 'btr100k': 1, 'carbo': 1, 'salomon': 1, 'hopespin': 1, 'kristine': 1, 'neri': 1, 'post-partum': 1, 'reminisce': 2, '.ur': 1, 'north-of-the-mason': 1, 'dixon': 1, 'meteorologist': 2, 'mics': 1, 'trigger': 1, 'negatives': 1, 'inukshuk': 1, 'deep.': 1, 'pinnin': 1, 'nbd': 2, 'warns': 1, \"'prepared\": 1, 'nevr': 1, 'rubles': 1, 'robs': 1, 'handedly': 1, 'chid': 2, 'cotillard': 1, 'trim': 2, 'surrendering': 1, 'miniature': 1, '873': 1, 'allur': 1, 'saugatuck': 1, 'damn..lol': 1, 'cherish': 2, 'comforts': 2, 'fatigued': 1, 'baby-cry': 1, 'cry-babies': 1, 'medalist': 1, 'dernoga': 1, 'blunts': 1, 'bongs': 1, 'hofer': 1, 'strawberries': 3, 'pesticides': 1, 'docs..': 1, 'arbys': 1, 'dorman': 1, 'reuben': 1, 'omlet': 1, 'kraut': 1, 'corned': 1, 'milo': 1, 'pickford': 1, 'crease': 1, 'computerized': 1, 'unworthiness': 1, '~ram': 1, 'dass': 1, 'cheesybread': 1, 'extras': 3, 'creature': 1, 'merritt': 1, 'payphone': 1, 'kop': 1, 'hmm..': 2, '2mmorrow': 1, 'astonish': 1, 'pass..': 1, 'cuttin': 1, 'dallaspinterestparty': 1, 'napowrimo': 1, 'youngest': 1, '4.16': 1, 'commas': 1, 'settles': 1, 'termination': 1, 'spidey': 2, 'muppets': 2, 'housekeeping': 2, 're-immersion': 1, 'coding': 1, '1900': 1, 'maggie': 1, 'moanin': 1, 'tdm': 1, 'dom': 1, 'modes': 1, 'cicadas': 1, 'analogy': 1, 'resonated': 1, 'positives': 1, 'bayou': 1, '-_': 1, 'buenas': 1, 'tardes': 1, 'todos': 1, 'thankschris5706423': 1, 'www.roadid.com': 1, 'hines': 2, 'tuesday-heating': 1, 'casal': 1, 'aveda': 1, 'fir': 1, 'kapetanovic': 1, 'netm.ag/qtpydb': 1, 'superiority': 1, 'iuniverse': 1, 'two..heck': 1, '9/10': 1, '..ai': 1, '8.5..dont': 1, '.long': 1, 'dman': 1, 'dsdsq2.com': 1, 'remixes': 1, 'lmfaooooo': 1, 'meek': 1, 'overlays': 1, 'clicks': 1, 'minuteman': 1, 'nit': 1, 'cornu': 1, 'resigned': 1, 'amzing': 1, 'liv': 1, 'grenis': 2, 'frigging': 2, 'underweighted': 1, 'commodity': 1, 'sauerkraut': 1, 'geo': 1, 'bellas': 1, 'e-data': 1, 'esi': 1, 'usu': 1, 'colorguard': 1, 'procrastinating': 1, 'grossly': 1, 'theless': 1, 'nyew': 1, 'blazer': 2, 'rg': 1, 'coice': 1, '\\ue003': 1, 'swatted': 1, 'imy2': 1, 'rly': 2, '29min': 1, 'coopthink': 1, 'skincare': 1, 'qualitatively': 1, 'marcelle': 1, 'p90x': 1, 'think/hope': 1, 'verbals': 1, 'conscientious': 2, 'onw': 1, 'boxer': 1, 'wed/thur': 1, 'guestlist': 1, 'sosa': 2, 'hugest': 1, 'née': 1, 'leroy': 1, 'conversion': 1, 'slowed': 3, 'roland': 1, 'cfo': 1, 'diagnostic': 1, 'infomration': 1, '40-': 1, 'shredding': 1, 'aromatherapy': 2, '.why': 1, 'aundrea': 1, 'fimbres': 1, '😢💔': 1, 'self-evident': 1, 'bweny': 1, 'untangled': 1, '-gloria': 1, 'pitzer': 1, 'club.tits': 1, 'juniors': 1, 'devignition': 1, 'non-musical': 1, 'interludes': 1, 'panty': 1, 'inspectors': 1, 'cianjur..': 1, '*blessed': 1, 'six-month': 1, 'participation': 1, 'intellects': 1, 'wrexham': 1, 'orient': 2, '1978.': 1, '9-8': 1, 'scoreboard': 1, 'gurlll': 1, 'beneath': 2, 'declare': 1, 'sorely': 1, 'accommodating': 1, 'lds': 2, 'fleury': 1, 'formula': 2, 'khaleesi': 1, 'pln': 1, 'plc': 1, 'plpnetwork': 1, 'educator': 1, 'awed': 1, 'apl': 1, 'okcthunder': 1, 'blinded/deceived': 1, 'good.you': 1, 'lovingly': 1, 'handcrafted': 1, 'huguenot': 1, 'artisan': 1, 'markakis': 1, 'presumably': 1, '10thingsilove': 1, 'songbirds': 1, 'youp': 1, 'mcchicken': 1, 'abusive': 1, 'dazz': 1, 'supercomputing': 1, 'mobs': 1, '8/2': 1, 'backslider': 1, 'lmbo': 3, 'soreness': 1, '.keep': 3, 'feuding': 1, 'satc': 1, 'bbm': 1, 'bindel': 1, 'topol': 1, 'dukes': 1, 'crzy': 1, 'ridley': 1, 'scriptsupervisor': 1, 'tribeca': 1, 'boogi': 1, 'wakefield': 1, 'tpc': 1, 'hecklers': 1, 'certificates': 2, 'dog-lovers': 1, 'kaya': 1, '.crying': 1, '730pm': 1, 'interger': 1, '-69': 1, '+69': 1, 'wba': 1, 'disappointments': 2, 'deathdays': 1, 'deathday': 1, 'sewing': 2, 'mik': 1, 'pumpedd': 1, 'palms': 1, 'shaky': 2, 'hfjdkfjhgf': 1, 'hgfkjhgfjdks': 1, 'teamyandy': 1, 'chrissy': 2, 'crazies': 3, 'gaston': 1, '1-on-1': 1, 'sportscaster': 1, '-protoskar': 1, 'frankenstein': 1, 'micromanaged': 1, 'mirrors': 2, 'lamp': 2, '412.630.8001': 1, '*absolutely*': 1, 'influencial': 1, 'prison..': 1, 'pop-punk..': 1, 'neverending': 1, 'iker': 1, 'knowledgeable': 1, 'womenbuild~^~': 1, '1,800': 1, 'miami-dade': 1, 'plato': 3, 'myc': 1, 'rockn': 1, 'wonfu': 1, 'taewon': 1, 'am.doing': 1, 'thanks.it': 1, 'antiqueted': 1, '-just': 1, 'friday..i': 1, 'six-pack': 1, 'abs-guy': 1, 'arrogant': 1, '4011th': 1, '4008': 1, 'origins': 1, 'fugitive': 1, 'parolee': 1, 'leucadia': 1, '100mph': 1, 'rbms2009': 1, 'jost': 1, 'snafu': 1, 'starless': 1, 'chiming': 1, 'iaspm': 1, 'millers': 1, 'critiques': 1, 'c20': 1, 'followers.keep': 1, 'ibarguen': 1, 'defies': 1, 'thingsthatpissmeoffinthemorning': 1, 'p2': 1, 'bibliotech12': 1, 'combining': 2, 'sensors': 1, 'correlate': 2, 'asthmatic': 2, 'pollutant': 1, 'snapback..what': 1, 'steezer': 1, 'suegro': 1, 'fiji': 1, 'benz': 2, 'project-captured.com': 1, 'personalized': 2, 'geotrellis': 1, 'hahahahahah': 1, 'again-': 1, 'kale': 4, 'collard': 1, 'mega-local': 1, 'kcal': 1, 'newscast': 1, 'blackburn': 2, 'l15': 1, 'ifeel': 1, 'popplestown': 1, 'swedish': 2, 'non-kardashian': 1, 'ducan': 1, 'ballantyne/warren': 1, 'amend': 1, 'sofitel': 1, 'girlie': 2, '//www.businessinsider.com': 1, 'tryavon': 1, 'bad-ass': 1, 'flush': 1, 'teahouses': 1, 'libs': 2, 'anxiety..': 1, 'biatch': 1, \"'nsync\": 1, 'msnbc': 2, '09': 2, '584,000': 1, 'edits': 1, 'lightsaber': 1, 'longterm': 2, 'orton': 1, 'retained': 1, 'coot': 1, 'aces': 1, 'jeffery': 3, 'hitnrun': 1, 'thuged': 1, '-guess': 1, 'watchscandal': 1, 'lol-is': 1, 'adaptivechat': 1, 'patrolmen..pretty': 1, 'medicated': 1, 'tomorrowbook': 1, 'nasm': 2, 'cert': 1, 'involving': 2, 'xxxbestraightedgexxx': 1, \"'abdu'l-bahá\": 1, 'micheal': 1, 'i-70': 1, 'pa.': 3, '3ppl': 1, 'sundrop': 1, 'tip-when': 1, 'fixer-upper': 1, 'd1': 2, 'underage': 1, 'vietnamese': 1, 'noodle/soup': 1, 'kbow': 1, 'lile.ide': 1, 'hababa': 1, 'scorer': 2, 'threading': 1, 'heartbreaker': 1, 'galaga': 1, 'sodmg': 1, 'mellowed': 1, 'advising': 1, 'ventura': 3, 'nuys': 1, 'tunisia': 1, 'subscribers': 2, '*136': 1, 'najja7ni': 1, '*wellington': 1, 'wuda': 2, 'mil.base': 1, 'reuse': 1, 'economical': 1, 'ape': 1, 'resnick': 1, 'blasphemy': 1, 'sff': 1, 'novelettes': 1, '1982-1999': 1, 'ultimately': 1, 'hyaluronic': 1, 'scar': 1, 'uga': 1, 'france24': 1, 'wwf': 1, 'rivalries': 1, 'micheals': 2, 'libra': 1, 'backboard': 1, 'shattered': 1, 'layup': 1, 'abundant': 1, 'striped': 1, 'allday': 1, 'yaaaay': 1, 'opolis': 1, 'costanzas': 1, 'grier': 1, 'leche': 1, '..pujolseys': 1, 'ebon': 1, 'lurker': 1, 'kings/rangers': 1, 'stanleycupfinal': 1, 'homer': 2, '8-2': 1, 'cheercoaching': 1, 'schmensitive': 1, 'goldsmith': 1, 'staging': 1, 'intrstd': 1, 'byng': 1, 'sux': 3, '10-8.': 1, 'didion~': 1, 'bearly': 1, 'goodreads': 1, 'g4': 1, 'guuuuuyssss': 1, 'caprice': 1, 'uoflol': 1, '❤🎶❤': 1, 'funkiness': 1, 'learner': 3, 'autolocks': 1, 'stinken': 1, '*blows': 1, 'cath': 2, 'scrapple': 1, 'gastronomy': 1, 'ccpe': 1, 'pacquiao': 2, 'leg..': 1, \"'night\": 1, 'denial..': 1, 'city..and': 1, 'is2': 1, 'proverty': 1, 'basics': 1, 'need2profit': 1, 'standin': 1, 'reliant': 1, 'harrypotter': 1, 'ripapparel.com': 1, 'aug.3rd': 1, 'mass-produced': 1, 'floral/sequined': 1, 'kettlecorn': 1, 'winters': 2, 'curling': 2, 'hair.': 1, 'u-swirl': 1, 'weigh': 1, 'kneecaps': 1, 'bernalillo': 1, 'fatal': 2, 'pedestrian': 2, 'isleta': 1, 'deng': 1, 'dribble': 1, 'haircut/grade': 1, 'dallascowboys': 1, 'expandable': 1, 'fw800': 1, 'esata': 1, 'tacky': 1, 'slander': 1, 'fluke': 1, 'diamods': 1, 'zarrella': 1, '.somebody': 1, 'shineyourdivine': 1, 'hunker': 1, 'gta': 1, 'andreas': 1, 'marketplace': 3, 'amateur': 2, '1,000,000,000,000th': 1, 'close-up': 1, 'taken.it': 1, 'pavia': 1, 'fccb': 1, 'zenith': 1, 'valuation': 1, 'crawfish': 2, 'involves': 3, '~ahah': 1, 'confrontational': 1, 'jour4953': 1, 'crozet': 1, 'rkelly': 1, '.lmfao': 1, 'hallff': 1, 'lifelong': 2, 'thwarted': 1, 'gizmo': 1, 'ilounge': 1, 'lapchang': 1, 'mashing': 2, 'gullible': 2, 'chooses': 2, 'understory': 1, 'fredweirdo': 1, 'whatchubetalkingbout': 1, 'racks': 3, 'tullahoma': 1, 'teehee': 1, 'kant': 1, 'brimming': 1, 'w/warmth': 1, '2.95': 1, 'yield': 1, 'fluids': 1, '-0': 1, 'asher': 2, 'scene-button': 1, 'thermal': 1, 'clipitz.com': 1, 'i076t52id5': 1, 'caged': 1, 'lesher100': 1, 'jcp': 1, 'minka': 1, 'post-breakup': 1, 'funeral': 1, 'xozo': 1, 'shorty': 3, 'ifweareinarelationship': 1, 'mole': 6, 'superfun': 1, 'snort': 2, 'henn': 1, 'dik': 1, 'area.they': 1, 'polluting': 1, 'papi': 2, 'manee': 1, 'podhbcu': 1, 'misdirection': 1, 'sususudio': 1, 'daughtry': 1, 'standings': 1, 'baddest': 1, 'accept-te': 1, 'yal': 1, 'forwarded': 2, 'installation': 1, 'slopig': 2, 'noko': 1, 'piracy': 1, 'young/': 1, 'dunkers': 1, 'mercer': 1, 'eateries': 2, 'rosters': 1, 'friendreq': 1, 'datwork': 1, '210..': 1, 'constrained': 1, \"ya'all\": 1, 'barmitzvah': 1, 'cathy': 1, 'foreclosures': 1, 'indefinetly..': 1, 'coined': 1, 'alpharetta': 1, '3-million-pound': 1, '//ask': 1, 'katrina': 1, 'aoki': 3, 'meara': 1, 'scottish': 1, 'desoto': 1, 'egyptians': 1, 'waziristan': 1, 'drools': 1, 'cayoooot': 1, 'indulge': 1, 'item-level': 1, 'unplugger': 1, \"80's-style\": 1, 'riser': 1, 'bestofthebest': 1, 'runningquote': 1, '-oprah': 1, 'circumference': 1, 'larrea': 1, 'rosewood': 1, 'bootleg': 1, 'dynasty': 1, 'relaxes': 1, 'peeves': 1, 'using.periods.like.this': 1, 'promoters': 2, 'child-rearing': 1, 'hypocritical': 2, 'sleet': 1, 'rain-snow': 1, 'snow-rain': 1, 'sleety': 1, 'scotty': 1, 'gobutler': 1, 'fictional': 1, 'pranormal': 1, 'cma': 1, 'aforementioned': 1, 'homework..': 2, 'homeshe': 1, '-wiz': 1, 'kalifa': 1, '1400': 1, 'bypass': 1, 'nwill': 1, '99.7': 1, 'gms': 1, '675-677': 1, 'gs': 1, 'touch-up': 1, 'liberal-bob': 1, 'ratting': 1, 'beck': 1, 'andrie': 1, 'dorky': 2, 'www.iie.org/gilman': 1, 'raped': 2, 'left-it': 1, 'foreigners': 1, 'mordant': 1, 'coursen': 1, 't-pryor': 1, \"'character\": 1, 'pharmacist': 1, '25yr': 1, 'binghamton': 1, 'hoarders': 2, 'sympathizing': 1, \"'civil\": 1, 'bernie': 2, 'miklasz': 1, 'gir': 1, 'emphasis': 1, \"'yet\": 1, 'bejesus': 1, '😌': 1, 'zevon': 1, 'hollinghurst': 1, 'crept': 1, 'promptly': 1, 'fifteen': 2, 'bustout': 1, 'montez': 1, 'confidant': 2, 'embarrass': 2, 'juhee': 1, 'nichols': 1, 'nwoc': 1, 'successes': 3, 'relatable': 1, 'blindly': 1, 'replacements': 3, 'americasgottalent': 1, 'tallahassee': 1, 'maube': 1, 'wowowow': 1, 'intdesignerchat': 1, 'sofas': 1, '*and*': 1, 'golow': 1, '3.3': 1, 'nowadays..': 1, 'inboxzero': 1, 'car2go': 2, 'giftcard': 3, 'equipment-': 1, 'oppressiveness': 1, 'detest': 1, 'middleschoolmemories': 2, 'dramma': 1, 'solopreneur': 1, 'amers': 1, 'supportng': 1, 'bishops': 1, 'condmn': 1, 'immoral': 2, 'gillian': 1, 'welch': 3, 'gevening': 1, 'exhausting..': 1, 'don´t': 1, 'fiance': 2, 'cater': 1, 'first20songsonshuffle': 1, 'breakn': 1, 'caddied': 1, 'minigolf': 1, 'aar': 1, 'scorn': 1, 'pubmed': 1, '..the': 2, '6.99/day': 1, 'chex': 1, 'from..jk': 1, 'bicycling': 2, '773': 1, 'soda-': 1, 'whatuneedtodois': 1, 'persuasive': 1, 'viewable': 1, '103': 2, 'elk': 1, '73644-5743': 1, 'mahomies.': 1, 'prenatal': 2, 'aptitude': 1, 'everydayithinkabout': 1, 'happyfathersday': 1, 'atribute': 1, 'elvis': 2, 'heartofthekingontour.com': 1, 'fathersday': 1, 'wwvbd': 1, 'pedagogical': 1, 'happymothersday': 2, 'madre': 1, 'trance': 1, '24hr': 1, 'disobedience': 1, 'beauts': 1, 'circumstance': 2, 'quad': 4, 'pre-super': 1, 'drink-making': 1, 'phillymarathon': 1, 'discrimination': 1, 'bigotry': 1, 'emergencies': 1, 'stupidjames': 1, 'learnhowtocook': 1, 'thetakeover': 1, 'april13th': 1, 'dinnnneeeeeeeee': 1, '1980': 2, 'debuts': 1, 'mcnuggets': 1, 'knoxville': 1, '..more': 1, '18-19': 1, 'promotingyourwebsite': 1, 'trombone': 2, 'biebergivesthebestblowjobs': 1, 'ますぐじぶのことばぜってまげね。。。おれのにんどだ！！！': 1, 'long-distance': 1, 'geographically-challenged': 1, 'cwebodymedia': 1, 'tebet': 1, 'segmentation': 1, 'prism': 1, 'biffle': 1, '♡': 2, 'restructure': 1, 'osi': 1, 'viable': 2, 'wellingderps': 1, 'sadistic': 1, '+105': 1, 'hkc': 1, 'remedy': 2, 'abd': 1, 'oona': 1, '*secret': 1, 'gud': 2, 'improving': 1, 'everydau': 1, 'musetechies': 1, 'godspeed': 3, 'beamer': 1, 'bentley': 1, '35mm': 1, 'foes': 1, 'defecation': 1, 'whereas': 1, 'inflatable': 2, 'benign': 1, 'abusers': 1, \"you'e\": 1, 'iit': 1, '*confused': 1, 'metrodome': 1, \"'subship\": 1, 'underdeveloped': 1, 'wigs': 2, 'pun': 1, 'unanimously': 1, 'beutiful': 1, 'jasminator': 2, 'pregunt': 1, 'fovourite': 1, 'hairdresser': 1, 'lurve': 1, 'celebrates': 1, 'afterparty': 1, 'kennypowers': 1, 'badcauldronsongideas': 1, 'barracuda': 2, 'induce': 1, 'retweeting': 3, 'awake.': 1, 'foundtn': 1, '8o': 1, 'waas': 1, 'rallys': 1, 'yasssss': 1, 'artstechsf': 1, 'bi-coastal': 1, '❤👍': 2, 'greenwood': 2, 'grate': 1, 'sdusd': 1, 'retweed': 1, 'motherfuckin': 1, 'mover': 1, 'shaker': 1, 'acciedentally': 1, 'so0o': 1, 'time~': 1, 'awry': 1, 'snopes': 1, 'fictitious': 1, 'census': 4, 'bramson': 1, 'ort': 1, 'disastrous': 2, 'pbi': 1, 'shood': 1, 'addictive': 2, 'battlin': 1, 'asics': 1, 'crossfit': 1, 'alamia': 1, 'self-publishing': 2, 'julian': 2, 'crazzy': 1, 'boobies': 1, 'belinda': 1, 'swisher': 3, 'cannibelle': 1, 'wcwwwf': 1, '^to': 1, 'redirected': 2, \"too'best\": 1, 'advisor': 1, 'wieseltier': 1, 'spinoza': 1, 'judaism': 1, 'imawesomefoo': 1, 'inacitvity': 1, 'traing': 1, '1k': 1, 'mm-hm': 2, 'cld': 2, 'etons': 1, 'oof': 1, 'bulgaria': 1, 'circulation': 1, 'burka': 2, 'dreamt': 1, 'count.i': 1, 'like.anyone': 1, 'listeria': 1, 'outbreak': 4, 'cantaloupe': 1, 'e.coli': 1, 'awile': 1, '☹': 1, 'broadcasters': 2, 'tifo': 1, 'cheated': 2, 'jeld-wen': 1, 'thingsilookfor': 1, 'really..': 2, 'hiram': 1, 'superhanahan': 1, 'death—the': 1, 'terrain': 2, 'bbp': 1, 'dreds': 1, 'lgbt': 3, 'crinkly': 1, 'fizzy': 2, 'slurp': 2, 'n-word': 2, 'sobcon': 1, 's.media': 1, 'papaw': 2, 'calculator': 1, 'jagose': 1, 'queer': 1, 'implicit': 1, 'dismissal': 1, 'w/ref': 1, 'grosz': 1, 'hesitation': 1, 'orgasm': 1, 'film-series': 1, 'transcendant': 1, 'gaye': 1, '40w': 1, 'briley/spence': 1, 'charisma': 1, 'obey': 1, 'mosters': 1, 'unhooked': 1, 'squeal': 2, 'calf': 1, 'contemplating': 2, 'kink': 1, 'ador': 1, 'aicwi': 1, 'attanded': 1, 'txtin': 1, '-mary': 1, 'jamaica': 1, '-mandy': 1, 'whitenack': 1, 'courier': 1, 'christy': 1, 'beantastic': 1, 'insiders': 1, 'perf.💜': 1, 'cognitive-behavioral': 1, 'add/adhd': 1, 'jmv': 1, '11millionfollowers': 1, 'jered': 1, 'shorter': 3, 'warrrrmmm': 1, '¬‿¬': 1, 'interrupt': 3, 'heisrisen': 1, '12,373,445': 1, 'sylvia': 1, 'swagg..': 1, 'nawperiod..': 1, 'qaeda': 2, '.al': 1, 'antz': 1, 'facebook.com': 1, 'keepon': 1, 'storytellers': 1, 'poliakoff': 1, 'wren': 1, '10factsaboutme': 1, 'borg': 1, 'pecking': 1, 'gimmie': 2, 'whenn': 1, 'huevos': 1, 'travellers': 1, 'raindrops': 1, 'skylight': 1, 'swallowing': 1, 'uneven': 1, 'freaks..': 1, 'apologetically': 1, 'yoshis': 1, 'sanfrancisco': 1, '915-449-2066': 1, 'yarmouth': 1, 'ns': 1, 'starters': 3, 'inter': 1, 'generational': 1, 'certifications': 2, '☀': 1, 'beautificat': 1, 'b52s': 1, 'tvlandawards': 1, 'hrmmm': 1, \"he'sthegluethatheldtheshowtogether\": 1, \"'imperfections\": 1, 'awready': 1, '💤': 3, 'pakistan': 1, 'sdoe': 1, 'squidoo': 1, 'digitalbooktoday': 1, 'acquainted': 1, '8-layer': 1, 'torte': 2, 'meringue': 1, 'buttercream': 2, 'eurpoe': 1, '1887': 1, '69.99': 1, 'ihateitwhen': 1, 'wojnarowicz': 1, 'wander': 1, 'cuckoo': 2, 'kebo': 1, 'sideshow': 2, 'freakshow': 1, 'entertainers/groups': 1, 'sympathies': 1, 'www.bowlingdo.com': 1, 'www.shopbowling.com': 1, 'rino': 1, 'liberals': 2, 'obstacle': 1, 'fascists': 1, 'swings': 1, 'trendsetter': 1, 'stahl/chemosphere': 1, 'eames/gamble': 1, 'jetson': 1, 'thingsbetterthanbieber': 1, 'twittererbox': 1, 'logmein': 1, 'imsinglebecause': 1, 'drydensocial': 2, 'timelapse': 1, 'awesome..': 1, 'well-struggling': 1, 'crickets': 1, 'cockroaches': 1, 'detroit-tian': 2, 'caller': 4, 'doubts-lots': 1, 'scares': 2, 'allure': 1, 'www.drwiggys.com': 1, 'magbe': 1, 'ofmy': 1, 'idoit2': 1, '10tweetsaday': 1, 'liana': 1, 'afuni': 1, 'disposal': 3, 'bearing': 1, '~price': 1, 'pritchett': 1, 'bong': 2, 'kenosha': 1, 'alshon': 1, 'two-thirds': 1, 'indispensable': 1, 'helpdesk': 1, 'contract-to-hire': 1, 'stfu.': 1, 'merging': 1, 'retweetthisif': 1, 'soyuz': 1, 'tma04m': 1, 'nasatweetup': 1, 'nasasocial': 1, 'cosign': 1, 'iceland': 1, 'eighty': 1, 'woody': 1, 'winston': 2, 'churchill': 3, 'weedless': 1, '75th': 2, 'willowbrook': 1, 'aqualung': 1, 'yvonna': 1, 'amigo': 1, 'nickels': 1, 'saltwater': 1, 'penises': 1, '30-may': 1, 'freeway': 2, 'carpool': 2, 'fuxked': 1, 'things..': 1, '.every': 1, 'feburary': 2, '.*breaks': 1, 'record*': 1, 'handwritin': 1, 'veronique': 1, 'ishhh': 1, 'touchdown': 2, 'sis😍😊': 1, 'shopped': 1, '7.77': 1, 'baldwins': 1, 'confs': 1, 'panels': 1, 'piilabs': 1, '.bravo': 1, 'muscle': 2, 'guaca': 1, 'communist': 1, 'happybestfrienddaytotori': 1, 'brooke': 2, 'broobie': 1, 'witout': 1, 'kodak': 1, 'zumanity': 1, 'freestyles': 1, '34-for-35': 1, 'tds': 2, 'twinkie': 1, 'mominspired': 1, 'sawa': 1, 'yhu': 3, 'hellogoodbye': 1, 'artful': 2, '12-5pm': 1, 'realised': 2, '*everywhere*': 1, 'inculcation': 1, 'makeovers': 1, 'liespeopletell': 1, 'redmayne': 1, 'nshit': 1, 'snag': 1, 'stubbs': 1, 'dbv': 1, 'altar': 3, 'yea..': 1, '1940': 1, 'attagirl': 1, 'timeout': 2, '38-38': 1, '15:54': 1, 'parappa': 1, 'kratos': 1, 'qte': 1, 'pollan': 1, 'goalkeeper': 1, 'kern': 1, 'wrkout': 1, 'beyotch': 1, 'nyway': 1, \"end'n\": 1, 'futurama': 1, '5yr-old': 1, 'gmu': 1, 'containing': 2, 'rehmeier': 1, 'finisher': 1, 'pourri': 1, 'vernacular': 1, 'www.thescrams.com': 1, 'sug': 1, 'historians': 1, 'waitwhat': 1, 'ensemble': 3, '9:00pm': 1, 'goodnes': 1, 'clash': 1, 'lov': 1, 'relocated': 1, 'romneycare': 1, 'roux': 1, 'wichita': 2, '2,079': 1, 'unaccounted': 1, 'nelson-': 1, '157': 1, 'hwy10': 1, 'first-year': 1, 'love..': 1, 'cecilia': 1, 'hogan': 2, 'checklist': 1, 'imp': 2, 'cultivation': 1, 'secure': 1, 'itlm': 1, '🏀🏀🏀🏀🏀': 1, 'leebron': 1, 'emerged': 1, 'www.shindigtarot.com': 1, 'cj2k': 3, 'blount': 2, 'moreno': 1, 'import/export': 1, 'magento': 1, \"o'canada\": 1, 'removes': 1, 'therese': 1, 'casgrain': 1, 'pol': 1, 'arcti': 1, 'instd': 1, 'oooooohhhh': 1, 'sh**': 2, 'ltdeng': 1, '🏆': 1, 'oppressive': 1, 'fulfillment': 1, 'positioning': 1, 'leapfrog': 1, 'leappad': 1, 'turf': 3, 'familys': 1, 'kenzie': 2, 'snickers': 1, 'addison': 1, 'andrea': 1, 'cabral': 1, 'rove': 1, 'playbook': 2, 'statuses': 1, 'www.leocortesstudios.com': 1, 'readdy': 1, 'rbpc': 1, 'bookshelves': 1, 'bathtweet': 1, 'runny': 1, 'caroline': 3, 'amex': 1, 'homeboi': 1, 'swallowed': 1, 'chaw': 1, 'faked': 1, 'harvesting': 2, '~bill': 1, 'brink': 2, 'venom': 2, 'pelts': 1, 'registeration..': 1, 'rihana': 1, 'leftover': 1, 'barrels': 1, 'everette': 1, 'npr-': 1, 'tyrannosaur': 1, 'freshmen': 1, 'no-shave-november': 1, 'beards': 3, 'richardsons': 1, 'ala10': 1, 'macdos': 1, 'tips/a': 1, 'web-site': 1, 'laredo': 2, 'sund': 1, 'lec': 1, 'roundtrip': 1, 'retrain': 1, 'heauxs': 1, 'prosecute': 1, 'deregulation': 1, 'morally': 1, 'reprehensible': 1, 'cafeteria': 1, 'dancing..i': 1, 'endoscopy': 1, 'armless': 1, 'stepchild': 1, 'lease': 2, 'doo-doo..': 1, 'khaki': 1, 'coincidental': 1, 'repotted': 1, 'alcatraz': 2, 'bdayshoutout': 1, '12min': 1, 'mostlikely': 1, 'minion': 1, '.which': 1, 'chattr': 1, 'please~': 1, '고마워~': 1, 'spa-ghetti': 1, \"party'in\": 1, 'topless': 1, 'dzejak': 1, 'prepares': 1, 'diver': 2, 'scallop': 1, '4square': 1, 'apodaca': 1, '60.': 1, 'thu': 1, 'appalachia': 1, '3/3': 1, 'forth': 2, 'juilliard': 1, 're-takes': 1, 'craftlaunch': 1, '8x10designs.com': 1, 'stokley': 1, 'student-athletes': 1, 'policed': 1, 'educ./empowered': 1, 'mbp': 1, 'bi-polar': 1, 'crushes': 2, 'thebigbangtheory': 1, 'exfoliate': 1, '1969': 1, 'scoops': 1, 'minutes=': 1, 'indycar': 1, 'good🐗': 1, 'swoop': 1, 'prequeled': 1, 'ecard': 1, 'minnesotans': 1, 'idec': 1, 'flashes': 1, 'marianas': 1, 'trench': 1, 'wipers': 1, 'favourites': 1, 'uncut': 1, 'gtky': 1, 'englander': 1, 'etgar': 1, 'keret': 1, 'dcjcc': 1, '2009-2012': 1, 'what..': 1, 'hahaaa': 1, 'aleksandra': 2, 'nogina': 1, 'beliebersand1darecool': 1, '😂😂😂': 2, 'meanest': 1, 'loranna': 1, 'bobbit': 1, 'arbage': 1, 'tweepz': 1, 'seize': 1, 'totallyawesome': 1, 'tounge': 2, 'spaw': 1, 'tallies': 1, 'man-crush': 1, 'nas': 1, 'foolery': 1, '199.9': 1, 'fakes': 1, 'from.the': 1, 'corrupt': 1, 'spouts': 1, 'fri.': 3, 'grams': 1, 'kushwreck': 1, 'naddem': 1, 'amirand': 1, 'cyberdating': 1, 'seeks': 1, 'wuhan': 1, 'virgos': 1, 'illuminating': 1, 'carlyle': 2, '1795-1881': 1, 'cuzzo': 2, 'choas': 1, 'alyson': 1, 'feldman': 1, 'hazard': 1, 'sculptures': 1, 'govenor': 1, 'president.': 1, 'clean-up': 1, '2000-08.': 1, 'pemf': 1, 'crampin': 1, '⛵': 1, 'casbah': 1, 'winona': 1, 'ryder': 1, 'spock': 1, 'milf-mom': 1, 'dangerous…they': 1, 'conceive': 1, '1253': 1, '11226': 1, 'mccoy': 4, 'woodshed': 1, 'alicia': 1, 'westtest': 1, 'eaaaaaaarrrrrrllllyyy': 1, '-heyy': 1, 'today-': 2, 'ingnite': 1, 'counterpoint': 1, 'lifecoachharbor': 1, 'centered': 1, 'betrayed': 2, 'reif': 1, '45.': 1, 'mcdonogh': 1, 'sideways': 2, 'brofers': 1, 'similac': 1, 'leebuckner': 1, 'spitting': 3, 'llama': 3, 'instantfollowback': 1, 'libraryschool': 1, 'hungergames': 1, 'njd': 1, 'hounds': 1, 'anxiously': 1, 'unveiling': 2, 'omgawd': 1, 'fcbk': 1, \"''well\": 1, 'cabron': 1, 'backlog': 1, 'flannagan': 1, 'bloomsday': 1, 'yes.~d': 1, 'hopsconsin': 1, 'electrical': 2, 'trombonist': 1, 'arranger': 1, 'brookmeyer': 1, 'chiyu': 1, 'washington-hopin': 1, 'traffic/83s': 1, 'statesman': 1, 'defenders': 2, 'oped': 1, 'ubiquity': 1, 'audre': 1, 'lorde~': 1, 'akiva': 1, 'goldfarb': 1, 'gattaca': 1, 'director/writer': 1, 'was..': 1, 'journalists': 1, 'blogs.telegraph.co.uk/': 1, 'eventful': 2, 'ketel': 1, 'newlin': 1, 'dui': 1, 'ui/ux': 1, 'criminalizing': 1, 'criminalization': 1, 'homelessness': 2, 'aaup': 1, 'formats': 2, 'retrieval': 1, 'herbalgram': 1, 'animal-based': 1, 'www.herbalgram.org': 1, 'saxophone': 1, 'departments': 1, 'comms': 1, 'data..': 1, 'scare-quoted': 1, 'msm': 2, 'emphasized': 2, 'salters': 1, 'consumerbase': 1, 'like..uhh..every': 1, 'whistling': 3, 'demonstration': 1, 'swath': 1, 'retards': 2, 'stritch': 1, 'fieldhouse/gym': 1, '2chains': 2, 'cake-pops': 1, 'nivula': 1, 'fb2011': 1, 'tally': 1, 'cannonballdookie': 1, 'operationdarkfoxx': 2, 'dyed': 1, 'grouplove': 1, 'overnights': 1, 'jocobs': 1, 'b-fast': 1, 'live-tweet': 1, 'incredibles': 2, 'profitable': 2, 'dickenson': 1, 'pranks': 1, 'gags': 1, 'novelties': 1, 'www.amazon.com/shops/fun_squared': 1, 'premature': 2, 'loc': 1, 'tonight.thanks': 1, 'simas': 1, 'rameriz': 1, '.100': 1, 'roseland': 1, 'retweetin': 1, 'goodman': 1, 'dmca': 1, 'mixtapemonday': 1, 'catlanta': 1, 'elaine': 1, 'tilly': 1, 'cosmo': 2, 'humping': 1, 'catherine': 3, 'mcneela': 1, 'toolbox': 1, 'spammin': 1, 'dannys': 1, 'soya': 1, 'watchtower': 1, 'eventful.com': 1, 'pto': 1, 'fielding': 1, 'baserunning': 1, 'slag': 1, 'manned': 1, 'koolbeans': 1, 'salmanellla': 1, 'extends': 1, 'press-telegram': 1, 'ex-ample': 1, 'amateurs': 2, 'yorker': 1, 'swisha': 1, 'trolling': 1, 'minaj_stan': 1, 'applause': 1, 'twitted': 2, 'membase': 1, '1000memories': 1, 'portillos': 1, 'ramshead': 1, 'leggins': 1, 'nomiya': 1, 'palais': 1, 'eiffel': 1, 'seventh': 3, 'perceive': 1, 'impacts': 1, 'all-i': 1, 'otg': 1, 'weareotg': 1, 'otglife': 1, 'beliveee': 1, 'artisans': 1, 'activation': 1, 'ears.': 1, 'automatons': 1, '7-day': 1, 'mandi': 1, 'backchannel': 1, 'upbeat': 2, 'montaellis': 1, 'rccola': 1, 'russ/ticular': 1, 'fortitude': 1, 'lab..': 1, 'turnin': 1, 'livein': 1, 'grandmotha': 1, 'snagged': 2, 'q10': 1, 'personalty': 1, 'astounding': 1, 'wingers': 1, 'speed-eating': 1, '..no': 2, 'wondering..': 1, 'naybe': 1, 'kirstie': 1, 'snowy': 2, 'sofia': 1, '155.': 1, 'jazzed': 1, 'sellin': 1, 'toma': 1, 'harman': 1, 'marcio': 1, 'liete': 1, 'healy': 1, '🍀🍀🍀🍀🍀🍀': 1, 'semester..co-op': 1, 'fsd': 1, 'biting': 2, 'throwin': 3, 'mahone.1': 1, 'name.my': 1, 'inspiration.the': 1, 'to.the': 1, 'endlessly': 1, '111': 1, 'scanned': 2, 'brolin': 1, 'vfx': 1, 'mib3': 1, 'lipped': 1, 'prgram': 1, 'monotonous': 1, 'jolie': 2, 'skeleton': 1, 'throught': 1, 'utter': 1, 'man-purse': 1, 'plans=': 1, 'cosmopolitan': 1, 'bamboozled': 1, 'ifyouwereminei': 1, 'errday': 1, 'fool-proof': 1, 'psychiatrist': 1, 'chadd': 1, '1hunnit': 1, 'persona': 1, 'courtland': 1, 'finegan': 1, 'mo-lay': 1, 'yumbutter': 1, '7:30ish..': 1, 'livefeed': 1, 'visualizations': 1, 'refining': 1, '*four20percenters': 1, 'buh': 1, 'position/library': 1, '8in8': 1, 'damian': 1, 'kulash': 1, 'moesha': 1, 'enamored': 1, 'me.phones': 1, 'but-': 1, '*trips': 1, 'stairs*': 1, 'talerico': 1, 'multinational': 1, 'consideration': 1, 'garageband': 1, 'aires': 1, 'translator': 1, 'amid': 1, 'nwd': 1, 'cheeto': 1, 'today..in': 1, 'person..he': 1, 'glared': 1, 'quinoa': 1, 'trick.': 1, 'tai': 1, 'hurted': 1, 'head.': 1, 'rachael': 1, 'abundantly': 2, 'crock': 1, 'bullies': 3, 'infront': 2, 'victems': 1, 'drinker': 1, 'layvron': 1, 'montgomery': 1, 'bouta': 1, 'habitual': 1, 'burglar': 1, \"'like\": 1, \"'likes\": 1, 'righteous': 3, '18:10': 1, 'bosses': 2, 'terri': 2, 'amnesia': 2, 'pomme': 1, 'lq': 1, 'emojis': 1, 'aerosol': 1, 'gooddeeds': 1, 'big-ass': 1, 'feral': 3, 'saveloewscats': 1, 'showerflow': 1, 'zaslow': 1, '53': 1, 'paralysis': 1, 'koshertest': 1, 'xxiii': 1, 'www.badsuerecords.com': 1, 'indexers': 1, 'microchipped': 1, 'whitesox': 1, 'kodac': 1, 'polaroid': 2, 'glasses..': 1, '°o°': 1, 'convinces': 1, '👏👏rt': 1, 'thirst': 2, 'litfest': 1, 'eastern/4am': 1, 'baloney': 1, '*shoulder': 1, 'ancle': 1, 'clevpublicart': 1, 'clevelandstudio': 1, 'comic-con': 1, 'demaryius': 1, 'disliking': 1, 'second-base': 1, 'bourn': 1, 'curves': 1, 'clawings': 1, 'loverng': 1, 'itd': 2, 'home-cooked': 1, 'tucks': 1, 'switzerland-': 1, '50/rain-': 1, 'listener/when': 1, 'compassion': 2, 'iceberg': 1, 'neighborliness': 1, 'jojo': 1, 'gaining': 1, 'aapl': 1, 'crayfish': 1, 'k+': 1, 'loners': 1, 'zingaro': 1, 'shottas': 1, 'win-win': 1, 'commissioning': 1, 'samesies': 1, 'killa': 1, 'munchen': 1, 'just..': 2, 'grouped': 1, 'algeria': 1, 'tavey': 1, 'cirus': 1, 'twillight': 1, 'wonka': 1, 'nothinn': 1, 'memstorm': 1, 'spj': 1, 'www.spjsandiego.org': 1, 'tonic': 1, 'chem=hurting': 1, 'mckinley': 2, 'lagoon': 1, '69th': 1, 'untamed': 1, 'diggity': 1, 'smartcloud': 1, 'ibmtechu': 1, 'pureflex': 1, 'connell': 1, 'sspi': 1, 'susanna': 1, 'tem': 2, 'baldassare': 1, 'ppic': 1, 'wesch': 1, 'mcknights': 1, 'showoff': 1, 'stimulating': 1, 'dollhouse': 1, 'lou': 1, 'peters': 2, 'bosco': 1, 'expressively': 1, 'lara': 1, 'tooths': 1, 'lol=': 1, 'embree': 1, '.hard': 1, 'frat': 1, 'intelligently': 1, 'deepthroating': 1, 'facilities': 1, 'evolved': 3, 'knit': 1, 'validate/measure': 1, 'word-of-mouth': 1, 'pr20chat': 1, 'porto': 1, 'potties..': 1, 'clementine': 1, 'hubwork': 1, 'buds': 1, 'discussions': 1, 'greener': 2, 'daay': 1, 'silence..': 1, 'grounded': 3, 'whent': 1, 'vos': 1, 'bakc': 1, 'bigbangtheory': 1, 'ment': 1, '2s': 1, 'downgraded': 1, 'sohh': 1, 'monty': 1, 'slay': 1, 'mortensen': 1, 'lodged': 1, 'dolphin..': 1, 'phins': 1, 'overpay': 1, 'wildfires': 1, 'rumors=nottrue': 1, 'nourez': 1, 'exclusives': 1, 'pathological': 1, 'phonier': 1, 'cubic': 1, 'zirconias': 1, 'facey': 1, 'oline': 1, 'scheme': 3, 'josh.keith': 1, 'right.i': 1, 'rad.he': 1, 'nightfall': 1, 'partly': 2, '59.': 1, 'unpack/repack': 1, 'fuckkkkkkkkkk': 1, 'hires': 2, '2011icf': 1, 'intuition': 3, 'donot': 1, 'unbreak': 1, 'yesturday.-_-': 1, 'pesky': 2, 'amended': 1, '1099s': 1, 'bondage': 2, 'anastasia': 1, 'smwwdc': 1, 'haunting': 1, 'waterbased': 1, 'inks': 1, 'barz': 1, 'qne': 1, 'fckked': 1, 'concentrated': 1, 'volta': 1, 'soundgarden': 1, 'correspondents': 1, 'offender': 1, 'myson': 1, 'questionsihateanswering': 1, 'televised': 2, 'jonasfansproblems': 1, 'afb': 1, '-princess': 1, 'piso': 1, 'ditched': 1, 'arg': 2, 'monologue': 3, 'earliest': 1, 'hooded': 1, 'pullovers': 1, \"ill'nest\": 1, 'walkerfailure': 1, \"'you\": 1, 'note.': 1, '*shrugs*': 2, 'stagnant': 1, 'radiowaves': 1, 'satellite/microwve': 1, 'knox': 2, '*earlier': 1, 'today*': 1, 'holton': 1, 'campers': 1, 'afro-carribean': 1, 'necronyms': 1, 'hingham': 1, 'nite❤😘': 1, 'cologne': 1, 'earnest': 1, 'stinky': 3, '.that': 3, 'laborious': 1, 'elect': 1, '86-84': 1, 'meac': 1, 'hbcu': 1, 'recital': 3, 'dances': 2, 'royalrumble': 1, 'typography': 1, 'consults': 1, '\\ue036': 1, 'artificially': 1, 'miketyson': 1, 'charos': 1, 'philos': 1, 'anthropos': 1, 'snapback': 1, 'sickkest': 1, 'playa..': 1, 'wrong-': 1, 'everything-i': 1, 'well-have': 1, 'people👲✈🎎🍻': 1, 'neurobiology': 1, 'neuroscience': 1, 'too.': 1, '.nobody': 1, 'teamtim': 1, 'pleads': 1, 'kidnapping': 1, 'hikers': 1, 'nederland': 1, '44-year-old': 1, 'halladay': 1, 'felix': 2, 'harang': 1, 'eveer': 1, 'anorexic': 1, 'yeast': 3, 'pounder': 1, 'reilly': 1, 'cedarrapids': 1, 'mpf12': 1, 'firms': 1, 'nurturing': 1, 'analytical-': 1, 'shoppin': 1, 'quake': 2, 'somalia': 1, 'complication': 1, 'getrede': 1, 'walla': 2, 'ricketts': 1, 'non-business': 1, 'undergraduate': 1, '—try': 1, 'masterchefau': 1, 'whispering': 2, \"''i\": 1, 'gtl': 1, 'ginormous': 1, 'moth': 1, 'dy': 1, 'too..kinda': 1, 'mocha..': 1, 'k-12': 2, 'nuanced': 1, 'northway': 1, 'anti-nutrition': 1, 'biebs': 1, 'fester': 1, 'stool': 1, 'lashed': 1, 'talmud~': 1, 'permissible': 1, 'eds': 1, 'salami': 1, 'understandably': 1, 'well-prepared': 1, 'ribbons': 2, 'stupeshit': 1, 'pantyhose': 1, 'ancestor': 1, 'parrott': 1, 'amtower': 1, 'improper': 1, 'fedinsider': 1, 'rags': 1, 'us..': 1, 'brittany': 1, 'straightened': 2, '^lg': 2, 'unfriendyou': 1, 'glowinthedark': 1, 'agonizing': 1, 'back-and-forth-': 1, '-back-and-forth': 1, 'forsaw': 1, 'grimes': 1, 'gamblers': 1, 'boycottrush': 1, 'dems': 2, '10p': 2, 'dontgetmestarted': 1, 'koinonia': 1, '7p': 1, '3p': 1, 'shove': 2, 'coincidently': 1, 'imported': 1, 'mowed': 1, 'auto-dm': 1, 'yo..feel': 1, 'freestylin': 1, 'called-': 1, 'vineyards': 1, 'veramar': 1, 'wenzel': 1, 'yasmeen': 1, 'faded..': 1, 'enoughsaid': 1, '\\ue410\\ue412\\ue32b\\ue328\\ue32a\\ue32d\\ue32c\\ue022': 1, 'zork': 1, 'fallow': 2, 'nigt': 1, 'jesmyn': 1, 'salvage': 1, '-we': 1, 'pluck': 1, 'salud': 1, 'cocina': 1, 'horrifying': 1, 'islamophobic': 1, 'fear-mongering': 1, 'anti-sharia': 1, 'lucille': 1, 'masses': 2, 'mamaw': 1, 'addicts': 1, 'twubby': 1, 'getcho': 1, 'up..such': 1, 'disconcerting': 1, '8/10': 1, 'unread': 1, 'g3': 1, 'happyy': 1, 'birthdaay': 1, 'lint-licker': 1, 'rfd': 1, 'granpa': 1, 'neversaynever♥': 1, 'touching.integrating': 1, 'nutshots': 1, 'eaudiobooks': 1, 'eclipsed': 1, 'luna': 1, 'keira': 2, 'knightly': 1, 'mademoiselle': 1, 'suing': 2, 'fotog': 1, 'intimidation': 1, \"lax'n\": 1, 'colldog': 1, 'redorbit': 1, 'coolinn': 1, 'correction—that': 1, 'arias': 2, 'blanco': 1, 'gameface': 1, 'www.facebook.com/incgivingproject': 1, 'leach': 1, 'broadacious': 1, 'sp': 3, 'discriminative': 2, 'impulsive': 1, 'displace': 1, 'contortionist': 1, 'axley': 1, 'edgewater': 1, 'disability…': 1, 'hag': 1, 'yukon': 1, 'denali': 1, '.love': 1, 'seuss': 1, 'flicking': 1, '2moredays': 1, 'rogan': 1, 'invadeturkey': 1, 'rickperry': 1, 'make-good': 1, 'exhibits': 1, 'hansel': 2, 'lesnar': 2, 'patanong': 1, 'yung': 1, 'jerseyshore': 1, 'fearing': 1, 'prohibition': 1, 'pabst': 1, 'introduces': 2, 'non-alcoholic': 1, 'near-beer': 1, 'pablo': 2, 'christi': 1, 'nomx3': 1, 'camera.off': 1, 'bicycles': 1, 'gypsies': 1, 'watermelon': 2, 'aspirations': 1, '~h.i.m': 1, 'haile': 1, 'selassie': 1, 'polo': 3, 'azevedo': 1, 'lore': 1, 'ripken': 1, 'beltran': 2, 'live/dvr': 1, 'imprisoned': 1, 'tasteful': 1, 'w/their': 1, 'cornering': 1, 'me2': 1, 'slideshow': 2, 'neglecting': 3, 'rear-view': 1, '12-4pm': 1, 'litre': 1, '-g': 1, 'xpn2': 1, 'ball-up': 1, '4-pack': 1, 'kyrie': 2, 'irving': 1, 'sen.': 4, 'neumann': 1, 'wna/ap': 1, 'o-v-e-r': 1, 'fructose': 1, 'trashcan': 1, 'etch': 1, 'dunwoody': 1, '-tomorrow': 1, '21apr-': 1, 'ravinia': 1, '-4pm': 1, 'wilde': 3, 'lovvvliest': 1, 'feta': 1, 'shortcmings': 1, 'mathew': 1, 'www.chea.org/about/2010ac/2010_acis_final.asp': 1, 'dressage': 1, 'designer/administrator': 1, 'nipples': 2, 'satellites': 1, 'bestnewartist': 1, 'repairs': 2, 'facade': 1, 'determines': 1, ',so': 1, 'chopin': 1, 'delivers': 2, 'softer': 1, 'lagarde': 1, 'subsidies': 3, 'impvmt': 1, 'dealie': 1, 'ladyfriend': 1, 'whisperlights': 1, 'ratatat': 1, 'lakernation': 2, 'hhhaaa': 1, 'teamokc': 1, '___________': 1, 'daz': 1, 'nutz': 1, 'oilchange': 1, 'evalongoria': 1, 'puckerman': 1, 'oktoberfest': 1, 'service.': 1, 'consisted': 1, 'getreal': 1, '5yr': 1, 'thoroughly': 2, 'ruthie': 1, 'wolfkrone': 1, 'scutaro': 1, 'dickens': 1, '200th': 1, 'unable': 5, 'theen': 1, 'iff': 1, 'sayy': 1, 'crespi': 1, 'minibük': 1, 'floodgates': 1, 'succarra': 1, 'newyork': 2, 'apartment-advisor.com': 1, 'sultan': 1, '2-week': 1, 'vacay': 2, 'drat': 1, 'blu': 3, 'sermons': 1, 'resin': 1, '11:50pm': 1, 'hahahahahahaha..congress': 1, ',now': 1, 'lma': 1, 'twitterati': 1, '3.50': 1, 'trumer': 1, 'pints': 2, 'douchey': 1, 'jewelry..lmao': 1, 'consoles': 1, 'distresses': 1, 'helton': 1, 'saito': 1, 'moments-': 1, 'realism': 2, 'bain': 2, '6..': 1, '8..': 1, 'in/out': 1, 'recovered': 1, 'fishfry': 1, 'battered': 1, 'www.nightowlmerch.com': 1, 'wpxi': 1, '2walk': 1, 'ambivalent': 2, 'backroom': 1, 'u-g-l-y': 1, 'neightborhood': 1, 'lyrical': 1, 'mashuppy': 1, 'hushpuppy': 1, 'yaaaaay-uh': 1, 'hahhhah': 1, 'wha-..': 1, 'www.blog.stellakramer.com': 1, 'javits': 1, 'nightside': 1, 'excalibur': 1, 'mab': 1, 'oberon': 1, 'titania': 1, 'bleach': 1, 'streaks': 1, '3:45-7:15.': 1, 'museospark': 1, '5/17': 1, 'cryptic': 1, 'hcrfs': 1, 'grizzles': 1, 'paulaner': 1, 'salvator': 1, 'in2': 1, 'salesmen': 1, '..just': 2, \"'tap\": 1, 'beer/': 1, 'grasshover': 1, 'pre-sale': 2, 'imhappy': 1, 'immeasurable': 1, 'kloe': 1, 'bye-bye': 1, 'lifes..': 1, 'jeepers': 1, 'yes-': 1, 'smooch': 1, 'dillion': 1, 'voluminating': 1, 'ohwell': 1, 'eons': 1, 'tampering': 1, 'forests': 1, 'athletes/celebs': 1, 'follwers': 1, 'netbook': 1, 'chucks': 1, 'charlies': 1, 'gmt': 1, 'eradicating': 1, '||': 1, 'hateful': 2, 'humans-': 1, 'stumble': 1, 'mystical': 1, 'ballsier': 1, 'hiwi': 1, 'artistry': 1, 'unparallaled': 1, 'mahopac': 1, 'weekk': 1, 'skels': 1, 'female..': 1, '♬': 2, 'nia': 1, 'washpost': 1, 'radio-esque': 1, 'lexington': 3, \"'03\": 1, '50k': 5, 'phidippides': 1, '392': 1, 'buy-in': 2, 'sucha': 1, '13.00': 1, 'pbo': 1, \"i'mbackhoes\": 1, 'tevis': 1, 'steeped': 1, 'ru': 3, '~sticks': 1, 'vagina~': 1, 'bedtalk': 1, 'looovvved': 1, 'tempura': 1, 'rabe': 1, 'tempura..who': 1, 'boozer': 1, 'payed': 1, 'pf': 2, '3,000': 1, \"'save\": 1, 'raze': 1, '*1st': 1, 'expires': 2, '12/31/11': 1, 'precede': 1, 'beginnings': 2, '~jonathan': 1, 'lockwood': 1, 'huie': 1, 'montpelier': 1, 'steadfastly': 1, 'bhahahaha': 1, 'unopened': 1, 'eye-opener': 1, 'legged': 1, 'swimmers': 1, 'tafur': 1, 'kawakami': 1, 'arc': 3, 'borris': 1, '2k9': 1, 'colleague': 1, 'newicarlywithonedirectiontonight': 1, 'uqh': 2, 'qet': 1, 'pleaze': 1, 'heff': 2, 'eureka': 1, 'sundam': 1, 'ferreiro': 1, 'directive': 1, 'introductions': 1, 'maryann': 1, 'milw/chi': 1, 'frienns': 1, 'hicks': 1, 'tmj4': 1, 'thingsghettopeopledo': 2, 'studdering': 1, 'retract': 1, 'handgun': 1, 'murderer': 2, 'nightwoods': 1, 'scrunched': 1, 'ibed': 1, 'differ': 4, 'felling': 1, 'bond': 2, 'beens': 1, 'dermatologist': 1, 'lacked': 1, 'tossed': 1, 'animist': 1, 'squatters': 1, '10/23/62': 1, 'four-legged': 1, 'overeat': 1, 'cals': 2, '1lb': 1, 'safarimontage': 1, 'playlists': 1, 'fostered': 1, 'uni/garlic/chili/clam': 1, 'linguine': 1, 'lol..i': 1, 'maxs': 1, '2.5hrs': 1, 'recharge': 1, '5myths': 1, 'hillbillys': 1, 'rednecks': 1, 'workflows': 1, 'brock': 1, 'haterz': 1, 'beba': 1, 'notifying': 1, 'carlitoss': 1, 'biological': 1, 'ticking': 3, 'boring..': 1, 'kingfish': 1, 'levinsky': 1, \"happymother'sday\": 1, 'sacred': 1, 'runaways': 1, '-near-miss': 1, 'reallllyyyy': 1, 'blood-you': 1, 'not-': 1, 'try-j.tully': 1, 'sun.': 1, 'anther': 1, 'mechanism': 2, 'cheesehead': 1, '12=slice': 1, '12-slice': 1, 'fivefingers': 1, 'calves': 2, 'heatnation': 1, 'whitehot': 1, 'tectonic': 1, 'f8': 1, 'zuck': 1, '-aesop': 1, 'unwise': 1, 'injunctions': 1, 'offical': 1, 'bold..': 1, 'female..sheet': 1, 'u.s.a': 1, 'promotions': 2, 'branching': 1, 'incredulous': 1, 'daring': 1, 'constructing': 1, 'javier': 1, 'colon': 1, '-wisdom': 1, 'cintolo': 1, '70.': 1, 'used..': 1, 'startupriot': 1, 'herzigova': 1, 'metorshower': 1, 'screeched': 1, '..any': 1, 'livestream': 1, 'lunchbox': 1, 'twiztid': 1, 'kottonmouth': 1, 'fans..look': 1, 'bluetooth': 3, 'questionable': 1, 'instr': 1, 'lighter..www.realniggazdorealthangz.com': 1, 'mr.305': 1, 'pibull': 1, 'associated': 2, 'bog': 1, 'bodies': 3, 'eammon': 1, 'jwu': 1, 'cork': 2, 'floors': 2, 'w/it': 1, 'checkerboards': 1, 'herringbones': 1, 'trekking': 1, 'poles': 2, 'wording': 1, 'skyrocket': 1, 'dopest': 1, 'go.': 1, 'googleoffers': 1, 'burghbargains': 1, 'www.burghbargains.com': 1, 'forkin': 1, 'aiming': 2, 'punch-top': 1, 'tonght': 1, 'braving': 1, 'know12': 1, 'germinate': 1, 'definatley': 1, 'spores': 1, 'sniffs': 1, 'achoo': 1, 'spork': 1, 'mal': 1, 'siento': 1, 'redundant': 3, 'winestorming': 1, 'stormed': 1, 'analyzed': 1, 'wimbledon': 1, 'five-setter': 1, 'nicolas': 1, 'mahut': 1, '4-3-12': 1, 'mla13': 1, 'uhm..pretty': 1, 'chacha': 1, 'unintentionally': 1, 'jimi': 1, 'hendrix': 2, 'regulars': 1, 'buts': 1, '*iphone': 1, 'floor*': 2, '*android': 1, 'made/grown': 1, 'serato': 1, 'howaboutwe': 1, 'undertaker4': 1, 'stretches': 1, 'ftm': 1, 'fantasmic..they': 1, 'www.gotime.com/mobile': 1, '~myspace.com/xforeverandafterx~': 1, 'c-usa': 1, 'presser': 1, '1030': 1, '.-+.+-': 1, 'crunkest': 1, 'newmediaweekly': 1, 'hera': 1, \"'96\": 2, '9-10': 1, 'v100': 1, 'all-request': 1, 'wv': 2, 'grindin': 1, 'bridgetowncomedyfestival': 1, 'godbless': 1, 'rollover': 2, '1-year': 1, 'y100': 1, \"'world\": 1, 'obliterate': 1, 'semblance': 1, 'brand-spanking': 1, '9/27': 1, '..ugh': 1, 'it…': 2, 'seamless': 1, 'thebachelorette': 1, 'chants': 1, 'judgment': 3, 'takedown': 1, 'thedevilwearsprada': 1, 'debates': 1, 'downlow': 1, 'mixx': 1, 'samantha': 3, 'viewers': 1, 'sister/sister': 1, 'patched': 1, 'black-out': 1, 'b/t': 1, '3bet': 1, \"'run\": 1, 'oswego': 2, 'korach': 1, 'germain': 1, 'durations': 1, 'meetups': 1, 'sew': 2, 'custody': 3, 'provision': 1, 'fob': 1, 'hahahaa': 2, 'polynesianpower': 1, 'appl': 1, 'moda': 1, 'essays': 2, 'period.\\ue40e': 1, 'studyday': 1, 'studyblue': 1, 'pbl': 2, 'sudent': 1, 'interests': 2, 'neville': 1, 'codebox': 1, 'stress/frustration/anxiety': 1, \"chill'n\": 1, '430.': 1, 'pinterestparty': 1, 'gobaseball': 1, 'nest/golden': 1, 'crossover': 1, 'eewwwww': 1, 'yawn': 2, 'firewall': 1, 'overlapping': 1, 'chuy': 1, 'baldino': 1, 'clyde': 1, '👦': 1, 'bit.ly/xtvhuk': 1, 'steviewonder': 1, 'fufu': 1, 'nigerian': 1, 'astonishment': 1, 'circle-r': 1, 'timbit': 1, 'dunkie': 1, 'krisp': 1, 'spineless': 1, '904-636-0787': 1, 'nourishment': 1, 'clutters': 1, 'stalls': 1, 'iconiac': 1, 'askes': 1, 'wearhouse': 1, 'attempted': 2, 'governments': 1, 'mexcan': 1, 'where/what': 1, 'darien': 1, 'pl': 1, 'circing': 1, 'prssa/': 1, 'prsa': 1, 'thanksnfornthe': 1, 'rubb': 1, 'aurelius': 1, '.thanks': 1, 'maxx': 1, '8:00': 1, 'bessy': 2, 'bayhenn': 1, '2p': 2, 'edison': 1, 'worms': 1, 'howhotisyourgrandma': 1, 'voicemails': 1, 'clarify': 1, 'self-paced': 1, '*sung': 1, 'drafting': 1, 'revelation': 1, 'dualities': 1, 'symbiotic': 1, 'relationship..nothing': 1, 'smbla': 1, 'song❤c': 1, 'pattie': 1, 'you❤': 1, 'am❤': 1, 'manufactures': 1, 'skunks': 1, 'upstatemanhattan': 1, 'escaped': 1, 'nisky': 1, 'sully': 1, 'foothold': 1, 'letpgdunk': 1, 'ihavenorespect': 1, 'creams': 1, 'eviction': 1, 'pac/west': 1, 'chucknorris': 1, 'breathes': 1, 'mashcast': 1, 'redeem': 1, 'nathans': 1, 'folderr': 1, 'fez': 1, 'literal': 1, 'deniza': 1, 'cuter': 1, 'treetops': 1, 'pancake': 3, 'pantry': 1, 'emmychicago': 1, 'dontstressit': 1, 'minnewebcon': 1, 'happy-crying': 1, 'stride': 1, 'case..good': 1, 'riddance': 1, 'specializing': 1, 'chk': 3, 'www.bebellebeauty.com': 1, 'discontinuing': 1, '0750': 1, 'sharpening': 1, 'pencils': 1, 'trimmin': 1, 'independents': 1, 'alternatively': 1, 'ethiosoccer': 1, 'hamsters': 1, 'kappa': 1, 'tamales': 1, 'eclipse': 1, 'sun-': 2, 'inundated': 1, 'hands..please': 1, 'jossey-bass': 1, 'one..1604': 1, '35n': 1, 'divinity': 1, 'friends/fam': 1, 'lol..†': 1, 'symbolize': 1, 'minorities': 1, 'www.pay-equity.org': 1, 'sajak': 1, '😂lol': 1, 'fyb': 1, 'chz': 1, 'unanswered': 1, 'guetta': 1, '4ourth': 1, 'collegefootball': 1, 'wwdc': 1, 'bikeschool': 1, 'rerun': 1, 'mcllroy': 1, 'lead..': 1, '4/4s': 1, 'buffalo/rochester': 1, 'originality': 1, 'pilkington': 1, 'bbc': 4, 'socked': 1, '4-sale': 1, 'properties': 1, 'swype': 1, 'awkmoment': 1, 'startled': 1, 'somewherere': 1, 'sow': 1, 'hick': 1, 'cheetos': 1, 'vat': 1, 'robway': 2, 'way=': 2, 'hye': 1, 'supervillain': 1, 'raison': 1, \"d'etre\": 1, 'alfredo': 4, 'fettuccini': 1, 'smashwords': 1, '😃😃😃': 1, 'grammmys': 1, \"d'angelo\": 1, '¥€': 1, 'break*': 1, 'upf': 1, 'interoperability': 1, 'terrelle': 1, 'pryor': 1, 'grievance': 1, 'overturn': 1, 'suspension': 2, 'builds': 1, 'bricks': 1, 'sahraie': 1, 'proprietress': 1, 'teahouse/poetry': 1, 'edify2': 1, 'ad2': 1, 'creatives': 1, 'non-creatives': 1, '4+': 1, 'lackey': 2, 'tito': 1, '40404': 1, 'cakepops': 1, 'cookiees': 1, 'fiancee': 1, 'hopelessly': 1, \"'guys\": 1, '😍😉': 1, '~carol': 1, 'dime': 6, 'slainte': 1, 'defined': 1, 'happybirthdaybiancac': 1, 'weatherford': 1, 'osama': 2, 'rain/weather': 1, 'u/me': 1, '19.5k': 1, '19.4k': 1, 'illustrator': 1, 'vectors': 1, 'architectural': 1, 'blueprint': 1, 'rendering': 1, 'lnyhbt': 1, 'teeshirt': 1, 'icon/avatar': 1, 'praised': 1, 'packy': 1, 'realization': 1, 'stadiums': 2, 'swimsuit': 1, 'sharking': 1, 'realbitches': 1, 'tumultuous': 1, 'on-line': 1, 'http//www.sharperdefense.com': 1, 'harassment': 1, 'falanghina': 1, 'double-check': 1, '7:00am': 2, 'w2e': 1, 'scruffiness': 1, 'inverted': 1, 'hawttt': 1, 'slaughterhouses': 1, 'coal': 2, 'pirated': 1, 'shrimpin': 1, 'pietro': 1, 'coppermtn': 1, 'calmest': 1, 'turgeon': 1, 'terps': 2, 'alligator': 2, 'eastview': 1, 'hem': 1, 'worlddominationbegins': 1, 'pick,12team': 1, 'morello': 1, 'nukka': 1, '\\ue04a\\ue00e\\ue106': 1, 'ktfo': 1, 'dearly': 2, 'yup-there': 1, 'sneezing': 2, 'sniffles': 1, 'marketable': 1, 'beefy': 1, 'aclfest': 1, 'lindstrom': 1, '9lives': 1, 'snitch': 1, 'me3': 2, 'vanished': 1, 'newborns': 3, 'rem': 1, 'principals': 1, 'hunnie': 1, 'hunnies': 1, 'bldg': 1, 'dontmesswithbeliebers': 1, 'obits': 1, 'cornelia': 1, 'noww': 1, 'rashard': 1, 'mendenhall': 1, 'heat-lakers': 1, 'tremble': 1, \"'titanic\": 1, 'cusack': 2, \"'say\": 1, 'seeming': 1, 'sicker': 1, 'dfwrhinos': 1, '422': 1, 'snooks': 1, '4-6': 1, '120300': 1, '120301': 1, 'resumes': 2, 'cnbc': 1, 'darren': 1, 'gatorbait': 1, 'overlooking': 1, 'mendota': 1, 'bookmarked': 1, 'elliott': 1, 'scentsy': 1, '.45+': 1, '85+': 1, 'scents': 1, 'martial': 1, 'late-night': 1, 'medications': 2, 'co-pay': 1, 'generics': 1, 'jionni': 1, '3/8': 1, '′': 1, '10kt': 1, 'patients/community': 1, 'yr-old': 1, 'burial': 1, 'headbutt': 1, 'friday/sunday': 1, 'vball': 1, 'gein': 1, 'highlighted': 1, 'lizzy': 1, 'intensity': 1, '3:22': 1, 'bonds': 1, 'ocram': 1, 'spraying': 1, 'windex': 1, 'you.remember': 1, 'halfmarathon': 1, 'twittelator': 1, 'postmark': 1, 'steakface': 1, 'chocotweetup': 1, 'pt3': 1, '7/11': 1, 'siphoned': 1, 'remounting': 1, 'morgue': 1, 'usus': 1, 'sinix': 1, 'bgcz': 1, 'cockloft': 1, 'feline': 1, 'fearfully': 1, 'sanborn': 1, '885-5000': 1, 'jah': 1, 'cure-what': 1, 'gnight': 1, 'uwsocial': 1, 'similarities': 1, 'fire~': 1, 'wildwesley': 1, 'weed..honor': 1, 'blur': 1, '5-0': 1, 'kayaks': 1, 'days..where': 1, 'exaggrate': 1, 'hobbit': 2, 'runelords': 1, 'tempus': 1, '..so': 1, 'umbrella': 1, 'jest': 2, 'enigmatic': 2, 'concurrently': 1, 'yuhh': 2, 'wanaa': 1, 'tommrow': 1, 'usa\\x99': 1, 'consumer\\x92s': 1, 'icky': 1, 'attendance': 3, 'pepsi-ed': 1, 'majesty': 1, '.meetings': 1, 'authentication': 1, 'venison': 1, 'chilaquiles': 1, 'excelacom': 1, 'sallie': 1, 'replays': 1, \"'um\": 1, 'federline': 1, 'mgc': 1, '252': 1, 'frequent': 1, 'bursts': 1, 'pervade': 1, 'throng': 1, 'bitchezzzzzz': 1, 'evictions': 1, '813': 1, '352': 1, '3275': 1, 'tampa\\\\clearwater': 1, 'fine..': 1, 'scarier': 1, 'alfred': 1, '😘💰🙏👏👏👏💋': 1, 'worst.californian.ever': 1, 'quora': 3, 'gamer': 2, 'cosplayers': 1, 'misunderstood': 1, 'drew-': 1, 'store-': 1, 'thessaloniki': 1, 'hyu': 1, 'eves': 1, 'rangeline': 1, 'cursed': 1, 'chipwrecked': 1, 'stepsister': 1, 'ti': 2, 'hooping': 1, 'hatefull': 1, 'niceness': 1, 'indulgence': 1, 'responses': 1, 'calla': 1, 'marjorie': 1, '11:01am': 1, 'extracting': 1, 'coc': 1, 'jazmyne': 1, 'seemingly': 1, 'impersonations': 1, 'rowling': 1, 'incompetence': 1, \"nor'easter\": 1, 'zuuuuussss': 1, 'weeknd': 2, 'bla': 5, 'song/sound/voice': 1, 'breakdowns': 1, 'bey': 1, '750-am': 1, 'winnings': 2, 'castlerock': 1, 'alva': 1, 'edison~': 1, 'cured': 1, 'earthy': 1, 'photog': 1, '7s': 1, 'bore': 1, '6s': 2, '1.how': 1, '2.favorite': 1, '3.favorite': 1, '4.what': 1, '1o': 1, 'downfield': 2, 'minimalism': 1, 'protective': 1, 'btw-': 1, 'vampirediaries': 2, 'wsop': 1, 'enema': 1, 'yankess': 1, 'torre': 1, '18:21': 1, 'bedford': 1, 'ave..lmao': 1, 'aaliyah': 1, 'social-network': 1, 'online-market': 1, 'admirable': 1, 'roughing': 1, 'passer': 2, 'geesh': 1, 'forbid': 1, 'confuse': 3, 'cockiness': 1, 'ducheny': 1, 'ahahha': 1, 'elixer': 1, 'restating': 1, 'wasp': 2, 'slots': 1, 'order..': 1, 'freakiing': 1, 'onmy': 1, 'post-shooting': 1, 'mechanic': 1, 'lingo': 1, 'goodlord': 1, 'bauhaus': 1, 'turnitdown': 1, 'homophobia': 1, 'homosexuality': 1, 'man-given': 1, 'conceit': 1, 'self-given': 1, 'coffe': 1, 'pj40': 1, 'pj20': 1, 'elitism': 1, 'all.': 1, 'froude': 1, 'tall.': 1, '10-15': 1, 'atxcouncil': 1, 'ppds': 1, 'utpdc': 1, 'roofus': 1, 'now..come': 1, 'burise': 1, 'shannah': 1, '0-16': 1, 'ramp': 1, 'i-15': 1, 'banners': 2, 'barricades': 1, 'uspro': 1, 'tdf': 1, 'jätte': 1, '2,000,000,000': 1, 'eir': 1, 'figueroa': 1, 'conesus': 1, 'livonia': 1, 'yardage': 2, 'stir': 1, 'bch': 1, 'deliveries': 1, 'oyster': 2, \"'feedback\": 1, '1,219': 1, 'scms12': 1, 'fuc': 1, 'ro': 1, 'housemates': 1, 'ca-razy': 1, 'thundercats': 1, 'glantz': 1, 'a7': 1, 'stcks': 1, 'jell': 1, 'prosthodontics': 1, 'dentures': 2, 'wounding': 1, 'spymaster': 1, 'sweden': 1, 'half.com': 1, 'shhhhhhuuutttuppppppp': 1, 'mound': 1, 'music.': 1, 'carlin': 2, 'naismith': 1, 'perfected': 2, '81st': 1, 'keepstriving': 1, 'shelton': 2, 'brasil': 1, 'entrees': 1, 'wowzers': 1, 'harmonies': 1, 'being/talking': 1, 'rnrchi': 1, '*actually*': 1, 'instructs': 1, 'avert': 1, 'breitbart': 1, 'repudiates': 1, 'hunan': 1, 'manor': 1, 'www.debbiedownerent.com': 1, 'assessment': 2, 'instances': 1, 'omeka': 2, 'surveying': 1, 'instructors': 2, 'wmnatsec': 1, 'drawn': 2, '4/5': 1, 'brielle': 1, 'awww..i': 1, 'stressy': 1, '-jc': 1, 'one-shoulder': 1, 'balls.': 1, 'receptive': 1, '*head': 1, 'rub*': 1, 'sava': 1, 'hut': 1, 'foodhubs': 1, 'aggregation': 1, 'distributors': 1, 'melody': 1, 'fatality': 1, 'w/feeling': 1, 'underwire': 1, '66': 2, 'lacking': 4, 'comprehend': 1, 'berkman': 1, '.400': 1, 'probation/bobby': 1, 'jessop': 2, '25.00': 1, 'ballplayer': 2, '–lou': 1, 'gehrig': 1, 'zipcar': 1, 'wolski': 1, 'first-quarter': 1, 'grizz': 1, 'inclined': 2, 'condol': 1, 'parmatown': 1, 'willy': 1, 'mexicana': 1, 'brookhaven': 1, 'sdmnomothersday': 1, 'speller': 1, '410-235-1157': 1, 'kickball': 1, 'sh': 1, 'aftercare': 1, 'asf': 2, 'wuzzz': 1, 'powerball': 1, 'teamxtina': 1, '6-120': 1, 'taso': 1, '1.cause': 1, '2.cause': 1, '3.because': 1, 'regroup': 1, 'interruption': 1, 'borgata': 1, 'wsopc': 1, 'bymyself': 2, 'rubbish': 1, 'sps': 1, 'biebergraduationgifts': 1, 'livelove∆': 1, '∆p': 1, 'letizia': 1, 'additon': 1, 'shrm': 1, 'flattened': 1, 'spokeswoman': 1, 'doggy': 1, 'rican': 2, 'wheatgrass': 1, '..lol': 2, 'guild': 1, '\\u200f': 1, 'adg': 1, 'awesomesauce': 1, 'diet/exercise': 1, 'www.unthinkfc.com': 1, '-angelina': 1, 'gecko': 1, 'contain': 1, 'fin': 1, 'waterproofed': 1, 'arielbeezy': 1, 'krew': 1, 'sportsgrill': 1, 'www.discountdw.com': 1, 'pane': 2, 'compliance': 1, 'beerpong': 1, 'barkin': 1, 'tasked': 1, 'shandy': 1, 'maggiano': 1, 'miabench': 1, 'takeyourchildtoworkday': 1, 'deja': 1, 'vu': 2, 'checkpoint': 1, 'kelli.': 1, 'jack.in.the': 1, 'tkts': 1, 'napping': 1, 'britanica': 1, 'computational': 1, 'flo+themachine': 1, 'godonald': 1, 'disappearing': 1, 'outw/': 1, 's.a.': 1, 'mtida': 1, 'bagpipes': 1, 'xeon': 1, 'workstation': 1, 'i7': 1, 'makein': 1, 'hometeam': 1, '6023215619': 1, 'frite': 1, 'misheard': 1, '\\ue420': 1, '💁': 1, 'longed': 1, 'belongings': 1, 'downsize': 1, 'resale': 1, '607-4328': 1, 'krazie': 2, 'you—': 1, 'cw': 2, \"'ringer\": 1, 'ignores': 1, 'lullz': 1, 'cheezburger': 1, 'jwow': 1, 'dailypayne.com': 1, 'man-card': 1, '460': 1, 'archivists': 1, 'stuff/': 1, 'defeat/': 1, 'rough/makes': 1, '\\ue402': 2, 'ahahahahaha': 1, 'tank-tops': 1, 'viddy': 1, 'cris': 1, 'trill': 2, 'besties': 1, 'workoutflow': 1, 'dynamo': 1, 'timbers': 1, 'zappos': 1, 'ushers': 1, 'magicthegathering': 1, 'petlovers': 1, 'killshelters': 1, 'wkends': 1, 'euthanized': 1, 'adopt/foster': 1, 'vinnys': 1, 'ustream': 1, 'incorporate': 1, 'toss-up': 1, 'hands-down': 1, 'bozeman': 1, 'compuserve': 1, 'reptilian': 2, 'yankeedom': 1, 'sourcefest': 1, 'commonality': 1, 'wether': 1, 'grannyquotes': 1, 'fistpumpin': 1, 'ago-': 1, 'sleep-': 1, 'elotes': 1, 'facetious': 1, 'dense': 2, 'dysfunctional': 2, 'superintendents': 1, '401': 2, 'unauthorized': 1, 'faried': 2, 'soups/sandwich': 1, 'them.smh.that': 1, 'e-reading': 1, 'pertinent': 1, 'lazer': 1, 'ughh': 1, '.sigh': 1, 'undergroundfilm': 1, 'filmfests': 1, 'cardiff': 1, '😂😂👍👍rt': 1, 'stains': 2, 'fuckouttahere': 1, 'register..': 1, 'shuddup': 1, 'buffettrule': 1, '401k': 1, 'homepage': 1, 'home..': 1, 'bumpn': 1, '..feeln': 1, 'promoted': 3, 'freecitimedia': 1, 'auma': 1, 'edtion': 1, '**serious': 1, 'only**': 1, '19.': 1, 'one-up': 1, 'problemchildontheloose': 1, 'decks': 1, 'eduiconf': 1, 'legitt': 1, 'bruhh': 1, '17s': 1, 'hdd': 1, '3/6/12': 1, '♥grateful♥': 1, 'nani': 1, 'bailz': 1, 'pagliacci': 1, 'walk.off': 1, 'dao': 1, 'larry..': 1, 'patrols': 1, 'safest': 1, 'wwwow': 1, 'careeruniversity': 1, 'buick': 1, 'verano': 1, '9:29': 1, 'gpl': 1, 'compat': 1, 'appstore': 1, 'rewritten': 1, 'ground*': 1, 'brats': 3, 'seating-plus-shelving': 1, 'togther': 1, 'ios5/the': 1, 'shutter': 1, 'shata': 1, '*smacks': 1, 'forehead*': 1, 'eileen': 1, 'goudge': 1, 'yayyyy': 1, 'worldseries': 1, 'martin-george': 1, '3weeks': 1, '29.': 1, 'admirers': 1, 'mmg': 1, 'spoiling': 1, 'mei': 1, '40under40': 1, 'honorees': 1, '.do': 2, 'norway': 1, 'generations': 3, 'senoritabanana': 1, 'abilene': 1, 'intermediate': 2, 'mkelive': 1, 'tarte': 1, 'flambée': 1, 'bas-rhin': 1, 'alsace': 1, 'showdown': 1, 'gwapo': 1, 'bluebird': 1, 'snowprincess': 1, 'potted': 1, 'eng': 1, 'vengeance/justice': 1, 'lex': 1, 'transmitting': 1, 'follow-much': 1, 'why-_-': 1, 'hackingedu': 1, 'tweefer': 1, \"'love\": 1, 'fillmore': 1, 'mentions/rts': 1, \"peel'n\": 1, 'decals': 1, 'souls': 1, '304': 1, 'communityworks': 1, 'strictest': 1, 'fundraisers': 1, 'socmedia': 1, 'dashboard': 2, 'tweets-': 1, 'deji': 1, 'dawodu': 1, 'if/when': 1, 'timberland': 1, 'longking': 1, 'ofthe': 1, 'contenders': 1, 'crowes': 1, 'f**ked': 1, '700': 2, 'shores': 1, 'align': 1, 'wider': 1, 'sidewalks': 1, 'diets': 1, 'non-annoying': 1, 'prezis': 1, 'driveways': 1, 'parkways': 1, '~george': 1, 'bucking': 1, '/duckface': 1, 'scumbags': 1, 'wauwatosa': 1, 'erwhere': 1, 'igo': 1, 'ea': 1, 'inclusive': 1, 'dominant': 2, 'sourpuss..i': 1, 'them..good': 1, 'mlbatbat': 1, 'b****': 1, 'favorably': 1, 'harms': 2, 'spears': 1, 'downhill': 1, 'phametour': 1, 'villa': 1, 'juggalo': 1, 'yooooo': 1, 'harmonics': 1, 'chronicled': 1, 'hurrah': 1, 'uber-fans': 1, 'flock': 2, 'toothed': 1, 'sliding': 1, 'weary': 1, '/and': 1, 'week./i': 1, 'come/so': 1, 'you/all': 1, 'week.dianewakoski': 1, 'tellox.net': 1, 'www.tellox.net': 1, 'unis': 1, 'inhibit': 1, 'stars..': 1, 'sky..': 1, 'touchy': 1, 'stakeholders': 1, 'steezz': 1, '32gb': 1, 'ravennation': 1, 'sizzle': 1, 'cruisin': 1, 'immense': 1, 'icecream': 2, 'wesun': 1, 'divits': 1, 'doj': 1, 'ase': 1, 'pato': 1, 'corrupts': 1, 'shavuoth': 1, 'www.caje-miami.org/mol': 1, '1.10': 1, 'brainy': 1, 'engagements': 2, 'woodkid': 1, 'ht.ly/8g7zp': 1, '..sad': 1, 'ideastorm': 1, '1.0': 1, 'bubblegum': 1, 'faster.': 1, 'mattnathanson': 1, 'redbull': 1, 'muchlove': 1, 'greinke': 1, 'cerveceros': 1, '143': 1, 'cherries': 3, 'drugreactions': 1, 'eveywhere': 2, 'impromptu': 1, 'malt': 1, 'maslow': 1, 'acg': 1, 'intergrowth': 1, 'villanova': 1, 'assists': 2, 'exorcism': 1, 'loner': 1, 'wch': 1, 'djokovic': 1, 'petzschner': 1, 'facebook=killing': 1, 'flawless..in': 1, 'it/care': 1, 'tlmeet': 1, 'forkly': 1, 'glutenfree': 1, 'krug': 1, 'kcbs': 1, '106.9': 1, '106.1': 1, 'assholesssssss': 1, 'fobs': 1, 'stanky': 1, 'mayflower': 1, 'farragut': 1, 'armo': 1, 'imjustsayin': 1, 'xmas25': 1, 'everyone.i': 1, 'choco': 1, \"'enjoy\": 1, 'everyone*': 1, 'scaa2012': 1, 'coffeelands': 1, '*check': 1, 'awash': 1, 'ungrateful': 1, 'christmas.lame': 1, 'fraction': 1, 'explores': 1, 'demonstrated': 1, 'lollipop': 1, \"'0\": 1, 'xoxoxoxooxox': 1, 'familytradition': 1, 'stgeorgesday': 1, 'fathered': 1, 'enos': 1, 'yoh': 1, 'callin': 1, 'knowin': 1, 'daym': 1, 'wheezing': 2, 'itchies': 1, 'renaissance': 1, 'lousiville': 1, 'campaign-': 1, 'micrography': 1, 'addressed': 1, 'howling': 1, 'proportion': 2, 'campaign-aka': 1, 'traders': 1, 'chatroom': 1, 'aqlv': 1, '😭😭😭😭': 2, 'goldman': 1, 'sachs': 1, 'souza': 1, 'trombones': 1, 'lawmaker': 1, 'veal': 1, 'pzs12': 1, 'bgr': 1, 'flavorings': 1, 'myglam': 1, 'naacp': 1, 'teensummit': 1, 'dml2012': 1, 'scavenger': 1, 'w/little': 1, '.your': 1, 'zaria': 1, '.beeessstfrienddd': 1, 'latos': 1, 'advertise': 1, 'itsothank': 1, 'wants..how': 1, 'stophoe': 1, 'lost..sick': 1, 'mode..ha': 1, '590': 1, 'gym..bout': 1, 'stand..up..': 1, 'sidity': 1, 'thoughtsduringschool': 1, '33rd': 1, 'watermelons': 1, 'pepas': 1, 'webhook': 1, 'listserve': 1, 'thatdarnlist': 1, 'inane': 1, 'gab': 1, 'certify': 1, 'vallarta': 1, 'ooooyeah': 1, 'issues-': 1, 'badder': 1, 'asus': 1, 'aintnothinglike': 1, 'keymetric': 1, 'optimize': 1, 'adcenter': 1, 'keywords': 1, 'conversions': 1, '10/10/10': 1, 'classrooms': 1, 'gwynn': 1, 'trusting': 2, 'weir': 1, 'refreshed': 1, 'workspace': 1, 'high-scoring': 1, 'housh': 1, 'coupled': 1, 'backfield': 1, 'slpeeps': 1, 'calculation': 1, 'pavement': 1, 'zija': 1, 'whatup': 1, 'hardness': 1, 'softness': 1, 'future-': 1, '😳😂😂😂😭': 1, 'divaconference': 1, 'ochs': 1, 'peralta': 2, 'nightingale': 1, 'totals': 1, 'chromosome': 1, 'ricochet': 1, 'snomg': 1, 'appropo': 1, 'marquis~': 1, 'notsorry': 1, '235-193': 1, 'gusie': 1, 'brides': 1, 'beverly': 1, 'bh': 1, 'jank': 1, 'anyones': 1, 'wowsers': 1, 'hooo': 1, '501c3': 1, 'www.pledge4patriots.com': 1, '//t.co/pbwaefo6': 1, 'freedan': 1, 'report-': 1, 'weathered': 1, 'gymclass': 1, 'heros': 1, \"'yarn\": 1, \"graffiti'-\": 1, 'delorians': 1, 'runt': 1, 'recomend': 1, 'sucka': 1, 'it😁': 1, 'now-if': 1, 'refinance-rates': 1, 'rickie': 1, 'relay..': 1, 'lehigh/duke': 1, 'underdog': 1, 'facto': 1, 'incentivized': 1, 'exorbitantly': 1, 'poss': 1, 'archevore': 1, 'j.a': 1, 'droop': 1, 'frosted': 1, 'unqualified': 1, 'ut': 1, 'coverttu': 1, '01.25.11': 1, 'cldnt': 1, 'timeslot': 1, 'grindingly': 1, '301': 1, 'citrt': 1, 'tiao': 1, 'cleanse': 1, 'cleansing': 1, 'synergistic': 1, '3-hour': 1, 'fireireland': 1, 'miamidolphins': 1, 'suarez': 1, '3:38': 1, 'sudo': 1, 'what2chainzwouldsay': 1, 'lames..': 1, 'tity': 1, '2naaames': 1, 'e-commerce': 1, 'pimping': 1, 'chapstick': 1, 'sounds-': 1, 'doorstep': 1, 'pharmacists': 1, 'sparrow': 1, 'havta': 1, 'cad': 1, 'rf': 2, 'grandstand': 1, '560/ticket': 1, 'cheers15': 1, 'freebirds': 1, 'hillcrest': 1, 'comparatively': 1, 'hieber': 1, '-dale': 1, 'hot😞': 1, \"'requiem\": 1, 'cilantro': 1, 'chives': 1, 'ke': 5, 'sundae': 2, 'canopy': 1, '600-thread': 1, 'sheetqueen': 1, '5988': 1, 'ecof': 1, 'dizzee': 1, 'non-apocalyptic': 1, '\\ue022\\ue04f': 1, 'orange/black': 1, 'buggers': 1, 'kidnappers': 1, 'codeforoakland': 1, 'oakwatch': 1, 'neighborhood-level': 1, 'incidents': 1, 'tomororw': 1, 'raping': 1, 'cags': 1, 'throat..': 1, 'predicts': 1, 'scs11': 1, 'uribe': 1, 'avril': 1, 'lavigne': 1, 'sk8er': 1, 'progression': 1, 'nuts..': 1, 'emerging.': 1, '😣🔫': 1, 'iheart': 1, 'shingletown..': 1, 'away/densely': 1, 'populated': 1, 'stationary': 1, 'jumpstreet': 1, 'position-i': 1, 'saysthe13yearoldgirlinme': 1, 'titanicin3d': 1, 'polishing': 1, 'flashcards++': 1, 'iphone4s': 1, 'gatos': 2, 'urock': 1, 'baruch': 1, 'haller': 1, 'back-and-forth': 1, 'time/newsweek': 1, 'wakin': 1, 'luckk': 1, 'niggy': 1, 'lakewood': 2, 'rolento': 1, 'fireballs': 1, 'soo-': 1, '-|': 1, 'mattingly': 1, 'brox': 1, 'guerra': 1, \"''everyones\": 1, 'gowns…you': 1, 'reliever': 1, 'offensice': 1, 'enrich': 1, 'willpower': 1, 'inglewood': 1, '06': 1, 'symone': 1, 'antm': 1, 'terra': 2, 'wheelers': 1, 'muddin': 1, 'factoring': 1, 'janacek': 1, 'head..': 1, 'heels..': 1, 'crede': 1, 'w/terrorists': 1, 'platinum': 1, 'jog': 1, 'canadians': 1, 'eliminate': 2, 'policymaking': 1, 'redwood': 1, 'manteca': 1, 'nevershouldyouever': 2, 'ang*': 1, 'owner/operators': 1, 'ans': 1, 'promotes': 1, 'week-ends': 1, '6wordscifistory': 1, 'd-c.': 1, 'asset': 1, 'cove…': 1, 'xps': 1, '1503': 1, 'sonos': 1, '8.3': 1, 'revolving': 1, 'sia': 1, 'on-snow': 1, '4-0': 1, 'ishikawa': 1, 'checkers': 3, 'philips': 1, 'lush': 1, 'expressive': 1, 'fruits': 1, 'benefited': 1, 'deviated': 1, 'schedule-': 1, 'rosebowl': 1, 'lsu-bama': 1, 'stinker': 1, \"p'town\": 1, 'verygoodcomposition': 1, 'shadid': 1, 'anticipating': 1, 'capcom': 1, 're3': 1, 'nemesis': 1, '^ne': 2, 'half..': 1, 'slum': 1, 'crunchy': 1, 'cross-atlantic': 1, 'ragazzi': 1, 'ferry': 1, 'postsecret': 1, 'leaner': 1, '.better': 1, 'window..lol': 1, 'nawl': 1, 'toppled': 1, 'on-top': 1, 'recklessly': 1, 'sk8': 1, 'pepe': 1, 'cupatea': 1, 'vibrant': 1, 'ohcanada': 1, 'nignt': 1, 'superperb': 1, 'thoughh': 1, 'crey': 1, 'jsadhgfkdjlaghlkfsdjhglkfdj': 1, 'charades': 1, \"'sex\": 1, '162-0': 1, 'tinychatting': 1, 'assassinate': 1, 'la..but': 1, 'irvington': 1, 'hoff': 1, 'theatrical': 1, 'penthouse': 1, '8:15': 1, 'a.m.-ish': 1, 'kusi': 1, 'want/desire': 1, 'smes': 2, 'alder': 1, 'walsh': 1, 'reconsider': 1, 'voldemort': 1, 'rotflmao': 1, 'goto': 2, 'arnie': 1, \"'hood\": 1, '4/17': 2, 'planed': 1, 'smits': 1, 'nypd': 1, 'korver': 1, 'chivsdet': 1, 'thingsthatyoushouldknow': 1, 'musicality': 1, 'www.etapdance.com': 1, '-drake': 1, 'sho': 1, 'apc': 1, '364': 2, 'deux': 1, 'kehoe': 1, 'pubs': 1, 'position.dr': 1, 'bbq/fried': 1, 'catfish': 1, 'muddy': 1, 'udders': 1, 'frenemies..': 1, '10:00.': 1, 'billionaire': 1, 'ricard': 1, 'branson': 1, 'smithsonian': 1, \"'metro\": 1, 'mambo': 1, 'latin-jazz': 1, 'lec/dem': 1, 'mus': 1, 'ravenna': 1, 'nms30': 1, 'www.historyglobe.com/jamestown/': 1, 'solicitation': 2, 'patronizing': 1, 'shoves': 1, 'absurdity': 3, '19..': 1, 'intellect': 2, 'deconstructed': 1, 'looney': 1, 'questionpoint': 1, 'askmn.org': 1, 'erasing': 1, '1948': 1, 'teamcricket': 1, 'nco': 1, 'tour/lsn360.com': 1, 'mickelson': 1, 'riviera': 1, 'bunker': 1, 'hungriest': 1, 'horseback': 1, 'galloping': 1, 'obstacles': 2, 'terrorizing': 1, 'routines': 1, 'evicting': 2, 'occupydc': 1, 'mcpherson': 1, '..anyone': 1, 'j-mac': 1, 'immeasurably': 1, 'cozier': 1, 'caleb': 1, 'brantley': 1, 'sdsms': 1, '4-7pm': 1, 'diythemes.com': 1, 'outfield': 1, 'aches': 1, 'allergist': 1, 'gastroenterologist': 1, 'dhl': 1, 'jetlag': 1, 'budgeting': 1, 'avpm/s': 1, 'washington..idk': 1, 'sweept': 1, 'mopped': 1, 'silenced': 1, '.ariel': 1, 'leuzinger': 1, 'helmet-free-tackle': 1, 'pcog': 1, 'jms': 1, '490': 1, 'finising': 1, 'cumbersome': 1, 'interdepartmental': 1, '3/5': 1, 'discourse': 1, 'errata': 1, '1x10^100': 1, 'hcil': 1, 'oshkosh': 1, '2get': 1, '2it': 1, 'aftr': 1, 'mins.': 1, 'abso-fucking-lutely': 1, 'beefing': 1, 'evangelist': 2, 'hum..': 1, 'yawning': 1, 'acutally': 1, 'brighton': 1, 'rims': 1, 'gun..': 1, 'picassono': 1, '8-12pm': 1, 'theautry': 1, 'griffithpark': 1, 'scythe': 1, 'stratford': 2, 'offend': 1, 'sumtin': 1, 'ni': 1, 'semi-randomly': 1, 'football-time': 1, 'objectionable': 1, 'evryday': 1, 'arsenio': 1, 'triverahappyhour': 1, 'saber': 1, 'tijuana': 1, 'brass': 2, 'agave': 2, 'mittromney': 1, 'pointed': 3, 'understudyrunthrough': 1, 'teampeeta': 1, 'snap-shots': 1, 'therockchurch': 1, 'bw': 1, 'gal-pal': 1, 'cim': 1, 'a2/4': 1, 'self-efficacy': 1, 'timee': 1, 'brunansky': 2, 'dyke': 2, 'barolo': 1, 'j345': 1, 'madinteractive': 1, 'manifesting': 1, 'fwiw': 1, 'fs': 1, 'nfs': 1, 'mosley': 1, 'welfare/': 1, 'turnover': 1, 'k2': 1, 'crumpets': 1, 'chilled': 2, 'aspargus': 1, 'soup-yum': 1, 'bux': 1, 'y-cafe': 1, '7am-6pm': 1, 'iconiacs': 1, '-seeing': 1, 'austream': 1, '*cupping': 1, 'lingering': 1, 'lips*': 1, '*opening': 1, 'door*': 1, 'sidekick': 1, 'photopit': 1, 'overweight': 1, '5th/congress': 1, '2-5pm': 1, 'teamsheikie': 1, 'boney': 1, 'teamallnighter': 1, '10:50': 1, 'haah': 1, 'buckwheats': 1, 'semantics': 1, 'shifty': 1, 'nav': 1, \"freak'n\": 1, 'catch-22': 1, 'switch-a-roo': 1, 'newengland': 1, 'goth': 1, 'defarge': 1, 'furtively': 1, 'htown': 1, 'industries': 1, 'reinvented': 1, \"'cultural\": 1, 'pregnancyproject': 1, 'steaks': 2, 'zin': 1, 'luxury': 3, 'lounginess': 1, 'occurring': 1, 'fantabulous': 1, 'omz': 1, 'pappy': 1, 'grubb': 1, 'herd': 2, 'marco': 2, 'juliette': 1, 'fndr': 1, 'more/gal': 1, 'profiteers': 1, 'odd/funny': 1, 'blood..': 1, 'gingers': 1, 'environmentally': 1, 'harmful': 1, 'secondhand': 1, 'www.livenandgiven.com': 1, 'zim..': 1, 'shorten': 1, 'friday..': 1, '2tired': 1, 'outa': 1, '.does': 1, 't.v': 2, 'catastrophic': 1, 'mississippi..': 1, '97.7': 1, 'blakk': 1, 'fam..': 1, 'well-trained': 1, 'submissive': 1, 'linger': 1, 'segal': 1, 'chicago..': 1, 'stage773': 1, 'unfollwing': 1, 'ppl..': 1, 'vaclav': 1, 'havel': 1, 'chruch': 1, 'swampers': 1, 'plumberry': 1, 'scent..wow': 1, 'berrilicious': 1, 'relaying': 1, 'nosleep': 1, 'defiantly': 2, 'pakcing': 1, 'dieting': 1, 'ria': 1, 'weaves': 1, 'wikis': 1, 'guto': 1, 'two+': 1, 'wordscramble': 1, 'www.s2yd.com': 1, 'gonzalez': 1, \"o'niell\": 1, 'yano': 1, '4,066': 1, 'boondockkingz': 1, 'ingrediant': 1, \"za'atar\": 1, 'book.': 1, 'mvba': 1, 'landers': 1, 'pugh': 1, 'cowgirls': 1, '//ow.ly/1mohag': 1, 'learns': 1, 'his/her': 1, 'seatle': 1, 'recomendations': 1, 'melvins': 1, 'fastbacks': 1, 'investigative': 1, 'weloveariana': 1, 'choirs': 1, 'zimmerman..he': 1, 'bond..none': 1, 'yesh': 1, 'games/apps': 1, 'picnik': 1, 'burgundy': 1, 'varieties': 1, 'roomette': 1, 'rlly': 1, 'dms…only': 1, 'tweets♥': 1, 'subbers': 1, 'tatum': 2, 'puddingpoints': 1, 'psalms': 1, '54:2': 1, 'bored..': 2, '–aristotle': 1, 'entertainers': 1, 'clearwater': 1, 'self-esteem': 1, 'blushed': 1, 'aborted': 1, 'thor': 1, 'trenchcoat': 1, 'albie': 1, 'suzi': 1, 'tesla': 2, 'mignardises': 1, 'crj': 1, 'gloat': 1, \"'orange\": 1, 'certainty': 1, '-jesus': 1, 'opusx': 1, 'un-zen': 1, 'apprentice': 1, 'bittersweet': 1, 'westgate': 1, 'brodie': 2, 'burgatory': 1, 'condolence': 1, 'respiratory': 1, '3rd-4th': 2, 'rounder': 1, 'karachi': 1, 'center-pieces': 1, 'arenas': 1, '4-7': 1, 'goinng': 1, 'staunch': 1, 'merr': 1, 'syracuse-': 1, 'huberts': 1, 'walkerbots': 1, 'wirecall': 1, 'dnc': 1, 'wipolitics': 1, \"'joke\": 1, 'tlkng': 1, 'nashieka': 1, 'juggling': 1, 'observant': 1, 'wdop': 1, 'preflop': 1, 'capo': 1, 'flooding': 1, 'memes': 1, 'lobbing': 1, 'goulding': 1, 'scouts': 1, 'notsosmooth': 1, 'realizes': 1, 'cappers': 1, 'flawlessly': 1, 'sierman': 1, 'kb-nl': 1, 'control-level': 1, 'urges': 1, 'rebellion': 1, 'tbar': 1, 'hams': 1, 'dezign': 1, 'networ': 1, 'formative': 1, 'spreadsheet': 1, 'organijzation': 1, 'counseling': 1, 'vrc': 1, 'mdot': 1, 'bikes': 1, 'trumbull': 1, 'holden': 1, 'cums': 1, '~c.s': 1, 'manipulators': 1, 'cdt': 1, 'pubes': 1, 'larege': 1, '.enjoy': 1, 'scheds': 1, \"'angel\": 1, \"'romo\": 1, 'gerunds': 1, 'oka': 1, 'skinned': 1, 'exposing': 2, 'christianity': 1, 'deliberate': 2, 'fraud': 1, 'visibility': 1, 'breathkng/eating': 1, 'sand-': 1, 'fleas': 2, 'roar': 1, 'drummer/vocalist': 1, 'vander': 1, 'chickenrun': 1, '9p': 1, 'gorangers': 1, 'dropoff': 1, 'smbdy': 1, 'mybestfriendsof2011': 1, 'raye': 1, 'shin': 1, '2go': 1, 'ko': 1, 'equestrian': 1, 'mayyybee': 1, 'ion': 2, 'bostaph': 1, 'defriend': 1, 'whiplash': 2, 'motian': 1, 'borgman': 1, 'rtb': 1, 'not-so-urgent': 1, 'metaphysics': 1, 'bondsman': 1, 'landlord': 1, 'całe': 1, 'dvf': 1, 'camel': 1, 'chie': 1, 'miharas': 1, 'polite': 1, 'last-minute': 1, 'drupalcon': 1, 'you-know-what': 1, 'artificial': 1, 'limbs': 1, 'sayings': 1, 'facilitator': 1, 'stabilization': 1, 'pointblank': 1, 'autotune': 1, 'wolsey': 1, 'aghhhhhh': 1, 'vertica': 1, 'mobile/data': 1, 'chucky': 1, 'fuckkk': 1, 'beaune': 2, 'chorey': 1, 'tollot': 1, '7:15': 1, 'congo': 1, 'volcom': 1, 'pat..have': 1, 'sure-but': 1, 'sbm': 1, 'kiski': 1, 'westtown': 2, 'quarterfinals': 1, '3:45': 1, 'blaufränkisch': 1, 'winechat': 1, 'raced': 2, 'pfft': 1, 'ibs2012': 1, 'toss': 2, 'mugging': 1, 'receivers': 1, 'carroll': 2, 'summery': 1, 'capitalist': 2, 'so-so': 1, 'parm': 1, 'datenight': 1, 'myhubbyrocks': 1, 'hb1271': 1, 'kensington': 1, 'gilberti': 1, 'sharapova': 1, 'trimmed': 1, 'peavy': 1, '1-0.': 1, 'leaguers': 1, 'u.va': 1, 'godet': 1, 'kinkade': 1, 'obit': 1, 'carnivals': 1, 'kess': 1, 'croatian': 1, '4859': 1, 'eoff': 1, 'benwood': 1, '6-10': 1, 'trusts': 1, 'speech-language': 1, 'pathologist': 1, 'pr/marketing': 1, 'jajajaa': 1, 'djsosnekspqnslanskam': 1, 'barnett': 1, 'allowable': 1, 'kolb': 1, 'midwestfashionweek': 1, 'fermin': 1, '7:45am': 1, 'beetle': 1, 'kneels': 1, 'w/new': 1, 'tutoring': 1, 'panna': 1, 'cotta': 1, 'hallo': 1, 'lukes': 1, '180th': 1, 'greenfield': 2, 'boone': 1, 'pickens': 1, 'bedlambaseball': 1, 'wiener': 2, 'g6': 1, 'restrain': 1, 'xtreme': 1, 'nickel': 1, 'jäger': 1, 'youknowyouwakeupearlywhen': 1, 'oblivated': 1, 'marklogic': 1, 'treasured': 1, '*curtsies*': 1, 'tweetastic': 1, 'debaucherous': 1, '576': 1, 'testified': 1, 'stemme': 1, 'kampe': 1, 'jovanovich': 1, 'pointe': 1, '509': 1, '764-2275': 1, 'aloud': 1, 'fuckkkkk': 1, 'unordered': 1, 'p.f': 1, 'changs': 1, 'spackle': 1, '168rec': 1, 'hey.iwanna': 1, 'mahi': 1, 'sharky': 1, '2265cc6f': 1, 'barbering': 1, 'barbers': 1, 'penal': 1, 'misdemeanor': 1, 'lupe': 1, 'trejo': 1, 'wrestler': 1, 'laugh.we': 1, 'test..': 1, 'mmkayy': 1, '*insert': 1, 'imperfect': 1, 'relocating': 1, 'many..': 1, 'graduations': 1, '🍴': 1, 'ihave': 1, 'homesick': 2, 'induced': 1, 'poltergeist': 1, 'booing': 1, 'mullan': 1, 'cathartic': 1, \"d'yquem\": 1, 'miller/gilchrist': 1, 'devandra': 1, 'banhart': 1, 'shrugged': 1, 'slcbridalmall': 1, 'bridalbash': 1, 'follllllowwww': 1, 'teamtrickybizness': 1, 'jasminators': 1, 'touchdowns': 2, 'brittle': 1, 'biotin': 1, 'omega-3': 1, 'ago..': 1, 'belts': 1, 'eiteljorg': 1, 'ssh': 1, 'terminals': 1, 'aszx': 1, 'truth.': 1, 'nxxt': 1, 'thecollective': 1, '..poof': 1, 'getn': 1, 'newsflash': 1, 'environmentalism': 1, '3/27': 1, 'feds': 1, 'estimate': 1, 'quickie': 1, 'codesquare': 1, 'kodid': 1, 'doga': 1, '11-noon': 1, 'whs': 1, 'highschoolmemories': 1, 'geiger': 1, 'counter-wielding': 1, 'fukushima': 1, 'fallout': 1, 'gawker': 1, 'immersed': 1, 'wheeeee': 1, 'kaddafi': 1, 'gcl': 1, 'charbroil': 1, 'advertiser': 1, 'putyourheartsup': 1, 'mysql': 1, 'inserts': 1, 'msges': 1, 'reload': 1, 'neifi': 1, 'unbuttoned': 1, 'enforce': 1, 'pleases': 1, 'etsy/twitter/facebook': 1, 'judgeing': 1, 'trajectury': 1, 'covestor': 1, 'knitted': 1, 'crocheted': 1, 'nzt': 1, 'travesty': 1, 'hookem': 1, '\\\\\\\\m//': 1, '~i': 1, 'screwin': 1, 'workaholic': 1, 'nodayzoff..': 1, 'extention': 1, 'www.shindigtarot.com/directory/abracadabra': 1, 'iso': 1, 'entomology': 1, 'rn': 1, 'gold..i': 1, 'beep': 23, 'spews': 1, 'janice': 1, 'yogo': 1, 'pensacola': 1, 'smewere': 1, 'tlking': 1, 'doppelganger': 1, 'deodorant': 1, 'drusen': 1, 'deposits': 1, 'macular': 1, 'degeneration': 1, 'ariel': 1, 'somepeopleneedto': 1, 'yello': 1, 'over-stimulation': 1, 'single-spaced': 1, 'yp': 1, '545': 1, 'chard': 1, 'meridian': 1, 'rebate': 1, 'randoms': 1, 'htc': 1, 'titan': 1, 'zdnet': 1, 'dry-aged': 1, 'keepyourpantson': 1, 'gwen': 1, 'ifill': 1, 'sen': 2, 'kirsten': 1, 'gillibrand': 1, 'd-ny': 1, 'michele': 1, 'r-mn': 1, \"'tell\": 1, 'anthropolgy': 1, 'connector': 1, 'purposeful': 1, 'butt-tweet': 1, 'alone..would': 1, 'deviantart': 1, 'ira': 1, 'screencast': 1, 'sbny': 1, 'comrades': 1, 'amd': 1, 'plsz': 1, 'sagert': 1, 'dikembe': 1, 'mutombo': 1, 'veterinarian': 1, 'know.': 1, 'l8er': 1, \"fuck'em\": 1, 'paradice': 1, 'benched': 1, 'yayayay': 1, 'kindly': 2, 'musicians/artists': 1, 'anagram': 1, 'tc': 1, 'mcds': 1, 'chronic': 1, 'replaceagagasongwithtwitter': 1, 'ameritwittero': 1, 'soaking': 2, 'stuffing': 2, 'face-': 1, 'scrubbed': 1, 'transcripts': 1, 'assholery': 1, 'amigos': 2, 'aldiss': 1, 'gonee': 1, 'rustys': 1, 'still-frame': 1, 'ilia': 1, 'bkground': 1, 'vocals': 1, 'emc': 1, '1.28': 1, 'feherty': 1, 'meth': 1, 'reinvent': 1, 'timelines': 1, 'annoying..': 1, 'schmaltz': 1, 'richness': 2, '15-30': 1, 'optically': 1, 'bowwownation': 1, 'underratedtour': 1, 'removing': 1, 'french-canadian': 1, \"s'il\": 1, 'vous': 1, 'plaît': 1, 'arretez': 1, 'maintenant': 1, 'manufacturing': 1, 'noam': 1, 'chompsky': 1, 'lolly': 1, 'ok..you': 1, 'flashback': 1, 'barrie': 1, 'powty/jcc': 1, 'latke': 1, 'crumb': 1, 'chauffeured': 1, 'rover': 3, 'plzzzzz': 1, 'trampolining': 1, \"l'chaim\": 1, 'novelist': 1, 'delve': 1, 'intergrity': 1, 'autopia': 1, 'best..': 1, 'acquaintance': 1, 'invisibility': 2, 'potion': 1, 'erzberg': 1, 'brewz': 1, 'aggravating': 1, 'serena': 2, 'broadcasts': 1, 'interwebs': 1, 'hahahahahahahahahahaha': 1, 'iamthankful': 1, 'misfits': 1, 'hulu': 2, 'advertisments': 1, 'editorial': 1, 'erykah': 1, 'badu': 1, 'oddparents': 1, 'ham-it-up': 1, 'doe..': 1, 'canvass': 1, 'bzrt': 1, 'otc': 1, 'ereading': 1, 'treadmills': 2, 'repping': 1, 'nyrangers': 1, 'lundqvist': 1, 'saran': 1, 'maysonet': 1, 'headband': 1, 'ouchy': 1, 'representin': 1, 'wercnrc': 1, 'trampoline': 2, '..30': 1, '-mwm': 1, 'afresh': 1, \"'failure\": 1, 'spitball': 1, '678-668-0075': 1, 'statefarm': 1, 'imperfection': 1, '/amazing': 1, 'thoight': 1, 'clair': 1, '.never': 1, 'convict': 1, 'cruciferous': 1, 'impending': 1, 'spinsterhood': 1, '1px': 1, 'ewlarson': 1, 'cablers': 1, 'snackity': 1, '..samosas': 1, 'sala': 1, 'speer': 1, 'x1': 1, 'xposure': 1, 'scattered': 2, 'w/shakeology': 1, 'birdsong': 1, 'happen-ive': 1, 'knowww': 2, 'dccashmob': 1, 'crawls': 1, 'whitefish': 1, 'order=': 1, '30.00': 1, 'dwd': 1, 'newson': 1, 'revised': 1, 'wijobs': 1, 'indicators': 1, 'lakefront': 1, \"'keeping\": 1, 'overpriced': 1, 'nfc-enabled': 1, 'trackable': 1, 'foreverandalways': 1, 'happytenmonths': 1, 'assertive': 1, 'spinning.': 1, 'riteous': 1, 'greasy': 1, 'hippotnanumus': 1, 'msr': 1, 'noon-8p': 1, 'burmese': 1, 'raw10': 1, 'haig': 1, '38714': 1, 'btls': 1, 'bubbly+wondered': 1, 'corks': 1, 'perigee': 1, 'culturally': 1, 'amputees': 1, 'limb': 1, 'finlay': 1, 'mysterio': 1, 'yemen': 1, 'lunatic': 1, 'nix': 1, 'humidity': 1, 'needacinschool': 1, '~val': 1, 'saintsbury': 1, 'rumchata': 1, 'aah': 2, '.jpg': 1, 'pixels': 1, 'buildyourfans': 1, 'discoverable': 1, 'pro-sopa': 1, 'poema': 2, 'bibliobash': 1, 'lightning-bug': 1, 'stumbles': 1, 'head-light': 1, 'zoe': 1, 'unveiled': 1, 'cpaexam': 1, 'congratulation': 1, 'got.dat': 1, 'tequilla': 1, 'dominick': 1, 'coffeeshop': 1, '17th😄': 1, 'writetip': 1, \"'frisco\": 1, \"'cali\": 1, 'sentence-are': 1, 'catalogue': 2, 'chickfla': 1, 'eyess': 1, 'feckarewe': 1, 'delighting': 2, 'chicos': 1, 'roon': 1, 'fatter': 1, 'pysch': 1, 'toomanyelectiondays': 1, 'pralines': 1, 'stopping.': 1, 'junks': 1, 'bedtime': 1, 'unsubtle': 1, 'grats': 1, 'bumpits': 1, 'grrrrrrrr': 1, 'succeeded': 1, 'arguably': 1, 'hitchens': 1, 'bundy': 1, 'ct.': 1, 'wesleyan': 1, 'caas': 1, 'asc': 1, 'apa': 1, 'citation': 1, 'quadrupeds': 1, 'quantum': 1, 'ziggy': 1, 'weirdidea': 1, 'chemo': 1, 'treatments': 2, 'georges': 1, 'clemenceau': 1, 'afoqt': 1, 'deammm': 1, 'tudor/homeschool': 1, '152': 1, '12-14': 1, 'specyphi': 1, 'stereotypical': 1, 'roxie': 1, 'www.sdfilm.com': 1, 'wl': 1, '-cool': 1, 'toasted': 1, 'yolks': 1, 'anonymus': 1, 'e.e': 1, 'chivalry': 1, 'wowza': 1, 'proclaim': 1, 'googleapps': 1, 'ruffus': 1, 'wainwright': 1, 'adolf': 1, 'reichstag': 1, 'translated': 1, 'narcotic': 1, 'morphine': 1, 'callback': 1, 'archtitects': 1, 'envying': 1, 'realtalk': 1, 'numbr': 1, 'consisting': 1, 'characterized': 1, 'pacifists': 1, 'randolph/cambria-friesland': 1, 'hazelnut': 1, 'cadbury': 1, 'pelletier': 1, 'renewbold': 1, 'abhi': 1, 'niyati': 1, 'ras': 1, 'dashen': 1, 'headscratching': 1, 'gsw': 1, 'www.prepaidlegal.com/hub/bonds95': 1, '3.53': 1, 'sesh/photoshoot': 1, 'dryers': 1, 'wod': 1, 'ghd': 1, 'umaine': 1, 'eliminates': 1, 'middlemen': 1, 'customers.': 1, 'seaborn': 1, 'lit-terally': 1, 'shading': 1, 'flaugin': 1, 'girl.': 1, 'non-profits': 1, 'mothafuckka': 1, 'rusher': 2, 'jaguar': 2, 'offsets': 1, 'tata': 1, 'pare': 1, 'amazingg': 1, 'betterwithutour': 1, 't.o.m': 1, 'maniac': 1, 'ivcf': 1, 'hanes': 1, '121': 1, '447-2446': 1, 'briefs': 1, '99888': 1, 'sfo': 1, 'unisex': 1, 'lessen': 2, 'urination': 1, 'bedsheets': 1, 'tempest': 1, 'meadow': 1, 'kiwi': 1, 'counselors': 1, 'summercamp': 1, 'comicon': 2, 'tripped/mocked/not': 1, 'homophobe': 1, 'on/off': 1, 'epidemic': 1, 'frizzy': 1, 'sticked': 1, 'maaaaannnn': 1, 'purl': 1, 'vdp': 1, 'interdisciplinary': 1, 'awesome.': 1, 'sxbehavior': 1, 'aged/cured': 1, 'stale': 2, 'pios': 1, 'streamed': 1, 'quincy': 1, '1943.': 1, 'kosher': 3, 'edshow': 1, 'gsa': 2, '2011..': 1, 'writhing': 1, 'angelic': 1, 'brocollli': 1, '3.6lbs': 1, 'feeder': 1, 'amuse': 1, '1849': 1, 'erupted': 1, 'mo.': 1, 'resulting': 2, 'steamships': 1, 'herschel': 1, 'soslam': 1, 'buzgon': 1, 'poy': 1, 'faillia': 1, 'sagtra': 1, 'aftag': 1, 'shakedown': 1, '98.9': 1, 'mcintyre': 1, 'legislate': 1, 'morality': 1, 'spats': 1, 'lockerz.com/s/131760933': 1, 'ambushed': 1, 'insects': 1, 'nomoe': 1, 'woodstock': 1, 'simplegeo.com': 1, 'ventura..': 1, 'wrongdoing': 1, 'rightdoing': 1, 'dude..this': 1, 'masterminding': 1, 'true..as': 1, 'sharpens': 2, 'aristocrats': 1, 'self-love': 1, 'dingers': 1, '/tinyari': 1, 'famazing': 1, \"'sha\": 1, 'eagerly': 1, 'robb': 1, 'vogel': 1, 'curd': 1, 'gnite': 1, 'aintisentimental': 1, 'idot': 1, 'activist': 1, 'recallfitz': 1, 'gilr': 1, 'rolf': 1, 'schmidt-holtz': 1, 'festivals': 1, 'crowd..did': 1, 'selso': 1, 'cluster': 1, 'dhsi2012': 1, 'popin': 1, 'unmtickets.com': 1, 'watertank': 1, 'gaffney': 1, 'clarku': 1, 'weekone': 1, 'torr': 1, 'mitchbenn': 1, 'mens': 1, 'toliet': 1, 'barrywoods': 1, 'narron': 1, 'at..': 1, 'quick-fix': 1, 'storytime': 2, 'nash': 2, '*pouts*': 1, 'pygmy': 1, 'goats': 1, 'bayshore': 1, 'toothpaste': 1, 'itching': 1, 'teaches': 2, 'millenia': 1, 'stringent': 1, 'aasl': 1, 'auz10': 1, 'sparks': 1, '3200': 1, '100/200-25a': 1, 'wsop34': 1, 'gq': 1, 'intimidated': 1, 'nicholl': 1, 'entries': 3, 'fox5dc': 1, 'pitchfork': 1, 'torch': 1, 'post-game': 1, 'undying': 1, 'comon': 1, 'constitutes': 1, 'hat-trick': 1, 'vegemite': 1, 'stimulant': 1, 'ears..': 1, 'music~': 1, 'nines': 1, 're-branding': 1, 'smith/bayless': 1, 'shedding': 3, 'traci': 1, 'fubu': 1, 'raza': 1, 'himm': 1, 'how.much': 1, 'privatizing': 1, 'leah': 1, 'reforms': 1, 'amplify': 1, 'cfr': 1, 'herewepurple': 1, 'qponomics': 1, 'fling': 1, 'awwweeesssoooommme': 1, 'tanker': 1, 'neww': 1, 'baxter': 1, 'manhattan..but': 1, 'coneing': 1, 'automobiles': 1, 'catch-up': 1, 'fdic': 1, 'cavuto': 1, 'cie': 1, 'zit': 1, 'proactive': 1, 'rts/mentions': 1, 'jpa': 1, 'www.juvenile.org': 1, '858-278-2800': 1, 'consultation': 2, '888-621-6900': 1, '*hackneyed': 1, 'statement*': 1, 'insisted': 1, 'leavin': 1, 'archaic': 1, 'hotness': 1, 'acrobats': 1, 'acrobatics': 1, 'jugglers': 1, 'cyclists': 1, 'tumblers': 1, 'sassoon': 1, 'pioneer': 1, 'clare-': 1, 'bioanthro': 1, 'cited-now-blurbing': 1, 'cautionary': 1, 'interwebz': 1, 'assets': 1, 'peson': 1, 'loli': 1, '9822': 1, 'innocence': 1, 'goofy': 1, 'biddies': 1, 'survivorseries': 1, 'deletes': 1, 'somke': 1, 'xjhfujdnjx': 1, 'chanti': 1, 'iame': 1, 'ilyshawty': 1, 'lopsided': 1, 'thingz': 1, 'webb': 1, 'quirky': 2, 'schtick': 1, '16-25': 1, 'girlfriend/boyfriend': 1, 'bled-silent': 1, 'cmlbookchat': 1, 'slutty': 1, 'continental': 1, 'abp': 1, 'chesterson': 1, 'walburg': 1, 'it..fucking': 1, 'approximately': 1, 'mycrushof2011': 1, 'chrispine': 1, 'geicogecko': 1, 'glynn': 1, '100innings': 1, '71st': 1, 'lembo': 1, 'symbolizes': 1, 'death/eternal': 1, 'nigggaa': 1, 'everything..': 1, 'predators': 1, 'maesion': 1, 'fakade': 1, 'finleyville': 1, 'oluwatoyin': 1, 'cooder': 1, 'graw': 1, 'brazos': 1, 'granbury': 1, '-artemus': 1, 'sweeter': 1, 'europa': 1, 'miguel': 1, 'cabrera': 1, 'bonini': 1, 'floats': 1, 'salary': 2, 'carabel': 1, 'southborough': 1, 'hopkington': 1, 'flashy': 1, 'schmidt': 1, 'misleading': 1, 'ganksta': 1, 'enterprize': 1, 'periphery': 1, 'abandon': 1, 'sovereignty.the': 1, 'mutually': 1, 'fanshoes': 1, 'spirited': 1, 'partaking': 1, 'gamestop': 1, 'pettitte': 1, 'clemens': 1, '60-120': 1, 'acquires': 1, 'bwahahahahaha': 1, 'realizn': 1, '.idiot': 1, 'paws': 1, 'yipping': 1, 'wagged': 1, 'tail': 1, 'chicago-ese': 1, \"'blogger-fy\": 1, 'spaz': 1, 'flynn': 1, 'good-will': 1, '__________': 1, 'whiteboard': 1, 'typing': 1, '4:15pm': 1, 'divisive': 1, 'pupils': 1, 'dilated': 1, 'position.what': 1, 'regulating': 1, 'policing': 1, 'hindu': 1, '*yowza*': 1, 'banger': 1, 'lmfaooo': 1, 'cantab': 1, 'baird': 1, 'rwbbizsolutions': 1, 'alian': 1, 'iparty': 1, 'thenewchicago': 1, 'vol.1': 1, 'ondemand': 1, 'loops': 1, 'boxed': 1, 'alphascope': 1, 'chumps': 1, 'fukkin': 1, 'iberia': 1, 'ret': 1, 'gartrel': 1, 'branches': 2, 'closure': 1, 'uce': 1, 'magnetically': 1, 'nauseam': 1, 'backlink': 1, 'ifollowed': 1, 'perddyy': 1, 'speights': 1, 'f1': 1, 'pc4pc': 1, 'preferences': 1, 'reinvest': 1, 'quinella': 1, 'lt.': 1, 'col.': 1, 'duckworth': 1, 'ywca2012': 1, 'military/veterans': 1, 'maythefourth': 1, 'affection': 3, 'fogarty': 1, 'hawaii..scratch': 1, '..scratch': 1, 'dells': 1, 'youknowitsbadwhen': 1, 'webex': 1, 'impressions-': 1, 'impressions': 1, 'tips-': 1, 'bento': 1, 'georgewashington': 1, 'termpaperdom': 1, 'specifies': 1, \"'guins\": 1, 'astrophysics': 1, 'astronomy': 1, 'kraves': 1, 'mikelpatrik': 1, 'origs': 1, 'reproductions': 1, '1312': 1, 'favorable': 1, 'yeas': 1, 'nays': 1, 'twitterz': 1, 'unposter': 1, 'introduction': 1, 'sally': 2, 'www.playcollegebasketball.com': 1, 'judgmental': 1, 'stopbullying': 1, 'blucy': 1, 'happens—the': 1, 'nevergetsold': 1, 'generously': 1, '11/27/97': 1, 'mmmmwahahahaha': 1, 'kidish': 1, 'sauna': 1, 'amazonfresh': 1, 'ageless': 1, 'mcmaster': 2, '1964-2012.': 1, 'complacent': 1, 'controlling': 1, 'compositions': 1, 'iraglass': 1, 'thisamericanlife': 1, 'perkinelmer': 1, 'axion®': 1, 'spectrometry': 1, 'winterhawks': 1, 'ovah': 1, 'soul+spirit': 1, 'mean+unsupportive': 1, 'revise': 1, 'parenthetical': 1, 'rhianna': 2, 'clays': 1, 'cottas': 1, 'bangle': 1, '.cab': 1, 'franc': 1, '..friday': 1, 'romare': 1, 'bearden': 1, 'toenails': 1, 'alien-looking': 1, 'gmp4': 1, 'starshine': 1, 'w.facebook.com/cowboysnindians': 1, 'minzy': 1, \"'share\": 1, 'metamorphosis': 1, 'deprived': 1, 'tebowed': 1, 'hindus': 1, 'mormons': 1, 'catholics': 1, 'kia': 1, 'or/wa/bc': 1, 'centipede': 1, 'exception': 1, '8:02': 1, 'coyote': 1, 'nessa': 1, 'escapes': 2, '163k': 1, 'rod': 2, 'leahs': 1, 'familia': 1, 'gotchu': 1, 'exempt': 1, 'zappa/peaches': 1, 'br': 1, 'interferance': 1, '😭💣🔫': 1, 'hesitancy': 1, 'battista': 1, '5629229011': 1, 'koala': 1, 'chlamydia': 1, 'cosmetic': 1, 'dangers': 1, 'dh11': 1, 'altac': 1, 'mcgill': 1, 'eg': 1, 'sexpervert': 1, 'governance': 1, 'mofe': 1, 'boyo': 1, 'lulz': 2, 'carlson': 1, 'aftermath': 1, 'htat': 1, 'labyrinth': 1, 'mesterhazy': 1, \"s'mores\": 2, 'presale': 1, '1700': 1, 'successor': 1, 'carried': 1, 'hoses': 1, 'one-way': 1, 'valve': 1, 'walkouts': 1, 'adamouski': 1, 'bourque': 1, 'geoff': 2, 'goeff': 1, 'moonshine': 1, 'in-theater': 1, 'joys': 1, 'porchetta': 1, 'cobbler': 1, 'upfront': 1, 'appétit': 1, 'tint': 1, \"n'awleans\": 1, 'supergroup': 1, '2/22': 1, 'later-': 1, 'whipp': 1, 'thers': 1, 'icm501': 1, 'a-2': 1, '18u': 1, 'vivianne': 1, 'kaitlynn': 1, 'respecter': 1, 'phishing': 1, 'expedition': 1, 'clean/painted': 1, '83-year': 1, 'kidd-gilchrist': 1, 'terror': 1, 'overrising': 1, 'fkin': 1, 'woodington': 1, 'large-scale': 1, '5/4': 1, 'infuriate': 1, 'dap': 1, 'hydro': 1, 'retake': 1, 'tomrrow': 1, '7.99': 1, 'all-you-can-eat': 1, 'bibliography': 1, 'peptalk': 1, 'moralbooster': 1, '64f': 1, '82f': 1, 'cunts': 1, 'swirl': 1, 'bailout': 1, 'kiosk': 1, 'w/3': 1, '-benjamin': 1, 'jeb': 1, 'tellem': 1, 'bakin': 1, 'oven.lol': 1, 'lh': 1, 'left-handed': 1, 'rebranding': 1, 'maven': 1, 'troublesome': 1, 'beanie': 1, 'step-howl': 1, 'listd': 1, 'misstatement': 1, 'parents/families': 1, 'w/sn': 1, 'pari': 1, 'playstation': 1, 'refinance': 1, 'recapitalize': 1, 'ratmobiles': 1, 'schnitzel': 1, 'no-tech': 1, 'daltrey': 1, 'interdental': 1, 'proximal': 1, 'tacobell': 1, 'southbound': 1, 'reigns': 1, 'bengal': 1, 'thugish': 1, 'ruggish': 1, 'wolverine..lord': 1, 'guts': 1, \"tappin'round\": 1, 'mtn': 1, 'freeform': 1, 'kodo': 1, 'angelitofrmdabx': 1, 'ifollowback': 1, '*like': 1, 'preachah': 1, 'sinks': 1, 'aggravations': 1, '.child': 1, 'shill': 1, '20000': 1, 'noaa': 1, 'ronk': 1, 'sneezed': 1, 'gladiator': 1, 'colosseum': 1, 'theyneverchange': 1, 'tehehe': 1, 'oquendo': 1, 'covers-_-': 1, '0_____o': 1, 'mobil': 1, 'deca': 1, 'payitfowardday': 1, 'northkorea': 1, 'kimjongil': 1, 'obituaries': 1, 'prayers*': 1, 'clerical': 1, 'harmed': 1, 'noke': 1, 'pinapples': 1, 'meth-head': 1, 'lallapalooza': 1, 'handicapped': 1, 'stillepoint': 1, '480': 1, 'theyll': 1, 'azabbgic2012': 1, 'mainevent': 1, \"n'siah\": 1, 'marcy': 1, 'rosenbaum': 1, 'acr': 1, 'asm': 1, 'feuer': 1, '414/218-2202': 1, 'p.a.s.t': 1, 'agree..': 1, 'acrylics': 1, 'ryze': 1, 'yourself.': 1, 'bethegreateryou': 1, 'goina': 1, 'teased': 1, 'call/e-mail': 1, 'waxman-markley': 1, 'paramount': 1, '15-20': 1, 'hym': 1, 'bitten': 3, 'schaub': 1, 'kumerow': 2, 'tweener': 1, 'agg': 1, 'aly': 1, 'in-school': 1, 'disproportionately': 1, 'ilysm': 1, 'fangirlingggg': 1, 'impairment': 1, 'spectrum': 1, 'butch': 1, 'calculating': 1, 'wcm': 1, 'converge': 1, 'auction..': 1, 'companionship': 1, 'thingsionlike': 1, 'quenns': 1, 'wronq': 1, '🍻🍸🍔🍟': 1, 'skwirl': 1, 'crashes': 1, 'erection': 1, \"s'more\": 1, 'tsdday': 1, 'wank': 1, 'ratepayers': 1, 'listenting': 1, 'higo': 1, 'ringostarr': 1, 'teamtrivia': 1, 'caldav': 1, 'pendleton': 1, 'dissappearance': 1, 'fallbrook': 1, 'finalcut': 1, 'polymers': 1, 'scalp': 1, 'teamotenki': 1, 'enoma': 1, '170': 1, 'terrence': 1, 'ccid2012': 1, 'evaluate': 1, 'women-owned': 1, '3/20': 1, 'toning': 1, 'hizzy': 1, 'bojangles': 1, 'starts.': 1, 'edgar': 1, 'non-uk-er': 1, 'dissed': 1, 'trapmusic': 1, 'realshit': 1, 'mothermonster': 1, 'ffa': 1, 'angsty': 1, 'savethedate': 1, '11/12': 1, '2for1': 1, 'brookland': 1, 'tickled': 1, '8/20': 1, 'zak': 2, 'showalter': 1, 'compute/app': 1, 'access/transmission': 1, 'andtheystaythere': 1, 'ciroc..': 1, 'superb.👌lol': 1, '-that': 1, 'treatment/session': 1, 'agriculture': 1, 'fa…': 1, 'years..': 1, 'indirect': 2, 'darkside': 1, 'asimov': 1, 'stems': 1, '20th-24th': 1, 'veggie/vegan': 1, 'ewing-esque': 1, 'uwebc12': 1, 'powder': 1, 'eclipsing': 1, 'licence': 1, 'induces': 1, 'tangible': 1, 'fukyoukaren': 1, 'pkg': 1, 'www.marriott.com/mkeri': 1, 'wrongfultermination': 1, 'redflagrule': 1, 'automobile': 1, 'silken': 1, 'herbs': 1, 'zest': 1, 'nutritional': 1, 'deficit': 1, 'deniers': 1, 'resourceful': 1, 'gunderson': 1, 'buffy': 1, 'drool': 1, 'love.': 1, 'publicly-biased': 1, 'zobies': 1, 'www.eating4achieving.com': 1, 'squee': 1, 'burritos': 1, 'mistress': 1, 'like.a.fucking': 1, '5ks': 1, 'h8t': 1, 'smokein': 1, 'vaughan': 1, 'denton': 1, 'gso': 1, \"'coffee\": 1, 'sister..': 1, 'unibrow': 1, 'askew': 1, 'clockwise': 1, 'bugabees': 1, 'expn': 1, 'modifications': 1, 'passport': 1, 'blackops': 1, 'craptastic': 1, 'dimmed': 1, 'hotoffthepress': 1, 'prefect': 1, 'overthrown': 1, 'ghostyyyyy': 1, 'aomeone': 1, 'shaver': 1, 'mods': 1, 'tommarow': 1, '★': 4, '.or': 1, \"'hello\": 1, 'shaded': 1, 'followers..less': 1, 'them..i': 1, 'them..bad': 1, 'mclean': 1, 'faults': 1, 'arguelles': 1, 'showering': 1, '–long': 1, 'numbness': 1, 'staar': 1, 'haw': 1, 'thk': 1, 'www.kravitzdental.com': 1, 'laziness': 1, 'denmon': 1, 'killer🏀': 1, 'killers': 2, 'kolach': 1, \"'net\": 1, 'shahs': 1, 'her..she': 1, 'beauty.': 1, 'eggplant': 1, 'ced': 1, 'bornthiswayslaysexpressyourself': 1, 'contents': 1, 'z-': 1, 'androidjesus': 1, 'mumbles': 1, \"''no\": 1, 'kylepalooza': 2, 'propensity': 1, 'q6': 1, 'compulsive': 1, 'finder': 1, \"'level\": 1, 'humantrafficking': 1, 'g-free': 1, 'toady': 1, '4gb': 1, 'mannequin': 1, 'directionators': 1, 'hhmmm': 1, '-d.schwartz': 1, 'people-': 1, 'blamers': 1, 'lafevers': 1, 'ismae': 1, '23-10': 1, 'nighthawks': 1, 'swaglife': 1, 'ncdd': 1, 'non-oly': 1, 'partnering': 1, 'underworld': 1, 'www.kuik.com': 1, 'cebu': 2, 'condominium': 1, 'sulit': 1, 'egging': 1, 'purposely': 1, 'jong-il': 1, '786.287.8487.': 1, '1,000+': 1, 'wymer': 1, '~m.b.~': 1, 'lintonandassociates': 2, '-robin': 1, 'sharma': 1, 'hedrick': 1, 'co-brokered': 1, 'tractor': 1, 'yamato': 1, 'vividly': 1, 'inexpensive': 1, 'northtoberfest': 1, '602': 1, '882-0317': 1, 'alizee': 1, 'croqueta': 1, 'startingnow': 1, 'notbebulling': 1, 'tavern20': 1, 'brewcityonline.com': 1, 'modicum': 1, 'elwayesque': 1, '1/11': 1, 'target..': 1, 'goodlistens': 1, 'mcfinnigans': 1, 'mccabe': 1, 'truely': 1, 'guardian': 1, 'saltgrass': 1, 'toothbrushes': 1, '93rd': 1, 'sistah': 1, 'post-high': 1, 'hud': 1, 'smc': 1, '5/22': 1, 'strat12': 1, 'mitzvah': 1, 'initials': 1, 'yayyyyy': 1, 'scaliday': 1, 'bos/philly': 1, 'philbin': 1, 'are.you.going.to.come.out.with.more.clothing.designs': 1, '***yeaya***': 1, 'monkeypox': 1, 'poise': 1, 'weathering': 1, 'waupaca': 1, 'rotting': 1, '14m': 1, 'swifties': 2, 'beiber': 3, 'relational': 1, 'approaches/philosophies': 1, 'varied': 1, 'climber': 1, 'heywendy': 1, 'despately': 1, 'hippocrit': 1, 'carlito': 1, 'distributing': 1, 'gayer': 1, 'blacker': 1, 'browner': 1, 'drogba': 1, 'reynolda': 1, 'sketches': 1, 'bandages': 1, '🌙': 1, 'damien': 1, 'comedown': 1, 'loft47': 1, 'rehashing': 1, 'kegged': 1, 'tramon': 1, 'computer..': 1, 'stupid..': 1, 'peaches': 1, 'declaration': 1, \"'pursuit\": 1, 'laws/con': 1, 'preston': 1, 'rescuez': 1, 'narveson': 1, 'estrada': 1, 'over-rated': 2, 'usas': 1, 'haitian': 1, 'hartsfield-jackson': 1, 'wises': 1, 'first-degree': 1, '630-830': 1, 'discriminatory': 1, 'apprentices': 1, 'snack..taking': 1, 'fuckwith': 1, 'natl': 1, 'decl': 1, 'indep': 1, 'w\\\\': 1, 'homegirl': 1, 'ereader': 1, '1k1hr': 1, 'otp': 1, 'overseas': 1, 'scarce': 2, 'potm': 1, 'armine': 1, 'iknadossian': 1, 'lapse': 1, 'assignments': 1, 'beautiful-a': 1, 'siobhan': 1, 'parse': 1, 'ats': 1, 'you.♥': 1, 'badiou': 2, 'mwahahah': 1, 'herds': 1, '∞': 1, 'flatts': 1, 'wewantlaidbacknow': 1, 'firefighter': 1, 'methamphetamine': 1, 'makeawish': 1, 'austinmahone': 1, 'no-show': 1, 'fuckerberg': 1, 'tish': 1, '100-67.': 1, '1,666': 1, '101-year-old': 1, 'crippling': 1, 'self-doubt': 1, 'awkwardness': 1, 'stubborn': 1, 'eclectic': 1, 'justin♥': 1, 'zajick': 1, 'w-b': 1, 'conchords': 1, 'inbred': 1, 'imls': 1, 'nhprc': 1, '1yo': 1, 'howland': 1, 'birthplace': 1, 'totalletdownfor2011': 1, 'schaef': 1, 'turbo': 1, '200/buy': 1, 'memebers': 1, 'boyish': 1, 'mourning': 1, '.pennisula': 1, 'camps': 1, 'sdpd': 1, 'assaulting': 1, 'gooch': 1, 'khart': 1, 'disappeared': 1, 'sanzenbacher': 1, 'montauk': 1, 'weiskopf': 1, 'though.lol': 1, 'senders': 1, 'hygiene': 1, 'antihistamine': 1, 'await': 1, 'non-hotel': 1, 'flacon2012': 1, 'atable': 1, 'stangers': 1, 'asain': 1, 'endeavour': 1, 'floor+coka-cola+twitter': 1, 'ponce': 1, 'cicero~': 1, 'rungear': 1, '2c': 1, 'cushy': 1, 'owen': 1, 'sidelined': 1, 'adhere': 1, 'cantillon': 1, 'academia': 1, \"'ladder\": 1, 'fixation': 1, \"'right\": 1, 'cheatin': 1, 'packman': 1, '6:45': 1, 'geussing': 1, 'mad..': 1, 'off.': 1, 'b2bexpo': 1, 'lumberjack': 1, 'backside': 1, \"'ervthing\": 1, 'fungible': 1, 'name..at': 1, 'wldnt': 1, '-ms.williams': 1, 'knotts': 1, 'frostbite': 1, 'excitedd': 1, 'terroroverrising': 1, 'sosick': 1, 'zombo': 1, '4134': 1, '11:45': 1, 'danceing': 1, 'myweakness': 1, \"'blow\": 1, 'dsoc': 1, 'slaleads': 1, 'sla': 1, 'orgs': 1, 'rescuing': 1, 'ate..now': 1, 'recalls': 1, 'swifts': 1, 'replaceable': 1, 'ritzcarlton': 1, 'melgibson': 1, '214.15mb': 1, '306.06mb': 1, 'donedonedone': 1, 'grading': 1, 'vadar': 1, 'hershey': 2, 'definite': 2, 'blog.flairify.com': 1, 'alper': 1, 'jcc': 1, 'hahahahhahahahahahahahahhaha': 1, 'weirdly': 1, 'overvalue': 1, 'nabokov': 1, 'scissors': 1, 'dominican': 1, 'mentos': 1, 'impress.js': 1, 'dianna': 1, 'duran': 1, 'www.diannaduran2010.com': 1, 'lbc': 1, '..ill': 1, 'crazy..thats': 1, 'justread': 1, '8/5': 1, 'bit.ly/qnymhu': 1, 'bargain': 1, 'w/larger': 1, 'entities': 1, 'blip': 1, 'humps': 1, 'itself..': 1, 'singin*': 1, '*then': 1, 'lte': 1, 'sandwhich': 1, 'dupree': 1, 'sheer': 1, 'fel': 1, 'bestfrend': 1, 'hapend': 1, 'conversely': 1, 'college/graduate': 1, 'weeken': 1, 'coolfjghfgsdg': 1, 'chica': 1, 'g2b12': 1, 'tomorrow…': 1, 'underfunded': 1, 'kavanagh': 1, 'shite': 1, 'barman': 1, 'attempts': 1, 'ayala': 1, 'spaztastic': 1, 'self-worth': 1, 'enviro': 1, 'bora': 2, 'ou': 1, 'lops': 1, 'skiba': 1, 'attire': 1, 'superhead': 1, 'previewed': 1, 'vag': 1, 'lrg': 1, 'nilla': 1, 'c/s': 1, 'nbis': 2, 'neara11': 1, 'compensate': 1, 'rainmaking': 1, 'strengths': 2, 'proliferation': 1, '*prepares': 1, 'charge*': 1, 'ubaldo': 1, 'peeking': 1, 'braced': 1, 'chanterelle': 1, 'sauteed': 1, 'dpla': 2, 'dplawest': 1, 'out-awkward': 1, 'snapple': 1, 'allright': 1, '~~~~': 1, 'cansecomaniacs': 1, '600k': 1, 'fridaythe13th': 1, 'dose': 2, 'farragutnorth': 1, 'moh': 1, 'voki': 1, 'clsrm': 1, 'individually': 1, 'christofer': 1, 'no-u': 1, 'flanders': 1, 'narrow': 1, 'pipes': 1, 'believin': 1, 'une': 1, 'latalkradio.com': 1, 'legos': 1, 'kodiak..': 1, 'croatia': 1, 'wheeled': 1, 'collapsible': 1, '1994.': 1, 'springbreak': 1, 'signspeopleshouldwear': 1, 'koon': 1, 'car.nissan': 1, 'defaults': 1, 'categorize': 1, 'wiskey': 1, 'drupa': 1, 'assertion': 1, 'nomnom': 1, 'roe': 1, 'housefly': 1, 'hums': 1, 'yerevan': 1, 'fascism': 1, 'swastikas': 1, 'she`s': 1, '357532478874335788433.25': 1, 'shapes': 1, 'shar-pei': 2, 'hunky': 1, 'tje': 1, 'studio/workshop': 1, 'damen': 1, 'bowmanville': 1, 'fhs': 1, 'fms': 1, 'interracial': 1, 'couplest': 1, 'swirlin': 1, 'flippant': 1, 'dismissive': 1, 'brrr': 1, 'jarrett': 1, 'skills/knowledge': 1, 'socialization': 1, 'facilitation/instruction': 1, 'accreditation/certification': 1, 'marcel': 1, '119th': 1, 'rstrnt': 1, 'fl-when': 1, '561.909.9902': 1, 'volunteerism': 1, 'backpacks': 1, '17-inch': 1, 'macbkpro': 1, 'sandman': 1, 'tripped': 1, 'layton': 1, 'surviving': 1, 'omigosh': 1, 'dobbynami': 1, 'soylent': 1, 'despondent': 1, 'dibs': 1, 'loveseat': 1, 'eod': 1, '11:59:59': 1, 'icantgoadaywithout': 1, 'triathlon': 1, 'i-90': 1, 'eb': 1, '163': 1, 'edgerton': 1, 'holloway-attaway': 1, 'affective': 1, 'hearin': 1, 'marvelous': 1, 'edcampis': 1, 'organizers': 1, 'million..': 1, 'bucs': 1, 'performer': 1, 'rotfl': 1, 'ldubb': 1, 'shrine': 1, 'weaker': 1, 'noncommercial': 1, 'bummer..i': 1, 'rushed': 1, 'tragic': 2, 'kemoeatu': 1, 'ngata': 1, 'displeasure': 1, 'twitch': 2, 'homecourt': 1, 'tranquilized': 1, '65th': 1, 'monrovia': 1, '518': 1, 'kuric': 1, 'longtime': 1, 'thingsbetterthanthemiamiheat': 1, 'sizemore': 1, 'wku': 1, 'kike': 1, 'baha': 1, 'continual': 1, 'validation': 1, 'gratification': 1, 'itt': 1, 'irishness': 1, 'clothes.': 1, '12a.m': 1, 'crooks': 1, 'live-tweeting': 1, 'sherlockpbs': 1, 'decoded': 1, 'eliot': 1, 'quartets': 1, 'angelopoulos': 1, 'hosmer': 1, '5hrs': 1, 'clowning': 1, '=^..^=': 1, 'purrs': 1, 'conditioner': 1, '3019': 1, 'bask': 1, 'digitalpulse': 1, 'sprops': 1, 'evars': 1, 'jeanie': 1, 'thriver': 1, 'well-written': 1, 'rambo': 1, '1840s': 1, 'rowhouse': 1, 'malillo': 1, '10am-2pm': 1, 'fireflies': 1, 'incase': 1, 'berens': 1, 'damm': 1, 'stanthonys': 1, 'azz': 1, \"5'2\": 1, 'janie': 1, 'glow-in-the-dark': 1, 'getcha': 1, 'u.s..': 1, 'linkage': 1, 'inductee': 1, 'porkbelly': 1, '12,000': 1, 'morninng': 1, 'subtract': 1, 'resubmitted': 1, 'transcript': 2, '*hopes': 1, 'prays': 1, 'flordia': 1, 'chants*': 1, 'enthusiam': 1, 'moneyball': 1, 'alternator': 1, 'inconvenient': 1, 'haters…just': 1, 'watched/listened': 1, 'thinly': 1, 'broil': 1, 'undivided': 1, 'granted.': 1, 'wisely.~buddha': 1, 'manger': 1, 'halos': 1, 'humiliated': 1, 'sachal': 1, 'vasandani': 1, 'tomw': 1, '.waddup': 1, 'brewpubs': 1, 'dld': 1, 'ultralight': 1, 'up-and-coming': 1, 'natgeo': 1, 'rubbing': 1, 'mystrangeaddiction': 1, 'ahahahahaaaaa': 1, '.mann': 1, 'soldout\\ue411': 1, '.hmm': 1, '304-612-2469': 1, 'sobo': 1, 'ilyiad': 1, 'ezra': 1, 'preswk12': 1, 'retainers': 1, 'cantdeal': 1, 'bretzel': 1, 'öckenwagner': 1, 'lecker': 1, 'almonds': 1, 'rventura': 1, 'asst': 1, 'wsox': 1, '80-64': 1, 'carreta': 1, 'jasper': 1, 'guitarists': 1, 'future.': 1, 'niels': 1, 'bohr': 1, 'betray': 1, 'smudge': 1, 'wretchedly': 1, 'conserving': 1, 'midday': 1, 'combustion': 1, 'intestines': 1, 'rediscovering': 1, 'sames': 2, 'diller': 1, 'proclaimed': 1, 'teammongoloid': 1, 'bland': 1, 'ceela': 1, 'brook': 1, 'youknowlifeisgreatwhen': 1, 'mainers': 1, 'lefse': 1, 'thereby': 1, 'uphill': 2, 'shins': 1, 'firetrucks': 1, 'dutchman': 1, 'right2heal': 1, 'swede': 1, 'gayness': 1, 'inevitably': 1, 'don�t': 1, 'built-in': 1, 'kirbys': 1, 'economics': 1, 'lounging': 1, 'duboce': 1, 'teamceltics': 1, '💚🍀💚🍀💚': 1, 'dba-102': 1, 'jamheybastard': 1, 'muslims': 1, 'simultaneously': 1, 'slightest': 1, 'executively': 1, 'prod': 2, 'mrkrabs': 2, 'hairs': 1, '*eats*': 1, 'concluding': 1, 'okaii': 1, 'goody': 1, 'reverting': 1, 'year-old': 1, 'mit': 1, 'aug.': 1, 'oak': 4, 'ahl': 1, 'bently': 1, 'in-game': 1, 'capitals-rangers': 1, 'laugh..': 1, 'firemen': 1, '~ashley': 1, 'shelterbox': 1, 'ac360': 1, 'accordionist': 1, 'sergei': 1, 'nirenburg': 1, 'lastresort': 1, 'unicorn': 1, 'odfjgdfg': 1, 'getz': 1, '.design': 1, 'roach': 2, 'rars': 1, 'troop': 1, 're-enacting': 1, 'theoretical': 1, 'sociology': 1, 'tpe': 1, 'halowax': 1, 'bystanders': 1, 'you-everyone': 1, 'export': 2, 'parkinsons': 1, 'funders': 1, 'lsu/bama': 1, 'dalmatians': 1, 'whicho': 1, '.n': 1, 'toseemuch': 1, 'slideshare': 1, 'valana': 1, 'minerals': 1, 'brassy': 1, 'seos': 1, 'yahoo/microsoft': 1, 'bit.ly/5yreg': 1, 'rtts12': 1, 'insoleted': 1, 'jorge': 1, 'borges': 1, 'acapella': 1, 'hedging': 1, 'buckhead': 1, 'suess': 1, 'x-rated': 1, 'grany': 1, 'hillarious': 2, 'omgosh': 1, 'complicated..': 1, 'there-i': 1, 'hln': 1, 'i-pads': 1, 'intrusion': 1, 'disconnected': 1, 'lifeclass': 1, 'museum-types': 1, 'pailla': 1, 'ad-hoc': 1, 'obligations': 1, '8-9': 1, 'westerns': 1, 'j-izzle': 1, 'smelt': 1, 'tpot': 1, 'gk12': 1, 'www.worldchampionfans.com': 1, '..it': 1, '.justin': 1, 'infomercial': 1, 'tenders': 1, 'possiblert': 1, '.look': 1, 'understandable': 1, 'drummer': 1, '1978': 1, 'overdose': 1, 'clomethiazole': 1, 'hatfield': 1, 'berks': 1, 'urgently': 1, 'scrapple-fy': 1, 'nikki': 1, 'biddy': 2, 'bambaaaaaa': 1, 'optimist': 1, 'pessimist': 1, 'wobble': 1, 'jnd': 1, 'twttr': 1, 'awsme': 1, 'ctchg': 1, 'clock*': 1, '◄': 1, 'pathic': 1, 'cnnheroes': 1, 'ooking': 1, 'lalo': 1, 'conga': 1, 'birdsall': 1, 'joanne': 1, 'pwease': 1, 'turquoise': 1, 'virtuous': 1, 'paneer': 2, 'kafecastro': 1, '*clink*': 1, 'vinburn': 1, 'biomass': 1, 'oilseed': 1, 'chemicals': 1, 'oblivion': 1, 'okaai': 1, '-out': 1, 'mcrae': 1, '17-14': 1, 'qualitative': 1, 'www.davidshorter.com': 1, 'old-fashioned': 1, 'fayetteville': 1, 'hastings': 1, 'hardbacks': 1, 'commin': 1, 'registrar': 1, 'statutes': 1, '119:36': 1, 'cstweetup': 1, 'now=': 1, 'needs2be': 1, 'disbarred': 1, 'crt': 1, 'lumia': 1, 'pronunciation': 1, 'southerners': 1, 'bordieu': 1, 'bore-': 1, 'guillen': 1, 'mackinnons': 1, 'actually-collicky': 1, 'days.\\ue022': 1, \"'move\": 1, 'tonight.if': 1, 'carnevor': 1, 'aden': 1, 'portnoy': 1, '8-0': 1, 'enters': 1, 'business.': 1, 'alpacas': 1, 'bias=new': 1, 'h1n1': 1, 'dems.unlike': 1, \"h1n1'fear\": 1, 'rotation': 1, 'upgrading': 1, 'reorganizing': 1, '👎had': 1, 'toothache': 1, '😰': 1, 'moa': 1, 'srt': 1, 'followinagainill': 1, 'foll': 1, 'morefollowers': 1, 'alwayz': 1, '7/8': 1, 'breakfastclubsmoke': 1, 'flack': 1, 'youngkidsshouldbebannedfrom': 1, 'burner': 1, 'captivated': 1, 'syria.i': 1, 'hurdles': 1, 'question-if': 1, 'help-just': 1, 'engages': 1, '-jeremy': 1, 'clarkson': 1, 'bday..': 1, '~anthony': 1, '13.1': 1, 'barbies': 1, 'herb': 2, 'uapresents': 1, 'zoppe': 1, 'girl-jb': 1, 'co-worker': 1, 'up..then': 1, 'hosptial': 1, 'courtyard': 1, 'risd': 1, 'risdannualfund': 1, 'doobie': 1, 'unleash': 1, 'detecting': 1, 'bordy': 1, 'reconstructing': 1, 'pcs': 1, 'tew': 2, 'slackers': 1, 'pessimists': 1, 'isogrammic': 1, 'isogram': 1, 'subdermatoglyphic': 1, 'bfar': 1, 'mariculture': 1, 'misocc': 1, 'philippine': 1, 'loiter': 1, 'dependency': 1, 'jerkin': 1, 'gr': 3, 'great-grandson': 1, 'niggahhh': 1, 'relatives': 1, 'preached': 1, '12:24……': 1, 'chats': 1, 'f/m': 1, 'cammers': 1, 'edtomolta': 1, 'ym': 1, 'www.facebook.com/grandhavenartwalk': 1, 'dots': 1, 'jeff..': 1, 'normandie': 1, 'mahataa': 1, 'agape': 1, 'mayorconvo': 1, 'bohemia': 1, 'fuvking': 1, '11.': 1, 'flight949': 1, \"b'cuz\": 1, 'highway..': 1, \"it'snormal\": 1, 'muphi': 1, 'baths': 1, 'evidenced': 1, 'rue': 1, 'cinna': 1, '~francis': 1, 'mitten': 1, 'kulør': 1, 'suserviceday': 1, 'yoooooooo': 1, '.xd': 1, 'kool..': 1, 're-assess': 1, 'moonwalking': 1, 'subsidiaries': 1, 'lulu': 1, 'invitation': 1, 'kiosks': 2, 'sweatshirts': 1, 'healthtip': 1, 'smores': 1, 'e-galleys': 1, 'blooming': 1, 'mww': 1, 'illig': 1, 'podium': 1, 'www.friendsofhowardfootball.org': 1, '.m': 1, 'stars.': 1, 'littrell': 1, 'muni': 2, 'admiring': 1, 'korean-esque': 1, 'praetoria': 1, 'followmekianlawley': 1, 'second-guessing': 1, 'when/where': 1, 'porcelain': 1, 'tapping': 1, 'advert': 1, '8700': 1, '14k': 1, 'kt': 1, 'pre-dialed': 1, 'apr11': 1, 'brownricecomedy': 1, 'saxbys': 1, 'month..': 1, 'uniforms': 1, 'embroidery': 1, '954-245-8380': 1, 'sharpshooting': 1, 'dwarf': 1, 'whispers': 1, 'accompaniment': 1, 'collaborating': 1, 'gritz': 1, 'van-load': 1, 'hashtaganyone': 1, 'buggin': 1, 'creaking': 1, 'gies': 1, 'popoff': 1, 'choreographer': 1, 'lodi': 1, 'lovelife': 1, 'loveall': 1, 'demeanor': 1, 'victoriatastic': 1, 'judicial': 2, 'makinbank': 1, 'www.mrcje.com': 1, 'tickets..': 1, 'serendipity': 1, 'hapy': 1, '~swami': 1, 'sivananda': 1, 'pantomime': 1, 'kawhi': 1, 'receives': 1, 'voting.-wp': 1, 'no-top': 1, 'damaging': 1, 'innact': 1, 'cong': 1, 'gameon': 1, 'coconuts': 1, 'hotline': 1, 'ev': 1, 'pushover': 1, 'professor-ing': 1, \"'did\": 1, 'nomore..': 1, 'preset': 1, 'tickles': 1, 'aramis': 1, 'goo.gl/iwcpj': 1, 'provoke': 1, 'biebermemory': 1, 'escalator': 1, 'me..and': 1, 'kicker': 1, 'misread': 1, '2d': 1, 'drying': 1, 'famer': 1, 'pennington': 1, 'plaque': 1, 'eutaw': 1, 'toasting': 1, 'obee': 1, 'chippy': 1, 'demetria': 1, '*who': 1, 'potters': 1, 'shiftingthemonkey': 1, '9cst': 1, 'educoach': 1, 'levitt': 1, 'deadgum': 1, 'sheet..': 1, 'gammons': 1, '~arrives': 1, 'red-faced': 1, 'panting~': 1, 'now..and': 1, 'middleton': 1, 'parmenter': 1, 'roundabout': 1, 'chipseal': 1, 'palmetto': 1, 'smokings': 1, 'piroshki': 1, 'up-to-date': 1, 'shitbag': 1, '-jim': 1, 'rohn': 1, 'self-control': 1, 'culberson': 1, 'fedgov': 1, 'reignnet': 1, 'scoot': 1, 'phone/fb/twitter': 1, \"'ceo\": 1, 'trackrekahz': 1, 'binary': 1, 'madsen': 1, 'bix': 1, 'beiderbecke': 1, 'sxswmygrocerystore': 1, 'laminate': 1, 'homie..just': 1, '400k': 1, 'guise': 1, 'hahhahahahhahahaha': 1, '*calling': 1, 'answers*': 1, 'weidman': 1, 'bisping': 2, 'wholesalers': 1, 'surveyed': 1, 'ubs': 1, 'clarks': 1, 'stoop': 1, 'argumentt': 1, '3hrs': 2, '1861': 1, 'measle-ridden': 1, 'missouri.buried': 1, 'joyeux': 1, 'teams/leagues': 1, 'is/was': 1, 'waxy': 1, \"o'connells\": 1, 'wilt': 1, 'chamberlain': 1, 'caddyshack': 1, 'insane..': 1, 'natasha': 1, 'isabelle': 1, 'turk': 1, 'bujold': 1, 're-listen': 1, 'vlingo': 1, 'snail': 1, 'lupus': 2, 'www.lisaschicboutique.com': 1, 'funnest': 1, 'heartened': 1, 'coop': 1, 'ucsc': 1, 'watergate': 1, 'nixon': 1, 'progressives': 1, 'un-protected': 1, 'bots': 1, 'thin-skinned': 1, 'pertain': 1, 'pethic': 1, 'wylie': 1, 'teammindless': 1, 'twerked': 1, 'him-_-': 1, 'occupywallstreet': 1, 'staged': 1, 'read-aloud': 1, 'bartleby': 1, 'zuccotti': 1, 'order..am': 1, 'pre-game': 1, '.again': 1, 'barback/busser': 1, 'badideajeans': 1, 'battery-dead': 1, 'timothy': 1, 'guillot': 1, 'deadd': 1, 'evernoticed': 1, 'ripa': 1, 'cafferty': 1, 'paulina': 1, 'trekkie': 1, 'innerquote': 1, '.-tom': 1, 'spotter': 1, 'rourke': 1, \"'murrica\": 1, 'today…': 1, 'hamburgers': 1, 'taiwan': 1, 'anthro': 1, 'honeybooboochild': 1, 'me/following': 1, 'wellnesswednesdays': 1, 'cfyoga': 1, 'followw': 1, 'leila_swag_': 1, 'southout': 1, 'musiccharmer.com': 1, 'aust': 1, 'whisle': 1, 'culdesac': 1, 'done-zo': 1, '✌👏🙌💃': 1, 'plumb': 1, 'acumen': 1, '5000.': 1, 'mirko': 1, 'pasta-': 1, 'toco': 1, 'bagels': 1, 'soften': 1, 'subdue': 1, 'mistresses': 1, 'monumental': 1, 'verbalize': 1, 'inlet': 1, 'omg\\ue043\\ue341': 1, 'mergers': 1, 'lodging': 1, 'more..': 1, 'mom..awkward': 1, 'antwon': 1, 'blaire': 1, 'firth': 1, 'thatcher': 1, 'reusable': 1, 'glassware': 1, 'cup❤': 1, 'speakingoffebruary4th': 1, 'namaste': 1, 'stg': 1, 'jezebel': 1, 'missoula': 1, 'homeboy': 1, 'bieber-off': 1, 'huffing': 1, 'puffing': 1, 'come-back': 1, 'pcnt': 1, 'crocs': 1, 'whatever~follow': 1, 'back~not': 1, 'belvederes': 1, 'headlined': 1, 'deadprez': 1, '90+': 1, 'automator': 1, 'twitpics': 1, 'unstable': 1, 'truee': 1, 'hhim': 1, 'tableting': 1, 'screne': 1, 'pumking': 1, 'nostalgia': 1, 'thechew': 1, 'non-bull': 1, 'tweekin': 1, 'alton': 1, 'immortally': 1, 'like..right': 1, 'noda': 1, 'gallerycrawl': 1, '4-legged': 1, 'whygo': 1, 'automates': 1, 'conferencing': 1, '25cent': 1, 'hetfield': 1, 'circulating': 1, 'adjusted': 1, 'maher': 1, 'dissonance': 1, 'civilized': 1, 'savage/barbaric': 1, 'mangia': 2, 'pravada': 1, 'chappelle': 2, 'centralstateuniversity': 1, 'imm': 1, 'bringthenoise': 1, 'implying': 1, \"'he\": 1, 'k4': 1, 'person-': 1, 'finalists': 1, 'overhaul': 1, 'earbuds': 1, 'blaring': 1, 'oralhistory': 1, 'bieste': 1, 'telephones': 1, 'ordering': 1, 'sundress': 1, 'sheelby': 1, 'bluff': 1, 'nellitzia': 1, '950': 1, 'webkit': 1, 'thorn': 1, 'cancellation': 1, 'eyes..may': 1, 'created~unclttdhrt': 1, 'upshaw': 1, 'canoeing': 1, 'bays': 1, 'environs': 1, 'samardo': 1, 'sweatiness': 1, '______': 1, 'waimea': 1, 'secretavengers': 1, 'g.i': 2, 'optic': 1, 'holperin': 1, 'trade=herschel': 1, 'stong': 1, 'joi': 1, 'cme': 1, 'nyccc': 1, 'wok': 1, 'twitter/blog': 1, 'mlbfc': 1, '888': 1, '378-5237': 1, '5700': 1, 'impro': 1, 'maira': 1, 'kalman': 1, 'iq': 1, 'restauraunt': 1, 'peachtree': 1, 'beachglass': 1, 'sarpino': 1, \"'za\": 1, '.where': 1, 'kimmy': 1, '1,000th': 1, 'aia': 1, 'afh': 1, '3175251106': 1, 'out-of-town': 1, 'archetypes': 1, 'betterr': 1, 'poppy': 1, 'shank': 1, 'kristin': 1, 'jerad': 1, 'pipers': 1, 'marott': 1, 'healthliteracy': 1, 'carmona': 1, 'surg': 1, 'dude…': 1, 'vows': 1, 'flagging': 1, \"'heck\": 1, 'standardized': 1, 'monotone': 1, 'pendelton': 1, 'ed-': 1, 'workforce': 1, 'teamsammy': 1, 'perfectionist': 1, 'coheadlining': 1, 'rankings': 1, 'usmnt': 1, 'zonamaco12': 1, 'kingery': 1, 'braggs': 1, '5-4': 1, 'ciara': 1, 'ensucie': 1, 'stttoopp': 1, 'kastles': 1, 'next-door': 1, 'defending': 1, 'bhavans': 1, 'cust': 1, 'miki': 1, 'powell': 2, 'smirk': 1, '2222': 1, 'col': 1, 'privates': 1, 'wrtgs': 1, 'sponsors/grants': 1, 'spitters': 1, 'exhibitions': 1, 'nevelson-like': 1, 'brooch': 1, '..too': 1, 'fennimore': 1, 'baserunners': 1, 'mineral': 2, 'single-handedly': 1, 'loaf': 1, 'operate': 1, 'mbta': 1, 'line-': 1, 'sweat-dripping': 1, 'body-to-body': 1, 'co-owners': 1, 'latterly': 1, 'tagged': 1, 'selenators': 1, \"'go\": 1, 'biggestloser': 1, 'snacking': 1, 'understand\\ue018': 1, 'sparta': 1, 'n.4': 1, 'www.syndicateradio.tv': 1, 'rhodey': 1, 'equitable': 1, 'distristibution': 1, 'gartneriam': 1, 'b.lloyd': 1, 'damned': 1, 'sjshdisnsbdkabadjos': 1, 'nationalteacherday': 1, 'noheart': 1, 'wheniwas14': 1, 'top-grossing': 1, 'guttenburg': 1, 'sb128': 1, 'represents': 1, 'sykes': 1, 'beadles': 1, 'megusta': 1, '*tear': 1, 'arbib': 1, 'posthumous': 1, 'unthinkable': 1, 'sandar': 1, 'goodhart': 1, 'exceedingly': 1, 'suzette': 1, 'ramones': 1, 'glow': 1, 'd-nice': 1, 'drumset': 1, 'gobeavs': 1, '145-37': 1, '7-7': 1, '*am': 1, 'haiku': 1, '~chiyo-ni': 1, 'wego': 1, 'whip-its': 1, 'schubas': 1, '5-8': 1, 'akinade': 1, 'unheard-of': 1, 'momletemilygoseeaustin': 1, 'booooooooooooya': 1, 'pomerantz': 1, 'good-looking': 1, \"'spirit\": 1, 'usdla2011': 1, 'orientations': 1, 'adwars': 1, 'allthepresidentsadmen': 1, 'tokillamockingbird': 1, '11yr': 1, 'enchanting': 1, 'alix': 1, '-patience': 1, 'wrkd': 1, 'fellers': 1, 'bangorians': 1, 'infinitis': 1, 'hairflip': 1, 'light/dark': 1, 'a♥': 1, 'sbchat': 1, 'f1grandprix': 1, 'melbourne': 1, 'vettel': 1, 'mclaren': 1, 'merce': 1, 'too.my': 1, 'how..': 1, '..aw': 1, 'minutes..': 1, 'boosterism': 1, 'flamenco': 1, 'flamencos': 1, 'hf-twestival': 1, 'depicted': 1, 'rediculousness': 1, '2.2.1': 1, 'petitioning': 1, 'sidecar': 1, 'options-': 1, 'yacht': 1, 'ignited': 1, 'attitude~': 1, '~louis': 1, 'jdi': 1, 'janky': 1, 'epps': 1, 'vizrhet': 1, 'picturing': 1, '50/100': 1, 'sleepp': 1, 'patti': 1, 'labelle': 1, 'ssb': 1, 'winterclassic': 1, 'doubting': 1, 'herring': 1, 'so-cal': 1, 'cookware': 1, 'scissored': 1, 'matter.': 1, '11:20am': 1, 'taunting': 1, 'scholbus': 1, '💜💃👠🎉': 1, 'muahhhhh': 1, \"e'rrythang\": 1, 'wanted😘': 1, 'bestieverhad': 1, 'dolby': 1, 'cavalli': 1, 'fears…right': 1, 'fiddler': 1, 'anchorages': 1, 'depressant': 1, 'curiously': 1, 'reebok': 1, 'iversons': 1, 'mcfadden': 1, 'unlived': 1, '-natalie': 1, 'babbitt': 1, 'carpets': 1, 'hardwood': 1, 'themsleves': 1, 'pastaphiles': 1, 'appfriday': 1, 'builda': 1, 're-bicycler': 1, 'coopetition': 1, 'ec12': 1, 'sensuality': 1, 'rainbows': 1, 'brunching': 1, 'parliamentary': 1, 'cynical': 1, 'iteen': 1, 'foam': 1, 'http//synergizerevolution.com': 1, 'funny-': 1, 'two-faced': 1, 'crabtree': 1, 'ginn': 1, 'lamichael': 1, 'twitter…do': 1, 'roethlisberger': 1, 'permitted': 1, 'culprits': 1, 'said/did': 1, 'landscape': 1, 'loudoun': 1, 'petco': 1, 'syntax': 1, 'timer': 1, 'prettying': 1, 'bynum': 1, 'ethic': 1, 'sorority': 1, 'jut': 1, 'shea': 1, 'butters': 1, 'soaps': 1, 'cooperatives': 1, 'metro..be': 1, 'vinoteca': 1, 'winos': 1, 'lahair': 1, 'dropkick': 1, 'murphys': 1, 'caliente': 1, 'rereading': 1, 'epistle': 1, 'ravenous': 1, 'emetics': 1, 'soapless': 1, '-_____________________-': 1, 'tie-in': 1, 'ya..iight': 1, 'revolve': 1, 'changemyfbname4college': 1, 'super-grateful': 1, 'cavalcade': 1, '7:30am': 1, 'isle': 1, 'punx': 1, 'knw..': 1, 'openaccess': 1, 'chameleon': 1, 'dante': 1, 'u-district': 1, 'webos': 1, 'consulting-based': 1, 'nemos': 1, 'eyman': 1, '-ers': 1, '15.5': 1, 'occoneechee': 1, 'embarrasing': 1, '63-27': 1, 'sanaya': 1, 'jacksonville..my': 1, 'sketchy': 1, 'frogs': 1, 'hastac2011': 1, 'strapping': 1, 'needlework': 1, 'impoverished': 1, 'roi.why': 1, 'veep': 1, 'dreyfus': 1, 'k-rod': 1, 'ludicrous': 1, 'bedlam': 1, '.selena': 1, 'tonight…my': 1, 'dogoodsummit': 1, 'austen-cum-mary': 1, 'favess': 1, 'weird..': 1, 'deg': 1, 'injun': 1, '349': 1, 'ppr': 1, 'mention~': 1, 'auditor': 1, 'legislative': 1, 'cmte': 1, '8.4': 1, 'gluck': 1, '421': 1, 'affiliated': 1, 'lazarus': 1, 'wrking': 1, 'cob': 1, '.pretty': 1, 'missions': 1, 'marshmallows': 1, 'bangla': 1, 'boston..': 1, '1dbostonconcert': 1, '=0': 1, 'usetittiesinamovietitle': 1, 'girardi': 1, 'game-winning': 1, 'tyrn': 1, 'w/bynum': 1, 'bus=': 1, 'pssssht': 1, 'skillful': 1, 'keychains': 1, '4:30-10p.m': 1, 'applebee': 1, '1230': 1, 'scenic': 1, 'timeout❕': 1, 'ainge': 1, 'switched': 1, 'opiate': 1, 'unveils': 1, 'pla10': 1, '6-year-old': 1, 'identified': 1, 'nowhere..': 2, 'tate': 1, '.wat': 1, 'mrs.christenson': 1, 'bandanas': 1, 'provokes': 1, 'disengage': 1, 'gavel': 1, 'weeper': 1, 'dn': 1, '2-day-only': 1, 'shoptoko': 1, '1145': 1, 'flopping': 1, 'spikeymikey': 1, 'speat': 1, 'case.edu': 1, 'kamen': 1, 'oriole': 1, 'aisles': 1, 'tampons': 1, 'ritz2': 1, '**plus': 1, 'nite**': 1, 'tonefide': 1, 'suggestion..': 1, 'notre': 1, 'dame': 1, 'blue/gold': 1, 'latricia': 1, 'c38': 1, '1003': 1, 'weathermen': 1, 'thunder-snow': 1, 'ux/ui': 1, 'freelancer': 1, 'design/production': 1, 'absolut': 1, 'dimitrijevic': 1, 'chairwoman': 1, 'peggy': 1, 'vice-chair': 1, '10666': 1, 'goo.gl/cp4dw': 1, 'dinner/movie': 1, 'imastanbecause': 1, 'ja': 1, 'tabucchi': 1, 'lisbon': 1, 'jaymes': 1, 'okai': 1, 'daphne': 1, \"'shortest\": 1, 'seals': 1, 'term..well': 1, '👀': 1, 'truest': 1, 'blankie': 1, '*safe': 1, 'word*': 1, 'on..he': 1, 'stache': 1, 'pastimes': 1, 'utilizes': 1, 'brochures': 1, 'ergen': 1, '39b': 1, 'ope…': 1, 'chinese-speaking': 1, '漢字。': 1, 'clipped': 1, 'bellows': 1, 'neva': 1, 'dinova': 1, 'w/others': 1, 'noelectro': 1, 'contest/champagne': 1, \"'burgh\": 1, 'waterfall': 1, 'shred': 1, 'sled': 1, 'righ': 1, 'authorities': 1, 'kelley': 1, 'cleantech': 1, 'mtngs': 1, 'galileo': 1, 'csc': 1, 'mistype': 1, 'tibet': 1, 'studio5one2': 1, 'delis': 1, 'allergen': 1, 'ipops': 1, 'gtd': 1, '33k': 1, 'musthave': 1, 'reels': 1, 'tedxcbus': 1, 'post-event': 1, '3053609305': 1, 'tek': 1, 'suga': 1, '_____': 1, 'gretsch': 1, 'pedal': 1, 'cymbal': 1, 'iggles': 1, 'xt': 1, 'teamcanon': 1, 'armrest': 1, 'koenig': 1, 'anchorage': 1, 'abducted': 1, 'mindy': 1, 'schloss': 1, 'saysomething': 1, 'emory-way': 1, 'downgrades': 1, 'mideast': 1, 'posible': 1, 'poemd': 1, 'escalade': 1, 'tinted': 1, \"peaches'+apples'=\": 1, 'hame': 1, 'hamed': 1, 'teaparty': 1, 'gop/wall': 1, 'common-corruption': 1, 'banks/oil/wealthy': 1, 'subscribed': 1, 'scaleconf': 1, 'enormously': 1, '26.': 1, 'sz': 1, 'licking': 1, 'visit/play': 1, 'pre-draft': 1, '❤🎶': 1, 's/t': 1, '1derful': 1, 'compiling': 1, 'big-_-': 1, 'lamppost': 1, '..again': 1, '.like': 1, 'whythefuckaminotcut': 1, '281-330-8004': 1, 'localunderground': 1, '730': 1, 'www.800-language.com': 1, 'doritos': 1, 'loco': 1, 'uswomenssoccer': 1, 'alexmorgan': 1, \".y'all\": 1, '7/7': 1, 'homework..but': 1, 'pandora..o': 1, 'www.rosegardenboutique.com': 1, 'myrtle': 1, \"'pinched\": 1, 'wintery': 1, 'mang': 1, 'lmafo': 1, 'rescinded': 1, '910': 1, 'myce': 1, 'austinite': 1, 'martinis': 1, '-______-': 1, 'groupie': 1, 'emocional': 1, 'loveu13': 1, 'black-owned': 1, 'sorting': 1, 'found..ready': 1, 'hermit': 1, 'jocelin': 1, 'mireya': 1, 'defining': 1, 'lavender-honey': 1, 'holliday': 1, 'warrants': 1, 'majorly': 1, 'overpacked': 1, 'fragile': 1, 'overcompensating': 1, 'alias': 1, 'ump': 1, 'burriss': 1, 'ragging': 1, 'ejection': 1, 'horrible-live': 1, 'standby': 1, 'anyplace': 1, 'a.c.e': 1, 'deception': 1, 'detection': 1, 'medscape': 1, 'overboard': 1, 'backinelementaryschool': 1, 'leahy': 1, '`': 1, 'www.itsaguythingblog.wordpress.com': 1, \"post-'fantasy\": 1, 'scoremobile': 1, 'inspires-': 1, 'hedy': 1, 'lamarr': 1, 'fandom': 1, 'haagen': 1, 'dazs': 1, 'campuses': 1, 'downsides': 1, 'alpine': 1, 'climbs': 1, 'here..im': 1, 'westernskillet': 1, 'buiz': 1, 'writing..you': 1, 'cloak': 1, 'escapist': 1, 'insen': 1, 'mourdock': 1}\n"
          ]
        }
      ],
      "source": [
        "minimum_freq = 2\n",
        "train_data_processed, test_data_processed, vocabulary = preprocess_data(train_data, \n",
        "                                                                        test_data, \n",
        "                                                                        minimum_freq)"
      ]
    },
    {
      "cell_type": "code",
      "execution_count": 44,
      "metadata": {
        "colab": {
          "base_uri": "https://localhost:8080/"
        },
        "id": "DCZNOEwlJPBI",
        "outputId": "ac46fd8e-c2d4-4b7c-ed13-276dd3bb6c6d"
      },
      "outputs": [
        {
          "output_type": "stream",
          "name": "stdout",
          "text": [
            "First preprocessed training sample:\n",
            "['i', 'personally', 'would', 'like', 'as', 'our', 'official', 'glove', 'of', 'the', 'team', 'local', 'company', 'and', 'quality', 'production']\n",
            "\n",
            "First preprocessed test sample:\n",
            "['that', 'picture', 'i', 'just', 'seen', 'whoa', 'dere', '!', '!', '>', '>', '>', '>', '>', '>', '>']\n",
            "\n",
            "First 10 vocabulary:\n",
            "['i', 'personally', 'would', 'like', 'as', 'our', 'official', 'glove', 'of', 'the']\n",
            "\n",
            "Size of vocabulary: 14944\n"
          ]
        }
      ],
      "source": [
        "print(\"First preprocessed training sample:\")\n",
        "print(train_data_processed[0])\n",
        "print()\n",
        "print(\"First preprocessed test sample:\")\n",
        "print(test_data_processed[0])\n",
        "print()\n",
        "print(\"First 10 vocabulary:\")\n",
        "print(vocabulary[0:10])\n",
        "print()\n",
        "print(\"Size of vocabulary:\", len(vocabulary))"
      ]
    },
    {
      "cell_type": "markdown",
      "metadata": {
        "id": "-QG9gjl6JPBI"
      },
      "source": [
        "##### Expected output\n",
        "\n",
        "```CPP\n",
        "First preprocessed training sample:\n",
        "['i', 'personally', 'would', 'like', 'as', 'our', 'official', 'glove', 'of', 'the', 'team', 'local', 'company', 'and', 'quality', 'production']\n",
        "\n",
        "First preprocessed test sample:\n",
        "['that', 'picture', 'i', 'just', 'seen', 'whoa', 'dere', '!', '!', '>', '>', '>', '>', '>', '>', '>']\n",
        "\n",
        "First 10 vocabulary:\n",
        "['i', 'personally', 'would', 'like', 'as', 'our', 'official', 'glove', 'of', 'the']\n",
        "\n",
        "Size of vocabulary: 14821\n",
        "```"
      ]
    },
    {
      "cell_type": "markdown",
      "metadata": {
        "id": "S3fJGivuJPBI"
      },
      "source": [
        "You are done with the preprocessing section of the assignment.\n",
        "Objects `train_data_processed`, `test_data_processed`, and `vocabulary` will be used in the rest of the exercises."
      ]
    },
    {
      "cell_type": "markdown",
      "metadata": {
        "id": "WBK6Ku5uJPBI"
      },
      "source": [
        "<a name='2'></a>\n",
        "## Part 2: Develop n-gram based language models\n",
        "\n",
        "In this section, you will develop the n-grams language model.\n",
        "- Assume the probability of the next word depends only on the previous n-gram.\n",
        "- The previous n-gram is the series of the previous 'n' words.\n",
        "\n",
        "The conditional probability for the word at position 't' in the sentence, given that the words preceding it are $w_{t-1}, w_{t-2} \\cdots w_{t-n}$ is:\n",
        "\n",
        "$$ P(w_t | w_{t-1}\\dots w_{t-n}) \\tag{1}$$\n",
        "\n",
        "You can estimate this probability  by counting the occurrences of these series of words in the training data.\n",
        "- The probability can be estimated as a ratio, where\n",
        "- The numerator is the number of times word 't' appears after words t-1 through t-n appear in the training data.\n",
        "- The denominator is the number of times word t-1 through t-n appears in the training data.\n",
        "\n",
        "$$ \\hat{P}(w_t | w_{t-1}\\dots w_{t-n}) = \\frac{C(w_{t-1}\\dots w_{t-n}, w_n)}{C(w_{t-1}\\dots w_{t-n})} \\tag{2} $$\n",
        "\n",
        "- The function $C(\\cdots)$ denotes the number of occurence of the given sequence. \n",
        "- $\\hat{P}$ means the estimation of $P$. \n",
        "- Notice that denominator of the equation (2) is the number of occurence of the previous $n$ words, and the numerator is the same sequence followed by the word $w_t$.\n",
        "\n",
        "Later, you will modify the equation (2) by adding k-smoothing, which avoids errors when any counts are zero.\n",
        "\n",
        "The equation (2) tells us that to estimate probabilities based on n-grams, you need the counts of n-grams (for denominator) and (n+1)-grams (for numerator)."
      ]
    },
    {
      "cell_type": "markdown",
      "metadata": {
        "id": "CyflZXFxJPBI"
      },
      "source": [
        "<a name='ex-08'></a>\n",
        "### Exercise 08\n",
        "Next, you will implement a function that computes the counts of n-grams for an arbitrary number $n$.\n",
        "\n",
        "When computing the counts for n-grams, prepare the sentence beforehand by prepending $n-1$ starting markers \"<s\\>\" to indicate the beginning of the sentence.  \n",
        "- For example, in the bi-gram model (N=2), a sequence with two start tokens \"<s\\><s\\>\" should predict the first word of a sentence.\n",
        "- So, if the sentence is \"I like food\", modify it to be \"<s\\><s\\> I like food\".\n",
        "- Also prepare the sentence for counting by appending an end token \"<e\\>\" so that the model can predict when to finish a sentence.\n",
        "\n",
        "Technical note: In this implementation, you will store the counts as a dictionary.\n",
        "- The key of each key-value pair in the dictionary is a **tuple** of n words (and not a list)\n",
        "- The value in the key-value pair is the number of occurrences.  \n",
        "- The reason for using a tuple as a key instead of a list is because a list in Python is a mutable object (it can be changed after it is first created).  A tuple is \"immutable\", so it cannot be altered after it is first created.  This makes a tuple suitable as a data type for the key in a dictionary."
      ]
    },
    {
      "cell_type": "markdown",
      "metadata": {
        "id": "gxwFc9vbJPBJ"
      },
      "source": [
        "<details>    \n",
        "<summary>\n",
        "    <font size=\"3\" color=\"darkgreen\"><b>Hints</b></font>\n",
        "</summary>\n",
        "<p>\n",
        "<ul>\n",
        "    <li> To prepend or append, you can create lists and concatenate them using the + operator </li>\n",
        "    <li> To create a list of a repeated value, you can follow this syntax: <code>['a'] * 3</code> to get <code>['a','a','a']</code> </li>\n",
        "    <li>To set the range for index 'i', think of this example: An n-gram where n=2 (bigram), and the sentence is length N=5 (including two start tokens and one end token).  So the index positions are <code>[0,1,2,3,4]</code>.  The largest index 'i' where a bigram can start is at position i=3, because the word tokens at position 3 and 4 will form the bigram. </li>\n",
        "    <li>Remember that the <code>range()</code> function excludes the value that is used for the maximum of the range.  <code> range(3) </code> produces (0,1,2) but excludes 3. </li>\n",
        "</ul>\n",
        "</p>\n"
      ]
    },
    {
      "cell_type": "code",
      "execution_count": 45,
      "metadata": {
        "id": "RS98bNboJPBJ"
      },
      "outputs": [],
      "source": [
        "# UNQ_C8 (UNIQUE CELL IDENTIFIER, DO NOT EDIT)\n",
        "### GRADED FUNCTION: count_n_grams ###\n",
        "def count_n_grams(data, n, start_token='<s>', end_token = '<e>'):\n",
        "    \"\"\"\n",
        "    Count all n-grams in the data\n",
        "    \n",
        "    Args:\n",
        "        data: List of lists of words\n",
        "        n: number of words in a sequence\n",
        "    \n",
        "    Returns:\n",
        "        A dictionary that maps a tuple of n-words to its frequency\n",
        "    \"\"\"\n",
        "    \n",
        "    # Initialize dictionary of n-grams and their counts\n",
        "    n_grams = {}\n",
        "\n",
        "    ### START CODE HERE (Replace instances of 'None' with your code) ###\n",
        "    \n",
        "    # Go through each sentence in the data\n",
        "    for sentence in data: # complete this line\n",
        "        \n",
        "        # prepend start token n times, and  append <e> one time\n",
        "        sentence = [start_token]*n + sentence + [end_token]\n",
        "        \n",
        "        # convert list to tuple\n",
        "        # So that the sequence of words can be used as\n",
        "        # a key in the dictionary\n",
        "        sentence = tuple(sentence)\n",
        "        \n",
        "        # Use 'i' to indicate the start of the n-gram\n",
        "        # from index 0\n",
        "        # to the last index where the end of the n-gram\n",
        "        # is within the sentence.\n",
        "        m = len(sentence) if n==1 else len(sentence)-1\n",
        "        for i in range(m): # complete this line\n",
        "\n",
        "            # Get the n-gram from i to i+n\n",
        "            n_gram = sentence[i:i+n]\n",
        "\n",
        "            # check if the n-gram is in the dictionary\n",
        "            if n_gram in n_grams.keys(): # complete this line\n",
        "            \n",
        "                # Increment the count for this n-gram\n",
        "                n_grams[n_gram] += 1\n",
        "            else:\n",
        "                # Initialize this n-gram count to 1\n",
        "                n_grams[n_gram] = 1\n",
        "    \n",
        "            ### END CODE HERE ###\n",
        "    return n_grams"
      ]
    },
    {
      "cell_type": "code",
      "execution_count": 46,
      "metadata": {
        "colab": {
          "base_uri": "https://localhost:8080/"
        },
        "id": "oMNZATpCJPBJ",
        "outputId": "67792876-ada9-4ac0-95c0-7590748ba2ef"
      },
      "outputs": [
        {
          "output_type": "stream",
          "name": "stdout",
          "text": [
            "Uni-gram:\n",
            "{('<s>',): 2, ('i',): 1, ('like',): 2, ('a',): 2, ('cat',): 2, ('<e>',): 2, ('this',): 1, ('dog',): 1, ('is',): 1}\n",
            "Bi-gram:\n",
            "{('<s>', '<s>'): 2, ('<s>', 'i'): 1, ('i', 'like'): 1, ('like', 'a'): 2, ('a', 'cat'): 2, ('cat', '<e>'): 2, ('<s>', 'this'): 1, ('this', 'dog'): 1, ('dog', 'is'): 1, ('is', 'like'): 1}\n"
          ]
        }
      ],
      "source": [
        "# test your code\n",
        "# CODE REVIEW COMMENT: Outcome does not match expected outcome\n",
        "sentences = [['i', 'like', 'a', 'cat'],\n",
        "             ['this', 'dog', 'is', 'like', 'a', 'cat']]\n",
        "print(\"Uni-gram:\")\n",
        "print(count_n_grams(sentences, 1))\n",
        "print(\"Bi-gram:\")\n",
        "print(count_n_grams(sentences, 2))"
      ]
    },
    {
      "cell_type": "markdown",
      "metadata": {
        "id": "zsK84KCAJPBJ"
      },
      "source": [
        "Expected outcome:\n",
        "\n",
        "```CPP\n",
        "Uni-gram:\n",
        "{('<s>',): 2, ('i',): 1, ('like',): 2, ('a',): 2, ('cat',): 2, ('<e>',): 2, ('this',): 1, ('dog',): 1, ('is',): 1}\n",
        "Bi-gram:\n",
        "{('<s>', '<s>'): 2, ('<s>', 'i'): 1, ('i', 'like'): 1, ('like', 'a'): 2, ('a', 'cat'): 2, ('cat', '<e>'): 2, ('<s>', 'this'): 1, ('this', 'dog'): 1, ('dog', 'is'): 1, ('is', 'like'): 1}\n",
        "```"
      ]
    },
    {
      "cell_type": "markdown",
      "metadata": {
        "id": "v_sVO59bJPBJ"
      },
      "source": [
        "<a name='ex-09'></a>\n",
        "### Exercise 09\n",
        "\n",
        "Next, estimate the probability of a word given the prior 'n' words using the n-gram counts.\n",
        "\n",
        "$$ \\hat{P}(w_t | w_{t-1}\\dots w_{t-n}) = \\frac{C(w_{t-1}\\dots w_{t-n}, w_n)}{C(w_{t-1}\\dots w_{t-n})} \\tag{2} $$\n",
        "\n",
        "This formula doesn't work when a count of an n-gram is zero..\n",
        "- Suppose we encounter an n-gram that did not occur in the training data.  \n",
        "- Then, the equation (2) cannot be evaluated (it becomes zero divided by zero).\n",
        "\n",
        "A way to handle zero counts is to add k-smoothing.  \n",
        "- K-smoothing adds a positive constant $k$ to each numerator and $k \\times |V|$ in the denominator, where $|V|$ is the number of words in the vocabulary.\n",
        "\n",
        "$$ \\hat{P}(w_t | w_{t-1}\\dots w_{t-n}) = \\frac{C(w_{t-1}\\dots w_{t-n}, w_n) + k}{C(w_{t-1}\\dots w_{t-n}) + k|V|} \\tag{3} $$\n",
        "\n",
        "\n",
        "For n-grams that have a zero count, the equation (3) becomes $\\frac{1}{|V|}$.\n",
        "- This means that any n-gram with zero count has the same probability of $\\frac{1}{|V|}$.\n",
        "\n",
        "Define a function that computes the probability estimate (3) from n-gram counts and a constant $k$.\n",
        "\n",
        "- The function takes in a dictionary 'n_gram_counts', where the key is the n-gram and the value is the count of that n-gram.\n",
        "- The function also takes another dictionary n_plus1_gram_counts, which you'll use to find the count for the previous n-gram plus the current word."
      ]
    },
    {
      "cell_type": "markdown",
      "metadata": {
        "id": "EmikFaixJPBJ"
      },
      "source": [
        "<details>    \n",
        "<summary>\n",
        "    <font size=\"3\" color=\"darkgreen\"><b>Hints</b></font>\n",
        "</summary>\n",
        "<p>\n",
        "<ul>\n",
        "    <li>To define a tuple containing a single value, add a comma after that value.  For example: <code>('apple',)</code> is a tuple containing a single string 'apple' </li>\n",
        "    <li>To concatenate two tuples, use the '+' operator</li>\n",
        "    <li><a href=\"\" > words </a> </li>\n",
        "</ul>\n",
        "</p>\n"
      ]
    },
    {
      "cell_type": "code",
      "execution_count": 47,
      "metadata": {
        "id": "hseTdNOrJPBK"
      },
      "outputs": [],
      "source": [
        "# UNQ_C9 (UNIQUE CELL IDENTIFIER, DO NOT EDIT)\n",
        "### GRADED FUNCTION: estimate_probability ###\n",
        "def estimate_probability(word, previous_n_gram, \n",
        "                         n_gram_counts, n_plus1_gram_counts, vocabulary_size, k=1.0):\n",
        "    \"\"\"\n",
        "    Estimate the probabilities of a next word using the n-gram counts with k-smoothing\n",
        "    \n",
        "    Args:\n",
        "        word: next word\n",
        "        previous_n_gram: A sequence of words of length n\n",
        "        n_gram_counts: Dictionary of counts of n-grams\n",
        "        n_plus1_gram_counts: Dictionary of counts of (n+1)-grams\n",
        "        vocabulary_size: number of words in the vocabulary\n",
        "        k: positive constant, smoothing parameter\n",
        "    \n",
        "    Returns:\n",
        "        A probability\n",
        "    \"\"\"\n",
        "    # convert list to tuple to use it as a dictionary key\n",
        "    previous_n_gram = tuple(previous_n_gram)\n",
        "    \n",
        "    ### START CODE HERE (Replace instances of 'None' with your code) ###\n",
        "    \n",
        "    # Set the denominator\n",
        "    # If the previous n-gram exists in the dictionary of n-gram counts,\n",
        "    # Get its count.  Otherwise set the count to zero\n",
        "    # Use the dictionary that has counts for n-grams\n",
        "    previous_n_gram_count = n_gram_counts[previous_n_gram] if previous_n_gram in n_gram_counts  else 0\n",
        "        \n",
        "    # Calculate the denominator using the count of the previous n gram\n",
        "    # and apply k-smoothing\n",
        "    denominator = previous_n_gram_count + k * vocabulary_size\n",
        "\n",
        "    # Define n plus 1 gram as the previous n-gram plus the current word as a tuple\n",
        "    n_plus1_gram = previous_n_gram + (word,)\n",
        "  \n",
        "    # Set the count to the count in the dictionary,\n",
        "    # otherwise 0 if not in the dictionary\n",
        "    # use the dictionary that has counts for the n-gram plus current word\n",
        "    n_plus1_gram_count = n_plus1_gram_counts[n_plus1_gram] if n_plus1_gram in n_plus1_gram_counts  else 0\n",
        "        \n",
        "    # Define the numerator use the count of the n-gram plus current word,\n",
        "    # and apply smoothing\n",
        "    numerator = n_plus1_gram_count + k\n",
        "\n",
        "    # Calculate the probability as the numerator divided by denominator\n",
        "    probability = numerator / denominator\n",
        "    \n",
        "    ### END CODE HERE ###\n",
        "    \n",
        "    return probability"
      ]
    },
    {
      "cell_type": "code",
      "execution_count": 48,
      "metadata": {
        "colab": {
          "base_uri": "https://localhost:8080/"
        },
        "id": "jsUZJH3hJPBK",
        "outputId": "d77dcb34-619a-41b6-f37a-68673f8c7bbb"
      },
      "outputs": [
        {
          "output_type": "stream",
          "name": "stdout",
          "text": [
            "The estimated probability of word 'cat' given the previous n-gram 'a' is: 0.3333\n"
          ]
        }
      ],
      "source": [
        "# test your code\n",
        "sentences = [['i', 'like', 'a', 'cat'],\n",
        "             ['this', 'dog', 'is', 'like', 'a', 'cat']]\n",
        "unique_words = list(set(sentences[0] + sentences[1]))\n",
        "\n",
        "unigram_counts = count_n_grams(sentences, 1)\n",
        "bigram_counts = count_n_grams(sentences, 2)\n",
        "tmp_prob = estimate_probability(\"cat\", \"a\", unigram_counts, bigram_counts, len(unique_words), k=1)\n",
        "\n",
        "print(f\"The estimated probability of word 'cat' given the previous n-gram 'a' is: {tmp_prob:.4f}\")"
      ]
    },
    {
      "cell_type": "markdown",
      "metadata": {
        "id": "FoOeepwzJPBK"
      },
      "source": [
        "##### Expected output\n",
        "\n",
        "```CPP\n",
        "The estimated probability of word 'cat' given the previous n-gram 'a' is: 0.3333\n",
        "```"
      ]
    },
    {
      "cell_type": "markdown",
      "metadata": {
        "id": "s1l88esGJPBK"
      },
      "source": [
        "### Estimate probabilities for all words\n",
        "\n",
        "The function defined below loops over all words in vocabulary to calculate probabilities for all possible words.\n",
        "- This function is provided for you."
      ]
    },
    {
      "cell_type": "code",
      "execution_count": 49,
      "metadata": {
        "id": "Jcg_2hk7JPBK"
      },
      "outputs": [],
      "source": [
        "def estimate_probabilities(previous_n_gram, n_gram_counts, n_plus1_gram_counts, vocabulary, k=1.0):\n",
        "    \"\"\"\n",
        "    Estimate the probabilities of next words using the n-gram counts with k-smoothing\n",
        "    \n",
        "    Args:\n",
        "        previous_n_gram: A sequence of words of length n\n",
        "        n_gram_counts: Dictionary of counts of (n+1)-grams\n",
        "        n_plus1_gram_counts: Dictionary of counts of (n+1)-grams\n",
        "        vocabulary: List of words\n",
        "        k: positive constant, smoothing parameter\n",
        "    \n",
        "    Returns:\n",
        "        A dictionary mapping from next words to the probability.\n",
        "    \"\"\"\n",
        "    \n",
        "    # convert list to tuple to use it as a dictionary key\n",
        "    previous_n_gram = tuple(previous_n_gram)\n",
        "    \n",
        "    # add <e> <unk> to the vocabulary\n",
        "    # <s> is not needed since it should not appear as the next word\n",
        "    vocabulary = vocabulary + [\"<e>\", \"<unk>\"]\n",
        "    vocabulary_size = len(vocabulary)\n",
        "    \n",
        "    probabilities = {}\n",
        "    for word in vocabulary:\n",
        "        probability = estimate_probability(word, previous_n_gram, \n",
        "                                           n_gram_counts, n_plus1_gram_counts, \n",
        "                                           vocabulary_size, k=k)\n",
        "        probabilities[word] = probability\n",
        "\n",
        "    return probabilities"
      ]
    },
    {
      "cell_type": "code",
      "execution_count": 50,
      "metadata": {
        "colab": {
          "base_uri": "https://localhost:8080/"
        },
        "id": "kEMJWrDpJPBL",
        "outputId": "f7c7ab73-7bc4-4557-8f4d-e46d3d70a847"
      },
      "outputs": [
        {
          "output_type": "execute_result",
          "data": {
            "text/plain": [
              "{'<e>': 0.09090909090909091,\n",
              " '<unk>': 0.09090909090909091,\n",
              " 'a': 0.09090909090909091,\n",
              " 'cat': 0.2727272727272727,\n",
              " 'dog': 0.09090909090909091,\n",
              " 'i': 0.09090909090909091,\n",
              " 'is': 0.09090909090909091,\n",
              " 'like': 0.09090909090909091,\n",
              " 'this': 0.09090909090909091}"
            ]
          },
          "metadata": {},
          "execution_count": 50
        }
      ],
      "source": [
        "# test your code\n",
        "sentences = [['i', 'like', 'a', 'cat'],\n",
        "             ['this', 'dog', 'is', 'like', 'a', 'cat']]\n",
        "unique_words = list(set(sentences[0] + sentences[1]))\n",
        "unigram_counts = count_n_grams(sentences, 1)\n",
        "bigram_counts = count_n_grams(sentences, 2)\n",
        "estimate_probabilities(\"a\", unigram_counts, bigram_counts, unique_words, k=1)"
      ]
    },
    {
      "cell_type": "markdown",
      "metadata": {
        "id": "TJw3p8dwJPBL"
      },
      "source": [
        "##### Expected output\n",
        "\n",
        "```CPP\n",
        "{'cat': 0.2727272727272727,\n",
        " 'i': 0.09090909090909091,\n",
        " 'this': 0.09090909090909091,\n",
        " 'a': 0.09090909090909091,\n",
        " 'is': 0.09090909090909091,\n",
        " 'like': 0.09090909090909091,\n",
        " 'dog': 0.09090909090909091,\n",
        " '<e>': 0.09090909090909091,\n",
        " '<unk>': 0.09090909090909091}\n",
        "```"
      ]
    },
    {
      "cell_type": "code",
      "execution_count": null,
      "metadata": {
        "id": "6J8q4D1XJPBL"
      },
      "outputs": [],
      "source": [
        "# Additional test\n",
        "trigram_counts = count_n_grams(sentences, 3)\n",
        "estimate_probabilities([\"<s>\", \"<s>\"], bigram_counts, trigram_counts, unique_words, k=1)"
      ]
    },
    {
      "cell_type": "markdown",
      "metadata": {
        "id": "iVnY4ZXkJPBL"
      },
      "source": [
        "##### Expected output\n",
        "\n",
        "```CPP\n",
        "{'cat': 0.09090909090909091,\n",
        " 'i': 0.18181818181818182,\n",
        " 'this': 0.18181818181818182,\n",
        " 'a': 0.09090909090909091,\n",
        " 'is': 0.09090909090909091,\n",
        " 'like': 0.09090909090909091,\n",
        " 'dog': 0.09090909090909091,\n",
        " '<e>': 0.09090909090909091,\n",
        " '<unk>': 0.09090909090909091}\n",
        "```"
      ]
    },
    {
      "cell_type": "markdown",
      "metadata": {
        "id": "xM274DdJJPBL"
      },
      "source": [
        "### Count and probability matrices\n",
        "\n",
        "As we have seen so far, the n-gram counts computed above are sufficient for computing the probabilities of the next word.  \n",
        "- It can be more intuitive to present them as count or probability matrices.\n",
        "- The functions defined in the next cells return count or probability matrices.\n",
        "- This function is provided for you."
      ]
    },
    {
      "cell_type": "code",
      "execution_count": 52,
      "metadata": {
        "id": "lTLxLQ-WJPBL"
      },
      "outputs": [],
      "source": [
        "def make_count_matrix(n_plus1_gram_counts, vocabulary):\n",
        "    # add <e> <unk> to the vocabulary\n",
        "    # <s> is omitted since it should not appear as the next word\n",
        "    vocabulary = vocabulary + [\"<e>\", \"<unk>\"]\n",
        "    \n",
        "    # obtain unique n-grams\n",
        "    n_grams = []\n",
        "    for n_plus1_gram in n_plus1_gram_counts.keys():\n",
        "        n_gram = n_plus1_gram[0:-1]\n",
        "        n_grams.append(n_gram)\n",
        "    n_grams = list(set(n_grams))\n",
        "    \n",
        "    # mapping from n-gram to row\n",
        "    row_index = {n_gram:i for i, n_gram in enumerate(n_grams)}\n",
        "    # mapping from next word to column\n",
        "    col_index = {word:j for j, word in enumerate(vocabulary)}\n",
        "    \n",
        "    nrow = len(n_grams)\n",
        "    ncol = len(vocabulary)\n",
        "    count_matrix = np.zeros((nrow, ncol))\n",
        "    for n_plus1_gram, count in n_plus1_gram_counts.items():\n",
        "        n_gram = n_plus1_gram[0:-1]\n",
        "        word = n_plus1_gram[-1]\n",
        "        if word not in vocabulary:\n",
        "            continue\n",
        "        i = row_index[n_gram]\n",
        "        j = col_index[word]\n",
        "        count_matrix[i, j] = count\n",
        "    \n",
        "    count_matrix = pd.DataFrame(count_matrix, index=n_grams, columns=vocabulary)\n",
        "    return count_matrix"
      ]
    },
    {
      "cell_type": "code",
      "execution_count": 53,
      "metadata": {
        "colab": {
          "base_uri": "https://localhost:8080/",
          "height": 318
        },
        "id": "FoyOvLp8JPBM",
        "outputId": "0410862b-ecb3-4958-b34a-68765fe53153"
      },
      "outputs": [
        {
          "output_type": "stream",
          "name": "stdout",
          "text": [
            "bigram counts\n"
          ]
        },
        {
          "output_type": "display_data",
          "data": {
            "text/html": [
              "\n",
              "  <div id=\"df-1a14b937-6128-49c4-9954-48870702fd2c\">\n",
              "    <div class=\"colab-df-container\">\n",
              "      <div>\n",
              "<style scoped>\n",
              "    .dataframe tbody tr th:only-of-type {\n",
              "        vertical-align: middle;\n",
              "    }\n",
              "\n",
              "    .dataframe tbody tr th {\n",
              "        vertical-align: top;\n",
              "    }\n",
              "\n",
              "    .dataframe thead th {\n",
              "        text-align: right;\n",
              "    }\n",
              "</style>\n",
              "<table border=\"1\" class=\"dataframe\">\n",
              "  <thead>\n",
              "    <tr style=\"text-align: right;\">\n",
              "      <th></th>\n",
              "      <th>a</th>\n",
              "      <th>is</th>\n",
              "      <th>cat</th>\n",
              "      <th>this</th>\n",
              "      <th>dog</th>\n",
              "      <th>like</th>\n",
              "      <th>i</th>\n",
              "      <th>&lt;e&gt;</th>\n",
              "      <th>&lt;unk&gt;</th>\n",
              "    </tr>\n",
              "  </thead>\n",
              "  <tbody>\n",
              "    <tr>\n",
              "      <th>(like,)</th>\n",
              "      <td>2.0</td>\n",
              "      <td>0.0</td>\n",
              "      <td>0.0</td>\n",
              "      <td>0.0</td>\n",
              "      <td>0.0</td>\n",
              "      <td>0.0</td>\n",
              "      <td>0.0</td>\n",
              "      <td>0.0</td>\n",
              "      <td>0.0</td>\n",
              "    </tr>\n",
              "    <tr>\n",
              "      <th>(i,)</th>\n",
              "      <td>0.0</td>\n",
              "      <td>0.0</td>\n",
              "      <td>0.0</td>\n",
              "      <td>0.0</td>\n",
              "      <td>0.0</td>\n",
              "      <td>1.0</td>\n",
              "      <td>0.0</td>\n",
              "      <td>0.0</td>\n",
              "      <td>0.0</td>\n",
              "    </tr>\n",
              "    <tr>\n",
              "      <th>(is,)</th>\n",
              "      <td>0.0</td>\n",
              "      <td>0.0</td>\n",
              "      <td>0.0</td>\n",
              "      <td>0.0</td>\n",
              "      <td>0.0</td>\n",
              "      <td>1.0</td>\n",
              "      <td>0.0</td>\n",
              "      <td>0.0</td>\n",
              "      <td>0.0</td>\n",
              "    </tr>\n",
              "    <tr>\n",
              "      <th>(&lt;s&gt;,)</th>\n",
              "      <td>0.0</td>\n",
              "      <td>0.0</td>\n",
              "      <td>0.0</td>\n",
              "      <td>1.0</td>\n",
              "      <td>0.0</td>\n",
              "      <td>0.0</td>\n",
              "      <td>1.0</td>\n",
              "      <td>0.0</td>\n",
              "      <td>0.0</td>\n",
              "    </tr>\n",
              "    <tr>\n",
              "      <th>(cat,)</th>\n",
              "      <td>0.0</td>\n",
              "      <td>0.0</td>\n",
              "      <td>0.0</td>\n",
              "      <td>0.0</td>\n",
              "      <td>0.0</td>\n",
              "      <td>0.0</td>\n",
              "      <td>0.0</td>\n",
              "      <td>2.0</td>\n",
              "      <td>0.0</td>\n",
              "    </tr>\n",
              "    <tr>\n",
              "      <th>(a,)</th>\n",
              "      <td>0.0</td>\n",
              "      <td>0.0</td>\n",
              "      <td>2.0</td>\n",
              "      <td>0.0</td>\n",
              "      <td>0.0</td>\n",
              "      <td>0.0</td>\n",
              "      <td>0.0</td>\n",
              "      <td>0.0</td>\n",
              "      <td>0.0</td>\n",
              "    </tr>\n",
              "    <tr>\n",
              "      <th>(this,)</th>\n",
              "      <td>0.0</td>\n",
              "      <td>0.0</td>\n",
              "      <td>0.0</td>\n",
              "      <td>0.0</td>\n",
              "      <td>1.0</td>\n",
              "      <td>0.0</td>\n",
              "      <td>0.0</td>\n",
              "      <td>0.0</td>\n",
              "      <td>0.0</td>\n",
              "    </tr>\n",
              "    <tr>\n",
              "      <th>(dog,)</th>\n",
              "      <td>0.0</td>\n",
              "      <td>1.0</td>\n",
              "      <td>0.0</td>\n",
              "      <td>0.0</td>\n",
              "      <td>0.0</td>\n",
              "      <td>0.0</td>\n",
              "      <td>0.0</td>\n",
              "      <td>0.0</td>\n",
              "      <td>0.0</td>\n",
              "    </tr>\n",
              "  </tbody>\n",
              "</table>\n",
              "</div>\n",
              "      <button class=\"colab-df-convert\" onclick=\"convertToInteractive('df-1a14b937-6128-49c4-9954-48870702fd2c')\"\n",
              "              title=\"Convert this dataframe to an interactive table.\"\n",
              "              style=\"display:none;\">\n",
              "        \n",
              "  <svg xmlns=\"http://www.w3.org/2000/svg\" height=\"24px\"viewBox=\"0 0 24 24\"\n",
              "       width=\"24px\">\n",
              "    <path d=\"M0 0h24v24H0V0z\" fill=\"none\"/>\n",
              "    <path d=\"M18.56 5.44l.94 2.06.94-2.06 2.06-.94-2.06-.94-.94-2.06-.94 2.06-2.06.94zm-11 1L8.5 8.5l.94-2.06 2.06-.94-2.06-.94L8.5 2.5l-.94 2.06-2.06.94zm10 10l.94 2.06.94-2.06 2.06-.94-2.06-.94-.94-2.06-.94 2.06-2.06.94z\"/><path d=\"M17.41 7.96l-1.37-1.37c-.4-.4-.92-.59-1.43-.59-.52 0-1.04.2-1.43.59L10.3 9.45l-7.72 7.72c-.78.78-.78 2.05 0 2.83L4 21.41c.39.39.9.59 1.41.59.51 0 1.02-.2 1.41-.59l7.78-7.78 2.81-2.81c.8-.78.8-2.07 0-2.86zM5.41 20L4 18.59l7.72-7.72 1.47 1.35L5.41 20z\"/>\n",
              "  </svg>\n",
              "      </button>\n",
              "      \n",
              "  <style>\n",
              "    .colab-df-container {\n",
              "      display:flex;\n",
              "      flex-wrap:wrap;\n",
              "      gap: 12px;\n",
              "    }\n",
              "\n",
              "    .colab-df-convert {\n",
              "      background-color: #E8F0FE;\n",
              "      border: none;\n",
              "      border-radius: 50%;\n",
              "      cursor: pointer;\n",
              "      display: none;\n",
              "      fill: #1967D2;\n",
              "      height: 32px;\n",
              "      padding: 0 0 0 0;\n",
              "      width: 32px;\n",
              "    }\n",
              "\n",
              "    .colab-df-convert:hover {\n",
              "      background-color: #E2EBFA;\n",
              "      box-shadow: 0px 1px 2px rgba(60, 64, 67, 0.3), 0px 1px 3px 1px rgba(60, 64, 67, 0.15);\n",
              "      fill: #174EA6;\n",
              "    }\n",
              "\n",
              "    [theme=dark] .colab-df-convert {\n",
              "      background-color: #3B4455;\n",
              "      fill: #D2E3FC;\n",
              "    }\n",
              "\n",
              "    [theme=dark] .colab-df-convert:hover {\n",
              "      background-color: #434B5C;\n",
              "      box-shadow: 0px 1px 3px 1px rgba(0, 0, 0, 0.15);\n",
              "      filter: drop-shadow(0px 1px 2px rgba(0, 0, 0, 0.3));\n",
              "      fill: #FFFFFF;\n",
              "    }\n",
              "  </style>\n",
              "\n",
              "      <script>\n",
              "        const buttonEl =\n",
              "          document.querySelector('#df-1a14b937-6128-49c4-9954-48870702fd2c button.colab-df-convert');\n",
              "        buttonEl.style.display =\n",
              "          google.colab.kernel.accessAllowed ? 'block' : 'none';\n",
              "\n",
              "        async function convertToInteractive(key) {\n",
              "          const element = document.querySelector('#df-1a14b937-6128-49c4-9954-48870702fd2c');\n",
              "          const dataTable =\n",
              "            await google.colab.kernel.invokeFunction('convertToInteractive',\n",
              "                                                     [key], {});\n",
              "          if (!dataTable) return;\n",
              "\n",
              "          const docLinkHtml = 'Like what you see? Visit the ' +\n",
              "            '<a target=\"_blank\" href=https://colab.research.google.com/notebooks/data_table.ipynb>data table notebook</a>'\n",
              "            + ' to learn more about interactive tables.';\n",
              "          element.innerHTML = '';\n",
              "          dataTable['output_type'] = 'display_data';\n",
              "          await google.colab.output.renderOutput(dataTable, element);\n",
              "          const docLink = document.createElement('div');\n",
              "          docLink.innerHTML = docLinkHtml;\n",
              "          element.appendChild(docLink);\n",
              "        }\n",
              "      </script>\n",
              "    </div>\n",
              "  </div>\n",
              "  "
            ],
            "text/plain": [
              "           a   is  cat  this  dog  like    i  <e>  <unk>\n",
              "(like,)  2.0  0.0  0.0   0.0  0.0   0.0  0.0  0.0    0.0\n",
              "(i,)     0.0  0.0  0.0   0.0  0.0   1.0  0.0  0.0    0.0\n",
              "(is,)    0.0  0.0  0.0   0.0  0.0   1.0  0.0  0.0    0.0\n",
              "(<s>,)   0.0  0.0  0.0   1.0  0.0   0.0  1.0  0.0    0.0\n",
              "(cat,)   0.0  0.0  0.0   0.0  0.0   0.0  0.0  2.0    0.0\n",
              "(a,)     0.0  0.0  2.0   0.0  0.0   0.0  0.0  0.0    0.0\n",
              "(this,)  0.0  0.0  0.0   0.0  1.0   0.0  0.0  0.0    0.0\n",
              "(dog,)   0.0  1.0  0.0   0.0  0.0   0.0  0.0  0.0    0.0"
            ]
          },
          "metadata": {}
        }
      ],
      "source": [
        "sentences = [['i', 'like', 'a', 'cat'],\n",
        "                 ['this', 'dog', 'is', 'like', 'a', 'cat']]\n",
        "unique_words = list(set(sentences[0] + sentences[1]))\n",
        "bigram_counts = count_n_grams(sentences, 2)\n",
        "\n",
        "print('bigram counts')\n",
        "display(make_count_matrix(bigram_counts, unique_words))"
      ]
    },
    {
      "cell_type": "markdown",
      "metadata": {
        "id": "8CQ2-ypkJPBM"
      },
      "source": [
        "##### Expected output\n",
        "\n",
        "```CPP\n",
        "bigram counts\n",
        "          cat    i   this   a  is   like  dog  <e>   <unk>\n",
        "(<s>,)    0.0   1.0  1.0  0.0  0.0  0.0   0.0  0.0    0.0\n",
        "(a,)      2.0   0.0  0.0  0.0  0.0  0.0   0.0  0.0    0.0\n",
        "(this,)   0.0   0.0  0.0  0.0  0.0  0.0   1.0  0.0    0.0\n",
        "(like,)   0.0   0.0  0.0  2.0  0.0  0.0   0.0  0.0    0.0\n",
        "(dog,)    0.0   0.0  0.0  0.0  1.0  0.0   0.0  0.0    0.0\n",
        "(cat,)    0.0   0.0  0.0  0.0  0.0  0.0   0.0  2.0    0.0\n",
        "(is,)     0.0   0.0  0.0  0.0  0.0  1.0   0.0  0.0    0.0\n",
        "(i,)      0.0   0.0  0.0  0.0  0.0  1.0   0.0  0.0    0.0\n",
        "```"
      ]
    },
    {
      "cell_type": "code",
      "execution_count": 54,
      "metadata": {
        "colab": {
          "base_uri": "https://localhost:8080/",
          "height": 399
        },
        "id": "DKXuj4YCJPBM",
        "outputId": "3d1713b6-d473-4973-c8de-042712358af7"
      },
      "outputs": [
        {
          "output_type": "stream",
          "name": "stdout",
          "text": [
            "\n",
            "trigram counts\n"
          ]
        },
        {
          "output_type": "display_data",
          "data": {
            "text/html": [
              "\n",
              "  <div id=\"df-9ba7c78d-2b15-4309-ae7e-4fc6cccd7433\">\n",
              "    <div class=\"colab-df-container\">\n",
              "      <div>\n",
              "<style scoped>\n",
              "    .dataframe tbody tr th:only-of-type {\n",
              "        vertical-align: middle;\n",
              "    }\n",
              "\n",
              "    .dataframe tbody tr th {\n",
              "        vertical-align: top;\n",
              "    }\n",
              "\n",
              "    .dataframe thead th {\n",
              "        text-align: right;\n",
              "    }\n",
              "</style>\n",
              "<table border=\"1\" class=\"dataframe\">\n",
              "  <thead>\n",
              "    <tr style=\"text-align: right;\">\n",
              "      <th></th>\n",
              "      <th>a</th>\n",
              "      <th>is</th>\n",
              "      <th>cat</th>\n",
              "      <th>this</th>\n",
              "      <th>dog</th>\n",
              "      <th>like</th>\n",
              "      <th>i</th>\n",
              "      <th>&lt;e&gt;</th>\n",
              "      <th>&lt;unk&gt;</th>\n",
              "    </tr>\n",
              "  </thead>\n",
              "  <tbody>\n",
              "    <tr>\n",
              "      <th>(&lt;s&gt;, i)</th>\n",
              "      <td>0.0</td>\n",
              "      <td>0.0</td>\n",
              "      <td>0.0</td>\n",
              "      <td>0.0</td>\n",
              "      <td>0.0</td>\n",
              "      <td>1.0</td>\n",
              "      <td>0.0</td>\n",
              "      <td>0.0</td>\n",
              "      <td>0.0</td>\n",
              "    </tr>\n",
              "    <tr>\n",
              "      <th>(dog, is)</th>\n",
              "      <td>0.0</td>\n",
              "      <td>0.0</td>\n",
              "      <td>0.0</td>\n",
              "      <td>0.0</td>\n",
              "      <td>0.0</td>\n",
              "      <td>1.0</td>\n",
              "      <td>0.0</td>\n",
              "      <td>0.0</td>\n",
              "      <td>0.0</td>\n",
              "    </tr>\n",
              "    <tr>\n",
              "      <th>(&lt;s&gt;, &lt;s&gt;)</th>\n",
              "      <td>0.0</td>\n",
              "      <td>0.0</td>\n",
              "      <td>0.0</td>\n",
              "      <td>1.0</td>\n",
              "      <td>0.0</td>\n",
              "      <td>0.0</td>\n",
              "      <td>1.0</td>\n",
              "      <td>0.0</td>\n",
              "      <td>0.0</td>\n",
              "    </tr>\n",
              "    <tr>\n",
              "      <th>(a, cat)</th>\n",
              "      <td>0.0</td>\n",
              "      <td>0.0</td>\n",
              "      <td>0.0</td>\n",
              "      <td>0.0</td>\n",
              "      <td>0.0</td>\n",
              "      <td>0.0</td>\n",
              "      <td>0.0</td>\n",
              "      <td>2.0</td>\n",
              "      <td>0.0</td>\n",
              "    </tr>\n",
              "    <tr>\n",
              "      <th>(cat,)</th>\n",
              "      <td>0.0</td>\n",
              "      <td>0.0</td>\n",
              "      <td>0.0</td>\n",
              "      <td>0.0</td>\n",
              "      <td>0.0</td>\n",
              "      <td>0.0</td>\n",
              "      <td>0.0</td>\n",
              "      <td>2.0</td>\n",
              "      <td>0.0</td>\n",
              "    </tr>\n",
              "    <tr>\n",
              "      <th>(&lt;s&gt;, this)</th>\n",
              "      <td>0.0</td>\n",
              "      <td>0.0</td>\n",
              "      <td>0.0</td>\n",
              "      <td>0.0</td>\n",
              "      <td>1.0</td>\n",
              "      <td>0.0</td>\n",
              "      <td>0.0</td>\n",
              "      <td>0.0</td>\n",
              "      <td>0.0</td>\n",
              "    </tr>\n",
              "    <tr>\n",
              "      <th>(i, like)</th>\n",
              "      <td>1.0</td>\n",
              "      <td>0.0</td>\n",
              "      <td>0.0</td>\n",
              "      <td>0.0</td>\n",
              "      <td>0.0</td>\n",
              "      <td>0.0</td>\n",
              "      <td>0.0</td>\n",
              "      <td>0.0</td>\n",
              "      <td>0.0</td>\n",
              "    </tr>\n",
              "    <tr>\n",
              "      <th>(is, like)</th>\n",
              "      <td>1.0</td>\n",
              "      <td>0.0</td>\n",
              "      <td>0.0</td>\n",
              "      <td>0.0</td>\n",
              "      <td>0.0</td>\n",
              "      <td>0.0</td>\n",
              "      <td>0.0</td>\n",
              "      <td>0.0</td>\n",
              "      <td>0.0</td>\n",
              "    </tr>\n",
              "    <tr>\n",
              "      <th>(like, a)</th>\n",
              "      <td>0.0</td>\n",
              "      <td>0.0</td>\n",
              "      <td>2.0</td>\n",
              "      <td>0.0</td>\n",
              "      <td>0.0</td>\n",
              "      <td>0.0</td>\n",
              "      <td>0.0</td>\n",
              "      <td>0.0</td>\n",
              "      <td>0.0</td>\n",
              "    </tr>\n",
              "    <tr>\n",
              "      <th>(this, dog)</th>\n",
              "      <td>0.0</td>\n",
              "      <td>1.0</td>\n",
              "      <td>0.0</td>\n",
              "      <td>0.0</td>\n",
              "      <td>0.0</td>\n",
              "      <td>0.0</td>\n",
              "      <td>0.0</td>\n",
              "      <td>0.0</td>\n",
              "      <td>0.0</td>\n",
              "    </tr>\n",
              "  </tbody>\n",
              "</table>\n",
              "</div>\n",
              "      <button class=\"colab-df-convert\" onclick=\"convertToInteractive('df-9ba7c78d-2b15-4309-ae7e-4fc6cccd7433')\"\n",
              "              title=\"Convert this dataframe to an interactive table.\"\n",
              "              style=\"display:none;\">\n",
              "        \n",
              "  <svg xmlns=\"http://www.w3.org/2000/svg\" height=\"24px\"viewBox=\"0 0 24 24\"\n",
              "       width=\"24px\">\n",
              "    <path d=\"M0 0h24v24H0V0z\" fill=\"none\"/>\n",
              "    <path d=\"M18.56 5.44l.94 2.06.94-2.06 2.06-.94-2.06-.94-.94-2.06-.94 2.06-2.06.94zm-11 1L8.5 8.5l.94-2.06 2.06-.94-2.06-.94L8.5 2.5l-.94 2.06-2.06.94zm10 10l.94 2.06.94-2.06 2.06-.94-2.06-.94-.94-2.06-.94 2.06-2.06.94z\"/><path d=\"M17.41 7.96l-1.37-1.37c-.4-.4-.92-.59-1.43-.59-.52 0-1.04.2-1.43.59L10.3 9.45l-7.72 7.72c-.78.78-.78 2.05 0 2.83L4 21.41c.39.39.9.59 1.41.59.51 0 1.02-.2 1.41-.59l7.78-7.78 2.81-2.81c.8-.78.8-2.07 0-2.86zM5.41 20L4 18.59l7.72-7.72 1.47 1.35L5.41 20z\"/>\n",
              "  </svg>\n",
              "      </button>\n",
              "      \n",
              "  <style>\n",
              "    .colab-df-container {\n",
              "      display:flex;\n",
              "      flex-wrap:wrap;\n",
              "      gap: 12px;\n",
              "    }\n",
              "\n",
              "    .colab-df-convert {\n",
              "      background-color: #E8F0FE;\n",
              "      border: none;\n",
              "      border-radius: 50%;\n",
              "      cursor: pointer;\n",
              "      display: none;\n",
              "      fill: #1967D2;\n",
              "      height: 32px;\n",
              "      padding: 0 0 0 0;\n",
              "      width: 32px;\n",
              "    }\n",
              "\n",
              "    .colab-df-convert:hover {\n",
              "      background-color: #E2EBFA;\n",
              "      box-shadow: 0px 1px 2px rgba(60, 64, 67, 0.3), 0px 1px 3px 1px rgba(60, 64, 67, 0.15);\n",
              "      fill: #174EA6;\n",
              "    }\n",
              "\n",
              "    [theme=dark] .colab-df-convert {\n",
              "      background-color: #3B4455;\n",
              "      fill: #D2E3FC;\n",
              "    }\n",
              "\n",
              "    [theme=dark] .colab-df-convert:hover {\n",
              "      background-color: #434B5C;\n",
              "      box-shadow: 0px 1px 3px 1px rgba(0, 0, 0, 0.15);\n",
              "      filter: drop-shadow(0px 1px 2px rgba(0, 0, 0, 0.3));\n",
              "      fill: #FFFFFF;\n",
              "    }\n",
              "  </style>\n",
              "\n",
              "      <script>\n",
              "        const buttonEl =\n",
              "          document.querySelector('#df-9ba7c78d-2b15-4309-ae7e-4fc6cccd7433 button.colab-df-convert');\n",
              "        buttonEl.style.display =\n",
              "          google.colab.kernel.accessAllowed ? 'block' : 'none';\n",
              "\n",
              "        async function convertToInteractive(key) {\n",
              "          const element = document.querySelector('#df-9ba7c78d-2b15-4309-ae7e-4fc6cccd7433');\n",
              "          const dataTable =\n",
              "            await google.colab.kernel.invokeFunction('convertToInteractive',\n",
              "                                                     [key], {});\n",
              "          if (!dataTable) return;\n",
              "\n",
              "          const docLinkHtml = 'Like what you see? Visit the ' +\n",
              "            '<a target=\"_blank\" href=https://colab.research.google.com/notebooks/data_table.ipynb>data table notebook</a>'\n",
              "            + ' to learn more about interactive tables.';\n",
              "          element.innerHTML = '';\n",
              "          dataTable['output_type'] = 'display_data';\n",
              "          await google.colab.output.renderOutput(dataTable, element);\n",
              "          const docLink = document.createElement('div');\n",
              "          docLink.innerHTML = docLinkHtml;\n",
              "          element.appendChild(docLink);\n",
              "        }\n",
              "      </script>\n",
              "    </div>\n",
              "  </div>\n",
              "  "
            ],
            "text/plain": [
              "               a   is  cat  this  dog  like    i  <e>  <unk>\n",
              "(<s>, i)     0.0  0.0  0.0   0.0  0.0   1.0  0.0  0.0    0.0\n",
              "(dog, is)    0.0  0.0  0.0   0.0  0.0   1.0  0.0  0.0    0.0\n",
              "(<s>, <s>)   0.0  0.0  0.0   1.0  0.0   0.0  1.0  0.0    0.0\n",
              "(a, cat)     0.0  0.0  0.0   0.0  0.0   0.0  0.0  2.0    0.0\n",
              "(cat,)       0.0  0.0  0.0   0.0  0.0   0.0  0.0  2.0    0.0\n",
              "(<s>, this)  0.0  0.0  0.0   0.0  1.0   0.0  0.0  0.0    0.0\n",
              "(i, like)    1.0  0.0  0.0   0.0  0.0   0.0  0.0  0.0    0.0\n",
              "(is, like)   1.0  0.0  0.0   0.0  0.0   0.0  0.0  0.0    0.0\n",
              "(like, a)    0.0  0.0  2.0   0.0  0.0   0.0  0.0  0.0    0.0\n",
              "(this, dog)  0.0  1.0  0.0   0.0  0.0   0.0  0.0  0.0    0.0"
            ]
          },
          "metadata": {}
        }
      ],
      "source": [
        "# Show trigram counts\n",
        "print('\\ntrigram counts')\n",
        "trigram_counts = count_n_grams(sentences, 3)\n",
        "display(make_count_matrix(trigram_counts, unique_words))"
      ]
    },
    {
      "cell_type": "markdown",
      "metadata": {
        "id": "Mu2k595dJPBM"
      },
      "source": [
        "##### Expected output\n",
        "\n",
        "```CPP\n",
        "trigram counts\n",
        "              cat    i   this   a  is   like  dog  <e>   <unk>\n",
        "(dog, is)     0.0   0.0  0.0  0.0  0.0  1.0   0.0  0.0    0.0\n",
        "(this, dog)   0.0   0.0  0.0  0.0  1.0  0.0   0.0  0.0    0.0\n",
        "(a, cat)      0.0   0.0  0.0  0.0  0.0  0.0   0.0  2.0    0.0\n",
        "(like, a)     2.0   0.0  0.0  0.0  0.0  0.0   0.0  0.0    0.0\n",
        "(is, like)    0.0   0.0  0.0  1.0  0.0  0.0   0.0  0.0    0.0\n",
        "(<s>, i)      0.0   0.0  0.0  0.0  0.0  1.0   0.0  0.0    0.0\n",
        "(i, like)     0.0   0.0  0.0  1.0  0.0  0.0   0.0  0.0    0.0\n",
        "(<s>, <s>)    0.0   1.0  1.0  0.0  0.0  0.0   0.0  0.0    0.0\n",
        "(<s>, this)   0.0   0.0  0.0  0.0  0.0  0.0   1.0  0.0    0.0\n",
        "```"
      ]
    },
    {
      "cell_type": "markdown",
      "metadata": {
        "id": "Zz_kzXc9JPBM"
      },
      "source": [
        "The following function calculates the probabilities of each word given the previous n-gram, and stores this in matrix form.\n",
        "- This function is provided for you."
      ]
    },
    {
      "cell_type": "code",
      "execution_count": 55,
      "metadata": {
        "id": "T5PlUDrgJPBM"
      },
      "outputs": [],
      "source": [
        "def make_probability_matrix(n_plus1_gram_counts, vocabulary, k):\n",
        "    count_matrix = make_count_matrix(n_plus1_gram_counts, unique_words)\n",
        "    count_matrix += k\n",
        "    prob_matrix = count_matrix.div(count_matrix.sum(axis=1), axis=0)\n",
        "    return prob_matrix"
      ]
    },
    {
      "cell_type": "code",
      "execution_count": 56,
      "metadata": {
        "colab": {
          "base_uri": "https://localhost:8080/",
          "height": 318
        },
        "id": "NInQ9rJSJPBN",
        "outputId": "f1f70ca7-bf95-4af9-d91c-9db5d883a044"
      },
      "outputs": [
        {
          "output_type": "stream",
          "name": "stdout",
          "text": [
            "bigram probabilities\n"
          ]
        },
        {
          "output_type": "display_data",
          "data": {
            "text/html": [
              "\n",
              "  <div id=\"df-b58fea27-4fe8-4cea-a239-307d1320c56b\">\n",
              "    <div class=\"colab-df-container\">\n",
              "      <div>\n",
              "<style scoped>\n",
              "    .dataframe tbody tr th:only-of-type {\n",
              "        vertical-align: middle;\n",
              "    }\n",
              "\n",
              "    .dataframe tbody tr th {\n",
              "        vertical-align: top;\n",
              "    }\n",
              "\n",
              "    .dataframe thead th {\n",
              "        text-align: right;\n",
              "    }\n",
              "</style>\n",
              "<table border=\"1\" class=\"dataframe\">\n",
              "  <thead>\n",
              "    <tr style=\"text-align: right;\">\n",
              "      <th></th>\n",
              "      <th>a</th>\n",
              "      <th>is</th>\n",
              "      <th>cat</th>\n",
              "      <th>this</th>\n",
              "      <th>dog</th>\n",
              "      <th>like</th>\n",
              "      <th>i</th>\n",
              "      <th>&lt;e&gt;</th>\n",
              "      <th>&lt;unk&gt;</th>\n",
              "    </tr>\n",
              "  </thead>\n",
              "  <tbody>\n",
              "    <tr>\n",
              "      <th>(like,)</th>\n",
              "      <td>0.272727</td>\n",
              "      <td>0.090909</td>\n",
              "      <td>0.090909</td>\n",
              "      <td>0.090909</td>\n",
              "      <td>0.090909</td>\n",
              "      <td>0.090909</td>\n",
              "      <td>0.090909</td>\n",
              "      <td>0.090909</td>\n",
              "      <td>0.090909</td>\n",
              "    </tr>\n",
              "    <tr>\n",
              "      <th>(i,)</th>\n",
              "      <td>0.100000</td>\n",
              "      <td>0.100000</td>\n",
              "      <td>0.100000</td>\n",
              "      <td>0.100000</td>\n",
              "      <td>0.100000</td>\n",
              "      <td>0.200000</td>\n",
              "      <td>0.100000</td>\n",
              "      <td>0.100000</td>\n",
              "      <td>0.100000</td>\n",
              "    </tr>\n",
              "    <tr>\n",
              "      <th>(is,)</th>\n",
              "      <td>0.100000</td>\n",
              "      <td>0.100000</td>\n",
              "      <td>0.100000</td>\n",
              "      <td>0.100000</td>\n",
              "      <td>0.100000</td>\n",
              "      <td>0.200000</td>\n",
              "      <td>0.100000</td>\n",
              "      <td>0.100000</td>\n",
              "      <td>0.100000</td>\n",
              "    </tr>\n",
              "    <tr>\n",
              "      <th>(&lt;s&gt;,)</th>\n",
              "      <td>0.090909</td>\n",
              "      <td>0.090909</td>\n",
              "      <td>0.090909</td>\n",
              "      <td>0.181818</td>\n",
              "      <td>0.090909</td>\n",
              "      <td>0.090909</td>\n",
              "      <td>0.181818</td>\n",
              "      <td>0.090909</td>\n",
              "      <td>0.090909</td>\n",
              "    </tr>\n",
              "    <tr>\n",
              "      <th>(cat,)</th>\n",
              "      <td>0.090909</td>\n",
              "      <td>0.090909</td>\n",
              "      <td>0.090909</td>\n",
              "      <td>0.090909</td>\n",
              "      <td>0.090909</td>\n",
              "      <td>0.090909</td>\n",
              "      <td>0.090909</td>\n",
              "      <td>0.272727</td>\n",
              "      <td>0.090909</td>\n",
              "    </tr>\n",
              "    <tr>\n",
              "      <th>(a,)</th>\n",
              "      <td>0.090909</td>\n",
              "      <td>0.090909</td>\n",
              "      <td>0.272727</td>\n",
              "      <td>0.090909</td>\n",
              "      <td>0.090909</td>\n",
              "      <td>0.090909</td>\n",
              "      <td>0.090909</td>\n",
              "      <td>0.090909</td>\n",
              "      <td>0.090909</td>\n",
              "    </tr>\n",
              "    <tr>\n",
              "      <th>(this,)</th>\n",
              "      <td>0.100000</td>\n",
              "      <td>0.100000</td>\n",
              "      <td>0.100000</td>\n",
              "      <td>0.100000</td>\n",
              "      <td>0.200000</td>\n",
              "      <td>0.100000</td>\n",
              "      <td>0.100000</td>\n",
              "      <td>0.100000</td>\n",
              "      <td>0.100000</td>\n",
              "    </tr>\n",
              "    <tr>\n",
              "      <th>(dog,)</th>\n",
              "      <td>0.100000</td>\n",
              "      <td>0.200000</td>\n",
              "      <td>0.100000</td>\n",
              "      <td>0.100000</td>\n",
              "      <td>0.100000</td>\n",
              "      <td>0.100000</td>\n",
              "      <td>0.100000</td>\n",
              "      <td>0.100000</td>\n",
              "      <td>0.100000</td>\n",
              "    </tr>\n",
              "  </tbody>\n",
              "</table>\n",
              "</div>\n",
              "      <button class=\"colab-df-convert\" onclick=\"convertToInteractive('df-b58fea27-4fe8-4cea-a239-307d1320c56b')\"\n",
              "              title=\"Convert this dataframe to an interactive table.\"\n",
              "              style=\"display:none;\">\n",
              "        \n",
              "  <svg xmlns=\"http://www.w3.org/2000/svg\" height=\"24px\"viewBox=\"0 0 24 24\"\n",
              "       width=\"24px\">\n",
              "    <path d=\"M0 0h24v24H0V0z\" fill=\"none\"/>\n",
              "    <path d=\"M18.56 5.44l.94 2.06.94-2.06 2.06-.94-2.06-.94-.94-2.06-.94 2.06-2.06.94zm-11 1L8.5 8.5l.94-2.06 2.06-.94-2.06-.94L8.5 2.5l-.94 2.06-2.06.94zm10 10l.94 2.06.94-2.06 2.06-.94-2.06-.94-.94-2.06-.94 2.06-2.06.94z\"/><path d=\"M17.41 7.96l-1.37-1.37c-.4-.4-.92-.59-1.43-.59-.52 0-1.04.2-1.43.59L10.3 9.45l-7.72 7.72c-.78.78-.78 2.05 0 2.83L4 21.41c.39.39.9.59 1.41.59.51 0 1.02-.2 1.41-.59l7.78-7.78 2.81-2.81c.8-.78.8-2.07 0-2.86zM5.41 20L4 18.59l7.72-7.72 1.47 1.35L5.41 20z\"/>\n",
              "  </svg>\n",
              "      </button>\n",
              "      \n",
              "  <style>\n",
              "    .colab-df-container {\n",
              "      display:flex;\n",
              "      flex-wrap:wrap;\n",
              "      gap: 12px;\n",
              "    }\n",
              "\n",
              "    .colab-df-convert {\n",
              "      background-color: #E8F0FE;\n",
              "      border: none;\n",
              "      border-radius: 50%;\n",
              "      cursor: pointer;\n",
              "      display: none;\n",
              "      fill: #1967D2;\n",
              "      height: 32px;\n",
              "      padding: 0 0 0 0;\n",
              "      width: 32px;\n",
              "    }\n",
              "\n",
              "    .colab-df-convert:hover {\n",
              "      background-color: #E2EBFA;\n",
              "      box-shadow: 0px 1px 2px rgba(60, 64, 67, 0.3), 0px 1px 3px 1px rgba(60, 64, 67, 0.15);\n",
              "      fill: #174EA6;\n",
              "    }\n",
              "\n",
              "    [theme=dark] .colab-df-convert {\n",
              "      background-color: #3B4455;\n",
              "      fill: #D2E3FC;\n",
              "    }\n",
              "\n",
              "    [theme=dark] .colab-df-convert:hover {\n",
              "      background-color: #434B5C;\n",
              "      box-shadow: 0px 1px 3px 1px rgba(0, 0, 0, 0.15);\n",
              "      filter: drop-shadow(0px 1px 2px rgba(0, 0, 0, 0.3));\n",
              "      fill: #FFFFFF;\n",
              "    }\n",
              "  </style>\n",
              "\n",
              "      <script>\n",
              "        const buttonEl =\n",
              "          document.querySelector('#df-b58fea27-4fe8-4cea-a239-307d1320c56b button.colab-df-convert');\n",
              "        buttonEl.style.display =\n",
              "          google.colab.kernel.accessAllowed ? 'block' : 'none';\n",
              "\n",
              "        async function convertToInteractive(key) {\n",
              "          const element = document.querySelector('#df-b58fea27-4fe8-4cea-a239-307d1320c56b');\n",
              "          const dataTable =\n",
              "            await google.colab.kernel.invokeFunction('convertToInteractive',\n",
              "                                                     [key], {});\n",
              "          if (!dataTable) return;\n",
              "\n",
              "          const docLinkHtml = 'Like what you see? Visit the ' +\n",
              "            '<a target=\"_blank\" href=https://colab.research.google.com/notebooks/data_table.ipynb>data table notebook</a>'\n",
              "            + ' to learn more about interactive tables.';\n",
              "          element.innerHTML = '';\n",
              "          dataTable['output_type'] = 'display_data';\n",
              "          await google.colab.output.renderOutput(dataTable, element);\n",
              "          const docLink = document.createElement('div');\n",
              "          docLink.innerHTML = docLinkHtml;\n",
              "          element.appendChild(docLink);\n",
              "        }\n",
              "      </script>\n",
              "    </div>\n",
              "  </div>\n",
              "  "
            ],
            "text/plain": [
              "                a        is       cat  ...         i       <e>     <unk>\n",
              "(like,)  0.272727  0.090909  0.090909  ...  0.090909  0.090909  0.090909\n",
              "(i,)     0.100000  0.100000  0.100000  ...  0.100000  0.100000  0.100000\n",
              "(is,)    0.100000  0.100000  0.100000  ...  0.100000  0.100000  0.100000\n",
              "(<s>,)   0.090909  0.090909  0.090909  ...  0.181818  0.090909  0.090909\n",
              "(cat,)   0.090909  0.090909  0.090909  ...  0.090909  0.272727  0.090909\n",
              "(a,)     0.090909  0.090909  0.272727  ...  0.090909  0.090909  0.090909\n",
              "(this,)  0.100000  0.100000  0.100000  ...  0.100000  0.100000  0.100000\n",
              "(dog,)   0.100000  0.200000  0.100000  ...  0.100000  0.100000  0.100000\n",
              "\n",
              "[8 rows x 9 columns]"
            ]
          },
          "metadata": {}
        }
      ],
      "source": [
        "sentences = [['i', 'like', 'a', 'cat'],\n",
        "                 ['this', 'dog', 'is', 'like', 'a', 'cat']]\n",
        "unique_words = list(set(sentences[0] + sentences[1]))\n",
        "bigram_counts = count_n_grams(sentences, 2)\n",
        "print(\"bigram probabilities\")\n",
        "display(make_probability_matrix(bigram_counts, unique_words, k=1))"
      ]
    },
    {
      "cell_type": "code",
      "execution_count": 57,
      "metadata": {
        "colab": {
          "base_uri": "https://localhost:8080/",
          "height": 381
        },
        "id": "T-hC74uMJPBN",
        "outputId": "68fc2a0b-eba4-4bc6-94a8-e075cb9c4485"
      },
      "outputs": [
        {
          "output_type": "stream",
          "name": "stdout",
          "text": [
            "trigram probabilities\n"
          ]
        },
        {
          "output_type": "display_data",
          "data": {
            "text/html": [
              "\n",
              "  <div id=\"df-7b027156-7171-4ccc-8d32-71296ae019bb\">\n",
              "    <div class=\"colab-df-container\">\n",
              "      <div>\n",
              "<style scoped>\n",
              "    .dataframe tbody tr th:only-of-type {\n",
              "        vertical-align: middle;\n",
              "    }\n",
              "\n",
              "    .dataframe tbody tr th {\n",
              "        vertical-align: top;\n",
              "    }\n",
              "\n",
              "    .dataframe thead th {\n",
              "        text-align: right;\n",
              "    }\n",
              "</style>\n",
              "<table border=\"1\" class=\"dataframe\">\n",
              "  <thead>\n",
              "    <tr style=\"text-align: right;\">\n",
              "      <th></th>\n",
              "      <th>a</th>\n",
              "      <th>is</th>\n",
              "      <th>cat</th>\n",
              "      <th>this</th>\n",
              "      <th>dog</th>\n",
              "      <th>like</th>\n",
              "      <th>i</th>\n",
              "      <th>&lt;e&gt;</th>\n",
              "      <th>&lt;unk&gt;</th>\n",
              "    </tr>\n",
              "  </thead>\n",
              "  <tbody>\n",
              "    <tr>\n",
              "      <th>(&lt;s&gt;, i)</th>\n",
              "      <td>0.100000</td>\n",
              "      <td>0.100000</td>\n",
              "      <td>0.100000</td>\n",
              "      <td>0.100000</td>\n",
              "      <td>0.100000</td>\n",
              "      <td>0.200000</td>\n",
              "      <td>0.100000</td>\n",
              "      <td>0.100000</td>\n",
              "      <td>0.100000</td>\n",
              "    </tr>\n",
              "    <tr>\n",
              "      <th>(dog, is)</th>\n",
              "      <td>0.100000</td>\n",
              "      <td>0.100000</td>\n",
              "      <td>0.100000</td>\n",
              "      <td>0.100000</td>\n",
              "      <td>0.100000</td>\n",
              "      <td>0.200000</td>\n",
              "      <td>0.100000</td>\n",
              "      <td>0.100000</td>\n",
              "      <td>0.100000</td>\n",
              "    </tr>\n",
              "    <tr>\n",
              "      <th>(&lt;s&gt;, &lt;s&gt;)</th>\n",
              "      <td>0.090909</td>\n",
              "      <td>0.090909</td>\n",
              "      <td>0.090909</td>\n",
              "      <td>0.181818</td>\n",
              "      <td>0.090909</td>\n",
              "      <td>0.090909</td>\n",
              "      <td>0.181818</td>\n",
              "      <td>0.090909</td>\n",
              "      <td>0.090909</td>\n",
              "    </tr>\n",
              "    <tr>\n",
              "      <th>(a, cat)</th>\n",
              "      <td>0.090909</td>\n",
              "      <td>0.090909</td>\n",
              "      <td>0.090909</td>\n",
              "      <td>0.090909</td>\n",
              "      <td>0.090909</td>\n",
              "      <td>0.090909</td>\n",
              "      <td>0.090909</td>\n",
              "      <td>0.272727</td>\n",
              "      <td>0.090909</td>\n",
              "    </tr>\n",
              "    <tr>\n",
              "      <th>(cat,)</th>\n",
              "      <td>0.090909</td>\n",
              "      <td>0.090909</td>\n",
              "      <td>0.090909</td>\n",
              "      <td>0.090909</td>\n",
              "      <td>0.090909</td>\n",
              "      <td>0.090909</td>\n",
              "      <td>0.090909</td>\n",
              "      <td>0.272727</td>\n",
              "      <td>0.090909</td>\n",
              "    </tr>\n",
              "    <tr>\n",
              "      <th>(&lt;s&gt;, this)</th>\n",
              "      <td>0.100000</td>\n",
              "      <td>0.100000</td>\n",
              "      <td>0.100000</td>\n",
              "      <td>0.100000</td>\n",
              "      <td>0.200000</td>\n",
              "      <td>0.100000</td>\n",
              "      <td>0.100000</td>\n",
              "      <td>0.100000</td>\n",
              "      <td>0.100000</td>\n",
              "    </tr>\n",
              "    <tr>\n",
              "      <th>(i, like)</th>\n",
              "      <td>0.200000</td>\n",
              "      <td>0.100000</td>\n",
              "      <td>0.100000</td>\n",
              "      <td>0.100000</td>\n",
              "      <td>0.100000</td>\n",
              "      <td>0.100000</td>\n",
              "      <td>0.100000</td>\n",
              "      <td>0.100000</td>\n",
              "      <td>0.100000</td>\n",
              "    </tr>\n",
              "    <tr>\n",
              "      <th>(is, like)</th>\n",
              "      <td>0.200000</td>\n",
              "      <td>0.100000</td>\n",
              "      <td>0.100000</td>\n",
              "      <td>0.100000</td>\n",
              "      <td>0.100000</td>\n",
              "      <td>0.100000</td>\n",
              "      <td>0.100000</td>\n",
              "      <td>0.100000</td>\n",
              "      <td>0.100000</td>\n",
              "    </tr>\n",
              "    <tr>\n",
              "      <th>(like, a)</th>\n",
              "      <td>0.090909</td>\n",
              "      <td>0.090909</td>\n",
              "      <td>0.272727</td>\n",
              "      <td>0.090909</td>\n",
              "      <td>0.090909</td>\n",
              "      <td>0.090909</td>\n",
              "      <td>0.090909</td>\n",
              "      <td>0.090909</td>\n",
              "      <td>0.090909</td>\n",
              "    </tr>\n",
              "    <tr>\n",
              "      <th>(this, dog)</th>\n",
              "      <td>0.100000</td>\n",
              "      <td>0.200000</td>\n",
              "      <td>0.100000</td>\n",
              "      <td>0.100000</td>\n",
              "      <td>0.100000</td>\n",
              "      <td>0.100000</td>\n",
              "      <td>0.100000</td>\n",
              "      <td>0.100000</td>\n",
              "      <td>0.100000</td>\n",
              "    </tr>\n",
              "  </tbody>\n",
              "</table>\n",
              "</div>\n",
              "      <button class=\"colab-df-convert\" onclick=\"convertToInteractive('df-7b027156-7171-4ccc-8d32-71296ae019bb')\"\n",
              "              title=\"Convert this dataframe to an interactive table.\"\n",
              "              style=\"display:none;\">\n",
              "        \n",
              "  <svg xmlns=\"http://www.w3.org/2000/svg\" height=\"24px\"viewBox=\"0 0 24 24\"\n",
              "       width=\"24px\">\n",
              "    <path d=\"M0 0h24v24H0V0z\" fill=\"none\"/>\n",
              "    <path d=\"M18.56 5.44l.94 2.06.94-2.06 2.06-.94-2.06-.94-.94-2.06-.94 2.06-2.06.94zm-11 1L8.5 8.5l.94-2.06 2.06-.94-2.06-.94L8.5 2.5l-.94 2.06-2.06.94zm10 10l.94 2.06.94-2.06 2.06-.94-2.06-.94-.94-2.06-.94 2.06-2.06.94z\"/><path d=\"M17.41 7.96l-1.37-1.37c-.4-.4-.92-.59-1.43-.59-.52 0-1.04.2-1.43.59L10.3 9.45l-7.72 7.72c-.78.78-.78 2.05 0 2.83L4 21.41c.39.39.9.59 1.41.59.51 0 1.02-.2 1.41-.59l7.78-7.78 2.81-2.81c.8-.78.8-2.07 0-2.86zM5.41 20L4 18.59l7.72-7.72 1.47 1.35L5.41 20z\"/>\n",
              "  </svg>\n",
              "      </button>\n",
              "      \n",
              "  <style>\n",
              "    .colab-df-container {\n",
              "      display:flex;\n",
              "      flex-wrap:wrap;\n",
              "      gap: 12px;\n",
              "    }\n",
              "\n",
              "    .colab-df-convert {\n",
              "      background-color: #E8F0FE;\n",
              "      border: none;\n",
              "      border-radius: 50%;\n",
              "      cursor: pointer;\n",
              "      display: none;\n",
              "      fill: #1967D2;\n",
              "      height: 32px;\n",
              "      padding: 0 0 0 0;\n",
              "      width: 32px;\n",
              "    }\n",
              "\n",
              "    .colab-df-convert:hover {\n",
              "      background-color: #E2EBFA;\n",
              "      box-shadow: 0px 1px 2px rgba(60, 64, 67, 0.3), 0px 1px 3px 1px rgba(60, 64, 67, 0.15);\n",
              "      fill: #174EA6;\n",
              "    }\n",
              "\n",
              "    [theme=dark] .colab-df-convert {\n",
              "      background-color: #3B4455;\n",
              "      fill: #D2E3FC;\n",
              "    }\n",
              "\n",
              "    [theme=dark] .colab-df-convert:hover {\n",
              "      background-color: #434B5C;\n",
              "      box-shadow: 0px 1px 3px 1px rgba(0, 0, 0, 0.15);\n",
              "      filter: drop-shadow(0px 1px 2px rgba(0, 0, 0, 0.3));\n",
              "      fill: #FFFFFF;\n",
              "    }\n",
              "  </style>\n",
              "\n",
              "      <script>\n",
              "        const buttonEl =\n",
              "          document.querySelector('#df-7b027156-7171-4ccc-8d32-71296ae019bb button.colab-df-convert');\n",
              "        buttonEl.style.display =\n",
              "          google.colab.kernel.accessAllowed ? 'block' : 'none';\n",
              "\n",
              "        async function convertToInteractive(key) {\n",
              "          const element = document.querySelector('#df-7b027156-7171-4ccc-8d32-71296ae019bb');\n",
              "          const dataTable =\n",
              "            await google.colab.kernel.invokeFunction('convertToInteractive',\n",
              "                                                     [key], {});\n",
              "          if (!dataTable) return;\n",
              "\n",
              "          const docLinkHtml = 'Like what you see? Visit the ' +\n",
              "            '<a target=\"_blank\" href=https://colab.research.google.com/notebooks/data_table.ipynb>data table notebook</a>'\n",
              "            + ' to learn more about interactive tables.';\n",
              "          element.innerHTML = '';\n",
              "          dataTable['output_type'] = 'display_data';\n",
              "          await google.colab.output.renderOutput(dataTable, element);\n",
              "          const docLink = document.createElement('div');\n",
              "          docLink.innerHTML = docLinkHtml;\n",
              "          element.appendChild(docLink);\n",
              "        }\n",
              "      </script>\n",
              "    </div>\n",
              "  </div>\n",
              "  "
            ],
            "text/plain": [
              "                    a        is       cat  ...         i       <e>     <unk>\n",
              "(<s>, i)     0.100000  0.100000  0.100000  ...  0.100000  0.100000  0.100000\n",
              "(dog, is)    0.100000  0.100000  0.100000  ...  0.100000  0.100000  0.100000\n",
              "(<s>, <s>)   0.090909  0.090909  0.090909  ...  0.181818  0.090909  0.090909\n",
              "(a, cat)     0.090909  0.090909  0.090909  ...  0.090909  0.272727  0.090909\n",
              "(cat,)       0.090909  0.090909  0.090909  ...  0.090909  0.272727  0.090909\n",
              "(<s>, this)  0.100000  0.100000  0.100000  ...  0.100000  0.100000  0.100000\n",
              "(i, like)    0.200000  0.100000  0.100000  ...  0.100000  0.100000  0.100000\n",
              "(is, like)   0.200000  0.100000  0.100000  ...  0.100000  0.100000  0.100000\n",
              "(like, a)    0.090909  0.090909  0.272727  ...  0.090909  0.090909  0.090909\n",
              "(this, dog)  0.100000  0.200000  0.100000  ...  0.100000  0.100000  0.100000\n",
              "\n",
              "[10 rows x 9 columns]"
            ]
          },
          "metadata": {}
        }
      ],
      "source": [
        "print(\"trigram probabilities\")\n",
        "trigram_counts = count_n_grams(sentences, 3)\n",
        "display(make_probability_matrix(trigram_counts, unique_words, k=1))"
      ]
    },
    {
      "cell_type": "markdown",
      "metadata": {
        "id": "bQ23BX44JPBN"
      },
      "source": [
        "Confirm that you obtain the same results as for the `estimate_probabilities` function that you implemented."
      ]
    },
    {
      "cell_type": "markdown",
      "metadata": {
        "id": "y9L4lXvXJPBN"
      },
      "source": [
        "<a name='3'></a>\n",
        "## Part 3: Perplexity\n",
        "\n",
        "In this section, you will generate the perplexity score to evaluate your model on the test set. \n",
        "- You will also use back-off when needed. \n",
        "- Perplexity is used as an evaluation metric of your language model. \n",
        "- To calculate the  the perplexity score of the test set on an n-gram model, use: \n",
        "\n",
        "$$ PP(W) =\\sqrt[N]{ \\prod_{t=n+1}^N \\frac{1}{P(w_t | w_{t-n} \\cdots w_{t-1})} } \\tag{4}$$\n",
        "\n",
        "- where $N$ is the length of the sentence.\n",
        "- $n$ is the number of words in the n-gram (e.g. 2 for a bigram).\n",
        "- In math, the numbering starts at one and not zero.\n",
        "\n",
        "In code, array indexing starts at zero, so the code will use ranges for $t$ according to this formula:\n",
        "\n",
        "$$ PP(W) =\\sqrt[N]{ \\prod_{t=n}^{N-1} \\frac{1}{P(w_t | w_{t-n} \\cdots w_{t-1})} } \\tag{4.1}$$\n",
        "\n",
        "The higher the probabilities are, the lower the perplexity will be. \n",
        "- The more the n-grams tell us about the sentence, the lower the perplexity score will be. "
      ]
    },
    {
      "cell_type": "markdown",
      "metadata": {
        "id": "dySqR6fuJPBN"
      },
      "source": [
        "<a name='ex-10'></a>\n",
        "### Exercise 10\n",
        "Compute the perplexity score given an N-gram count matrix and a sentence. "
      ]
    },
    {
      "cell_type": "markdown",
      "metadata": {
        "id": "BXMkMw91JPBN"
      },
      "source": [
        "<details>    \n",
        "<summary>\n",
        "    <font size=\"3\" color=\"darkgreen\"><b>Hints</b></font>\n",
        "</summary>\n",
        "<p>\n",
        "<ul>\n",
        "    <li>Remember that <code>range(2,4)</code> produces the integers [2, 3] (and excludes 4).</li>\n",
        "</ul>\n",
        "</p>\n"
      ]
    },
    {
      "cell_type": "code",
      "execution_count": 58,
      "metadata": {
        "id": "hxXHWdh0JPBN"
      },
      "outputs": [],
      "source": [
        "# UNQ_C10 (UNIQUE CELL IDENTIFIER, DO NOT EDIT)\n",
        "# GRADED FUNCTION: calculate_perplexity\n",
        "def calculate_perplexity(sentence, n_gram_counts, n_plus1_gram_counts, vocabulary_size, k=1.0):\n",
        "    \"\"\"\n",
        "    Calculate perplexity for a list of sentences\n",
        "    \n",
        "    Args:\n",
        "        sentence: List of strings\n",
        "        n_gram_counts: Dictionary of counts of (n+1)-grams\n",
        "        n_plus1_gram_counts: Dictionary of counts of (n+1)-grams\n",
        "        vocabulary_size: number of unique words in the vocabulary\n",
        "        k: Positive smoothing constant\n",
        "    \n",
        "    Returns:\n",
        "        Perplexity score\n",
        "    \"\"\"\n",
        "    # length of previous words\n",
        "    n = len(list(n_gram_counts.keys())[0]) \n",
        "    \n",
        "    # prepend <s> and append <e>\n",
        "    sentence = [\"<s>\"] * n + sentence + [\"<e>\"]\n",
        "    \n",
        "    # Cast the sentence from a list to a tuple\n",
        "    sentence = tuple(sentence)\n",
        "    \n",
        "    # length of sentence (after adding <s> and <e> tokens)\n",
        "    N = len(sentence)\n",
        "    \n",
        "    # The variable p will hold the product\n",
        "    # that is calculated inside the n-root\n",
        "    # Update this in the code below\n",
        "    product_pi = 1.0\n",
        "    \n",
        "    ### START CODE HERE (Replace instances of 'None' with your code) ###\n",
        "    \n",
        "    # Index t ranges from n to N - 1, inclusive on both ends\n",
        "    for t in range(n, N): # complete this line\n",
        "\n",
        "        # get the n-gram preceding the word at position t\n",
        "        n_gram = sentence[t-n:t]\n",
        "        \n",
        "        # get the word at position t\n",
        "        word = sentence[t]\n",
        "        \n",
        "        # Estimate the probability of the word given the n-gram\n",
        "        # using the n-gram counts, n-plus1-gram counts,\n",
        "        # vocabulary size, and smoothing constant\n",
        "        probability = estimate_probability(word,n_gram, n_gram_counts, n_plus1_gram_counts, len(unique_words), k=1)\n",
        "        \n",
        "        # Update the product of the probabilities\n",
        "        # This 'product_pi' is a cumulative product \n",
        "        # of the (1/P) factors that are calculated in the loop\n",
        "        product_pi *= 1 / probability\n",
        "\n",
        "    # Take the Nth root of the product\n",
        "    perplexity = product_pi**(1/float(N))\n",
        "    \n",
        "    ### END CODE HERE ### \n",
        "    return perplexity"
      ]
    },
    {
      "cell_type": "code",
      "execution_count": 59,
      "metadata": {
        "colab": {
          "base_uri": "https://localhost:8080/"
        },
        "id": "mRc981hLJPBO",
        "outputId": "94d7f51c-a548-4030-c68f-1b477636bb07"
      },
      "outputs": [
        {
          "output_type": "stream",
          "name": "stdout",
          "text": [
            "Perplexity for first train sample: 2.8040\n",
            "Perplexity for test sample: 3.9654\n"
          ]
        }
      ],
      "source": [
        "# test your code\n",
        "\n",
        "sentences = [['i', 'like', 'a', 'cat'],\n",
        "                 ['this', 'dog', 'is', 'like', 'a', 'cat']]\n",
        "unique_words = list(set(sentences[0] + sentences[1]))\n",
        "\n",
        "unigram_counts = count_n_grams(sentences, 1)\n",
        "bigram_counts = count_n_grams(sentences, 2)\n",
        "\n",
        "\n",
        "perplexity_train1 = calculate_perplexity(sentences[0],\n",
        "                                         unigram_counts, bigram_counts,\n",
        "                                         len(unique_words), k=1.0)\n",
        "print(f\"Perplexity for first train sample: {perplexity_train1:.4f}\")\n",
        "\n",
        "test_sentence = ['i', 'like', 'a', 'dog']\n",
        "perplexity_test = calculate_perplexity(test_sentence,\n",
        "                                       unigram_counts, bigram_counts,\n",
        "                                       len(unique_words), k=1.0)\n",
        "print(f\"Perplexity for test sample: {perplexity_test:.4f}\")"
      ]
    },
    {
      "cell_type": "markdown",
      "metadata": {
        "id": "Og-pHZy0JPBO"
      },
      "source": [
        "### Expected Output\n",
        "\n",
        "```CPP\n",
        "Perplexity for first train sample: 2.8040\n",
        "Perplexity for test sample: 3.9654\n",
        "```\n",
        "\n",
        "<b> Note: </b> If your sentence is really long, there will be underflow when multiplying many fractions.\n",
        "- To handle longer sentences, modify your implementation to take the sum of the log of the probabilities."
      ]
    },
    {
      "cell_type": "markdown",
      "metadata": {
        "id": "qNxz8YBtJPBO"
      },
      "source": [
        "<a name='4'></a>\n",
        "## Part 4: Build an auto-complete system\n",
        "\n",
        "In this section, you will combine the language models developed so far to implement an auto-complete system. \n"
      ]
    },
    {
      "cell_type": "markdown",
      "metadata": {
        "id": "4V1A-f_sJPBO"
      },
      "source": [
        "<a name='ex-11'></a>\n",
        "### Exercise 11\n",
        "Compute probabilities for all possible next words and suggest the most likely one.\n",
        "- This function also take an optional argument `start_with`, which specifies the first few letters of the next words."
      ]
    },
    {
      "cell_type": "markdown",
      "metadata": {
        "id": "XvSUYsZrJPBO"
      },
      "source": [
        "<details>    \n",
        "<summary>\n",
        "    <font size=\"3\" color=\"darkgreen\"><b>Hints</b></font>\n",
        "</summary>\n",
        "<p>\n",
        "<ul>\n",
        "    <li><code>estimate_probabilities</code> returns a dictionary where the key is a word and the value is the word's probability.</li>\n",
        "    <li> Use <code>str1.startswith(str2)</code> to determine if a string starts with the letters of another string.  For example, <code>'learning'.startswith('lea')</code> returns True, whereas <code>'learning'.startswith('ear')</code> returns False. There are two additional parameters in <code>str.startswith()</code>, but you can use the default values for those parameters in this case.</li>\n",
        "</ul>\n",
        "</p>"
      ]
    },
    {
      "cell_type": "code",
      "execution_count": 60,
      "metadata": {
        "id": "X312swTtJPBO"
      },
      "outputs": [],
      "source": [
        "# UNQ_C11 (UNIQUE CELL IDENTIFIER, DO NOT EDIT)\n",
        "# GRADED FUNCTION: suggest_a_word\n",
        "def suggest_a_word(previous_tokens, n_gram_counts, n_plus1_gram_counts, vocabulary, k=1.0, start_with=None):\n",
        "    \"\"\"\n",
        "    Get suggestion for the next word\n",
        "    \n",
        "    Args:\n",
        "        previous_tokens: The sentence you input where each token is a word. Must have length > n \n",
        "        n_gram_counts: Dictionary of counts of (n+1)-grams\n",
        "        n_plus1_gram_counts: Dictionary of counts of (n+1)-grams\n",
        "        vocabulary: List of words\n",
        "        k: positive constant, smoothing parameter\n",
        "        start_with: If not None, specifies the first few letters of the next word\n",
        "        \n",
        "    Returns:\n",
        "        A tuple of \n",
        "          - string of the most likely next word\n",
        "          - corresponding probability\n",
        "    \"\"\"\n",
        "    \n",
        "    # length of previous words\n",
        "    n = len(list(n_gram_counts.keys())[0]) \n",
        "    \n",
        "    # From the words that the user already typed\n",
        "    # get the most recent 'n' words as the previous n-gram\n",
        "    previous_n_gram = previous_tokens[-n:]\n",
        "\n",
        "    # Estimate the probabilities that each word in the vocabulary\n",
        "    # is the next word,\n",
        "    # given the previous n-gram, the dictionary of n-gram counts,\n",
        "    # the dictionary of n plus 1 gram counts, and the smoothing constant\n",
        "    probabilities = estimate_probabilities(previous_n_gram,\n",
        "                                           n_gram_counts, n_plus1_gram_counts,\n",
        "                                           vocabulary, k=k)\n",
        "    \n",
        "    # Initialize suggested word to None\n",
        "    # This will be set to the word with highest probability\n",
        "    suggestion = None\n",
        "    \n",
        "    # Initialize the highest word probability to 0\n",
        "    # this will be set to the highest probability \n",
        "    # of all words to be suggested\n",
        "    max_prob = 0\n",
        "    \n",
        "    ### START CODE HERE (Replace instances of 'None' with your code) ###\n",
        "    \n",
        "    # For each word and its probability in the probabilities dictionary:\n",
        "    for word, prob in probabilities.items(): # complete this line\n",
        "        \n",
        "        # If the optional start_with string is set\n",
        "        if start_with !=None: # complete this line\n",
        "            \n",
        "            # Check if the beginning of word does not match with the letters in 'start_with'\n",
        "            if not word.startswith(start_with): # complete this line\n",
        "\n",
        "                # if they don't match, skip this word (move onto the next word)\n",
        "                continue # complete this line\n",
        "        \n",
        "        # Check if this word's probability\n",
        "        # is greater than the current maximum probability\n",
        "        if prob > max_prob: # complete this line\n",
        "            \n",
        "            # If so, save this word as the best suggestion (so far)\n",
        "            suggestion = word\n",
        "            \n",
        "            # Save the new maximum probability\n",
        "            max_prob = prob\n",
        "\n",
        "    ### END CODE HERE\n",
        "    \n",
        "    return suggestion, max_prob"
      ]
    },
    {
      "cell_type": "code",
      "execution_count": 61,
      "metadata": {
        "colab": {
          "base_uri": "https://localhost:8080/"
        },
        "id": "9_OzwJvwJPBP",
        "outputId": "c1f4d2a2-2aab-46a3-aa4c-6c7d15d5d411"
      },
      "outputs": [
        {
          "output_type": "stream",
          "name": "stdout",
          "text": [
            "The previous words are 'i like',\n",
            "\tand the suggested word is `a` with a probability of 0.2727\n",
            "\n",
            "The previous words are 'i like', the suggestion must start with `c`\n",
            "\tand the suggested word is `cat` with a probability of 0.0909\n"
          ]
        }
      ],
      "source": [
        "# test your code\n",
        "sentences = [['i', 'like', 'a', 'cat'],\n",
        "             ['this', 'dog', 'is', 'like', 'a', 'cat']]\n",
        "unique_words = list(set(sentences[0] + sentences[1]))\n",
        "\n",
        "unigram_counts = count_n_grams(sentences, 1)\n",
        "bigram_counts = count_n_grams(sentences, 2)\n",
        "\n",
        "previous_tokens = [\"i\", \"like\"]\n",
        "tmp_suggest1 = suggest_a_word(previous_tokens, unigram_counts, bigram_counts, unique_words, k=1.0)\n",
        "print(f\"The previous words are 'i like',\\n\\tand the suggested word is `{tmp_suggest1[0]}` with a probability of {tmp_suggest1[1]:.4f}\")\n",
        "\n",
        "print()\n",
        "# test your code when setting the starts_with\n",
        "tmp_starts_with = 'c'\n",
        "tmp_suggest2 = suggest_a_word(previous_tokens, unigram_counts, bigram_counts, unique_words, k=1.0, start_with=tmp_starts_with)\n",
        "print(f\"The previous words are 'i like', the suggestion must start with `{tmp_starts_with}`\\n\\tand the suggested word is `{tmp_suggest2[0]}` with a probability of {tmp_suggest2[1]:.4f}\")"
      ]
    },
    {
      "cell_type": "markdown",
      "metadata": {
        "id": "aOQWHe_TJPBP"
      },
      "source": [
        "### Expected output\n",
        "\n",
        "```CPP\n",
        "The previous words are 'i like',\n",
        "\tand the suggested word is `a` with a probability of 0.2727\n",
        "\n",
        "The previous words are 'i like', the suggestion must start with `c`\n",
        "\tand the suggested word is `cat` with a probability of 0.0909\n",
        "\n",
        "```"
      ]
    },
    {
      "cell_type": "markdown",
      "metadata": {
        "id": "65E_Vi2HJPBP"
      },
      "source": [
        "### Get multiple suggestions\n",
        "\n",
        "The function defined below loop over varioud n-gram models to get multiple suggestions."
      ]
    },
    {
      "cell_type": "code",
      "execution_count": 62,
      "metadata": {
        "id": "kSqQvF1eJPBP"
      },
      "outputs": [],
      "source": [
        "def get_suggestions(previous_tokens, n_gram_counts_list, vocabulary, k=1.0, start_with=None):\n",
        "    model_counts = len(n_gram_counts_list)\n",
        "    suggestions = []\n",
        "    for i in range(model_counts-1):\n",
        "        n_gram_counts = n_gram_counts_list[i]\n",
        "        n_plus1_gram_counts = n_gram_counts_list[i+1]\n",
        "        \n",
        "        suggestion = suggest_a_word(previous_tokens, n_gram_counts,\n",
        "                                    n_plus1_gram_counts, vocabulary,\n",
        "                                    k=k, start_with=start_with)\n",
        "        suggestions.append(suggestion)\n",
        "    return suggestions"
      ]
    },
    {
      "cell_type": "code",
      "execution_count": 63,
      "metadata": {
        "colab": {
          "base_uri": "https://localhost:8080/",
          "height": 108
        },
        "id": "9o6TISLOJPBP",
        "outputId": "b7fd1721-5f29-4f9e-bc92-bd3005659539"
      },
      "outputs": [
        {
          "output_type": "stream",
          "name": "stdout",
          "text": [
            "The previous words are 'i like', the suggestions are:\n"
          ]
        },
        {
          "output_type": "display_data",
          "data": {
            "text/plain": [
              "[('a', 0.2727272727272727),\n",
              " ('a', 0.2),\n",
              " ('a', 0.1111111111111111),\n",
              " ('a', 0.1111111111111111)]"
            ]
          },
          "metadata": {}
        }
      ],
      "source": [
        "# test your code\n",
        "sentences = [['i', 'like', 'a', 'cat'],\n",
        "             ['this', 'dog', 'is', 'like', 'a', 'cat']]\n",
        "unique_words = list(set(sentences[0] + sentences[1]))\n",
        "\n",
        "unigram_counts = count_n_grams(sentences, 1)\n",
        "bigram_counts = count_n_grams(sentences, 2)\n",
        "trigram_counts = count_n_grams(sentences, 3)\n",
        "quadgram_counts = count_n_grams(sentences, 4)\n",
        "qintgram_counts = count_n_grams(sentences, 5)\n",
        "\n",
        "n_gram_counts_list = [unigram_counts, bigram_counts, trigram_counts, quadgram_counts, qintgram_counts]\n",
        "previous_tokens = [\"i\", \"like\"]\n",
        "tmp_suggest3 = get_suggestions(previous_tokens, n_gram_counts_list, unique_words, k=1.0)\n",
        "\n",
        "print(f\"The previous words are 'i like', the suggestions are:\")\n",
        "display(tmp_suggest3)"
      ]
    },
    {
      "cell_type": "markdown",
      "metadata": {
        "id": "zrGqlgOrJPBQ"
      },
      "source": [
        "### Suggest multiple words using n-grams of varying length\n",
        "\n",
        "Congratulations!  You have developed all building blocks for implementing your own auto-complete systems.\n",
        "\n",
        "Let's see this with n-grams of varying lengths (unigrams, bigrams, trigrams, 4-grams...6-grams)."
      ]
    },
    {
      "cell_type": "code",
      "execution_count": 64,
      "metadata": {
        "colab": {
          "base_uri": "https://localhost:8080/"
        },
        "id": "gpNpLgEfJPBQ",
        "outputId": "159bbe4a-0ee9-4bb9-9cc8-758245665a2a"
      },
      "outputs": [
        {
          "output_type": "stream",
          "name": "stdout",
          "text": [
            "Computing n-gram counts with n = 1 ...\n",
            "Computing n-gram counts with n = 2 ...\n",
            "Computing n-gram counts with n = 3 ...\n",
            "Computing n-gram counts with n = 4 ...\n",
            "Computing n-gram counts with n = 5 ...\n"
          ]
        }
      ],
      "source": [
        "n_gram_counts_list = []\n",
        "for n in range(1, 6):\n",
        "    print(\"Computing n-gram counts with n =\", n, \"...\")\n",
        "    n_model_counts = count_n_grams(train_data_processed, n)\n",
        "    n_gram_counts_list.append(n_model_counts)"
      ]
    },
    {
      "cell_type": "code",
      "execution_count": 65,
      "metadata": {
        "colab": {
          "base_uri": "https://localhost:8080/",
          "height": 108
        },
        "id": "hb_4w_RHJPBQ",
        "outputId": "eb12f0b4-435b-4af6-ef8a-293861319728"
      },
      "outputs": [
        {
          "output_type": "stream",
          "name": "stdout",
          "text": [
            "The previous words are ['i', 'am', 'to'], the suggestions are:\n"
          ]
        },
        {
          "output_type": "display_data",
          "data": {
            "text/plain": [
              "[('be', 0.027510316368638238),\n",
              " ('have', 0.00013376136971642589),\n",
              " ('have', 0.0001337971635001338),\n",
              " ('i', 6.690753378830456e-05)]"
            ]
          },
          "metadata": {}
        }
      ],
      "source": [
        "previous_tokens = [\"i\", \"am\", \"to\"]\n",
        "tmp_suggest4 = get_suggestions(previous_tokens, n_gram_counts_list, vocabulary, k=1.0)\n",
        "\n",
        "print(f\"The previous words are {previous_tokens}, the suggestions are:\")\n",
        "display(tmp_suggest4)"
      ]
    },
    {
      "cell_type": "code",
      "execution_count": 66,
      "metadata": {
        "colab": {
          "base_uri": "https://localhost:8080/",
          "height": 108
        },
        "id": "tZvLqC0zJPBQ",
        "outputId": "9020c3ad-9c71-4d14-b3d5-4cf6af3584cf"
      },
      "outputs": [
        {
          "output_type": "stream",
          "name": "stdout",
          "text": [
            "The previous words are ['i', 'want', 'to', 'go'], the suggestions are:\n"
          ]
        },
        {
          "output_type": "display_data",
          "data": {
            "text/plain": [
              "[('to', 0.013947433672204315),\n",
              " ('to', 0.004660321627830653),\n",
              " ('to', 0.0009347042328748832),\n",
              " ('to', 0.00040112314480545525)]"
            ]
          },
          "metadata": {}
        }
      ],
      "source": [
        "previous_tokens = [\"i\", \"want\", \"to\", \"go\"]\n",
        "tmp_suggest5 = get_suggestions(previous_tokens, n_gram_counts_list, vocabulary, k=1.0)\n",
        "\n",
        "print(f\"The previous words are {previous_tokens}, the suggestions are:\")\n",
        "display(tmp_suggest5)"
      ]
    },
    {
      "cell_type": "code",
      "execution_count": 67,
      "metadata": {
        "colab": {
          "base_uri": "https://localhost:8080/",
          "height": 108
        },
        "id": "aSkPcRjlJPBQ",
        "outputId": "a1b5f422-43d8-4363-9916-45084427c923"
      },
      "outputs": [
        {
          "output_type": "stream",
          "name": "stdout",
          "text": [
            "The previous words are ['hey', 'how', 'are'], the suggestions are:\n"
          ]
        },
        {
          "output_type": "display_data",
          "data": {
            "text/plain": [
              "[('you', 0.0230438228966142),\n",
              " ('you', 0.0035302737627389597),\n",
              " ('you', 0.00013380611493945274),\n",
              " ('i', 6.690753378830456e-05)]"
            ]
          },
          "metadata": {}
        }
      ],
      "source": [
        "previous_tokens = [\"hey\", \"how\", \"are\"]\n",
        "tmp_suggest6 = get_suggestions(previous_tokens, n_gram_counts_list, vocabulary, k=1.0)\n",
        "\n",
        "print(f\"The previous words are {previous_tokens}, the suggestions are:\")\n",
        "display(tmp_suggest6)"
      ]
    },
    {
      "cell_type": "code",
      "execution_count": 68,
      "metadata": {
        "colab": {
          "base_uri": "https://localhost:8080/",
          "height": 108
        },
        "id": "w0uZr7w9JPBQ",
        "outputId": "aa75b56c-c4da-4a7e-da10-47ac90056e16"
      },
      "outputs": [
        {
          "output_type": "stream",
          "name": "stdout",
          "text": [
            "The previous words are ['hey', 'how', 'are', 'you'], the suggestions are:\n"
          ]
        },
        {
          "output_type": "display_data",
          "data": {
            "text/plain": [
              "[(\"'re\", 0.02387697288547147),\n",
              " ('?', 0.0028660760812923396),\n",
              " ('?', 0.001600213361781571),\n",
              " ('<e>', 0.00013380611493945274)]"
            ]
          },
          "metadata": {}
        }
      ],
      "source": [
        "previous_tokens = [\"hey\", \"how\", \"are\", \"you\"]\n",
        "tmp_suggest7 = get_suggestions(previous_tokens, n_gram_counts_list, vocabulary, k=1.0)\n",
        "\n",
        "print(f\"The previous words are {previous_tokens}, the suggestions are:\")\n",
        "display(tmp_suggest7)"
      ]
    },
    {
      "cell_type": "code",
      "execution_count": 69,
      "metadata": {
        "colab": {
          "base_uri": "https://localhost:8080/",
          "height": 108
        },
        "id": "53yJtknFJPBQ",
        "outputId": "636b7f91-fc93-4a26-9e3d-5bf72607862a"
      },
      "outputs": [
        {
          "output_type": "stream",
          "name": "stdout",
          "text": [
            "The previous words are ['hey', 'how', 'are', 'you'], the suggestions are:\n"
          ]
        },
        {
          "output_type": "display_data",
          "data": {
            "text/plain": [
              "[('do', 0.008903278025091057),\n",
              " ('doing', 0.0016284523189161021),\n",
              " ('doing', 0.0004667288971862915),\n",
              " ('dvd', 6.690305746972637e-05)]"
            ]
          },
          "metadata": {}
        }
      ],
      "source": [
        "previous_tokens = [\"hey\", \"how\", \"are\", \"you\"]\n",
        "tmp_suggest8 = get_suggestions(previous_tokens, n_gram_counts_list, vocabulary, k=1.0, start_with=\"d\")\n",
        "\n",
        "print(f\"The previous words are {previous_tokens}, the suggestions are:\")\n",
        "display(tmp_suggest8)"
      ]
    },
    {
      "cell_type": "markdown",
      "metadata": {
        "id": "j7JJbq9NJPBR"
      },
      "source": [
        "# Congratulations!\n",
        "\n",
        "You've completed this assignment by building an autocomplete model using an n-gram language model!  \n",
        "\n",
        "Please continue onto the fourth and final week of this course!"
      ]
    }
  ],
  "metadata": {
    "coursera": {
      "schema_names": [
        "NLPC2-3"
      ]
    },
    "kernelspec": {
      "display_name": "Python 3",
      "language": "python",
      "name": "python3"
    },
    "language_info": {
      "codemirror_mode": {
        "name": "ipython",
        "version": 3
      },
      "file_extension": ".py",
      "mimetype": "text/x-python",
      "name": "python",
      "nbconvert_exporter": "python",
      "pygments_lexer": "ipython3",
      "version": "3.7.1"
    },
    "colab": {
      "name": "C2_W3_Assignment.ipynb",
      "provenance": [],
      "collapsed_sections": [
        "p0mzbl1HJPBB",
        "3NcnBa9yJPBE",
        "R3Lb1GsKJPBG",
        "Og-pHZy0JPBO",
        "aOQWHe_TJPBP"
      ],
      "include_colab_link": true
    }
  },
  "nbformat": 4,
  "nbformat_minor": 0
}