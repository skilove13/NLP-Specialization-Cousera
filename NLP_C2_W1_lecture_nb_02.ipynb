{
  "nbformat": 4,
  "nbformat_minor": 0,
  "metadata": {
    "colab": {
      "name": "NLP_C2_W1_lecture_nb_02.ipynb",
      "provenance": [],
      "collapsed_sections": [],
      "authorship_tag": "ABX9TyOI1QQGTXq6rXqxba/U59+r",
      "include_colab_link": true
    },
    "kernelspec": {
      "name": "python3",
      "display_name": "Python 3"
    },
    "language_info": {
      "name": "python"
    }
  },
  "cells": [
    {
      "cell_type": "markdown",
      "metadata": {
        "id": "view-in-github",
        "colab_type": "text"
      },
      "source": [
        "<a href=\"https://colab.research.google.com/github/skilove13/NLP-Specialization-Cousera/blob/main/NLP_C2_W1_lecture_nb_02.ipynb\" target=\"_parent\"><img src=\"https://colab.research.google.com/assets/colab-badge.svg\" alt=\"Open In Colab\"/></a>"
      ]
    },
    {
      "cell_type": "markdown",
      "source": [
        "**NLP Course 2 Week 1 Lesson : Building The Model - Lecture Exercise 02**\n",
        "Estimated Time: 20 minutes\n",
        "\n",
        "**Candidates from String Edits**\n",
        "Create a list of candidate strings by applying an edit operation"
      ],
      "metadata": {
        "id": "Vhh2LCgOmUwR"
      }
    },
    {
      "cell_type": "markdown",
      "source": [
        "**Imports and Data**"
      ],
      "metadata": {
        "id": "3B015oiRmdPP"
      }
    },
    {
      "cell_type": "code",
      "source": [
        "# data\n",
        "word = 'dearz' # 🦌"
      ],
      "metadata": {
        "id": "oMwvHodjmakw"
      },
      "execution_count": 1,
      "outputs": []
    },
    {
      "cell_type": "markdown",
      "source": [
        "**Splits**\n",
        "Find all the ways you can split a word into 2 parts !"
      ],
      "metadata": {
        "id": "Q25aAQlCmhpH"
      }
    },
    {
      "cell_type": "code",
      "source": [
        "# splits with a loop\n",
        "splits_a = []\n",
        "\n",
        "for i in range(len(word)+1):\n",
        "  splits_a.append([word[:i],word[i:]])\n",
        "\n",
        "for i in splits_a:\n",
        "  print(i)\n",
        "\n",
        "print(splits_a)"
      ],
      "metadata": {
        "colab": {
          "base_uri": "https://localhost:8080/"
        },
        "id": "GALW_kpSmk7f",
        "outputId": "7282ef52-77c6-4ed0-c301-d04c3ee9b003"
      },
      "execution_count": 4,
      "outputs": [
        {
          "output_type": "stream",
          "name": "stdout",
          "text": [
            "['', 'dearz']\n",
            "['d', 'earz']\n",
            "['de', 'arz']\n",
            "['dea', 'rz']\n",
            "['dear', 'z']\n",
            "['dearz', '']\n",
            "[['', 'dearz'], ['d', 'earz'], ['de', 'arz'], ['dea', 'rz'], ['dear', 'z'], ['dearz', '']]\n"
          ]
        }
      ]
    },
    {
      "cell_type": "code",
      "source": [
        "# same splits, done using a list comprehension\n",
        "splits_b = [(word[:i], word[i:]) for i in range(len(word) + 1)]\n",
        "\n",
        "for i in splits_b:\n",
        "  print(i)\n",
        "\n",
        "print(splits_b)\n",
        "print(type(splits_b))"
      ],
      "metadata": {
        "colab": {
          "base_uri": "https://localhost:8080/"
        },
        "id": "4lXA8QAenZmy",
        "outputId": "6499d6be-59a0-4c21-de86-3c1588e49b4a"
      },
      "execution_count": 7,
      "outputs": [
        {
          "output_type": "stream",
          "name": "stdout",
          "text": [
            "('', 'dearz')\n",
            "('d', 'earz')\n",
            "('de', 'arz')\n",
            "('dea', 'rz')\n",
            "('dear', 'z')\n",
            "('dearz', '')\n",
            "[('', 'dearz'), ('d', 'earz'), ('de', 'arz'), ('dea', 'rz'), ('dear', 'z'), ('dearz', '')]\n",
            "<class 'list'>\n"
          ]
        }
      ]
    },
    {
      "cell_type": "markdown",
      "source": [
        "**Delete Edit**\n",
        "\n",
        "Delete a letter from each string in the splits list.\n",
        "What this does is effectivly delete each possible letter from the original word being edited."
      ],
      "metadata": {
        "id": "ppk3jdhbwkGy"
      }
    },
    {
      "cell_type": "code",
      "source": [
        "# deletes with a loop\n",
        "\n",
        "splits = splits_a\n",
        "deletes = []\n",
        "\n",
        "print('word :' , word)\n",
        "for L,R in splits:\n",
        "  if R:\n",
        "    print(L + R[1:], '<--delete', R[0])"
      ],
      "metadata": {
        "colab": {
          "base_uri": "https://localhost:8080/"
        },
        "id": "xu3FGNq9ww4Z",
        "outputId": "2a7fd258-fc59-42dc-fc06-11516b514146"
      },
      "execution_count": 8,
      "outputs": [
        {
          "output_type": "stream",
          "name": "stdout",
          "text": [
            "word : dearz\n",
            "earz <--delete d\n",
            "darz <--delete e\n",
            "derz <--delete a\n",
            "deaz <--delete r\n",
            "dear <--delete z\n"
          ]
        }
      ]
    },
    {
      "cell_type": "markdown",
      "source": [
        "It's worth taking a closer look at how this is excecuting a 'delete'.\n",
        "Taking the first item from the splits list :"
      ],
      "metadata": {
        "id": "68izB3HyxS5s"
      }
    },
    {
      "cell_type": "code",
      "source": [
        "# breaking it down\n",
        "print('word :' , word)\n",
        "one_split = splits[0]\n",
        "print('first item from the splits list :' , one_split)\n",
        "L = one_split[0]\n",
        "R = one_split[1]\n",
        "print('L: ', L)\n",
        "print('R: ', R)\n",
        "print('*** now implicit delete by excluding the leading letter ***')\n",
        "print('L + R[1:]:', L + R[1:], '<---delete', R[0])\n"
      ],
      "metadata": {
        "colab": {
          "base_uri": "https://localhost:8080/"
        },
        "id": "2hTUXWpwxWlC",
        "outputId": "421c348a-d14a-4e9a-8054-a457312945b4"
      },
      "execution_count": 9,
      "outputs": [
        {
          "output_type": "stream",
          "name": "stdout",
          "text": [
            "word : dearz\n",
            "first item from the splits list : ['', 'dearz']\n",
            "L:  \n",
            "R:  dearz\n",
            "*** now implicit delete by excluding the leading letter ***\n",
            "L + R[1:]: earz <---delete d\n"
          ]
        }
      ]
    },
    {
      "cell_type": "code",
      "source": [
        "# deletes with a list comprehension\n",
        "splits = splits_a\n",
        "deletes = [L + R[1:] for L, R in splits if R]\n",
        "\n",
        "print(deletes)\n",
        "print('*** which is the same as ***')\n",
        "for i in deletes:\n",
        "    print(i)"
      ],
      "metadata": {
        "colab": {
          "base_uri": "https://localhost:8080/"
        },
        "id": "mIvVFwW9zlLj",
        "outputId": "f6f09222-df78-416f-e2ef-1b50af28f290"
      },
      "execution_count": 13,
      "outputs": [
        {
          "output_type": "stream",
          "name": "stdout",
          "text": [
            "['earz', 'darz', 'derz', 'deaz', 'dear']\n",
            "*** which is the same as ***\n",
            "earz\n",
            "darz\n",
            "derz\n",
            "deaz\n",
            "dear\n"
          ]
        }
      ]
    },
    {
      "cell_type": "markdown",
      "source": [
        "**Ungraded Exercise**\n",
        "\n",
        "You now have a list of candidate strings created after performing a delete edit.\n",
        "Next step will be to filter this list for candidate words found in a vocabulary.\n",
        "Given the example vocab below, can you think of a way to create a list of candidate words ?\n",
        "Remember, you already have a list of candidate strings, some of which are certainly not actual words you might find in your vocabulary !\n",
        "\n",
        "So from the above list earz, darz, derz, deaz, dear.\n",
        "You're really only interested in dear."
      ],
      "metadata": {
        "id": "I5jIUGYHyc78"
      }
    },
    {
      "cell_type": "code",
      "source": [
        "vocab = ['dean','deer','dear','fries','and','coke']\n",
        "edits = list(deletes)\n",
        "\n",
        "print('vocab', vocab)\n",
        "print('edits', edits)\n",
        "\n",
        "candidates = []\n",
        "\n",
        "print(type(vocab))\n",
        "print(type(edits))\n",
        "\n",
        "set_1 = set(vocab)\n",
        "set_2 = set(deletes)\n",
        "\n",
        "print(set_1)\n",
        "print(set_2)\n",
        "\n",
        "### START CODE HERE ###\n",
        "#candidates = set_1.intersection(set_2)  # hint: 'set.intersection'\n",
        "candidates = set(vocab).intersection(set(deletes))\n",
        "### END CODE HERE ###\n",
        "\n",
        "print('candidate words : ', candidates)"
      ],
      "metadata": {
        "colab": {
          "base_uri": "https://localhost:8080/"
        },
        "id": "co_RUyGsyjpB",
        "outputId": "1ffa0747-881e-4602-d97c-660391626ef8"
      },
      "execution_count": 19,
      "outputs": [
        {
          "output_type": "stream",
          "name": "stdout",
          "text": [
            "vocab ['dean', 'deer', 'dear', 'fries', 'and', 'coke']\n",
            "edits ['earz', 'darz', 'derz', 'deaz', 'dear']\n",
            "<class 'list'>\n",
            "<class 'list'>\n",
            "{'fries', 'deer', 'dear', 'and', 'dean', 'coke'}\n",
            "{'darz', 'dear', 'earz', 'derz', 'deaz'}\n",
            "candidate words :  {'dear'}\n"
          ]
        }
      ]
    },
    {
      "cell_type": "markdown",
      "source": [
        "**Summary**\n",
        "\n",
        "You've unpacked an integral part of the assignment by breaking down splits and edits, specifically looking at deletes here.\n",
        "Implementation of the other edit types (insert, replace, switch) follows a similar methodology and should now feel somewhat familiar when you see them.\n",
        "This bit of the code isn't as intuitive as other sections, so well done!\n",
        "You should now feel confident facing some of the more technical parts of the assignment at the end of the week."
      ],
      "metadata": {
        "id": "3XwthbPf1Zgj"
      }
    }
  ]
}